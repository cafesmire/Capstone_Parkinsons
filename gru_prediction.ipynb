{
 "cells": [
  {
   "cell_type": "markdown",
   "id": "291df19c-1a0a-4433-b302-b11ddfdf3618",
   "metadata": {},
   "source": [
    "### Imports"
   ]
  },
  {
   "cell_type": "code",
   "execution_count": 1,
   "id": "dc78cfd3-a4b2-477e-8cd5-519ec5c0a629",
   "metadata": {},
   "outputs": [
    {
     "name": "stderr",
     "output_type": "stream",
     "text": [
      "C:\\Users\\cafes\\Envs\\torch-dml\\lib\\site-packages\\tqdm\\auto.py:21: TqdmWarning: IProgress not found. Please update jupyter and ipywidgets. See https://ipywidgets.readthedocs.io/en/stable/user_install.html\n",
      "  from .autonotebook import tqdm as notebook_tqdm\n"
     ]
    }
   ],
   "source": [
    "import torch\n",
    "import torch.nn as nn\n",
    "import torch_directml\n",
    "import torchmetrics\n",
    "import torch.optim as optim\n",
    "import torchmetrics.functional as F\n",
    "import pandas as pd\n",
    "import numpy as np\n",
    "import matplotlib.pyplot as plt\n",
    "import random\n",
    "import os\n",
    "from tqdm import tqdm\n",
    "from torch.utils.data import Dataset, DataLoader\n",
    "from torch.utils.tensorboard import SummaryWriter\n",
    "from torch.optim.lr_scheduler import ReduceLROnPlateau\n",
    "import warnings\n",
    "warnings.filterwarnings('ignore')\n",
    "#AMD GPU Acceleration\n",
    "device = torch_directml.device(torch_directml.default_device())"
   ]
  },
  {
   "cell_type": "code",
   "execution_count": 2,
   "id": "1ec53d0c-223a-4d6e-a82d-e1b6485f3a3e",
   "metadata": {},
   "outputs": [],
   "source": [
    "def set_seed(seed=42):\n",
    "    random.seed(seed)\n",
    "    np.random.seed(seed)\n",
    "    os.environ[\"PYTHONHASHSEED\"] = str(seed)\n",
    "    torch.manual_seed(seed)\n",
    "    torch.cuda.manual_seed(seed)\n",
    "    torch.backends.cudnn.deterministic = True\n",
    "    torch.backends.cudnn.benchmark = False"
   ]
  },
  {
   "cell_type": "code",
   "execution_count": 3,
   "id": "ab7a4ce0-dcda-4fa3-9962-4cb16f2ed2f3",
   "metadata": {},
   "outputs": [],
   "source": [
    "set_seed()"
   ]
  },
  {
   "cell_type": "code",
   "execution_count": 4,
   "id": "4c443062-7b4f-49ee-b3d7-7bc051064a1c",
   "metadata": {},
   "outputs": [],
   "source": [
    "train_writer = SummaryWriter('.\\\\runs\\\\train\\\\gru\\\\')\n",
    "val_writer = SummaryWriter('.\\\\runs\\\\validate\\\\gru\\\\')"
   ]
  },
  {
   "cell_type": "markdown",
   "id": "77a8b57a-4dbb-4a20-b3da-e71a18e2d28d",
   "metadata": {},
   "source": [
    "#### Read in Train/test"
   ]
  },
  {
   "cell_type": "code",
   "execution_count": 5,
   "id": "8d52e3bc-e588-41d9-b977-6693378383e6",
   "metadata": {},
   "outputs": [
    {
     "data": {
      "text/html": [
       "<div>\n",
       "<style scoped>\n",
       "    .dataframe tbody tr th:only-of-type {\n",
       "        vertical-align: middle;\n",
       "    }\n",
       "\n",
       "    .dataframe tbody tr th {\n",
       "        vertical-align: top;\n",
       "    }\n",
       "\n",
       "    .dataframe thead th {\n",
       "        text-align: right;\n",
       "    }\n",
       "</style>\n",
       "<table border=\"1\" class=\"dataframe\">\n",
       "  <thead>\n",
       "    <tr style=\"text-align: right;\">\n",
       "      <th></th>\n",
       "      <th>AccV</th>\n",
       "      <th>AccML</th>\n",
       "      <th>AccAP</th>\n",
       "      <th>Medication</th>\n",
       "      <th>Age</th>\n",
       "      <th>Sex</th>\n",
       "      <th>YearsSinceDx</th>\n",
       "      <th>Test_Visit</th>\n",
       "      <th>Event</th>\n",
       "    </tr>\n",
       "    <tr>\n",
       "      <th>Time</th>\n",
       "      <th></th>\n",
       "      <th></th>\n",
       "      <th></th>\n",
       "      <th></th>\n",
       "      <th></th>\n",
       "      <th></th>\n",
       "      <th></th>\n",
       "      <th></th>\n",
       "      <th></th>\n",
       "    </tr>\n",
       "  </thead>\n",
       "  <tbody>\n",
       "    <tr>\n",
       "      <th>0</th>\n",
       "      <td>-0.416921</td>\n",
       "      <td>0.680190</td>\n",
       "      <td>-0.585780</td>\n",
       "      <td>0.866530</td>\n",
       "      <td>-0.110647</td>\n",
       "      <td>-1.719166</td>\n",
       "      <td>-0.182777</td>\n",
       "      <td>0.648921</td>\n",
       "      <td>0</td>\n",
       "    </tr>\n",
       "    <tr>\n",
       "      <th>1</th>\n",
       "      <td>-0.420816</td>\n",
       "      <td>0.678475</td>\n",
       "      <td>-0.578919</td>\n",
       "      <td>0.866530</td>\n",
       "      <td>-0.110647</td>\n",
       "      <td>-1.719166</td>\n",
       "      <td>-0.182777</td>\n",
       "      <td>0.648921</td>\n",
       "      <td>0</td>\n",
       "    </tr>\n",
       "    <tr>\n",
       "      <th>2</th>\n",
       "      <td>-0.419886</td>\n",
       "      <td>0.676579</td>\n",
       "      <td>-0.580286</td>\n",
       "      <td>0.866530</td>\n",
       "      <td>-0.110647</td>\n",
       "      <td>-1.719166</td>\n",
       "      <td>-0.182777</td>\n",
       "      <td>0.648921</td>\n",
       "      <td>0</td>\n",
       "    </tr>\n",
       "    <tr>\n",
       "      <th>3</th>\n",
       "      <td>-0.413896</td>\n",
       "      <td>0.674399</td>\n",
       "      <td>-0.594393</td>\n",
       "      <td>0.866530</td>\n",
       "      <td>-0.110647</td>\n",
       "      <td>-1.719166</td>\n",
       "      <td>-0.182777</td>\n",
       "      <td>0.648921</td>\n",
       "      <td>0</td>\n",
       "    </tr>\n",
       "    <tr>\n",
       "      <th>4</th>\n",
       "      <td>-0.403594</td>\n",
       "      <td>0.674941</td>\n",
       "      <td>-0.607099</td>\n",
       "      <td>0.866530</td>\n",
       "      <td>-0.110647</td>\n",
       "      <td>-1.719166</td>\n",
       "      <td>-0.182777</td>\n",
       "      <td>0.648921</td>\n",
       "      <td>0</td>\n",
       "    </tr>\n",
       "    <tr>\n",
       "      <th>...</th>\n",
       "      <td>...</td>\n",
       "      <td>...</td>\n",
       "      <td>...</td>\n",
       "      <td>...</td>\n",
       "      <td>...</td>\n",
       "      <td>...</td>\n",
       "      <td>...</td>\n",
       "      <td>...</td>\n",
       "      <td>...</td>\n",
       "    </tr>\n",
       "    <tr>\n",
       "      <th>136</th>\n",
       "      <td>-0.230050</td>\n",
       "      <td>0.202884</td>\n",
       "      <td>-1.195147</td>\n",
       "      <td>-1.154029</td>\n",
       "      <td>-0.487734</td>\n",
       "      <td>0.581678</td>\n",
       "      <td>1.891825</td>\n",
       "      <td>-0.684845</td>\n",
       "      <td>0</td>\n",
       "    </tr>\n",
       "    <tr>\n",
       "      <th>137</th>\n",
       "      <td>-0.219754</td>\n",
       "      <td>0.198519</td>\n",
       "      <td>-1.206719</td>\n",
       "      <td>-1.154029</td>\n",
       "      <td>-0.487734</td>\n",
       "      <td>0.581678</td>\n",
       "      <td>1.891825</td>\n",
       "      <td>-0.684845</td>\n",
       "      <td>0</td>\n",
       "    </tr>\n",
       "    <tr>\n",
       "      <th>138</th>\n",
       "      <td>-0.210724</td>\n",
       "      <td>0.204065</td>\n",
       "      <td>-1.211322</td>\n",
       "      <td>-1.154029</td>\n",
       "      <td>-0.487734</td>\n",
       "      <td>0.581678</td>\n",
       "      <td>1.891825</td>\n",
       "      <td>-0.684845</td>\n",
       "      <td>0</td>\n",
       "    </tr>\n",
       "    <tr>\n",
       "      <th>139</th>\n",
       "      <td>-0.209810</td>\n",
       "      <td>0.204216</td>\n",
       "      <td>-1.210355</td>\n",
       "      <td>-1.154029</td>\n",
       "      <td>-0.487734</td>\n",
       "      <td>0.581678</td>\n",
       "      <td>1.891825</td>\n",
       "      <td>-0.684845</td>\n",
       "      <td>0</td>\n",
       "    </tr>\n",
       "    <tr>\n",
       "      <th>140</th>\n",
       "      <td>-0.214528</td>\n",
       "      <td>0.211990</td>\n",
       "      <td>-1.207244</td>\n",
       "      <td>-1.154029</td>\n",
       "      <td>-0.487734</td>\n",
       "      <td>0.581678</td>\n",
       "      <td>1.891825</td>\n",
       "      <td>-0.684845</td>\n",
       "      <td>0</td>\n",
       "    </tr>\n",
       "  </tbody>\n",
       "</table>\n",
       "<p>376345 rows × 9 columns</p>\n",
       "</div>"
      ],
      "text/plain": [
       "          AccV     AccML     AccAP  Medication       Age       Sex  \\\n",
       "Time                                                                 \n",
       "0    -0.416921  0.680190 -0.585780    0.866530 -0.110647 -1.719166   \n",
       "1    -0.420816  0.678475 -0.578919    0.866530 -0.110647 -1.719166   \n",
       "2    -0.419886  0.676579 -0.580286    0.866530 -0.110647 -1.719166   \n",
       "3    -0.413896  0.674399 -0.594393    0.866530 -0.110647 -1.719166   \n",
       "4    -0.403594  0.674941 -0.607099    0.866530 -0.110647 -1.719166   \n",
       "...        ...       ...       ...         ...       ...       ...   \n",
       "136  -0.230050  0.202884 -1.195147   -1.154029 -0.487734  0.581678   \n",
       "137  -0.219754  0.198519 -1.206719   -1.154029 -0.487734  0.581678   \n",
       "138  -0.210724  0.204065 -1.211322   -1.154029 -0.487734  0.581678   \n",
       "139  -0.209810  0.204216 -1.210355   -1.154029 -0.487734  0.581678   \n",
       "140  -0.214528  0.211990 -1.207244   -1.154029 -0.487734  0.581678   \n",
       "\n",
       "      YearsSinceDx  Test_Visit  Event  \n",
       "Time                                   \n",
       "0        -0.182777    0.648921      0  \n",
       "1        -0.182777    0.648921      0  \n",
       "2        -0.182777    0.648921      0  \n",
       "3        -0.182777    0.648921      0  \n",
       "4        -0.182777    0.648921      0  \n",
       "...            ...         ...    ...  \n",
       "136       1.891825   -0.684845      0  \n",
       "137       1.891825   -0.684845      0  \n",
       "138       1.891825   -0.684845      0  \n",
       "139       1.891825   -0.684845      0  \n",
       "140       1.891825   -0.684845      0  \n",
       "\n",
       "[376345 rows x 9 columns]"
      ]
     },
     "execution_count": 5,
     "metadata": {},
     "output_type": "execute_result"
    }
   ],
   "source": [
    "train_df = pd.read_csv('train.csv', index_col='Time')\n",
    "test_df = pd.read_csv('test.csv', index_col='Time')\n",
    "train_df"
   ]
  },
  {
   "cell_type": "code",
   "execution_count": 6,
   "id": "f20dcada-ae60-49c9-b54c-fd9a6cdbb3fd",
   "metadata": {},
   "outputs": [
    {
     "data": {
      "text/html": [
       "<div>\n",
       "<style scoped>\n",
       "    .dataframe tbody tr th:only-of-type {\n",
       "        vertical-align: middle;\n",
       "    }\n",
       "\n",
       "    .dataframe tbody tr th {\n",
       "        vertical-align: top;\n",
       "    }\n",
       "\n",
       "    .dataframe thead th {\n",
       "        text-align: right;\n",
       "    }\n",
       "</style>\n",
       "<table border=\"1\" class=\"dataframe\">\n",
       "  <thead>\n",
       "    <tr style=\"text-align: right;\">\n",
       "      <th></th>\n",
       "      <th>AccV</th>\n",
       "      <th>AccML</th>\n",
       "      <th>AccAP</th>\n",
       "      <th>Medication</th>\n",
       "      <th>Age</th>\n",
       "      <th>Sex</th>\n",
       "      <th>YearsSinceDx</th>\n",
       "      <th>Test_Visit</th>\n",
       "    </tr>\n",
       "    <tr>\n",
       "      <th>Time</th>\n",
       "      <th></th>\n",
       "      <th></th>\n",
       "      <th></th>\n",
       "      <th></th>\n",
       "      <th></th>\n",
       "      <th></th>\n",
       "      <th></th>\n",
       "      <th></th>\n",
       "    </tr>\n",
       "  </thead>\n",
       "  <tbody>\n",
       "    <tr>\n",
       "      <th>0</th>\n",
       "      <td>-9.541841</td>\n",
       "      <td>0.572790</td>\n",
       "      <td>-1.409475</td>\n",
       "      <td>0.86653</td>\n",
       "      <td>-0.110647</td>\n",
       "      <td>-1.719166</td>\n",
       "      <td>-0.182777</td>\n",
       "      <td>0.648921</td>\n",
       "    </tr>\n",
       "    <tr>\n",
       "      <th>1</th>\n",
       "      <td>-9.544045</td>\n",
       "      <td>0.570599</td>\n",
       "      <td>-1.436634</td>\n",
       "      <td>0.86653</td>\n",
       "      <td>-0.110647</td>\n",
       "      <td>-1.719166</td>\n",
       "      <td>-0.182777</td>\n",
       "      <td>0.648921</td>\n",
       "    </tr>\n",
       "    <tr>\n",
       "      <th>2</th>\n",
       "      <td>-9.537242</td>\n",
       "      <td>0.568221</td>\n",
       "      <td>-1.425318</td>\n",
       "      <td>0.86653</td>\n",
       "      <td>-0.110647</td>\n",
       "      <td>-1.719166</td>\n",
       "      <td>-0.182777</td>\n",
       "      <td>0.648921</td>\n",
       "    </tr>\n",
       "    <tr>\n",
       "      <th>3</th>\n",
       "      <td>-9.539138</td>\n",
       "      <td>0.570690</td>\n",
       "      <td>-1.411444</td>\n",
       "      <td>0.86653</td>\n",
       "      <td>-0.110647</td>\n",
       "      <td>-1.719166</td>\n",
       "      <td>-0.182777</td>\n",
       "      <td>0.648921</td>\n",
       "    </tr>\n",
       "    <tr>\n",
       "      <th>4</th>\n",
       "      <td>-9.548736</td>\n",
       "      <td>0.568310</td>\n",
       "      <td>-1.425458</td>\n",
       "      <td>0.86653</td>\n",
       "      <td>-0.110647</td>\n",
       "      <td>-1.719166</td>\n",
       "      <td>-0.182777</td>\n",
       "      <td>0.648921</td>\n",
       "    </tr>\n",
       "    <tr>\n",
       "      <th>...</th>\n",
       "      <td>...</td>\n",
       "      <td>...</td>\n",
       "      <td>...</td>\n",
       "      <td>...</td>\n",
       "      <td>...</td>\n",
       "      <td>...</td>\n",
       "      <td>...</td>\n",
       "      <td>...</td>\n",
       "    </tr>\n",
       "    <tr>\n",
       "      <th>281683</th>\n",
       "      <td>-0.896122</td>\n",
       "      <td>-0.228349</td>\n",
       "      <td>0.397413</td>\n",
       "      <td>0.86653</td>\n",
       "      <td>1.272005</td>\n",
       "      <td>-1.719166</td>\n",
       "      <td>-0.342362</td>\n",
       "      <td>-0.792988</td>\n",
       "    </tr>\n",
       "    <tr>\n",
       "      <th>281684</th>\n",
       "      <td>-0.898800</td>\n",
       "      <td>-0.228733</td>\n",
       "      <td>0.398382</td>\n",
       "      <td>0.86653</td>\n",
       "      <td>1.272005</td>\n",
       "      <td>-1.719166</td>\n",
       "      <td>-0.342362</td>\n",
       "      <td>-0.792988</td>\n",
       "    </tr>\n",
       "    <tr>\n",
       "      <th>281685</th>\n",
       "      <td>-0.898516</td>\n",
       "      <td>-0.227567</td>\n",
       "      <td>0.400168</td>\n",
       "      <td>0.86653</td>\n",
       "      <td>1.272005</td>\n",
       "      <td>-1.719166</td>\n",
       "      <td>-0.342362</td>\n",
       "      <td>-0.792988</td>\n",
       "    </tr>\n",
       "    <tr>\n",
       "      <th>281686</th>\n",
       "      <td>-0.896400</td>\n",
       "      <td>-0.228110</td>\n",
       "      <td>0.399377</td>\n",
       "      <td>0.86653</td>\n",
       "      <td>1.272005</td>\n",
       "      <td>-1.719166</td>\n",
       "      <td>-0.342362</td>\n",
       "      <td>-0.792988</td>\n",
       "    </tr>\n",
       "    <tr>\n",
       "      <th>281687</th>\n",
       "      <td>-0.897114</td>\n",
       "      <td>-0.228043</td>\n",
       "      <td>0.399005</td>\n",
       "      <td>0.86653</td>\n",
       "      <td>1.272005</td>\n",
       "      <td>-1.719166</td>\n",
       "      <td>-0.342362</td>\n",
       "      <td>-0.792988</td>\n",
       "    </tr>\n",
       "  </tbody>\n",
       "</table>\n",
       "<p>286370 rows × 8 columns</p>\n",
       "</div>"
      ],
      "text/plain": [
       "            AccV     AccML     AccAP  Medication       Age       Sex  \\\n",
       "Time                                                                   \n",
       "0      -9.541841  0.572790 -1.409475     0.86653 -0.110647 -1.719166   \n",
       "1      -9.544045  0.570599 -1.436634     0.86653 -0.110647 -1.719166   \n",
       "2      -9.537242  0.568221 -1.425318     0.86653 -0.110647 -1.719166   \n",
       "3      -9.539138  0.570690 -1.411444     0.86653 -0.110647 -1.719166   \n",
       "4      -9.548736  0.568310 -1.425458     0.86653 -0.110647 -1.719166   \n",
       "...          ...       ...       ...         ...       ...       ...   \n",
       "281683 -0.896122 -0.228349  0.397413     0.86653  1.272005 -1.719166   \n",
       "281684 -0.898800 -0.228733  0.398382     0.86653  1.272005 -1.719166   \n",
       "281685 -0.898516 -0.227567  0.400168     0.86653  1.272005 -1.719166   \n",
       "281686 -0.896400 -0.228110  0.399377     0.86653  1.272005 -1.719166   \n",
       "281687 -0.897114 -0.228043  0.399005     0.86653  1.272005 -1.719166   \n",
       "\n",
       "        YearsSinceDx  Test_Visit  \n",
       "Time                              \n",
       "0          -0.182777    0.648921  \n",
       "1          -0.182777    0.648921  \n",
       "2          -0.182777    0.648921  \n",
       "3          -0.182777    0.648921  \n",
       "4          -0.182777    0.648921  \n",
       "...              ...         ...  \n",
       "281683     -0.342362   -0.792988  \n",
       "281684     -0.342362   -0.792988  \n",
       "281685     -0.342362   -0.792988  \n",
       "281686     -0.342362   -0.792988  \n",
       "281687     -0.342362   -0.792988  \n",
       "\n",
       "[286370 rows x 8 columns]"
      ]
     },
     "execution_count": 6,
     "metadata": {},
     "output_type": "execute_result"
    }
   ],
   "source": [
    "test_df"
   ]
  },
  {
   "cell_type": "code",
   "execution_count": null,
   "id": "f670e865-8d26-4131-b342-ee608d5e1c5d",
   "metadata": {},
   "outputs": [],
   "source": [
    "df = pd.read_csv('subset.csv', index_col='Time')\n",
    "test_df = pd.read_csv('test_subset.csv', index_col='Time')"
   ]
  },
  {
   "cell_type": "code",
   "execution_count": 6,
   "id": "6333f8aa-eccd-4065-b22e-c285e978921f",
   "metadata": {},
   "outputs": [],
   "source": [
    "train = df.drop(columns=['Subject', 'Id'])\n",
    "test = test_df.drop(columns=['Subject', 'Id'])"
   ]
  },
  {
   "cell_type": "code",
   "execution_count": 7,
   "id": "c9e4c98f-6afd-415e-a524-5140c8eab146",
   "metadata": {},
   "outputs": [
    {
     "data": {
      "text/html": [
       "<div>\n",
       "<style scoped>\n",
       "    .dataframe tbody tr th:only-of-type {\n",
       "        vertical-align: middle;\n",
       "    }\n",
       "\n",
       "    .dataframe tbody tr th {\n",
       "        vertical-align: top;\n",
       "    }\n",
       "\n",
       "    .dataframe thead th {\n",
       "        text-align: right;\n",
       "    }\n",
       "</style>\n",
       "<table border=\"1\" class=\"dataframe\">\n",
       "  <thead>\n",
       "    <tr style=\"text-align: right;\">\n",
       "      <th></th>\n",
       "      <th>AccV</th>\n",
       "      <th>AccML</th>\n",
       "      <th>AccAP</th>\n",
       "      <th>Visit</th>\n",
       "      <th>Test</th>\n",
       "      <th>Medication</th>\n",
       "      <th>Age</th>\n",
       "      <th>Sex</th>\n",
       "      <th>YearsSinceDx</th>\n",
       "      <th>Event</th>\n",
       "    </tr>\n",
       "    <tr>\n",
       "      <th>Time</th>\n",
       "      <th></th>\n",
       "      <th></th>\n",
       "      <th></th>\n",
       "      <th></th>\n",
       "      <th></th>\n",
       "      <th></th>\n",
       "      <th></th>\n",
       "      <th></th>\n",
       "      <th></th>\n",
       "      <th></th>\n",
       "    </tr>\n",
       "  </thead>\n",
       "  <tbody>\n",
       "    <tr>\n",
       "      <th>0</th>\n",
       "      <td>1.331028</td>\n",
       "      <td>1.883634</td>\n",
       "      <td>1.260774</td>\n",
       "      <td>3</td>\n",
       "      <td>2.0</td>\n",
       "      <td>1</td>\n",
       "      <td>68</td>\n",
       "      <td>0</td>\n",
       "      <td>9.0</td>\n",
       "      <td>0</td>\n",
       "    </tr>\n",
       "    <tr>\n",
       "      <th>1</th>\n",
       "      <td>1.400329</td>\n",
       "      <td>1.858220</td>\n",
       "      <td>1.286215</td>\n",
       "      <td>3</td>\n",
       "      <td>2.0</td>\n",
       "      <td>1</td>\n",
       "      <td>68</td>\n",
       "      <td>0</td>\n",
       "      <td>9.0</td>\n",
       "      <td>0</td>\n",
       "    </tr>\n",
       "    <tr>\n",
       "      <th>2</th>\n",
       "      <td>1.448553</td>\n",
       "      <td>1.878501</td>\n",
       "      <td>1.299326</td>\n",
       "      <td>3</td>\n",
       "      <td>2.0</td>\n",
       "      <td>1</td>\n",
       "      <td>68</td>\n",
       "      <td>0</td>\n",
       "      <td>9.0</td>\n",
       "      <td>0</td>\n",
       "    </tr>\n",
       "    <tr>\n",
       "      <th>3</th>\n",
       "      <td>1.452512</td>\n",
       "      <td>1.845912</td>\n",
       "      <td>1.334272</td>\n",
       "      <td>3</td>\n",
       "      <td>2.0</td>\n",
       "      <td>1</td>\n",
       "      <td>68</td>\n",
       "      <td>0</td>\n",
       "      <td>9.0</td>\n",
       "      <td>0</td>\n",
       "    </tr>\n",
       "    <tr>\n",
       "      <th>4</th>\n",
       "      <td>1.355745</td>\n",
       "      <td>1.808378</td>\n",
       "      <td>1.362725</td>\n",
       "      <td>3</td>\n",
       "      <td>2.0</td>\n",
       "      <td>1</td>\n",
       "      <td>68</td>\n",
       "      <td>0</td>\n",
       "      <td>9.0</td>\n",
       "      <td>0</td>\n",
       "    </tr>\n",
       "    <tr>\n",
       "      <th>...</th>\n",
       "      <td>...</td>\n",
       "      <td>...</td>\n",
       "      <td>...</td>\n",
       "      <td>...</td>\n",
       "      <td>...</td>\n",
       "      <td>...</td>\n",
       "      <td>...</td>\n",
       "      <td>...</td>\n",
       "      <td>...</td>\n",
       "      <td>...</td>\n",
       "    </tr>\n",
       "    <tr>\n",
       "      <th>13940</th>\n",
       "      <td>-0.150027</td>\n",
       "      <td>1.096938</td>\n",
       "      <td>-0.981169</td>\n",
       "      <td>1</td>\n",
       "      <td>0.0</td>\n",
       "      <td>1</td>\n",
       "      <td>75</td>\n",
       "      <td>1</td>\n",
       "      <td>26.0</td>\n",
       "      <td>0</td>\n",
       "    </tr>\n",
       "    <tr>\n",
       "      <th>13941</th>\n",
       "      <td>-0.142915</td>\n",
       "      <td>1.099812</td>\n",
       "      <td>-0.983866</td>\n",
       "      <td>1</td>\n",
       "      <td>0.0</td>\n",
       "      <td>1</td>\n",
       "      <td>75</td>\n",
       "      <td>1</td>\n",
       "      <td>26.0</td>\n",
       "      <td>0</td>\n",
       "    </tr>\n",
       "    <tr>\n",
       "      <th>13942</th>\n",
       "      <td>-0.123513</td>\n",
       "      <td>1.118531</td>\n",
       "      <td>-0.982284</td>\n",
       "      <td>1</td>\n",
       "      <td>0.0</td>\n",
       "      <td>1</td>\n",
       "      <td>75</td>\n",
       "      <td>1</td>\n",
       "      <td>26.0</td>\n",
       "      <td>0</td>\n",
       "    </tr>\n",
       "    <tr>\n",
       "      <th>13943</th>\n",
       "      <td>-0.145139</td>\n",
       "      <td>1.120964</td>\n",
       "      <td>-0.987101</td>\n",
       "      <td>1</td>\n",
       "      <td>0.0</td>\n",
       "      <td>1</td>\n",
       "      <td>75</td>\n",
       "      <td>1</td>\n",
       "      <td>26.0</td>\n",
       "      <td>0</td>\n",
       "    </tr>\n",
       "    <tr>\n",
       "      <th>13944</th>\n",
       "      <td>-0.197708</td>\n",
       "      <td>1.110418</td>\n",
       "      <td>-0.989819</td>\n",
       "      <td>1</td>\n",
       "      <td>0.0</td>\n",
       "      <td>1</td>\n",
       "      <td>75</td>\n",
       "      <td>1</td>\n",
       "      <td>26.0</td>\n",
       "      <td>0</td>\n",
       "    </tr>\n",
       "  </tbody>\n",
       "</table>\n",
       "<p>4555816 rows × 10 columns</p>\n",
       "</div>"
      ],
      "text/plain": [
       "           AccV     AccML     AccAP  Visit  Test  Medication  Age  Sex  \\\n",
       "Time                                                                     \n",
       "0      1.331028  1.883634  1.260774      3   2.0           1   68    0   \n",
       "1      1.400329  1.858220  1.286215      3   2.0           1   68    0   \n",
       "2      1.448553  1.878501  1.299326      3   2.0           1   68    0   \n",
       "3      1.452512  1.845912  1.334272      3   2.0           1   68    0   \n",
       "4      1.355745  1.808378  1.362725      3   2.0           1   68    0   \n",
       "...         ...       ...       ...    ...   ...         ...  ...  ...   \n",
       "13940 -0.150027  1.096938 -0.981169      1   0.0           1   75    1   \n",
       "13941 -0.142915  1.099812 -0.983866      1   0.0           1   75    1   \n",
       "13942 -0.123513  1.118531 -0.982284      1   0.0           1   75    1   \n",
       "13943 -0.145139  1.120964 -0.987101      1   0.0           1   75    1   \n",
       "13944 -0.197708  1.110418 -0.989819      1   0.0           1   75    1   \n",
       "\n",
       "       YearsSinceDx  Event  \n",
       "Time                        \n",
       "0               9.0      0  \n",
       "1               9.0      0  \n",
       "2               9.0      0  \n",
       "3               9.0      0  \n",
       "4               9.0      0  \n",
       "...             ...    ...  \n",
       "13940          26.0      0  \n",
       "13941          26.0      0  \n",
       "13942          26.0      0  \n",
       "13943          26.0      0  \n",
       "13944          26.0      0  \n",
       "\n",
       "[4555816 rows x 10 columns]"
      ]
     },
     "execution_count": 7,
     "metadata": {},
     "output_type": "execute_result"
    }
   ],
   "source": [
    "train"
   ]
  },
  {
   "cell_type": "code",
   "execution_count": 8,
   "id": "a3bd0d75-8392-431c-b2c8-7994bcb36ee5",
   "metadata": {},
   "outputs": [
    {
     "data": {
      "text/html": [
       "<div>\n",
       "<style scoped>\n",
       "    .dataframe tbody tr th:only-of-type {\n",
       "        vertical-align: middle;\n",
       "    }\n",
       "\n",
       "    .dataframe tbody tr th {\n",
       "        vertical-align: top;\n",
       "    }\n",
       "\n",
       "    .dataframe thead th {\n",
       "        text-align: right;\n",
       "    }\n",
       "</style>\n",
       "<table border=\"1\" class=\"dataframe\">\n",
       "  <thead>\n",
       "    <tr style=\"text-align: right;\">\n",
       "      <th></th>\n",
       "      <th>AccV</th>\n",
       "      <th>AccML</th>\n",
       "      <th>AccAP</th>\n",
       "      <th>Visit</th>\n",
       "      <th>Test</th>\n",
       "      <th>Medication</th>\n",
       "      <th>Age</th>\n",
       "      <th>Sex</th>\n",
       "      <th>YearsSinceDx</th>\n",
       "    </tr>\n",
       "    <tr>\n",
       "      <th>Time</th>\n",
       "      <th></th>\n",
       "      <th></th>\n",
       "      <th></th>\n",
       "      <th></th>\n",
       "      <th></th>\n",
       "      <th></th>\n",
       "      <th></th>\n",
       "      <th></th>\n",
       "      <th></th>\n",
       "    </tr>\n",
       "  </thead>\n",
       "  <tbody>\n",
       "    <tr>\n",
       "      <th>0</th>\n",
       "      <td>-0.236636</td>\n",
       "      <td>0.500452</td>\n",
       "      <td>-0.519794</td>\n",
       "      <td>3</td>\n",
       "      <td>2.0</td>\n",
       "      <td>1</td>\n",
       "      <td>68</td>\n",
       "      <td>0</td>\n",
       "      <td>9.0</td>\n",
       "    </tr>\n",
       "    <tr>\n",
       "      <th>1</th>\n",
       "      <td>-0.238462</td>\n",
       "      <td>0.498884</td>\n",
       "      <td>-0.528549</td>\n",
       "      <td>3</td>\n",
       "      <td>2.0</td>\n",
       "      <td>1</td>\n",
       "      <td>68</td>\n",
       "      <td>0</td>\n",
       "      <td>9.0</td>\n",
       "    </tr>\n",
       "    <tr>\n",
       "      <th>2</th>\n",
       "      <td>-0.232826</td>\n",
       "      <td>0.497181</td>\n",
       "      <td>-0.524901</td>\n",
       "      <td>3</td>\n",
       "      <td>2.0</td>\n",
       "      <td>1</td>\n",
       "      <td>68</td>\n",
       "      <td>0</td>\n",
       "      <td>9.0</td>\n",
       "    </tr>\n",
       "    <tr>\n",
       "      <th>3</th>\n",
       "      <td>-0.234396</td>\n",
       "      <td>0.498949</td>\n",
       "      <td>-0.520429</td>\n",
       "      <td>3</td>\n",
       "      <td>2.0</td>\n",
       "      <td>1</td>\n",
       "      <td>68</td>\n",
       "      <td>0</td>\n",
       "      <td>9.0</td>\n",
       "    </tr>\n",
       "    <tr>\n",
       "      <th>4</th>\n",
       "      <td>-0.242348</td>\n",
       "      <td>0.497245</td>\n",
       "      <td>-0.524946</td>\n",
       "      <td>3</td>\n",
       "      <td>2.0</td>\n",
       "      <td>1</td>\n",
       "      <td>68</td>\n",
       "      <td>0</td>\n",
       "      <td>9.0</td>\n",
       "    </tr>\n",
       "    <tr>\n",
       "      <th>...</th>\n",
       "      <td>...</td>\n",
       "      <td>...</td>\n",
       "      <td>...</td>\n",
       "      <td>...</td>\n",
       "      <td>...</td>\n",
       "      <td>...</td>\n",
       "      <td>...</td>\n",
       "      <td>...</td>\n",
       "      <td>...</td>\n",
       "    </tr>\n",
       "    <tr>\n",
       "      <th>281683</th>\n",
       "      <td>6.926261</td>\n",
       "      <td>-0.073130</td>\n",
       "      <td>0.062637</td>\n",
       "      <td>2</td>\n",
       "      <td>0.0</td>\n",
       "      <td>1</td>\n",
       "      <td>79</td>\n",
       "      <td>0</td>\n",
       "      <td>8.0</td>\n",
       "    </tr>\n",
       "    <tr>\n",
       "      <th>281684</th>\n",
       "      <td>6.924043</td>\n",
       "      <td>-0.073405</td>\n",
       "      <td>0.062949</td>\n",
       "      <td>2</td>\n",
       "      <td>0.0</td>\n",
       "      <td>1</td>\n",
       "      <td>79</td>\n",
       "      <td>0</td>\n",
       "      <td>8.0</td>\n",
       "    </tr>\n",
       "    <tr>\n",
       "      <th>281685</th>\n",
       "      <td>6.924278</td>\n",
       "      <td>-0.072570</td>\n",
       "      <td>0.063525</td>\n",
       "      <td>2</td>\n",
       "      <td>0.0</td>\n",
       "      <td>1</td>\n",
       "      <td>79</td>\n",
       "      <td>0</td>\n",
       "      <td>8.0</td>\n",
       "    </tr>\n",
       "    <tr>\n",
       "      <th>281686</th>\n",
       "      <td>6.926031</td>\n",
       "      <td>-0.072959</td>\n",
       "      <td>0.063269</td>\n",
       "      <td>2</td>\n",
       "      <td>0.0</td>\n",
       "      <td>1</td>\n",
       "      <td>79</td>\n",
       "      <td>0</td>\n",
       "      <td>8.0</td>\n",
       "    </tr>\n",
       "    <tr>\n",
       "      <th>281687</th>\n",
       "      <td>6.925440</td>\n",
       "      <td>-0.072911</td>\n",
       "      <td>0.063150</td>\n",
       "      <td>2</td>\n",
       "      <td>0.0</td>\n",
       "      <td>1</td>\n",
       "      <td>79</td>\n",
       "      <td>0</td>\n",
       "      <td>8.0</td>\n",
       "    </tr>\n",
       "  </tbody>\n",
       "</table>\n",
       "<p>286370 rows × 9 columns</p>\n",
       "</div>"
      ],
      "text/plain": [
       "            AccV     AccML     AccAP  Visit  Test  Medication  Age  Sex  \\\n",
       "Time                                                                      \n",
       "0      -0.236636  0.500452 -0.519794      3   2.0           1   68    0   \n",
       "1      -0.238462  0.498884 -0.528549      3   2.0           1   68    0   \n",
       "2      -0.232826  0.497181 -0.524901      3   2.0           1   68    0   \n",
       "3      -0.234396  0.498949 -0.520429      3   2.0           1   68    0   \n",
       "4      -0.242348  0.497245 -0.524946      3   2.0           1   68    0   \n",
       "...          ...       ...       ...    ...   ...         ...  ...  ...   \n",
       "281683  6.926261 -0.073130  0.062637      2   0.0           1   79    0   \n",
       "281684  6.924043 -0.073405  0.062949      2   0.0           1   79    0   \n",
       "281685  6.924278 -0.072570  0.063525      2   0.0           1   79    0   \n",
       "281686  6.926031 -0.072959  0.063269      2   0.0           1   79    0   \n",
       "281687  6.925440 -0.072911  0.063150      2   0.0           1   79    0   \n",
       "\n",
       "        YearsSinceDx  \n",
       "Time                  \n",
       "0                9.0  \n",
       "1                9.0  \n",
       "2                9.0  \n",
       "3                9.0  \n",
       "4                9.0  \n",
       "...              ...  \n",
       "281683           8.0  \n",
       "281684           8.0  \n",
       "281685           8.0  \n",
       "281686           8.0  \n",
       "281687           8.0  \n",
       "\n",
       "[286370 rows x 9 columns]"
      ]
     },
     "execution_count": 8,
     "metadata": {},
     "output_type": "execute_result"
    }
   ],
   "source": [
    "test"
   ]
  },
  {
   "cell_type": "code",
   "execution_count": 5,
   "id": "a5fc3cc5-1ab6-4168-b679-fb93063adb0c",
   "metadata": {},
   "outputs": [],
   "source": [
    "df = pd.read_csv('downsample30.csv')\n",
    "test_df = pd.read_csv('test_downsample.csv')"
   ]
  },
  {
   "cell_type": "code",
   "execution_count": 6,
   "id": "85b991a9-4b7b-4fd8-8a92-81209d7f0500",
   "metadata": {},
   "outputs": [
    {
     "data": {
      "text/html": [
       "<div>\n",
       "<style scoped>\n",
       "    .dataframe tbody tr th:only-of-type {\n",
       "        vertical-align: middle;\n",
       "    }\n",
       "\n",
       "    .dataframe tbody tr th {\n",
       "        vertical-align: top;\n",
       "    }\n",
       "\n",
       "    .dataframe thead th {\n",
       "        text-align: right;\n",
       "    }\n",
       "</style>\n",
       "<table border=\"1\" class=\"dataframe\">\n",
       "  <thead>\n",
       "    <tr style=\"text-align: right;\">\n",
       "      <th></th>\n",
       "      <th>AccV</th>\n",
       "      <th>AccML</th>\n",
       "      <th>AccAP</th>\n",
       "      <th>Visit</th>\n",
       "      <th>Test</th>\n",
       "      <th>Medication</th>\n",
       "      <th>Age</th>\n",
       "      <th>Sex</th>\n",
       "      <th>YearsSinceDx</th>\n",
       "      <th>Event</th>\n",
       "    </tr>\n",
       "    <tr>\n",
       "      <th>Time</th>\n",
       "      <th></th>\n",
       "      <th></th>\n",
       "      <th></th>\n",
       "      <th></th>\n",
       "      <th></th>\n",
       "      <th></th>\n",
       "      <th></th>\n",
       "      <th></th>\n",
       "      <th></th>\n",
       "      <th></th>\n",
       "    </tr>\n",
       "  </thead>\n",
       "  <tbody>\n",
       "    <tr>\n",
       "      <th>0</th>\n",
       "      <td>-0.420712</td>\n",
       "      <td>0.673434</td>\n",
       "      <td>-0.591752</td>\n",
       "      <td>3</td>\n",
       "      <td>2.0</td>\n",
       "      <td>1</td>\n",
       "      <td>68</td>\n",
       "      <td>0</td>\n",
       "      <td>9.0</td>\n",
       "      <td>0</td>\n",
       "    </tr>\n",
       "    <tr>\n",
       "      <th>1</th>\n",
       "      <td>-0.424601</td>\n",
       "      <td>0.671724</td>\n",
       "      <td>-0.584907</td>\n",
       "      <td>3</td>\n",
       "      <td>2.0</td>\n",
       "      <td>1</td>\n",
       "      <td>68</td>\n",
       "      <td>0</td>\n",
       "      <td>9.0</td>\n",
       "      <td>0</td>\n",
       "    </tr>\n",
       "    <tr>\n",
       "      <th>2</th>\n",
       "      <td>-0.423672</td>\n",
       "      <td>0.669832</td>\n",
       "      <td>-0.586271</td>\n",
       "      <td>3</td>\n",
       "      <td>2.0</td>\n",
       "      <td>1</td>\n",
       "      <td>68</td>\n",
       "      <td>0</td>\n",
       "      <td>9.0</td>\n",
       "      <td>0</td>\n",
       "    </tr>\n",
       "    <tr>\n",
       "      <th>3</th>\n",
       "      <td>-0.417690</td>\n",
       "      <td>0.667659</td>\n",
       "      <td>-0.600345</td>\n",
       "      <td>3</td>\n",
       "      <td>2.0</td>\n",
       "      <td>1</td>\n",
       "      <td>68</td>\n",
       "      <td>0</td>\n",
       "      <td>9.0</td>\n",
       "      <td>0</td>\n",
       "    </tr>\n",
       "    <tr>\n",
       "      <th>4</th>\n",
       "      <td>-0.407401</td>\n",
       "      <td>0.668199</td>\n",
       "      <td>-0.613021</td>\n",
       "      <td>3</td>\n",
       "      <td>2.0</td>\n",
       "      <td>1</td>\n",
       "      <td>68</td>\n",
       "      <td>0</td>\n",
       "      <td>9.0</td>\n",
       "      <td>0</td>\n",
       "    </tr>\n",
       "    <tr>\n",
       "      <th>...</th>\n",
       "      <td>...</td>\n",
       "      <td>...</td>\n",
       "      <td>...</td>\n",
       "      <td>...</td>\n",
       "      <td>...</td>\n",
       "      <td>...</td>\n",
       "      <td>...</td>\n",
       "      <td>...</td>\n",
       "      <td>...</td>\n",
       "      <td>...</td>\n",
       "    </tr>\n",
       "    <tr>\n",
       "      <th>136</th>\n",
       "      <td>-0.234080</td>\n",
       "      <td>0.197408</td>\n",
       "      <td>-1.199697</td>\n",
       "      <td>20</td>\n",
       "      <td>1.0</td>\n",
       "      <td>0</td>\n",
       "      <td>65</td>\n",
       "      <td>1</td>\n",
       "      <td>22.0</td>\n",
       "      <td>0</td>\n",
       "    </tr>\n",
       "    <tr>\n",
       "      <th>137</th>\n",
       "      <td>-0.223797</td>\n",
       "      <td>0.193055</td>\n",
       "      <td>-1.211242</td>\n",
       "      <td>20</td>\n",
       "      <td>1.0</td>\n",
       "      <td>0</td>\n",
       "      <td>65</td>\n",
       "      <td>1</td>\n",
       "      <td>22.0</td>\n",
       "      <td>0</td>\n",
       "    </tr>\n",
       "    <tr>\n",
       "      <th>138</th>\n",
       "      <td>-0.214779</td>\n",
       "      <td>0.198586</td>\n",
       "      <td>-1.215835</td>\n",
       "      <td>20</td>\n",
       "      <td>1.0</td>\n",
       "      <td>0</td>\n",
       "      <td>65</td>\n",
       "      <td>1</td>\n",
       "      <td>22.0</td>\n",
       "      <td>0</td>\n",
       "    </tr>\n",
       "    <tr>\n",
       "      <th>139</th>\n",
       "      <td>-0.213866</td>\n",
       "      <td>0.198736</td>\n",
       "      <td>-1.214870</td>\n",
       "      <td>20</td>\n",
       "      <td>1.0</td>\n",
       "      <td>0</td>\n",
       "      <td>65</td>\n",
       "      <td>1</td>\n",
       "      <td>22.0</td>\n",
       "      <td>0</td>\n",
       "    </tr>\n",
       "    <tr>\n",
       "      <th>140</th>\n",
       "      <td>-0.218578</td>\n",
       "      <td>0.206489</td>\n",
       "      <td>-1.211766</td>\n",
       "      <td>20</td>\n",
       "      <td>1.0</td>\n",
       "      <td>0</td>\n",
       "      <td>65</td>\n",
       "      <td>1</td>\n",
       "      <td>22.0</td>\n",
       "      <td>0</td>\n",
       "    </tr>\n",
       "  </tbody>\n",
       "</table>\n",
       "<p>376345 rows × 10 columns</p>\n",
       "</div>"
      ],
      "text/plain": [
       "          AccV     AccML     AccAP  Visit  Test  Medication  Age  Sex  \\\n",
       "Time                                                                    \n",
       "0    -0.420712  0.673434 -0.591752      3   2.0           1   68    0   \n",
       "1    -0.424601  0.671724 -0.584907      3   2.0           1   68    0   \n",
       "2    -0.423672  0.669832 -0.586271      3   2.0           1   68    0   \n",
       "3    -0.417690  0.667659 -0.600345      3   2.0           1   68    0   \n",
       "4    -0.407401  0.668199 -0.613021      3   2.0           1   68    0   \n",
       "...        ...       ...       ...    ...   ...         ...  ...  ...   \n",
       "136  -0.234080  0.197408 -1.199697     20   1.0           0   65    1   \n",
       "137  -0.223797  0.193055 -1.211242     20   1.0           0   65    1   \n",
       "138  -0.214779  0.198586 -1.215835     20   1.0           0   65    1   \n",
       "139  -0.213866  0.198736 -1.214870     20   1.0           0   65    1   \n",
       "140  -0.218578  0.206489 -1.211766     20   1.0           0   65    1   \n",
       "\n",
       "      YearsSinceDx  Event  \n",
       "Time                       \n",
       "0              9.0      0  \n",
       "1              9.0      0  \n",
       "2              9.0      0  \n",
       "3              9.0      0  \n",
       "4              9.0      0  \n",
       "...            ...    ...  \n",
       "136           22.0      0  \n",
       "137           22.0      0  \n",
       "138           22.0      0  \n",
       "139           22.0      0  \n",
       "140           22.0      0  \n",
       "\n",
       "[376345 rows x 10 columns]"
      ]
     },
     "execution_count": 6,
     "metadata": {},
     "output_type": "execute_result"
    }
   ],
   "source": [
    "train = df.drop(columns=['Subject', 'Id']).set_index('Time')\n",
    "test = test_df.drop(columns=['Subject', 'Id']).set_index('Time')\n",
    "train"
   ]
  },
  {
   "cell_type": "code",
   "execution_count": 7,
   "id": "e75feffd-7c9b-4936-9af0-3484e2496cec",
   "metadata": {},
   "outputs": [
    {
     "data": {
      "text/html": [
       "<div>\n",
       "<style scoped>\n",
       "    .dataframe tbody tr th:only-of-type {\n",
       "        vertical-align: middle;\n",
       "    }\n",
       "\n",
       "    .dataframe tbody tr th {\n",
       "        vertical-align: top;\n",
       "    }\n",
       "\n",
       "    .dataframe thead th {\n",
       "        text-align: right;\n",
       "    }\n",
       "</style>\n",
       "<table border=\"1\" class=\"dataframe\">\n",
       "  <thead>\n",
       "    <tr style=\"text-align: right;\">\n",
       "      <th></th>\n",
       "      <th>AccV</th>\n",
       "      <th>AccML</th>\n",
       "      <th>AccAP</th>\n",
       "      <th>Visit</th>\n",
       "      <th>Test</th>\n",
       "      <th>Medication</th>\n",
       "      <th>Age</th>\n",
       "      <th>Sex</th>\n",
       "      <th>YearsSinceDx</th>\n",
       "    </tr>\n",
       "    <tr>\n",
       "      <th>Time</th>\n",
       "      <th></th>\n",
       "      <th></th>\n",
       "      <th></th>\n",
       "      <th></th>\n",
       "      <th></th>\n",
       "      <th></th>\n",
       "      <th></th>\n",
       "      <th></th>\n",
       "      <th></th>\n",
       "    </tr>\n",
       "  </thead>\n",
       "  <tbody>\n",
       "    <tr>\n",
       "      <th>0</th>\n",
       "      <td>-9.533939</td>\n",
       "      <td>0.566322</td>\n",
       "      <td>-1.413525</td>\n",
       "      <td>3</td>\n",
       "      <td>2.0</td>\n",
       "      <td>1</td>\n",
       "      <td>68</td>\n",
       "      <td>0</td>\n",
       "      <td>9.0</td>\n",
       "    </tr>\n",
       "    <tr>\n",
       "      <th>1</th>\n",
       "      <td>-9.536140</td>\n",
       "      <td>0.564137</td>\n",
       "      <td>-1.440621</td>\n",
       "      <td>3</td>\n",
       "      <td>2.0</td>\n",
       "      <td>1</td>\n",
       "      <td>68</td>\n",
       "      <td>0</td>\n",
       "      <td>9.0</td>\n",
       "    </tr>\n",
       "    <tr>\n",
       "      <th>2</th>\n",
       "      <td>-9.529345</td>\n",
       "      <td>0.561765</td>\n",
       "      <td>-1.429331</td>\n",
       "      <td>3</td>\n",
       "      <td>2.0</td>\n",
       "      <td>1</td>\n",
       "      <td>68</td>\n",
       "      <td>0</td>\n",
       "      <td>9.0</td>\n",
       "    </tr>\n",
       "    <tr>\n",
       "      <th>3</th>\n",
       "      <td>-9.531239</td>\n",
       "      <td>0.564227</td>\n",
       "      <td>-1.415490</td>\n",
       "      <td>3</td>\n",
       "      <td>2.0</td>\n",
       "      <td>1</td>\n",
       "      <td>68</td>\n",
       "      <td>0</td>\n",
       "      <td>9.0</td>\n",
       "    </tr>\n",
       "    <tr>\n",
       "      <th>4</th>\n",
       "      <td>-9.540825</td>\n",
       "      <td>0.561854</td>\n",
       "      <td>-1.429471</td>\n",
       "      <td>3</td>\n",
       "      <td>2.0</td>\n",
       "      <td>1</td>\n",
       "      <td>68</td>\n",
       "      <td>0</td>\n",
       "      <td>9.0</td>\n",
       "    </tr>\n",
       "    <tr>\n",
       "      <th>...</th>\n",
       "      <td>...</td>\n",
       "      <td>...</td>\n",
       "      <td>...</td>\n",
       "      <td>...</td>\n",
       "      <td>...</td>\n",
       "      <td>...</td>\n",
       "      <td>...</td>\n",
       "      <td>...</td>\n",
       "      <td>...</td>\n",
       "    </tr>\n",
       "    <tr>\n",
       "      <th>281683</th>\n",
       "      <td>-0.899299</td>\n",
       "      <td>-0.232668</td>\n",
       "      <td>0.389147</td>\n",
       "      <td>2</td>\n",
       "      <td>0.0</td>\n",
       "      <td>1</td>\n",
       "      <td>79</td>\n",
       "      <td>0</td>\n",
       "      <td>8.0</td>\n",
       "    </tr>\n",
       "    <tr>\n",
       "      <th>281684</th>\n",
       "      <td>-0.901973</td>\n",
       "      <td>-0.233051</td>\n",
       "      <td>0.390114</td>\n",
       "      <td>2</td>\n",
       "      <td>0.0</td>\n",
       "      <td>1</td>\n",
       "      <td>79</td>\n",
       "      <td>0</td>\n",
       "      <td>8.0</td>\n",
       "    </tr>\n",
       "    <tr>\n",
       "      <th>281685</th>\n",
       "      <td>-0.901690</td>\n",
       "      <td>-0.231888</td>\n",
       "      <td>0.391896</td>\n",
       "      <td>2</td>\n",
       "      <td>0.0</td>\n",
       "      <td>1</td>\n",
       "      <td>79</td>\n",
       "      <td>0</td>\n",
       "      <td>8.0</td>\n",
       "    </tr>\n",
       "    <tr>\n",
       "      <th>281686</th>\n",
       "      <td>-0.899576</td>\n",
       "      <td>-0.232430</td>\n",
       "      <td>0.391106</td>\n",
       "      <td>2</td>\n",
       "      <td>0.0</td>\n",
       "      <td>1</td>\n",
       "      <td>79</td>\n",
       "      <td>0</td>\n",
       "      <td>8.0</td>\n",
       "    </tr>\n",
       "    <tr>\n",
       "      <th>281687</th>\n",
       "      <td>-0.900289</td>\n",
       "      <td>-0.232363</td>\n",
       "      <td>0.390735</td>\n",
       "      <td>2</td>\n",
       "      <td>0.0</td>\n",
       "      <td>1</td>\n",
       "      <td>79</td>\n",
       "      <td>0</td>\n",
       "      <td>8.0</td>\n",
       "    </tr>\n",
       "  </tbody>\n",
       "</table>\n",
       "<p>286370 rows × 9 columns</p>\n",
       "</div>"
      ],
      "text/plain": [
       "            AccV     AccML     AccAP  Visit  Test  Medication  Age  Sex  \\\n",
       "Time                                                                      \n",
       "0      -9.533939  0.566322 -1.413525      3   2.0           1   68    0   \n",
       "1      -9.536140  0.564137 -1.440621      3   2.0           1   68    0   \n",
       "2      -9.529345  0.561765 -1.429331      3   2.0           1   68    0   \n",
       "3      -9.531239  0.564227 -1.415490      3   2.0           1   68    0   \n",
       "4      -9.540825  0.561854 -1.429471      3   2.0           1   68    0   \n",
       "...          ...       ...       ...    ...   ...         ...  ...  ...   \n",
       "281683 -0.899299 -0.232668  0.389147      2   0.0           1   79    0   \n",
       "281684 -0.901973 -0.233051  0.390114      2   0.0           1   79    0   \n",
       "281685 -0.901690 -0.231888  0.391896      2   0.0           1   79    0   \n",
       "281686 -0.899576 -0.232430  0.391106      2   0.0           1   79    0   \n",
       "281687 -0.900289 -0.232363  0.390735      2   0.0           1   79    0   \n",
       "\n",
       "        YearsSinceDx  \n",
       "Time                  \n",
       "0                9.0  \n",
       "1                9.0  \n",
       "2                9.0  \n",
       "3                9.0  \n",
       "4                9.0  \n",
       "...              ...  \n",
       "281683           8.0  \n",
       "281684           8.0  \n",
       "281685           8.0  \n",
       "281686           8.0  \n",
       "281687           8.0  \n",
       "\n",
       "[286370 rows x 9 columns]"
      ]
     },
     "execution_count": 7,
     "metadata": {},
     "output_type": "execute_result"
    }
   ],
   "source": [
    "test"
   ]
  },
  {
   "cell_type": "markdown",
   "id": "41cdcae2-3408-469e-9237-ad710ea9da36",
   "metadata": {},
   "source": [
    "### Dataset/DataLoader"
   ]
  },
  {
   "cell_type": "code",
   "execution_count": 7,
   "id": "7b816a88-7cb9-46ed-9941-3b824a771d1e",
   "metadata": {},
   "outputs": [],
   "source": [
    "class ParkinsonDataset(Dataset):\n",
    "    def __init__(self, df, lookback=15, goal='train'):\n",
    "        super().__init__()\n",
    "        self.data = df.to_numpy()\n",
    "        self.lookback = lookback\n",
    "        self.goal = goal\n",
    "\n",
    "    # Return length of sample\n",
    "    def __len__(self):\n",
    "        return self.data.shape[0]\n",
    "\n",
    "    # Get data at idx\n",
    "    def __getitem__(self, idx):\n",
    "        if self.goal == 'train':\n",
    "            if idx < self.lookback:\n",
    "                #Pad with zeros\n",
    "                features = torch.zeros(self.lookback, self.data.shape[1]-1, dtype=torch.float32)\n",
    "                features[idx] = torch.tensor(self.data[idx, :-1], dtype=torch.float32)\n",
    "                label = torch.tensor(self.data[idx, -1], dtype=torch.float32)\n",
    "            else:\n",
    "                #Otherwise, take the last lookback samples\n",
    "                features = torch.tensor(self.data[idx - self.lookback:idx, :-1], dtype=torch.float32)\n",
    "                label = torch.tensor(self.data[idx, -1], dtype=torch.float32)\n",
    "\n",
    "            features = features.to(device)\n",
    "            label = label.to(device)\n",
    "            return features, label\n",
    "\n",
    "        else:\n",
    "            if idx < self.lookback:\n",
    "                #If the index is less than lookback, pad with zeros\n",
    "                features = torch.zeros(self.lookback, self.data.shape[1], dtype=torch.float32)\n",
    "                features[idx] = torch.tensor(self.data[idx, :], dtype=torch.float32)\n",
    "            else:\n",
    "                #Otherwise, take the last lookback samples\n",
    "                features = torch.tensor(self.data[idx - self.lookback:idx, :], dtype=torch.float32)\n",
    "\n",
    "            features = features.to(device)\n",
    "            return features"
   ]
  },
  {
   "cell_type": "code",
   "execution_count": 8,
   "id": "8fa136da-6de8-4d0f-8bc7-82deded24529",
   "metadata": {},
   "outputs": [],
   "source": [
    "def train_val_split(df):\n",
    "    #Split the training dataset into training/validation sets\n",
    "    #80% Training - 20% Validation\n",
    "    train_size = int(.8 * len(df))\n",
    "    val_size = len(df)-train_size\n",
    "    train_data, val_data = torch.utils.data.random_split(df, [train_size, val_size])\n",
    "\n",
    "    #Instantiate DataLoaders\n",
    "    train_loader = DataLoader(train_data,\n",
    "                              batch_size=1024,\n",
    "                              shuffle=False)\n",
    "\n",
    "    val_loader = DataLoader(val_data,\n",
    "                            batch_size=1024,\n",
    "                            shuffle=False)\n",
    "    \n",
    "    return train_loader, val_loader"
   ]
  },
  {
   "cell_type": "code",
   "execution_count": 9,
   "id": "7200bb66-4b95-415a-a71a-b36607d71ea9",
   "metadata": {},
   "outputs": [],
   "source": [
    "train = ParkinsonDataset(train_df, goal='train')\n",
    "train_loader, val_loader = train_val_split(train)"
   ]
  },
  {
   "cell_type": "code",
   "execution_count": null,
   "id": "5a149cb5-c726-4571-86d5-1a6f1a634764",
   "metadata": {},
   "outputs": [],
   "source": [
    "test = test_df.drop(columns='Id')\n",
    "test = ParkinsonDataset(test, goal='test')\n",
    "test_loader = DataLoader(test, \n",
    "                         batch_size=1024, \n",
    "                         shuffle=False)"
   ]
  },
  {
   "cell_type": "code",
   "execution_count": 10,
   "id": "f549504b-26f5-4e91-97b1-f44676e193e4",
   "metadata": {},
   "outputs": [],
   "source": [
    "#Creating accuracy metric using torchmetrics\n",
    "metric = torchmetrics.AveragePrecision(task='multiclass', num_classes=4, average='weighted', thresholds=4).to(device)"
   ]
  },
  {
   "cell_type": "markdown",
   "id": "238eff87-b4fa-4963-ac55-7627c59fc909",
   "metadata": {},
   "source": [
    "### Overfit Batch Function"
   ]
  },
  {
   "cell_type": "code",
   "execution_count": 17,
   "id": "c68722de-c3cd-4861-8565-dd867952d38a",
   "metadata": {},
   "outputs": [],
   "source": [
    "#Function to determine whether the model is training appropriately\n",
    "def overfit_batch(model, criterion, optimizer, batch, epochs=100):\n",
    "    model = model.to(device)\n",
    "    \n",
    "    for epoch in range(epochs):\n",
    "        metric.reset()\n",
    "        loss_total = 0.0\n",
    "        precision_total = 0.0\n",
    "        for _ in range(len(batch)):\n",
    "            features, label = batch\n",
    "            features = features.to(device)\n",
    "            label = label.to(device)\n",
    "            \n",
    "            optimizer.zero_grad()\n",
    "            logits = model(features)\n",
    "            loss = criterion(logits, label.long())\n",
    "            ypred = torch.softmax(logits, dim=1)\n",
    "            metric(ypred, label.long())\n",
    "            precision=metric.compute()\n",
    "            \n",
    "            loss.backward()\n",
    "            optimizer.step()\n",
    "\n",
    "            loss_total += loss.item()\n",
    "            precision_total += precision.item()\n",
    "\n",
    "        avg_loss = loss_total / len(batch)\n",
    "        avg_precision = precision_total / len(batch)\n",
    "        if epoch %10 == 9:\n",
    "            print(f'Epoch [{epoch + 1}/{epochs}] | Avg Loss: {avg_loss:.4f} | Avg Precision: {(avg_precision * 100.0):.2f}')"
   ]
  },
  {
   "cell_type": "markdown",
   "id": "94548621-0e24-4f5b-9687-ae9fbe8f66e0",
   "metadata": {},
   "source": [
    "### Train | Validate | Predict"
   ]
  },
  {
   "cell_type": "code",
   "execution_count": 12,
   "id": "6d60e847-b621-40d1-92a3-360fb0f708f6",
   "metadata": {},
   "outputs": [],
   "source": [
    "def predict(model, dataloader):\n",
    "    predictions = []\n",
    "    with tqdm(dataloader, colour='yellow') as pbar:\n",
    "        for features in pbar:\n",
    "            features = features.to(device)\n",
    "            preds = model(features)\n",
    "            preds = torch.argmax(preds, dim=1)\n",
    "            predictions.extend(preds.cpu().numpy())\n",
    "    \n",
    "    return predictions"
   ]
  },
  {
   "cell_type": "code",
   "execution_count": 13,
   "id": "5de32f42-aad3-46b9-a128-b2bfe11f6946",
   "metadata": {},
   "outputs": [],
   "source": [
    "#Validate one epoch\n",
    "def validate(model, criterion, dataloader, epoch):\n",
    "    model.eval()\n",
    "    metric.reset()\n",
    "    \n",
    "    loss_total = 0.0\n",
    "    precision_total = 0.0\n",
    "    \n",
    "    with tqdm(dataloader, desc='Validate', total=len(dataloader), unit='batch', colour='blue') as pbar:\n",
    "        with torch.no_grad():\n",
    "            for batch in pbar:\n",
    "                features, label = batch\n",
    "                features = features.to(device)\n",
    "                label = label.to(device)\n",
    "\n",
    "                logits = model(features)               \n",
    "                #Update running loss and precision\n",
    "                loss = criterion(logits, label.long())\n",
    "                ypred = torch.softmax(logits, dim=1)\n",
    "                metric(ypred, label.long())\n",
    "                precision=metric.compute()\n",
    "                \n",
    "                precision_total += precision.item()\n",
    "                loss_total += loss.item()\n",
    "\n",
    "                #Update the tqdm progress bar description with loss and precision\n",
    "                pbar.set_postfix_str(s=f'Loss: {loss:.4f} | Precision: {precision*100:.2f}%')\n",
    "                \n",
    "        avg_loss = loss_total / len(dataloader)\n",
    "        avg_precision = precision_total / len(dataloader)\n",
    "        \n",
    "    model.train()    \n",
    "    return avg_loss, avg_precision"
   ]
  },
  {
   "cell_type": "code",
   "execution_count": 24,
   "id": "1f98ba97-d0cc-4819-a9e1-403e69035149",
   "metadata": {},
   "outputs": [],
   "source": [
    "def train_validate(model, criterion, optimizer, scheduler, epochs=100, train_loader=train_loader, val_loader=val_loader, patience=5):\n",
    "    model = model.train()\n",
    "    best_precision = None\n",
    "    min_delta = 0\n",
    "    counter = 0\n",
    "    \n",
    "    for epoch in range(epochs):\n",
    "        metric.reset()\n",
    "        loss_total = 0.0\n",
    "        precision_total = 0.0\n",
    "        with tqdm(train_loader, desc='Train', total=len(train_loader), unit='batch', colour='green') as pbar:\n",
    "            for batch in pbar:\n",
    "                #Set features/targets to device\n",
    "                features, label = batch\n",
    "                features = features.to(device)\n",
    "                label = label.to(device)\n",
    "\n",
    "                #Predict labels\n",
    "                optimizer.zero_grad()                \n",
    "                logits = model(features)\n",
    "                loss = criterion(logits, label.long())\n",
    "                ypred = torch.softmax(logits, dim=1)\n",
    "                metric(ypred, label.long())\n",
    "                precision=metric.compute()\n",
    "                \n",
    "                #Tensorboard\n",
    "                train_writer.add_scalar('Train-Loss', loss, epoch)\n",
    "                train_writer.add_scalar('Train-Precision', precision, epoch)\n",
    "                \n",
    "                pbar.set_postfix_str(s=f'Loss: {loss:.4f} | Precision: {precision*100:.2f}%')\n",
    "\n",
    "                #Adjust gradient\n",
    "                loss.backward()\n",
    "                torch.nn.utils.clip_grad_norm_(model.parameters(), max_norm=1.0)\n",
    "                optimizer.step()\n",
    "\n",
    "                #Accumulate total loss and precision\n",
    "                loss_total += loss.item()\n",
    "                precision_total += precision.item()\n",
    "\n",
    "            avg_loss = loss_total / len(train_loader)\n",
    "            avg_precision = precision_total / len(train_loader)\n",
    "         \n",
    "        #Report training loss/precision\n",
    "        print(f'Epoch {epoch + 1} | Avg Loss: {avg_loss:.4f} | Avg Precision: {(avg_precision * 100.0):.2f}%')\n",
    "\n",
    "        if epoch%3==2:\n",
    "            #Validate one epoch and update lr scheduler\n",
    "            avg_val_loss, avg_val_precision = validate(model, criterion, val_loader, epoch)\n",
    "            scheduler.step(avg_val_precision)\n",
    "        \n",
    "            #Early Stopping\n",
    "            if best_precision == None:\n",
    "                best_precision = avg_val_precision\n",
    "            elif(best_precision - avg_val_precision < min_delta):\n",
    "                best_precision = avg_val_precision\n",
    "                counter = 0\n",
    "            elif(best_precision - avg_val_precision > min_delta):\n",
    "                counter += 1\n",
    "                if(counter >= patience):\n",
    "                    print(f'Early Stopping: Precision stagnated or decreased too many times. Best Validation: {(best_precision*100.0):.2f}%')\n",
    "                    break\n",
    "\n",
    "            print(f'Epoch {epoch + 1} | Avg Loss: {avg_val_loss:.4f} | Avg Precision: {(avg_val_precision * 100.0):.2f}% | Patience: {counter}')\n",
    "\n",
    "    train_writer.flush()\n",
    "    train_writer.close()\n",
    "    val_writer.flush()\n",
    "    val_writer.close()\n",
    "    print(f'Training Complete - Best Validate Precision: {(best_precision*100.0):.2f}%')\n",
    "    \n",
    "    return model"
   ]
  },
  {
   "cell_type": "markdown",
   "id": "aa550e6e-01bf-41b3-aaff-f9c3fb52a3e3",
   "metadata": {},
   "source": [
    "### Model Architecture"
   ]
  },
  {
   "cell_type": "code",
   "execution_count": 15,
   "id": "78f9a8d0-8442-4f41-bec3-2442ff33fef3",
   "metadata": {},
   "outputs": [],
   "source": [
    "class Gru(nn.Module):\n",
    "    def __init__(self, num_inputs, hidden_size, num_layers, num_outputs):\n",
    "        super().__init__()\n",
    "        self.hidden = hidden_size\n",
    "        self.layers = num_layers\n",
    "        self.gru = nn.GRU(num_inputs,\n",
    "                            hidden_size,\n",
    "                            num_layers,\n",
    "                            batch_first=True)\n",
    "        \n",
    "        # Initialize weights\n",
    "        for name, param in self.gru.named_parameters():\n",
    "            if 'weight' in name:\n",
    "                nn.init.kaiming_normal_(param)\n",
    "            elif 'bias' in name:\n",
    "                nn.init.constant_(param, 0.0)\n",
    "\n",
    "        self.batch_norm1 = nn.BatchNorm1d(hidden_size)\n",
    "        self.elu = nn.ELU()\n",
    "        self.fc1 = nn.Linear(hidden_size, num_outputs)\n",
    "        nn.init.xavier_uniform_(self.fc1.weight)\n",
    "        \n",
    "    def forward(self, x):\n",
    "        h0 = torch.zeros((self.layers, x.size(0), self.hidden), dtype=torch.float32).to(device)\n",
    "        out, _ = self.gru(x, h0)\n",
    "        out = out[:, -1, :]\n",
    "\n",
    "        # Apply batch normalization\n",
    "        out = self.batch_norm1(out)\n",
    "        out = self.elu(out)\n",
    "        out = self.fc1(out)  \n",
    "        return out"
   ]
  },
  {
   "cell_type": "markdown",
   "id": "83fb4e92-0947-4e81-add3-c86d7cc77369",
   "metadata": {},
   "source": [
    "### Overfit"
   ]
  },
  {
   "cell_type": "code",
   "execution_count": 19,
   "id": "ca8567dd-c7f4-4b7c-9766-398d301816bf",
   "metadata": {},
   "outputs": [
    {
     "name": "stdout",
     "output_type": "stream",
     "text": [
      "Epoch [10/100] | Avg Loss: 0.1739 | Avg Precision: 94.62\n",
      "Epoch [20/100] | Avg Loss: 0.0294 | Avg Precision: 99.75\n",
      "Epoch [30/100] | Avg Loss: 0.0215 | Avg Precision: 99.56\n",
      "Epoch [40/100] | Avg Loss: 0.0055 | Avg Precision: 100.00\n",
      "Epoch [50/100] | Avg Loss: 0.0011 | Avg Precision: 100.00\n",
      "Epoch [60/100] | Avg Loss: 0.0006 | Avg Precision: 100.00\n",
      "Epoch [70/100] | Avg Loss: 0.0004 | Avg Precision: 100.00\n",
      "Epoch [80/100] | Avg Loss: 0.0003 | Avg Precision: 100.00\n",
      "Epoch [90/100] | Avg Loss: 0.0002 | Avg Precision: 100.00\n",
      "Epoch [100/100] | Avg Loss: 0.0002 | Avg Precision: 100.00\n"
     ]
    }
   ],
   "source": [
    "batch = next(iter(train_loader))\n",
    "model = Gru(8, 500, 1, 4)\n",
    "model.to(device)\n",
    "criterion = nn.CrossEntropyLoss()\n",
    "optimizer = optim.Adam(model.parameters(), lr=0.01)\n",
    "epochs = 100\n",
    "\n",
    "overfit_batch(model, criterion, optimizer, batch, epochs)"
   ]
  },
  {
   "cell_type": "markdown",
   "id": "361e1a32-d56c-4a3a-a6e4-6b322e541878",
   "metadata": {},
   "source": [
    "# Training"
   ]
  },
  {
   "cell_type": "markdown",
   "id": "ef7e7840-42a3-450a-a66d-654c0c426b7c",
   "metadata": {
    "jp-MarkdownHeadingCollapsed": true
   },
   "source": [
    "### 11-3-23"
   ]
  },
  {
   "cell_type": "markdown",
   "id": "005a7f5b-b3b3-4f11-bb58-a7175fb8df0e",
   "metadata": {
    "jp-MarkdownHeadingCollapsed": true
   },
   "source": [
    "#### Model 7 - Subset dataset"
   ]
  },
  {
   "cell_type": "code",
   "execution_count": 19,
   "id": "ef08d4cb-88ce-43f7-9ef6-cd70ce0da4c4",
   "metadata": {},
   "outputs": [
    {
     "name": "stderr",
     "output_type": "stream",
     "text": [
      "Train: 100%|\u001B[32m██████████████████████\u001B[0m| 3560/3560 [09:55<00:00,  5.97batch/s, Loss: 0.3601 | Precision: 79.63%]\u001B[0m\n"
     ]
    },
    {
     "name": "stdout",
     "output_type": "stream",
     "text": [
      "Epoch 1 | Avg Loss: 0.4144 | Avg Precision: 77.88%\n"
     ]
    },
    {
     "name": "stderr",
     "output_type": "stream",
     "text": [
      "Train: 100%|\u001B[32m██████████████████████\u001B[0m| 3560/3560 [10:06<00:00,  5.87batch/s, Loss: 0.3424 | Precision: 81.63%]\u001B[0m\n"
     ]
    },
    {
     "name": "stdout",
     "output_type": "stream",
     "text": [
      "Epoch 2 | Avg Loss: 0.3829 | Avg Precision: 81.47%\n"
     ]
    },
    {
     "name": "stderr",
     "output_type": "stream",
     "text": [
      "Train: 100%|\u001B[32m██████████████████████\u001B[0m| 3560/3560 [10:08<00:00,  5.85batch/s, Loss: 0.3592 | Precision: 81.99%]\u001B[0m\n"
     ]
    },
    {
     "name": "stdout",
     "output_type": "stream",
     "text": [
      "Epoch 3 | Avg Loss: 0.3788 | Avg Precision: 81.91%\n"
     ]
    },
    {
     "name": "stderr",
     "output_type": "stream",
     "text": [
      "Validate: 100%|\u001B[34m█████████████████████\u001B[0m| 890/890 [02:21<00:00,  6.31batch/s, Loss: 0.3285 | Precision: 80.66%]\u001B[0m\n"
     ]
    },
    {
     "name": "stdout",
     "output_type": "stream",
     "text": [
      "Epoch 3 | Avg Loss: 0.3883 | Avg Precision: 80.65% | Patience: 0\n"
     ]
    },
    {
     "name": "stderr",
     "output_type": "stream",
     "text": [
      "Train: 100%|\u001B[32m██████████████████████\u001B[0m| 3560/3560 [09:49<00:00,  6.04batch/s, Loss: 0.3568 | Precision: 81.97%]\u001B[0m\n"
     ]
    },
    {
     "name": "stdout",
     "output_type": "stream",
     "text": [
      "Epoch 4 | Avg Loss: 0.3888 | Avg Precision: 81.91%\n"
     ]
    },
    {
     "name": "stderr",
     "output_type": "stream",
     "text": [
      "Train: 100%|\u001B[32m██████████████████████\u001B[0m| 3560/3560 [09:43<00:00,  6.11batch/s, Loss: 0.3583 | Precision: 82.02%]\u001B[0m\n"
     ]
    },
    {
     "name": "stdout",
     "output_type": "stream",
     "text": [
      "Epoch 5 | Avg Loss: 0.3802 | Avg Precision: 82.00%\n"
     ]
    },
    {
     "name": "stderr",
     "output_type": "stream",
     "text": [
      "Train: 100%|\u001B[32m██████████████████████\u001B[0m| 3560/3560 [09:37<00:00,  6.17batch/s, Loss: 0.3492 | Precision: 82.11%]\u001B[0m\n"
     ]
    },
    {
     "name": "stdout",
     "output_type": "stream",
     "text": [
      "Epoch 6 | Avg Loss: 0.3797 | Avg Precision: 82.12%\n"
     ]
    },
    {
     "name": "stderr",
     "output_type": "stream",
     "text": [
      "Validate: 100%|\u001B[34m█████████████████████\u001B[0m| 890/890 [02:17<00:00,  6.48batch/s, Loss: 0.3217 | Precision: 81.95%]\u001B[0m\n"
     ]
    },
    {
     "name": "stdout",
     "output_type": "stream",
     "text": [
      "Epoch 6 | Avg Loss: 0.3778 | Avg Precision: 81.95% | Patience: 0\n"
     ]
    },
    {
     "name": "stderr",
     "output_type": "stream",
     "text": [
      "Train: 100%|\u001B[32m██████████████████████\u001B[0m| 3560/3560 [09:34<00:00,  6.20batch/s, Loss: 0.3387 | Precision: 82.19%]\u001B[0m\n"
     ]
    },
    {
     "name": "stdout",
     "output_type": "stream",
     "text": [
      "Epoch 7 | Avg Loss: 0.3786 | Avg Precision: 82.19%\n"
     ]
    },
    {
     "name": "stderr",
     "output_type": "stream",
     "text": [
      "Train: 100%|\u001B[32m██████████████████████\u001B[0m| 3560/3560 [09:34<00:00,  6.20batch/s, Loss: 0.3405 | Precision: 82.34%]\u001B[0m\n"
     ]
    },
    {
     "name": "stdout",
     "output_type": "stream",
     "text": [
      "Epoch 8 | Avg Loss: 0.3758 | Avg Precision: 82.30%\n"
     ]
    },
    {
     "name": "stderr",
     "output_type": "stream",
     "text": [
      "Train: 100%|\u001B[32m██████████████████████\u001B[0m| 3560/3560 [09:35<00:00,  6.19batch/s, Loss: 0.3496 | Precision: 82.47%]\u001B[0m\n"
     ]
    },
    {
     "name": "stdout",
     "output_type": "stream",
     "text": [
      "Epoch 9 | Avg Loss: 0.3740 | Avg Precision: 82.49%\n"
     ]
    },
    {
     "name": "stderr",
     "output_type": "stream",
     "text": [
      "Validate: 100%|\u001B[34m█████████████████████\u001B[0m| 890/890 [02:16<00:00,  6.51batch/s, Loss: 0.3181 | Precision: 81.66%]\u001B[0m\n"
     ]
    },
    {
     "name": "stdout",
     "output_type": "stream",
     "text": [
      "Epoch 9 | Avg Loss: 0.3842 | Avg Precision: 81.61% | Patience: 1\n"
     ]
    },
    {
     "name": "stderr",
     "output_type": "stream",
     "text": [
      "Train: 100%|\u001B[32m██████████████████████\u001B[0m| 3560/3560 [09:32<00:00,  6.22batch/s, Loss: 0.3563 | Precision: 82.51%]\u001B[0m"
     ]
    },
    {
     "name": "stdout",
     "output_type": "stream",
     "text": [
      "Epoch 10 | Avg Loss: 0.3732 | Avg Precision: 82.48%\n",
      "Training Complete\n"
     ]
    },
    {
     "name": "stderr",
     "output_type": "stream",
     "text": [
      "\n"
     ]
    }
   ],
   "source": [
    "model = Gru(9, 150, 1, 4)\n",
    "model = model.to(device)\n",
    "criterion = nn.CrossEntropyLoss()\n",
    "optimizer = optim.Adam(model.parameters(), lr=.02)\n",
    "scheduler = ReduceLROnPlateau(optimizer, 'max', factor=.8, patience=1, min_lr=.001)\n",
    "epochs = 10\n",
    "\n",
    "model7 = train_validate(model, criterion, optimizer, scheduler, epochs, train_loader, val_loader)\n",
    "torch.save(model7.state_dict(), '.\\\\models\\\\subset\\\\gru\\\\model7.pth')"
   ]
  },
  {
   "cell_type": "markdown",
   "id": "21b9c571-12e5-4c46-88df-9333890904d3",
   "metadata": {
    "jp-MarkdownHeadingCollapsed": true
   },
   "source": [
    "#### Model 8 - Downsample dataset - Lookback 100"
   ]
  },
  {
   "cell_type": "code",
   "execution_count": 35,
   "id": "513d4b19-b601-4278-a962-6365df33198c",
   "metadata": {},
   "outputs": [
    {
     "name": "stderr",
     "output_type": "stream",
     "text": [
      "Train: 100%|\u001B[32m████████████████████████\u001B[0m| 295/295 [01:39<00:00,  2.98batch/s, Loss: 0.2880 | Precision: 74.94%]\u001B[0m\n"
     ]
    },
    {
     "name": "stdout",
     "output_type": "stream",
     "text": [
      "Epoch 1 | Avg Loss: 0.5076 | Avg Precision: 72.73%\n"
     ]
    },
    {
     "name": "stderr",
     "output_type": "stream",
     "text": [
      "Train: 100%|\u001B[32m████████████████████████\u001B[0m| 295/295 [01:29<00:00,  3.28batch/s, Loss: 0.2476 | Precision: 77.45%]\u001B[0m\n"
     ]
    },
    {
     "name": "stdout",
     "output_type": "stream",
     "text": [
      "Epoch 2 | Avg Loss: 0.4512 | Avg Precision: 76.75%\n"
     ]
    },
    {
     "name": "stderr",
     "output_type": "stream",
     "text": [
      "Train: 100%|\u001B[32m████████████████████████\u001B[0m| 295/295 [01:29<00:00,  3.29batch/s, Loss: 0.2614 | Precision: 78.70%]\u001B[0m\n"
     ]
    },
    {
     "name": "stdout",
     "output_type": "stream",
     "text": [
      "Epoch 3 | Avg Loss: 0.4333 | Avg Precision: 77.95%\n"
     ]
    },
    {
     "name": "stderr",
     "output_type": "stream",
     "text": [
      "Validate: 100%|\u001B[34m███████████████████████\u001B[0m| 74/74 [00:16<00:00,  4.60batch/s, Loss: 0.4971 | Precision: 77.65%]\u001B[0m\n"
     ]
    },
    {
     "name": "stdout",
     "output_type": "stream",
     "text": [
      "Epoch 3 | Avg Loss: 0.4452 | Avg Precision: 77.93% | Patience: 0\n"
     ]
    },
    {
     "name": "stderr",
     "output_type": "stream",
     "text": [
      "Train: 100%|\u001B[32m████████████████████████\u001B[0m| 295/295 [01:29<00:00,  3.30batch/s, Loss: 0.1427 | Precision: 78.40%]\u001B[0m\n"
     ]
    },
    {
     "name": "stdout",
     "output_type": "stream",
     "text": [
      "Epoch 4 | Avg Loss: 0.4405 | Avg Precision: 78.07%\n"
     ]
    },
    {
     "name": "stderr",
     "output_type": "stream",
     "text": [
      "Train: 100%|\u001B[32m████████████████████████\u001B[0m| 295/295 [01:29<00:00,  3.30batch/s, Loss: 0.1400 | Precision: 79.05%]\u001B[0m\n"
     ]
    },
    {
     "name": "stdout",
     "output_type": "stream",
     "text": [
      "Epoch 5 | Avg Loss: 0.4263 | Avg Precision: 78.83%\n"
     ]
    },
    {
     "name": "stderr",
     "output_type": "stream",
     "text": [
      "Train: 100%|\u001B[32m████████████████████████\u001B[0m| 295/295 [01:29<00:00,  3.30batch/s, Loss: 0.1148 | Precision: 79.55%]\u001B[0m\n"
     ]
    },
    {
     "name": "stdout",
     "output_type": "stream",
     "text": [
      "Epoch 6 | Avg Loss: 0.4208 | Avg Precision: 79.42%\n"
     ]
    },
    {
     "name": "stderr",
     "output_type": "stream",
     "text": [
      "Validate: 100%|\u001B[34m███████████████████████\u001B[0m| 74/74 [00:16<00:00,  4.51batch/s, Loss: 0.4998 | Precision: 78.19%]\u001B[0m\n"
     ]
    },
    {
     "name": "stdout",
     "output_type": "stream",
     "text": [
      "Epoch 6 | Avg Loss: 0.4428 | Avg Precision: 78.40% | Patience: 0\n"
     ]
    },
    {
     "name": "stderr",
     "output_type": "stream",
     "text": [
      "Train: 100%|\u001B[32m████████████████████████\u001B[0m| 295/295 [01:29<00:00,  3.31batch/s, Loss: 0.1012 | Precision: 80.11%]\u001B[0m\n"
     ]
    },
    {
     "name": "stdout",
     "output_type": "stream",
     "text": [
      "Epoch 7 | Avg Loss: 0.4101 | Avg Precision: 80.06%\n"
     ]
    },
    {
     "name": "stderr",
     "output_type": "stream",
     "text": [
      "Train: 100%|\u001B[32m████████████████████████\u001B[0m| 295/295 [01:29<00:00,  3.30batch/s, Loss: 0.1189 | Precision: 80.47%]\u001B[0m\n"
     ]
    },
    {
     "name": "stdout",
     "output_type": "stream",
     "text": [
      "Epoch 8 | Avg Loss: 0.4043 | Avg Precision: 80.45%\n"
     ]
    },
    {
     "name": "stderr",
     "output_type": "stream",
     "text": [
      "Train: 100%|\u001B[32m████████████████████████\u001B[0m| 295/295 [01:29<00:00,  3.31batch/s, Loss: 0.1075 | Precision: 80.57%]\u001B[0m\n"
     ]
    },
    {
     "name": "stdout",
     "output_type": "stream",
     "text": [
      "Epoch 9 | Avg Loss: 0.4022 | Avg Precision: 80.40%\n"
     ]
    },
    {
     "name": "stderr",
     "output_type": "stream",
     "text": [
      "Validate: 100%|\u001B[34m███████████████████████\u001B[0m| 74/74 [00:16<00:00,  4.53batch/s, Loss: 0.4500 | Precision: 79.20%]\u001B[0m\n"
     ]
    },
    {
     "name": "stdout",
     "output_type": "stream",
     "text": [
      "Epoch 9 | Avg Loss: 0.4141 | Avg Precision: 79.43% | Patience: 0\n"
     ]
    },
    {
     "name": "stderr",
     "output_type": "stream",
     "text": [
      "Train: 100%|\u001B[32m████████████████████████\u001B[0m| 295/295 [01:29<00:00,  3.30batch/s, Loss: 0.1172 | Precision: 80.15%]\u001B[0m\n"
     ]
    },
    {
     "name": "stdout",
     "output_type": "stream",
     "text": [
      "Epoch 10 | Avg Loss: 0.4323 | Avg Precision: 80.37%\n"
     ]
    },
    {
     "name": "stderr",
     "output_type": "stream",
     "text": [
      "Train: 100%|\u001B[32m████████████████████████\u001B[0m| 295/295 [01:29<00:00,  3.30batch/s, Loss: 0.0986 | Precision: 80.69%]\u001B[0m\n"
     ]
    },
    {
     "name": "stdout",
     "output_type": "stream",
     "text": [
      "Epoch 11 | Avg Loss: 0.4017 | Avg Precision: 80.67%\n"
     ]
    },
    {
     "name": "stderr",
     "output_type": "stream",
     "text": [
      "Train: 100%|\u001B[32m████████████████████████\u001B[0m| 295/295 [01:29<00:00,  3.30batch/s, Loss: 0.0863 | Precision: 80.90%]\u001B[0m\n"
     ]
    },
    {
     "name": "stdout",
     "output_type": "stream",
     "text": [
      "Epoch 12 | Avg Loss: 0.3971 | Avg Precision: 80.90%\n"
     ]
    },
    {
     "name": "stderr",
     "output_type": "stream",
     "text": [
      "Validate: 100%|\u001B[34m███████████████████████\u001B[0m| 74/74 [00:16<00:00,  4.51batch/s, Loss: 0.4842 | Precision: 79.48%]\u001B[0m\n"
     ]
    },
    {
     "name": "stdout",
     "output_type": "stream",
     "text": [
      "Epoch 12 | Avg Loss: 0.4191 | Avg Precision: 79.72% | Patience: 0\n"
     ]
    },
    {
     "name": "stderr",
     "output_type": "stream",
     "text": [
      "Train: 100%|\u001B[32m████████████████████████\u001B[0m| 295/295 [01:29<00:00,  3.30batch/s, Loss: 0.0885 | Precision: 81.11%]\u001B[0m\n"
     ]
    },
    {
     "name": "stdout",
     "output_type": "stream",
     "text": [
      "Epoch 13 | Avg Loss: 0.3972 | Avg Precision: 81.12%\n"
     ]
    },
    {
     "name": "stderr",
     "output_type": "stream",
     "text": [
      "Train: 100%|\u001B[32m████████████████████████\u001B[0m| 295/295 [01:29<00:00,  3.30batch/s, Loss: 0.0846 | Precision: 80.93%]\u001B[0m\n"
     ]
    },
    {
     "name": "stdout",
     "output_type": "stream",
     "text": [
      "Epoch 14 | Avg Loss: 0.3965 | Avg Precision: 80.86%\n"
     ]
    },
    {
     "name": "stderr",
     "output_type": "stream",
     "text": [
      "Train: 100%|\u001B[32m████████████████████████\u001B[0m| 295/295 [01:29<00:00,  3.30batch/s, Loss: 0.0958 | Precision: 81.07%]\u001B[0m\n"
     ]
    },
    {
     "name": "stdout",
     "output_type": "stream",
     "text": [
      "Epoch 15 | Avg Loss: 0.3942 | Avg Precision: 80.87%\n"
     ]
    },
    {
     "name": "stderr",
     "output_type": "stream",
     "text": [
      "Validate: 100%|\u001B[34m███████████████████████\u001B[0m| 74/74 [00:16<00:00,  4.53batch/s, Loss: 0.4866 | Precision: 78.12%]\u001B[0m\n"
     ]
    },
    {
     "name": "stdout",
     "output_type": "stream",
     "text": [
      "Epoch 15 | Avg Loss: 0.4275 | Avg Precision: 78.35% | Patience: 1\n"
     ]
    },
    {
     "name": "stderr",
     "output_type": "stream",
     "text": [
      "Train: 100%|\u001B[32m████████████████████████\u001B[0m| 295/295 [01:29<00:00,  3.31batch/s, Loss: 0.0846 | Precision: 81.24%]\u001B[0m\n"
     ]
    },
    {
     "name": "stdout",
     "output_type": "stream",
     "text": [
      "Epoch 16 | Avg Loss: 0.3921 | Avg Precision: 81.18%\n"
     ]
    },
    {
     "name": "stderr",
     "output_type": "stream",
     "text": [
      "Train: 100%|\u001B[32m████████████████████████\u001B[0m| 295/295 [01:29<00:00,  3.30batch/s, Loss: 0.1395 | Precision: 80.93%]\u001B[0m\n"
     ]
    },
    {
     "name": "stdout",
     "output_type": "stream",
     "text": [
      "Epoch 17 | Avg Loss: 0.3965 | Avg Precision: 81.32%\n"
     ]
    },
    {
     "name": "stderr",
     "output_type": "stream",
     "text": [
      "Train: 100%|\u001B[32m████████████████████████\u001B[0m| 295/295 [01:30<00:00,  3.26batch/s, Loss: 0.1262 | Precision: 80.83%]\u001B[0m\n"
     ]
    },
    {
     "name": "stdout",
     "output_type": "stream",
     "text": [
      "Epoch 18 | Avg Loss: 0.3960 | Avg Precision: 80.80%\n"
     ]
    },
    {
     "name": "stderr",
     "output_type": "stream",
     "text": [
      "Validate: 100%|\u001B[34m███████████████████████\u001B[0m| 74/74 [00:17<00:00,  4.33batch/s, Loss: 0.4220 | Precision: 79.64%]\u001B[0m\n"
     ]
    },
    {
     "name": "stdout",
     "output_type": "stream",
     "text": [
      "Epoch 18 | Avg Loss: 0.4115 | Avg Precision: 80.08% | Patience: 0\n"
     ]
    },
    {
     "name": "stderr",
     "output_type": "stream",
     "text": [
      "Train: 100%|\u001B[32m████████████████████████\u001B[0m| 295/295 [01:29<00:00,  3.29batch/s, Loss: 0.1260 | Precision: 80.78%]\u001B[0m\n"
     ]
    },
    {
     "name": "stdout",
     "output_type": "stream",
     "text": [
      "Epoch 19 | Avg Loss: 0.3979 | Avg Precision: 80.47%\n"
     ]
    },
    {
     "name": "stderr",
     "output_type": "stream",
     "text": [
      "Train: 100%|\u001B[32m████████████████████████\u001B[0m| 295/295 [01:29<00:00,  3.31batch/s, Loss: 0.1142 | Precision: 81.22%]\u001B[0m\n"
     ]
    },
    {
     "name": "stdout",
     "output_type": "stream",
     "text": [
      "Epoch 20 | Avg Loss: 0.3898 | Avg Precision: 81.16%\n"
     ]
    },
    {
     "name": "stderr",
     "output_type": "stream",
     "text": [
      "Train: 100%|\u001B[32m████████████████████████\u001B[0m| 295/295 [01:28<00:00,  3.32batch/s, Loss: 0.1207 | Precision: 81.26%]\u001B[0m\n"
     ]
    },
    {
     "name": "stdout",
     "output_type": "stream",
     "text": [
      "Epoch 21 | Avg Loss: 0.3890 | Avg Precision: 81.22%\n"
     ]
    },
    {
     "name": "stderr",
     "output_type": "stream",
     "text": [
      "Validate: 100%|\u001B[34m███████████████████████\u001B[0m| 74/74 [00:16<00:00,  4.52batch/s, Loss: 0.4307 | Precision: 80.27%]\u001B[0m\n"
     ]
    },
    {
     "name": "stdout",
     "output_type": "stream",
     "text": [
      "Epoch 21 | Avg Loss: 0.4034 | Avg Precision: 80.47% | Patience: 0\n"
     ]
    },
    {
     "name": "stderr",
     "output_type": "stream",
     "text": [
      "Train: 100%|\u001B[32m████████████████████████\u001B[0m| 295/295 [01:28<00:00,  3.33batch/s, Loss: 0.1174 | Precision: 81.36%]\u001B[0m\n"
     ]
    },
    {
     "name": "stdout",
     "output_type": "stream",
     "text": [
      "Epoch 22 | Avg Loss: 0.3875 | Avg Precision: 81.21%\n"
     ]
    },
    {
     "name": "stderr",
     "output_type": "stream",
     "text": [
      "Train: 100%|\u001B[32m████████████████████████\u001B[0m| 295/295 [01:29<00:00,  3.30batch/s, Loss: 0.1120 | Precision: 81.50%]\u001B[0m\n"
     ]
    },
    {
     "name": "stdout",
     "output_type": "stream",
     "text": [
      "Epoch 23 | Avg Loss: 0.3867 | Avg Precision: 81.38%\n"
     ]
    },
    {
     "name": "stderr",
     "output_type": "stream",
     "text": [
      "Train: 100%|\u001B[32m████████████████████████\u001B[0m| 295/295 [01:28<00:00,  3.32batch/s, Loss: 0.0988 | Precision: 81.34%]\u001B[0m\n"
     ]
    },
    {
     "name": "stdout",
     "output_type": "stream",
     "text": [
      "Epoch 24 | Avg Loss: 0.3916 | Avg Precision: 81.48%\n"
     ]
    },
    {
     "name": "stderr",
     "output_type": "stream",
     "text": [
      "Validate: 100%|\u001B[34m███████████████████████\u001B[0m| 74/74 [00:16<00:00,  4.54batch/s, Loss: 0.4216 | Precision: 80.02%]\u001B[0m\n"
     ]
    },
    {
     "name": "stdout",
     "output_type": "stream",
     "text": [
      "Epoch 24 | Avg Loss: 0.4017 | Avg Precision: 80.23% | Patience: 1\n"
     ]
    },
    {
     "name": "stderr",
     "output_type": "stream",
     "text": [
      "Train: 100%|\u001B[32m████████████████████████\u001B[0m| 295/295 [01:29<00:00,  3.28batch/s, Loss: 0.1045 | Precision: 81.70%]\u001B[0m\n"
     ]
    },
    {
     "name": "stdout",
     "output_type": "stream",
     "text": [
      "Epoch 25 | Avg Loss: 0.3831 | Avg Precision: 81.67%\n"
     ]
    },
    {
     "name": "stderr",
     "output_type": "stream",
     "text": [
      "Train: 100%|\u001B[32m████████████████████████\u001B[0m| 295/295 [01:29<00:00,  3.31batch/s, Loss: 0.1142 | Precision: 81.72%]\u001B[0m\n"
     ]
    },
    {
     "name": "stdout",
     "output_type": "stream",
     "text": [
      "Epoch 26 | Avg Loss: 0.3833 | Avg Precision: 81.56%\n"
     ]
    },
    {
     "name": "stderr",
     "output_type": "stream",
     "text": [
      "Train: 100%|\u001B[32m████████████████████████\u001B[0m| 295/295 [01:29<00:00,  3.30batch/s, Loss: 0.1022 | Precision: 81.77%]\u001B[0m\n"
     ]
    },
    {
     "name": "stdout",
     "output_type": "stream",
     "text": [
      "Epoch 27 | Avg Loss: 0.3827 | Avg Precision: 81.90%\n"
     ]
    },
    {
     "name": "stderr",
     "output_type": "stream",
     "text": [
      "Validate: 100%|\u001B[34m███████████████████████\u001B[0m| 74/74 [00:16<00:00,  4.56batch/s, Loss: 0.3970 | Precision: 79.87%]\u001B[0m\n"
     ]
    },
    {
     "name": "stdout",
     "output_type": "stream",
     "text": [
      "Epoch 27 | Avg Loss: 0.3985 | Avg Precision: 80.05% | Patience: 2\n"
     ]
    },
    {
     "name": "stderr",
     "output_type": "stream",
     "text": [
      "Train: 100%|\u001B[32m████████████████████████\u001B[0m| 295/295 [01:29<00:00,  3.31batch/s, Loss: 0.1155 | Precision: 81.75%]\u001B[0m\n"
     ]
    },
    {
     "name": "stdout",
     "output_type": "stream",
     "text": [
      "Epoch 28 | Avg Loss: 0.3831 | Avg Precision: 81.89%\n"
     ]
    },
    {
     "name": "stderr",
     "output_type": "stream",
     "text": [
      "Train: 100%|\u001B[32m████████████████████████\u001B[0m| 295/295 [01:28<00:00,  3.34batch/s, Loss: 0.1071 | Precision: 81.68%]\u001B[0m\n"
     ]
    },
    {
     "name": "stdout",
     "output_type": "stream",
     "text": [
      "Epoch 29 | Avg Loss: 0.3833 | Avg Precision: 81.64%\n"
     ]
    },
    {
     "name": "stderr",
     "output_type": "stream",
     "text": [
      "Train: 100%|\u001B[32m████████████████████████\u001B[0m| 295/295 [01:28<00:00,  3.31batch/s, Loss: 0.1250 | Precision: 81.30%]\u001B[0m\n"
     ]
    },
    {
     "name": "stdout",
     "output_type": "stream",
     "text": [
      "Epoch 30 | Avg Loss: 0.3933 | Avg Precision: 81.07%\n"
     ]
    },
    {
     "name": "stderr",
     "output_type": "stream",
     "text": [
      "Validate: 100%|\u001B[34m███████████████████████\u001B[0m| 74/74 [00:16<00:00,  4.60batch/s, Loss: 0.3707 | Precision: 81.59%]\u001B[0m\n"
     ]
    },
    {
     "name": "stdout",
     "output_type": "stream",
     "text": [
      "Epoch 30 | Avg Loss: 0.3901 | Avg Precision: 81.84% | Patience: 0\n"
     ]
    },
    {
     "name": "stderr",
     "output_type": "stream",
     "text": [
      "Train: 100%|\u001B[32m████████████████████████\u001B[0m| 295/295 [01:28<00:00,  3.32batch/s, Loss: 0.1117 | Precision: 80.90%]\u001B[0m\n"
     ]
    },
    {
     "name": "stdout",
     "output_type": "stream",
     "text": [
      "Epoch 31 | Avg Loss: 0.3978 | Avg Precision: 80.86%\n"
     ]
    },
    {
     "name": "stderr",
     "output_type": "stream",
     "text": [
      "Train: 100%|\u001B[32m████████████████████████\u001B[0m| 295/295 [01:29<00:00,  3.31batch/s, Loss: 0.1227 | Precision: 81.43%]\u001B[0m\n"
     ]
    },
    {
     "name": "stdout",
     "output_type": "stream",
     "text": [
      "Epoch 32 | Avg Loss: 0.3905 | Avg Precision: 81.30%\n"
     ]
    },
    {
     "name": "stderr",
     "output_type": "stream",
     "text": [
      "Train: 100%|\u001B[32m████████████████████████\u001B[0m| 295/295 [01:27<00:00,  3.36batch/s, Loss: 0.2401 | Precision: 79.84%]\u001B[0m\n"
     ]
    },
    {
     "name": "stdout",
     "output_type": "stream",
     "text": [
      "Epoch 33 | Avg Loss: 0.4179 | Avg Precision: 81.12%\n"
     ]
    },
    {
     "name": "stderr",
     "output_type": "stream",
     "text": [
      "Validate: 100%|\u001B[34m███████████████████████\u001B[0m| 74/74 [00:15<00:00,  4.72batch/s, Loss: 0.4374 | Precision: 77.66%]\u001B[0m\n"
     ]
    },
    {
     "name": "stdout",
     "output_type": "stream",
     "text": [
      "Epoch 33 | Avg Loss: 0.4547 | Avg Precision: 77.85% | Patience: 1\n"
     ]
    },
    {
     "name": "stderr",
     "output_type": "stream",
     "text": [
      "Train: 100%|\u001B[32m████████████████████████\u001B[0m| 295/295 [01:26<00:00,  3.40batch/s, Loss: 0.1662 | Precision: 79.22%]\u001B[0m\n"
     ]
    },
    {
     "name": "stdout",
     "output_type": "stream",
     "text": [
      "Epoch 34 | Avg Loss: 0.4276 | Avg Precision: 78.87%\n"
     ]
    },
    {
     "name": "stderr",
     "output_type": "stream",
     "text": [
      "Train: 100%|\u001B[32m████████████████████████\u001B[0m| 295/295 [01:26<00:00,  3.39batch/s, Loss: 0.1697 | Precision: 80.17%]\u001B[0m\n"
     ]
    },
    {
     "name": "stdout",
     "output_type": "stream",
     "text": [
      "Epoch 35 | Avg Loss: 0.4104 | Avg Precision: 79.78%\n"
     ]
    },
    {
     "name": "stderr",
     "output_type": "stream",
     "text": [
      "Train: 100%|\u001B[32m████████████████████████\u001B[0m| 295/295 [01:26<00:00,  3.39batch/s, Loss: 0.1554 | Precision: 80.40%]\u001B[0m\n"
     ]
    },
    {
     "name": "stdout",
     "output_type": "stream",
     "text": [
      "Epoch 36 | Avg Loss: 0.4036 | Avg Precision: 80.36%\n"
     ]
    },
    {
     "name": "stderr",
     "output_type": "stream",
     "text": [
      "Validate: 100%|\u001B[34m███████████████████████\u001B[0m| 74/74 [00:15<00:00,  4.75batch/s, Loss: 0.4160 | Precision: 79.30%]\u001B[0m\n"
     ]
    },
    {
     "name": "stdout",
     "output_type": "stream",
     "text": [
      "Epoch 36 | Avg Loss: 0.4100 | Avg Precision: 79.38% | Patience: 2\n"
     ]
    },
    {
     "name": "stderr",
     "output_type": "stream",
     "text": [
      "Train: 100%|\u001B[32m████████████████████████\u001B[0m| 295/295 [01:27<00:00,  3.37batch/s, Loss: 0.1866 | Precision: 80.62%]\u001B[0m\n"
     ]
    },
    {
     "name": "stdout",
     "output_type": "stream",
     "text": [
      "Epoch 37 | Avg Loss: 0.4005 | Avg Precision: 80.53%\n"
     ]
    },
    {
     "name": "stderr",
     "output_type": "stream",
     "text": [
      "Train: 100%|\u001B[32m████████████████████████\u001B[0m| 295/295 [01:27<00:00,  3.37batch/s, Loss: 0.1505 | Precision: 80.65%]\u001B[0m\n"
     ]
    },
    {
     "name": "stdout",
     "output_type": "stream",
     "text": [
      "Epoch 38 | Avg Loss: 0.3999 | Avg Precision: 80.54%\n"
     ]
    },
    {
     "name": "stderr",
     "output_type": "stream",
     "text": [
      "Train: 100%|\u001B[32m████████████████████████\u001B[0m| 295/295 [01:26<00:00,  3.41batch/s, Loss: 0.1390 | Precision: 80.71%]\u001B[0m\n"
     ]
    },
    {
     "name": "stdout",
     "output_type": "stream",
     "text": [
      "Epoch 39 | Avg Loss: 0.3991 | Avg Precision: 80.61%\n"
     ]
    },
    {
     "name": "stderr",
     "output_type": "stream",
     "text": [
      "Validate: 100%|\u001B[34m███████████████████████\u001B[0m| 74/74 [00:15<00:00,  4.79batch/s, Loss: 0.3979 | Precision: 79.79%]\u001B[0m\n"
     ]
    },
    {
     "name": "stdout",
     "output_type": "stream",
     "text": [
      "Epoch 39 | Avg Loss: 0.4045 | Avg Precision: 79.85% | Patience: 3\n"
     ]
    },
    {
     "name": "stderr",
     "output_type": "stream",
     "text": [
      "Train: 100%|\u001B[32m████████████████████████\u001B[0m| 295/295 [01:26<00:00,  3.41batch/s, Loss: 0.1474 | Precision: 81.04%]\u001B[0m\n"
     ]
    },
    {
     "name": "stdout",
     "output_type": "stream",
     "text": [
      "Epoch 40 | Avg Loss: 0.3942 | Avg Precision: 81.06%\n"
     ]
    },
    {
     "name": "stderr",
     "output_type": "stream",
     "text": [
      "Train: 100%|\u001B[32m████████████████████████\u001B[0m| 295/295 [01:26<00:00,  3.41batch/s, Loss: 0.1654 | Precision: 80.97%]\u001B[0m\n"
     ]
    },
    {
     "name": "stdout",
     "output_type": "stream",
     "text": [
      "Epoch 41 | Avg Loss: 0.3951 | Avg Precision: 80.89%\n"
     ]
    },
    {
     "name": "stderr",
     "output_type": "stream",
     "text": [
      "Train: 100%|\u001B[32m████████████████████████\u001B[0m| 295/295 [01:27<00:00,  3.38batch/s, Loss: 0.1402 | Precision: 81.07%]\u001B[0m\n"
     ]
    },
    {
     "name": "stdout",
     "output_type": "stream",
     "text": [
      "Epoch 42 | Avg Loss: 0.3929 | Avg Precision: 81.07%\n"
     ]
    },
    {
     "name": "stderr",
     "output_type": "stream",
     "text": [
      "Validate: 100%|\u001B[34m███████████████████████\u001B[0m| 74/74 [00:15<00:00,  4.68batch/s, Loss: 0.4322 | Precision: 79.56%]\u001B[0m\n"
     ]
    },
    {
     "name": "stdout",
     "output_type": "stream",
     "text": [
      "Epoch 42 | Avg Loss: 0.4080 | Avg Precision: 79.76% | Patience: 4\n"
     ]
    },
    {
     "name": "stderr",
     "output_type": "stream",
     "text": [
      "Train: 100%|\u001B[32m████████████████████████\u001B[0m| 295/295 [01:26<00:00,  3.41batch/s, Loss: 0.1637 | Precision: 81.06%]\u001B[0m\n"
     ]
    },
    {
     "name": "stdout",
     "output_type": "stream",
     "text": [
      "Epoch 43 | Avg Loss: 0.3933 | Avg Precision: 81.02%\n"
     ]
    },
    {
     "name": "stderr",
     "output_type": "stream",
     "text": [
      "Train: 100%|\u001B[32m████████████████████████\u001B[0m| 295/295 [01:26<00:00,  3.40batch/s, Loss: 0.1325 | Precision: 81.01%]\u001B[0m\n"
     ]
    },
    {
     "name": "stdout",
     "output_type": "stream",
     "text": [
      "Epoch 44 | Avg Loss: 0.3941 | Avg Precision: 80.77%\n"
     ]
    },
    {
     "name": "stderr",
     "output_type": "stream",
     "text": [
      "Train: 100%|\u001B[32m████████████████████████\u001B[0m| 295/295 [01:26<00:00,  3.40batch/s, Loss: 0.1775 | Precision: 81.02%]\u001B[0m\n"
     ]
    },
    {
     "name": "stdout",
     "output_type": "stream",
     "text": [
      "Epoch 45 | Avg Loss: 0.3940 | Avg Precision: 81.08%\n"
     ]
    },
    {
     "name": "stderr",
     "output_type": "stream",
     "text": [
      "Validate: 100%|\u001B[34m███████████████████████\u001B[0m| 74/74 [00:15<00:00,  4.81batch/s, Loss: 0.4260 | Precision: 79.73%]\u001B[0m"
     ]
    },
    {
     "name": "stdout",
     "output_type": "stream",
     "text": [
      "Early Stopping: Precision stagnated or decreased too many times. Best Validation: 81.84%\n",
      "Training Complete\n"
     ]
    },
    {
     "name": "stderr",
     "output_type": "stream",
     "text": [
      "\n"
     ]
    }
   ],
   "source": [
    "model = Gru(9, 150, 1, 4)\n",
    "model = model.to(device)\n",
    "criterion = nn.CrossEntropyLoss()\n",
    "optimizer = optim.Adam(model.parameters(), lr=.02)\n",
    "scheduler = ReduceLROnPlateau(optimizer, 'max', factor=.9, patience=2, min_lr=.001)\n",
    "epochs = 100\n",
    "\n",
    "model8 = train_validate(model, criterion, optimizer, scheduler, epochs, train_loader, val_loader)\n",
    "torch.save(model8.state_dict(), '.\\\\models\\\\downsample\\\\gru\\\\model8.pth')"
   ]
  },
  {
   "cell_type": "markdown",
   "id": "59c4b727-e3e4-41ac-b712-c3de76543d60",
   "metadata": {
    "jp-MarkdownHeadingCollapsed": true
   },
   "source": [
    "### 11-5-23"
   ]
  },
  {
   "cell_type": "markdown",
   "id": "d227bb7e-57d6-48ad-9f52-afa774c43826",
   "metadata": {
    "jp-MarkdownHeadingCollapsed": true
   },
   "source": [
    "#### Model 9 - Lookback 30 - LR adjust"
   ]
  },
  {
   "cell_type": "code",
   "execution_count": 21,
   "id": "a575a7d6-139f-4962-b829-7aac2e59ee59",
   "metadata": {},
   "outputs": [
    {
     "name": "stderr",
     "output_type": "stream",
     "text": [
      "Train: 100%|\u001B[32m████████████████████████\u001B[0m| 295/295 [00:56<00:00,  5.19batch/s, Loss: 0.5077 | Precision: 75.69%]\u001B[0m\n"
     ]
    },
    {
     "name": "stdout",
     "output_type": "stream",
     "text": [
      "Epoch 1 | Avg Loss: 0.4896 | Avg Precision: 72.25%\n"
     ]
    },
    {
     "name": "stderr",
     "output_type": "stream",
     "text": [
      "Train: 100%|\u001B[32m████████████████████████\u001B[0m| 295/295 [00:56<00:00,  5.22batch/s, Loss: 0.4472 | Precision: 80.78%]\u001B[0m\n"
     ]
    },
    {
     "name": "stdout",
     "output_type": "stream",
     "text": [
      "Epoch 2 | Avg Loss: 0.3948 | Avg Precision: 80.19%\n"
     ]
    },
    {
     "name": "stderr",
     "output_type": "stream",
     "text": [
      "Validate: 100%|\u001B[34m███████████████████████\u001B[0m| 74/74 [00:12<00:00,  6.05batch/s, Loss: 0.4732 | Precision: 81.13%]\u001B[0m\n"
     ]
    },
    {
     "name": "stdout",
     "output_type": "stream",
     "text": [
      "Epoch 2 | Avg Loss: 0.4314 | Avg Precision: 80.87% | Patience: 0\n"
     ]
    },
    {
     "name": "stderr",
     "output_type": "stream",
     "text": [
      "Train: 100%|\u001B[32m████████████████████████\u001B[0m| 295/295 [00:55<00:00,  5.29batch/s, Loss: 0.4028 | Precision: 81.40%]\u001B[0m\n"
     ]
    },
    {
     "name": "stdout",
     "output_type": "stream",
     "text": [
      "Epoch 3 | Avg Loss: 0.3858 | Avg Precision: 80.90%\n"
     ]
    },
    {
     "name": "stderr",
     "output_type": "stream",
     "text": [
      "Train: 100%|\u001B[32m████████████████████████\u001B[0m| 295/295 [00:56<00:00,  5.20batch/s, Loss: 0.4144 | Precision: 82.30%]\u001B[0m\n"
     ]
    },
    {
     "name": "stdout",
     "output_type": "stream",
     "text": [
      "Epoch 4 | Avg Loss: 0.3712 | Avg Precision: 82.13%\n"
     ]
    },
    {
     "name": "stderr",
     "output_type": "stream",
     "text": [
      "Validate: 100%|\u001B[34m███████████████████████\u001B[0m| 74/74 [00:12<00:00,  5.90batch/s, Loss: 0.3836 | Precision: 82.36%]\u001B[0m\n"
     ]
    },
    {
     "name": "stdout",
     "output_type": "stream",
     "text": [
      "Epoch 4 | Avg Loss: 0.3614 | Avg Precision: 82.08% | Patience: 0\n"
     ]
    },
    {
     "name": "stderr",
     "output_type": "stream",
     "text": [
      "Train: 100%|\u001B[32m████████████████████████\u001B[0m| 295/295 [00:57<00:00,  5.16batch/s, Loss: 0.3490 | Precision: 82.80%]\u001B[0m\n"
     ]
    },
    {
     "name": "stdout",
     "output_type": "stream",
     "text": [
      "Epoch 5 | Avg Loss: 0.3627 | Avg Precision: 82.61%\n"
     ]
    },
    {
     "name": "stderr",
     "output_type": "stream",
     "text": [
      "Train: 100%|\u001B[32m████████████████████████\u001B[0m| 295/295 [00:57<00:00,  5.10batch/s, Loss: 0.2959 | Precision: 83.18%]\u001B[0m\n"
     ]
    },
    {
     "name": "stdout",
     "output_type": "stream",
     "text": [
      "Epoch 6 | Avg Loss: 0.3559 | Avg Precision: 83.09%\n"
     ]
    },
    {
     "name": "stderr",
     "output_type": "stream",
     "text": [
      "Validate: 100%|\u001B[34m███████████████████████\u001B[0m| 74/74 [00:12<00:00,  6.00batch/s, Loss: 0.3908 | Precision: 84.17%]\u001B[0m\n"
     ]
    },
    {
     "name": "stdout",
     "output_type": "stream",
     "text": [
      "Epoch 6 | Avg Loss: 0.3664 | Avg Precision: 84.00% | Patience: 0\n"
     ]
    },
    {
     "name": "stderr",
     "output_type": "stream",
     "text": [
      "Train: 100%|\u001B[32m████████████████████████\u001B[0m| 295/295 [00:57<00:00,  5.14batch/s, Loss: 0.2984 | Precision: 83.54%]\u001B[0m\n"
     ]
    },
    {
     "name": "stdout",
     "output_type": "stream",
     "text": [
      "Epoch 7 | Avg Loss: 0.3491 | Avg Precision: 83.47%\n"
     ]
    },
    {
     "name": "stderr",
     "output_type": "stream",
     "text": [
      "Train: 100%|\u001B[32m████████████████████████\u001B[0m| 295/295 [00:57<00:00,  5.15batch/s, Loss: 0.3205 | Precision: 83.66%]\u001B[0m\n"
     ]
    },
    {
     "name": "stdout",
     "output_type": "stream",
     "text": [
      "Epoch 8 | Avg Loss: 0.3466 | Avg Precision: 83.59%\n"
     ]
    },
    {
     "name": "stderr",
     "output_type": "stream",
     "text": [
      "Validate: 100%|\u001B[34m███████████████████████\u001B[0m| 74/74 [00:12<00:00,  5.90batch/s, Loss: 0.3936 | Precision: 83.09%]\u001B[0m\n"
     ]
    },
    {
     "name": "stdout",
     "output_type": "stream",
     "text": [
      "Epoch 8 | Avg Loss: 0.3573 | Avg Precision: 82.94% | Patience: 1\n"
     ]
    },
    {
     "name": "stderr",
     "output_type": "stream",
     "text": [
      "Train: 100%|\u001B[32m████████████████████████\u001B[0m| 295/295 [00:57<00:00,  5.11batch/s, Loss: 0.2809 | Precision: 83.90%]\u001B[0m\n"
     ]
    },
    {
     "name": "stdout",
     "output_type": "stream",
     "text": [
      "Epoch 9 | Avg Loss: 0.3419 | Avg Precision: 83.83%\n"
     ]
    },
    {
     "name": "stderr",
     "output_type": "stream",
     "text": [
      "Train: 100%|\u001B[32m████████████████████████\u001B[0m| 295/295 [00:57<00:00,  5.10batch/s, Loss: 0.2775 | Precision: 83.96%]\u001B[0m\n"
     ]
    },
    {
     "name": "stdout",
     "output_type": "stream",
     "text": [
      "Epoch 10 | Avg Loss: 0.3441 | Avg Precision: 83.98%\n"
     ]
    },
    {
     "name": "stderr",
     "output_type": "stream",
     "text": [
      "Validate: 100%|\u001B[34m███████████████████████\u001B[0m| 74/74 [00:12<00:00,  5.75batch/s, Loss: 0.4051 | Precision: 84.41%]\u001B[0m\n"
     ]
    },
    {
     "name": "stdout",
     "output_type": "stream",
     "text": [
      "Epoch 10 | Avg Loss: 0.3671 | Avg Precision: 84.28% | Patience: 0\n"
     ]
    },
    {
     "name": "stderr",
     "output_type": "stream",
     "text": [
      "Train: 100%|\u001B[32m████████████████████████\u001B[0m| 295/295 [00:58<00:00,  5.08batch/s, Loss: 0.2145 | Precision: 84.10%]\u001B[0m\n"
     ]
    },
    {
     "name": "stdout",
     "output_type": "stream",
     "text": [
      "Epoch 11 | Avg Loss: 0.3373 | Avg Precision: 84.00%\n"
     ]
    },
    {
     "name": "stderr",
     "output_type": "stream",
     "text": [
      "Train: 100%|\u001B[32m████████████████████████\u001B[0m| 295/295 [00:57<00:00,  5.09batch/s, Loss: 0.1922 | Precision: 84.06%]\u001B[0m\n"
     ]
    },
    {
     "name": "stdout",
     "output_type": "stream",
     "text": [
      "Epoch 12 | Avg Loss: 0.3395 | Avg Precision: 84.11%\n"
     ]
    },
    {
     "name": "stderr",
     "output_type": "stream",
     "text": [
      "Validate: 100%|\u001B[34m███████████████████████\u001B[0m| 74/74 [00:12<00:00,  5.82batch/s, Loss: 0.3862 | Precision: 84.26%]\u001B[0m\n"
     ]
    },
    {
     "name": "stdout",
     "output_type": "stream",
     "text": [
      "Epoch 12 | Avg Loss: 0.3563 | Avg Precision: 84.03% | Patience: 1\n"
     ]
    },
    {
     "name": "stderr",
     "output_type": "stream",
     "text": [
      "Train: 100%|\u001B[32m████████████████████████\u001B[0m| 295/295 [00:57<00:00,  5.09batch/s, Loss: 0.2588 | Precision: 83.22%]\u001B[0m\n"
     ]
    },
    {
     "name": "stdout",
     "output_type": "stream",
     "text": [
      "Epoch 13 | Avg Loss: 0.3529 | Avg Precision: 82.72%\n"
     ]
    },
    {
     "name": "stderr",
     "output_type": "stream",
     "text": [
      "Train: 100%|\u001B[32m████████████████████████\u001B[0m| 295/295 [00:58<00:00,  5.07batch/s, Loss: 0.2661 | Precision: 83.93%]\u001B[0m\n"
     ]
    },
    {
     "name": "stdout",
     "output_type": "stream",
     "text": [
      "Epoch 14 | Avg Loss: 0.3435 | Avg Precision: 83.87%\n"
     ]
    },
    {
     "name": "stderr",
     "output_type": "stream",
     "text": [
      "Validate: 100%|\u001B[34m███████████████████████\u001B[0m| 74/74 [00:12<00:00,  5.89batch/s, Loss: 0.3868 | Precision: 84.54%]\u001B[0m\n"
     ]
    },
    {
     "name": "stdout",
     "output_type": "stream",
     "text": [
      "Epoch 14 | Avg Loss: 0.3427 | Avg Precision: 84.25% | Patience: 2\n"
     ]
    },
    {
     "name": "stderr",
     "output_type": "stream",
     "text": [
      "Train: 100%|\u001B[32m████████████████████████\u001B[0m| 295/295 [00:58<00:00,  5.06batch/s, Loss: 0.2245 | Precision: 84.34%]\u001B[0m\n"
     ]
    },
    {
     "name": "stdout",
     "output_type": "stream",
     "text": [
      "Epoch 15 | Avg Loss: 0.3346 | Avg Precision: 84.25%\n"
     ]
    },
    {
     "name": "stderr",
     "output_type": "stream",
     "text": [
      "Train: 100%|\u001B[32m████████████████████████\u001B[0m| 295/295 [00:58<00:00,  5.06batch/s, Loss: 0.2065 | Precision: 84.53%]\u001B[0m\n"
     ]
    },
    {
     "name": "stdout",
     "output_type": "stream",
     "text": [
      "Epoch 16 | Avg Loss: 0.3318 | Avg Precision: 84.40%\n"
     ]
    },
    {
     "name": "stderr",
     "output_type": "stream",
     "text": [
      "Validate: 100%|\u001B[34m███████████████████████\u001B[0m| 74/74 [00:12<00:00,  5.81batch/s, Loss: 0.3755 | Precision: 85.00%]\u001B[0m\n"
     ]
    },
    {
     "name": "stdout",
     "output_type": "stream",
     "text": [
      "Epoch 16 | Avg Loss: 0.3315 | Avg Precision: 84.84% | Patience: 0\n"
     ]
    },
    {
     "name": "stderr",
     "output_type": "stream",
     "text": [
      "Train: 100%|\u001B[32m████████████████████████\u001B[0m| 295/295 [00:58<00:00,  5.05batch/s, Loss: 0.2353 | Precision: 84.49%]\u001B[0m\n"
     ]
    },
    {
     "name": "stdout",
     "output_type": "stream",
     "text": [
      "Epoch 17 | Avg Loss: 0.3316 | Avg Precision: 84.38%\n"
     ]
    },
    {
     "name": "stderr",
     "output_type": "stream",
     "text": [
      "Train: 100%|\u001B[32m████████████████████████\u001B[0m| 295/295 [00:57<00:00,  5.10batch/s, Loss: 0.2886 | Precision: 84.66%]\u001B[0m\n"
     ]
    },
    {
     "name": "stdout",
     "output_type": "stream",
     "text": [
      "Epoch 18 | Avg Loss: 0.3298 | Avg Precision: 84.59%\n"
     ]
    },
    {
     "name": "stderr",
     "output_type": "stream",
     "text": [
      "Validate: 100%|\u001B[34m███████████████████████\u001B[0m| 74/74 [00:12<00:00,  5.94batch/s, Loss: 0.3601 | Precision: 85.01%]\u001B[0m\n"
     ]
    },
    {
     "name": "stdout",
     "output_type": "stream",
     "text": [
      "Epoch 18 | Avg Loss: 0.3263 | Avg Precision: 84.84% | Patience: 1\n"
     ]
    },
    {
     "name": "stderr",
     "output_type": "stream",
     "text": [
      "Train: 100%|\u001B[32m████████████████████████\u001B[0m| 295/295 [00:57<00:00,  5.09batch/s, Loss: 0.2982 | Precision: 84.72%]\u001B[0m\n"
     ]
    },
    {
     "name": "stdout",
     "output_type": "stream",
     "text": [
      "Epoch 19 | Avg Loss: 0.3290 | Avg Precision: 84.67%\n"
     ]
    },
    {
     "name": "stderr",
     "output_type": "stream",
     "text": [
      "Train: 100%|\u001B[32m████████████████████████\u001B[0m| 295/295 [00:57<00:00,  5.10batch/s, Loss: 0.2601 | Precision: 84.79%]\u001B[0m\n"
     ]
    },
    {
     "name": "stdout",
     "output_type": "stream",
     "text": [
      "Epoch 20 | Avg Loss: 0.3262 | Avg Precision: 84.70%\n"
     ]
    },
    {
     "name": "stderr",
     "output_type": "stream",
     "text": [
      "Validate: 100%|\u001B[34m███████████████████████\u001B[0m| 74/74 [00:12<00:00,  5.89batch/s, Loss: 0.3542 | Precision: 84.95%]\u001B[0m\n"
     ]
    },
    {
     "name": "stdout",
     "output_type": "stream",
     "text": [
      "Epoch 20 | Avg Loss: 0.3277 | Avg Precision: 84.85% | Patience: 0\n"
     ]
    },
    {
     "name": "stderr",
     "output_type": "stream",
     "text": [
      "Train: 100%|\u001B[32m████████████████████████\u001B[0m| 295/295 [00:57<00:00,  5.12batch/s, Loss: 0.2730 | Precision: 84.96%]\u001B[0m\n"
     ]
    },
    {
     "name": "stdout",
     "output_type": "stream",
     "text": [
      "Epoch 21 | Avg Loss: 0.3243 | Avg Precision: 84.92%\n"
     ]
    },
    {
     "name": "stderr",
     "output_type": "stream",
     "text": [
      "Train: 100%|\u001B[32m████████████████████████\u001B[0m| 295/295 [00:57<00:00,  5.09batch/s, Loss: 0.2717 | Precision: 85.00%]\u001B[0m\n"
     ]
    },
    {
     "name": "stdout",
     "output_type": "stream",
     "text": [
      "Epoch 22 | Avg Loss: 0.3234 | Avg Precision: 85.03%\n"
     ]
    },
    {
     "name": "stderr",
     "output_type": "stream",
     "text": [
      "Validate: 100%|\u001B[34m███████████████████████\u001B[0m| 74/74 [00:12<00:00,  5.85batch/s, Loss: 0.3454 | Precision: 85.52%]\u001B[0m\n"
     ]
    },
    {
     "name": "stdout",
     "output_type": "stream",
     "text": [
      "Epoch 22 | Avg Loss: 0.3166 | Avg Precision: 85.27% | Patience: 0\n"
     ]
    },
    {
     "name": "stderr",
     "output_type": "stream",
     "text": [
      "Train: 100%|\u001B[32m████████████████████████\u001B[0m| 295/295 [00:58<00:00,  5.09batch/s, Loss: 0.2661 | Precision: 85.02%]\u001B[0m\n"
     ]
    },
    {
     "name": "stdout",
     "output_type": "stream",
     "text": [
      "Epoch 23 | Avg Loss: 0.3231 | Avg Precision: 85.02%\n"
     ]
    },
    {
     "name": "stderr",
     "output_type": "stream",
     "text": [
      "Train: 100%|\u001B[32m████████████████████████\u001B[0m| 295/295 [00:58<00:00,  5.03batch/s, Loss: 0.2347 | Precision: 85.03%]\u001B[0m\n"
     ]
    },
    {
     "name": "stdout",
     "output_type": "stream",
     "text": [
      "Epoch 24 | Avg Loss: 0.3220 | Avg Precision: 84.99%\n"
     ]
    },
    {
     "name": "stderr",
     "output_type": "stream",
     "text": [
      "Validate: 100%|\u001B[34m███████████████████████\u001B[0m| 74/74 [00:12<00:00,  5.75batch/s, Loss: 0.3411 | Precision: 84.87%]\u001B[0m\n"
     ]
    },
    {
     "name": "stdout",
     "output_type": "stream",
     "text": [
      "Epoch 24 | Avg Loss: 0.3230 | Avg Precision: 84.66% | Patience: 1\n"
     ]
    },
    {
     "name": "stderr",
     "output_type": "stream",
     "text": [
      "Train: 100%|\u001B[32m████████████████████████\u001B[0m| 295/295 [00:58<00:00,  5.06batch/s, Loss: 0.2478 | Precision: 85.05%]\u001B[0m\n"
     ]
    },
    {
     "name": "stdout",
     "output_type": "stream",
     "text": [
      "Epoch 25 | Avg Loss: 0.3233 | Avg Precision: 85.01%\n"
     ]
    },
    {
     "name": "stderr",
     "output_type": "stream",
     "text": [
      "Train: 100%|\u001B[32m████████████████████████\u001B[0m| 295/295 [00:58<00:00,  5.06batch/s, Loss: 0.2314 | Precision: 85.19%]\u001B[0m\n"
     ]
    },
    {
     "name": "stdout",
     "output_type": "stream",
     "text": [
      "Epoch 26 | Avg Loss: 0.3202 | Avg Precision: 85.14%\n"
     ]
    },
    {
     "name": "stderr",
     "output_type": "stream",
     "text": [
      "Validate: 100%|\u001B[34m███████████████████████\u001B[0m| 74/74 [00:12<00:00,  5.86batch/s, Loss: 0.3380 | Precision: 85.27%]\u001B[0m\n"
     ]
    },
    {
     "name": "stdout",
     "output_type": "stream",
     "text": [
      "Epoch 26 | Avg Loss: 0.3179 | Avg Precision: 85.14% | Patience: 2\n"
     ]
    },
    {
     "name": "stderr",
     "output_type": "stream",
     "text": [
      "Train: 100%|\u001B[32m████████████████████████\u001B[0m| 295/295 [00:58<00:00,  5.06batch/s, Loss: 0.2365 | Precision: 85.35%]\u001B[0m\n"
     ]
    },
    {
     "name": "stdout",
     "output_type": "stream",
     "text": [
      "Epoch 27 | Avg Loss: 0.3178 | Avg Precision: 85.31%\n"
     ]
    },
    {
     "name": "stderr",
     "output_type": "stream",
     "text": [
      "Train: 100%|\u001B[32m████████████████████████\u001B[0m| 295/295 [00:58<00:00,  5.07batch/s, Loss: 0.2501 | Precision: 85.34%]\u001B[0m\n"
     ]
    },
    {
     "name": "stdout",
     "output_type": "stream",
     "text": [
      "Epoch 28 | Avg Loss: 0.3176 | Avg Precision: 85.24%\n"
     ]
    },
    {
     "name": "stderr",
     "output_type": "stream",
     "text": [
      "Validate: 100%|\u001B[34m███████████████████████\u001B[0m| 74/74 [00:12<00:00,  5.85batch/s, Loss: 0.3416 | Precision: 85.66%]\u001B[0m\n"
     ]
    },
    {
     "name": "stdout",
     "output_type": "stream",
     "text": [
      "Epoch 28 | Avg Loss: 0.3190 | Avg Precision: 85.37% | Patience: 0\n"
     ]
    },
    {
     "name": "stderr",
     "output_type": "stream",
     "text": [
      "Train: 100%|\u001B[32m████████████████████████\u001B[0m| 295/295 [00:58<00:00,  5.08batch/s, Loss: 0.2479 | Precision: 85.41%]\u001B[0m\n"
     ]
    },
    {
     "name": "stdout",
     "output_type": "stream",
     "text": [
      "Epoch 29 | Avg Loss: 0.3180 | Avg Precision: 85.41%\n"
     ]
    },
    {
     "name": "stderr",
     "output_type": "stream",
     "text": [
      "Train: 100%|\u001B[32m████████████████████████\u001B[0m| 295/295 [00:57<00:00,  5.10batch/s, Loss: 0.2562 | Precision: 85.47%]\u001B[0m\n"
     ]
    },
    {
     "name": "stdout",
     "output_type": "stream",
     "text": [
      "Epoch 30 | Avg Loss: 0.3157 | Avg Precision: 85.44%\n"
     ]
    },
    {
     "name": "stderr",
     "output_type": "stream",
     "text": [
      "Validate: 100%|\u001B[34m███████████████████████\u001B[0m| 74/74 [00:12<00:00,  5.84batch/s, Loss: 0.3229 | Precision: 86.45%]\u001B[0m\n"
     ]
    },
    {
     "name": "stdout",
     "output_type": "stream",
     "text": [
      "Epoch 30 | Avg Loss: 0.3076 | Avg Precision: 86.28% | Patience: 0\n"
     ]
    },
    {
     "name": "stderr",
     "output_type": "stream",
     "text": [
      "Train: 100%|\u001B[32m████████████████████████\u001B[0m| 295/295 [00:57<00:00,  5.10batch/s, Loss: 0.2390 | Precision: 85.52%]\u001B[0m\n"
     ]
    },
    {
     "name": "stdout",
     "output_type": "stream",
     "text": [
      "Epoch 31 | Avg Loss: 0.3145 | Avg Precision: 85.48%\n"
     ]
    },
    {
     "name": "stderr",
     "output_type": "stream",
     "text": [
      "Train: 100%|\u001B[32m████████████████████████\u001B[0m| 295/295 [00:58<00:00,  5.06batch/s, Loss: 0.2223 | Precision: 85.52%]\u001B[0m\n"
     ]
    },
    {
     "name": "stdout",
     "output_type": "stream",
     "text": [
      "Epoch 32 | Avg Loss: 0.3146 | Avg Precision: 85.50%\n"
     ]
    },
    {
     "name": "stderr",
     "output_type": "stream",
     "text": [
      "Validate: 100%|\u001B[34m███████████████████████\u001B[0m| 74/74 [00:12<00:00,  5.81batch/s, Loss: 0.3376 | Precision: 86.43%]\u001B[0m\n"
     ]
    },
    {
     "name": "stdout",
     "output_type": "stream",
     "text": [
      "Epoch 32 | Avg Loss: 0.3203 | Avg Precision: 86.21% | Patience: 1\n"
     ]
    },
    {
     "name": "stderr",
     "output_type": "stream",
     "text": [
      "Train: 100%|\u001B[32m████████████████████████\u001B[0m| 295/295 [00:58<00:00,  5.07batch/s, Loss: 0.2423 | Precision: 85.55%]\u001B[0m\n"
     ]
    },
    {
     "name": "stdout",
     "output_type": "stream",
     "text": [
      "Epoch 33 | Avg Loss: 0.3140 | Avg Precision: 85.50%\n"
     ]
    },
    {
     "name": "stderr",
     "output_type": "stream",
     "text": [
      "Train: 100%|\u001B[32m████████████████████████\u001B[0m| 295/295 [00:58<00:00,  5.08batch/s, Loss: 0.2322 | Precision: 85.61%]\u001B[0m\n"
     ]
    },
    {
     "name": "stdout",
     "output_type": "stream",
     "text": [
      "Epoch 34 | Avg Loss: 0.3128 | Avg Precision: 85.59%\n"
     ]
    },
    {
     "name": "stderr",
     "output_type": "stream",
     "text": [
      "Validate: 100%|\u001B[34m███████████████████████\u001B[0m| 74/74 [00:12<00:00,  5.81batch/s, Loss: 0.3183 | Precision: 86.22%]\u001B[0m\n"
     ]
    },
    {
     "name": "stdout",
     "output_type": "stream",
     "text": [
      "Epoch 34 | Avg Loss: 0.3062 | Avg Precision: 86.02% | Patience: 2\n"
     ]
    },
    {
     "name": "stderr",
     "output_type": "stream",
     "text": [
      "Train: 100%|\u001B[32m████████████████████████\u001B[0m| 295/295 [00:58<00:00,  5.07batch/s, Loss: 0.2163 | Precision: 85.75%]\u001B[0m\n"
     ]
    },
    {
     "name": "stdout",
     "output_type": "stream",
     "text": [
      "Epoch 35 | Avg Loss: 0.3107 | Avg Precision: 85.66%\n"
     ]
    },
    {
     "name": "stderr",
     "output_type": "stream",
     "text": [
      "Train: 100%|\u001B[32m████████████████████████\u001B[0m| 295/295 [00:58<00:00,  5.06batch/s, Loss: 0.2407 | Precision: 85.76%]\u001B[0m\n"
     ]
    },
    {
     "name": "stdout",
     "output_type": "stream",
     "text": [
      "Epoch 36 | Avg Loss: 0.3102 | Avg Precision: 85.69%\n"
     ]
    },
    {
     "name": "stderr",
     "output_type": "stream",
     "text": [
      "Validate: 100%|\u001B[34m███████████████████████\u001B[0m| 74/74 [00:12<00:00,  5.75batch/s, Loss: 0.3478 | Precision: 85.95%]\u001B[0m\n"
     ]
    },
    {
     "name": "stdout",
     "output_type": "stream",
     "text": [
      "Epoch 36 | Avg Loss: 0.3209 | Avg Precision: 85.70% | Patience: 3\n"
     ]
    },
    {
     "name": "stderr",
     "output_type": "stream",
     "text": [
      "Train: 100%|\u001B[32m████████████████████████\u001B[0m| 295/295 [00:58<00:00,  5.03batch/s, Loss: 0.2466 | Precision: 85.78%]\u001B[0m\n"
     ]
    },
    {
     "name": "stdout",
     "output_type": "stream",
     "text": [
      "Epoch 37 | Avg Loss: 0.3099 | Avg Precision: 85.68%\n"
     ]
    },
    {
     "name": "stderr",
     "output_type": "stream",
     "text": [
      "Train: 100%|\u001B[32m████████████████████████\u001B[0m| 295/295 [00:57<00:00,  5.11batch/s, Loss: 0.2382 | Precision: 85.83%]\u001B[0m\n"
     ]
    },
    {
     "name": "stdout",
     "output_type": "stream",
     "text": [
      "Epoch 38 | Avg Loss: 0.3092 | Avg Precision: 85.75%\n"
     ]
    },
    {
     "name": "stderr",
     "output_type": "stream",
     "text": [
      "Validate: 100%|\u001B[34m███████████████████████\u001B[0m| 74/74 [00:12<00:00,  5.85batch/s, Loss: 0.3358 | Precision: 86.42%]\u001B[0m\n"
     ]
    },
    {
     "name": "stdout",
     "output_type": "stream",
     "text": [
      "Epoch 38 | Avg Loss: 0.3114 | Avg Precision: 86.21% | Patience: 4\n"
     ]
    },
    {
     "name": "stderr",
     "output_type": "stream",
     "text": [
      "Train: 100%|\u001B[32m████████████████████████\u001B[0m| 295/295 [00:57<00:00,  5.13batch/s, Loss: 0.2288 | Precision: 85.94%]\u001B[0m\n"
     ]
    },
    {
     "name": "stdout",
     "output_type": "stream",
     "text": [
      "Epoch 39 | Avg Loss: 0.3069 | Avg Precision: 85.90%\n"
     ]
    },
    {
     "name": "stderr",
     "output_type": "stream",
     "text": [
      "Train: 100%|\u001B[32m████████████████████████\u001B[0m| 295/295 [00:57<00:00,  5.09batch/s, Loss: 0.2269 | Precision: 85.97%]\u001B[0m\n"
     ]
    },
    {
     "name": "stdout",
     "output_type": "stream",
     "text": [
      "Epoch 40 | Avg Loss: 0.3068 | Avg Precision: 85.93%\n"
     ]
    },
    {
     "name": "stderr",
     "output_type": "stream",
     "text": [
      "Validate: 100%|\u001B[34m███████████████████████\u001B[0m| 74/74 [00:12<00:00,  5.84batch/s, Loss: 0.3311 | Precision: 86.29%]\u001B[0m\n"
     ]
    },
    {
     "name": "stdout",
     "output_type": "stream",
     "text": [
      "Epoch 40 | Avg Loss: 0.3164 | Avg Precision: 86.10% | Patience: 5\n"
     ]
    },
    {
     "name": "stderr",
     "output_type": "stream",
     "text": [
      "Train: 100%|\u001B[32m████████████████████████\u001B[0m| 295/295 [00:57<00:00,  5.10batch/s, Loss: 0.2435 | Precision: 86.03%]\u001B[0m\n"
     ]
    },
    {
     "name": "stdout",
     "output_type": "stream",
     "text": [
      "Epoch 41 | Avg Loss: 0.3059 | Avg Precision: 85.97%\n"
     ]
    },
    {
     "name": "stderr",
     "output_type": "stream",
     "text": [
      "Train: 100%|\u001B[32m████████████████████████\u001B[0m| 295/295 [00:57<00:00,  5.09batch/s, Loss: 0.2323 | Precision: 86.06%]\u001B[0m\n"
     ]
    },
    {
     "name": "stdout",
     "output_type": "stream",
     "text": [
      "Epoch 42 | Avg Loss: 0.3050 | Avg Precision: 85.99%\n"
     ]
    },
    {
     "name": "stderr",
     "output_type": "stream",
     "text": [
      "Validate: 100%|\u001B[34m███████████████████████\u001B[0m| 74/74 [00:12<00:00,  5.83batch/s, Loss: 0.3202 | Precision: 86.23%]\u001B[0m\n"
     ]
    },
    {
     "name": "stdout",
     "output_type": "stream",
     "text": [
      "Epoch 42 | Avg Loss: 0.3170 | Avg Precision: 86.12% | Patience: 6\n"
     ]
    },
    {
     "name": "stderr",
     "output_type": "stream",
     "text": [
      "Train: 100%|\u001B[32m████████████████████████\u001B[0m| 295/295 [00:57<00:00,  5.09batch/s, Loss: 0.2397 | Precision: 86.11%]\u001B[0m\n"
     ]
    },
    {
     "name": "stdout",
     "output_type": "stream",
     "text": [
      "Epoch 43 | Avg Loss: 0.3040 | Avg Precision: 86.09%\n"
     ]
    },
    {
     "name": "stderr",
     "output_type": "stream",
     "text": [
      "Train: 100%|\u001B[32m████████████████████████\u001B[0m| 295/295 [00:58<00:00,  5.08batch/s, Loss: 0.2315 | Precision: 86.15%]\u001B[0m\n"
     ]
    },
    {
     "name": "stdout",
     "output_type": "stream",
     "text": [
      "Epoch 44 | Avg Loss: 0.3033 | Avg Precision: 86.18%\n"
     ]
    },
    {
     "name": "stderr",
     "output_type": "stream",
     "text": [
      "Validate: 100%|\u001B[34m███████████████████████\u001B[0m| 74/74 [00:12<00:00,  5.91batch/s, Loss: 0.3209 | Precision: 86.80%]\u001B[0m\n"
     ]
    },
    {
     "name": "stdout",
     "output_type": "stream",
     "text": [
      "Epoch 44 | Avg Loss: 0.3106 | Avg Precision: 86.63% | Patience: 0\n"
     ]
    },
    {
     "name": "stderr",
     "output_type": "stream",
     "text": [
      "Train: 100%|\u001B[32m████████████████████████\u001B[0m| 295/295 [00:57<00:00,  5.14batch/s, Loss: 0.2328 | Precision: 86.16%]\u001B[0m\n"
     ]
    },
    {
     "name": "stdout",
     "output_type": "stream",
     "text": [
      "Epoch 45 | Avg Loss: 0.3029 | Avg Precision: 86.12%\n"
     ]
    },
    {
     "name": "stderr",
     "output_type": "stream",
     "text": [
      "Train: 100%|\u001B[32m████████████████████████\u001B[0m| 295/295 [00:58<00:00,  5.09batch/s, Loss: 0.2614 | Precision: 86.24%]\u001B[0m\n"
     ]
    },
    {
     "name": "stdout",
     "output_type": "stream",
     "text": [
      "Epoch 46 | Avg Loss: 0.3016 | Avg Precision: 86.24%\n"
     ]
    },
    {
     "name": "stderr",
     "output_type": "stream",
     "text": [
      "Validate: 100%|\u001B[34m███████████████████████\u001B[0m| 74/74 [00:12<00:00,  5.82batch/s, Loss: 0.3096 | Precision: 86.41%]\u001B[0m\n"
     ]
    },
    {
     "name": "stdout",
     "output_type": "stream",
     "text": [
      "Epoch 46 | Avg Loss: 0.3122 | Avg Precision: 86.14% | Patience: 1\n"
     ]
    },
    {
     "name": "stderr",
     "output_type": "stream",
     "text": [
      "Train: 100%|\u001B[32m████████████████████████\u001B[0m| 295/295 [00:57<00:00,  5.13batch/s, Loss: 0.2272 | Precision: 86.25%]\u001B[0m\n"
     ]
    },
    {
     "name": "stdout",
     "output_type": "stream",
     "text": [
      "Epoch 47 | Avg Loss: 0.3012 | Avg Precision: 86.23%\n"
     ]
    },
    {
     "name": "stderr",
     "output_type": "stream",
     "text": [
      "Train: 100%|\u001B[32m████████████████████████\u001B[0m| 295/295 [00:57<00:00,  5.12batch/s, Loss: 0.2308 | Precision: 86.26%]\u001B[0m\n"
     ]
    },
    {
     "name": "stdout",
     "output_type": "stream",
     "text": [
      "Epoch 48 | Avg Loss: 0.3012 | Avg Precision: 86.29%\n"
     ]
    },
    {
     "name": "stderr",
     "output_type": "stream",
     "text": [
      "Validate: 100%|\u001B[34m███████████████████████\u001B[0m| 74/74 [00:12<00:00,  5.75batch/s, Loss: 0.3183 | Precision: 86.54%]\u001B[0m\n"
     ]
    },
    {
     "name": "stdout",
     "output_type": "stream",
     "text": [
      "Epoch 48 | Avg Loss: 0.3113 | Avg Precision: 86.37% | Patience: 2\n"
     ]
    },
    {
     "name": "stderr",
     "output_type": "stream",
     "text": [
      "Train: 100%|\u001B[32m████████████████████████\u001B[0m| 295/295 [00:57<00:00,  5.10batch/s, Loss: 0.2161 | Precision: 86.38%]\u001B[0m\n"
     ]
    },
    {
     "name": "stdout",
     "output_type": "stream",
     "text": [
      "Epoch 49 | Avg Loss: 0.2994 | Avg Precision: 86.35%\n"
     ]
    },
    {
     "name": "stderr",
     "output_type": "stream",
     "text": [
      "Train: 100%|\u001B[32m████████████████████████\u001B[0m| 295/295 [00:57<00:00,  5.13batch/s, Loss: 0.2270 | Precision: 86.37%]\u001B[0m\n"
     ]
    },
    {
     "name": "stdout",
     "output_type": "stream",
     "text": [
      "Epoch 50 | Avg Loss: 0.2992 | Avg Precision: 86.37%\n"
     ]
    },
    {
     "name": "stderr",
     "output_type": "stream",
     "text": [
      "Validate: 100%|\u001B[34m███████████████████████\u001B[0m| 74/74 [00:12<00:00,  5.91batch/s, Loss: 0.3121 | Precision: 86.15%]\u001B[0m\n"
     ]
    },
    {
     "name": "stdout",
     "output_type": "stream",
     "text": [
      "Epoch 50 | Avg Loss: 0.3081 | Avg Precision: 85.91% | Patience: 3\n"
     ]
    },
    {
     "name": "stderr",
     "output_type": "stream",
     "text": [
      "Train: 100%|\u001B[32m████████████████████████\u001B[0m| 295/295 [00:57<00:00,  5.12batch/s, Loss: 0.2046 | Precision: 86.42%]\u001B[0m\n"
     ]
    },
    {
     "name": "stdout",
     "output_type": "stream",
     "text": [
      "Epoch 51 | Avg Loss: 0.2988 | Avg Precision: 86.40%\n"
     ]
    },
    {
     "name": "stderr",
     "output_type": "stream",
     "text": [
      "Train: 100%|\u001B[32m████████████████████████\u001B[0m| 295/295 [00:58<00:00,  5.07batch/s, Loss: 0.2324 | Precision: 86.40%]\u001B[0m\n"
     ]
    },
    {
     "name": "stdout",
     "output_type": "stream",
     "text": [
      "Epoch 52 | Avg Loss: 0.2990 | Avg Precision: 86.33%\n"
     ]
    },
    {
     "name": "stderr",
     "output_type": "stream",
     "text": [
      "Validate: 100%|\u001B[34m███████████████████████\u001B[0m| 74/74 [00:12<00:00,  5.81batch/s, Loss: 0.3054 | Precision: 86.60%]\u001B[0m\n"
     ]
    },
    {
     "name": "stdout",
     "output_type": "stream",
     "text": [
      "Epoch 52 | Avg Loss: 0.3038 | Avg Precision: 86.44% | Patience: 4\n"
     ]
    },
    {
     "name": "stderr",
     "output_type": "stream",
     "text": [
      "Train: 100%|\u001B[32m████████████████████████\u001B[0m| 295/295 [00:57<00:00,  5.09batch/s, Loss: 0.2162 | Precision: 86.50%]\u001B[0m\n"
     ]
    },
    {
     "name": "stdout",
     "output_type": "stream",
     "text": [
      "Epoch 53 | Avg Loss: 0.2974 | Avg Precision: 86.47%\n"
     ]
    },
    {
     "name": "stderr",
     "output_type": "stream",
     "text": [
      "Train: 100%|\u001B[32m████████████████████████\u001B[0m| 295/295 [00:57<00:00,  5.10batch/s, Loss: 0.2210 | Precision: 86.51%]\u001B[0m\n"
     ]
    },
    {
     "name": "stdout",
     "output_type": "stream",
     "text": [
      "Epoch 54 | Avg Loss: 0.2970 | Avg Precision: 86.46%\n"
     ]
    },
    {
     "name": "stderr",
     "output_type": "stream",
     "text": [
      "Validate: 100%|\u001B[34m███████████████████████\u001B[0m| 74/74 [00:12<00:00,  5.94batch/s, Loss: 0.3079 | Precision: 86.41%]\u001B[0m\n"
     ]
    },
    {
     "name": "stdout",
     "output_type": "stream",
     "text": [
      "Epoch 54 | Avg Loss: 0.3049 | Avg Precision: 86.20% | Patience: 5\n"
     ]
    },
    {
     "name": "stderr",
     "output_type": "stream",
     "text": [
      "Train: 100%|\u001B[32m████████████████████████\u001B[0m| 295/295 [00:57<00:00,  5.13batch/s, Loss: 0.2187 | Precision: 86.53%]\u001B[0m\n"
     ]
    },
    {
     "name": "stdout",
     "output_type": "stream",
     "text": [
      "Epoch 55 | Avg Loss: 0.2964 | Avg Precision: 86.51%\n"
     ]
    },
    {
     "name": "stderr",
     "output_type": "stream",
     "text": [
      "Train: 100%|\u001B[32m████████████████████████\u001B[0m| 295/295 [00:57<00:00,  5.13batch/s, Loss: 0.2273 | Precision: 86.59%]\u001B[0m\n"
     ]
    },
    {
     "name": "stdout",
     "output_type": "stream",
     "text": [
      "Epoch 56 | Avg Loss: 0.2964 | Avg Precision: 86.59%\n"
     ]
    },
    {
     "name": "stderr",
     "output_type": "stream",
     "text": [
      "Validate: 100%|\u001B[34m███████████████████████\u001B[0m| 74/74 [00:12<00:00,  5.96batch/s, Loss: 0.3094 | Precision: 86.62%]\u001B[0m\n"
     ]
    },
    {
     "name": "stdout",
     "output_type": "stream",
     "text": [
      "Epoch 56 | Avg Loss: 0.3066 | Avg Precision: 86.50% | Patience: 6\n"
     ]
    },
    {
     "name": "stderr",
     "output_type": "stream",
     "text": [
      "Train: 100%|\u001B[32m████████████████████████\u001B[0m| 295/295 [00:57<00:00,  5.14batch/s, Loss: 0.2240 | Precision: 86.68%]\u001B[0m\n"
     ]
    },
    {
     "name": "stdout",
     "output_type": "stream",
     "text": [
      "Epoch 57 | Avg Loss: 0.2946 | Avg Precision: 86.66%\n"
     ]
    },
    {
     "name": "stderr",
     "output_type": "stream",
     "text": [
      "Train: 100%|\u001B[32m████████████████████████\u001B[0m| 295/295 [00:57<00:00,  5.13batch/s, Loss: 0.2292 | Precision: 86.65%]\u001B[0m\n"
     ]
    },
    {
     "name": "stdout",
     "output_type": "stream",
     "text": [
      "Epoch 58 | Avg Loss: 0.2944 | Avg Precision: 86.60%\n"
     ]
    },
    {
     "name": "stderr",
     "output_type": "stream",
     "text": [
      "Validate: 100%|\u001B[34m███████████████████████\u001B[0m| 74/74 [00:12<00:00,  5.96batch/s, Loss: 0.3049 | Precision: 86.75%]\u001B[0m\n"
     ]
    },
    {
     "name": "stdout",
     "output_type": "stream",
     "text": [
      "Epoch 58 | Avg Loss: 0.3027 | Avg Precision: 86.55% | Patience: 7\n"
     ]
    },
    {
     "name": "stderr",
     "output_type": "stream",
     "text": [
      "Train: 100%|\u001B[32m████████████████████████\u001B[0m| 295/295 [00:57<00:00,  5.14batch/s, Loss: 0.2182 | Precision: 86.70%]\u001B[0m\n"
     ]
    },
    {
     "name": "stdout",
     "output_type": "stream",
     "text": [
      "Epoch 59 | Avg Loss: 0.2941 | Avg Precision: 86.64%\n"
     ]
    },
    {
     "name": "stderr",
     "output_type": "stream",
     "text": [
      "Train: 100%|\u001B[32m████████████████████████\u001B[0m| 295/295 [00:57<00:00,  5.13batch/s, Loss: 0.2234 | Precision: 86.71%]\u001B[0m\n"
     ]
    },
    {
     "name": "stdout",
     "output_type": "stream",
     "text": [
      "Epoch 60 | Avg Loss: 0.2942 | Avg Precision: 86.68%\n"
     ]
    },
    {
     "name": "stderr",
     "output_type": "stream",
     "text": [
      "Validate: 100%|\u001B[34m███████████████████████\u001B[0m| 74/74 [00:12<00:00,  5.96batch/s, Loss: 0.3006 | Precision: 86.86%]\u001B[0m\n"
     ]
    },
    {
     "name": "stdout",
     "output_type": "stream",
     "text": [
      "Epoch 60 | Avg Loss: 0.3003 | Avg Precision: 86.64% | Patience: 0\n"
     ]
    },
    {
     "name": "stderr",
     "output_type": "stream",
     "text": [
      "Train: 100%|\u001B[32m████████████████████████\u001B[0m| 295/295 [00:57<00:00,  5.15batch/s, Loss: 0.2351 | Precision: 86.71%]\u001B[0m\n"
     ]
    },
    {
     "name": "stdout",
     "output_type": "stream",
     "text": [
      "Epoch 61 | Avg Loss: 0.2941 | Avg Precision: 86.65%\n"
     ]
    },
    {
     "name": "stderr",
     "output_type": "stream",
     "text": [
      "Train: 100%|\u001B[32m████████████████████████\u001B[0m| 295/295 [00:57<00:00,  5.13batch/s, Loss: 0.2264 | Precision: 86.71%]\u001B[0m\n"
     ]
    },
    {
     "name": "stdout",
     "output_type": "stream",
     "text": [
      "Epoch 62 | Avg Loss: 0.2936 | Avg Precision: 86.61%\n"
     ]
    },
    {
     "name": "stderr",
     "output_type": "stream",
     "text": [
      "Validate: 100%|\u001B[34m███████████████████████\u001B[0m| 74/74 [00:12<00:00,  5.88batch/s, Loss: 0.2969 | Precision: 86.90%]\u001B[0m\n"
     ]
    },
    {
     "name": "stdout",
     "output_type": "stream",
     "text": [
      "Epoch 62 | Avg Loss: 0.3030 | Avg Precision: 86.80% | Patience: 0\n"
     ]
    },
    {
     "name": "stderr",
     "output_type": "stream",
     "text": [
      "Train: 100%|\u001B[32m████████████████████████\u001B[0m| 295/295 [00:57<00:00,  5.12batch/s, Loss: 0.2309 | Precision: 86.72%]\u001B[0m\n"
     ]
    },
    {
     "name": "stdout",
     "output_type": "stream",
     "text": [
      "Epoch 63 | Avg Loss: 0.2936 | Avg Precision: 86.66%\n"
     ]
    },
    {
     "name": "stderr",
     "output_type": "stream",
     "text": [
      "Train: 100%|\u001B[32m████████████████████████\u001B[0m| 295/295 [00:57<00:00,  5.13batch/s, Loss: 0.2435 | Precision: 86.78%]\u001B[0m\n"
     ]
    },
    {
     "name": "stdout",
     "output_type": "stream",
     "text": [
      "Epoch 64 | Avg Loss: 0.2927 | Avg Precision: 86.77%\n"
     ]
    },
    {
     "name": "stderr",
     "output_type": "stream",
     "text": [
      "Validate: 100%|\u001B[34m███████████████████████\u001B[0m| 74/74 [00:12<00:00,  5.86batch/s, Loss: 0.2967 | Precision: 86.89%]\u001B[0m\n"
     ]
    },
    {
     "name": "stdout",
     "output_type": "stream",
     "text": [
      "Epoch 64 | Avg Loss: 0.3005 | Avg Precision: 86.74% | Patience: 1\n"
     ]
    },
    {
     "name": "stderr",
     "output_type": "stream",
     "text": [
      "Train: 100%|\u001B[32m████████████████████████\u001B[0m| 295/295 [00:57<00:00,  5.13batch/s, Loss: 0.2258 | Precision: 86.74%]\u001B[0m\n"
     ]
    },
    {
     "name": "stdout",
     "output_type": "stream",
     "text": [
      "Epoch 65 | Avg Loss: 0.2930 | Avg Precision: 86.65%\n"
     ]
    },
    {
     "name": "stderr",
     "output_type": "stream",
     "text": [
      "Train: 100%|\u001B[32m████████████████████████\u001B[0m| 295/295 [00:57<00:00,  5.12batch/s, Loss: 0.2305 | Precision: 86.80%]\u001B[0m\n"
     ]
    },
    {
     "name": "stdout",
     "output_type": "stream",
     "text": [
      "Epoch 66 | Avg Loss: 0.2924 | Avg Precision: 86.71%\n"
     ]
    },
    {
     "name": "stderr",
     "output_type": "stream",
     "text": [
      "Validate: 100%|\u001B[34m███████████████████████\u001B[0m| 74/74 [00:12<00:00,  5.86batch/s, Loss: 0.3058 | Precision: 87.08%]\u001B[0m\n"
     ]
    },
    {
     "name": "stdout",
     "output_type": "stream",
     "text": [
      "Epoch 66 | Avg Loss: 0.3044 | Avg Precision: 86.96% | Patience: 0\n"
     ]
    },
    {
     "name": "stderr",
     "output_type": "stream",
     "text": [
      "Train: 100%|\u001B[32m████████████████████████\u001B[0m| 295/295 [00:57<00:00,  5.13batch/s, Loss: 0.2395 | Precision: 86.82%]\u001B[0m\n"
     ]
    },
    {
     "name": "stdout",
     "output_type": "stream",
     "text": [
      "Epoch 67 | Avg Loss: 0.2926 | Avg Precision: 86.74%\n"
     ]
    },
    {
     "name": "stderr",
     "output_type": "stream",
     "text": [
      "Train: 100%|\u001B[32m████████████████████████\u001B[0m| 295/295 [00:57<00:00,  5.12batch/s, Loss: 0.2355 | Precision: 86.82%]\u001B[0m\n"
     ]
    },
    {
     "name": "stdout",
     "output_type": "stream",
     "text": [
      "Epoch 68 | Avg Loss: 0.2924 | Avg Precision: 86.75%\n"
     ]
    },
    {
     "name": "stderr",
     "output_type": "stream",
     "text": [
      "Validate: 100%|\u001B[34m███████████████████████\u001B[0m| 74/74 [00:12<00:00,  5.82batch/s, Loss: 0.3050 | Precision: 86.86%]\u001B[0m\n"
     ]
    },
    {
     "name": "stdout",
     "output_type": "stream",
     "text": [
      "Epoch 68 | Avg Loss: 0.2999 | Avg Precision: 86.72% | Patience: 1\n"
     ]
    },
    {
     "name": "stderr",
     "output_type": "stream",
     "text": [
      "Train: 100%|\u001B[32m████████████████████████\u001B[0m| 295/295 [00:57<00:00,  5.13batch/s, Loss: 0.2401 | Precision: 86.80%]\u001B[0m\n"
     ]
    },
    {
     "name": "stdout",
     "output_type": "stream",
     "text": [
      "Epoch 69 | Avg Loss: 0.2924 | Avg Precision: 86.73%\n"
     ]
    },
    {
     "name": "stderr",
     "output_type": "stream",
     "text": [
      "Train: 100%|\u001B[32m████████████████████████\u001B[0m| 295/295 [00:57<00:00,  5.14batch/s, Loss: 0.2326 | Precision: 86.80%]\u001B[0m\n"
     ]
    },
    {
     "name": "stdout",
     "output_type": "stream",
     "text": [
      "Epoch 70 | Avg Loss: 0.2925 | Avg Precision: 86.77%\n"
     ]
    },
    {
     "name": "stderr",
     "output_type": "stream",
     "text": [
      "Validate: 100%|\u001B[34m███████████████████████\u001B[0m| 74/74 [00:12<00:00,  5.86batch/s, Loss: 0.2986 | Precision: 86.56%]\u001B[0m\n"
     ]
    },
    {
     "name": "stdout",
     "output_type": "stream",
     "text": [
      "Epoch 70 | Avg Loss: 0.3021 | Avg Precision: 86.41% | Patience: 2\n"
     ]
    },
    {
     "name": "stderr",
     "output_type": "stream",
     "text": [
      "Train: 100%|\u001B[32m████████████████████████\u001B[0m| 295/295 [00:57<00:00,  5.17batch/s, Loss: 0.2272 | Precision: 86.89%]\u001B[0m\n"
     ]
    },
    {
     "name": "stdout",
     "output_type": "stream",
     "text": [
      "Epoch 71 | Avg Loss: 0.2910 | Avg Precision: 86.83%\n"
     ]
    },
    {
     "name": "stderr",
     "output_type": "stream",
     "text": [
      "Train: 100%|\u001B[32m████████████████████████\u001B[0m| 295/295 [00:56<00:00,  5.23batch/s, Loss: 0.2378 | Precision: 86.88%]\u001B[0m\n"
     ]
    },
    {
     "name": "stdout",
     "output_type": "stream",
     "text": [
      "Epoch 72 | Avg Loss: 0.2908 | Avg Precision: 86.92%\n"
     ]
    },
    {
     "name": "stderr",
     "output_type": "stream",
     "text": [
      "Validate: 100%|\u001B[34m███████████████████████\u001B[0m| 74/74 [00:12<00:00,  6.02batch/s, Loss: 0.2882 | Precision: 87.17%]\u001B[0m\n"
     ]
    },
    {
     "name": "stdout",
     "output_type": "stream",
     "text": [
      "Epoch 72 | Avg Loss: 0.2941 | Avg Precision: 87.13% | Patience: 0\n"
     ]
    },
    {
     "name": "stderr",
     "output_type": "stream",
     "text": [
      "Train: 100%|\u001B[32m████████████████████████\u001B[0m| 295/295 [00:56<00:00,  5.25batch/s, Loss: 0.2317 | Precision: 86.90%]\u001B[0m\n"
     ]
    },
    {
     "name": "stdout",
     "output_type": "stream",
     "text": [
      "Epoch 73 | Avg Loss: 0.2904 | Avg Precision: 86.94%\n"
     ]
    },
    {
     "name": "stderr",
     "output_type": "stream",
     "text": [
      "Train: 100%|\u001B[32m████████████████████████\u001B[0m| 295/295 [00:56<00:00,  5.24batch/s, Loss: 0.2446 | Precision: 86.89%]\u001B[0m\n"
     ]
    },
    {
     "name": "stdout",
     "output_type": "stream",
     "text": [
      "Epoch 74 | Avg Loss: 0.2902 | Avg Precision: 86.94%\n"
     ]
    },
    {
     "name": "stderr",
     "output_type": "stream",
     "text": [
      "Validate: 100%|\u001B[34m███████████████████████\u001B[0m| 74/74 [00:12<00:00,  5.94batch/s, Loss: 0.2946 | Precision: 86.91%]\u001B[0m\n"
     ]
    },
    {
     "name": "stdout",
     "output_type": "stream",
     "text": [
      "Epoch 74 | Avg Loss: 0.2949 | Avg Precision: 86.86% | Patience: 1\n"
     ]
    },
    {
     "name": "stderr",
     "output_type": "stream",
     "text": [
      "Train: 100%|\u001B[32m████████████████████████\u001B[0m| 295/295 [00:56<00:00,  5.24batch/s, Loss: 0.2407 | Precision: 86.91%]\u001B[0m\n"
     ]
    },
    {
     "name": "stdout",
     "output_type": "stream",
     "text": [
      "Epoch 75 | Avg Loss: 0.2902 | Avg Precision: 86.94%\n"
     ]
    },
    {
     "name": "stderr",
     "output_type": "stream",
     "text": [
      "Train: 100%|\u001B[32m████████████████████████\u001B[0m| 295/295 [00:56<00:00,  5.25batch/s, Loss: 0.2232 | Precision: 86.89%]\u001B[0m\n"
     ]
    },
    {
     "name": "stdout",
     "output_type": "stream",
     "text": [
      "Epoch 76 | Avg Loss: 0.2901 | Avg Precision: 86.92%\n"
     ]
    },
    {
     "name": "stderr",
     "output_type": "stream",
     "text": [
      "Validate: 100%|\u001B[34m███████████████████████\u001B[0m| 74/74 [00:12<00:00,  6.03batch/s, Loss: 0.2897 | Precision: 86.76%]\u001B[0m\n"
     ]
    },
    {
     "name": "stdout",
     "output_type": "stream",
     "text": [
      "Epoch 76 | Avg Loss: 0.2906 | Avg Precision: 86.70% | Patience: 2\n"
     ]
    },
    {
     "name": "stderr",
     "output_type": "stream",
     "text": [
      "Train: 100%|\u001B[32m████████████████████████\u001B[0m| 295/295 [00:56<00:00,  5.27batch/s, Loss: 0.2332 | Precision: 86.98%]\u001B[0m\n"
     ]
    },
    {
     "name": "stdout",
     "output_type": "stream",
     "text": [
      "Epoch 77 | Avg Loss: 0.2888 | Avg Precision: 87.01%\n"
     ]
    },
    {
     "name": "stderr",
     "output_type": "stream",
     "text": [
      "Train: 100%|\u001B[32m████████████████████████\u001B[0m| 295/295 [00:56<00:00,  5.22batch/s, Loss: 0.2230 | Precision: 87.04%]\u001B[0m\n"
     ]
    },
    {
     "name": "stdout",
     "output_type": "stream",
     "text": [
      "Epoch 78 | Avg Loss: 0.2880 | Avg Precision: 87.06%\n"
     ]
    },
    {
     "name": "stderr",
     "output_type": "stream",
     "text": [
      "Validate: 100%|\u001B[34m███████████████████████\u001B[0m| 74/74 [00:12<00:00,  6.08batch/s, Loss: 0.2964 | Precision: 86.98%]\u001B[0m\n"
     ]
    },
    {
     "name": "stdout",
     "output_type": "stream",
     "text": [
      "Epoch 78 | Avg Loss: 0.2885 | Avg Precision: 86.93% | Patience: 3\n"
     ]
    },
    {
     "name": "stderr",
     "output_type": "stream",
     "text": [
      "Train: 100%|\u001B[32m████████████████████████\u001B[0m| 295/295 [00:56<00:00,  5.26batch/s, Loss: 0.2249 | Precision: 87.07%]\u001B[0m\n"
     ]
    },
    {
     "name": "stdout",
     "output_type": "stream",
     "text": [
      "Epoch 79 | Avg Loss: 0.2876 | Avg Precision: 87.13%\n"
     ]
    },
    {
     "name": "stderr",
     "output_type": "stream",
     "text": [
      "Train: 100%|\u001B[32m████████████████████████\u001B[0m| 295/295 [00:56<00:00,  5.19batch/s, Loss: 0.2206 | Precision: 87.06%]\u001B[0m\n"
     ]
    },
    {
     "name": "stdout",
     "output_type": "stream",
     "text": [
      "Epoch 80 | Avg Loss: 0.2874 | Avg Precision: 87.08%\n"
     ]
    },
    {
     "name": "stderr",
     "output_type": "stream",
     "text": [
      "Validate: 100%|\u001B[34m███████████████████████\u001B[0m| 74/74 [00:12<00:00,  5.98batch/s, Loss: 0.3014 | Precision: 86.75%]\u001B[0m\n"
     ]
    },
    {
     "name": "stdout",
     "output_type": "stream",
     "text": [
      "Epoch 80 | Avg Loss: 0.2924 | Avg Precision: 86.66% | Patience: 4\n"
     ]
    },
    {
     "name": "stderr",
     "output_type": "stream",
     "text": [
      "Train: 100%|\u001B[32m████████████████████████\u001B[0m| 295/295 [00:56<00:00,  5.23batch/s, Loss: 0.2238 | Precision: 87.15%]\u001B[0m\n"
     ]
    },
    {
     "name": "stdout",
     "output_type": "stream",
     "text": [
      "Epoch 81 | Avg Loss: 0.2864 | Avg Precision: 87.17%\n"
     ]
    },
    {
     "name": "stderr",
     "output_type": "stream",
     "text": [
      "Train: 100%|\u001B[32m████████████████████████\u001B[0m| 295/295 [00:56<00:00,  5.24batch/s, Loss: 0.2152 | Precision: 87.20%]\u001B[0m\n"
     ]
    },
    {
     "name": "stdout",
     "output_type": "stream",
     "text": [
      "Epoch 82 | Avg Loss: 0.2856 | Avg Precision: 87.22%\n"
     ]
    },
    {
     "name": "stderr",
     "output_type": "stream",
     "text": [
      "Validate: 100%|\u001B[34m███████████████████████\u001B[0m| 74/74 [00:12<00:00,  6.00batch/s, Loss: 0.2920 | Precision: 86.85%]\u001B[0m\n"
     ]
    },
    {
     "name": "stdout",
     "output_type": "stream",
     "text": [
      "Epoch 82 | Avg Loss: 0.2897 | Avg Precision: 86.74% | Patience: 5\n"
     ]
    },
    {
     "name": "stderr",
     "output_type": "stream",
     "text": [
      "Train: 100%|\u001B[32m████████████████████████\u001B[0m| 295/295 [00:56<00:00,  5.25batch/s, Loss: 0.2178 | Precision: 87.20%]\u001B[0m\n"
     ]
    },
    {
     "name": "stdout",
     "output_type": "stream",
     "text": [
      "Epoch 83 | Avg Loss: 0.2853 | Avg Precision: 87.25%\n"
     ]
    },
    {
     "name": "stderr",
     "output_type": "stream",
     "text": [
      "Train: 100%|\u001B[32m████████████████████████\u001B[0m| 295/295 [00:56<00:00,  5.22batch/s, Loss: 0.2229 | Precision: 87.18%]\u001B[0m\n"
     ]
    },
    {
     "name": "stdout",
     "output_type": "stream",
     "text": [
      "Epoch 84 | Avg Loss: 0.2854 | Avg Precision: 87.21%\n"
     ]
    },
    {
     "name": "stderr",
     "output_type": "stream",
     "text": [
      "Validate: 100%|\u001B[34m███████████████████████\u001B[0m| 74/74 [00:12<00:00,  6.06batch/s, Loss: 0.2926 | Precision: 86.85%]\u001B[0m\n"
     ]
    },
    {
     "name": "stdout",
     "output_type": "stream",
     "text": [
      "Epoch 84 | Avg Loss: 0.2907 | Avg Precision: 86.75% | Patience: 6\n"
     ]
    },
    {
     "name": "stderr",
     "output_type": "stream",
     "text": [
      "Train: 100%|\u001B[32m████████████████████████\u001B[0m| 295/295 [00:55<00:00,  5.27batch/s, Loss: 0.2138 | Precision: 87.27%]\u001B[0m\n"
     ]
    },
    {
     "name": "stdout",
     "output_type": "stream",
     "text": [
      "Epoch 85 | Avg Loss: 0.2843 | Avg Precision: 87.28%\n"
     ]
    },
    {
     "name": "stderr",
     "output_type": "stream",
     "text": [
      "Train: 100%|\u001B[32m████████████████████████\u001B[0m| 295/295 [00:56<00:00,  5.26batch/s, Loss: 0.2116 | Precision: 87.28%]\u001B[0m\n"
     ]
    },
    {
     "name": "stdout",
     "output_type": "stream",
     "text": [
      "Epoch 86 | Avg Loss: 0.2838 | Avg Precision: 87.27%\n"
     ]
    },
    {
     "name": "stderr",
     "output_type": "stream",
     "text": [
      "Validate: 100%|\u001B[34m███████████████████████\u001B[0m| 74/74 [00:12<00:00,  6.12batch/s, Loss: 0.2889 | Precision: 87.16%]\u001B[0m\n"
     ]
    },
    {
     "name": "stdout",
     "output_type": "stream",
     "text": [
      "Epoch 86 | Avg Loss: 0.2887 | Avg Precision: 87.14% | Patience: 0\n"
     ]
    },
    {
     "name": "stderr",
     "output_type": "stream",
     "text": [
      "Train: 100%|\u001B[32m████████████████████████\u001B[0m| 295/295 [00:56<00:00,  5.26batch/s, Loss: 0.2178 | Precision: 87.26%]\u001B[0m\n"
     ]
    },
    {
     "name": "stdout",
     "output_type": "stream",
     "text": [
      "Epoch 87 | Avg Loss: 0.2840 | Avg Precision: 87.26%\n"
     ]
    },
    {
     "name": "stderr",
     "output_type": "stream",
     "text": [
      "Train: 100%|\u001B[32m████████████████████████\u001B[0m| 295/295 [00:56<00:00,  5.25batch/s, Loss: 0.2071 | Precision: 87.31%]\u001B[0m\n"
     ]
    },
    {
     "name": "stdout",
     "output_type": "stream",
     "text": [
      "Epoch 88 | Avg Loss: 0.2833 | Avg Precision: 87.34%\n"
     ]
    },
    {
     "name": "stderr",
     "output_type": "stream",
     "text": [
      "Validate: 100%|\u001B[34m███████████████████████\u001B[0m| 74/74 [00:12<00:00,  6.04batch/s, Loss: 0.2891 | Precision: 87.13%]\u001B[0m\n"
     ]
    },
    {
     "name": "stdout",
     "output_type": "stream",
     "text": [
      "Epoch 88 | Avg Loss: 0.2884 | Avg Precision: 87.14% | Patience: 0\n"
     ]
    },
    {
     "name": "stderr",
     "output_type": "stream",
     "text": [
      "Train: 100%|\u001B[32m████████████████████████\u001B[0m| 295/295 [00:56<00:00,  5.26batch/s, Loss: 0.2080 | Precision: 87.35%]\u001B[0m\n"
     ]
    },
    {
     "name": "stdout",
     "output_type": "stream",
     "text": [
      "Epoch 89 | Avg Loss: 0.2827 | Avg Precision: 87.36%\n"
     ]
    },
    {
     "name": "stderr",
     "output_type": "stream",
     "text": [
      "Train: 100%|\u001B[32m████████████████████████\u001B[0m| 295/295 [00:56<00:00,  5.25batch/s, Loss: 0.2085 | Precision: 87.39%]\u001B[0m\n"
     ]
    },
    {
     "name": "stdout",
     "output_type": "stream",
     "text": [
      "Epoch 90 | Avg Loss: 0.2824 | Avg Precision: 87.39%\n"
     ]
    },
    {
     "name": "stderr",
     "output_type": "stream",
     "text": [
      "Validate: 100%|\u001B[34m███████████████████████\u001B[0m| 74/74 [00:12<00:00,  6.11batch/s, Loss: 0.2901 | Precision: 87.26%]\u001B[0m\n"
     ]
    },
    {
     "name": "stdout",
     "output_type": "stream",
     "text": [
      "Epoch 90 | Avg Loss: 0.2866 | Avg Precision: 87.25% | Patience: 0\n"
     ]
    },
    {
     "name": "stderr",
     "output_type": "stream",
     "text": [
      "Train: 100%|\u001B[32m████████████████████████\u001B[0m| 295/295 [00:56<00:00,  5.25batch/s, Loss: 0.2065 | Precision: 87.37%]\u001B[0m\n"
     ]
    },
    {
     "name": "stdout",
     "output_type": "stream",
     "text": [
      "Epoch 91 | Avg Loss: 0.2823 | Avg Precision: 87.39%\n"
     ]
    },
    {
     "name": "stderr",
     "output_type": "stream",
     "text": [
      "Train: 100%|\u001B[32m████████████████████████\u001B[0m| 295/295 [00:56<00:00,  5.25batch/s, Loss: 0.2136 | Precision: 87.39%]\u001B[0m\n"
     ]
    },
    {
     "name": "stdout",
     "output_type": "stream",
     "text": [
      "Epoch 92 | Avg Loss: 0.2819 | Avg Precision: 87.40%\n"
     ]
    },
    {
     "name": "stderr",
     "output_type": "stream",
     "text": [
      "Validate: 100%|\u001B[34m███████████████████████\u001B[0m| 74/74 [00:12<00:00,  6.00batch/s, Loss: 0.2870 | Precision: 87.37%]\u001B[0m\n"
     ]
    },
    {
     "name": "stdout",
     "output_type": "stream",
     "text": [
      "Epoch 92 | Avg Loss: 0.2874 | Avg Precision: 87.33% | Patience: 0\n"
     ]
    },
    {
     "name": "stderr",
     "output_type": "stream",
     "text": [
      "Train: 100%|\u001B[32m████████████████████████\u001B[0m| 295/295 [00:55<00:00,  5.27batch/s, Loss: 0.2115 | Precision: 87.41%]\u001B[0m\n"
     ]
    },
    {
     "name": "stdout",
     "output_type": "stream",
     "text": [
      "Epoch 93 | Avg Loss: 0.2818 | Avg Precision: 87.43%\n"
     ]
    },
    {
     "name": "stderr",
     "output_type": "stream",
     "text": [
      "Train: 100%|\u001B[32m████████████████████████\u001B[0m| 295/295 [00:56<00:00,  5.24batch/s, Loss: 0.2070 | Precision: 87.40%]\u001B[0m\n"
     ]
    },
    {
     "name": "stdout",
     "output_type": "stream",
     "text": [
      "Epoch 94 | Avg Loss: 0.2818 | Avg Precision: 87.42%\n"
     ]
    },
    {
     "name": "stderr",
     "output_type": "stream",
     "text": [
      "Validate: 100%|\u001B[34m███████████████████████\u001B[0m| 74/74 [00:12<00:00,  6.03batch/s, Loss: 0.2880 | Precision: 87.34%]\u001B[0m\n"
     ]
    },
    {
     "name": "stdout",
     "output_type": "stream",
     "text": [
      "Epoch 94 | Avg Loss: 0.2863 | Avg Precision: 87.34% | Patience: 0\n"
     ]
    },
    {
     "name": "stderr",
     "output_type": "stream",
     "text": [
      "Train: 100%|\u001B[32m████████████████████████\u001B[0m| 295/295 [00:56<00:00,  5.27batch/s, Loss: 0.2090 | Precision: 87.41%]\u001B[0m\n"
     ]
    },
    {
     "name": "stdout",
     "output_type": "stream",
     "text": [
      "Epoch 95 | Avg Loss: 0.2815 | Avg Precision: 87.44%\n"
     ]
    },
    {
     "name": "stderr",
     "output_type": "stream",
     "text": [
      "Train: 100%|\u001B[32m████████████████████████\u001B[0m| 295/295 [00:56<00:00,  5.25batch/s, Loss: 0.2137 | Precision: 87.41%]\u001B[0m\n"
     ]
    },
    {
     "name": "stdout",
     "output_type": "stream",
     "text": [
      "Epoch 96 | Avg Loss: 0.2813 | Avg Precision: 87.42%\n"
     ]
    },
    {
     "name": "stderr",
     "output_type": "stream",
     "text": [
      "Validate: 100%|\u001B[34m███████████████████████\u001B[0m| 74/74 [00:12<00:00,  5.98batch/s, Loss: 0.2869 | Precision: 87.35%]\u001B[0m\n"
     ]
    },
    {
     "name": "stdout",
     "output_type": "stream",
     "text": [
      "Epoch 96 | Avg Loss: 0.2860 | Avg Precision: 87.32% | Patience: 1\n"
     ]
    },
    {
     "name": "stderr",
     "output_type": "stream",
     "text": [
      "Train: 100%|\u001B[32m████████████████████████\u001B[0m| 295/295 [00:56<00:00,  5.26batch/s, Loss: 0.2101 | Precision: 87.48%]\u001B[0m\n"
     ]
    },
    {
     "name": "stdout",
     "output_type": "stream",
     "text": [
      "Epoch 97 | Avg Loss: 0.2806 | Avg Precision: 87.48%\n"
     ]
    },
    {
     "name": "stderr",
     "output_type": "stream",
     "text": [
      "Train: 100%|\u001B[32m████████████████████████\u001B[0m| 295/295 [00:56<00:00,  5.25batch/s, Loss: 0.2148 | Precision: 87.45%]\u001B[0m\n"
     ]
    },
    {
     "name": "stdout",
     "output_type": "stream",
     "text": [
      "Epoch 98 | Avg Loss: 0.2805 | Avg Precision: 87.48%\n"
     ]
    },
    {
     "name": "stderr",
     "output_type": "stream",
     "text": [
      "Validate: 100%|\u001B[34m███████████████████████\u001B[0m| 74/74 [00:12<00:00,  6.04batch/s, Loss: 0.2873 | Precision: 87.39%]\u001B[0m\n"
     ]
    },
    {
     "name": "stdout",
     "output_type": "stream",
     "text": [
      "Epoch 98 | Avg Loss: 0.2847 | Avg Precision: 87.38% | Patience: 0\n"
     ]
    },
    {
     "name": "stderr",
     "output_type": "stream",
     "text": [
      "Train: 100%|\u001B[32m████████████████████████\u001B[0m| 295/295 [00:56<00:00,  5.25batch/s, Loss: 0.2125 | Precision: 87.48%]\u001B[0m\n"
     ]
    },
    {
     "name": "stdout",
     "output_type": "stream",
     "text": [
      "Epoch 99 | Avg Loss: 0.2803 | Avg Precision: 87.47%\n"
     ]
    },
    {
     "name": "stderr",
     "output_type": "stream",
     "text": [
      "Train: 100%|\u001B[32m████████████████████████\u001B[0m| 295/295 [00:56<00:00,  5.23batch/s, Loss: 0.2192 | Precision: 87.48%]\u001B[0m\n"
     ]
    },
    {
     "name": "stdout",
     "output_type": "stream",
     "text": [
      "Epoch 100 | Avg Loss: 0.2802 | Avg Precision: 87.48%\n"
     ]
    },
    {
     "name": "stderr",
     "output_type": "stream",
     "text": [
      "Validate: 100%|\u001B[34m███████████████████████\u001B[0m| 74/74 [00:12<00:00,  6.04batch/s, Loss: 0.2867 | Precision: 87.41%]\u001B[0m"
     ]
    },
    {
     "name": "stdout",
     "output_type": "stream",
     "text": [
      "Epoch 100 | Avg Loss: 0.2841 | Avg Precision: 87.40% | Patience: 0\n",
      "Training Complete - Best Precision: 87.40%\n"
     ]
    },
    {
     "name": "stderr",
     "output_type": "stream",
     "text": [
      "\n"
     ]
    }
   ],
   "source": [
    "model = Gru(9, 100, 1, 4)\n",
    "model = model.to(device)\n",
    "criterion = nn.CrossEntropyLoss()\n",
    "optimizer = optim.Adam(model.parameters(), lr=.01)\n",
    "scheduler = ReduceLROnPlateau(optimizer, 'max', factor=.9, patience=1, min_lr=.001)\n",
    "\n",
    "\n",
    "model9 = train_validate(model, criterion, optimizer, scheduler)\n",
    "torch.save(model9.state_dict(), '.\\\\models\\\\downsample\\\\gru\\\\model9.pth')"
   ]
  },
  {
   "cell_type": "markdown",
   "id": "9f668e3e-6e7a-4b63-87fa-81f3d0949ba9",
   "metadata": {
    "jp-MarkdownHeadingCollapsed": true
   },
   "source": [
    "#### Model 10 - Added ELU before Linear Layer"
   ]
  },
  {
   "cell_type": "code",
   "execution_count": 23,
   "id": "2bce9117-ef29-48b7-9e75-f2d5b15acb1a",
   "metadata": {},
   "outputs": [
    {
     "name": "stderr",
     "output_type": "stream",
     "text": [
      "Train: 100%|\u001B[32m████████████████████████\u001B[0m| 295/295 [01:04<00:00,  4.60batch/s, Loss: 0.5572 | Precision: 76.16%]\u001B[0m\n"
     ]
    },
    {
     "name": "stdout",
     "output_type": "stream",
     "text": [
      "Epoch 1 | Avg Loss: 0.4847 | Avg Precision: 72.60%\n"
     ]
    },
    {
     "name": "stderr",
     "output_type": "stream",
     "text": [
      "Train: 100%|\u001B[32m████████████████████████\u001B[0m| 295/295 [01:03<00:00,  4.62batch/s, Loss: 0.4972 | Precision: 80.49%]\u001B[0m\n"
     ]
    },
    {
     "name": "stdout",
     "output_type": "stream",
     "text": [
      "Epoch 2 | Avg Loss: 0.4043 | Avg Precision: 80.08%\n"
     ]
    },
    {
     "name": "stderr",
     "output_type": "stream",
     "text": [
      "Validate: 100%|\u001B[34m███████████████████████\u001B[0m| 74/74 [00:12<00:00,  6.07batch/s, Loss: 0.4601 | Precision: 77.54%]\u001B[0m\n"
     ]
    },
    {
     "name": "stdout",
     "output_type": "stream",
     "text": [
      "Epoch 2 | Avg Loss: 0.4310 | Avg Precision: 77.10% | Patience: 0\n"
     ]
    },
    {
     "name": "stderr",
     "output_type": "stream",
     "text": [
      "Train: 100%|\u001B[32m████████████████████████\u001B[0m| 295/295 [01:02<00:00,  4.69batch/s, Loss: 0.3347 | Precision: 80.89%]\u001B[0m\n"
     ]
    },
    {
     "name": "stdout",
     "output_type": "stream",
     "text": [
      "Epoch 3 | Avg Loss: 0.3980 | Avg Precision: 80.45%\n"
     ]
    },
    {
     "name": "stderr",
     "output_type": "stream",
     "text": [
      "Train: 100%|\u001B[32m████████████████████████\u001B[0m| 295/295 [01:02<00:00,  4.68batch/s, Loss: 0.3243 | Precision: 81.52%]\u001B[0m\n"
     ]
    },
    {
     "name": "stdout",
     "output_type": "stream",
     "text": [
      "Epoch 4 | Avg Loss: 0.3871 | Avg Precision: 81.39%\n"
     ]
    },
    {
     "name": "stderr",
     "output_type": "stream",
     "text": [
      "Validate: 100%|\u001B[34m███████████████████████\u001B[0m| 74/74 [00:12<00:00,  6.02batch/s, Loss: 0.4076 | Precision: 81.70%]\u001B[0m\n"
     ]
    },
    {
     "name": "stdout",
     "output_type": "stream",
     "text": [
      "Epoch 4 | Avg Loss: 0.3821 | Avg Precision: 81.38% | Patience: 0\n"
     ]
    },
    {
     "name": "stderr",
     "output_type": "stream",
     "text": [
      "Train: 100%|\u001B[32m████████████████████████\u001B[0m| 295/295 [01:02<00:00,  4.70batch/s, Loss: 0.3181 | Precision: 81.96%]\u001B[0m\n"
     ]
    },
    {
     "name": "stdout",
     "output_type": "stream",
     "text": [
      "Epoch 5 | Avg Loss: 0.3787 | Avg Precision: 81.85%\n"
     ]
    },
    {
     "name": "stderr",
     "output_type": "stream",
     "text": [
      "Train: 100%|\u001B[32m████████████████████████\u001B[0m| 295/295 [01:03<00:00,  4.63batch/s, Loss: 0.2722 | Precision: 82.39%]\u001B[0m\n"
     ]
    },
    {
     "name": "stdout",
     "output_type": "stream",
     "text": [
      "Epoch 6 | Avg Loss: 0.3720 | Avg Precision: 82.23%\n"
     ]
    },
    {
     "name": "stderr",
     "output_type": "stream",
     "text": [
      "Validate: 100%|\u001B[34m███████████████████████\u001B[0m| 74/74 [00:12<00:00,  5.97batch/s, Loss: 0.3880 | Precision: 83.22%]\u001B[0m\n"
     ]
    },
    {
     "name": "stdout",
     "output_type": "stream",
     "text": [
      "Epoch 6 | Avg Loss: 0.3668 | Avg Precision: 82.99% | Patience: 0\n"
     ]
    },
    {
     "name": "stderr",
     "output_type": "stream",
     "text": [
      "Train: 100%|\u001B[32m████████████████████████\u001B[0m| 295/295 [01:03<00:00,  4.66batch/s, Loss: 0.2279 | Precision: 82.83%]\u001B[0m\n"
     ]
    },
    {
     "name": "stdout",
     "output_type": "stream",
     "text": [
      "Epoch 7 | Avg Loss: 0.3620 | Avg Precision: 82.75%\n"
     ]
    },
    {
     "name": "stderr",
     "output_type": "stream",
     "text": [
      "Train: 100%|\u001B[32m████████████████████████\u001B[0m| 295/295 [01:03<00:00,  4.65batch/s, Loss: 0.2356 | Precision: 83.12%]\u001B[0m\n"
     ]
    },
    {
     "name": "stdout",
     "output_type": "stream",
     "text": [
      "Epoch 8 | Avg Loss: 0.3574 | Avg Precision: 83.04%\n"
     ]
    },
    {
     "name": "stderr",
     "output_type": "stream",
     "text": [
      "Validate: 100%|\u001B[34m███████████████████████\u001B[0m| 74/74 [00:12<00:00,  5.91batch/s, Loss: 0.3920 | Precision: 83.54%]\u001B[0m\n"
     ]
    },
    {
     "name": "stdout",
     "output_type": "stream",
     "text": [
      "Epoch 8 | Avg Loss: 0.3622 | Avg Precision: 83.27% | Patience: 0\n"
     ]
    },
    {
     "name": "stderr",
     "output_type": "stream",
     "text": [
      "Train: 100%|\u001B[32m████████████████████████\u001B[0m| 295/295 [01:03<00:00,  4.67batch/s, Loss: 0.2856 | Precision: 83.33%]\u001B[0m\n"
     ]
    },
    {
     "name": "stdout",
     "output_type": "stream",
     "text": [
      "Epoch 9 | Avg Loss: 0.3528 | Avg Precision: 83.28%\n"
     ]
    },
    {
     "name": "stderr",
     "output_type": "stream",
     "text": [
      "Train: 100%|\u001B[32m████████████████████████\u001B[0m| 295/295 [01:03<00:00,  4.68batch/s, Loss: 0.3063 | Precision: 83.48%]\u001B[0m\n"
     ]
    },
    {
     "name": "stdout",
     "output_type": "stream",
     "text": [
      "Epoch 10 | Avg Loss: 0.3506 | Avg Precision: 83.39%\n"
     ]
    },
    {
     "name": "stderr",
     "output_type": "stream",
     "text": [
      "Validate: 100%|\u001B[34m███████████████████████\u001B[0m| 74/74 [00:12<00:00,  6.00batch/s, Loss: 0.3702 | Precision: 83.45%]\u001B[0m\n"
     ]
    },
    {
     "name": "stdout",
     "output_type": "stream",
     "text": [
      "Epoch 10 | Avg Loss: 0.3491 | Avg Precision: 83.20% | Patience: 1\n"
     ]
    },
    {
     "name": "stderr",
     "output_type": "stream",
     "text": [
      "Train: 100%|\u001B[32m████████████████████████\u001B[0m| 295/295 [01:02<00:00,  4.70batch/s, Loss: 0.2552 | Precision: 83.71%]\u001B[0m\n"
     ]
    },
    {
     "name": "stdout",
     "output_type": "stream",
     "text": [
      "Epoch 11 | Avg Loss: 0.3461 | Avg Precision: 83.58%\n"
     ]
    },
    {
     "name": "stderr",
     "output_type": "stream",
     "text": [
      "Train: 100%|\u001B[32m████████████████████████\u001B[0m| 295/295 [01:03<00:00,  4.67batch/s, Loss: 0.3063 | Precision: 83.83%]\u001B[0m\n"
     ]
    },
    {
     "name": "stdout",
     "output_type": "stream",
     "text": [
      "Epoch 12 | Avg Loss: 0.3443 | Avg Precision: 83.77%\n"
     ]
    },
    {
     "name": "stderr",
     "output_type": "stream",
     "text": [
      "Validate: 100%|\u001B[34m███████████████████████\u001B[0m| 74/74 [00:12<00:00,  6.02batch/s, Loss: 0.3779 | Precision: 81.86%]\u001B[0m\n"
     ]
    },
    {
     "name": "stdout",
     "output_type": "stream",
     "text": [
      "Epoch 12 | Avg Loss: 0.3642 | Avg Precision: 81.54% | Patience: 2\n"
     ]
    },
    {
     "name": "stderr",
     "output_type": "stream",
     "text": [
      "Train: 100%|\u001B[32m████████████████████████\u001B[0m| 295/295 [01:02<00:00,  4.69batch/s, Loss: 0.2220 | Precision: 84.11%]\u001B[0m\n"
     ]
    },
    {
     "name": "stdout",
     "output_type": "stream",
     "text": [
      "Epoch 13 | Avg Loss: 0.3391 | Avg Precision: 83.88%\n"
     ]
    },
    {
     "name": "stderr",
     "output_type": "stream",
     "text": [
      "Train: 100%|\u001B[32m████████████████████████\u001B[0m| 295/295 [01:03<00:00,  4.68batch/s, Loss: 0.2331 | Precision: 84.22%]\u001B[0m\n"
     ]
    },
    {
     "name": "stdout",
     "output_type": "stream",
     "text": [
      "Epoch 14 | Avg Loss: 0.3369 | Avg Precision: 84.09%\n"
     ]
    },
    {
     "name": "stderr",
     "output_type": "stream",
     "text": [
      "Validate: 100%|\u001B[34m███████████████████████\u001B[0m| 74/74 [00:12<00:00,  5.98batch/s, Loss: 0.3712 | Precision: 83.84%]\u001B[0m\n"
     ]
    },
    {
     "name": "stdout",
     "output_type": "stream",
     "text": [
      "Epoch 14 | Avg Loss: 0.3452 | Avg Precision: 83.58% | Patience: 0\n"
     ]
    },
    {
     "name": "stderr",
     "output_type": "stream",
     "text": [
      "Train: 100%|\u001B[32m████████████████████████\u001B[0m| 295/295 [01:02<00:00,  4.69batch/s, Loss: 0.1966 | Precision: 84.38%]\u001B[0m\n"
     ]
    },
    {
     "name": "stdout",
     "output_type": "stream",
     "text": [
      "Epoch 15 | Avg Loss: 0.3343 | Avg Precision: 84.26%\n"
     ]
    },
    {
     "name": "stderr",
     "output_type": "stream",
     "text": [
      "Train: 100%|\u001B[32m████████████████████████\u001B[0m| 295/295 [01:02<00:00,  4.69batch/s, Loss: 0.1763 | Precision: 84.45%]\u001B[0m\n"
     ]
    },
    {
     "name": "stdout",
     "output_type": "stream",
     "text": [
      "Epoch 16 | Avg Loss: 0.3329 | Avg Precision: 84.40%\n"
     ]
    },
    {
     "name": "stderr",
     "output_type": "stream",
     "text": [
      "Validate: 100%|\u001B[34m███████████████████████\u001B[0m| 74/74 [00:12<00:00,  5.97batch/s, Loss: 0.3629 | Precision: 84.62%]\u001B[0m\n"
     ]
    },
    {
     "name": "stdout",
     "output_type": "stream",
     "text": [
      "Epoch 16 | Avg Loss: 0.3419 | Avg Precision: 84.37% | Patience: 0\n"
     ]
    },
    {
     "name": "stderr",
     "output_type": "stream",
     "text": [
      "Train: 100%|\u001B[32m████████████████████████\u001B[0m| 295/295 [01:02<00:00,  4.69batch/s, Loss: 0.2102 | Precision: 84.61%]\u001B[0m\n"
     ]
    },
    {
     "name": "stdout",
     "output_type": "stream",
     "text": [
      "Epoch 17 | Avg Loss: 0.3303 | Avg Precision: 84.56%\n"
     ]
    },
    {
     "name": "stderr",
     "output_type": "stream",
     "text": [
      "Train: 100%|\u001B[32m████████████████████████\u001B[0m| 295/295 [01:03<00:00,  4.68batch/s, Loss: 0.2044 | Precision: 84.64%]\u001B[0m\n"
     ]
    },
    {
     "name": "stdout",
     "output_type": "stream",
     "text": [
      "Epoch 18 | Avg Loss: 0.3286 | Avg Precision: 84.46%\n"
     ]
    },
    {
     "name": "stderr",
     "output_type": "stream",
     "text": [
      "Validate: 100%|\u001B[34m███████████████████████\u001B[0m| 74/74 [00:12<00:00,  6.00batch/s, Loss: 0.3521 | Precision: 84.62%]\u001B[0m\n"
     ]
    },
    {
     "name": "stdout",
     "output_type": "stream",
     "text": [
      "Epoch 18 | Avg Loss: 0.3344 | Avg Precision: 84.44% | Patience: 0\n"
     ]
    },
    {
     "name": "stderr",
     "output_type": "stream",
     "text": [
      "Train: 100%|\u001B[32m████████████████████████\u001B[0m| 295/295 [01:03<00:00,  4.68batch/s, Loss: 0.1934 | Precision: 84.70%]\u001B[0m\n"
     ]
    },
    {
     "name": "stdout",
     "output_type": "stream",
     "text": [
      "Epoch 19 | Avg Loss: 0.3280 | Avg Precision: 84.62%\n"
     ]
    },
    {
     "name": "stderr",
     "output_type": "stream",
     "text": [
      "Train: 100%|\u001B[32m████████████████████████\u001B[0m| 295/295 [01:03<00:00,  4.68batch/s, Loss: 0.1616 | Precision: 84.85%]\u001B[0m\n"
     ]
    },
    {
     "name": "stdout",
     "output_type": "stream",
     "text": [
      "Epoch 20 | Avg Loss: 0.3253 | Avg Precision: 84.86%\n"
     ]
    },
    {
     "name": "stderr",
     "output_type": "stream",
     "text": [
      "Validate: 100%|\u001B[34m███████████████████████\u001B[0m| 74/74 [00:12<00:00,  6.03batch/s, Loss: 0.3505 | Precision: 84.60%]\u001B[0m\n"
     ]
    },
    {
     "name": "stdout",
     "output_type": "stream",
     "text": [
      "Epoch 20 | Avg Loss: 0.3323 | Avg Precision: 84.32% | Patience: 1\n"
     ]
    },
    {
     "name": "stderr",
     "output_type": "stream",
     "text": [
      "Train: 100%|\u001B[32m████████████████████████\u001B[0m| 295/295 [01:02<00:00,  4.68batch/s, Loss: 0.1690 | Precision: 84.84%]\u001B[0m\n"
     ]
    },
    {
     "name": "stdout",
     "output_type": "stream",
     "text": [
      "Epoch 21 | Avg Loss: 0.3250 | Avg Precision: 84.80%\n"
     ]
    },
    {
     "name": "stderr",
     "output_type": "stream",
     "text": [
      "Train: 100%|\u001B[32m████████████████████████\u001B[0m| 295/295 [01:02<00:00,  4.69batch/s, Loss: 0.1560 | Precision: 84.95%]\u001B[0m\n"
     ]
    },
    {
     "name": "stdout",
     "output_type": "stream",
     "text": [
      "Epoch 22 | Avg Loss: 0.3225 | Avg Precision: 84.85%\n"
     ]
    },
    {
     "name": "stderr",
     "output_type": "stream",
     "text": [
      "Validate: 100%|\u001B[34m███████████████████████\u001B[0m| 74/74 [00:12<00:00,  5.97batch/s, Loss: 0.3531 | Precision: 85.23%]\u001B[0m\n"
     ]
    },
    {
     "name": "stdout",
     "output_type": "stream",
     "text": [
      "Epoch 22 | Avg Loss: 0.3309 | Avg Precision: 85.04% | Patience: 0\n"
     ]
    },
    {
     "name": "stderr",
     "output_type": "stream",
     "text": [
      "Train: 100%|\u001B[32m████████████████████████\u001B[0m| 295/295 [01:02<00:00,  4.71batch/s, Loss: 0.1573 | Precision: 85.02%]\u001B[0m\n"
     ]
    },
    {
     "name": "stdout",
     "output_type": "stream",
     "text": [
      "Epoch 23 | Avg Loss: 0.3211 | Avg Precision: 84.92%\n"
     ]
    },
    {
     "name": "stderr",
     "output_type": "stream",
     "text": [
      "Train: 100%|\u001B[32m████████████████████████\u001B[0m| 295/295 [01:02<00:00,  4.70batch/s, Loss: 0.1556 | Precision: 85.07%]\u001B[0m\n"
     ]
    },
    {
     "name": "stdout",
     "output_type": "stream",
     "text": [
      "Epoch 24 | Avg Loss: 0.3203 | Avg Precision: 84.97%\n"
     ]
    },
    {
     "name": "stderr",
     "output_type": "stream",
     "text": [
      "Validate: 100%|\u001B[34m███████████████████████\u001B[0m| 74/74 [00:12<00:00,  6.03batch/s, Loss: 0.3593 | Precision: 84.66%]\u001B[0m\n"
     ]
    },
    {
     "name": "stdout",
     "output_type": "stream",
     "text": [
      "Epoch 24 | Avg Loss: 0.3418 | Avg Precision: 84.49% | Patience: 1\n"
     ]
    },
    {
     "name": "stderr",
     "output_type": "stream",
     "text": [
      "Train: 100%|\u001B[32m████████████████████████\u001B[0m| 295/295 [01:02<00:00,  4.70batch/s, Loss: 0.1615 | Precision: 85.07%]\u001B[0m\n"
     ]
    },
    {
     "name": "stdout",
     "output_type": "stream",
     "text": [
      "Epoch 25 | Avg Loss: 0.3200 | Avg Precision: 84.98%\n"
     ]
    },
    {
     "name": "stderr",
     "output_type": "stream",
     "text": [
      "Train: 100%|\u001B[32m████████████████████████\u001B[0m| 295/295 [01:02<00:00,  4.69batch/s, Loss: 0.1695 | Precision: 85.26%]\u001B[0m\n"
     ]
    },
    {
     "name": "stdout",
     "output_type": "stream",
     "text": [
      "Epoch 26 | Avg Loss: 0.3173 | Avg Precision: 85.21%\n"
     ]
    },
    {
     "name": "stderr",
     "output_type": "stream",
     "text": [
      "Validate: 100%|\u001B[34m███████████████████████\u001B[0m| 74/74 [00:12<00:00,  5.97batch/s, Loss: 0.3502 | Precision: 85.26%]\u001B[0m\n"
     ]
    },
    {
     "name": "stdout",
     "output_type": "stream",
     "text": [
      "Epoch 26 | Avg Loss: 0.3317 | Avg Precision: 85.12% | Patience: 0\n"
     ]
    },
    {
     "name": "stderr",
     "output_type": "stream",
     "text": [
      "Train: 100%|\u001B[32m████████████████████████\u001B[0m| 295/295 [01:02<00:00,  4.70batch/s, Loss: 0.1443 | Precision: 85.32%]\u001B[0m\n"
     ]
    },
    {
     "name": "stdout",
     "output_type": "stream",
     "text": [
      "Epoch 27 | Avg Loss: 0.3159 | Avg Precision: 85.13%\n"
     ]
    },
    {
     "name": "stderr",
     "output_type": "stream",
     "text": [
      "Train: 100%|\u001B[32m████████████████████████\u001B[0m| 295/295 [01:03<00:00,  4.67batch/s, Loss: 0.1456 | Precision: 85.33%]\u001B[0m\n"
     ]
    },
    {
     "name": "stdout",
     "output_type": "stream",
     "text": [
      "Epoch 28 | Avg Loss: 0.3153 | Avg Precision: 85.29%\n"
     ]
    },
    {
     "name": "stderr",
     "output_type": "stream",
     "text": [
      "Validate: 100%|\u001B[34m███████████████████████\u001B[0m| 74/74 [00:12<00:00,  5.99batch/s, Loss: 0.3450 | Precision: 85.24%]\u001B[0m\n"
     ]
    },
    {
     "name": "stdout",
     "output_type": "stream",
     "text": [
      "Epoch 28 | Avg Loss: 0.3220 | Avg Precision: 85.09% | Patience: 1\n"
     ]
    },
    {
     "name": "stderr",
     "output_type": "stream",
     "text": [
      "Train: 100%|\u001B[32m████████████████████████\u001B[0m| 295/295 [01:02<00:00,  4.71batch/s, Loss: 0.1519 | Precision: 85.44%]\u001B[0m\n"
     ]
    },
    {
     "name": "stdout",
     "output_type": "stream",
     "text": [
      "Epoch 29 | Avg Loss: 0.3136 | Avg Precision: 85.31%\n"
     ]
    },
    {
     "name": "stderr",
     "output_type": "stream",
     "text": [
      "Train: 100%|\u001B[32m████████████████████████\u001B[0m| 295/295 [01:02<00:00,  4.70batch/s, Loss: 0.1460 | Precision: 85.57%]\u001B[0m\n"
     ]
    },
    {
     "name": "stdout",
     "output_type": "stream",
     "text": [
      "Epoch 30 | Avg Loss: 0.3120 | Avg Precision: 85.45%\n"
     ]
    },
    {
     "name": "stderr",
     "output_type": "stream",
     "text": [
      "Validate: 100%|\u001B[34m███████████████████████\u001B[0m| 74/74 [00:12<00:00,  6.06batch/s, Loss: 0.3353 | Precision: 85.28%]\u001B[0m\n"
     ]
    },
    {
     "name": "stdout",
     "output_type": "stream",
     "text": [
      "Epoch 30 | Avg Loss: 0.3161 | Avg Precision: 85.09% | Patience: 2\n"
     ]
    },
    {
     "name": "stderr",
     "output_type": "stream",
     "text": [
      "Train: 100%|\u001B[32m████████████████████████\u001B[0m| 295/295 [01:02<00:00,  4.68batch/s, Loss: 0.1687 | Precision: 85.52%]\u001B[0m\n"
     ]
    },
    {
     "name": "stdout",
     "output_type": "stream",
     "text": [
      "Epoch 31 | Avg Loss: 0.3113 | Avg Precision: 85.47%\n"
     ]
    },
    {
     "name": "stderr",
     "output_type": "stream",
     "text": [
      "Train: 100%|\u001B[32m████████████████████████\u001B[0m| 295/295 [01:02<00:00,  4.70batch/s, Loss: 0.1419 | Precision: 85.68%]\u001B[0m\n"
     ]
    },
    {
     "name": "stdout",
     "output_type": "stream",
     "text": [
      "Epoch 32 | Avg Loss: 0.3091 | Avg Precision: 85.63%\n"
     ]
    },
    {
     "name": "stderr",
     "output_type": "stream",
     "text": [
      "Validate: 100%|\u001B[34m███████████████████████\u001B[0m| 74/74 [00:12<00:00,  6.02batch/s, Loss: 0.3320 | Precision: 85.99%]\u001B[0m\n"
     ]
    },
    {
     "name": "stdout",
     "output_type": "stream",
     "text": [
      "Epoch 32 | Avg Loss: 0.3157 | Avg Precision: 85.83% | Patience: 0\n"
     ]
    },
    {
     "name": "stderr",
     "output_type": "stream",
     "text": [
      "Train: 100%|\u001B[32m████████████████████████\u001B[0m| 295/295 [01:02<00:00,  4.70batch/s, Loss: 0.1413 | Precision: 85.65%]\u001B[0m\n"
     ]
    },
    {
     "name": "stdout",
     "output_type": "stream",
     "text": [
      "Epoch 33 | Avg Loss: 0.3094 | Avg Precision: 85.57%\n"
     ]
    },
    {
     "name": "stderr",
     "output_type": "stream",
     "text": [
      "Train: 100%|\u001B[32m████████████████████████\u001B[0m| 295/295 [01:02<00:00,  4.69batch/s, Loss: 0.1531 | Precision: 85.71%]\u001B[0m\n"
     ]
    },
    {
     "name": "stdout",
     "output_type": "stream",
     "text": [
      "Epoch 34 | Avg Loss: 0.3083 | Avg Precision: 85.69%\n"
     ]
    },
    {
     "name": "stderr",
     "output_type": "stream",
     "text": [
      "Validate: 100%|\u001B[34m███████████████████████\u001B[0m| 74/74 [00:12<00:00,  6.05batch/s, Loss: 0.3380 | Precision: 85.70%]\u001B[0m\n"
     ]
    },
    {
     "name": "stdout",
     "output_type": "stream",
     "text": [
      "Epoch 34 | Avg Loss: 0.3144 | Avg Precision: 85.51% | Patience: 1\n"
     ]
    },
    {
     "name": "stderr",
     "output_type": "stream",
     "text": [
      "Train: 100%|\u001B[32m████████████████████████\u001B[0m| 295/295 [01:02<00:00,  4.70batch/s, Loss: 0.1447 | Precision: 85.74%]\u001B[0m\n"
     ]
    },
    {
     "name": "stdout",
     "output_type": "stream",
     "text": [
      "Epoch 35 | Avg Loss: 0.3079 | Avg Precision: 85.71%\n"
     ]
    },
    {
     "name": "stderr",
     "output_type": "stream",
     "text": [
      "Train: 100%|\u001B[32m████████████████████████\u001B[0m| 295/295 [01:02<00:00,  4.70batch/s, Loss: 0.1477 | Precision: 85.74%]\u001B[0m\n"
     ]
    },
    {
     "name": "stdout",
     "output_type": "stream",
     "text": [
      "Epoch 36 | Avg Loss: 0.3074 | Avg Precision: 85.68%\n"
     ]
    },
    {
     "name": "stderr",
     "output_type": "stream",
     "text": [
      "Validate: 100%|\u001B[34m███████████████████████\u001B[0m| 74/74 [00:12<00:00,  6.02batch/s, Loss: 0.3452 | Precision: 85.52%]\u001B[0m\n"
     ]
    },
    {
     "name": "stdout",
     "output_type": "stream",
     "text": [
      "Epoch 36 | Avg Loss: 0.3138 | Avg Precision: 85.33% | Patience: 2\n"
     ]
    },
    {
     "name": "stderr",
     "output_type": "stream",
     "text": [
      "Train: 100%|\u001B[32m████████████████████████\u001B[0m| 295/295 [01:02<00:00,  4.70batch/s, Loss: 0.1426 | Precision: 85.80%]\u001B[0m\n"
     ]
    },
    {
     "name": "stdout",
     "output_type": "stream",
     "text": [
      "Epoch 37 | Avg Loss: 0.3065 | Avg Precision: 85.72%\n"
     ]
    },
    {
     "name": "stderr",
     "output_type": "stream",
     "text": [
      "Train: 100%|\u001B[32m████████████████████████\u001B[0m| 295/295 [01:02<00:00,  4.70batch/s, Loss: 0.1357 | Precision: 85.92%]\u001B[0m\n"
     ]
    },
    {
     "name": "stdout",
     "output_type": "stream",
     "text": [
      "Epoch 38 | Avg Loss: 0.3041 | Avg Precision: 85.94%\n"
     ]
    },
    {
     "name": "stderr",
     "output_type": "stream",
     "text": [
      "Validate: 100%|\u001B[34m███████████████████████\u001B[0m| 74/74 [00:12<00:00,  6.02batch/s, Loss: 0.3303 | Precision: 86.47%]\u001B[0m\n"
     ]
    },
    {
     "name": "stdout",
     "output_type": "stream",
     "text": [
      "Epoch 38 | Avg Loss: 0.3059 | Avg Precision: 86.28% | Patience: 0\n"
     ]
    },
    {
     "name": "stderr",
     "output_type": "stream",
     "text": [
      "Train: 100%|\u001B[32m████████████████████████\u001B[0m| 295/295 [01:02<00:00,  4.71batch/s, Loss: 0.1544 | Precision: 85.99%]\u001B[0m\n"
     ]
    },
    {
     "name": "stdout",
     "output_type": "stream",
     "text": [
      "Epoch 39 | Avg Loss: 0.3029 | Avg Precision: 85.95%\n"
     ]
    },
    {
     "name": "stderr",
     "output_type": "stream",
     "text": [
      "Train: 100%|\u001B[32m████████████████████████\u001B[0m| 295/295 [01:02<00:00,  4.70batch/s, Loss: 0.1321 | Precision: 86.02%]\u001B[0m\n"
     ]
    },
    {
     "name": "stdout",
     "output_type": "stream",
     "text": [
      "Epoch 40 | Avg Loss: 0.3024 | Avg Precision: 86.01%\n"
     ]
    },
    {
     "name": "stderr",
     "output_type": "stream",
     "text": [
      "Validate: 100%|\u001B[34m███████████████████████\u001B[0m| 74/74 [00:12<00:00,  5.92batch/s, Loss: 0.3396 | Precision: 86.29%]\u001B[0m\n"
     ]
    },
    {
     "name": "stdout",
     "output_type": "stream",
     "text": [
      "Epoch 40 | Avg Loss: 0.3117 | Avg Precision: 86.18% | Patience: 1\n"
     ]
    },
    {
     "name": "stderr",
     "output_type": "stream",
     "text": [
      "Train: 100%|\u001B[32m████████████████████████\u001B[0m| 295/295 [01:02<00:00,  4.71batch/s, Loss: 0.1508 | Precision: 86.03%]\u001B[0m\n"
     ]
    },
    {
     "name": "stdout",
     "output_type": "stream",
     "text": [
      "Epoch 41 | Avg Loss: 0.3024 | Avg Precision: 86.01%\n"
     ]
    },
    {
     "name": "stderr",
     "output_type": "stream",
     "text": [
      "Train: 100%|\u001B[32m████████████████████████\u001B[0m| 295/295 [01:02<00:00,  4.69batch/s, Loss: 0.1611 | Precision: 85.96%]\u001B[0m\n"
     ]
    },
    {
     "name": "stdout",
     "output_type": "stream",
     "text": [
      "Epoch 42 | Avg Loss: 0.3035 | Avg Precision: 85.99%\n"
     ]
    },
    {
     "name": "stderr",
     "output_type": "stream",
     "text": [
      "Validate: 100%|\u001B[34m███████████████████████\u001B[0m| 74/74 [00:12<00:00,  6.03batch/s, Loss: 0.3267 | Precision: 85.99%]\u001B[0m\n"
     ]
    },
    {
     "name": "stdout",
     "output_type": "stream",
     "text": [
      "Epoch 42 | Avg Loss: 0.3100 | Avg Precision: 85.83% | Patience: 2\n"
     ]
    },
    {
     "name": "stderr",
     "output_type": "stream",
     "text": [
      "Train: 100%|\u001B[32m████████████████████████\u001B[0m| 295/295 [01:02<00:00,  4.71batch/s, Loss: 0.1516 | Precision: 86.07%]\u001B[0m\n"
     ]
    },
    {
     "name": "stdout",
     "output_type": "stream",
     "text": [
      "Epoch 43 | Avg Loss: 0.3016 | Avg Precision: 85.97%\n"
     ]
    },
    {
     "name": "stderr",
     "output_type": "stream",
     "text": [
      "Train: 100%|\u001B[32m████████████████████████\u001B[0m| 295/295 [01:02<00:00,  4.70batch/s, Loss: 0.1506 | Precision: 86.13%]\u001B[0m\n"
     ]
    },
    {
     "name": "stdout",
     "output_type": "stream",
     "text": [
      "Epoch 44 | Avg Loss: 0.3004 | Avg Precision: 86.09%\n"
     ]
    },
    {
     "name": "stderr",
     "output_type": "stream",
     "text": [
      "Validate: 100%|\u001B[34m███████████████████████\u001B[0m| 74/74 [00:12<00:00,  6.06batch/s, Loss: 0.3326 | Precision: 86.31%]\u001B[0m\n"
     ]
    },
    {
     "name": "stdout",
     "output_type": "stream",
     "text": [
      "Epoch 44 | Avg Loss: 0.3074 | Avg Precision: 86.20% | Patience: 3\n"
     ]
    },
    {
     "name": "stderr",
     "output_type": "stream",
     "text": [
      "Train: 100%|\u001B[32m████████████████████████\u001B[0m| 295/295 [01:02<00:00,  4.72batch/s, Loss: 0.1386 | Precision: 86.12%]\u001B[0m\n"
     ]
    },
    {
     "name": "stdout",
     "output_type": "stream",
     "text": [
      "Epoch 45 | Avg Loss: 0.3001 | Avg Precision: 86.04%\n"
     ]
    },
    {
     "name": "stderr",
     "output_type": "stream",
     "text": [
      "Train: 100%|\u001B[32m████████████████████████\u001B[0m| 295/295 [01:02<00:00,  4.70batch/s, Loss: 0.1402 | Precision: 86.22%]\u001B[0m\n"
     ]
    },
    {
     "name": "stdout",
     "output_type": "stream",
     "text": [
      "Epoch 46 | Avg Loss: 0.2986 | Avg Precision: 86.25%\n"
     ]
    },
    {
     "name": "stderr",
     "output_type": "stream",
     "text": [
      "Validate: 100%|\u001B[34m███████████████████████\u001B[0m| 74/74 [00:12<00:00,  6.00batch/s, Loss: 0.3294 | Precision: 86.73%]\u001B[0m\n"
     ]
    },
    {
     "name": "stdout",
     "output_type": "stream",
     "text": [
      "Epoch 46 | Avg Loss: 0.3025 | Avg Precision: 86.60% | Patience: 0\n"
     ]
    },
    {
     "name": "stderr",
     "output_type": "stream",
     "text": [
      "Train: 100%|\u001B[32m████████████████████████\u001B[0m| 295/295 [01:02<00:00,  4.70batch/s, Loss: 0.1539 | Precision: 86.23%]\u001B[0m\n"
     ]
    },
    {
     "name": "stdout",
     "output_type": "stream",
     "text": [
      "Epoch 47 | Avg Loss: 0.2984 | Avg Precision: 86.18%\n"
     ]
    },
    {
     "name": "stderr",
     "output_type": "stream",
     "text": [
      "Train: 100%|\u001B[32m████████████████████████\u001B[0m| 295/295 [01:02<00:00,  4.71batch/s, Loss: 0.1428 | Precision: 86.19%]\u001B[0m\n"
     ]
    },
    {
     "name": "stdout",
     "output_type": "stream",
     "text": [
      "Epoch 48 | Avg Loss: 0.2993 | Avg Precision: 86.09%\n"
     ]
    },
    {
     "name": "stderr",
     "output_type": "stream",
     "text": [
      "Validate: 100%|\u001B[34m███████████████████████\u001B[0m| 74/74 [00:12<00:00,  5.99batch/s, Loss: 0.3261 | Precision: 86.37%]\u001B[0m\n"
     ]
    },
    {
     "name": "stdout",
     "output_type": "stream",
     "text": [
      "Epoch 48 | Avg Loss: 0.3015 | Avg Precision: 86.21% | Patience: 1\n"
     ]
    },
    {
     "name": "stderr",
     "output_type": "stream",
     "text": [
      "Train: 100%|\u001B[32m████████████████████████\u001B[0m| 295/295 [01:03<00:00,  4.67batch/s, Loss: 0.1569 | Precision: 86.27%]\u001B[0m\n"
     ]
    },
    {
     "name": "stdout",
     "output_type": "stream",
     "text": [
      "Epoch 49 | Avg Loss: 0.2973 | Avg Precision: 86.21%\n"
     ]
    },
    {
     "name": "stderr",
     "output_type": "stream",
     "text": [
      "Train: 100%|\u001B[32m████████████████████████\u001B[0m| 295/295 [01:02<00:00,  4.70batch/s, Loss: 0.1460 | Precision: 86.28%]\u001B[0m\n"
     ]
    },
    {
     "name": "stdout",
     "output_type": "stream",
     "text": [
      "Epoch 50 | Avg Loss: 0.2975 | Avg Precision: 86.21%\n"
     ]
    },
    {
     "name": "stderr",
     "output_type": "stream",
     "text": [
      "Validate: 100%|\u001B[34m███████████████████████\u001B[0m| 74/74 [00:12<00:00,  5.98batch/s, Loss: 0.3238 | Precision: 86.80%]\u001B[0m\n"
     ]
    },
    {
     "name": "stdout",
     "output_type": "stream",
     "text": [
      "Epoch 50 | Avg Loss: 0.3011 | Avg Precision: 86.65% | Patience: 0\n"
     ]
    },
    {
     "name": "stderr",
     "output_type": "stream",
     "text": [
      "Train: 100%|\u001B[32m████████████████████████\u001B[0m| 295/295 [01:02<00:00,  4.71batch/s, Loss: 0.1416 | Precision: 86.23%]\u001B[0m\n"
     ]
    },
    {
     "name": "stdout",
     "output_type": "stream",
     "text": [
      "Epoch 51 | Avg Loss: 0.2975 | Avg Precision: 86.18%\n"
     ]
    },
    {
     "name": "stderr",
     "output_type": "stream",
     "text": [
      "Train: 100%|\u001B[32m████████████████████████\u001B[0m| 295/295 [01:02<00:00,  4.69batch/s, Loss: 0.1340 | Precision: 86.27%]\u001B[0m\n"
     ]
    },
    {
     "name": "stdout",
     "output_type": "stream",
     "text": [
      "Epoch 52 | Avg Loss: 0.2970 | Avg Precision: 86.18%\n"
     ]
    },
    {
     "name": "stderr",
     "output_type": "stream",
     "text": [
      "Validate: 100%|\u001B[34m███████████████████████\u001B[0m| 74/74 [00:12<00:00,  5.95batch/s, Loss: 0.3282 | Precision: 86.56%]\u001B[0m\n"
     ]
    },
    {
     "name": "stdout",
     "output_type": "stream",
     "text": [
      "Epoch 52 | Avg Loss: 0.3012 | Avg Precision: 86.49% | Patience: 1\n"
     ]
    },
    {
     "name": "stderr",
     "output_type": "stream",
     "text": [
      "Train: 100%|\u001B[32m████████████████████████\u001B[0m| 295/295 [01:02<00:00,  4.69batch/s, Loss: 0.1259 | Precision: 86.22%]\u001B[0m\n"
     ]
    },
    {
     "name": "stdout",
     "output_type": "stream",
     "text": [
      "Epoch 53 | Avg Loss: 0.2971 | Avg Precision: 86.20%\n"
     ]
    },
    {
     "name": "stderr",
     "output_type": "stream",
     "text": [
      "Train: 100%|\u001B[32m████████████████████████\u001B[0m| 295/295 [01:03<00:00,  4.66batch/s, Loss: 0.1446 | Precision: 86.28%]\u001B[0m\n"
     ]
    },
    {
     "name": "stdout",
     "output_type": "stream",
     "text": [
      "Epoch 54 | Avg Loss: 0.2964 | Avg Precision: 86.35%\n"
     ]
    },
    {
     "name": "stderr",
     "output_type": "stream",
     "text": [
      "Validate: 100%|\u001B[34m███████████████████████\u001B[0m| 74/74 [00:12<00:00,  5.98batch/s, Loss: 0.3237 | Precision: 86.51%]\u001B[0m\n"
     ]
    },
    {
     "name": "stdout",
     "output_type": "stream",
     "text": [
      "Epoch 54 | Avg Loss: 0.3012 | Avg Precision: 86.41% | Patience: 2\n"
     ]
    },
    {
     "name": "stderr",
     "output_type": "stream",
     "text": [
      "Train: 100%|\u001B[32m████████████████████████\u001B[0m| 295/295 [01:02<00:00,  4.71batch/s, Loss: 0.1374 | Precision: 86.37%]\u001B[0m\n"
     ]
    },
    {
     "name": "stdout",
     "output_type": "stream",
     "text": [
      "Epoch 55 | Avg Loss: 0.2945 | Avg Precision: 86.29%\n"
     ]
    },
    {
     "name": "stderr",
     "output_type": "stream",
     "text": [
      "Train: 100%|\u001B[32m████████████████████████\u001B[0m| 295/295 [01:02<00:00,  4.71batch/s, Loss: 0.1366 | Precision: 86.42%]\u001B[0m\n"
     ]
    },
    {
     "name": "stdout",
     "output_type": "stream",
     "text": [
      "Epoch 56 | Avg Loss: 0.2936 | Avg Precision: 86.38%\n"
     ]
    },
    {
     "name": "stderr",
     "output_type": "stream",
     "text": [
      "Validate: 100%|\u001B[34m███████████████████████\u001B[0m| 74/74 [00:12<00:00,  6.04batch/s, Loss: 0.3276 | Precision: 86.54%]\u001B[0m\n"
     ]
    },
    {
     "name": "stdout",
     "output_type": "stream",
     "text": [
      "Epoch 56 | Avg Loss: 0.3016 | Avg Precision: 86.44% | Patience: 3\n"
     ]
    },
    {
     "name": "stderr",
     "output_type": "stream",
     "text": [
      "Train: 100%|\u001B[32m████████████████████████\u001B[0m| 295/295 [01:02<00:00,  4.71batch/s, Loss: 0.1321 | Precision: 86.43%]\u001B[0m\n"
     ]
    },
    {
     "name": "stdout",
     "output_type": "stream",
     "text": [
      "Epoch 57 | Avg Loss: 0.2938 | Avg Precision: 86.41%\n"
     ]
    },
    {
     "name": "stderr",
     "output_type": "stream",
     "text": [
      "Train: 100%|\u001B[32m████████████████████████\u001B[0m| 295/295 [01:02<00:00,  4.69batch/s, Loss: 0.1334 | Precision: 86.50%]\u001B[0m\n"
     ]
    },
    {
     "name": "stdout",
     "output_type": "stream",
     "text": [
      "Epoch 58 | Avg Loss: 0.2927 | Avg Precision: 86.46%\n"
     ]
    },
    {
     "name": "stderr",
     "output_type": "stream",
     "text": [
      "Validate: 100%|\u001B[34m███████████████████████\u001B[0m| 74/74 [00:12<00:00,  6.00batch/s, Loss: 0.3157 | Precision: 86.84%]\u001B[0m\n"
     ]
    },
    {
     "name": "stdout",
     "output_type": "stream",
     "text": [
      "Epoch 58 | Avg Loss: 0.2955 | Avg Precision: 86.79% | Patience: 0\n"
     ]
    },
    {
     "name": "stderr",
     "output_type": "stream",
     "text": [
      "Train: 100%|\u001B[32m████████████████████████\u001B[0m| 295/295 [01:02<00:00,  4.70batch/s, Loss: 0.1283 | Precision: 86.56%]\u001B[0m\n"
     ]
    },
    {
     "name": "stdout",
     "output_type": "stream",
     "text": [
      "Epoch 59 | Avg Loss: 0.2917 | Avg Precision: 86.48%\n"
     ]
    },
    {
     "name": "stderr",
     "output_type": "stream",
     "text": [
      "Train: 100%|\u001B[32m████████████████████████\u001B[0m| 295/295 [01:02<00:00,  4.68batch/s, Loss: 0.1333 | Precision: 86.53%]\u001B[0m\n"
     ]
    },
    {
     "name": "stdout",
     "output_type": "stream",
     "text": [
      "Epoch 60 | Avg Loss: 0.2930 | Avg Precision: 86.49%\n"
     ]
    },
    {
     "name": "stderr",
     "output_type": "stream",
     "text": [
      "Validate: 100%|\u001B[34m███████████████████████\u001B[0m| 74/74 [00:12<00:00,  6.01batch/s, Loss: 0.3196 | Precision: 86.61%]\u001B[0m\n"
     ]
    },
    {
     "name": "stdout",
     "output_type": "stream",
     "text": [
      "Epoch 60 | Avg Loss: 0.2957 | Avg Precision: 86.53% | Patience: 1\n"
     ]
    },
    {
     "name": "stderr",
     "output_type": "stream",
     "text": [
      "Train: 100%|\u001B[32m████████████████████████\u001B[0m| 295/295 [01:02<00:00,  4.70batch/s, Loss: 0.1308 | Precision: 86.51%]\u001B[0m\n"
     ]
    },
    {
     "name": "stdout",
     "output_type": "stream",
     "text": [
      "Epoch 61 | Avg Loss: 0.2930 | Avg Precision: 86.50%\n"
     ]
    },
    {
     "name": "stderr",
     "output_type": "stream",
     "text": [
      "Train: 100%|\u001B[32m████████████████████████\u001B[0m| 295/295 [01:02<00:00,  4.69batch/s, Loss: 0.1382 | Precision: 86.52%]\u001B[0m\n"
     ]
    },
    {
     "name": "stdout",
     "output_type": "stream",
     "text": [
      "Epoch 62 | Avg Loss: 0.2927 | Avg Precision: 86.49%\n"
     ]
    },
    {
     "name": "stderr",
     "output_type": "stream",
     "text": [
      "Validate: 100%|\u001B[34m███████████████████████\u001B[0m| 74/74 [00:12<00:00,  5.99batch/s, Loss: 0.3136 | Precision: 86.75%]\u001B[0m\n"
     ]
    },
    {
     "name": "stdout",
     "output_type": "stream",
     "text": [
      "Epoch 62 | Avg Loss: 0.2993 | Avg Precision: 86.71% | Patience: 2\n"
     ]
    },
    {
     "name": "stderr",
     "output_type": "stream",
     "text": [
      "Train: 100%|\u001B[32m████████████████████████\u001B[0m| 295/295 [01:02<00:00,  4.71batch/s, Loss: 0.1373 | Precision: 86.66%]\u001B[0m\n"
     ]
    },
    {
     "name": "stdout",
     "output_type": "stream",
     "text": [
      "Epoch 63 | Avg Loss: 0.2909 | Avg Precision: 86.66%\n"
     ]
    },
    {
     "name": "stderr",
     "output_type": "stream",
     "text": [
      "Train: 100%|\u001B[32m████████████████████████\u001B[0m| 295/295 [01:02<00:00,  4.70batch/s, Loss: 0.1352 | Precision: 86.68%]\u001B[0m\n"
     ]
    },
    {
     "name": "stdout",
     "output_type": "stream",
     "text": [
      "Epoch 64 | Avg Loss: 0.2898 | Avg Precision: 86.67%\n"
     ]
    },
    {
     "name": "stderr",
     "output_type": "stream",
     "text": [
      "Validate: 100%|\u001B[34m███████████████████████\u001B[0m| 74/74 [00:12<00:00,  6.06batch/s, Loss: 0.3066 | Precision: 86.71%]\u001B[0m\n"
     ]
    },
    {
     "name": "stdout",
     "output_type": "stream",
     "text": [
      "Epoch 64 | Avg Loss: 0.2936 | Avg Precision: 86.62% | Patience: 3\n"
     ]
    },
    {
     "name": "stderr",
     "output_type": "stream",
     "text": [
      "Train: 100%|\u001B[32m████████████████████████\u001B[0m| 295/295 [01:02<00:00,  4.69batch/s, Loss: 0.1276 | Precision: 86.68%]\u001B[0m\n"
     ]
    },
    {
     "name": "stdout",
     "output_type": "stream",
     "text": [
      "Epoch 65 | Avg Loss: 0.2901 | Avg Precision: 86.64%\n"
     ]
    },
    {
     "name": "stderr",
     "output_type": "stream",
     "text": [
      "Train: 100%|\u001B[32m████████████████████████\u001B[0m| 295/295 [01:02<00:00,  4.70batch/s, Loss: 0.1301 | Precision: 86.66%]\u001B[0m\n"
     ]
    },
    {
     "name": "stdout",
     "output_type": "stream",
     "text": [
      "Epoch 66 | Avg Loss: 0.2898 | Avg Precision: 86.66%\n"
     ]
    },
    {
     "name": "stderr",
     "output_type": "stream",
     "text": [
      "Validate: 100%|\u001B[34m███████████████████████\u001B[0m| 74/74 [00:12<00:00,  6.00batch/s, Loss: 0.3051 | Precision: 86.93%]\u001B[0m\n"
     ]
    },
    {
     "name": "stdout",
     "output_type": "stream",
     "text": [
      "Epoch 66 | Avg Loss: 0.2929 | Avg Precision: 86.84% | Patience: 0\n"
     ]
    },
    {
     "name": "stderr",
     "output_type": "stream",
     "text": [
      "Train: 100%|\u001B[32m████████████████████████\u001B[0m| 295/295 [01:02<00:00,  4.69batch/s, Loss: 0.1271 | Precision: 86.74%]\u001B[0m\n"
     ]
    },
    {
     "name": "stdout",
     "output_type": "stream",
     "text": [
      "Epoch 67 | Avg Loss: 0.2886 | Avg Precision: 86.73%\n"
     ]
    },
    {
     "name": "stderr",
     "output_type": "stream",
     "text": [
      "Train: 100%|\u001B[32m████████████████████████\u001B[0m| 295/295 [01:02<00:00,  4.70batch/s, Loss: 0.1227 | Precision: 86.69%]\u001B[0m\n"
     ]
    },
    {
     "name": "stdout",
     "output_type": "stream",
     "text": [
      "Epoch 68 | Avg Loss: 0.2896 | Avg Precision: 86.72%\n"
     ]
    },
    {
     "name": "stderr",
     "output_type": "stream",
     "text": [
      "Validate: 100%|\u001B[34m███████████████████████\u001B[0m| 74/74 [00:12<00:00,  5.98batch/s, Loss: 0.3155 | Precision: 86.74%]\u001B[0m\n"
     ]
    },
    {
     "name": "stdout",
     "output_type": "stream",
     "text": [
      "Epoch 68 | Avg Loss: 0.3002 | Avg Precision: 86.65% | Patience: 1\n"
     ]
    },
    {
     "name": "stderr",
     "output_type": "stream",
     "text": [
      "Train: 100%|\u001B[32m████████████████████████\u001B[0m| 295/295 [01:02<00:00,  4.71batch/s, Loss: 0.1221 | Precision: 86.71%]\u001B[0m\n"
     ]
    },
    {
     "name": "stdout",
     "output_type": "stream",
     "text": [
      "Epoch 69 | Avg Loss: 0.2892 | Avg Precision: 86.70%\n"
     ]
    },
    {
     "name": "stderr",
     "output_type": "stream",
     "text": [
      "Train: 100%|\u001B[32m████████████████████████\u001B[0m| 295/295 [01:02<00:00,  4.69batch/s, Loss: 0.1238 | Precision: 86.71%]\u001B[0m\n"
     ]
    },
    {
     "name": "stdout",
     "output_type": "stream",
     "text": [
      "Epoch 70 | Avg Loss: 0.2891 | Avg Precision: 86.75%\n"
     ]
    },
    {
     "name": "stderr",
     "output_type": "stream",
     "text": [
      "Validate: 100%|\u001B[34m███████████████████████\u001B[0m| 74/74 [00:12<00:00,  6.02batch/s, Loss: 0.3106 | Precision: 86.55%]\u001B[0m\n"
     ]
    },
    {
     "name": "stdout",
     "output_type": "stream",
     "text": [
      "Epoch 70 | Avg Loss: 0.2979 | Avg Precision: 86.40% | Patience: 2\n"
     ]
    },
    {
     "name": "stderr",
     "output_type": "stream",
     "text": [
      "Train: 100%|\u001B[32m████████████████████████\u001B[0m| 295/295 [01:02<00:00,  4.70batch/s, Loss: 0.1215 | Precision: 86.76%]\u001B[0m\n"
     ]
    },
    {
     "name": "stdout",
     "output_type": "stream",
     "text": [
      "Epoch 71 | Avg Loss: 0.2886 | Avg Precision: 86.77%\n"
     ]
    },
    {
     "name": "stderr",
     "output_type": "stream",
     "text": [
      "Train: 100%|\u001B[32m████████████████████████\u001B[0m| 295/295 [01:02<00:00,  4.69batch/s, Loss: 0.1290 | Precision: 86.82%]\u001B[0m\n"
     ]
    },
    {
     "name": "stdout",
     "output_type": "stream",
     "text": [
      "Epoch 72 | Avg Loss: 0.2870 | Avg Precision: 86.79%\n"
     ]
    },
    {
     "name": "stderr",
     "output_type": "stream",
     "text": [
      "Validate: 100%|\u001B[34m███████████████████████\u001B[0m| 74/74 [00:12<00:00,  6.00batch/s, Loss: 0.3043 | Precision: 86.68%]\u001B[0m\n"
     ]
    },
    {
     "name": "stdout",
     "output_type": "stream",
     "text": [
      "Epoch 72 | Avg Loss: 0.2914 | Avg Precision: 86.54% | Patience: 3\n"
     ]
    },
    {
     "name": "stderr",
     "output_type": "stream",
     "text": [
      "Train: 100%|\u001B[32m████████████████████████\u001B[0m| 295/295 [01:02<00:00,  4.69batch/s, Loss: 0.1188 | Precision: 86.83%]\u001B[0m\n"
     ]
    },
    {
     "name": "stdout",
     "output_type": "stream",
     "text": [
      "Epoch 73 | Avg Loss: 0.2868 | Avg Precision: 86.78%\n"
     ]
    },
    {
     "name": "stderr",
     "output_type": "stream",
     "text": [
      "Train: 100%|\u001B[32m████████████████████████\u001B[0m| 295/295 [01:03<00:00,  4.68batch/s, Loss: 0.1222 | Precision: 86.78%]\u001B[0m\n"
     ]
    },
    {
     "name": "stdout",
     "output_type": "stream",
     "text": [
      "Epoch 74 | Avg Loss: 0.2872 | Avg Precision: 86.79%\n"
     ]
    },
    {
     "name": "stderr",
     "output_type": "stream",
     "text": [
      "Validate: 100%|\u001B[34m███████████████████████\u001B[0m| 74/74 [00:12<00:00,  5.96batch/s, Loss: 0.3090 | Precision: 86.95%]\u001B[0m\n"
     ]
    },
    {
     "name": "stdout",
     "output_type": "stream",
     "text": [
      "Epoch 74 | Avg Loss: 0.2957 | Avg Precision: 86.85% | Patience: 0\n"
     ]
    },
    {
     "name": "stderr",
     "output_type": "stream",
     "text": [
      "Train: 100%|\u001B[32m████████████████████████\u001B[0m| 295/295 [01:02<00:00,  4.69batch/s, Loss: 0.1123 | Precision: 86.98%]\u001B[0m\n"
     ]
    },
    {
     "name": "stdout",
     "output_type": "stream",
     "text": [
      "Epoch 75 | Avg Loss: 0.2849 | Avg Precision: 86.95%\n"
     ]
    },
    {
     "name": "stderr",
     "output_type": "stream",
     "text": [
      "Train: 100%|\u001B[32m████████████████████████\u001B[0m| 295/295 [01:02<00:00,  4.70batch/s, Loss: 0.1100 | Precision: 86.99%]\u001B[0m\n"
     ]
    },
    {
     "name": "stdout",
     "output_type": "stream",
     "text": [
      "Epoch 76 | Avg Loss: 0.2849 | Avg Precision: 87.00%\n"
     ]
    },
    {
     "name": "stderr",
     "output_type": "stream",
     "text": [
      "Validate: 100%|\u001B[34m███████████████████████\u001B[0m| 74/74 [00:12<00:00,  5.97batch/s, Loss: 0.3151 | Precision: 86.71%]\u001B[0m\n"
     ]
    },
    {
     "name": "stdout",
     "output_type": "stream",
     "text": [
      "Epoch 76 | Avg Loss: 0.2986 | Avg Precision: 86.64% | Patience: 1\n"
     ]
    },
    {
     "name": "stderr",
     "output_type": "stream",
     "text": [
      "Train: 100%|\u001B[32m████████████████████████\u001B[0m| 295/295 [01:02<00:00,  4.71batch/s, Loss: 0.1169 | Precision: 86.97%]\u001B[0m\n"
     ]
    },
    {
     "name": "stdout",
     "output_type": "stream",
     "text": [
      "Epoch 77 | Avg Loss: 0.2848 | Avg Precision: 86.96%\n"
     ]
    },
    {
     "name": "stderr",
     "output_type": "stream",
     "text": [
      "Train: 100%|\u001B[32m████████████████████████\u001B[0m| 295/295 [01:02<00:00,  4.69batch/s, Loss: 0.1093 | Precision: 86.99%]\u001B[0m\n"
     ]
    },
    {
     "name": "stdout",
     "output_type": "stream",
     "text": [
      "Epoch 78 | Avg Loss: 0.2837 | Avg Precision: 86.98%\n"
     ]
    },
    {
     "name": "stderr",
     "output_type": "stream",
     "text": [
      "Validate: 100%|\u001B[34m███████████████████████\u001B[0m| 74/74 [00:12<00:00,  6.07batch/s, Loss: 0.3106 | Precision: 86.67%]\u001B[0m\n"
     ]
    },
    {
     "name": "stdout",
     "output_type": "stream",
     "text": [
      "Epoch 78 | Avg Loss: 0.2976 | Avg Precision: 86.62% | Patience: 2\n"
     ]
    },
    {
     "name": "stderr",
     "output_type": "stream",
     "text": [
      "Train: 100%|\u001B[32m████████████████████████\u001B[0m| 295/295 [01:02<00:00,  4.69batch/s, Loss: 0.1105 | Precision: 87.13%]\u001B[0m\n"
     ]
    },
    {
     "name": "stdout",
     "output_type": "stream",
     "text": [
      "Epoch 79 | Avg Loss: 0.2825 | Avg Precision: 87.08%\n"
     ]
    },
    {
     "name": "stderr",
     "output_type": "stream",
     "text": [
      "Train: 100%|\u001B[32m████████████████████████\u001B[0m| 295/295 [01:03<00:00,  4.66batch/s, Loss: 0.1158 | Precision: 87.11%]\u001B[0m\n"
     ]
    },
    {
     "name": "stdout",
     "output_type": "stream",
     "text": [
      "Epoch 80 | Avg Loss: 0.2826 | Avg Precision: 87.13%\n"
     ]
    },
    {
     "name": "stderr",
     "output_type": "stream",
     "text": [
      "Validate: 100%|\u001B[34m███████████████████████\u001B[0m| 74/74 [00:12<00:00,  5.94batch/s, Loss: 0.3105 | Precision: 86.99%]\u001B[0m\n"
     ]
    },
    {
     "name": "stdout",
     "output_type": "stream",
     "text": [
      "Epoch 80 | Avg Loss: 0.2931 | Avg Precision: 86.98% | Patience: 0\n"
     ]
    },
    {
     "name": "stderr",
     "output_type": "stream",
     "text": [
      "Train: 100%|\u001B[32m████████████████████████\u001B[0m| 295/295 [01:02<00:00,  4.71batch/s, Loss: 0.1314 | Precision: 87.07%]\u001B[0m\n"
     ]
    },
    {
     "name": "stdout",
     "output_type": "stream",
     "text": [
      "Epoch 81 | Avg Loss: 0.2827 | Avg Precision: 87.09%\n"
     ]
    },
    {
     "name": "stderr",
     "output_type": "stream",
     "text": [
      "Train: 100%|\u001B[32m████████████████████████\u001B[0m| 295/295 [01:02<00:00,  4.70batch/s, Loss: 0.1165 | Precision: 87.10%]\u001B[0m\n"
     ]
    },
    {
     "name": "stdout",
     "output_type": "stream",
     "text": [
      "Epoch 82 | Avg Loss: 0.2826 | Avg Precision: 87.03%\n"
     ]
    },
    {
     "name": "stderr",
     "output_type": "stream",
     "text": [
      "Validate: 100%|\u001B[34m███████████████████████\u001B[0m| 74/74 [00:12<00:00,  6.10batch/s, Loss: 0.3114 | Precision: 86.73%]\u001B[0m\n"
     ]
    },
    {
     "name": "stdout",
     "output_type": "stream",
     "text": [
      "Epoch 82 | Avg Loss: 0.2972 | Avg Precision: 86.75% | Patience: 1\n"
     ]
    },
    {
     "name": "stderr",
     "output_type": "stream",
     "text": [
      "Train: 100%|\u001B[32m████████████████████████\u001B[0m| 295/295 [01:03<00:00,  4.68batch/s, Loss: 0.1173 | Precision: 87.08%]\u001B[0m\n"
     ]
    },
    {
     "name": "stdout",
     "output_type": "stream",
     "text": [
      "Epoch 83 | Avg Loss: 0.2825 | Avg Precision: 87.06%\n"
     ]
    },
    {
     "name": "stderr",
     "output_type": "stream",
     "text": [
      "Train: 100%|\u001B[32m████████████████████████\u001B[0m| 295/295 [01:03<00:00,  4.67batch/s, Loss: 0.1118 | Precision: 87.12%]\u001B[0m\n"
     ]
    },
    {
     "name": "stdout",
     "output_type": "stream",
     "text": [
      "Epoch 84 | Avg Loss: 0.2822 | Avg Precision: 87.10%\n"
     ]
    },
    {
     "name": "stderr",
     "output_type": "stream",
     "text": [
      "Validate: 100%|\u001B[34m███████████████████████\u001B[0m| 74/74 [00:12<00:00,  6.03batch/s, Loss: 0.3117 | Precision: 86.76%]\u001B[0m\n"
     ]
    },
    {
     "name": "stdout",
     "output_type": "stream",
     "text": [
      "Epoch 84 | Avg Loss: 0.2987 | Avg Precision: 86.68% | Patience: 2\n"
     ]
    },
    {
     "name": "stderr",
     "output_type": "stream",
     "text": [
      "Train: 100%|\u001B[32m████████████████████████\u001B[0m| 295/295 [01:03<00:00,  4.68batch/s, Loss: 0.1383 | Precision: 87.16%]\u001B[0m\n"
     ]
    },
    {
     "name": "stdout",
     "output_type": "stream",
     "text": [
      "Epoch 85 | Avg Loss: 0.2810 | Avg Precision: 87.16%\n"
     ]
    },
    {
     "name": "stderr",
     "output_type": "stream",
     "text": [
      "Train: 100%|\u001B[32m████████████████████████\u001B[0m| 295/295 [01:03<00:00,  4.68batch/s, Loss: 0.1359 | Precision: 87.20%]\u001B[0m\n"
     ]
    },
    {
     "name": "stdout",
     "output_type": "stream",
     "text": [
      "Epoch 86 | Avg Loss: 0.2807 | Avg Precision: 87.25%\n"
     ]
    },
    {
     "name": "stderr",
     "output_type": "stream",
     "text": [
      "Validate: 100%|\u001B[34m███████████████████████\u001B[0m| 74/74 [00:12<00:00,  5.96batch/s, Loss: 0.3016 | Precision: 86.98%]\u001B[0m\n"
     ]
    },
    {
     "name": "stdout",
     "output_type": "stream",
     "text": [
      "Epoch 86 | Avg Loss: 0.2897 | Avg Precision: 86.98% | Patience: 3\n"
     ]
    },
    {
     "name": "stderr",
     "output_type": "stream",
     "text": [
      "Train: 100%|\u001B[32m████████████████████████\u001B[0m| 295/295 [01:02<00:00,  4.68batch/s, Loss: 0.1307 | Precision: 87.21%]\u001B[0m\n"
     ]
    },
    {
     "name": "stdout",
     "output_type": "stream",
     "text": [
      "Epoch 87 | Avg Loss: 0.2803 | Avg Precision: 87.24%\n"
     ]
    },
    {
     "name": "stderr",
     "output_type": "stream",
     "text": [
      "Train: 100%|\u001B[32m████████████████████████\u001B[0m| 295/295 [01:03<00:00,  4.68batch/s, Loss: 0.1242 | Precision: 87.26%]\u001B[0m\n"
     ]
    },
    {
     "name": "stdout",
     "output_type": "stream",
     "text": [
      "Epoch 88 | Avg Loss: 0.2797 | Avg Precision: 87.24%\n"
     ]
    },
    {
     "name": "stderr",
     "output_type": "stream",
     "text": [
      "Validate: 100%|\u001B[34m███████████████████████\u001B[0m| 74/74 [00:12<00:00,  6.11batch/s, Loss: 0.3051 | Precision: 86.78%]\u001B[0m\n"
     ]
    },
    {
     "name": "stdout",
     "output_type": "stream",
     "text": [
      "Epoch 88 | Avg Loss: 0.2938 | Avg Precision: 86.68% | Patience: 4\n"
     ]
    },
    {
     "name": "stderr",
     "output_type": "stream",
     "text": [
      "Train: 100%|\u001B[32m████████████████████████\u001B[0m| 295/295 [01:03<00:00,  4.68batch/s, Loss: 0.1322 | Precision: 87.29%]\u001B[0m\n"
     ]
    },
    {
     "name": "stdout",
     "output_type": "stream",
     "text": [
      "Epoch 89 | Avg Loss: 0.2792 | Avg Precision: 87.24%\n"
     ]
    },
    {
     "name": "stderr",
     "output_type": "stream",
     "text": [
      "Train: 100%|\u001B[32m████████████████████████\u001B[0m| 295/295 [01:03<00:00,  4.67batch/s, Loss: 0.1381 | Precision: 87.30%]\u001B[0m\n"
     ]
    },
    {
     "name": "stdout",
     "output_type": "stream",
     "text": [
      "Epoch 90 | Avg Loss: 0.2794 | Avg Precision: 87.34%\n"
     ]
    },
    {
     "name": "stderr",
     "output_type": "stream",
     "text": [
      "Validate: 100%|\u001B[34m███████████████████████\u001B[0m| 74/74 [00:12<00:00,  5.95batch/s, Loss: 0.2988 | Precision: 86.90%]\u001B[0m\n"
     ]
    },
    {
     "name": "stdout",
     "output_type": "stream",
     "text": [
      "Epoch 90 | Avg Loss: 0.2868 | Avg Precision: 86.82% | Patience: 5\n"
     ]
    },
    {
     "name": "stderr",
     "output_type": "stream",
     "text": [
      "Train: 100%|\u001B[32m████████████████████████\u001B[0m| 295/295 [01:03<00:00,  4.68batch/s, Loss: 0.1306 | Precision: 87.31%]\u001B[0m\n"
     ]
    },
    {
     "name": "stdout",
     "output_type": "stream",
     "text": [
      "Epoch 91 | Avg Loss: 0.2786 | Avg Precision: 87.35%\n"
     ]
    },
    {
     "name": "stderr",
     "output_type": "stream",
     "text": [
      "Train: 100%|\u001B[32m████████████████████████\u001B[0m| 295/295 [01:03<00:00,  4.68batch/s, Loss: 0.1360 | Precision: 87.33%]\u001B[0m\n"
     ]
    },
    {
     "name": "stdout",
     "output_type": "stream",
     "text": [
      "Epoch 92 | Avg Loss: 0.2786 | Avg Precision: 87.36%\n"
     ]
    },
    {
     "name": "stderr",
     "output_type": "stream",
     "text": [
      "Validate: 100%|\u001B[34m███████████████████████\u001B[0m| 74/74 [00:12<00:00,  5.99batch/s, Loss: 0.2985 | Precision: 87.09%]\u001B[0m\n"
     ]
    },
    {
     "name": "stdout",
     "output_type": "stream",
     "text": [
      "Epoch 92 | Avg Loss: 0.2862 | Avg Precision: 87.00% | Patience: 0\n"
     ]
    },
    {
     "name": "stderr",
     "output_type": "stream",
     "text": [
      "Train: 100%|\u001B[32m████████████████████████\u001B[0m| 295/295 [01:03<00:00,  4.68batch/s, Loss: 0.1321 | Precision: 87.30%]\u001B[0m\n"
     ]
    },
    {
     "name": "stdout",
     "output_type": "stream",
     "text": [
      "Epoch 93 | Avg Loss: 0.2787 | Avg Precision: 87.34%\n"
     ]
    },
    {
     "name": "stderr",
     "output_type": "stream",
     "text": [
      "Train: 100%|\u001B[32m████████████████████████\u001B[0m| 295/295 [01:03<00:00,  4.67batch/s, Loss: 0.1330 | Precision: 87.30%]\u001B[0m\n"
     ]
    },
    {
     "name": "stdout",
     "output_type": "stream",
     "text": [
      "Epoch 94 | Avg Loss: 0.2784 | Avg Precision: 87.32%\n"
     ]
    },
    {
     "name": "stderr",
     "output_type": "stream",
     "text": [
      "Validate: 100%|\u001B[34m███████████████████████\u001B[0m| 74/74 [00:12<00:00,  5.96batch/s, Loss: 0.2961 | Precision: 87.16%]\u001B[0m\n"
     ]
    },
    {
     "name": "stdout",
     "output_type": "stream",
     "text": [
      "Epoch 94 | Avg Loss: 0.2864 | Avg Precision: 87.11% | Patience: 0\n"
     ]
    },
    {
     "name": "stderr",
     "output_type": "stream",
     "text": [
      "Train: 100%|\u001B[32m████████████████████████\u001B[0m| 295/295 [01:02<00:00,  4.68batch/s, Loss: 0.1577 | Precision: 87.34%]\u001B[0m\n"
     ]
    },
    {
     "name": "stdout",
     "output_type": "stream",
     "text": [
      "Epoch 95 | Avg Loss: 0.2782 | Avg Precision: 87.36%\n"
     ]
    },
    {
     "name": "stderr",
     "output_type": "stream",
     "text": [
      "Train: 100%|\u001B[32m████████████████████████\u001B[0m| 295/295 [01:03<00:00,  4.68batch/s, Loss: 0.1499 | Precision: 87.31%]\u001B[0m\n"
     ]
    },
    {
     "name": "stdout",
     "output_type": "stream",
     "text": [
      "Epoch 96 | Avg Loss: 0.2788 | Avg Precision: 87.34%\n"
     ]
    },
    {
     "name": "stderr",
     "output_type": "stream",
     "text": [
      "Validate: 100%|\u001B[34m███████████████████████\u001B[0m| 74/74 [00:12<00:00,  6.00batch/s, Loss: 0.2963 | Precision: 86.94%]\u001B[0m\n"
     ]
    },
    {
     "name": "stdout",
     "output_type": "stream",
     "text": [
      "Epoch 96 | Avg Loss: 0.2892 | Avg Precision: 86.88% | Patience: 1\n"
     ]
    },
    {
     "name": "stderr",
     "output_type": "stream",
     "text": [
      "Train: 100%|\u001B[32m████████████████████████\u001B[0m| 295/295 [01:03<00:00,  4.67batch/s, Loss: 0.1306 | Precision: 87.33%]\u001B[0m\n"
     ]
    },
    {
     "name": "stdout",
     "output_type": "stream",
     "text": [
      "Epoch 97 | Avg Loss: 0.2781 | Avg Precision: 87.37%\n"
     ]
    },
    {
     "name": "stderr",
     "output_type": "stream",
     "text": [
      "Train: 100%|\u001B[32m████████████████████████\u001B[0m| 295/295 [01:03<00:00,  4.67batch/s, Loss: 0.1289 | Precision: 87.35%]\u001B[0m\n"
     ]
    },
    {
     "name": "stdout",
     "output_type": "stream",
     "text": [
      "Epoch 98 | Avg Loss: 0.2778 | Avg Precision: 87.36%\n"
     ]
    },
    {
     "name": "stderr",
     "output_type": "stream",
     "text": [
      "Validate: 100%|\u001B[34m███████████████████████\u001B[0m| 74/74 [00:12<00:00,  6.00batch/s, Loss: 0.2983 | Precision: 86.91%]\u001B[0m\n"
     ]
    },
    {
     "name": "stdout",
     "output_type": "stream",
     "text": [
      "Epoch 98 | Avg Loss: 0.2892 | Avg Precision: 86.81% | Patience: 2\n"
     ]
    },
    {
     "name": "stderr",
     "output_type": "stream",
     "text": [
      "Train: 100%|\u001B[32m████████████████████████\u001B[0m| 295/295 [01:03<00:00,  4.68batch/s, Loss: 0.1364 | Precision: 87.40%]\u001B[0m\n"
     ]
    },
    {
     "name": "stdout",
     "output_type": "stream",
     "text": [
      "Epoch 99 | Avg Loss: 0.2768 | Avg Precision: 87.42%\n"
     ]
    },
    {
     "name": "stderr",
     "output_type": "stream",
     "text": [
      "Train: 100%|\u001B[32m████████████████████████\u001B[0m| 295/295 [01:03<00:00,  4.67batch/s, Loss: 0.1434 | Precision: 87.41%]\u001B[0m\n"
     ]
    },
    {
     "name": "stdout",
     "output_type": "stream",
     "text": [
      "Epoch 100 | Avg Loss: 0.2766 | Avg Precision: 87.43%\n"
     ]
    },
    {
     "name": "stderr",
     "output_type": "stream",
     "text": [
      "Validate: 100%|\u001B[34m███████████████████████\u001B[0m| 74/74 [00:12<00:00,  6.01batch/s, Loss: 0.2849 | Precision: 87.10%]\u001B[0m"
     ]
    },
    {
     "name": "stdout",
     "output_type": "stream",
     "text": [
      "Epoch 100 | Avg Loss: 0.2841 | Avg Precision: 86.99% | Patience: 3\n",
      "Training Complete - Best Precision: 87.11%\n"
     ]
    },
    {
     "name": "stderr",
     "output_type": "stream",
     "text": [
      "\n"
     ]
    }
   ],
   "source": [
    "model = Gru(9, 100, 1, 4)\n",
    "model = model.to(device)\n",
    "criterion = nn.CrossEntropyLoss()\n",
    "optimizer = optim.Adam(model.parameters(), lr=.01)\n",
    "scheduler = ReduceLROnPlateau(optimizer, 'max', factor=.9, patience=1, min_lr=.001)\n",
    "\n",
    "\n",
    "model10 = train_validate(model, criterion, optimizer, scheduler)\n",
    "torch.save(model10.state_dict(), '.\\\\models\\\\downsample\\\\gru\\\\model10.pth')"
   ]
  },
  {
   "cell_type": "markdown",
   "id": "795730e0-ccfa-4022-9839-9ba956d1269a",
   "metadata": {
    "jp-MarkdownHeadingCollapsed": true
   },
   "source": [
    "### 11-9-23"
   ]
  },
  {
   "cell_type": "markdown",
   "id": "66d01510-5a60-4841-b86b-dab8f21893d8",
   "metadata": {
    "jp-MarkdownHeadingCollapsed": true
   },
   "source": [
    "#### Model 11 - Lookback 15 - Batch 512"
   ]
  },
  {
   "cell_type": "code",
   "execution_count": null,
   "id": "b0f773d7-9b10-45ad-b01b-88117eca321b",
   "metadata": {},
   "outputs": [
    {
     "name": "stderr",
     "output_type": "stream",
     "text": [
      "Train: 100%|\u001B[32m████████████████████████\u001B[0m| 589/589 [01:11<00:00,  8.28batch/s, Loss: 0.4854 | Precision: 76.62%]\u001B[0m\n"
     ]
    },
    {
     "name": "stdout",
     "output_type": "stream",
     "text": [
      "Epoch 1 | Avg Loss: 0.4717 | Avg Precision: 73.65%\n"
     ]
    },
    {
     "name": "stderr",
     "output_type": "stream",
     "text": [
      "Train: 100%|\u001B[32m████████████████████████\u001B[0m| 589/589 [01:10<00:00,  8.32batch/s, Loss: 0.4844 | Precision: 79.99%]\u001B[0m\n"
     ]
    },
    {
     "name": "stdout",
     "output_type": "stream",
     "text": [
      "Epoch 2 | Avg Loss: 0.4096 | Avg Precision: 79.46%\n"
     ]
    },
    {
     "name": "stderr",
     "output_type": "stream",
     "text": [
      "Train: 100%|\u001B[32m████████████████████████\u001B[0m| 589/589 [01:10<00:00,  8.34batch/s, Loss: 0.3935 | Precision: 81.11%]\u001B[0m\n"
     ]
    },
    {
     "name": "stdout",
     "output_type": "stream",
     "text": [
      "Epoch 3 | Avg Loss: 0.3881 | Avg Precision: 80.73%\n"
     ]
    },
    {
     "name": "stderr",
     "output_type": "stream",
     "text": [
      "Train: 100%|\u001B[32m████████████████████████\u001B[0m| 589/589 [01:10<00:00,  8.34batch/s, Loss: 0.5556 | Precision: 81.73%]\u001B[0m\n"
     ]
    },
    {
     "name": "stdout",
     "output_type": "stream",
     "text": [
      "Epoch 4 | Avg Loss: 0.3764 | Avg Precision: 81.46%\n"
     ]
    },
    {
     "name": "stderr",
     "output_type": "stream",
     "text": [
      "Train: 100%|\u001B[32m████████████████████████\u001B[0m| 589/589 [01:10<00:00,  8.37batch/s, Loss: 0.4483 | Precision: 82.24%]\u001B[0m\n"
     ]
    },
    {
     "name": "stdout",
     "output_type": "stream",
     "text": [
      "Epoch 5 | Avg Loss: 0.3678 | Avg Precision: 81.92%\n"
     ]
    },
    {
     "name": "stderr",
     "output_type": "stream",
     "text": [
      "Validate: 100%|\u001B[34m███████████████████████\u001B[0m| 74/74 [00:11<00:00,  6.27batch/s, Loss: 0.4327 | Precision: 82.70%]\u001B[0m\n"
     ]
    },
    {
     "name": "stdout",
     "output_type": "stream",
     "text": [
      "Epoch 5 | Avg Loss: 0.4101 | Avg Precision: 82.69% | Patience: 0\n"
     ]
    },
    {
     "name": "stderr",
     "output_type": "stream",
     "text": [
      "Train: 100%|\u001B[32m████████████████████████\u001B[0m| 589/589 [01:10<00:00,  8.39batch/s, Loss: 0.3103 | Precision: 82.46%]\u001B[0m\n"
     ]
    },
    {
     "name": "stdout",
     "output_type": "stream",
     "text": [
      "Epoch 6 | Avg Loss: 0.3656 | Avg Precision: 82.23%\n"
     ]
    },
    {
     "name": "stderr",
     "output_type": "stream",
     "text": [
      "Train: 100%|\u001B[32m████████████████████████\u001B[0m| 589/589 [01:10<00:00,  8.35batch/s, Loss: 0.3315 | Precision: 82.52%]\u001B[0m\n"
     ]
    },
    {
     "name": "stdout",
     "output_type": "stream",
     "text": [
      "Epoch 7 | Avg Loss: 0.3638 | Avg Precision: 82.49%\n"
     ]
    },
    {
     "name": "stderr",
     "output_type": "stream",
     "text": [
      "Train: 100%|\u001B[32m████████████████████████\u001B[0m| 589/589 [01:10<00:00,  8.35batch/s, Loss: 0.2981 | Precision: 82.61%]\u001B[0m\n"
     ]
    },
    {
     "name": "stdout",
     "output_type": "stream",
     "text": [
      "Epoch 8 | Avg Loss: 0.3618 | Avg Precision: 82.59%\n"
     ]
    },
    {
     "name": "stderr",
     "output_type": "stream",
     "text": [
      "Train: 100%|\u001B[32m████████████████████████\u001B[0m| 589/589 [01:10<00:00,  8.33batch/s, Loss: 0.3273 | Precision: 82.87%]\u001B[0m\n"
     ]
    },
    {
     "name": "stdout",
     "output_type": "stream",
     "text": [
      "Epoch 9 | Avg Loss: 0.3581 | Avg Precision: 82.74%\n"
     ]
    },
    {
     "name": "stderr",
     "output_type": "stream",
     "text": [
      "Train: 100%|\u001B[32m████████████████████████\u001B[0m| 589/589 [01:10<00:00,  8.36batch/s, Loss: 0.3387 | Precision: 83.00%]\u001B[0m\n"
     ]
    },
    {
     "name": "stdout",
     "output_type": "stream",
     "text": [
      "Epoch 10 | Avg Loss: 0.3563 | Avg Precision: 82.89%\n"
     ]
    },
    {
     "name": "stderr",
     "output_type": "stream",
     "text": [
      "Validate: 100%|\u001B[34m███████████████████████\u001B[0m| 74/74 [00:12<00:00,  6.13batch/s, Loss: 0.3687 | Precision: 83.64%]\u001B[0m\n"
     ]
    },
    {
     "name": "stdout",
     "output_type": "stream",
     "text": [
      "Epoch 10 | Avg Loss: 0.3592 | Avg Precision: 83.57% | Patience: 0\n"
     ]
    },
    {
     "name": "stderr",
     "output_type": "stream",
     "text": [
      "Train: 100%|\u001B[32m████████████████████████\u001B[0m| 589/589 [01:10<00:00,  8.33batch/s, Loss: 0.3350 | Precision: 83.17%]\u001B[0m\n"
     ]
    },
    {
     "name": "stdout",
     "output_type": "stream",
     "text": [
      "Epoch 11 | Avg Loss: 0.3529 | Avg Precision: 83.09%\n"
     ]
    },
    {
     "name": "stderr",
     "output_type": "stream",
     "text": [
      "Train: 100%|\u001B[32m████████████████████████\u001B[0m| 589/589 [01:10<00:00,  8.31batch/s, Loss: 0.3043 | Precision: 83.33%]\u001B[0m\n"
     ]
    },
    {
     "name": "stdout",
     "output_type": "stream",
     "text": [
      "Epoch 12 | Avg Loss: 0.3505 | Avg Precision: 83.25%\n"
     ]
    },
    {
     "name": "stderr",
     "output_type": "stream",
     "text": [
      "Train: 100%|\u001B[32m████████████████████████\u001B[0m| 589/589 [01:10<00:00,  8.32batch/s, Loss: 0.3232 | Precision: 83.47%]\u001B[0m\n"
     ]
    },
    {
     "name": "stdout",
     "output_type": "stream",
     "text": [
      "Epoch 13 | Avg Loss: 0.3480 | Avg Precision: 83.31%\n"
     ]
    },
    {
     "name": "stderr",
     "output_type": "stream",
     "text": [
      "Train: 100%|\u001B[32m████████████████████████\u001B[0m| 589/589 [01:10<00:00,  8.33batch/s, Loss: 0.3254 | Precision: 83.63%]\u001B[0m\n"
     ]
    },
    {
     "name": "stdout",
     "output_type": "stream",
     "text": [
      "Epoch 14 | Avg Loss: 0.3455 | Avg Precision: 83.58%\n"
     ]
    },
    {
     "name": "stderr",
     "output_type": "stream",
     "text": [
      "Train: 100%|\u001B[32m████████████████████████\u001B[0m| 589/589 [01:10<00:00,  8.32batch/s, Loss: 0.3211 | Precision: 83.68%]\u001B[0m\n"
     ]
    },
    {
     "name": "stdout",
     "output_type": "stream",
     "text": [
      "Epoch 15 | Avg Loss: 0.3447 | Avg Precision: 83.71%\n"
     ]
    },
    {
     "name": "stderr",
     "output_type": "stream",
     "text": [
      "Validate: 100%|\u001B[34m███████████████████████\u001B[0m| 74/74 [00:12<00:00,  6.12batch/s, Loss: 0.3607 | Precision: 83.57%]\u001B[0m\n"
     ]
    },
    {
     "name": "stdout",
     "output_type": "stream",
     "text": [
      "Epoch 15 | Avg Loss: 0.3479 | Avg Precision: 83.49% | Patience: 1\n"
     ]
    },
    {
     "name": "stderr",
     "output_type": "stream",
     "text": [
      "Train: 100%|\u001B[32m████████████████████████\u001B[0m| 589/589 [01:10<00:00,  8.34batch/s, Loss: 0.3106 | Precision: 83.78%]\u001B[0m\n"
     ]
    },
    {
     "name": "stdout",
     "output_type": "stream",
     "text": [
      "Epoch 16 | Avg Loss: 0.3428 | Avg Precision: 83.77%\n"
     ]
    },
    {
     "name": "stderr",
     "output_type": "stream",
     "text": [
      "Train: 100%|\u001B[32m████████████████████████\u001B[0m| 589/589 [01:10<00:00,  8.32batch/s, Loss: 0.3065 | Precision: 83.85%]\u001B[0m\n"
     ]
    },
    {
     "name": "stdout",
     "output_type": "stream",
     "text": [
      "Epoch 17 | Avg Loss: 0.3410 | Avg Precision: 83.77%\n"
     ]
    },
    {
     "name": "stderr",
     "output_type": "stream",
     "text": [
      "Train: 100%|\u001B[32m████████████████████████\u001B[0m| 589/589 [01:10<00:00,  8.31batch/s, Loss: 0.3090 | Precision: 83.80%]\u001B[0m\n"
     ]
    },
    {
     "name": "stdout",
     "output_type": "stream",
     "text": [
      "Epoch 18 | Avg Loss: 0.3415 | Avg Precision: 83.75%\n"
     ]
    },
    {
     "name": "stderr",
     "output_type": "stream",
     "text": [
      "Train: 100%|\u001B[32m████████████████████████\u001B[0m| 589/589 [01:10<00:00,  8.32batch/s, Loss: 0.2563 | Precision: 83.92%]\u001B[0m\n"
     ]
    },
    {
     "name": "stdout",
     "output_type": "stream",
     "text": [
      "Epoch 19 | Avg Loss: 0.3400 | Avg Precision: 83.86%\n"
     ]
    },
    {
     "name": "stderr",
     "output_type": "stream",
     "text": [
      "Train: 100%|\u001B[32m████████████████████████\u001B[0m| 589/589 [01:10<00:00,  8.33batch/s, Loss: 0.2857 | Precision: 84.02%]\u001B[0m\n"
     ]
    },
    {
     "name": "stdout",
     "output_type": "stream",
     "text": [
      "Epoch 20 | Avg Loss: 0.3388 | Avg Precision: 83.97%\n"
     ]
    },
    {
     "name": "stderr",
     "output_type": "stream",
     "text": [
      "Validate: 100%|\u001B[34m███████████████████████\u001B[0m| 74/74 [00:12<00:00,  5.95batch/s, Loss: 0.3573 | Precision: 83.36%]\u001B[0m\n"
     ]
    },
    {
     "name": "stdout",
     "output_type": "stream",
     "text": [
      "Epoch 20 | Avg Loss: 0.3494 | Avg Precision: 83.27% | Patience: 2\n"
     ]
    },
    {
     "name": "stderr",
     "output_type": "stream",
     "text": [
      "Train: 100%|\u001B[32m████████████████████████\u001B[0m| 589/589 [01:10<00:00,  8.33batch/s, Loss: 0.3897 | Precision: 84.16%]\u001B[0m\n"
     ]
    },
    {
     "name": "stdout",
     "output_type": "stream",
     "text": [
      "Epoch 21 | Avg Loss: 0.3369 | Avg Precision: 84.14%\n"
     ]
    },
    {
     "name": "stderr",
     "output_type": "stream",
     "text": [
      "Train: 100%|\u001B[32m████████████████████████\u001B[0m| 589/589 [01:10<00:00,  8.32batch/s, Loss: 0.3180 | Precision: 84.21%]\u001B[0m\n"
     ]
    },
    {
     "name": "stdout",
     "output_type": "stream",
     "text": [
      "Epoch 22 | Avg Loss: 0.3363 | Avg Precision: 84.11%\n"
     ]
    },
    {
     "name": "stderr",
     "output_type": "stream",
     "text": [
      "Train: 100%|\u001B[32m████████████████████████\u001B[0m| 589/589 [01:11<00:00,  8.29batch/s, Loss: 0.3270 | Precision: 84.28%]\u001B[0m\n"
     ]
    },
    {
     "name": "stdout",
     "output_type": "stream",
     "text": [
      "Epoch 23 | Avg Loss: 0.3349 | Avg Precision: 84.24%\n"
     ]
    },
    {
     "name": "stderr",
     "output_type": "stream",
     "text": [
      "Train: 100%|\u001B[32m████████████████████████\u001B[0m| 589/589 [01:11<00:00,  8.25batch/s, Loss: 0.3031 | Precision: 84.42%]\u001B[0m\n"
     ]
    },
    {
     "name": "stdout",
     "output_type": "stream",
     "text": [
      "Epoch 24 | Avg Loss: 0.3329 | Avg Precision: 84.37%\n"
     ]
    },
    {
     "name": "stderr",
     "output_type": "stream",
     "text": [
      "Train: 100%|\u001B[32m████████████████████████\u001B[0m| 589/589 [01:10<00:00,  8.30batch/s, Loss: 0.3122 | Precision: 84.37%]\u001B[0m\n"
     ]
    },
    {
     "name": "stdout",
     "output_type": "stream",
     "text": [
      "Epoch 25 | Avg Loss: 0.3323 | Avg Precision: 84.36%\n"
     ]
    },
    {
     "name": "stderr",
     "output_type": "stream",
     "text": [
      "Validate: 100%|\u001B[34m███████████████████████\u001B[0m| 74/74 [00:12<00:00,  5.86batch/s, Loss: 0.3419 | Precision: 84.46%]\u001B[0m\n"
     ]
    },
    {
     "name": "stdout",
     "output_type": "stream",
     "text": [
      "Epoch 25 | Avg Loss: 0.3348 | Avg Precision: 84.55% | Patience: 0\n"
     ]
    },
    {
     "name": "stderr",
     "output_type": "stream",
     "text": [
      "Train: 100%|\u001B[32m████████████████████████\u001B[0m| 589/589 [01:11<00:00,  8.29batch/s, Loss: 0.3093 | Precision: 84.39%]\u001B[0m\n"
     ]
    },
    {
     "name": "stdout",
     "output_type": "stream",
     "text": [
      "Epoch 26 | Avg Loss: 0.3327 | Avg Precision: 84.30%\n"
     ]
    },
    {
     "name": "stderr",
     "output_type": "stream",
     "text": [
      "Train: 100%|\u001B[32m████████████████████████\u001B[0m| 589/589 [01:11<00:00,  8.28batch/s, Loss: 0.2649 | Precision: 84.41%]\u001B[0m\n"
     ]
    },
    {
     "name": "stdout",
     "output_type": "stream",
     "text": [
      "Epoch 27 | Avg Loss: 0.3328 | Avg Precision: 84.32%\n"
     ]
    },
    {
     "name": "stderr",
     "output_type": "stream",
     "text": [
      "Train: 100%|\u001B[32m████████████████████████\u001B[0m| 589/589 [01:10<00:00,  8.30batch/s, Loss: 0.3255 | Precision: 84.52%]\u001B[0m\n"
     ]
    },
    {
     "name": "stdout",
     "output_type": "stream",
     "text": [
      "Epoch 28 | Avg Loss: 0.3309 | Avg Precision: 84.47%\n"
     ]
    },
    {
     "name": "stderr",
     "output_type": "stream",
     "text": [
      "Train: 100%|\u001B[32m████████████████████████\u001B[0m| 589/589 [01:11<00:00,  8.24batch/s, Loss: 0.2938 | Precision: 84.56%]\u001B[0m\n"
     ]
    },
    {
     "name": "stdout",
     "output_type": "stream",
     "text": [
      "Epoch 29 | Avg Loss: 0.3306 | Avg Precision: 84.55%\n"
     ]
    },
    {
     "name": "stderr",
     "output_type": "stream",
     "text": [
      "Train: 100%|\u001B[32m████████████████████████\u001B[0m| 589/589 [01:11<00:00,  8.28batch/s, Loss: 0.3048 | Precision: 84.51%]\u001B[0m\n"
     ]
    },
    {
     "name": "stdout",
     "output_type": "stream",
     "text": [
      "Epoch 30 | Avg Loss: 0.3305 | Avg Precision: 84.40%\n"
     ]
    },
    {
     "name": "stderr",
     "output_type": "stream",
     "text": [
      "Validate: 100%|\u001B[34m███████████████████████\u001B[0m| 74/74 [00:12<00:00,  5.91batch/s, Loss: 0.3333 | Precision: 85.13%]\u001B[0m\n"
     ]
    },
    {
     "name": "stdout",
     "output_type": "stream",
     "text": [
      "Epoch 30 | Avg Loss: 0.3288 | Avg Precision: 85.04% | Patience: 0\n"
     ]
    },
    {
     "name": "stderr",
     "output_type": "stream",
     "text": [
      "Train: 100%|\u001B[32m████████████████████████\u001B[0m| 589/589 [01:11<00:00,  8.27batch/s, Loss: 0.3356 | Precision: 84.51%]\u001B[0m\n"
     ]
    },
    {
     "name": "stdout",
     "output_type": "stream",
     "text": [
      "Epoch 31 | Avg Loss: 0.3316 | Avg Precision: 84.41%\n"
     ]
    },
    {
     "name": "stderr",
     "output_type": "stream",
     "text": [
      "Train: 100%|\u001B[32m████████████████████████\u001B[0m| 589/589 [01:11<00:00,  8.28batch/s, Loss: 0.2605 | Precision: 84.59%]\u001B[0m\n"
     ]
    },
    {
     "name": "stdout",
     "output_type": "stream",
     "text": [
      "Epoch 32 | Avg Loss: 0.3298 | Avg Precision: 84.53%\n"
     ]
    },
    {
     "name": "stderr",
     "output_type": "stream",
     "text": [
      "Train: 100%|\u001B[32m████████████████████████\u001B[0m| 589/589 [01:12<00:00,  8.16batch/s, Loss: 0.3116 | Precision: 84.69%]\u001B[0m\n"
     ]
    },
    {
     "name": "stdout",
     "output_type": "stream",
     "text": [
      "Epoch 33 | Avg Loss: 0.3283 | Avg Precision: 84.62%\n"
     ]
    },
    {
     "name": "stderr",
     "output_type": "stream",
     "text": [
      "Train: 100%|\u001B[32m████████████████████████\u001B[0m| 589/589 [01:11<00:00,  8.23batch/s, Loss: 0.3202 | Precision: 84.59%]\u001B[0m\n"
     ]
    },
    {
     "name": "stdout",
     "output_type": "stream",
     "text": [
      "Epoch 34 | Avg Loss: 0.3296 | Avg Precision: 84.47%\n"
     ]
    },
    {
     "name": "stderr",
     "output_type": "stream",
     "text": [
      "Train: 100%|\u001B[32m████████████████████████\u001B[0m| 589/589 [01:11<00:00,  8.27batch/s, Loss: 0.3022 | Precision: 84.65%]\u001B[0m\n"
     ]
    },
    {
     "name": "stdout",
     "output_type": "stream",
     "text": [
      "Epoch 35 | Avg Loss: 0.3285 | Avg Precision: 84.61%\n"
     ]
    },
    {
     "name": "stderr",
     "output_type": "stream",
     "text": [
      "Validate: 100%|\u001B[34m███████████████████████\u001B[0m| 74/74 [00:12<00:00,  5.86batch/s, Loss: 0.3257 | Precision: 85.28%]\u001B[0m\n"
     ]
    },
    {
     "name": "stdout",
     "output_type": "stream",
     "text": [
      "Epoch 35 | Avg Loss: 0.3231 | Avg Precision: 85.20% | Patience: 0\n"
     ]
    },
    {
     "name": "stderr",
     "output_type": "stream",
     "text": [
      "Train: 100%|\u001B[32m████████████████████████\u001B[0m| 589/589 [01:11<00:00,  8.24batch/s, Loss: 0.3171 | Precision: 84.73%]\u001B[0m\n"
     ]
    },
    {
     "name": "stdout",
     "output_type": "stream",
     "text": [
      "Epoch 36 | Avg Loss: 0.3283 | Avg Precision: 84.65%\n"
     ]
    },
    {
     "name": "stderr",
     "output_type": "stream",
     "text": [
      "Train: 100%|\u001B[32m████████████████████████\u001B[0m| 589/589 [01:11<00:00,  8.26batch/s, Loss: 0.2927 | Precision: 84.75%]\u001B[0m\n"
     ]
    },
    {
     "name": "stdout",
     "output_type": "stream",
     "text": [
      "Epoch 37 | Avg Loss: 0.3277 | Avg Precision: 84.70%\n"
     ]
    },
    {
     "name": "stderr",
     "output_type": "stream",
     "text": [
      "Train: 100%|\u001B[32m████████████████████████\u001B[0m| 589/589 [01:11<00:00,  8.26batch/s, Loss: 0.3151 | Precision: 84.78%]\u001B[0m\n"
     ]
    },
    {
     "name": "stdout",
     "output_type": "stream",
     "text": [
      "Epoch 38 | Avg Loss: 0.3269 | Avg Precision: 84.75%\n"
     ]
    },
    {
     "name": "stderr",
     "output_type": "stream",
     "text": [
      "Train: 100%|\u001B[32m████████████████████████\u001B[0m| 589/589 [01:11<00:00,  8.26batch/s, Loss: 0.2875 | Precision: 84.78%]\u001B[0m\n"
     ]
    },
    {
     "name": "stdout",
     "output_type": "stream",
     "text": [
      "Epoch 39 | Avg Loss: 0.3266 | Avg Precision: 84.67%\n"
     ]
    },
    {
     "name": "stderr",
     "output_type": "stream",
     "text": [
      "Train: 100%|\u001B[32m████████████████████████\u001B[0m| 589/589 [01:11<00:00,  8.29batch/s, Loss: 0.2767 | Precision: 84.83%]\u001B[0m\n"
     ]
    },
    {
     "name": "stdout",
     "output_type": "stream",
     "text": [
      "Epoch 40 | Avg Loss: 0.3254 | Avg Precision: 84.69%\n"
     ]
    },
    {
     "name": "stderr",
     "output_type": "stream",
     "text": [
      "Validate: 100%|\u001B[34m███████████████████████\u001B[0m| 74/74 [00:12<00:00,  5.87batch/s, Loss: 0.3216 | Precision: 85.08%]\u001B[0m\n"
     ]
    },
    {
     "name": "stdout",
     "output_type": "stream",
     "text": [
      "Epoch 40 | Avg Loss: 0.3420 | Avg Precision: 84.99% | Patience: 1\n"
     ]
    },
    {
     "name": "stderr",
     "output_type": "stream",
     "text": [
      "Train: 100%|\u001B[32m████████████████████████\u001B[0m| 589/589 [01:11<00:00,  8.29batch/s, Loss: 0.2652 | Precision: 84.86%]\u001B[0m\n"
     ]
    },
    {
     "name": "stdout",
     "output_type": "stream",
     "text": [
      "Epoch 41 | Avg Loss: 0.3258 | Avg Precision: 84.83%\n"
     ]
    },
    {
     "name": "stderr",
     "output_type": "stream",
     "text": [
      "Train: 100%|\u001B[32m████████████████████████\u001B[0m| 589/589 [01:11<00:00,  8.28batch/s, Loss: 0.2746 | Precision: 84.84%]\u001B[0m\n"
     ]
    },
    {
     "name": "stdout",
     "output_type": "stream",
     "text": [
      "Epoch 42 | Avg Loss: 0.3252 | Avg Precision: 84.72%\n"
     ]
    },
    {
     "name": "stderr",
     "output_type": "stream",
     "text": [
      "Train: 100%|\u001B[32m████████████████████████\u001B[0m| 589/589 [01:11<00:00,  8.28batch/s, Loss: 0.3116 | Precision: 84.90%]\u001B[0m\n"
     ]
    },
    {
     "name": "stdout",
     "output_type": "stream",
     "text": [
      "Epoch 43 | Avg Loss: 0.3249 | Avg Precision: 84.77%\n"
     ]
    },
    {
     "name": "stderr",
     "output_type": "stream",
     "text": [
      "Train: 100%|\u001B[32m████████████████████████\u001B[0m| 589/589 [01:11<00:00,  8.27batch/s, Loss: 0.2868 | Precision: 84.92%]\u001B[0m\n"
     ]
    },
    {
     "name": "stdout",
     "output_type": "stream",
     "text": [
      "Epoch 44 | Avg Loss: 0.3245 | Avg Precision: 84.86%\n"
     ]
    },
    {
     "name": "stderr",
     "output_type": "stream",
     "text": [
      "Train: 100%|\u001B[32m████████████████████████\u001B[0m| 589/589 [01:11<00:00,  8.29batch/s, Loss: 0.2973 | Precision: 84.97%]\u001B[0m\n"
     ]
    },
    {
     "name": "stdout",
     "output_type": "stream",
     "text": [
      "Epoch 45 | Avg Loss: 0.3243 | Avg Precision: 84.95%\n"
     ]
    },
    {
     "name": "stderr",
     "output_type": "stream",
     "text": [
      "Validate: 100%|\u001B[34m███████████████████████\u001B[0m| 74/74 [00:12<00:00,  5.90batch/s, Loss: 0.3267 | Precision: 84.21%]\u001B[0m\n"
     ]
    },
    {
     "name": "stdout",
     "output_type": "stream",
     "text": [
      "Epoch 45 | Avg Loss: 0.3340 | Avg Precision: 84.17% | Patience: 2\n"
     ]
    },
    {
     "name": "stderr",
     "output_type": "stream",
     "text": [
      "Train: 100%|\u001B[32m████████████████████████\u001B[0m| 589/589 [01:11<00:00,  8.28batch/s, Loss: 0.2376 | Precision: 85.07%]\u001B[0m\n"
     ]
    },
    {
     "name": "stdout",
     "output_type": "stream",
     "text": [
      "Epoch 46 | Avg Loss: 0.3217 | Avg Precision: 84.93%\n"
     ]
    },
    {
     "name": "stderr",
     "output_type": "stream",
     "text": [
      "Train: 100%|\u001B[32m████████████████████████\u001B[0m| 589/589 [01:11<00:00,  8.28batch/s, Loss: 0.2984 | Precision: 85.04%]\u001B[0m\n"
     ]
    },
    {
     "name": "stdout",
     "output_type": "stream",
     "text": [
      "Epoch 47 | Avg Loss: 0.3227 | Avg Precision: 84.93%\n"
     ]
    },
    {
     "name": "stderr",
     "output_type": "stream",
     "text": [
      "Train: 100%|\u001B[32m████████████████████████\u001B[0m| 589/589 [01:10<00:00,  8.31batch/s, Loss: 0.2308 | Precision: 85.09%]\u001B[0m\n"
     ]
    },
    {
     "name": "stdout",
     "output_type": "stream",
     "text": [
      "Epoch 48 | Avg Loss: 0.3214 | Avg Precision: 84.97%\n"
     ]
    },
    {
     "name": "stderr",
     "output_type": "stream",
     "text": [
      "Train: 100%|\u001B[32m████████████████████████\u001B[0m| 589/589 [01:10<00:00,  8.30batch/s, Loss: 0.3201 | Precision: 85.11%]\u001B[0m\n"
     ]
    },
    {
     "name": "stdout",
     "output_type": "stream",
     "text": [
      "Epoch 49 | Avg Loss: 0.3209 | Avg Precision: 85.07%\n"
     ]
    },
    {
     "name": "stderr",
     "output_type": "stream",
     "text": [
      "Train: 100%|\u001B[32m████████████████████████\u001B[0m| 589/589 [01:10<00:00,  8.31batch/s, Loss: 0.3174 | Precision: 85.09%]\u001B[0m\n"
     ]
    },
    {
     "name": "stdout",
     "output_type": "stream",
     "text": [
      "Epoch 50 | Avg Loss: 0.3218 | Avg Precision: 85.04%\n"
     ]
    },
    {
     "name": "stderr",
     "output_type": "stream",
     "text": [
      "Validate: 100%|\u001B[34m███████████████████████\u001B[0m| 74/74 [00:12<00:00,  5.95batch/s, Loss: 0.3253 | Precision: 84.95%]\u001B[0m\n"
     ]
    },
    {
     "name": "stdout",
     "output_type": "stream",
     "text": [
      "Epoch 50 | Avg Loss: 0.3240 | Avg Precision: 84.87% | Patience: 3\n"
     ]
    },
    {
     "name": "stderr",
     "output_type": "stream",
     "text": [
      "Train: 100%|\u001B[32m████████████████████████\u001B[0m| 589/589 [01:11<00:00,  8.28batch/s, Loss: 0.3063 | Precision: 85.17%]\u001B[0m\n"
     ]
    },
    {
     "name": "stdout",
     "output_type": "stream",
     "text": [
      "Epoch 51 | Avg Loss: 0.3217 | Avg Precision: 85.10%\n"
     ]
    },
    {
     "name": "stderr",
     "output_type": "stream",
     "text": [
      "Train: 100%|\u001B[32m████████████████████████\u001B[0m| 589/589 [01:11<00:00,  8.29batch/s, Loss: 0.3059 | Precision: 85.14%]\u001B[0m\n"
     ]
    },
    {
     "name": "stdout",
     "output_type": "stream",
     "text": [
      "Epoch 52 | Avg Loss: 0.3206 | Avg Precision: 85.03%\n"
     ]
    },
    {
     "name": "stderr",
     "output_type": "stream",
     "text": [
      "Train: 100%|\u001B[32m████████████████████████\u001B[0m| 589/589 [01:11<00:00,  8.29batch/s, Loss: 0.2406 | Precision: 85.17%]\u001B[0m\n"
     ]
    },
    {
     "name": "stdout",
     "output_type": "stream",
     "text": [
      "Epoch 53 | Avg Loss: 0.3206 | Avg Precision: 85.10%\n"
     ]
    },
    {
     "name": "stderr",
     "output_type": "stream",
     "text": [
      "Train: 100%|\u001B[32m████████████████████████\u001B[0m| 589/589 [01:11<00:00,  8.29batch/s, Loss: 0.2699 | Precision: 85.22%]\u001B[0m\n"
     ]
    },
    {
     "name": "stdout",
     "output_type": "stream",
     "text": [
      "Epoch 54 | Avg Loss: 0.3201 | Avg Precision: 85.07%\n"
     ]
    },
    {
     "name": "stderr",
     "output_type": "stream",
     "text": [
      "Train: 100%|\u001B[32m████████████████████████\u001B[0m| 589/589 [01:10<00:00,  8.30batch/s, Loss: 0.2739 | Precision: 85.26%]\u001B[0m\n"
     ]
    },
    {
     "name": "stdout",
     "output_type": "stream",
     "text": [
      "Epoch 55 | Avg Loss: 0.3191 | Avg Precision: 85.21%\n"
     ]
    },
    {
     "name": "stderr",
     "output_type": "stream",
     "text": [
      "Validate: 100%|\u001B[34m███████████████████████\u001B[0m| 74/74 [00:12<00:00,  5.93batch/s, Loss: 0.3334 | Precision: 84.78%]\u001B[0m\n"
     ]
    },
    {
     "name": "stdout",
     "output_type": "stream",
     "text": [
      "Epoch 55 | Avg Loss: 0.3216 | Avg Precision: 84.73% | Patience: 4\n"
     ]
    },
    {
     "name": "stderr",
     "output_type": "stream",
     "text": [
      "Train: 100%|\u001B[32m████████████████████████\u001B[0m| 589/589 [01:11<00:00,  8.29batch/s, Loss: 0.3133 | Precision: 85.34%]\u001B[0m\n"
     ]
    },
    {
     "name": "stdout",
     "output_type": "stream",
     "text": [
      "Epoch 56 | Avg Loss: 0.3171 | Avg Precision: 85.28%\n"
     ]
    },
    {
     "name": "stderr",
     "output_type": "stream",
     "text": [
      "Train: 100%|\u001B[32m████████████████████████\u001B[0m| 589/589 [01:10<00:00,  8.31batch/s, Loss: 0.2507 | Precision: 85.42%]\u001B[0m\n"
     ]
    },
    {
     "name": "stdout",
     "output_type": "stream",
     "text": [
      "Epoch 57 | Avg Loss: 0.3169 | Avg Precision: 85.36%\n"
     ]
    },
    {
     "name": "stderr",
     "output_type": "stream",
     "text": [
      "Train: 100%|\u001B[32m████████████████████████\u001B[0m| 589/589 [01:11<00:00,  8.27batch/s, Loss: 0.2482 | Precision: 85.42%]\u001B[0m\n"
     ]
    },
    {
     "name": "stdout",
     "output_type": "stream",
     "text": [
      "Epoch 58 | Avg Loss: 0.3162 | Avg Precision: 85.36%\n"
     ]
    },
    {
     "name": "stderr",
     "output_type": "stream",
     "text": [
      "Train: 100%|\u001B[32m████████████████████████\u001B[0m| 589/589 [01:10<00:00,  8.31batch/s, Loss: 0.2950 | Precision: 85.39%]\u001B[0m\n"
     ]
    },
    {
     "name": "stdout",
     "output_type": "stream",
     "text": [
      "Epoch 59 | Avg Loss: 0.3171 | Avg Precision: 85.33%\n"
     ]
    },
    {
     "name": "stderr",
     "output_type": "stream",
     "text": [
      "Train: 100%|\u001B[32m████████████████████████\u001B[0m| 589/589 [01:11<00:00,  8.29batch/s, Loss: 0.3373 | Precision: 85.43%]\u001B[0m\n"
     ]
    },
    {
     "name": "stdout",
     "output_type": "stream",
     "text": [
      "Epoch 60 | Avg Loss: 0.3171 | Avg Precision: 85.36%\n"
     ]
    },
    {
     "name": "stderr",
     "output_type": "stream",
     "text": [
      "Validate: 100%|\u001B[34m███████████████████████\u001B[0m| 74/74 [00:12<00:00,  5.92batch/s, Loss: 0.3429 | Precision: 85.32%]\u001B[0m\n"
     ]
    },
    {
     "name": "stdout",
     "output_type": "stream",
     "text": [
      "Epoch 60 | Avg Loss: 0.3192 | Avg Precision: 85.39% | Patience: 0\n"
     ]
    },
    {
     "name": "stderr",
     "output_type": "stream",
     "text": [
      "Train: 100%|\u001B[32m████████████████████████\u001B[0m| 589/589 [01:11<00:00,  8.25batch/s, Loss: 0.2817 | Precision: 85.42%]\u001B[0m\n"
     ]
    },
    {
     "name": "stdout",
     "output_type": "stream",
     "text": [
      "Epoch 61 | Avg Loss: 0.3164 | Avg Precision: 85.37%\n"
     ]
    },
    {
     "name": "stderr",
     "output_type": "stream",
     "text": [
      "Train: 100%|\u001B[32m████████████████████████\u001B[0m| 589/589 [01:11<00:00,  8.27batch/s, Loss: 0.2324 | Precision: 85.49%]\u001B[0m\n"
     ]
    },
    {
     "name": "stdout",
     "output_type": "stream",
     "text": [
      "Epoch 62 | Avg Loss: 0.3157 | Avg Precision: 85.43%\n"
     ]
    },
    {
     "name": "stderr",
     "output_type": "stream",
     "text": [
      "Train: 100%|\u001B[32m████████████████████████\u001B[0m| 589/589 [01:11<00:00,  8.28batch/s, Loss: 0.2659 | Precision: 85.44%]\u001B[0m\n"
     ]
    },
    {
     "name": "stdout",
     "output_type": "stream",
     "text": [
      "Epoch 63 | Avg Loss: 0.3153 | Avg Precision: 85.44%\n"
     ]
    },
    {
     "name": "stderr",
     "output_type": "stream",
     "text": [
      "Train: 100%|\u001B[32m████████████████████████\u001B[0m| 589/589 [01:11<00:00,  8.26batch/s, Loss: 0.3224 | Precision: 85.51%]\u001B[0m\n"
     ]
    },
    {
     "name": "stdout",
     "output_type": "stream",
     "text": [
      "Epoch 64 | Avg Loss: 0.3147 | Avg Precision: 85.40%\n"
     ]
    },
    {
     "name": "stderr",
     "output_type": "stream",
     "text": [
      "Train: 100%|\u001B[32m████████████████████████\u001B[0m| 589/589 [01:11<00:00,  8.27batch/s, Loss: 0.3170 | Precision: 85.49%]\u001B[0m\n"
     ]
    },
    {
     "name": "stdout",
     "output_type": "stream",
     "text": [
      "Epoch 65 | Avg Loss: 0.3155 | Avg Precision: 85.46%\n"
     ]
    },
    {
     "name": "stderr",
     "output_type": "stream",
     "text": [
      "Validate: 100%|\u001B[34m███████████████████████\u001B[0m| 74/74 [00:12<00:00,  5.93batch/s, Loss: 0.3256 | Precision: 85.21%]\u001B[0m\n"
     ]
    },
    {
     "name": "stdout",
     "output_type": "stream",
     "text": [
      "Epoch 65 | Avg Loss: 0.3171 | Avg Precision: 85.14% | Patience: 1\n"
     ]
    },
    {
     "name": "stderr",
     "output_type": "stream",
     "text": [
      "Train: 100%|\u001B[32m████████████████████████\u001B[0m| 589/589 [01:10<00:00,  8.31batch/s, Loss: 0.2794 | Precision: 85.55%]\u001B[0m\n"
     ]
    },
    {
     "name": "stdout",
     "output_type": "stream",
     "text": [
      "Epoch 66 | Avg Loss: 0.3143 | Avg Precision: 85.51%\n"
     ]
    },
    {
     "name": "stderr",
     "output_type": "stream",
     "text": [
      "Train: 100%|\u001B[32m████████████████████████\u001B[0m| 589/589 [01:11<00:00,  8.29batch/s, Loss: 0.3091 | Precision: 85.52%]\u001B[0m\n"
     ]
    },
    {
     "name": "stdout",
     "output_type": "stream",
     "text": [
      "Epoch 67 | Avg Loss: 0.3147 | Avg Precision: 85.49%\n"
     ]
    },
    {
     "name": "stderr",
     "output_type": "stream",
     "text": [
      "Train: 100%|\u001B[32m████████████████████████\u001B[0m| 589/589 [01:11<00:00,  8.28batch/s, Loss: 0.3430 | Precision: 85.52%]\u001B[0m\n"
     ]
    },
    {
     "name": "stdout",
     "output_type": "stream",
     "text": [
      "Epoch 68 | Avg Loss: 0.3140 | Avg Precision: 85.52%\n"
     ]
    },
    {
     "name": "stderr",
     "output_type": "stream",
     "text": [
      "Train: 100%|\u001B[32m████████████████████████\u001B[0m| 589/589 [01:11<00:00,  8.27batch/s, Loss: 0.3060 | Precision: 85.54%]\u001B[0m\n"
     ]
    },
    {
     "name": "stdout",
     "output_type": "stream",
     "text": [
      "Epoch 69 | Avg Loss: 0.3146 | Avg Precision: 85.41%\n"
     ]
    },
    {
     "name": "stderr",
     "output_type": "stream",
     "text": [
      "Train: 100%|\u001B[32m████████████████████████\u001B[0m| 589/589 [01:11<00:00,  8.28batch/s, Loss: 0.3123 | Precision: 85.54%]\u001B[0m\n"
     ]
    },
    {
     "name": "stdout",
     "output_type": "stream",
     "text": [
      "Epoch 70 | Avg Loss: 0.3142 | Avg Precision: 85.47%\n"
     ]
    },
    {
     "name": "stderr",
     "output_type": "stream",
     "text": [
      "Validate: 100%|\u001B[34m███████████████████████\u001B[0m| 74/74 [00:12<00:00,  5.98batch/s, Loss: 0.3236 | Precision: 85.02%]\u001B[0m\n"
     ]
    },
    {
     "name": "stdout",
     "output_type": "stream",
     "text": [
      "Epoch 70 | Avg Loss: 0.3179 | Avg Precision: 85.06% | Patience: 2\n"
     ]
    },
    {
     "name": "stderr",
     "output_type": "stream",
     "text": [
      "Train: 100%|\u001B[32m████████████████████████\u001B[0m| 589/589 [01:11<00:00,  8.29batch/s, Loss: 0.2836 | Precision: 85.68%]\u001B[0m\n"
     ]
    },
    {
     "name": "stdout",
     "output_type": "stream",
     "text": [
      "Epoch 71 | Avg Loss: 0.3118 | Avg Precision: 85.63%\n"
     ]
    },
    {
     "name": "stderr",
     "output_type": "stream",
     "text": [
      "Train: 100%|\u001B[32m████████████████████████\u001B[0m| 589/589 [01:11<00:00,  8.29batch/s, Loss: 0.2962 | Precision: 85.76%]\u001B[0m\n"
     ]
    },
    {
     "name": "stdout",
     "output_type": "stream",
     "text": [
      "Epoch 72 | Avg Loss: 0.3111 | Avg Precision: 85.60%\n"
     ]
    },
    {
     "name": "stderr",
     "output_type": "stream",
     "text": [
      "Train: 100%|\u001B[32m████████████████████████\u001B[0m| 589/589 [01:11<00:00,  8.25batch/s, Loss: 0.3243 | Precision: 85.68%]\u001B[0m\n"
     ]
    },
    {
     "name": "stdout",
     "output_type": "stream",
     "text": [
      "Epoch 73 | Avg Loss: 0.3116 | Avg Precision: 85.54%\n"
     ]
    },
    {
     "name": "stderr",
     "output_type": "stream",
     "text": [
      "Train: 100%|\u001B[32m████████████████████████\u001B[0m| 589/589 [01:11<00:00,  8.28batch/s, Loss: 0.2728 | Precision: 85.62%]\u001B[0m\n"
     ]
    },
    {
     "name": "stdout",
     "output_type": "stream",
     "text": [
      "Epoch 74 | Avg Loss: 0.3120 | Avg Precision: 85.34%\n"
     ]
    },
    {
     "name": "stderr",
     "output_type": "stream",
     "text": [
      "Train: 100%|\u001B[32m████████████████████████\u001B[0m| 589/589 [01:10<00:00,  8.30batch/s, Loss: 0.3085 | Precision: 85.71%]\u001B[0m\n"
     ]
    },
    {
     "name": "stdout",
     "output_type": "stream",
     "text": [
      "Epoch 75 | Avg Loss: 0.3105 | Avg Precision: 85.67%\n"
     ]
    },
    {
     "name": "stderr",
     "output_type": "stream",
     "text": [
      "Validate: 100%|\u001B[34m███████████████████████\u001B[0m| 74/74 [00:12<00:00,  5.87batch/s, Loss: 0.3183 | Precision: 85.05%]\u001B[0m\n"
     ]
    },
    {
     "name": "stdout",
     "output_type": "stream",
     "text": [
      "Epoch 75 | Avg Loss: 0.3141 | Avg Precision: 84.97% | Patience: 3\n"
     ]
    },
    {
     "name": "stderr",
     "output_type": "stream",
     "text": [
      "Train: 100%|\u001B[32m████████████████████████\u001B[0m| 589/589 [01:10<00:00,  8.30batch/s, Loss: 0.3261 | Precision: 85.77%]\u001B[0m\n"
     ]
    },
    {
     "name": "stdout",
     "output_type": "stream",
     "text": [
      "Epoch 76 | Avg Loss: 0.3108 | Avg Precision: 85.70%\n"
     ]
    },
    {
     "name": "stderr",
     "output_type": "stream",
     "text": [
      "Train: 100%|\u001B[32m████████████████████████\u001B[0m| 589/589 [01:10<00:00,  8.31batch/s, Loss: 0.2828 | Precision: 85.75%]\u001B[0m\n"
     ]
    },
    {
     "name": "stdout",
     "output_type": "stream",
     "text": [
      "Epoch 77 | Avg Loss: 0.3110 | Avg Precision: 85.67%\n"
     ]
    },
    {
     "name": "stderr",
     "output_type": "stream",
     "text": [
      "Train: 100%|\u001B[32m████████████████████████\u001B[0m| 589/589 [01:10<00:00,  8.31batch/s, Loss: 0.2829 | Precision: 85.79%]\u001B[0m\n"
     ]
    },
    {
     "name": "stdout",
     "output_type": "stream",
     "text": [
      "Epoch 78 | Avg Loss: 0.3102 | Avg Precision: 85.66%\n"
     ]
    },
    {
     "name": "stderr",
     "output_type": "stream",
     "text": [
      "Train: 100%|\u001B[32m████████████████████████\u001B[0m| 589/589 [01:11<00:00,  8.29batch/s, Loss: 0.3000 | Precision: 85.75%]\u001B[0m\n"
     ]
    },
    {
     "name": "stdout",
     "output_type": "stream",
     "text": [
      "Epoch 79 | Avg Loss: 0.3108 | Avg Precision: 85.68%\n"
     ]
    },
    {
     "name": "stderr",
     "output_type": "stream",
     "text": [
      "Train: 100%|\u001B[32m████████████████████████\u001B[0m| 589/589 [01:10<00:00,  8.30batch/s, Loss: 0.2599 | Precision: 85.68%]\u001B[0m\n"
     ]
    },
    {
     "name": "stdout",
     "output_type": "stream",
     "text": [
      "Epoch 80 | Avg Loss: 0.3112 | Avg Precision: 85.61%\n"
     ]
    },
    {
     "name": "stderr",
     "output_type": "stream",
     "text": [
      "Validate: 100%|\u001B[34m███████████████████████\u001B[0m| 74/74 [00:12<00:00,  5.99batch/s, Loss: 0.3224 | Precision: 84.93%]\u001B[0m\n"
     ]
    },
    {
     "name": "stdout",
     "output_type": "stream",
     "text": [
      "Epoch 80 | Avg Loss: 0.3121 | Avg Precision: 84.96% | Patience: 4\n"
     ]
    },
    {
     "name": "stderr",
     "output_type": "stream",
     "text": [
      "Train: 100%|\u001B[32m████████████████████████\u001B[0m| 589/589 [01:10<00:00,  8.31batch/s, Loss: 0.3067 | Precision: 85.86%]\u001B[0m\n"
     ]
    },
    {
     "name": "stdout",
     "output_type": "stream",
     "text": [
      "Epoch 81 | Avg Loss: 0.3087 | Avg Precision: 85.76%\n"
     ]
    },
    {
     "name": "stderr",
     "output_type": "stream",
     "text": [
      "Train: 100%|\u001B[32m████████████████████████\u001B[0m| 589/589 [01:10<00:00,  8.31batch/s, Loss: 0.3315 | Precision: 85.85%]\u001B[0m\n"
     ]
    },
    {
     "name": "stdout",
     "output_type": "stream",
     "text": [
      "Epoch 82 | Avg Loss: 0.3092 | Avg Precision: 85.71%\n"
     ]
    },
    {
     "name": "stderr",
     "output_type": "stream",
     "text": [
      "Train: 100%|\u001B[32m████████████████████████\u001B[0m| 589/589 [01:10<00:00,  8.30batch/s, Loss: 0.2820 | Precision: 85.93%]\u001B[0m\n"
     ]
    },
    {
     "name": "stdout",
     "output_type": "stream",
     "text": [
      "Epoch 83 | Avg Loss: 0.3084 | Avg Precision: 85.86%\n"
     ]
    },
    {
     "name": "stderr",
     "output_type": "stream",
     "text": [
      "Train: 100%|\u001B[32m████████████████████████\u001B[0m| 589/589 [01:10<00:00,  8.31batch/s, Loss: 0.2834 | Precision: 85.84%]\u001B[0m\n"
     ]
    },
    {
     "name": "stdout",
     "output_type": "stream",
     "text": [
      "Epoch 84 | Avg Loss: 0.3084 | Avg Precision: 85.76%\n"
     ]
    },
    {
     "name": "stderr",
     "output_type": "stream",
     "text": [
      "Train: 100%|\u001B[32m████████████████████████\u001B[0m| 589/589 [01:11<00:00,  8.26batch/s, Loss: 0.3225 | Precision: 85.84%]\u001B[0m\n"
     ]
    },
    {
     "name": "stdout",
     "output_type": "stream",
     "text": [
      "Epoch 85 | Avg Loss: 0.3093 | Avg Precision: 85.79%\n"
     ]
    },
    {
     "name": "stderr",
     "output_type": "stream",
     "text": [
      "Validate: 100%|\u001B[34m███████████████████████\u001B[0m| 74/74 [00:12<00:00,  5.86batch/s, Loss: 0.3090 | Precision: 84.91%]\u001B[0m\n"
     ]
    },
    {
     "name": "stdout",
     "output_type": "stream",
     "text": [
      "Epoch 85 | Avg Loss: 0.3210 | Avg Precision: 84.83% | Patience: 5\n"
     ]
    },
    {
     "name": "stderr",
     "output_type": "stream",
     "text": [
      "Train: 100%|\u001B[32m████████████████████████\u001B[0m| 589/589 [01:10<00:00,  8.31batch/s, Loss: 0.3609 | Precision: 85.83%]\u001B[0m\n"
     ]
    },
    {
     "name": "stdout",
     "output_type": "stream",
     "text": [
      "Epoch 86 | Avg Loss: 0.3091 | Avg Precision: 85.63%\n"
     ]
    },
    {
     "name": "stderr",
     "output_type": "stream",
     "text": [
      "Train: 100%|\u001B[32m████████████████████████\u001B[0m| 589/589 [01:11<00:00,  8.29batch/s, Loss: 0.2918 | Precision: 85.86%]\u001B[0m\n"
     ]
    },
    {
     "name": "stdout",
     "output_type": "stream",
     "text": [
      "Epoch 87 | Avg Loss: 0.3084 | Avg Precision: 85.78%\n"
     ]
    },
    {
     "name": "stderr",
     "output_type": "stream",
     "text": [
      "Train: 100%|\u001B[32m████████████████████████\u001B[0m| 589/589 [01:10<00:00,  8.31batch/s, Loss: 0.2740 | Precision: 85.94%]\u001B[0m\n"
     ]
    },
    {
     "name": "stdout",
     "output_type": "stream",
     "text": [
      "Epoch 88 | Avg Loss: 0.3071 | Avg Precision: 85.85%\n"
     ]
    },
    {
     "name": "stderr",
     "output_type": "stream",
     "text": [
      "Train: 100%|\u001B[32m████████████████████████\u001B[0m| 589/589 [01:10<00:00,  8.30batch/s, Loss: 0.2932 | Precision: 85.86%]\u001B[0m\n"
     ]
    },
    {
     "name": "stdout",
     "output_type": "stream",
     "text": [
      "Epoch 89 | Avg Loss: 0.3085 | Avg Precision: 85.68%\n"
     ]
    },
    {
     "name": "stderr",
     "output_type": "stream",
     "text": [
      "Train: 100%|\u001B[32m████████████████████████\u001B[0m| 589/589 [01:10<00:00,  8.31batch/s, Loss: 0.3001 | Precision: 85.84%]\u001B[0m\n"
     ]
    },
    {
     "name": "stdout",
     "output_type": "stream",
     "text": [
      "Epoch 90 | Avg Loss: 0.3083 | Avg Precision: 85.66%\n"
     ]
    },
    {
     "name": "stderr",
     "output_type": "stream",
     "text": [
      "Validate: 100%|\u001B[34m███████████████████████\u001B[0m| 74/74 [00:12<00:00,  6.00batch/s, Loss: 0.3251 | Precision: 85.06%]\u001B[0m\n"
     ]
    },
    {
     "name": "stdout",
     "output_type": "stream",
     "text": [
      "Epoch 90 | Avg Loss: 0.3153 | Avg Precision: 85.05% | Patience: 6\n"
     ]
    },
    {
     "name": "stderr",
     "output_type": "stream",
     "text": [
      "Train: 100%|\u001B[32m████████████████████████\u001B[0m| 589/589 [01:10<00:00,  8.31batch/s, Loss: 0.3024 | Precision: 85.98%]\u001B[0m\n"
     ]
    },
    {
     "name": "stdout",
     "output_type": "stream",
     "text": [
      "Epoch 91 | Avg Loss: 0.3060 | Avg Precision: 85.85%\n"
     ]
    },
    {
     "name": "stderr",
     "output_type": "stream",
     "text": [
      "Train: 100%|\u001B[32m████████████████████████\u001B[0m| 589/589 [01:10<00:00,  8.31batch/s, Loss: 0.2834 | Precision: 86.04%]\u001B[0m\n"
     ]
    },
    {
     "name": "stdout",
     "output_type": "stream",
     "text": [
      "Epoch 92 | Avg Loss: 0.3056 | Avg Precision: 85.93%\n"
     ]
    },
    {
     "name": "stderr",
     "output_type": "stream",
     "text": [
      "Train: 100%|\u001B[32m████████████████████████\u001B[0m| 589/589 [01:10<00:00,  8.30batch/s, Loss: 0.2556 | Precision: 86.05%]\u001B[0m\n"
     ]
    },
    {
     "name": "stdout",
     "output_type": "stream",
     "text": [
      "Epoch 93 | Avg Loss: 0.3057 | Avg Precision: 86.00%\n"
     ]
    },
    {
     "name": "stderr",
     "output_type": "stream",
     "text": [
      "Train: 100%|\u001B[32m████████████████████████\u001B[0m| 589/589 [01:11<00:00,  8.29batch/s, Loss: 0.3349 | Precision: 86.05%]\u001B[0m\n"
     ]
    },
    {
     "name": "stdout",
     "output_type": "stream",
     "text": [
      "Epoch 94 | Avg Loss: 0.3054 | Avg Precision: 85.95%\n"
     ]
    },
    {
     "name": "stderr",
     "output_type": "stream",
     "text": [
      "Train: 100%|\u001B[32m████████████████████████\u001B[0m| 589/589 [01:10<00:00,  8.32batch/s, Loss: 0.3362 | Precision: 86.04%]\u001B[0m\n"
     ]
    },
    {
     "name": "stdout",
     "output_type": "stream",
     "text": [
      "Epoch 95 | Avg Loss: 0.3051 | Avg Precision: 85.90%\n"
     ]
    },
    {
     "name": "stderr",
     "output_type": "stream",
     "text": [
      "Validate: 100%|\u001B[34m███████████████████████\u001B[0m| 74/74 [00:12<00:00,  5.93batch/s, Loss: 0.3161 | Precision: 85.34%]\u001B[0m\n"
     ]
    },
    {
     "name": "stdout",
     "output_type": "stream",
     "text": [
      "Epoch 95 | Avg Loss: 0.3076 | Avg Precision: 85.33% | Patience: 7\n"
     ]
    },
    {
     "name": "stderr",
     "output_type": "stream",
     "text": [
      "Train:  90%|\u001B[32m█████████████████████▋  \u001B[0m| 532/589 [01:04<00:06,  8.23batch/s, Loss: 0.2914 | Precision: 86.08%]\u001B[0m"
     ]
    }
   ],
   "source": [
    "model = Gru(9, 100, 1, 4)\n",
    "model = model.to(device)\n",
    "criterion = nn.CrossEntropyLoss()\n",
    "optimizer = optim.Adam(model.parameters(), lr=.01)\n",
    "scheduler = ReduceLROnPlateau(optimizer, 'max', factor=.9, patience=1, min_lr=.001)\n",
    "\n",
    "\n",
    "model11 = train_validate(model, criterion, optimizer, scheduler)\n",
    "torch.save(model11.state_dict(), '.\\\\models\\\\downsample\\\\gru\\\\model11.pth')"
   ]
  },
  {
   "cell_type": "markdown",
   "id": "d7f77dfc-61ab-4f07-ab53-1173c468d7bb",
   "metadata": {
    "jp-MarkdownHeadingCollapsed": true
   },
   "source": [
    "### 11-10-23"
   ]
  },
  {
   "cell_type": "markdown",
   "id": "4fdd96d0-4cc9-48f6-aa01-43e96409799b",
   "metadata": {
    "jp-MarkdownHeadingCollapsed": true
   },
   "source": [
    "#### Model 1 - Lookback 15 - Batch 1024"
   ]
  },
  {
   "cell_type": "code",
   "execution_count": 20,
   "id": "f83bb280-fafb-4569-b018-4a45c62b95da",
   "metadata": {},
   "outputs": [
    {
     "name": "stderr",
     "output_type": "stream",
     "text": [
      "Train: 100%|\u001B[32m████████████████████████\u001B[0m| 295/295 [01:11<00:00,  4.11batch/s, Loss: 0.3089 | Precision: 77.75%]\u001B[0m\n"
     ]
    },
    {
     "name": "stdout",
     "output_type": "stream",
     "text": [
      "Epoch 1 | Avg Loss: 0.4506 | Avg Precision: 74.46%\n"
     ]
    },
    {
     "name": "stderr",
     "output_type": "stream",
     "text": [
      "Train: 100%|\u001B[32m████████████████████████\u001B[0m| 295/295 [01:04<00:00,  4.60batch/s, Loss: 0.3417 | Precision: 81.46%]\u001B[0m\n"
     ]
    },
    {
     "name": "stdout",
     "output_type": "stream",
     "text": [
      "Epoch 2 | Avg Loss: 0.3841 | Avg Precision: 80.86%\n"
     ]
    },
    {
     "name": "stderr",
     "output_type": "stream",
     "text": [
      "Train: 100%|\u001B[32m████████████████████████\u001B[0m| 295/295 [01:04<00:00,  4.59batch/s, Loss: 0.3448 | Precision: 82.43%]\u001B[0m\n"
     ]
    },
    {
     "name": "stdout",
     "output_type": "stream",
     "text": [
      "Epoch 3 | Avg Loss: 0.3681 | Avg Precision: 81.95%\n"
     ]
    },
    {
     "name": "stderr",
     "output_type": "stream",
     "text": [
      "Train: 100%|\u001B[32m████████████████████████\u001B[0m| 295/295 [01:04<00:00,  4.58batch/s, Loss: 0.3320 | Precision: 83.08%]\u001B[0m\n"
     ]
    },
    {
     "name": "stdout",
     "output_type": "stream",
     "text": [
      "Epoch 4 | Avg Loss: 0.3553 | Avg Precision: 82.87%\n"
     ]
    },
    {
     "name": "stderr",
     "output_type": "stream",
     "text": [
      "Train: 100%|\u001B[32m████████████████████████\u001B[0m| 295/295 [01:04<00:00,  4.60batch/s, Loss: 0.3113 | Precision: 83.40%]\u001B[0m\n"
     ]
    },
    {
     "name": "stdout",
     "output_type": "stream",
     "text": [
      "Epoch 5 | Avg Loss: 0.3488 | Avg Precision: 83.22%\n"
     ]
    },
    {
     "name": "stderr",
     "output_type": "stream",
     "text": [
      "Validate: 100%|\u001B[34m███████████████████████\u001B[0m| 74/74 [00:13<00:00,  5.67batch/s, Loss: 0.4177 | Precision: 81.76%]\u001B[0m\n"
     ]
    },
    {
     "name": "stdout",
     "output_type": "stream",
     "text": [
      "Epoch 5 | Avg Loss: 0.3777 | Avg Precision: 81.68% | Patience: 0\n"
     ]
    },
    {
     "name": "stderr",
     "output_type": "stream",
     "text": [
      "Train: 100%|\u001B[32m████████████████████████\u001B[0m| 295/295 [01:04<00:00,  4.59batch/s, Loss: 0.3538 | Precision: 83.28%]\u001B[0m\n"
     ]
    },
    {
     "name": "stdout",
     "output_type": "stream",
     "text": [
      "Epoch 6 | Avg Loss: 0.3512 | Avg Precision: 82.77%\n"
     ]
    },
    {
     "name": "stderr",
     "output_type": "stream",
     "text": [
      "Train: 100%|\u001B[32m████████████████████████\u001B[0m| 295/295 [01:04<00:00,  4.59batch/s, Loss: 0.3015 | Precision: 83.57%]\u001B[0m\n"
     ]
    },
    {
     "name": "stdout",
     "output_type": "stream",
     "text": [
      "Epoch 7 | Avg Loss: 0.3475 | Avg Precision: 83.37%\n"
     ]
    },
    {
     "name": "stderr",
     "output_type": "stream",
     "text": [
      "Train: 100%|\u001B[32m████████████████████████\u001B[0m| 295/295 [01:04<00:00,  4.59batch/s, Loss: 0.3202 | Precision: 83.83%]\u001B[0m\n"
     ]
    },
    {
     "name": "stdout",
     "output_type": "stream",
     "text": [
      "Epoch 8 | Avg Loss: 0.3416 | Avg Precision: 83.63%\n"
     ]
    },
    {
     "name": "stderr",
     "output_type": "stream",
     "text": [
      "Train: 100%|\u001B[32m████████████████████████\u001B[0m| 295/295 [01:04<00:00,  4.57batch/s, Loss: 0.3264 | Precision: 84.01%]\u001B[0m\n"
     ]
    },
    {
     "name": "stdout",
     "output_type": "stream",
     "text": [
      "Epoch 9 | Avg Loss: 0.3389 | Avg Precision: 83.86%\n"
     ]
    },
    {
     "name": "stderr",
     "output_type": "stream",
     "text": [
      "Train: 100%|\u001B[32m████████████████████████\u001B[0m| 295/295 [01:04<00:00,  4.58batch/s, Loss: 0.3878 | Precision: 84.03%]\u001B[0m\n"
     ]
    },
    {
     "name": "stdout",
     "output_type": "stream",
     "text": [
      "Epoch 10 | Avg Loss: 0.3410 | Avg Precision: 83.97%\n"
     ]
    },
    {
     "name": "stderr",
     "output_type": "stream",
     "text": [
      "Validate: 100%|\u001B[34m███████████████████████\u001B[0m| 74/74 [00:13<00:00,  5.56batch/s, Loss: 0.3713 | Precision: 82.34%]\u001B[0m\n"
     ]
    },
    {
     "name": "stdout",
     "output_type": "stream",
     "text": [
      "Epoch 10 | Avg Loss: 0.3540 | Avg Precision: 82.22% | Patience: 0\n"
     ]
    },
    {
     "name": "stderr",
     "output_type": "stream",
     "text": [
      "Train: 100%|\u001B[32m████████████████████████\u001B[0m| 295/295 [01:04<00:00,  4.59batch/s, Loss: 0.3669 | Precision: 84.28%]\u001B[0m\n"
     ]
    },
    {
     "name": "stdout",
     "output_type": "stream",
     "text": [
      "Epoch 11 | Avg Loss: 0.3339 | Avg Precision: 84.09%\n"
     ]
    },
    {
     "name": "stderr",
     "output_type": "stream",
     "text": [
      "Train: 100%|\u001B[32m████████████████████████\u001B[0m| 295/295 [01:04<00:00,  4.59batch/s, Loss: 0.3519 | Precision: 84.41%]\u001B[0m\n"
     ]
    },
    {
     "name": "stdout",
     "output_type": "stream",
     "text": [
      "Epoch 12 | Avg Loss: 0.3303 | Avg Precision: 84.38%\n"
     ]
    },
    {
     "name": "stderr",
     "output_type": "stream",
     "text": [
      "Train: 100%|\u001B[32m████████████████████████\u001B[0m| 295/295 [01:04<00:00,  4.55batch/s, Loss: 0.3344 | Precision: 84.60%]\u001B[0m\n"
     ]
    },
    {
     "name": "stdout",
     "output_type": "stream",
     "text": [
      "Epoch 13 | Avg Loss: 0.3281 | Avg Precision: 84.60%\n"
     ]
    },
    {
     "name": "stderr",
     "output_type": "stream",
     "text": [
      "Train: 100%|\u001B[32m████████████████████████\u001B[0m| 295/295 [01:05<00:00,  4.53batch/s, Loss: 0.3328 | Precision: 84.56%]\u001B[0m\n"
     ]
    },
    {
     "name": "stdout",
     "output_type": "stream",
     "text": [
      "Epoch 14 | Avg Loss: 0.3274 | Avg Precision: 84.45%\n"
     ]
    },
    {
     "name": "stderr",
     "output_type": "stream",
     "text": [
      "Train: 100%|\u001B[32m████████████████████████\u001B[0m| 295/295 [01:04<00:00,  4.55batch/s, Loss: 0.3422 | Precision: 84.86%]\u001B[0m\n"
     ]
    },
    {
     "name": "stdout",
     "output_type": "stream",
     "text": [
      "Epoch 15 | Avg Loss: 0.3229 | Avg Precision: 84.79%\n"
     ]
    },
    {
     "name": "stderr",
     "output_type": "stream",
     "text": [
      "Validate: 100%|\u001B[34m███████████████████████\u001B[0m| 74/74 [00:13<00:00,  5.57batch/s, Loss: 0.3601 | Precision: 85.21%]\u001B[0m\n"
     ]
    },
    {
     "name": "stdout",
     "output_type": "stream",
     "text": [
      "Epoch 15 | Avg Loss: 0.3252 | Avg Precision: 85.10% | Patience: 0\n"
     ]
    },
    {
     "name": "stderr",
     "output_type": "stream",
     "text": [
      "Train: 100%|\u001B[32m████████████████████████\u001B[0m| 295/295 [01:04<00:00,  4.57batch/s, Loss: 0.3628 | Precision: 84.79%]\u001B[0m\n"
     ]
    },
    {
     "name": "stdout",
     "output_type": "stream",
     "text": [
      "Epoch 16 | Avg Loss: 0.3246 | Avg Precision: 84.60%\n"
     ]
    },
    {
     "name": "stderr",
     "output_type": "stream",
     "text": [
      "Train: 100%|\u001B[32m████████████████████████\u001B[0m| 295/295 [01:04<00:00,  4.57batch/s, Loss: 0.3487 | Precision: 85.03%]\u001B[0m\n"
     ]
    },
    {
     "name": "stdout",
     "output_type": "stream",
     "text": [
      "Epoch 17 | Avg Loss: 0.3198 | Avg Precision: 84.94%\n"
     ]
    },
    {
     "name": "stderr",
     "output_type": "stream",
     "text": [
      "Train: 100%|\u001B[32m████████████████████████\u001B[0m| 295/295 [01:04<00:00,  4.56batch/s, Loss: 0.3635 | Precision: 85.12%]\u001B[0m\n"
     ]
    },
    {
     "name": "stdout",
     "output_type": "stream",
     "text": [
      "Epoch 18 | Avg Loss: 0.3180 | Avg Precision: 85.19%\n"
     ]
    },
    {
     "name": "stderr",
     "output_type": "stream",
     "text": [
      "Train: 100%|\u001B[32m████████████████████████\u001B[0m| 295/295 [01:04<00:00,  4.56batch/s, Loss: 0.3435 | Precision: 85.17%]\u001B[0m\n"
     ]
    },
    {
     "name": "stdout",
     "output_type": "stream",
     "text": [
      "Epoch 19 | Avg Loss: 0.3176 | Avg Precision: 85.00%\n"
     ]
    },
    {
     "name": "stderr",
     "output_type": "stream",
     "text": [
      "Train: 100%|\u001B[32m████████████████████████\u001B[0m| 295/295 [01:04<00:00,  4.59batch/s, Loss: 0.3400 | Precision: 85.23%]\u001B[0m\n"
     ]
    },
    {
     "name": "stdout",
     "output_type": "stream",
     "text": [
      "Epoch 20 | Avg Loss: 0.3164 | Avg Precision: 85.12%\n"
     ]
    },
    {
     "name": "stderr",
     "output_type": "stream",
     "text": [
      "Validate: 100%|\u001B[34m███████████████████████\u001B[0m| 74/74 [00:13<00:00,  5.59batch/s, Loss: 0.3409 | Precision: 84.90%]\u001B[0m\n"
     ]
    },
    {
     "name": "stdout",
     "output_type": "stream",
     "text": [
      "Epoch 20 | Avg Loss: 0.3182 | Avg Precision: 84.68% | Patience: 1\n"
     ]
    },
    {
     "name": "stderr",
     "output_type": "stream",
     "text": [
      "Train: 100%|\u001B[32m████████████████████████\u001B[0m| 295/295 [01:04<00:00,  4.59batch/s, Loss: 0.3621 | Precision: 85.33%]\u001B[0m\n"
     ]
    },
    {
     "name": "stdout",
     "output_type": "stream",
     "text": [
      "Epoch 21 | Avg Loss: 0.3148 | Avg Precision: 85.27%\n"
     ]
    },
    {
     "name": "stderr",
     "output_type": "stream",
     "text": [
      "Train: 100%|\u001B[32m████████████████████████\u001B[0m| 295/295 [01:04<00:00,  4.58batch/s, Loss: 0.3291 | Precision: 85.41%]\u001B[0m\n"
     ]
    },
    {
     "name": "stdout",
     "output_type": "stream",
     "text": [
      "Epoch 22 | Avg Loss: 0.3136 | Avg Precision: 85.37%\n"
     ]
    },
    {
     "name": "stderr",
     "output_type": "stream",
     "text": [
      "Train: 100%|\u001B[32m████████████████████████\u001B[0m| 295/295 [01:04<00:00,  4.57batch/s, Loss: 0.3599 | Precision: 85.43%]\u001B[0m\n"
     ]
    },
    {
     "name": "stdout",
     "output_type": "stream",
     "text": [
      "Epoch 23 | Avg Loss: 0.3127 | Avg Precision: 85.37%\n"
     ]
    },
    {
     "name": "stderr",
     "output_type": "stream",
     "text": [
      "Train: 100%|\u001B[32m████████████████████████\u001B[0m| 295/295 [01:04<00:00,  4.57batch/s, Loss: 0.3233 | Precision: 85.56%]\u001B[0m\n"
     ]
    },
    {
     "name": "stdout",
     "output_type": "stream",
     "text": [
      "Epoch 24 | Avg Loss: 0.3109 | Avg Precision: 85.54%\n"
     ]
    },
    {
     "name": "stderr",
     "output_type": "stream",
     "text": [
      "Train: 100%|\u001B[32m████████████████████████\u001B[0m| 295/295 [01:04<00:00,  4.56batch/s, Loss: 0.3332 | Precision: 85.66%]\u001B[0m\n"
     ]
    },
    {
     "name": "stdout",
     "output_type": "stream",
     "text": [
      "Epoch 25 | Avg Loss: 0.3091 | Avg Precision: 85.59%\n"
     ]
    },
    {
     "name": "stderr",
     "output_type": "stream",
     "text": [
      "Validate: 100%|\u001B[34m███████████████████████\u001B[0m| 74/74 [00:13<00:00,  5.58batch/s, Loss: 0.3271 | Precision: 83.90%]\u001B[0m\n"
     ]
    },
    {
     "name": "stdout",
     "output_type": "stream",
     "text": [
      "Epoch 00005: reducing learning rate of group 0 to 9.0000e-03.\n",
      "Epoch 25 | Avg Loss: 0.3232 | Avg Precision: 83.73% | Patience: 2\n"
     ]
    },
    {
     "name": "stderr",
     "output_type": "stream",
     "text": [
      "Train: 100%|\u001B[32m████████████████████████\u001B[0m| 295/295 [01:04<00:00,  4.57batch/s, Loss: 0.3206 | Precision: 85.80%]\u001B[0m\n"
     ]
    },
    {
     "name": "stdout",
     "output_type": "stream",
     "text": [
      "Epoch 26 | Avg Loss: 0.3062 | Avg Precision: 85.70%\n"
     ]
    },
    {
     "name": "stderr",
     "output_type": "stream",
     "text": [
      "Train: 100%|\u001B[32m████████████████████████\u001B[0m| 295/295 [01:04<00:00,  4.56batch/s, Loss: 0.3266 | Precision: 85.85%]\u001B[0m\n"
     ]
    },
    {
     "name": "stdout",
     "output_type": "stream",
     "text": [
      "Epoch 27 | Avg Loss: 0.3053 | Avg Precision: 85.82%\n"
     ]
    },
    {
     "name": "stderr",
     "output_type": "stream",
     "text": [
      "Train: 100%|\u001B[32m████████████████████████\u001B[0m| 295/295 [01:04<00:00,  4.55batch/s, Loss: 0.3539 | Precision: 85.89%]\u001B[0m\n"
     ]
    },
    {
     "name": "stdout",
     "output_type": "stream",
     "text": [
      "Epoch 28 | Avg Loss: 0.3035 | Avg Precision: 85.75%\n"
     ]
    },
    {
     "name": "stderr",
     "output_type": "stream",
     "text": [
      "Train: 100%|\u001B[32m████████████████████████\u001B[0m| 295/295 [01:04<00:00,  4.56batch/s, Loss: 0.3127 | Precision: 85.87%]\u001B[0m\n"
     ]
    },
    {
     "name": "stdout",
     "output_type": "stream",
     "text": [
      "Epoch 29 | Avg Loss: 0.3051 | Avg Precision: 85.73%\n"
     ]
    },
    {
     "name": "stderr",
     "output_type": "stream",
     "text": [
      "Train: 100%|\u001B[32m████████████████████████\u001B[0m| 295/295 [01:04<00:00,  4.57batch/s, Loss: 0.3158 | Precision: 85.93%]\u001B[0m\n"
     ]
    },
    {
     "name": "stdout",
     "output_type": "stream",
     "text": [
      "Epoch 30 | Avg Loss: 0.3029 | Avg Precision: 85.82%\n"
     ]
    },
    {
     "name": "stderr",
     "output_type": "stream",
     "text": [
      "Validate: 100%|\u001B[34m███████████████████████\u001B[0m| 74/74 [00:13<00:00,  5.54batch/s, Loss: 0.3103 | Precision: 85.39%]\u001B[0m\n"
     ]
    },
    {
     "name": "stdout",
     "output_type": "stream",
     "text": [
      "Epoch 30 | Avg Loss: 0.3038 | Avg Precision: 85.19% | Patience: 0\n"
     ]
    },
    {
     "name": "stderr",
     "output_type": "stream",
     "text": [
      "Train: 100%|\u001B[32m████████████████████████\u001B[0m| 295/295 [01:04<00:00,  4.55batch/s, Loss: 0.3279 | Precision: 86.00%]\u001B[0m\n"
     ]
    },
    {
     "name": "stdout",
     "output_type": "stream",
     "text": [
      "Epoch 31 | Avg Loss: 0.3017 | Avg Precision: 85.90%\n"
     ]
    },
    {
     "name": "stderr",
     "output_type": "stream",
     "text": [
      "Train: 100%|\u001B[32m████████████████████████\u001B[0m| 295/295 [01:04<00:00,  4.56batch/s, Loss: 0.3544 | Precision: 85.95%]\u001B[0m\n"
     ]
    },
    {
     "name": "stdout",
     "output_type": "stream",
     "text": [
      "Epoch 32 | Avg Loss: 0.3034 | Avg Precision: 85.84%\n"
     ]
    },
    {
     "name": "stderr",
     "output_type": "stream",
     "text": [
      "Train: 100%|\u001B[32m████████████████████████\u001B[0m| 295/295 [01:04<00:00,  4.59batch/s, Loss: 0.3185 | Precision: 86.05%]\u001B[0m\n"
     ]
    },
    {
     "name": "stdout",
     "output_type": "stream",
     "text": [
      "Epoch 33 | Avg Loss: 0.3012 | Avg Precision: 86.02%\n"
     ]
    },
    {
     "name": "stderr",
     "output_type": "stream",
     "text": [
      "Train: 100%|\u001B[32m████████████████████████\u001B[0m| 295/295 [01:04<00:00,  4.55batch/s, Loss: 0.3362 | Precision: 86.04%]\u001B[0m\n"
     ]
    },
    {
     "name": "stdout",
     "output_type": "stream",
     "text": [
      "Epoch 34 | Avg Loss: 0.3126 | Avg Precision: 85.84%\n"
     ]
    },
    {
     "name": "stderr",
     "output_type": "stream",
     "text": [
      "Train: 100%|\u001B[32m████████████████████████\u001B[0m| 295/295 [01:04<00:00,  4.55batch/s, Loss: 0.3285 | Precision: 86.11%]\u001B[0m\n"
     ]
    },
    {
     "name": "stdout",
     "output_type": "stream",
     "text": [
      "Epoch 35 | Avg Loss: 0.2997 | Avg Precision: 86.01%\n"
     ]
    },
    {
     "name": "stderr",
     "output_type": "stream",
     "text": [
      "Validate: 100%|\u001B[34m███████████████████████\u001B[0m| 74/74 [00:13<00:00,  5.48batch/s, Loss: 0.3127 | Precision: 85.67%]\u001B[0m\n"
     ]
    },
    {
     "name": "stdout",
     "output_type": "stream",
     "text": [
      "Epoch 35 | Avg Loss: 0.3021 | Avg Precision: 85.46% | Patience: 0\n"
     ]
    },
    {
     "name": "stderr",
     "output_type": "stream",
     "text": [
      "Train: 100%|\u001B[32m████████████████████████\u001B[0m| 295/295 [01:04<00:00,  4.56batch/s, Loss: 0.3424 | Precision: 86.12%]\u001B[0m\n"
     ]
    },
    {
     "name": "stdout",
     "output_type": "stream",
     "text": [
      "Epoch 36 | Avg Loss: 0.2995 | Avg Precision: 86.06%\n"
     ]
    },
    {
     "name": "stderr",
     "output_type": "stream",
     "text": [
      "Train: 100%|\u001B[32m████████████████████████\u001B[0m| 295/295 [01:04<00:00,  4.56batch/s, Loss: 0.3180 | Precision: 86.10%]\u001B[0m\n"
     ]
    },
    {
     "name": "stdout",
     "output_type": "stream",
     "text": [
      "Epoch 37 | Avg Loss: 0.2997 | Avg Precision: 86.07%\n"
     ]
    },
    {
     "name": "stderr",
     "output_type": "stream",
     "text": [
      "Train: 100%|\u001B[32m████████████████████████\u001B[0m| 295/295 [01:04<00:00,  4.54batch/s, Loss: 0.3198 | Precision: 86.15%]\u001B[0m\n"
     ]
    },
    {
     "name": "stdout",
     "output_type": "stream",
     "text": [
      "Epoch 38 | Avg Loss: 0.2982 | Avg Precision: 86.07%\n"
     ]
    },
    {
     "name": "stderr",
     "output_type": "stream",
     "text": [
      "Train: 100%|\u001B[32m████████████████████████\u001B[0m| 295/295 [01:04<00:00,  4.57batch/s, Loss: 0.3140 | Precision: 86.21%]\u001B[0m\n"
     ]
    },
    {
     "name": "stdout",
     "output_type": "stream",
     "text": [
      "Epoch 39 | Avg Loss: 0.2974 | Avg Precision: 86.25%\n"
     ]
    },
    {
     "name": "stderr",
     "output_type": "stream",
     "text": [
      "Train: 100%|\u001B[32m████████████████████████\u001B[0m| 295/295 [01:04<00:00,  4.56batch/s, Loss: 0.3552 | Precision: 86.22%]\u001B[0m\n"
     ]
    },
    {
     "name": "stdout",
     "output_type": "stream",
     "text": [
      "Epoch 40 | Avg Loss: 0.2979 | Avg Precision: 86.18%\n"
     ]
    },
    {
     "name": "stderr",
     "output_type": "stream",
     "text": [
      "Validate: 100%|\u001B[34m███████████████████████\u001B[0m| 74/74 [00:13<00:00,  5.47batch/s, Loss: 0.3037 | Precision: 85.15%]\u001B[0m\n"
     ]
    },
    {
     "name": "stdout",
     "output_type": "stream",
     "text": [
      "Epoch 40 | Avg Loss: 0.3030 | Avg Precision: 84.97% | Patience: 1\n"
     ]
    },
    {
     "name": "stderr",
     "output_type": "stream",
     "text": [
      "Train: 100%|\u001B[32m████████████████████████\u001B[0m| 295/295 [01:05<00:00,  4.53batch/s, Loss: 0.3071 | Precision: 86.22%]\u001B[0m\n"
     ]
    },
    {
     "name": "stdout",
     "output_type": "stream",
     "text": [
      "Epoch 41 | Avg Loss: 0.2971 | Avg Precision: 86.10%\n"
     ]
    },
    {
     "name": "stderr",
     "output_type": "stream",
     "text": [
      "Train: 100%|\u001B[32m████████████████████████\u001B[0m| 295/295 [01:05<00:00,  4.54batch/s, Loss: 0.3221 | Precision: 86.18%]\u001B[0m\n"
     ]
    },
    {
     "name": "stdout",
     "output_type": "stream",
     "text": [
      "Epoch 42 | Avg Loss: 0.2977 | Avg Precision: 86.21%\n"
     ]
    },
    {
     "name": "stderr",
     "output_type": "stream",
     "text": [
      "Train: 100%|\u001B[32m████████████████████████\u001B[0m| 295/295 [01:05<00:00,  4.54batch/s, Loss: 0.3052 | Precision: 86.33%]\u001B[0m\n"
     ]
    },
    {
     "name": "stdout",
     "output_type": "stream",
     "text": [
      "Epoch 43 | Avg Loss: 0.2954 | Avg Precision: 86.21%\n"
     ]
    },
    {
     "name": "stderr",
     "output_type": "stream",
     "text": [
      "Train: 100%|\u001B[32m████████████████████████\u001B[0m| 295/295 [01:04<00:00,  4.55batch/s, Loss: 0.3240 | Precision: 86.27%]\u001B[0m\n"
     ]
    },
    {
     "name": "stdout",
     "output_type": "stream",
     "text": [
      "Epoch 44 | Avg Loss: 0.2966 | Avg Precision: 86.16%\n"
     ]
    },
    {
     "name": "stderr",
     "output_type": "stream",
     "text": [
      "Train: 100%|\u001B[32m████████████████████████\u001B[0m| 295/295 [01:04<00:00,  4.56batch/s, Loss: 0.3125 | Precision: 86.42%]\u001B[0m\n"
     ]
    },
    {
     "name": "stdout",
     "output_type": "stream",
     "text": [
      "Epoch 45 | Avg Loss: 0.2943 | Avg Precision: 86.35%\n"
     ]
    },
    {
     "name": "stderr",
     "output_type": "stream",
     "text": [
      "Validate: 100%|\u001B[34m███████████████████████\u001B[0m| 74/74 [00:13<00:00,  5.57batch/s, Loss: 0.3050 | Precision: 86.15%]\u001B[0m\n"
     ]
    },
    {
     "name": "stdout",
     "output_type": "stream",
     "text": [
      "Epoch 45 | Avg Loss: 0.2923 | Avg Precision: 85.92% | Patience: 0\n"
     ]
    },
    {
     "name": "stderr",
     "output_type": "stream",
     "text": [
      "Train: 100%|\u001B[32m████████████████████████\u001B[0m| 295/295 [01:04<00:00,  4.57batch/s, Loss: 0.3343 | Precision: 86.40%]\u001B[0m\n"
     ]
    },
    {
     "name": "stdout",
     "output_type": "stream",
     "text": [
      "Epoch 46 | Avg Loss: 0.2943 | Avg Precision: 86.38%\n"
     ]
    },
    {
     "name": "stderr",
     "output_type": "stream",
     "text": [
      "Train: 100%|\u001B[32m████████████████████████\u001B[0m| 295/295 [01:05<00:00,  4.53batch/s, Loss: 0.3198 | Precision: 86.31%]\u001B[0m\n"
     ]
    },
    {
     "name": "stdout",
     "output_type": "stream",
     "text": [
      "Epoch 47 | Avg Loss: 0.2959 | Avg Precision: 86.21%\n"
     ]
    },
    {
     "name": "stderr",
     "output_type": "stream",
     "text": [
      "Train: 100%|\u001B[32m████████████████████████\u001B[0m| 295/295 [01:04<00:00,  4.55batch/s, Loss: 0.3144 | Precision: 86.27%]\u001B[0m\n"
     ]
    },
    {
     "name": "stdout",
     "output_type": "stream",
     "text": [
      "Epoch 48 | Avg Loss: 0.2965 | Avg Precision: 86.25%\n"
     ]
    },
    {
     "name": "stderr",
     "output_type": "stream",
     "text": [
      "Train: 100%|\u001B[32m████████████████████████\u001B[0m| 295/295 [01:04<00:00,  4.55batch/s, Loss: 0.3291 | Precision: 86.32%]\u001B[0m\n"
     ]
    },
    {
     "name": "stdout",
     "output_type": "stream",
     "text": [
      "Epoch 49 | Avg Loss: 0.2959 | Avg Precision: 86.21%\n"
     ]
    },
    {
     "name": "stderr",
     "output_type": "stream",
     "text": [
      "Train: 100%|\u001B[32m████████████████████████\u001B[0m| 295/295 [01:04<00:00,  4.56batch/s, Loss: 0.3110 | Precision: 86.40%]\u001B[0m\n"
     ]
    },
    {
     "name": "stdout",
     "output_type": "stream",
     "text": [
      "Epoch 50 | Avg Loss: 0.2947 | Avg Precision: 86.27%\n"
     ]
    },
    {
     "name": "stderr",
     "output_type": "stream",
     "text": [
      "Validate: 100%|\u001B[34m███████████████████████\u001B[0m| 74/74 [00:13<00:00,  5.52batch/s, Loss: 0.3101 | Precision: 86.13%]\u001B[0m\n"
     ]
    },
    {
     "name": "stdout",
     "output_type": "stream",
     "text": [
      "Epoch 50 | Avg Loss: 0.2966 | Avg Precision: 85.93% | Patience: 0\n"
     ]
    },
    {
     "name": "stderr",
     "output_type": "stream",
     "text": [
      "Train: 100%|\u001B[32m████████████████████████\u001B[0m| 295/295 [01:04<00:00,  4.57batch/s, Loss: 0.3512 | Precision: 86.39%]\u001B[0m\n"
     ]
    },
    {
     "name": "stdout",
     "output_type": "stream",
     "text": [
      "Epoch 51 | Avg Loss: 0.2948 | Avg Precision: 86.37%\n"
     ]
    },
    {
     "name": "stderr",
     "output_type": "stream",
     "text": [
      "Train: 100%|\u001B[32m████████████████████████\u001B[0m| 295/295 [01:04<00:00,  4.56batch/s, Loss: 0.3439 | Precision: 86.39%]\u001B[0m\n"
     ]
    },
    {
     "name": "stdout",
     "output_type": "stream",
     "text": [
      "Epoch 52 | Avg Loss: 0.2951 | Avg Precision: 86.33%\n"
     ]
    },
    {
     "name": "stderr",
     "output_type": "stream",
     "text": [
      "Train: 100%|\u001B[32m████████████████████████\u001B[0m| 295/295 [01:04<00:00,  4.55batch/s, Loss: 0.2960 | Precision: 86.42%]\u001B[0m\n"
     ]
    },
    {
     "name": "stdout",
     "output_type": "stream",
     "text": [
      "Epoch 53 | Avg Loss: 0.2939 | Avg Precision: 86.28%\n"
     ]
    },
    {
     "name": "stderr",
     "output_type": "stream",
     "text": [
      "Train: 100%|\u001B[32m████████████████████████\u001B[0m| 295/295 [01:04<00:00,  4.56batch/s, Loss: 0.3344 | Precision: 86.50%]\u001B[0m\n"
     ]
    },
    {
     "name": "stdout",
     "output_type": "stream",
     "text": [
      "Epoch 54 | Avg Loss: 0.2929 | Avg Precision: 86.48%\n"
     ]
    },
    {
     "name": "stderr",
     "output_type": "stream",
     "text": [
      "Train: 100%|\u001B[32m████████████████████████\u001B[0m| 295/295 [01:04<00:00,  4.56batch/s, Loss: 0.3382 | Precision: 86.48%]\u001B[0m\n"
     ]
    },
    {
     "name": "stdout",
     "output_type": "stream",
     "text": [
      "Epoch 55 | Avg Loss: 0.2933 | Avg Precision: 86.38%\n"
     ]
    },
    {
     "name": "stderr",
     "output_type": "stream",
     "text": [
      "Validate: 100%|\u001B[34m███████████████████████\u001B[0m| 74/74 [00:13<00:00,  5.57batch/s, Loss: 0.3110 | Precision: 84.76%]\u001B[0m\n"
     ]
    },
    {
     "name": "stdout",
     "output_type": "stream",
     "text": [
      "Epoch 00011: reducing learning rate of group 0 to 8.1000e-03.\n",
      "Epoch 55 | Avg Loss: 0.3025 | Avg Precision: 84.47% | Patience: 1\n"
     ]
    },
    {
     "name": "stderr",
     "output_type": "stream",
     "text": [
      "Train: 100%|\u001B[32m████████████████████████\u001B[0m| 295/295 [01:04<00:00,  4.57batch/s, Loss: 0.3537 | Precision: 86.63%]\u001B[0m\n"
     ]
    },
    {
     "name": "stdout",
     "output_type": "stream",
     "text": [
      "Epoch 56 | Avg Loss: 0.2912 | Avg Precision: 86.55%\n"
     ]
    },
    {
     "name": "stderr",
     "output_type": "stream",
     "text": [
      "Train: 100%|\u001B[32m████████████████████████\u001B[0m| 295/295 [01:04<00:00,  4.57batch/s, Loss: 0.3371 | Precision: 86.55%]\u001B[0m\n"
     ]
    },
    {
     "name": "stdout",
     "output_type": "stream",
     "text": [
      "Epoch 57 | Avg Loss: 0.2915 | Avg Precision: 86.41%\n"
     ]
    },
    {
     "name": "stderr",
     "output_type": "stream",
     "text": [
      "Train: 100%|\u001B[32m████████████████████████\u001B[0m| 295/295 [01:04<00:00,  4.56batch/s, Loss: 0.3343 | Precision: 86.66%]\u001B[0m\n"
     ]
    },
    {
     "name": "stdout",
     "output_type": "stream",
     "text": [
      "Epoch 58 | Avg Loss: 0.2901 | Avg Precision: 86.67%\n"
     ]
    },
    {
     "name": "stderr",
     "output_type": "stream",
     "text": [
      "Train: 100%|\u001B[32m████████████████████████\u001B[0m| 295/295 [01:04<00:00,  4.56batch/s, Loss: 0.3543 | Precision: 86.65%]\u001B[0m\n"
     ]
    },
    {
     "name": "stdout",
     "output_type": "stream",
     "text": [
      "Epoch 59 | Avg Loss: 0.2902 | Avg Precision: 86.55%\n"
     ]
    },
    {
     "name": "stderr",
     "output_type": "stream",
     "text": [
      "Train: 100%|\u001B[32m████████████████████████\u001B[0m| 295/295 [01:04<00:00,  4.57batch/s, Loss: 0.3436 | Precision: 86.58%]\u001B[0m\n"
     ]
    },
    {
     "name": "stdout",
     "output_type": "stream",
     "text": [
      "Epoch 60 | Avg Loss: 0.2905 | Avg Precision: 86.60%\n"
     ]
    },
    {
     "name": "stderr",
     "output_type": "stream",
     "text": [
      "Validate: 100%|\u001B[34m███████████████████████\u001B[0m| 74/74 [00:13<00:00,  5.46batch/s, Loss: 0.2953 | Precision: 85.65%]\u001B[0m\n"
     ]
    },
    {
     "name": "stdout",
     "output_type": "stream",
     "text": [
      "Epoch 60 | Avg Loss: 0.2960 | Avg Precision: 85.57% | Patience: 2\n"
     ]
    },
    {
     "name": "stderr",
     "output_type": "stream",
     "text": [
      "Train: 100%|\u001B[32m████████████████████████\u001B[0m| 295/295 [01:04<00:00,  4.57batch/s, Loss: 0.3092 | Precision: 86.67%]\u001B[0m\n"
     ]
    },
    {
     "name": "stdout",
     "output_type": "stream",
     "text": [
      "Epoch 61 | Avg Loss: 0.2895 | Avg Precision: 86.65%\n"
     ]
    },
    {
     "name": "stderr",
     "output_type": "stream",
     "text": [
      "Train: 100%|\u001B[32m████████████████████████\u001B[0m| 295/295 [01:04<00:00,  4.56batch/s, Loss: 0.3264 | Precision: 86.61%]\u001B[0m\n"
     ]
    },
    {
     "name": "stdout",
     "output_type": "stream",
     "text": [
      "Epoch 62 | Avg Loss: 0.2904 | Avg Precision: 86.53%\n"
     ]
    },
    {
     "name": "stderr",
     "output_type": "stream",
     "text": [
      "Train: 100%|\u001B[32m████████████████████████\u001B[0m| 295/295 [01:04<00:00,  4.57batch/s, Loss: 0.3506 | Precision: 86.69%]\u001B[0m\n"
     ]
    },
    {
     "name": "stdout",
     "output_type": "stream",
     "text": [
      "Epoch 63 | Avg Loss: 0.2891 | Avg Precision: 86.75%\n"
     ]
    },
    {
     "name": "stderr",
     "output_type": "stream",
     "text": [
      "Train: 100%|\u001B[32m████████████████████████\u001B[0m| 295/295 [01:04<00:00,  4.56batch/s, Loss: 0.3663 | Precision: 86.74%]\u001B[0m\n"
     ]
    },
    {
     "name": "stdout",
     "output_type": "stream",
     "text": [
      "Epoch 64 | Avg Loss: 0.2885 | Avg Precision: 86.67%\n"
     ]
    },
    {
     "name": "stderr",
     "output_type": "stream",
     "text": [
      "Train: 100%|\u001B[32m████████████████████████\u001B[0m| 295/295 [01:04<00:00,  4.56batch/s, Loss: 0.3009 | Precision: 86.76%]\u001B[0m\n"
     ]
    },
    {
     "name": "stdout",
     "output_type": "stream",
     "text": [
      "Epoch 65 | Avg Loss: 0.2882 | Avg Precision: 86.72%\n"
     ]
    },
    {
     "name": "stderr",
     "output_type": "stream",
     "text": [
      "Validate: 100%|\u001B[34m███████████████████████\u001B[0m| 74/74 [00:13<00:00,  5.50batch/s, Loss: 0.2974 | Precision: 85.89%]\u001B[0m\n"
     ]
    },
    {
     "name": "stdout",
     "output_type": "stream",
     "text": [
      "Epoch 00013: reducing learning rate of group 0 to 7.2900e-03.\n",
      "Epoch 65 | Avg Loss: 0.2953 | Avg Precision: 85.81% | Patience: 3\n"
     ]
    },
    {
     "name": "stderr",
     "output_type": "stream",
     "text": [
      "Train: 100%|\u001B[32m████████████████████████\u001B[0m| 295/295 [01:04<00:00,  4.58batch/s, Loss: 0.3312 | Precision: 86.89%]\u001B[0m\n"
     ]
    },
    {
     "name": "stdout",
     "output_type": "stream",
     "text": [
      "Epoch 66 | Avg Loss: 0.2862 | Avg Precision: 86.82%\n"
     ]
    },
    {
     "name": "stderr",
     "output_type": "stream",
     "text": [
      "Train: 100%|\u001B[32m████████████████████████\u001B[0m| 295/295 [01:04<00:00,  4.57batch/s, Loss: 0.3665 | Precision: 86.85%]\u001B[0m\n"
     ]
    },
    {
     "name": "stdout",
     "output_type": "stream",
     "text": [
      "Epoch 67 | Avg Loss: 0.2866 | Avg Precision: 86.85%\n"
     ]
    },
    {
     "name": "stderr",
     "output_type": "stream",
     "text": [
      "Train: 100%|\u001B[32m████████████████████████\u001B[0m| 295/295 [01:04<00:00,  4.54batch/s, Loss: 0.3604 | Precision: 86.94%]\u001B[0m\n"
     ]
    },
    {
     "name": "stdout",
     "output_type": "stream",
     "text": [
      "Epoch 68 | Avg Loss: 0.2857 | Avg Precision: 86.88%\n"
     ]
    },
    {
     "name": "stderr",
     "output_type": "stream",
     "text": [
      "Train: 100%|\u001B[32m████████████████████████\u001B[0m| 295/295 [01:04<00:00,  4.57batch/s, Loss: 0.2952 | Precision: 86.95%]\u001B[0m\n"
     ]
    },
    {
     "name": "stdout",
     "output_type": "stream",
     "text": [
      "Epoch 69 | Avg Loss: 0.2851 | Avg Precision: 86.89%\n"
     ]
    },
    {
     "name": "stderr",
     "output_type": "stream",
     "text": [
      "Train: 100%|\u001B[32m████████████████████████\u001B[0m| 295/295 [01:04<00:00,  4.56batch/s, Loss: 0.3179 | Precision: 86.89%]\u001B[0m\n"
     ]
    },
    {
     "name": "stdout",
     "output_type": "stream",
     "text": [
      "Epoch 70 | Avg Loss: 0.2857 | Avg Precision: 86.84%\n"
     ]
    },
    {
     "name": "stderr",
     "output_type": "stream",
     "text": [
      "Validate: 100%|\u001B[34m███████████████████████\u001B[0m| 74/74 [00:13<00:00,  5.55batch/s, Loss: 0.2996 | Precision: 86.93%]\u001B[0m\n"
     ]
    },
    {
     "name": "stdout",
     "output_type": "stream",
     "text": [
      "Epoch 70 | Avg Loss: 0.2867 | Avg Precision: 86.73% | Patience: 0\n"
     ]
    },
    {
     "name": "stderr",
     "output_type": "stream",
     "text": [
      "Train: 100%|\u001B[32m████████████████████████\u001B[0m| 295/295 [01:04<00:00,  4.55batch/s, Loss: 0.3036 | Precision: 86.94%]\u001B[0m\n"
     ]
    },
    {
     "name": "stdout",
     "output_type": "stream",
     "text": [
      "Epoch 71 | Avg Loss: 0.2846 | Avg Precision: 86.91%\n"
     ]
    },
    {
     "name": "stderr",
     "output_type": "stream",
     "text": [
      "Train: 100%|\u001B[32m████████████████████████\u001B[0m| 295/295 [01:04<00:00,  4.55batch/s, Loss: 0.3021 | Precision: 86.90%]\u001B[0m\n"
     ]
    },
    {
     "name": "stdout",
     "output_type": "stream",
     "text": [
      "Epoch 72 | Avg Loss: 0.2849 | Avg Precision: 86.85%\n"
     ]
    },
    {
     "name": "stderr",
     "output_type": "stream",
     "text": [
      "Train: 100%|\u001B[32m████████████████████████\u001B[0m| 295/295 [01:04<00:00,  4.56batch/s, Loss: 0.2717 | Precision: 86.82%]\u001B[0m\n"
     ]
    },
    {
     "name": "stdout",
     "output_type": "stream",
     "text": [
      "Epoch 73 | Avg Loss: 0.2862 | Avg Precision: 86.76%\n"
     ]
    },
    {
     "name": "stderr",
     "output_type": "stream",
     "text": [
      "Train: 100%|\u001B[32m████████████████████████\u001B[0m| 295/295 [01:04<00:00,  4.56batch/s, Loss: 0.3137 | Precision: 86.90%]\u001B[0m\n"
     ]
    },
    {
     "name": "stdout",
     "output_type": "stream",
     "text": [
      "Epoch 74 | Avg Loss: 0.2845 | Avg Precision: 86.80%\n"
     ]
    },
    {
     "name": "stderr",
     "output_type": "stream",
     "text": [
      "Train: 100%|\u001B[32m████████████████████████\u001B[0m| 295/295 [01:04<00:00,  4.57batch/s, Loss: 0.2956 | Precision: 86.98%]\u001B[0m\n"
     ]
    },
    {
     "name": "stdout",
     "output_type": "stream",
     "text": [
      "Epoch 75 | Avg Loss: 0.2843 | Avg Precision: 86.87%\n"
     ]
    },
    {
     "name": "stderr",
     "output_type": "stream",
     "text": [
      "Validate: 100%|\u001B[34m███████████████████████\u001B[0m| 74/74 [00:13<00:00,  5.65batch/s, Loss: 0.3048 | Precision: 86.59%]\u001B[0m\n"
     ]
    },
    {
     "name": "stdout",
     "output_type": "stream",
     "text": [
      "Epoch 75 | Avg Loss: 0.2906 | Avg Precision: 86.41% | Patience: 1\n"
     ]
    },
    {
     "name": "stderr",
     "output_type": "stream",
     "text": [
      "Train: 100%|\u001B[32m████████████████████████\u001B[0m| 295/295 [01:04<00:00,  4.58batch/s, Loss: 0.3323 | Precision: 86.99%]\u001B[0m\n"
     ]
    },
    {
     "name": "stdout",
     "output_type": "stream",
     "text": [
      "Epoch 76 | Avg Loss: 0.2837 | Avg Precision: 86.90%\n"
     ]
    },
    {
     "name": "stderr",
     "output_type": "stream",
     "text": [
      "Train: 100%|\u001B[32m████████████████████████\u001B[0m| 295/295 [01:04<00:00,  4.57batch/s, Loss: 0.2909 | Precision: 86.98%]\u001B[0m\n"
     ]
    },
    {
     "name": "stdout",
     "output_type": "stream",
     "text": [
      "Epoch 77 | Avg Loss: 0.2837 | Avg Precision: 86.97%\n"
     ]
    },
    {
     "name": "stderr",
     "output_type": "stream",
     "text": [
      "Train: 100%|\u001B[32m████████████████████████\u001B[0m| 295/295 [01:04<00:00,  4.56batch/s, Loss: 0.2857 | Precision: 86.92%]\u001B[0m\n"
     ]
    },
    {
     "name": "stdout",
     "output_type": "stream",
     "text": [
      "Epoch 78 | Avg Loss: 0.2845 | Avg Precision: 86.88%\n"
     ]
    },
    {
     "name": "stderr",
     "output_type": "stream",
     "text": [
      "Train: 100%|\u001B[32m████████████████████████\u001B[0m| 295/295 [01:04<00:00,  4.56batch/s, Loss: 0.2848 | Precision: 87.03%]\u001B[0m\n"
     ]
    },
    {
     "name": "stdout",
     "output_type": "stream",
     "text": [
      "Epoch 79 | Avg Loss: 0.2823 | Avg Precision: 87.01%\n"
     ]
    },
    {
     "name": "stderr",
     "output_type": "stream",
     "text": [
      "Train: 100%|\u001B[32m████████████████████████\u001B[0m| 295/295 [01:04<00:00,  4.55batch/s, Loss: 0.2887 | Precision: 86.99%]\u001B[0m\n"
     ]
    },
    {
     "name": "stdout",
     "output_type": "stream",
     "text": [
      "Epoch 80 | Avg Loss: 0.2833 | Avg Precision: 86.96%\n"
     ]
    },
    {
     "name": "stderr",
     "output_type": "stream",
     "text": [
      "Validate: 100%|\u001B[34m███████████████████████\u001B[0m| 74/74 [00:13<00:00,  5.54batch/s, Loss: 0.3024 | Precision: 86.92%]\u001B[0m\n"
     ]
    },
    {
     "name": "stdout",
     "output_type": "stream",
     "text": [
      "Epoch 80 | Avg Loss: 0.2905 | Avg Precision: 86.82% | Patience: 0\n"
     ]
    },
    {
     "name": "stderr",
     "output_type": "stream",
     "text": [
      "Train: 100%|\u001B[32m████████████████████████\u001B[0m| 295/295 [01:04<00:00,  4.56batch/s, Loss: 0.2872 | Precision: 87.05%]\u001B[0m\n"
     ]
    },
    {
     "name": "stdout",
     "output_type": "stream",
     "text": [
      "Epoch 81 | Avg Loss: 0.2826 | Avg Precision: 86.98%\n"
     ]
    },
    {
     "name": "stderr",
     "output_type": "stream",
     "text": [
      "Train: 100%|\u001B[32m████████████████████████\u001B[0m| 295/295 [01:04<00:00,  4.57batch/s, Loss: 0.2894 | Precision: 87.03%]\u001B[0m\n"
     ]
    },
    {
     "name": "stdout",
     "output_type": "stream",
     "text": [
      "Epoch 82 | Avg Loss: 0.2829 | Avg Precision: 86.97%\n"
     ]
    },
    {
     "name": "stderr",
     "output_type": "stream",
     "text": [
      "Train: 100%|\u001B[32m████████████████████████\u001B[0m| 295/295 [01:04<00:00,  4.56batch/s, Loss: 0.2966 | Precision: 87.04%]\u001B[0m\n"
     ]
    },
    {
     "name": "stdout",
     "output_type": "stream",
     "text": [
      "Epoch 83 | Avg Loss: 0.2828 | Avg Precision: 87.00%\n"
     ]
    },
    {
     "name": "stderr",
     "output_type": "stream",
     "text": [
      "Train: 100%|\u001B[32m████████████████████████\u001B[0m| 295/295 [01:04<00:00,  4.59batch/s, Loss: 0.3288 | Precision: 86.99%]\u001B[0m\n"
     ]
    },
    {
     "name": "stdout",
     "output_type": "stream",
     "text": [
      "Epoch 84 | Avg Loss: 0.2834 | Avg Precision: 86.95%\n"
     ]
    },
    {
     "name": "stderr",
     "output_type": "stream",
     "text": [
      "Train: 100%|\u001B[32m████████████████████████\u001B[0m| 295/295 [01:04<00:00,  4.60batch/s, Loss: 0.3026 | Precision: 87.04%]\u001B[0m\n"
     ]
    },
    {
     "name": "stdout",
     "output_type": "stream",
     "text": [
      "Epoch 85 | Avg Loss: 0.2818 | Avg Precision: 87.07%\n"
     ]
    },
    {
     "name": "stderr",
     "output_type": "stream",
     "text": [
      "Validate: 100%|\u001B[34m███████████████████████\u001B[0m| 74/74 [00:13<00:00,  5.59batch/s, Loss: 0.3049 | Precision: 86.77%]\u001B[0m\n"
     ]
    },
    {
     "name": "stdout",
     "output_type": "stream",
     "text": [
      "Epoch 85 | Avg Loss: 0.2870 | Avg Precision: 86.66% | Patience: 1\n"
     ]
    },
    {
     "name": "stderr",
     "output_type": "stream",
     "text": [
      "Train: 100%|\u001B[32m████████████████████████\u001B[0m| 295/295 [01:04<00:00,  4.60batch/s, Loss: 0.3357 | Precision: 86.97%]\u001B[0m\n"
     ]
    },
    {
     "name": "stdout",
     "output_type": "stream",
     "text": [
      "Epoch 86 | Avg Loss: 0.2833 | Avg Precision: 86.91%\n"
     ]
    },
    {
     "name": "stderr",
     "output_type": "stream",
     "text": [
      "Train: 100%|\u001B[32m████████████████████████\u001B[0m| 295/295 [01:04<00:00,  4.59batch/s, Loss: 0.3469 | Precision: 87.05%]\u001B[0m\n"
     ]
    },
    {
     "name": "stdout",
     "output_type": "stream",
     "text": [
      "Epoch 87 | Avg Loss: 0.2819 | Avg Precision: 86.97%\n"
     ]
    },
    {
     "name": "stderr",
     "output_type": "stream",
     "text": [
      "Train: 100%|\u001B[32m████████████████████████\u001B[0m| 295/295 [01:04<00:00,  4.60batch/s, Loss: 0.2838 | Precision: 87.08%]\u001B[0m\n"
     ]
    },
    {
     "name": "stdout",
     "output_type": "stream",
     "text": [
      "Epoch 88 | Avg Loss: 0.2815 | Avg Precision: 87.08%\n"
     ]
    },
    {
     "name": "stderr",
     "output_type": "stream",
     "text": [
      "Train: 100%|\u001B[32m████████████████████████\u001B[0m| 295/295 [01:04<00:00,  4.60batch/s, Loss: 0.2862 | Precision: 87.05%]\u001B[0m\n"
     ]
    },
    {
     "name": "stdout",
     "output_type": "stream",
     "text": [
      "Epoch 89 | Avg Loss: 0.2821 | Avg Precision: 87.08%\n"
     ]
    },
    {
     "name": "stderr",
     "output_type": "stream",
     "text": [
      "Train: 100%|\u001B[32m████████████████████████\u001B[0m| 295/295 [01:04<00:00,  4.59batch/s, Loss: 0.2842 | Precision: 87.05%]\u001B[0m\n"
     ]
    },
    {
     "name": "stdout",
     "output_type": "stream",
     "text": [
      "Epoch 90 | Avg Loss: 0.2814 | Avg Precision: 87.08%\n"
     ]
    },
    {
     "name": "stderr",
     "output_type": "stream",
     "text": [
      "Validate: 100%|\u001B[34m███████████████████████\u001B[0m| 74/74 [00:13<00:00,  5.58batch/s, Loss: 0.2969 | Precision: 87.07%]\u001B[0m\n"
     ]
    },
    {
     "name": "stdout",
     "output_type": "stream",
     "text": [
      "Epoch 90 | Avg Loss: 0.2846 | Avg Precision: 86.84% | Patience: 0\n"
     ]
    },
    {
     "name": "stderr",
     "output_type": "stream",
     "text": [
      "Train: 100%|\u001B[32m████████████████████████\u001B[0m| 295/295 [01:04<00:00,  4.60batch/s, Loss: 0.2945 | Precision: 87.08%]\u001B[0m\n"
     ]
    },
    {
     "name": "stdout",
     "output_type": "stream",
     "text": [
      "Epoch 91 | Avg Loss: 0.2815 | Avg Precision: 87.08%\n"
     ]
    },
    {
     "name": "stderr",
     "output_type": "stream",
     "text": [
      "Train: 100%|\u001B[32m████████████████████████\u001B[0m| 295/295 [01:04<00:00,  4.59batch/s, Loss: 0.2885 | Precision: 86.99%]\u001B[0m\n"
     ]
    },
    {
     "name": "stdout",
     "output_type": "stream",
     "text": [
      "Epoch 92 | Avg Loss: 0.2826 | Avg Precision: 86.99%\n"
     ]
    },
    {
     "name": "stderr",
     "output_type": "stream",
     "text": [
      "Train: 100%|\u001B[32m████████████████████████\u001B[0m| 295/295 [01:03<00:00,  4.62batch/s, Loss: 0.2858 | Precision: 86.98%]\u001B[0m\n"
     ]
    },
    {
     "name": "stdout",
     "output_type": "stream",
     "text": [
      "Epoch 93 | Avg Loss: 0.2825 | Avg Precision: 86.93%\n"
     ]
    },
    {
     "name": "stderr",
     "output_type": "stream",
     "text": [
      "Train: 100%|\u001B[32m████████████████████████\u001B[0m| 295/295 [01:04<00:00,  4.61batch/s, Loss: 0.3256 | Precision: 86.98%]\u001B[0m\n"
     ]
    },
    {
     "name": "stdout",
     "output_type": "stream",
     "text": [
      "Epoch 94 | Avg Loss: 0.2826 | Avg Precision: 86.94%\n"
     ]
    },
    {
     "name": "stderr",
     "output_type": "stream",
     "text": [
      "Train: 100%|\u001B[32m████████████████████████\u001B[0m| 295/295 [01:04<00:00,  4.58batch/s, Loss: 0.3060 | Precision: 87.03%]\u001B[0m\n"
     ]
    },
    {
     "name": "stdout",
     "output_type": "stream",
     "text": [
      "Epoch 95 | Avg Loss: 0.2819 | Avg Precision: 87.02%\n"
     ]
    },
    {
     "name": "stderr",
     "output_type": "stream",
     "text": [
      "Validate: 100%|\u001B[34m███████████████████████\u001B[0m| 74/74 [00:13<00:00,  5.64batch/s, Loss: 0.3206 | Precision: 86.94%]\u001B[0m\n"
     ]
    },
    {
     "name": "stdout",
     "output_type": "stream",
     "text": [
      "Epoch 95 | Avg Loss: 0.2883 | Avg Precision: 86.82% | Patience: 1\n"
     ]
    },
    {
     "name": "stderr",
     "output_type": "stream",
     "text": [
      "Train: 100%|\u001B[32m████████████████████████\u001B[0m| 295/295 [01:03<00:00,  4.61batch/s, Loss: 0.2920 | Precision: 87.00%]\u001B[0m\n"
     ]
    },
    {
     "name": "stdout",
     "output_type": "stream",
     "text": [
      "Epoch 96 | Avg Loss: 0.2826 | Avg Precision: 86.92%\n"
     ]
    },
    {
     "name": "stderr",
     "output_type": "stream",
     "text": [
      "Train: 100%|\u001B[32m████████████████████████\u001B[0m| 295/295 [01:03<00:00,  4.62batch/s, Loss: 0.2863 | Precision: 87.11%]\u001B[0m\n"
     ]
    },
    {
     "name": "stdout",
     "output_type": "stream",
     "text": [
      "Epoch 97 | Avg Loss: 0.2809 | Avg Precision: 87.09%\n"
     ]
    },
    {
     "name": "stderr",
     "output_type": "stream",
     "text": [
      "Train: 100%|\u001B[32m████████████████████████\u001B[0m| 295/295 [01:03<00:00,  4.62batch/s, Loss: 0.3016 | Precision: 87.11%]\u001B[0m\n"
     ]
    },
    {
     "name": "stdout",
     "output_type": "stream",
     "text": [
      "Epoch 98 | Avg Loss: 0.2806 | Avg Precision: 87.08%\n"
     ]
    },
    {
     "name": "stderr",
     "output_type": "stream",
     "text": [
      "Train: 100%|\u001B[32m████████████████████████\u001B[0m| 295/295 [01:03<00:00,  4.62batch/s, Loss: 0.2962 | Precision: 87.03%]\u001B[0m\n"
     ]
    },
    {
     "name": "stdout",
     "output_type": "stream",
     "text": [
      "Epoch 99 | Avg Loss: 0.2812 | Avg Precision: 87.00%\n"
     ]
    },
    {
     "name": "stderr",
     "output_type": "stream",
     "text": [
      "Train: 100%|\u001B[32m████████████████████████\u001B[0m| 295/295 [01:03<00:00,  4.61batch/s, Loss: 0.3050 | Precision: 87.01%]\u001B[0m\n"
     ]
    },
    {
     "name": "stdout",
     "output_type": "stream",
     "text": [
      "Epoch 100 | Avg Loss: 0.2823 | Avg Precision: 87.02%\n"
     ]
    },
    {
     "name": "stderr",
     "output_type": "stream",
     "text": [
      "Validate: 100%|\u001B[34m███████████████████████\u001B[0m| 74/74 [00:13<00:00,  5.65batch/s, Loss: 0.3245 | Precision: 87.18%]\u001B[0m"
     ]
    },
    {
     "name": "stdout",
     "output_type": "stream",
     "text": [
      "Epoch 100 | Avg Loss: 0.2913 | Avg Precision: 86.98% | Patience: 0\n",
      "Training Complete - Best Precision: 86.98%\n"
     ]
    },
    {
     "name": "stderr",
     "output_type": "stream",
     "text": [
      "\n"
     ]
    }
   ],
   "source": [
    "model = Gru(9, 300, 1, 4)\n",
    "model = model.to(device)\n",
    "criterion = nn.CrossEntropyLoss()\n",
    "optimizer = optim.Adam(model.parameters(), lr=.01)\n",
    "scheduler = ReduceLROnPlateau(optimizer, 'max', factor=.9, patience=1, min_lr=.001, verbose=True)\n",
    "\n",
    "\n",
    "model1 = train_validate(model, criterion, optimizer, scheduler)\n",
    "torch.save(model1.state_dict(), '.\\\\models\\\\downsample\\\\gru\\\\model1.pth')"
   ]
  },
  {
   "cell_type": "markdown",
   "id": "9bfe500d-d5ae-470c-be99-b8adfbe5b52e",
   "metadata": {
    "jp-MarkdownHeadingCollapsed": true
   },
   "source": [
    "#### Model 2 - Lookback 30 - Batch 1024 - Changed Weight initializations"
   ]
  },
  {
   "cell_type": "code",
   "execution_count": 23,
   "id": "b79517c8-dfc1-4346-83db-44f8d4b6a0cb",
   "metadata": {},
   "outputs": [
    {
     "name": "stderr",
     "output_type": "stream",
     "text": [
      "Train: 100%|\u001B[32m████████████████████████\u001B[0m| 295/295 [01:18<00:00,  3.77batch/s, Loss: 0.3509 | Precision: 77.55%]\u001B[0m\n"
     ]
    },
    {
     "name": "stdout",
     "output_type": "stream",
     "text": [
      "Epoch 1 | Avg Loss: 0.4538 | Avg Precision: 74.57%\n"
     ]
    },
    {
     "name": "stderr",
     "output_type": "stream",
     "text": [
      "Train: 100%|\u001B[32m████████████████████████\u001B[0m| 295/295 [01:17<00:00,  3.79batch/s, Loss: 0.4633 | Precision: 81.08%]\u001B[0m\n"
     ]
    },
    {
     "name": "stdout",
     "output_type": "stream",
     "text": [
      "Epoch 2 | Avg Loss: 0.3924 | Avg Precision: 80.54%\n"
     ]
    },
    {
     "name": "stderr",
     "output_type": "stream",
     "text": [
      "Train: 100%|\u001B[32m████████████████████████\u001B[0m| 295/295 [01:18<00:00,  3.78batch/s, Loss: 0.4140 | Precision: 82.14%]\u001B[0m\n"
     ]
    },
    {
     "name": "stdout",
     "output_type": "stream",
     "text": [
      "Epoch 3 | Avg Loss: 0.3736 | Avg Precision: 81.68%\n"
     ]
    },
    {
     "name": "stderr",
     "output_type": "stream",
     "text": [
      "Train: 100%|\u001B[32m████████████████████████\u001B[0m| 295/295 [01:19<00:00,  3.72batch/s, Loss: 0.4233 | Precision: 82.92%]\u001B[0m\n"
     ]
    },
    {
     "name": "stdout",
     "output_type": "stream",
     "text": [
      "Epoch 4 | Avg Loss: 0.3610 | Avg Precision: 82.67%\n"
     ]
    },
    {
     "name": "stderr",
     "output_type": "stream",
     "text": [
      "Train: 100%|\u001B[32m████████████████████████\u001B[0m| 295/295 [01:19<00:00,  3.70batch/s, Loss: 0.4504 | Precision: 83.23%]\u001B[0m\n"
     ]
    },
    {
     "name": "stdout",
     "output_type": "stream",
     "text": [
      "Epoch 5 | Avg Loss: 0.3542 | Avg Precision: 82.95%\n"
     ]
    },
    {
     "name": "stderr",
     "output_type": "stream",
     "text": [
      "Validate: 100%|\u001B[34m███████████████████████\u001B[0m| 74/74 [00:17<00:00,  4.24batch/s, Loss: 0.5180 | Precision: 77.75%]\u001B[0m\n"
     ]
    },
    {
     "name": "stdout",
     "output_type": "stream",
     "text": [
      "Epoch 5 | Avg Loss: 0.4908 | Avg Precision: 77.63% | Patience: 0\n"
     ]
    },
    {
     "name": "stderr",
     "output_type": "stream",
     "text": [
      "Train: 100%|\u001B[32m████████████████████████\u001B[0m| 295/295 [01:19<00:00,  3.72batch/s, Loss: 0.5126 | Precision: 82.30%]\u001B[0m\n"
     ]
    },
    {
     "name": "stdout",
     "output_type": "stream",
     "text": [
      "Epoch 6 | Avg Loss: 0.3727 | Avg Precision: 81.55%\n"
     ]
    },
    {
     "name": "stderr",
     "output_type": "stream",
     "text": [
      "Train: 100%|\u001B[32m████████████████████████\u001B[0m| 295/295 [01:20<00:00,  3.68batch/s, Loss: 0.4665 | Precision: 82.78%]\u001B[0m\n"
     ]
    },
    {
     "name": "stdout",
     "output_type": "stream",
     "text": [
      "Epoch 7 | Avg Loss: 0.3616 | Avg Precision: 82.69%\n"
     ]
    },
    {
     "name": "stderr",
     "output_type": "stream",
     "text": [
      "Train: 100%|\u001B[32m████████████████████████\u001B[0m| 295/295 [01:19<00:00,  3.70batch/s, Loss: 0.3786 | Precision: 83.22%]\u001B[0m\n"
     ]
    },
    {
     "name": "stdout",
     "output_type": "stream",
     "text": [
      "Epoch 8 | Avg Loss: 0.3547 | Avg Precision: 83.06%\n"
     ]
    },
    {
     "name": "stderr",
     "output_type": "stream",
     "text": [
      "Train: 100%|\u001B[32m████████████████████████\u001B[0m| 295/295 [01:19<00:00,  3.71batch/s, Loss: 0.3977 | Precision: 83.41%]\u001B[0m\n"
     ]
    },
    {
     "name": "stdout",
     "output_type": "stream",
     "text": [
      "Epoch 9 | Avg Loss: 0.3514 | Avg Precision: 83.21%\n"
     ]
    },
    {
     "name": "stderr",
     "output_type": "stream",
     "text": [
      "Train: 100%|\u001B[32m████████████████████████\u001B[0m| 295/295 [01:19<00:00,  3.71batch/s, Loss: 0.3963 | Precision: 83.71%]\u001B[0m\n"
     ]
    },
    {
     "name": "stdout",
     "output_type": "stream",
     "text": [
      "Epoch 10 | Avg Loss: 0.3466 | Avg Precision: 83.61%\n"
     ]
    },
    {
     "name": "stderr",
     "output_type": "stream",
     "text": [
      "Validate: 100%|\u001B[34m███████████████████████\u001B[0m| 74/74 [00:17<00:00,  4.21batch/s, Loss: 0.3841 | Precision: 83.83%]\u001B[0m\n"
     ]
    },
    {
     "name": "stdout",
     "output_type": "stream",
     "text": [
      "Epoch 10 | Avg Loss: 0.3710 | Avg Precision: 83.67% | Patience: 0\n"
     ]
    },
    {
     "name": "stderr",
     "output_type": "stream",
     "text": [
      "Train: 100%|\u001B[32m████████████████████████\u001B[0m| 295/295 [01:19<00:00,  3.70batch/s, Loss: 0.4270 | Precision: 83.70%]\u001B[0m\n"
     ]
    },
    {
     "name": "stdout",
     "output_type": "stream",
     "text": [
      "Epoch 11 | Avg Loss: 0.3508 | Avg Precision: 83.55%\n"
     ]
    },
    {
     "name": "stderr",
     "output_type": "stream",
     "text": [
      "Train: 100%|\u001B[32m████████████████████████\u001B[0m| 295/295 [01:19<00:00,  3.69batch/s, Loss: 0.3808 | Precision: 83.85%]\u001B[0m\n"
     ]
    },
    {
     "name": "stdout",
     "output_type": "stream",
     "text": [
      "Epoch 12 | Avg Loss: 0.3422 | Avg Precision: 83.69%\n"
     ]
    },
    {
     "name": "stderr",
     "output_type": "stream",
     "text": [
      "Train: 100%|\u001B[32m████████████████████████\u001B[0m| 295/295 [01:20<00:00,  3.67batch/s, Loss: 0.3867 | Precision: 84.18%]\u001B[0m\n"
     ]
    },
    {
     "name": "stdout",
     "output_type": "stream",
     "text": [
      "Epoch 13 | Avg Loss: 0.3372 | Avg Precision: 84.06%\n"
     ]
    },
    {
     "name": "stderr",
     "output_type": "stream",
     "text": [
      "Train: 100%|\u001B[32m████████████████████████\u001B[0m| 295/295 [01:20<00:00,  3.67batch/s, Loss: 0.4168 | Precision: 84.37%]\u001B[0m\n"
     ]
    },
    {
     "name": "stdout",
     "output_type": "stream",
     "text": [
      "Epoch 14 | Avg Loss: 0.3339 | Avg Precision: 84.32%\n"
     ]
    },
    {
     "name": "stderr",
     "output_type": "stream",
     "text": [
      "Train: 100%|\u001B[32m████████████████████████\u001B[0m| 295/295 [01:20<00:00,  3.67batch/s, Loss: 0.3621 | Precision: 84.47%]\u001B[0m\n"
     ]
    },
    {
     "name": "stdout",
     "output_type": "stream",
     "text": [
      "Epoch 15 | Avg Loss: 0.3331 | Avg Precision: 84.34%\n"
     ]
    },
    {
     "name": "stderr",
     "output_type": "stream",
     "text": [
      "Validate: 100%|\u001B[34m███████████████████████\u001B[0m| 74/74 [00:17<00:00,  4.18batch/s, Loss: 0.3524 | Precision: 83.44%]\u001B[0m\n"
     ]
    },
    {
     "name": "stdout",
     "output_type": "stream",
     "text": [
      "Epoch 15 | Avg Loss: 0.3501 | Avg Precision: 83.45% | Patience: 1\n"
     ]
    },
    {
     "name": "stderr",
     "output_type": "stream",
     "text": [
      "Train: 100%|\u001B[32m████████████████████████\u001B[0m| 295/295 [01:20<00:00,  3.67batch/s, Loss: 0.3700 | Precision: 84.44%]\u001B[0m\n"
     ]
    },
    {
     "name": "stdout",
     "output_type": "stream",
     "text": [
      "Epoch 16 | Avg Loss: 0.3320 | Avg Precision: 84.26%\n"
     ]
    },
    {
     "name": "stderr",
     "output_type": "stream",
     "text": [
      "Train: 100%|\u001B[32m████████████████████████\u001B[0m| 295/295 [01:20<00:00,  3.65batch/s, Loss: 0.4190 | Precision: 84.59%]\u001B[0m\n"
     ]
    },
    {
     "name": "stdout",
     "output_type": "stream",
     "text": [
      "Epoch 17 | Avg Loss: 0.3304 | Avg Precision: 84.49%\n"
     ]
    },
    {
     "name": "stderr",
     "output_type": "stream",
     "text": [
      "Train: 100%|\u001B[32m████████████████████████\u001B[0m| 295/295 [01:21<00:00,  3.63batch/s, Loss: 0.4162 | Precision: 84.69%]\u001B[0m\n"
     ]
    },
    {
     "name": "stdout",
     "output_type": "stream",
     "text": [
      "Epoch 18 | Avg Loss: 0.3281 | Avg Precision: 84.45%\n"
     ]
    },
    {
     "name": "stderr",
     "output_type": "stream",
     "text": [
      "Train: 100%|\u001B[32m████████████████████████\u001B[0m| 295/295 [01:21<00:00,  3.64batch/s, Loss: 0.3654 | Precision: 84.71%]\u001B[0m\n"
     ]
    },
    {
     "name": "stdout",
     "output_type": "stream",
     "text": [
      "Epoch 19 | Avg Loss: 0.3263 | Avg Precision: 84.49%\n"
     ]
    },
    {
     "name": "stderr",
     "output_type": "stream",
     "text": [
      "Train: 100%|\u001B[32m████████████████████████\u001B[0m| 295/295 [01:20<00:00,  3.64batch/s, Loss: 0.3656 | Precision: 84.88%]\u001B[0m\n"
     ]
    },
    {
     "name": "stdout",
     "output_type": "stream",
     "text": [
      "Epoch 20 | Avg Loss: 0.3243 | Avg Precision: 84.66%\n"
     ]
    },
    {
     "name": "stderr",
     "output_type": "stream",
     "text": [
      "Validate: 100%|\u001B[34m███████████████████████\u001B[0m| 74/74 [00:17<00:00,  4.18batch/s, Loss: 0.3584 | Precision: 85.58%]\u001B[0m\n"
     ]
    },
    {
     "name": "stdout",
     "output_type": "stream",
     "text": [
      "Epoch 20 | Avg Loss: 0.3352 | Avg Precision: 85.46% | Patience: 0\n"
     ]
    },
    {
     "name": "stderr",
     "output_type": "stream",
     "text": [
      "Train: 100%|\u001B[32m████████████████████████\u001B[0m| 295/295 [01:21<00:00,  3.62batch/s, Loss: 0.3467 | Precision: 84.86%]\u001B[0m\n"
     ]
    },
    {
     "name": "stdout",
     "output_type": "stream",
     "text": [
      "Epoch 21 | Avg Loss: 0.3256 | Avg Precision: 84.65%\n"
     ]
    },
    {
     "name": "stderr",
     "output_type": "stream",
     "text": [
      "Train: 100%|\u001B[32m████████████████████████\u001B[0m| 295/295 [01:20<00:00,  3.64batch/s, Loss: 0.3347 | Precision: 84.87%]\u001B[0m\n"
     ]
    },
    {
     "name": "stdout",
     "output_type": "stream",
     "text": [
      "Epoch 22 | Avg Loss: 0.3318 | Avg Precision: 84.66%\n"
     ]
    },
    {
     "name": "stderr",
     "output_type": "stream",
     "text": [
      "Train: 100%|\u001B[32m████████████████████████\u001B[0m| 295/295 [01:21<00:00,  3.61batch/s, Loss: 0.3573 | Precision: 85.07%]\u001B[0m\n"
     ]
    },
    {
     "name": "stdout",
     "output_type": "stream",
     "text": [
      "Epoch 23 | Avg Loss: 0.3302 | Avg Precision: 84.95%\n"
     ]
    },
    {
     "name": "stderr",
     "output_type": "stream",
     "text": [
      "Train: 100%|\u001B[32m████████████████████████\u001B[0m| 295/295 [01:20<00:00,  3.64batch/s, Loss: 0.3860 | Precision: 85.13%]\u001B[0m\n"
     ]
    },
    {
     "name": "stdout",
     "output_type": "stream",
     "text": [
      "Epoch 24 | Avg Loss: 0.3196 | Avg Precision: 85.05%\n"
     ]
    },
    {
     "name": "stderr",
     "output_type": "stream",
     "text": [
      "Train: 100%|\u001B[32m████████████████████████\u001B[0m| 295/295 [01:21<00:00,  3.63batch/s, Loss: 0.3613 | Precision: 85.23%]\u001B[0m\n"
     ]
    },
    {
     "name": "stdout",
     "output_type": "stream",
     "text": [
      "Epoch 25 | Avg Loss: 0.3181 | Avg Precision: 85.03%\n"
     ]
    },
    {
     "name": "stderr",
     "output_type": "stream",
     "text": [
      "Validate: 100%|\u001B[34m███████████████████████\u001B[0m| 74/74 [00:17<00:00,  4.16batch/s, Loss: 0.3506 | Precision: 84.82%]\u001B[0m\n"
     ]
    },
    {
     "name": "stdout",
     "output_type": "stream",
     "text": [
      "Epoch 25 | Avg Loss: 0.3348 | Avg Precision: 84.67% | Patience: 1\n"
     ]
    },
    {
     "name": "stderr",
     "output_type": "stream",
     "text": [
      "Train: 100%|\u001B[32m████████████████████████\u001B[0m| 295/295 [01:20<00:00,  3.67batch/s, Loss: 0.3521 | Precision: 85.30%]\u001B[0m\n"
     ]
    },
    {
     "name": "stdout",
     "output_type": "stream",
     "text": [
      "Epoch 26 | Avg Loss: 0.3167 | Avg Precision: 85.16%\n"
     ]
    },
    {
     "name": "stderr",
     "output_type": "stream",
     "text": [
      "Train: 100%|\u001B[32m████████████████████████\u001B[0m| 295/295 [01:20<00:00,  3.65batch/s, Loss: 0.3292 | Precision: 85.39%]\u001B[0m\n"
     ]
    },
    {
     "name": "stdout",
     "output_type": "stream",
     "text": [
      "Epoch 27 | Avg Loss: 0.3152 | Avg Precision: 85.32%\n"
     ]
    },
    {
     "name": "stderr",
     "output_type": "stream",
     "text": [
      "Train: 100%|\u001B[32m████████████████████████\u001B[0m| 295/295 [01:21<00:00,  3.63batch/s, Loss: 0.3661 | Precision: 85.44%]\u001B[0m\n"
     ]
    },
    {
     "name": "stdout",
     "output_type": "stream",
     "text": [
      "Epoch 28 | Avg Loss: 0.3142 | Avg Precision: 85.34%\n"
     ]
    },
    {
     "name": "stderr",
     "output_type": "stream",
     "text": [
      "Train: 100%|\u001B[32m████████████████████████\u001B[0m| 295/295 [01:21<00:00,  3.63batch/s, Loss: 0.3628 | Precision: 85.37%]\u001B[0m\n"
     ]
    },
    {
     "name": "stdout",
     "output_type": "stream",
     "text": [
      "Epoch 29 | Avg Loss: 0.3148 | Avg Precision: 85.30%\n"
     ]
    },
    {
     "name": "stderr",
     "output_type": "stream",
     "text": [
      "Train: 100%|\u001B[32m████████████████████████\u001B[0m| 295/295 [01:21<00:00,  3.64batch/s, Loss: 0.3693 | Precision: 85.44%]\u001B[0m\n"
     ]
    },
    {
     "name": "stdout",
     "output_type": "stream",
     "text": [
      "Epoch 30 | Avg Loss: 0.3141 | Avg Precision: 85.34%\n"
     ]
    },
    {
     "name": "stderr",
     "output_type": "stream",
     "text": [
      "Validate: 100%|\u001B[34m███████████████████████\u001B[0m| 74/74 [00:17<00:00,  4.16batch/s, Loss: 0.3112 | Precision: 85.55%]\u001B[0m\n"
     ]
    },
    {
     "name": "stdout",
     "output_type": "stream",
     "text": [
      "Epoch 00006: reducing learning rate of group 0 to 9.0000e-03.\n",
      "Epoch 30 | Avg Loss: 0.3115 | Avg Precision: 85.34% | Patience: 2\n"
     ]
    },
    {
     "name": "stderr",
     "output_type": "stream",
     "text": [
      "Train: 100%|\u001B[32m████████████████████████\u001B[0m| 295/295 [01:20<00:00,  3.66batch/s, Loss: 0.3629 | Precision: 85.58%]\u001B[0m\n"
     ]
    },
    {
     "name": "stdout",
     "output_type": "stream",
     "text": [
      "Epoch 31 | Avg Loss: 0.3110 | Avg Precision: 85.48%\n"
     ]
    },
    {
     "name": "stderr",
     "output_type": "stream",
     "text": [
      "Train: 100%|\u001B[32m████████████████████████\u001B[0m| 295/295 [01:20<00:00,  3.67batch/s, Loss: 0.3580 | Precision: 85.62%]\u001B[0m\n"
     ]
    },
    {
     "name": "stdout",
     "output_type": "stream",
     "text": [
      "Epoch 32 | Avg Loss: 0.3101 | Avg Precision: 85.53%\n"
     ]
    },
    {
     "name": "stderr",
     "output_type": "stream",
     "text": [
      "Train: 100%|\u001B[32m████████████████████████\u001B[0m| 295/295 [01:20<00:00,  3.67batch/s, Loss: 0.3590 | Precision: 85.65%]\u001B[0m\n"
     ]
    },
    {
     "name": "stdout",
     "output_type": "stream",
     "text": [
      "Epoch 33 | Avg Loss: 0.3093 | Avg Precision: 85.54%\n"
     ]
    },
    {
     "name": "stderr",
     "output_type": "stream",
     "text": [
      "Train: 100%|\u001B[32m████████████████████████\u001B[0m| 295/295 [01:20<00:00,  3.66batch/s, Loss: 0.3570 | Precision: 85.67%]\u001B[0m\n"
     ]
    },
    {
     "name": "stdout",
     "output_type": "stream",
     "text": [
      "Epoch 34 | Avg Loss: 0.3092 | Avg Precision: 85.63%\n"
     ]
    },
    {
     "name": "stderr",
     "output_type": "stream",
     "text": [
      "Train: 100%|\u001B[32m████████████████████████\u001B[0m| 295/295 [01:20<00:00,  3.66batch/s, Loss: 0.3594 | Precision: 85.70%]\u001B[0m\n"
     ]
    },
    {
     "name": "stdout",
     "output_type": "stream",
     "text": [
      "Epoch 35 | Avg Loss: 0.3087 | Avg Precision: 85.50%\n"
     ]
    },
    {
     "name": "stderr",
     "output_type": "stream",
     "text": [
      "Validate: 100%|\u001B[34m███████████████████████\u001B[0m| 74/74 [00:17<00:00,  4.22batch/s, Loss: 0.3244 | Precision: 85.75%]\u001B[0m\n"
     ]
    },
    {
     "name": "stdout",
     "output_type": "stream",
     "text": [
      "Epoch 35 | Avg Loss: 0.3106 | Avg Precision: 85.60% | Patience: 0\n"
     ]
    },
    {
     "name": "stderr",
     "output_type": "stream",
     "text": [
      "Train: 100%|\u001B[32m████████████████████████\u001B[0m| 295/295 [01:21<00:00,  3.62batch/s, Loss: 0.3508 | Precision: 85.72%]\u001B[0m\n"
     ]
    },
    {
     "name": "stdout",
     "output_type": "stream",
     "text": [
      "Epoch 36 | Avg Loss: 0.3081 | Avg Precision: 85.64%\n"
     ]
    },
    {
     "name": "stderr",
     "output_type": "stream",
     "text": [
      "Train: 100%|\u001B[32m████████████████████████\u001B[0m| 295/295 [01:20<00:00,  3.68batch/s, Loss: 0.3616 | Precision: 85.72%]\u001B[0m\n"
     ]
    },
    {
     "name": "stdout",
     "output_type": "stream",
     "text": [
      "Epoch 37 | Avg Loss: 0.3076 | Avg Precision: 85.68%\n"
     ]
    },
    {
     "name": "stderr",
     "output_type": "stream",
     "text": [
      "Train: 100%|\u001B[32m████████████████████████\u001B[0m| 295/295 [01:20<00:00,  3.69batch/s, Loss: 0.3821 | Precision: 85.77%]\u001B[0m\n"
     ]
    },
    {
     "name": "stdout",
     "output_type": "stream",
     "text": [
      "Epoch 38 | Avg Loss: 0.3072 | Avg Precision: 85.74%\n"
     ]
    },
    {
     "name": "stderr",
     "output_type": "stream",
     "text": [
      "Train: 100%|\u001B[32m████████████████████████\u001B[0m| 295/295 [01:20<00:00,  3.68batch/s, Loss: 0.3687 | Precision: 85.82%]\u001B[0m\n"
     ]
    },
    {
     "name": "stdout",
     "output_type": "stream",
     "text": [
      "Epoch 39 | Avg Loss: 0.3060 | Avg Precision: 85.73%\n"
     ]
    },
    {
     "name": "stderr",
     "output_type": "stream",
     "text": [
      "Train: 100%|\u001B[32m████████████████████████\u001B[0m| 295/295 [01:20<00:00,  3.68batch/s, Loss: 0.3617 | Precision: 85.82%]\u001B[0m\n"
     ]
    },
    {
     "name": "stdout",
     "output_type": "stream",
     "text": [
      "Epoch 40 | Avg Loss: 0.3062 | Avg Precision: 85.79%\n"
     ]
    },
    {
     "name": "stderr",
     "output_type": "stream",
     "text": [
      "Validate: 100%|\u001B[34m███████████████████████\u001B[0m| 74/74 [00:17<00:00,  4.18batch/s, Loss: 0.3095 | Precision: 85.54%]\u001B[0m\n"
     ]
    },
    {
     "name": "stdout",
     "output_type": "stream",
     "text": [
      "Epoch 40 | Avg Loss: 0.3112 | Avg Precision: 85.35% | Patience: 1\n"
     ]
    },
    {
     "name": "stderr",
     "output_type": "stream",
     "text": [
      "Train: 100%|\u001B[32m████████████████████████\u001B[0m| 295/295 [01:20<00:00,  3.67batch/s, Loss: 0.3534 | Precision: 85.88%]\u001B[0m\n"
     ]
    },
    {
     "name": "stdout",
     "output_type": "stream",
     "text": [
      "Epoch 41 | Avg Loss: 0.3052 | Avg Precision: 85.78%\n"
     ]
    },
    {
     "name": "stderr",
     "output_type": "stream",
     "text": [
      "Train: 100%|\u001B[32m████████████████████████\u001B[0m| 295/295 [01:20<00:00,  3.66batch/s, Loss: 0.3658 | Precision: 85.88%]\u001B[0m\n"
     ]
    },
    {
     "name": "stdout",
     "output_type": "stream",
     "text": [
      "Epoch 42 | Avg Loss: 0.3046 | Avg Precision: 85.80%\n"
     ]
    },
    {
     "name": "stderr",
     "output_type": "stream",
     "text": [
      "Train: 100%|\u001B[32m████████████████████████\u001B[0m| 295/295 [01:20<00:00,  3.66batch/s, Loss: 0.3762 | Precision: 85.83%]\u001B[0m\n"
     ]
    },
    {
     "name": "stdout",
     "output_type": "stream",
     "text": [
      "Epoch 43 | Avg Loss: 0.3055 | Avg Precision: 85.80%\n"
     ]
    },
    {
     "name": "stderr",
     "output_type": "stream",
     "text": [
      "Train: 100%|\u001B[32m████████████████████████\u001B[0m| 295/295 [01:20<00:00,  3.64batch/s, Loss: 0.3644 | Precision: 85.94%]\u001B[0m\n"
     ]
    },
    {
     "name": "stdout",
     "output_type": "stream",
     "text": [
      "Epoch 44 | Avg Loss: 0.3043 | Avg Precision: 85.90%\n"
     ]
    },
    {
     "name": "stderr",
     "output_type": "stream",
     "text": [
      "Train: 100%|\u001B[32m████████████████████████\u001B[0m| 295/295 [01:20<00:00,  3.64batch/s, Loss: 0.3772 | Precision: 86.01%]\u001B[0m\n"
     ]
    },
    {
     "name": "stdout",
     "output_type": "stream",
     "text": [
      "Epoch 45 | Avg Loss: 0.3031 | Avg Precision: 85.88%\n"
     ]
    },
    {
     "name": "stderr",
     "output_type": "stream",
     "text": [
      "Validate: 100%|\u001B[34m███████████████████████\u001B[0m| 74/74 [00:17<00:00,  4.17batch/s, Loss: 0.3157 | Precision: 85.51%]\u001B[0m\n"
     ]
    },
    {
     "name": "stdout",
     "output_type": "stream",
     "text": [
      "Epoch 00009: reducing learning rate of group 0 to 8.1000e-03.\n",
      "Epoch 45 | Avg Loss: 0.3104 | Avg Precision: 85.34% | Patience: 2\n"
     ]
    },
    {
     "name": "stderr",
     "output_type": "stream",
     "text": [
      "Train: 100%|\u001B[32m████████████████████████\u001B[0m| 295/295 [01:20<00:00,  3.66batch/s, Loss: 0.3587 | Precision: 86.04%]\u001B[0m\n"
     ]
    },
    {
     "name": "stdout",
     "output_type": "stream",
     "text": [
      "Epoch 46 | Avg Loss: 0.3018 | Avg Precision: 85.92%\n"
     ]
    },
    {
     "name": "stderr",
     "output_type": "stream",
     "text": [
      "Train: 100%|\u001B[32m████████████████████████\u001B[0m| 295/295 [01:20<00:00,  3.66batch/s, Loss: 0.3456 | Precision: 86.09%]\u001B[0m\n"
     ]
    },
    {
     "name": "stdout",
     "output_type": "stream",
     "text": [
      "Epoch 47 | Avg Loss: 0.3004 | Avg Precision: 86.03%\n"
     ]
    },
    {
     "name": "stderr",
     "output_type": "stream",
     "text": [
      "Train: 100%|\u001B[32m████████████████████████\u001B[0m| 295/295 [01:20<00:00,  3.65batch/s, Loss: 0.3543 | Precision: 86.13%]\u001B[0m\n"
     ]
    },
    {
     "name": "stdout",
     "output_type": "stream",
     "text": [
      "Epoch 48 | Avg Loss: 0.3001 | Avg Precision: 86.07%\n"
     ]
    },
    {
     "name": "stderr",
     "output_type": "stream",
     "text": [
      "Train: 100%|\u001B[32m████████████████████████\u001B[0m| 295/295 [01:20<00:00,  3.65batch/s, Loss: 0.3726 | Precision: 86.05%]\u001B[0m\n"
     ]
    },
    {
     "name": "stdout",
     "output_type": "stream",
     "text": [
      "Epoch 49 | Avg Loss: 0.3013 | Avg Precision: 85.95%\n"
     ]
    },
    {
     "name": "stderr",
     "output_type": "stream",
     "text": [
      "Train: 100%|\u001B[32m████████████████████████\u001B[0m| 295/295 [01:20<00:00,  3.65batch/s, Loss: 0.3648 | Precision: 86.14%]\u001B[0m\n"
     ]
    },
    {
     "name": "stdout",
     "output_type": "stream",
     "text": [
      "Epoch 50 | Avg Loss: 0.2998 | Avg Precision: 86.07%\n"
     ]
    },
    {
     "name": "stderr",
     "output_type": "stream",
     "text": [
      "Validate: 100%|\u001B[34m███████████████████████\u001B[0m| 74/74 [00:17<00:00,  4.23batch/s, Loss: 0.3012 | Precision: 85.77%]\u001B[0m\n"
     ]
    },
    {
     "name": "stdout",
     "output_type": "stream",
     "text": [
      "Epoch 50 | Avg Loss: 0.3104 | Avg Precision: 85.58% | Patience: 3\n"
     ]
    },
    {
     "name": "stderr",
     "output_type": "stream",
     "text": [
      "Train: 100%|\u001B[32m████████████████████████\u001B[0m| 295/295 [01:20<00:00,  3.64batch/s, Loss: 0.3684 | Precision: 86.15%]\u001B[0m\n"
     ]
    },
    {
     "name": "stdout",
     "output_type": "stream",
     "text": [
      "Epoch 51 | Avg Loss: 0.2996 | Avg Precision: 86.05%\n"
     ]
    },
    {
     "name": "stderr",
     "output_type": "stream",
     "text": [
      "Train: 100%|\u001B[32m████████████████████████\u001B[0m| 295/295 [01:21<00:00,  3.62batch/s, Loss: 0.3581 | Precision: 86.12%]\u001B[0m\n"
     ]
    },
    {
     "name": "stdout",
     "output_type": "stream",
     "text": [
      "Epoch 52 | Avg Loss: 0.3007 | Avg Precision: 86.05%\n"
     ]
    },
    {
     "name": "stderr",
     "output_type": "stream",
     "text": [
      "Train: 100%|\u001B[32m████████████████████████\u001B[0m| 295/295 [01:20<00:00,  3.65batch/s, Loss: 0.3874 | Precision: 86.11%]\u001B[0m\n"
     ]
    },
    {
     "name": "stdout",
     "output_type": "stream",
     "text": [
      "Epoch 53 | Avg Loss: 0.3006 | Avg Precision: 86.09%\n"
     ]
    },
    {
     "name": "stderr",
     "output_type": "stream",
     "text": [
      "Train: 100%|\u001B[32m████████████████████████\u001B[0m| 295/295 [01:20<00:00,  3.65batch/s, Loss: 0.3725 | Precision: 86.19%]\u001B[0m\n"
     ]
    },
    {
     "name": "stdout",
     "output_type": "stream",
     "text": [
      "Epoch 54 | Avg Loss: 0.2988 | Avg Precision: 86.06%\n"
     ]
    },
    {
     "name": "stderr",
     "output_type": "stream",
     "text": [
      "Train: 100%|\u001B[32m████████████████████████\u001B[0m| 295/295 [01:21<00:00,  3.63batch/s, Loss: 0.3707 | Precision: 86.23%]\u001B[0m\n"
     ]
    },
    {
     "name": "stdout",
     "output_type": "stream",
     "text": [
      "Epoch 55 | Avg Loss: 0.2985 | Avg Precision: 86.13%\n"
     ]
    },
    {
     "name": "stderr",
     "output_type": "stream",
     "text": [
      "Validate: 100%|\u001B[34m███████████████████████\u001B[0m| 74/74 [00:17<00:00,  4.16batch/s, Loss: 0.3072 | Precision: 85.89%]\u001B[0m\n"
     ]
    },
    {
     "name": "stdout",
     "output_type": "stream",
     "text": [
      "Epoch 55 | Avg Loss: 0.3043 | Avg Precision: 85.72% | Patience: 0\n"
     ]
    },
    {
     "name": "stderr",
     "output_type": "stream",
     "text": [
      "Train: 100%|\u001B[32m████████████████████████\u001B[0m| 295/295 [01:21<00:00,  3.64batch/s, Loss: 0.3620 | Precision: 86.22%]\u001B[0m\n"
     ]
    },
    {
     "name": "stdout",
     "output_type": "stream",
     "text": [
      "Epoch 56 | Avg Loss: 0.2983 | Avg Precision: 86.12%\n"
     ]
    },
    {
     "name": "stderr",
     "output_type": "stream",
     "text": [
      "Train: 100%|\u001B[32m████████████████████████\u001B[0m| 295/295 [01:20<00:00,  3.66batch/s, Loss: 0.3627 | Precision: 86.13%]\u001B[0m\n"
     ]
    },
    {
     "name": "stdout",
     "output_type": "stream",
     "text": [
      "Epoch 57 | Avg Loss: 0.3012 | Avg Precision: 85.94%\n"
     ]
    },
    {
     "name": "stderr",
     "output_type": "stream",
     "text": [
      "Train: 100%|\u001B[32m████████████████████████\u001B[0m| 295/295 [01:20<00:00,  3.68batch/s, Loss: 0.3859 | Precision: 86.27%]\u001B[0m\n"
     ]
    },
    {
     "name": "stdout",
     "output_type": "stream",
     "text": [
      "Epoch 58 | Avg Loss: 0.2981 | Avg Precision: 86.21%\n"
     ]
    },
    {
     "name": "stderr",
     "output_type": "stream",
     "text": [
      "Train: 100%|\u001B[32m████████████████████████\u001B[0m| 295/295 [01:20<00:00,  3.68batch/s, Loss: 0.3585 | Precision: 86.27%]\u001B[0m\n"
     ]
    },
    {
     "name": "stdout",
     "output_type": "stream",
     "text": [
      "Epoch 59 | Avg Loss: 0.2973 | Avg Precision: 86.15%\n"
     ]
    },
    {
     "name": "stderr",
     "output_type": "stream",
     "text": [
      "Train: 100%|\u001B[32m████████████████████████\u001B[0m| 295/295 [01:20<00:00,  3.68batch/s, Loss: 0.3581 | Precision: 86.24%]\u001B[0m\n"
     ]
    },
    {
     "name": "stdout",
     "output_type": "stream",
     "text": [
      "Epoch 60 | Avg Loss: 0.2979 | Avg Precision: 86.22%\n"
     ]
    },
    {
     "name": "stderr",
     "output_type": "stream",
     "text": [
      "Validate: 100%|\u001B[34m███████████████████████\u001B[0m| 74/74 [00:17<00:00,  4.26batch/s, Loss: 0.3002 | Precision: 85.56%]\u001B[0m\n"
     ]
    },
    {
     "name": "stdout",
     "output_type": "stream",
     "text": [
      "Epoch 60 | Avg Loss: 0.3074 | Avg Precision: 85.49% | Patience: 1\n"
     ]
    },
    {
     "name": "stderr",
     "output_type": "stream",
     "text": [
      "Train: 100%|\u001B[32m████████████████████████\u001B[0m| 295/295 [01:19<00:00,  3.70batch/s, Loss: 0.3611 | Precision: 86.21%]\u001B[0m\n"
     ]
    },
    {
     "name": "stdout",
     "output_type": "stream",
     "text": [
      "Epoch 61 | Avg Loss: 0.2987 | Avg Precision: 86.00%\n"
     ]
    },
    {
     "name": "stderr",
     "output_type": "stream",
     "text": [
      "Train: 100%|\u001B[32m████████████████████████\u001B[0m| 295/295 [01:19<00:00,  3.69batch/s, Loss: 0.3813 | Precision: 86.33%]\u001B[0m\n"
     ]
    },
    {
     "name": "stdout",
     "output_type": "stream",
     "text": [
      "Epoch 62 | Avg Loss: 0.2967 | Avg Precision: 86.15%\n"
     ]
    },
    {
     "name": "stderr",
     "output_type": "stream",
     "text": [
      "Train: 100%|\u001B[32m████████████████████████\u001B[0m| 295/295 [01:20<00:00,  3.65batch/s, Loss: 0.3618 | Precision: 86.29%]\u001B[0m\n"
     ]
    },
    {
     "name": "stdout",
     "output_type": "stream",
     "text": [
      "Epoch 63 | Avg Loss: 0.2971 | Avg Precision: 86.16%\n"
     ]
    },
    {
     "name": "stderr",
     "output_type": "stream",
     "text": [
      "Train: 100%|\u001B[32m████████████████████████\u001B[0m| 295/295 [01:19<00:00,  3.70batch/s, Loss: 0.3522 | Precision: 86.32%]\u001B[0m\n"
     ]
    },
    {
     "name": "stdout",
     "output_type": "stream",
     "text": [
      "Epoch 64 | Avg Loss: 0.2962 | Avg Precision: 86.20%\n"
     ]
    },
    {
     "name": "stderr",
     "output_type": "stream",
     "text": [
      "Train: 100%|\u001B[32m████████████████████████\u001B[0m| 295/295 [01:20<00:00,  3.68batch/s, Loss: 0.3977 | Precision: 86.31%]\u001B[0m\n"
     ]
    },
    {
     "name": "stdout",
     "output_type": "stream",
     "text": [
      "Epoch 65 | Avg Loss: 0.2964 | Avg Precision: 86.22%\n"
     ]
    },
    {
     "name": "stderr",
     "output_type": "stream",
     "text": [
      "Validate: 100%|\u001B[34m███████████████████████\u001B[0m| 74/74 [00:17<00:00,  4.22batch/s, Loss: 0.3158 | Precision: 85.42%]\u001B[0m\n"
     ]
    },
    {
     "name": "stdout",
     "output_type": "stream",
     "text": [
      "Epoch 00013: reducing learning rate of group 0 to 7.2900e-03.\n",
      "Epoch 65 | Avg Loss: 0.3100 | Avg Precision: 85.17% | Patience: 2\n"
     ]
    },
    {
     "name": "stderr",
     "output_type": "stream",
     "text": [
      "Train: 100%|\u001B[32m████████████████████████\u001B[0m| 295/295 [01:22<00:00,  3.59batch/s, Loss: 0.3824 | Precision: 86.46%]\u001B[0m\n"
     ]
    },
    {
     "name": "stdout",
     "output_type": "stream",
     "text": [
      "Epoch 66 | Avg Loss: 0.2944 | Avg Precision: 86.28%\n"
     ]
    },
    {
     "name": "stderr",
     "output_type": "stream",
     "text": [
      "Train: 100%|\u001B[32m████████████████████████\u001B[0m| 295/295 [01:20<00:00,  3.67batch/s, Loss: 0.3359 | Precision: 86.46%]\u001B[0m\n"
     ]
    },
    {
     "name": "stdout",
     "output_type": "stream",
     "text": [
      "Epoch 67 | Avg Loss: 0.2942 | Avg Precision: 86.40%\n"
     ]
    },
    {
     "name": "stderr",
     "output_type": "stream",
     "text": [
      "Train: 100%|\u001B[32m████████████████████████\u001B[0m| 295/295 [01:20<00:00,  3.65batch/s, Loss: 0.3604 | Precision: 86.52%]\u001B[0m\n"
     ]
    },
    {
     "name": "stdout",
     "output_type": "stream",
     "text": [
      "Epoch 68 | Avg Loss: 0.2937 | Avg Precision: 86.42%\n"
     ]
    },
    {
     "name": "stderr",
     "output_type": "stream",
     "text": [
      "Train: 100%|\u001B[32m████████████████████████\u001B[0m| 295/295 [01:20<00:00,  3.64batch/s, Loss: 0.3583 | Precision: 86.50%]\u001B[0m\n"
     ]
    },
    {
     "name": "stdout",
     "output_type": "stream",
     "text": [
      "Epoch 69 | Avg Loss: 0.2933 | Avg Precision: 86.44%\n"
     ]
    },
    {
     "name": "stderr",
     "output_type": "stream",
     "text": [
      "Train: 100%|\u001B[32m████████████████████████\u001B[0m| 295/295 [01:21<00:00,  3.63batch/s, Loss: 0.3481 | Precision: 86.51%]\u001B[0m\n"
     ]
    },
    {
     "name": "stdout",
     "output_type": "stream",
     "text": [
      "Epoch 70 | Avg Loss: 0.2930 | Avg Precision: 86.38%\n"
     ]
    },
    {
     "name": "stderr",
     "output_type": "stream",
     "text": [
      "Validate: 100%|\u001B[34m███████████████████████\u001B[0m| 74/74 [00:17<00:00,  4.16batch/s, Loss: 0.2994 | Precision: 85.73%]\u001B[0m\n"
     ]
    },
    {
     "name": "stdout",
     "output_type": "stream",
     "text": [
      "Epoch 70 | Avg Loss: 0.3018 | Avg Precision: 85.56% | Patience: 3\n"
     ]
    },
    {
     "name": "stderr",
     "output_type": "stream",
     "text": [
      "Train: 100%|\u001B[32m████████████████████████\u001B[0m| 295/295 [01:20<00:00,  3.64batch/s, Loss: 0.3308 | Precision: 86.58%]\u001B[0m\n"
     ]
    },
    {
     "name": "stdout",
     "output_type": "stream",
     "text": [
      "Epoch 71 | Avg Loss: 0.2919 | Avg Precision: 86.49%\n"
     ]
    },
    {
     "name": "stderr",
     "output_type": "stream",
     "text": [
      "Train: 100%|\u001B[32m████████████████████████\u001B[0m| 295/295 [01:21<00:00,  3.64batch/s, Loss: 0.3226 | Precision: 86.61%]\u001B[0m\n"
     ]
    },
    {
     "name": "stdout",
     "output_type": "stream",
     "text": [
      "Epoch 72 | Avg Loss: 0.2917 | Avg Precision: 86.52%\n"
     ]
    },
    {
     "name": "stderr",
     "output_type": "stream",
     "text": [
      "Train: 100%|\u001B[32m████████████████████████\u001B[0m| 295/295 [01:20<00:00,  3.64batch/s, Loss: 0.3426 | Precision: 86.56%]\u001B[0m\n"
     ]
    },
    {
     "name": "stdout",
     "output_type": "stream",
     "text": [
      "Epoch 73 | Avg Loss: 0.2921 | Avg Precision: 86.44%\n"
     ]
    },
    {
     "name": "stderr",
     "output_type": "stream",
     "text": [
      "Train: 100%|\u001B[32m████████████████████████\u001B[0m| 295/295 [01:20<00:00,  3.65batch/s, Loss: 0.3650 | Precision: 86.55%]\u001B[0m\n"
     ]
    },
    {
     "name": "stdout",
     "output_type": "stream",
     "text": [
      "Epoch 74 | Avg Loss: 0.2924 | Avg Precision: 86.43%\n"
     ]
    },
    {
     "name": "stderr",
     "output_type": "stream",
     "text": [
      "Train: 100%|\u001B[32m████████████████████████\u001B[0m| 295/295 [01:21<00:00,  3.61batch/s, Loss: 0.3252 | Precision: 86.62%]\u001B[0m\n"
     ]
    },
    {
     "name": "stdout",
     "output_type": "stream",
     "text": [
      "Epoch 75 | Avg Loss: 0.2917 | Avg Precision: 86.49%\n"
     ]
    },
    {
     "name": "stderr",
     "output_type": "stream",
     "text": [
      "Validate: 100%|\u001B[34m███████████████████████\u001B[0m| 74/74 [00:17<00:00,  4.16batch/s, Loss: 0.2983 | Precision: 85.76%]\u001B[0m\n"
     ]
    },
    {
     "name": "stdout",
     "output_type": "stream",
     "text": [
      "Epoch 00015: reducing learning rate of group 0 to 6.5610e-03.\n",
      "Epoch 75 | Avg Loss: 0.3013 | Avg Precision: 85.62% | Patience: 4\n"
     ]
    },
    {
     "name": "stderr",
     "output_type": "stream",
     "text": [
      "Train: 100%|\u001B[32m████████████████████████\u001B[0m| 295/295 [01:21<00:00,  3.61batch/s, Loss: 0.3252 | Precision: 86.69%]\u001B[0m\n"
     ]
    },
    {
     "name": "stdout",
     "output_type": "stream",
     "text": [
      "Epoch 76 | Avg Loss: 0.2898 | Avg Precision: 86.56%\n"
     ]
    },
    {
     "name": "stderr",
     "output_type": "stream",
     "text": [
      "Train: 100%|\u001B[32m████████████████████████\u001B[0m| 295/295 [01:21<00:00,  3.63batch/s, Loss: 0.3121 | Precision: 86.72%]\u001B[0m\n"
     ]
    },
    {
     "name": "stdout",
     "output_type": "stream",
     "text": [
      "Epoch 77 | Avg Loss: 0.2899 | Avg Precision: 86.69%\n"
     ]
    },
    {
     "name": "stderr",
     "output_type": "stream",
     "text": [
      "Train: 100%|\u001B[32m████████████████████████\u001B[0m| 295/295 [01:21<00:00,  3.62batch/s, Loss: 0.3080 | Precision: 86.74%]\u001B[0m\n"
     ]
    },
    {
     "name": "stdout",
     "output_type": "stream",
     "text": [
      "Epoch 78 | Avg Loss: 0.2890 | Avg Precision: 86.67%\n"
     ]
    },
    {
     "name": "stderr",
     "output_type": "stream",
     "text": [
      "Train: 100%|\u001B[32m████████████████████████\u001B[0m| 295/295 [01:21<00:00,  3.62batch/s, Loss: 0.3005 | Precision: 86.73%]\u001B[0m\n"
     ]
    },
    {
     "name": "stdout",
     "output_type": "stream",
     "text": [
      "Epoch 79 | Avg Loss: 0.2888 | Avg Precision: 86.63%\n"
     ]
    },
    {
     "name": "stderr",
     "output_type": "stream",
     "text": [
      "Train: 100%|\u001B[32m████████████████████████\u001B[0m| 295/295 [01:21<00:00,  3.63batch/s, Loss: 0.3150 | Precision: 86.77%]\u001B[0m\n"
     ]
    },
    {
     "name": "stdout",
     "output_type": "stream",
     "text": [
      "Epoch 80 | Avg Loss: 0.2890 | Avg Precision: 86.70%\n"
     ]
    },
    {
     "name": "stderr",
     "output_type": "stream",
     "text": [
      "Validate: 100%|\u001B[34m███████████████████████\u001B[0m| 74/74 [00:17<00:00,  4.19batch/s, Loss: 0.2913 | Precision: 85.53%]\u001B[0m\n"
     ]
    },
    {
     "name": "stdout",
     "output_type": "stream",
     "text": [
      "Epoch 80 | Avg Loss: 0.2990 | Avg Precision: 85.31% | Patience: 5\n"
     ]
    },
    {
     "name": "stderr",
     "output_type": "stream",
     "text": [
      "Train: 100%|\u001B[32m████████████████████████\u001B[0m| 295/295 [01:21<00:00,  3.64batch/s, Loss: 0.3039 | Precision: 86.85%]\u001B[0m\n"
     ]
    },
    {
     "name": "stdout",
     "output_type": "stream",
     "text": [
      "Epoch 81 | Avg Loss: 0.2873 | Avg Precision: 86.76%\n"
     ]
    },
    {
     "name": "stderr",
     "output_type": "stream",
     "text": [
      "Train: 100%|\u001B[32m████████████████████████\u001B[0m| 295/295 [01:20<00:00,  3.66batch/s, Loss: 0.2904 | Precision: 86.77%]\u001B[0m\n"
     ]
    },
    {
     "name": "stdout",
     "output_type": "stream",
     "text": [
      "Epoch 82 | Avg Loss: 0.2891 | Avg Precision: 86.67%\n"
     ]
    },
    {
     "name": "stderr",
     "output_type": "stream",
     "text": [
      "Train: 100%|\u001B[32m████████████████████████\u001B[0m| 295/295 [01:20<00:00,  3.67batch/s, Loss: 0.3037 | Precision: 86.81%]\u001B[0m\n"
     ]
    },
    {
     "name": "stdout",
     "output_type": "stream",
     "text": [
      "Epoch 83 | Avg Loss: 0.2872 | Avg Precision: 86.71%\n"
     ]
    },
    {
     "name": "stderr",
     "output_type": "stream",
     "text": [
      "Train: 100%|\u001B[32m████████████████████████\u001B[0m| 295/295 [01:20<00:00,  3.65batch/s, Loss: 0.3032 | Precision: 86.85%]\u001B[0m\n"
     ]
    },
    {
     "name": "stdout",
     "output_type": "stream",
     "text": [
      "Epoch 84 | Avg Loss: 0.2874 | Avg Precision: 86.75%\n"
     ]
    },
    {
     "name": "stderr",
     "output_type": "stream",
     "text": [
      "Train: 100%|\u001B[32m████████████████████████\u001B[0m| 295/295 [01:20<00:00,  3.67batch/s, Loss: 0.2934 | Precision: 86.88%]\u001B[0m\n"
     ]
    },
    {
     "name": "stdout",
     "output_type": "stream",
     "text": [
      "Epoch 85 | Avg Loss: 0.2868 | Avg Precision: 86.74%\n"
     ]
    },
    {
     "name": "stderr",
     "output_type": "stream",
     "text": [
      "Validate: 100%|\u001B[34m███████████████████████\u001B[0m| 74/74 [00:17<00:00,  4.19batch/s, Loss: 0.2863 | Precision: 85.75%]\u001B[0m\n"
     ]
    },
    {
     "name": "stdout",
     "output_type": "stream",
     "text": [
      "Epoch 00017: reducing learning rate of group 0 to 5.9049e-03.\n",
      "Epoch 85 | Avg Loss: 0.2979 | Avg Precision: 85.58% | Patience: 6\n"
     ]
    },
    {
     "name": "stderr",
     "output_type": "stream",
     "text": [
      "Train: 100%|\u001B[32m████████████████████████\u001B[0m| 295/295 [01:20<00:00,  3.69batch/s, Loss: 0.3101 | Precision: 86.88%]\u001B[0m\n"
     ]
    },
    {
     "name": "stdout",
     "output_type": "stream",
     "text": [
      "Epoch 86 | Avg Loss: 0.2868 | Avg Precision: 86.76%\n"
     ]
    },
    {
     "name": "stderr",
     "output_type": "stream",
     "text": [
      "Train: 100%|\u001B[32m████████████████████████\u001B[0m| 295/295 [01:20<00:00,  3.66batch/s, Loss: 0.2924 | Precision: 86.94%]\u001B[0m\n"
     ]
    },
    {
     "name": "stdout",
     "output_type": "stream",
     "text": [
      "Epoch 87 | Avg Loss: 0.2858 | Avg Precision: 86.87%\n"
     ]
    },
    {
     "name": "stderr",
     "output_type": "stream",
     "text": [
      "Train: 100%|\u001B[32m████████████████████████\u001B[0m| 295/295 [01:20<00:00,  3.66batch/s, Loss: 0.2935 | Precision: 86.98%]\u001B[0m\n"
     ]
    },
    {
     "name": "stdout",
     "output_type": "stream",
     "text": [
      "Epoch 88 | Avg Loss: 0.2848 | Avg Precision: 86.89%\n"
     ]
    },
    {
     "name": "stderr",
     "output_type": "stream",
     "text": [
      "Train: 100%|\u001B[32m████████████████████████\u001B[0m| 295/295 [01:20<00:00,  3.67batch/s, Loss: 0.2867 | Precision: 86.93%]\u001B[0m\n"
     ]
    },
    {
     "name": "stdout",
     "output_type": "stream",
     "text": [
      "Epoch 89 | Avg Loss: 0.2853 | Avg Precision: 86.88%\n"
     ]
    },
    {
     "name": "stderr",
     "output_type": "stream",
     "text": [
      "Train: 100%|\u001B[32m████████████████████████\u001B[0m| 295/295 [01:20<00:00,  3.66batch/s, Loss: 0.2894 | Precision: 87.03%]\u001B[0m\n"
     ]
    },
    {
     "name": "stdout",
     "output_type": "stream",
     "text": [
      "Epoch 90 | Avg Loss: 0.2841 | Avg Precision: 86.96%\n"
     ]
    },
    {
     "name": "stderr",
     "output_type": "stream",
     "text": [
      "Validate: 100%|\u001B[34m███████████████████████\u001B[0m| 74/74 [00:17<00:00,  4.18batch/s, Loss: 0.2831 | Precision: 86.37%]\u001B[0m\n"
     ]
    },
    {
     "name": "stdout",
     "output_type": "stream",
     "text": [
      "Epoch 90 | Avg Loss: 0.2910 | Avg Precision: 86.20% | Patience: 0\n"
     ]
    },
    {
     "name": "stderr",
     "output_type": "stream",
     "text": [
      "Train: 100%|\u001B[32m████████████████████████\u001B[0m| 295/295 [01:20<00:00,  3.69batch/s, Loss: 0.2847 | Precision: 86.99%]\u001B[0m\n"
     ]
    },
    {
     "name": "stdout",
     "output_type": "stream",
     "text": [
      "Epoch 91 | Avg Loss: 0.2841 | Avg Precision: 86.86%\n"
     ]
    },
    {
     "name": "stderr",
     "output_type": "stream",
     "text": [
      "Train: 100%|\u001B[32m████████████████████████\u001B[0m| 295/295 [01:19<00:00,  3.69batch/s, Loss: 0.2855 | Precision: 87.04%]\u001B[0m\n"
     ]
    },
    {
     "name": "stdout",
     "output_type": "stream",
     "text": [
      "Epoch 92 | Avg Loss: 0.2840 | Avg Precision: 86.97%\n"
     ]
    },
    {
     "name": "stderr",
     "output_type": "stream",
     "text": [
      "Train: 100%|\u001B[32m████████████████████████\u001B[0m| 295/295 [01:20<00:00,  3.68batch/s, Loss: 0.2883 | Precision: 87.04%]\u001B[0m\n"
     ]
    },
    {
     "name": "stdout",
     "output_type": "stream",
     "text": [
      "Epoch 93 | Avg Loss: 0.2842 | Avg Precision: 86.89%\n"
     ]
    },
    {
     "name": "stderr",
     "output_type": "stream",
     "text": [
      "Train: 100%|\u001B[32m████████████████████████\u001B[0m| 295/295 [01:20<00:00,  3.66batch/s, Loss: 0.2933 | Precision: 87.05%]\u001B[0m\n"
     ]
    },
    {
     "name": "stdout",
     "output_type": "stream",
     "text": [
      "Epoch 94 | Avg Loss: 0.2840 | Avg Precision: 86.98%\n"
     ]
    },
    {
     "name": "stderr",
     "output_type": "stream",
     "text": [
      "Train: 100%|\u001B[32m████████████████████████\u001B[0m| 295/295 [01:20<00:00,  3.68batch/s, Loss: 0.2759 | Precision: 87.01%]\u001B[0m\n"
     ]
    },
    {
     "name": "stdout",
     "output_type": "stream",
     "text": [
      "Epoch 95 | Avg Loss: 0.2844 | Avg Precision: 86.92%\n"
     ]
    },
    {
     "name": "stderr",
     "output_type": "stream",
     "text": [
      "Validate: 100%|\u001B[34m███████████████████████\u001B[0m| 74/74 [00:17<00:00,  4.22batch/s, Loss: 0.2799 | Precision: 86.16%]\u001B[0m\n"
     ]
    },
    {
     "name": "stdout",
     "output_type": "stream",
     "text": [
      "Epoch 95 | Avg Loss: 0.2929 | Avg Precision: 85.96% | Patience: 1\n"
     ]
    },
    {
     "name": "stderr",
     "output_type": "stream",
     "text": [
      "Train: 100%|\u001B[32m████████████████████████\u001B[0m| 295/295 [01:19<00:00,  3.70batch/s, Loss: 0.2838 | Precision: 87.07%]\u001B[0m\n"
     ]
    },
    {
     "name": "stdout",
     "output_type": "stream",
     "text": [
      "Epoch 96 | Avg Loss: 0.2834 | Avg Precision: 87.00%\n"
     ]
    },
    {
     "name": "stderr",
     "output_type": "stream",
     "text": [
      "Train: 100%|\u001B[32m████████████████████████\u001B[0m| 295/295 [01:20<00:00,  3.65batch/s, Loss: 0.2933 | Precision: 87.11%]\u001B[0m\n"
     ]
    },
    {
     "name": "stdout",
     "output_type": "stream",
     "text": [
      "Epoch 97 | Avg Loss: 0.2834 | Avg Precision: 87.03%\n"
     ]
    },
    {
     "name": "stderr",
     "output_type": "stream",
     "text": [
      "Train: 100%|\u001B[32m████████████████████████\u001B[0m| 295/295 [01:20<00:00,  3.68batch/s, Loss: 0.2882 | Precision: 87.03%]\u001B[0m\n"
     ]
    },
    {
     "name": "stdout",
     "output_type": "stream",
     "text": [
      "Epoch 98 | Avg Loss: 0.2837 | Avg Precision: 86.96%\n"
     ]
    },
    {
     "name": "stderr",
     "output_type": "stream",
     "text": [
      "Train: 100%|\u001B[32m████████████████████████\u001B[0m| 295/295 [01:19<00:00,  3.69batch/s, Loss: 0.2931 | Precision: 87.07%]\u001B[0m\n"
     ]
    },
    {
     "name": "stdout",
     "output_type": "stream",
     "text": [
      "Epoch 99 | Avg Loss: 0.2836 | Avg Precision: 87.06%\n"
     ]
    },
    {
     "name": "stderr",
     "output_type": "stream",
     "text": [
      "Train: 100%|\u001B[32m████████████████████████\u001B[0m| 295/295 [01:18<00:00,  3.74batch/s, Loss: 0.2773 | Precision: 87.17%]\u001B[0m\n"
     ]
    },
    {
     "name": "stdout",
     "output_type": "stream",
     "text": [
      "Epoch 100 | Avg Loss: 0.2821 | Avg Precision: 87.09%\n"
     ]
    },
    {
     "name": "stderr",
     "output_type": "stream",
     "text": [
      "Validate: 100%|\u001B[34m███████████████████████\u001B[0m| 74/74 [00:17<00:00,  4.30batch/s, Loss: 0.2850 | Precision: 86.36%]\u001B[0m\n"
     ]
    },
    {
     "name": "stdout",
     "output_type": "stream",
     "text": [
      "Epoch 100 | Avg Loss: 0.2896 | Avg Precision: 86.21% | Patience: 0\n"
     ]
    },
    {
     "name": "stderr",
     "output_type": "stream",
     "text": [
      "Train: 100%|\u001B[32m████████████████████████\u001B[0m| 295/295 [01:20<00:00,  3.67batch/s, Loss: 0.2994 | Precision: 87.11%]\u001B[0m\n"
     ]
    },
    {
     "name": "stdout",
     "output_type": "stream",
     "text": [
      "Epoch 101 | Avg Loss: 0.2824 | Avg Precision: 87.01%\n"
     ]
    },
    {
     "name": "stderr",
     "output_type": "stream",
     "text": [
      "Train: 100%|\u001B[32m████████████████████████\u001B[0m| 295/295 [01:20<00:00,  3.68batch/s, Loss: 0.2845 | Precision: 87.16%]\u001B[0m\n"
     ]
    },
    {
     "name": "stdout",
     "output_type": "stream",
     "text": [
      "Epoch 102 | Avg Loss: 0.2817 | Avg Precision: 87.06%\n"
     ]
    },
    {
     "name": "stderr",
     "output_type": "stream",
     "text": [
      "Train: 100%|\u001B[32m████████████████████████\u001B[0m| 295/295 [01:18<00:00,  3.75batch/s, Loss: 0.2768 | Precision: 87.08%]\u001B[0m\n"
     ]
    },
    {
     "name": "stdout",
     "output_type": "stream",
     "text": [
      "Epoch 103 | Avg Loss: 0.2824 | Avg Precision: 87.01%\n"
     ]
    },
    {
     "name": "stderr",
     "output_type": "stream",
     "text": [
      "Train: 100%|\u001B[32m████████████████████████\u001B[0m| 295/295 [01:20<00:00,  3.68batch/s, Loss: 0.2705 | Precision: 87.15%]\u001B[0m\n"
     ]
    },
    {
     "name": "stdout",
     "output_type": "stream",
     "text": [
      "Epoch 104 | Avg Loss: 0.2813 | Avg Precision: 87.06%\n"
     ]
    },
    {
     "name": "stderr",
     "output_type": "stream",
     "text": [
      "Train: 100%|\u001B[32m████████████████████████\u001B[0m| 295/295 [01:20<00:00,  3.68batch/s, Loss: 0.2957 | Precision: 87.05%]\u001B[0m\n"
     ]
    },
    {
     "name": "stdout",
     "output_type": "stream",
     "text": [
      "Epoch 105 | Avg Loss: 0.2829 | Avg Precision: 87.03%\n"
     ]
    },
    {
     "name": "stderr",
     "output_type": "stream",
     "text": [
      "Validate: 100%|\u001B[34m███████████████████████\u001B[0m| 74/74 [00:17<00:00,  4.21batch/s, Loss: 0.2824 | Precision: 86.32%]\u001B[0m\n"
     ]
    },
    {
     "name": "stdout",
     "output_type": "stream",
     "text": [
      "Epoch 105 | Avg Loss: 0.2888 | Avg Precision: 86.14% | Patience: 1\n"
     ]
    },
    {
     "name": "stderr",
     "output_type": "stream",
     "text": [
      "Train: 100%|\u001B[32m████████████████████████\u001B[0m| 295/295 [01:18<00:00,  3.76batch/s, Loss: 0.2735 | Precision: 87.14%]\u001B[0m\n"
     ]
    },
    {
     "name": "stdout",
     "output_type": "stream",
     "text": [
      "Epoch 106 | Avg Loss: 0.2818 | Avg Precision: 87.05%\n"
     ]
    },
    {
     "name": "stderr",
     "output_type": "stream",
     "text": [
      "Train: 100%|\u001B[32m████████████████████████\u001B[0m| 295/295 [01:19<00:00,  3.71batch/s, Loss: 0.3196 | Precision: 87.17%]\u001B[0m\n"
     ]
    },
    {
     "name": "stdout",
     "output_type": "stream",
     "text": [
      "Epoch 107 | Avg Loss: 0.2827 | Avg Precision: 87.08%\n"
     ]
    },
    {
     "name": "stderr",
     "output_type": "stream",
     "text": [
      "Train: 100%|\u001B[32m████████████████████████\u001B[0m| 295/295 [01:18<00:00,  3.73batch/s, Loss: 0.3040 | Precision: 87.09%]\u001B[0m\n"
     ]
    },
    {
     "name": "stdout",
     "output_type": "stream",
     "text": [
      "Epoch 108 | Avg Loss: 0.2825 | Avg Precision: 86.99%\n"
     ]
    },
    {
     "name": "stderr",
     "output_type": "stream",
     "text": [
      "Train: 100%|\u001B[32m████████████████████████\u001B[0m| 295/295 [01:19<00:00,  3.69batch/s, Loss: 0.2729 | Precision: 87.16%]\u001B[0m\n"
     ]
    },
    {
     "name": "stdout",
     "output_type": "stream",
     "text": [
      "Epoch 109 | Avg Loss: 0.2816 | Avg Precision: 87.09%\n"
     ]
    },
    {
     "name": "stderr",
     "output_type": "stream",
     "text": [
      "Train: 100%|\u001B[32m████████████████████████\u001B[0m| 295/295 [01:19<00:00,  3.71batch/s, Loss: 0.3072 | Precision: 87.15%]\u001B[0m\n"
     ]
    },
    {
     "name": "stdout",
     "output_type": "stream",
     "text": [
      "Epoch 110 | Avg Loss: 0.2816 | Avg Precision: 87.11%\n"
     ]
    },
    {
     "name": "stderr",
     "output_type": "stream",
     "text": [
      "Validate: 100%|\u001B[34m███████████████████████\u001B[0m| 74/74 [00:17<00:00,  4.25batch/s, Loss: 0.2725 | Precision: 86.37%]\u001B[0m\n"
     ]
    },
    {
     "name": "stdout",
     "output_type": "stream",
     "text": [
      "Epoch 110 | Avg Loss: 0.2869 | Avg Precision: 86.25% | Patience: 0\n"
     ]
    },
    {
     "name": "stderr",
     "output_type": "stream",
     "text": [
      "Train: 100%|\u001B[32m████████████████████████\u001B[0m| 295/295 [01:21<00:00,  3.64batch/s, Loss: 0.2859 | Precision: 87.15%]\u001B[0m\n"
     ]
    },
    {
     "name": "stdout",
     "output_type": "stream",
     "text": [
      "Epoch 111 | Avg Loss: 0.2813 | Avg Precision: 87.08%\n"
     ]
    },
    {
     "name": "stderr",
     "output_type": "stream",
     "text": [
      "Train: 100%|\u001B[32m████████████████████████\u001B[0m| 295/295 [01:21<00:00,  3.63batch/s, Loss: 0.2904 | Precision: 87.07%]\u001B[0m\n"
     ]
    },
    {
     "name": "stdout",
     "output_type": "stream",
     "text": [
      "Epoch 112 | Avg Loss: 0.2827 | Avg Precision: 86.93%\n"
     ]
    },
    {
     "name": "stderr",
     "output_type": "stream",
     "text": [
      "Train: 100%|\u001B[32m████████████████████████\u001B[0m| 295/295 [01:21<00:00,  3.63batch/s, Loss: 0.2861 | Precision: 87.09%]\u001B[0m\n"
     ]
    },
    {
     "name": "stdout",
     "output_type": "stream",
     "text": [
      "Epoch 113 | Avg Loss: 0.2824 | Avg Precision: 87.05%\n"
     ]
    },
    {
     "name": "stderr",
     "output_type": "stream",
     "text": [
      "Train: 100%|\u001B[32m████████████████████████\u001B[0m| 295/295 [01:22<00:00,  3.60batch/s, Loss: 0.2827 | Precision: 87.14%]\u001B[0m\n"
     ]
    },
    {
     "name": "stdout",
     "output_type": "stream",
     "text": [
      "Epoch 114 | Avg Loss: 0.2816 | Avg Precision: 87.08%\n"
     ]
    },
    {
     "name": "stderr",
     "output_type": "stream",
     "text": [
      "Train: 100%|\u001B[32m████████████████████████\u001B[0m| 295/295 [01:21<00:00,  3.61batch/s, Loss: 0.2655 | Precision: 87.12%]\u001B[0m\n"
     ]
    },
    {
     "name": "stdout",
     "output_type": "stream",
     "text": [
      "Epoch 115 | Avg Loss: 0.2811 | Avg Precision: 87.04%\n"
     ]
    },
    {
     "name": "stderr",
     "output_type": "stream",
     "text": [
      "Validate: 100%|\u001B[34m███████████████████████\u001B[0m| 74/74 [00:18<00:00,  4.09batch/s, Loss: 0.2776 | Precision: 86.28%]\u001B[0m\n"
     ]
    },
    {
     "name": "stdout",
     "output_type": "stream",
     "text": [
      "Epoch 115 | Avg Loss: 0.2881 | Avg Precision: 86.08% | Patience: 1\n"
     ]
    },
    {
     "name": "stderr",
     "output_type": "stream",
     "text": [
      "Train: 100%|\u001B[32m████████████████████████\u001B[0m| 295/295 [01:22<00:00,  3.58batch/s, Loss: 0.2720 | Precision: 87.15%]\u001B[0m\n"
     ]
    },
    {
     "name": "stdout",
     "output_type": "stream",
     "text": [
      "Epoch 116 | Avg Loss: 0.2807 | Avg Precision: 87.11%\n"
     ]
    },
    {
     "name": "stderr",
     "output_type": "stream",
     "text": [
      "Train: 100%|\u001B[32m████████████████████████\u001B[0m| 295/295 [01:20<00:00,  3.67batch/s, Loss: 0.2699 | Precision: 87.17%]\u001B[0m\n"
     ]
    },
    {
     "name": "stdout",
     "output_type": "stream",
     "text": [
      "Epoch 117 | Avg Loss: 0.2812 | Avg Precision: 87.11%\n"
     ]
    },
    {
     "name": "stderr",
     "output_type": "stream",
     "text": [
      "Train: 100%|\u001B[32m████████████████████████\u001B[0m| 295/295 [01:19<00:00,  3.69batch/s, Loss: 0.2778 | Precision: 87.18%]\u001B[0m\n"
     ]
    },
    {
     "name": "stdout",
     "output_type": "stream",
     "text": [
      "Epoch 118 | Avg Loss: 0.2805 | Avg Precision: 87.11%\n"
     ]
    },
    {
     "name": "stderr",
     "output_type": "stream",
     "text": [
      "Train: 100%|\u001B[32m████████████████████████\u001B[0m| 295/295 [01:19<00:00,  3.69batch/s, Loss: 0.3035 | Precision: 87.19%]\u001B[0m\n"
     ]
    },
    {
     "name": "stdout",
     "output_type": "stream",
     "text": [
      "Epoch 119 | Avg Loss: 0.2806 | Avg Precision: 87.15%\n"
     ]
    },
    {
     "name": "stderr",
     "output_type": "stream",
     "text": [
      "Train: 100%|\u001B[32m████████████████████████\u001B[0m| 295/295 [01:19<00:00,  3.70batch/s, Loss: 0.2632 | Precision: 87.18%]\u001B[0m\n"
     ]
    },
    {
     "name": "stdout",
     "output_type": "stream",
     "text": [
      "Epoch 120 | Avg Loss: 0.2810 | Avg Precision: 87.07%\n"
     ]
    },
    {
     "name": "stderr",
     "output_type": "stream",
     "text": [
      "Validate: 100%|\u001B[34m███████████████████████\u001B[0m| 74/74 [00:17<00:00,  4.32batch/s, Loss: 0.2894 | Precision: 86.38%]\u001B[0m\n"
     ]
    },
    {
     "name": "stdout",
     "output_type": "stream",
     "text": [
      "Epoch 00024: reducing learning rate of group 0 to 5.3144e-03.\n",
      "Epoch 120 | Avg Loss: 0.2930 | Avg Precision: 86.21% | Patience: 2\n"
     ]
    },
    {
     "name": "stderr",
     "output_type": "stream",
     "text": [
      "Train: 100%|\u001B[32m████████████████████████\u001B[0m| 295/295 [01:18<00:00,  3.74batch/s, Loss: 0.2477 | Precision: 87.23%]\u001B[0m\n"
     ]
    },
    {
     "name": "stdout",
     "output_type": "stream",
     "text": [
      "Epoch 121 | Avg Loss: 0.2798 | Avg Precision: 87.13%\n"
     ]
    },
    {
     "name": "stderr",
     "output_type": "stream",
     "text": [
      "Train: 100%|\u001B[32m████████████████████████\u001B[0m| 295/295 [01:18<00:00,  3.74batch/s, Loss: 0.2670 | Precision: 87.30%]\u001B[0m\n"
     ]
    },
    {
     "name": "stdout",
     "output_type": "stream",
     "text": [
      "Epoch 122 | Avg Loss: 0.2784 | Avg Precision: 87.21%\n"
     ]
    },
    {
     "name": "stderr",
     "output_type": "stream",
     "text": [
      "Train: 100%|\u001B[32m████████████████████████\u001B[0m| 295/295 [01:18<00:00,  3.74batch/s, Loss: 0.2521 | Precision: 87.30%]\u001B[0m\n"
     ]
    },
    {
     "name": "stdout",
     "output_type": "stream",
     "text": [
      "Epoch 123 | Avg Loss: 0.2786 | Avg Precision: 87.15%\n"
     ]
    },
    {
     "name": "stderr",
     "output_type": "stream",
     "text": [
      "Train: 100%|\u001B[32m████████████████████████\u001B[0m| 295/295 [01:18<00:00,  3.75batch/s, Loss: 0.2577 | Precision: 87.33%]\u001B[0m\n"
     ]
    },
    {
     "name": "stdout",
     "output_type": "stream",
     "text": [
      "Epoch 124 | Avg Loss: 0.2780 | Avg Precision: 87.26%\n"
     ]
    },
    {
     "name": "stderr",
     "output_type": "stream",
     "text": [
      "Train: 100%|\u001B[32m████████████████████████\u001B[0m| 295/295 [01:18<00:00,  3.75batch/s, Loss: 0.2679 | Precision: 87.33%]\u001B[0m\n"
     ]
    },
    {
     "name": "stdout",
     "output_type": "stream",
     "text": [
      "Epoch 125 | Avg Loss: 0.2780 | Avg Precision: 87.26%\n"
     ]
    },
    {
     "name": "stderr",
     "output_type": "stream",
     "text": [
      "Validate: 100%|\u001B[34m███████████████████████\u001B[0m| 74/74 [00:16<00:00,  4.35batch/s, Loss: 0.2810 | Precision: 86.64%]\u001B[0m\n"
     ]
    },
    {
     "name": "stdout",
     "output_type": "stream",
     "text": [
      "Epoch 125 | Avg Loss: 0.2862 | Avg Precision: 86.51% | Patience: 0\n"
     ]
    },
    {
     "name": "stderr",
     "output_type": "stream",
     "text": [
      "Train: 100%|\u001B[32m████████████████████████\u001B[0m| 295/295 [01:18<00:00,  3.74batch/s, Loss: 0.2722 | Precision: 87.30%]\u001B[0m\n"
     ]
    },
    {
     "name": "stdout",
     "output_type": "stream",
     "text": [
      "Epoch 126 | Avg Loss: 0.2780 | Avg Precision: 87.20%\n"
     ]
    },
    {
     "name": "stderr",
     "output_type": "stream",
     "text": [
      "Train: 100%|\u001B[32m████████████████████████\u001B[0m| 295/295 [01:18<00:00,  3.76batch/s, Loss: 0.2630 | Precision: 87.26%]\u001B[0m\n"
     ]
    },
    {
     "name": "stdout",
     "output_type": "stream",
     "text": [
      "Epoch 127 | Avg Loss: 0.2789 | Avg Precision: 87.24%\n"
     ]
    },
    {
     "name": "stderr",
     "output_type": "stream",
     "text": [
      "Train: 100%|\u001B[32m████████████████████████\u001B[0m| 295/295 [01:18<00:00,  3.76batch/s, Loss: 0.2546 | Precision: 87.36%]\u001B[0m\n"
     ]
    },
    {
     "name": "stdout",
     "output_type": "stream",
     "text": [
      "Epoch 128 | Avg Loss: 0.2777 | Avg Precision: 87.25%\n"
     ]
    },
    {
     "name": "stderr",
     "output_type": "stream",
     "text": [
      "Train: 100%|\u001B[32m████████████████████████\u001B[0m| 295/295 [01:18<00:00,  3.75batch/s, Loss: 0.2606 | Precision: 87.30%]\u001B[0m\n"
     ]
    },
    {
     "name": "stdout",
     "output_type": "stream",
     "text": [
      "Epoch 129 | Avg Loss: 0.2783 | Avg Precision: 87.19%\n"
     ]
    },
    {
     "name": "stderr",
     "output_type": "stream",
     "text": [
      "Train: 100%|\u001B[32m████████████████████████\u001B[0m| 295/295 [01:19<00:00,  3.73batch/s, Loss: 0.2384 | Precision: 87.33%]\u001B[0m\n"
     ]
    },
    {
     "name": "stdout",
     "output_type": "stream",
     "text": [
      "Epoch 130 | Avg Loss: 0.2778 | Avg Precision: 87.25%\n"
     ]
    },
    {
     "name": "stderr",
     "output_type": "stream",
     "text": [
      "Validate: 100%|\u001B[34m███████████████████████\u001B[0m| 74/74 [00:17<00:00,  4.26batch/s, Loss: 0.2803 | Precision: 87.07%]\u001B[0m\n"
     ]
    },
    {
     "name": "stdout",
     "output_type": "stream",
     "text": [
      "Epoch 130 | Avg Loss: 0.2855 | Avg Precision: 86.95% | Patience: 0\n"
     ]
    },
    {
     "name": "stderr",
     "output_type": "stream",
     "text": [
      "Train: 100%|\u001B[32m████████████████████████\u001B[0m| 295/295 [01:18<00:00,  3.75batch/s, Loss: 0.2543 | Precision: 87.37%]\u001B[0m\n"
     ]
    },
    {
     "name": "stdout",
     "output_type": "stream",
     "text": [
      "Epoch 131 | Avg Loss: 0.2775 | Avg Precision: 87.29%\n"
     ]
    },
    {
     "name": "stderr",
     "output_type": "stream",
     "text": [
      "Train: 100%|\u001B[32m████████████████████████\u001B[0m| 295/295 [01:18<00:00,  3.74batch/s, Loss: 0.2508 | Precision: 87.37%]\u001B[0m\n"
     ]
    },
    {
     "name": "stdout",
     "output_type": "stream",
     "text": [
      "Epoch 132 | Avg Loss: 0.2763 | Avg Precision: 87.22%\n"
     ]
    },
    {
     "name": "stderr",
     "output_type": "stream",
     "text": [
      "Train: 100%|\u001B[32m████████████████████████\u001B[0m| 295/295 [01:19<00:00,  3.72batch/s, Loss: 0.2523 | Precision: 87.34%]\u001B[0m\n"
     ]
    },
    {
     "name": "stdout",
     "output_type": "stream",
     "text": [
      "Epoch 133 | Avg Loss: 0.2777 | Avg Precision: 87.26%\n"
     ]
    },
    {
     "name": "stderr",
     "output_type": "stream",
     "text": [
      "Train: 100%|\u001B[32m████████████████████████\u001B[0m| 295/295 [01:19<00:00,  3.73batch/s, Loss: 0.2653 | Precision: 87.38%]\u001B[0m\n"
     ]
    },
    {
     "name": "stdout",
     "output_type": "stream",
     "text": [
      "Epoch 134 | Avg Loss: 0.2769 | Avg Precision: 87.31%\n"
     ]
    },
    {
     "name": "stderr",
     "output_type": "stream",
     "text": [
      "Train: 100%|\u001B[32m████████████████████████\u001B[0m| 295/295 [01:19<00:00,  3.70batch/s, Loss: 0.2567 | Precision: 87.40%]\u001B[0m\n"
     ]
    },
    {
     "name": "stdout",
     "output_type": "stream",
     "text": [
      "Epoch 135 | Avg Loss: 0.2766 | Avg Precision: 87.29%\n"
     ]
    },
    {
     "name": "stderr",
     "output_type": "stream",
     "text": [
      "Validate: 100%|\u001B[34m███████████████████████\u001B[0m| 74/74 [00:17<00:00,  4.24batch/s, Loss: 0.2767 | Precision: 86.70%]\u001B[0m\n"
     ]
    },
    {
     "name": "stdout",
     "output_type": "stream",
     "text": [
      "Epoch 135 | Avg Loss: 0.2876 | Avg Precision: 86.54% | Patience: 1\n"
     ]
    },
    {
     "name": "stderr",
     "output_type": "stream",
     "text": [
      "Train: 100%|\u001B[32m████████████████████████\u001B[0m| 295/295 [01:18<00:00,  3.75batch/s, Loss: 0.2618 | Precision: 87.45%]\u001B[0m\n"
     ]
    },
    {
     "name": "stdout",
     "output_type": "stream",
     "text": [
      "Epoch 136 | Avg Loss: 0.2762 | Avg Precision: 87.33%\n"
     ]
    },
    {
     "name": "stderr",
     "output_type": "stream",
     "text": [
      "Train: 100%|\u001B[32m████████████████████████\u001B[0m| 295/295 [01:18<00:00,  3.75batch/s, Loss: 0.2682 | Precision: 87.43%]\u001B[0m\n"
     ]
    },
    {
     "name": "stdout",
     "output_type": "stream",
     "text": [
      "Epoch 137 | Avg Loss: 0.2763 | Avg Precision: 87.36%\n"
     ]
    },
    {
     "name": "stderr",
     "output_type": "stream",
     "text": [
      "Train: 100%|\u001B[32m████████████████████████\u001B[0m| 295/295 [01:19<00:00,  3.73batch/s, Loss: 0.2622 | Precision: 87.43%]\u001B[0m\n"
     ]
    },
    {
     "name": "stdout",
     "output_type": "stream",
     "text": [
      "Epoch 138 | Avg Loss: 0.2762 | Avg Precision: 87.40%\n"
     ]
    },
    {
     "name": "stderr",
     "output_type": "stream",
     "text": [
      "Train: 100%|\u001B[32m████████████████████████\u001B[0m| 295/295 [01:18<00:00,  3.75batch/s, Loss: 0.2489 | Precision: 87.44%]\u001B[0m\n"
     ]
    },
    {
     "name": "stdout",
     "output_type": "stream",
     "text": [
      "Epoch 139 | Avg Loss: 0.2762 | Avg Precision: 87.33%\n"
     ]
    },
    {
     "name": "stderr",
     "output_type": "stream",
     "text": [
      "Train: 100%|\u001B[32m████████████████████████\u001B[0m| 295/295 [01:18<00:00,  3.75batch/s, Loss: 0.2556 | Precision: 87.47%]\u001B[0m\n"
     ]
    },
    {
     "name": "stdout",
     "output_type": "stream",
     "text": [
      "Epoch 140 | Avg Loss: 0.2759 | Avg Precision: 87.40%\n"
     ]
    },
    {
     "name": "stderr",
     "output_type": "stream",
     "text": [
      "Validate: 100%|\u001B[34m███████████████████████\u001B[0m| 74/74 [00:17<00:00,  4.34batch/s, Loss: 0.2822 | Precision: 86.65%]\u001B[0m\n"
     ]
    },
    {
     "name": "stdout",
     "output_type": "stream",
     "text": [
      "Epoch 00028: reducing learning rate of group 0 to 4.7830e-03.\n",
      "Epoch 140 | Avg Loss: 0.2857 | Avg Precision: 86.48% | Patience: 2\n"
     ]
    },
    {
     "name": "stderr",
     "output_type": "stream",
     "text": [
      "Train: 100%|\u001B[32m████████████████████████\u001B[0m| 295/295 [01:18<00:00,  3.76batch/s, Loss: 0.2601 | Precision: 87.54%]\u001B[0m\n"
     ]
    },
    {
     "name": "stdout",
     "output_type": "stream",
     "text": [
      "Epoch 141 | Avg Loss: 0.2746 | Avg Precision: 87.47%\n"
     ]
    },
    {
     "name": "stderr",
     "output_type": "stream",
     "text": [
      "Train: 100%|\u001B[32m████████████████████████\u001B[0m| 295/295 [01:18<00:00,  3.78batch/s, Loss: 0.2574 | Precision: 87.53%]\u001B[0m\n"
     ]
    },
    {
     "name": "stdout",
     "output_type": "stream",
     "text": [
      "Epoch 142 | Avg Loss: 0.2745 | Avg Precision: 87.47%\n"
     ]
    },
    {
     "name": "stderr",
     "output_type": "stream",
     "text": [
      "Train: 100%|\u001B[32m████████████████████████\u001B[0m| 295/295 [01:18<00:00,  3.76batch/s, Loss: 0.2556 | Precision: 87.56%]\u001B[0m\n"
     ]
    },
    {
     "name": "stdout",
     "output_type": "stream",
     "text": [
      "Epoch 143 | Avg Loss: 0.2739 | Avg Precision: 87.49%\n"
     ]
    },
    {
     "name": "stderr",
     "output_type": "stream",
     "text": [
      "Train: 100%|\u001B[32m████████████████████████\u001B[0m| 295/295 [01:18<00:00,  3.76batch/s, Loss: 0.2601 | Precision: 87.54%]\u001B[0m\n"
     ]
    },
    {
     "name": "stdout",
     "output_type": "stream",
     "text": [
      "Epoch 144 | Avg Loss: 0.2743 | Avg Precision: 87.52%\n"
     ]
    },
    {
     "name": "stderr",
     "output_type": "stream",
     "text": [
      "Train: 100%|\u001B[32m████████████████████████\u001B[0m| 295/295 [01:18<00:00,  3.75batch/s, Loss: 0.2344 | Precision: 87.55%]\u001B[0m\n"
     ]
    },
    {
     "name": "stdout",
     "output_type": "stream",
     "text": [
      "Epoch 145 | Avg Loss: 0.2735 | Avg Precision: 87.50%\n"
     ]
    },
    {
     "name": "stderr",
     "output_type": "stream",
     "text": [
      "Validate: 100%|\u001B[34m███████████████████████\u001B[0m| 74/74 [00:17<00:00,  4.35batch/s, Loss: 0.2732 | Precision: 86.83%]\u001B[0m\n"
     ]
    },
    {
     "name": "stdout",
     "output_type": "stream",
     "text": [
      "Epoch 145 | Avg Loss: 0.2806 | Avg Precision: 86.71% | Patience: 3\n"
     ]
    },
    {
     "name": "stderr",
     "output_type": "stream",
     "text": [
      "Train: 100%|\u001B[32m████████████████████████\u001B[0m| 295/295 [01:18<00:00,  3.75batch/s, Loss: 0.2484 | Precision: 87.57%]\u001B[0m\n"
     ]
    },
    {
     "name": "stdout",
     "output_type": "stream",
     "text": [
      "Epoch 146 | Avg Loss: 0.2736 | Avg Precision: 87.54%\n"
     ]
    },
    {
     "name": "stderr",
     "output_type": "stream",
     "text": [
      "Train: 100%|\u001B[32m████████████████████████\u001B[0m| 295/295 [01:18<00:00,  3.74batch/s, Loss: 0.2546 | Precision: 87.60%]\u001B[0m\n"
     ]
    },
    {
     "name": "stdout",
     "output_type": "stream",
     "text": [
      "Epoch 147 | Avg Loss: 0.2734 | Avg Precision: 87.52%\n"
     ]
    },
    {
     "name": "stderr",
     "output_type": "stream",
     "text": [
      "Train: 100%|\u001B[32m████████████████████████\u001B[0m| 295/295 [01:18<00:00,  3.76batch/s, Loss: 0.2788 | Precision: 87.56%]\u001B[0m\n"
     ]
    },
    {
     "name": "stdout",
     "output_type": "stream",
     "text": [
      "Epoch 148 | Avg Loss: 0.2736 | Avg Precision: 87.54%\n"
     ]
    },
    {
     "name": "stderr",
     "output_type": "stream",
     "text": [
      "Train: 100%|\u001B[32m████████████████████████\u001B[0m| 295/295 [01:18<00:00,  3.76batch/s, Loss: 0.2501 | Precision: 87.52%]\u001B[0m\n"
     ]
    },
    {
     "name": "stdout",
     "output_type": "stream",
     "text": [
      "Epoch 149 | Avg Loss: 0.2742 | Avg Precision: 87.48%\n"
     ]
    },
    {
     "name": "stderr",
     "output_type": "stream",
     "text": [
      "Train: 100%|\u001B[32m████████████████████████\u001B[0m| 295/295 [01:18<00:00,  3.75batch/s, Loss: 0.2537 | Precision: 87.51%]\u001B[0m\n"
     ]
    },
    {
     "name": "stdout",
     "output_type": "stream",
     "text": [
      "Epoch 150 | Avg Loss: 0.2736 | Avg Precision: 87.48%\n"
     ]
    },
    {
     "name": "stderr",
     "output_type": "stream",
     "text": [
      "Validate: 100%|\u001B[34m███████████████████████\u001B[0m| 74/74 [00:16<00:00,  4.39batch/s, Loss: 0.2685 | Precision: 87.12%]\u001B[0m\n"
     ]
    },
    {
     "name": "stdout",
     "output_type": "stream",
     "text": [
      "Epoch 150 | Avg Loss: 0.2812 | Avg Precision: 86.99% | Patience: 0\n"
     ]
    },
    {
     "name": "stderr",
     "output_type": "stream",
     "text": [
      "Train: 100%|\u001B[32m████████████████████████\u001B[0m| 295/295 [01:18<00:00,  3.78batch/s, Loss: 0.2663 | Precision: 87.59%]\u001B[0m\n"
     ]
    },
    {
     "name": "stdout",
     "output_type": "stream",
     "text": [
      "Epoch 151 | Avg Loss: 0.2737 | Avg Precision: 87.59%\n"
     ]
    },
    {
     "name": "stderr",
     "output_type": "stream",
     "text": [
      "Train: 100%|\u001B[32m████████████████████████\u001B[0m| 295/295 [01:19<00:00,  3.73batch/s, Loss: 0.2631 | Precision: 87.55%]\u001B[0m\n"
     ]
    },
    {
     "name": "stdout",
     "output_type": "stream",
     "text": [
      "Epoch 152 | Avg Loss: 0.2734 | Avg Precision: 87.49%\n"
     ]
    },
    {
     "name": "stderr",
     "output_type": "stream",
     "text": [
      "Train: 100%|\u001B[32m████████████████████████\u001B[0m| 295/295 [01:18<00:00,  3.76batch/s, Loss: 0.2804 | Precision: 87.48%]\u001B[0m\n"
     ]
    },
    {
     "name": "stdout",
     "output_type": "stream",
     "text": [
      "Epoch 153 | Avg Loss: 0.2744 | Avg Precision: 87.46%\n"
     ]
    },
    {
     "name": "stderr",
     "output_type": "stream",
     "text": [
      "Train: 100%|\u001B[32m████████████████████████\u001B[0m| 295/295 [01:18<00:00,  3.77batch/s, Loss: 0.2693 | Precision: 87.63%]\u001B[0m\n"
     ]
    },
    {
     "name": "stdout",
     "output_type": "stream",
     "text": [
      "Epoch 154 | Avg Loss: 0.2727 | Avg Precision: 87.57%\n"
     ]
    },
    {
     "name": "stderr",
     "output_type": "stream",
     "text": [
      "Train: 100%|\u001B[32m████████████████████████\u001B[0m| 295/295 [01:18<00:00,  3.76batch/s, Loss: 0.2655 | Precision: 87.50%]\u001B[0m\n"
     ]
    },
    {
     "name": "stdout",
     "output_type": "stream",
     "text": [
      "Epoch 155 | Avg Loss: 0.2746 | Avg Precision: 87.40%\n"
     ]
    },
    {
     "name": "stderr",
     "output_type": "stream",
     "text": [
      "Validate: 100%|\u001B[34m███████████████████████\u001B[0m| 74/74 [00:17<00:00,  4.34batch/s, Loss: 0.2758 | Precision: 86.46%]\u001B[0m\n"
     ]
    },
    {
     "name": "stdout",
     "output_type": "stream",
     "text": [
      "Epoch 155 | Avg Loss: 0.2852 | Avg Precision: 86.30% | Patience: 1\n"
     ]
    },
    {
     "name": "stderr",
     "output_type": "stream",
     "text": [
      "Train: 100%|\u001B[32m████████████████████████\u001B[0m| 295/295 [01:18<00:00,  3.75batch/s, Loss: 0.2692 | Precision: 87.62%]\u001B[0m\n"
     ]
    },
    {
     "name": "stdout",
     "output_type": "stream",
     "text": [
      "Epoch 156 | Avg Loss: 0.2723 | Avg Precision: 87.55%\n"
     ]
    },
    {
     "name": "stderr",
     "output_type": "stream",
     "text": [
      "Train: 100%|\u001B[32m████████████████████████\u001B[0m| 295/295 [01:18<00:00,  3.75batch/s, Loss: 0.2642 | Precision: 87.56%]\u001B[0m\n"
     ]
    },
    {
     "name": "stdout",
     "output_type": "stream",
     "text": [
      "Epoch 157 | Avg Loss: 0.2726 | Avg Precision: 87.51%\n"
     ]
    },
    {
     "name": "stderr",
     "output_type": "stream",
     "text": [
      "Train: 100%|\u001B[32m████████████████████████\u001B[0m| 295/295 [01:18<00:00,  3.76batch/s, Loss: 0.2767 | Precision: 87.62%]\u001B[0m\n"
     ]
    },
    {
     "name": "stdout",
     "output_type": "stream",
     "text": [
      "Epoch 158 | Avg Loss: 0.2725 | Avg Precision: 87.59%\n"
     ]
    },
    {
     "name": "stderr",
     "output_type": "stream",
     "text": [
      "Train: 100%|\u001B[32m████████████████████████\u001B[0m| 295/295 [01:18<00:00,  3.77batch/s, Loss: 0.2567 | Precision: 87.57%]\u001B[0m\n"
     ]
    },
    {
     "name": "stdout",
     "output_type": "stream",
     "text": [
      "Epoch 159 | Avg Loss: 0.2724 | Avg Precision: 87.49%\n"
     ]
    },
    {
     "name": "stderr",
     "output_type": "stream",
     "text": [
      "Train: 100%|\u001B[32m████████████████████████\u001B[0m| 295/295 [01:18<00:00,  3.75batch/s, Loss: 0.2675 | Precision: 87.60%]\u001B[0m\n"
     ]
    },
    {
     "name": "stdout",
     "output_type": "stream",
     "text": [
      "Epoch 160 | Avg Loss: 0.2724 | Avg Precision: 87.57%\n"
     ]
    },
    {
     "name": "stderr",
     "output_type": "stream",
     "text": [
      "Validate: 100%|\u001B[34m███████████████████████\u001B[0m| 74/74 [00:16<00:00,  4.35batch/s, Loss: 0.2713 | Precision: 86.91%]\u001B[0m\n"
     ]
    },
    {
     "name": "stdout",
     "output_type": "stream",
     "text": [
      "Epoch 00032: reducing learning rate of group 0 to 4.3047e-03.\n",
      "Epoch 160 | Avg Loss: 0.2799 | Avg Precision: 86.68% | Patience: 2\n"
     ]
    },
    {
     "name": "stderr",
     "output_type": "stream",
     "text": [
      "Train: 100%|\u001B[32m████████████████████████\u001B[0m| 295/295 [01:18<00:00,  3.77batch/s, Loss: 0.2465 | Precision: 87.68%]\u001B[0m\n"
     ]
    },
    {
     "name": "stdout",
     "output_type": "stream",
     "text": [
      "Epoch 161 | Avg Loss: 0.2709 | Avg Precision: 87.61%\n"
     ]
    },
    {
     "name": "stderr",
     "output_type": "stream",
     "text": [
      "Train: 100%|\u001B[32m████████████████████████\u001B[0m| 295/295 [01:18<00:00,  3.77batch/s, Loss: 0.2576 | Precision: 87.73%]\u001B[0m\n"
     ]
    },
    {
     "name": "stdout",
     "output_type": "stream",
     "text": [
      "Epoch 162 | Avg Loss: 0.2704 | Avg Precision: 87.66%\n"
     ]
    },
    {
     "name": "stderr",
     "output_type": "stream",
     "text": [
      "Train: 100%|\u001B[32m████████████████████████\u001B[0m| 295/295 [01:18<00:00,  3.77batch/s, Loss: 0.2562 | Precision: 87.68%]\u001B[0m\n"
     ]
    },
    {
     "name": "stdout",
     "output_type": "stream",
     "text": [
      "Epoch 163 | Avg Loss: 0.2716 | Avg Precision: 87.66%\n"
     ]
    },
    {
     "name": "stderr",
     "output_type": "stream",
     "text": [
      "Train: 100%|\u001B[32m████████████████████████\u001B[0m| 295/295 [01:18<00:00,  3.77batch/s, Loss: 0.2597 | Precision: 87.66%]\u001B[0m\n"
     ]
    },
    {
     "name": "stdout",
     "output_type": "stream",
     "text": [
      "Epoch 164 | Avg Loss: 0.2712 | Avg Precision: 87.62%\n"
     ]
    },
    {
     "name": "stderr",
     "output_type": "stream",
     "text": [
      "Train: 100%|\u001B[32m████████████████████████\u001B[0m| 295/295 [01:18<00:00,  3.76batch/s, Loss: 0.2524 | Precision: 87.72%]\u001B[0m\n"
     ]
    },
    {
     "name": "stdout",
     "output_type": "stream",
     "text": [
      "Epoch 165 | Avg Loss: 0.2700 | Avg Precision: 87.69%\n"
     ]
    },
    {
     "name": "stderr",
     "output_type": "stream",
     "text": [
      "Validate: 100%|\u001B[34m███████████████████████\u001B[0m| 74/74 [00:16<00:00,  4.39batch/s, Loss: 0.2820 | Precision: 87.10%]\u001B[0m\n"
     ]
    },
    {
     "name": "stdout",
     "output_type": "stream",
     "text": [
      "Epoch 165 | Avg Loss: 0.2822 | Avg Precision: 86.91% | Patience: 3\n"
     ]
    },
    {
     "name": "stderr",
     "output_type": "stream",
     "text": [
      "Train: 100%|\u001B[32m████████████████████████\u001B[0m| 295/295 [01:18<00:00,  3.78batch/s, Loss: 0.2577 | Precision: 87.68%]\u001B[0m\n"
     ]
    },
    {
     "name": "stdout",
     "output_type": "stream",
     "text": [
      "Epoch 166 | Avg Loss: 0.2710 | Avg Precision: 87.66%\n"
     ]
    },
    {
     "name": "stderr",
     "output_type": "stream",
     "text": [
      "Train: 100%|\u001B[32m████████████████████████\u001B[0m| 295/295 [01:17<00:00,  3.78batch/s, Loss: 0.2520 | Precision: 87.73%]\u001B[0m\n"
     ]
    },
    {
     "name": "stdout",
     "output_type": "stream",
     "text": [
      "Epoch 167 | Avg Loss: 0.2700 | Avg Precision: 87.67%\n"
     ]
    },
    {
     "name": "stderr",
     "output_type": "stream",
     "text": [
      "Train: 100%|\u001B[32m████████████████████████\u001B[0m| 295/295 [01:18<00:00,  3.77batch/s, Loss: 0.2621 | Precision: 87.69%]\u001B[0m\n"
     ]
    },
    {
     "name": "stdout",
     "output_type": "stream",
     "text": [
      "Epoch 168 | Avg Loss: 0.2706 | Avg Precision: 87.68%\n"
     ]
    },
    {
     "name": "stderr",
     "output_type": "stream",
     "text": [
      "Train: 100%|\u001B[32m████████████████████████\u001B[0m| 295/295 [01:17<00:00,  3.78batch/s, Loss: 0.2640 | Precision: 87.68%]\u001B[0m\n"
     ]
    },
    {
     "name": "stdout",
     "output_type": "stream",
     "text": [
      "Epoch 169 | Avg Loss: 0.2707 | Avg Precision: 87.65%\n"
     ]
    },
    {
     "name": "stderr",
     "output_type": "stream",
     "text": [
      "Train: 100%|\u001B[32m████████████████████████\u001B[0m| 295/295 [01:17<00:00,  3.80batch/s, Loss: 0.2634 | Precision: 87.68%]\u001B[0m\n"
     ]
    },
    {
     "name": "stdout",
     "output_type": "stream",
     "text": [
      "Epoch 170 | Avg Loss: 0.2708 | Avg Precision: 87.68%\n"
     ]
    },
    {
     "name": "stderr",
     "output_type": "stream",
     "text": [
      "Validate: 100%|\u001B[34m███████████████████████\u001B[0m| 74/74 [00:16<00:00,  4.40batch/s, Loss: 0.2651 | Precision: 86.96%]\u001B[0m\n"
     ]
    },
    {
     "name": "stdout",
     "output_type": "stream",
     "text": [
      "Epoch 00034: reducing learning rate of group 0 to 3.8742e-03.\n",
      "Epoch 170 | Avg Loss: 0.2809 | Avg Precision: 86.80% | Patience: 4\n"
     ]
    },
    {
     "name": "stderr",
     "output_type": "stream",
     "text": [
      "Train: 100%|\u001B[32m████████████████████████\u001B[0m| 295/295 [01:18<00:00,  3.78batch/s, Loss: 0.2498 | Precision: 87.82%]\u001B[0m\n"
     ]
    },
    {
     "name": "stdout",
     "output_type": "stream",
     "text": [
      "Epoch 171 | Avg Loss: 0.2686 | Avg Precision: 87.80%\n"
     ]
    },
    {
     "name": "stderr",
     "output_type": "stream",
     "text": [
      "Train: 100%|\u001B[32m████████████████████████\u001B[0m| 295/295 [01:18<00:00,  3.76batch/s, Loss: 0.2547 | Precision: 87.79%]\u001B[0m\n"
     ]
    },
    {
     "name": "stdout",
     "output_type": "stream",
     "text": [
      "Epoch 172 | Avg Loss: 0.2690 | Avg Precision: 87.81%\n"
     ]
    },
    {
     "name": "stderr",
     "output_type": "stream",
     "text": [
      "Train: 100%|\u001B[32m████████████████████████\u001B[0m| 295/295 [01:18<00:00,  3.75batch/s, Loss: 0.2496 | Precision: 87.78%]\u001B[0m\n"
     ]
    },
    {
     "name": "stdout",
     "output_type": "stream",
     "text": [
      "Epoch 173 | Avg Loss: 0.2691 | Avg Precision: 87.90%\n"
     ]
    },
    {
     "name": "stderr",
     "output_type": "stream",
     "text": [
      "Train: 100%|\u001B[32m████████████████████████\u001B[0m| 295/295 [01:18<00:00,  3.76batch/s, Loss: 0.2524 | Precision: 87.81%]\u001B[0m\n"
     ]
    },
    {
     "name": "stdout",
     "output_type": "stream",
     "text": [
      "Epoch 174 | Avg Loss: 0.2683 | Avg Precision: 87.87%\n"
     ]
    },
    {
     "name": "stderr",
     "output_type": "stream",
     "text": [
      "Train: 100%|\u001B[32m████████████████████████\u001B[0m| 295/295 [01:18<00:00,  3.77batch/s, Loss: 0.2611 | Precision: 87.81%]\u001B[0m\n"
     ]
    },
    {
     "name": "stdout",
     "output_type": "stream",
     "text": [
      "Epoch 175 | Avg Loss: 0.2687 | Avg Precision: 87.85%\n"
     ]
    },
    {
     "name": "stderr",
     "output_type": "stream",
     "text": [
      "Validate: 100%|\u001B[34m███████████████████████\u001B[0m| 74/74 [00:16<00:00,  4.42batch/s, Loss: 0.2708 | Precision: 87.97%]\u001B[0m\n"
     ]
    },
    {
     "name": "stdout",
     "output_type": "stream",
     "text": [
      "Epoch 175 | Avg Loss: 0.2749 | Avg Precision: 87.82% | Patience: 0\n"
     ]
    },
    {
     "name": "stderr",
     "output_type": "stream",
     "text": [
      "Train: 100%|\u001B[32m████████████████████████\u001B[0m| 295/295 [01:18<00:00,  3.74batch/s, Loss: 0.2591 | Precision: 87.82%]\u001B[0m\n"
     ]
    },
    {
     "name": "stdout",
     "output_type": "stream",
     "text": [
      "Epoch 176 | Avg Loss: 0.2683 | Avg Precision: 87.85%\n"
     ]
    },
    {
     "name": "stderr",
     "output_type": "stream",
     "text": [
      "Train: 100%|\u001B[32m████████████████████████\u001B[0m| 295/295 [01:18<00:00,  3.75batch/s, Loss: 0.2481 | Precision: 87.83%]\u001B[0m\n"
     ]
    },
    {
     "name": "stdout",
     "output_type": "stream",
     "text": [
      "Epoch 177 | Avg Loss: 0.2678 | Avg Precision: 87.84%\n"
     ]
    },
    {
     "name": "stderr",
     "output_type": "stream",
     "text": [
      "Train: 100%|\u001B[32m████████████████████████\u001B[0m| 295/295 [01:18<00:00,  3.74batch/s, Loss: 0.2492 | Precision: 87.82%]\u001B[0m\n"
     ]
    },
    {
     "name": "stdout",
     "output_type": "stream",
     "text": [
      "Epoch 178 | Avg Loss: 0.2680 | Avg Precision: 87.85%\n"
     ]
    },
    {
     "name": "stderr",
     "output_type": "stream",
     "text": [
      "Train: 100%|\u001B[32m████████████████████████\u001B[0m| 295/295 [01:17<00:00,  3.78batch/s, Loss: 0.2527 | Precision: 87.85%]\u001B[0m\n"
     ]
    },
    {
     "name": "stdout",
     "output_type": "stream",
     "text": [
      "Epoch 179 | Avg Loss: 0.2677 | Avg Precision: 87.91%\n"
     ]
    },
    {
     "name": "stderr",
     "output_type": "stream",
     "text": [
      "Train: 100%|\u001B[32m████████████████████████\u001B[0m| 295/295 [01:19<00:00,  3.73batch/s, Loss: 0.2489 | Precision: 87.86%]\u001B[0m\n"
     ]
    },
    {
     "name": "stdout",
     "output_type": "stream",
     "text": [
      "Epoch 180 | Avg Loss: 0.2679 | Avg Precision: 87.87%\n"
     ]
    },
    {
     "name": "stderr",
     "output_type": "stream",
     "text": [
      "Validate: 100%|\u001B[34m███████████████████████\u001B[0m| 74/74 [00:17<00:00,  4.35batch/s, Loss: 0.2662 | Precision: 87.93%]\u001B[0m\n"
     ]
    },
    {
     "name": "stdout",
     "output_type": "stream",
     "text": [
      "Epoch 180 | Avg Loss: 0.2735 | Avg Precision: 87.83% | Patience: 0\n"
     ]
    },
    {
     "name": "stderr",
     "output_type": "stream",
     "text": [
      "Train: 100%|\u001B[32m████████████████████████\u001B[0m| 295/295 [01:18<00:00,  3.77batch/s, Loss: 0.2496 | Precision: 87.87%]\u001B[0m\n"
     ]
    },
    {
     "name": "stdout",
     "output_type": "stream",
     "text": [
      "Epoch 181 | Avg Loss: 0.2674 | Avg Precision: 87.91%\n"
     ]
    },
    {
     "name": "stderr",
     "output_type": "stream",
     "text": [
      "Train: 100%|\u001B[32m████████████████████████\u001B[0m| 295/295 [01:18<00:00,  3.77batch/s, Loss: 0.2638 | Precision: 87.86%]\u001B[0m\n"
     ]
    },
    {
     "name": "stdout",
     "output_type": "stream",
     "text": [
      "Epoch 182 | Avg Loss: 0.2677 | Avg Precision: 87.91%\n"
     ]
    },
    {
     "name": "stderr",
     "output_type": "stream",
     "text": [
      "Train: 100%|\u001B[32m████████████████████████\u001B[0m| 295/295 [01:18<00:00,  3.77batch/s, Loss: 0.2521 | Precision: 87.86%]\u001B[0m\n"
     ]
    },
    {
     "name": "stdout",
     "output_type": "stream",
     "text": [
      "Epoch 183 | Avg Loss: 0.2672 | Avg Precision: 87.90%\n"
     ]
    },
    {
     "name": "stderr",
     "output_type": "stream",
     "text": [
      "Train: 100%|\u001B[32m████████████████████████\u001B[0m| 295/295 [01:17<00:00,  3.79batch/s, Loss: 0.2475 | Precision: 87.87%]\u001B[0m\n"
     ]
    },
    {
     "name": "stdout",
     "output_type": "stream",
     "text": [
      "Epoch 184 | Avg Loss: 0.2675 | Avg Precision: 87.90%\n"
     ]
    },
    {
     "name": "stderr",
     "output_type": "stream",
     "text": [
      "Train: 100%|\u001B[32m████████████████████████\u001B[0m| 295/295 [01:18<00:00,  3.77batch/s, Loss: 0.2555 | Precision: 87.88%]\u001B[0m\n"
     ]
    },
    {
     "name": "stdout",
     "output_type": "stream",
     "text": [
      "Epoch 185 | Avg Loss: 0.2672 | Avg Precision: 87.91%\n"
     ]
    },
    {
     "name": "stderr",
     "output_type": "stream",
     "text": [
      "Validate: 100%|\u001B[34m███████████████████████\u001B[0m| 74/74 [00:16<00:00,  4.45batch/s, Loss: 0.2630 | Precision: 87.84%]\u001B[0m\n"
     ]
    },
    {
     "name": "stdout",
     "output_type": "stream",
     "text": [
      "Epoch 00037: reducing learning rate of group 0 to 3.4868e-03.\n",
      "Epoch 185 | Avg Loss: 0.2756 | Avg Precision: 87.71% | Patience: 1\n"
     ]
    },
    {
     "name": "stderr",
     "output_type": "stream",
     "text": [
      "Train: 100%|\u001B[32m████████████████████████\u001B[0m| 295/295 [01:17<00:00,  3.80batch/s, Loss: 0.2581 | Precision: 87.94%]\u001B[0m\n"
     ]
    },
    {
     "name": "stdout",
     "output_type": "stream",
     "text": [
      "Epoch 186 | Avg Loss: 0.2664 | Avg Precision: 87.95%\n"
     ]
    },
    {
     "name": "stderr",
     "output_type": "stream",
     "text": [
      "Train: 100%|\u001B[32m████████████████████████\u001B[0m| 295/295 [01:17<00:00,  3.79batch/s, Loss: 0.2552 | Precision: 87.96%]\u001B[0m\n"
     ]
    },
    {
     "name": "stdout",
     "output_type": "stream",
     "text": [
      "Epoch 187 | Avg Loss: 0.2664 | Avg Precision: 87.99%\n"
     ]
    },
    {
     "name": "stderr",
     "output_type": "stream",
     "text": [
      "Train: 100%|\u001B[32m████████████████████████\u001B[0m| 295/295 [01:18<00:00,  3.77batch/s, Loss: 0.2425 | Precision: 87.93%]\u001B[0m\n"
     ]
    },
    {
     "name": "stdout",
     "output_type": "stream",
     "text": [
      "Epoch 188 | Avg Loss: 0.2663 | Avg Precision: 87.96%\n"
     ]
    },
    {
     "name": "stderr",
     "output_type": "stream",
     "text": [
      "Train: 100%|\u001B[32m████████████████████████\u001B[0m| 295/295 [01:18<00:00,  3.77batch/s, Loss: 0.2429 | Precision: 87.95%]\u001B[0m\n"
     ]
    },
    {
     "name": "stdout",
     "output_type": "stream",
     "text": [
      "Epoch 189 | Avg Loss: 0.2662 | Avg Precision: 87.97%\n"
     ]
    },
    {
     "name": "stderr",
     "output_type": "stream",
     "text": [
      "Train: 100%|\u001B[32m████████████████████████\u001B[0m| 295/295 [01:17<00:00,  3.79batch/s, Loss: 0.2484 | Precision: 87.95%]\u001B[0m\n"
     ]
    },
    {
     "name": "stdout",
     "output_type": "stream",
     "text": [
      "Epoch 190 | Avg Loss: 0.2659 | Avg Precision: 87.98%\n"
     ]
    },
    {
     "name": "stderr",
     "output_type": "stream",
     "text": [
      "Validate: 100%|\u001B[34m███████████████████████\u001B[0m| 74/74 [00:16<00:00,  4.43batch/s, Loss: 0.2648 | Precision: 88.02%]\u001B[0m\n"
     ]
    },
    {
     "name": "stdout",
     "output_type": "stream",
     "text": [
      "Epoch 190 | Avg Loss: 0.2714 | Avg Precision: 87.87% | Patience: 0\n"
     ]
    },
    {
     "name": "stderr",
     "output_type": "stream",
     "text": [
      "Train: 100%|\u001B[32m████████████████████████\u001B[0m| 295/295 [01:18<00:00,  3.77batch/s, Loss: 0.2478 | Precision: 87.97%]\u001B[0m\n"
     ]
    },
    {
     "name": "stdout",
     "output_type": "stream",
     "text": [
      "Epoch 191 | Avg Loss: 0.2655 | Avg Precision: 88.01%\n"
     ]
    },
    {
     "name": "stderr",
     "output_type": "stream",
     "text": [
      "Train: 100%|\u001B[32m████████████████████████\u001B[0m| 295/295 [01:18<00:00,  3.77batch/s, Loss: 0.2417 | Precision: 87.96%]\u001B[0m\n"
     ]
    },
    {
     "name": "stdout",
     "output_type": "stream",
     "text": [
      "Epoch 192 | Avg Loss: 0.2657 | Avg Precision: 88.00%\n"
     ]
    },
    {
     "name": "stderr",
     "output_type": "stream",
     "text": [
      "Train: 100%|\u001B[32m████████████████████████\u001B[0m| 295/295 [01:18<00:00,  3.77batch/s, Loss: 0.2454 | Precision: 88.00%]\u001B[0m\n"
     ]
    },
    {
     "name": "stdout",
     "output_type": "stream",
     "text": [
      "Epoch 193 | Avg Loss: 0.2650 | Avg Precision: 88.03%\n"
     ]
    },
    {
     "name": "stderr",
     "output_type": "stream",
     "text": [
      "Train: 100%|\u001B[32m████████████████████████\u001B[0m| 295/295 [01:18<00:00,  3.77batch/s, Loss: 0.2384 | Precision: 88.01%]\u001B[0m\n"
     ]
    },
    {
     "name": "stdout",
     "output_type": "stream",
     "text": [
      "Epoch 194 | Avg Loss: 0.2651 | Avg Precision: 88.04%\n"
     ]
    },
    {
     "name": "stderr",
     "output_type": "stream",
     "text": [
      "Train: 100%|\u001B[32m████████████████████████\u001B[0m| 295/295 [01:18<00:00,  3.76batch/s, Loss: 0.2441 | Precision: 88.03%]\u001B[0m\n"
     ]
    },
    {
     "name": "stdout",
     "output_type": "stream",
     "text": [
      "Epoch 195 | Avg Loss: 0.2644 | Avg Precision: 88.04%\n"
     ]
    },
    {
     "name": "stderr",
     "output_type": "stream",
     "text": [
      "Validate: 100%|\u001B[34m███████████████████████\u001B[0m| 74/74 [00:16<00:00,  4.39batch/s, Loss: 0.2615 | Precision: 88.16%]\u001B[0m\n"
     ]
    },
    {
     "name": "stdout",
     "output_type": "stream",
     "text": [
      "Epoch 195 | Avg Loss: 0.2701 | Avg Precision: 88.03% | Patience: 0\n"
     ]
    },
    {
     "name": "stderr",
     "output_type": "stream",
     "text": [
      "Train: 100%|\u001B[32m████████████████████████\u001B[0m| 295/295 [01:18<00:00,  3.75batch/s, Loss: 0.2345 | Precision: 88.03%]\u001B[0m\n"
     ]
    },
    {
     "name": "stdout",
     "output_type": "stream",
     "text": [
      "Epoch 196 | Avg Loss: 0.2651 | Avg Precision: 88.05%\n"
     ]
    },
    {
     "name": "stderr",
     "output_type": "stream",
     "text": [
      "Train: 100%|\u001B[32m████████████████████████\u001B[0m| 295/295 [01:18<00:00,  3.75batch/s, Loss: 0.2503 | Precision: 88.02%]\u001B[0m\n"
     ]
    },
    {
     "name": "stdout",
     "output_type": "stream",
     "text": [
      "Epoch 197 | Avg Loss: 0.2649 | Avg Precision: 88.00%\n"
     ]
    },
    {
     "name": "stderr",
     "output_type": "stream",
     "text": [
      "Train: 100%|\u001B[32m████████████████████████\u001B[0m| 295/295 [01:18<00:00,  3.74batch/s, Loss: 0.2440 | Precision: 88.03%]\u001B[0m\n"
     ]
    },
    {
     "name": "stdout",
     "output_type": "stream",
     "text": [
      "Epoch 198 | Avg Loss: 0.2647 | Avg Precision: 88.02%\n"
     ]
    },
    {
     "name": "stderr",
     "output_type": "stream",
     "text": [
      "Train: 100%|\u001B[32m████████████████████████\u001B[0m| 295/295 [01:18<00:00,  3.74batch/s, Loss: 0.2411 | Precision: 88.02%]\u001B[0m\n"
     ]
    },
    {
     "name": "stdout",
     "output_type": "stream",
     "text": [
      "Epoch 199 | Avg Loss: 0.2647 | Avg Precision: 88.01%\n"
     ]
    },
    {
     "name": "stderr",
     "output_type": "stream",
     "text": [
      "Train: 100%|\u001B[32m████████████████████████\u001B[0m| 295/295 [01:18<00:00,  3.75batch/s, Loss: 0.2467 | Precision: 88.07%]\u001B[0m\n"
     ]
    },
    {
     "name": "stdout",
     "output_type": "stream",
     "text": [
      "Epoch 200 | Avg Loss: 0.2640 | Avg Precision: 88.08%\n"
     ]
    },
    {
     "name": "stderr",
     "output_type": "stream",
     "text": [
      "Validate: 100%|\u001B[34m███████████████████████\u001B[0m| 74/74 [00:16<00:00,  4.40batch/s, Loss: 0.2560 | Precision: 88.00%]\u001B[0m"
     ]
    },
    {
     "name": "stdout",
     "output_type": "stream",
     "text": [
      "Epoch 200 | Avg Loss: 0.2702 | Avg Precision: 87.88% | Patience: 1\n",
      "Training Complete - Best Precision: 88.03%\n"
     ]
    },
    {
     "name": "stderr",
     "output_type": "stream",
     "text": [
      "\n"
     ]
    }
   ],
   "source": [
    "model = Gru(9, 350, 1, 4)\n",
    "model = model.to(device)\n",
    "criterion = nn.CrossEntropyLoss()\n",
    "optimizer = optim.Adam(model.parameters(), lr=.01)\n",
    "scheduler = ReduceLROnPlateau(optimizer, 'max', factor=.9, patience=1, min_lr=.001, verbose=True)\n",
    "epochs=200\n",
    "\n",
    "model2 = train_validate(model, criterion, optimizer, scheduler, epochs)\n",
    "torch.save(model2.state_dict(), '.\\\\models\\\\downsample\\\\gru\\\\model2.pth')"
   ]
  },
  {
   "cell_type": "markdown",
   "id": "69d47f7a-b2ee-4832-8b83-64e43cd0a98a",
   "metadata": {
    "jp-MarkdownHeadingCollapsed": true
   },
   "source": [
    "### 11-13-23"
   ]
  },
  {
   "cell_type": "markdown",
   "id": "8f7c0379-2e9a-429b-bbbe-a05ec877853a",
   "metadata": {
    "jp-MarkdownHeadingCollapsed": true
   },
   "source": [
    "#### Model 3 - Downsample with new features and added more units"
   ]
  },
  {
   "cell_type": "code",
   "execution_count": 23,
   "id": "3eebbb37-4079-466b-9508-24b72fc8e1af",
   "metadata": {},
   "outputs": [
    {
     "name": "stderr",
     "output_type": "stream",
     "text": [
      "Train: 100%|\u001B[32m████████████████████████\u001B[0m| 295/295 [01:06<00:00,  4.45batch/s, Loss: 0.3943 | Precision: 83.97%]\u001B[0m\n"
     ]
    },
    {
     "name": "stdout",
     "output_type": "stream",
     "text": [
      "Epoch 1 | Avg Loss: 0.3418 | Avg Precision: 80.96%\n"
     ]
    },
    {
     "name": "stderr",
     "output_type": "stream",
     "text": [
      "Train: 100%|\u001B[32m████████████████████████\u001B[0m| 295/295 [01:06<00:00,  4.46batch/s, Loss: 0.0894 | Precision: 87.48%]\u001B[0m\n"
     ]
    },
    {
     "name": "stdout",
     "output_type": "stream",
     "text": [
      "Epoch 2 | Avg Loss: 0.2641 | Avg Precision: 86.82%\n"
     ]
    },
    {
     "name": "stderr",
     "output_type": "stream",
     "text": [
      "Train: 100%|\u001B[32m████████████████████████\u001B[0m| 295/295 [01:06<00:00,  4.44batch/s, Loss: 0.0281 | Precision: 89.19%]\u001B[0m\n"
     ]
    },
    {
     "name": "stdout",
     "output_type": "stream",
     "text": [
      "Epoch 3 | Avg Loss: 0.2307 | Avg Precision: 88.67%\n"
     ]
    },
    {
     "name": "stderr",
     "output_type": "stream",
     "text": [
      "Validate: 100%|\u001B[34m███████████████████████\u001B[0m| 74/74 [00:13<00:00,  5.39batch/s, Loss: 0.2079 | Precision: 88.65%]\u001B[0m\n"
     ]
    },
    {
     "name": "stdout",
     "output_type": "stream",
     "text": [
      "Epoch 3 | Avg Loss: 0.2387 | Avg Precision: 88.55% | Patience: 0\n"
     ]
    },
    {
     "name": "stderr",
     "output_type": "stream",
     "text": [
      "Train: 100%|\u001B[32m████████████████████████\u001B[0m| 295/295 [01:06<00:00,  4.46batch/s, Loss: 0.0191 | Precision: 90.68%]\u001B[0m\n"
     ]
    },
    {
     "name": "stdout",
     "output_type": "stream",
     "text": [
      "Epoch 4 | Avg Loss: 0.2027 | Avg Precision: 90.36%\n"
     ]
    },
    {
     "name": "stderr",
     "output_type": "stream",
     "text": [
      "Train: 100%|\u001B[32m████████████████████████\u001B[0m| 295/295 [01:06<00:00,  4.46batch/s, Loss: 0.0148 | Precision: 91.85%]\u001B[0m\n"
     ]
    },
    {
     "name": "stdout",
     "output_type": "stream",
     "text": [
      "Epoch 5 | Avg Loss: 0.1793 | Avg Precision: 91.58%\n"
     ]
    },
    {
     "name": "stderr",
     "output_type": "stream",
     "text": [
      "Train: 100%|\u001B[32m████████████████████████\u001B[0m| 295/295 [01:06<00:00,  4.45batch/s, Loss: 0.0066 | Precision: 92.93%]\u001B[0m\n"
     ]
    },
    {
     "name": "stdout",
     "output_type": "stream",
     "text": [
      "Epoch 6 | Avg Loss: 0.1577 | Avg Precision: 92.66%\n"
     ]
    },
    {
     "name": "stderr",
     "output_type": "stream",
     "text": [
      "Validate: 100%|\u001B[34m███████████████████████\u001B[0m| 74/74 [00:13<00:00,  5.41batch/s, Loss: 0.1518 | Precision: 91.35%]\u001B[0m\n"
     ]
    },
    {
     "name": "stdout",
     "output_type": "stream",
     "text": [
      "Epoch 6 | Avg Loss: 0.1839 | Avg Precision: 91.37% | Patience: 0\n"
     ]
    },
    {
     "name": "stderr",
     "output_type": "stream",
     "text": [
      "Train: 100%|\u001B[32m████████████████████████\u001B[0m| 295/295 [01:06<00:00,  4.46batch/s, Loss: 0.0041 | Precision: 93.81%]\u001B[0m\n"
     ]
    },
    {
     "name": "stdout",
     "output_type": "stream",
     "text": [
      "Epoch 7 | Avg Loss: 0.1410 | Avg Precision: 93.59%\n"
     ]
    },
    {
     "name": "stderr",
     "output_type": "stream",
     "text": [
      "Train: 100%|\u001B[32m████████████████████████\u001B[0m| 295/295 [01:06<00:00,  4.44batch/s, Loss: 0.0030 | Precision: 94.43%]\u001B[0m\n"
     ]
    },
    {
     "name": "stdout",
     "output_type": "stream",
     "text": [
      "Epoch 8 | Avg Loss: 0.1285 | Avg Precision: 94.35%\n"
     ]
    },
    {
     "name": "stderr",
     "output_type": "stream",
     "text": [
      "Train: 100%|\u001B[32m████████████████████████\u001B[0m| 295/295 [01:05<00:00,  4.47batch/s, Loss: 0.0029 | Precision: 94.93%]\u001B[0m\n"
     ]
    },
    {
     "name": "stdout",
     "output_type": "stream",
     "text": [
      "Epoch 9 | Avg Loss: 0.1189 | Avg Precision: 94.85%\n"
     ]
    },
    {
     "name": "stderr",
     "output_type": "stream",
     "text": [
      "Validate: 100%|\u001B[34m███████████████████████\u001B[0m| 74/74 [00:13<00:00,  5.45batch/s, Loss: 0.1575 | Precision: 92.74%]\u001B[0m\n"
     ]
    },
    {
     "name": "stdout",
     "output_type": "stream",
     "text": [
      "Epoch 9 | Avg Loss: 0.1639 | Avg Precision: 92.76% | Patience: 0\n"
     ]
    },
    {
     "name": "stderr",
     "output_type": "stream",
     "text": [
      "Train: 100%|\u001B[32m████████████████████████\u001B[0m| 295/295 [01:05<00:00,  4.47batch/s, Loss: 0.0036 | Precision: 95.11%]\u001B[0m\n"
     ]
    },
    {
     "name": "stdout",
     "output_type": "stream",
     "text": [
      "Epoch 10 | Avg Loss: 0.1148 | Avg Precision: 95.03%\n"
     ]
    },
    {
     "name": "stderr",
     "output_type": "stream",
     "text": [
      "Train: 100%|\u001B[32m████████████████████████\u001B[0m| 295/295 [01:06<00:00,  4.45batch/s, Loss: 0.0010 | Precision: 95.39%]\u001B[0m\n"
     ]
    },
    {
     "name": "stdout",
     "output_type": "stream",
     "text": [
      "Epoch 11 | Avg Loss: 0.1087 | Avg Precision: 95.24%\n"
     ]
    },
    {
     "name": "stderr",
     "output_type": "stream",
     "text": [
      "Train: 100%|\u001B[32m████████████████████████\u001B[0m| 295/295 [01:06<00:00,  4.47batch/s, Loss: 0.0013 | Precision: 95.64%]\u001B[0m\n"
     ]
    },
    {
     "name": "stdout",
     "output_type": "stream",
     "text": [
      "Epoch 12 | Avg Loss: 0.1039 | Avg Precision: 95.55%\n"
     ]
    },
    {
     "name": "stderr",
     "output_type": "stream",
     "text": [
      "Validate: 100%|\u001B[34m███████████████████████\u001B[0m| 74/74 [00:13<00:00,  5.36batch/s, Loss: 0.1457 | Precision: 93.21%]\u001B[0m\n"
     ]
    },
    {
     "name": "stdout",
     "output_type": "stream",
     "text": [
      "Epoch 12 | Avg Loss: 0.1565 | Avg Precision: 93.22% | Patience: 0\n"
     ]
    },
    {
     "name": "stderr",
     "output_type": "stream",
     "text": [
      "Train: 100%|\u001B[32m████████████████████████\u001B[0m| 295/295 [01:05<00:00,  4.49batch/s, Loss: 0.0012 | Precision: 95.73%]\u001B[0m\n"
     ]
    },
    {
     "name": "stdout",
     "output_type": "stream",
     "text": [
      "Epoch 13 | Avg Loss: 0.1022 | Avg Precision: 95.62%\n"
     ]
    },
    {
     "name": "stderr",
     "output_type": "stream",
     "text": [
      "Train: 100%|\u001B[32m████████████████████████\u001B[0m| 295/295 [01:05<00:00,  4.48batch/s, Loss: 0.0046 | Precision: 95.89%]\u001B[0m\n"
     ]
    },
    {
     "name": "stdout",
     "output_type": "stream",
     "text": [
      "Epoch 14 | Avg Loss: 0.0995 | Avg Precision: 95.87%\n"
     ]
    },
    {
     "name": "stderr",
     "output_type": "stream",
     "text": [
      "Train: 100%|\u001B[32m████████████████████████\u001B[0m| 295/295 [01:05<00:00,  4.48batch/s, Loss: 0.0080 | Precision: 95.89%]\u001B[0m\n"
     ]
    },
    {
     "name": "stdout",
     "output_type": "stream",
     "text": [
      "Epoch 15 | Avg Loss: 0.0984 | Avg Precision: 95.82%\n"
     ]
    },
    {
     "name": "stderr",
     "output_type": "stream",
     "text": [
      "Validate: 100%|\u001B[34m███████████████████████\u001B[0m| 74/74 [00:13<00:00,  5.42batch/s, Loss: 0.1315 | Precision: 93.70%]\u001B[0m\n"
     ]
    },
    {
     "name": "stdout",
     "output_type": "stream",
     "text": [
      "Epoch 15 | Avg Loss: 0.1469 | Avg Precision: 93.81% | Patience: 0\n"
     ]
    },
    {
     "name": "stderr",
     "output_type": "stream",
     "text": [
      "Train: 100%|\u001B[32m████████████████████████\u001B[0m| 295/295 [01:05<00:00,  4.47batch/s, Loss: 0.0087 | Precision: 95.85%]\u001B[0m\n"
     ]
    },
    {
     "name": "stdout",
     "output_type": "stream",
     "text": [
      "Epoch 16 | Avg Loss: 0.0992 | Avg Precision: 95.91%\n"
     ]
    },
    {
     "name": "stderr",
     "output_type": "stream",
     "text": [
      "Train: 100%|\u001B[32m████████████████████████\u001B[0m| 295/295 [01:06<00:00,  4.46batch/s, Loss: 0.0012 | Precision: 95.75%]\u001B[0m\n"
     ]
    },
    {
     "name": "stdout",
     "output_type": "stream",
     "text": [
      "Epoch 17 | Avg Loss: 0.1018 | Avg Precision: 95.71%\n"
     ]
    },
    {
     "name": "stderr",
     "output_type": "stream",
     "text": [
      "Train: 100%|\u001B[32m████████████████████████\u001B[0m| 295/295 [01:05<00:00,  4.48batch/s, Loss: 0.0030 | Precision: 95.54%]\u001B[0m\n"
     ]
    },
    {
     "name": "stdout",
     "output_type": "stream",
     "text": [
      "Epoch 18 | Avg Loss: 0.1065 | Avg Precision: 95.58%\n"
     ]
    },
    {
     "name": "stderr",
     "output_type": "stream",
     "text": [
      "Validate: 100%|\u001B[34m███████████████████████\u001B[0m| 74/74 [00:13<00:00,  5.38batch/s, Loss: 0.1296 | Precision: 93.33%]\u001B[0m\n"
     ]
    },
    {
     "name": "stdout",
     "output_type": "stream",
     "text": [
      "Epoch 00006: reducing learning rate of group 0 to 2.7000e-03.\n",
      "Epoch 18 | Avg Loss: 0.1534 | Avg Precision: 93.41% | Patience: 1\n"
     ]
    },
    {
     "name": "stderr",
     "output_type": "stream",
     "text": [
      "Train: 100%|\u001B[32m████████████████████████\u001B[0m| 295/295 [01:05<00:00,  4.48batch/s, Loss: 0.0056 | Precision: 96.05%]\u001B[0m\n"
     ]
    },
    {
     "name": "stdout",
     "output_type": "stream",
     "text": [
      "Epoch 19 | Avg Loss: 0.0954 | Avg Precision: 95.91%\n"
     ]
    },
    {
     "name": "stderr",
     "output_type": "stream",
     "text": [
      "Train: 100%|\u001B[32m████████████████████████\u001B[0m| 295/295 [01:05<00:00,  4.48batch/s, Loss: 0.0028 | Precision: 96.21%]\u001B[0m\n"
     ]
    },
    {
     "name": "stdout",
     "output_type": "stream",
     "text": [
      "Epoch 20 | Avg Loss: 0.0931 | Avg Precision: 96.22%\n"
     ]
    },
    {
     "name": "stderr",
     "output_type": "stream",
     "text": [
      "Train: 100%|\u001B[32m████████████████████████\u001B[0m| 295/295 [01:05<00:00,  4.49batch/s, Loss: 0.0051 | Precision: 96.23%]\u001B[0m\n"
     ]
    },
    {
     "name": "stdout",
     "output_type": "stream",
     "text": [
      "Epoch 21 | Avg Loss: 0.0925 | Avg Precision: 96.21%\n"
     ]
    },
    {
     "name": "stderr",
     "output_type": "stream",
     "text": [
      "Validate: 100%|\u001B[34m███████████████████████\u001B[0m| 74/74 [00:13<00:00,  5.40batch/s, Loss: 0.1304 | Precision: 94.14%]\u001B[0m\n"
     ]
    },
    {
     "name": "stdout",
     "output_type": "stream",
     "text": [
      "Epoch 21 | Avg Loss: 0.1416 | Avg Precision: 94.21% | Patience: 0\n"
     ]
    },
    {
     "name": "stderr",
     "output_type": "stream",
     "text": [
      "Train: 100%|\u001B[32m████████████████████████\u001B[0m| 295/295 [01:05<00:00,  4.48batch/s, Loss: 0.0018 | Precision: 96.30%]\u001B[0m\n"
     ]
    },
    {
     "name": "stdout",
     "output_type": "stream",
     "text": [
      "Epoch 22 | Avg Loss: 0.0906 | Avg Precision: 96.33%\n"
     ]
    },
    {
     "name": "stderr",
     "output_type": "stream",
     "text": [
      "Train: 100%|\u001B[32m████████████████████████\u001B[0m| 295/295 [01:05<00:00,  4.48batch/s, Loss: 0.0028 | Precision: 96.10%]\u001B[0m\n"
     ]
    },
    {
     "name": "stdout",
     "output_type": "stream",
     "text": [
      "Epoch 23 | Avg Loss: 0.0950 | Avg Precision: 96.14%\n"
     ]
    },
    {
     "name": "stderr",
     "output_type": "stream",
     "text": [
      "Train: 100%|\u001B[32m████████████████████████\u001B[0m| 295/295 [01:05<00:00,  4.49batch/s, Loss: 0.0064 | Precision: 96.13%]\u001B[0m\n"
     ]
    },
    {
     "name": "stdout",
     "output_type": "stream",
     "text": [
      "Epoch 24 | Avg Loss: 0.0936 | Avg Precision: 96.15%\n"
     ]
    },
    {
     "name": "stderr",
     "output_type": "stream",
     "text": [
      "Validate: 100%|\u001B[34m███████████████████████\u001B[0m| 74/74 [00:13<00:00,  5.49batch/s, Loss: 0.1119 | Precision: 94.01%]\u001B[0m\n"
     ]
    },
    {
     "name": "stdout",
     "output_type": "stream",
     "text": [
      "Epoch 00008: reducing learning rate of group 0 to 2.4300e-03.\n",
      "Epoch 24 | Avg Loss: 0.1442 | Avg Precision: 93.93% | Patience: 1\n"
     ]
    },
    {
     "name": "stderr",
     "output_type": "stream",
     "text": [
      "Train: 100%|\u001B[32m████████████████████████\u001B[0m| 295/295 [01:05<00:00,  4.50batch/s, Loss: 0.0015 | Precision: 96.48%]\u001B[0m\n"
     ]
    },
    {
     "name": "stdout",
     "output_type": "stream",
     "text": [
      "Epoch 25 | Avg Loss: 0.0868 | Avg Precision: 96.34%\n"
     ]
    },
    {
     "name": "stderr",
     "output_type": "stream",
     "text": [
      "Train: 100%|\u001B[32m████████████████████████\u001B[0m| 295/295 [01:05<00:00,  4.52batch/s, Loss: 0.0111 | Precision: 96.64%]\u001B[0m\n"
     ]
    },
    {
     "name": "stdout",
     "output_type": "stream",
     "text": [
      "Epoch 26 | Avg Loss: 0.0845 | Avg Precision: 96.65%\n"
     ]
    },
    {
     "name": "stderr",
     "output_type": "stream",
     "text": [
      "Train: 100%|\u001B[32m████████████████████████\u001B[0m| 295/295 [01:05<00:00,  4.51batch/s, Loss: 0.0024 | Precision: 96.46%]\u001B[0m\n"
     ]
    },
    {
     "name": "stdout",
     "output_type": "stream",
     "text": [
      "Epoch 27 | Avg Loss: 0.0872 | Avg Precision: 96.54%\n"
     ]
    },
    {
     "name": "stderr",
     "output_type": "stream",
     "text": [
      "Validate: 100%|\u001B[34m███████████████████████\u001B[0m| 74/74 [00:13<00:00,  5.42batch/s, Loss: 0.1244 | Precision: 94.21%]\u001B[0m\n"
     ]
    },
    {
     "name": "stdout",
     "output_type": "stream",
     "text": [
      "Epoch 00009: reducing learning rate of group 0 to 2.1870e-03.\n",
      "Epoch 27 | Avg Loss: 0.1419 | Avg Precision: 94.21% | Patience: 2\n"
     ]
    },
    {
     "name": "stderr",
     "output_type": "stream",
     "text": [
      "Train: 100%|\u001B[32m████████████████████████\u001B[0m| 295/295 [01:05<00:00,  4.51batch/s, Loss: 0.0319 | Precision: 96.69%]\u001B[0m\n"
     ]
    },
    {
     "name": "stdout",
     "output_type": "stream",
     "text": [
      "Epoch 28 | Avg Loss: 0.0823 | Avg Precision: 96.64%\n"
     ]
    },
    {
     "name": "stderr",
     "output_type": "stream",
     "text": [
      "Train: 100%|\u001B[32m████████████████████████\u001B[0m| 295/295 [01:05<00:00,  4.49batch/s, Loss: 0.0024 | Precision: 96.72%]\u001B[0m\n"
     ]
    },
    {
     "name": "stdout",
     "output_type": "stream",
     "text": [
      "Epoch 29 | Avg Loss: 0.0830 | Avg Precision: 96.72%\n"
     ]
    },
    {
     "name": "stderr",
     "output_type": "stream",
     "text": [
      "Train: 100%|\u001B[32m████████████████████████\u001B[0m| 295/295 [01:05<00:00,  4.50batch/s, Loss: 0.0003 | Precision: 96.95%]\u001B[0m\n"
     ]
    },
    {
     "name": "stdout",
     "output_type": "stream",
     "text": [
      "Epoch 30 | Avg Loss: 0.0770 | Avg Precision: 96.90%\n"
     ]
    },
    {
     "name": "stderr",
     "output_type": "stream",
     "text": [
      "Validate: 100%|\u001B[34m███████████████████████\u001B[0m| 74/74 [00:13<00:00,  5.45batch/s, Loss: 0.1228 | Precision: 94.73%]\u001B[0m\n"
     ]
    },
    {
     "name": "stdout",
     "output_type": "stream",
     "text": [
      "Epoch 30 | Avg Loss: 0.1321 | Avg Precision: 94.80% | Patience: 0\n"
     ]
    },
    {
     "name": "stderr",
     "output_type": "stream",
     "text": [
      "Train: 100%|\u001B[32m████████████████████████\u001B[0m| 295/295 [01:05<00:00,  4.51batch/s, Loss: 0.0006 | Precision: 96.98%]\u001B[0m\n"
     ]
    },
    {
     "name": "stdout",
     "output_type": "stream",
     "text": [
      "Epoch 31 | Avg Loss: 0.0764 | Avg Precision: 97.00%\n"
     ]
    },
    {
     "name": "stderr",
     "output_type": "stream",
     "text": [
      "Train: 100%|\u001B[32m████████████████████████\u001B[0m| 295/295 [01:05<00:00,  4.52batch/s, Loss: 0.0480 | Precision: 96.95%]\u001B[0m\n"
     ]
    },
    {
     "name": "stdout",
     "output_type": "stream",
     "text": [
      "Epoch 32 | Avg Loss: 0.0772 | Avg Precision: 96.96%\n"
     ]
    },
    {
     "name": "stderr",
     "output_type": "stream",
     "text": [
      "Train: 100%|\u001B[32m████████████████████████\u001B[0m| 295/295 [01:06<00:00,  4.43batch/s, Loss: 0.0030 | Precision: 96.79%]\u001B[0m\n"
     ]
    },
    {
     "name": "stdout",
     "output_type": "stream",
     "text": [
      "Epoch 33 | Avg Loss: 0.0802 | Avg Precision: 96.77%\n"
     ]
    },
    {
     "name": "stderr",
     "output_type": "stream",
     "text": [
      "Validate: 100%|\u001B[34m███████████████████████\u001B[0m| 74/74 [00:13<00:00,  5.37batch/s, Loss: 0.1252 | Precision: 94.52%]\u001B[0m\n"
     ]
    },
    {
     "name": "stdout",
     "output_type": "stream",
     "text": [
      "Epoch 00011: reducing learning rate of group 0 to 1.9683e-03.\n",
      "Epoch 33 | Avg Loss: 0.1388 | Avg Precision: 94.63% | Patience: 1\n"
     ]
    },
    {
     "name": "stderr",
     "output_type": "stream",
     "text": [
      "Train: 100%|\u001B[32m████████████████████████\u001B[0m| 295/295 [01:05<00:00,  4.49batch/s, Loss: 0.0024 | Precision: 96.90%]\u001B[0m\n"
     ]
    },
    {
     "name": "stdout",
     "output_type": "stream",
     "text": [
      "Epoch 34 | Avg Loss: 0.0775 | Avg Precision: 96.85%\n"
     ]
    },
    {
     "name": "stderr",
     "output_type": "stream",
     "text": [
      "Train: 100%|\u001B[32m████████████████████████\u001B[0m| 295/295 [01:05<00:00,  4.49batch/s, Loss: 0.0069 | Precision: 97.05%]\u001B[0m\n"
     ]
    },
    {
     "name": "stdout",
     "output_type": "stream",
     "text": [
      "Epoch 35 | Avg Loss: 0.0746 | Avg Precision: 97.10%\n"
     ]
    },
    {
     "name": "stderr",
     "output_type": "stream",
     "text": [
      "Train: 100%|\u001B[32m████████████████████████\u001B[0m| 295/295 [01:05<00:00,  4.50batch/s, Loss: 0.0021 | Precision: 97.10%]\u001B[0m\n"
     ]
    },
    {
     "name": "stdout",
     "output_type": "stream",
     "text": [
      "Epoch 36 | Avg Loss: 0.0736 | Avg Precision: 97.16%\n"
     ]
    },
    {
     "name": "stderr",
     "output_type": "stream",
     "text": [
      "Validate: 100%|\u001B[34m███████████████████████\u001B[0m| 74/74 [00:13<00:00,  5.50batch/s, Loss: 0.1118 | Precision: 94.81%]\u001B[0m\n"
     ]
    },
    {
     "name": "stdout",
     "output_type": "stream",
     "text": [
      "Epoch 36 | Avg Loss: 0.1370 | Avg Precision: 94.81% | Patience: 0\n"
     ]
    },
    {
     "name": "stderr",
     "output_type": "stream",
     "text": [
      "Train: 100%|\u001B[32m████████████████████████\u001B[0m| 295/295 [01:05<00:00,  4.50batch/s, Loss: 0.0010 | Precision: 97.13%]\u001B[0m\n"
     ]
    },
    {
     "name": "stdout",
     "output_type": "stream",
     "text": [
      "Epoch 37 | Avg Loss: 0.0730 | Avg Precision: 97.12%\n"
     ]
    },
    {
     "name": "stderr",
     "output_type": "stream",
     "text": [
      "Train: 100%|\u001B[32m████████████████████████\u001B[0m| 295/295 [01:04<00:00,  4.55batch/s, Loss: 0.0068 | Precision: 97.10%]\u001B[0m\n"
     ]
    },
    {
     "name": "stdout",
     "output_type": "stream",
     "text": [
      "Epoch 38 | Avg Loss: 0.0734 | Avg Precision: 97.24%\n"
     ]
    },
    {
     "name": "stderr",
     "output_type": "stream",
     "text": [
      "Train: 100%|\u001B[32m████████████████████████\u001B[0m| 295/295 [01:05<00:00,  4.53batch/s, Loss: 0.0008 | Precision: 97.03%]\u001B[0m\n"
     ]
    },
    {
     "name": "stdout",
     "output_type": "stream",
     "text": [
      "Epoch 39 | Avg Loss: 0.0747 | Avg Precision: 97.01%\n"
     ]
    },
    {
     "name": "stderr",
     "output_type": "stream",
     "text": [
      "Validate: 100%|\u001B[34m███████████████████████\u001B[0m| 74/74 [00:13<00:00,  5.54batch/s, Loss: 0.0940 | Precision: 94.55%]\u001B[0m\n"
     ]
    },
    {
     "name": "stdout",
     "output_type": "stream",
     "text": [
      "Epoch 00013: reducing learning rate of group 0 to 1.7715e-03.\n",
      "Epoch 39 | Avg Loss: 0.1398 | Avg Precision: 94.60% | Patience: 1\n"
     ]
    },
    {
     "name": "stderr",
     "output_type": "stream",
     "text": [
      "Train: 100%|\u001B[32m████████████████████████\u001B[0m| 295/295 [01:05<00:00,  4.53batch/s, Loss: 0.0052 | Precision: 97.44%]\u001B[0m\n"
     ]
    },
    {
     "name": "stdout",
     "output_type": "stream",
     "text": [
      "Epoch 40 | Avg Loss: 0.0671 | Avg Precision: 97.38%\n"
     ]
    },
    {
     "name": "stderr",
     "output_type": "stream",
     "text": [
      "Train: 100%|\u001B[32m████████████████████████\u001B[0m| 295/295 [01:05<00:00,  4.50batch/s, Loss: 0.0016 | Precision: 97.55%]\u001B[0m\n"
     ]
    },
    {
     "name": "stdout",
     "output_type": "stream",
     "text": [
      "Epoch 41 | Avg Loss: 0.0642 | Avg Precision: 97.55%\n"
     ]
    },
    {
     "name": "stderr",
     "output_type": "stream",
     "text": [
      "Train: 100%|\u001B[32m████████████████████████\u001B[0m| 295/295 [01:05<00:00,  4.51batch/s, Loss: 0.0012 | Precision: 97.52%]\u001B[0m\n"
     ]
    },
    {
     "name": "stdout",
     "output_type": "stream",
     "text": [
      "Epoch 42 | Avg Loss: 0.0642 | Avg Precision: 97.47%\n"
     ]
    },
    {
     "name": "stderr",
     "output_type": "stream",
     "text": [
      "Validate: 100%|\u001B[34m███████████████████████\u001B[0m| 74/74 [00:13<00:00,  5.52batch/s, Loss: 0.0953 | Precision: 94.81%]\u001B[0m\n"
     ]
    },
    {
     "name": "stdout",
     "output_type": "stream",
     "text": [
      "Epoch 42 | Avg Loss: 0.1362 | Avg Precision: 94.87% | Patience: 0\n"
     ]
    },
    {
     "name": "stderr",
     "output_type": "stream",
     "text": [
      "Train: 100%|\u001B[32m████████████████████████\u001B[0m| 295/295 [01:05<00:00,  4.50batch/s, Loss: 0.0190 | Precision: 97.65%]\u001B[0m\n"
     ]
    },
    {
     "name": "stdout",
     "output_type": "stream",
     "text": [
      "Epoch 43 | Avg Loss: 0.0621 | Avg Precision: 97.67%\n"
     ]
    },
    {
     "name": "stderr",
     "output_type": "stream",
     "text": [
      "Train: 100%|\u001B[32m████████████████████████\u001B[0m| 295/295 [01:05<00:00,  4.49batch/s, Loss: 0.0027 | Precision: 97.54%]\u001B[0m\n"
     ]
    },
    {
     "name": "stdout",
     "output_type": "stream",
     "text": [
      "Epoch 44 | Avg Loss: 0.0645 | Avg Precision: 97.61%\n"
     ]
    },
    {
     "name": "stderr",
     "output_type": "stream",
     "text": [
      "Train: 100%|\u001B[32m████████████████████████\u001B[0m| 295/295 [01:05<00:00,  4.50batch/s, Loss: 0.0004 | Precision: 97.46%]\u001B[0m\n"
     ]
    },
    {
     "name": "stdout",
     "output_type": "stream",
     "text": [
      "Epoch 45 | Avg Loss: 0.0661 | Avg Precision: 97.51%\n"
     ]
    },
    {
     "name": "stderr",
     "output_type": "stream",
     "text": [
      "Validate: 100%|\u001B[34m███████████████████████\u001B[0m| 74/74 [00:13<00:00,  5.53batch/s, Loss: 0.1064 | Precision: 94.85%]\u001B[0m\n"
     ]
    },
    {
     "name": "stdout",
     "output_type": "stream",
     "text": [
      "Epoch 45 | Avg Loss: 0.1357 | Avg Precision: 94.91% | Patience: 0\n"
     ]
    },
    {
     "name": "stderr",
     "output_type": "stream",
     "text": [
      "Train: 100%|\u001B[32m████████████████████████\u001B[0m| 295/295 [01:05<00:00,  4.50batch/s, Loss: 0.0002 | Precision: 97.38%]\u001B[0m\n"
     ]
    },
    {
     "name": "stdout",
     "output_type": "stream",
     "text": [
      "Epoch 46 | Avg Loss: 0.0675 | Avg Precision: 97.34%\n"
     ]
    },
    {
     "name": "stderr",
     "output_type": "stream",
     "text": [
      "Train: 100%|\u001B[32m████████████████████████\u001B[0m| 295/295 [01:05<00:00,  4.49batch/s, Loss: 0.0244 | Precision: 97.36%]\u001B[0m\n"
     ]
    },
    {
     "name": "stdout",
     "output_type": "stream",
     "text": [
      "Epoch 47 | Avg Loss: 0.0682 | Avg Precision: 97.38%\n"
     ]
    },
    {
     "name": "stderr",
     "output_type": "stream",
     "text": [
      "Train: 100%|\u001B[32m████████████████████████\u001B[0m| 295/295 [01:05<00:00,  4.49batch/s, Loss: 0.0020 | Precision: 97.40%]\u001B[0m\n"
     ]
    },
    {
     "name": "stdout",
     "output_type": "stream",
     "text": [
      "Epoch 48 | Avg Loss: 0.0673 | Avg Precision: 97.42%\n"
     ]
    },
    {
     "name": "stderr",
     "output_type": "stream",
     "text": [
      "Validate: 100%|\u001B[34m███████████████████████\u001B[0m| 74/74 [00:13<00:00,  5.47batch/s, Loss: 0.0909 | Precision: 94.98%]\u001B[0m\n"
     ]
    },
    {
     "name": "stdout",
     "output_type": "stream",
     "text": [
      "Epoch 00016: reducing learning rate of group 0 to 1.5943e-03.\n",
      "Epoch 48 | Avg Loss: 0.1316 | Avg Precision: 94.90% | Patience: 1\n"
     ]
    },
    {
     "name": "stderr",
     "output_type": "stream",
     "text": [
      "Train: 100%|\u001B[32m████████████████████████\u001B[0m| 295/295 [01:05<00:00,  4.52batch/s, Loss: 0.0003 | Precision: 97.67%]\u001B[0m\n"
     ]
    },
    {
     "name": "stdout",
     "output_type": "stream",
     "text": [
      "Epoch 49 | Avg Loss: 0.0614 | Avg Precision: 97.56%\n"
     ]
    },
    {
     "name": "stderr",
     "output_type": "stream",
     "text": [
      "Train: 100%|\u001B[32m████████████████████████\u001B[0m| 295/295 [01:05<00:00,  4.48batch/s, Loss: 0.0066 | Precision: 97.93%]\u001B[0m\n"
     ]
    },
    {
     "name": "stdout",
     "output_type": "stream",
     "text": [
      "Epoch 50 | Avg Loss: 0.0565 | Avg Precision: 97.93%\n"
     ]
    },
    {
     "name": "stderr",
     "output_type": "stream",
     "text": [
      "Train: 100%|\u001B[32m████████████████████████\u001B[0m| 295/295 [01:05<00:00,  4.51batch/s, Loss: 0.0004 | Precision: 97.92%]\u001B[0m\n"
     ]
    },
    {
     "name": "stdout",
     "output_type": "stream",
     "text": [
      "Epoch 51 | Avg Loss: 0.0566 | Avg Precision: 97.96%\n"
     ]
    },
    {
     "name": "stderr",
     "output_type": "stream",
     "text": [
      "Validate: 100%|\u001B[34m███████████████████████\u001B[0m| 74/74 [00:13<00:00,  5.53batch/s, Loss: 0.0868 | Precision: 95.16%]\u001B[0m\n"
     ]
    },
    {
     "name": "stdout",
     "output_type": "stream",
     "text": [
      "Epoch 51 | Avg Loss: 0.1294 | Avg Precision: 95.05% | Patience: 0\n"
     ]
    },
    {
     "name": "stderr",
     "output_type": "stream",
     "text": [
      "Train: 100%|\u001B[32m████████████████████████\u001B[0m| 295/295 [01:04<00:00,  4.55batch/s, Loss: 0.0002 | Precision: 97.84%]\u001B[0m\n"
     ]
    },
    {
     "name": "stdout",
     "output_type": "stream",
     "text": [
      "Epoch 52 | Avg Loss: 0.0576 | Avg Precision: 97.84%\n"
     ]
    },
    {
     "name": "stderr",
     "output_type": "stream",
     "text": [
      "Train: 100%|\u001B[32m████████████████████████\u001B[0m| 295/295 [01:04<00:00,  4.55batch/s, Loss: 0.0002 | Precision: 97.83%]\u001B[0m\n"
     ]
    },
    {
     "name": "stdout",
     "output_type": "stream",
     "text": [
      "Epoch 53 | Avg Loss: 0.0580 | Avg Precision: 97.84%\n"
     ]
    },
    {
     "name": "stderr",
     "output_type": "stream",
     "text": [
      "Train: 100%|\u001B[32m████████████████████████\u001B[0m| 295/295 [01:05<00:00,  4.53batch/s, Loss: 0.0003 | Precision: 97.81%]\u001B[0m\n"
     ]
    },
    {
     "name": "stdout",
     "output_type": "stream",
     "text": [
      "Epoch 54 | Avg Loss: 0.0585 | Avg Precision: 97.80%\n"
     ]
    },
    {
     "name": "stderr",
     "output_type": "stream",
     "text": [
      "Validate: 100%|\u001B[34m███████████████████████\u001B[0m| 74/74 [00:13<00:00,  5.55batch/s, Loss: 0.1049 | Precision: 95.07%]\u001B[0m\n"
     ]
    },
    {
     "name": "stdout",
     "output_type": "stream",
     "text": [
      "Epoch 00018: reducing learning rate of group 0 to 1.4349e-03.\n",
      "Epoch 54 | Avg Loss: 0.1345 | Avg Precision: 95.06% | Patience: 0\n"
     ]
    },
    {
     "name": "stderr",
     "output_type": "stream",
     "text": [
      "Train: 100%|\u001B[32m████████████████████████\u001B[0m| 295/295 [01:04<00:00,  4.57batch/s, Loss: 0.0000 | Precision: 98.08%]\u001B[0m\n"
     ]
    },
    {
     "name": "stdout",
     "output_type": "stream",
     "text": [
      "Epoch 55 | Avg Loss: 0.0527 | Avg Precision: 97.98%\n"
     ]
    },
    {
     "name": "stderr",
     "output_type": "stream",
     "text": [
      "Train: 100%|\u001B[32m████████████████████████\u001B[0m| 295/295 [01:04<00:00,  4.55batch/s, Loss: 0.0004 | Precision: 98.14%]\u001B[0m\n"
     ]
    },
    {
     "name": "stdout",
     "output_type": "stream",
     "text": [
      "Epoch 56 | Avg Loss: 0.0514 | Avg Precision: 98.21%\n"
     ]
    },
    {
     "name": "stderr",
     "output_type": "stream",
     "text": [
      "Train: 100%|\u001B[32m████████████████████████\u001B[0m| 295/295 [01:04<00:00,  4.56batch/s, Loss: 0.0001 | Precision: 98.10%]\u001B[0m\n"
     ]
    },
    {
     "name": "stdout",
     "output_type": "stream",
     "text": [
      "Epoch 57 | Avg Loss: 0.0521 | Avg Precision: 98.10%\n"
     ]
    },
    {
     "name": "stderr",
     "output_type": "stream",
     "text": [
      "Validate: 100%|\u001B[34m███████████████████████\u001B[0m| 74/74 [00:13<00:00,  5.61batch/s, Loss: 0.1260 | Precision: 95.42%]\u001B[0m\n"
     ]
    },
    {
     "name": "stdout",
     "output_type": "stream",
     "text": [
      "Epoch 57 | Avg Loss: 0.1290 | Avg Precision: 95.47% | Patience: 0\n"
     ]
    },
    {
     "name": "stderr",
     "output_type": "stream",
     "text": [
      "Train: 100%|\u001B[32m████████████████████████\u001B[0m| 295/295 [01:04<00:00,  4.58batch/s, Loss: 0.0001 | Precision: 98.05%]\u001B[0m\n"
     ]
    },
    {
     "name": "stdout",
     "output_type": "stream",
     "text": [
      "Epoch 58 | Avg Loss: 0.0530 | Avg Precision: 98.20%\n"
     ]
    },
    {
     "name": "stderr",
     "output_type": "stream",
     "text": [
      "Train: 100%|\u001B[32m████████████████████████\u001B[0m| 295/295 [01:04<00:00,  4.55batch/s, Loss: 0.0192 | Precision: 98.05%]\u001B[0m\n"
     ]
    },
    {
     "name": "stdout",
     "output_type": "stream",
     "text": [
      "Epoch 59 | Avg Loss: 0.0531 | Avg Precision: 98.06%\n"
     ]
    },
    {
     "name": "stderr",
     "output_type": "stream",
     "text": [
      "Train: 100%|\u001B[32m████████████████████████\u001B[0m| 295/295 [01:04<00:00,  4.58batch/s, Loss: 0.0000 | Precision: 98.11%]\u001B[0m\n"
     ]
    },
    {
     "name": "stdout",
     "output_type": "stream",
     "text": [
      "Epoch 60 | Avg Loss: 0.0516 | Avg Precision: 98.14%\n"
     ]
    },
    {
     "name": "stderr",
     "output_type": "stream",
     "text": [
      "Validate: 100%|\u001B[34m███████████████████████\u001B[0m| 74/74 [00:13<00:00,  5.59batch/s, Loss: 0.0994 | Precision: 95.25%]\u001B[0m\n"
     ]
    },
    {
     "name": "stdout",
     "output_type": "stream",
     "text": [
      "Epoch 00020: reducing learning rate of group 0 to 1.2914e-03.\n",
      "Epoch 60 | Avg Loss: 0.1319 | Avg Precision: 95.27% | Patience: 1\n"
     ]
    },
    {
     "name": "stderr",
     "output_type": "stream",
     "text": [
      "Train: 100%|\u001B[32m████████████████████████\u001B[0m| 295/295 [01:04<00:00,  4.57batch/s, Loss: 0.0001 | Precision: 98.31%]\u001B[0m\n"
     ]
    },
    {
     "name": "stdout",
     "output_type": "stream",
     "text": [
      "Epoch 61 | Avg Loss: 0.0477 | Avg Precision: 98.26%\n"
     ]
    },
    {
     "name": "stderr",
     "output_type": "stream",
     "text": [
      "Train: 100%|\u001B[32m████████████████████████\u001B[0m| 295/295 [01:04<00:00,  4.57batch/s, Loss: 0.0000 | Precision: 98.48%]\u001B[0m\n"
     ]
    },
    {
     "name": "stdout",
     "output_type": "stream",
     "text": [
      "Epoch 62 | Avg Loss: 0.0439 | Avg Precision: 98.47%\n"
     ]
    },
    {
     "name": "stderr",
     "output_type": "stream",
     "text": [
      "Train: 100%|\u001B[32m████████████████████████\u001B[0m| 295/295 [01:04<00:00,  4.57batch/s, Loss: 0.0004 | Precision: 98.48%]\u001B[0m\n"
     ]
    },
    {
     "name": "stdout",
     "output_type": "stream",
     "text": [
      "Epoch 63 | Avg Loss: 0.0436 | Avg Precision: 98.52%\n"
     ]
    },
    {
     "name": "stderr",
     "output_type": "stream",
     "text": [
      "Validate: 100%|\u001B[34m███████████████████████\u001B[0m| 74/74 [00:13<00:00,  5.54batch/s, Loss: 0.0889 | Precision: 95.56%]\u001B[0m\n"
     ]
    },
    {
     "name": "stdout",
     "output_type": "stream",
     "text": [
      "Epoch 63 | Avg Loss: 0.1277 | Avg Precision: 95.59% | Patience: 0\n"
     ]
    },
    {
     "name": "stderr",
     "output_type": "stream",
     "text": [
      "Train: 100%|\u001B[32m████████████████████████\u001B[0m| 295/295 [01:04<00:00,  4.56batch/s, Loss: 0.0034 | Precision: 98.56%]\u001B[0m\n"
     ]
    },
    {
     "name": "stdout",
     "output_type": "stream",
     "text": [
      "Epoch 64 | Avg Loss: 0.0420 | Avg Precision: 98.57%\n"
     ]
    },
    {
     "name": "stderr",
     "output_type": "stream",
     "text": [
      "Train: 100%|\u001B[32m████████████████████████\u001B[0m| 295/295 [01:04<00:00,  4.58batch/s, Loss: 0.0001 | Precision: 98.56%]\u001B[0m\n"
     ]
    },
    {
     "name": "stdout",
     "output_type": "stream",
     "text": [
      "Epoch 65 | Avg Loss: 0.0419 | Avg Precision: 98.54%\n"
     ]
    },
    {
     "name": "stderr",
     "output_type": "stream",
     "text": [
      "Train: 100%|\u001B[32m████████████████████████\u001B[0m| 295/295 [01:04<00:00,  4.59batch/s, Loss: 0.0001 | Precision: 98.59%]\u001B[0m\n"
     ]
    },
    {
     "name": "stdout",
     "output_type": "stream",
     "text": [
      "Epoch 66 | Avg Loss: 0.0413 | Avg Precision: 98.58%\n"
     ]
    },
    {
     "name": "stderr",
     "output_type": "stream",
     "text": [
      "Validate: 100%|\u001B[34m███████████████████████\u001B[0m| 74/74 [00:13<00:00,  5.54batch/s, Loss: 0.0717 | Precision: 95.69%]\u001B[0m\n"
     ]
    },
    {
     "name": "stdout",
     "output_type": "stream",
     "text": [
      "Epoch 66 | Avg Loss: 0.1314 | Avg Precision: 95.66% | Patience: 0\n"
     ]
    },
    {
     "name": "stderr",
     "output_type": "stream",
     "text": [
      "Train: 100%|\u001B[32m████████████████████████\u001B[0m| 295/295 [01:04<00:00,  4.57batch/s, Loss: 0.0001 | Precision: 98.67%]\u001B[0m\n"
     ]
    },
    {
     "name": "stdout",
     "output_type": "stream",
     "text": [
      "Epoch 67 | Avg Loss: 0.0393 | Avg Precision: 98.66%\n"
     ]
    },
    {
     "name": "stderr",
     "output_type": "stream",
     "text": [
      "Train: 100%|\u001B[32m████████████████████████\u001B[0m| 295/295 [01:04<00:00,  4.54batch/s, Loss: 0.0002 | Precision: 98.53%]\u001B[0m\n"
     ]
    },
    {
     "name": "stdout",
     "output_type": "stream",
     "text": [
      "Epoch 68 | Avg Loss: 0.0422 | Avg Precision: 98.60%\n"
     ]
    },
    {
     "name": "stderr",
     "output_type": "stream",
     "text": [
      "Train: 100%|\u001B[32m████████████████████████\u001B[0m| 295/295 [01:04<00:00,  4.60batch/s, Loss: 0.0001 | Precision: 98.40%]\u001B[0m\n"
     ]
    },
    {
     "name": "stdout",
     "output_type": "stream",
     "text": [
      "Epoch 69 | Avg Loss: 0.0451 | Avg Precision: 98.46%\n"
     ]
    },
    {
     "name": "stderr",
     "output_type": "stream",
     "text": [
      "Validate: 100%|\u001B[34m███████████████████████\u001B[0m| 74/74 [00:13<00:00,  5.59batch/s, Loss: 0.0939 | Precision: 95.49%]\u001B[0m\n"
     ]
    },
    {
     "name": "stdout",
     "output_type": "stream",
     "text": [
      "Epoch 00023: reducing learning rate of group 0 to 1.1623e-03.\n",
      "Epoch 69 | Avg Loss: 0.1344 | Avg Precision: 95.53% | Patience: 1\n"
     ]
    },
    {
     "name": "stderr",
     "output_type": "stream",
     "text": [
      "Train: 100%|\u001B[32m████████████████████████\u001B[0m| 295/295 [01:04<00:00,  4.59batch/s, Loss: 0.0002 | Precision: 98.48%]\u001B[0m\n"
     ]
    },
    {
     "name": "stdout",
     "output_type": "stream",
     "text": [
      "Epoch 70 | Avg Loss: 0.0431 | Avg Precision: 98.45%\n"
     ]
    },
    {
     "name": "stderr",
     "output_type": "stream",
     "text": [
      "Train: 100%|\u001B[32m████████████████████████\u001B[0m| 295/295 [01:04<00:00,  4.58batch/s, Loss: 0.0026 | Precision: 98.72%]\u001B[0m\n"
     ]
    },
    {
     "name": "stdout",
     "output_type": "stream",
     "text": [
      "Epoch 71 | Avg Loss: 0.0380 | Avg Precision: 98.67%\n"
     ]
    },
    {
     "name": "stderr",
     "output_type": "stream",
     "text": [
      "Train: 100%|\u001B[32m████████████████████████\u001B[0m| 295/295 [01:04<00:00,  4.54batch/s, Loss: 0.0001 | Precision: 98.86%]\u001B[0m\n"
     ]
    },
    {
     "name": "stdout",
     "output_type": "stream",
     "text": [
      "Epoch 72 | Avg Loss: 0.0352 | Avg Precision: 98.85%\n"
     ]
    },
    {
     "name": "stderr",
     "output_type": "stream",
     "text": [
      "Validate: 100%|\u001B[34m███████████████████████\u001B[0m| 74/74 [00:13<00:00,  5.53batch/s, Loss: 0.0772 | Precision: 95.78%]\u001B[0m\n"
     ]
    },
    {
     "name": "stdout",
     "output_type": "stream",
     "text": [
      "Epoch 72 | Avg Loss: 0.1288 | Avg Precision: 95.74% | Patience: 0\n"
     ]
    },
    {
     "name": "stderr",
     "output_type": "stream",
     "text": [
      "Train: 100%|\u001B[32m████████████████████████\u001B[0m| 295/295 [01:04<00:00,  4.56batch/s, Loss: 0.0002 | Precision: 98.84%]\u001B[0m\n"
     ]
    },
    {
     "name": "stdout",
     "output_type": "stream",
     "text": [
      "Epoch 73 | Avg Loss: 0.0348 | Avg Precision: 98.87%\n"
     ]
    },
    {
     "name": "stderr",
     "output_type": "stream",
     "text": [
      "Train: 100%|\u001B[32m████████████████████████\u001B[0m| 295/295 [01:04<00:00,  4.56batch/s, Loss: 0.0004 | Precision: 98.76%]\u001B[0m\n"
     ]
    },
    {
     "name": "stdout",
     "output_type": "stream",
     "text": [
      "Epoch 74 | Avg Loss: 0.0362 | Avg Precision: 98.81%\n"
     ]
    },
    {
     "name": "stderr",
     "output_type": "stream",
     "text": [
      "Train: 100%|\u001B[32m████████████████████████\u001B[0m| 295/295 [01:04<00:00,  4.55batch/s, Loss: 0.0001 | Precision: 98.75%]\u001B[0m\n"
     ]
    },
    {
     "name": "stdout",
     "output_type": "stream",
     "text": [
      "Epoch 75 | Avg Loss: 0.0373 | Avg Precision: 98.77%\n"
     ]
    },
    {
     "name": "stderr",
     "output_type": "stream",
     "text": [
      "Validate: 100%|\u001B[34m███████████████████████\u001B[0m| 74/74 [00:13<00:00,  5.55batch/s, Loss: 0.0896 | Precision: 95.81%]\u001B[0m\n"
     ]
    },
    {
     "name": "stdout",
     "output_type": "stream",
     "text": [
      "Epoch 75 | Avg Loss: 0.1303 | Avg Precision: 95.79% | Patience: 0\n"
     ]
    },
    {
     "name": "stderr",
     "output_type": "stream",
     "text": [
      "Train: 100%|\u001B[32m████████████████████████\u001B[0m| 295/295 [01:04<00:00,  4.57batch/s, Loss: 0.0000 | Precision: 98.69%]\u001B[0m\n"
     ]
    },
    {
     "name": "stdout",
     "output_type": "stream",
     "text": [
      "Epoch 76 | Avg Loss: 0.0388 | Avg Precision: 98.76%\n"
     ]
    },
    {
     "name": "stderr",
     "output_type": "stream",
     "text": [
      "Train: 100%|\u001B[32m████████████████████████\u001B[0m| 295/295 [01:04<00:00,  4.55batch/s, Loss: 0.0000 | Precision: 98.78%]\u001B[0m\n"
     ]
    },
    {
     "name": "stdout",
     "output_type": "stream",
     "text": [
      "Epoch 77 | Avg Loss: 0.0374 | Avg Precision: 98.79%\n"
     ]
    },
    {
     "name": "stderr",
     "output_type": "stream",
     "text": [
      "Train: 100%|\u001B[32m████████████████████████\u001B[0m| 295/295 [01:04<00:00,  4.55batch/s, Loss: 0.0000 | Precision: 98.80%]\u001B[0m\n"
     ]
    },
    {
     "name": "stdout",
     "output_type": "stream",
     "text": [
      "Epoch 78 | Avg Loss: 0.0359 | Avg Precision: 98.79%\n"
     ]
    },
    {
     "name": "stderr",
     "output_type": "stream",
     "text": [
      "Validate: 100%|\u001B[34m███████████████████████\u001B[0m| 74/74 [00:13<00:00,  5.50batch/s, Loss: 0.0819 | Precision: 95.81%]\u001B[0m\n"
     ]
    },
    {
     "name": "stdout",
     "output_type": "stream",
     "text": [
      "Epoch 00026: reducing learning rate of group 0 to 1.0460e-03.\n",
      "Epoch 78 | Avg Loss: 0.1315 | Avg Precision: 95.70% | Patience: 1\n"
     ]
    },
    {
     "name": "stderr",
     "output_type": "stream",
     "text": [
      "Train: 100%|\u001B[32m████████████████████████\u001B[0m| 295/295 [01:04<00:00,  4.54batch/s, Loss: 0.0000 | Precision: 98.90%]\u001B[0m\n"
     ]
    },
    {
     "name": "stdout",
     "output_type": "stream",
     "text": [
      "Epoch 79 | Avg Loss: 0.0337 | Avg Precision: 98.86%\n"
     ]
    },
    {
     "name": "stderr",
     "output_type": "stream",
     "text": [
      "Train: 100%|\u001B[32m████████████████████████\u001B[0m| 295/295 [01:04<00:00,  4.57batch/s, Loss: 0.0000 | Precision: 98.98%]\u001B[0m\n"
     ]
    },
    {
     "name": "stdout",
     "output_type": "stream",
     "text": [
      "Epoch 80 | Avg Loss: 0.0318 | Avg Precision: 98.97%\n"
     ]
    },
    {
     "name": "stderr",
     "output_type": "stream",
     "text": [
      "Train: 100%|\u001B[32m████████████████████████\u001B[0m| 295/295 [01:04<00:00,  4.58batch/s, Loss: 0.0000 | Precision: 99.05%]\u001B[0m\n"
     ]
    },
    {
     "name": "stdout",
     "output_type": "stream",
     "text": [
      "Epoch 81 | Avg Loss: 0.0308 | Avg Precision: 99.06%\n"
     ]
    },
    {
     "name": "stderr",
     "output_type": "stream",
     "text": [
      "Validate: 100%|\u001B[34m███████████████████████\u001B[0m| 74/74 [00:13<00:00,  5.47batch/s, Loss: 0.1133 | Precision: 96.07%]\u001B[0m\n"
     ]
    },
    {
     "name": "stdout",
     "output_type": "stream",
     "text": [
      "Epoch 81 | Avg Loss: 0.1325 | Avg Precision: 96.04% | Patience: 0\n"
     ]
    },
    {
     "name": "stderr",
     "output_type": "stream",
     "text": [
      "Train: 100%|\u001B[32m████████████████████████\u001B[0m| 295/295 [01:04<00:00,  4.56batch/s, Loss: 0.0000 | Precision: 99.06%]\u001B[0m\n"
     ]
    },
    {
     "name": "stdout",
     "output_type": "stream",
     "text": [
      "Epoch 82 | Avg Loss: 0.0306 | Avg Precision: 99.07%\n"
     ]
    },
    {
     "name": "stderr",
     "output_type": "stream",
     "text": [
      "Train: 100%|\u001B[32m████████████████████████\u001B[0m| 295/295 [01:04<00:00,  4.54batch/s, Loss: 0.0003 | Precision: 99.08%]\u001B[0m\n"
     ]
    },
    {
     "name": "stdout",
     "output_type": "stream",
     "text": [
      "Epoch 83 | Avg Loss: 0.0294 | Avg Precision: 99.11%\n"
     ]
    },
    {
     "name": "stderr",
     "output_type": "stream",
     "text": [
      "Train: 100%|\u001B[32m████████████████████████\u001B[0m| 295/295 [01:04<00:00,  4.56batch/s, Loss: 0.0000 | Precision: 99.07%]\u001B[0m\n"
     ]
    },
    {
     "name": "stdout",
     "output_type": "stream",
     "text": [
      "Epoch 84 | Avg Loss: 0.0298 | Avg Precision: 99.10%\n"
     ]
    },
    {
     "name": "stderr",
     "output_type": "stream",
     "text": [
      "Validate: 100%|\u001B[34m███████████████████████\u001B[0m| 74/74 [00:13<00:00,  5.60batch/s, Loss: 0.0863 | Precision: 96.14%]\u001B[0m\n"
     ]
    },
    {
     "name": "stdout",
     "output_type": "stream",
     "text": [
      "Epoch 84 | Avg Loss: 0.1339 | Avg Precision: 96.15% | Patience: 0\n"
     ]
    },
    {
     "name": "stderr",
     "output_type": "stream",
     "text": [
      "Train: 100%|\u001B[32m████████████████████████\u001B[0m| 295/295 [01:05<00:00,  4.52batch/s, Loss: 0.0003 | Precision: 98.93%]\u001B[0m\n"
     ]
    },
    {
     "name": "stdout",
     "output_type": "stream",
     "text": [
      "Epoch 85 | Avg Loss: 0.0327 | Avg Precision: 99.01%\n"
     ]
    },
    {
     "name": "stderr",
     "output_type": "stream",
     "text": [
      "Train: 100%|\u001B[32m████████████████████████\u001B[0m| 295/295 [01:04<00:00,  4.56batch/s, Loss: 0.0002 | Precision: 98.92%]\u001B[0m\n"
     ]
    },
    {
     "name": "stdout",
     "output_type": "stream",
     "text": [
      "Epoch 86 | Avg Loss: 0.0337 | Avg Precision: 98.93%\n"
     ]
    },
    {
     "name": "stderr",
     "output_type": "stream",
     "text": [
      "Train: 100%|\u001B[32m████████████████████████\u001B[0m| 295/295 [01:04<00:00,  4.57batch/s, Loss: 0.0000 | Precision: 99.00%]\u001B[0m\n"
     ]
    },
    {
     "name": "stdout",
     "output_type": "stream",
     "text": [
      "Epoch 87 | Avg Loss: 0.0317 | Avg Precision: 99.01%\n"
     ]
    },
    {
     "name": "stderr",
     "output_type": "stream",
     "text": [
      "Validate: 100%|\u001B[34m███████████████████████\u001B[0m| 74/74 [00:13<00:00,  5.53batch/s, Loss: 0.0911 | Precision: 96.01%]\u001B[0m\n"
     ]
    },
    {
     "name": "stdout",
     "output_type": "stream",
     "text": [
      "Epoch 00029: reducing learning rate of group 0 to 9.4143e-04.\n",
      "Epoch 87 | Avg Loss: 0.1360 | Avg Precision: 95.92% | Patience: 1\n"
     ]
    },
    {
     "name": "stderr",
     "output_type": "stream",
     "text": [
      "Train: 100%|\u001B[32m████████████████████████\u001B[0m| 295/295 [01:04<00:00,  4.59batch/s, Loss: 0.0000 | Precision: 99.12%]\u001B[0m\n"
     ]
    },
    {
     "name": "stdout",
     "output_type": "stream",
     "text": [
      "Epoch 88 | Avg Loss: 0.0289 | Avg Precision: 99.10%\n"
     ]
    },
    {
     "name": "stderr",
     "output_type": "stream",
     "text": [
      "Train: 100%|\u001B[32m████████████████████████\u001B[0m| 295/295 [01:04<00:00,  4.57batch/s, Loss: 0.0002 | Precision: 99.17%]\u001B[0m\n"
     ]
    },
    {
     "name": "stdout",
     "output_type": "stream",
     "text": [
      "Epoch 89 | Avg Loss: 0.0273 | Avg Precision: 99.14%\n"
     ]
    },
    {
     "name": "stderr",
     "output_type": "stream",
     "text": [
      "Train: 100%|\u001B[32m████████████████████████\u001B[0m| 295/295 [01:04<00:00,  4.57batch/s, Loss: 0.0000 | Precision: 99.22%]\u001B[0m\n"
     ]
    },
    {
     "name": "stdout",
     "output_type": "stream",
     "text": [
      "Epoch 90 | Avg Loss: 0.0256 | Avg Precision: 99.19%\n"
     ]
    },
    {
     "name": "stderr",
     "output_type": "stream",
     "text": [
      "Validate: 100%|\u001B[34m███████████████████████\u001B[0m| 74/74 [00:13<00:00,  5.50batch/s, Loss: 0.1407 | Precision: 96.36%]\u001B[0m\n"
     ]
    },
    {
     "name": "stdout",
     "output_type": "stream",
     "text": [
      "Epoch 90 | Avg Loss: 0.1310 | Avg Precision: 96.35% | Patience: 0\n"
     ]
    },
    {
     "name": "stderr",
     "output_type": "stream",
     "text": [
      "Train: 100%|\u001B[32m████████████████████████\u001B[0m| 295/295 [01:04<00:00,  4.56batch/s, Loss: 0.0000 | Precision: 99.31%]\u001B[0m\n"
     ]
    },
    {
     "name": "stdout",
     "output_type": "stream",
     "text": [
      "Epoch 91 | Avg Loss: 0.0237 | Avg Precision: 99.31%\n"
     ]
    },
    {
     "name": "stderr",
     "output_type": "stream",
     "text": [
      "Train: 100%|\u001B[32m████████████████████████\u001B[0m| 295/295 [01:04<00:00,  4.56batch/s, Loss: 0.0000 | Precision: 99.33%]\u001B[0m\n"
     ]
    },
    {
     "name": "stdout",
     "output_type": "stream",
     "text": [
      "Epoch 92 | Avg Loss: 0.0230 | Avg Precision: 99.32%\n"
     ]
    },
    {
     "name": "stderr",
     "output_type": "stream",
     "text": [
      "Train: 100%|\u001B[32m████████████████████████\u001B[0m| 295/295 [01:04<00:00,  4.55batch/s, Loss: 0.0000 | Precision: 99.33%]\u001B[0m\n"
     ]
    },
    {
     "name": "stdout",
     "output_type": "stream",
     "text": [
      "Epoch 93 | Avg Loss: 0.0232 | Avg Precision: 99.37%\n"
     ]
    },
    {
     "name": "stderr",
     "output_type": "stream",
     "text": [
      "Validate: 100%|\u001B[34m███████████████████████\u001B[0m| 74/74 [00:13<00:00,  5.51batch/s, Loss: 0.1085 | Precision: 96.38%]\u001B[0m\n"
     ]
    },
    {
     "name": "stdout",
     "output_type": "stream",
     "text": [
      "Epoch 00031: reducing learning rate of group 0 to 8.4729e-04.\n",
      "Epoch 93 | Avg Loss: 0.1318 | Avg Precision: 96.34% | Patience: 1\n"
     ]
    },
    {
     "name": "stderr",
     "output_type": "stream",
     "text": [
      "Train: 100%|\u001B[32m████████████████████████\u001B[0m| 295/295 [01:04<00:00,  4.60batch/s, Loss: 0.0000 | Precision: 99.36%]\u001B[0m\n"
     ]
    },
    {
     "name": "stdout",
     "output_type": "stream",
     "text": [
      "Epoch 94 | Avg Loss: 0.0224 | Avg Precision: 99.36%\n"
     ]
    },
    {
     "name": "stderr",
     "output_type": "stream",
     "text": [
      "Train: 100%|\u001B[32m████████████████████████\u001B[0m| 295/295 [01:04<00:00,  4.56batch/s, Loss: 0.0000 | Precision: 99.41%]\u001B[0m\n"
     ]
    },
    {
     "name": "stdout",
     "output_type": "stream",
     "text": [
      "Epoch 95 | Avg Loss: 0.0207 | Avg Precision: 99.42%\n"
     ]
    },
    {
     "name": "stderr",
     "output_type": "stream",
     "text": [
      "Train: 100%|\u001B[32m████████████████████████\u001B[0m| 295/295 [01:04<00:00,  4.55batch/s, Loss: 0.0000 | Precision: 99.46%]\u001B[0m\n"
     ]
    },
    {
     "name": "stdout",
     "output_type": "stream",
     "text": [
      "Epoch 96 | Avg Loss: 0.0198 | Avg Precision: 99.45%\n"
     ]
    },
    {
     "name": "stderr",
     "output_type": "stream",
     "text": [
      "Validate: 100%|\u001B[34m███████████████████████\u001B[0m| 74/74 [00:13<00:00,  5.56batch/s, Loss: 0.0934 | Precision: 96.44%]\u001B[0m\n"
     ]
    },
    {
     "name": "stdout",
     "output_type": "stream",
     "text": [
      "Epoch 96 | Avg Loss: 0.1355 | Avg Precision: 96.44% | Patience: 0\n"
     ]
    },
    {
     "name": "stderr",
     "output_type": "stream",
     "text": [
      "Train: 100%|\u001B[32m████████████████████████\u001B[0m| 295/295 [01:04<00:00,  4.58batch/s, Loss: 0.0000 | Precision: 99.46%]\u001B[0m\n"
     ]
    },
    {
     "name": "stdout",
     "output_type": "stream",
     "text": [
      "Epoch 97 | Avg Loss: 0.0193 | Avg Precision: 99.46%\n"
     ]
    },
    {
     "name": "stderr",
     "output_type": "stream",
     "text": [
      "Train: 100%|\u001B[32m████████████████████████\u001B[0m| 295/295 [01:04<00:00,  4.55batch/s, Loss: 0.0000 | Precision: 99.48%]\u001B[0m\n"
     ]
    },
    {
     "name": "stdout",
     "output_type": "stream",
     "text": [
      "Epoch 98 | Avg Loss: 0.0186 | Avg Precision: 99.47%\n"
     ]
    },
    {
     "name": "stderr",
     "output_type": "stream",
     "text": [
      "Train: 100%|\u001B[32m████████████████████████\u001B[0m| 295/295 [01:04<00:00,  4.55batch/s, Loss: 0.0000 | Precision: 99.48%]\u001B[0m\n"
     ]
    },
    {
     "name": "stdout",
     "output_type": "stream",
     "text": [
      "Epoch 99 | Avg Loss: 0.0187 | Avg Precision: 99.50%\n"
     ]
    },
    {
     "name": "stderr",
     "output_type": "stream",
     "text": [
      "Validate: 100%|\u001B[34m███████████████████████\u001B[0m| 74/74 [00:13<00:00,  5.50batch/s, Loss: 0.0942 | Precision: 96.55%]\u001B[0m\n"
     ]
    },
    {
     "name": "stdout",
     "output_type": "stream",
     "text": [
      "Epoch 99 | Avg Loss: 0.1369 | Avg Precision: 96.53% | Patience: 0\n"
     ]
    },
    {
     "name": "stderr",
     "output_type": "stream",
     "text": [
      "Train: 100%|\u001B[32m████████████████████████\u001B[0m| 295/295 [01:05<00:00,  4.53batch/s, Loss: 0.0000 | Precision: 99.49%]\u001B[0m"
     ]
    },
    {
     "name": "stdout",
     "output_type": "stream",
     "text": [
      "Epoch 100 | Avg Loss: 0.0184 | Avg Precision: 99.44%\n",
      "Training Complete - Best Precision: 96.53%\n"
     ]
    },
    {
     "name": "stderr",
     "output_type": "stream",
     "text": [
      "\n"
     ]
    }
   ],
   "source": [
    "model = Gru(8, 500, 1, 4)\n",
    "model = model.to(device)\n",
    "criterion = nn.CrossEntropyLoss()\n",
    "optimizer = optim.Adam(model.parameters(), lr=.003)\n",
    "scheduler = ReduceLROnPlateau(optimizer, 'max', factor=.9, patience=0, min_lr=.0001, verbose=True)\n",
    "\n",
    "model3 = train_validate(model, criterion, optimizer, scheduler)\n",
    "torch.save(model3.state_dict(), '.\\\\models\\\\downsample\\\\gru\\\\model3.pth')"
   ]
  },
  {
   "cell_type": "markdown",
   "id": "beec020b-8f24-4d5e-a8cb-cbdfb6096cd2",
   "metadata": {
    "jp-MarkdownHeadingCollapsed": true
   },
   "source": [
    "## Predict | Submit"
   ]
  },
  {
   "cell_type": "code",
   "execution_count": null,
   "id": "10174d7c-4b2b-4586-a2c6-179027201bde",
   "metadata": {},
   "outputs": [],
   "source": [
    "ypreds = predict(model1, test_loader)\n",
    "test_df['Prediction'] = ypreds"
   ]
  },
  {
   "cell_type": "code",
   "execution_count": null,
   "id": "476e4ff1-1199-42c4-91fe-b4e6e5e384a5",
   "metadata": {},
   "outputs": [],
   "source": [
    "sub = pd.DataFrame()\n",
    "temp = test_df.copy()\n",
    "temp[\"Id\"] = temp.apply(lambda x : str(x.Id) + \"_\" + str(x.Time), axis = 1)\n",
    "temp['StartHesitation'] = np.where(temp['Prediction'] == 1, 1, 0)\n",
    "temp['Turn'] = np.where(temp['Prediction'] == 2, 1, 0)\n",
    "temp['Walking'] = np.where(temp['Prediction'] == 3, 1, 0)\n",
    "temp = temp[['Id', 'StartHesitation', 'Turn', 'Walking']]\n",
    "sub = pd.concat([sub, temp])"
   ]
  }
 ],
 "metadata": {
  "kernelspec": {
   "display_name": "Python 3 (ipykernel)",
   "language": "python",
   "name": "python3"
  },
  "language_info": {
   "codemirror_mode": {
    "name": "ipython",
    "version": 3
   },
   "file_extension": ".py",
   "mimetype": "text/x-python",
   "name": "python",
   "nbconvert_exporter": "python",
   "pygments_lexer": "ipython3",
   "version": "3.11.3"
  }
 },
 "nbformat": 4,
 "nbformat_minor": 5
}
