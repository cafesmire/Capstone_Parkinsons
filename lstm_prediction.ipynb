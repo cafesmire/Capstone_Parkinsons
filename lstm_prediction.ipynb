{
 "cells": [
  {
   "cell_type": "markdown",
   "id": "399206d3-d7fe-4a4a-94a5-4f54b18f2b91",
   "metadata": {},
   "source": [
    "### Imports"
   ]
  },
  {
   "cell_type": "code",
   "execution_count": 1,
   "id": "f9cc5760-1eae-4d22-93c0-e2a6ff80b78e",
   "metadata": {},
   "outputs": [
    {
     "name": "stderr",
     "output_type": "stream",
     "text": [
      "C:\\Users\\cafes\\Envs\\torch-dml\\lib\\site-packages\\tqdm\\auto.py:21: TqdmWarning: IProgress not found. Please update jupyter and ipywidgets. See https://ipywidgets.readthedocs.io/en/stable/user_install.html\n",
      "  from .autonotebook import tqdm as notebook_tqdm\n"
     ]
    }
   ],
   "source": [
    "import torch\n",
    "import torch.nn as nn\n",
    "import torch_directml\n",
    "import torchmetrics\n",
    "import torch.optim as optim\n",
    "import torchmetrics.functional as F\n",
    "import pandas as pd\n",
    "import numpy as np\n",
    "import matplotlib.pyplot as plt\n",
    "import random\n",
    "import os\n",
    "from tqdm import tqdm\n",
    "from torch.utils.data import Dataset, DataLoader\n",
    "from torch.utils.tensorboard import SummaryWriter\n",
    "from torch.optim.lr_scheduler import ReduceLROnPlateau\n",
    "import warnings\n",
    "warnings.filterwarnings('ignore')\n",
    "#AMD GPU Acceleration\n",
    "device = torch_directml.device(torch_directml.default_device())"
   ]
  },
  {
   "cell_type": "code",
   "execution_count": 2,
   "id": "4e5d28d3-f0ec-4f54-b889-fe0077018848",
   "metadata": {},
   "outputs": [],
   "source": [
    "def set_seed(seed=42):\n",
    "    random.seed(seed)\n",
    "    np.random.seed(seed)\n",
    "    os.environ[\"PYTHONHASHSEED\"] = str(seed)\n",
    "    torch.manual_seed(seed)\n",
    "    torch.cuda.manual_seed(seed)\n",
    "    torch.backends.cudnn.deterministic = True\n",
    "    torch.backends.cudnn.benchmark = False"
   ]
  },
  {
   "cell_type": "code",
   "execution_count": 3,
   "id": "499a24b7-6559-4893-8980-9ec918244e8e",
   "metadata": {},
   "outputs": [],
   "source": [
    "set_seed()"
   ]
  },
  {
   "cell_type": "code",
   "execution_count": 4,
   "id": "3e26954f-07b1-47c1-8f9f-9844af102a6b",
   "metadata": {},
   "outputs": [],
   "source": [
    "train_writer = SummaryWriter('.\\\\runs\\\\train\\\\lstm\\\\')\n",
    "val_writer = SummaryWriter('.\\\\runs\\\\validate\\\\lstm\\\\')"
   ]
  },
  {
   "cell_type": "markdown",
   "id": "1d039c6f-7a9c-4620-873e-fd721d9dd784",
   "metadata": {},
   "source": [
    "#### Read in train/test"
   ]
  },
  {
   "cell_type": "code",
   "execution_count": 5,
   "id": "e07a2f09-f2fd-419f-ba79-fe138707a347",
   "metadata": {},
   "outputs": [
    {
     "data": {
      "text/html": [
       "<div>\n",
       "<style scoped>\n",
       "    .dataframe tbody tr th:only-of-type {\n",
       "        vertical-align: middle;\n",
       "    }\n",
       "\n",
       "    .dataframe tbody tr th {\n",
       "        vertical-align: top;\n",
       "    }\n",
       "\n",
       "    .dataframe thead th {\n",
       "        text-align: right;\n",
       "    }\n",
       "</style>\n",
       "<table border=\"1\" class=\"dataframe\">\n",
       "  <thead>\n",
       "    <tr style=\"text-align: right;\">\n",
       "      <th></th>\n",
       "      <th>AccV</th>\n",
       "      <th>AccML</th>\n",
       "      <th>AccAP</th>\n",
       "      <th>Visit</th>\n",
       "      <th>Test</th>\n",
       "      <th>Medication</th>\n",
       "      <th>Age</th>\n",
       "      <th>Sex</th>\n",
       "      <th>YearsSinceDx</th>\n",
       "      <th>Event</th>\n",
       "    </tr>\n",
       "    <tr>\n",
       "      <th>Time</th>\n",
       "      <th></th>\n",
       "      <th></th>\n",
       "      <th></th>\n",
       "      <th></th>\n",
       "      <th></th>\n",
       "      <th></th>\n",
       "      <th></th>\n",
       "      <th></th>\n",
       "      <th></th>\n",
       "      <th></th>\n",
       "    </tr>\n",
       "  </thead>\n",
       "  <tbody>\n",
       "    <tr>\n",
       "      <th>0</th>\n",
       "      <td>-0.418681</td>\n",
       "      <td>0.680295</td>\n",
       "      <td>-0.585967</td>\n",
       "      <td>-0.346080</td>\n",
       "      <td>0.570266</td>\n",
       "      <td>0.866530</td>\n",
       "      <td>-0.110647</td>\n",
       "      <td>-1.719166</td>\n",
       "      <td>-0.182777</td>\n",
       "      <td>0</td>\n",
       "    </tr>\n",
       "    <tr>\n",
       "      <th>1</th>\n",
       "      <td>-0.422574</td>\n",
       "      <td>0.678581</td>\n",
       "      <td>-0.579106</td>\n",
       "      <td>-0.346080</td>\n",
       "      <td>0.570266</td>\n",
       "      <td>0.866530</td>\n",
       "      <td>-0.110647</td>\n",
       "      <td>-1.719166</td>\n",
       "      <td>-0.182777</td>\n",
       "      <td>0</td>\n",
       "    </tr>\n",
       "    <tr>\n",
       "      <th>2</th>\n",
       "      <td>-0.421645</td>\n",
       "      <td>0.676684</td>\n",
       "      <td>-0.580472</td>\n",
       "      <td>-0.346080</td>\n",
       "      <td>0.570266</td>\n",
       "      <td>0.866530</td>\n",
       "      <td>-0.110647</td>\n",
       "      <td>-1.719166</td>\n",
       "      <td>-0.182777</td>\n",
       "      <td>0</td>\n",
       "    </tr>\n",
       "    <tr>\n",
       "      <th>3</th>\n",
       "      <td>-0.415656</td>\n",
       "      <td>0.674504</td>\n",
       "      <td>-0.594582</td>\n",
       "      <td>-0.346080</td>\n",
       "      <td>0.570266</td>\n",
       "      <td>0.866530</td>\n",
       "      <td>-0.110647</td>\n",
       "      <td>-1.719166</td>\n",
       "      <td>-0.182777</td>\n",
       "      <td>0</td>\n",
       "    </tr>\n",
       "    <tr>\n",
       "      <th>4</th>\n",
       "      <td>-0.405355</td>\n",
       "      <td>0.675046</td>\n",
       "      <td>-0.607290</td>\n",
       "      <td>-0.346080</td>\n",
       "      <td>0.570266</td>\n",
       "      <td>0.866530</td>\n",
       "      <td>-0.110647</td>\n",
       "      <td>-1.719166</td>\n",
       "      <td>-0.182777</td>\n",
       "      <td>0</td>\n",
       "    </tr>\n",
       "    <tr>\n",
       "      <th>...</th>\n",
       "      <td>...</td>\n",
       "      <td>...</td>\n",
       "      <td>...</td>\n",
       "      <td>...</td>\n",
       "      <td>...</td>\n",
       "      <td>...</td>\n",
       "      <td>...</td>\n",
       "      <td>...</td>\n",
       "      <td>...</td>\n",
       "      <td>...</td>\n",
       "    </tr>\n",
       "    <tr>\n",
       "      <th>136</th>\n",
       "      <td>-0.231824</td>\n",
       "      <td>0.202913</td>\n",
       "      <td>-1.195431</td>\n",
       "      <td>2.438148</td>\n",
       "      <td>-0.258162</td>\n",
       "      <td>-1.154029</td>\n",
       "      <td>-0.487734</td>\n",
       "      <td>0.581678</td>\n",
       "      <td>1.891825</td>\n",
       "      <td>0</td>\n",
       "    </tr>\n",
       "    <tr>\n",
       "      <th>137</th>\n",
       "      <td>-0.221527</td>\n",
       "      <td>0.198547</td>\n",
       "      <td>-1.207005</td>\n",
       "      <td>2.438148</td>\n",
       "      <td>-0.258162</td>\n",
       "      <td>-1.154029</td>\n",
       "      <td>-0.487734</td>\n",
       "      <td>0.581678</td>\n",
       "      <td>1.891825</td>\n",
       "      <td>0</td>\n",
       "    </tr>\n",
       "    <tr>\n",
       "      <th>138</th>\n",
       "      <td>-0.212499</td>\n",
       "      <td>0.204094</td>\n",
       "      <td>-1.211609</td>\n",
       "      <td>2.438148</td>\n",
       "      <td>-0.258162</td>\n",
       "      <td>-1.154029</td>\n",
       "      <td>-0.487734</td>\n",
       "      <td>0.581678</td>\n",
       "      <td>1.891825</td>\n",
       "      <td>0</td>\n",
       "    </tr>\n",
       "    <tr>\n",
       "      <th>139</th>\n",
       "      <td>-0.211586</td>\n",
       "      <td>0.204245</td>\n",
       "      <td>-1.210641</td>\n",
       "      <td>2.438148</td>\n",
       "      <td>-0.258162</td>\n",
       "      <td>-1.154029</td>\n",
       "      <td>-0.487734</td>\n",
       "      <td>0.581678</td>\n",
       "      <td>1.891825</td>\n",
       "      <td>0</td>\n",
       "    </tr>\n",
       "    <tr>\n",
       "      <th>140</th>\n",
       "      <td>-0.216302</td>\n",
       "      <td>0.212020</td>\n",
       "      <td>-1.207530</td>\n",
       "      <td>2.438148</td>\n",
       "      <td>-0.258162</td>\n",
       "      <td>-1.154029</td>\n",
       "      <td>-0.487734</td>\n",
       "      <td>0.581678</td>\n",
       "      <td>1.891825</td>\n",
       "      <td>0</td>\n",
       "    </tr>\n",
       "  </tbody>\n",
       "</table>\n",
       "<p>376345 rows × 10 columns</p>\n",
       "</div>"
      ],
      "text/plain": [
       "          AccV     AccML     AccAP     Visit      Test  Medication       Age  \\\n",
       "Time                                                                           \n",
       "0    -0.418681  0.680295 -0.585967 -0.346080  0.570266    0.866530 -0.110647   \n",
       "1    -0.422574  0.678581 -0.579106 -0.346080  0.570266    0.866530 -0.110647   \n",
       "2    -0.421645  0.676684 -0.580472 -0.346080  0.570266    0.866530 -0.110647   \n",
       "3    -0.415656  0.674504 -0.594582 -0.346080  0.570266    0.866530 -0.110647   \n",
       "4    -0.405355  0.675046 -0.607290 -0.346080  0.570266    0.866530 -0.110647   \n",
       "...        ...       ...       ...       ...       ...         ...       ...   \n",
       "136  -0.231824  0.202913 -1.195431  2.438148 -0.258162   -1.154029 -0.487734   \n",
       "137  -0.221527  0.198547 -1.207005  2.438148 -0.258162   -1.154029 -0.487734   \n",
       "138  -0.212499  0.204094 -1.211609  2.438148 -0.258162   -1.154029 -0.487734   \n",
       "139  -0.211586  0.204245 -1.210641  2.438148 -0.258162   -1.154029 -0.487734   \n",
       "140  -0.216302  0.212020 -1.207530  2.438148 -0.258162   -1.154029 -0.487734   \n",
       "\n",
       "           Sex  YearsSinceDx  Event  \n",
       "Time                                 \n",
       "0    -1.719166     -0.182777      0  \n",
       "1    -1.719166     -0.182777      0  \n",
       "2    -1.719166     -0.182777      0  \n",
       "3    -1.719166     -0.182777      0  \n",
       "4    -1.719166     -0.182777      0  \n",
       "...        ...           ...    ...  \n",
       "136   0.581678      1.891825      0  \n",
       "137   0.581678      1.891825      0  \n",
       "138   0.581678      1.891825      0  \n",
       "139   0.581678      1.891825      0  \n",
       "140   0.581678      1.891825      0  \n",
       "\n",
       "[376345 rows x 10 columns]"
      ]
     },
     "execution_count": 5,
     "metadata": {},
     "output_type": "execute_result"
    }
   ],
   "source": [
    "train_df = pd.read_csv('train.csv', index_col='Time')\n",
    "test_df = pd.read_csv('test.csv', index_col='Time')\n",
    "train_df"
   ]
  },
  {
   "cell_type": "code",
   "execution_count": 6,
   "id": "37170637-123d-41cb-be3f-bcc48655afe6",
   "metadata": {},
   "outputs": [
    {
     "data": {
      "text/html": [
       "<div>\n",
       "<style scoped>\n",
       "    .dataframe tbody tr th:only-of-type {\n",
       "        vertical-align: middle;\n",
       "    }\n",
       "\n",
       "    .dataframe tbody tr th {\n",
       "        vertical-align: top;\n",
       "    }\n",
       "\n",
       "    .dataframe thead th {\n",
       "        text-align: right;\n",
       "    }\n",
       "</style>\n",
       "<table border=\"1\" class=\"dataframe\">\n",
       "  <thead>\n",
       "    <tr style=\"text-align: right;\">\n",
       "      <th></th>\n",
       "      <th>AccV</th>\n",
       "      <th>AccML</th>\n",
       "      <th>AccAP</th>\n",
       "      <th>Id</th>\n",
       "      <th>Visit</th>\n",
       "      <th>Test</th>\n",
       "      <th>Medication</th>\n",
       "      <th>Age</th>\n",
       "      <th>Sex</th>\n",
       "      <th>YearsSinceDx</th>\n",
       "    </tr>\n",
       "    <tr>\n",
       "      <th>Time</th>\n",
       "      <th></th>\n",
       "      <th></th>\n",
       "      <th></th>\n",
       "      <th></th>\n",
       "      <th></th>\n",
       "      <th></th>\n",
       "      <th></th>\n",
       "      <th></th>\n",
       "      <th></th>\n",
       "      <th></th>\n",
       "    </tr>\n",
       "  </thead>\n",
       "  <tbody>\n",
       "    <tr>\n",
       "      <th>0</th>\n",
       "      <td>-0.420678</td>\n",
       "      <td>0.690095</td>\n",
       "      <td>-0.584365</td>\n",
       "      <td>003f117e14</td>\n",
       "      <td>-0.346080</td>\n",
       "      <td>0.570266</td>\n",
       "      <td>0.86653</td>\n",
       "      <td>-0.110647</td>\n",
       "      <td>-1.719166</td>\n",
       "      <td>-0.182777</td>\n",
       "    </tr>\n",
       "    <tr>\n",
       "      <th>1</th>\n",
       "      <td>-0.424043</td>\n",
       "      <td>0.687950</td>\n",
       "      <td>-0.593557</td>\n",
       "      <td>003f117e14</td>\n",
       "      <td>-0.346080</td>\n",
       "      <td>0.570266</td>\n",
       "      <td>0.86653</td>\n",
       "      <td>-0.110647</td>\n",
       "      <td>-1.719166</td>\n",
       "      <td>-0.182777</td>\n",
       "    </tr>\n",
       "    <tr>\n",
       "      <th>2</th>\n",
       "      <td>-0.413655</td>\n",
       "      <td>0.685621</td>\n",
       "      <td>-0.589727</td>\n",
       "      <td>003f117e14</td>\n",
       "      <td>-0.346080</td>\n",
       "      <td>0.570266</td>\n",
       "      <td>0.86653</td>\n",
       "      <td>-0.110647</td>\n",
       "      <td>-1.719166</td>\n",
       "      <td>-0.182777</td>\n",
       "    </tr>\n",
       "    <tr>\n",
       "      <th>3</th>\n",
       "      <td>-0.416550</td>\n",
       "      <td>0.688039</td>\n",
       "      <td>-0.585032</td>\n",
       "      <td>003f117e14</td>\n",
       "      <td>-0.346080</td>\n",
       "      <td>0.570266</td>\n",
       "      <td>0.86653</td>\n",
       "      <td>-0.110647</td>\n",
       "      <td>-1.719166</td>\n",
       "      <td>-0.182777</td>\n",
       "    </tr>\n",
       "    <tr>\n",
       "      <th>4</th>\n",
       "      <td>-0.431204</td>\n",
       "      <td>0.685708</td>\n",
       "      <td>-0.589775</td>\n",
       "      <td>003f117e14</td>\n",
       "      <td>-0.346080</td>\n",
       "      <td>0.570266</td>\n",
       "      <td>0.86653</td>\n",
       "      <td>-0.110647</td>\n",
       "      <td>-1.719166</td>\n",
       "      <td>-0.182777</td>\n",
       "    </tr>\n",
       "    <tr>\n",
       "      <th>...</th>\n",
       "      <td>...</td>\n",
       "      <td>...</td>\n",
       "      <td>...</td>\n",
       "      <td>...</td>\n",
       "      <td>...</td>\n",
       "      <td>...</td>\n",
       "      <td>...</td>\n",
       "      <td>...</td>\n",
       "      <td>...</td>\n",
       "      <td>...</td>\n",
       "    </tr>\n",
       "    <tr>\n",
       "      <th>281683</th>\n",
       "      <td>0.672098</td>\n",
       "      <td>-2.105837</td>\n",
       "      <td>1.189812</td>\n",
       "      <td>02ab235146</td>\n",
       "      <td>-0.509858</td>\n",
       "      <td>-1.086590</td>\n",
       "      <td>0.86653</td>\n",
       "      <td>1.272005</td>\n",
       "      <td>-1.719166</td>\n",
       "      <td>-0.342362</td>\n",
       "    </tr>\n",
       "    <tr>\n",
       "      <th>281684</th>\n",
       "      <td>0.632010</td>\n",
       "      <td>-2.109519</td>\n",
       "      <td>1.193029</td>\n",
       "      <td>02ab235146</td>\n",
       "      <td>-0.509858</td>\n",
       "      <td>-1.086590</td>\n",
       "      <td>0.86653</td>\n",
       "      <td>1.272005</td>\n",
       "      <td>-1.719166</td>\n",
       "      <td>-0.342362</td>\n",
       "    </tr>\n",
       "    <tr>\n",
       "      <th>281685</th>\n",
       "      <td>0.636255</td>\n",
       "      <td>-2.098329</td>\n",
       "      <td>1.198957</td>\n",
       "      <td>02ab235146</td>\n",
       "      <td>-0.509858</td>\n",
       "      <td>-1.086590</td>\n",
       "      <td>0.86653</td>\n",
       "      <td>1.272005</td>\n",
       "      <td>-1.719166</td>\n",
       "      <td>-0.342362</td>\n",
       "    </tr>\n",
       "    <tr>\n",
       "      <th>281686</th>\n",
       "      <td>0.667941</td>\n",
       "      <td>-2.103537</td>\n",
       "      <td>1.196329</td>\n",
       "      <td>02ab235146</td>\n",
       "      <td>-0.509858</td>\n",
       "      <td>-1.086590</td>\n",
       "      <td>0.86653</td>\n",
       "      <td>1.272005</td>\n",
       "      <td>-1.719166</td>\n",
       "      <td>-0.342362</td>\n",
       "    </tr>\n",
       "    <tr>\n",
       "      <th>281687</th>\n",
       "      <td>0.657251</td>\n",
       "      <td>-2.102898</td>\n",
       "      <td>1.195097</td>\n",
       "      <td>02ab235146</td>\n",
       "      <td>-0.509858</td>\n",
       "      <td>-1.086590</td>\n",
       "      <td>0.86653</td>\n",
       "      <td>1.272005</td>\n",
       "      <td>-1.719166</td>\n",
       "      <td>-0.342362</td>\n",
       "    </tr>\n",
       "  </tbody>\n",
       "</table>\n",
       "<p>286370 rows × 10 columns</p>\n",
       "</div>"
      ],
      "text/plain": [
       "            AccV     AccML     AccAP          Id     Visit      Test  \\\n",
       "Time                                                                   \n",
       "0      -0.420678  0.690095 -0.584365  003f117e14 -0.346080  0.570266   \n",
       "1      -0.424043  0.687950 -0.593557  003f117e14 -0.346080  0.570266   \n",
       "2      -0.413655  0.685621 -0.589727  003f117e14 -0.346080  0.570266   \n",
       "3      -0.416550  0.688039 -0.585032  003f117e14 -0.346080  0.570266   \n",
       "4      -0.431204  0.685708 -0.589775  003f117e14 -0.346080  0.570266   \n",
       "...          ...       ...       ...         ...       ...       ...   \n",
       "281683  0.672098 -2.105837  1.189812  02ab235146 -0.509858 -1.086590   \n",
       "281684  0.632010 -2.109519  1.193029  02ab235146 -0.509858 -1.086590   \n",
       "281685  0.636255 -2.098329  1.198957  02ab235146 -0.509858 -1.086590   \n",
       "281686  0.667941 -2.103537  1.196329  02ab235146 -0.509858 -1.086590   \n",
       "281687  0.657251 -2.102898  1.195097  02ab235146 -0.509858 -1.086590   \n",
       "\n",
       "        Medication       Age       Sex  YearsSinceDx  \n",
       "Time                                                  \n",
       "0          0.86653 -0.110647 -1.719166     -0.182777  \n",
       "1          0.86653 -0.110647 -1.719166     -0.182777  \n",
       "2          0.86653 -0.110647 -1.719166     -0.182777  \n",
       "3          0.86653 -0.110647 -1.719166     -0.182777  \n",
       "4          0.86653 -0.110647 -1.719166     -0.182777  \n",
       "...            ...       ...       ...           ...  \n",
       "281683     0.86653  1.272005 -1.719166     -0.342362  \n",
       "281684     0.86653  1.272005 -1.719166     -0.342362  \n",
       "281685     0.86653  1.272005 -1.719166     -0.342362  \n",
       "281686     0.86653  1.272005 -1.719166     -0.342362  \n",
       "281687     0.86653  1.272005 -1.719166     -0.342362  \n",
       "\n",
       "[286370 rows x 10 columns]"
      ]
     },
     "execution_count": 6,
     "metadata": {},
     "output_type": "execute_result"
    }
   ],
   "source": [
    "test_df"
   ]
  },
  {
   "cell_type": "markdown",
   "id": "eb3e6596-d1af-45c5-a8cc-8633521d5df6",
   "metadata": {},
   "source": [
    "### Dataset & DataLoader"
   ]
  },
  {
   "cell_type": "code",
   "execution_count": 7,
   "id": "d2774073-5329-40d4-b2e6-758ce684da8e",
   "metadata": {},
   "outputs": [],
   "source": [
    "class ParkinsonDataset(Dataset):\n",
    "    def __init__(self, df, lookback=15, goal='train'):\n",
    "        super().__init__()\n",
    "        self.data = df.to_numpy()\n",
    "        self.lookback = lookback\n",
    "        self.goal = goal\n",
    "\n",
    "    # Return length of sample\n",
    "    def __len__(self):\n",
    "        return self.data.shape[0]\n",
    "\n",
    "    # Get data at idx\n",
    "    def __getitem__(self, idx):\n",
    "        if self.goal == 'train':\n",
    "            if idx < self.lookback:\n",
    "                #If the index is less than lookback, pad with zeros\n",
    "                features = torch.zeros(self.lookback, self.data.shape[1]-1, dtype=torch.float32)\n",
    "                features[idx] = torch.tensor(self.data[idx, :-1], dtype=torch.float32)\n",
    "                label = torch.tensor(self.data[idx, -1], dtype=torch.float32)\n",
    "            else:\n",
    "                #Otherwise, take the last lookback samples\n",
    "                features = torch.tensor(self.data[idx - self.lookback:idx, :-1], dtype=torch.float32)\n",
    "                label = torch.tensor(self.data[idx, -1], dtype=torch.float32)\n",
    "\n",
    "            features = features.to(device)\n",
    "            label = label.to(device)\n",
    "            return features, label\n",
    "\n",
    "        else:\n",
    "            if idx < self.lookback:\n",
    "                #If the index is less than lookback, pad with zeros\n",
    "                features = torch.zeros(self.lookback, self.data.shape[1], dtype=torch.float32)\n",
    "                features[idx] = torch.tensor(self.data[idx, :], dtype=torch.float32)\n",
    "            else:\n",
    "                #Otherwise, take the last lookback samples\n",
    "                features = torch.tensor(self.data[idx - self.lookback:idx, :], dtype=torch.float32)\n",
    "\n",
    "            features = features.to(device)\n",
    "            return features"
   ]
  },
  {
   "cell_type": "code",
   "execution_count": 8,
   "id": "8016f35d-7614-4351-8b9d-0f5639445838",
   "metadata": {},
   "outputs": [],
   "source": [
    "def train_val_split(df):\n",
    "    #Split the training dataset into training/validation sets\n",
    "    #80% Training - 20% Validation\n",
    "    train_size = int(.8 * len(df))\n",
    "    val_size = len(df)-train_size\n",
    "    train_data, val_data = torch.utils.data.random_split(df, [train_size, val_size])\n",
    "\n",
    "    #Instantiate DataLoaders\n",
    "    train_loader = DataLoader(train_data,\n",
    "                              batch_size=1024,\n",
    "                              shuffle=False)\n",
    "\n",
    "    val_loader = DataLoader(val_data,\n",
    "                            batch_size=1024,\n",
    "                            shuffle=False)\n",
    "    \n",
    "    return train_loader, val_loader"
   ]
  },
  {
   "cell_type": "code",
   "execution_count": 10,
   "id": "a176116c-57ab-4455-8680-3f610634d03a",
   "metadata": {},
   "outputs": [],
   "source": [
    "train = ParkinsonDataset(train_df, goal='train')\n",
    "train_loader, val_loader = train_val_split(train)"
   ]
  },
  {
   "cell_type": "code",
   "execution_count": 11,
   "id": "5944e02f-a34c-4957-b3ed-ad3a15107d38",
   "metadata": {},
   "outputs": [],
   "source": [
    "test = test_df.drop(columns='Id')\n",
    "test = ParkinsonDataset(test, goal='test')\n",
    "test_loader = DataLoader(test, \n",
    "                         batch_size=1024, \n",
    "                         shuffle=False)"
   ]
  },
  {
   "cell_type": "code",
   "execution_count": 12,
   "id": "55fda825-70d7-4bf8-9302-da2747bc6c13",
   "metadata": {},
   "outputs": [],
   "source": [
    "#accuracy metric\n",
    "metric = torchmetrics.AveragePrecision(task='multiclass', num_classes=4, average='weighted', thresholds=4).to(device)"
   ]
  },
  {
   "cell_type": "markdown",
   "id": "79adfde5-04a2-419f-b15c-fd7b5db53430",
   "metadata": {},
   "source": [
    "### Overfitting Function"
   ]
  },
  {
   "cell_type": "code",
   "execution_count": 13,
   "id": "c9281306-c95c-4be6-ad40-7c1600e69344",
   "metadata": {},
   "outputs": [],
   "source": [
    "#Function to determine whether the model is training appropriately\n",
    "def overfit_batch(model, criterion, optimizer, batch, epochs=100):\n",
    "    model = model.to(device)\n",
    "    \n",
    "    for epoch in range(epochs):\n",
    "        metric.reset()\n",
    "        loss_total = 0.0\n",
    "        precision_total = 0.0\n",
    "        for _ in range(len(batch)):\n",
    "            features, label = batch\n",
    "            features = features.to(device)\n",
    "            label = label.to(device)\n",
    "            \n",
    "            optimizer.zero_grad()\n",
    "            logits = model(features)\n",
    "            loss = criterion(logits, label.long())\n",
    "            ypred = torch.softmax(logits, dim=1)\n",
    "            metric(ypred, label.long())\n",
    "            precision=metric.compute()\n",
    "            \n",
    "            loss.backward()\n",
    "            optimizer.step()\n",
    "\n",
    "            loss_total += loss.item()\n",
    "            precision_total += precision.item()\n",
    "\n",
    "        avg_loss = loss_total / len(batch)\n",
    "        avg_precision = precision_total / len(batch)\n",
    "        if epoch %10 == 9:\n",
    "            print(f'Epoch [{epoch + 1}/{epochs}] | Avg Loss: {avg_loss:.4f} | Avg Precision: {(avg_precision * 100.0):.2f}')"
   ]
  },
  {
   "cell_type": "markdown",
   "id": "1e6ad7ba-d059-4134-8bc6-b912dc9397ba",
   "metadata": {},
   "source": [
    "### Train | Validate | Predict"
   ]
  },
  {
   "cell_type": "code",
   "execution_count": 14,
   "id": "7c808ecf-66e1-460f-87a9-1ead55c4109a",
   "metadata": {},
   "outputs": [],
   "source": [
    "def predict(model, dataloader):\n",
    "    predictions = []\n",
    "    with tqdm(dataloader, colour='yellow') as pbar:\n",
    "        for features in pbar:\n",
    "            features = features.to(device)\n",
    "            preds = model(features)\n",
    "            preds = torch.argmax(preds, dim=1)\n",
    "            predictions.extend(preds.cpu().numpy())\n",
    "    \n",
    "    return predictions"
   ]
  },
  {
   "cell_type": "code",
   "execution_count": 15,
   "id": "ffa18d96-bf69-442d-9874-12d0c7130465",
   "metadata": {},
   "outputs": [],
   "source": [
    "#Validate one epoch\n",
    "def validate(model, criterion, dataloader, epoch):\n",
    "    model.eval()\n",
    "    metric.reset()\n",
    "    \n",
    "    loss_total = 0.0\n",
    "    precision_total = 0.0\n",
    "    \n",
    "    with tqdm(dataloader, desc='Validate', total=len(dataloader), unit='batch', colour='blue') as pbar:\n",
    "        with torch.no_grad():\n",
    "            for batch in pbar:\n",
    "                features, label = batch\n",
    "                features = features.to(device)\n",
    "                label = label.to(device)\n",
    "\n",
    "                logits = model(features)               \n",
    "                #Update running loss and precision\n",
    "                loss = criterion(logits, label.long())\n",
    "                ypred = torch.softmax(logits, dim=1)\n",
    "                metric(ypred, label.long())\n",
    "                precision=metric.compute()\n",
    "                \n",
    "                precision_total += precision.item()\n",
    "                loss_total += loss.item()\n",
    "\n",
    "                #Update the tqdm progress bar description with loss and precision\n",
    "                pbar.set_postfix_str(s=f'Loss: {loss:.4f} | Precision: {precision*100:.2f}%')\n",
    "                \n",
    "        avg_loss = loss_total / len(dataloader)\n",
    "        avg_precision = precision_total / len(dataloader)\n",
    "        \n",
    "    model.train()    \n",
    "    return avg_loss, avg_precision"
   ]
  },
  {
   "cell_type": "code",
   "execution_count": 16,
   "id": "c18759c2-27c5-497b-9a90-124e3d27075b",
   "metadata": {},
   "outputs": [],
   "source": [
    "def train_validate(model, criterion, optimizer, scheduler, epochs=100, train_loader=train_loader, val_loader=val_loader, patience=5):\n",
    "    model = model.train()\n",
    "    best_precision = None\n",
    "    min_delta = 0\n",
    "    counter = 0\n",
    "    \n",
    "    for epoch in range(epochs):\n",
    "        metric.reset()\n",
    "        loss_total = 0.0\n",
    "        precision_total = 0.0\n",
    "        with tqdm(train_loader, desc='Train', total=len(train_loader), unit='batch', colour='green') as pbar:\n",
    "            for batch in pbar:\n",
    "                #Set features/targets to device\n",
    "                features, label = batch\n",
    "                features = features.to(device)\n",
    "                label = label.to(device)\n",
    "\n",
    "                #Predict labels\n",
    "                optimizer.zero_grad()                \n",
    "                logits = model(features)\n",
    "                loss = criterion(logits, label.long())\n",
    "                ypred = torch.softmax(logits, dim=1)\n",
    "                metric(ypred, label.long())\n",
    "                precision=metric.compute()\n",
    "                \n",
    "                #Tensorboard\n",
    "                train_writer.add_scalar('Train-Loss', loss, epoch)\n",
    "                train_writer.add_scalar('Train-Precision', precision, epoch)\n",
    "                \n",
    "                pbar.set_postfix_str(s=f'Loss: {loss:.4f} | Precision: {precision*100:.2f}%')\n",
    "\n",
    "                #Adjust gradient\n",
    "                loss.backward()\n",
    "                torch.nn.utils.clip_grad_norm_(model.parameters(), max_norm=1.0)\n",
    "                optimizer.step()\n",
    "\n",
    "                #Accumulate total loss and precision\n",
    "                loss_total += loss.item()\n",
    "                precision_total += precision.item()\n",
    "\n",
    "            avg_loss = loss_total / len(train_loader)\n",
    "            avg_precision = precision_total / len(train_loader)\n",
    "         \n",
    "        #Report training loss/precision\n",
    "        print(f'Epoch {epoch + 1} | Avg Loss: {avg_loss:.4f} | Avg Precision: {(avg_precision * 100.0):.2f}%')\n",
    "\n",
    "        if epoch%3==2:\n",
    "            #Validate one epoch and update lr scheduler\n",
    "            avg_val_loss, avg_val_precision = validate(model, criterion, val_loader, epoch)\n",
    "            scheduler.step(avg_val_precision)\n",
    "        \n",
    "            #Early Stopping\n",
    "            if best_precision == None:\n",
    "                best_precision = avg_val_precision\n",
    "            elif(best_precision - avg_val_precision < min_delta):\n",
    "                best_precision = avg_val_precision\n",
    "                counter = 0\n",
    "            elif(best_precision - avg_val_precision > min_delta):\n",
    "                counter += 1\n",
    "                if(counter >= patience):\n",
    "                    print(f'Early Stopping: Precision stagnated or decreased too many times. Best Validation: {(best_precision*100.0):.2f}%')\n",
    "                    break\n",
    "\n",
    "            print(f'Epoch {epoch + 1} | Avg Loss: {avg_val_loss:.4f} | Avg Precision: {(avg_val_precision * 100.0):.2f}% | Patience: {counter}')\n",
    "\n",
    "    train_writer.flush()\n",
    "    train_writer.close()\n",
    "    val_writer.flush()\n",
    "    val_writer.close()\n",
    "    print(f'Training Complete - Best Validate Precision: {(best_precision*100.0):.2f}%')\n",
    "    \n",
    "    return model"
   ]
  },
  {
   "cell_type": "markdown",
   "id": "1ee88198-33e7-452f-aac7-e9e3a3aa282b",
   "metadata": {},
   "source": [
    "## Model Architecture"
   ]
  },
  {
   "cell_type": "code",
   "execution_count": 17,
   "id": "a00a2fd6-edb1-447a-8084-efb451a0dadd",
   "metadata": {},
   "outputs": [],
   "source": [
    "class LSTMnet(nn.Module):\n",
    "    def __init__(self, num_inputs, hidden_size, num_layers, num_outputs):\n",
    "        super(LSTMnet, self).__init__()\n",
    "        self.hidden = hidden_size\n",
    "        self.layers = num_layers\n",
    "        self.lstm = nn.LSTM(num_inputs,\n",
    "                            hidden_size,\n",
    "                            num_layers,\n",
    "                            batch_first=True)\n",
    "\n",
    "        for name, param in self.lstm.named_parameters():\n",
    "            if 'weight' in name:\n",
    "                nn.init.kaiming_normal_(param)\n",
    "            elif 'bias' in name:\n",
    "                nn.init.constant_(param, 0.0)\n",
    "    \n",
    "        self.batch_norm1 = nn.BatchNorm1d(hidden_size)\n",
    "        self.elu = nn.ELU()\n",
    "        self.fc1 = nn.Linear(hidden_size, num_outputs)\n",
    "        nn.init.xavier_uniform_(self.fc1.weight)\n",
    "\n",
    "    def forward(self, x):\n",
    "        c0 = torch.zeros((self.layers, x.size(0), self.hidden), dtype=torch.float32).to(device)\n",
    "        h0 = torch.zeros((self.layers, x.size(0), self.hidden), dtype=torch.float32).to(device)\n",
    "        out, _ = self.lstm(x, (h0, c0))\n",
    "        out = out[:, -1, :]\n",
    "\n",
    "        # Apply batch normalization\n",
    "        out = self.batch_norm1(out)\n",
    "        out = self.elu(out)\n",
    "        out = self.fc1(out) \n",
    "        return out"
   ]
  },
  {
   "cell_type": "markdown",
   "id": "4db6e5de-23e9-4a96-a0de-d0c3fb1748bb",
   "metadata": {
    "jp-MarkdownHeadingCollapsed": true
   },
   "source": [
    "### Overfitting"
   ]
  },
  {
   "cell_type": "code",
   "execution_count": 65,
   "id": "5fbdbd12-1bbf-4a84-8c88-86c90ad3788d",
   "metadata": {},
   "outputs": [
    {
     "name": "stdout",
     "output_type": "stream",
     "text": [
      "Epoch [10/100] | Avg Loss: 0.3972 | Avg Precision: 79.00\n",
      "Epoch [20/100] | Avg Loss: 0.2422 | Avg Precision: 89.05\n",
      "Epoch [30/100] | Avg Loss: 0.1192 | Avg Precision: 96.13\n",
      "Epoch [40/100] | Avg Loss: 0.0619 | Avg Precision: 98.40\n",
      "Epoch [50/100] | Avg Loss: 0.0456 | Avg Precision: 98.75\n",
      "Epoch [60/100] | Avg Loss: 0.0260 | Avg Precision: 99.76\n",
      "Epoch [70/100] | Avg Loss: 0.0088 | Avg Precision: 100.00\n",
      "Epoch [80/100] | Avg Loss: 0.0041 | Avg Precision: 100.00\n",
      "Epoch [90/100] | Avg Loss: 0.0020 | Avg Precision: 100.00\n",
      "Epoch [100/100] | Avg Loss: 0.0011 | Avg Precision: 100.00\n"
     ]
    }
   ],
   "source": [
    "batch = next(iter(train_loader))\n",
    "model = LSTMnet(9, 500, 1, 4)\n",
    "model.to(device)\n",
    "criterion = nn.CrossEntropyLoss()\n",
    "optimizer = optim.AdamW(model.parameters(), lr=0.01)\n",
    "\n",
    "\n",
    "overfit_batch(model, criterion, optimizer, batch)"
   ]
  },
  {
   "cell_type": "markdown",
   "id": "dca54b43-d76a-4a54-8505-f6496d13efec",
   "metadata": {},
   "source": [
    "# Training"
   ]
  },
  {
   "cell_type": "markdown",
   "id": "ba9f7d7a-d8e9-4c91-a3e7-2f0aeb8c3fc8",
   "metadata": {},
   "source": [
    "## Downsample"
   ]
  },
  {
   "cell_type": "markdown",
   "id": "faccd2b5-2e92-416d-a1d9-8e25cc2f4360",
   "metadata": {},
   "source": [
    "### 11-1-23"
   ]
  },
  {
   "cell_type": "markdown",
   "id": "bef71fb1-f277-4234-85ab-3963f7610480",
   "metadata": {},
   "source": [
    "#### Model 5 - Batch 1024 - Lookback 7 - Scheduler patience update"
   ]
  },
  {
   "cell_type": "code",
   "execution_count": 18,
   "id": "e1275b5f-365d-4a9f-8041-f1cb1f3f21da",
   "metadata": {},
   "outputs": [
    {
     "name": "stderr",
     "output_type": "stream",
     "text": [
      "Train:  21%|\u001B[32m█████▎                   \u001B[0m| 63/295 [00:12<00:47,  4.85batch/s, Loss: 0.4164 | Precision: 76.91%]\u001B[0m\n"
     ]
    },
    {
     "ename": "KeyboardInterrupt",
     "evalue": "",
     "output_type": "error",
     "traceback": [
      "\u001B[1;31m---------------------------------------------------------------------------\u001B[0m",
      "\u001B[1;31mKeyboardInterrupt\u001B[0m                         Traceback (most recent call last)",
      "Cell \u001B[1;32mIn[18], line 8\u001B[0m\n\u001B[0;32m      5\u001B[0m scheduler \u001B[38;5;241m=\u001B[39m ReduceLROnPlateau(optimizer, \u001B[38;5;124m'\u001B[39m\u001B[38;5;124mmin\u001B[39m\u001B[38;5;124m'\u001B[39m, patience\u001B[38;5;241m=\u001B[39m\u001B[38;5;241m1\u001B[39m)\n\u001B[0;32m      6\u001B[0m epochs \u001B[38;5;241m=\u001B[39m \u001B[38;5;241m100\u001B[39m\n\u001B[1;32m----> 8\u001B[0m model5 \u001B[38;5;241m=\u001B[39m \u001B[43mtrain_validate\u001B[49m\u001B[43m(\u001B[49m\u001B[43mmodel\u001B[49m\u001B[43m,\u001B[49m\u001B[43m \u001B[49m\u001B[43mcriterion\u001B[49m\u001B[43m,\u001B[49m\u001B[43m \u001B[49m\u001B[43moptimizer\u001B[49m\u001B[43m,\u001B[49m\u001B[43m \u001B[49m\u001B[43mscheduler\u001B[49m\u001B[43m,\u001B[49m\u001B[43m \u001B[49m\u001B[43mepochs\u001B[49m\u001B[43m,\u001B[49m\u001B[43m \u001B[49m\u001B[43mtrain_loader\u001B[49m\u001B[43m,\u001B[49m\u001B[43m \u001B[49m\u001B[43mval_loader\u001B[49m\u001B[43m)\u001B[49m\n\u001B[0;32m      9\u001B[0m torch\u001B[38;5;241m.\u001B[39msave(model5\u001B[38;5;241m.\u001B[39mstate_dict(), \u001B[38;5;124m'\u001B[39m\u001B[38;5;124m.\u001B[39m\u001B[38;5;130;01m\\\\\u001B[39;00m\u001B[38;5;124mmodels\u001B[39m\u001B[38;5;130;01m\\\\\u001B[39;00m\u001B[38;5;124mdownsample\u001B[39m\u001B[38;5;130;01m\\\\\u001B[39;00m\u001B[38;5;124mlstm\u001B[39m\u001B[38;5;130;01m\\\\\u001B[39;00m\u001B[38;5;124mmodel5.pth\u001B[39m\u001B[38;5;124m'\u001B[39m)\n",
      "Cell \u001B[1;32mIn[16], line 23\u001B[0m, in \u001B[0;36mtrain_validate\u001B[1;34m(model, criterion, optimizer, scheduler, epochs, train_loader, val_loader, patience)\u001B[0m\n\u001B[0;32m     21\u001B[0m loss \u001B[38;5;241m=\u001B[39m criterion(logits, label\u001B[38;5;241m.\u001B[39mlong())\n\u001B[0;32m     22\u001B[0m ypred \u001B[38;5;241m=\u001B[39m torch\u001B[38;5;241m.\u001B[39msoftmax(logits, dim\u001B[38;5;241m=\u001B[39m\u001B[38;5;241m1\u001B[39m)\n\u001B[1;32m---> 23\u001B[0m \u001B[43mmetric\u001B[49m\u001B[43m(\u001B[49m\u001B[43mypred\u001B[49m\u001B[43m,\u001B[49m\u001B[43m \u001B[49m\u001B[43mlabel\u001B[49m\u001B[38;5;241;43m.\u001B[39;49m\u001B[43mlong\u001B[49m\u001B[43m(\u001B[49m\u001B[43m)\u001B[49m\u001B[43m)\u001B[49m\n\u001B[0;32m     24\u001B[0m precision\u001B[38;5;241m=\u001B[39mmetric\u001B[38;5;241m.\u001B[39mcompute()\n\u001B[0;32m     26\u001B[0m \u001B[38;5;66;03m#Tensorboard\u001B[39;00m\n",
      "File \u001B[1;32m~\\Envs\\torch-dml\\lib\\site-packages\\torch\\nn\\modules\\module.py:1501\u001B[0m, in \u001B[0;36mModule._call_impl\u001B[1;34m(self, *args, **kwargs)\u001B[0m\n\u001B[0;32m   1496\u001B[0m \u001B[38;5;66;03m# If we don't have any hooks, we want to skip the rest of the logic in\u001B[39;00m\n\u001B[0;32m   1497\u001B[0m \u001B[38;5;66;03m# this function, and just call forward.\u001B[39;00m\n\u001B[0;32m   1498\u001B[0m \u001B[38;5;28;01mif\u001B[39;00m \u001B[38;5;129;01mnot\u001B[39;00m (\u001B[38;5;28mself\u001B[39m\u001B[38;5;241m.\u001B[39m_backward_hooks \u001B[38;5;129;01mor\u001B[39;00m \u001B[38;5;28mself\u001B[39m\u001B[38;5;241m.\u001B[39m_backward_pre_hooks \u001B[38;5;129;01mor\u001B[39;00m \u001B[38;5;28mself\u001B[39m\u001B[38;5;241m.\u001B[39m_forward_hooks \u001B[38;5;129;01mor\u001B[39;00m \u001B[38;5;28mself\u001B[39m\u001B[38;5;241m.\u001B[39m_forward_pre_hooks\n\u001B[0;32m   1499\u001B[0m         \u001B[38;5;129;01mor\u001B[39;00m _global_backward_pre_hooks \u001B[38;5;129;01mor\u001B[39;00m _global_backward_hooks\n\u001B[0;32m   1500\u001B[0m         \u001B[38;5;129;01mor\u001B[39;00m _global_forward_hooks \u001B[38;5;129;01mor\u001B[39;00m _global_forward_pre_hooks):\n\u001B[1;32m-> 1501\u001B[0m     \u001B[38;5;28;01mreturn\u001B[39;00m forward_call(\u001B[38;5;241m*\u001B[39margs, \u001B[38;5;241m*\u001B[39m\u001B[38;5;241m*\u001B[39mkwargs)\n\u001B[0;32m   1502\u001B[0m \u001B[38;5;66;03m# Do not call functions when jit is used\u001B[39;00m\n\u001B[0;32m   1503\u001B[0m full_backward_hooks, non_full_backward_hooks \u001B[38;5;241m=\u001B[39m [], []\n",
      "File \u001B[1;32m~\\Envs\\torch-dml\\lib\\site-packages\\torchmetrics\\metric.py:298\u001B[0m, in \u001B[0;36mMetric.forward\u001B[1;34m(self, *args, **kwargs)\u001B[0m\n\u001B[0;32m    296\u001B[0m     \u001B[38;5;28mself\u001B[39m\u001B[38;5;241m.\u001B[39m_forward_cache \u001B[38;5;241m=\u001B[39m \u001B[38;5;28mself\u001B[39m\u001B[38;5;241m.\u001B[39m_forward_full_state_update(\u001B[38;5;241m*\u001B[39margs, \u001B[38;5;241m*\u001B[39m\u001B[38;5;241m*\u001B[39mkwargs)\n\u001B[0;32m    297\u001B[0m \u001B[38;5;28;01melse\u001B[39;00m:\n\u001B[1;32m--> 298\u001B[0m     \u001B[38;5;28mself\u001B[39m\u001B[38;5;241m.\u001B[39m_forward_cache \u001B[38;5;241m=\u001B[39m \u001B[38;5;28mself\u001B[39m\u001B[38;5;241m.\u001B[39m_forward_reduce_state_update(\u001B[38;5;241m*\u001B[39margs, \u001B[38;5;241m*\u001B[39m\u001B[38;5;241m*\u001B[39mkwargs)\n\u001B[0;32m    300\u001B[0m \u001B[38;5;28;01mreturn\u001B[39;00m \u001B[38;5;28mself\u001B[39m\u001B[38;5;241m.\u001B[39m_forward_cache\n",
      "File \u001B[1;32m~\\Envs\\torch-dml\\lib\\site-packages\\torchmetrics\\metric.py:368\u001B[0m, in \u001B[0;36mMetric._forward_reduce_state_update\u001B[1;34m(self, *args, **kwargs)\u001B[0m\n\u001B[0;32m    366\u001B[0m \u001B[38;5;66;03m# calculate batch state and compute batch value\u001B[39;00m\n\u001B[0;32m    367\u001B[0m \u001B[38;5;28mself\u001B[39m\u001B[38;5;241m.\u001B[39mupdate(\u001B[38;5;241m*\u001B[39margs, \u001B[38;5;241m*\u001B[39m\u001B[38;5;241m*\u001B[39mkwargs)\n\u001B[1;32m--> 368\u001B[0m batch_val \u001B[38;5;241m=\u001B[39m \u001B[38;5;28;43mself\u001B[39;49m\u001B[38;5;241;43m.\u001B[39;49m\u001B[43mcompute\u001B[49m\u001B[43m(\u001B[49m\u001B[43m)\u001B[49m\n\u001B[0;32m    370\u001B[0m \u001B[38;5;66;03m# reduce batch and global state\u001B[39;00m\n\u001B[0;32m    371\u001B[0m \u001B[38;5;28mself\u001B[39m\u001B[38;5;241m.\u001B[39m_update_count \u001B[38;5;241m=\u001B[39m _update_count \u001B[38;5;241m+\u001B[39m \u001B[38;5;241m1\u001B[39m\n",
      "File \u001B[1;32m~\\Envs\\torch-dml\\lib\\site-packages\\torchmetrics\\metric.py:607\u001B[0m, in \u001B[0;36mMetric._wrap_compute.<locals>.wrapped_func\u001B[1;34m(*args, **kwargs)\u001B[0m\n\u001B[0;32m    599\u001B[0m \u001B[38;5;66;03m# compute relies on the sync context manager to gather the states across processes and apply reduction\u001B[39;00m\n\u001B[0;32m    600\u001B[0m \u001B[38;5;66;03m# if synchronization happened, the current rank accumulated states will be restored to keep\u001B[39;00m\n\u001B[0;32m    601\u001B[0m \u001B[38;5;66;03m# accumulation going if ``should_unsync=True``,\u001B[39;00m\n\u001B[0;32m    602\u001B[0m \u001B[38;5;28;01mwith\u001B[39;00m \u001B[38;5;28mself\u001B[39m\u001B[38;5;241m.\u001B[39msync_context(\n\u001B[0;32m    603\u001B[0m     dist_sync_fn\u001B[38;5;241m=\u001B[39m\u001B[38;5;28mself\u001B[39m\u001B[38;5;241m.\u001B[39mdist_sync_fn,\n\u001B[0;32m    604\u001B[0m     should_sync\u001B[38;5;241m=\u001B[39m\u001B[38;5;28mself\u001B[39m\u001B[38;5;241m.\u001B[39m_to_sync,\n\u001B[0;32m    605\u001B[0m     should_unsync\u001B[38;5;241m=\u001B[39m\u001B[38;5;28mself\u001B[39m\u001B[38;5;241m.\u001B[39m_should_unsync,\n\u001B[0;32m    606\u001B[0m ):\n\u001B[1;32m--> 607\u001B[0m     value \u001B[38;5;241m=\u001B[39m _squeeze_if_scalar(compute(\u001B[38;5;241m*\u001B[39margs, \u001B[38;5;241m*\u001B[39m\u001B[38;5;241m*\u001B[39mkwargs))\n\u001B[0;32m    609\u001B[0m \u001B[38;5;28;01mif\u001B[39;00m \u001B[38;5;28mself\u001B[39m\u001B[38;5;241m.\u001B[39mcompute_with_cache:\n\u001B[0;32m    610\u001B[0m     \u001B[38;5;28mself\u001B[39m\u001B[38;5;241m.\u001B[39m_computed \u001B[38;5;241m=\u001B[39m value\n",
      "File \u001B[1;32m~\\Envs\\torch-dml\\lib\\site-packages\\torchmetrics\\classification\\average_precision.py:273\u001B[0m, in \u001B[0;36mMulticlassAveragePrecision.compute\u001B[1;34m(self)\u001B[0m\n\u001B[0;32m    271\u001B[0m \u001B[38;5;250m\u001B[39m\u001B[38;5;124;03m\"\"\"Compute metric.\"\"\"\u001B[39;00m\n\u001B[0;32m    272\u001B[0m state \u001B[38;5;241m=\u001B[39m (dim_zero_cat(\u001B[38;5;28mself\u001B[39m\u001B[38;5;241m.\u001B[39mpreds), dim_zero_cat(\u001B[38;5;28mself\u001B[39m\u001B[38;5;241m.\u001B[39mtarget)) \u001B[38;5;28;01mif\u001B[39;00m \u001B[38;5;28mself\u001B[39m\u001B[38;5;241m.\u001B[39mthresholds \u001B[38;5;129;01mis\u001B[39;00m \u001B[38;5;28;01mNone\u001B[39;00m \u001B[38;5;28;01melse\u001B[39;00m \u001B[38;5;28mself\u001B[39m\u001B[38;5;241m.\u001B[39mconfmat\n\u001B[1;32m--> 273\u001B[0m \u001B[38;5;28;01mreturn\u001B[39;00m \u001B[43m_multiclass_average_precision_compute\u001B[49m\u001B[43m(\u001B[49m\u001B[43mstate\u001B[49m\u001B[43m,\u001B[49m\u001B[43m \u001B[49m\u001B[38;5;28;43mself\u001B[39;49m\u001B[38;5;241;43m.\u001B[39;49m\u001B[43mnum_classes\u001B[49m\u001B[43m,\u001B[49m\u001B[43m \u001B[49m\u001B[38;5;28;43mself\u001B[39;49m\u001B[38;5;241;43m.\u001B[39;49m\u001B[43maverage\u001B[49m\u001B[43m,\u001B[49m\u001B[43m \u001B[49m\u001B[38;5;28;43mself\u001B[39;49m\u001B[38;5;241;43m.\u001B[39;49m\u001B[43mthresholds\u001B[49m\u001B[43m)\u001B[49m\n",
      "File \u001B[1;32m~\\Envs\\torch-dml\\lib\\site-packages\\torchmetrics\\functional\\classification\\average_precision.py:171\u001B[0m, in \u001B[0;36m_multiclass_average_precision_compute\u001B[1;34m(state, num_classes, average, thresholds)\u001B[0m\n\u001B[0;32m    164\u001B[0m \u001B[38;5;28;01mdef\u001B[39;00m \u001B[38;5;21m_multiclass_average_precision_compute\u001B[39m(\n\u001B[0;32m    165\u001B[0m     state: Union[Tensor, Tuple[Tensor, Tensor]],\n\u001B[0;32m    166\u001B[0m     num_classes: \u001B[38;5;28mint\u001B[39m,\n\u001B[0;32m    167\u001B[0m     average: Optional[Literal[\u001B[38;5;124m\"\u001B[39m\u001B[38;5;124mmacro\u001B[39m\u001B[38;5;124m\"\u001B[39m, \u001B[38;5;124m\"\u001B[39m\u001B[38;5;124mweighted\u001B[39m\u001B[38;5;124m\"\u001B[39m, \u001B[38;5;124m\"\u001B[39m\u001B[38;5;124mnone\u001B[39m\u001B[38;5;124m\"\u001B[39m]] \u001B[38;5;241m=\u001B[39m \u001B[38;5;124m\"\u001B[39m\u001B[38;5;124mmacro\u001B[39m\u001B[38;5;124m\"\u001B[39m,\n\u001B[0;32m    168\u001B[0m     thresholds: Optional[Tensor] \u001B[38;5;241m=\u001B[39m \u001B[38;5;28;01mNone\u001B[39;00m,\n\u001B[0;32m    169\u001B[0m ) \u001B[38;5;241m-\u001B[39m\u001B[38;5;241m>\u001B[39m Tensor:\n\u001B[0;32m    170\u001B[0m     precision, recall, _ \u001B[38;5;241m=\u001B[39m _multiclass_precision_recall_curve_compute(state, num_classes, thresholds)\n\u001B[1;32m--> 171\u001B[0m     \u001B[38;5;28;01mreturn\u001B[39;00m \u001B[43m_reduce_average_precision\u001B[49m\u001B[43m(\u001B[49m\n\u001B[0;32m    172\u001B[0m \u001B[43m        \u001B[49m\u001B[43mprecision\u001B[49m\u001B[43m,\u001B[49m\n\u001B[0;32m    173\u001B[0m \u001B[43m        \u001B[49m\u001B[43mrecall\u001B[49m\u001B[43m,\u001B[49m\n\u001B[0;32m    174\u001B[0m \u001B[43m        \u001B[49m\u001B[43maverage\u001B[49m\u001B[43m,\u001B[49m\n\u001B[0;32m    175\u001B[0m \u001B[43m        \u001B[49m\u001B[43mweights\u001B[49m\u001B[38;5;241;43m=\u001B[39;49m\u001B[43m_bincount\u001B[49m\u001B[43m(\u001B[49m\u001B[43mstate\u001B[49m\u001B[43m[\u001B[49m\u001B[38;5;241;43m1\u001B[39;49m\u001B[43m]\u001B[49m\u001B[43m,\u001B[49m\u001B[43m \u001B[49m\u001B[43mminlength\u001B[49m\u001B[38;5;241;43m=\u001B[39;49m\u001B[43mnum_classes\u001B[49m\u001B[43m)\u001B[49m\u001B[38;5;241;43m.\u001B[39;49m\u001B[43mfloat\u001B[49m\u001B[43m(\u001B[49m\u001B[43m)\u001B[49m\u001B[43m \u001B[49m\u001B[38;5;28;43;01mif\u001B[39;49;00m\u001B[43m \u001B[49m\u001B[43mthresholds\u001B[49m\u001B[43m \u001B[49m\u001B[38;5;129;43;01mis\u001B[39;49;00m\u001B[43m \u001B[49m\u001B[38;5;28;43;01mNone\u001B[39;49;00m\u001B[43m \u001B[49m\u001B[38;5;28;43;01melse\u001B[39;49;00m\u001B[43m \u001B[49m\u001B[43mstate\u001B[49m\u001B[43m[\u001B[49m\u001B[38;5;241;43m0\u001B[39;49m\u001B[43m]\u001B[49m\u001B[43m[\u001B[49m\u001B[43m:\u001B[49m\u001B[43m,\u001B[49m\u001B[43m \u001B[49m\u001B[38;5;241;43m1\u001B[39;49m\u001B[43m,\u001B[49m\u001B[43m \u001B[49m\u001B[43m:\u001B[49m\u001B[43m]\u001B[49m\u001B[38;5;241;43m.\u001B[39;49m\u001B[43msum\u001B[49m\u001B[43m(\u001B[49m\u001B[38;5;241;43m-\u001B[39;49m\u001B[38;5;241;43m1\u001B[39;49m\u001B[43m)\u001B[49m\u001B[43m,\u001B[49m\n\u001B[0;32m    176\u001B[0m \u001B[43m    \u001B[49m\u001B[43m)\u001B[49m\n",
      "File \u001B[1;32m~\\Envs\\torch-dml\\lib\\site-packages\\torchmetrics\\functional\\classification\\average_precision.py:56\u001B[0m, in \u001B[0;36m_reduce_average_precision\u001B[1;34m(precision, recall, average, weights)\u001B[0m\n\u001B[0;32m     54\u001B[0m \u001B[38;5;28;01mif\u001B[39;00m average \u001B[38;5;129;01mis\u001B[39;00m \u001B[38;5;28;01mNone\u001B[39;00m \u001B[38;5;129;01mor\u001B[39;00m average \u001B[38;5;241m==\u001B[39m \u001B[38;5;124m\"\u001B[39m\u001B[38;5;124mnone\u001B[39m\u001B[38;5;124m\"\u001B[39m:\n\u001B[0;32m     55\u001B[0m     \u001B[38;5;28;01mreturn\u001B[39;00m res\n\u001B[1;32m---> 56\u001B[0m \u001B[38;5;28;01mif\u001B[39;00m \u001B[43mtorch\u001B[49m\u001B[38;5;241;43m.\u001B[39;49m\u001B[43misnan\u001B[49m\u001B[43m(\u001B[49m\u001B[43mres\u001B[49m\u001B[43m)\u001B[49m\u001B[38;5;241;43m.\u001B[39;49m\u001B[43many\u001B[49m\u001B[43m(\u001B[49m\u001B[43m)\u001B[49m:\n\u001B[0;32m     57\u001B[0m     rank_zero_warn(\n\u001B[0;32m     58\u001B[0m         \u001B[38;5;124mf\u001B[39m\u001B[38;5;124m\"\u001B[39m\u001B[38;5;124mAverage precision score for one or more classes was `nan`. Ignoring these classes in \u001B[39m\u001B[38;5;132;01m{\u001B[39;00maverage\u001B[38;5;132;01m}\u001B[39;00m\u001B[38;5;124m-average\u001B[39m\u001B[38;5;124m\"\u001B[39m,\n\u001B[0;32m     59\u001B[0m         \u001B[38;5;167;01mUserWarning\u001B[39;00m,\n\u001B[0;32m     60\u001B[0m     )\n\u001B[0;32m     61\u001B[0m idx \u001B[38;5;241m=\u001B[39m \u001B[38;5;241m~\u001B[39mtorch\u001B[38;5;241m.\u001B[39misnan(res)\n",
      "\u001B[1;31mKeyboardInterrupt\u001B[0m: "
     ]
    }
   ],
   "source": [
    "model = LSTMnet(9, 150, 1, 4)\n",
    "model = model.to(device)\n",
    "criterion = nn.CrossEntropyLoss()\n",
    "optimizer = optim.Adam(model.parameters(), lr=.03)\n",
    "scheduler = ReduceLROnPlateau(optimizer, 'min', patience=1)\n",
    "epochs = 100\n",
    "\n",
    "model5 = train_validate(model, criterion, optimizer, scheduler, epochs, train_loader, val_loader)\n",
    "torch.save(model5.state_dict(), '.\\\\models\\\\downsample\\\\lstm\\\\model5.pth')"
   ]
  },
  {
   "cell_type": "markdown",
   "id": "2a819d5c-32fb-47e5-aed5-0c923cd6abee",
   "metadata": {
    "jp-MarkdownHeadingCollapsed": true
   },
   "source": [
    "### 11-3-23"
   ]
  },
  {
   "cell_type": "markdown",
   "id": "046d30dc-fac2-43db-8fa9-411f3559bfba",
   "metadata": {
    "jp-MarkdownHeadingCollapsed": true
   },
   "source": [
    "#### Model 6 - Scheduler adjustment; using subset df"
   ]
  },
  {
   "cell_type": "code",
   "execution_count": 49,
   "id": "349e97e0-49b3-47d0-84ed-9b8865338c2e",
   "metadata": {},
   "outputs": [
    {
     "name": "stderr",
     "output_type": "stream",
     "text": [
      "Train: 100%|\u001B[32m██████████████████████\u001B[0m| 3560/3560 [09:54<00:00,  5.99batch/s, Loss: 0.4148 | Precision: 79.91%]\u001B[0m\n"
     ]
    },
    {
     "name": "stdout",
     "output_type": "stream",
     "text": [
      "Epoch 1 | Avg Loss: 0.4096 | Avg Precision: 77.97%\n"
     ]
    },
    {
     "name": "stderr",
     "output_type": "stream",
     "text": [
      "Train: 100%|\u001B[32m██████████████████████\u001B[0m| 3560/3560 [09:53<00:00,  6.00batch/s, Loss: 0.3906 | Precision: 82.25%]\u001B[0m\n"
     ]
    },
    {
     "name": "stdout",
     "output_type": "stream",
     "text": [
      "Epoch 2 | Avg Loss: 0.3711 | Avg Precision: 82.08%\n"
     ]
    },
    {
     "name": "stderr",
     "output_type": "stream",
     "text": [
      "Train: 100%|\u001B[32m██████████████████████\u001B[0m| 3560/3560 [09:54<00:00,  5.99batch/s, Loss: 0.3779 | Precision: 82.66%]\u001B[0m\n"
     ]
    },
    {
     "name": "stdout",
     "output_type": "stream",
     "text": [
      "Epoch 3 | Avg Loss: 0.3641 | Avg Precision: 82.64%\n"
     ]
    },
    {
     "name": "stderr",
     "output_type": "stream",
     "text": [
      "Validate: 100%|\u001B[34m█████████████████████\u001B[0m| 890/890 [02:21<00:00,  6.31batch/s, Loss: 0.3712 | Precision: 83.39%]\u001B[0m\n"
     ]
    },
    {
     "name": "stdout",
     "output_type": "stream",
     "text": [
      "Epoch 3 | Avg Loss: 0.3691 | Avg Precision: 83.37% | Patience: 0\n"
     ]
    },
    {
     "name": "stderr",
     "output_type": "stream",
     "text": [
      "Train: 100%|\u001B[32m██████████████████████\u001B[0m| 3560/3560 [09:50<00:00,  6.03batch/s, Loss: 0.3757 | Precision: 82.64%]\u001B[0m\n"
     ]
    },
    {
     "name": "stdout",
     "output_type": "stream",
     "text": [
      "Epoch 4 | Avg Loss: 0.3653 | Avg Precision: 82.53%\n"
     ]
    },
    {
     "name": "stderr",
     "output_type": "stream",
     "text": [
      "Train: 100%|\u001B[32m██████████████████████\u001B[0m| 3560/3560 [09:51<00:00,  6.02batch/s, Loss: 0.3536 | Precision: 82.96%]\u001B[0m\n"
     ]
    },
    {
     "name": "stdout",
     "output_type": "stream",
     "text": [
      "Epoch 5 | Avg Loss: 0.3588 | Avg Precision: 82.89%\n"
     ]
    },
    {
     "name": "stderr",
     "output_type": "stream",
     "text": [
      "Train: 100%|\u001B[32m██████████████████████\u001B[0m| 3560/3560 [09:51<00:00,  6.02batch/s, Loss: 0.3489 | Precision: 83.04%]\u001B[0m\n"
     ]
    },
    {
     "name": "stdout",
     "output_type": "stream",
     "text": [
      "Epoch 6 | Avg Loss: 0.3579 | Avg Precision: 83.00%\n"
     ]
    },
    {
     "name": "stderr",
     "output_type": "stream",
     "text": [
      "Validate: 100%|\u001B[34m█████████████████████\u001B[0m| 890/890 [02:22<00:00,  6.27batch/s, Loss: 0.3752 | Precision: 83.37%]\u001B[0m\n"
     ]
    },
    {
     "name": "stdout",
     "output_type": "stream",
     "text": [
      "Epoch 6 | Avg Loss: 0.3581 | Avg Precision: 83.36% | Patience: 1\n"
     ]
    },
    {
     "name": "stderr",
     "output_type": "stream",
     "text": [
      "Train: 100%|\u001B[32m██████████████████████\u001B[0m| 3560/3560 [09:50<00:00,  6.03batch/s, Loss: 0.3573 | Precision: 82.97%]\u001B[0m\n"
     ]
    },
    {
     "name": "stdout",
     "output_type": "stream",
     "text": [
      "Epoch 7 | Avg Loss: 0.3588 | Avg Precision: 83.00%\n"
     ]
    },
    {
     "name": "stderr",
     "output_type": "stream",
     "text": [
      "Train: 100%|\u001B[32m██████████████████████\u001B[0m| 3560/3560 [09:49<00:00,  6.04batch/s, Loss: 0.3608 | Precision: 82.88%]\u001B[0m\n"
     ]
    },
    {
     "name": "stdout",
     "output_type": "stream",
     "text": [
      "Epoch 8 | Avg Loss: 0.3615 | Avg Precision: 83.03%\n"
     ]
    },
    {
     "name": "stderr",
     "output_type": "stream",
     "text": [
      "Train: 100%|\u001B[32m██████████████████████\u001B[0m| 3560/3560 [09:53<00:00,  6.00batch/s, Loss: 0.3578 | Precision: 82.41%]\u001B[0m\n"
     ]
    },
    {
     "name": "stdout",
     "output_type": "stream",
     "text": [
      "Epoch 9 | Avg Loss: 0.3701 | Avg Precision: 82.39%\n"
     ]
    },
    {
     "name": "stderr",
     "output_type": "stream",
     "text": [
      "Validate: 100%|\u001B[34m█████████████████████\u001B[0m| 890/890 [02:20<00:00,  6.32batch/s, Loss: 0.3699 | Precision: 82.73%]\u001B[0m\n"
     ]
    },
    {
     "name": "stdout",
     "output_type": "stream",
     "text": [
      "Epoch 9 | Avg Loss: 0.3697 | Avg Precision: 82.72% | Patience: 2\n"
     ]
    },
    {
     "name": "stderr",
     "output_type": "stream",
     "text": [
      "Train: 100%|\u001B[32m██████████████████████\u001B[0m| 3560/3560 [09:52<00:00,  6.01batch/s, Loss: 0.3853 | Precision: 82.64%]\u001B[0m"
     ]
    },
    {
     "name": "stdout",
     "output_type": "stream",
     "text": [
      "Epoch 10 | Avg Loss: 0.3669 | Avg Precision: 82.54%\n",
      "Training Complete\n"
     ]
    },
    {
     "name": "stderr",
     "output_type": "stream",
     "text": [
      "\n"
     ]
    }
   ],
   "source": [
    "model = LSTMnet(9, 150, 1, 4)\n",
    "model = model.to(device)\n",
    "criterion = nn.CrossEntropyLoss()\n",
    "optimizer = optim.Adam(model.parameters(), lr=.02)\n",
    "scheduler = ReduceLROnPlateau(optimizer, 'max', factor=.8, patience=2, min_lr=.001)\n",
    "epochs = 10\n",
    "\n",
    "model6 = train_validate(model, criterion, optimizer, scheduler, epochs, train_loader, val_loader)\n",
    "torch.save(model6.state_dict(), '.\\\\models\\\\subset\\\\lstm\\\\model6.pth')"
   ]
  },
  {
   "cell_type": "markdown",
   "id": "ad154e29-d635-4ad0-a89f-b0bea133ad36",
   "metadata": {
    "jp-MarkdownHeadingCollapsed": true
   },
   "source": [
    "#### Model 7 - Downsample"
   ]
  },
  {
   "cell_type": "code",
   "execution_count": 58,
   "id": "56b1df8f-d9e8-48a7-a7a6-832aafa3a27b",
   "metadata": {},
   "outputs": [
    {
     "name": "stderr",
     "output_type": "stream",
     "text": [
      "Train: 100%|\u001B[32m████████████████████████\u001B[0m| 295/295 [00:48<00:00,  6.03batch/s, Loss: 0.2805 | Precision: 74.84%]\u001B[0m\n"
     ]
    },
    {
     "name": "stdout",
     "output_type": "stream",
     "text": [
      "Epoch 1 | Avg Loss: 0.4961 | Avg Precision: 72.52%\n"
     ]
    },
    {
     "name": "stderr",
     "output_type": "stream",
     "text": [
      "Train: 100%|\u001B[32m████████████████████████\u001B[0m| 295/295 [00:48<00:00,  6.06batch/s, Loss: 0.2102 | Precision: 78.18%]\u001B[0m\n"
     ]
    },
    {
     "name": "stdout",
     "output_type": "stream",
     "text": [
      "Epoch 2 | Avg Loss: 0.4336 | Avg Precision: 77.37%\n"
     ]
    },
    {
     "name": "stderr",
     "output_type": "stream",
     "text": [
      "Train: 100%|\u001B[32m████████████████████████\u001B[0m| 295/295 [00:48<00:00,  6.03batch/s, Loss: 0.1772 | Precision: 79.39%]\u001B[0m\n"
     ]
    },
    {
     "name": "stdout",
     "output_type": "stream",
     "text": [
      "Epoch 3 | Avg Loss: 0.4130 | Avg Precision: 78.86%\n"
     ]
    },
    {
     "name": "stderr",
     "output_type": "stream",
     "text": [
      "Validate: 100%|\u001B[34m███████████████████████\u001B[0m| 74/74 [00:11<00:00,  6.46batch/s, Loss: 0.4952 | Precision: 77.80%]\u001B[0m\n"
     ]
    },
    {
     "name": "stdout",
     "output_type": "stream",
     "text": [
      "Epoch 3 | Avg Loss: 0.4984 | Avg Precision: 77.90% | Patience: 0\n"
     ]
    },
    {
     "name": "stderr",
     "output_type": "stream",
     "text": [
      "Train: 100%|\u001B[32m████████████████████████\u001B[0m| 295/295 [00:48<00:00,  6.07batch/s, Loss: 0.2602 | Precision: 79.32%]\u001B[0m\n"
     ]
    },
    {
     "name": "stdout",
     "output_type": "stream",
     "text": [
      "Epoch 4 | Avg Loss: 0.4163 | Avg Precision: 78.44%\n"
     ]
    },
    {
     "name": "stderr",
     "output_type": "stream",
     "text": [
      "Train: 100%|\u001B[32m████████████████████████\u001B[0m| 295/295 [00:48<00:00,  6.08batch/s, Loss: 0.2325 | Precision: 80.32%]\u001B[0m\n"
     ]
    },
    {
     "name": "stdout",
     "output_type": "stream",
     "text": [
      "Epoch 5 | Avg Loss: 0.4014 | Avg Precision: 80.16%\n"
     ]
    },
    {
     "name": "stderr",
     "output_type": "stream",
     "text": [
      "Train: 100%|\u001B[32m████████████████████████\u001B[0m| 295/295 [00:48<00:00,  6.06batch/s, Loss: 0.1946 | Precision: 80.81%]\u001B[0m\n"
     ]
    },
    {
     "name": "stdout",
     "output_type": "stream",
     "text": [
      "Epoch 6 | Avg Loss: 0.3918 | Avg Precision: 80.74%\n"
     ]
    },
    {
     "name": "stderr",
     "output_type": "stream",
     "text": [
      "Validate: 100%|\u001B[34m███████████████████████\u001B[0m| 74/74 [00:11<00:00,  6.39batch/s, Loss: 0.4224 | Precision: 81.34%]\u001B[0m\n"
     ]
    },
    {
     "name": "stdout",
     "output_type": "stream",
     "text": [
      "Epoch 6 | Avg Loss: 0.4042 | Avg Precision: 81.30% | Patience: 0\n"
     ]
    },
    {
     "name": "stderr",
     "output_type": "stream",
     "text": [
      "Train: 100%|\u001B[32m████████████████████████\u001B[0m| 295/295 [00:48<00:00,  6.12batch/s, Loss: 0.2006 | Precision: 81.15%]\u001B[0m\n"
     ]
    },
    {
     "name": "stdout",
     "output_type": "stream",
     "text": [
      "Epoch 7 | Avg Loss: 0.3863 | Avg Precision: 81.04%\n"
     ]
    },
    {
     "name": "stderr",
     "output_type": "stream",
     "text": [
      "Train: 100%|\u001B[32m████████████████████████\u001B[0m| 295/295 [00:48<00:00,  6.10batch/s, Loss: 0.1980 | Precision: 81.02%]\u001B[0m\n"
     ]
    },
    {
     "name": "stdout",
     "output_type": "stream",
     "text": [
      "Epoch 8 | Avg Loss: 0.3888 | Avg Precision: 81.03%\n"
     ]
    },
    {
     "name": "stderr",
     "output_type": "stream",
     "text": [
      "Train: 100%|\u001B[32m████████████████████████\u001B[0m| 295/295 [00:48<00:00,  6.04batch/s, Loss: 0.1653 | Precision: 81.12%]\u001B[0m\n"
     ]
    },
    {
     "name": "stdout",
     "output_type": "stream",
     "text": [
      "Epoch 9 | Avg Loss: 0.3876 | Avg Precision: 80.80%\n"
     ]
    },
    {
     "name": "stderr",
     "output_type": "stream",
     "text": [
      "Validate: 100%|\u001B[34m███████████████████████\u001B[0m| 74/74 [00:11<00:00,  6.33batch/s, Loss: 0.4525 | Precision: 79.23%]\u001B[0m\n"
     ]
    },
    {
     "name": "stdout",
     "output_type": "stream",
     "text": [
      "Epoch 9 | Avg Loss: 0.4031 | Avg Precision: 79.38% | Patience: 1\n"
     ]
    },
    {
     "name": "stderr",
     "output_type": "stream",
     "text": [
      "Train: 100%|\u001B[32m████████████████████████\u001B[0m| 295/295 [00:48<00:00,  6.06batch/s, Loss: 0.1704 | Precision: 81.38%]\u001B[0m\n"
     ]
    },
    {
     "name": "stdout",
     "output_type": "stream",
     "text": [
      "Epoch 10 | Avg Loss: 0.3820 | Avg Precision: 81.32%\n"
     ]
    },
    {
     "name": "stderr",
     "output_type": "stream",
     "text": [
      "Train: 100%|\u001B[32m████████████████████████\u001B[0m| 295/295 [00:48<00:00,  6.03batch/s, Loss: 0.1554 | Precision: 81.61%]\u001B[0m\n"
     ]
    },
    {
     "name": "stdout",
     "output_type": "stream",
     "text": [
      "Epoch 11 | Avg Loss: 0.3781 | Avg Precision: 81.57%\n"
     ]
    },
    {
     "name": "stderr",
     "output_type": "stream",
     "text": [
      "Train: 100%|\u001B[32m████████████████████████\u001B[0m| 295/295 [00:48<00:00,  6.07batch/s, Loss: 0.1442 | Precision: 81.71%]\u001B[0m\n"
     ]
    },
    {
     "name": "stdout",
     "output_type": "stream",
     "text": [
      "Epoch 12 | Avg Loss: 0.3767 | Avg Precision: 81.54%\n"
     ]
    },
    {
     "name": "stderr",
     "output_type": "stream",
     "text": [
      "Validate: 100%|\u001B[34m███████████████████████\u001B[0m| 74/74 [00:11<00:00,  6.32batch/s, Loss: 0.4587 | Precision: 78.97%]\u001B[0m\n"
     ]
    },
    {
     "name": "stdout",
     "output_type": "stream",
     "text": [
      "Epoch 12 | Avg Loss: 0.4079 | Avg Precision: 79.09% | Patience: 2\n"
     ]
    },
    {
     "name": "stderr",
     "output_type": "stream",
     "text": [
      "Train: 100%|\u001B[32m████████████████████████\u001B[0m| 295/295 [00:48<00:00,  6.05batch/s, Loss: 0.1323 | Precision: 81.87%]\u001B[0m\n"
     ]
    },
    {
     "name": "stdout",
     "output_type": "stream",
     "text": [
      "Epoch 13 | Avg Loss: 0.3742 | Avg Precision: 81.76%\n"
     ]
    },
    {
     "name": "stderr",
     "output_type": "stream",
     "text": [
      "Train: 100%|\u001B[32m████████████████████████\u001B[0m| 295/295 [00:48<00:00,  6.05batch/s, Loss: 0.1384 | Precision: 81.93%]\u001B[0m\n"
     ]
    },
    {
     "name": "stdout",
     "output_type": "stream",
     "text": [
      "Epoch 14 | Avg Loss: 0.3733 | Avg Precision: 81.85%\n"
     ]
    },
    {
     "name": "stderr",
     "output_type": "stream",
     "text": [
      "Train: 100%|\u001B[32m████████████████████████\u001B[0m| 295/295 [00:48<00:00,  6.07batch/s, Loss: 0.1721 | Precision: 81.93%]\u001B[0m\n"
     ]
    },
    {
     "name": "stdout",
     "output_type": "stream",
     "text": [
      "Epoch 15 | Avg Loss: 0.3753 | Avg Precision: 81.73%\n"
     ]
    },
    {
     "name": "stderr",
     "output_type": "stream",
     "text": [
      "Validate: 100%|\u001B[34m███████████████████████\u001B[0m| 74/74 [00:11<00:00,  6.29batch/s, Loss: 0.4192 | Precision: 80.78%]\u001B[0m\n"
     ]
    },
    {
     "name": "stdout",
     "output_type": "stream",
     "text": [
      "Epoch 15 | Avg Loss: 0.3797 | Avg Precision: 80.86% | Patience: 3\n"
     ]
    },
    {
     "name": "stderr",
     "output_type": "stream",
     "text": [
      "Train: 100%|\u001B[32m████████████████████████\u001B[0m| 295/295 [00:48<00:00,  6.05batch/s, Loss: 0.1218 | Precision: 82.09%]\u001B[0m\n"
     ]
    },
    {
     "name": "stdout",
     "output_type": "stream",
     "text": [
      "Epoch 16 | Avg Loss: 0.3707 | Avg Precision: 82.05%\n"
     ]
    },
    {
     "name": "stderr",
     "output_type": "stream",
     "text": [
      "Train: 100%|\u001B[32m████████████████████████\u001B[0m| 295/295 [00:48<00:00,  6.05batch/s, Loss: 0.1310 | Precision: 82.07%]\u001B[0m\n"
     ]
    },
    {
     "name": "stdout",
     "output_type": "stream",
     "text": [
      "Epoch 17 | Avg Loss: 0.3709 | Avg Precision: 81.97%\n"
     ]
    },
    {
     "name": "stderr",
     "output_type": "stream",
     "text": [
      "Train: 100%|\u001B[32m████████████████████████\u001B[0m| 295/295 [00:48<00:00,  6.02batch/s, Loss: 0.1401 | Precision: 82.11%]\u001B[0m\n"
     ]
    },
    {
     "name": "stdout",
     "output_type": "stream",
     "text": [
      "Epoch 18 | Avg Loss: 0.3699 | Avg Precision: 82.09%\n"
     ]
    },
    {
     "name": "stderr",
     "output_type": "stream",
     "text": [
      "Validate: 100%|\u001B[34m███████████████████████\u001B[0m| 74/74 [00:11<00:00,  6.34batch/s, Loss: 0.4382 | Precision: 80.31%]\u001B[0m\n"
     ]
    },
    {
     "name": "stdout",
     "output_type": "stream",
     "text": [
      "Epoch 18 | Avg Loss: 0.3940 | Avg Precision: 80.45% | Patience: 4\n"
     ]
    },
    {
     "name": "stderr",
     "output_type": "stream",
     "text": [
      "Train: 100%|\u001B[32m████████████████████████\u001B[0m| 295/295 [00:48<00:00,  6.11batch/s, Loss: 0.1463 | Precision: 82.32%]\u001B[0m\n"
     ]
    },
    {
     "name": "stdout",
     "output_type": "stream",
     "text": [
      "Epoch 19 | Avg Loss: 0.3671 | Avg Precision: 82.33%\n"
     ]
    },
    {
     "name": "stderr",
     "output_type": "stream",
     "text": [
      "Train: 100%|\u001B[32m████████████████████████\u001B[0m| 295/295 [00:48<00:00,  6.08batch/s, Loss: 0.1428 | Precision: 82.25%]\u001B[0m\n"
     ]
    },
    {
     "name": "stdout",
     "output_type": "stream",
     "text": [
      "Epoch 20 | Avg Loss: 0.3690 | Avg Precision: 82.18%\n"
     ]
    },
    {
     "name": "stderr",
     "output_type": "stream",
     "text": [
      "Train: 100%|\u001B[32m████████████████████████\u001B[0m| 295/295 [00:48<00:00,  6.11batch/s, Loss: 0.1466 | Precision: 82.38%]\u001B[0m\n"
     ]
    },
    {
     "name": "stdout",
     "output_type": "stream",
     "text": [
      "Epoch 21 | Avg Loss: 0.3656 | Avg Precision: 82.32%\n"
     ]
    },
    {
     "name": "stderr",
     "output_type": "stream",
     "text": [
      "Validate: 100%|\u001B[34m███████████████████████\u001B[0m| 74/74 [00:11<00:00,  6.40batch/s, Loss: 0.4120 | Precision: 81.36%]\u001B[0m\n"
     ]
    },
    {
     "name": "stdout",
     "output_type": "stream",
     "text": [
      "Epoch 21 | Avg Loss: 0.3798 | Avg Precision: 81.43% | Patience: 0\n"
     ]
    },
    {
     "name": "stderr",
     "output_type": "stream",
     "text": [
      "Train: 100%|\u001B[32m████████████████████████\u001B[0m| 295/295 [00:48<00:00,  6.08batch/s, Loss: 0.1328 | Precision: 82.43%]\u001B[0m\n"
     ]
    },
    {
     "name": "stdout",
     "output_type": "stream",
     "text": [
      "Epoch 22 | Avg Loss: 0.3653 | Avg Precision: 82.48%\n"
     ]
    },
    {
     "name": "stderr",
     "output_type": "stream",
     "text": [
      "Train: 100%|\u001B[32m████████████████████████\u001B[0m| 295/295 [00:48<00:00,  6.07batch/s, Loss: 0.1366 | Precision: 82.42%]\u001B[0m\n"
     ]
    },
    {
     "name": "stdout",
     "output_type": "stream",
     "text": [
      "Epoch 23 | Avg Loss: 0.3652 | Avg Precision: 82.46%\n"
     ]
    },
    {
     "name": "stderr",
     "output_type": "stream",
     "text": [
      "Train: 100%|\u001B[32m████████████████████████\u001B[0m| 295/295 [00:49<00:00,  6.00batch/s, Loss: 0.1578 | Precision: 82.55%]\u001B[0m\n"
     ]
    },
    {
     "name": "stdout",
     "output_type": "stream",
     "text": [
      "Epoch 24 | Avg Loss: 0.3636 | Avg Precision: 82.58%\n"
     ]
    },
    {
     "name": "stderr",
     "output_type": "stream",
     "text": [
      "Validate: 100%|\u001B[34m███████████████████████\u001B[0m| 74/74 [00:11<00:00,  6.36batch/s, Loss: 0.4011 | Precision: 81.03%]\u001B[0m\n"
     ]
    },
    {
     "name": "stdout",
     "output_type": "stream",
     "text": [
      "Epoch 24 | Avg Loss: 0.3844 | Avg Precision: 81.15% | Patience: 1\n"
     ]
    },
    {
     "name": "stderr",
     "output_type": "stream",
     "text": [
      "Train: 100%|\u001B[32m████████████████████████\u001B[0m| 295/295 [00:48<00:00,  6.10batch/s, Loss: 0.1465 | Precision: 82.50%]\u001B[0m\n"
     ]
    },
    {
     "name": "stdout",
     "output_type": "stream",
     "text": [
      "Epoch 25 | Avg Loss: 0.3644 | Avg Precision: 82.38%\n"
     ]
    },
    {
     "name": "stderr",
     "output_type": "stream",
     "text": [
      "Train: 100%|\u001B[32m████████████████████████\u001B[0m| 295/295 [00:48<00:00,  6.07batch/s, Loss: 0.1360 | Precision: 82.49%]\u001B[0m\n"
     ]
    },
    {
     "name": "stdout",
     "output_type": "stream",
     "text": [
      "Epoch 26 | Avg Loss: 0.3642 | Avg Precision: 82.47%\n"
     ]
    },
    {
     "name": "stderr",
     "output_type": "stream",
     "text": [
      "Train: 100%|\u001B[32m████████████████████████\u001B[0m| 295/295 [00:48<00:00,  6.11batch/s, Loss: 0.1593 | Precision: 82.54%]\u001B[0m\n"
     ]
    },
    {
     "name": "stdout",
     "output_type": "stream",
     "text": [
      "Epoch 27 | Avg Loss: 0.3633 | Avg Precision: 82.53%\n"
     ]
    },
    {
     "name": "stderr",
     "output_type": "stream",
     "text": [
      "Validate: 100%|\u001B[34m███████████████████████\u001B[0m| 74/74 [00:11<00:00,  6.40batch/s, Loss: 0.3809 | Precision: 82.13%]\u001B[0m\n"
     ]
    },
    {
     "name": "stdout",
     "output_type": "stream",
     "text": [
      "Epoch 27 | Avg Loss: 0.3693 | Avg Precision: 82.28% | Patience: 0\n"
     ]
    },
    {
     "name": "stderr",
     "output_type": "stream",
     "text": [
      "Train: 100%|\u001B[32m████████████████████████\u001B[0m| 295/295 [00:48<00:00,  6.10batch/s, Loss: 0.1556 | Precision: 82.56%]\u001B[0m\n"
     ]
    },
    {
     "name": "stdout",
     "output_type": "stream",
     "text": [
      "Epoch 28 | Avg Loss: 0.3645 | Avg Precision: 82.54%\n"
     ]
    },
    {
     "name": "stderr",
     "output_type": "stream",
     "text": [
      "Train: 100%|\u001B[32m████████████████████████\u001B[0m| 295/295 [00:48<00:00,  6.10batch/s, Loss: 0.1301 | Precision: 82.52%]\u001B[0m\n"
     ]
    },
    {
     "name": "stdout",
     "output_type": "stream",
     "text": [
      "Epoch 29 | Avg Loss: 0.3639 | Avg Precision: 82.34%\n"
     ]
    },
    {
     "name": "stderr",
     "output_type": "stream",
     "text": [
      "Train: 100%|\u001B[32m████████████████████████\u001B[0m| 295/295 [00:48<00:00,  6.07batch/s, Loss: 0.1305 | Precision: 82.54%]\u001B[0m\n"
     ]
    },
    {
     "name": "stdout",
     "output_type": "stream",
     "text": [
      "Epoch 30 | Avg Loss: 0.3623 | Avg Precision: 82.49%\n"
     ]
    },
    {
     "name": "stderr",
     "output_type": "stream",
     "text": [
      "Validate: 100%|\u001B[34m███████████████████████\u001B[0m| 74/74 [00:11<00:00,  6.40batch/s, Loss: 0.3972 | Precision: 80.67%]\u001B[0m\n"
     ]
    },
    {
     "name": "stdout",
     "output_type": "stream",
     "text": [
      "Epoch 30 | Avg Loss: 0.3838 | Avg Precision: 80.75% | Patience: 1\n"
     ]
    },
    {
     "name": "stderr",
     "output_type": "stream",
     "text": [
      "Train: 100%|\u001B[32m████████████████████████\u001B[0m| 295/295 [00:48<00:00,  6.10batch/s, Loss: 0.1706 | Precision: 82.50%]\u001B[0m\n"
     ]
    },
    {
     "name": "stdout",
     "output_type": "stream",
     "text": [
      "Epoch 31 | Avg Loss: 0.3652 | Avg Precision: 82.44%\n"
     ]
    },
    {
     "name": "stderr",
     "output_type": "stream",
     "text": [
      "Train: 100%|\u001B[32m████████████████████████\u001B[0m| 295/295 [00:48<00:00,  6.06batch/s, Loss: 0.1425 | Precision: 82.59%]\u001B[0m\n"
     ]
    },
    {
     "name": "stdout",
     "output_type": "stream",
     "text": [
      "Epoch 32 | Avg Loss: 0.3630 | Avg Precision: 82.43%\n"
     ]
    },
    {
     "name": "stderr",
     "output_type": "stream",
     "text": [
      "Train: 100%|\u001B[32m████████████████████████\u001B[0m| 295/295 [00:48<00:00,  6.07batch/s, Loss: 0.1480 | Precision: 82.64%]\u001B[0m\n"
     ]
    },
    {
     "name": "stdout",
     "output_type": "stream",
     "text": [
      "Epoch 33 | Avg Loss: 0.3622 | Avg Precision: 82.59%\n"
     ]
    },
    {
     "name": "stderr",
     "output_type": "stream",
     "text": [
      "Validate: 100%|\u001B[34m███████████████████████\u001B[0m| 74/74 [00:11<00:00,  6.41batch/s, Loss: 0.3923 | Precision: 81.74%]\u001B[0m\n"
     ]
    },
    {
     "name": "stdout",
     "output_type": "stream",
     "text": [
      "Epoch 33 | Avg Loss: 0.3694 | Avg Precision: 81.80% | Patience: 2\n"
     ]
    },
    {
     "name": "stderr",
     "output_type": "stream",
     "text": [
      "Train: 100%|\u001B[32m████████████████████████\u001B[0m| 295/295 [00:48<00:00,  6.07batch/s, Loss: 0.1641 | Precision: 82.75%]\u001B[0m\n"
     ]
    },
    {
     "name": "stdout",
     "output_type": "stream",
     "text": [
      "Epoch 34 | Avg Loss: 0.3603 | Avg Precision: 82.80%\n"
     ]
    },
    {
     "name": "stderr",
     "output_type": "stream",
     "text": [
      "Train: 100%|\u001B[32m████████████████████████\u001B[0m| 295/295 [00:48<00:00,  6.08batch/s, Loss: 0.1564 | Precision: 82.65%]\u001B[0m\n"
     ]
    },
    {
     "name": "stdout",
     "output_type": "stream",
     "text": [
      "Epoch 35 | Avg Loss: 0.3614 | Avg Precision: 82.64%\n"
     ]
    },
    {
     "name": "stderr",
     "output_type": "stream",
     "text": [
      "Train: 100%|\u001B[32m████████████████████████\u001B[0m| 295/295 [00:48<00:00,  6.10batch/s, Loss: 0.1986 | Precision: 82.70%]\u001B[0m\n"
     ]
    },
    {
     "name": "stdout",
     "output_type": "stream",
     "text": [
      "Epoch 36 | Avg Loss: 0.3600 | Avg Precision: 82.88%\n"
     ]
    },
    {
     "name": "stderr",
     "output_type": "stream",
     "text": [
      "Validate: 100%|\u001B[34m███████████████████████\u001B[0m| 74/74 [00:11<00:00,  6.39batch/s, Loss: 0.4008 | Precision: 82.50%]\u001B[0m\n"
     ]
    },
    {
     "name": "stdout",
     "output_type": "stream",
     "text": [
      "Epoch 36 | Avg Loss: 0.3797 | Avg Precision: 82.51% | Patience: 0\n"
     ]
    },
    {
     "name": "stderr",
     "output_type": "stream",
     "text": [
      "Train: 100%|\u001B[32m████████████████████████\u001B[0m| 295/295 [00:48<00:00,  6.11batch/s, Loss: 0.1622 | Precision: 82.76%]\u001B[0m\n"
     ]
    },
    {
     "name": "stdout",
     "output_type": "stream",
     "text": [
      "Epoch 37 | Avg Loss: 0.3600 | Avg Precision: 82.70%\n"
     ]
    },
    {
     "name": "stderr",
     "output_type": "stream",
     "text": [
      "Train: 100%|\u001B[32m████████████████████████\u001B[0m| 295/295 [00:48<00:00,  6.08batch/s, Loss: 0.1673 | Precision: 82.67%]\u001B[0m\n"
     ]
    },
    {
     "name": "stdout",
     "output_type": "stream",
     "text": [
      "Epoch 38 | Avg Loss: 0.3609 | Avg Precision: 82.75%\n"
     ]
    },
    {
     "name": "stderr",
     "output_type": "stream",
     "text": [
      "Train: 100%|\u001B[32m████████████████████████\u001B[0m| 295/295 [00:48<00:00,  6.08batch/s, Loss: 0.1745 | Precision: 82.78%]\u001B[0m\n"
     ]
    },
    {
     "name": "stdout",
     "output_type": "stream",
     "text": [
      "Epoch 39 | Avg Loss: 0.3595 | Avg Precision: 82.92%\n"
     ]
    },
    {
     "name": "stderr",
     "output_type": "stream",
     "text": [
      "Validate: 100%|\u001B[34m███████████████████████\u001B[0m| 74/74 [00:11<00:00,  6.38batch/s, Loss: 0.3680 | Precision: 83.19%]\u001B[0m\n"
     ]
    },
    {
     "name": "stdout",
     "output_type": "stream",
     "text": [
      "Epoch 39 | Avg Loss: 0.3651 | Avg Precision: 83.21% | Patience: 0\n"
     ]
    },
    {
     "name": "stderr",
     "output_type": "stream",
     "text": [
      "Train: 100%|\u001B[32m████████████████████████\u001B[0m| 295/295 [00:48<00:00,  6.08batch/s, Loss: 0.1670 | Precision: 82.87%]\u001B[0m\n"
     ]
    },
    {
     "name": "stdout",
     "output_type": "stream",
     "text": [
      "Epoch 40 | Avg Loss: 0.3577 | Avg Precision: 82.97%\n"
     ]
    },
    {
     "name": "stderr",
     "output_type": "stream",
     "text": [
      "Train: 100%|\u001B[32m████████████████████████\u001B[0m| 295/295 [00:48<00:00,  6.10batch/s, Loss: 0.1416 | Precision: 82.79%]\u001B[0m\n"
     ]
    },
    {
     "name": "stdout",
     "output_type": "stream",
     "text": [
      "Epoch 41 | Avg Loss: 0.3591 | Avg Precision: 82.83%\n"
     ]
    },
    {
     "name": "stderr",
     "output_type": "stream",
     "text": [
      "Train: 100%|\u001B[32m████████████████████████\u001B[0m| 295/295 [00:48<00:00,  6.10batch/s, Loss: 0.1581 | Precision: 82.90%]\u001B[0m\n"
     ]
    },
    {
     "name": "stdout",
     "output_type": "stream",
     "text": [
      "Epoch 42 | Avg Loss: 0.3572 | Avg Precision: 83.01%\n"
     ]
    },
    {
     "name": "stderr",
     "output_type": "stream",
     "text": [
      "Validate: 100%|\u001B[34m███████████████████████\u001B[0m| 74/74 [00:11<00:00,  6.40batch/s, Loss: 0.3763 | Precision: 82.73%]\u001B[0m\n"
     ]
    },
    {
     "name": "stdout",
     "output_type": "stream",
     "text": [
      "Epoch 42 | Avg Loss: 0.3713 | Avg Precision: 82.69% | Patience: 1\n"
     ]
    },
    {
     "name": "stderr",
     "output_type": "stream",
     "text": [
      "Train: 100%|\u001B[32m████████████████████████\u001B[0m| 295/295 [00:48<00:00,  6.08batch/s, Loss: 0.1560 | Precision: 82.86%]\u001B[0m\n"
     ]
    },
    {
     "name": "stdout",
     "output_type": "stream",
     "text": [
      "Epoch 43 | Avg Loss: 0.3578 | Avg Precision: 82.93%\n"
     ]
    },
    {
     "name": "stderr",
     "output_type": "stream",
     "text": [
      "Train: 100%|\u001B[32m████████████████████████\u001B[0m| 295/295 [00:48<00:00,  6.09batch/s, Loss: 0.1416 | Precision: 82.75%]\u001B[0m\n"
     ]
    },
    {
     "name": "stdout",
     "output_type": "stream",
     "text": [
      "Epoch 44 | Avg Loss: 0.3610 | Avg Precision: 82.90%\n"
     ]
    },
    {
     "name": "stderr",
     "output_type": "stream",
     "text": [
      "Train: 100%|\u001B[32m████████████████████████\u001B[0m| 295/295 [00:48<00:00,  6.09batch/s, Loss: 0.1514 | Precision: 82.76%]\u001B[0m\n"
     ]
    },
    {
     "name": "stdout",
     "output_type": "stream",
     "text": [
      "Epoch 45 | Avg Loss: 0.3599 | Avg Precision: 82.77%\n"
     ]
    },
    {
     "name": "stderr",
     "output_type": "stream",
     "text": [
      "Validate: 100%|\u001B[34m███████████████████████\u001B[0m| 74/74 [00:11<00:00,  6.40batch/s, Loss: 0.3712 | Precision: 83.34%]\u001B[0m\n"
     ]
    },
    {
     "name": "stdout",
     "output_type": "stream",
     "text": [
      "Epoch 45 | Avg Loss: 0.3611 | Avg Precision: 83.32% | Patience: 0\n"
     ]
    },
    {
     "name": "stderr",
     "output_type": "stream",
     "text": [
      "Train: 100%|\u001B[32m████████████████████████\u001B[0m| 295/295 [00:48<00:00,  6.12batch/s, Loss: 0.1965 | Precision: 82.92%]\u001B[0m\n"
     ]
    },
    {
     "name": "stdout",
     "output_type": "stream",
     "text": [
      "Epoch 46 | Avg Loss: 0.3565 | Avg Precision: 83.07%\n"
     ]
    },
    {
     "name": "stderr",
     "output_type": "stream",
     "text": [
      "Train: 100%|\u001B[32m████████████████████████\u001B[0m| 295/295 [00:48<00:00,  6.06batch/s, Loss: 0.1510 | Precision: 82.80%]\u001B[0m\n"
     ]
    },
    {
     "name": "stdout",
     "output_type": "stream",
     "text": [
      "Epoch 47 | Avg Loss: 0.3591 | Avg Precision: 82.91%\n"
     ]
    },
    {
     "name": "stderr",
     "output_type": "stream",
     "text": [
      "Train: 100%|\u001B[32m████████████████████████\u001B[0m| 295/295 [00:48<00:00,  6.13batch/s, Loss: 0.1903 | Precision: 82.49%]\u001B[0m\n"
     ]
    },
    {
     "name": "stdout",
     "output_type": "stream",
     "text": [
      "Epoch 48 | Avg Loss: 0.3666 | Avg Precision: 83.06%\n"
     ]
    },
    {
     "name": "stderr",
     "output_type": "stream",
     "text": [
      "Validate: 100%|\u001B[34m███████████████████████\u001B[0m| 74/74 [00:11<00:00,  6.42batch/s, Loss: 0.4307 | Precision: 81.96%]\u001B[0m\n"
     ]
    },
    {
     "name": "stdout",
     "output_type": "stream",
     "text": [
      "Epoch 48 | Avg Loss: 0.4178 | Avg Precision: 82.10% | Patience: 1\n"
     ]
    },
    {
     "name": "stderr",
     "output_type": "stream",
     "text": [
      "Train: 100%|\u001B[32m████████████████████████\u001B[0m| 295/295 [00:48<00:00,  6.12batch/s, Loss: 0.1805 | Precision: 81.80%]\u001B[0m\n"
     ]
    },
    {
     "name": "stdout",
     "output_type": "stream",
     "text": [
      "Epoch 49 | Avg Loss: 0.3755 | Avg Precision: 81.51%\n"
     ]
    },
    {
     "name": "stderr",
     "output_type": "stream",
     "text": [
      "Train: 100%|\u001B[32m████████████████████████\u001B[0m| 295/295 [00:48<00:00,  6.05batch/s, Loss: 0.1390 | Precision: 82.11%]\u001B[0m\n"
     ]
    },
    {
     "name": "stdout",
     "output_type": "stream",
     "text": [
      "Epoch 50 | Avg Loss: 0.3695 | Avg Precision: 81.87%\n"
     ]
    },
    {
     "name": "stderr",
     "output_type": "stream",
     "text": [
      "Train: 100%|\u001B[32m████████████████████████\u001B[0m| 295/295 [00:49<00:00,  6.01batch/s, Loss: 0.1334 | Precision: 82.32%]\u001B[0m\n"
     ]
    },
    {
     "name": "stdout",
     "output_type": "stream",
     "text": [
      "Epoch 51 | Avg Loss: 0.3671 | Avg Precision: 82.26%\n"
     ]
    },
    {
     "name": "stderr",
     "output_type": "stream",
     "text": [
      "Validate: 100%|\u001B[34m███████████████████████\u001B[0m| 74/74 [00:11<00:00,  6.39batch/s, Loss: 0.4107 | Precision: 81.71%]\u001B[0m\n"
     ]
    },
    {
     "name": "stdout",
     "output_type": "stream",
     "text": [
      "Epoch 51 | Avg Loss: 0.3783 | Avg Precision: 81.85% | Patience: 2\n"
     ]
    },
    {
     "name": "stderr",
     "output_type": "stream",
     "text": [
      "Train: 100%|\u001B[32m████████████████████████\u001B[0m| 295/295 [00:47<00:00,  6.15batch/s, Loss: 0.1858 | Precision: 82.44%]\u001B[0m\n"
     ]
    },
    {
     "name": "stdout",
     "output_type": "stream",
     "text": [
      "Epoch 52 | Avg Loss: 0.3649 | Avg Precision: 82.56%\n"
     ]
    },
    {
     "name": "stderr",
     "output_type": "stream",
     "text": [
      "Train: 100%|\u001B[32m████████████████████████\u001B[0m| 295/295 [00:48<00:00,  6.11batch/s, Loss: 0.1874 | Precision: 82.24%]\u001B[0m\n"
     ]
    },
    {
     "name": "stdout",
     "output_type": "stream",
     "text": [
      "Epoch 53 | Avg Loss: 0.3683 | Avg Precision: 82.32%\n"
     ]
    },
    {
     "name": "stderr",
     "output_type": "stream",
     "text": [
      "Train: 100%|\u001B[32m████████████████████████\u001B[0m| 295/295 [00:48<00:00,  6.14batch/s, Loss: 0.1668 | Precision: 82.55%]\u001B[0m\n"
     ]
    },
    {
     "name": "stdout",
     "output_type": "stream",
     "text": [
      "Epoch 54 | Avg Loss: 0.3626 | Avg Precision: 82.54%\n"
     ]
    },
    {
     "name": "stderr",
     "output_type": "stream",
     "text": [
      "Validate: 100%|\u001B[34m███████████████████████\u001B[0m| 74/74 [00:11<00:00,  6.44batch/s, Loss: 0.3986 | Precision: 83.02%]\u001B[0m\n"
     ]
    },
    {
     "name": "stdout",
     "output_type": "stream",
     "text": [
      "Epoch 54 | Avg Loss: 0.3737 | Avg Precision: 83.01% | Patience: 3\n"
     ]
    },
    {
     "name": "stderr",
     "output_type": "stream",
     "text": [
      "Train: 100%|\u001B[32m████████████████████████\u001B[0m| 295/295 [00:48<00:00,  6.14batch/s, Loss: 0.1780 | Precision: 82.47%]\u001B[0m\n"
     ]
    },
    {
     "name": "stdout",
     "output_type": "stream",
     "text": [
      "Epoch 55 | Avg Loss: 0.3640 | Avg Precision: 82.68%\n"
     ]
    },
    {
     "name": "stderr",
     "output_type": "stream",
     "text": [
      "Train: 100%|\u001B[32m████████████████████████\u001B[0m| 295/295 [00:47<00:00,  6.15batch/s, Loss: 0.2006 | Precision: 82.54%]\u001B[0m\n"
     ]
    },
    {
     "name": "stdout",
     "output_type": "stream",
     "text": [
      "Epoch 56 | Avg Loss: 0.3622 | Avg Precision: 82.51%\n"
     ]
    },
    {
     "name": "stderr",
     "output_type": "stream",
     "text": [
      "Train: 100%|\u001B[32m████████████████████████\u001B[0m| 295/295 [00:48<00:00,  6.10batch/s, Loss: 0.1777 | Precision: 82.59%]\u001B[0m\n"
     ]
    },
    {
     "name": "stdout",
     "output_type": "stream",
     "text": [
      "Epoch 57 | Avg Loss: 0.3618 | Avg Precision: 82.44%\n"
     ]
    },
    {
     "name": "stderr",
     "output_type": "stream",
     "text": [
      "Validate: 100%|\u001B[34m███████████████████████\u001B[0m| 74/74 [00:11<00:00,  6.48batch/s, Loss: 0.4006 | Precision: 83.66%]\u001B[0m\n"
     ]
    },
    {
     "name": "stdout",
     "output_type": "stream",
     "text": [
      "Epoch 57 | Avg Loss: 0.3752 | Avg Precision: 83.64% | Patience: 0\n"
     ]
    },
    {
     "name": "stderr",
     "output_type": "stream",
     "text": [
      "Train: 100%|\u001B[32m████████████████████████\u001B[0m| 295/295 [00:48<00:00,  6.10batch/s, Loss: 0.1599 | Precision: 82.68%]\u001B[0m\n"
     ]
    },
    {
     "name": "stdout",
     "output_type": "stream",
     "text": [
      "Epoch 58 | Avg Loss: 0.3608 | Avg Precision: 82.78%\n"
     ]
    },
    {
     "name": "stderr",
     "output_type": "stream",
     "text": [
      "Train: 100%|\u001B[32m████████████████████████\u001B[0m| 295/295 [00:48<00:00,  6.09batch/s, Loss: 0.1725 | Precision: 82.71%]\u001B[0m\n"
     ]
    },
    {
     "name": "stdout",
     "output_type": "stream",
     "text": [
      "Epoch 59 | Avg Loss: 0.3598 | Avg Precision: 82.86%\n"
     ]
    },
    {
     "name": "stderr",
     "output_type": "stream",
     "text": [
      "Train: 100%|\u001B[32m████████████████████████\u001B[0m| 295/295 [00:48<00:00,  6.15batch/s, Loss: 0.1506 | Precision: 82.70%]\u001B[0m\n"
     ]
    },
    {
     "name": "stdout",
     "output_type": "stream",
     "text": [
      "Epoch 60 | Avg Loss: 0.3610 | Avg Precision: 82.92%\n"
     ]
    },
    {
     "name": "stderr",
     "output_type": "stream",
     "text": [
      "Validate: 100%|\u001B[34m███████████████████████\u001B[0m| 74/74 [00:11<00:00,  6.45batch/s, Loss: 0.4139 | Precision: 82.79%]\u001B[0m\n"
     ]
    },
    {
     "name": "stdout",
     "output_type": "stream",
     "text": [
      "Epoch 60 | Avg Loss: 0.3742 | Avg Precision: 82.83% | Patience: 1\n"
     ]
    },
    {
     "name": "stderr",
     "output_type": "stream",
     "text": [
      "Train: 100%|\u001B[32m████████████████████████\u001B[0m| 295/295 [00:47<00:00,  6.20batch/s, Loss: 0.1684 | Precision: 82.73%]\u001B[0m\n"
     ]
    },
    {
     "name": "stdout",
     "output_type": "stream",
     "text": [
      "Epoch 61 | Avg Loss: 0.3598 | Avg Precision: 82.85%\n"
     ]
    },
    {
     "name": "stderr",
     "output_type": "stream",
     "text": [
      "Train: 100%|\u001B[32m████████████████████████\u001B[0m| 295/295 [00:47<00:00,  6.16batch/s, Loss: 0.1725 | Precision: 82.63%]\u001B[0m\n"
     ]
    },
    {
     "name": "stdout",
     "output_type": "stream",
     "text": [
      "Epoch 62 | Avg Loss: 0.3610 | Avg Precision: 82.80%\n"
     ]
    },
    {
     "name": "stderr",
     "output_type": "stream",
     "text": [
      "Train: 100%|\u001B[32m████████████████████████\u001B[0m| 295/295 [00:48<00:00,  6.14batch/s, Loss: 0.1709 | Precision: 82.68%]\u001B[0m\n"
     ]
    },
    {
     "name": "stdout",
     "output_type": "stream",
     "text": [
      "Epoch 63 | Avg Loss: 0.3608 | Avg Precision: 82.80%\n"
     ]
    },
    {
     "name": "stderr",
     "output_type": "stream",
     "text": [
      "Validate: 100%|\u001B[34m███████████████████████\u001B[0m| 74/74 [00:11<00:00,  6.47batch/s, Loss: 0.3938 | Precision: 82.96%]\u001B[0m\n"
     ]
    },
    {
     "name": "stdout",
     "output_type": "stream",
     "text": [
      "Epoch 63 | Avg Loss: 0.3730 | Avg Precision: 83.04% | Patience: 2\n"
     ]
    },
    {
     "name": "stderr",
     "output_type": "stream",
     "text": [
      "Train: 100%|\u001B[32m████████████████████████\u001B[0m| 295/295 [00:47<00:00,  6.15batch/s, Loss: 0.1746 | Precision: 82.75%]\u001B[0m\n"
     ]
    },
    {
     "name": "stdout",
     "output_type": "stream",
     "text": [
      "Epoch 64 | Avg Loss: 0.3583 | Avg Precision: 82.88%\n"
     ]
    },
    {
     "name": "stderr",
     "output_type": "stream",
     "text": [
      "Train: 100%|\u001B[32m████████████████████████\u001B[0m| 295/295 [00:47<00:00,  6.15batch/s, Loss: 0.2047 | Precision: 82.88%]\u001B[0m\n"
     ]
    },
    {
     "name": "stdout",
     "output_type": "stream",
     "text": [
      "Epoch 65 | Avg Loss: 0.3581 | Avg Precision: 82.90%\n"
     ]
    },
    {
     "name": "stderr",
     "output_type": "stream",
     "text": [
      "Train: 100%|\u001B[32m████████████████████████\u001B[0m| 295/295 [00:47<00:00,  6.16batch/s, Loss: 0.2048 | Precision: 82.70%]\u001B[0m\n"
     ]
    },
    {
     "name": "stdout",
     "output_type": "stream",
     "text": [
      "Epoch 66 | Avg Loss: 0.3602 | Avg Precision: 82.77%\n"
     ]
    },
    {
     "name": "stderr",
     "output_type": "stream",
     "text": [
      "Validate: 100%|\u001B[34m███████████████████████\u001B[0m| 74/74 [00:11<00:00,  6.42batch/s, Loss: 0.3984 | Precision: 83.15%]\u001B[0m\n"
     ]
    },
    {
     "name": "stdout",
     "output_type": "stream",
     "text": [
      "Epoch 66 | Avg Loss: 0.3677 | Avg Precision: 83.18% | Patience: 3\n"
     ]
    },
    {
     "name": "stderr",
     "output_type": "stream",
     "text": [
      "Train: 100%|\u001B[32m████████████████████████\u001B[0m| 295/295 [00:47<00:00,  6.17batch/s, Loss: 0.1714 | Precision: 82.93%]\u001B[0m\n"
     ]
    },
    {
     "name": "stdout",
     "output_type": "stream",
     "text": [
      "Epoch 67 | Avg Loss: 0.3573 | Avg Precision: 83.05%\n"
     ]
    },
    {
     "name": "stderr",
     "output_type": "stream",
     "text": [
      "Train: 100%|\u001B[32m████████████████████████\u001B[0m| 295/295 [00:48<00:00,  6.13batch/s, Loss: 0.1654 | Precision: 82.89%]\u001B[0m\n"
     ]
    },
    {
     "name": "stdout",
     "output_type": "stream",
     "text": [
      "Epoch 68 | Avg Loss: 0.3571 | Avg Precision: 83.00%\n"
     ]
    },
    {
     "name": "stderr",
     "output_type": "stream",
     "text": [
      "Train: 100%|\u001B[32m████████████████████████\u001B[0m| 295/295 [00:47<00:00,  6.17batch/s, Loss: 0.1711 | Precision: 82.88%]\u001B[0m\n"
     ]
    },
    {
     "name": "stdout",
     "output_type": "stream",
     "text": [
      "Epoch 69 | Avg Loss: 0.3572 | Avg Precision: 83.03%\n"
     ]
    },
    {
     "name": "stderr",
     "output_type": "stream",
     "text": [
      "Validate: 100%|\u001B[34m███████████████████████\u001B[0m| 74/74 [00:11<00:00,  6.51batch/s, Loss: 0.3991 | Precision: 83.15%]\u001B[0m\n"
     ]
    },
    {
     "name": "stdout",
     "output_type": "stream",
     "text": [
      "Epoch 69 | Avg Loss: 0.3717 | Avg Precision: 83.12% | Patience: 4\n"
     ]
    },
    {
     "name": "stderr",
     "output_type": "stream",
     "text": [
      "Train: 100%|\u001B[32m████████████████████████\u001B[0m| 295/295 [00:48<00:00,  6.11batch/s, Loss: 0.1667 | Precision: 83.06%]\u001B[0m\n"
     ]
    },
    {
     "name": "stdout",
     "output_type": "stream",
     "text": [
      "Epoch 70 | Avg Loss: 0.3543 | Avg Precision: 83.13%\n"
     ]
    },
    {
     "name": "stderr",
     "output_type": "stream",
     "text": [
      "Train: 100%|\u001B[32m████████████████████████\u001B[0m| 295/295 [00:48<00:00,  6.11batch/s, Loss: 0.1954 | Precision: 82.98%]\u001B[0m\n"
     ]
    },
    {
     "name": "stdout",
     "output_type": "stream",
     "text": [
      "Epoch 71 | Avg Loss: 0.3557 | Avg Precision: 83.22%\n"
     ]
    },
    {
     "name": "stderr",
     "output_type": "stream",
     "text": [
      "Train: 100%|\u001B[32m████████████████████████\u001B[0m| 295/295 [00:48<00:00,  6.08batch/s, Loss: 0.2009 | Precision: 82.79%]\u001B[0m\n"
     ]
    },
    {
     "name": "stdout",
     "output_type": "stream",
     "text": [
      "Epoch 72 | Avg Loss: 0.3587 | Avg Precision: 82.86%\n"
     ]
    },
    {
     "name": "stderr",
     "output_type": "stream",
     "text": [
      "Validate: 100%|\u001B[34m███████████████████████\u001B[0m| 74/74 [00:11<00:00,  6.45batch/s, Loss: 0.3876 | Precision: 83.29%]\u001B[0m"
     ]
    },
    {
     "name": "stdout",
     "output_type": "stream",
     "text": [
      "Early Stopping: Precision stagnated or decreased too many times. Best Validation: 83.64%\n",
      "Training Complete\n"
     ]
    },
    {
     "name": "stderr",
     "output_type": "stream",
     "text": [
      "\n"
     ]
    }
   ],
   "source": [
    "model = LSTMnet(9, 150, 1, 4)\n",
    "model = model.to(device)\n",
    "criterion = nn.CrossEntropyLoss()\n",
    "optimizer = optim.Adam(model.parameters(), lr=.02)\n",
    "scheduler = ReduceLROnPlateau(optimizer, 'max', factor=.9, patience=1, min_lr=.001)\n",
    "epochs = 100\n",
    "\n",
    "model7 = train_validate(model, criterion, optimizer, scheduler, epochs, train_loader, val_loader)\n",
    "torch.save(model7.state_dict(), '.\\\\models\\\\downsample\\\\lstm\\\\model7.pth')"
   ]
  },
  {
   "cell_type": "markdown",
   "id": "94bdb804-b2f2-49a3-af92-21482a02fa3c",
   "metadata": {
    "jp-MarkdownHeadingCollapsed": true
   },
   "source": [
    "#### Model 8 - Lookback 12 - Batch 250"
   ]
  },
  {
   "cell_type": "code",
   "execution_count": 74,
   "id": "70e1abf5-c8f7-406a-8f3a-bdc7c765c2b1",
   "metadata": {},
   "outputs": [
    {
     "name": "stderr",
     "output_type": "stream",
     "text": [
      "Train: 100%|\u001B[32m████████████████████████\u001B[0m| 402/402 [00:57<00:00,  7.01batch/s, Loss: 0.4796 | Precision: 76.39%]\u001B[0m\n"
     ]
    },
    {
     "name": "stdout",
     "output_type": "stream",
     "text": [
      "Epoch 1 | Avg Loss: 0.4749 | Avg Precision: 73.46%\n"
     ]
    },
    {
     "name": "stderr",
     "output_type": "stream",
     "text": [
      "Train: 100%|\u001B[32m████████████████████████\u001B[0m| 402/402 [00:57<00:00,  6.95batch/s, Loss: 0.4691 | Precision: 79.57%]\u001B[0m\n"
     ]
    },
    {
     "name": "stdout",
     "output_type": "stream",
     "text": [
      "Epoch 2 | Avg Loss: 0.4128 | Avg Precision: 79.26%\n"
     ]
    },
    {
     "name": "stderr",
     "output_type": "stream",
     "text": [
      "Train: 100%|\u001B[32m████████████████████████\u001B[0m| 402/402 [00:56<00:00,  7.13batch/s, Loss: 0.4669 | Precision: 80.07%]\u001B[0m\n"
     ]
    },
    {
     "name": "stdout",
     "output_type": "stream",
     "text": [
      "Epoch 3 | Avg Loss: 0.4021 | Avg Precision: 79.73%\n"
     ]
    },
    {
     "name": "stderr",
     "output_type": "stream",
     "text": [
      "Validate: 100%|\u001B[34m███████████████████████\u001B[0m| 74/74 [00:11<00:00,  6.26batch/s, Loss: 0.4063 | Precision: 78.64%]\u001B[0m\n"
     ]
    },
    {
     "name": "stdout",
     "output_type": "stream",
     "text": [
      "Epoch 3 | Avg Loss: 0.4203 | Avg Precision: 78.57% | Patience: 0\n"
     ]
    },
    {
     "name": "stderr",
     "output_type": "stream",
     "text": [
      "Train: 100%|\u001B[32m████████████████████████\u001B[0m| 402/402 [00:56<00:00,  7.08batch/s, Loss: 0.4388 | Precision: 80.33%]\u001B[0m\n"
     ]
    },
    {
     "name": "stdout",
     "output_type": "stream",
     "text": [
      "Epoch 4 | Avg Loss: 0.3988 | Avg Precision: 79.89%\n"
     ]
    },
    {
     "name": "stderr",
     "output_type": "stream",
     "text": [
      "Train: 100%|\u001B[32m████████████████████████\u001B[0m| 402/402 [00:57<00:00,  7.03batch/s, Loss: 0.4240 | Precision: 80.98%]\u001B[0m\n"
     ]
    },
    {
     "name": "stdout",
     "output_type": "stream",
     "text": [
      "Epoch 5 | Avg Loss: 0.3873 | Avg Precision: 80.69%\n"
     ]
    },
    {
     "name": "stderr",
     "output_type": "stream",
     "text": [
      "Train: 100%|\u001B[32m████████████████████████\u001B[0m| 402/402 [00:56<00:00,  7.12batch/s, Loss: 0.4299 | Precision: 80.64%]\u001B[0m\n"
     ]
    },
    {
     "name": "stdout",
     "output_type": "stream",
     "text": [
      "Epoch 6 | Avg Loss: 0.4055 | Avg Precision: 80.54%\n"
     ]
    },
    {
     "name": "stderr",
     "output_type": "stream",
     "text": [
      "Validate: 100%|\u001B[34m███████████████████████\u001B[0m| 74/74 [00:11<00:00,  6.26batch/s, Loss: 0.3991 | Precision: 81.25%]\u001B[0m\n"
     ]
    },
    {
     "name": "stdout",
     "output_type": "stream",
     "text": [
      "Epoch 6 | Avg Loss: 0.4104 | Avg Precision: 81.23% | Patience: 0\n"
     ]
    },
    {
     "name": "stderr",
     "output_type": "stream",
     "text": [
      "Train: 100%|\u001B[32m████████████████████████\u001B[0m| 402/402 [00:57<00:00,  7.00batch/s, Loss: 0.4745 | Precision: 78.48%]\u001B[0m\n"
     ]
    },
    {
     "name": "stdout",
     "output_type": "stream",
     "text": [
      "Epoch 7 | Avg Loss: 0.4884 | Avg Precision: 79.76%\n"
     ]
    },
    {
     "name": "stderr",
     "output_type": "stream",
     "text": [
      "Train: 100%|\u001B[32m████████████████████████\u001B[0m| 402/402 [00:56<00:00,  7.08batch/s, Loss: 0.4844 | Precision: 78.57%]\u001B[0m\n"
     ]
    },
    {
     "name": "stdout",
     "output_type": "stream",
     "text": [
      "Epoch 8 | Avg Loss: 0.4660 | Avg Precision: 78.51%\n"
     ]
    },
    {
     "name": "stderr",
     "output_type": "stream",
     "text": [
      "Train: 100%|\u001B[32m████████████████████████\u001B[0m| 402/402 [00:57<00:00,  7.01batch/s, Loss: 0.4730 | Precision: 78.38%]\u001B[0m\n"
     ]
    },
    {
     "name": "stdout",
     "output_type": "stream",
     "text": [
      "Epoch 9 | Avg Loss: 0.4293 | Avg Precision: 78.35%\n"
     ]
    },
    {
     "name": "stderr",
     "output_type": "stream",
     "text": [
      "Validate: 100%|\u001B[34m███████████████████████\u001B[0m| 74/74 [00:11<00:00,  6.24batch/s, Loss: 0.4179 | Precision: 78.51%]\u001B[0m\n"
     ]
    },
    {
     "name": "stdout",
     "output_type": "stream",
     "text": [
      "Epoch 9 | Avg Loss: 0.4214 | Avg Precision: 78.37% | Patience: 1\n"
     ]
    },
    {
     "name": "stderr",
     "output_type": "stream",
     "text": [
      "Train: 100%|\u001B[32m████████████████████████\u001B[0m| 402/402 [00:57<00:00,  6.97batch/s, Loss: 0.4789 | Precision: 78.49%]\u001B[0m\n"
     ]
    },
    {
     "name": "stdout",
     "output_type": "stream",
     "text": [
      "Epoch 10 | Avg Loss: 0.4264 | Avg Precision: 78.28%\n"
     ]
    },
    {
     "name": "stderr",
     "output_type": "stream",
     "text": [
      "Train: 100%|\u001B[32m████████████████████████\u001B[0m| 402/402 [00:57<00:00,  7.02batch/s, Loss: 0.4682 | Precision: 78.65%]\u001B[0m\n"
     ]
    },
    {
     "name": "stdout",
     "output_type": "stream",
     "text": [
      "Epoch 11 | Avg Loss: 0.4253 | Avg Precision: 78.55%\n"
     ]
    },
    {
     "name": "stderr",
     "output_type": "stream",
     "text": [
      "Train: 100%|\u001B[32m████████████████████████\u001B[0m| 402/402 [00:57<00:00,  7.01batch/s, Loss: 0.4584 | Precision: 78.82%]\u001B[0m\n"
     ]
    },
    {
     "name": "stdout",
     "output_type": "stream",
     "text": [
      "Epoch 12 | Avg Loss: 0.4227 | Avg Precision: 78.71%\n"
     ]
    },
    {
     "name": "stderr",
     "output_type": "stream",
     "text": [
      "Validate: 100%|\u001B[34m███████████████████████\u001B[0m| 74/74 [00:11<00:00,  6.31batch/s, Loss: 0.4282 | Precision: 79.06%]\u001B[0m\n"
     ]
    },
    {
     "name": "stdout",
     "output_type": "stream",
     "text": [
      "Epoch 12 | Avg Loss: 0.4177 | Avg Precision: 78.95% | Patience: 2\n"
     ]
    },
    {
     "name": "stderr",
     "output_type": "stream",
     "text": [
      "Train: 100%|\u001B[32m████████████████████████\u001B[0m| 402/402 [00:57<00:00,  7.04batch/s, Loss: 0.4604 | Precision: 79.03%]\u001B[0m\n"
     ]
    },
    {
     "name": "stdout",
     "output_type": "stream",
     "text": [
      "Epoch 13 | Avg Loss: 0.4201 | Avg Precision: 78.90%\n"
     ]
    },
    {
     "name": "stderr",
     "output_type": "stream",
     "text": [
      "Train: 100%|\u001B[32m████████████████████████\u001B[0m| 402/402 [00:56<00:00,  7.11batch/s, Loss: 0.4802 | Precision: 79.13%]\u001B[0m\n"
     ]
    },
    {
     "name": "stdout",
     "output_type": "stream",
     "text": [
      "Epoch 14 | Avg Loss: 0.4203 | Avg Precision: 79.09%\n"
     ]
    },
    {
     "name": "stderr",
     "output_type": "stream",
     "text": [
      "Train: 100%|\u001B[32m████████████████████████\u001B[0m| 402/402 [00:57<00:00,  7.05batch/s, Loss: 0.4789 | Precision: 79.15%]\u001B[0m\n"
     ]
    },
    {
     "name": "stdout",
     "output_type": "stream",
     "text": [
      "Epoch 15 | Avg Loss: 0.4197 | Avg Precision: 78.97%\n"
     ]
    },
    {
     "name": "stderr",
     "output_type": "stream",
     "text": [
      "Validate: 100%|\u001B[34m███████████████████████\u001B[0m| 74/74 [00:11<00:00,  6.26batch/s, Loss: 0.4320 | Precision: 79.13%]\u001B[0m\n"
     ]
    },
    {
     "name": "stdout",
     "output_type": "stream",
     "text": [
      "Epoch 15 | Avg Loss: 0.4140 | Avg Precision: 78.93% | Patience: 3\n"
     ]
    },
    {
     "name": "stderr",
     "output_type": "stream",
     "text": [
      "Train: 100%|\u001B[32m████████████████████████\u001B[0m| 402/402 [00:56<00:00,  7.09batch/s, Loss: 0.4667 | Precision: 79.44%]\u001B[0m\n"
     ]
    },
    {
     "name": "stdout",
     "output_type": "stream",
     "text": [
      "Epoch 16 | Avg Loss: 0.4155 | Avg Precision: 79.35%\n"
     ]
    },
    {
     "name": "stderr",
     "output_type": "stream",
     "text": [
      "Train: 100%|\u001B[32m████████████████████████\u001B[0m| 402/402 [00:57<00:00,  7.03batch/s, Loss: 0.4562 | Precision: 79.40%]\u001B[0m\n"
     ]
    },
    {
     "name": "stdout",
     "output_type": "stream",
     "text": [
      "Epoch 17 | Avg Loss: 0.4156 | Avg Precision: 79.34%\n"
     ]
    },
    {
     "name": "stderr",
     "output_type": "stream",
     "text": [
      "Train: 100%|\u001B[32m████████████████████████\u001B[0m| 402/402 [00:57<00:00,  7.03batch/s, Loss: 0.4470 | Precision: 79.57%]\u001B[0m\n"
     ]
    },
    {
     "name": "stdout",
     "output_type": "stream",
     "text": [
      "Epoch 18 | Avg Loss: 0.4124 | Avg Precision: 79.48%\n"
     ]
    },
    {
     "name": "stderr",
     "output_type": "stream",
     "text": [
      "Validate: 100%|\u001B[34m███████████████████████\u001B[0m| 74/74 [00:11<00:00,  6.25batch/s, Loss: 0.4156 | Precision: 79.55%]\u001B[0m\n"
     ]
    },
    {
     "name": "stdout",
     "output_type": "stream",
     "text": [
      "Epoch 18 | Avg Loss: 0.4103 | Avg Precision: 79.40% | Patience: 4\n"
     ]
    },
    {
     "name": "stderr",
     "output_type": "stream",
     "text": [
      "Train: 100%|\u001B[32m████████████████████████\u001B[0m| 402/402 [00:56<00:00,  7.12batch/s, Loss: 0.4550 | Precision: 77.89%]\u001B[0m\n"
     ]
    },
    {
     "name": "stdout",
     "output_type": "stream",
     "text": [
      "Epoch 19 | Avg Loss: 0.7580 | Avg Precision: 78.09%\n"
     ]
    },
    {
     "name": "stderr",
     "output_type": "stream",
     "text": [
      "Train: 100%|\u001B[32m████████████████████████\u001B[0m| 402/402 [00:57<00:00,  7.02batch/s, Loss: 0.4546 | Precision: 78.22%]\u001B[0m\n"
     ]
    },
    {
     "name": "stdout",
     "output_type": "stream",
     "text": [
      "Epoch 20 | Avg Loss: 0.4321 | Avg Precision: 78.13%\n"
     ]
    },
    {
     "name": "stderr",
     "output_type": "stream",
     "text": [
      "Train: 100%|\u001B[32m████████████████████████\u001B[0m| 402/402 [00:56<00:00,  7.09batch/s, Loss: 0.4254 | Precision: 78.42%]\u001B[0m\n"
     ]
    },
    {
     "name": "stdout",
     "output_type": "stream",
     "text": [
      "Epoch 21 | Avg Loss: 0.4303 | Avg Precision: 78.33%\n"
     ]
    },
    {
     "name": "stderr",
     "output_type": "stream",
     "text": [
      "Validate: 100%|\u001B[34m███████████████████████\u001B[0m| 74/74 [00:11<00:00,  6.34batch/s, Loss: 0.4107 | Precision: 78.43%]\u001B[0m"
     ]
    },
    {
     "name": "stdout",
     "output_type": "stream",
     "text": [
      "Early Stopping: Precision stagnated or decreased too many times. Best Validation: 81.23%\n",
      "Training Complete\n"
     ]
    },
    {
     "name": "stderr",
     "output_type": "stream",
     "text": [
      "\n"
     ]
    }
   ],
   "source": [
    "model = LSTMnet(9, 150, 1, 4)\n",
    "model = model.to(device)\n",
    "criterion = nn.CrossEntropyLoss()\n",
    "optimizer = optim.Adam(model.parameters(), lr=.02)\n",
    "scheduler = ReduceLROnPlateau(optimizer, 'max', factor=.9, patience=2, min_lr=.001)\n",
    "epochs = 100\n",
    "\n",
    "model8 = train_validate(model, criterion, optimizer, scheduler)\n",
    "torch.save(model8.state_dict(), '.\\\\models\\\\downsample\\\\lstm\\\\model8.pth')"
   ]
  },
  {
   "cell_type": "markdown",
   "id": "bdbe2ea5-e1dd-48cf-9e2a-2c1dde11b30d",
   "metadata": {
    "jp-MarkdownHeadingCollapsed": true
   },
   "source": [
    "#### Model 9 - Lookback 6 - Xavier weight - 250 Nodes"
   ]
  },
  {
   "cell_type": "code",
   "execution_count": 35,
   "id": "4f807154-7987-45f1-8e5f-aab48c5fac34",
   "metadata": {},
   "outputs": [
    {
     "name": "stderr",
     "output_type": "stream",
     "text": [
      "Train: 100%|\u001B[32m████████████████████████\u001B[0m| 295/295 [01:03<00:00,  4.66batch/s, Loss: 0.3358 | Precision: 74.68%]\u001B[0m\n"
     ]
    },
    {
     "name": "stdout",
     "output_type": "stream",
     "text": [
      "Epoch 1 | Avg Loss: 0.4986 | Avg Precision: 71.97%\n"
     ]
    },
    {
     "name": "stderr",
     "output_type": "stream",
     "text": [
      "Train: 100%|\u001B[32m████████████████████████\u001B[0m| 295/295 [01:03<00:00,  4.66batch/s, Loss: 0.3156 | Precision: 78.25%]\u001B[0m\n"
     ]
    },
    {
     "name": "stdout",
     "output_type": "stream",
     "text": [
      "Epoch 2 | Avg Loss: 0.4316 | Avg Precision: 77.67%\n"
     ]
    },
    {
     "name": "stderr",
     "output_type": "stream",
     "text": [
      "Train: 100%|\u001B[32m████████████████████████\u001B[0m| 295/295 [01:03<00:00,  4.67batch/s, Loss: 0.3209 | Precision: 79.49%]\u001B[0m\n"
     ]
    },
    {
     "name": "stdout",
     "output_type": "stream",
     "text": [
      "Epoch 3 | Avg Loss: 0.4129 | Avg Precision: 79.15%\n"
     ]
    },
    {
     "name": "stderr",
     "output_type": "stream",
     "text": [
      "Validate: 100%|\u001B[34m███████████████████████\u001B[0m| 74/74 [00:12<00:00,  5.77batch/s, Loss: 0.6169 | Precision: 71.68%]\u001B[0m\n"
     ]
    },
    {
     "name": "stdout",
     "output_type": "stream",
     "text": [
      "Epoch 3 | Avg Loss: 0.5674 | Avg Precision: 71.58% | Patience: 0\n"
     ]
    },
    {
     "name": "stderr",
     "output_type": "stream",
     "text": [
      "Train: 100%|\u001B[32m████████████████████████\u001B[0m| 295/295 [01:02<00:00,  4.68batch/s, Loss: 0.4072 | Precision: 77.19%]\u001B[0m\n"
     ]
    },
    {
     "name": "stdout",
     "output_type": "stream",
     "text": [
      "Epoch 4 | Avg Loss: 0.4608 | Avg Precision: 76.10%\n"
     ]
    },
    {
     "name": "stderr",
     "output_type": "stream",
     "text": [
      "Train: 100%|\u001B[32m████████████████████████\u001B[0m| 295/295 [01:03<00:00,  4.67batch/s, Loss: 0.3822 | Precision: 78.65%]\u001B[0m\n"
     ]
    },
    {
     "name": "stdout",
     "output_type": "stream",
     "text": [
      "Epoch 5 | Avg Loss: 0.4356 | Avg Precision: 78.14%\n"
     ]
    },
    {
     "name": "stderr",
     "output_type": "stream",
     "text": [
      "Train: 100%|\u001B[32m████████████████████████\u001B[0m| 295/295 [01:03<00:00,  4.66batch/s, Loss: 0.3146 | Precision: 79.56%]\u001B[0m\n"
     ]
    },
    {
     "name": "stdout",
     "output_type": "stream",
     "text": [
      "Epoch 6 | Avg Loss: 0.4193 | Avg Precision: 79.21%\n"
     ]
    },
    {
     "name": "stderr",
     "output_type": "stream",
     "text": [
      "Validate: 100%|\u001B[34m███████████████████████\u001B[0m| 74/74 [00:12<00:00,  5.88batch/s, Loss: 0.4627 | Precision: 79.30%]\u001B[0m\n"
     ]
    },
    {
     "name": "stdout",
     "output_type": "stream",
     "text": [
      "Epoch 6 | Avg Loss: 0.4167 | Avg Precision: 79.15% | Patience: 0\n"
     ]
    },
    {
     "name": "stderr",
     "output_type": "stream",
     "text": [
      "Train: 100%|\u001B[32m████████████████████████\u001B[0m| 295/295 [01:03<00:00,  4.67batch/s, Loss: 0.3076 | Precision: 78.36%]\u001B[0m\n"
     ]
    },
    {
     "name": "stdout",
     "output_type": "stream",
     "text": [
      "Epoch 7 | Avg Loss: 0.8467 | Avg Precision: 79.34%\n"
     ]
    },
    {
     "name": "stderr",
     "output_type": "stream",
     "text": [
      "Train: 100%|\u001B[32m████████████████████████\u001B[0m| 295/295 [01:03<00:00,  4.66batch/s, Loss: 0.3302 | Precision: 80.25%]\u001B[0m\n"
     ]
    },
    {
     "name": "stdout",
     "output_type": "stream",
     "text": [
      "Epoch 8 | Avg Loss: 0.4069 | Avg Precision: 80.17%\n"
     ]
    },
    {
     "name": "stderr",
     "output_type": "stream",
     "text": [
      "Train: 100%|\u001B[32m████████████████████████\u001B[0m| 295/295 [01:03<00:00,  4.67batch/s, Loss: 0.3245 | Precision: 80.44%]\u001B[0m\n"
     ]
    },
    {
     "name": "stdout",
     "output_type": "stream",
     "text": [
      "Epoch 9 | Avg Loss: 0.4042 | Avg Precision: 80.31%\n"
     ]
    },
    {
     "name": "stderr",
     "output_type": "stream",
     "text": [
      "Validate: 100%|\u001B[34m███████████████████████\u001B[0m| 74/74 [00:12<00:00,  5.86batch/s, Loss: 0.4448 | Precision: 80.29%]\u001B[0m\n"
     ]
    },
    {
     "name": "stdout",
     "output_type": "stream",
     "text": [
      "Epoch 9 | Avg Loss: 0.4031 | Avg Precision: 80.19% | Patience: 0\n"
     ]
    },
    {
     "name": "stderr",
     "output_type": "stream",
     "text": [
      "Train: 100%|\u001B[32m████████████████████████\u001B[0m| 295/295 [01:03<00:00,  4.67batch/s, Loss: 0.2657 | Precision: 80.76%]\u001B[0m\n"
     ]
    },
    {
     "name": "stdout",
     "output_type": "stream",
     "text": [
      "Epoch 10 | Avg Loss: 0.3999 | Avg Precision: 80.60%\n"
     ]
    },
    {
     "name": "stderr",
     "output_type": "stream",
     "text": [
      "Train: 100%|\u001B[32m████████████████████████\u001B[0m| 295/295 [01:03<00:00,  4.66batch/s, Loss: 0.3383 | Precision: 80.74%]\u001B[0m\n"
     ]
    },
    {
     "name": "stdout",
     "output_type": "stream",
     "text": [
      "Epoch 11 | Avg Loss: 0.3991 | Avg Precision: 80.66%\n"
     ]
    },
    {
     "name": "stderr",
     "output_type": "stream",
     "text": [
      "Train: 100%|\u001B[32m████████████████████████\u001B[0m| 295/295 [01:03<00:00,  4.65batch/s, Loss: 0.2591 | Precision: 81.08%]\u001B[0m\n"
     ]
    },
    {
     "name": "stdout",
     "output_type": "stream",
     "text": [
      "Epoch 12 | Avg Loss: 0.3933 | Avg Precision: 80.91%\n"
     ]
    },
    {
     "name": "stderr",
     "output_type": "stream",
     "text": [
      "Validate: 100%|\u001B[34m███████████████████████\u001B[0m| 74/74 [00:12<00:00,  5.74batch/s, Loss: 0.4164 | Precision: 81.51%]\u001B[0m\n"
     ]
    },
    {
     "name": "stdout",
     "output_type": "stream",
     "text": [
      "Epoch 12 | Avg Loss: 0.3920 | Avg Precision: 81.43% | Patience: 0\n"
     ]
    },
    {
     "name": "stderr",
     "output_type": "stream",
     "text": [
      "Train: 100%|\u001B[32m████████████████████████\u001B[0m| 295/295 [01:02<00:00,  4.69batch/s, Loss: 0.2526 | Precision: 81.03%]\u001B[0m\n"
     ]
    },
    {
     "name": "stdout",
     "output_type": "stream",
     "text": [
      "Epoch 13 | Avg Loss: 0.3935 | Avg Precision: 80.92%\n"
     ]
    },
    {
     "name": "stderr",
     "output_type": "stream",
     "text": [
      "Train: 100%|\u001B[32m████████████████████████\u001B[0m| 295/295 [01:03<00:00,  4.66batch/s, Loss: 0.2909 | Precision: 81.08%]\u001B[0m\n"
     ]
    },
    {
     "name": "stdout",
     "output_type": "stream",
     "text": [
      "Epoch 14 | Avg Loss: 0.3926 | Avg Precision: 80.91%\n"
     ]
    },
    {
     "name": "stderr",
     "output_type": "stream",
     "text": [
      "Train: 100%|\u001B[32m████████████████████████\u001B[0m| 295/295 [01:03<00:00,  4.65batch/s, Loss: 0.2582 | Precision: 81.14%]\u001B[0m\n"
     ]
    },
    {
     "name": "stdout",
     "output_type": "stream",
     "text": [
      "Epoch 15 | Avg Loss: 0.3919 | Avg Precision: 81.14%\n"
     ]
    },
    {
     "name": "stderr",
     "output_type": "stream",
     "text": [
      "Validate: 100%|\u001B[34m███████████████████████\u001B[0m| 74/74 [00:12<00:00,  5.79batch/s, Loss: 0.4093 | Precision: 79.99%]\u001B[0m\n"
     ]
    },
    {
     "name": "stdout",
     "output_type": "stream",
     "text": [
      "Epoch 15 | Avg Loss: 0.3958 | Avg Precision: 79.85% | Patience: 1\n"
     ]
    },
    {
     "name": "stderr",
     "output_type": "stream",
     "text": [
      "Train: 100%|\u001B[32m████████████████████████\u001B[0m| 295/295 [01:03<00:00,  4.67batch/s, Loss: 0.2816 | Precision: 81.21%]\u001B[0m\n"
     ]
    },
    {
     "name": "stdout",
     "output_type": "stream",
     "text": [
      "Epoch 16 | Avg Loss: 0.3903 | Avg Precision: 80.93%\n"
     ]
    },
    {
     "name": "stderr",
     "output_type": "stream",
     "text": [
      "Train: 100%|\u001B[32m████████████████████████\u001B[0m| 295/295 [01:03<00:00,  4.63batch/s, Loss: 0.2933 | Precision: 81.16%]\u001B[0m\n"
     ]
    },
    {
     "name": "stdout",
     "output_type": "stream",
     "text": [
      "Epoch 17 | Avg Loss: 0.4189 | Avg Precision: 80.67%\n"
     ]
    },
    {
     "name": "stderr",
     "output_type": "stream",
     "text": [
      "Train: 100%|\u001B[32m████████████████████████\u001B[0m| 295/295 [01:03<00:00,  4.66batch/s, Loss: 0.2650 | Precision: 81.24%]\u001B[0m\n"
     ]
    },
    {
     "name": "stdout",
     "output_type": "stream",
     "text": [
      "Epoch 18 | Avg Loss: 0.3901 | Avg Precision: 81.08%\n"
     ]
    },
    {
     "name": "stderr",
     "output_type": "stream",
     "text": [
      "Validate: 100%|\u001B[34m███████████████████████\u001B[0m| 74/74 [00:12<00:00,  5.83batch/s, Loss: 0.4152 | Precision: 81.82%]\u001B[0m\n"
     ]
    },
    {
     "name": "stdout",
     "output_type": "stream",
     "text": [
      "Epoch 18 | Avg Loss: 0.3922 | Avg Precision: 81.73% | Patience: 0\n"
     ]
    },
    {
     "name": "stderr",
     "output_type": "stream",
     "text": [
      "Train: 100%|\u001B[32m████████████████████████\u001B[0m| 295/295 [01:03<00:00,  4.66batch/s, Loss: 0.2891 | Precision: 81.32%]\u001B[0m\n"
     ]
    },
    {
     "name": "stdout",
     "output_type": "stream",
     "text": [
      "Epoch 19 | Avg Loss: 0.3903 | Avg Precision: 81.18%\n"
     ]
    },
    {
     "name": "stderr",
     "output_type": "stream",
     "text": [
      "Train: 100%|\u001B[32m████████████████████████\u001B[0m| 295/295 [01:03<00:00,  4.67batch/s, Loss: 0.2847 | Precision: 81.46%]\u001B[0m\n"
     ]
    },
    {
     "name": "stdout",
     "output_type": "stream",
     "text": [
      "Epoch 20 | Avg Loss: 0.3878 | Avg Precision: 81.27%\n"
     ]
    },
    {
     "name": "stderr",
     "output_type": "stream",
     "text": [
      "Train: 100%|\u001B[32m████████████████████████\u001B[0m| 295/295 [01:03<00:00,  4.65batch/s, Loss: 0.3587 | Precision: 81.39%]\u001B[0m\n"
     ]
    },
    {
     "name": "stdout",
     "output_type": "stream",
     "text": [
      "Epoch 21 | Avg Loss: 0.3883 | Avg Precision: 81.30%\n"
     ]
    },
    {
     "name": "stderr",
     "output_type": "stream",
     "text": [
      "Validate: 100%|\u001B[34m███████████████████████\u001B[0m| 74/74 [00:12<00:00,  5.80batch/s, Loss: 0.4356 | Precision: 80.04%]\u001B[0m\n"
     ]
    },
    {
     "name": "stdout",
     "output_type": "stream",
     "text": [
      "Epoch 21 | Avg Loss: 0.4163 | Avg Precision: 79.87% | Patience: 1\n"
     ]
    },
    {
     "name": "stderr",
     "output_type": "stream",
     "text": [
      "Train: 100%|\u001B[32m████████████████████████\u001B[0m| 295/295 [01:02<00:00,  4.68batch/s, Loss: 0.3147 | Precision: 81.34%]\u001B[0m\n"
     ]
    },
    {
     "name": "stdout",
     "output_type": "stream",
     "text": [
      "Epoch 22 | Avg Loss: 0.4075 | Avg Precision: 81.03%\n"
     ]
    },
    {
     "name": "stderr",
     "output_type": "stream",
     "text": [
      "Train: 100%|\u001B[32m████████████████████████\u001B[0m| 295/295 [01:03<00:00,  4.66batch/s, Loss: 0.3123 | Precision: 81.51%]\u001B[0m\n"
     ]
    },
    {
     "name": "stdout",
     "output_type": "stream",
     "text": [
      "Epoch 23 | Avg Loss: 0.3881 | Avg Precision: 81.25%\n"
     ]
    },
    {
     "name": "stderr",
     "output_type": "stream",
     "text": [
      "Train: 100%|\u001B[32m████████████████████████\u001B[0m| 295/295 [01:03<00:00,  4.64batch/s, Loss: 0.3343 | Precision: 81.36%]\u001B[0m\n"
     ]
    },
    {
     "name": "stdout",
     "output_type": "stream",
     "text": [
      "Epoch 24 | Avg Loss: 0.4083 | Avg Precision: 81.28%\n"
     ]
    },
    {
     "name": "stderr",
     "output_type": "stream",
     "text": [
      "Validate: 100%|\u001B[34m███████████████████████\u001B[0m| 74/74 [00:12<00:00,  6.03batch/s, Loss: 0.4254 | Precision: 80.73%]\u001B[0m\n"
     ]
    },
    {
     "name": "stdout",
     "output_type": "stream",
     "text": [
      "Epoch 24 | Avg Loss: 0.4115 | Avg Precision: 80.62% | Patience: 2\n"
     ]
    },
    {
     "name": "stderr",
     "output_type": "stream",
     "text": [
      "Train: 100%|\u001B[32m████████████████████████\u001B[0m| 295/295 [01:03<00:00,  4.66batch/s, Loss: 0.3156 | Precision: 81.70%]\u001B[0m\n"
     ]
    },
    {
     "name": "stdout",
     "output_type": "stream",
     "text": [
      "Epoch 25 | Avg Loss: 0.3846 | Avg Precision: 81.42%\n"
     ]
    },
    {
     "name": "stderr",
     "output_type": "stream",
     "text": [
      "Train: 100%|\u001B[32m████████████████████████\u001B[0m| 295/295 [01:03<00:00,  4.66batch/s, Loss: 0.3108 | Precision: 81.03%]\u001B[0m\n"
     ]
    },
    {
     "name": "stdout",
     "output_type": "stream",
     "text": [
      "Epoch 26 | Avg Loss: 0.6398 | Avg Precision: 81.08%\n"
     ]
    },
    {
     "name": "stderr",
     "output_type": "stream",
     "text": [
      "Train: 100%|\u001B[32m████████████████████████\u001B[0m| 295/295 [01:03<00:00,  4.64batch/s, Loss: 0.3182 | Precision: 81.71%]\u001B[0m\n"
     ]
    },
    {
     "name": "stdout",
     "output_type": "stream",
     "text": [
      "Epoch 27 | Avg Loss: 0.3843 | Avg Precision: 81.49%\n"
     ]
    },
    {
     "name": "stderr",
     "output_type": "stream",
     "text": [
      "Validate: 100%|\u001B[34m███████████████████████\u001B[0m| 74/74 [00:12<00:00,  5.75batch/s, Loss: 0.3995 | Precision: 81.38%]\u001B[0m\n"
     ]
    },
    {
     "name": "stdout",
     "output_type": "stream",
     "text": [
      "Epoch 27 | Avg Loss: 0.3865 | Avg Precision: 81.25% | Patience: 3\n"
     ]
    },
    {
     "name": "stderr",
     "output_type": "stream",
     "text": [
      "Train: 100%|\u001B[32m████████████████████████\u001B[0m| 295/295 [01:03<00:00,  4.67batch/s, Loss: 0.2268 | Precision: 81.74%]\u001B[0m\n"
     ]
    },
    {
     "name": "stdout",
     "output_type": "stream",
     "text": [
      "Epoch 28 | Avg Loss: 0.3833 | Avg Precision: 81.59%\n"
     ]
    },
    {
     "name": "stderr",
     "output_type": "stream",
     "text": [
      "Train: 100%|\u001B[32m████████████████████████\u001B[0m| 295/295 [01:03<00:00,  4.67batch/s, Loss: 0.2681 | Precision: 81.60%]\u001B[0m\n"
     ]
    },
    {
     "name": "stdout",
     "output_type": "stream",
     "text": [
      "Epoch 29 | Avg Loss: 0.3863 | Avg Precision: 81.32%\n"
     ]
    },
    {
     "name": "stderr",
     "output_type": "stream",
     "text": [
      "Train: 100%|\u001B[32m████████████████████████\u001B[0m| 295/295 [01:03<00:00,  4.67batch/s, Loss: 0.2960 | Precision: 81.93%]\u001B[0m\n"
     ]
    },
    {
     "name": "stdout",
     "output_type": "stream",
     "text": [
      "Epoch 30 | Avg Loss: 0.3804 | Avg Precision: 81.61%\n"
     ]
    },
    {
     "name": "stderr",
     "output_type": "stream",
     "text": [
      "Validate: 100%|\u001B[34m███████████████████████\u001B[0m| 74/74 [00:12<00:00,  5.88batch/s, Loss: 0.4218 | Precision: 81.18%]\u001B[0m\n"
     ]
    },
    {
     "name": "stdout",
     "output_type": "stream",
     "text": [
      "Epoch 30 | Avg Loss: 0.4050 | Avg Precision: 81.10% | Patience: 4\n"
     ]
    },
    {
     "name": "stderr",
     "output_type": "stream",
     "text": [
      "Train: 100%|\u001B[32m████████████████████████\u001B[0m| 295/295 [01:02<00:00,  4.69batch/s, Loss: 0.2200 | Precision: 81.91%]\u001B[0m\n"
     ]
    },
    {
     "name": "stdout",
     "output_type": "stream",
     "text": [
      "Epoch 31 | Avg Loss: 0.3819 | Avg Precision: 81.71%\n"
     ]
    },
    {
     "name": "stderr",
     "output_type": "stream",
     "text": [
      "Train: 100%|\u001B[32m████████████████████████\u001B[0m| 295/295 [01:03<00:00,  4.68batch/s, Loss: 0.2503 | Precision: 82.07%]\u001B[0m\n"
     ]
    },
    {
     "name": "stdout",
     "output_type": "stream",
     "text": [
      "Epoch 32 | Avg Loss: 0.3776 | Avg Precision: 81.64%\n"
     ]
    },
    {
     "name": "stderr",
     "output_type": "stream",
     "text": [
      "Train: 100%|\u001B[32m████████████████████████\u001B[0m| 295/295 [01:03<00:00,  4.67batch/s, Loss: 0.2346 | Precision: 81.95%]\u001B[0m\n"
     ]
    },
    {
     "name": "stdout",
     "output_type": "stream",
     "text": [
      "Epoch 33 | Avg Loss: 0.3803 | Avg Precision: 81.80%\n"
     ]
    },
    {
     "name": "stderr",
     "output_type": "stream",
     "text": [
      "Validate: 100%|\u001B[34m███████████████████████\u001B[0m| 74/74 [00:12<00:00,  5.94batch/s, Loss: 0.4143 | Precision: 81.11%]\u001B[0m"
     ]
    },
    {
     "name": "stdout",
     "output_type": "stream",
     "text": [
      "Early Stopping: Precision stagnated or decreased too many times. Best Validation: 81.73%\n",
      "Training Complete\n"
     ]
    },
    {
     "name": "stderr",
     "output_type": "stream",
     "text": [
      "\n"
     ]
    }
   ],
   "source": [
    "model = LSTMnet(9, 250, 1, 4)\n",
    "model = model.to(device)\n",
    "criterion = nn.CrossEntropyLoss()\n",
    "optimizer = optim.Adam(model.parameters(), lr=.02)\n",
    "scheduler = ReduceLROnPlateau(optimizer, 'max', factor=.9, patience=1, min_lr=.001)\n",
    "\n",
    "model9 = train_validate(model, criterion, optimizer, scheduler)\n",
    "torch.save(model9.state_dict(), '.\\\\models\\\\downsample\\\\lstm\\\\model9.pth')"
   ]
  },
  {
   "cell_type": "markdown",
   "id": "0556ce8a-85fc-437a-9048-800ecded2d85",
   "metadata": {
    "jp-MarkdownHeadingCollapsed": true
   },
   "source": [
    "### 11-5-23"
   ]
  },
  {
   "cell_type": "markdown",
   "id": "84834de8-e6a2-4094-bf81-4558be63af6c",
   "metadata": {
    "jp-MarkdownHeadingCollapsed": true
   },
   "source": [
    "#### Model 10 - Lookback 30 - 100 Nodes"
   ]
  },
  {
   "cell_type": "code",
   "execution_count": 22,
   "id": "958e34f8-fd4d-4c57-961d-b1ca2b8773df",
   "metadata": {},
   "outputs": [
    {
     "name": "stderr",
     "output_type": "stream",
     "text": [
      "Train: 100%|\u001B[32m████████████████████████\u001B[0m| 295/295 [01:05<00:00,  4.53batch/s, Loss: 0.3978 | Precision: 74.85%]\u001B[0m\n"
     ]
    },
    {
     "name": "stdout",
     "output_type": "stream",
     "text": [
      "Epoch 1 | Avg Loss: 0.4903 | Avg Precision: 71.89%\n"
     ]
    },
    {
     "name": "stderr",
     "output_type": "stream",
     "text": [
      "Train: 100%|\u001B[32m████████████████████████\u001B[0m| 295/295 [01:05<00:00,  4.52batch/s, Loss: 0.4019 | Precision: 79.10%]\u001B[0m\n"
     ]
    },
    {
     "name": "stdout",
     "output_type": "stream",
     "text": [
      "Epoch 2 | Avg Loss: 0.4194 | Avg Precision: 78.60%\n"
     ]
    },
    {
     "name": "stderr",
     "output_type": "stream",
     "text": [
      "Validate: 100%|\u001B[34m███████████████████████\u001B[0m| 74/74 [00:13<00:00,  5.63batch/s, Loss: 0.5121 | Precision: 78.05%]\u001B[0m\n"
     ]
    },
    {
     "name": "stdout",
     "output_type": "stream",
     "text": [
      "Epoch 2 | Avg Loss: 0.4863 | Avg Precision: 78.04% | Patience: 0\n"
     ]
    },
    {
     "name": "stderr",
     "output_type": "stream",
     "text": [
      "Train: 100%|\u001B[32m████████████████████████\u001B[0m| 295/295 [01:04<00:00,  4.54batch/s, Loss: 0.3316 | Precision: 78.20%]\u001B[0m\n"
     ]
    },
    {
     "name": "stdout",
     "output_type": "stream",
     "text": [
      "Epoch 3 | Avg Loss: 0.4378 | Avg Precision: 77.39%\n"
     ]
    },
    {
     "name": "stderr",
     "output_type": "stream",
     "text": [
      "Train: 100%|\u001B[32m████████████████████████\u001B[0m| 295/295 [01:05<00:00,  4.54batch/s, Loss: 0.3410 | Precision: 79.32%]\u001B[0m\n"
     ]
    },
    {
     "name": "stdout",
     "output_type": "stream",
     "text": [
      "Epoch 4 | Avg Loss: 0.4204 | Avg Precision: 78.65%\n"
     ]
    },
    {
     "name": "stderr",
     "output_type": "stream",
     "text": [
      "Validate: 100%|\u001B[34m███████████████████████\u001B[0m| 74/74 [00:13<00:00,  5.63batch/s, Loss: 0.4330 | Precision: 79.07%]\u001B[0m\n"
     ]
    },
    {
     "name": "stdout",
     "output_type": "stream",
     "text": [
      "Epoch 4 | Avg Loss: 0.4083 | Avg Precision: 79.00% | Patience: 0\n"
     ]
    },
    {
     "name": "stderr",
     "output_type": "stream",
     "text": [
      "Train: 100%|\u001B[32m████████████████████████\u001B[0m| 295/295 [01:05<00:00,  4.53batch/s, Loss: 0.3167 | Precision: 80.09%]\u001B[0m\n"
     ]
    },
    {
     "name": "stdout",
     "output_type": "stream",
     "text": [
      "Epoch 5 | Avg Loss: 0.4060 | Avg Precision: 80.09%\n"
     ]
    },
    {
     "name": "stderr",
     "output_type": "stream",
     "text": [
      "Train: 100%|\u001B[32m████████████████████████\u001B[0m| 295/295 [01:05<00:00,  4.50batch/s, Loss: 0.3992 | Precision: 80.45%]\u001B[0m\n"
     ]
    },
    {
     "name": "stdout",
     "output_type": "stream",
     "text": [
      "Epoch 6 | Avg Loss: 0.3998 | Avg Precision: 80.37%\n"
     ]
    },
    {
     "name": "stderr",
     "output_type": "stream",
     "text": [
      "Validate: 100%|\u001B[34m███████████████████████\u001B[0m| 74/74 [00:13<00:00,  5.62batch/s, Loss: 0.4289 | Precision: 78.33%]\u001B[0m\n"
     ]
    },
    {
     "name": "stdout",
     "output_type": "stream",
     "text": [
      "Epoch 6 | Avg Loss: 0.4207 | Avg Precision: 78.17% | Patience: 1\n"
     ]
    },
    {
     "name": "stderr",
     "output_type": "stream",
     "text": [
      "Train: 100%|\u001B[32m████████████████████████\u001B[0m| 295/295 [01:05<00:00,  4.53batch/s, Loss: 0.3865 | Precision: 80.46%]\u001B[0m\n"
     ]
    },
    {
     "name": "stdout",
     "output_type": "stream",
     "text": [
      "Epoch 7 | Avg Loss: 0.4006 | Avg Precision: 80.14%\n"
     ]
    },
    {
     "name": "stderr",
     "output_type": "stream",
     "text": [
      "Train: 100%|\u001B[32m████████████████████████\u001B[0m| 295/295 [01:05<00:00,  4.52batch/s, Loss: 0.3735 | Precision: 80.97%]\u001B[0m\n"
     ]
    },
    {
     "name": "stdout",
     "output_type": "stream",
     "text": [
      "Epoch 8 | Avg Loss: 0.3917 | Avg Precision: 80.90%\n"
     ]
    },
    {
     "name": "stderr",
     "output_type": "stream",
     "text": [
      "Validate: 100%|\u001B[34m███████████████████████\u001B[0m| 74/74 [00:12<00:00,  5.70batch/s, Loss: 0.4140 | Precision: 80.58%]\u001B[0m\n"
     ]
    },
    {
     "name": "stdout",
     "output_type": "stream",
     "text": [
      "Epoch 8 | Avg Loss: 0.3892 | Avg Precision: 80.56% | Patience: 0\n"
     ]
    },
    {
     "name": "stderr",
     "output_type": "stream",
     "text": [
      "Train: 100%|\u001B[32m████████████████████████\u001B[0m| 295/295 [01:04<00:00,  4.54batch/s, Loss: 0.3780 | Precision: 81.21%]\u001B[0m\n"
     ]
    },
    {
     "name": "stdout",
     "output_type": "stream",
     "text": [
      "Epoch 9 | Avg Loss: 0.3885 | Avg Precision: 81.16%\n"
     ]
    },
    {
     "name": "stderr",
     "output_type": "stream",
     "text": [
      "Train: 100%|\u001B[32m████████████████████████\u001B[0m| 295/295 [01:05<00:00,  4.51batch/s, Loss: 0.3902 | Precision: 81.46%]\u001B[0m\n"
     ]
    },
    {
     "name": "stdout",
     "output_type": "stream",
     "text": [
      "Epoch 10 | Avg Loss: 0.3841 | Avg Precision: 81.39%\n"
     ]
    },
    {
     "name": "stderr",
     "output_type": "stream",
     "text": [
      "Validate: 100%|\u001B[34m███████████████████████\u001B[0m| 74/74 [00:13<00:00,  5.57batch/s, Loss: 0.4038 | Precision: 81.39%]\u001B[0m\n"
     ]
    },
    {
     "name": "stdout",
     "output_type": "stream",
     "text": [
      "Epoch 10 | Avg Loss: 0.3790 | Avg Precision: 81.43% | Patience: 0\n"
     ]
    },
    {
     "name": "stderr",
     "output_type": "stream",
     "text": [
      "Train: 100%|\u001B[32m████████████████████████\u001B[0m| 295/295 [01:05<00:00,  4.52batch/s, Loss: 0.3441 | Precision: 81.95%]\u001B[0m\n"
     ]
    },
    {
     "name": "stdout",
     "output_type": "stream",
     "text": [
      "Epoch 11 | Avg Loss: 0.3774 | Avg Precision: 81.95%\n"
     ]
    },
    {
     "name": "stderr",
     "output_type": "stream",
     "text": [
      "Train: 100%|\u001B[32m████████████████████████\u001B[0m| 295/295 [01:05<00:00,  4.50batch/s, Loss: 0.3482 | Precision: 81.84%]\u001B[0m\n"
     ]
    },
    {
     "name": "stdout",
     "output_type": "stream",
     "text": [
      "Epoch 12 | Avg Loss: 0.3793 | Avg Precision: 81.60%\n"
     ]
    },
    {
     "name": "stderr",
     "output_type": "stream",
     "text": [
      "Validate: 100%|\u001B[34m███████████████████████\u001B[0m| 74/74 [00:13<00:00,  5.61batch/s, Loss: 0.3985 | Precision: 80.64%]\u001B[0m\n"
     ]
    },
    {
     "name": "stdout",
     "output_type": "stream",
     "text": [
      "Epoch 12 | Avg Loss: 0.3820 | Avg Precision: 80.62% | Patience: 1\n"
     ]
    },
    {
     "name": "stderr",
     "output_type": "stream",
     "text": [
      "Train: 100%|\u001B[32m████████████████████████\u001B[0m| 295/295 [01:04<00:00,  4.55batch/s, Loss: 0.3492 | Precision: 81.78%]\u001B[0m\n"
     ]
    },
    {
     "name": "stdout",
     "output_type": "stream",
     "text": [
      "Epoch 13 | Avg Loss: 0.3815 | Avg Precision: 81.69%\n"
     ]
    },
    {
     "name": "stderr",
     "output_type": "stream",
     "text": [
      "Train: 100%|\u001B[32m████████████████████████\u001B[0m| 295/295 [01:05<00:00,  4.52batch/s, Loss: 0.3489 | Precision: 81.98%]\u001B[0m\n"
     ]
    },
    {
     "name": "stdout",
     "output_type": "stream",
     "text": [
      "Epoch 14 | Avg Loss: 0.3781 | Avg Precision: 81.88%\n"
     ]
    },
    {
     "name": "stderr",
     "output_type": "stream",
     "text": [
      "Validate: 100%|\u001B[34m███████████████████████\u001B[0m| 74/74 [00:13<00:00,  5.65batch/s, Loss: 0.3989 | Precision: 81.26%]\u001B[0m\n"
     ]
    },
    {
     "name": "stdout",
     "output_type": "stream",
     "text": [
      "Epoch 14 | Avg Loss: 0.3748 | Avg Precision: 81.19% | Patience: 2\n"
     ]
    },
    {
     "name": "stderr",
     "output_type": "stream",
     "text": [
      "Train: 100%|\u001B[32m████████████████████████\u001B[0m| 295/295 [01:05<00:00,  4.52batch/s, Loss: 0.3371 | Precision: 81.90%]\u001B[0m\n"
     ]
    },
    {
     "name": "stdout",
     "output_type": "stream",
     "text": [
      "Epoch 15 | Avg Loss: 0.3833 | Avg Precision: 81.70%\n"
     ]
    },
    {
     "name": "stderr",
     "output_type": "stream",
     "text": [
      "Train: 100%|\u001B[32m████████████████████████\u001B[0m| 295/295 [01:05<00:00,  4.50batch/s, Loss: 0.3475 | Precision: 82.08%]\u001B[0m\n"
     ]
    },
    {
     "name": "stdout",
     "output_type": "stream",
     "text": [
      "Epoch 16 | Avg Loss: 0.3785 | Avg Precision: 81.92%\n"
     ]
    },
    {
     "name": "stderr",
     "output_type": "stream",
     "text": [
      "Validate: 100%|\u001B[34m███████████████████████\u001B[0m| 74/74 [00:12<00:00,  5.69batch/s, Loss: 0.4251 | Precision: 78.56%]\u001B[0m\n"
     ]
    },
    {
     "name": "stdout",
     "output_type": "stream",
     "text": [
      "Epoch 16 | Avg Loss: 0.4076 | Avg Precision: 78.50% | Patience: 3\n"
     ]
    },
    {
     "name": "stderr",
     "output_type": "stream",
     "text": [
      "Train: 100%|\u001B[32m████████████████████████\u001B[0m| 295/295 [01:05<00:00,  4.50batch/s, Loss: 0.3669 | Precision: 82.18%]\u001B[0m\n"
     ]
    },
    {
     "name": "stdout",
     "output_type": "stream",
     "text": [
      "Epoch 17 | Avg Loss: 0.3761 | Avg Precision: 81.94%\n"
     ]
    },
    {
     "name": "stderr",
     "output_type": "stream",
     "text": [
      "Train: 100%|\u001B[32m████████████████████████\u001B[0m| 295/295 [01:05<00:00,  4.51batch/s, Loss: 0.3595 | Precision: 82.32%]\u001B[0m\n"
     ]
    },
    {
     "name": "stdout",
     "output_type": "stream",
     "text": [
      "Epoch 18 | Avg Loss: 0.3731 | Avg Precision: 82.29%\n"
     ]
    },
    {
     "name": "stderr",
     "output_type": "stream",
     "text": [
      "Validate: 100%|\u001B[34m███████████████████████\u001B[0m| 74/74 [00:13<00:00,  5.62batch/s, Loss: 0.4084 | Precision: 81.73%]\u001B[0m\n"
     ]
    },
    {
     "name": "stdout",
     "output_type": "stream",
     "text": [
      "Epoch 18 | Avg Loss: 0.3922 | Avg Precision: 81.69% | Patience: 0\n"
     ]
    },
    {
     "name": "stderr",
     "output_type": "stream",
     "text": [
      "Train: 100%|\u001B[32m████████████████████████\u001B[0m| 295/295 [01:05<00:00,  4.51batch/s, Loss: 0.3775 | Precision: 82.61%]\u001B[0m\n"
     ]
    },
    {
     "name": "stdout",
     "output_type": "stream",
     "text": [
      "Epoch 19 | Avg Loss: 0.3706 | Avg Precision: 82.44%\n"
     ]
    },
    {
     "name": "stderr",
     "output_type": "stream",
     "text": [
      "Train: 100%|\u001B[32m████████████████████████\u001B[0m| 295/295 [01:05<00:00,  4.52batch/s, Loss: 0.3627 | Precision: 82.54%]\u001B[0m\n"
     ]
    },
    {
     "name": "stdout",
     "output_type": "stream",
     "text": [
      "Epoch 20 | Avg Loss: 0.3728 | Avg Precision: 82.45%\n"
     ]
    },
    {
     "name": "stderr",
     "output_type": "stream",
     "text": [
      "Validate: 100%|\u001B[34m███████████████████████\u001B[0m| 74/74 [00:13<00:00,  5.64batch/s, Loss: 0.4093 | Precision: 81.41%]\u001B[0m\n"
     ]
    },
    {
     "name": "stdout",
     "output_type": "stream",
     "text": [
      "Epoch 20 | Avg Loss: 0.3893 | Avg Precision: 81.14% | Patience: 1\n"
     ]
    },
    {
     "name": "stderr",
     "output_type": "stream",
     "text": [
      "Train: 100%|\u001B[32m████████████████████████\u001B[0m| 295/295 [01:05<00:00,  4.53batch/s, Loss: 0.3746 | Precision: 82.67%]\u001B[0m\n"
     ]
    },
    {
     "name": "stdout",
     "output_type": "stream",
     "text": [
      "Epoch 21 | Avg Loss: 0.3684 | Avg Precision: 82.68%\n"
     ]
    },
    {
     "name": "stderr",
     "output_type": "stream",
     "text": [
      "Train: 100%|\u001B[32m████████████████████████\u001B[0m| 295/295 [01:05<00:00,  4.51batch/s, Loss: 0.3413 | Precision: 82.92%]\u001B[0m\n"
     ]
    },
    {
     "name": "stdout",
     "output_type": "stream",
     "text": [
      "Epoch 22 | Avg Loss: 0.3651 | Avg Precision: 82.85%\n"
     ]
    },
    {
     "name": "stderr",
     "output_type": "stream",
     "text": [
      "Validate: 100%|\u001B[34m███████████████████████\u001B[0m| 74/74 [00:13<00:00,  5.50batch/s, Loss: 0.3986 | Precision: 83.78%]\u001B[0m\n"
     ]
    },
    {
     "name": "stdout",
     "output_type": "stream",
     "text": [
      "Epoch 22 | Avg Loss: 0.3648 | Avg Precision: 83.59% | Patience: 0\n"
     ]
    },
    {
     "name": "stderr",
     "output_type": "stream",
     "text": [
      "Train: 100%|\u001B[32m████████████████████████\u001B[0m| 295/295 [01:05<00:00,  4.51batch/s, Loss: 0.3163 | Precision: 82.85%]\u001B[0m\n"
     ]
    },
    {
     "name": "stdout",
     "output_type": "stream",
     "text": [
      "Epoch 23 | Avg Loss: 0.3674 | Avg Precision: 83.00%\n"
     ]
    },
    {
     "name": "stderr",
     "output_type": "stream",
     "text": [
      "Train: 100%|\u001B[32m████████████████████████\u001B[0m| 295/295 [01:05<00:00,  4.50batch/s, Loss: 0.3616 | Precision: 82.87%]\u001B[0m\n"
     ]
    },
    {
     "name": "stdout",
     "output_type": "stream",
     "text": [
      "Epoch 24 | Avg Loss: 0.3658 | Avg Precision: 82.87%\n"
     ]
    },
    {
     "name": "stderr",
     "output_type": "stream",
     "text": [
      "Validate: 100%|\u001B[34m███████████████████████\u001B[0m| 74/74 [00:13<00:00,  5.60batch/s, Loss: 0.3805 | Precision: 82.49%]\u001B[0m\n"
     ]
    },
    {
     "name": "stdout",
     "output_type": "stream",
     "text": [
      "Epoch 24 | Avg Loss: 0.3607 | Avg Precision: 82.33% | Patience: 1\n"
     ]
    },
    {
     "name": "stderr",
     "output_type": "stream",
     "text": [
      "Train: 100%|\u001B[32m████████████████████████\u001B[0m| 295/295 [01:05<00:00,  4.51batch/s, Loss: 0.3153 | Precision: 82.98%]\u001B[0m\n"
     ]
    },
    {
     "name": "stdout",
     "output_type": "stream",
     "text": [
      "Epoch 25 | Avg Loss: 0.3649 | Avg Precision: 82.95%\n"
     ]
    },
    {
     "name": "stderr",
     "output_type": "stream",
     "text": [
      "Train: 100%|\u001B[32m████████████████████████\u001B[0m| 295/295 [01:05<00:00,  4.52batch/s, Loss: 0.4041 | Precision: 82.79%]\u001B[0m\n"
     ]
    },
    {
     "name": "stdout",
     "output_type": "stream",
     "text": [
      "Epoch 26 | Avg Loss: 0.3679 | Avg Precision: 82.76%\n"
     ]
    },
    {
     "name": "stderr",
     "output_type": "stream",
     "text": [
      "Validate: 100%|\u001B[34m███████████████████████\u001B[0m| 74/74 [00:13<00:00,  5.56batch/s, Loss: 0.3945 | Precision: 81.86%]\u001B[0m\n"
     ]
    },
    {
     "name": "stdout",
     "output_type": "stream",
     "text": [
      "Epoch 26 | Avg Loss: 0.3750 | Avg Precision: 81.78% | Patience: 2\n"
     ]
    },
    {
     "name": "stderr",
     "output_type": "stream",
     "text": [
      "Train: 100%|\u001B[32m████████████████████████\u001B[0m| 295/295 [01:05<00:00,  4.52batch/s, Loss: 0.3425 | Precision: 82.82%]\u001B[0m\n"
     ]
    },
    {
     "name": "stdout",
     "output_type": "stream",
     "text": [
      "Epoch 27 | Avg Loss: 0.3662 | Avg Precision: 82.76%\n"
     ]
    },
    {
     "name": "stderr",
     "output_type": "stream",
     "text": [
      "Train: 100%|\u001B[32m████████████████████████\u001B[0m| 295/295 [01:05<00:00,  4.50batch/s, Loss: 0.2856 | Precision: 82.91%]\u001B[0m\n"
     ]
    },
    {
     "name": "stdout",
     "output_type": "stream",
     "text": [
      "Epoch 28 | Avg Loss: 0.3641 | Avg Precision: 82.78%\n"
     ]
    },
    {
     "name": "stderr",
     "output_type": "stream",
     "text": [
      "Validate: 100%|\u001B[34m███████████████████████\u001B[0m| 74/74 [00:13<00:00,  5.63batch/s, Loss: 0.3991 | Precision: 81.20%]\u001B[0m\n"
     ]
    },
    {
     "name": "stdout",
     "output_type": "stream",
     "text": [
      "Epoch 28 | Avg Loss: 0.3740 | Avg Precision: 81.01% | Patience: 3\n"
     ]
    },
    {
     "name": "stderr",
     "output_type": "stream",
     "text": [
      "Train: 100%|\u001B[32m████████████████████████\u001B[0m| 295/295 [01:05<00:00,  4.50batch/s, Loss: 0.3146 | Precision: 82.84%]\u001B[0m\n"
     ]
    },
    {
     "name": "stdout",
     "output_type": "stream",
     "text": [
      "Epoch 29 | Avg Loss: 0.3676 | Avg Precision: 82.80%\n"
     ]
    },
    {
     "name": "stderr",
     "output_type": "stream",
     "text": [
      "Train: 100%|\u001B[32m████████████████████████\u001B[0m| 295/295 [01:05<00:00,  4.51batch/s, Loss: 0.2886 | Precision: 82.93%]\u001B[0m\n"
     ]
    },
    {
     "name": "stdout",
     "output_type": "stream",
     "text": [
      "Epoch 30 | Avg Loss: 0.3646 | Avg Precision: 82.89%\n"
     ]
    },
    {
     "name": "stderr",
     "output_type": "stream",
     "text": [
      "Validate: 100%|\u001B[34m███████████████████████\u001B[0m| 74/74 [00:13<00:00,  5.57batch/s, Loss: 0.3865 | Precision: 82.31%]\u001B[0m\n"
     ]
    },
    {
     "name": "stdout",
     "output_type": "stream",
     "text": [
      "Epoch 30 | Avg Loss: 0.3684 | Avg Precision: 82.04% | Patience: 4\n"
     ]
    },
    {
     "name": "stderr",
     "output_type": "stream",
     "text": [
      "Train: 100%|\u001B[32m████████████████████████\u001B[0m| 295/295 [01:05<00:00,  4.48batch/s, Loss: 0.3654 | Precision: 83.07%]\u001B[0m\n"
     ]
    },
    {
     "name": "stdout",
     "output_type": "stream",
     "text": [
      "Epoch 31 | Avg Loss: 0.3628 | Avg Precision: 83.11%\n"
     ]
    },
    {
     "name": "stderr",
     "output_type": "stream",
     "text": [
      "Train: 100%|\u001B[32m████████████████████████\u001B[0m| 295/295 [01:05<00:00,  4.50batch/s, Loss: 0.3647 | Precision: 83.11%]\u001B[0m\n"
     ]
    },
    {
     "name": "stdout",
     "output_type": "stream",
     "text": [
      "Epoch 32 | Avg Loss: 0.3623 | Avg Precision: 83.24%\n"
     ]
    },
    {
     "name": "stderr",
     "output_type": "stream",
     "text": [
      "Validate: 100%|\u001B[34m███████████████████████\u001B[0m| 74/74 [00:13<00:00,  5.61batch/s, Loss: 0.4020 | Precision: 82.61%]\u001B[0m\n"
     ]
    },
    {
     "name": "stdout",
     "output_type": "stream",
     "text": [
      "Epoch 32 | Avg Loss: 0.3687 | Avg Precision: 82.40% | Patience: 5\n"
     ]
    },
    {
     "name": "stderr",
     "output_type": "stream",
     "text": [
      "Train: 100%|\u001B[32m████████████████████████\u001B[0m| 295/295 [01:05<00:00,  4.51batch/s, Loss: 0.4354 | Precision: 82.88%]\u001B[0m\n"
     ]
    },
    {
     "name": "stdout",
     "output_type": "stream",
     "text": [
      "Epoch 33 | Avg Loss: 0.3650 | Avg Precision: 82.80%\n"
     ]
    },
    {
     "name": "stderr",
     "output_type": "stream",
     "text": [
      "Train: 100%|\u001B[32m████████████████████████\u001B[0m| 295/295 [01:05<00:00,  4.53batch/s, Loss: 0.3590 | Precision: 82.36%]\u001B[0m\n"
     ]
    },
    {
     "name": "stdout",
     "output_type": "stream",
     "text": [
      "Epoch 34 | Avg Loss: 0.3755 | Avg Precision: 81.79%\n"
     ]
    },
    {
     "name": "stderr",
     "output_type": "stream",
     "text": [
      "Validate: 100%|\u001B[34m███████████████████████\u001B[0m| 74/74 [00:13<00:00,  5.57batch/s, Loss: 0.4185 | Precision: 81.67%]\u001B[0m\n"
     ]
    },
    {
     "name": "stdout",
     "output_type": "stream",
     "text": [
      "Epoch 34 | Avg Loss: 0.3797 | Avg Precision: 81.44% | Patience: 6\n"
     ]
    },
    {
     "name": "stderr",
     "output_type": "stream",
     "text": [
      "Train: 100%|\u001B[32m████████████████████████\u001B[0m| 295/295 [01:05<00:00,  4.51batch/s, Loss: 0.4156 | Precision: 82.98%]\u001B[0m\n"
     ]
    },
    {
     "name": "stdout",
     "output_type": "stream",
     "text": [
      "Epoch 35 | Avg Loss: 0.3646 | Avg Precision: 82.86%\n"
     ]
    },
    {
     "name": "stderr",
     "output_type": "stream",
     "text": [
      "Train: 100%|\u001B[32m████████████████████████\u001B[0m| 295/295 [01:05<00:00,  4.49batch/s, Loss: 0.3947 | Precision: 83.24%]\u001B[0m\n"
     ]
    },
    {
     "name": "stdout",
     "output_type": "stream",
     "text": [
      "Epoch 36 | Avg Loss: 0.3598 | Avg Precision: 83.28%\n"
     ]
    },
    {
     "name": "stderr",
     "output_type": "stream",
     "text": [
      "Validate: 100%|\u001B[34m███████████████████████\u001B[0m| 74/74 [00:13<00:00,  5.57batch/s, Loss: 0.4456 | Precision: 81.73%]\u001B[0m"
     ]
    },
    {
     "name": "stdout",
     "output_type": "stream",
     "text": [
      "Early Stopping: Precision stagnated or decreased too many times. Best Validation: 83.59%\n",
      "Training Complete - Best Precision: 83.59%\n"
     ]
    },
    {
     "name": "stderr",
     "output_type": "stream",
     "text": [
      "\n"
     ]
    }
   ],
   "source": [
    "model = LSTMnet(9, 100, 1, 4)\n",
    "model = model.to(device)\n",
    "criterion = nn.CrossEntropyLoss()\n",
    "optimizer = optim.Adam(model.parameters(), lr=.02)\n",
    "scheduler = ReduceLROnPlateau(optimizer, 'max', factor=.9, patience=1, min_lr=.001)\n",
    "model10 = train_validate(model, criterion, optimizer, scheduler)\n",
    "torch.save(model10.state_dict(), '.\\\\models\\\\downsample\\\\lstm\\\\model10.pth')"
   ]
  },
  {
   "cell_type": "markdown",
   "id": "d81645a2-8677-4546-9875-4aee7a47dd02",
   "metadata": {
    "jp-MarkdownHeadingCollapsed": true
   },
   "source": [
    "#### Model 11 - Lookback 30 - LR adjust"
   ]
  },
  {
   "cell_type": "code",
   "execution_count": 24,
   "id": "d0e2cc3f-d284-42ee-b08b-cc7068531f84",
   "metadata": {},
   "outputs": [
    {
     "name": "stderr",
     "output_type": "stream",
     "text": [
      "Train: 100%|\u001B[32m████████████████████████\u001B[0m| 295/295 [01:05<00:00,  4.47batch/s, Loss: 0.3680 | Precision: 75.71%]\u001B[0m\n"
     ]
    },
    {
     "name": "stdout",
     "output_type": "stream",
     "text": [
      "Epoch 1 | Avg Loss: 0.4804 | Avg Precision: 72.28%\n"
     ]
    },
    {
     "name": "stderr",
     "output_type": "stream",
     "text": [
      "Train: 100%|\u001B[32m████████████████████████\u001B[0m| 295/295 [01:05<00:00,  4.48batch/s, Loss: 0.3682 | Precision: 80.72%]\u001B[0m\n"
     ]
    },
    {
     "name": "stdout",
     "output_type": "stream",
     "text": [
      "Epoch 2 | Avg Loss: 0.3918 | Avg Precision: 79.95%\n"
     ]
    },
    {
     "name": "stderr",
     "output_type": "stream",
     "text": [
      "Validate: 100%|\u001B[34m███████████████████████\u001B[0m| 74/74 [00:13<00:00,  5.51batch/s, Loss: 0.4930 | Precision: 76.42%]\u001B[0m\n"
     ]
    },
    {
     "name": "stdout",
     "output_type": "stream",
     "text": [
      "Epoch 2 | Avg Loss: 0.4480 | Avg Precision: 76.23% | Patience: 0\n"
     ]
    },
    {
     "name": "stderr",
     "output_type": "stream",
     "text": [
      "Train: 100%|\u001B[32m████████████████████████\u001B[0m| 295/295 [01:05<00:00,  4.48batch/s, Loss: 0.3607 | Precision: 80.55%]\u001B[0m\n"
     ]
    },
    {
     "name": "stdout",
     "output_type": "stream",
     "text": [
      "Epoch 3 | Avg Loss: 0.3971 | Avg Precision: 79.54%\n"
     ]
    },
    {
     "name": "stderr",
     "output_type": "stream",
     "text": [
      "Train: 100%|\u001B[32m████████████████████████\u001B[0m| 295/295 [01:05<00:00,  4.48batch/s, Loss: 0.3343 | Precision: 81.57%]\u001B[0m\n"
     ]
    },
    {
     "name": "stdout",
     "output_type": "stream",
     "text": [
      "Epoch 4 | Avg Loss: 0.3779 | Avg Precision: 81.42%\n"
     ]
    },
    {
     "name": "stderr",
     "output_type": "stream",
     "text": [
      "Validate: 100%|\u001B[34m███████████████████████\u001B[0m| 74/74 [00:13<00:00,  5.63batch/s, Loss: 0.4187 | Precision: 83.18%]\u001B[0m\n"
     ]
    },
    {
     "name": "stdout",
     "output_type": "stream",
     "text": [
      "Epoch 4 | Avg Loss: 0.3955 | Avg Precision: 83.17% | Patience: 0\n"
     ]
    },
    {
     "name": "stderr",
     "output_type": "stream",
     "text": [
      "Train: 100%|\u001B[32m████████████████████████\u001B[0m| 295/295 [01:05<00:00,  4.49batch/s, Loss: 0.3186 | Precision: 82.34%]\u001B[0m\n"
     ]
    },
    {
     "name": "stdout",
     "output_type": "stream",
     "text": [
      "Epoch 5 | Avg Loss: 0.3639 | Avg Precision: 82.00%\n"
     ]
    },
    {
     "name": "stderr",
     "output_type": "stream",
     "text": [
      "Train: 100%|\u001B[32m████████████████████████\u001B[0m| 295/295 [01:07<00:00,  4.37batch/s, Loss: 0.3252 | Precision: 82.96%]\u001B[0m\n"
     ]
    },
    {
     "name": "stdout",
     "output_type": "stream",
     "text": [
      "Epoch 6 | Avg Loss: 0.3533 | Avg Precision: 82.54%\n"
     ]
    },
    {
     "name": "stderr",
     "output_type": "stream",
     "text": [
      "Validate: 100%|\u001B[34m███████████████████████\u001B[0m| 74/74 [00:13<00:00,  5.57batch/s, Loss: 0.3507 | Precision: 83.25%]\u001B[0m\n"
     ]
    },
    {
     "name": "stdout",
     "output_type": "stream",
     "text": [
      "Epoch 6 | Avg Loss: 0.3483 | Avg Precision: 83.12% | Patience: 1\n"
     ]
    },
    {
     "name": "stderr",
     "output_type": "stream",
     "text": [
      "Train: 100%|\u001B[32m████████████████████████\u001B[0m| 295/295 [01:06<00:00,  4.43batch/s, Loss: 0.2862 | Precision: 83.53%]\u001B[0m\n"
     ]
    },
    {
     "name": "stdout",
     "output_type": "stream",
     "text": [
      "Epoch 7 | Avg Loss: 0.3439 | Avg Precision: 83.41%\n"
     ]
    },
    {
     "name": "stderr",
     "output_type": "stream",
     "text": [
      "Train: 100%|\u001B[32m████████████████████████\u001B[0m| 295/295 [01:06<00:00,  4.45batch/s, Loss: 0.2416 | Precision: 84.20%]\u001B[0m\n"
     ]
    },
    {
     "name": "stdout",
     "output_type": "stream",
     "text": [
      "Epoch 8 | Avg Loss: 0.3333 | Avg Precision: 84.05%\n"
     ]
    },
    {
     "name": "stderr",
     "output_type": "stream",
     "text": [
      "Validate: 100%|\u001B[34m███████████████████████\u001B[0m| 74/74 [00:13<00:00,  5.57batch/s, Loss: 0.3376 | Precision: 85.24%]\u001B[0m\n"
     ]
    },
    {
     "name": "stdout",
     "output_type": "stream",
     "text": [
      "Epoch 8 | Avg Loss: 0.3290 | Avg Precision: 85.10% | Patience: 0\n"
     ]
    },
    {
     "name": "stderr",
     "output_type": "stream",
     "text": [
      "Train: 100%|\u001B[32m████████████████████████\u001B[0m| 295/295 [01:06<00:00,  4.42batch/s, Loss: 0.1918 | Precision: 84.70%]\u001B[0m\n"
     ]
    },
    {
     "name": "stdout",
     "output_type": "stream",
     "text": [
      "Epoch 9 | Avg Loss: 0.3247 | Avg Precision: 84.58%\n"
     ]
    },
    {
     "name": "stderr",
     "output_type": "stream",
     "text": [
      "Train: 100%|\u001B[32m████████████████████████\u001B[0m| 295/295 [01:06<00:00,  4.43batch/s, Loss: 0.2974 | Precision: 84.97%]\u001B[0m\n"
     ]
    },
    {
     "name": "stdout",
     "output_type": "stream",
     "text": [
      "Epoch 10 | Avg Loss: 0.3206 | Avg Precision: 84.82%\n"
     ]
    },
    {
     "name": "stderr",
     "output_type": "stream",
     "text": [
      "Validate: 100%|\u001B[34m███████████████████████\u001B[0m| 74/74 [00:13<00:00,  5.40batch/s, Loss: 0.3391 | Precision: 83.93%]\u001B[0m\n"
     ]
    },
    {
     "name": "stdout",
     "output_type": "stream",
     "text": [
      "Epoch 10 | Avg Loss: 0.3280 | Avg Precision: 83.87% | Patience: 1\n"
     ]
    },
    {
     "name": "stderr",
     "output_type": "stream",
     "text": [
      "Train: 100%|\u001B[32m████████████████████████\u001B[0m| 295/295 [01:06<00:00,  4.43batch/s, Loss: 0.2203 | Precision: 85.27%]\u001B[0m\n"
     ]
    },
    {
     "name": "stdout",
     "output_type": "stream",
     "text": [
      "Epoch 11 | Avg Loss: 0.3141 | Avg Precision: 85.23%\n"
     ]
    },
    {
     "name": "stderr",
     "output_type": "stream",
     "text": [
      "Train: 100%|\u001B[32m████████████████████████\u001B[0m| 295/295 [01:06<00:00,  4.42batch/s, Loss: 0.1885 | Precision: 85.61%]\u001B[0m\n"
     ]
    },
    {
     "name": "stdout",
     "output_type": "stream",
     "text": [
      "Epoch 12 | Avg Loss: 0.3095 | Avg Precision: 85.58%\n"
     ]
    },
    {
     "name": "stderr",
     "output_type": "stream",
     "text": [
      "Validate: 100%|\u001B[34m███████████████████████\u001B[0m| 74/74 [00:13<00:00,  5.51batch/s, Loss: 0.3271 | Precision: 84.89%]\u001B[0m\n"
     ]
    },
    {
     "name": "stdout",
     "output_type": "stream",
     "text": [
      "Epoch 12 | Avg Loss: 0.3202 | Avg Precision: 84.80% | Patience: 2\n"
     ]
    },
    {
     "name": "stderr",
     "output_type": "stream",
     "text": [
      "Train: 100%|\u001B[32m████████████████████████\u001B[0m| 295/295 [01:06<00:00,  4.42batch/s, Loss: 0.1899 | Precision: 85.94%]\u001B[0m\n"
     ]
    },
    {
     "name": "stdout",
     "output_type": "stream",
     "text": [
      "Epoch 13 | Avg Loss: 0.3021 | Avg Precision: 85.83%\n"
     ]
    },
    {
     "name": "stderr",
     "output_type": "stream",
     "text": [
      "Train: 100%|\u001B[32m████████████████████████\u001B[0m| 295/295 [01:06<00:00,  4.44batch/s, Loss: 0.1985 | Precision: 86.18%]\u001B[0m\n"
     ]
    },
    {
     "name": "stdout",
     "output_type": "stream",
     "text": [
      "Epoch 14 | Avg Loss: 0.2992 | Avg Precision: 86.12%\n"
     ]
    },
    {
     "name": "stderr",
     "output_type": "stream",
     "text": [
      "Validate: 100%|\u001B[34m███████████████████████\u001B[0m| 74/74 [00:13<00:00,  5.49batch/s, Loss: 0.3253 | Precision: 86.40%]\u001B[0m\n"
     ]
    },
    {
     "name": "stdout",
     "output_type": "stream",
     "text": [
      "Epoch 14 | Avg Loss: 0.3111 | Avg Precision: 86.32% | Patience: 0\n"
     ]
    },
    {
     "name": "stderr",
     "output_type": "stream",
     "text": [
      "Train: 100%|\u001B[32m████████████████████████\u001B[0m| 295/295 [01:06<00:00,  4.45batch/s, Loss: 0.1829 | Precision: 86.19%]\u001B[0m\n"
     ]
    },
    {
     "name": "stdout",
     "output_type": "stream",
     "text": [
      "Epoch 15 | Avg Loss: 0.2973 | Avg Precision: 86.08%\n"
     ]
    },
    {
     "name": "stderr",
     "output_type": "stream",
     "text": [
      "Train: 100%|\u001B[32m████████████████████████\u001B[0m| 295/295 [01:06<00:00,  4.42batch/s, Loss: 0.1819 | Precision: 86.39%]\u001B[0m\n"
     ]
    },
    {
     "name": "stdout",
     "output_type": "stream",
     "text": [
      "Epoch 16 | Avg Loss: 0.2948 | Avg Precision: 86.30%\n"
     ]
    },
    {
     "name": "stderr",
     "output_type": "stream",
     "text": [
      "Validate: 100%|\u001B[34m███████████████████████\u001B[0m| 74/74 [00:13<00:00,  5.50batch/s, Loss: 0.2775 | Precision: 86.71%]\u001B[0m\n"
     ]
    },
    {
     "name": "stdout",
     "output_type": "stream",
     "text": [
      "Epoch 16 | Avg Loss: 0.2885 | Avg Precision: 86.62% | Patience: 0\n"
     ]
    },
    {
     "name": "stderr",
     "output_type": "stream",
     "text": [
      "Train: 100%|\u001B[32m████████████████████████\u001B[0m| 295/295 [01:06<00:00,  4.46batch/s, Loss: 0.1410 | Precision: 86.51%]\u001B[0m\n"
     ]
    },
    {
     "name": "stdout",
     "output_type": "stream",
     "text": [
      "Epoch 17 | Avg Loss: 0.2917 | Avg Precision: 86.50%\n"
     ]
    },
    {
     "name": "stderr",
     "output_type": "stream",
     "text": [
      "Train: 100%|\u001B[32m████████████████████████\u001B[0m| 295/295 [01:06<00:00,  4.43batch/s, Loss: 0.1327 | Precision: 86.61%]\u001B[0m\n"
     ]
    },
    {
     "name": "stdout",
     "output_type": "stream",
     "text": [
      "Epoch 18 | Avg Loss: 0.2891 | Avg Precision: 86.54%\n"
     ]
    },
    {
     "name": "stderr",
     "output_type": "stream",
     "text": [
      "Validate: 100%|\u001B[34m███████████████████████\u001B[0m| 74/74 [00:13<00:00,  5.57batch/s, Loss: 0.3304 | Precision: 86.88%]\u001B[0m\n"
     ]
    },
    {
     "name": "stdout",
     "output_type": "stream",
     "text": [
      "Epoch 18 | Avg Loss: 0.3078 | Avg Precision: 86.75% | Patience: 0\n"
     ]
    },
    {
     "name": "stderr",
     "output_type": "stream",
     "text": [
      "Train: 100%|\u001B[32m████████████████████████\u001B[0m| 295/295 [01:06<00:00,  4.43batch/s, Loss: 0.1629 | Precision: 86.65%]\u001B[0m\n"
     ]
    },
    {
     "name": "stdout",
     "output_type": "stream",
     "text": [
      "Epoch 19 | Avg Loss: 0.2885 | Avg Precision: 86.46%\n"
     ]
    },
    {
     "name": "stderr",
     "output_type": "stream",
     "text": [
      "Train: 100%|\u001B[32m████████████████████████\u001B[0m| 295/295 [01:06<00:00,  4.43batch/s, Loss: 0.1585 | Precision: 86.82%]\u001B[0m\n"
     ]
    },
    {
     "name": "stdout",
     "output_type": "stream",
     "text": [
      "Epoch 20 | Avg Loss: 0.2862 | Avg Precision: 86.81%\n"
     ]
    },
    {
     "name": "stderr",
     "output_type": "stream",
     "text": [
      "Validate: 100%|\u001B[34m███████████████████████\u001B[0m| 74/74 [00:13<00:00,  5.56batch/s, Loss: 0.3240 | Precision: 87.09%]\u001B[0m\n"
     ]
    },
    {
     "name": "stdout",
     "output_type": "stream",
     "text": [
      "Epoch 20 | Avg Loss: 0.3232 | Avg Precision: 86.97% | Patience: 0\n"
     ]
    },
    {
     "name": "stderr",
     "output_type": "stream",
     "text": [
      "Train: 100%|\u001B[32m████████████████████████\u001B[0m| 295/295 [01:06<00:00,  4.44batch/s, Loss: 0.1452 | Precision: 86.88%]\u001B[0m\n"
     ]
    },
    {
     "name": "stdout",
     "output_type": "stream",
     "text": [
      "Epoch 21 | Avg Loss: 0.2866 | Avg Precision: 86.74%\n"
     ]
    },
    {
     "name": "stderr",
     "output_type": "stream",
     "text": [
      "Train: 100%|\u001B[32m████████████████████████\u001B[0m| 295/295 [01:07<00:00,  4.40batch/s, Loss: 0.1200 | Precision: 86.92%]\u001B[0m\n"
     ]
    },
    {
     "name": "stdout",
     "output_type": "stream",
     "text": [
      "Epoch 22 | Avg Loss: 0.2822 | Avg Precision: 86.87%\n"
     ]
    },
    {
     "name": "stderr",
     "output_type": "stream",
     "text": [
      "Validate: 100%|\u001B[34m███████████████████████\u001B[0m| 74/74 [00:13<00:00,  5.60batch/s, Loss: 0.2848 | Precision: 87.20%]\u001B[0m\n"
     ]
    },
    {
     "name": "stdout",
     "output_type": "stream",
     "text": [
      "Epoch 22 | Avg Loss: 0.2869 | Avg Precision: 87.19% | Patience: 0\n"
     ]
    },
    {
     "name": "stderr",
     "output_type": "stream",
     "text": [
      "Train: 100%|\u001B[32m████████████████████████\u001B[0m| 295/295 [01:06<00:00,  4.43batch/s, Loss: 0.1489 | Precision: 87.00%]\u001B[0m\n"
     ]
    },
    {
     "name": "stdout",
     "output_type": "stream",
     "text": [
      "Epoch 23 | Avg Loss: 0.2815 | Avg Precision: 86.96%\n"
     ]
    },
    {
     "name": "stderr",
     "output_type": "stream",
     "text": [
      "Train: 100%|\u001B[32m████████████████████████\u001B[0m| 295/295 [01:06<00:00,  4.42batch/s, Loss: 0.1186 | Precision: 86.99%]\u001B[0m\n"
     ]
    },
    {
     "name": "stdout",
     "output_type": "stream",
     "text": [
      "Epoch 24 | Avg Loss: 0.2812 | Avg Precision: 86.81%\n"
     ]
    },
    {
     "name": "stderr",
     "output_type": "stream",
     "text": [
      "Validate: 100%|\u001B[34m███████████████████████\u001B[0m| 74/74 [00:13<00:00,  5.62batch/s, Loss: 0.3615 | Precision: 86.24%]\u001B[0m\n"
     ]
    },
    {
     "name": "stdout",
     "output_type": "stream",
     "text": [
      "Epoch 24 | Avg Loss: 0.3413 | Avg Precision: 86.20% | Patience: 1\n"
     ]
    },
    {
     "name": "stderr",
     "output_type": "stream",
     "text": [
      "Train: 100%|\u001B[32m████████████████████████\u001B[0m| 295/295 [01:07<00:00,  4.39batch/s, Loss: 0.1440 | Precision: 87.02%]\u001B[0m\n"
     ]
    },
    {
     "name": "stdout",
     "output_type": "stream",
     "text": [
      "Epoch 25 | Avg Loss: 0.2810 | Avg Precision: 86.86%\n"
     ]
    },
    {
     "name": "stderr",
     "output_type": "stream",
     "text": [
      "Train: 100%|\u001B[32m████████████████████████\u001B[0m| 295/295 [01:06<00:00,  4.41batch/s, Loss: 0.1379 | Precision: 86.96%]\u001B[0m\n"
     ]
    },
    {
     "name": "stdout",
     "output_type": "stream",
     "text": [
      "Epoch 26 | Avg Loss: 0.2813 | Avg Precision: 86.87%\n"
     ]
    },
    {
     "name": "stderr",
     "output_type": "stream",
     "text": [
      "Validate: 100%|\u001B[34m███████████████████████\u001B[0m| 74/74 [00:13<00:00,  5.49batch/s, Loss: 0.3079 | Precision: 87.56%]\u001B[0m\n"
     ]
    },
    {
     "name": "stdout",
     "output_type": "stream",
     "text": [
      "Epoch 26 | Avg Loss: 0.2866 | Avg Precision: 87.48% | Patience: 0\n"
     ]
    },
    {
     "name": "stderr",
     "output_type": "stream",
     "text": [
      "Train: 100%|\u001B[32m████████████████████████\u001B[0m| 295/295 [01:06<00:00,  4.43batch/s, Loss: 0.1366 | Precision: 87.25%]\u001B[0m\n"
     ]
    },
    {
     "name": "stdout",
     "output_type": "stream",
     "text": [
      "Epoch 27 | Avg Loss: 0.2768 | Avg Precision: 87.10%\n"
     ]
    },
    {
     "name": "stderr",
     "output_type": "stream",
     "text": [
      "Train: 100%|\u001B[32m████████████████████████\u001B[0m| 295/295 [01:06<00:00,  4.46batch/s, Loss: 0.1551 | Precision: 87.05%]\u001B[0m\n"
     ]
    },
    {
     "name": "stdout",
     "output_type": "stream",
     "text": [
      "Epoch 28 | Avg Loss: 0.2798 | Avg Precision: 86.84%\n"
     ]
    },
    {
     "name": "stderr",
     "output_type": "stream",
     "text": [
      "Validate: 100%|\u001B[34m███████████████████████\u001B[0m| 74/74 [00:13<00:00,  5.67batch/s, Loss: 0.2901 | Precision: 87.86%]\u001B[0m\n"
     ]
    },
    {
     "name": "stdout",
     "output_type": "stream",
     "text": [
      "Epoch 28 | Avg Loss: 0.2864 | Avg Precision: 87.79% | Patience: 0\n"
     ]
    },
    {
     "name": "stderr",
     "output_type": "stream",
     "text": [
      "Train: 100%|\u001B[32m████████████████████████\u001B[0m| 295/295 [01:05<00:00,  4.49batch/s, Loss: 0.1433 | Precision: 87.23%]\u001B[0m\n"
     ]
    },
    {
     "name": "stdout",
     "output_type": "stream",
     "text": [
      "Epoch 29 | Avg Loss: 0.2770 | Avg Precision: 87.03%\n"
     ]
    },
    {
     "name": "stderr",
     "output_type": "stream",
     "text": [
      "Train: 100%|\u001B[32m████████████████████████\u001B[0m| 295/295 [01:06<00:00,  4.44batch/s, Loss: 0.1533 | Precision: 87.27%]\u001B[0m\n"
     ]
    },
    {
     "name": "stdout",
     "output_type": "stream",
     "text": [
      "Epoch 30 | Avg Loss: 0.2756 | Avg Precision: 87.10%\n"
     ]
    },
    {
     "name": "stderr",
     "output_type": "stream",
     "text": [
      "Validate: 100%|\u001B[34m███████████████████████\u001B[0m| 74/74 [00:13<00:00,  5.39batch/s, Loss: 0.2887 | Precision: 87.73%]\u001B[0m\n"
     ]
    },
    {
     "name": "stdout",
     "output_type": "stream",
     "text": [
      "Epoch 30 | Avg Loss: 0.2888 | Avg Precision: 87.68% | Patience: 1\n"
     ]
    },
    {
     "name": "stderr",
     "output_type": "stream",
     "text": [
      "Train: 100%|\u001B[32m████████████████████████\u001B[0m| 295/295 [01:06<00:00,  4.40batch/s, Loss: 0.1396 | Precision: 87.42%]\u001B[0m\n"
     ]
    },
    {
     "name": "stdout",
     "output_type": "stream",
     "text": [
      "Epoch 31 | Avg Loss: 0.2736 | Avg Precision: 87.27%\n"
     ]
    },
    {
     "name": "stderr",
     "output_type": "stream",
     "text": [
      "Train: 100%|\u001B[32m████████████████████████\u001B[0m| 295/295 [01:06<00:00,  4.42batch/s, Loss: 0.1424 | Precision: 87.29%]\u001B[0m\n"
     ]
    },
    {
     "name": "stdout",
     "output_type": "stream",
     "text": [
      "Epoch 32 | Avg Loss: 0.2745 | Avg Precision: 87.30%\n"
     ]
    },
    {
     "name": "stderr",
     "output_type": "stream",
     "text": [
      "Validate: 100%|\u001B[34m███████████████████████\u001B[0m| 74/74 [00:13<00:00,  5.57batch/s, Loss: 0.2868 | Precision: 87.70%]\u001B[0m\n"
     ]
    },
    {
     "name": "stdout",
     "output_type": "stream",
     "text": [
      "Epoch 32 | Avg Loss: 0.2843 | Avg Precision: 87.65% | Patience: 2\n"
     ]
    },
    {
     "name": "stderr",
     "output_type": "stream",
     "text": [
      "Train: 100%|\u001B[32m████████████████████████\u001B[0m| 295/295 [01:05<00:00,  4.47batch/s, Loss: 0.1090 | Precision: 87.62%]\u001B[0m\n"
     ]
    },
    {
     "name": "stdout",
     "output_type": "stream",
     "text": [
      "Epoch 33 | Avg Loss: 0.2700 | Avg Precision: 87.58%\n"
     ]
    },
    {
     "name": "stderr",
     "output_type": "stream",
     "text": [
      "Train: 100%|\u001B[32m████████████████████████\u001B[0m| 295/295 [01:06<00:00,  4.42batch/s, Loss: 0.1242 | Precision: 87.51%]\u001B[0m\n"
     ]
    },
    {
     "name": "stdout",
     "output_type": "stream",
     "text": [
      "Epoch 34 | Avg Loss: 0.2709 | Avg Precision: 87.41%\n"
     ]
    },
    {
     "name": "stderr",
     "output_type": "stream",
     "text": [
      "Validate: 100%|\u001B[34m███████████████████████\u001B[0m| 74/74 [00:13<00:00,  5.59batch/s, Loss: 0.2782 | Precision: 87.43%]\u001B[0m\n"
     ]
    },
    {
     "name": "stdout",
     "output_type": "stream",
     "text": [
      "Epoch 34 | Avg Loss: 0.2839 | Avg Precision: 87.38% | Patience: 3\n"
     ]
    },
    {
     "name": "stderr",
     "output_type": "stream",
     "text": [
      "Train: 100%|\u001B[32m████████████████████████\u001B[0m| 295/295 [01:07<00:00,  4.39batch/s, Loss: 0.1087 | Precision: 87.68%]\u001B[0m\n"
     ]
    },
    {
     "name": "stdout",
     "output_type": "stream",
     "text": [
      "Epoch 35 | Avg Loss: 0.2683 | Avg Precision: 87.67%\n"
     ]
    },
    {
     "name": "stderr",
     "output_type": "stream",
     "text": [
      "Train: 100%|\u001B[32m████████████████████████\u001B[0m| 295/295 [01:06<00:00,  4.43batch/s, Loss: 0.1124 | Precision: 87.69%]\u001B[0m\n"
     ]
    },
    {
     "name": "stdout",
     "output_type": "stream",
     "text": [
      "Epoch 36 | Avg Loss: 0.2686 | Avg Precision: 87.61%\n"
     ]
    },
    {
     "name": "stderr",
     "output_type": "stream",
     "text": [
      "Validate: 100%|\u001B[34m███████████████████████\u001B[0m| 74/74 [00:13<00:00,  5.52batch/s, Loss: 0.2893 | Precision: 86.29%]\u001B[0m\n"
     ]
    },
    {
     "name": "stdout",
     "output_type": "stream",
     "text": [
      "Epoch 36 | Avg Loss: 0.2926 | Avg Precision: 86.26% | Patience: 4\n"
     ]
    },
    {
     "name": "stderr",
     "output_type": "stream",
     "text": [
      "Train: 100%|\u001B[32m████████████████████████\u001B[0m| 295/295 [01:06<00:00,  4.47batch/s, Loss: 0.1043 | Precision: 87.92%]\u001B[0m\n"
     ]
    },
    {
     "name": "stdout",
     "output_type": "stream",
     "text": [
      "Epoch 37 | Avg Loss: 0.2640 | Avg Precision: 87.69%\n"
     ]
    },
    {
     "name": "stderr",
     "output_type": "stream",
     "text": [
      "Train: 100%|\u001B[32m████████████████████████\u001B[0m| 295/295 [01:05<00:00,  4.52batch/s, Loss: 0.1084 | Precision: 87.86%]\u001B[0m\n"
     ]
    },
    {
     "name": "stdout",
     "output_type": "stream",
     "text": [
      "Epoch 38 | Avg Loss: 0.2649 | Avg Precision: 87.78%\n"
     ]
    },
    {
     "name": "stderr",
     "output_type": "stream",
     "text": [
      "Validate: 100%|\u001B[34m███████████████████████\u001B[0m| 74/74 [00:12<00:00,  5.71batch/s, Loss: 0.2826 | Precision: 87.51%]\u001B[0m\n"
     ]
    },
    {
     "name": "stdout",
     "output_type": "stream",
     "text": [
      "Epoch 38 | Avg Loss: 0.2849 | Avg Precision: 87.48% | Patience: 5\n"
     ]
    },
    {
     "name": "stderr",
     "output_type": "stream",
     "text": [
      "Train: 100%|\u001B[32m████████████████████████\u001B[0m| 295/295 [01:05<00:00,  4.52batch/s, Loss: 0.1190 | Precision: 87.79%]\u001B[0m\n"
     ]
    },
    {
     "name": "stdout",
     "output_type": "stream",
     "text": [
      "Epoch 39 | Avg Loss: 0.2656 | Avg Precision: 87.70%\n"
     ]
    },
    {
     "name": "stderr",
     "output_type": "stream",
     "text": [
      "Train: 100%|\u001B[32m████████████████████████\u001B[0m| 295/295 [01:05<00:00,  4.52batch/s, Loss: 0.1283 | Precision: 87.88%]\u001B[0m\n"
     ]
    },
    {
     "name": "stdout",
     "output_type": "stream",
     "text": [
      "Epoch 40 | Avg Loss: 0.2646 | Avg Precision: 87.76%\n"
     ]
    },
    {
     "name": "stderr",
     "output_type": "stream",
     "text": [
      "Validate: 100%|\u001B[34m███████████████████████\u001B[0m| 74/74 [00:13<00:00,  5.64batch/s, Loss: 0.2711 | Precision: 87.95%]\u001B[0m\n"
     ]
    },
    {
     "name": "stdout",
     "output_type": "stream",
     "text": [
      "Epoch 40 | Avg Loss: 0.2675 | Avg Precision: 87.85% | Patience: 0\n"
     ]
    },
    {
     "name": "stderr",
     "output_type": "stream",
     "text": [
      "Train: 100%|\u001B[32m████████████████████████\u001B[0m| 295/295 [01:05<00:00,  4.53batch/s, Loss: 0.1103 | Precision: 87.98%]\u001B[0m\n"
     ]
    },
    {
     "name": "stdout",
     "output_type": "stream",
     "text": [
      "Epoch 41 | Avg Loss: 0.2630 | Avg Precision: 87.96%\n"
     ]
    },
    {
     "name": "stderr",
     "output_type": "stream",
     "text": [
      "Train: 100%|\u001B[32m████████████████████████\u001B[0m| 295/295 [01:05<00:00,  4.52batch/s, Loss: 0.0940 | Precision: 88.05%]\u001B[0m\n"
     ]
    },
    {
     "name": "stdout",
     "output_type": "stream",
     "text": [
      "Epoch 42 | Avg Loss: 0.2615 | Avg Precision: 87.95%\n"
     ]
    },
    {
     "name": "stderr",
     "output_type": "stream",
     "text": [
      "Validate: 100%|\u001B[34m███████████████████████\u001B[0m| 74/74 [00:13<00:00,  5.64batch/s, Loss: 0.2640 | Precision: 87.41%]\u001B[0m\n"
     ]
    },
    {
     "name": "stdout",
     "output_type": "stream",
     "text": [
      "Epoch 42 | Avg Loss: 0.2741 | Avg Precision: 87.28% | Patience: 1\n"
     ]
    },
    {
     "name": "stderr",
     "output_type": "stream",
     "text": [
      "Train: 100%|\u001B[32m████████████████████████\u001B[0m| 295/295 [01:05<00:00,  4.51batch/s, Loss: 0.0981 | Precision: 88.01%]\u001B[0m\n"
     ]
    },
    {
     "name": "stdout",
     "output_type": "stream",
     "text": [
      "Epoch 43 | Avg Loss: 0.2610 | Avg Precision: 87.98%\n"
     ]
    },
    {
     "name": "stderr",
     "output_type": "stream",
     "text": [
      "Train: 100%|\u001B[32m████████████████████████\u001B[0m| 295/295 [01:05<00:00,  4.50batch/s, Loss: 0.1122 | Precision: 88.11%]\u001B[0m\n"
     ]
    },
    {
     "name": "stdout",
     "output_type": "stream",
     "text": [
      "Epoch 44 | Avg Loss: 0.2605 | Avg Precision: 88.10%\n"
     ]
    },
    {
     "name": "stderr",
     "output_type": "stream",
     "text": [
      "Validate: 100%|\u001B[34m███████████████████████\u001B[0m| 74/74 [00:13<00:00,  5.61batch/s, Loss: 0.2744 | Precision: 87.56%]\u001B[0m\n"
     ]
    },
    {
     "name": "stdout",
     "output_type": "stream",
     "text": [
      "Epoch 44 | Avg Loss: 0.2749 | Avg Precision: 87.37% | Patience: 2\n"
     ]
    },
    {
     "name": "stderr",
     "output_type": "stream",
     "text": [
      "Train: 100%|\u001B[32m████████████████████████\u001B[0m| 295/295 [01:05<00:00,  4.52batch/s, Loss: 0.0873 | Precision: 88.16%]\u001B[0m\n"
     ]
    },
    {
     "name": "stdout",
     "output_type": "stream",
     "text": [
      "Epoch 45 | Avg Loss: 0.2593 | Avg Precision: 88.09%\n"
     ]
    },
    {
     "name": "stderr",
     "output_type": "stream",
     "text": [
      "Train: 100%|\u001B[32m████████████████████████\u001B[0m| 295/295 [01:05<00:00,  4.49batch/s, Loss: 0.1058 | Precision: 88.25%]\u001B[0m\n"
     ]
    },
    {
     "name": "stdout",
     "output_type": "stream",
     "text": [
      "Epoch 46 | Avg Loss: 0.2575 | Avg Precision: 88.18%\n"
     ]
    },
    {
     "name": "stderr",
     "output_type": "stream",
     "text": [
      "Validate: 100%|\u001B[34m███████████████████████\u001B[0m| 74/74 [00:13<00:00,  5.62batch/s, Loss: 0.2639 | Precision: 88.44%]\u001B[0m\n"
     ]
    },
    {
     "name": "stdout",
     "output_type": "stream",
     "text": [
      "Epoch 46 | Avg Loss: 0.2662 | Avg Precision: 88.49% | Patience: 0\n"
     ]
    },
    {
     "name": "stderr",
     "output_type": "stream",
     "text": [
      "Train: 100%|\u001B[32m████████████████████████\u001B[0m| 295/295 [01:05<00:00,  4.51batch/s, Loss: 0.1137 | Precision: 88.34%]\u001B[0m\n"
     ]
    },
    {
     "name": "stdout",
     "output_type": "stream",
     "text": [
      "Epoch 47 | Avg Loss: 0.2567 | Avg Precision: 88.36%\n"
     ]
    },
    {
     "name": "stderr",
     "output_type": "stream",
     "text": [
      "Train: 100%|\u001B[32m████████████████████████\u001B[0m| 295/295 [01:05<00:00,  4.49batch/s, Loss: 0.0892 | Precision: 88.30%]\u001B[0m\n"
     ]
    },
    {
     "name": "stdout",
     "output_type": "stream",
     "text": [
      "Epoch 48 | Avg Loss: 0.2563 | Avg Precision: 88.30%\n"
     ]
    },
    {
     "name": "stderr",
     "output_type": "stream",
     "text": [
      "Validate: 100%|\u001B[34m███████████████████████\u001B[0m| 74/74 [00:13<00:00,  5.64batch/s, Loss: 0.2649 | Precision: 88.29%]\u001B[0m\n"
     ]
    },
    {
     "name": "stdout",
     "output_type": "stream",
     "text": [
      "Epoch 48 | Avg Loss: 0.2686 | Avg Precision: 88.34% | Patience: 1\n"
     ]
    },
    {
     "name": "stderr",
     "output_type": "stream",
     "text": [
      "Train: 100%|\u001B[32m████████████████████████\u001B[0m| 295/295 [01:05<00:00,  4.50batch/s, Loss: 0.0981 | Precision: 88.31%]\u001B[0m\n"
     ]
    },
    {
     "name": "stdout",
     "output_type": "stream",
     "text": [
      "Epoch 49 | Avg Loss: 0.2562 | Avg Precision: 88.22%\n"
     ]
    },
    {
     "name": "stderr",
     "output_type": "stream",
     "text": [
      "Train: 100%|\u001B[32m████████████████████████\u001B[0m| 295/295 [01:05<00:00,  4.50batch/s, Loss: 0.1154 | Precision: 88.25%]\u001B[0m\n"
     ]
    },
    {
     "name": "stdout",
     "output_type": "stream",
     "text": [
      "Epoch 50 | Avg Loss: 0.2575 | Avg Precision: 88.20%\n"
     ]
    },
    {
     "name": "stderr",
     "output_type": "stream",
     "text": [
      "Validate: 100%|\u001B[34m███████████████████████\u001B[0m| 74/74 [00:12<00:00,  5.70batch/s, Loss: 0.2564 | Precision: 87.25%]\u001B[0m\n"
     ]
    },
    {
     "name": "stdout",
     "output_type": "stream",
     "text": [
      "Epoch 50 | Avg Loss: 0.2755 | Avg Precision: 87.21% | Patience: 2\n"
     ]
    },
    {
     "name": "stderr",
     "output_type": "stream",
     "text": [
      "Train: 100%|\u001B[32m████████████████████████\u001B[0m| 295/295 [01:05<00:00,  4.52batch/s, Loss: 0.1075 | Precision: 88.53%]\u001B[0m\n"
     ]
    },
    {
     "name": "stdout",
     "output_type": "stream",
     "text": [
      "Epoch 51 | Avg Loss: 0.2530 | Avg Precision: 88.34%\n"
     ]
    },
    {
     "name": "stderr",
     "output_type": "stream",
     "text": [
      "Train: 100%|\u001B[32m████████████████████████\u001B[0m| 295/295 [01:05<00:00,  4.51batch/s, Loss: 0.0915 | Precision: 88.50%]\u001B[0m\n"
     ]
    },
    {
     "name": "stdout",
     "output_type": "stream",
     "text": [
      "Epoch 52 | Avg Loss: 0.2530 | Avg Precision: 88.39%\n"
     ]
    },
    {
     "name": "stderr",
     "output_type": "stream",
     "text": [
      "Validate: 100%|\u001B[34m███████████████████████\u001B[0m| 74/74 [00:13<00:00,  5.69batch/s, Loss: 0.2333 | Precision: 88.34%]\u001B[0m\n"
     ]
    },
    {
     "name": "stdout",
     "output_type": "stream",
     "text": [
      "Epoch 52 | Avg Loss: 0.2622 | Avg Precision: 88.35% | Patience: 3\n"
     ]
    },
    {
     "name": "stderr",
     "output_type": "stream",
     "text": [
      "Train: 100%|\u001B[32m████████████████████████\u001B[0m| 295/295 [01:05<00:00,  4.53batch/s, Loss: 0.0900 | Precision: 88.61%]\u001B[0m\n"
     ]
    },
    {
     "name": "stdout",
     "output_type": "stream",
     "text": [
      "Epoch 53 | Avg Loss: 0.2512 | Avg Precision: 88.51%\n"
     ]
    },
    {
     "name": "stderr",
     "output_type": "stream",
     "text": [
      "Train: 100%|\u001B[32m████████████████████████\u001B[0m| 295/295 [01:04<00:00,  4.56batch/s, Loss: 0.0777 | Precision: 88.60%]\u001B[0m\n"
     ]
    },
    {
     "name": "stdout",
     "output_type": "stream",
     "text": [
      "Epoch 54 | Avg Loss: 0.2512 | Avg Precision: 88.58%\n"
     ]
    },
    {
     "name": "stderr",
     "output_type": "stream",
     "text": [
      "Validate: 100%|\u001B[34m███████████████████████\u001B[0m| 74/74 [00:12<00:00,  5.72batch/s, Loss: 0.2332 | Precision: 88.31%]\u001B[0m\n"
     ]
    },
    {
     "name": "stdout",
     "output_type": "stream",
     "text": [
      "Epoch 54 | Avg Loss: 0.2594 | Avg Precision: 88.29% | Patience: 4\n"
     ]
    },
    {
     "name": "stderr",
     "output_type": "stream",
     "text": [
      "Train: 100%|\u001B[32m████████████████████████\u001B[0m| 295/295 [01:04<00:00,  4.55batch/s, Loss: 0.0712 | Precision: 88.62%]\u001B[0m\n"
     ]
    },
    {
     "name": "stdout",
     "output_type": "stream",
     "text": [
      "Epoch 55 | Avg Loss: 0.2507 | Avg Precision: 88.58%\n"
     ]
    },
    {
     "name": "stderr",
     "output_type": "stream",
     "text": [
      "Train: 100%|\u001B[32m████████████████████████\u001B[0m| 295/295 [01:04<00:00,  4.55batch/s, Loss: 0.0761 | Precision: 88.67%]\u001B[0m\n"
     ]
    },
    {
     "name": "stdout",
     "output_type": "stream",
     "text": [
      "Epoch 56 | Avg Loss: 0.2492 | Avg Precision: 88.57%\n"
     ]
    },
    {
     "name": "stderr",
     "output_type": "stream",
     "text": [
      "Validate: 100%|\u001B[34m███████████████████████\u001B[0m| 74/74 [00:12<00:00,  5.75batch/s, Loss: 0.2494 | Precision: 88.09%]\u001B[0m\n"
     ]
    },
    {
     "name": "stdout",
     "output_type": "stream",
     "text": [
      "Epoch 56 | Avg Loss: 0.2708 | Avg Precision: 88.08% | Patience: 5\n"
     ]
    },
    {
     "name": "stderr",
     "output_type": "stream",
     "text": [
      "Train: 100%|\u001B[32m████████████████████████\u001B[0m| 295/295 [01:04<00:00,  4.55batch/s, Loss: 0.0725 | Precision: 88.82%]\u001B[0m\n"
     ]
    },
    {
     "name": "stdout",
     "output_type": "stream",
     "text": [
      "Epoch 57 | Avg Loss: 0.2473 | Avg Precision: 88.72%\n"
     ]
    },
    {
     "name": "stderr",
     "output_type": "stream",
     "text": [
      "Train: 100%|\u001B[32m████████████████████████\u001B[0m| 295/295 [01:04<00:00,  4.55batch/s, Loss: 0.0682 | Precision: 88.79%]\u001B[0m\n"
     ]
    },
    {
     "name": "stdout",
     "output_type": "stream",
     "text": [
      "Epoch 58 | Avg Loss: 0.2481 | Avg Precision: 88.80%\n"
     ]
    },
    {
     "name": "stderr",
     "output_type": "stream",
     "text": [
      "Validate: 100%|\u001B[34m███████████████████████\u001B[0m| 74/74 [00:12<00:00,  5.79batch/s, Loss: 0.2382 | Precision: 88.22%]\u001B[0m\n"
     ]
    },
    {
     "name": "stdout",
     "output_type": "stream",
     "text": [
      "Epoch 58 | Avg Loss: 0.2589 | Avg Precision: 88.05% | Patience: 6\n"
     ]
    },
    {
     "name": "stderr",
     "output_type": "stream",
     "text": [
      "Train: 100%|\u001B[32m████████████████████████\u001B[0m| 295/295 [01:04<00:00,  4.57batch/s, Loss: 0.0769 | Precision: 88.86%]\u001B[0m\n"
     ]
    },
    {
     "name": "stdout",
     "output_type": "stream",
     "text": [
      "Epoch 59 | Avg Loss: 0.2463 | Avg Precision: 88.70%\n"
     ]
    },
    {
     "name": "stderr",
     "output_type": "stream",
     "text": [
      "Train: 100%|\u001B[32m████████████████████████\u001B[0m| 295/295 [01:04<00:00,  4.56batch/s, Loss: 0.0734 | Precision: 88.91%]\u001B[0m\n"
     ]
    },
    {
     "name": "stdout",
     "output_type": "stream",
     "text": [
      "Epoch 60 | Avg Loss: 0.2462 | Avg Precision: 88.91%\n"
     ]
    },
    {
     "name": "stderr",
     "output_type": "stream",
     "text": [
      "Validate: 100%|\u001B[34m███████████████████████\u001B[0m| 74/74 [00:12<00:00,  5.76batch/s, Loss: 0.2378 | Precision: 89.38%]\u001B[0m\n"
     ]
    },
    {
     "name": "stdout",
     "output_type": "stream",
     "text": [
      "Epoch 60 | Avg Loss: 0.2530 | Avg Precision: 89.32% | Patience: 0\n"
     ]
    },
    {
     "name": "stderr",
     "output_type": "stream",
     "text": [
      "Train: 100%|\u001B[32m████████████████████████\u001B[0m| 295/295 [01:04<00:00,  4.57batch/s, Loss: 0.0696 | Precision: 88.98%]\u001B[0m\n"
     ]
    },
    {
     "name": "stdout",
     "output_type": "stream",
     "text": [
      "Epoch 61 | Avg Loss: 0.2445 | Avg Precision: 88.96%\n"
     ]
    },
    {
     "name": "stderr",
     "output_type": "stream",
     "text": [
      "Train: 100%|\u001B[32m████████████████████████\u001B[0m| 295/295 [01:04<00:00,  4.57batch/s, Loss: 0.0873 | Precision: 88.89%]\u001B[0m\n"
     ]
    },
    {
     "name": "stdout",
     "output_type": "stream",
     "text": [
      "Epoch 62 | Avg Loss: 0.2452 | Avg Precision: 88.79%\n"
     ]
    },
    {
     "name": "stderr",
     "output_type": "stream",
     "text": [
      "Validate: 100%|\u001B[34m███████████████████████\u001B[0m| 74/74 [00:12<00:00,  5.76batch/s, Loss: 0.2265 | Precision: 88.31%]\u001B[0m\n"
     ]
    },
    {
     "name": "stdout",
     "output_type": "stream",
     "text": [
      "Epoch 62 | Avg Loss: 0.2557 | Avg Precision: 88.22% | Patience: 1\n"
     ]
    },
    {
     "name": "stderr",
     "output_type": "stream",
     "text": [
      "Train: 100%|\u001B[32m████████████████████████\u001B[0m| 295/295 [01:04<00:00,  4.57batch/s, Loss: 0.0718 | Precision: 88.98%]\u001B[0m\n"
     ]
    },
    {
     "name": "stdout",
     "output_type": "stream",
     "text": [
      "Epoch 63 | Avg Loss: 0.2445 | Avg Precision: 88.89%\n"
     ]
    },
    {
     "name": "stderr",
     "output_type": "stream",
     "text": [
      "Train: 100%|\u001B[32m████████████████████████\u001B[0m| 295/295 [01:04<00:00,  4.57batch/s, Loss: 0.0513 | Precision: 89.01%]\u001B[0m\n"
     ]
    },
    {
     "name": "stdout",
     "output_type": "stream",
     "text": [
      "Epoch 64 | Avg Loss: 0.2439 | Avg Precision: 88.99%\n"
     ]
    },
    {
     "name": "stderr",
     "output_type": "stream",
     "text": [
      "Validate: 100%|\u001B[34m███████████████████████\u001B[0m| 74/74 [00:12<00:00,  5.74batch/s, Loss: 0.2310 | Precision: 89.51%]\u001B[0m\n"
     ]
    },
    {
     "name": "stdout",
     "output_type": "stream",
     "text": [
      "Epoch 64 | Avg Loss: 0.2519 | Avg Precision: 89.43% | Patience: 0\n"
     ]
    },
    {
     "name": "stderr",
     "output_type": "stream",
     "text": [
      "Train: 100%|\u001B[32m████████████████████████\u001B[0m| 295/295 [01:04<00:00,  4.56batch/s, Loss: 0.0549 | Precision: 89.01%]\u001B[0m\n"
     ]
    },
    {
     "name": "stdout",
     "output_type": "stream",
     "text": [
      "Epoch 65 | Avg Loss: 0.2440 | Avg Precision: 88.97%\n"
     ]
    },
    {
     "name": "stderr",
     "output_type": "stream",
     "text": [
      "Train: 100%|\u001B[32m████████████████████████\u001B[0m| 295/295 [01:04<00:00,  4.56batch/s, Loss: 0.0602 | Precision: 88.98%]\u001B[0m\n"
     ]
    },
    {
     "name": "stdout",
     "output_type": "stream",
     "text": [
      "Epoch 66 | Avg Loss: 0.2440 | Avg Precision: 88.94%\n"
     ]
    },
    {
     "name": "stderr",
     "output_type": "stream",
     "text": [
      "Validate: 100%|\u001B[34m███████████████████████\u001B[0m| 74/74 [00:12<00:00,  5.77batch/s, Loss: 0.2397 | Precision: 89.24%]\u001B[0m\n"
     ]
    },
    {
     "name": "stdout",
     "output_type": "stream",
     "text": [
      "Epoch 66 | Avg Loss: 0.2545 | Avg Precision: 89.16% | Patience: 1\n"
     ]
    },
    {
     "name": "stderr",
     "output_type": "stream",
     "text": [
      "Train: 100%|\u001B[32m████████████████████████\u001B[0m| 295/295 [01:04<00:00,  4.58batch/s, Loss: 0.0678 | Precision: 89.01%]\u001B[0m\n"
     ]
    },
    {
     "name": "stdout",
     "output_type": "stream",
     "text": [
      "Epoch 67 | Avg Loss: 0.2434 | Avg Precision: 89.06%\n"
     ]
    },
    {
     "name": "stderr",
     "output_type": "stream",
     "text": [
      "Train: 100%|\u001B[32m████████████████████████\u001B[0m| 295/295 [01:04<00:00,  4.56batch/s, Loss: 0.0698 | Precision: 89.02%]\u001B[0m\n"
     ]
    },
    {
     "name": "stdout",
     "output_type": "stream",
     "text": [
      "Epoch 68 | Avg Loss: 0.2427 | Avg Precision: 88.95%\n"
     ]
    },
    {
     "name": "stderr",
     "output_type": "stream",
     "text": [
      "Validate: 100%|\u001B[34m███████████████████████\u001B[0m| 74/74 [00:12<00:00,  5.75batch/s, Loss: 0.2286 | Precision: 89.30%]\u001B[0m\n"
     ]
    },
    {
     "name": "stdout",
     "output_type": "stream",
     "text": [
      "Epoch 68 | Avg Loss: 0.2585 | Avg Precision: 89.13% | Patience: 2\n"
     ]
    },
    {
     "name": "stderr",
     "output_type": "stream",
     "text": [
      "Train: 100%|\u001B[32m████████████████████████\u001B[0m| 295/295 [01:04<00:00,  4.57batch/s, Loss: 0.0530 | Precision: 89.16%]\u001B[0m\n"
     ]
    },
    {
     "name": "stdout",
     "output_type": "stream",
     "text": [
      "Epoch 69 | Avg Loss: 0.2410 | Avg Precision: 89.05%\n"
     ]
    },
    {
     "name": "stderr",
     "output_type": "stream",
     "text": [
      "Train: 100%|\u001B[32m████████████████████████\u001B[0m| 295/295 [01:04<00:00,  4.57batch/s, Loss: 0.0746 | Precision: 89.10%]\u001B[0m\n"
     ]
    },
    {
     "name": "stdout",
     "output_type": "stream",
     "text": [
      "Epoch 70 | Avg Loss: 0.2418 | Avg Precision: 89.11%\n"
     ]
    },
    {
     "name": "stderr",
     "output_type": "stream",
     "text": [
      "Validate: 100%|\u001B[34m███████████████████████\u001B[0m| 74/74 [00:12<00:00,  5.71batch/s, Loss: 0.2459 | Precision: 88.99%]\u001B[0m\n"
     ]
    },
    {
     "name": "stdout",
     "output_type": "stream",
     "text": [
      "Epoch 70 | Avg Loss: 0.2546 | Avg Precision: 88.99% | Patience: 3\n"
     ]
    },
    {
     "name": "stderr",
     "output_type": "stream",
     "text": [
      "Train: 100%|\u001B[32m████████████████████████\u001B[0m| 295/295 [01:04<00:00,  4.56batch/s, Loss: 0.0689 | Precision: 89.15%]\u001B[0m\n"
     ]
    },
    {
     "name": "stdout",
     "output_type": "stream",
     "text": [
      "Epoch 71 | Avg Loss: 0.2406 | Avg Precision: 89.04%\n"
     ]
    },
    {
     "name": "stderr",
     "output_type": "stream",
     "text": [
      "Train: 100%|\u001B[32m████████████████████████\u001B[0m| 295/295 [01:04<00:00,  4.56batch/s, Loss: 0.0597 | Precision: 89.16%]\u001B[0m\n"
     ]
    },
    {
     "name": "stdout",
     "output_type": "stream",
     "text": [
      "Epoch 72 | Avg Loss: 0.2415 | Avg Precision: 89.16%\n"
     ]
    },
    {
     "name": "stderr",
     "output_type": "stream",
     "text": [
      "Validate: 100%|\u001B[34m███████████████████████\u001B[0m| 74/74 [00:12<00:00,  5.81batch/s, Loss: 0.2298 | Precision: 89.40%]\u001B[0m\n"
     ]
    },
    {
     "name": "stdout",
     "output_type": "stream",
     "text": [
      "Epoch 72 | Avg Loss: 0.2495 | Avg Precision: 89.27% | Patience: 4\n"
     ]
    },
    {
     "name": "stderr",
     "output_type": "stream",
     "text": [
      "Train: 100%|\u001B[32m████████████████████████\u001B[0m| 295/295 [01:04<00:00,  4.57batch/s, Loss: 0.0586 | Precision: 89.32%]\u001B[0m\n"
     ]
    },
    {
     "name": "stdout",
     "output_type": "stream",
     "text": [
      "Epoch 73 | Avg Loss: 0.2375 | Avg Precision: 89.32%\n"
     ]
    },
    {
     "name": "stderr",
     "output_type": "stream",
     "text": [
      "Train: 100%|\u001B[32m████████████████████████\u001B[0m| 295/295 [01:04<00:00,  4.58batch/s, Loss: 0.0571 | Precision: 89.30%]\u001B[0m\n"
     ]
    },
    {
     "name": "stdout",
     "output_type": "stream",
     "text": [
      "Epoch 74 | Avg Loss: 0.2380 | Avg Precision: 89.23%\n"
     ]
    },
    {
     "name": "stderr",
     "output_type": "stream",
     "text": [
      "Validate: 100%|\u001B[34m███████████████████████\u001B[0m| 74/74 [00:12<00:00,  5.77batch/s, Loss: 0.2365 | Precision: 89.62%]\u001B[0m\n"
     ]
    },
    {
     "name": "stdout",
     "output_type": "stream",
     "text": [
      "Epoch 74 | Avg Loss: 0.2492 | Avg Precision: 89.63% | Patience: 0\n"
     ]
    },
    {
     "name": "stderr",
     "output_type": "stream",
     "text": [
      "Train: 100%|\u001B[32m████████████████████████\u001B[0m| 295/295 [01:04<00:00,  4.58batch/s, Loss: 0.0534 | Precision: 89.33%]\u001B[0m\n"
     ]
    },
    {
     "name": "stdout",
     "output_type": "stream",
     "text": [
      "Epoch 75 | Avg Loss: 0.2376 | Avg Precision: 89.36%\n"
     ]
    },
    {
     "name": "stderr",
     "output_type": "stream",
     "text": [
      "Train: 100%|\u001B[32m████████████████████████\u001B[0m| 295/295 [01:04<00:00,  4.57batch/s, Loss: 0.0570 | Precision: 89.25%]\u001B[0m\n"
     ]
    },
    {
     "name": "stdout",
     "output_type": "stream",
     "text": [
      "Epoch 76 | Avg Loss: 0.2390 | Avg Precision: 89.19%\n"
     ]
    },
    {
     "name": "stderr",
     "output_type": "stream",
     "text": [
      "Validate: 100%|\u001B[34m███████████████████████\u001B[0m| 74/74 [00:12<00:00,  5.74batch/s, Loss: 0.2221 | Precision: 89.40%]\u001B[0m\n"
     ]
    },
    {
     "name": "stdout",
     "output_type": "stream",
     "text": [
      "Epoch 76 | Avg Loss: 0.2481 | Avg Precision: 89.34% | Patience: 1\n"
     ]
    },
    {
     "name": "stderr",
     "output_type": "stream",
     "text": [
      "Train: 100%|\u001B[32m████████████████████████\u001B[0m| 295/295 [01:04<00:00,  4.57batch/s, Loss: 0.0627 | Precision: 89.42%]\u001B[0m\n"
     ]
    },
    {
     "name": "stdout",
     "output_type": "stream",
     "text": [
      "Epoch 77 | Avg Loss: 0.2366 | Avg Precision: 89.46%\n"
     ]
    },
    {
     "name": "stderr",
     "output_type": "stream",
     "text": [
      "Train: 100%|\u001B[32m████████████████████████\u001B[0m| 295/295 [01:04<00:00,  4.58batch/s, Loss: 0.0467 | Precision: 89.50%]\u001B[0m\n"
     ]
    },
    {
     "name": "stdout",
     "output_type": "stream",
     "text": [
      "Epoch 78 | Avg Loss: 0.2352 | Avg Precision: 89.46%\n"
     ]
    },
    {
     "name": "stderr",
     "output_type": "stream",
     "text": [
      "Validate: 100%|\u001B[34m███████████████████████\u001B[0m| 74/74 [00:12<00:00,  5.75batch/s, Loss: 0.2353 | Precision: 89.79%]\u001B[0m\n"
     ]
    },
    {
     "name": "stdout",
     "output_type": "stream",
     "text": [
      "Epoch 78 | Avg Loss: 0.2469 | Avg Precision: 89.76% | Patience: 0\n"
     ]
    },
    {
     "name": "stderr",
     "output_type": "stream",
     "text": [
      "Train: 100%|\u001B[32m████████████████████████\u001B[0m| 295/295 [01:04<00:00,  4.57batch/s, Loss: 0.0514 | Precision: 89.35%]\u001B[0m\n"
     ]
    },
    {
     "name": "stdout",
     "output_type": "stream",
     "text": [
      "Epoch 79 | Avg Loss: 0.2376 | Avg Precision: 89.28%\n"
     ]
    },
    {
     "name": "stderr",
     "output_type": "stream",
     "text": [
      "Train: 100%|\u001B[32m████████████████████████\u001B[0m| 295/295 [01:04<00:00,  4.58batch/s, Loss: 0.0671 | Precision: 89.42%]\u001B[0m\n"
     ]
    },
    {
     "name": "stdout",
     "output_type": "stream",
     "text": [
      "Epoch 80 | Avg Loss: 0.2352 | Avg Precision: 89.43%\n"
     ]
    },
    {
     "name": "stderr",
     "output_type": "stream",
     "text": [
      "Validate: 100%|\u001B[34m███████████████████████\u001B[0m| 74/74 [00:12<00:00,  5.74batch/s, Loss: 0.2277 | Precision: 89.54%]\u001B[0m\n"
     ]
    },
    {
     "name": "stdout",
     "output_type": "stream",
     "text": [
      "Epoch 80 | Avg Loss: 0.2489 | Avg Precision: 89.48% | Patience: 1\n"
     ]
    },
    {
     "name": "stderr",
     "output_type": "stream",
     "text": [
      "Train: 100%|\u001B[32m████████████████████████\u001B[0m| 295/295 [01:04<00:00,  4.57batch/s, Loss: 0.0619 | Precision: 89.52%]\u001B[0m\n"
     ]
    },
    {
     "name": "stdout",
     "output_type": "stream",
     "text": [
      "Epoch 81 | Avg Loss: 0.2348 | Avg Precision: 89.49%\n"
     ]
    },
    {
     "name": "stderr",
     "output_type": "stream",
     "text": [
      "Train: 100%|\u001B[32m████████████████████████\u001B[0m| 295/295 [01:04<00:00,  4.57batch/s, Loss: 0.0530 | Precision: 89.56%]\u001B[0m\n"
     ]
    },
    {
     "name": "stdout",
     "output_type": "stream",
     "text": [
      "Epoch 82 | Avg Loss: 0.2341 | Avg Precision: 89.49%\n"
     ]
    },
    {
     "name": "stderr",
     "output_type": "stream",
     "text": [
      "Validate: 100%|\u001B[34m███████████████████████\u001B[0m| 74/74 [00:12<00:00,  5.76batch/s, Loss: 0.2315 | Precision: 89.65%]\u001B[0m\n"
     ]
    },
    {
     "name": "stdout",
     "output_type": "stream",
     "text": [
      "Epoch 82 | Avg Loss: 0.2440 | Avg Precision: 89.52% | Patience: 2\n"
     ]
    },
    {
     "name": "stderr",
     "output_type": "stream",
     "text": [
      "Train: 100%|\u001B[32m████████████████████████\u001B[0m| 295/295 [01:04<00:00,  4.61batch/s, Loss: 0.0516 | Precision: 89.55%]\u001B[0m\n"
     ]
    },
    {
     "name": "stdout",
     "output_type": "stream",
     "text": [
      "Epoch 83 | Avg Loss: 0.2334 | Avg Precision: 89.48%\n"
     ]
    },
    {
     "name": "stderr",
     "output_type": "stream",
     "text": [
      "Train: 100%|\u001B[32m████████████████████████\u001B[0m| 295/295 [01:04<00:00,  4.59batch/s, Loss: 0.0513 | Precision: 89.61%]\u001B[0m\n"
     ]
    },
    {
     "name": "stdout",
     "output_type": "stream",
     "text": [
      "Epoch 84 | Avg Loss: 0.2326 | Avg Precision: 89.62%\n"
     ]
    },
    {
     "name": "stderr",
     "output_type": "stream",
     "text": [
      "Validate: 100%|\u001B[34m███████████████████████\u001B[0m| 74/74 [00:12<00:00,  5.74batch/s, Loss: 0.2272 | Precision: 89.64%]\u001B[0m\n"
     ]
    },
    {
     "name": "stdout",
     "output_type": "stream",
     "text": [
      "Epoch 84 | Avg Loss: 0.2428 | Avg Precision: 89.52% | Patience: 3\n"
     ]
    },
    {
     "name": "stderr",
     "output_type": "stream",
     "text": [
      "Train: 100%|\u001B[32m████████████████████████\u001B[0m| 295/295 [01:04<00:00,  4.61batch/s, Loss: 0.0575 | Precision: 89.67%]\u001B[0m\n"
     ]
    },
    {
     "name": "stdout",
     "output_type": "stream",
     "text": [
      "Epoch 85 | Avg Loss: 0.2321 | Avg Precision: 89.72%\n"
     ]
    },
    {
     "name": "stderr",
     "output_type": "stream",
     "text": [
      "Train: 100%|\u001B[32m████████████████████████\u001B[0m| 295/295 [01:04<00:00,  4.61batch/s, Loss: 0.0641 | Precision: 89.53%]\u001B[0m\n"
     ]
    },
    {
     "name": "stdout",
     "output_type": "stream",
     "text": [
      "Epoch 86 | Avg Loss: 0.2342 | Avg Precision: 89.54%\n"
     ]
    },
    {
     "name": "stderr",
     "output_type": "stream",
     "text": [
      "Validate: 100%|\u001B[34m███████████████████████\u001B[0m| 74/74 [00:12<00:00,  5.78batch/s, Loss: 0.2264 | Precision: 89.23%]\u001B[0m\n"
     ]
    },
    {
     "name": "stdout",
     "output_type": "stream",
     "text": [
      "Epoch 86 | Avg Loss: 0.2421 | Avg Precision: 89.16% | Patience: 4\n"
     ]
    },
    {
     "name": "stderr",
     "output_type": "stream",
     "text": [
      "Train: 100%|\u001B[32m████████████████████████\u001B[0m| 295/295 [01:04<00:00,  4.60batch/s, Loss: 0.0387 | Precision: 89.67%]\u001B[0m\n"
     ]
    },
    {
     "name": "stdout",
     "output_type": "stream",
     "text": [
      "Epoch 87 | Avg Loss: 0.2319 | Avg Precision: 89.68%\n"
     ]
    },
    {
     "name": "stderr",
     "output_type": "stream",
     "text": [
      "Train: 100%|\u001B[32m████████████████████████\u001B[0m| 295/295 [01:04<00:00,  4.60batch/s, Loss: 0.0597 | Precision: 89.73%]\u001B[0m\n"
     ]
    },
    {
     "name": "stdout",
     "output_type": "stream",
     "text": [
      "Epoch 88 | Avg Loss: 0.2311 | Avg Precision: 89.70%\n"
     ]
    },
    {
     "name": "stderr",
     "output_type": "stream",
     "text": [
      "Validate: 100%|\u001B[34m███████████████████████\u001B[0m| 74/74 [00:12<00:00,  5.75batch/s, Loss: 0.2103 | Precision: 89.22%]\u001B[0m\n"
     ]
    },
    {
     "name": "stdout",
     "output_type": "stream",
     "text": [
      "Epoch 88 | Avg Loss: 0.2409 | Avg Precision: 89.12% | Patience: 5\n"
     ]
    },
    {
     "name": "stderr",
     "output_type": "stream",
     "text": [
      "Train: 100%|\u001B[32m████████████████████████\u001B[0m| 295/295 [01:04<00:00,  4.61batch/s, Loss: 0.0538 | Precision: 89.76%]\u001B[0m\n"
     ]
    },
    {
     "name": "stdout",
     "output_type": "stream",
     "text": [
      "Epoch 89 | Avg Loss: 0.2302 | Avg Precision: 89.72%\n"
     ]
    },
    {
     "name": "stderr",
     "output_type": "stream",
     "text": [
      "Train: 100%|\u001B[32m████████████████████████\u001B[0m| 295/295 [01:04<00:00,  4.61batch/s, Loss: 0.0512 | Precision: 89.72%]\u001B[0m\n"
     ]
    },
    {
     "name": "stdout",
     "output_type": "stream",
     "text": [
      "Epoch 90 | Avg Loss: 0.2303 | Avg Precision: 89.70%\n"
     ]
    },
    {
     "name": "stderr",
     "output_type": "stream",
     "text": [
      "Validate: 100%|\u001B[34m███████████████████████\u001B[0m| 74/74 [00:12<00:00,  5.74batch/s, Loss: 0.2214 | Precision: 89.35%]\u001B[0m\n"
     ]
    },
    {
     "name": "stdout",
     "output_type": "stream",
     "text": [
      "Epoch 90 | Avg Loss: 0.2453 | Avg Precision: 89.20% | Patience: 6\n"
     ]
    },
    {
     "name": "stderr",
     "output_type": "stream",
     "text": [
      "Train: 100%|\u001B[32m████████████████████████\u001B[0m| 295/295 [01:04<00:00,  4.60batch/s, Loss: 0.0428 | Precision: 89.79%]\u001B[0m\n"
     ]
    },
    {
     "name": "stdout",
     "output_type": "stream",
     "text": [
      "Epoch 91 | Avg Loss: 0.2293 | Avg Precision: 89.78%\n"
     ]
    },
    {
     "name": "stderr",
     "output_type": "stream",
     "text": [
      "Train: 100%|\u001B[32m████████████████████████\u001B[0m| 295/295 [01:04<00:00,  4.59batch/s, Loss: 0.0414 | Precision: 89.88%]\u001B[0m\n"
     ]
    },
    {
     "name": "stdout",
     "output_type": "stream",
     "text": [
      "Epoch 92 | Avg Loss: 0.2290 | Avg Precision: 89.89%\n"
     ]
    },
    {
     "name": "stderr",
     "output_type": "stream",
     "text": [
      "Validate: 100%|\u001B[34m███████████████████████\u001B[0m| 74/74 [00:12<00:00,  5.76batch/s, Loss: 0.2196 | Precision: 89.72%]\u001B[0m\n"
     ]
    },
    {
     "name": "stdout",
     "output_type": "stream",
     "text": [
      "Epoch 92 | Avg Loss: 0.2343 | Avg Precision: 89.69% | Patience: 7\n"
     ]
    },
    {
     "name": "stderr",
     "output_type": "stream",
     "text": [
      "Train: 100%|\u001B[32m████████████████████████\u001B[0m| 295/295 [01:04<00:00,  4.59batch/s, Loss: 0.0426 | Precision: 89.86%]\u001B[0m\n"
     ]
    },
    {
     "name": "stdout",
     "output_type": "stream",
     "text": [
      "Epoch 93 | Avg Loss: 0.2283 | Avg Precision: 89.88%\n"
     ]
    },
    {
     "name": "stderr",
     "output_type": "stream",
     "text": [
      "Train: 100%|\u001B[32m████████████████████████\u001B[0m| 295/295 [01:04<00:00,  4.59batch/s, Loss: 0.0502 | Precision: 89.94%]\u001B[0m\n"
     ]
    },
    {
     "name": "stdout",
     "output_type": "stream",
     "text": [
      "Epoch 94 | Avg Loss: 0.2276 | Avg Precision: 89.99%\n"
     ]
    },
    {
     "name": "stderr",
     "output_type": "stream",
     "text": [
      "Validate: 100%|\u001B[34m███████████████████████\u001B[0m| 74/74 [00:12<00:00,  5.74batch/s, Loss: 0.2161 | Precision: 89.56%]\u001B[0m\n"
     ]
    },
    {
     "name": "stdout",
     "output_type": "stream",
     "text": [
      "Epoch 94 | Avg Loss: 0.2381 | Avg Precision: 89.46% | Patience: 8\n"
     ]
    },
    {
     "name": "stderr",
     "output_type": "stream",
     "text": [
      "Train: 100%|\u001B[32m████████████████████████\u001B[0m| 295/295 [01:03<00:00,  4.61batch/s, Loss: 0.0474 | Precision: 89.94%]\u001B[0m\n"
     ]
    },
    {
     "name": "stdout",
     "output_type": "stream",
     "text": [
      "Epoch 95 | Avg Loss: 0.2274 | Avg Precision: 89.94%\n"
     ]
    },
    {
     "name": "stderr",
     "output_type": "stream",
     "text": [
      "Train: 100%|\u001B[32m████████████████████████\u001B[0m| 295/295 [01:04<00:00,  4.58batch/s, Loss: 0.0486 | Precision: 90.01%]\u001B[0m\n"
     ]
    },
    {
     "name": "stdout",
     "output_type": "stream",
     "text": [
      "Epoch 96 | Avg Loss: 0.2261 | Avg Precision: 90.01%\n"
     ]
    },
    {
     "name": "stderr",
     "output_type": "stream",
     "text": [
      "Validate: 100%|\u001B[34m███████████████████████\u001B[0m| 74/74 [00:13<00:00,  5.60batch/s, Loss: 0.2096 | Precision: 89.43%]\u001B[0m\n"
     ]
    },
    {
     "name": "stdout",
     "output_type": "stream",
     "text": [
      "Epoch 96 | Avg Loss: 0.2343 | Avg Precision: 89.23% | Patience: 9\n"
     ]
    },
    {
     "name": "stderr",
     "output_type": "stream",
     "text": [
      "Train: 100%|\u001B[32m████████████████████████\u001B[0m| 295/295 [01:04<00:00,  4.59batch/s, Loss: 0.0469 | Precision: 90.00%]\u001B[0m\n"
     ]
    },
    {
     "name": "stdout",
     "output_type": "stream",
     "text": [
      "Epoch 97 | Avg Loss: 0.2255 | Avg Precision: 90.02%\n"
     ]
    },
    {
     "name": "stderr",
     "output_type": "stream",
     "text": [
      "Train: 100%|\u001B[32m████████████████████████\u001B[0m| 295/295 [01:04<00:00,  4.60batch/s, Loss: 0.0434 | Precision: 89.95%]\u001B[0m\n"
     ]
    },
    {
     "name": "stdout",
     "output_type": "stream",
     "text": [
      "Epoch 98 | Avg Loss: 0.2266 | Avg Precision: 89.98%\n"
     ]
    },
    {
     "name": "stderr",
     "output_type": "stream",
     "text": [
      "Validate: 100%|\u001B[34m███████████████████████\u001B[0m| 74/74 [00:12<00:00,  5.74batch/s, Loss: 0.2104 | Precision: 89.12%]\u001B[0m"
     ]
    },
    {
     "name": "stdout",
     "output_type": "stream",
     "text": [
      "Early Stopping: Precision stagnated or decreased too many times. Best Validation: 89.76%\n",
      "Training Complete - Best Precision: 89.76%\n"
     ]
    },
    {
     "name": "stderr",
     "output_type": "stream",
     "text": [
      "\n"
     ]
    }
   ],
   "source": [
    "model = LSTMnet(9, 100, 1, 4)\n",
    "model = model.to(device)\n",
    "criterion = nn.CrossEntropyLoss()\n",
    "optimizer = optim.Adam(model.parameters(), lr=.01)\n",
    "scheduler = ReduceLROnPlateau(optimizer, 'max', factor=.9, patience=1, min_lr=.001)\n",
    "\n",
    "model11 = train_validate(model, criterion, optimizer, scheduler)\n",
    "torch.save(model11.state_dict(), '.\\\\models\\\\downsample\\\\lstm\\\\model11.pth')"
   ]
  },
  {
   "cell_type": "markdown",
   "id": "e3b71172-8ec1-4203-88cb-18441113887d",
   "metadata": {
    "jp-MarkdownHeadingCollapsed": true
   },
   "source": [
    "#### Model 12 - Lookback 20"
   ]
  },
  {
   "cell_type": "code",
   "execution_count": 29,
   "id": "5f260fe3-9889-452e-bae1-53a27f43fccf",
   "metadata": {},
   "outputs": [
    {
     "name": "stderr",
     "output_type": "stream",
     "text": [
      "Train: 100%|\u001B[32m████████████████████████\u001B[0m| 295/295 [01:00<00:00,  4.89batch/s, Loss: 0.8911 | Precision: 75.16%]\u001B[0m\n"
     ]
    },
    {
     "name": "stdout",
     "output_type": "stream",
     "text": [
      "Epoch 1 | Avg Loss: 0.4923 | Avg Precision: 72.27%\n"
     ]
    },
    {
     "name": "stderr",
     "output_type": "stream",
     "text": [
      "Train: 100%|\u001B[32m████████████████████████\u001B[0m| 295/295 [01:00<00:00,  4.87batch/s, Loss: 0.7949 | Precision: 79.80%]\u001B[0m\n"
     ]
    },
    {
     "name": "stdout",
     "output_type": "stream",
     "text": [
      "Epoch 2 | Avg Loss: 0.4075 | Avg Precision: 79.31%\n"
     ]
    },
    {
     "name": "stderr",
     "output_type": "stream",
     "text": [
      "Validate: 100%|\u001B[34m███████████████████████\u001B[0m| 74/74 [00:12<00:00,  5.96batch/s, Loss: 0.5814 | Precision: 69.64%]\u001B[0m\n"
     ]
    },
    {
     "name": "stdout",
     "output_type": "stream",
     "text": [
      "Epoch 2 | Avg Loss: 0.6049 | Avg Precision: 69.59% | Patience: 0\n"
     ]
    },
    {
     "name": "stderr",
     "output_type": "stream",
     "text": [
      "Train: 100%|\u001B[32m████████████████████████\u001B[0m| 295/295 [01:00<00:00,  4.87batch/s, Loss: 0.6048 | Precision: 79.56%]\u001B[0m\n"
     ]
    },
    {
     "name": "stdout",
     "output_type": "stream",
     "text": [
      "Epoch 3 | Avg Loss: 0.4163 | Avg Precision: 78.94%\n"
     ]
    },
    {
     "name": "stderr",
     "output_type": "stream",
     "text": [
      "Train: 100%|\u001B[32m████████████████████████\u001B[0m| 295/295 [01:00<00:00,  4.86batch/s, Loss: 0.6524 | Precision: 80.73%]\u001B[0m\n"
     ]
    },
    {
     "name": "stdout",
     "output_type": "stream",
     "text": [
      "Epoch 4 | Avg Loss: 0.3935 | Avg Precision: 80.34%\n"
     ]
    },
    {
     "name": "stderr",
     "output_type": "stream",
     "text": [
      "Validate: 100%|\u001B[34m███████████████████████\u001B[0m| 74/74 [00:13<00:00,  5.69batch/s, Loss: 0.4290 | Precision: 79.88%]\u001B[0m\n"
     ]
    },
    {
     "name": "stdout",
     "output_type": "stream",
     "text": [
      "Epoch 4 | Avg Loss: 0.4280 | Avg Precision: 79.78% | Patience: 0\n"
     ]
    },
    {
     "name": "stderr",
     "output_type": "stream",
     "text": [
      "Train: 100%|\u001B[32m████████████████████████\u001B[0m| 295/295 [01:00<00:00,  4.86batch/s, Loss: 0.6888 | Precision: 81.38%]\u001B[0m\n"
     ]
    },
    {
     "name": "stdout",
     "output_type": "stream",
     "text": [
      "Epoch 5 | Avg Loss: 0.3812 | Avg Precision: 81.04%\n"
     ]
    },
    {
     "name": "stderr",
     "output_type": "stream",
     "text": [
      "Train: 100%|\u001B[32m████████████████████████\u001B[0m| 295/295 [01:00<00:00,  4.86batch/s, Loss: 0.6409 | Precision: 82.10%]\u001B[0m\n"
     ]
    },
    {
     "name": "stdout",
     "output_type": "stream",
     "text": [
      "Epoch 6 | Avg Loss: 0.3703 | Avg Precision: 82.06%\n"
     ]
    },
    {
     "name": "stderr",
     "output_type": "stream",
     "text": [
      "Validate: 100%|\u001B[34m███████████████████████\u001B[0m| 74/74 [00:12<00:00,  5.89batch/s, Loss: 0.4045 | Precision: 79.71%]\u001B[0m\n"
     ]
    },
    {
     "name": "stdout",
     "output_type": "stream",
     "text": [
      "Epoch 6 | Avg Loss: 0.4092 | Avg Precision: 79.66% | Patience: 1\n"
     ]
    },
    {
     "name": "stderr",
     "output_type": "stream",
     "text": [
      "Train: 100%|\u001B[32m████████████████████████\u001B[0m| 295/295 [01:00<00:00,  4.87batch/s, Loss: 0.6030 | Precision: 82.36%]\u001B[0m\n"
     ]
    },
    {
     "name": "stdout",
     "output_type": "stream",
     "text": [
      "Epoch 7 | Avg Loss: 0.3660 | Avg Precision: 82.19%\n"
     ]
    },
    {
     "name": "stderr",
     "output_type": "stream",
     "text": [
      "Train: 100%|\u001B[32m████████████████████████\u001B[0m| 295/295 [01:00<00:00,  4.86batch/s, Loss: 0.6433 | Precision: 83.12%]\u001B[0m\n"
     ]
    },
    {
     "name": "stdout",
     "output_type": "stream",
     "text": [
      "Epoch 8 | Avg Loss: 0.3543 | Avg Precision: 82.94%\n"
     ]
    },
    {
     "name": "stderr",
     "output_type": "stream",
     "text": [
      "Validate: 100%|\u001B[34m███████████████████████\u001B[0m| 74/74 [00:12<00:00,  5.96batch/s, Loss: 0.3462 | Precision: 82.31%]\u001B[0m\n"
     ]
    },
    {
     "name": "stdout",
     "output_type": "stream",
     "text": [
      "Epoch 8 | Avg Loss: 0.3682 | Avg Precision: 82.25% | Patience: 0\n"
     ]
    },
    {
     "name": "stderr",
     "output_type": "stream",
     "text": [
      "Train: 100%|\u001B[32m████████████████████████\u001B[0m| 295/295 [01:00<00:00,  4.86batch/s, Loss: 0.6342 | Precision: 83.36%]\u001B[0m\n"
     ]
    },
    {
     "name": "stdout",
     "output_type": "stream",
     "text": [
      "Epoch 9 | Avg Loss: 0.3492 | Avg Precision: 83.22%\n"
     ]
    },
    {
     "name": "stderr",
     "output_type": "stream",
     "text": [
      "Train: 100%|\u001B[32m████████████████████████\u001B[0m| 295/295 [01:00<00:00,  4.85batch/s, Loss: 0.5409 | Precision: 83.66%]\u001B[0m\n"
     ]
    },
    {
     "name": "stdout",
     "output_type": "stream",
     "text": [
      "Epoch 10 | Avg Loss: 0.3432 | Avg Precision: 83.53%\n"
     ]
    },
    {
     "name": "stderr",
     "output_type": "stream",
     "text": [
      "Validate: 100%|\u001B[34m███████████████████████\u001B[0m| 74/74 [00:12<00:00,  5.95batch/s, Loss: 0.3532 | Precision: 80.60%]\u001B[0m\n"
     ]
    },
    {
     "name": "stdout",
     "output_type": "stream",
     "text": [
      "Epoch 10 | Avg Loss: 0.3780 | Avg Precision: 80.62% | Patience: 1\n"
     ]
    },
    {
     "name": "stderr",
     "output_type": "stream",
     "text": [
      "Train: 100%|\u001B[32m████████████████████████\u001B[0m| 295/295 [01:00<00:00,  4.85batch/s, Loss: 0.5838 | Precision: 84.05%]\u001B[0m\n"
     ]
    },
    {
     "name": "stdout",
     "output_type": "stream",
     "text": [
      "Epoch 11 | Avg Loss: 0.3373 | Avg Precision: 83.78%\n"
     ]
    },
    {
     "name": "stderr",
     "output_type": "stream",
     "text": [
      "Train: 100%|\u001B[32m████████████████████████\u001B[0m| 295/295 [01:00<00:00,  4.86batch/s, Loss: 0.5645 | Precision: 84.35%]\u001B[0m\n"
     ]
    },
    {
     "name": "stdout",
     "output_type": "stream",
     "text": [
      "Epoch 12 | Avg Loss: 0.3315 | Avg Precision: 84.23%\n"
     ]
    },
    {
     "name": "stderr",
     "output_type": "stream",
     "text": [
      "Validate: 100%|\u001B[34m███████████████████████\u001B[0m| 74/74 [00:12<00:00,  5.90batch/s, Loss: 0.3119 | Precision: 83.73%]\u001B[0m\n"
     ]
    },
    {
     "name": "stdout",
     "output_type": "stream",
     "text": [
      "Epoch 12 | Avg Loss: 0.3571 | Avg Precision: 83.65% | Patience: 0\n"
     ]
    },
    {
     "name": "stderr",
     "output_type": "stream",
     "text": [
      "Train: 100%|\u001B[32m████████████████████████\u001B[0m| 295/295 [01:00<00:00,  4.87batch/s, Loss: 0.4904 | Precision: 84.54%]\u001B[0m\n"
     ]
    },
    {
     "name": "stdout",
     "output_type": "stream",
     "text": [
      "Epoch 13 | Avg Loss: 0.3290 | Avg Precision: 84.60%\n"
     ]
    },
    {
     "name": "stderr",
     "output_type": "stream",
     "text": [
      "Train: 100%|\u001B[32m████████████████████████\u001B[0m| 295/295 [01:00<00:00,  4.86batch/s, Loss: 0.5357 | Precision: 84.53%]\u001B[0m\n"
     ]
    },
    {
     "name": "stdout",
     "output_type": "stream",
     "text": [
      "Epoch 14 | Avg Loss: 0.3303 | Avg Precision: 84.39%\n"
     ]
    },
    {
     "name": "stderr",
     "output_type": "stream",
     "text": [
      "Validate: 100%|\u001B[34m███████████████████████\u001B[0m| 74/74 [00:12<00:00,  5.96batch/s, Loss: 0.3071 | Precision: 83.45%]\u001B[0m\n"
     ]
    },
    {
     "name": "stdout",
     "output_type": "stream",
     "text": [
      "Epoch 14 | Avg Loss: 0.3466 | Avg Precision: 83.43% | Patience: 1\n"
     ]
    },
    {
     "name": "stderr",
     "output_type": "stream",
     "text": [
      "Train: 100%|\u001B[32m████████████████████████\u001B[0m| 295/295 [01:00<00:00,  4.85batch/s, Loss: 0.5620 | Precision: 84.69%]\u001B[0m\n"
     ]
    },
    {
     "name": "stdout",
     "output_type": "stream",
     "text": [
      "Epoch 15 | Avg Loss: 0.3272 | Avg Precision: 84.60%\n"
     ]
    },
    {
     "name": "stderr",
     "output_type": "stream",
     "text": [
      "Train: 100%|\u001B[32m████████████████████████\u001B[0m| 295/295 [01:00<00:00,  4.86batch/s, Loss: 0.6024 | Precision: 84.86%]\u001B[0m\n"
     ]
    },
    {
     "name": "stdout",
     "output_type": "stream",
     "text": [
      "Epoch 16 | Avg Loss: 0.3250 | Avg Precision: 84.81%\n"
     ]
    },
    {
     "name": "stderr",
     "output_type": "stream",
     "text": [
      "Validate: 100%|\u001B[34m███████████████████████\u001B[0m| 74/74 [00:12<00:00,  5.96batch/s, Loss: 0.3378 | Precision: 82.66%]\u001B[0m\n"
     ]
    },
    {
     "name": "stdout",
     "output_type": "stream",
     "text": [
      "Epoch 16 | Avg Loss: 0.3553 | Avg Precision: 82.61% | Patience: 2\n"
     ]
    },
    {
     "name": "stderr",
     "output_type": "stream",
     "text": [
      "Train: 100%|\u001B[32m████████████████████████\u001B[0m| 295/295 [01:00<00:00,  4.86batch/s, Loss: 0.5373 | Precision: 85.16%]\u001B[0m\n"
     ]
    },
    {
     "name": "stdout",
     "output_type": "stream",
     "text": [
      "Epoch 17 | Avg Loss: 0.3199 | Avg Precision: 85.00%\n"
     ]
    },
    {
     "name": "stderr",
     "output_type": "stream",
     "text": [
      "Train: 100%|\u001B[32m████████████████████████\u001B[0m| 295/295 [01:00<00:00,  4.88batch/s, Loss: 0.6264 | Precision: 85.32%]\u001B[0m\n"
     ]
    },
    {
     "name": "stdout",
     "output_type": "stream",
     "text": [
      "Epoch 18 | Avg Loss: 0.3171 | Avg Precision: 85.24%\n"
     ]
    },
    {
     "name": "stderr",
     "output_type": "stream",
     "text": [
      "Validate: 100%|\u001B[34m███████████████████████\u001B[0m| 74/74 [00:12<00:00,  5.98batch/s, Loss: 0.3069 | Precision: 84.09%]\u001B[0m\n"
     ]
    },
    {
     "name": "stdout",
     "output_type": "stream",
     "text": [
      "Epoch 18 | Avg Loss: 0.3287 | Avg Precision: 84.03% | Patience: 0\n"
     ]
    },
    {
     "name": "stderr",
     "output_type": "stream",
     "text": [
      "Train: 100%|\u001B[32m████████████████████████\u001B[0m| 295/295 [01:00<00:00,  4.89batch/s, Loss: 0.5017 | Precision: 85.33%]\u001B[0m\n"
     ]
    },
    {
     "name": "stdout",
     "output_type": "stream",
     "text": [
      "Epoch 19 | Avg Loss: 0.3157 | Avg Precision: 85.30%\n"
     ]
    },
    {
     "name": "stderr",
     "output_type": "stream",
     "text": [
      "Train: 100%|\u001B[32m████████████████████████\u001B[0m| 295/295 [01:00<00:00,  4.87batch/s, Loss: 0.5476 | Precision: 85.42%]\u001B[0m\n"
     ]
    },
    {
     "name": "stdout",
     "output_type": "stream",
     "text": [
      "Epoch 20 | Avg Loss: 0.3143 | Avg Precision: 85.36%\n"
     ]
    },
    {
     "name": "stderr",
     "output_type": "stream",
     "text": [
      "Validate: 100%|\u001B[34m███████████████████████\u001B[0m| 74/74 [00:12<00:00,  5.96batch/s, Loss: 0.3089 | Precision: 83.95%]\u001B[0m\n"
     ]
    },
    {
     "name": "stdout",
     "output_type": "stream",
     "text": [
      "Epoch 20 | Avg Loss: 0.3354 | Avg Precision: 83.95% | Patience: 1\n"
     ]
    },
    {
     "name": "stderr",
     "output_type": "stream",
     "text": [
      "Train: 100%|\u001B[32m████████████████████████\u001B[0m| 295/295 [01:00<00:00,  4.86batch/s, Loss: 0.5165 | Precision: 85.42%]\u001B[0m\n"
     ]
    },
    {
     "name": "stdout",
     "output_type": "stream",
     "text": [
      "Epoch 21 | Avg Loss: 0.3147 | Avg Precision: 85.39%\n"
     ]
    },
    {
     "name": "stderr",
     "output_type": "stream",
     "text": [
      "Train: 100%|\u001B[32m████████████████████████\u001B[0m| 295/295 [01:00<00:00,  4.85batch/s, Loss: 0.5085 | Precision: 85.49%]\u001B[0m\n"
     ]
    },
    {
     "name": "stdout",
     "output_type": "stream",
     "text": [
      "Epoch 22 | Avg Loss: 0.3130 | Avg Precision: 85.44%\n"
     ]
    },
    {
     "name": "stderr",
     "output_type": "stream",
     "text": [
      "Validate: 100%|\u001B[34m███████████████████████\u001B[0m| 74/74 [00:12<00:00,  5.96batch/s, Loss: 0.2898 | Precision: 83.93%]\u001B[0m\n"
     ]
    },
    {
     "name": "stdout",
     "output_type": "stream",
     "text": [
      "Epoch 22 | Avg Loss: 0.3362 | Avg Precision: 83.92% | Patience: 2\n"
     ]
    },
    {
     "name": "stderr",
     "output_type": "stream",
     "text": [
      "Train: 100%|\u001B[32m████████████████████████\u001B[0m| 295/295 [01:00<00:00,  4.87batch/s, Loss: 0.5208 | Precision: 85.77%]\u001B[0m\n"
     ]
    },
    {
     "name": "stdout",
     "output_type": "stream",
     "text": [
      "Epoch 23 | Avg Loss: 0.3090 | Avg Precision: 85.70%\n"
     ]
    },
    {
     "name": "stderr",
     "output_type": "stream",
     "text": [
      "Train: 100%|\u001B[32m████████████████████████\u001B[0m| 295/295 [01:00<00:00,  4.85batch/s, Loss: 0.4773 | Precision: 85.88%]\u001B[0m\n"
     ]
    },
    {
     "name": "stdout",
     "output_type": "stream",
     "text": [
      "Epoch 24 | Avg Loss: 0.3067 | Avg Precision: 85.81%\n"
     ]
    },
    {
     "name": "stderr",
     "output_type": "stream",
     "text": [
      "Validate: 100%|\u001B[34m███████████████████████\u001B[0m| 74/74 [00:12<00:00,  5.94batch/s, Loss: 0.2649 | Precision: 84.67%]\u001B[0m\n"
     ]
    },
    {
     "name": "stdout",
     "output_type": "stream",
     "text": [
      "Epoch 24 | Avg Loss: 0.3268 | Avg Precision: 84.74% | Patience: 0\n"
     ]
    },
    {
     "name": "stderr",
     "output_type": "stream",
     "text": [
      "Train: 100%|\u001B[32m████████████████████████\u001B[0m| 295/295 [01:00<00:00,  4.87batch/s, Loss: 0.5292 | Precision: 85.85%]\u001B[0m\n"
     ]
    },
    {
     "name": "stdout",
     "output_type": "stream",
     "text": [
      "Epoch 25 | Avg Loss: 0.3077 | Avg Precision: 85.84%\n"
     ]
    },
    {
     "name": "stderr",
     "output_type": "stream",
     "text": [
      "Train: 100%|\u001B[32m████████████████████████\u001B[0m| 295/295 [01:00<00:00,  4.86batch/s, Loss: 0.5648 | Precision: 85.89%]\u001B[0m\n"
     ]
    },
    {
     "name": "stdout",
     "output_type": "stream",
     "text": [
      "Epoch 26 | Avg Loss: 0.3062 | Avg Precision: 85.73%\n"
     ]
    },
    {
     "name": "stderr",
     "output_type": "stream",
     "text": [
      "Validate: 100%|\u001B[34m███████████████████████\u001B[0m| 74/74 [00:12<00:00,  5.95batch/s, Loss: 0.2903 | Precision: 84.82%]\u001B[0m\n"
     ]
    },
    {
     "name": "stdout",
     "output_type": "stream",
     "text": [
      "Epoch 26 | Avg Loss: 0.3193 | Avg Precision: 84.79% | Patience: 0\n"
     ]
    },
    {
     "name": "stderr",
     "output_type": "stream",
     "text": [
      "Train: 100%|\u001B[32m████████████████████████\u001B[0m| 295/295 [01:00<00:00,  4.86batch/s, Loss: 0.5117 | Precision: 85.95%]\u001B[0m\n"
     ]
    },
    {
     "name": "stdout",
     "output_type": "stream",
     "text": [
      "Epoch 27 | Avg Loss: 0.3056 | Avg Precision: 85.95%\n"
     ]
    },
    {
     "name": "stderr",
     "output_type": "stream",
     "text": [
      "Train: 100%|\u001B[32m████████████████████████\u001B[0m| 295/295 [01:00<00:00,  4.85batch/s, Loss: 0.6129 | Precision: 86.04%]\u001B[0m\n"
     ]
    },
    {
     "name": "stdout",
     "output_type": "stream",
     "text": [
      "Epoch 28 | Avg Loss: 0.3053 | Avg Precision: 86.12%\n"
     ]
    },
    {
     "name": "stderr",
     "output_type": "stream",
     "text": [
      "Validate: 100%|\u001B[34m███████████████████████\u001B[0m| 74/74 [00:12<00:00,  5.95batch/s, Loss: 0.2768 | Precision: 86.04%]\u001B[0m\n"
     ]
    },
    {
     "name": "stdout",
     "output_type": "stream",
     "text": [
      "Epoch 28 | Avg Loss: 0.3080 | Avg Precision: 85.99% | Patience: 0\n"
     ]
    },
    {
     "name": "stderr",
     "output_type": "stream",
     "text": [
      "Train: 100%|\u001B[32m████████████████████████\u001B[0m| 295/295 [01:00<00:00,  4.87batch/s, Loss: 0.5392 | Precision: 86.06%]\u001B[0m\n"
     ]
    },
    {
     "name": "stdout",
     "output_type": "stream",
     "text": [
      "Epoch 29 | Avg Loss: 0.3035 | Avg Precision: 86.13%\n"
     ]
    },
    {
     "name": "stderr",
     "output_type": "stream",
     "text": [
      "Train: 100%|\u001B[32m████████████████████████\u001B[0m| 295/295 [01:00<00:00,  4.86batch/s, Loss: 0.5556 | Precision: 86.02%]\u001B[0m\n"
     ]
    },
    {
     "name": "stdout",
     "output_type": "stream",
     "text": [
      "Epoch 30 | Avg Loss: 0.3039 | Avg Precision: 86.02%\n"
     ]
    },
    {
     "name": "stderr",
     "output_type": "stream",
     "text": [
      "Validate: 100%|\u001B[34m███████████████████████\u001B[0m| 74/74 [00:12<00:00,  5.94batch/s, Loss: 0.2849 | Precision: 84.88%]\u001B[0m\n"
     ]
    },
    {
     "name": "stdout",
     "output_type": "stream",
     "text": [
      "Epoch 30 | Avg Loss: 0.3215 | Avg Precision: 84.72% | Patience: 1\n"
     ]
    },
    {
     "name": "stderr",
     "output_type": "stream",
     "text": [
      "Train: 100%|\u001B[32m████████████████████████\u001B[0m| 295/295 [01:00<00:00,  4.85batch/s, Loss: 0.6278 | Precision: 86.04%]\u001B[0m\n"
     ]
    },
    {
     "name": "stdout",
     "output_type": "stream",
     "text": [
      "Epoch 31 | Avg Loss: 0.3041 | Avg Precision: 86.03%\n"
     ]
    },
    {
     "name": "stderr",
     "output_type": "stream",
     "text": [
      "Train: 100%|\u001B[32m████████████████████████\u001B[0m| 295/295 [01:00<00:00,  4.85batch/s, Loss: 0.6074 | Precision: 86.19%]\u001B[0m\n"
     ]
    },
    {
     "name": "stdout",
     "output_type": "stream",
     "text": [
      "Epoch 32 | Avg Loss: 0.3021 | Avg Precision: 86.35%\n"
     ]
    },
    {
     "name": "stderr",
     "output_type": "stream",
     "text": [
      "Validate: 100%|\u001B[34m███████████████████████\u001B[0m| 74/74 [00:12<00:00,  5.96batch/s, Loss: 0.2881 | Precision: 85.37%]\u001B[0m\n"
     ]
    },
    {
     "name": "stdout",
     "output_type": "stream",
     "text": [
      "Epoch 32 | Avg Loss: 0.3152 | Avg Precision: 85.30% | Patience: 2\n"
     ]
    },
    {
     "name": "stderr",
     "output_type": "stream",
     "text": [
      "Train: 100%|\u001B[32m████████████████████████\u001B[0m| 295/295 [01:00<00:00,  4.87batch/s, Loss: 0.5091 | Precision: 86.32%]\u001B[0m\n"
     ]
    },
    {
     "name": "stdout",
     "output_type": "stream",
     "text": [
      "Epoch 33 | Avg Loss: 0.2996 | Avg Precision: 86.31%\n"
     ]
    },
    {
     "name": "stderr",
     "output_type": "stream",
     "text": [
      "Train: 100%|\u001B[32m████████████████████████\u001B[0m| 295/295 [01:00<00:00,  4.86batch/s, Loss: 0.4917 | Precision: 86.32%]\u001B[0m\n"
     ]
    },
    {
     "name": "stdout",
     "output_type": "stream",
     "text": [
      "Epoch 34 | Avg Loss: 0.2995 | Avg Precision: 86.31%\n"
     ]
    },
    {
     "name": "stderr",
     "output_type": "stream",
     "text": [
      "Validate: 100%|\u001B[34m███████████████████████\u001B[0m| 74/74 [00:12<00:00,  5.96batch/s, Loss: 0.2856 | Precision: 85.35%]\u001B[0m\n"
     ]
    },
    {
     "name": "stdout",
     "output_type": "stream",
     "text": [
      "Epoch 34 | Avg Loss: 0.3185 | Avg Precision: 85.26% | Patience: 3\n"
     ]
    },
    {
     "name": "stderr",
     "output_type": "stream",
     "text": [
      "Train: 100%|\u001B[32m████████████████████████\u001B[0m| 295/295 [01:00<00:00,  4.86batch/s, Loss: 0.5281 | Precision: 86.23%]\u001B[0m\n"
     ]
    },
    {
     "name": "stdout",
     "output_type": "stream",
     "text": [
      "Epoch 35 | Avg Loss: 0.3006 | Avg Precision: 86.32%\n"
     ]
    },
    {
     "name": "stderr",
     "output_type": "stream",
     "text": [
      "Train: 100%|\u001B[32m████████████████████████\u001B[0m| 295/295 [01:00<00:00,  4.85batch/s, Loss: 0.6141 | Precision: 86.32%]\u001B[0m\n"
     ]
    },
    {
     "name": "stdout",
     "output_type": "stream",
     "text": [
      "Epoch 36 | Avg Loss: 0.2998 | Avg Precision: 86.36%\n"
     ]
    },
    {
     "name": "stderr",
     "output_type": "stream",
     "text": [
      "Validate: 100%|\u001B[34m███████████████████████\u001B[0m| 74/74 [00:12<00:00,  5.96batch/s, Loss: 0.2652 | Precision: 85.92%]\u001B[0m\n"
     ]
    },
    {
     "name": "stdout",
     "output_type": "stream",
     "text": [
      "Epoch 36 | Avg Loss: 0.3031 | Avg Precision: 85.85% | Patience: 4\n"
     ]
    },
    {
     "name": "stderr",
     "output_type": "stream",
     "text": [
      "Train: 100%|\u001B[32m████████████████████████\u001B[0m| 295/295 [01:00<00:00,  4.86batch/s, Loss: 0.6773 | Precision: 86.52%]\u001B[0m\n"
     ]
    },
    {
     "name": "stdout",
     "output_type": "stream",
     "text": [
      "Epoch 37 | Avg Loss: 0.2965 | Avg Precision: 86.64%\n"
     ]
    },
    {
     "name": "stderr",
     "output_type": "stream",
     "text": [
      "Train: 100%|\u001B[32m████████████████████████\u001B[0m| 295/295 [01:00<00:00,  4.87batch/s, Loss: 0.5201 | Precision: 86.45%]\u001B[0m\n"
     ]
    },
    {
     "name": "stdout",
     "output_type": "stream",
     "text": [
      "Epoch 38 | Avg Loss: 0.2962 | Avg Precision: 86.49%\n"
     ]
    },
    {
     "name": "stderr",
     "output_type": "stream",
     "text": [
      "Validate: 100%|\u001B[34m███████████████████████\u001B[0m| 74/74 [00:12<00:00,  5.91batch/s, Loss: 0.2579 | Precision: 86.35%]\u001B[0m\n"
     ]
    },
    {
     "name": "stdout",
     "output_type": "stream",
     "text": [
      "Epoch 38 | Avg Loss: 0.3002 | Avg Precision: 86.38% | Patience: 0\n"
     ]
    },
    {
     "name": "stderr",
     "output_type": "stream",
     "text": [
      "Train: 100%|\u001B[32m████████████████████████\u001B[0m| 295/295 [01:00<00:00,  4.85batch/s, Loss: 0.6229 | Precision: 86.57%]\u001B[0m\n"
     ]
    },
    {
     "name": "stdout",
     "output_type": "stream",
     "text": [
      "Epoch 39 | Avg Loss: 0.2954 | Avg Precision: 86.67%\n"
     ]
    },
    {
     "name": "stderr",
     "output_type": "stream",
     "text": [
      "Train: 100%|\u001B[32m████████████████████████\u001B[0m| 295/295 [01:00<00:00,  4.85batch/s, Loss: 0.5189 | Precision: 86.52%]\u001B[0m\n"
     ]
    },
    {
     "name": "stdout",
     "output_type": "stream",
     "text": [
      "Epoch 40 | Avg Loss: 0.2947 | Avg Precision: 86.62%\n"
     ]
    },
    {
     "name": "stderr",
     "output_type": "stream",
     "text": [
      "Validate: 100%|\u001B[34m███████████████████████\u001B[0m| 74/74 [00:12<00:00,  5.99batch/s, Loss: 0.2640 | Precision: 86.30%]\u001B[0m\n"
     ]
    },
    {
     "name": "stdout",
     "output_type": "stream",
     "text": [
      "Epoch 40 | Avg Loss: 0.3033 | Avg Precision: 86.26% | Patience: 1\n"
     ]
    },
    {
     "name": "stderr",
     "output_type": "stream",
     "text": [
      "Train: 100%|\u001B[32m████████████████████████\u001B[0m| 295/295 [01:00<00:00,  4.86batch/s, Loss: 0.5018 | Precision: 86.63%]\u001B[0m\n"
     ]
    },
    {
     "name": "stdout",
     "output_type": "stream",
     "text": [
      "Epoch 41 | Avg Loss: 0.2938 | Avg Precision: 86.74%\n"
     ]
    },
    {
     "name": "stderr",
     "output_type": "stream",
     "text": [
      "Train: 100%|\u001B[32m████████████████████████\u001B[0m| 295/295 [01:00<00:00,  4.86batch/s, Loss: 0.5887 | Precision: 86.68%]\u001B[0m\n"
     ]
    },
    {
     "name": "stdout",
     "output_type": "stream",
     "text": [
      "Epoch 42 | Avg Loss: 0.2933 | Avg Precision: 86.71%\n"
     ]
    },
    {
     "name": "stderr",
     "output_type": "stream",
     "text": [
      "Validate: 100%|\u001B[34m███████████████████████\u001B[0m| 74/74 [00:12<00:00,  5.92batch/s, Loss: 0.2530 | Precision: 86.60%]\u001B[0m\n"
     ]
    },
    {
     "name": "stdout",
     "output_type": "stream",
     "text": [
      "Epoch 42 | Avg Loss: 0.3071 | Avg Precision: 86.44% | Patience: 0\n"
     ]
    },
    {
     "name": "stderr",
     "output_type": "stream",
     "text": [
      "Train: 100%|\u001B[32m████████████████████████\u001B[0m| 295/295 [01:00<00:00,  4.86batch/s, Loss: 0.4736 | Precision: 86.70%]\u001B[0m\n"
     ]
    },
    {
     "name": "stdout",
     "output_type": "stream",
     "text": [
      "Epoch 43 | Avg Loss: 0.2923 | Avg Precision: 86.72%\n"
     ]
    },
    {
     "name": "stderr",
     "output_type": "stream",
     "text": [
      "Train: 100%|\u001B[32m████████████████████████\u001B[0m| 295/295 [01:00<00:00,  4.86batch/s, Loss: 0.4945 | Precision: 86.62%]\u001B[0m\n"
     ]
    },
    {
     "name": "stdout",
     "output_type": "stream",
     "text": [
      "Epoch 44 | Avg Loss: 0.2935 | Avg Precision: 86.72%\n"
     ]
    },
    {
     "name": "stderr",
     "output_type": "stream",
     "text": [
      "Validate: 100%|\u001B[34m███████████████████████\u001B[0m| 74/74 [00:12<00:00,  5.95batch/s, Loss: 0.2573 | Precision: 86.48%]\u001B[0m\n"
     ]
    },
    {
     "name": "stdout",
     "output_type": "stream",
     "text": [
      "Epoch 44 | Avg Loss: 0.3029 | Avg Precision: 86.41% | Patience: 1\n"
     ]
    },
    {
     "name": "stderr",
     "output_type": "stream",
     "text": [
      "Train: 100%|\u001B[32m████████████████████████\u001B[0m| 295/295 [01:00<00:00,  4.87batch/s, Loss: 0.5155 | Precision: 86.62%]\u001B[0m\n"
     ]
    },
    {
     "name": "stdout",
     "output_type": "stream",
     "text": [
      "Epoch 45 | Avg Loss: 0.2939 | Avg Precision: 86.68%\n"
     ]
    },
    {
     "name": "stderr",
     "output_type": "stream",
     "text": [
      "Train: 100%|\u001B[32m████████████████████████\u001B[0m| 295/295 [01:00<00:00,  4.85batch/s, Loss: 0.5450 | Precision: 86.76%]\u001B[0m\n"
     ]
    },
    {
     "name": "stdout",
     "output_type": "stream",
     "text": [
      "Epoch 46 | Avg Loss: 0.2912 | Avg Precision: 86.88%\n"
     ]
    },
    {
     "name": "stderr",
     "output_type": "stream",
     "text": [
      "Validate: 100%|\u001B[34m███████████████████████\u001B[0m| 74/74 [00:12<00:00,  5.91batch/s, Loss: 0.2639 | Precision: 86.87%]\u001B[0m\n"
     ]
    },
    {
     "name": "stdout",
     "output_type": "stream",
     "text": [
      "Epoch 46 | Avg Loss: 0.3106 | Avg Precision: 86.78% | Patience: 0\n"
     ]
    },
    {
     "name": "stderr",
     "output_type": "stream",
     "text": [
      "Train: 100%|\u001B[32m████████████████████████\u001B[0m| 295/295 [01:00<00:00,  4.86batch/s, Loss: 0.5404 | Precision: 86.69%]\u001B[0m\n"
     ]
    },
    {
     "name": "stdout",
     "output_type": "stream",
     "text": [
      "Epoch 47 | Avg Loss: 0.2928 | Avg Precision: 86.78%\n"
     ]
    },
    {
     "name": "stderr",
     "output_type": "stream",
     "text": [
      "Train: 100%|\u001B[32m████████████████████████\u001B[0m| 295/295 [01:00<00:00,  4.85batch/s, Loss: 0.4572 | Precision: 86.77%]\u001B[0m\n"
     ]
    },
    {
     "name": "stdout",
     "output_type": "stream",
     "text": [
      "Epoch 48 | Avg Loss: 0.2908 | Avg Precision: 86.89%\n"
     ]
    },
    {
     "name": "stderr",
     "output_type": "stream",
     "text": [
      "Validate: 100%|\u001B[34m███████████████████████\u001B[0m| 74/74 [00:12<00:00,  5.94batch/s, Loss: 0.2564 | Precision: 86.49%]\u001B[0m\n"
     ]
    },
    {
     "name": "stdout",
     "output_type": "stream",
     "text": [
      "Epoch 48 | Avg Loss: 0.3073 | Avg Precision: 86.44% | Patience: 1\n"
     ]
    },
    {
     "name": "stderr",
     "output_type": "stream",
     "text": [
      "Train: 100%|\u001B[32m████████████████████████\u001B[0m| 295/295 [01:00<00:00,  4.86batch/s, Loss: 0.5347 | Precision: 86.80%]\u001B[0m\n"
     ]
    },
    {
     "name": "stdout",
     "output_type": "stream",
     "text": [
      "Epoch 49 | Avg Loss: 0.2905 | Avg Precision: 86.81%\n"
     ]
    },
    {
     "name": "stderr",
     "output_type": "stream",
     "text": [
      "Train: 100%|\u001B[32m████████████████████████\u001B[0m| 295/295 [01:00<00:00,  4.86batch/s, Loss: 0.5355 | Precision: 86.65%]\u001B[0m\n"
     ]
    },
    {
     "name": "stdout",
     "output_type": "stream",
     "text": [
      "Epoch 50 | Avg Loss: 0.2926 | Avg Precision: 86.65%\n"
     ]
    },
    {
     "name": "stderr",
     "output_type": "stream",
     "text": [
      "Validate: 100%|\u001B[34m███████████████████████\u001B[0m| 74/74 [00:12<00:00,  5.97batch/s, Loss: 0.2713 | Precision: 86.88%]\u001B[0m\n"
     ]
    },
    {
     "name": "stdout",
     "output_type": "stream",
     "text": [
      "Epoch 50 | Avg Loss: 0.3153 | Avg Precision: 86.83% | Patience: 0\n"
     ]
    },
    {
     "name": "stderr",
     "output_type": "stream",
     "text": [
      "Train: 100%|\u001B[32m████████████████████████\u001B[0m| 295/295 [01:00<00:00,  4.85batch/s, Loss: 0.5862 | Precision: 86.80%]\u001B[0m\n"
     ]
    },
    {
     "name": "stdout",
     "output_type": "stream",
     "text": [
      "Epoch 51 | Avg Loss: 0.2910 | Avg Precision: 86.86%\n"
     ]
    },
    {
     "name": "stderr",
     "output_type": "stream",
     "text": [
      "Train: 100%|\u001B[32m████████████████████████\u001B[0m| 295/295 [01:00<00:00,  4.85batch/s, Loss: 0.5296 | Precision: 86.71%]\u001B[0m\n"
     ]
    },
    {
     "name": "stdout",
     "output_type": "stream",
     "text": [
      "Epoch 52 | Avg Loss: 0.2916 | Avg Precision: 86.85%\n"
     ]
    },
    {
     "name": "stderr",
     "output_type": "stream",
     "text": [
      "Validate: 100%|\u001B[34m███████████████████████\u001B[0m| 74/74 [00:12<00:00,  5.92batch/s, Loss: 0.2594 | Precision: 87.20%]\u001B[0m\n"
     ]
    },
    {
     "name": "stdout",
     "output_type": "stream",
     "text": [
      "Epoch 52 | Avg Loss: 0.3036 | Avg Precision: 87.03% | Patience: 0\n"
     ]
    },
    {
     "name": "stderr",
     "output_type": "stream",
     "text": [
      "Train: 100%|\u001B[32m████████████████████████\u001B[0m| 295/295 [01:00<00:00,  4.86batch/s, Loss: 0.4838 | Precision: 86.78%]\u001B[0m\n"
     ]
    },
    {
     "name": "stdout",
     "output_type": "stream",
     "text": [
      "Epoch 53 | Avg Loss: 0.2901 | Avg Precision: 86.89%\n"
     ]
    },
    {
     "name": "stderr",
     "output_type": "stream",
     "text": [
      "Train: 100%|\u001B[32m████████████████████████\u001B[0m| 295/295 [01:00<00:00,  4.86batch/s, Loss: 0.5176 | Precision: 86.75%]\u001B[0m\n"
     ]
    },
    {
     "name": "stdout",
     "output_type": "stream",
     "text": [
      "Epoch 54 | Avg Loss: 0.2907 | Avg Precision: 86.90%\n"
     ]
    },
    {
     "name": "stderr",
     "output_type": "stream",
     "text": [
      "Validate: 100%|\u001B[34m███████████████████████\u001B[0m| 74/74 [00:12<00:00,  5.91batch/s, Loss: 0.2679 | Precision: 87.19%]\u001B[0m\n"
     ]
    },
    {
     "name": "stdout",
     "output_type": "stream",
     "text": [
      "Epoch 54 | Avg Loss: 0.3006 | Avg Precision: 87.11% | Patience: 0\n"
     ]
    },
    {
     "name": "stderr",
     "output_type": "stream",
     "text": [
      "Train: 100%|\u001B[32m████████████████████████\u001B[0m| 295/295 [01:00<00:00,  4.87batch/s, Loss: 0.4895 | Precision: 86.69%]\u001B[0m\n"
     ]
    },
    {
     "name": "stdout",
     "output_type": "stream",
     "text": [
      "Epoch 55 | Avg Loss: 0.2911 | Avg Precision: 86.89%\n"
     ]
    },
    {
     "name": "stderr",
     "output_type": "stream",
     "text": [
      "Train: 100%|\u001B[32m████████████████████████\u001B[0m| 295/295 [01:00<00:00,  4.86batch/s, Loss: 0.6221 | Precision: 86.77%]\u001B[0m\n"
     ]
    },
    {
     "name": "stdout",
     "output_type": "stream",
     "text": [
      "Epoch 56 | Avg Loss: 0.2908 | Avg Precision: 86.89%\n"
     ]
    },
    {
     "name": "stderr",
     "output_type": "stream",
     "text": [
      "Validate: 100%|\u001B[34m███████████████████████\u001B[0m| 74/74 [00:12<00:00,  5.96batch/s, Loss: 0.2730 | Precision: 86.61%]\u001B[0m\n"
     ]
    },
    {
     "name": "stdout",
     "output_type": "stream",
     "text": [
      "Epoch 56 | Avg Loss: 0.3192 | Avg Precision: 86.43% | Patience: 1\n"
     ]
    },
    {
     "name": "stderr",
     "output_type": "stream",
     "text": [
      "Train: 100%|\u001B[32m████████████████████████\u001B[0m| 295/295 [01:00<00:00,  4.86batch/s, Loss: 0.4771 | Precision: 86.66%]\u001B[0m\n"
     ]
    },
    {
     "name": "stdout",
     "output_type": "stream",
     "text": [
      "Epoch 57 | Avg Loss: 0.2917 | Avg Precision: 86.69%\n"
     ]
    },
    {
     "name": "stderr",
     "output_type": "stream",
     "text": [
      "Train: 100%|\u001B[32m████████████████████████\u001B[0m| 295/295 [01:00<00:00,  4.85batch/s, Loss: 0.5160 | Precision: 86.65%]\u001B[0m\n"
     ]
    },
    {
     "name": "stdout",
     "output_type": "stream",
     "text": [
      "Epoch 58 | Avg Loss: 0.2912 | Avg Precision: 86.79%\n"
     ]
    },
    {
     "name": "stderr",
     "output_type": "stream",
     "text": [
      "Validate: 100%|\u001B[34m███████████████████████\u001B[0m| 74/74 [00:12<00:00,  5.79batch/s, Loss: 0.2520 | Precision: 86.82%]\u001B[0m\n"
     ]
    },
    {
     "name": "stdout",
     "output_type": "stream",
     "text": [
      "Epoch 58 | Avg Loss: 0.2906 | Avg Precision: 86.81% | Patience: 2\n"
     ]
    },
    {
     "name": "stderr",
     "output_type": "stream",
     "text": [
      "Train: 100%|\u001B[32m████████████████████████\u001B[0m| 295/295 [01:00<00:00,  4.85batch/s, Loss: 0.4605 | Precision: 86.96%]\u001B[0m\n"
     ]
    },
    {
     "name": "stdout",
     "output_type": "stream",
     "text": [
      "Epoch 59 | Avg Loss: 0.2870 | Avg Precision: 87.09%\n"
     ]
    },
    {
     "name": "stderr",
     "output_type": "stream",
     "text": [
      "Train: 100%|\u001B[32m████████████████████████\u001B[0m| 295/295 [01:00<00:00,  4.84batch/s, Loss: 0.4445 | Precision: 86.94%]\u001B[0m\n"
     ]
    },
    {
     "name": "stdout",
     "output_type": "stream",
     "text": [
      "Epoch 60 | Avg Loss: 0.2866 | Avg Precision: 87.06%\n"
     ]
    },
    {
     "name": "stderr",
     "output_type": "stream",
     "text": [
      "Validate: 100%|\u001B[34m███████████████████████\u001B[0m| 74/74 [00:12<00:00,  5.96batch/s, Loss: 0.2700 | Precision: 86.82%]\u001B[0m\n"
     ]
    },
    {
     "name": "stdout",
     "output_type": "stream",
     "text": [
      "Epoch 60 | Avg Loss: 0.3167 | Avg Precision: 86.73% | Patience: 3\n"
     ]
    },
    {
     "name": "stderr",
     "output_type": "stream",
     "text": [
      "Train: 100%|\u001B[32m████████████████████████\u001B[0m| 295/295 [01:00<00:00,  4.85batch/s, Loss: 0.4570 | Precision: 86.97%]\u001B[0m\n"
     ]
    },
    {
     "name": "stdout",
     "output_type": "stream",
     "text": [
      "Epoch 61 | Avg Loss: 0.2862 | Avg Precision: 87.05%\n"
     ]
    },
    {
     "name": "stderr",
     "output_type": "stream",
     "text": [
      "Train: 100%|\u001B[32m████████████████████████\u001B[0m| 295/295 [01:00<00:00,  4.85batch/s, Loss: 0.4959 | Precision: 86.86%]\u001B[0m\n"
     ]
    },
    {
     "name": "stdout",
     "output_type": "stream",
     "text": [
      "Epoch 62 | Avg Loss: 0.2879 | Avg Precision: 87.02%\n"
     ]
    },
    {
     "name": "stderr",
     "output_type": "stream",
     "text": [
      "Validate: 100%|\u001B[34m███████████████████████\u001B[0m| 74/74 [00:12<00:00,  5.98batch/s, Loss: 0.2505 | Precision: 86.92%]\u001B[0m\n"
     ]
    },
    {
     "name": "stdout",
     "output_type": "stream",
     "text": [
      "Epoch 62 | Avg Loss: 0.2947 | Avg Precision: 86.79% | Patience: 4\n"
     ]
    },
    {
     "name": "stderr",
     "output_type": "stream",
     "text": [
      "Train: 100%|\u001B[32m████████████████████████\u001B[0m| 295/295 [01:00<00:00,  4.86batch/s, Loss: 0.5187 | Precision: 87.10%]\u001B[0m\n"
     ]
    },
    {
     "name": "stdout",
     "output_type": "stream",
     "text": [
      "Epoch 63 | Avg Loss: 0.2843 | Avg Precision: 87.26%\n"
     ]
    },
    {
     "name": "stderr",
     "output_type": "stream",
     "text": [
      "Train: 100%|\u001B[32m████████████████████████\u001B[0m| 295/295 [01:00<00:00,  4.85batch/s, Loss: 0.4965 | Precision: 87.09%]\u001B[0m\n"
     ]
    },
    {
     "name": "stdout",
     "output_type": "stream",
     "text": [
      "Epoch 64 | Avg Loss: 0.2847 | Avg Precision: 87.24%\n"
     ]
    },
    {
     "name": "stderr",
     "output_type": "stream",
     "text": [
      "Validate: 100%|\u001B[34m███████████████████████\u001B[0m| 74/74 [00:12<00:00,  5.94batch/s, Loss: 0.2473 | Precision: 87.20%]\u001B[0m\n"
     ]
    },
    {
     "name": "stdout",
     "output_type": "stream",
     "text": [
      "Epoch 64 | Avg Loss: 0.2915 | Avg Precision: 87.11% | Patience: 0\n"
     ]
    },
    {
     "name": "stderr",
     "output_type": "stream",
     "text": [
      "Train: 100%|\u001B[32m████████████████████████\u001B[0m| 295/295 [01:00<00:00,  4.86batch/s, Loss: 0.4617 | Precision: 87.16%]\u001B[0m\n"
     ]
    },
    {
     "name": "stdout",
     "output_type": "stream",
     "text": [
      "Epoch 65 | Avg Loss: 0.2835 | Avg Precision: 87.32%\n"
     ]
    },
    {
     "name": "stderr",
     "output_type": "stream",
     "text": [
      "Train: 100%|\u001B[32m████████████████████████\u001B[0m| 295/295 [01:00<00:00,  4.85batch/s, Loss: 0.4821 | Precision: 87.16%]\u001B[0m\n"
     ]
    },
    {
     "name": "stdout",
     "output_type": "stream",
     "text": [
      "Epoch 66 | Avg Loss: 0.2837 | Avg Precision: 87.32%\n"
     ]
    },
    {
     "name": "stderr",
     "output_type": "stream",
     "text": [
      "Validate: 100%|\u001B[34m███████████████████████\u001B[0m| 74/74 [00:12<00:00,  5.93batch/s, Loss: 0.2489 | Precision: 87.46%]\u001B[0m\n"
     ]
    },
    {
     "name": "stdout",
     "output_type": "stream",
     "text": [
      "Epoch 66 | Avg Loss: 0.2915 | Avg Precision: 87.29% | Patience: 0\n"
     ]
    },
    {
     "name": "stderr",
     "output_type": "stream",
     "text": [
      "Train: 100%|\u001B[32m████████████████████████\u001B[0m| 295/295 [01:00<00:00,  4.85batch/s, Loss: 0.5031 | Precision: 87.19%]\u001B[0m\n"
     ]
    },
    {
     "name": "stdout",
     "output_type": "stream",
     "text": [
      "Epoch 67 | Avg Loss: 0.2826 | Avg Precision: 87.46%\n"
     ]
    },
    {
     "name": "stderr",
     "output_type": "stream",
     "text": [
      "Train: 100%|\u001B[32m████████████████████████\u001B[0m| 295/295 [01:00<00:00,  4.84batch/s, Loss: 0.5041 | Precision: 87.11%]\u001B[0m\n"
     ]
    },
    {
     "name": "stdout",
     "output_type": "stream",
     "text": [
      "Epoch 68 | Avg Loss: 0.2836 | Avg Precision: 87.29%\n"
     ]
    },
    {
     "name": "stderr",
     "output_type": "stream",
     "text": [
      "Validate: 100%|\u001B[34m███████████████████████\u001B[0m| 74/74 [00:12<00:00,  5.88batch/s, Loss: 0.2483 | Precision: 86.95%]\u001B[0m\n"
     ]
    },
    {
     "name": "stdout",
     "output_type": "stream",
     "text": [
      "Epoch 68 | Avg Loss: 0.2894 | Avg Precision: 86.88% | Patience: 1\n"
     ]
    },
    {
     "name": "stderr",
     "output_type": "stream",
     "text": [
      "Train: 100%|\u001B[32m████████████████████████\u001B[0m| 295/295 [01:00<00:00,  4.87batch/s, Loss: 0.5374 | Precision: 87.22%]\u001B[0m\n"
     ]
    },
    {
     "name": "stdout",
     "output_type": "stream",
     "text": [
      "Epoch 69 | Avg Loss: 0.2822 | Avg Precision: 87.30%\n"
     ]
    },
    {
     "name": "stderr",
     "output_type": "stream",
     "text": [
      "Train: 100%|\u001B[32m████████████████████████\u001B[0m| 295/295 [01:00<00:00,  4.85batch/s, Loss: 0.5202 | Precision: 87.18%]\u001B[0m\n"
     ]
    },
    {
     "name": "stdout",
     "output_type": "stream",
     "text": [
      "Epoch 70 | Avg Loss: 0.2822 | Avg Precision: 87.35%\n"
     ]
    },
    {
     "name": "stderr",
     "output_type": "stream",
     "text": [
      "Validate: 100%|\u001B[34m███████████████████████\u001B[0m| 74/74 [00:12<00:00,  5.88batch/s, Loss: 0.2445 | Precision: 87.45%]\u001B[0m\n"
     ]
    },
    {
     "name": "stdout",
     "output_type": "stream",
     "text": [
      "Epoch 70 | Avg Loss: 0.2909 | Avg Precision: 87.35% | Patience: 0\n"
     ]
    },
    {
     "name": "stderr",
     "output_type": "stream",
     "text": [
      "Train: 100%|\u001B[32m████████████████████████\u001B[0m| 295/295 [01:00<00:00,  4.85batch/s, Loss: 0.4860 | Precision: 87.16%]\u001B[0m\n"
     ]
    },
    {
     "name": "stdout",
     "output_type": "stream",
     "text": [
      "Epoch 71 | Avg Loss: 0.2831 | Avg Precision: 87.38%\n"
     ]
    },
    {
     "name": "stderr",
     "output_type": "stream",
     "text": [
      "Train: 100%|\u001B[32m████████████████████████\u001B[0m| 295/295 [01:00<00:00,  4.85batch/s, Loss: 0.4871 | Precision: 87.10%]\u001B[0m\n"
     ]
    },
    {
     "name": "stdout",
     "output_type": "stream",
     "text": [
      "Epoch 72 | Avg Loss: 0.2840 | Avg Precision: 87.41%\n"
     ]
    },
    {
     "name": "stderr",
     "output_type": "stream",
     "text": [
      "Validate: 100%|\u001B[34m███████████████████████\u001B[0m| 74/74 [00:12<00:00,  5.91batch/s, Loss: 0.2496 | Precision: 87.50%]\u001B[0m\n"
     ]
    },
    {
     "name": "stdout",
     "output_type": "stream",
     "text": [
      "Epoch 72 | Avg Loss: 0.2871 | Avg Precision: 87.45% | Patience: 0\n"
     ]
    },
    {
     "name": "stderr",
     "output_type": "stream",
     "text": [
      "Train: 100%|\u001B[32m████████████████████████\u001B[0m| 295/295 [01:00<00:00,  4.87batch/s, Loss: 0.4636 | Precision: 87.06%]\u001B[0m\n"
     ]
    },
    {
     "name": "stdout",
     "output_type": "stream",
     "text": [
      "Epoch 73 | Avg Loss: 0.2846 | Avg Precision: 87.28%\n"
     ]
    },
    {
     "name": "stderr",
     "output_type": "stream",
     "text": [
      "Train: 100%|\u001B[32m████████████████████████\u001B[0m| 295/295 [01:00<00:00,  4.86batch/s, Loss: 0.5036 | Precision: 87.16%]\u001B[0m\n"
     ]
    },
    {
     "name": "stdout",
     "output_type": "stream",
     "text": [
      "Epoch 74 | Avg Loss: 0.2825 | Avg Precision: 87.30%\n"
     ]
    },
    {
     "name": "stderr",
     "output_type": "stream",
     "text": [
      "Validate: 100%|\u001B[34m███████████████████████\u001B[0m| 74/74 [00:12<00:00,  6.01batch/s, Loss: 0.2486 | Precision: 87.46%]\u001B[0m\n"
     ]
    },
    {
     "name": "stdout",
     "output_type": "stream",
     "text": [
      "Epoch 74 | Avg Loss: 0.2923 | Avg Precision: 87.33% | Patience: 1\n"
     ]
    },
    {
     "name": "stderr",
     "output_type": "stream",
     "text": [
      "Train: 100%|\u001B[32m████████████████████████\u001B[0m| 295/295 [01:00<00:00,  4.85batch/s, Loss: 0.5199 | Precision: 87.16%]\u001B[0m\n"
     ]
    },
    {
     "name": "stdout",
     "output_type": "stream",
     "text": [
      "Epoch 75 | Avg Loss: 0.2826 | Avg Precision: 87.36%\n"
     ]
    },
    {
     "name": "stderr",
     "output_type": "stream",
     "text": [
      "Train: 100%|\u001B[32m████████████████████████\u001B[0m| 295/295 [01:01<00:00,  4.83batch/s, Loss: 0.4834 | Precision: 87.31%]\u001B[0m\n"
     ]
    },
    {
     "name": "stdout",
     "output_type": "stream",
     "text": [
      "Epoch 76 | Avg Loss: 0.2808 | Avg Precision: 87.48%\n"
     ]
    },
    {
     "name": "stderr",
     "output_type": "stream",
     "text": [
      "Validate: 100%|\u001B[34m███████████████████████\u001B[0m| 74/74 [00:12<00:00,  5.89batch/s, Loss: 0.2575 | Precision: 87.48%]\u001B[0m\n"
     ]
    },
    {
     "name": "stdout",
     "output_type": "stream",
     "text": [
      "Epoch 76 | Avg Loss: 0.2967 | Avg Precision: 87.36% | Patience: 2\n"
     ]
    },
    {
     "name": "stderr",
     "output_type": "stream",
     "text": [
      "Train: 100%|\u001B[32m████████████████████████\u001B[0m| 295/295 [01:00<00:00,  4.86batch/s, Loss: 0.4332 | Precision: 87.32%]\u001B[0m\n"
     ]
    },
    {
     "name": "stdout",
     "output_type": "stream",
     "text": [
      "Epoch 77 | Avg Loss: 0.2797 | Avg Precision: 87.53%\n"
     ]
    },
    {
     "name": "stderr",
     "output_type": "stream",
     "text": [
      "Train: 100%|\u001B[32m████████████████████████\u001B[0m| 295/295 [01:00<00:00,  4.85batch/s, Loss: 0.4420 | Precision: 87.33%]\u001B[0m\n"
     ]
    },
    {
     "name": "stdout",
     "output_type": "stream",
     "text": [
      "Epoch 78 | Avg Loss: 0.2794 | Avg Precision: 87.54%\n"
     ]
    },
    {
     "name": "stderr",
     "output_type": "stream",
     "text": [
      "Validate: 100%|\u001B[34m███████████████████████\u001B[0m| 74/74 [00:12<00:00,  5.94batch/s, Loss: 0.2468 | Precision: 87.70%]\u001B[0m\n"
     ]
    },
    {
     "name": "stdout",
     "output_type": "stream",
     "text": [
      "Epoch 78 | Avg Loss: 0.2917 | Avg Precision: 87.66% | Patience: 0\n"
     ]
    },
    {
     "name": "stderr",
     "output_type": "stream",
     "text": [
      "Train: 100%|\u001B[32m████████████████████████\u001B[0m| 295/295 [01:00<00:00,  4.86batch/s, Loss: 0.4378 | Precision: 87.41%]\u001B[0m\n"
     ]
    },
    {
     "name": "stdout",
     "output_type": "stream",
     "text": [
      "Epoch 79 | Avg Loss: 0.2780 | Avg Precision: 87.54%\n"
     ]
    },
    {
     "name": "stderr",
     "output_type": "stream",
     "text": [
      "Train: 100%|\u001B[32m████████████████████████\u001B[0m| 295/295 [01:00<00:00,  4.85batch/s, Loss: 0.5134 | Precision: 87.27%]\u001B[0m\n"
     ]
    },
    {
     "name": "stdout",
     "output_type": "stream",
     "text": [
      "Epoch 80 | Avg Loss: 0.2816 | Avg Precision: 87.49%\n"
     ]
    },
    {
     "name": "stderr",
     "output_type": "stream",
     "text": [
      "Validate: 100%|\u001B[34m███████████████████████\u001B[0m| 74/74 [00:12<00:00,  5.93batch/s, Loss: 0.2608 | Precision: 87.16%]\u001B[0m\n"
     ]
    },
    {
     "name": "stdout",
     "output_type": "stream",
     "text": [
      "Epoch 80 | Avg Loss: 0.3035 | Avg Precision: 87.11% | Patience: 1\n"
     ]
    },
    {
     "name": "stderr",
     "output_type": "stream",
     "text": [
      "Train: 100%|\u001B[32m████████████████████████\u001B[0m| 295/295 [01:00<00:00,  4.85batch/s, Loss: 0.4363 | Precision: 87.29%]\u001B[0m\n"
     ]
    },
    {
     "name": "stdout",
     "output_type": "stream",
     "text": [
      "Epoch 81 | Avg Loss: 0.2797 | Avg Precision: 87.43%\n"
     ]
    },
    {
     "name": "stderr",
     "output_type": "stream",
     "text": [
      "Train: 100%|\u001B[32m████████████████████████\u001B[0m| 295/295 [01:00<00:00,  4.85batch/s, Loss: 0.4454 | Precision: 87.46%]\u001B[0m\n"
     ]
    },
    {
     "name": "stdout",
     "output_type": "stream",
     "text": [
      "Epoch 82 | Avg Loss: 0.2780 | Avg Precision: 87.59%\n"
     ]
    },
    {
     "name": "stderr",
     "output_type": "stream",
     "text": [
      "Validate: 100%|\u001B[34m███████████████████████\u001B[0m| 74/74 [00:12<00:00,  5.92batch/s, Loss: 0.2476 | Precision: 87.52%]\u001B[0m\n"
     ]
    },
    {
     "name": "stdout",
     "output_type": "stream",
     "text": [
      "Epoch 82 | Avg Loss: 0.2887 | Avg Precision: 87.47% | Patience: 2\n"
     ]
    },
    {
     "name": "stderr",
     "output_type": "stream",
     "text": [
      "Train: 100%|\u001B[32m████████████████████████\u001B[0m| 295/295 [01:00<00:00,  4.85batch/s, Loss: 0.4506 | Precision: 87.44%]\u001B[0m\n"
     ]
    },
    {
     "name": "stdout",
     "output_type": "stream",
     "text": [
      "Epoch 83 | Avg Loss: 0.2772 | Avg Precision: 87.56%\n"
     ]
    },
    {
     "name": "stderr",
     "output_type": "stream",
     "text": [
      "Train: 100%|\u001B[32m████████████████████████\u001B[0m| 295/295 [01:00<00:00,  4.85batch/s, Loss: 0.4536 | Precision: 87.45%]\u001B[0m\n"
     ]
    },
    {
     "name": "stdout",
     "output_type": "stream",
     "text": [
      "Epoch 84 | Avg Loss: 0.2778 | Avg Precision: 87.68%\n"
     ]
    },
    {
     "name": "stderr",
     "output_type": "stream",
     "text": [
      "Validate: 100%|\u001B[34m███████████████████████\u001B[0m| 74/74 [00:12<00:00,  5.93batch/s, Loss: 0.2591 | Precision: 87.26%]\u001B[0m\n"
     ]
    },
    {
     "name": "stdout",
     "output_type": "stream",
     "text": [
      "Epoch 84 | Avg Loss: 0.3040 | Avg Precision: 87.14% | Patience: 3\n"
     ]
    },
    {
     "name": "stderr",
     "output_type": "stream",
     "text": [
      "Train: 100%|\u001B[32m████████████████████████\u001B[0m| 295/295 [01:00<00:00,  4.84batch/s, Loss: 0.4102 | Precision: 87.43%]\u001B[0m\n"
     ]
    },
    {
     "name": "stdout",
     "output_type": "stream",
     "text": [
      "Epoch 85 | Avg Loss: 0.2774 | Avg Precision: 87.60%\n"
     ]
    },
    {
     "name": "stderr",
     "output_type": "stream",
     "text": [
      "Train: 100%|\u001B[32m████████████████████████\u001B[0m| 295/295 [01:00<00:00,  4.86batch/s, Loss: 0.4651 | Precision: 87.49%]\u001B[0m\n"
     ]
    },
    {
     "name": "stdout",
     "output_type": "stream",
     "text": [
      "Epoch 86 | Avg Loss: 0.2766 | Avg Precision: 87.61%\n"
     ]
    },
    {
     "name": "stderr",
     "output_type": "stream",
     "text": [
      "Validate: 100%|\u001B[34m███████████████████████\u001B[0m| 74/74 [00:12<00:00,  5.94batch/s, Loss: 0.2437 | Precision: 87.64%]\u001B[0m\n"
     ]
    },
    {
     "name": "stdout",
     "output_type": "stream",
     "text": [
      "Epoch 86 | Avg Loss: 0.2891 | Avg Precision: 87.61% | Patience: 4\n"
     ]
    },
    {
     "name": "stderr",
     "output_type": "stream",
     "text": [
      "Train: 100%|\u001B[32m████████████████████████\u001B[0m| 295/295 [01:00<00:00,  4.86batch/s, Loss: 0.4464 | Precision: 87.57%]\u001B[0m\n"
     ]
    },
    {
     "name": "stdout",
     "output_type": "stream",
     "text": [
      "Epoch 87 | Avg Loss: 0.2747 | Avg Precision: 87.83%\n"
     ]
    },
    {
     "name": "stderr",
     "output_type": "stream",
     "text": [
      "Train: 100%|\u001B[32m████████████████████████\u001B[0m| 295/295 [01:00<00:00,  4.85batch/s, Loss: 0.4445 | Precision: 87.57%]\u001B[0m\n"
     ]
    },
    {
     "name": "stdout",
     "output_type": "stream",
     "text": [
      "Epoch 88 | Avg Loss: 0.2755 | Avg Precision: 87.77%\n"
     ]
    },
    {
     "name": "stderr",
     "output_type": "stream",
     "text": [
      "Validate: 100%|\u001B[34m███████████████████████\u001B[0m| 74/74 [00:12<00:00,  5.93batch/s, Loss: 0.2399 | Precision: 87.58%]\u001B[0m\n"
     ]
    },
    {
     "name": "stdout",
     "output_type": "stream",
     "text": [
      "Epoch 88 | Avg Loss: 0.2874 | Avg Precision: 87.48% | Patience: 5\n"
     ]
    },
    {
     "name": "stderr",
     "output_type": "stream",
     "text": [
      "Train: 100%|\u001B[32m████████████████████████\u001B[0m| 295/295 [01:00<00:00,  4.87batch/s, Loss: 0.4391 | Precision: 87.63%]\u001B[0m\n"
     ]
    },
    {
     "name": "stdout",
     "output_type": "stream",
     "text": [
      "Epoch 89 | Avg Loss: 0.2742 | Avg Precision: 87.81%\n"
     ]
    },
    {
     "name": "stderr",
     "output_type": "stream",
     "text": [
      "Train: 100%|\u001B[32m████████████████████████\u001B[0m| 295/295 [01:00<00:00,  4.86batch/s, Loss: 0.4432 | Precision: 87.54%]\u001B[0m\n"
     ]
    },
    {
     "name": "stdout",
     "output_type": "stream",
     "text": [
      "Epoch 90 | Avg Loss: 0.2751 | Avg Precision: 87.74%\n"
     ]
    },
    {
     "name": "stderr",
     "output_type": "stream",
     "text": [
      "Validate: 100%|\u001B[34m███████████████████████\u001B[0m| 74/74 [00:12<00:00,  5.93batch/s, Loss: 0.2510 | Precision: 87.65%]\u001B[0m\n"
     ]
    },
    {
     "name": "stdout",
     "output_type": "stream",
     "text": [
      "Epoch 90 | Avg Loss: 0.2894 | Avg Precision: 87.57% | Patience: 6\n"
     ]
    },
    {
     "name": "stderr",
     "output_type": "stream",
     "text": [
      "Train: 100%|\u001B[32m████████████████████████\u001B[0m| 295/295 [01:00<00:00,  4.85batch/s, Loss: 0.4440 | Precision: 87.71%]\u001B[0m\n"
     ]
    },
    {
     "name": "stdout",
     "output_type": "stream",
     "text": [
      "Epoch 91 | Avg Loss: 0.2727 | Avg Precision: 87.91%\n"
     ]
    },
    {
     "name": "stderr",
     "output_type": "stream",
     "text": [
      "Train: 100%|\u001B[32m████████████████████████\u001B[0m| 295/295 [01:00<00:00,  4.88batch/s, Loss: 0.4380 | Precision: 87.67%]\u001B[0m\n"
     ]
    },
    {
     "name": "stdout",
     "output_type": "stream",
     "text": [
      "Epoch 92 | Avg Loss: 0.2730 | Avg Precision: 87.85%\n"
     ]
    },
    {
     "name": "stderr",
     "output_type": "stream",
     "text": [
      "Validate: 100%|\u001B[34m███████████████████████\u001B[0m| 74/74 [00:12<00:00,  5.92batch/s, Loss: 0.2460 | Precision: 87.79%]\u001B[0m\n"
     ]
    },
    {
     "name": "stdout",
     "output_type": "stream",
     "text": [
      "Epoch 92 | Avg Loss: 0.2823 | Avg Precision: 87.65% | Patience: 7\n"
     ]
    },
    {
     "name": "stderr",
     "output_type": "stream",
     "text": [
      "Train: 100%|\u001B[32m████████████████████████\u001B[0m| 295/295 [01:00<00:00,  4.86batch/s, Loss: 0.4206 | Precision: 87.68%]\u001B[0m\n"
     ]
    },
    {
     "name": "stdout",
     "output_type": "stream",
     "text": [
      "Epoch 93 | Avg Loss: 0.2725 | Avg Precision: 87.85%\n"
     ]
    },
    {
     "name": "stderr",
     "output_type": "stream",
     "text": [
      "Train: 100%|\u001B[32m████████████████████████\u001B[0m| 295/295 [01:00<00:00,  4.87batch/s, Loss: 0.4138 | Precision: 87.76%]\u001B[0m\n"
     ]
    },
    {
     "name": "stdout",
     "output_type": "stream",
     "text": [
      "Epoch 94 | Avg Loss: 0.2723 | Avg Precision: 87.83%\n"
     ]
    },
    {
     "name": "stderr",
     "output_type": "stream",
     "text": [
      "Validate: 100%|\u001B[34m███████████████████████\u001B[0m| 74/74 [00:12<00:00,  5.90batch/s, Loss: 0.2588 | Precision: 87.68%]\u001B[0m\n"
     ]
    },
    {
     "name": "stdout",
     "output_type": "stream",
     "text": [
      "Epoch 94 | Avg Loss: 0.2946 | Avg Precision: 87.62% | Patience: 8\n"
     ]
    },
    {
     "name": "stderr",
     "output_type": "stream",
     "text": [
      "Train: 100%|\u001B[32m████████████████████████\u001B[0m| 295/295 [01:00<00:00,  4.87batch/s, Loss: 0.4172 | Precision: 87.78%]\u001B[0m\n"
     ]
    },
    {
     "name": "stdout",
     "output_type": "stream",
     "text": [
      "Epoch 95 | Avg Loss: 0.2717 | Avg Precision: 87.89%\n"
     ]
    },
    {
     "name": "stderr",
     "output_type": "stream",
     "text": [
      "Train: 100%|\u001B[32m████████████████████████\u001B[0m| 295/295 [01:00<00:00,  4.87batch/s, Loss: 0.3983 | Precision: 87.86%]\u001B[0m\n"
     ]
    },
    {
     "name": "stdout",
     "output_type": "stream",
     "text": [
      "Epoch 96 | Avg Loss: 0.2703 | Avg Precision: 87.97%\n"
     ]
    },
    {
     "name": "stderr",
     "output_type": "stream",
     "text": [
      "Validate: 100%|\u001B[34m███████████████████████\u001B[0m| 74/74 [00:12<00:00,  5.95batch/s, Loss: 0.2464 | Precision: 87.96%]\u001B[0m\n"
     ]
    },
    {
     "name": "stdout",
     "output_type": "stream",
     "text": [
      "Epoch 96 | Avg Loss: 0.2928 | Avg Precision: 87.94% | Patience: 0\n"
     ]
    },
    {
     "name": "stderr",
     "output_type": "stream",
     "text": [
      "Train: 100%|\u001B[32m████████████████████████\u001B[0m| 295/295 [01:00<00:00,  4.87batch/s, Loss: 0.4134 | Precision: 87.76%]\u001B[0m\n"
     ]
    },
    {
     "name": "stdout",
     "output_type": "stream",
     "text": [
      "Epoch 97 | Avg Loss: 0.2718 | Avg Precision: 87.91%\n"
     ]
    },
    {
     "name": "stderr",
     "output_type": "stream",
     "text": [
      "Train: 100%|\u001B[32m████████████████████████\u001B[0m| 295/295 [01:00<00:00,  4.86batch/s, Loss: 0.4236 | Precision: 87.83%]\u001B[0m\n"
     ]
    },
    {
     "name": "stdout",
     "output_type": "stream",
     "text": [
      "Epoch 98 | Avg Loss: 0.2707 | Avg Precision: 87.95%\n"
     ]
    },
    {
     "name": "stderr",
     "output_type": "stream",
     "text": [
      "Validate: 100%|\u001B[34m███████████████████████\u001B[0m| 74/74 [00:12<00:00,  5.91batch/s, Loss: 0.2449 | Precision: 87.74%]\u001B[0m\n"
     ]
    },
    {
     "name": "stdout",
     "output_type": "stream",
     "text": [
      "Epoch 98 | Avg Loss: 0.2879 | Avg Precision: 87.66% | Patience: 1\n"
     ]
    },
    {
     "name": "stderr",
     "output_type": "stream",
     "text": [
      "Train: 100%|\u001B[32m████████████████████████\u001B[0m| 295/295 [01:00<00:00,  4.87batch/s, Loss: 0.4339 | Precision: 87.86%]\u001B[0m\n"
     ]
    },
    {
     "name": "stdout",
     "output_type": "stream",
     "text": [
      "Epoch 99 | Avg Loss: 0.2702 | Avg Precision: 87.99%\n"
     ]
    },
    {
     "name": "stderr",
     "output_type": "stream",
     "text": [
      "Train: 100%|\u001B[32m████████████████████████\u001B[0m| 295/295 [01:00<00:00,  4.86batch/s, Loss: 0.4216 | Precision: 87.89%]\u001B[0m\n"
     ]
    },
    {
     "name": "stdout",
     "output_type": "stream",
     "text": [
      "Epoch 100 | Avg Loss: 0.2695 | Avg Precision: 88.00%\n"
     ]
    },
    {
     "name": "stderr",
     "output_type": "stream",
     "text": [
      "Validate: 100%|\u001B[34m███████████████████████\u001B[0m| 74/74 [00:12<00:00,  5.95batch/s, Loss: 0.2397 | Precision: 87.86%]\u001B[0m"
     ]
    },
    {
     "name": "stdout",
     "output_type": "stream",
     "text": [
      "Epoch 100 | Avg Loss: 0.2822 | Avg Precision: 87.83% | Patience: 2\n",
      "Training Complete - Best Validate Precision: 87.94%\n"
     ]
    },
    {
     "name": "stderr",
     "output_type": "stream",
     "text": [
      "\n"
     ]
    }
   ],
   "source": [
    "model = LSTMnet(9, 100, 1, 4)\n",
    "model = model.to(device)\n",
    "criterion = nn.CrossEntropyLoss()\n",
    "optimizer = optim.Adam(model.parameters(), lr=.01)\n",
    "scheduler = ReduceLROnPlateau(optimizer, 'max', factor=.9, patience=1, min_lr=.001)\n",
    "\n",
    "model12 = train_validate(model, criterion, optimizer, scheduler)\n",
    "torch.save(model12.state_dict(), '.\\\\models\\\\downsample\\\\lstm\\\\model12.pth')"
   ]
  },
  {
   "cell_type": "markdown",
   "id": "be90d98c-e6ed-4db2-89c2-047d3d20f893",
   "metadata": {
    "jp-MarkdownHeadingCollapsed": true
   },
   "source": [
    "### 11-6-23"
   ]
  },
  {
   "cell_type": "markdown",
   "id": "4b269549-51e5-44b0-b66d-d18be8d236d9",
   "metadata": {
    "jp-MarkdownHeadingCollapsed": true
   },
   "source": [
    "#### Model 13 - Lookback 10"
   ]
  },
  {
   "cell_type": "code",
   "execution_count": 16,
   "id": "ddddf879-4772-4692-913f-9f24bb3ed1bd",
   "metadata": {},
   "outputs": [
    {
     "name": "stderr",
     "output_type": "stream",
     "text": [
      "Train: 100%|\u001B[32m████████████████████████\u001B[0m| 295/295 [00:57<00:00,  5.15batch/s, Loss: 0.3792 | Precision: 75.37%]\u001B[0m\n"
     ]
    },
    {
     "name": "stdout",
     "output_type": "stream",
     "text": [
      "Epoch 1 | Avg Loss: 0.4884 | Avg Precision: 72.10%\n"
     ]
    },
    {
     "name": "stderr",
     "output_type": "stream",
     "text": [
      "Train: 100%|\u001B[32m████████████████████████\u001B[0m| 295/295 [00:56<00:00,  5.25batch/s, Loss: 0.4054 | Precision: 80.39%]\u001B[0m\n"
     ]
    },
    {
     "name": "stdout",
     "output_type": "stream",
     "text": [
      "Epoch 2 | Avg Loss: 0.3990 | Avg Precision: 79.71%\n"
     ]
    },
    {
     "name": "stderr",
     "output_type": "stream",
     "text": [
      "Validate: 100%|\u001B[34m███████████████████████\u001B[0m| 74/74 [00:11<00:00,  6.21batch/s, Loss: 0.4766 | Precision: 78.38%]\u001B[0m\n"
     ]
    },
    {
     "name": "stdout",
     "output_type": "stream",
     "text": [
      "Epoch 2 | Avg Loss: 0.4814 | Avg Precision: 78.24% | Patience: 0\n"
     ]
    },
    {
     "name": "stderr",
     "output_type": "stream",
     "text": [
      "Train: 100%|\u001B[32m████████████████████████\u001B[0m| 295/295 [00:56<00:00,  5.23batch/s, Loss: 0.3103 | Precision: 79.64%]\u001B[0m\n"
     ]
    },
    {
     "name": "stdout",
     "output_type": "stream",
     "text": [
      "Epoch 3 | Avg Loss: 0.4096 | Avg Precision: 78.58%\n"
     ]
    },
    {
     "name": "stderr",
     "output_type": "stream",
     "text": [
      "Train: 100%|\u001B[32m████████████████████████\u001B[0m| 295/295 [00:57<00:00,  5.16batch/s, Loss: 0.3514 | Precision: 81.35%]\u001B[0m\n"
     ]
    },
    {
     "name": "stdout",
     "output_type": "stream",
     "text": [
      "Epoch 4 | Avg Loss: 0.3826 | Avg Precision: 80.96%\n"
     ]
    },
    {
     "name": "stderr",
     "output_type": "stream",
     "text": [
      "Validate: 100%|\u001B[34m███████████████████████\u001B[0m| 74/74 [00:11<00:00,  6.22batch/s, Loss: 0.3939 | Precision: 81.25%]\u001B[0m\n"
     ]
    },
    {
     "name": "stdout",
     "output_type": "stream",
     "text": [
      "Epoch 4 | Avg Loss: 0.3819 | Avg Precision: 81.20% | Patience: 0\n"
     ]
    },
    {
     "name": "stderr",
     "output_type": "stream",
     "text": [
      "Train: 100%|\u001B[32m████████████████████████\u001B[0m| 295/295 [00:57<00:00,  5.14batch/s, Loss: 0.4192 | Precision: 82.21%]\u001B[0m\n"
     ]
    },
    {
     "name": "stdout",
     "output_type": "stream",
     "text": [
      "Epoch 5 | Avg Loss: 0.3699 | Avg Precision: 82.11%\n"
     ]
    },
    {
     "name": "stderr",
     "output_type": "stream",
     "text": [
      "Train: 100%|\u001B[32m████████████████████████\u001B[0m| 295/295 [00:57<00:00,  5.11batch/s, Loss: 0.3434 | Precision: 82.76%]\u001B[0m\n"
     ]
    },
    {
     "name": "stdout",
     "output_type": "stream",
     "text": [
      "Epoch 6 | Avg Loss: 0.3579 | Avg Precision: 82.16%\n"
     ]
    },
    {
     "name": "stderr",
     "output_type": "stream",
     "text": [
      "Validate: 100%|\u001B[34m███████████████████████\u001B[0m| 74/74 [00:12<00:00,  6.02batch/s, Loss: 0.3382 | Precision: 83.13%]\u001B[0m\n"
     ]
    },
    {
     "name": "stdout",
     "output_type": "stream",
     "text": [
      "Epoch 6 | Avg Loss: 0.3433 | Avg Precision: 83.10% | Patience: 0\n"
     ]
    },
    {
     "name": "stderr",
     "output_type": "stream",
     "text": [
      "Train: 100%|\u001B[32m████████████████████████\u001B[0m| 295/295 [00:57<00:00,  5.11batch/s, Loss: 0.3644 | Precision: 83.35%]\u001B[0m\n"
     ]
    },
    {
     "name": "stdout",
     "output_type": "stream",
     "text": [
      "Epoch 7 | Avg Loss: 0.3481 | Avg Precision: 83.29%\n"
     ]
    },
    {
     "name": "stderr",
     "output_type": "stream",
     "text": [
      "Train: 100%|\u001B[32m████████████████████████\u001B[0m| 295/295 [00:58<00:00,  5.08batch/s, Loss: 0.3430 | Precision: 83.76%]\u001B[0m\n"
     ]
    },
    {
     "name": "stdout",
     "output_type": "stream",
     "text": [
      "Epoch 8 | Avg Loss: 0.3408 | Avg Precision: 83.45%\n"
     ]
    },
    {
     "name": "stderr",
     "output_type": "stream",
     "text": [
      "Validate: 100%|\u001B[34m███████████████████████\u001B[0m| 74/74 [00:12<00:00,  6.14batch/s, Loss: 0.3319 | Precision: 83.67%]\u001B[0m\n"
     ]
    },
    {
     "name": "stdout",
     "output_type": "stream",
     "text": [
      "Epoch 8 | Avg Loss: 0.3334 | Avg Precision: 83.63% | Patience: 0\n"
     ]
    },
    {
     "name": "stderr",
     "output_type": "stream",
     "text": [
      "Train: 100%|\u001B[32m████████████████████████\u001B[0m| 295/295 [00:58<00:00,  5.08batch/s, Loss: 0.3373 | Precision: 84.11%]\u001B[0m\n"
     ]
    },
    {
     "name": "stdout",
     "output_type": "stream",
     "text": [
      "Epoch 9 | Avg Loss: 0.3351 | Avg Precision: 83.89%\n"
     ]
    },
    {
     "name": "stderr",
     "output_type": "stream",
     "text": [
      "Train: 100%|\u001B[32m████████████████████████\u001B[0m| 295/295 [00:58<00:00,  5.09batch/s, Loss: 0.3031 | Precision: 84.39%]\u001B[0m\n"
     ]
    },
    {
     "name": "stdout",
     "output_type": "stream",
     "text": [
      "Epoch 10 | Avg Loss: 0.3292 | Avg Precision: 84.18%\n"
     ]
    },
    {
     "name": "stderr",
     "output_type": "stream",
     "text": [
      "Validate: 100%|\u001B[34m███████████████████████\u001B[0m| 74/74 [00:11<00:00,  6.19batch/s, Loss: 0.3212 | Precision: 84.72%]\u001B[0m\n"
     ]
    },
    {
     "name": "stdout",
     "output_type": "stream",
     "text": [
      "Epoch 10 | Avg Loss: 0.3259 | Avg Precision: 84.72% | Patience: 0\n"
     ]
    },
    {
     "name": "stderr",
     "output_type": "stream",
     "text": [
      "Train: 100%|\u001B[32m████████████████████████\u001B[0m| 295/295 [00:58<00:00,  5.06batch/s, Loss: 0.2986 | Precision: 84.72%]\u001B[0m\n"
     ]
    },
    {
     "name": "stdout",
     "output_type": "stream",
     "text": [
      "Epoch 11 | Avg Loss: 0.3226 | Avg Precision: 84.62%\n"
     ]
    },
    {
     "name": "stderr",
     "output_type": "stream",
     "text": [
      "Train: 100%|\u001B[32m████████████████████████\u001B[0m| 295/295 [00:58<00:00,  5.06batch/s, Loss: 0.3002 | Precision: 84.86%]\u001B[0m\n"
     ]
    },
    {
     "name": "stdout",
     "output_type": "stream",
     "text": [
      "Epoch 12 | Avg Loss: 0.3193 | Avg Precision: 84.80%\n"
     ]
    },
    {
     "name": "stderr",
     "output_type": "stream",
     "text": [
      "Validate: 100%|\u001B[34m███████████████████████\u001B[0m| 74/74 [00:12<00:00,  6.15batch/s, Loss: 0.3226 | Precision: 82.94%]\u001B[0m\n"
     ]
    },
    {
     "name": "stdout",
     "output_type": "stream",
     "text": [
      "Epoch 12 | Avg Loss: 0.3342 | Avg Precision: 82.94% | Patience: 1\n"
     ]
    },
    {
     "name": "stderr",
     "output_type": "stream",
     "text": [
      "Train: 100%|\u001B[32m████████████████████████\u001B[0m| 295/295 [00:58<00:00,  5.07batch/s, Loss: 0.3724 | Precision: 85.12%]\u001B[0m\n"
     ]
    },
    {
     "name": "stdout",
     "output_type": "stream",
     "text": [
      "Epoch 13 | Avg Loss: 0.3155 | Avg Precision: 84.89%\n"
     ]
    },
    {
     "name": "stderr",
     "output_type": "stream",
     "text": [
      "Train: 100%|\u001B[32m████████████████████████\u001B[0m| 295/295 [00:58<00:00,  5.04batch/s, Loss: 0.2619 | Precision: 85.42%]\u001B[0m\n"
     ]
    },
    {
     "name": "stdout",
     "output_type": "stream",
     "text": [
      "Epoch 14 | Avg Loss: 0.3102 | Avg Precision: 85.27%\n"
     ]
    },
    {
     "name": "stderr",
     "output_type": "stream",
     "text": [
      "Validate: 100%|\u001B[34m███████████████████████\u001B[0m| 74/74 [00:12<00:00,  6.08batch/s, Loss: 0.3116 | Precision: 85.11%]\u001B[0m\n"
     ]
    },
    {
     "name": "stdout",
     "output_type": "stream",
     "text": [
      "Epoch 14 | Avg Loss: 0.3157 | Avg Precision: 85.03% | Patience: 0\n"
     ]
    },
    {
     "name": "stderr",
     "output_type": "stream",
     "text": [
      "Train: 100%|\u001B[32m████████████████████████\u001B[0m| 295/295 [00:58<00:00,  5.05batch/s, Loss: 0.3472 | Precision: 85.50%]\u001B[0m\n"
     ]
    },
    {
     "name": "stdout",
     "output_type": "stream",
     "text": [
      "Epoch 15 | Avg Loss: 0.3072 | Avg Precision: 85.40%\n"
     ]
    },
    {
     "name": "stderr",
     "output_type": "stream",
     "text": [
      "Train: 100%|\u001B[32m████████████████████████\u001B[0m| 295/295 [00:58<00:00,  5.07batch/s, Loss: 0.2886 | Precision: 85.69%]\u001B[0m\n"
     ]
    },
    {
     "name": "stdout",
     "output_type": "stream",
     "text": [
      "Epoch 16 | Avg Loss: 0.3039 | Avg Precision: 85.49%\n"
     ]
    },
    {
     "name": "stderr",
     "output_type": "stream",
     "text": [
      "Validate: 100%|\u001B[34m███████████████████████\u001B[0m| 74/74 [00:12<00:00,  6.07batch/s, Loss: 0.2932 | Precision: 84.05%]\u001B[0m\n"
     ]
    },
    {
     "name": "stdout",
     "output_type": "stream",
     "text": [
      "Epoch 16 | Avg Loss: 0.3130 | Avg Precision: 84.09% | Patience: 1\n"
     ]
    },
    {
     "name": "stderr",
     "output_type": "stream",
     "text": [
      "Train: 100%|\u001B[32m████████████████████████\u001B[0m| 295/295 [00:58<00:00,  5.04batch/s, Loss: 0.3251 | Precision: 85.85%]\u001B[0m\n"
     ]
    },
    {
     "name": "stdout",
     "output_type": "stream",
     "text": [
      "Epoch 17 | Avg Loss: 0.3014 | Avg Precision: 85.63%\n"
     ]
    },
    {
     "name": "stderr",
     "output_type": "stream",
     "text": [
      "Train: 100%|\u001B[32m████████████████████████\u001B[0m| 295/295 [00:58<00:00,  5.08batch/s, Loss: 0.2695 | Precision: 86.01%]\u001B[0m\n"
     ]
    },
    {
     "name": "stdout",
     "output_type": "stream",
     "text": [
      "Epoch 18 | Avg Loss: 0.2971 | Avg Precision: 85.89%\n"
     ]
    },
    {
     "name": "stderr",
     "output_type": "stream",
     "text": [
      "Validate: 100%|\u001B[34m███████████████████████\u001B[0m| 74/74 [00:12<00:00,  6.06batch/s, Loss: 0.3059 | Precision: 85.26%]\u001B[0m\n"
     ]
    },
    {
     "name": "stdout",
     "output_type": "stream",
     "text": [
      "Epoch 18 | Avg Loss: 0.3126 | Avg Precision: 85.32% | Patience: 0\n"
     ]
    },
    {
     "name": "stderr",
     "output_type": "stream",
     "text": [
      "Train: 100%|\u001B[32m████████████████████████\u001B[0m| 295/295 [00:57<00:00,  5.11batch/s, Loss: 0.4176 | Precision: 86.00%]\u001B[0m\n"
     ]
    },
    {
     "name": "stdout",
     "output_type": "stream",
     "text": [
      "Epoch 19 | Avg Loss: 0.2972 | Avg Precision: 85.75%\n"
     ]
    },
    {
     "name": "stderr",
     "output_type": "stream",
     "text": [
      "Train: 100%|\u001B[32m████████████████████████\u001B[0m| 295/295 [00:58<00:00,  5.08batch/s, Loss: 0.2577 | Precision: 86.19%]\u001B[0m\n"
     ]
    },
    {
     "name": "stdout",
     "output_type": "stream",
     "text": [
      "Epoch 20 | Avg Loss: 0.2945 | Avg Precision: 85.96%\n"
     ]
    },
    {
     "name": "stderr",
     "output_type": "stream",
     "text": [
      "Validate: 100%|\u001B[34m███████████████████████\u001B[0m| 74/74 [00:12<00:00,  6.13batch/s, Loss: 0.3098 | Precision: 86.16%]\u001B[0m\n"
     ]
    },
    {
     "name": "stdout",
     "output_type": "stream",
     "text": [
      "Epoch 20 | Avg Loss: 0.3061 | Avg Precision: 86.18% | Patience: 0\n"
     ]
    },
    {
     "name": "stderr",
     "output_type": "stream",
     "text": [
      "Train: 100%|\u001B[32m████████████████████████\u001B[0m| 295/295 [00:57<00:00,  5.10batch/s, Loss: 0.2819 | Precision: 86.26%]\u001B[0m\n"
     ]
    },
    {
     "name": "stdout",
     "output_type": "stream",
     "text": [
      "Epoch 21 | Avg Loss: 0.2919 | Avg Precision: 86.12%\n"
     ]
    },
    {
     "name": "stderr",
     "output_type": "stream",
     "text": [
      "Train: 100%|\u001B[32m████████████████████████\u001B[0m| 295/295 [00:58<00:00,  5.06batch/s, Loss: 0.2477 | Precision: 86.35%]\u001B[0m\n"
     ]
    },
    {
     "name": "stdout",
     "output_type": "stream",
     "text": [
      "Epoch 22 | Avg Loss: 0.2906 | Avg Precision: 86.26%\n"
     ]
    },
    {
     "name": "stderr",
     "output_type": "stream",
     "text": [
      "Validate: 100%|\u001B[34m███████████████████████\u001B[0m| 74/74 [00:12<00:00,  5.98batch/s, Loss: 0.2835 | Precision: 86.18%]\u001B[0m\n"
     ]
    },
    {
     "name": "stdout",
     "output_type": "stream",
     "text": [
      "Epoch 22 | Avg Loss: 0.2960 | Avg Precision: 86.18% | Patience: 0\n"
     ]
    },
    {
     "name": "stderr",
     "output_type": "stream",
     "text": [
      "Train: 100%|\u001B[32m████████████████████████\u001B[0m| 295/295 [00:58<00:00,  5.05batch/s, Loss: 0.3200 | Precision: 86.46%]\u001B[0m\n"
     ]
    },
    {
     "name": "stdout",
     "output_type": "stream",
     "text": [
      "Epoch 23 | Avg Loss: 0.2886 | Avg Precision: 86.41%\n"
     ]
    },
    {
     "name": "stderr",
     "output_type": "stream",
     "text": [
      "Train: 100%|\u001B[32m████████████████████████\u001B[0m| 295/295 [00:58<00:00,  5.08batch/s, Loss: 0.2793 | Precision: 86.42%]\u001B[0m\n"
     ]
    },
    {
     "name": "stdout",
     "output_type": "stream",
     "text": [
      "Epoch 24 | Avg Loss: 0.2885 | Avg Precision: 86.36%\n"
     ]
    },
    {
     "name": "stderr",
     "output_type": "stream",
     "text": [
      "Validate: 100%|\u001B[34m███████████████████████\u001B[0m| 74/74 [00:12<00:00,  6.02batch/s, Loss: 0.2918 | Precision: 86.49%]\u001B[0m\n"
     ]
    },
    {
     "name": "stdout",
     "output_type": "stream",
     "text": [
      "Epoch 24 | Avg Loss: 0.2961 | Avg Precision: 86.50% | Patience: 0\n"
     ]
    },
    {
     "name": "stderr",
     "output_type": "stream",
     "text": [
      "Train: 100%|\u001B[32m████████████████████████\u001B[0m| 295/295 [00:58<00:00,  5.06batch/s, Loss: 0.2350 | Precision: 86.53%]\u001B[0m\n"
     ]
    },
    {
     "name": "stdout",
     "output_type": "stream",
     "text": [
      "Epoch 25 | Avg Loss: 0.2870 | Avg Precision: 86.33%\n"
     ]
    },
    {
     "name": "stderr",
     "output_type": "stream",
     "text": [
      "Train: 100%|\u001B[32m████████████████████████\u001B[0m| 295/295 [00:58<00:00,  5.05batch/s, Loss: 0.3166 | Precision: 86.66%]\u001B[0m\n"
     ]
    },
    {
     "name": "stdout",
     "output_type": "stream",
     "text": [
      "Epoch 26 | Avg Loss: 0.2862 | Avg Precision: 86.59%\n"
     ]
    },
    {
     "name": "stderr",
     "output_type": "stream",
     "text": [
      "Validate: 100%|\u001B[34m███████████████████████\u001B[0m| 74/74 [00:12<00:00,  6.06batch/s, Loss: 0.2861 | Precision: 86.77%]\u001B[0m\n"
     ]
    },
    {
     "name": "stdout",
     "output_type": "stream",
     "text": [
      "Epoch 26 | Avg Loss: 0.2990 | Avg Precision: 86.77% | Patience: 0\n"
     ]
    },
    {
     "name": "stderr",
     "output_type": "stream",
     "text": [
      "Train: 100%|\u001B[32m████████████████████████\u001B[0m| 295/295 [00:58<00:00,  5.06batch/s, Loss: 0.3494 | Precision: 86.65%]\u001B[0m\n"
     ]
    },
    {
     "name": "stdout",
     "output_type": "stream",
     "text": [
      "Epoch 27 | Avg Loss: 0.2851 | Avg Precision: 86.50%\n"
     ]
    },
    {
     "name": "stderr",
     "output_type": "stream",
     "text": [
      "Train: 100%|\u001B[32m████████████████████████\u001B[0m| 295/295 [00:58<00:00,  5.05batch/s, Loss: 0.2919 | Precision: 86.85%]\u001B[0m\n"
     ]
    },
    {
     "name": "stdout",
     "output_type": "stream",
     "text": [
      "Epoch 28 | Avg Loss: 0.2813 | Avg Precision: 86.73%\n"
     ]
    },
    {
     "name": "stderr",
     "output_type": "stream",
     "text": [
      "Validate: 100%|\u001B[34m███████████████████████\u001B[0m| 74/74 [00:12<00:00,  6.08batch/s, Loss: 0.2871 | Precision: 86.89%]\u001B[0m\n"
     ]
    },
    {
     "name": "stdout",
     "output_type": "stream",
     "text": [
      "Epoch 28 | Avg Loss: 0.2919 | Avg Precision: 86.88% | Patience: 0\n"
     ]
    },
    {
     "name": "stderr",
     "output_type": "stream",
     "text": [
      "Train: 100%|\u001B[32m████████████████████████\u001B[0m| 295/295 [00:58<00:00,  5.07batch/s, Loss: 0.3095 | Precision: 86.83%]\u001B[0m\n"
     ]
    },
    {
     "name": "stdout",
     "output_type": "stream",
     "text": [
      "Epoch 29 | Avg Loss: 0.2818 | Avg Precision: 86.69%\n"
     ]
    },
    {
     "name": "stderr",
     "output_type": "stream",
     "text": [
      "Train: 100%|\u001B[32m████████████████████████\u001B[0m| 295/295 [00:58<00:00,  5.04batch/s, Loss: 0.3075 | Precision: 86.86%]\u001B[0m\n"
     ]
    },
    {
     "name": "stdout",
     "output_type": "stream",
     "text": [
      "Epoch 30 | Avg Loss: 0.2812 | Avg Precision: 86.79%\n"
     ]
    },
    {
     "name": "stderr",
     "output_type": "stream",
     "text": [
      "Validate: 100%|\u001B[34m███████████████████████\u001B[0m| 74/74 [00:12<00:00,  6.03batch/s, Loss: 0.2720 | Precision: 86.97%]\u001B[0m\n"
     ]
    },
    {
     "name": "stdout",
     "output_type": "stream",
     "text": [
      "Epoch 30 | Avg Loss: 0.2862 | Avg Precision: 86.85% | Patience: 1\n"
     ]
    },
    {
     "name": "stderr",
     "output_type": "stream",
     "text": [
      "Train: 100%|\u001B[32m████████████████████████\u001B[0m| 295/295 [00:58<00:00,  5.07batch/s, Loss: 0.2901 | Precision: 86.94%]\u001B[0m\n"
     ]
    },
    {
     "name": "stdout",
     "output_type": "stream",
     "text": [
      "Epoch 31 | Avg Loss: 0.2798 | Avg Precision: 86.89%\n"
     ]
    },
    {
     "name": "stderr",
     "output_type": "stream",
     "text": [
      "Train: 100%|\u001B[32m████████████████████████\u001B[0m| 295/295 [00:58<00:00,  5.06batch/s, Loss: 0.2578 | Precision: 86.94%]\u001B[0m\n"
     ]
    },
    {
     "name": "stdout",
     "output_type": "stream",
     "text": [
      "Epoch 32 | Avg Loss: 0.2797 | Avg Precision: 86.86%\n"
     ]
    },
    {
     "name": "stderr",
     "output_type": "stream",
     "text": [
      "Validate: 100%|\u001B[34m███████████████████████\u001B[0m| 74/74 [00:12<00:00,  6.09batch/s, Loss: 0.2743 | Precision: 87.26%]\u001B[0m\n"
     ]
    },
    {
     "name": "stdout",
     "output_type": "stream",
     "text": [
      "Epoch 32 | Avg Loss: 0.2888 | Avg Precision: 87.26% | Patience: 0\n"
     ]
    },
    {
     "name": "stderr",
     "output_type": "stream",
     "text": [
      "Train: 100%|\u001B[32m████████████████████████\u001B[0m| 295/295 [00:58<00:00,  5.07batch/s, Loss: 0.2648 | Precision: 86.97%]\u001B[0m\n"
     ]
    },
    {
     "name": "stdout",
     "output_type": "stream",
     "text": [
      "Epoch 33 | Avg Loss: 0.2790 | Avg Precision: 86.88%\n"
     ]
    },
    {
     "name": "stderr",
     "output_type": "stream",
     "text": [
      "Train: 100%|\u001B[32m████████████████████████\u001B[0m| 295/295 [00:58<00:00,  5.06batch/s, Loss: 0.2396 | Precision: 87.00%]\u001B[0m\n"
     ]
    },
    {
     "name": "stdout",
     "output_type": "stream",
     "text": [
      "Epoch 34 | Avg Loss: 0.2790 | Avg Precision: 86.97%\n"
     ]
    },
    {
     "name": "stderr",
     "output_type": "stream",
     "text": [
      "Validate: 100%|\u001B[34m███████████████████████\u001B[0m| 74/74 [00:12<00:00,  6.06batch/s, Loss: 0.2843 | Precision: 87.42%]\u001B[0m\n"
     ]
    },
    {
     "name": "stdout",
     "output_type": "stream",
     "text": [
      "Epoch 34 | Avg Loss: 0.2882 | Avg Precision: 87.32% | Patience: 0\n"
     ]
    },
    {
     "name": "stderr",
     "output_type": "stream",
     "text": [
      "Train: 100%|\u001B[32m████████████████████████\u001B[0m| 295/295 [00:58<00:00,  5.07batch/s, Loss: 0.2938 | Precision: 87.06%]\u001B[0m\n"
     ]
    },
    {
     "name": "stdout",
     "output_type": "stream",
     "text": [
      "Epoch 35 | Avg Loss: 0.2785 | Avg Precision: 86.92%\n"
     ]
    },
    {
     "name": "stderr",
     "output_type": "stream",
     "text": [
      "Train: 100%|\u001B[32m████████████████████████\u001B[0m| 295/295 [00:58<00:00,  5.08batch/s, Loss: 0.2663 | Precision: 87.10%]\u001B[0m\n"
     ]
    },
    {
     "name": "stdout",
     "output_type": "stream",
     "text": [
      "Epoch 36 | Avg Loss: 0.2770 | Avg Precision: 87.04%\n"
     ]
    },
    {
     "name": "stderr",
     "output_type": "stream",
     "text": [
      "Validate: 100%|\u001B[34m███████████████████████\u001B[0m| 74/74 [00:11<00:00,  6.18batch/s, Loss: 0.2809 | Precision: 86.92%]\u001B[0m\n"
     ]
    },
    {
     "name": "stdout",
     "output_type": "stream",
     "text": [
      "Epoch 36 | Avg Loss: 0.2858 | Avg Precision: 86.86% | Patience: 1\n"
     ]
    },
    {
     "name": "stderr",
     "output_type": "stream",
     "text": [
      "Train: 100%|\u001B[32m████████████████████████\u001B[0m| 295/295 [00:58<00:00,  5.05batch/s, Loss: 0.2895 | Precision: 87.03%]\u001B[0m\n"
     ]
    },
    {
     "name": "stdout",
     "output_type": "stream",
     "text": [
      "Epoch 37 | Avg Loss: 0.2782 | Avg Precision: 86.90%\n"
     ]
    },
    {
     "name": "stderr",
     "output_type": "stream",
     "text": [
      "Train: 100%|\u001B[32m████████████████████████\u001B[0m| 295/295 [00:57<00:00,  5.11batch/s, Loss: 0.2468 | Precision: 87.12%]\u001B[0m\n"
     ]
    },
    {
     "name": "stdout",
     "output_type": "stream",
     "text": [
      "Epoch 38 | Avg Loss: 0.2763 | Avg Precision: 86.96%\n"
     ]
    },
    {
     "name": "stderr",
     "output_type": "stream",
     "text": [
      "Validate: 100%|\u001B[34m███████████████████████\u001B[0m| 74/74 [00:12<00:00,  6.13batch/s, Loss: 0.2687 | Precision: 87.57%]\u001B[0m\n"
     ]
    },
    {
     "name": "stdout",
     "output_type": "stream",
     "text": [
      "Epoch 38 | Avg Loss: 0.2804 | Avg Precision: 87.49% | Patience: 0\n"
     ]
    },
    {
     "name": "stderr",
     "output_type": "stream",
     "text": [
      "Train: 100%|\u001B[32m████████████████████████\u001B[0m| 295/295 [00:57<00:00,  5.11batch/s, Loss: 0.2671 | Precision: 87.21%]\u001B[0m\n"
     ]
    },
    {
     "name": "stdout",
     "output_type": "stream",
     "text": [
      "Epoch 39 | Avg Loss: 0.2748 | Avg Precision: 87.15%\n"
     ]
    },
    {
     "name": "stderr",
     "output_type": "stream",
     "text": [
      "Train: 100%|\u001B[32m████████████████████████\u001B[0m| 295/295 [00:57<00:00,  5.09batch/s, Loss: 0.3116 | Precision: 87.20%]\u001B[0m\n"
     ]
    },
    {
     "name": "stdout",
     "output_type": "stream",
     "text": [
      "Epoch 40 | Avg Loss: 0.2760 | Avg Precision: 87.09%\n"
     ]
    },
    {
     "name": "stderr",
     "output_type": "stream",
     "text": [
      "Validate: 100%|\u001B[34m███████████████████████\u001B[0m| 74/74 [00:12<00:00,  6.14batch/s, Loss: 0.2877 | Precision: 86.80%]\u001B[0m\n"
     ]
    },
    {
     "name": "stdout",
     "output_type": "stream",
     "text": [
      "Epoch 40 | Avg Loss: 0.2914 | Avg Precision: 86.65% | Patience: 1\n"
     ]
    },
    {
     "name": "stderr",
     "output_type": "stream",
     "text": [
      "Train: 100%|\u001B[32m████████████████████████\u001B[0m| 295/295 [00:57<00:00,  5.13batch/s, Loss: 0.3175 | Precision: 87.24%]\u001B[0m\n"
     ]
    },
    {
     "name": "stdout",
     "output_type": "stream",
     "text": [
      "Epoch 41 | Avg Loss: 0.2745 | Avg Precision: 87.09%\n"
     ]
    },
    {
     "name": "stderr",
     "output_type": "stream",
     "text": [
      "Train: 100%|\u001B[32m████████████████████████\u001B[0m| 295/295 [00:57<00:00,  5.10batch/s, Loss: 0.2769 | Precision: 87.19%]\u001B[0m\n"
     ]
    },
    {
     "name": "stdout",
     "output_type": "stream",
     "text": [
      "Epoch 42 | Avg Loss: 0.2756 | Avg Precision: 87.07%\n"
     ]
    },
    {
     "name": "stderr",
     "output_type": "stream",
     "text": [
      "Validate: 100%|\u001B[34m███████████████████████\u001B[0m| 74/74 [00:12<00:00,  6.02batch/s, Loss: 0.2686 | Precision: 87.18%]\u001B[0m\n"
     ]
    },
    {
     "name": "stdout",
     "output_type": "stream",
     "text": [
      "Epoch 42 | Avg Loss: 0.2791 | Avg Precision: 87.10% | Patience: 2\n"
     ]
    },
    {
     "name": "stderr",
     "output_type": "stream",
     "text": [
      "Train: 100%|\u001B[32m████████████████████████\u001B[0m| 295/295 [00:57<00:00,  5.10batch/s, Loss: 0.2431 | Precision: 87.40%]\u001B[0m\n"
     ]
    },
    {
     "name": "stdout",
     "output_type": "stream",
     "text": [
      "Epoch 43 | Avg Loss: 0.2721 | Avg Precision: 87.34%\n"
     ]
    },
    {
     "name": "stderr",
     "output_type": "stream",
     "text": [
      "Train: 100%|\u001B[32m████████████████████████\u001B[0m| 295/295 [00:58<00:00,  5.06batch/s, Loss: 0.2266 | Precision: 87.25%]\u001B[0m\n"
     ]
    },
    {
     "name": "stdout",
     "output_type": "stream",
     "text": [
      "Epoch 44 | Avg Loss: 0.2748 | Avg Precision: 87.10%\n"
     ]
    },
    {
     "name": "stderr",
     "output_type": "stream",
     "text": [
      "Validate: 100%|\u001B[34m███████████████████████\u001B[0m| 74/74 [00:12<00:00,  6.09batch/s, Loss: 0.2536 | Precision: 87.02%]\u001B[0m\n"
     ]
    },
    {
     "name": "stdout",
     "output_type": "stream",
     "text": [
      "Epoch 44 | Avg Loss: 0.2782 | Avg Precision: 86.95% | Patience: 3\n"
     ]
    },
    {
     "name": "stderr",
     "output_type": "stream",
     "text": [
      "Train: 100%|\u001B[32m████████████████████████\u001B[0m| 295/295 [00:57<00:00,  5.10batch/s, Loss: 0.2314 | Precision: 87.41%]\u001B[0m\n"
     ]
    },
    {
     "name": "stdout",
     "output_type": "stream",
     "text": [
      "Epoch 45 | Avg Loss: 0.2703 | Avg Precision: 87.35%\n"
     ]
    },
    {
     "name": "stderr",
     "output_type": "stream",
     "text": [
      "Train: 100%|\u001B[32m████████████████████████\u001B[0m| 295/295 [00:58<00:00,  5.06batch/s, Loss: 0.2412 | Precision: 87.49%]\u001B[0m\n"
     ]
    },
    {
     "name": "stdout",
     "output_type": "stream",
     "text": [
      "Epoch 46 | Avg Loss: 0.2700 | Avg Precision: 87.38%\n"
     ]
    },
    {
     "name": "stderr",
     "output_type": "stream",
     "text": [
      "Validate: 100%|\u001B[34m███████████████████████\u001B[0m| 74/74 [00:12<00:00,  6.05batch/s, Loss: 0.2518 | Precision: 86.81%]\u001B[0m\n"
     ]
    },
    {
     "name": "stdout",
     "output_type": "stream",
     "text": [
      "Epoch 46 | Avg Loss: 0.2808 | Avg Precision: 86.70% | Patience: 4\n"
     ]
    },
    {
     "name": "stderr",
     "output_type": "stream",
     "text": [
      "Train: 100%|\u001B[32m████████████████████████\u001B[0m| 295/295 [00:57<00:00,  5.09batch/s, Loss: 0.2235 | Precision: 87.47%]\u001B[0m\n"
     ]
    },
    {
     "name": "stdout",
     "output_type": "stream",
     "text": [
      "Epoch 47 | Avg Loss: 0.2693 | Avg Precision: 87.43%\n"
     ]
    },
    {
     "name": "stderr",
     "output_type": "stream",
     "text": [
      "Train: 100%|\u001B[32m████████████████████████\u001B[0m| 295/295 [00:58<00:00,  5.07batch/s, Loss: 0.2256 | Precision: 87.63%]\u001B[0m\n"
     ]
    },
    {
     "name": "stdout",
     "output_type": "stream",
     "text": [
      "Epoch 48 | Avg Loss: 0.2671 | Avg Precision: 87.62%\n"
     ]
    },
    {
     "name": "stderr",
     "output_type": "stream",
     "text": [
      "Validate: 100%|\u001B[34m███████████████████████\u001B[0m| 74/74 [00:12<00:00,  6.02batch/s, Loss: 0.2647 | Precision: 86.93%]\u001B[0m\n"
     ]
    },
    {
     "name": "stdout",
     "output_type": "stream",
     "text": [
      "Epoch 48 | Avg Loss: 0.2814 | Avg Precision: 86.87% | Patience: 5\n"
     ]
    },
    {
     "name": "stderr",
     "output_type": "stream",
     "text": [
      "Train: 100%|\u001B[32m████████████████████████\u001B[0m| 295/295 [00:58<00:00,  5.07batch/s, Loss: 0.2107 | Precision: 87.62%]\u001B[0m\n"
     ]
    },
    {
     "name": "stdout",
     "output_type": "stream",
     "text": [
      "Epoch 49 | Avg Loss: 0.2670 | Avg Precision: 87.48%\n"
     ]
    },
    {
     "name": "stderr",
     "output_type": "stream",
     "text": [
      "Train: 100%|\u001B[32m████████████████████████\u001B[0m| 295/295 [00:58<00:00,  5.07batch/s, Loss: 0.2142 | Precision: 87.61%]\u001B[0m\n"
     ]
    },
    {
     "name": "stdout",
     "output_type": "stream",
     "text": [
      "Epoch 50 | Avg Loss: 0.2672 | Avg Precision: 87.56%\n"
     ]
    },
    {
     "name": "stderr",
     "output_type": "stream",
     "text": [
      "Validate: 100%|\u001B[34m███████████████████████\u001B[0m| 74/74 [00:12<00:00,  5.99batch/s, Loss: 0.2603 | Precision: 87.68%]\u001B[0m\n"
     ]
    },
    {
     "name": "stdout",
     "output_type": "stream",
     "text": [
      "Epoch 50 | Avg Loss: 0.2731 | Avg Precision: 87.54% | Patience: 0\n"
     ]
    },
    {
     "name": "stderr",
     "output_type": "stream",
     "text": [
      "Train: 100%|\u001B[32m████████████████████████\u001B[0m| 295/295 [00:58<00:00,  5.06batch/s, Loss: 0.2376 | Precision: 87.73%]\u001B[0m\n"
     ]
    },
    {
     "name": "stdout",
     "output_type": "stream",
     "text": [
      "Epoch 51 | Avg Loss: 0.2664 | Avg Precision: 87.74%\n"
     ]
    },
    {
     "name": "stderr",
     "output_type": "stream",
     "text": [
      "Train: 100%|\u001B[32m████████████████████████\u001B[0m| 295/295 [00:57<00:00,  5.09batch/s, Loss: 0.2148 | Precision: 87.71%]\u001B[0m\n"
     ]
    },
    {
     "name": "stdout",
     "output_type": "stream",
     "text": [
      "Epoch 52 | Avg Loss: 0.2657 | Avg Precision: 87.68%\n"
     ]
    },
    {
     "name": "stderr",
     "output_type": "stream",
     "text": [
      "Validate: 100%|\u001B[34m███████████████████████\u001B[0m| 74/74 [00:12<00:00,  6.09batch/s, Loss: 0.2519 | Precision: 87.35%]\u001B[0m\n"
     ]
    },
    {
     "name": "stdout",
     "output_type": "stream",
     "text": [
      "Epoch 52 | Avg Loss: 0.2693 | Avg Precision: 87.15% | Patience: 1\n"
     ]
    },
    {
     "name": "stderr",
     "output_type": "stream",
     "text": [
      "Train: 100%|\u001B[32m████████████████████████\u001B[0m| 295/295 [00:57<00:00,  5.13batch/s, Loss: 0.2008 | Precision: 87.72%]\u001B[0m\n"
     ]
    },
    {
     "name": "stdout",
     "output_type": "stream",
     "text": [
      "Epoch 53 | Avg Loss: 0.2655 | Avg Precision: 87.72%\n"
     ]
    },
    {
     "name": "stderr",
     "output_type": "stream",
     "text": [
      "Train: 100%|\u001B[32m████████████████████████\u001B[0m| 295/295 [00:58<00:00,  5.06batch/s, Loss: 0.3022 | Precision: 87.83%]\u001B[0m\n"
     ]
    },
    {
     "name": "stdout",
     "output_type": "stream",
     "text": [
      "Epoch 54 | Avg Loss: 0.2648 | Avg Precision: 87.79%\n"
     ]
    },
    {
     "name": "stderr",
     "output_type": "stream",
     "text": [
      "Validate: 100%|\u001B[34m███████████████████████\u001B[0m| 74/74 [00:12<00:00,  6.03batch/s, Loss: 0.2478 | Precision: 86.62%]\u001B[0m\n"
     ]
    },
    {
     "name": "stdout",
     "output_type": "stream",
     "text": [
      "Epoch 54 | Avg Loss: 0.2756 | Avg Precision: 86.48% | Patience: 2\n"
     ]
    },
    {
     "name": "stderr",
     "output_type": "stream",
     "text": [
      "Train: 100%|\u001B[32m████████████████████████\u001B[0m| 295/295 [00:57<00:00,  5.12batch/s, Loss: 0.2304 | Precision: 87.82%]\u001B[0m\n"
     ]
    },
    {
     "name": "stdout",
     "output_type": "stream",
     "text": [
      "Epoch 55 | Avg Loss: 0.2635 | Avg Precision: 87.76%\n"
     ]
    },
    {
     "name": "stderr",
     "output_type": "stream",
     "text": [
      "Train: 100%|\u001B[32m████████████████████████\u001B[0m| 295/295 [00:57<00:00,  5.10batch/s, Loss: 0.2275 | Precision: 87.91%]\u001B[0m\n"
     ]
    },
    {
     "name": "stdout",
     "output_type": "stream",
     "text": [
      "Epoch 56 | Avg Loss: 0.2632 | Avg Precision: 87.92%\n"
     ]
    },
    {
     "name": "stderr",
     "output_type": "stream",
     "text": [
      "Validate: 100%|\u001B[34m███████████████████████\u001B[0m| 74/74 [00:12<00:00,  6.04batch/s, Loss: 0.2615 | Precision: 87.29%]\u001B[0m\n"
     ]
    },
    {
     "name": "stdout",
     "output_type": "stream",
     "text": [
      "Epoch 56 | Avg Loss: 0.2738 | Avg Precision: 87.12% | Patience: 3\n"
     ]
    },
    {
     "name": "stderr",
     "output_type": "stream",
     "text": [
      "Train: 100%|\u001B[32m████████████████████████\u001B[0m| 295/295 [00:57<00:00,  5.10batch/s, Loss: 0.3060 | Precision: 87.88%]\u001B[0m\n"
     ]
    },
    {
     "name": "stdout",
     "output_type": "stream",
     "text": [
      "Epoch 57 | Avg Loss: 0.2634 | Avg Precision: 87.81%\n"
     ]
    },
    {
     "name": "stderr",
     "output_type": "stream",
     "text": [
      "Train: 100%|\u001B[32m████████████████████████\u001B[0m| 295/295 [00:58<00:00,  5.08batch/s, Loss: 0.2198 | Precision: 87.95%]\u001B[0m\n"
     ]
    },
    {
     "name": "stdout",
     "output_type": "stream",
     "text": [
      "Epoch 58 | Avg Loss: 0.2616 | Avg Precision: 87.94%\n"
     ]
    },
    {
     "name": "stderr",
     "output_type": "stream",
     "text": [
      "Validate: 100%|\u001B[34m███████████████████████\u001B[0m| 74/74 [00:12<00:00,  6.08batch/s, Loss: 0.2507 | Precision: 87.03%]\u001B[0m\n"
     ]
    },
    {
     "name": "stdout",
     "output_type": "stream",
     "text": [
      "Epoch 58 | Avg Loss: 0.2763 | Avg Precision: 86.89% | Patience: 4\n"
     ]
    },
    {
     "name": "stderr",
     "output_type": "stream",
     "text": [
      "Train: 100%|\u001B[32m████████████████████████\u001B[0m| 295/295 [00:58<00:00,  5.09batch/s, Loss: 0.2199 | Precision: 87.98%]\u001B[0m\n"
     ]
    },
    {
     "name": "stdout",
     "output_type": "stream",
     "text": [
      "Epoch 59 | Avg Loss: 0.2609 | Avg Precision: 87.85%\n"
     ]
    },
    {
     "name": "stderr",
     "output_type": "stream",
     "text": [
      "Train: 100%|\u001B[32m████████████████████████\u001B[0m| 295/295 [00:57<00:00,  5.10batch/s, Loss: 0.1996 | Precision: 88.10%]\u001B[0m\n"
     ]
    },
    {
     "name": "stdout",
     "output_type": "stream",
     "text": [
      "Epoch 60 | Avg Loss: 0.2594 | Avg Precision: 88.04%\n"
     ]
    },
    {
     "name": "stderr",
     "output_type": "stream",
     "text": [
      "Validate: 100%|\u001B[34m███████████████████████\u001B[0m| 74/74 [00:12<00:00,  6.08batch/s, Loss: 0.2562 | Precision: 87.82%]\u001B[0m\n"
     ]
    },
    {
     "name": "stdout",
     "output_type": "stream",
     "text": [
      "Epoch 60 | Avg Loss: 0.2728 | Avg Precision: 87.69% | Patience: 0\n"
     ]
    },
    {
     "name": "stderr",
     "output_type": "stream",
     "text": [
      "Train: 100%|\u001B[32m████████████████████████\u001B[0m| 295/295 [00:57<00:00,  5.12batch/s, Loss: 0.2040 | Precision: 88.11%]\u001B[0m\n"
     ]
    },
    {
     "name": "stdout",
     "output_type": "stream",
     "text": [
      "Epoch 61 | Avg Loss: 0.2583 | Avg Precision: 88.05%\n"
     ]
    },
    {
     "name": "stderr",
     "output_type": "stream",
     "text": [
      "Train: 100%|\u001B[32m████████████████████████\u001B[0m| 295/295 [00:57<00:00,  5.10batch/s, Loss: 0.2397 | Precision: 88.11%]\u001B[0m\n"
     ]
    },
    {
     "name": "stdout",
     "output_type": "stream",
     "text": [
      "Epoch 62 | Avg Loss: 0.2588 | Avg Precision: 88.14%\n"
     ]
    },
    {
     "name": "stderr",
     "output_type": "stream",
     "text": [
      "Validate: 100%|\u001B[34m███████████████████████\u001B[0m| 74/74 [00:12<00:00,  6.06batch/s, Loss: 0.2562 | Precision: 87.85%]\u001B[0m\n"
     ]
    },
    {
     "name": "stdout",
     "output_type": "stream",
     "text": [
      "Epoch 62 | Avg Loss: 0.2715 | Avg Precision: 87.79% | Patience: 0\n"
     ]
    },
    {
     "name": "stderr",
     "output_type": "stream",
     "text": [
      "Train: 100%|\u001B[32m████████████████████████\u001B[0m| 295/295 [00:57<00:00,  5.12batch/s, Loss: 0.2010 | Precision: 88.16%]\u001B[0m\n"
     ]
    },
    {
     "name": "stdout",
     "output_type": "stream",
     "text": [
      "Epoch 63 | Avg Loss: 0.2582 | Avg Precision: 88.10%\n"
     ]
    },
    {
     "name": "stderr",
     "output_type": "stream",
     "text": [
      "Train: 100%|\u001B[32m████████████████████████\u001B[0m| 295/295 [00:58<00:00,  5.08batch/s, Loss: 0.2419 | Precision: 88.14%]\u001B[0m\n"
     ]
    },
    {
     "name": "stdout",
     "output_type": "stream",
     "text": [
      "Epoch 64 | Avg Loss: 0.2578 | Avg Precision: 88.07%\n"
     ]
    },
    {
     "name": "stderr",
     "output_type": "stream",
     "text": [
      "Validate: 100%|\u001B[34m███████████████████████\u001B[0m| 74/74 [00:12<00:00,  6.06batch/s, Loss: 0.2490 | Precision: 87.60%]\u001B[0m\n"
     ]
    },
    {
     "name": "stdout",
     "output_type": "stream",
     "text": [
      "Epoch 64 | Avg Loss: 0.2674 | Avg Precision: 87.45% | Patience: 1\n"
     ]
    },
    {
     "name": "stderr",
     "output_type": "stream",
     "text": [
      "Train: 100%|\u001B[32m████████████████████████\u001B[0m| 295/295 [00:57<00:00,  5.09batch/s, Loss: 0.2126 | Precision: 88.20%]\u001B[0m\n"
     ]
    },
    {
     "name": "stdout",
     "output_type": "stream",
     "text": [
      "Epoch 65 | Avg Loss: 0.2569 | Avg Precision: 88.19%\n"
     ]
    },
    {
     "name": "stderr",
     "output_type": "stream",
     "text": [
      "Train: 100%|\u001B[32m████████████████████████\u001B[0m| 295/295 [00:57<00:00,  5.09batch/s, Loss: 0.1966 | Precision: 88.12%]\u001B[0m\n"
     ]
    },
    {
     "name": "stdout",
     "output_type": "stream",
     "text": [
      "Epoch 66 | Avg Loss: 0.2580 | Avg Precision: 88.16%\n"
     ]
    },
    {
     "name": "stderr",
     "output_type": "stream",
     "text": [
      "Validate: 100%|\u001B[34m███████████████████████\u001B[0m| 74/74 [00:12<00:00,  6.09batch/s, Loss: 0.2508 | Precision: 87.62%]\u001B[0m\n"
     ]
    },
    {
     "name": "stdout",
     "output_type": "stream",
     "text": [
      "Epoch 66 | Avg Loss: 0.2675 | Avg Precision: 87.44% | Patience: 2\n"
     ]
    },
    {
     "name": "stderr",
     "output_type": "stream",
     "text": [
      "Train: 100%|\u001B[32m████████████████████████\u001B[0m| 295/295 [00:58<00:00,  5.08batch/s, Loss: 0.1824 | Precision: 88.28%]\u001B[0m\n"
     ]
    },
    {
     "name": "stdout",
     "output_type": "stream",
     "text": [
      "Epoch 67 | Avg Loss: 0.2553 | Avg Precision: 88.25%\n"
     ]
    },
    {
     "name": "stderr",
     "output_type": "stream",
     "text": [
      "Train: 100%|\u001B[32m████████████████████████\u001B[0m| 295/295 [00:57<00:00,  5.09batch/s, Loss: 0.1930 | Precision: 88.32%]\u001B[0m\n"
     ]
    },
    {
     "name": "stdout",
     "output_type": "stream",
     "text": [
      "Epoch 68 | Avg Loss: 0.2552 | Avg Precision: 88.34%\n"
     ]
    },
    {
     "name": "stderr",
     "output_type": "stream",
     "text": [
      "Validate: 100%|\u001B[34m███████████████████████\u001B[0m| 74/74 [00:12<00:00,  6.00batch/s, Loss: 0.2357 | Precision: 87.56%]\u001B[0m\n"
     ]
    },
    {
     "name": "stdout",
     "output_type": "stream",
     "text": [
      "Epoch 68 | Avg Loss: 0.2679 | Avg Precision: 87.46% | Patience: 3\n"
     ]
    },
    {
     "name": "stderr",
     "output_type": "stream",
     "text": [
      "Train: 100%|\u001B[32m████████████████████████\u001B[0m| 295/295 [00:57<00:00,  5.10batch/s, Loss: 0.1926 | Precision: 88.30%]\u001B[0m\n"
     ]
    },
    {
     "name": "stdout",
     "output_type": "stream",
     "text": [
      "Epoch 69 | Avg Loss: 0.2545 | Avg Precision: 88.30%\n"
     ]
    },
    {
     "name": "stderr",
     "output_type": "stream",
     "text": [
      "Train: 100%|\u001B[32m████████████████████████\u001B[0m| 295/295 [00:57<00:00,  5.11batch/s, Loss: 0.1770 | Precision: 88.40%]\u001B[0m\n"
     ]
    },
    {
     "name": "stdout",
     "output_type": "stream",
     "text": [
      "Epoch 70 | Avg Loss: 0.2542 | Avg Precision: 88.37%\n"
     ]
    },
    {
     "name": "stderr",
     "output_type": "stream",
     "text": [
      "Validate: 100%|\u001B[34m███████████████████████\u001B[0m| 74/74 [00:11<00:00,  6.17batch/s, Loss: 0.2330 | Precision: 87.56%]\u001B[0m\n"
     ]
    },
    {
     "name": "stdout",
     "output_type": "stream",
     "text": [
      "Epoch 70 | Avg Loss: 0.2689 | Avg Precision: 87.49% | Patience: 4\n"
     ]
    },
    {
     "name": "stderr",
     "output_type": "stream",
     "text": [
      "Train: 100%|\u001B[32m████████████████████████\u001B[0m| 295/295 [00:57<00:00,  5.17batch/s, Loss: 0.1872 | Precision: 88.42%]\u001B[0m\n"
     ]
    },
    {
     "name": "stdout",
     "output_type": "stream",
     "text": [
      "Epoch 71 | Avg Loss: 0.2529 | Avg Precision: 88.36%\n"
     ]
    },
    {
     "name": "stderr",
     "output_type": "stream",
     "text": [
      "Train: 100%|\u001B[32m████████████████████████\u001B[0m| 295/295 [00:57<00:00,  5.17batch/s, Loss: 0.1866 | Precision: 88.47%]\u001B[0m\n"
     ]
    },
    {
     "name": "stdout",
     "output_type": "stream",
     "text": [
      "Epoch 72 | Avg Loss: 0.2520 | Avg Precision: 88.43%\n"
     ]
    },
    {
     "name": "stderr",
     "output_type": "stream",
     "text": [
      "Validate: 100%|\u001B[34m███████████████████████\u001B[0m| 74/74 [00:12<00:00,  6.15batch/s, Loss: 0.2370 | Precision: 87.52%]\u001B[0m\n"
     ]
    },
    {
     "name": "stdout",
     "output_type": "stream",
     "text": [
      "Epoch 72 | Avg Loss: 0.2683 | Avg Precision: 87.40% | Patience: 5\n"
     ]
    },
    {
     "name": "stderr",
     "output_type": "stream",
     "text": [
      "Train: 100%|\u001B[32m████████████████████████\u001B[0m| 295/295 [00:56<00:00,  5.20batch/s, Loss: 0.1575 | Precision: 88.46%]\u001B[0m\n"
     ]
    },
    {
     "name": "stdout",
     "output_type": "stream",
     "text": [
      "Epoch 73 | Avg Loss: 0.2525 | Avg Precision: 88.46%\n"
     ]
    },
    {
     "name": "stderr",
     "output_type": "stream",
     "text": [
      "Train: 100%|\u001B[32m████████████████████████\u001B[0m| 295/295 [00:56<00:00,  5.19batch/s, Loss: 0.1766 | Precision: 88.53%]\u001B[0m\n"
     ]
    },
    {
     "name": "stdout",
     "output_type": "stream",
     "text": [
      "Epoch 74 | Avg Loss: 0.2513 | Avg Precision: 88.43%\n"
     ]
    },
    {
     "name": "stderr",
     "output_type": "stream",
     "text": [
      "Validate: 100%|\u001B[34m███████████████████████\u001B[0m| 74/74 [00:11<00:00,  6.18batch/s, Loss: 0.2363 | Precision: 87.43%]\u001B[0m\n"
     ]
    },
    {
     "name": "stdout",
     "output_type": "stream",
     "text": [
      "Epoch 74 | Avg Loss: 0.2690 | Avg Precision: 87.27% | Patience: 6\n"
     ]
    },
    {
     "name": "stderr",
     "output_type": "stream",
     "text": [
      "Train: 100%|\u001B[32m████████████████████████\u001B[0m| 295/295 [00:56<00:00,  5.18batch/s, Loss: 0.1685 | Precision: 88.51%]\u001B[0m\n"
     ]
    },
    {
     "name": "stdout",
     "output_type": "stream",
     "text": [
      "Epoch 75 | Avg Loss: 0.2512 | Avg Precision: 88.53%\n"
     ]
    },
    {
     "name": "stderr",
     "output_type": "stream",
     "text": [
      "Train: 100%|\u001B[32m████████████████████████\u001B[0m| 295/295 [00:57<00:00,  5.17batch/s, Loss: 0.1678 | Precision: 88.55%]\u001B[0m\n"
     ]
    },
    {
     "name": "stdout",
     "output_type": "stream",
     "text": [
      "Epoch 76 | Avg Loss: 0.2503 | Avg Precision: 88.54%\n"
     ]
    },
    {
     "name": "stderr",
     "output_type": "stream",
     "text": [
      "Validate: 100%|\u001B[34m███████████████████████\u001B[0m| 74/74 [00:12<00:00,  6.13batch/s, Loss: 0.2366 | Precision: 88.21%]\u001B[0m\n"
     ]
    },
    {
     "name": "stdout",
     "output_type": "stream",
     "text": [
      "Epoch 76 | Avg Loss: 0.2614 | Avg Precision: 88.07% | Patience: 0\n"
     ]
    },
    {
     "name": "stderr",
     "output_type": "stream",
     "text": [
      "Train: 100%|\u001B[32m████████████████████████\u001B[0m| 295/295 [00:56<00:00,  5.20batch/s, Loss: 0.1553 | Precision: 88.64%]\u001B[0m\n"
     ]
    },
    {
     "name": "stdout",
     "output_type": "stream",
     "text": [
      "Epoch 77 | Avg Loss: 0.2489 | Avg Precision: 88.68%\n"
     ]
    },
    {
     "name": "stderr",
     "output_type": "stream",
     "text": [
      "Train: 100%|\u001B[32m████████████████████████\u001B[0m| 295/295 [00:56<00:00,  5.21batch/s, Loss: 0.1552 | Precision: 88.61%]\u001B[0m\n"
     ]
    },
    {
     "name": "stdout",
     "output_type": "stream",
     "text": [
      "Epoch 78 | Avg Loss: 0.2492 | Avg Precision: 88.62%\n"
     ]
    },
    {
     "name": "stderr",
     "output_type": "stream",
     "text": [
      "Validate: 100%|\u001B[34m███████████████████████\u001B[0m| 74/74 [00:11<00:00,  6.19batch/s, Loss: 0.2475 | Precision: 88.16%]\u001B[0m\n"
     ]
    },
    {
     "name": "stdout",
     "output_type": "stream",
     "text": [
      "Epoch 78 | Avg Loss: 0.2671 | Avg Precision: 88.08% | Patience: 0\n"
     ]
    },
    {
     "name": "stderr",
     "output_type": "stream",
     "text": [
      "Train: 100%|\u001B[32m████████████████████████\u001B[0m| 295/295 [00:56<00:00,  5.18batch/s, Loss: 0.1632 | Precision: 88.67%]\u001B[0m\n"
     ]
    },
    {
     "name": "stdout",
     "output_type": "stream",
     "text": [
      "Epoch 79 | Avg Loss: 0.2484 | Avg Precision: 88.69%\n"
     ]
    },
    {
     "name": "stderr",
     "output_type": "stream",
     "text": [
      "Train: 100%|\u001B[32m████████████████████████\u001B[0m| 295/295 [00:56<00:00,  5.22batch/s, Loss: 0.1529 | Precision: 88.73%]\u001B[0m\n"
     ]
    },
    {
     "name": "stdout",
     "output_type": "stream",
     "text": [
      "Epoch 80 | Avg Loss: 0.2474 | Avg Precision: 88.65%\n"
     ]
    },
    {
     "name": "stderr",
     "output_type": "stream",
     "text": [
      "Validate: 100%|\u001B[34m███████████████████████\u001B[0m| 74/74 [00:12<00:00,  6.17batch/s, Loss: 0.2332 | Precision: 88.06%]\u001B[0m\n"
     ]
    },
    {
     "name": "stdout",
     "output_type": "stream",
     "text": [
      "Epoch 80 | Avg Loss: 0.2603 | Avg Precision: 87.92% | Patience: 1\n"
     ]
    },
    {
     "name": "stderr",
     "output_type": "stream",
     "text": [
      "Train: 100%|\u001B[32m████████████████████████\u001B[0m| 295/295 [00:56<00:00,  5.20batch/s, Loss: 0.1545 | Precision: 88.70%]\u001B[0m\n"
     ]
    },
    {
     "name": "stdout",
     "output_type": "stream",
     "text": [
      "Epoch 81 | Avg Loss: 0.2477 | Avg Precision: 88.73%\n"
     ]
    },
    {
     "name": "stderr",
     "output_type": "stream",
     "text": [
      "Train: 100%|\u001B[32m████████████████████████\u001B[0m| 295/295 [00:56<00:00,  5.21batch/s, Loss: 0.1572 | Precision: 88.70%]\u001B[0m\n"
     ]
    },
    {
     "name": "stdout",
     "output_type": "stream",
     "text": [
      "Epoch 82 | Avg Loss: 0.2473 | Avg Precision: 88.65%\n"
     ]
    },
    {
     "name": "stderr",
     "output_type": "stream",
     "text": [
      "Validate: 100%|\u001B[34m███████████████████████\u001B[0m| 74/74 [00:12<00:00,  6.14batch/s, Loss: 0.2376 | Precision: 88.05%]\u001B[0m\n"
     ]
    },
    {
     "name": "stdout",
     "output_type": "stream",
     "text": [
      "Epoch 82 | Avg Loss: 0.2657 | Avg Precision: 88.07% | Patience: 2\n"
     ]
    },
    {
     "name": "stderr",
     "output_type": "stream",
     "text": [
      "Train: 100%|\u001B[32m████████████████████████\u001B[0m| 295/295 [00:56<00:00,  5.22batch/s, Loss: 0.1547 | Precision: 88.73%]\u001B[0m\n"
     ]
    },
    {
     "name": "stdout",
     "output_type": "stream",
     "text": [
      "Epoch 83 | Avg Loss: 0.2467 | Avg Precision: 88.71%\n"
     ]
    },
    {
     "name": "stderr",
     "output_type": "stream",
     "text": [
      "Train: 100%|\u001B[32m████████████████████████\u001B[0m| 295/295 [00:56<00:00,  5.22batch/s, Loss: 0.1486 | Precision: 88.79%]\u001B[0m\n"
     ]
    },
    {
     "name": "stdout",
     "output_type": "stream",
     "text": [
      "Epoch 84 | Avg Loss: 0.2459 | Avg Precision: 88.78%\n"
     ]
    },
    {
     "name": "stderr",
     "output_type": "stream",
     "text": [
      "Validate: 100%|\u001B[34m███████████████████████\u001B[0m| 74/74 [00:11<00:00,  6.18batch/s, Loss: 0.2349 | Precision: 88.27%]\u001B[0m\n"
     ]
    },
    {
     "name": "stdout",
     "output_type": "stream",
     "text": [
      "Epoch 84 | Avg Loss: 0.2601 | Avg Precision: 88.17% | Patience: 0\n"
     ]
    },
    {
     "name": "stderr",
     "output_type": "stream",
     "text": [
      "Train: 100%|\u001B[32m████████████████████████\u001B[0m| 295/295 [00:56<00:00,  5.25batch/s, Loss: 0.1664 | Precision: 88.83%]\u001B[0m\n"
     ]
    },
    {
     "name": "stdout",
     "output_type": "stream",
     "text": [
      "Epoch 85 | Avg Loss: 0.2460 | Avg Precision: 88.83%\n"
     ]
    },
    {
     "name": "stderr",
     "output_type": "stream",
     "text": [
      "Train: 100%|\u001B[32m████████████████████████\u001B[0m| 295/295 [00:56<00:00,  5.24batch/s, Loss: 0.1494 | Precision: 88.74%]\u001B[0m\n"
     ]
    },
    {
     "name": "stdout",
     "output_type": "stream",
     "text": [
      "Epoch 86 | Avg Loss: 0.2471 | Avg Precision: 88.71%\n"
     ]
    },
    {
     "name": "stderr",
     "output_type": "stream",
     "text": [
      "Validate: 100%|\u001B[34m███████████████████████\u001B[0m| 74/74 [00:11<00:00,  6.23batch/s, Loss: 0.2419 | Precision: 88.17%]\u001B[0m\n"
     ]
    },
    {
     "name": "stdout",
     "output_type": "stream",
     "text": [
      "Epoch 86 | Avg Loss: 0.2617 | Avg Precision: 88.05% | Patience: 1\n"
     ]
    },
    {
     "name": "stderr",
     "output_type": "stream",
     "text": [
      "Train: 100%|\u001B[32m████████████████████████\u001B[0m| 295/295 [00:56<00:00,  5.24batch/s, Loss: 0.1621 | Precision: 88.79%]\u001B[0m\n"
     ]
    },
    {
     "name": "stdout",
     "output_type": "stream",
     "text": [
      "Epoch 87 | Avg Loss: 0.2458 | Avg Precision: 88.78%\n"
     ]
    },
    {
     "name": "stderr",
     "output_type": "stream",
     "text": [
      "Train: 100%|\u001B[32m████████████████████████\u001B[0m| 295/295 [00:56<00:00,  5.26batch/s, Loss: 0.1531 | Precision: 88.81%]\u001B[0m\n"
     ]
    },
    {
     "name": "stdout",
     "output_type": "stream",
     "text": [
      "Epoch 88 | Avg Loss: 0.2455 | Avg Precision: 88.77%\n"
     ]
    },
    {
     "name": "stderr",
     "output_type": "stream",
     "text": [
      "Validate: 100%|\u001B[34m███████████████████████\u001B[0m| 74/74 [00:11<00:00,  6.17batch/s, Loss: 0.2387 | Precision: 88.35%]\u001B[0m\n"
     ]
    },
    {
     "name": "stdout",
     "output_type": "stream",
     "text": [
      "Epoch 88 | Avg Loss: 0.2614 | Avg Precision: 88.30% | Patience: 0\n"
     ]
    },
    {
     "name": "stderr",
     "output_type": "stream",
     "text": [
      "Train: 100%|\u001B[32m████████████████████████\u001B[0m| 295/295 [00:56<00:00,  5.22batch/s, Loss: 0.1528 | Precision: 88.81%]\u001B[0m\n"
     ]
    },
    {
     "name": "stdout",
     "output_type": "stream",
     "text": [
      "Epoch 89 | Avg Loss: 0.2453 | Avg Precision: 88.80%\n"
     ]
    },
    {
     "name": "stderr",
     "output_type": "stream",
     "text": [
      "Train: 100%|\u001B[32m████████████████████████\u001B[0m| 295/295 [00:56<00:00,  5.22batch/s, Loss: 0.1571 | Precision: 88.79%]\u001B[0m\n"
     ]
    },
    {
     "name": "stdout",
     "output_type": "stream",
     "text": [
      "Epoch 90 | Avg Loss: 0.2457 | Avg Precision: 88.79%\n"
     ]
    },
    {
     "name": "stderr",
     "output_type": "stream",
     "text": [
      "Validate: 100%|\u001B[34m███████████████████████\u001B[0m| 74/74 [00:11<00:00,  6.24batch/s, Loss: 0.2395 | Precision: 88.02%]\u001B[0m\n"
     ]
    },
    {
     "name": "stdout",
     "output_type": "stream",
     "text": [
      "Epoch 90 | Avg Loss: 0.2621 | Avg Precision: 87.88% | Patience: 1\n"
     ]
    },
    {
     "name": "stderr",
     "output_type": "stream",
     "text": [
      "Train: 100%|\u001B[32m████████████████████████\u001B[0m| 295/295 [00:56<00:00,  5.21batch/s, Loss: 0.1518 | Precision: 88.85%]\u001B[0m\n"
     ]
    },
    {
     "name": "stdout",
     "output_type": "stream",
     "text": [
      "Epoch 91 | Avg Loss: 0.2447 | Avg Precision: 88.80%\n"
     ]
    },
    {
     "name": "stderr",
     "output_type": "stream",
     "text": [
      "Train: 100%|\u001B[32m████████████████████████\u001B[0m| 295/295 [00:56<00:00,  5.21batch/s, Loss: 0.1548 | Precision: 88.80%]\u001B[0m\n"
     ]
    },
    {
     "name": "stdout",
     "output_type": "stream",
     "text": [
      "Epoch 92 | Avg Loss: 0.2453 | Avg Precision: 88.79%\n"
     ]
    },
    {
     "name": "stderr",
     "output_type": "stream",
     "text": [
      "Validate: 100%|\u001B[34m███████████████████████\u001B[0m| 74/74 [00:12<00:00,  6.16batch/s, Loss: 0.2457 | Precision: 87.99%]\u001B[0m\n"
     ]
    },
    {
     "name": "stdout",
     "output_type": "stream",
     "text": [
      "Epoch 92 | Avg Loss: 0.2618 | Avg Precision: 87.85% | Patience: 2\n"
     ]
    },
    {
     "name": "stderr",
     "output_type": "stream",
     "text": [
      "Train: 100%|\u001B[32m████████████████████████\u001B[0m| 295/295 [00:56<00:00,  5.23batch/s, Loss: 0.1562 | Precision: 88.88%]\u001B[0m\n"
     ]
    },
    {
     "name": "stdout",
     "output_type": "stream",
     "text": [
      "Epoch 93 | Avg Loss: 0.2442 | Avg Precision: 88.87%\n"
     ]
    },
    {
     "name": "stderr",
     "output_type": "stream",
     "text": [
      "Train: 100%|\u001B[32m████████████████████████\u001B[0m| 295/295 [00:56<00:00,  5.21batch/s, Loss: 0.1445 | Precision: 88.93%]\u001B[0m\n"
     ]
    },
    {
     "name": "stdout",
     "output_type": "stream",
     "text": [
      "Epoch 94 | Avg Loss: 0.2433 | Avg Precision: 88.84%\n"
     ]
    },
    {
     "name": "stderr",
     "output_type": "stream",
     "text": [
      "Validate: 100%|\u001B[34m███████████████████████\u001B[0m| 74/74 [00:12<00:00,  6.16batch/s, Loss: 0.2327 | Precision: 88.26%]\u001B[0m\n"
     ]
    },
    {
     "name": "stdout",
     "output_type": "stream",
     "text": [
      "Epoch 94 | Avg Loss: 0.2582 | Avg Precision: 88.17% | Patience: 3\n"
     ]
    },
    {
     "name": "stderr",
     "output_type": "stream",
     "text": [
      "Train: 100%|\u001B[32m████████████████████████\u001B[0m| 295/295 [00:55<00:00,  5.28batch/s, Loss: 0.1383 | Precision: 88.94%]\u001B[0m\n"
     ]
    },
    {
     "name": "stdout",
     "output_type": "stream",
     "text": [
      "Epoch 95 | Avg Loss: 0.2428 | Avg Precision: 88.96%\n"
     ]
    },
    {
     "name": "stderr",
     "output_type": "stream",
     "text": [
      "Train: 100%|\u001B[32m████████████████████████\u001B[0m| 295/295 [00:55<00:00,  5.29batch/s, Loss: 0.1442 | Precision: 88.93%]\u001B[0m\n"
     ]
    },
    {
     "name": "stdout",
     "output_type": "stream",
     "text": [
      "Epoch 96 | Avg Loss: 0.2432 | Avg Precision: 88.89%\n"
     ]
    },
    {
     "name": "stderr",
     "output_type": "stream",
     "text": [
      "Validate: 100%|\u001B[34m███████████████████████\u001B[0m| 74/74 [00:11<00:00,  6.30batch/s, Loss: 0.2399 | Precision: 88.17%]\u001B[0m\n"
     ]
    },
    {
     "name": "stdout",
     "output_type": "stream",
     "text": [
      "Epoch 96 | Avg Loss: 0.2596 | Avg Precision: 88.06% | Patience: 4\n"
     ]
    },
    {
     "name": "stderr",
     "output_type": "stream",
     "text": [
      "Train: 100%|\u001B[32m████████████████████████\u001B[0m| 295/295 [00:55<00:00,  5.31batch/s, Loss: 0.1430 | Precision: 88.99%]\u001B[0m\n"
     ]
    },
    {
     "name": "stdout",
     "output_type": "stream",
     "text": [
      "Epoch 97 | Avg Loss: 0.2419 | Avg Precision: 89.00%\n"
     ]
    },
    {
     "name": "stderr",
     "output_type": "stream",
     "text": [
      "Train: 100%|\u001B[32m████████████████████████\u001B[0m| 295/295 [00:56<00:00,  5.25batch/s, Loss: 0.1404 | Precision: 89.01%]\u001B[0m\n"
     ]
    },
    {
     "name": "stdout",
     "output_type": "stream",
     "text": [
      "Epoch 98 | Avg Loss: 0.2417 | Avg Precision: 88.97%\n"
     ]
    },
    {
     "name": "stderr",
     "output_type": "stream",
     "text": [
      "Validate: 100%|\u001B[34m███████████████████████\u001B[0m| 74/74 [00:11<00:00,  6.21batch/s, Loss: 0.2430 | Precision: 88.12%]\u001B[0m\n"
     ]
    },
    {
     "name": "stdout",
     "output_type": "stream",
     "text": [
      "Epoch 98 | Avg Loss: 0.2573 | Avg Precision: 88.03% | Patience: 5\n"
     ]
    },
    {
     "name": "stderr",
     "output_type": "stream",
     "text": [
      "Train: 100%|\u001B[32m████████████████████████\u001B[0m| 295/295 [00:55<00:00,  5.30batch/s, Loss: 0.1375 | Precision: 89.05%]\u001B[0m\n"
     ]
    },
    {
     "name": "stdout",
     "output_type": "stream",
     "text": [
      "Epoch 99 | Avg Loss: 0.2414 | Avg Precision: 89.03%\n"
     ]
    },
    {
     "name": "stderr",
     "output_type": "stream",
     "text": [
      "Train: 100%|\u001B[32m████████████████████████\u001B[0m| 295/295 [00:55<00:00,  5.30batch/s, Loss: 0.1629 | Precision: 89.03%]\u001B[0m\n"
     ]
    },
    {
     "name": "stdout",
     "output_type": "stream",
     "text": [
      "Epoch 100 | Avg Loss: 0.2416 | Avg Precision: 89.02%\n"
     ]
    },
    {
     "name": "stderr",
     "output_type": "stream",
     "text": [
      "Validate: 100%|\u001B[34m███████████████████████\u001B[0m| 74/74 [00:11<00:00,  6.23batch/s, Loss: 0.2367 | Precision: 87.97%]\u001B[0m"
     ]
    },
    {
     "name": "stdout",
     "output_type": "stream",
     "text": [
      "Epoch 100 | Avg Loss: 0.2593 | Avg Precision: 87.79% | Patience: 6\n",
      "Training Complete - Best Validate Precision: 88.30%\n"
     ]
    },
    {
     "name": "stderr",
     "output_type": "stream",
     "text": [
      "\n"
     ]
    }
   ],
   "source": [
    "model = LSTMnet(9, 100, 1, 4)\n",
    "model = model.to(device)\n",
    "criterion = nn.CrossEntropyLoss()\n",
    "optimizer = optim.Adam(model.parameters(), lr=.01)\n",
    "scheduler = ReduceLROnPlateau(optimizer, 'max', factor=.9, patience=1, min_lr=.001)\n",
    "\n",
    "model13 = train_validate(model, criterion, optimizer, scheduler)\n",
    "torch.save(model13.state_dict(), '.\\\\models\\\\downsample\\\\lstm\\\\model13.pth')"
   ]
  },
  {
   "cell_type": "markdown",
   "id": "63a27b4b-50ff-4315-8ca2-48134bfb99c8",
   "metadata": {
    "jp-MarkdownHeadingCollapsed": true
   },
   "source": [
    "#### Model 14 - Lookback 7"
   ]
  },
  {
   "cell_type": "code",
   "execution_count": 29,
   "id": "17e29b8c-5569-4207-98a2-20c8928cde7d",
   "metadata": {},
   "outputs": [
    {
     "name": "stderr",
     "output_type": "stream",
     "text": [
      "Train: 100%|\u001B[32m████████████████████████\u001B[0m| 295/295 [00:53<00:00,  5.49batch/s, Loss: 0.4268 | Precision: 75.01%]\u001B[0m\n"
     ]
    },
    {
     "name": "stdout",
     "output_type": "stream",
     "text": [
      "Epoch 1 | Avg Loss: 0.4959 | Avg Precision: 71.94%\n"
     ]
    },
    {
     "name": "stderr",
     "output_type": "stream",
     "text": [
      "Train: 100%|\u001B[32m████████████████████████\u001B[0m| 295/295 [00:53<00:00,  5.48batch/s, Loss: 0.3364 | Precision: 79.71%]\u001B[0m\n"
     ]
    },
    {
     "name": "stdout",
     "output_type": "stream",
     "text": [
      "Epoch 2 | Avg Loss: 0.4078 | Avg Precision: 79.03%\n"
     ]
    },
    {
     "name": "stderr",
     "output_type": "stream",
     "text": [
      "Validate: 100%|\u001B[34m███████████████████████\u001B[0m| 74/74 [00:11<00:00,  6.56batch/s, Loss: 0.4525 | Precision: 78.67%]\u001B[0m\n"
     ]
    },
    {
     "name": "stdout",
     "output_type": "stream",
     "text": [
      "Epoch 2 | Avg Loss: 0.4436 | Avg Precision: 78.73% | Patience: 0\n"
     ]
    },
    {
     "name": "stderr",
     "output_type": "stream",
     "text": [
      "Train: 100%|\u001B[32m████████████████████████\u001B[0m| 295/295 [00:53<00:00,  5.49batch/s, Loss: 0.2847 | Precision: 78.79%]\u001B[0m\n"
     ]
    },
    {
     "name": "stdout",
     "output_type": "stream",
     "text": [
      "Epoch 3 | Avg Loss: 0.4292 | Avg Precision: 77.73%\n"
     ]
    },
    {
     "name": "stderr",
     "output_type": "stream",
     "text": [
      "Train: 100%|\u001B[32m████████████████████████\u001B[0m| 295/295 [00:53<00:00,  5.49batch/s, Loss: 0.2927 | Precision: 80.45%]\u001B[0m\n"
     ]
    },
    {
     "name": "stdout",
     "output_type": "stream",
     "text": [
      "Epoch 4 | Avg Loss: 0.3998 | Avg Precision: 79.75%\n"
     ]
    },
    {
     "name": "stderr",
     "output_type": "stream",
     "text": [
      "Validate: 100%|\u001B[34m███████████████████████\u001B[0m| 74/74 [00:11<00:00,  6.44batch/s, Loss: 0.4646 | Precision: 76.81%]\u001B[0m\n"
     ]
    },
    {
     "name": "stdout",
     "output_type": "stream",
     "text": [
      "Epoch 4 | Avg Loss: 0.4513 | Avg Precision: 76.78% | Patience: 1\n"
     ]
    },
    {
     "name": "stderr",
     "output_type": "stream",
     "text": [
      "Train: 100%|\u001B[32m████████████████████████\u001B[0m| 295/295 [00:53<00:00,  5.51batch/s, Loss: 0.3180 | Precision: 81.51%]\u001B[0m\n"
     ]
    },
    {
     "name": "stdout",
     "output_type": "stream",
     "text": [
      "Epoch 5 | Avg Loss: 0.3829 | Avg Precision: 80.82%\n"
     ]
    },
    {
     "name": "stderr",
     "output_type": "stream",
     "text": [
      "Train: 100%|\u001B[32m████████████████████████\u001B[0m| 295/295 [00:53<00:00,  5.49batch/s, Loss: 0.2582 | Precision: 82.13%]\u001B[0m\n"
     ]
    },
    {
     "name": "stdout",
     "output_type": "stream",
     "text": [
      "Epoch 6 | Avg Loss: 0.3712 | Avg Precision: 81.94%\n"
     ]
    },
    {
     "name": "stderr",
     "output_type": "stream",
     "text": [
      "Validate: 100%|\u001B[34m███████████████████████\u001B[0m| 74/74 [00:11<00:00,  6.54batch/s, Loss: 0.4274 | Precision: 78.42%]\u001B[0m\n"
     ]
    },
    {
     "name": "stdout",
     "output_type": "stream",
     "text": [
      "Epoch 6 | Avg Loss: 0.4127 | Avg Precision: 78.46% | Patience: 2\n"
     ]
    },
    {
     "name": "stderr",
     "output_type": "stream",
     "text": [
      "Train: 100%|\u001B[32m████████████████████████\u001B[0m| 295/295 [00:53<00:00,  5.50batch/s, Loss: 0.2202 | Precision: 82.69%]\u001B[0m\n"
     ]
    },
    {
     "name": "stdout",
     "output_type": "stream",
     "text": [
      "Epoch 7 | Avg Loss: 0.3626 | Avg Precision: 82.21%\n"
     ]
    },
    {
     "name": "stderr",
     "output_type": "stream",
     "text": [
      "Train: 100%|\u001B[32m████████████████████████\u001B[0m| 295/295 [00:53<00:00,  5.49batch/s, Loss: 0.1904 | Precision: 83.17%]\u001B[0m\n"
     ]
    },
    {
     "name": "stdout",
     "output_type": "stream",
     "text": [
      "Epoch 8 | Avg Loss: 0.3534 | Avg Precision: 82.92%\n"
     ]
    },
    {
     "name": "stderr",
     "output_type": "stream",
     "text": [
      "Validate: 100%|\u001B[34m███████████████████████\u001B[0m| 74/74 [00:11<00:00,  6.44batch/s, Loss: 0.3775 | Precision: 81.70%]\u001B[0m\n"
     ]
    },
    {
     "name": "stdout",
     "output_type": "stream",
     "text": [
      "Epoch 8 | Avg Loss: 0.3681 | Avg Precision: 81.73% | Patience: 0\n"
     ]
    },
    {
     "name": "stderr",
     "output_type": "stream",
     "text": [
      "Train: 100%|\u001B[32m████████████████████████\u001B[0m| 295/295 [00:53<00:00,  5.49batch/s, Loss: 0.1664 | Precision: 83.39%]\u001B[0m\n"
     ]
    },
    {
     "name": "stdout",
     "output_type": "stream",
     "text": [
      "Epoch 9 | Avg Loss: 0.3494 | Avg Precision: 83.21%\n"
     ]
    },
    {
     "name": "stderr",
     "output_type": "stream",
     "text": [
      "Train: 100%|\u001B[32m████████████████████████\u001B[0m| 295/295 [00:53<00:00,  5.50batch/s, Loss: 0.2804 | Precision: 83.73%]\u001B[0m\n"
     ]
    },
    {
     "name": "stdout",
     "output_type": "stream",
     "text": [
      "Epoch 10 | Avg Loss: 0.3438 | Avg Precision: 83.60%\n"
     ]
    },
    {
     "name": "stderr",
     "output_type": "stream",
     "text": [
      "Validate: 100%|\u001B[34m███████████████████████\u001B[0m| 74/74 [00:11<00:00,  6.37batch/s, Loss: 0.3714 | Precision: 81.31%]\u001B[0m\n"
     ]
    },
    {
     "name": "stdout",
     "output_type": "stream",
     "text": [
      "Epoch 10 | Avg Loss: 0.3693 | Avg Precision: 81.44% | Patience: 1\n"
     ]
    },
    {
     "name": "stderr",
     "output_type": "stream",
     "text": [
      "Train: 100%|\u001B[32m████████████████████████\u001B[0m| 295/295 [00:53<00:00,  5.51batch/s, Loss: 0.2134 | Precision: 83.99%]\u001B[0m\n"
     ]
    },
    {
     "name": "stdout",
     "output_type": "stream",
     "text": [
      "Epoch 11 | Avg Loss: 0.3396 | Avg Precision: 83.87%\n"
     ]
    },
    {
     "name": "stderr",
     "output_type": "stream",
     "text": [
      "Train: 100%|\u001B[32m████████████████████████\u001B[0m| 295/295 [00:53<00:00,  5.51batch/s, Loss: 0.2561 | Precision: 84.06%]\u001B[0m\n"
     ]
    },
    {
     "name": "stdout",
     "output_type": "stream",
     "text": [
      "Epoch 12 | Avg Loss: 0.3382 | Avg Precision: 84.11%\n"
     ]
    },
    {
     "name": "stderr",
     "output_type": "stream",
     "text": [
      "Validate: 100%|\u001B[34m███████████████████████\u001B[0m| 74/74 [00:11<00:00,  6.35batch/s, Loss: 0.3359 | Precision: 84.23%]\u001B[0m\n"
     ]
    },
    {
     "name": "stdout",
     "output_type": "stream",
     "text": [
      "Epoch 12 | Avg Loss: 0.3385 | Avg Precision: 84.37% | Patience: 0\n"
     ]
    },
    {
     "name": "stderr",
     "output_type": "stream",
     "text": [
      "Train: 100%|\u001B[32m████████████████████████\u001B[0m| 295/295 [00:53<00:00,  5.52batch/s, Loss: 0.2335 | Precision: 84.28%]\u001B[0m\n"
     ]
    },
    {
     "name": "stdout",
     "output_type": "stream",
     "text": [
      "Epoch 13 | Avg Loss: 0.3343 | Avg Precision: 84.38%\n"
     ]
    },
    {
     "name": "stderr",
     "output_type": "stream",
     "text": [
      "Train: 100%|\u001B[32m████████████████████████\u001B[0m| 295/295 [00:53<00:00,  5.50batch/s, Loss: 0.1907 | Precision: 84.35%]\u001B[0m\n"
     ]
    },
    {
     "name": "stdout",
     "output_type": "stream",
     "text": [
      "Epoch 14 | Avg Loss: 0.3329 | Avg Precision: 84.42%\n"
     ]
    },
    {
     "name": "stderr",
     "output_type": "stream",
     "text": [
      "Validate: 100%|\u001B[34m███████████████████████\u001B[0m| 74/74 [00:11<00:00,  6.41batch/s, Loss: 0.3369 | Precision: 83.13%]\u001B[0m\n"
     ]
    },
    {
     "name": "stdout",
     "output_type": "stream",
     "text": [
      "Epoch 14 | Avg Loss: 0.3363 | Avg Precision: 83.27% | Patience: 1\n"
     ]
    },
    {
     "name": "stderr",
     "output_type": "stream",
     "text": [
      "Train: 100%|\u001B[32m████████████████████████\u001B[0m| 295/295 [00:53<00:00,  5.50batch/s, Loss: 0.1978 | Precision: 84.60%]\u001B[0m\n"
     ]
    },
    {
     "name": "stdout",
     "output_type": "stream",
     "text": [
      "Epoch 15 | Avg Loss: 0.3281 | Avg Precision: 84.51%\n"
     ]
    },
    {
     "name": "stderr",
     "output_type": "stream",
     "text": [
      "Train: 100%|\u001B[32m████████████████████████\u001B[0m| 295/295 [00:53<00:00,  5.50batch/s, Loss: 0.2209 | Precision: 84.65%]\u001B[0m\n"
     ]
    },
    {
     "name": "stdout",
     "output_type": "stream",
     "text": [
      "Epoch 16 | Avg Loss: 0.3313 | Avg Precision: 84.62%\n"
     ]
    },
    {
     "name": "stderr",
     "output_type": "stream",
     "text": [
      "Validate: 100%|\u001B[34m███████████████████████\u001B[0m| 74/74 [00:11<00:00,  6.37batch/s, Loss: 0.3466 | Precision: 83.92%]\u001B[0m\n"
     ]
    },
    {
     "name": "stdout",
     "output_type": "stream",
     "text": [
      "Epoch 16 | Avg Loss: 0.3341 | Avg Precision: 84.03% | Patience: 2\n"
     ]
    },
    {
     "name": "stderr",
     "output_type": "stream",
     "text": [
      "Train: 100%|\u001B[32m████████████████████████\u001B[0m| 295/295 [00:53<00:00,  5.50batch/s, Loss: 0.1956 | Precision: 85.11%]\u001B[0m\n"
     ]
    },
    {
     "name": "stdout",
     "output_type": "stream",
     "text": [
      "Epoch 17 | Avg Loss: 0.3199 | Avg Precision: 85.10%\n"
     ]
    },
    {
     "name": "stderr",
     "output_type": "stream",
     "text": [
      "Train: 100%|\u001B[32m████████████████████████\u001B[0m| 295/295 [00:53<00:00,  5.51batch/s, Loss: 0.1886 | Precision: 85.10%]\u001B[0m\n"
     ]
    },
    {
     "name": "stdout",
     "output_type": "stream",
     "text": [
      "Epoch 18 | Avg Loss: 0.3194 | Avg Precision: 84.76%\n"
     ]
    },
    {
     "name": "stderr",
     "output_type": "stream",
     "text": [
      "Validate: 100%|\u001B[34m███████████████████████\u001B[0m| 74/74 [00:11<00:00,  6.46batch/s, Loss: 0.3396 | Precision: 84.52%]\u001B[0m\n"
     ]
    },
    {
     "name": "stdout",
     "output_type": "stream",
     "text": [
      "Epoch 18 | Avg Loss: 0.3248 | Avg Precision: 84.69% | Patience: 0\n"
     ]
    },
    {
     "name": "stderr",
     "output_type": "stream",
     "text": [
      "Train: 100%|\u001B[32m████████████████████████\u001B[0m| 295/295 [00:53<00:00,  5.53batch/s, Loss: 0.1896 | Precision: 85.29%]\u001B[0m\n"
     ]
    },
    {
     "name": "stdout",
     "output_type": "stream",
     "text": [
      "Epoch 19 | Avg Loss: 0.3162 | Avg Precision: 85.33%\n"
     ]
    },
    {
     "name": "stderr",
     "output_type": "stream",
     "text": [
      "Train: 100%|\u001B[32m████████████████████████\u001B[0m| 295/295 [00:53<00:00,  5.51batch/s, Loss: 0.1908 | Precision: 85.29%]\u001B[0m\n"
     ]
    },
    {
     "name": "stdout",
     "output_type": "stream",
     "text": [
      "Epoch 20 | Avg Loss: 0.3154 | Avg Precision: 85.29%\n"
     ]
    },
    {
     "name": "stderr",
     "output_type": "stream",
     "text": [
      "Validate: 100%|\u001B[34m███████████████████████\u001B[0m| 74/74 [00:11<00:00,  6.40batch/s, Loss: 0.3316 | Precision: 85.29%]\u001B[0m\n"
     ]
    },
    {
     "name": "stdout",
     "output_type": "stream",
     "text": [
      "Epoch 20 | Avg Loss: 0.3236 | Avg Precision: 85.38% | Patience: 0\n"
     ]
    },
    {
     "name": "stderr",
     "output_type": "stream",
     "text": [
      "Train: 100%|\u001B[32m████████████████████████\u001B[0m| 295/295 [00:53<00:00,  5.51batch/s, Loss: 0.1865 | Precision: 85.43%]\u001B[0m\n"
     ]
    },
    {
     "name": "stdout",
     "output_type": "stream",
     "text": [
      "Epoch 21 | Avg Loss: 0.3137 | Avg Precision: 85.33%\n"
     ]
    },
    {
     "name": "stderr",
     "output_type": "stream",
     "text": [
      "Train: 100%|\u001B[32m████████████████████████\u001B[0m| 295/295 [00:53<00:00,  5.52batch/s, Loss: 0.2382 | Precision: 85.23%]\u001B[0m\n"
     ]
    },
    {
     "name": "stdout",
     "output_type": "stream",
     "text": [
      "Epoch 22 | Avg Loss: 0.3185 | Avg Precision: 85.31%\n"
     ]
    },
    {
     "name": "stderr",
     "output_type": "stream",
     "text": [
      "Validate: 100%|\u001B[34m███████████████████████\u001B[0m| 74/74 [00:11<00:00,  6.45batch/s, Loss: 0.3556 | Precision: 83.55%]\u001B[0m\n"
     ]
    },
    {
     "name": "stdout",
     "output_type": "stream",
     "text": [
      "Epoch 22 | Avg Loss: 0.3442 | Avg Precision: 83.76% | Patience: 1\n"
     ]
    },
    {
     "name": "stderr",
     "output_type": "stream",
     "text": [
      "Train: 100%|\u001B[32m████████████████████████\u001B[0m| 295/295 [00:53<00:00,  5.51batch/s, Loss: 0.2354 | Precision: 85.42%]\u001B[0m\n"
     ]
    },
    {
     "name": "stdout",
     "output_type": "stream",
     "text": [
      "Epoch 23 | Avg Loss: 0.3119 | Avg Precision: 85.26%\n"
     ]
    },
    {
     "name": "stderr",
     "output_type": "stream",
     "text": [
      "Train: 100%|\u001B[32m████████████████████████\u001B[0m| 295/295 [00:53<00:00,  5.51batch/s, Loss: 0.2157 | Precision: 85.52%]\u001B[0m\n"
     ]
    },
    {
     "name": "stdout",
     "output_type": "stream",
     "text": [
      "Epoch 24 | Avg Loss: 0.3100 | Avg Precision: 85.33%\n"
     ]
    },
    {
     "name": "stderr",
     "output_type": "stream",
     "text": [
      "Validate: 100%|\u001B[34m███████████████████████\u001B[0m| 74/74 [00:11<00:00,  6.33batch/s, Loss: 0.3345 | Precision: 84.66%]\u001B[0m\n"
     ]
    },
    {
     "name": "stdout",
     "output_type": "stream",
     "text": [
      "Epoch 24 | Avg Loss: 0.3202 | Avg Precision: 84.79% | Patience: 2\n"
     ]
    },
    {
     "name": "stderr",
     "output_type": "stream",
     "text": [
      "Train: 100%|\u001B[32m████████████████████████\u001B[0m| 295/295 [00:53<00:00,  5.52batch/s, Loss: 0.2095 | Precision: 85.72%]\u001B[0m\n"
     ]
    },
    {
     "name": "stdout",
     "output_type": "stream",
     "text": [
      "Epoch 25 | Avg Loss: 0.3062 | Avg Precision: 85.60%\n"
     ]
    },
    {
     "name": "stderr",
     "output_type": "stream",
     "text": [
      "Train: 100%|\u001B[32m████████████████████████\u001B[0m| 295/295 [00:53<00:00,  5.49batch/s, Loss: 0.1853 | Precision: 85.77%]\u001B[0m\n"
     ]
    },
    {
     "name": "stdout",
     "output_type": "stream",
     "text": [
      "Epoch 26 | Avg Loss: 0.3049 | Avg Precision: 85.74%\n"
     ]
    },
    {
     "name": "stderr",
     "output_type": "stream",
     "text": [
      "Validate: 100%|\u001B[34m███████████████████████\u001B[0m| 74/74 [00:11<00:00,  6.43batch/s, Loss: 0.3320 | Precision: 85.68%]\u001B[0m\n"
     ]
    },
    {
     "name": "stdout",
     "output_type": "stream",
     "text": [
      "Epoch 26 | Avg Loss: 0.3117 | Avg Precision: 85.74% | Patience: 0\n"
     ]
    },
    {
     "name": "stderr",
     "output_type": "stream",
     "text": [
      "Train: 100%|\u001B[32m████████████████████████\u001B[0m| 295/295 [00:53<00:00,  5.51batch/s, Loss: 0.1957 | Precision: 85.87%]\u001B[0m\n"
     ]
    },
    {
     "name": "stdout",
     "output_type": "stream",
     "text": [
      "Epoch 27 | Avg Loss: 0.3033 | Avg Precision: 85.91%\n"
     ]
    },
    {
     "name": "stderr",
     "output_type": "stream",
     "text": [
      "Train: 100%|\u001B[32m████████████████████████\u001B[0m| 295/295 [00:53<00:00,  5.50batch/s, Loss: 0.1792 | Precision: 85.95%]\u001B[0m\n"
     ]
    },
    {
     "name": "stdout",
     "output_type": "stream",
     "text": [
      "Epoch 28 | Avg Loss: 0.3020 | Avg Precision: 85.88%\n"
     ]
    },
    {
     "name": "stderr",
     "output_type": "stream",
     "text": [
      "Validate: 100%|\u001B[34m███████████████████████\u001B[0m| 74/74 [00:11<00:00,  6.40batch/s, Loss: 0.3438 | Precision: 84.69%]\u001B[0m\n"
     ]
    },
    {
     "name": "stdout",
     "output_type": "stream",
     "text": [
      "Epoch 28 | Avg Loss: 0.3189 | Avg Precision: 84.84% | Patience: 1\n"
     ]
    },
    {
     "name": "stderr",
     "output_type": "stream",
     "text": [
      "Train: 100%|\u001B[32m████████████████████████\u001B[0m| 295/295 [00:53<00:00,  5.52batch/s, Loss: 0.1798 | Precision: 85.97%]\u001B[0m\n"
     ]
    },
    {
     "name": "stdout",
     "output_type": "stream",
     "text": [
      "Epoch 29 | Avg Loss: 0.3014 | Avg Precision: 85.90%\n"
     ]
    },
    {
     "name": "stderr",
     "output_type": "stream",
     "text": [
      "Train: 100%|\u001B[32m████████████████████████\u001B[0m| 295/295 [00:54<00:00,  5.46batch/s, Loss: 0.1648 | Precision: 86.04%]\u001B[0m\n"
     ]
    },
    {
     "name": "stdout",
     "output_type": "stream",
     "text": [
      "Epoch 30 | Avg Loss: 0.3001 | Avg Precision: 86.07%\n"
     ]
    },
    {
     "name": "stderr",
     "output_type": "stream",
     "text": [
      "Validate: 100%|\u001B[34m███████████████████████\u001B[0m| 74/74 [00:11<00:00,  6.40batch/s, Loss: 0.3351 | Precision: 85.10%]\u001B[0m\n"
     ]
    },
    {
     "name": "stdout",
     "output_type": "stream",
     "text": [
      "Epoch 30 | Avg Loss: 0.3140 | Avg Precision: 85.21% | Patience: 2\n"
     ]
    },
    {
     "name": "stderr",
     "output_type": "stream",
     "text": [
      "Train: 100%|\u001B[32m████████████████████████\u001B[0m| 295/295 [00:53<00:00,  5.48batch/s, Loss: 0.2422 | Precision: 86.13%]\u001B[0m\n"
     ]
    },
    {
     "name": "stdout",
     "output_type": "stream",
     "text": [
      "Epoch 31 | Avg Loss: 0.2982 | Avg Precision: 86.10%\n"
     ]
    },
    {
     "name": "stderr",
     "output_type": "stream",
     "text": [
      "Train: 100%|\u001B[32m████████████████████████\u001B[0m| 295/295 [00:53<00:00,  5.51batch/s, Loss: 0.1523 | Precision: 86.15%]\u001B[0m\n"
     ]
    },
    {
     "name": "stdout",
     "output_type": "stream",
     "text": [
      "Epoch 32 | Avg Loss: 0.2979 | Avg Precision: 86.13%\n"
     ]
    },
    {
     "name": "stderr",
     "output_type": "stream",
     "text": [
      "Validate: 100%|\u001B[34m███████████████████████\u001B[0m| 74/74 [00:11<00:00,  6.29batch/s, Loss: 0.3214 | Precision: 85.68%]\u001B[0m\n"
     ]
    },
    {
     "name": "stdout",
     "output_type": "stream",
     "text": [
      "Epoch 32 | Avg Loss: 0.3036 | Avg Precision: 85.80% | Patience: 0\n"
     ]
    },
    {
     "name": "stderr",
     "output_type": "stream",
     "text": [
      "Train: 100%|\u001B[32m████████████████████████\u001B[0m| 295/295 [00:53<00:00,  5.51batch/s, Loss: 0.1444 | Precision: 86.15%]\u001B[0m\n"
     ]
    },
    {
     "name": "stdout",
     "output_type": "stream",
     "text": [
      "Epoch 33 | Avg Loss: 0.2976 | Avg Precision: 86.13%\n"
     ]
    },
    {
     "name": "stderr",
     "output_type": "stream",
     "text": [
      "Train: 100%|\u001B[32m████████████████████████\u001B[0m| 295/295 [00:53<00:00,  5.51batch/s, Loss: 0.1861 | Precision: 86.18%]\u001B[0m\n"
     ]
    },
    {
     "name": "stdout",
     "output_type": "stream",
     "text": [
      "Epoch 34 | Avg Loss: 0.2971 | Avg Precision: 86.09%\n"
     ]
    },
    {
     "name": "stderr",
     "output_type": "stream",
     "text": [
      "Validate: 100%|\u001B[34m███████████████████████\u001B[0m| 74/74 [00:11<00:00,  6.46batch/s, Loss: 0.3265 | Precision: 85.80%]\u001B[0m\n"
     ]
    },
    {
     "name": "stdout",
     "output_type": "stream",
     "text": [
      "Epoch 34 | Avg Loss: 0.3060 | Avg Precision: 85.97% | Patience: 0\n"
     ]
    },
    {
     "name": "stderr",
     "output_type": "stream",
     "text": [
      "Train: 100%|\u001B[32m████████████████████████\u001B[0m| 295/295 [00:53<00:00,  5.51batch/s, Loss: 0.1586 | Precision: 86.25%]\u001B[0m\n"
     ]
    },
    {
     "name": "stdout",
     "output_type": "stream",
     "text": [
      "Epoch 35 | Avg Loss: 0.2964 | Avg Precision: 86.21%\n"
     ]
    },
    {
     "name": "stderr",
     "output_type": "stream",
     "text": [
      "Train: 100%|\u001B[32m████████████████████████\u001B[0m| 295/295 [00:53<00:00,  5.50batch/s, Loss: 0.1526 | Precision: 86.23%]\u001B[0m\n"
     ]
    },
    {
     "name": "stdout",
     "output_type": "stream",
     "text": [
      "Epoch 36 | Avg Loss: 0.2954 | Avg Precision: 86.17%\n"
     ]
    },
    {
     "name": "stderr",
     "output_type": "stream",
     "text": [
      "Validate: 100%|\u001B[34m███████████████████████\u001B[0m| 74/74 [00:11<00:00,  6.45batch/s, Loss: 0.3248 | Precision: 86.06%]\u001B[0m\n"
     ]
    },
    {
     "name": "stdout",
     "output_type": "stream",
     "text": [
      "Epoch 36 | Avg Loss: 0.3035 | Avg Precision: 86.20% | Patience: 0\n"
     ]
    },
    {
     "name": "stderr",
     "output_type": "stream",
     "text": [
      "Train: 100%|\u001B[32m████████████████████████\u001B[0m| 295/295 [00:53<00:00,  5.52batch/s, Loss: 0.2081 | Precision: 86.34%]\u001B[0m\n"
     ]
    },
    {
     "name": "stdout",
     "output_type": "stream",
     "text": [
      "Epoch 37 | Avg Loss: 0.2947 | Avg Precision: 86.29%\n"
     ]
    },
    {
     "name": "stderr",
     "output_type": "stream",
     "text": [
      "Train: 100%|\u001B[32m████████████████████████\u001B[0m| 295/295 [00:53<00:00,  5.51batch/s, Loss: 0.1691 | Precision: 86.33%]\u001B[0m\n"
     ]
    },
    {
     "name": "stdout",
     "output_type": "stream",
     "text": [
      "Epoch 38 | Avg Loss: 0.2944 | Avg Precision: 86.23%\n"
     ]
    },
    {
     "name": "stderr",
     "output_type": "stream",
     "text": [
      "Validate: 100%|\u001B[34m███████████████████████\u001B[0m| 74/74 [00:11<00:00,  6.45batch/s, Loss: 0.3235 | Precision: 86.31%]\u001B[0m\n"
     ]
    },
    {
     "name": "stdout",
     "output_type": "stream",
     "text": [
      "Epoch 38 | Avg Loss: 0.3027 | Avg Precision: 86.38% | Patience: 0\n"
     ]
    },
    {
     "name": "stderr",
     "output_type": "stream",
     "text": [
      "Train: 100%|\u001B[32m████████████████████████\u001B[0m| 295/295 [00:53<00:00,  5.50batch/s, Loss: 0.1802 | Precision: 86.32%]\u001B[0m\n"
     ]
    },
    {
     "name": "stdout",
     "output_type": "stream",
     "text": [
      "Epoch 39 | Avg Loss: 0.2938 | Avg Precision: 86.34%\n"
     ]
    },
    {
     "name": "stderr",
     "output_type": "stream",
     "text": [
      "Train: 100%|\u001B[32m████████████████████████\u001B[0m| 295/295 [00:53<00:00,  5.50batch/s, Loss: 0.1833 | Precision: 86.42%]\u001B[0m\n"
     ]
    },
    {
     "name": "stdout",
     "output_type": "stream",
     "text": [
      "Epoch 40 | Avg Loss: 0.2926 | Avg Precision: 86.38%\n"
     ]
    },
    {
     "name": "stderr",
     "output_type": "stream",
     "text": [
      "Validate: 100%|\u001B[34m███████████████████████\u001B[0m| 74/74 [00:11<00:00,  6.44batch/s, Loss: 0.3267 | Precision: 85.85%]\u001B[0m\n"
     ]
    },
    {
     "name": "stdout",
     "output_type": "stream",
     "text": [
      "Epoch 40 | Avg Loss: 0.3030 | Avg Precision: 85.94% | Patience: 1\n"
     ]
    },
    {
     "name": "stderr",
     "output_type": "stream",
     "text": [
      "Train: 100%|\u001B[32m████████████████████████\u001B[0m| 295/295 [00:53<00:00,  5.51batch/s, Loss: 0.1565 | Precision: 86.36%]\u001B[0m\n"
     ]
    },
    {
     "name": "stdout",
     "output_type": "stream",
     "text": [
      "Epoch 41 | Avg Loss: 0.2932 | Avg Precision: 86.26%\n"
     ]
    },
    {
     "name": "stderr",
     "output_type": "stream",
     "text": [
      "Train: 100%|\u001B[32m████████████████████████\u001B[0m| 295/295 [00:53<00:00,  5.50batch/s, Loss: 0.1471 | Precision: 86.42%]\u001B[0m\n"
     ]
    },
    {
     "name": "stdout",
     "output_type": "stream",
     "text": [
      "Epoch 42 | Avg Loss: 0.2924 | Avg Precision: 86.42%\n"
     ]
    },
    {
     "name": "stderr",
     "output_type": "stream",
     "text": [
      "Validate: 100%|\u001B[34m███████████████████████\u001B[0m| 74/74 [00:11<00:00,  6.47batch/s, Loss: 0.3289 | Precision: 85.69%]\u001B[0m\n"
     ]
    },
    {
     "name": "stdout",
     "output_type": "stream",
     "text": [
      "Epoch 42 | Avg Loss: 0.3032 | Avg Precision: 85.76% | Patience: 2\n"
     ]
    },
    {
     "name": "stderr",
     "output_type": "stream",
     "text": [
      "Train: 100%|\u001B[32m████████████████████████\u001B[0m| 295/295 [00:53<00:00,  5.51batch/s, Loss: 0.1544 | Precision: 86.60%]\u001B[0m\n"
     ]
    },
    {
     "name": "stdout",
     "output_type": "stream",
     "text": [
      "Epoch 43 | Avg Loss: 0.2896 | Avg Precision: 86.47%\n"
     ]
    },
    {
     "name": "stderr",
     "output_type": "stream",
     "text": [
      "Train: 100%|\u001B[32m████████████████████████\u001B[0m| 295/295 [00:53<00:00,  5.52batch/s, Loss: 0.1445 | Precision: 86.56%]\u001B[0m\n"
     ]
    },
    {
     "name": "stdout",
     "output_type": "stream",
     "text": [
      "Epoch 44 | Avg Loss: 0.2896 | Avg Precision: 86.47%\n"
     ]
    },
    {
     "name": "stderr",
     "output_type": "stream",
     "text": [
      "Validate: 100%|\u001B[34m███████████████████████\u001B[0m| 74/74 [00:11<00:00,  6.45batch/s, Loss: 0.3294 | Precision: 86.17%]\u001B[0m\n"
     ]
    },
    {
     "name": "stdout",
     "output_type": "stream",
     "text": [
      "Epoch 44 | Avg Loss: 0.2994 | Avg Precision: 86.18% | Patience: 3\n"
     ]
    },
    {
     "name": "stderr",
     "output_type": "stream",
     "text": [
      "Train: 100%|\u001B[32m████████████████████████\u001B[0m| 295/295 [00:53<00:00,  5.51batch/s, Loss: 0.1501 | Precision: 86.63%]\u001B[0m\n"
     ]
    },
    {
     "name": "stdout",
     "output_type": "stream",
     "text": [
      "Epoch 45 | Avg Loss: 0.2894 | Avg Precision: 86.58%\n"
     ]
    },
    {
     "name": "stderr",
     "output_type": "stream",
     "text": [
      "Train: 100%|\u001B[32m████████████████████████\u001B[0m| 295/295 [00:53<00:00,  5.51batch/s, Loss: 0.1457 | Precision: 86.65%]\u001B[0m\n"
     ]
    },
    {
     "name": "stdout",
     "output_type": "stream",
     "text": [
      "Epoch 46 | Avg Loss: 0.2886 | Avg Precision: 86.60%\n"
     ]
    },
    {
     "name": "stderr",
     "output_type": "stream",
     "text": [
      "Validate: 100%|\u001B[34m███████████████████████\u001B[0m| 74/74 [00:11<00:00,  6.41batch/s, Loss: 0.3252 | Precision: 86.20%]\u001B[0m\n"
     ]
    },
    {
     "name": "stdout",
     "output_type": "stream",
     "text": [
      "Epoch 46 | Avg Loss: 0.3017 | Avg Precision: 86.29% | Patience: 4\n"
     ]
    },
    {
     "name": "stderr",
     "output_type": "stream",
     "text": [
      "Train: 100%|\u001B[32m████████████████████████\u001B[0m| 295/295 [00:53<00:00,  5.49batch/s, Loss: 0.1282 | Precision: 86.69%]\u001B[0m\n"
     ]
    },
    {
     "name": "stdout",
     "output_type": "stream",
     "text": [
      "Epoch 47 | Avg Loss: 0.2877 | Avg Precision: 86.75%\n"
     ]
    },
    {
     "name": "stderr",
     "output_type": "stream",
     "text": [
      "Train: 100%|\u001B[32m████████████████████████\u001B[0m| 295/295 [00:53<00:00,  5.49batch/s, Loss: 0.1312 | Precision: 86.69%]\u001B[0m\n"
     ]
    },
    {
     "name": "stdout",
     "output_type": "stream",
     "text": [
      "Epoch 48 | Avg Loss: 0.2874 | Avg Precision: 86.70%\n"
     ]
    },
    {
     "name": "stderr",
     "output_type": "stream",
     "text": [
      "Validate: 100%|\u001B[34m███████████████████████\u001B[0m| 74/74 [00:11<00:00,  6.41batch/s, Loss: 0.3225 | Precision: 86.92%]\u001B[0m\n"
     ]
    },
    {
     "name": "stdout",
     "output_type": "stream",
     "text": [
      "Epoch 48 | Avg Loss: 0.2990 | Avg Precision: 86.97% | Patience: 0\n"
     ]
    },
    {
     "name": "stderr",
     "output_type": "stream",
     "text": [
      "Train: 100%|\u001B[32m████████████████████████\u001B[0m| 295/295 [00:53<00:00,  5.49batch/s, Loss: 0.1457 | Precision: 86.80%]\u001B[0m\n"
     ]
    },
    {
     "name": "stdout",
     "output_type": "stream",
     "text": [
      "Epoch 49 | Avg Loss: 0.2859 | Avg Precision: 86.81%\n"
     ]
    },
    {
     "name": "stderr",
     "output_type": "stream",
     "text": [
      "Train: 100%|\u001B[32m████████████████████████\u001B[0m| 295/295 [00:53<00:00,  5.47batch/s, Loss: 0.1262 | Precision: 86.81%]\u001B[0m\n"
     ]
    },
    {
     "name": "stdout",
     "output_type": "stream",
     "text": [
      "Epoch 50 | Avg Loss: 0.2856 | Avg Precision: 86.86%\n"
     ]
    },
    {
     "name": "stderr",
     "output_type": "stream",
     "text": [
      "Validate: 100%|\u001B[34m███████████████████████\u001B[0m| 74/74 [00:11<00:00,  6.35batch/s, Loss: 0.3263 | Precision: 86.86%]\u001B[0m\n"
     ]
    },
    {
     "name": "stdout",
     "output_type": "stream",
     "text": [
      "Epoch 50 | Avg Loss: 0.3020 | Avg Precision: 86.90% | Patience: 1\n"
     ]
    },
    {
     "name": "stderr",
     "output_type": "stream",
     "text": [
      "Train: 100%|\u001B[32m████████████████████████\u001B[0m| 295/295 [00:53<00:00,  5.47batch/s, Loss: 0.1092 | Precision: 86.85%]\u001B[0m\n"
     ]
    },
    {
     "name": "stdout",
     "output_type": "stream",
     "text": [
      "Epoch 51 | Avg Loss: 0.2850 | Avg Precision: 86.89%\n"
     ]
    },
    {
     "name": "stderr",
     "output_type": "stream",
     "text": [
      "Train: 100%|\u001B[32m████████████████████████\u001B[0m| 295/295 [00:53<00:00,  5.47batch/s, Loss: 0.1100 | Precision: 86.80%]\u001B[0m\n"
     ]
    },
    {
     "name": "stdout",
     "output_type": "stream",
     "text": [
      "Epoch 52 | Avg Loss: 0.2851 | Avg Precision: 86.85%\n"
     ]
    },
    {
     "name": "stderr",
     "output_type": "stream",
     "text": [
      "Validate: 100%|\u001B[34m███████████████████████\u001B[0m| 74/74 [00:11<00:00,  6.49batch/s, Loss: 0.3228 | Precision: 86.85%]\u001B[0m\n"
     ]
    },
    {
     "name": "stdout",
     "output_type": "stream",
     "text": [
      "Epoch 52 | Avg Loss: 0.3011 | Avg Precision: 86.90% | Patience: 2\n"
     ]
    },
    {
     "name": "stderr",
     "output_type": "stream",
     "text": [
      "Train: 100%|\u001B[32m████████████████████████\u001B[0m| 295/295 [00:53<00:00,  5.49batch/s, Loss: 0.1333 | Precision: 86.90%]\u001B[0m\n"
     ]
    },
    {
     "name": "stdout",
     "output_type": "stream",
     "text": [
      "Epoch 53 | Avg Loss: 0.2840 | Avg Precision: 86.92%\n"
     ]
    },
    {
     "name": "stderr",
     "output_type": "stream",
     "text": [
      "Train: 100%|\u001B[32m████████████████████████\u001B[0m| 295/295 [00:53<00:00,  5.49batch/s, Loss: 0.1270 | Precision: 86.91%]\u001B[0m\n"
     ]
    },
    {
     "name": "stdout",
     "output_type": "stream",
     "text": [
      "Epoch 54 | Avg Loss: 0.2838 | Avg Precision: 86.94%\n"
     ]
    },
    {
     "name": "stderr",
     "output_type": "stream",
     "text": [
      "Validate: 100%|\u001B[34m███████████████████████\u001B[0m| 74/74 [00:11<00:00,  6.38batch/s, Loss: 0.3119 | Precision: 87.23%]\u001B[0m\n"
     ]
    },
    {
     "name": "stdout",
     "output_type": "stream",
     "text": [
      "Epoch 54 | Avg Loss: 0.2965 | Avg Precision: 87.25% | Patience: 0\n"
     ]
    },
    {
     "name": "stderr",
     "output_type": "stream",
     "text": [
      "Train: 100%|\u001B[32m████████████████████████\u001B[0m| 295/295 [00:53<00:00,  5.50batch/s, Loss: 0.1356 | Precision: 86.92%]\u001B[0m\n"
     ]
    },
    {
     "name": "stdout",
     "output_type": "stream",
     "text": [
      "Epoch 55 | Avg Loss: 0.2835 | Avg Precision: 86.93%\n"
     ]
    },
    {
     "name": "stderr",
     "output_type": "stream",
     "text": [
      "Train: 100%|\u001B[32m████████████████████████\u001B[0m| 295/295 [00:53<00:00,  5.47batch/s, Loss: 0.1335 | Precision: 86.98%]\u001B[0m\n"
     ]
    },
    {
     "name": "stdout",
     "output_type": "stream",
     "text": [
      "Epoch 56 | Avg Loss: 0.2828 | Avg Precision: 87.01%\n"
     ]
    },
    {
     "name": "stderr",
     "output_type": "stream",
     "text": [
      "Validate: 100%|\u001B[34m███████████████████████\u001B[0m| 74/74 [00:11<00:00,  6.43batch/s, Loss: 0.3116 | Precision: 87.36%]\u001B[0m\n"
     ]
    },
    {
     "name": "stdout",
     "output_type": "stream",
     "text": [
      "Epoch 56 | Avg Loss: 0.2965 | Avg Precision: 87.35% | Patience: 0\n"
     ]
    },
    {
     "name": "stderr",
     "output_type": "stream",
     "text": [
      "Train: 100%|\u001B[32m████████████████████████\u001B[0m| 295/295 [00:53<00:00,  5.49batch/s, Loss: 0.1195 | Precision: 86.98%]\u001B[0m\n"
     ]
    },
    {
     "name": "stdout",
     "output_type": "stream",
     "text": [
      "Epoch 57 | Avg Loss: 0.2823 | Avg Precision: 87.01%\n"
     ]
    },
    {
     "name": "stderr",
     "output_type": "stream",
     "text": [
      "Train: 100%|\u001B[32m████████████████████████\u001B[0m| 295/295 [00:53<00:00,  5.48batch/s, Loss: 0.1362 | Precision: 86.97%]\u001B[0m\n"
     ]
    },
    {
     "name": "stdout",
     "output_type": "stream",
     "text": [
      "Epoch 58 | Avg Loss: 0.2825 | Avg Precision: 87.03%\n"
     ]
    },
    {
     "name": "stderr",
     "output_type": "stream",
     "text": [
      "Validate: 100%|\u001B[34m███████████████████████\u001B[0m| 74/74 [00:11<00:00,  6.43batch/s, Loss: 0.3196 | Precision: 87.10%]\u001B[0m\n"
     ]
    },
    {
     "name": "stdout",
     "output_type": "stream",
     "text": [
      "Epoch 58 | Avg Loss: 0.2984 | Avg Precision: 87.19% | Patience: 1\n"
     ]
    },
    {
     "name": "stderr",
     "output_type": "stream",
     "text": [
      "Train: 100%|\u001B[32m████████████████████████\u001B[0m| 295/295 [00:53<00:00,  5.50batch/s, Loss: 0.1329 | Precision: 86.96%]\u001B[0m\n"
     ]
    },
    {
     "name": "stdout",
     "output_type": "stream",
     "text": [
      "Epoch 59 | Avg Loss: 0.2820 | Avg Precision: 86.98%\n"
     ]
    },
    {
     "name": "stderr",
     "output_type": "stream",
     "text": [
      "Train: 100%|\u001B[32m████████████████████████\u001B[0m| 295/295 [00:53<00:00,  5.48batch/s, Loss: 0.1261 | Precision: 87.01%]\u001B[0m\n"
     ]
    },
    {
     "name": "stdout",
     "output_type": "stream",
     "text": [
      "Epoch 60 | Avg Loss: 0.2817 | Avg Precision: 87.00%\n"
     ]
    },
    {
     "name": "stderr",
     "output_type": "stream",
     "text": [
      "Validate: 100%|\u001B[34m███████████████████████\u001B[0m| 74/74 [00:11<00:00,  6.39batch/s, Loss: 0.3151 | Precision: 87.21%]\u001B[0m\n"
     ]
    },
    {
     "name": "stdout",
     "output_type": "stream",
     "text": [
      "Epoch 60 | Avg Loss: 0.2953 | Avg Precision: 87.33% | Patience: 2\n"
     ]
    },
    {
     "name": "stderr",
     "output_type": "stream",
     "text": [
      "Train: 100%|\u001B[32m████████████████████████\u001B[0m| 295/295 [00:53<00:00,  5.48batch/s, Loss: 0.1465 | Precision: 87.08%]\u001B[0m\n"
     ]
    },
    {
     "name": "stdout",
     "output_type": "stream",
     "text": [
      "Epoch 61 | Avg Loss: 0.2806 | Avg Precision: 87.08%\n"
     ]
    },
    {
     "name": "stderr",
     "output_type": "stream",
     "text": [
      "Train: 100%|\u001B[32m████████████████████████\u001B[0m| 295/295 [00:53<00:00,  5.48batch/s, Loss: 0.1336 | Precision: 87.08%]\u001B[0m\n"
     ]
    },
    {
     "name": "stdout",
     "output_type": "stream",
     "text": [
      "Epoch 62 | Avg Loss: 0.2803 | Avg Precision: 87.09%\n"
     ]
    },
    {
     "name": "stderr",
     "output_type": "stream",
     "text": [
      "Validate: 100%|\u001B[34m███████████████████████\u001B[0m| 74/74 [00:11<00:00,  6.41batch/s, Loss: 0.3204 | Precision: 87.00%]\u001B[0m\n"
     ]
    },
    {
     "name": "stdout",
     "output_type": "stream",
     "text": [
      "Epoch 62 | Avg Loss: 0.2947 | Avg Precision: 87.14% | Patience: 3\n"
     ]
    },
    {
     "name": "stderr",
     "output_type": "stream",
     "text": [
      "Train: 100%|\u001B[32m████████████████████████\u001B[0m| 295/295 [00:53<00:00,  5.48batch/s, Loss: 0.1407 | Precision: 87.12%]\u001B[0m\n"
     ]
    },
    {
     "name": "stdout",
     "output_type": "stream",
     "text": [
      "Epoch 63 | Avg Loss: 0.2801 | Avg Precision: 87.16%\n"
     ]
    },
    {
     "name": "stderr",
     "output_type": "stream",
     "text": [
      "Train: 100%|\u001B[32m████████████████████████\u001B[0m| 295/295 [00:53<00:00,  5.49batch/s, Loss: 0.1341 | Precision: 87.09%]\u001B[0m\n"
     ]
    },
    {
     "name": "stdout",
     "output_type": "stream",
     "text": [
      "Epoch 64 | Avg Loss: 0.2801 | Avg Precision: 87.12%\n"
     ]
    },
    {
     "name": "stderr",
     "output_type": "stream",
     "text": [
      "Validate: 100%|\u001B[34m███████████████████████\u001B[0m| 74/74 [00:11<00:00,  6.44batch/s, Loss: 0.3170 | Precision: 87.13%]\u001B[0m\n"
     ]
    },
    {
     "name": "stdout",
     "output_type": "stream",
     "text": [
      "Epoch 64 | Avg Loss: 0.2938 | Avg Precision: 87.27% | Patience: 4\n"
     ]
    },
    {
     "name": "stderr",
     "output_type": "stream",
     "text": [
      "Train: 100%|\u001B[32m████████████████████████\u001B[0m| 295/295 [00:54<00:00,  5.46batch/s, Loss: 0.1373 | Precision: 87.21%]\u001B[0m\n"
     ]
    },
    {
     "name": "stdout",
     "output_type": "stream",
     "text": [
      "Epoch 65 | Avg Loss: 0.2783 | Avg Precision: 87.21%\n"
     ]
    },
    {
     "name": "stderr",
     "output_type": "stream",
     "text": [
      "Train: 100%|\u001B[32m████████████████████████\u001B[0m| 295/295 [00:53<00:00,  5.48batch/s, Loss: 0.1358 | Precision: 87.22%]\u001B[0m\n"
     ]
    },
    {
     "name": "stdout",
     "output_type": "stream",
     "text": [
      "Epoch 66 | Avg Loss: 0.2778 | Avg Precision: 87.24%\n"
     ]
    },
    {
     "name": "stderr",
     "output_type": "stream",
     "text": [
      "Validate: 100%|\u001B[34m███████████████████████\u001B[0m| 74/74 [00:11<00:00,  6.34batch/s, Loss: 0.3166 | Precision: 87.03%]\u001B[0m\n"
     ]
    },
    {
     "name": "stdout",
     "output_type": "stream",
     "text": [
      "Epoch 66 | Avg Loss: 0.2924 | Avg Precision: 87.15% | Patience: 5\n"
     ]
    },
    {
     "name": "stderr",
     "output_type": "stream",
     "text": [
      "Train: 100%|\u001B[32m████████████████████████\u001B[0m| 295/295 [00:53<00:00,  5.48batch/s, Loss: 0.1364 | Precision: 87.24%]\u001B[0m\n"
     ]
    },
    {
     "name": "stdout",
     "output_type": "stream",
     "text": [
      "Epoch 67 | Avg Loss: 0.2777 | Avg Precision: 87.23%\n"
     ]
    },
    {
     "name": "stderr",
     "output_type": "stream",
     "text": [
      "Train: 100%|\u001B[32m████████████████████████\u001B[0m| 295/295 [00:53<00:00,  5.47batch/s, Loss: 0.1363 | Precision: 87.22%]\u001B[0m\n"
     ]
    },
    {
     "name": "stdout",
     "output_type": "stream",
     "text": [
      "Epoch 68 | Avg Loss: 0.2774 | Avg Precision: 87.26%\n"
     ]
    },
    {
     "name": "stderr",
     "output_type": "stream",
     "text": [
      "Validate: 100%|\u001B[34m███████████████████████\u001B[0m| 74/74 [00:11<00:00,  6.41batch/s, Loss: 0.3176 | Precision: 87.12%]\u001B[0m\n"
     ]
    },
    {
     "name": "stdout",
     "output_type": "stream",
     "text": [
      "Epoch 68 | Avg Loss: 0.2929 | Avg Precision: 87.24% | Patience: 6\n"
     ]
    },
    {
     "name": "stderr",
     "output_type": "stream",
     "text": [
      "Train: 100%|\u001B[32m████████████████████████\u001B[0m| 295/295 [00:53<00:00,  5.49batch/s, Loss: 0.1387 | Precision: 87.34%]\u001B[0m\n"
     ]
    },
    {
     "name": "stdout",
     "output_type": "stream",
     "text": [
      "Epoch 69 | Avg Loss: 0.2764 | Avg Precision: 87.35%\n"
     ]
    },
    {
     "name": "stderr",
     "output_type": "stream",
     "text": [
      "Train: 100%|\u001B[32m████████████████████████\u001B[0m| 295/295 [00:53<00:00,  5.47batch/s, Loss: 0.1312 | Precision: 87.37%]\u001B[0m\n"
     ]
    },
    {
     "name": "stdout",
     "output_type": "stream",
     "text": [
      "Epoch 70 | Avg Loss: 0.2759 | Avg Precision: 87.38%\n"
     ]
    },
    {
     "name": "stderr",
     "output_type": "stream",
     "text": [
      "Validate: 100%|\u001B[34m███████████████████████\u001B[0m| 74/74 [00:11<00:00,  6.46batch/s, Loss: 0.3122 | Precision: 87.25%]\u001B[0m\n"
     ]
    },
    {
     "name": "stdout",
     "output_type": "stream",
     "text": [
      "Epoch 70 | Avg Loss: 0.2888 | Avg Precision: 87.39% | Patience: 0\n"
     ]
    },
    {
     "name": "stderr",
     "output_type": "stream",
     "text": [
      "Train: 100%|\u001B[32m████████████████████████\u001B[0m| 295/295 [00:53<00:00,  5.49batch/s, Loss: 0.1309 | Precision: 87.38%]\u001B[0m\n"
     ]
    },
    {
     "name": "stdout",
     "output_type": "stream",
     "text": [
      "Epoch 71 | Avg Loss: 0.2758 | Avg Precision: 87.40%\n"
     ]
    },
    {
     "name": "stderr",
     "output_type": "stream",
     "text": [
      "Train: 100%|\u001B[32m████████████████████████\u001B[0m| 295/295 [00:53<00:00,  5.48batch/s, Loss: 0.1252 | Precision: 87.39%]\u001B[0m\n"
     ]
    },
    {
     "name": "stdout",
     "output_type": "stream",
     "text": [
      "Epoch 72 | Avg Loss: 0.2753 | Avg Precision: 87.41%\n"
     ]
    },
    {
     "name": "stderr",
     "output_type": "stream",
     "text": [
      "Validate: 100%|\u001B[34m███████████████████████\u001B[0m| 74/74 [00:11<00:00,  6.41batch/s, Loss: 0.3091 | Precision: 87.28%]\u001B[0m\n"
     ]
    },
    {
     "name": "stdout",
     "output_type": "stream",
     "text": [
      "Epoch 72 | Avg Loss: 0.2881 | Avg Precision: 87.41% | Patience: 0\n"
     ]
    },
    {
     "name": "stderr",
     "output_type": "stream",
     "text": [
      "Train: 100%|\u001B[32m████████████████████████\u001B[0m| 295/295 [00:53<00:00,  5.48batch/s, Loss: 0.1242 | Precision: 87.39%]\u001B[0m\n"
     ]
    },
    {
     "name": "stdout",
     "output_type": "stream",
     "text": [
      "Epoch 73 | Avg Loss: 0.2751 | Avg Precision: 87.39%\n"
     ]
    },
    {
     "name": "stderr",
     "output_type": "stream",
     "text": [
      "Train: 100%|\u001B[32m████████████████████████\u001B[0m| 295/295 [00:53<00:00,  5.48batch/s, Loss: 0.1210 | Precision: 87.39%]\u001B[0m\n"
     ]
    },
    {
     "name": "stdout",
     "output_type": "stream",
     "text": [
      "Epoch 74 | Avg Loss: 0.2749 | Avg Precision: 87.38%\n"
     ]
    },
    {
     "name": "stderr",
     "output_type": "stream",
     "text": [
      "Validate: 100%|\u001B[34m███████████████████████\u001B[0m| 74/74 [00:11<00:00,  6.31batch/s, Loss: 0.3085 | Precision: 87.32%]\u001B[0m\n"
     ]
    },
    {
     "name": "stdout",
     "output_type": "stream",
     "text": [
      "Epoch 74 | Avg Loss: 0.2870 | Avg Precision: 87.47% | Patience: 0\n"
     ]
    },
    {
     "name": "stderr",
     "output_type": "stream",
     "text": [
      "Train: 100%|\u001B[32m████████████████████████\u001B[0m| 295/295 [00:53<00:00,  5.48batch/s, Loss: 0.1216 | Precision: 87.43%]\u001B[0m\n"
     ]
    },
    {
     "name": "stdout",
     "output_type": "stream",
     "text": [
      "Epoch 75 | Avg Loss: 0.2744 | Avg Precision: 87.45%\n"
     ]
    },
    {
     "name": "stderr",
     "output_type": "stream",
     "text": [
      "Train: 100%|\u001B[32m████████████████████████\u001B[0m| 295/295 [00:53<00:00,  5.48batch/s, Loss: 0.1196 | Precision: 87.42%]\u001B[0m\n"
     ]
    },
    {
     "name": "stdout",
     "output_type": "stream",
     "text": [
      "Epoch 76 | Avg Loss: 0.2744 | Avg Precision: 87.42%\n"
     ]
    },
    {
     "name": "stderr",
     "output_type": "stream",
     "text": [
      "Validate: 100%|\u001B[34m███████████████████████\u001B[0m| 74/74 [00:11<00:00,  6.36batch/s, Loss: 0.3083 | Precision: 87.32%]\u001B[0m\n"
     ]
    },
    {
     "name": "stdout",
     "output_type": "stream",
     "text": [
      "Epoch 76 | Avg Loss: 0.2883 | Avg Precision: 87.48% | Patience: 0\n"
     ]
    },
    {
     "name": "stderr",
     "output_type": "stream",
     "text": [
      "Train: 100%|\u001B[32m████████████████████████\u001B[0m| 295/295 [00:53<00:00,  5.50batch/s, Loss: 0.1190 | Precision: 87.44%]\u001B[0m\n"
     ]
    },
    {
     "name": "stdout",
     "output_type": "stream",
     "text": [
      "Epoch 77 | Avg Loss: 0.2743 | Avg Precision: 87.45%\n"
     ]
    },
    {
     "name": "stderr",
     "output_type": "stream",
     "text": [
      "Train: 100%|\u001B[32m████████████████████████\u001B[0m| 295/295 [00:53<00:00,  5.48batch/s, Loss: 0.1130 | Precision: 87.43%]\u001B[0m\n"
     ]
    },
    {
     "name": "stdout",
     "output_type": "stream",
     "text": [
      "Epoch 78 | Avg Loss: 0.2740 | Avg Precision: 87.42%\n"
     ]
    },
    {
     "name": "stderr",
     "output_type": "stream",
     "text": [
      "Validate: 100%|\u001B[34m███████████████████████\u001B[0m| 74/74 [00:11<00:00,  6.46batch/s, Loss: 0.3082 | Precision: 87.35%]\u001B[0m\n"
     ]
    },
    {
     "name": "stdout",
     "output_type": "stream",
     "text": [
      "Epoch 78 | Avg Loss: 0.2888 | Avg Precision: 87.51% | Patience: 0\n"
     ]
    },
    {
     "name": "stderr",
     "output_type": "stream",
     "text": [
      "Train: 100%|\u001B[32m████████████████████████\u001B[0m| 295/295 [00:53<00:00,  5.50batch/s, Loss: 0.1196 | Precision: 87.44%]\u001B[0m\n"
     ]
    },
    {
     "name": "stdout",
     "output_type": "stream",
     "text": [
      "Epoch 79 | Avg Loss: 0.2736 | Avg Precision: 87.44%\n"
     ]
    },
    {
     "name": "stderr",
     "output_type": "stream",
     "text": [
      "Train: 100%|\u001B[32m████████████████████████\u001B[0m| 295/295 [00:53<00:00,  5.49batch/s, Loss: 0.1206 | Precision: 87.45%]\u001B[0m\n"
     ]
    },
    {
     "name": "stdout",
     "output_type": "stream",
     "text": [
      "Epoch 80 | Avg Loss: 0.2734 | Avg Precision: 87.45%\n"
     ]
    },
    {
     "name": "stderr",
     "output_type": "stream",
     "text": [
      "Validate: 100%|\u001B[34m███████████████████████\u001B[0m| 74/74 [00:11<00:00,  6.44batch/s, Loss: 0.3113 | Precision: 87.40%]\u001B[0m\n"
     ]
    },
    {
     "name": "stdout",
     "output_type": "stream",
     "text": [
      "Epoch 80 | Avg Loss: 0.2889 | Avg Precision: 87.53% | Patience: 0\n"
     ]
    },
    {
     "name": "stderr",
     "output_type": "stream",
     "text": [
      "Train: 100%|\u001B[32m████████████████████████\u001B[0m| 295/295 [00:53<00:00,  5.49batch/s, Loss: 0.1243 | Precision: 87.46%]\u001B[0m\n"
     ]
    },
    {
     "name": "stdout",
     "output_type": "stream",
     "text": [
      "Epoch 81 | Avg Loss: 0.2732 | Avg Precision: 87.48%\n"
     ]
    },
    {
     "name": "stderr",
     "output_type": "stream",
     "text": [
      "Train: 100%|\u001B[32m████████████████████████\u001B[0m| 295/295 [00:53<00:00,  5.48batch/s, Loss: 0.1284 | Precision: 87.47%]\u001B[0m\n"
     ]
    },
    {
     "name": "stdout",
     "output_type": "stream",
     "text": [
      "Epoch 82 | Avg Loss: 0.2729 | Avg Precision: 87.49%\n"
     ]
    },
    {
     "name": "stderr",
     "output_type": "stream",
     "text": [
      "Validate: 100%|\u001B[34m███████████████████████\u001B[0m| 74/74 [00:11<00:00,  6.44batch/s, Loss: 0.3119 | Precision: 87.39%]\u001B[0m\n"
     ]
    },
    {
     "name": "stdout",
     "output_type": "stream",
     "text": [
      "Epoch 82 | Avg Loss: 0.2886 | Avg Precision: 87.48% | Patience: 1\n"
     ]
    },
    {
     "name": "stderr",
     "output_type": "stream",
     "text": [
      "Train: 100%|\u001B[32m████████████████████████\u001B[0m| 295/295 [00:53<00:00,  5.50batch/s, Loss: 0.1254 | Precision: 87.48%]\u001B[0m\n"
     ]
    },
    {
     "name": "stdout",
     "output_type": "stream",
     "text": [
      "Epoch 83 | Avg Loss: 0.2727 | Avg Precision: 87.49%\n"
     ]
    },
    {
     "name": "stderr",
     "output_type": "stream",
     "text": [
      "Train: 100%|\u001B[32m████████████████████████\u001B[0m| 295/295 [00:53<00:00,  5.48batch/s, Loss: 0.1271 | Precision: 87.49%]\u001B[0m\n"
     ]
    },
    {
     "name": "stdout",
     "output_type": "stream",
     "text": [
      "Epoch 84 | Avg Loss: 0.2723 | Avg Precision: 87.51%\n"
     ]
    },
    {
     "name": "stderr",
     "output_type": "stream",
     "text": [
      "Validate: 100%|\u001B[34m███████████████████████\u001B[0m| 74/74 [00:11<00:00,  6.35batch/s, Loss: 0.3146 | Precision: 87.52%]\u001B[0m\n"
     ]
    },
    {
     "name": "stdout",
     "output_type": "stream",
     "text": [
      "Epoch 84 | Avg Loss: 0.2881 | Avg Precision: 87.59% | Patience: 0\n"
     ]
    },
    {
     "name": "stderr",
     "output_type": "stream",
     "text": [
      "Train: 100%|\u001B[32m████████████████████████\u001B[0m| 295/295 [00:53<00:00,  5.48batch/s, Loss: 0.1345 | Precision: 87.50%]\u001B[0m\n"
     ]
    },
    {
     "name": "stdout",
     "output_type": "stream",
     "text": [
      "Epoch 85 | Avg Loss: 0.2721 | Avg Precision: 87.53%\n"
     ]
    },
    {
     "name": "stderr",
     "output_type": "stream",
     "text": [
      "Train: 100%|\u001B[32m████████████████████████\u001B[0m| 295/295 [00:53<00:00,  5.49batch/s, Loss: 0.1342 | Precision: 87.49%]\u001B[0m\n"
     ]
    },
    {
     "name": "stdout",
     "output_type": "stream",
     "text": [
      "Epoch 86 | Avg Loss: 0.2720 | Avg Precision: 87.50%\n"
     ]
    },
    {
     "name": "stderr",
     "output_type": "stream",
     "text": [
      "Validate: 100%|\u001B[34m███████████████████████\u001B[0m| 74/74 [00:11<00:00,  6.44batch/s, Loss: 0.3100 | Precision: 87.46%]\u001B[0m\n"
     ]
    },
    {
     "name": "stdout",
     "output_type": "stream",
     "text": [
      "Epoch 86 | Avg Loss: 0.2880 | Avg Precision: 87.53% | Patience: 1\n"
     ]
    },
    {
     "name": "stderr",
     "output_type": "stream",
     "text": [
      "Train: 100%|\u001B[32m████████████████████████\u001B[0m| 295/295 [00:53<00:00,  5.47batch/s, Loss: 0.1364 | Precision: 87.54%]\u001B[0m\n"
     ]
    },
    {
     "name": "stdout",
     "output_type": "stream",
     "text": [
      "Epoch 87 | Avg Loss: 0.2717 | Avg Precision: 87.55%\n"
     ]
    },
    {
     "name": "stderr",
     "output_type": "stream",
     "text": [
      "Train: 100%|\u001B[32m████████████████████████\u001B[0m| 295/295 [00:53<00:00,  5.48batch/s, Loss: 0.1322 | Precision: 87.51%]\u001B[0m\n"
     ]
    },
    {
     "name": "stdout",
     "output_type": "stream",
     "text": [
      "Epoch 88 | Avg Loss: 0.2716 | Avg Precision: 87.52%\n"
     ]
    },
    {
     "name": "stderr",
     "output_type": "stream",
     "text": [
      "Validate: 100%|\u001B[34m███████████████████████\u001B[0m| 74/74 [00:11<00:00,  6.44batch/s, Loss: 0.3065 | Precision: 87.50%]\u001B[0m\n"
     ]
    },
    {
     "name": "stdout",
     "output_type": "stream",
     "text": [
      "Epoch 88 | Avg Loss: 0.2860 | Avg Precision: 87.56% | Patience: 2\n"
     ]
    },
    {
     "name": "stderr",
     "output_type": "stream",
     "text": [
      "Train: 100%|\u001B[32m████████████████████████\u001B[0m| 295/295 [00:53<00:00,  5.49batch/s, Loss: 0.1346 | Precision: 87.56%]\u001B[0m\n"
     ]
    },
    {
     "name": "stdout",
     "output_type": "stream",
     "text": [
      "Epoch 89 | Avg Loss: 0.2712 | Avg Precision: 87.55%\n"
     ]
    },
    {
     "name": "stderr",
     "output_type": "stream",
     "text": [
      "Train: 100%|\u001B[32m████████████████████████\u001B[0m| 295/295 [00:53<00:00,  5.50batch/s, Loss: 0.1274 | Precision: 87.59%]\u001B[0m\n"
     ]
    },
    {
     "name": "stdout",
     "output_type": "stream",
     "text": [
      "Epoch 90 | Avg Loss: 0.2707 | Avg Precision: 87.57%\n"
     ]
    },
    {
     "name": "stderr",
     "output_type": "stream",
     "text": [
      "Validate: 100%|\u001B[34m███████████████████████\u001B[0m| 74/74 [00:11<00:00,  6.40batch/s, Loss: 0.3020 | Precision: 87.51%]\u001B[0m\n"
     ]
    },
    {
     "name": "stdout",
     "output_type": "stream",
     "text": [
      "Epoch 90 | Avg Loss: 0.2852 | Avg Precision: 87.49% | Patience: 3\n"
     ]
    },
    {
     "name": "stderr",
     "output_type": "stream",
     "text": [
      "Train: 100%|\u001B[32m████████████████████████\u001B[0m| 295/295 [00:53<00:00,  5.48batch/s, Loss: 0.1292 | Precision: 87.60%]\u001B[0m\n"
     ]
    },
    {
     "name": "stdout",
     "output_type": "stream",
     "text": [
      "Epoch 91 | Avg Loss: 0.2705 | Avg Precision: 87.57%\n"
     ]
    },
    {
     "name": "stderr",
     "output_type": "stream",
     "text": [
      "Train: 100%|\u001B[32m████████████████████████\u001B[0m| 295/295 [00:53<00:00,  5.47batch/s, Loss: 0.1255 | Precision: 87.62%]\u001B[0m\n"
     ]
    },
    {
     "name": "stdout",
     "output_type": "stream",
     "text": [
      "Epoch 92 | Avg Loss: 0.2703 | Avg Precision: 87.60%\n"
     ]
    },
    {
     "name": "stderr",
     "output_type": "stream",
     "text": [
      "Validate: 100%|\u001B[34m███████████████████████\u001B[0m| 74/74 [00:11<00:00,  6.41batch/s, Loss: 0.3005 | Precision: 87.55%]\u001B[0m\n"
     ]
    },
    {
     "name": "stdout",
     "output_type": "stream",
     "text": [
      "Epoch 92 | Avg Loss: 0.2852 | Avg Precision: 87.53% | Patience: 4\n"
     ]
    },
    {
     "name": "stderr",
     "output_type": "stream",
     "text": [
      "Train: 100%|\u001B[32m████████████████████████\u001B[0m| 295/295 [00:53<00:00,  5.50batch/s, Loss: 0.1284 | Precision: 87.69%]\u001B[0m\n"
     ]
    },
    {
     "name": "stdout",
     "output_type": "stream",
     "text": [
      "Epoch 93 | Avg Loss: 0.2696 | Avg Precision: 87.66%\n"
     ]
    },
    {
     "name": "stderr",
     "output_type": "stream",
     "text": [
      "Train: 100%|\u001B[32m████████████████████████\u001B[0m| 295/295 [00:53<00:00,  5.50batch/s, Loss: 0.1304 | Precision: 87.68%]\u001B[0m\n"
     ]
    },
    {
     "name": "stdout",
     "output_type": "stream",
     "text": [
      "Epoch 94 | Avg Loss: 0.2691 | Avg Precision: 87.63%\n"
     ]
    },
    {
     "name": "stderr",
     "output_type": "stream",
     "text": [
      "Validate: 100%|\u001B[34m███████████████████████\u001B[0m| 74/74 [00:11<00:00,  6.44batch/s, Loss: 0.2975 | Precision: 87.52%]\u001B[0m\n"
     ]
    },
    {
     "name": "stdout",
     "output_type": "stream",
     "text": [
      "Epoch 94 | Avg Loss: 0.2850 | Avg Precision: 87.52% | Patience: 5\n"
     ]
    },
    {
     "name": "stderr",
     "output_type": "stream",
     "text": [
      "Train: 100%|\u001B[32m████████████████████████\u001B[0m| 295/295 [00:53<00:00,  5.50batch/s, Loss: 0.1296 | Precision: 87.70%]\u001B[0m\n"
     ]
    },
    {
     "name": "stdout",
     "output_type": "stream",
     "text": [
      "Epoch 95 | Avg Loss: 0.2689 | Avg Precision: 87.67%\n"
     ]
    },
    {
     "name": "stderr",
     "output_type": "stream",
     "text": [
      "Train: 100%|\u001B[32m████████████████████████\u001B[0m| 295/295 [00:53<00:00,  5.50batch/s, Loss: 0.1318 | Precision: 87.72%]\u001B[0m\n"
     ]
    },
    {
     "name": "stdout",
     "output_type": "stream",
     "text": [
      "Epoch 96 | Avg Loss: 0.2686 | Avg Precision: 87.68%\n"
     ]
    },
    {
     "name": "stderr",
     "output_type": "stream",
     "text": [
      "Validate: 100%|\u001B[34m███████████████████████\u001B[0m| 74/74 [00:11<00:00,  6.37batch/s, Loss: 0.3007 | Precision: 87.54%]\u001B[0m\n"
     ]
    },
    {
     "name": "stdout",
     "output_type": "stream",
     "text": [
      "Epoch 96 | Avg Loss: 0.2864 | Avg Precision: 87.54% | Patience: 6\n"
     ]
    },
    {
     "name": "stderr",
     "output_type": "stream",
     "text": [
      "Train: 100%|\u001B[32m████████████████████████\u001B[0m| 295/295 [00:53<00:00,  5.52batch/s, Loss: 0.1339 | Precision: 87.76%]\u001B[0m\n"
     ]
    },
    {
     "name": "stdout",
     "output_type": "stream",
     "text": [
      "Epoch 97 | Avg Loss: 0.2679 | Avg Precision: 87.75%\n"
     ]
    },
    {
     "name": "stderr",
     "output_type": "stream",
     "text": [
      "Train: 100%|\u001B[32m████████████████████████\u001B[0m| 295/295 [00:53<00:00,  5.50batch/s, Loss: 0.1362 | Precision: 87.79%]\u001B[0m\n"
     ]
    },
    {
     "name": "stdout",
     "output_type": "stream",
     "text": [
      "Epoch 98 | Avg Loss: 0.2675 | Avg Precision: 87.78%\n"
     ]
    },
    {
     "name": "stderr",
     "output_type": "stream",
     "text": [
      "Validate: 100%|\u001B[34m███████████████████████\u001B[0m| 74/74 [00:11<00:00,  6.47batch/s, Loss: 0.3040 | Precision: 87.61%]\u001B[0m\n"
     ]
    },
    {
     "name": "stdout",
     "output_type": "stream",
     "text": [
      "Epoch 98 | Avg Loss: 0.2869 | Avg Precision: 87.61% | Patience: 0\n"
     ]
    },
    {
     "name": "stderr",
     "output_type": "stream",
     "text": [
      "Train: 100%|\u001B[32m████████████████████████\u001B[0m| 295/295 [00:53<00:00,  5.51batch/s, Loss: 0.1378 | Precision: 87.81%]\u001B[0m\n"
     ]
    },
    {
     "name": "stdout",
     "output_type": "stream",
     "text": [
      "Epoch 99 | Avg Loss: 0.2672 | Avg Precision: 87.79%\n"
     ]
    },
    {
     "name": "stderr",
     "output_type": "stream",
     "text": [
      "Train: 100%|\u001B[32m████████████████████████\u001B[0m| 295/295 [00:53<00:00,  5.50batch/s, Loss: 0.1361 | Precision: 87.84%]\u001B[0m\n"
     ]
    },
    {
     "name": "stdout",
     "output_type": "stream",
     "text": [
      "Epoch 100 | Avg Loss: 0.2670 | Avg Precision: 87.83%\n"
     ]
    },
    {
     "name": "stderr",
     "output_type": "stream",
     "text": [
      "Validate: 100%|\u001B[34m███████████████████████\u001B[0m| 74/74 [00:11<00:00,  6.42batch/s, Loss: 0.3025 | Precision: 87.67%]\u001B[0m"
     ]
    },
    {
     "name": "stdout",
     "output_type": "stream",
     "text": [
      "Epoch 100 | Avg Loss: 0.2867 | Avg Precision: 87.65% | Patience: 0\n",
      "Training Complete - Best Validate Precision: 87.65%\n"
     ]
    },
    {
     "name": "stderr",
     "output_type": "stream",
     "text": [
      "\n"
     ]
    }
   ],
   "source": [
    "model = LSTMnet(9, 100, 1, 4)\n",
    "model = model.to(device)\n",
    "criterion = nn.CrossEntropyLoss()\n",
    "optimizer = optim.Adam(model.parameters(), lr=.01)\n",
    "scheduler = ReduceLROnPlateau(optimizer, 'max', factor=.9, patience=1, min_lr=.001)\n",
    "\n",
    "model14 = train_validate(model, criterion, optimizer, scheduler)\n",
    "torch.save(model14.state_dict(), '.\\\\models\\\\downsample\\\\lstm\\\\model14.pth')"
   ]
  },
  {
   "cell_type": "markdown",
   "id": "349c5055-a779-4969-81ef-3f3d04c82a32",
   "metadata": {
    "jp-MarkdownHeadingCollapsed": true
   },
   "source": [
    "#### Model 15 - Lookback 30 - Batch 512"
   ]
  },
  {
   "cell_type": "code",
   "execution_count": 36,
   "id": "9b680048-76f2-4037-9df8-9b6962efa9b6",
   "metadata": {},
   "outputs": [
    {
     "name": "stderr",
     "output_type": "stream",
     "text": [
      "Train: 100%|\u001B[32m████████████████████████\u001B[0m| 295/295 [00:54<00:00,  5.45batch/s, Loss: 0.4262 | Precision: 74.88%]\u001B[0m\n"
     ]
    },
    {
     "name": "stdout",
     "output_type": "stream",
     "text": [
      "Epoch 1 | Avg Loss: 0.4942 | Avg Precision: 71.89%\n"
     ]
    },
    {
     "name": "stderr",
     "output_type": "stream",
     "text": [
      "Train: 100%|\u001B[32m████████████████████████\u001B[0m| 295/295 [00:54<00:00,  5.46batch/s, Loss: 0.2509 | Precision: 80.30%]\u001B[0m\n"
     ]
    },
    {
     "name": "stdout",
     "output_type": "stream",
     "text": [
      "Epoch 2 | Avg Loss: 0.3978 | Avg Precision: 79.37%\n"
     ]
    },
    {
     "name": "stderr",
     "output_type": "stream",
     "text": [
      "Validate: 100%|\u001B[34m███████████████████████\u001B[0m| 74/74 [00:11<00:00,  6.41batch/s, Loss: 0.4953 | Precision: 75.67%]\u001B[0m\n"
     ]
    },
    {
     "name": "stdout",
     "output_type": "stream",
     "text": [
      "Epoch 2 | Avg Loss: 0.5060 | Avg Precision: 75.86% | Patience: 0\n"
     ]
    },
    {
     "name": "stderr",
     "output_type": "stream",
     "text": [
      "Train: 100%|\u001B[32m████████████████████████\u001B[0m| 295/295 [00:53<00:00,  5.51batch/s, Loss: 0.2675 | Precision: 80.18%]\u001B[0m\n"
     ]
    },
    {
     "name": "stdout",
     "output_type": "stream",
     "text": [
      "Epoch 3 | Avg Loss: 0.4028 | Avg Precision: 78.91%\n"
     ]
    },
    {
     "name": "stderr",
     "output_type": "stream",
     "text": [
      "Train: 100%|\u001B[32m████████████████████████\u001B[0m| 295/295 [00:53<00:00,  5.48batch/s, Loss: 0.3383 | Precision: 81.52%]\u001B[0m\n"
     ]
    },
    {
     "name": "stdout",
     "output_type": "stream",
     "text": [
      "Epoch 4 | Avg Loss: 0.3802 | Avg Precision: 81.16%\n"
     ]
    },
    {
     "name": "stderr",
     "output_type": "stream",
     "text": [
      "Validate: 100%|\u001B[34m███████████████████████\u001B[0m| 74/74 [00:11<00:00,  6.40batch/s, Loss: 0.3816 | Precision: 81.31%]\u001B[0m\n"
     ]
    },
    {
     "name": "stdout",
     "output_type": "stream",
     "text": [
      "Epoch 4 | Avg Loss: 0.3772 | Avg Precision: 81.40% | Patience: 0\n"
     ]
    },
    {
     "name": "stderr",
     "output_type": "stream",
     "text": [
      "Train: 100%|\u001B[32m████████████████████████\u001B[0m| 295/295 [00:53<00:00,  5.50batch/s, Loss: 0.2718 | Precision: 82.46%]\u001B[0m\n"
     ]
    },
    {
     "name": "stdout",
     "output_type": "stream",
     "text": [
      "Epoch 5 | Avg Loss: 0.3632 | Avg Precision: 82.14%\n"
     ]
    },
    {
     "name": "stderr",
     "output_type": "stream",
     "text": [
      "Train: 100%|\u001B[32m████████████████████████\u001B[0m| 295/295 [00:53<00:00,  5.48batch/s, Loss: 0.3135 | Precision: 82.92%]\u001B[0m\n"
     ]
    },
    {
     "name": "stdout",
     "output_type": "stream",
     "text": [
      "Epoch 6 | Avg Loss: 0.3550 | Avg Precision: 82.59%\n"
     ]
    },
    {
     "name": "stderr",
     "output_type": "stream",
     "text": [
      "Validate: 100%|\u001B[34m███████████████████████\u001B[0m| 74/74 [00:11<00:00,  6.44batch/s, Loss: 0.3682 | Precision: 81.26%]\u001B[0m\n"
     ]
    },
    {
     "name": "stdout",
     "output_type": "stream",
     "text": [
      "Epoch 6 | Avg Loss: 0.3720 | Avg Precision: 81.21% | Patience: 1\n"
     ]
    },
    {
     "name": "stderr",
     "output_type": "stream",
     "text": [
      "Train: 100%|\u001B[32m████████████████████████\u001B[0m| 295/295 [00:53<00:00,  5.49batch/s, Loss: 0.2968 | Precision: 83.23%]\u001B[0m\n"
     ]
    },
    {
     "name": "stdout",
     "output_type": "stream",
     "text": [
      "Epoch 7 | Avg Loss: 0.3504 | Avg Precision: 83.08%\n"
     ]
    },
    {
     "name": "stderr",
     "output_type": "stream",
     "text": [
      "Train: 100%|\u001B[32m████████████████████████\u001B[0m| 295/295 [00:53<00:00,  5.51batch/s, Loss: 0.2819 | Precision: 83.54%]\u001B[0m\n"
     ]
    },
    {
     "name": "stdout",
     "output_type": "stream",
     "text": [
      "Epoch 8 | Avg Loss: 0.3442 | Avg Precision: 83.39%\n"
     ]
    },
    {
     "name": "stderr",
     "output_type": "stream",
     "text": [
      "Validate: 100%|\u001B[34m███████████████████████\u001B[0m| 74/74 [00:11<00:00,  6.39batch/s, Loss: 0.3621 | Precision: 82.06%]\u001B[0m\n"
     ]
    },
    {
     "name": "stdout",
     "output_type": "stream",
     "text": [
      "Epoch 8 | Avg Loss: 0.3547 | Avg Precision: 82.10% | Patience: 0\n"
     ]
    },
    {
     "name": "stderr",
     "output_type": "stream",
     "text": [
      "Train: 100%|\u001B[32m████████████████████████\u001B[0m| 295/295 [00:53<00:00,  5.51batch/s, Loss: 0.2823 | Precision: 83.69%]\u001B[0m\n"
     ]
    },
    {
     "name": "stdout",
     "output_type": "stream",
     "text": [
      "Epoch 9 | Avg Loss: 0.3404 | Avg Precision: 83.45%\n"
     ]
    },
    {
     "name": "stderr",
     "output_type": "stream",
     "text": [
      "Train: 100%|\u001B[32m████████████████████████\u001B[0m| 295/295 [00:53<00:00,  5.47batch/s, Loss: 0.2325 | Precision: 83.88%]\u001B[0m\n"
     ]
    },
    {
     "name": "stdout",
     "output_type": "stream",
     "text": [
      "Epoch 10 | Avg Loss: 0.3374 | Avg Precision: 83.78%\n"
     ]
    },
    {
     "name": "stderr",
     "output_type": "stream",
     "text": [
      "Validate: 100%|\u001B[34m███████████████████████\u001B[0m| 74/74 [00:11<00:00,  6.40batch/s, Loss: 0.3381 | Precision: 83.83%]\u001B[0m\n"
     ]
    },
    {
     "name": "stdout",
     "output_type": "stream",
     "text": [
      "Epoch 10 | Avg Loss: 0.3358 | Avg Precision: 83.84% | Patience: 0\n"
     ]
    },
    {
     "name": "stderr",
     "output_type": "stream",
     "text": [
      "Train: 100%|\u001B[32m████████████████████████\u001B[0m| 295/295 [00:53<00:00,  5.51batch/s, Loss: 0.2282 | Precision: 84.20%]\u001B[0m\n"
     ]
    },
    {
     "name": "stdout",
     "output_type": "stream",
     "text": [
      "Epoch 11 | Avg Loss: 0.3324 | Avg Precision: 84.11%\n"
     ]
    },
    {
     "name": "stderr",
     "output_type": "stream",
     "text": [
      "Train: 100%|\u001B[32m████████████████████████\u001B[0m| 295/295 [00:53<00:00,  5.49batch/s, Loss: 0.2384 | Precision: 84.42%]\u001B[0m\n"
     ]
    },
    {
     "name": "stdout",
     "output_type": "stream",
     "text": [
      "Epoch 12 | Avg Loss: 0.3282 | Avg Precision: 84.37%\n"
     ]
    },
    {
     "name": "stderr",
     "output_type": "stream",
     "text": [
      "Validate: 100%|\u001B[34m███████████████████████\u001B[0m| 74/74 [00:11<00:00,  6.41batch/s, Loss: 0.3278 | Precision: 84.27%]\u001B[0m\n"
     ]
    },
    {
     "name": "stdout",
     "output_type": "stream",
     "text": [
      "Epoch 12 | Avg Loss: 0.3252 | Avg Precision: 84.28% | Patience: 0\n"
     ]
    },
    {
     "name": "stderr",
     "output_type": "stream",
     "text": [
      "Train: 100%|\u001B[32m████████████████████████\u001B[0m| 295/295 [00:53<00:00,  5.51batch/s, Loss: 0.2187 | Precision: 84.54%]\u001B[0m\n"
     ]
    },
    {
     "name": "stdout",
     "output_type": "stream",
     "text": [
      "Epoch 13 | Avg Loss: 0.3248 | Avg Precision: 84.50%\n"
     ]
    },
    {
     "name": "stderr",
     "output_type": "stream",
     "text": [
      "Train: 100%|\u001B[32m████████████████████████\u001B[0m| 295/295 [00:53<00:00,  5.51batch/s, Loss: 0.2492 | Precision: 84.66%]\u001B[0m\n"
     ]
    },
    {
     "name": "stdout",
     "output_type": "stream",
     "text": [
      "Epoch 14 | Avg Loss: 0.3236 | Avg Precision: 84.65%\n"
     ]
    },
    {
     "name": "stderr",
     "output_type": "stream",
     "text": [
      "Validate: 100%|\u001B[34m███████████████████████\u001B[0m| 74/74 [00:11<00:00,  6.50batch/s, Loss: 0.3447 | Precision: 82.80%]\u001B[0m\n"
     ]
    },
    {
     "name": "stdout",
     "output_type": "stream",
     "text": [
      "Epoch 14 | Avg Loss: 0.3394 | Avg Precision: 82.87% | Patience: 1\n"
     ]
    },
    {
     "name": "stderr",
     "output_type": "stream",
     "text": [
      "Train: 100%|\u001B[32m████████████████████████\u001B[0m| 295/295 [00:53<00:00,  5.50batch/s, Loss: 0.2264 | Precision: 84.79%]\u001B[0m\n"
     ]
    },
    {
     "name": "stdout",
     "output_type": "stream",
     "text": [
      "Epoch 15 | Avg Loss: 0.3220 | Avg Precision: 84.70%\n"
     ]
    },
    {
     "name": "stderr",
     "output_type": "stream",
     "text": [
      "Train: 100%|\u001B[32m████████████████████████\u001B[0m| 295/295 [00:53<00:00,  5.50batch/s, Loss: 0.2204 | Precision: 84.88%]\u001B[0m\n"
     ]
    },
    {
     "name": "stdout",
     "output_type": "stream",
     "text": [
      "Epoch 16 | Avg Loss: 0.3197 | Avg Precision: 84.90%\n"
     ]
    },
    {
     "name": "stderr",
     "output_type": "stream",
     "text": [
      "Validate: 100%|\u001B[34m███████████████████████\u001B[0m| 74/74 [00:11<00:00,  6.40batch/s, Loss: 0.3266 | Precision: 85.35%]\u001B[0m\n"
     ]
    },
    {
     "name": "stdout",
     "output_type": "stream",
     "text": [
      "Epoch 16 | Avg Loss: 0.3151 | Avg Precision: 85.34% | Patience: 0\n"
     ]
    },
    {
     "name": "stderr",
     "output_type": "stream",
     "text": [
      "Train: 100%|\u001B[32m████████████████████████\u001B[0m| 295/295 [00:53<00:00,  5.49batch/s, Loss: 0.2262 | Precision: 84.93%]\u001B[0m\n"
     ]
    },
    {
     "name": "stdout",
     "output_type": "stream",
     "text": [
      "Epoch 17 | Avg Loss: 0.3188 | Avg Precision: 84.94%\n"
     ]
    },
    {
     "name": "stderr",
     "output_type": "stream",
     "text": [
      "Train: 100%|\u001B[32m████████████████████████\u001B[0m| 295/295 [00:53<00:00,  5.49batch/s, Loss: 0.2241 | Precision: 85.00%]\u001B[0m\n"
     ]
    },
    {
     "name": "stdout",
     "output_type": "stream",
     "text": [
      "Epoch 18 | Avg Loss: 0.3172 | Avg Precision: 85.00%\n"
     ]
    },
    {
     "name": "stderr",
     "output_type": "stream",
     "text": [
      "Validate: 100%|\u001B[34m███████████████████████\u001B[0m| 74/74 [00:11<00:00,  6.41batch/s, Loss: 0.3292 | Precision: 85.32%]\u001B[0m\n"
     ]
    },
    {
     "name": "stdout",
     "output_type": "stream",
     "text": [
      "Epoch 18 | Avg Loss: 0.3165 | Avg Precision: 85.31% | Patience: 1\n"
     ]
    },
    {
     "name": "stderr",
     "output_type": "stream",
     "text": [
      "Train: 100%|\u001B[32m████████████████████████\u001B[0m| 295/295 [00:53<00:00,  5.49batch/s, Loss: 0.2185 | Precision: 85.14%]\u001B[0m\n"
     ]
    },
    {
     "name": "stdout",
     "output_type": "stream",
     "text": [
      "Epoch 19 | Avg Loss: 0.3157 | Avg Precision: 85.23%\n"
     ]
    },
    {
     "name": "stderr",
     "output_type": "stream",
     "text": [
      "Train: 100%|\u001B[32m████████████████████████\u001B[0m| 295/295 [00:53<00:00,  5.49batch/s, Loss: 0.2364 | Precision: 85.19%]\u001B[0m\n"
     ]
    },
    {
     "name": "stdout",
     "output_type": "stream",
     "text": [
      "Epoch 20 | Avg Loss: 0.3145 | Avg Precision: 85.18%\n"
     ]
    },
    {
     "name": "stderr",
     "output_type": "stream",
     "text": [
      "Validate: 100%|\u001B[34m███████████████████████\u001B[0m| 74/74 [00:11<00:00,  6.44batch/s, Loss: 0.3365 | Precision: 83.95%]\u001B[0m\n"
     ]
    },
    {
     "name": "stdout",
     "output_type": "stream",
     "text": [
      "Epoch 20 | Avg Loss: 0.3313 | Avg Precision: 83.90% | Patience: 2\n"
     ]
    },
    {
     "name": "stderr",
     "output_type": "stream",
     "text": [
      "Train: 100%|\u001B[32m████████████████████████\u001B[0m| 295/295 [00:53<00:00,  5.50batch/s, Loss: 0.2380 | Precision: 85.21%]\u001B[0m\n"
     ]
    },
    {
     "name": "stdout",
     "output_type": "stream",
     "text": [
      "Epoch 21 | Avg Loss: 0.3125 | Avg Precision: 85.12%\n"
     ]
    },
    {
     "name": "stderr",
     "output_type": "stream",
     "text": [
      "Train: 100%|\u001B[32m████████████████████████\u001B[0m| 295/295 [00:53<00:00,  5.51batch/s, Loss: 0.2387 | Precision: 85.43%]\u001B[0m\n"
     ]
    },
    {
     "name": "stdout",
     "output_type": "stream",
     "text": [
      "Epoch 22 | Avg Loss: 0.3100 | Avg Precision: 85.41%\n"
     ]
    },
    {
     "name": "stderr",
     "output_type": "stream",
     "text": [
      "Validate: 100%|\u001B[34m███████████████████████\u001B[0m| 74/74 [00:11<00:00,  6.44batch/s, Loss: 0.3423 | Precision: 83.08%]\u001B[0m\n"
     ]
    },
    {
     "name": "stdout",
     "output_type": "stream",
     "text": [
      "Epoch 22 | Avg Loss: 0.3361 | Avg Precision: 83.19% | Patience: 3\n"
     ]
    },
    {
     "name": "stderr",
     "output_type": "stream",
     "text": [
      "Train: 100%|\u001B[32m████████████████████████\u001B[0m| 295/295 [00:53<00:00,  5.48batch/s, Loss: 0.2067 | Precision: 85.44%]\u001B[0m\n"
     ]
    },
    {
     "name": "stdout",
     "output_type": "stream",
     "text": [
      "Epoch 23 | Avg Loss: 0.3097 | Avg Precision: 85.32%\n"
     ]
    },
    {
     "name": "stderr",
     "output_type": "stream",
     "text": [
      "Train: 100%|\u001B[32m████████████████████████\u001B[0m| 295/295 [00:53<00:00,  5.50batch/s, Loss: 0.2310 | Precision: 85.58%]\u001B[0m\n"
     ]
    },
    {
     "name": "stdout",
     "output_type": "stream",
     "text": [
      "Epoch 24 | Avg Loss: 0.3073 | Avg Precision: 85.51%\n"
     ]
    },
    {
     "name": "stderr",
     "output_type": "stream",
     "text": [
      "Validate: 100%|\u001B[34m███████████████████████\u001B[0m| 74/74 [00:11<00:00,  6.46batch/s, Loss: 0.3398 | Precision: 84.39%]\u001B[0m\n"
     ]
    },
    {
     "name": "stdout",
     "output_type": "stream",
     "text": [
      "Epoch 24 | Avg Loss: 0.3197 | Avg Precision: 84.41% | Patience: 4\n"
     ]
    },
    {
     "name": "stderr",
     "output_type": "stream",
     "text": [
      "Train: 100%|\u001B[32m████████████████████████\u001B[0m| 295/295 [00:53<00:00,  5.51batch/s, Loss: 0.1931 | Precision: 85.62%]\u001B[0m\n"
     ]
    },
    {
     "name": "stdout",
     "output_type": "stream",
     "text": [
      "Epoch 25 | Avg Loss: 0.3064 | Avg Precision: 85.56%\n"
     ]
    },
    {
     "name": "stderr",
     "output_type": "stream",
     "text": [
      "Train: 100%|\u001B[32m████████████████████████\u001B[0m| 295/295 [00:53<00:00,  5.49batch/s, Loss: 0.2089 | Precision: 85.72%]\u001B[0m\n"
     ]
    },
    {
     "name": "stdout",
     "output_type": "stream",
     "text": [
      "Epoch 26 | Avg Loss: 0.3045 | Avg Precision: 85.69%\n"
     ]
    },
    {
     "name": "stderr",
     "output_type": "stream",
     "text": [
      "Validate: 100%|\u001B[34m███████████████████████\u001B[0m| 74/74 [00:11<00:00,  6.44batch/s, Loss: 0.3432 | Precision: 85.24%]\u001B[0m\n"
     ]
    },
    {
     "name": "stdout",
     "output_type": "stream",
     "text": [
      "Epoch 26 | Avg Loss: 0.3176 | Avg Precision: 85.30% | Patience: 5\n"
     ]
    },
    {
     "name": "stderr",
     "output_type": "stream",
     "text": [
      "Train: 100%|\u001B[32m████████████████████████\u001B[0m| 295/295 [00:53<00:00,  5.49batch/s, Loss: 0.1985 | Precision: 85.86%]\u001B[0m\n"
     ]
    },
    {
     "name": "stdout",
     "output_type": "stream",
     "text": [
      "Epoch 27 | Avg Loss: 0.3032 | Avg Precision: 85.85%\n"
     ]
    },
    {
     "name": "stderr",
     "output_type": "stream",
     "text": [
      "Train: 100%|\u001B[32m████████████████████████\u001B[0m| 295/295 [00:53<00:00,  5.50batch/s, Loss: 0.2400 | Precision: 85.84%]\u001B[0m\n"
     ]
    },
    {
     "name": "stdout",
     "output_type": "stream",
     "text": [
      "Epoch 28 | Avg Loss: 0.3025 | Avg Precision: 85.79%\n"
     ]
    },
    {
     "name": "stderr",
     "output_type": "stream",
     "text": [
      "Validate: 100%|\u001B[34m███████████████████████\u001B[0m| 74/74 [00:11<00:00,  6.47batch/s, Loss: 0.3272 | Precision: 84.82%]\u001B[0m\n"
     ]
    },
    {
     "name": "stdout",
     "output_type": "stream",
     "text": [
      "Epoch 28 | Avg Loss: 0.3134 | Avg Precision: 84.87% | Patience: 6\n"
     ]
    },
    {
     "name": "stderr",
     "output_type": "stream",
     "text": [
      "Train: 100%|\u001B[32m████████████████████████\u001B[0m| 295/295 [00:53<00:00,  5.48batch/s, Loss: 0.1963 | Precision: 86.02%]\u001B[0m\n"
     ]
    },
    {
     "name": "stdout",
     "output_type": "stream",
     "text": [
      "Epoch 29 | Avg Loss: 0.2999 | Avg Precision: 85.96%\n"
     ]
    },
    {
     "name": "stderr",
     "output_type": "stream",
     "text": [
      "Train: 100%|\u001B[32m████████████████████████\u001B[0m| 295/295 [00:54<00:00,  5.44batch/s, Loss: 0.1979 | Precision: 86.06%]\u001B[0m\n"
     ]
    },
    {
     "name": "stdout",
     "output_type": "stream",
     "text": [
      "Epoch 30 | Avg Loss: 0.2992 | Avg Precision: 86.11%\n"
     ]
    },
    {
     "name": "stderr",
     "output_type": "stream",
     "text": [
      "Validate: 100%|\u001B[34m███████████████████████\u001B[0m| 74/74 [00:11<00:00,  6.40batch/s, Loss: 0.3273 | Precision: 85.18%]\u001B[0m\n"
     ]
    },
    {
     "name": "stdout",
     "output_type": "stream",
     "text": [
      "Epoch 30 | Avg Loss: 0.3102 | Avg Precision: 85.22% | Patience: 7\n"
     ]
    },
    {
     "name": "stderr",
     "output_type": "stream",
     "text": [
      "Train: 100%|\u001B[32m████████████████████████\u001B[0m| 295/295 [00:54<00:00,  5.46batch/s, Loss: 0.2162 | Precision: 86.14%]\u001B[0m\n"
     ]
    },
    {
     "name": "stdout",
     "output_type": "stream",
     "text": [
      "Epoch 31 | Avg Loss: 0.2975 | Avg Precision: 86.11%\n"
     ]
    },
    {
     "name": "stderr",
     "output_type": "stream",
     "text": [
      "Train: 100%|\u001B[32m████████████████████████\u001B[0m| 295/295 [00:53<00:00,  5.48batch/s, Loss: 0.2094 | Precision: 86.14%]\u001B[0m\n"
     ]
    },
    {
     "name": "stdout",
     "output_type": "stream",
     "text": [
      "Epoch 32 | Avg Loss: 0.2973 | Avg Precision: 86.22%\n"
     ]
    },
    {
     "name": "stderr",
     "output_type": "stream",
     "text": [
      "Validate: 100%|\u001B[34m███████████████████████\u001B[0m| 74/74 [00:11<00:00,  6.39batch/s, Loss: 0.3237 | Precision: 85.51%]\u001B[0m\n"
     ]
    },
    {
     "name": "stdout",
     "output_type": "stream",
     "text": [
      "Epoch 32 | Avg Loss: 0.3056 | Avg Precision: 85.57% | Patience: 0\n"
     ]
    },
    {
     "name": "stderr",
     "output_type": "stream",
     "text": [
      "Train: 100%|\u001B[32m████████████████████████\u001B[0m| 295/295 [00:53<00:00,  5.50batch/s, Loss: 0.1907 | Precision: 86.15%]\u001B[0m\n"
     ]
    },
    {
     "name": "stdout",
     "output_type": "stream",
     "text": [
      "Epoch 33 | Avg Loss: 0.2966 | Avg Precision: 86.08%\n"
     ]
    },
    {
     "name": "stderr",
     "output_type": "stream",
     "text": [
      "Train: 100%|\u001B[32m████████████████████████\u001B[0m| 295/295 [00:53<00:00,  5.49batch/s, Loss: 0.1961 | Precision: 86.18%]\u001B[0m\n"
     ]
    },
    {
     "name": "stdout",
     "output_type": "stream",
     "text": [
      "Epoch 34 | Avg Loss: 0.2961 | Avg Precision: 86.13%\n"
     ]
    },
    {
     "name": "stderr",
     "output_type": "stream",
     "text": [
      "Validate: 100%|\u001B[34m███████████████████████\u001B[0m| 74/74 [00:11<00:00,  6.42batch/s, Loss: 0.3251 | Precision: 85.65%]\u001B[0m\n"
     ]
    },
    {
     "name": "stdout",
     "output_type": "stream",
     "text": [
      "Epoch 34 | Avg Loss: 0.3030 | Avg Precision: 85.70% | Patience: 0\n"
     ]
    },
    {
     "name": "stderr",
     "output_type": "stream",
     "text": [
      "Train: 100%|\u001B[32m████████████████████████\u001B[0m| 295/295 [00:53<00:00,  5.49batch/s, Loss: 0.1880 | Precision: 86.25%]\u001B[0m\n"
     ]
    },
    {
     "name": "stdout",
     "output_type": "stream",
     "text": [
      "Epoch 35 | Avg Loss: 0.2957 | Avg Precision: 86.23%\n"
     ]
    },
    {
     "name": "stderr",
     "output_type": "stream",
     "text": [
      "Train: 100%|\u001B[32m████████████████████████\u001B[0m| 295/295 [00:53<00:00,  5.47batch/s, Loss: 0.1925 | Precision: 86.22%]\u001B[0m\n"
     ]
    },
    {
     "name": "stdout",
     "output_type": "stream",
     "text": [
      "Epoch 36 | Avg Loss: 0.2957 | Avg Precision: 86.17%\n"
     ]
    },
    {
     "name": "stderr",
     "output_type": "stream",
     "text": [
      "Validate: 100%|\u001B[34m███████████████████████\u001B[0m| 74/74 [00:11<00:00,  6.42batch/s, Loss: 0.3293 | Precision: 85.08%]\u001B[0m\n"
     ]
    },
    {
     "name": "stdout",
     "output_type": "stream",
     "text": [
      "Epoch 36 | Avg Loss: 0.3080 | Avg Precision: 85.16% | Patience: 1\n"
     ]
    },
    {
     "name": "stderr",
     "output_type": "stream",
     "text": [
      "Train: 100%|\u001B[32m████████████████████████\u001B[0m| 295/295 [00:53<00:00,  5.50batch/s, Loss: 0.1882 | Precision: 86.25%]\u001B[0m\n"
     ]
    },
    {
     "name": "stdout",
     "output_type": "stream",
     "text": [
      "Epoch 37 | Avg Loss: 0.2948 | Avg Precision: 86.25%\n"
     ]
    },
    {
     "name": "stderr",
     "output_type": "stream",
     "text": [
      "Train: 100%|\u001B[32m████████████████████████\u001B[0m| 295/295 [00:53<00:00,  5.48batch/s, Loss: 0.1652 | Precision: 86.32%]\u001B[0m\n"
     ]
    },
    {
     "name": "stdout",
     "output_type": "stream",
     "text": [
      "Epoch 38 | Avg Loss: 0.2934 | Avg Precision: 86.34%\n"
     ]
    },
    {
     "name": "stderr",
     "output_type": "stream",
     "text": [
      "Validate: 100%|\u001B[34m███████████████████████\u001B[0m| 74/74 [00:11<00:00,  6.44batch/s, Loss: 0.3312 | Precision: 85.24%]\u001B[0m\n"
     ]
    },
    {
     "name": "stdout",
     "output_type": "stream",
     "text": [
      "Epoch 38 | Avg Loss: 0.3081 | Avg Precision: 85.39% | Patience: 2\n"
     ]
    },
    {
     "name": "stderr",
     "output_type": "stream",
     "text": [
      "Train: 100%|\u001B[32m████████████████████████\u001B[0m| 295/295 [00:53<00:00,  5.49batch/s, Loss: 0.1676 | Precision: 86.33%]\u001B[0m\n"
     ]
    },
    {
     "name": "stdout",
     "output_type": "stream",
     "text": [
      "Epoch 39 | Avg Loss: 0.2929 | Avg Precision: 86.29%\n"
     ]
    },
    {
     "name": "stderr",
     "output_type": "stream",
     "text": [
      "Train: 100%|\u001B[32m████████████████████████\u001B[0m| 295/295 [00:53<00:00,  5.47batch/s, Loss: 0.1680 | Precision: 86.47%]\u001B[0m\n"
     ]
    },
    {
     "name": "stdout",
     "output_type": "stream",
     "text": [
      "Epoch 40 | Avg Loss: 0.2912 | Avg Precision: 86.43%\n"
     ]
    },
    {
     "name": "stderr",
     "output_type": "stream",
     "text": [
      "Validate: 100%|\u001B[34m███████████████████████\u001B[0m| 74/74 [00:11<00:00,  6.30batch/s, Loss: 0.3269 | Precision: 85.67%]\u001B[0m\n"
     ]
    },
    {
     "name": "stdout",
     "output_type": "stream",
     "text": [
      "Epoch 40 | Avg Loss: 0.3030 | Avg Precision: 85.71% | Patience: 0\n"
     ]
    },
    {
     "name": "stderr",
     "output_type": "stream",
     "text": [
      "Train: 100%|\u001B[32m████████████████████████\u001B[0m| 295/295 [00:53<00:00,  5.48batch/s, Loss: 0.1689 | Precision: 86.43%]\u001B[0m\n"
     ]
    },
    {
     "name": "stdout",
     "output_type": "stream",
     "text": [
      "Epoch 41 | Avg Loss: 0.2912 | Avg Precision: 86.40%\n"
     ]
    },
    {
     "name": "stderr",
     "output_type": "stream",
     "text": [
      "Train: 100%|\u001B[32m████████████████████████\u001B[0m| 295/295 [00:53<00:00,  5.49batch/s, Loss: 0.1659 | Precision: 86.47%]\u001B[0m\n"
     ]
    },
    {
     "name": "stdout",
     "output_type": "stream",
     "text": [
      "Epoch 42 | Avg Loss: 0.2909 | Avg Precision: 86.40%\n"
     ]
    },
    {
     "name": "stderr",
     "output_type": "stream",
     "text": [
      "Validate: 100%|\u001B[34m███████████████████████\u001B[0m| 74/74 [00:11<00:00,  6.44batch/s, Loss: 0.3392 | Precision: 85.73%]\u001B[0m\n"
     ]
    },
    {
     "name": "stdout",
     "output_type": "stream",
     "text": [
      "Epoch 42 | Avg Loss: 0.3036 | Avg Precision: 85.81% | Patience: 0\n"
     ]
    },
    {
     "name": "stderr",
     "output_type": "stream",
     "text": [
      "Train: 100%|\u001B[32m████████████████████████\u001B[0m| 295/295 [00:54<00:00,  5.44batch/s, Loss: 0.1610 | Precision: 86.49%]\u001B[0m\n"
     ]
    },
    {
     "name": "stdout",
     "output_type": "stream",
     "text": [
      "Epoch 43 | Avg Loss: 0.2901 | Avg Precision: 86.41%\n"
     ]
    },
    {
     "name": "stderr",
     "output_type": "stream",
     "text": [
      "Train: 100%|\u001B[32m████████████████████████\u001B[0m| 295/295 [00:54<00:00,  5.44batch/s, Loss: 0.1614 | Precision: 86.56%]\u001B[0m\n"
     ]
    },
    {
     "name": "stdout",
     "output_type": "stream",
     "text": [
      "Epoch 44 | Avg Loss: 0.2889 | Avg Precision: 86.50%\n"
     ]
    },
    {
     "name": "stderr",
     "output_type": "stream",
     "text": [
      "Validate: 100%|\u001B[34m███████████████████████\u001B[0m| 74/74 [00:11<00:00,  6.37batch/s, Loss: 0.3305 | Precision: 85.78%]\u001B[0m\n"
     ]
    },
    {
     "name": "stdout",
     "output_type": "stream",
     "text": [
      "Epoch 44 | Avg Loss: 0.3016 | Avg Precision: 85.81% | Patience: 1\n"
     ]
    },
    {
     "name": "stderr",
     "output_type": "stream",
     "text": [
      "Train: 100%|\u001B[32m████████████████████████\u001B[0m| 295/295 [00:54<00:00,  5.42batch/s, Loss: 0.1425 | Precision: 86.56%]\u001B[0m\n"
     ]
    },
    {
     "name": "stdout",
     "output_type": "stream",
     "text": [
      "Epoch 45 | Avg Loss: 0.2886 | Avg Precision: 86.50%\n"
     ]
    },
    {
     "name": "stderr",
     "output_type": "stream",
     "text": [
      "Train: 100%|\u001B[32m████████████████████████\u001B[0m| 295/295 [00:54<00:00,  5.42batch/s, Loss: 0.1470 | Precision: 86.55%]\u001B[0m\n"
     ]
    },
    {
     "name": "stdout",
     "output_type": "stream",
     "text": [
      "Epoch 46 | Avg Loss: 0.2885 | Avg Precision: 86.44%\n"
     ]
    },
    {
     "name": "stderr",
     "output_type": "stream",
     "text": [
      "Validate: 100%|\u001B[34m███████████████████████\u001B[0m| 74/74 [00:11<00:00,  6.24batch/s, Loss: 0.3289 | Precision: 85.82%]\u001B[0m\n"
     ]
    },
    {
     "name": "stdout",
     "output_type": "stream",
     "text": [
      "Epoch 46 | Avg Loss: 0.3017 | Avg Precision: 85.82% | Patience: 0\n"
     ]
    },
    {
     "name": "stderr",
     "output_type": "stream",
     "text": [
      "Train: 100%|\u001B[32m████████████████████████\u001B[0m| 295/295 [00:54<00:00,  5.44batch/s, Loss: 0.1401 | Precision: 86.59%]\u001B[0m\n"
     ]
    },
    {
     "name": "stdout",
     "output_type": "stream",
     "text": [
      "Epoch 47 | Avg Loss: 0.2881 | Avg Precision: 86.59%\n"
     ]
    },
    {
     "name": "stderr",
     "output_type": "stream",
     "text": [
      "Train: 100%|\u001B[32m████████████████████████\u001B[0m| 295/295 [00:54<00:00,  5.42batch/s, Loss: 0.1299 | Precision: 86.62%]\u001B[0m\n"
     ]
    },
    {
     "name": "stdout",
     "output_type": "stream",
     "text": [
      "Epoch 48 | Avg Loss: 0.2871 | Avg Precision: 86.58%\n"
     ]
    },
    {
     "name": "stderr",
     "output_type": "stream",
     "text": [
      "Validate: 100%|\u001B[34m███████████████████████\u001B[0m| 74/74 [00:11<00:00,  6.38batch/s, Loss: 0.3112 | Precision: 86.18%]\u001B[0m\n"
     ]
    },
    {
     "name": "stdout",
     "output_type": "stream",
     "text": [
      "Epoch 48 | Avg Loss: 0.2964 | Avg Precision: 86.16% | Patience: 0\n"
     ]
    },
    {
     "name": "stderr",
     "output_type": "stream",
     "text": [
      "Train: 100%|\u001B[32m████████████████████████\u001B[0m| 295/295 [00:54<00:00,  5.42batch/s, Loss: 0.1560 | Precision: 86.23%]\u001B[0m\n"
     ]
    },
    {
     "name": "stdout",
     "output_type": "stream",
     "text": [
      "Epoch 49 | Avg Loss: 0.2962 | Avg Precision: 86.33%\n"
     ]
    },
    {
     "name": "stderr",
     "output_type": "stream",
     "text": [
      "Train: 100%|\u001B[32m████████████████████████\u001B[0m| 295/295 [00:54<00:00,  5.44batch/s, Loss: 0.1444 | Precision: 86.57%]\u001B[0m\n"
     ]
    },
    {
     "name": "stdout",
     "output_type": "stream",
     "text": [
      "Epoch 50 | Avg Loss: 0.2901 | Avg Precision: 86.48%\n"
     ]
    },
    {
     "name": "stderr",
     "output_type": "stream",
     "text": [
      "Validate: 100%|\u001B[34m███████████████████████\u001B[0m| 74/74 [00:11<00:00,  6.31batch/s, Loss: 0.3155 | Precision: 86.41%]\u001B[0m\n"
     ]
    },
    {
     "name": "stdout",
     "output_type": "stream",
     "text": [
      "Epoch 50 | Avg Loss: 0.2971 | Avg Precision: 86.32% | Patience: 0\n"
     ]
    },
    {
     "name": "stderr",
     "output_type": "stream",
     "text": [
      "Train: 100%|\u001B[32m████████████████████████\u001B[0m| 295/295 [00:54<00:00,  5.45batch/s, Loss: 0.1342 | Precision: 86.60%]\u001B[0m\n"
     ]
    },
    {
     "name": "stdout",
     "output_type": "stream",
     "text": [
      "Epoch 51 | Avg Loss: 0.2888 | Avg Precision: 86.60%\n"
     ]
    },
    {
     "name": "stderr",
     "output_type": "stream",
     "text": [
      "Train: 100%|\u001B[32m████████████████████████\u001B[0m| 295/295 [00:54<00:00,  5.40batch/s, Loss: 0.1450 | Precision: 86.56%]\u001B[0m\n"
     ]
    },
    {
     "name": "stdout",
     "output_type": "stream",
     "text": [
      "Epoch 52 | Avg Loss: 0.2887 | Avg Precision: 86.51%\n"
     ]
    },
    {
     "name": "stderr",
     "output_type": "stream",
     "text": [
      "Validate: 100%|\u001B[34m███████████████████████\u001B[0m| 74/74 [00:11<00:00,  6.38batch/s, Loss: 0.3182 | Precision: 86.50%]\u001B[0m\n"
     ]
    },
    {
     "name": "stdout",
     "output_type": "stream",
     "text": [
      "Epoch 52 | Avg Loss: 0.2971 | Avg Precision: 86.48% | Patience: 0\n"
     ]
    },
    {
     "name": "stderr",
     "output_type": "stream",
     "text": [
      "Train: 100%|\u001B[32m████████████████████████\u001B[0m| 295/295 [00:54<00:00,  5.42batch/s, Loss: 0.1545 | Precision: 86.63%]\u001B[0m\n"
     ]
    },
    {
     "name": "stdout",
     "output_type": "stream",
     "text": [
      "Epoch 53 | Avg Loss: 0.2879 | Avg Precision: 86.58%\n"
     ]
    },
    {
     "name": "stderr",
     "output_type": "stream",
     "text": [
      "Train: 100%|\u001B[32m████████████████████████\u001B[0m| 295/295 [00:54<00:00,  5.43batch/s, Loss: 0.1432 | Precision: 86.66%]\u001B[0m\n"
     ]
    },
    {
     "name": "stdout",
     "output_type": "stream",
     "text": [
      "Epoch 54 | Avg Loss: 0.2874 | Avg Precision: 86.57%\n"
     ]
    },
    {
     "name": "stderr",
     "output_type": "stream",
     "text": [
      "Validate: 100%|\u001B[34m███████████████████████\u001B[0m| 74/74 [00:11<00:00,  6.32batch/s, Loss: 0.3235 | Precision: 86.32%]\u001B[0m\n"
     ]
    },
    {
     "name": "stdout",
     "output_type": "stream",
     "text": [
      "Epoch 54 | Avg Loss: 0.3024 | Avg Precision: 86.26% | Patience: 1\n"
     ]
    },
    {
     "name": "stderr",
     "output_type": "stream",
     "text": [
      "Train: 100%|\u001B[32m████████████████████████\u001B[0m| 295/295 [00:53<00:00,  5.46batch/s, Loss: 0.1468 | Precision: 86.63%]\u001B[0m\n"
     ]
    },
    {
     "name": "stdout",
     "output_type": "stream",
     "text": [
      "Epoch 55 | Avg Loss: 0.2872 | Avg Precision: 86.54%\n"
     ]
    },
    {
     "name": "stderr",
     "output_type": "stream",
     "text": [
      "Train: 100%|\u001B[32m████████████████████████\u001B[0m| 295/295 [00:54<00:00,  5.43batch/s, Loss: 0.1423 | Precision: 86.71%]\u001B[0m\n"
     ]
    },
    {
     "name": "stdout",
     "output_type": "stream",
     "text": [
      "Epoch 56 | Avg Loss: 0.2861 | Avg Precision: 86.62%\n"
     ]
    },
    {
     "name": "stderr",
     "output_type": "stream",
     "text": [
      "Validate: 100%|\u001B[34m███████████████████████\u001B[0m| 74/74 [00:11<00:00,  6.39batch/s, Loss: 0.3108 | Precision: 86.48%]\u001B[0m\n"
     ]
    },
    {
     "name": "stdout",
     "output_type": "stream",
     "text": [
      "Epoch 56 | Avg Loss: 0.3001 | Avg Precision: 86.41% | Patience: 2\n"
     ]
    },
    {
     "name": "stderr",
     "output_type": "stream",
     "text": [
      "Train: 100%|\u001B[32m████████████████████████\u001B[0m| 295/295 [00:54<00:00,  5.42batch/s, Loss: 0.1560 | Precision: 86.83%]\u001B[0m\n"
     ]
    },
    {
     "name": "stdout",
     "output_type": "stream",
     "text": [
      "Epoch 57 | Avg Loss: 0.2845 | Avg Precision: 86.77%\n"
     ]
    },
    {
     "name": "stderr",
     "output_type": "stream",
     "text": [
      "Train: 100%|\u001B[32m████████████████████████\u001B[0m| 295/295 [00:54<00:00,  5.43batch/s, Loss: 0.1455 | Precision: 86.84%]\u001B[0m\n"
     ]
    },
    {
     "name": "stdout",
     "output_type": "stream",
     "text": [
      "Epoch 58 | Avg Loss: 0.2844 | Avg Precision: 86.79%\n"
     ]
    },
    {
     "name": "stderr",
     "output_type": "stream",
     "text": [
      "Validate: 100%|\u001B[34m███████████████████████\u001B[0m| 74/74 [00:11<00:00,  6.36batch/s, Loss: 0.3082 | Precision: 86.79%]\u001B[0m\n"
     ]
    },
    {
     "name": "stdout",
     "output_type": "stream",
     "text": [
      "Epoch 58 | Avg Loss: 0.2967 | Avg Precision: 86.77% | Patience: 0\n"
     ]
    },
    {
     "name": "stderr",
     "output_type": "stream",
     "text": [
      "Train: 100%|\u001B[32m████████████████████████\u001B[0m| 295/295 [00:54<00:00,  5.44batch/s, Loss: 0.1566 | Precision: 86.83%]\u001B[0m\n"
     ]
    },
    {
     "name": "stdout",
     "output_type": "stream",
     "text": [
      "Epoch 59 | Avg Loss: 0.2840 | Avg Precision: 86.77%\n"
     ]
    },
    {
     "name": "stderr",
     "output_type": "stream",
     "text": [
      "Train: 100%|\u001B[32m████████████████████████\u001B[0m| 295/295 [00:54<00:00,  5.42batch/s, Loss: 0.1531 | Precision: 86.85%]\u001B[0m\n"
     ]
    },
    {
     "name": "stdout",
     "output_type": "stream",
     "text": [
      "Epoch 60 | Avg Loss: 0.2834 | Avg Precision: 86.79%\n"
     ]
    },
    {
     "name": "stderr",
     "output_type": "stream",
     "text": [
      "Validate: 100%|\u001B[34m███████████████████████\u001B[0m| 74/74 [00:11<00:00,  6.40batch/s, Loss: 0.3103 | Precision: 86.77%]\u001B[0m\n"
     ]
    },
    {
     "name": "stdout",
     "output_type": "stream",
     "text": [
      "Epoch 60 | Avg Loss: 0.2985 | Avg Precision: 86.69% | Patience: 1\n"
     ]
    },
    {
     "name": "stderr",
     "output_type": "stream",
     "text": [
      "Train: 100%|\u001B[32m████████████████████████\u001B[0m| 295/295 [00:54<00:00,  5.46batch/s, Loss: 0.1471 | Precision: 86.80%]\u001B[0m\n"
     ]
    },
    {
     "name": "stdout",
     "output_type": "stream",
     "text": [
      "Epoch 61 | Avg Loss: 0.2836 | Avg Precision: 86.78%\n"
     ]
    },
    {
     "name": "stderr",
     "output_type": "stream",
     "text": [
      "Train: 100%|\u001B[32m████████████████████████\u001B[0m| 295/295 [00:53<00:00,  5.47batch/s, Loss: 0.1393 | Precision: 86.87%]\u001B[0m\n"
     ]
    },
    {
     "name": "stdout",
     "output_type": "stream",
     "text": [
      "Epoch 62 | Avg Loss: 0.2825 | Avg Precision: 86.83%\n"
     ]
    },
    {
     "name": "stderr",
     "output_type": "stream",
     "text": [
      "Validate: 100%|\u001B[34m███████████████████████\u001B[0m| 74/74 [00:11<00:00,  6.39batch/s, Loss: 0.3068 | Precision: 86.65%]\u001B[0m\n"
     ]
    },
    {
     "name": "stdout",
     "output_type": "stream",
     "text": [
      "Epoch 62 | Avg Loss: 0.2978 | Avg Precision: 86.62% | Patience: 2\n"
     ]
    },
    {
     "name": "stderr",
     "output_type": "stream",
     "text": [
      "Train: 100%|\u001B[32m████████████████████████\u001B[0m| 295/295 [00:54<00:00,  5.45batch/s, Loss: 0.1401 | Precision: 86.93%]\u001B[0m\n"
     ]
    },
    {
     "name": "stdout",
     "output_type": "stream",
     "text": [
      "Epoch 63 | Avg Loss: 0.2816 | Avg Precision: 86.88%\n"
     ]
    },
    {
     "name": "stderr",
     "output_type": "stream",
     "text": [
      "Train: 100%|\u001B[32m████████████████████████\u001B[0m| 295/295 [00:54<00:00,  5.44batch/s, Loss: 0.1398 | Precision: 86.94%]\u001B[0m\n"
     ]
    },
    {
     "name": "stdout",
     "output_type": "stream",
     "text": [
      "Epoch 64 | Avg Loss: 0.2810 | Avg Precision: 86.90%\n"
     ]
    },
    {
     "name": "stderr",
     "output_type": "stream",
     "text": [
      "Validate: 100%|\u001B[34m███████████████████████\u001B[0m| 74/74 [00:11<00:00,  6.31batch/s, Loss: 0.3119 | Precision: 86.80%]\u001B[0m\n"
     ]
    },
    {
     "name": "stdout",
     "output_type": "stream",
     "text": [
      "Epoch 64 | Avg Loss: 0.2963 | Avg Precision: 86.73% | Patience: 3\n"
     ]
    },
    {
     "name": "stderr",
     "output_type": "stream",
     "text": [
      "Train: 100%|\u001B[32m████████████████████████\u001B[0m| 295/295 [00:54<00:00,  5.41batch/s, Loss: 0.1453 | Precision: 86.93%]\u001B[0m\n"
     ]
    },
    {
     "name": "stdout",
     "output_type": "stream",
     "text": [
      "Epoch 65 | Avg Loss: 0.2812 | Avg Precision: 86.91%\n"
     ]
    },
    {
     "name": "stderr",
     "output_type": "stream",
     "text": [
      "Train: 100%|\u001B[32m████████████████████████\u001B[0m| 295/295 [00:54<00:00,  5.44batch/s, Loss: 0.1426 | Precision: 86.98%]\u001B[0m\n"
     ]
    },
    {
     "name": "stdout",
     "output_type": "stream",
     "text": [
      "Epoch 66 | Avg Loss: 0.2804 | Avg Precision: 86.97%\n"
     ]
    },
    {
     "name": "stderr",
     "output_type": "stream",
     "text": [
      "Validate: 100%|\u001B[34m███████████████████████\u001B[0m| 74/74 [00:11<00:00,  6.41batch/s, Loss: 0.3123 | Precision: 86.81%]\u001B[0m\n"
     ]
    },
    {
     "name": "stdout",
     "output_type": "stream",
     "text": [
      "Epoch 66 | Avg Loss: 0.2967 | Avg Precision: 86.74% | Patience: 4\n"
     ]
    },
    {
     "name": "stderr",
     "output_type": "stream",
     "text": [
      "Train: 100%|\u001B[32m████████████████████████\u001B[0m| 295/295 [00:54<00:00,  5.44batch/s, Loss: 0.1462 | Precision: 87.04%]\u001B[0m\n"
     ]
    },
    {
     "name": "stdout",
     "output_type": "stream",
     "text": [
      "Epoch 67 | Avg Loss: 0.2790 | Avg Precision: 87.02%\n"
     ]
    },
    {
     "name": "stderr",
     "output_type": "stream",
     "text": [
      "Train: 100%|\u001B[32m████████████████████████\u001B[0m| 295/295 [00:54<00:00,  5.43batch/s, Loss: 0.1381 | Precision: 87.08%]\u001B[0m\n"
     ]
    },
    {
     "name": "stdout",
     "output_type": "stream",
     "text": [
      "Epoch 68 | Avg Loss: 0.2783 | Avg Precision: 87.08%\n"
     ]
    },
    {
     "name": "stderr",
     "output_type": "stream",
     "text": [
      "Validate: 100%|\u001B[34m███████████████████████\u001B[0m| 74/74 [00:11<00:00,  6.38batch/s, Loss: 0.3119 | Precision: 86.94%]\u001B[0m\n"
     ]
    },
    {
     "name": "stdout",
     "output_type": "stream",
     "text": [
      "Epoch 68 | Avg Loss: 0.2934 | Avg Precision: 86.92% | Patience: 0\n"
     ]
    },
    {
     "name": "stderr",
     "output_type": "stream",
     "text": [
      "Train: 100%|\u001B[32m████████████████████████\u001B[0m| 295/295 [00:54<00:00,  5.46batch/s, Loss: 0.1433 | Precision: 87.09%]\u001B[0m\n"
     ]
    },
    {
     "name": "stdout",
     "output_type": "stream",
     "text": [
      "Epoch 69 | Avg Loss: 0.2782 | Avg Precision: 87.09%\n"
     ]
    },
    {
     "name": "stderr",
     "output_type": "stream",
     "text": [
      "Train: 100%|\u001B[32m████████████████████████\u001B[0m| 295/295 [00:54<00:00,  5.44batch/s, Loss: 0.1477 | Precision: 87.10%]\u001B[0m\n"
     ]
    },
    {
     "name": "stdout",
     "output_type": "stream",
     "text": [
      "Epoch 70 | Avg Loss: 0.2780 | Avg Precision: 87.09%\n"
     ]
    },
    {
     "name": "stderr",
     "output_type": "stream",
     "text": [
      "Validate: 100%|\u001B[34m███████████████████████\u001B[0m| 74/74 [00:11<00:00,  6.21batch/s, Loss: 0.3136 | Precision: 86.89%]\u001B[0m\n"
     ]
    },
    {
     "name": "stdout",
     "output_type": "stream",
     "text": [
      "Epoch 70 | Avg Loss: 0.2956 | Avg Precision: 86.86% | Patience: 1\n"
     ]
    },
    {
     "name": "stderr",
     "output_type": "stream",
     "text": [
      "Train: 100%|\u001B[32m████████████████████████\u001B[0m| 295/295 [00:54<00:00,  5.44batch/s, Loss: 0.1450 | Precision: 87.10%]\u001B[0m\n"
     ]
    },
    {
     "name": "stdout",
     "output_type": "stream",
     "text": [
      "Epoch 71 | Avg Loss: 0.2782 | Avg Precision: 87.09%\n"
     ]
    },
    {
     "name": "stderr",
     "output_type": "stream",
     "text": [
      "Train: 100%|\u001B[32m████████████████████████\u001B[0m| 295/295 [00:54<00:00,  5.44batch/s, Loss: 0.1466 | Precision: 87.15%]\u001B[0m\n"
     ]
    },
    {
     "name": "stdout",
     "output_type": "stream",
     "text": [
      "Epoch 72 | Avg Loss: 0.2774 | Avg Precision: 87.14%\n"
     ]
    },
    {
     "name": "stderr",
     "output_type": "stream",
     "text": [
      "Validate: 100%|\u001B[34m███████████████████████\u001B[0m| 74/74 [00:11<00:00,  6.37batch/s, Loss: 0.3209 | Precision: 86.82%]\u001B[0m\n"
     ]
    },
    {
     "name": "stdout",
     "output_type": "stream",
     "text": [
      "Epoch 72 | Avg Loss: 0.2966 | Avg Precision: 86.86% | Patience: 2\n"
     ]
    },
    {
     "name": "stderr",
     "output_type": "stream",
     "text": [
      "Train: 100%|\u001B[32m████████████████████████\u001B[0m| 295/295 [00:53<00:00,  5.48batch/s, Loss: 0.1336 | Precision: 87.21%]\u001B[0m\n"
     ]
    },
    {
     "name": "stdout",
     "output_type": "stream",
     "text": [
      "Epoch 73 | Avg Loss: 0.2763 | Avg Precision: 87.20%\n"
     ]
    },
    {
     "name": "stderr",
     "output_type": "stream",
     "text": [
      "Train: 100%|\u001B[32m████████████████████████\u001B[0m| 295/295 [00:53<00:00,  5.49batch/s, Loss: 0.1297 | Precision: 87.24%]\u001B[0m\n"
     ]
    },
    {
     "name": "stdout",
     "output_type": "stream",
     "text": [
      "Epoch 74 | Avg Loss: 0.2753 | Avg Precision: 87.26%\n"
     ]
    },
    {
     "name": "stderr",
     "output_type": "stream",
     "text": [
      "Validate: 100%|\u001B[34m███████████████████████\u001B[0m| 74/74 [00:11<00:00,  6.40batch/s, Loss: 0.3110 | Precision: 86.80%]\u001B[0m\n"
     ]
    },
    {
     "name": "stdout",
     "output_type": "stream",
     "text": [
      "Epoch 74 | Avg Loss: 0.2929 | Avg Precision: 86.79% | Patience: 3\n"
     ]
    },
    {
     "name": "stderr",
     "output_type": "stream",
     "text": [
      "Train: 100%|\u001B[32m████████████████████████\u001B[0m| 295/295 [00:53<00:00,  5.51batch/s, Loss: 0.1295 | Precision: 87.27%]\u001B[0m\n"
     ]
    },
    {
     "name": "stdout",
     "output_type": "stream",
     "text": [
      "Epoch 75 | Avg Loss: 0.2747 | Avg Precision: 87.29%\n"
     ]
    },
    {
     "name": "stderr",
     "output_type": "stream",
     "text": [
      "Train: 100%|\u001B[32m████████████████████████\u001B[0m| 295/295 [00:53<00:00,  5.50batch/s, Loss: 0.1243 | Precision: 87.28%]\u001B[0m\n"
     ]
    },
    {
     "name": "stdout",
     "output_type": "stream",
     "text": [
      "Epoch 76 | Avg Loss: 0.2743 | Avg Precision: 87.29%\n"
     ]
    },
    {
     "name": "stderr",
     "output_type": "stream",
     "text": [
      "Validate: 100%|\u001B[34m███████████████████████\u001B[0m| 74/74 [00:11<00:00,  6.45batch/s, Loss: 0.3105 | Precision: 86.94%]\u001B[0m\n"
     ]
    },
    {
     "name": "stdout",
     "output_type": "stream",
     "text": [
      "Epoch 76 | Avg Loss: 0.2911 | Avg Precision: 86.89% | Patience: 4\n"
     ]
    },
    {
     "name": "stderr",
     "output_type": "stream",
     "text": [
      "Train: 100%|\u001B[32m████████████████████████\u001B[0m| 295/295 [00:53<00:00,  5.49batch/s, Loss: 0.1190 | Precision: 87.35%]\u001B[0m\n"
     ]
    },
    {
     "name": "stdout",
     "output_type": "stream",
     "text": [
      "Epoch 77 | Avg Loss: 0.2735 | Avg Precision: 87.39%\n"
     ]
    },
    {
     "name": "stderr",
     "output_type": "stream",
     "text": [
      "Train: 100%|\u001B[32m████████████████████████\u001B[0m| 295/295 [00:53<00:00,  5.50batch/s, Loss: 0.1197 | Precision: 87.37%]\u001B[0m\n"
     ]
    },
    {
     "name": "stdout",
     "output_type": "stream",
     "text": [
      "Epoch 78 | Avg Loss: 0.2730 | Avg Precision: 87.38%\n"
     ]
    },
    {
     "name": "stderr",
     "output_type": "stream",
     "text": [
      "Validate: 100%|\u001B[34m███████████████████████\u001B[0m| 74/74 [00:11<00:00,  6.35batch/s, Loss: 0.3064 | Precision: 86.96%]\u001B[0m\n"
     ]
    },
    {
     "name": "stdout",
     "output_type": "stream",
     "text": [
      "Epoch 78 | Avg Loss: 0.2892 | Avg Precision: 86.99% | Patience: 0\n"
     ]
    },
    {
     "name": "stderr",
     "output_type": "stream",
     "text": [
      "Train: 100%|\u001B[32m████████████████████████\u001B[0m| 295/295 [00:53<00:00,  5.49batch/s, Loss: 0.1191 | Precision: 87.39%]\u001B[0m\n"
     ]
    },
    {
     "name": "stdout",
     "output_type": "stream",
     "text": [
      "Epoch 79 | Avg Loss: 0.2727 | Avg Precision: 87.40%\n"
     ]
    },
    {
     "name": "stderr",
     "output_type": "stream",
     "text": [
      "Train: 100%|\u001B[32m████████████████████████\u001B[0m| 295/295 [00:53<00:00,  5.49batch/s, Loss: 0.1180 | Precision: 87.39%]\u001B[0m\n"
     ]
    },
    {
     "name": "stdout",
     "output_type": "stream",
     "text": [
      "Epoch 80 | Avg Loss: 0.2722 | Avg Precision: 87.42%\n"
     ]
    },
    {
     "name": "stderr",
     "output_type": "stream",
     "text": [
      "Validate: 100%|\u001B[34m███████████████████████\u001B[0m| 74/74 [00:11<00:00,  6.35batch/s, Loss: 0.3055 | Precision: 87.11%]\u001B[0m\n"
     ]
    },
    {
     "name": "stdout",
     "output_type": "stream",
     "text": [
      "Epoch 80 | Avg Loss: 0.2886 | Avg Precision: 87.12% | Patience: 0\n"
     ]
    },
    {
     "name": "stderr",
     "output_type": "stream",
     "text": [
      "Train: 100%|\u001B[32m████████████████████████\u001B[0m| 295/295 [00:53<00:00,  5.50batch/s, Loss: 0.1144 | Precision: 87.42%]\u001B[0m\n"
     ]
    },
    {
     "name": "stdout",
     "output_type": "stream",
     "text": [
      "Epoch 81 | Avg Loss: 0.2722 | Avg Precision: 87.44%\n"
     ]
    },
    {
     "name": "stderr",
     "output_type": "stream",
     "text": [
      "Train: 100%|\u001B[32m████████████████████████\u001B[0m| 295/295 [00:53<00:00,  5.48batch/s, Loss: 0.1166 | Precision: 87.43%]\u001B[0m\n"
     ]
    },
    {
     "name": "stdout",
     "output_type": "stream",
     "text": [
      "Epoch 82 | Avg Loss: 0.2719 | Avg Precision: 87.49%\n"
     ]
    },
    {
     "name": "stderr",
     "output_type": "stream",
     "text": [
      "Validate: 100%|\u001B[34m███████████████████████\u001B[0m| 74/74 [00:11<00:00,  6.40batch/s, Loss: 0.3080 | Precision: 87.16%]\u001B[0m\n"
     ]
    },
    {
     "name": "stdout",
     "output_type": "stream",
     "text": [
      "Epoch 82 | Avg Loss: 0.2875 | Avg Precision: 87.18% | Patience: 0\n"
     ]
    },
    {
     "name": "stderr",
     "output_type": "stream",
     "text": [
      "Train: 100%|\u001B[32m████████████████████████\u001B[0m| 295/295 [00:53<00:00,  5.50batch/s, Loss: 0.1144 | Precision: 87.44%]\u001B[0m\n"
     ]
    },
    {
     "name": "stdout",
     "output_type": "stream",
     "text": [
      "Epoch 83 | Avg Loss: 0.2716 | Avg Precision: 87.46%\n"
     ]
    },
    {
     "name": "stderr",
     "output_type": "stream",
     "text": [
      "Train: 100%|\u001B[32m████████████████████████\u001B[0m| 295/295 [00:53<00:00,  5.48batch/s, Loss: 0.1146 | Precision: 87.45%]\u001B[0m\n"
     ]
    },
    {
     "name": "stdout",
     "output_type": "stream",
     "text": [
      "Epoch 84 | Avg Loss: 0.2711 | Avg Precision: 87.49%\n"
     ]
    },
    {
     "name": "stderr",
     "output_type": "stream",
     "text": [
      "Validate: 100%|\u001B[34m███████████████████████\u001B[0m| 74/74 [00:11<00:00,  6.37batch/s, Loss: 0.3066 | Precision: 87.25%]\u001B[0m\n"
     ]
    },
    {
     "name": "stdout",
     "output_type": "stream",
     "text": [
      "Epoch 84 | Avg Loss: 0.2864 | Avg Precision: 87.25% | Patience: 0\n"
     ]
    },
    {
     "name": "stderr",
     "output_type": "stream",
     "text": [
      "Train: 100%|\u001B[32m████████████████████████\u001B[0m| 295/295 [00:53<00:00,  5.50batch/s, Loss: 0.1205 | Precision: 87.44%]\u001B[0m\n"
     ]
    },
    {
     "name": "stdout",
     "output_type": "stream",
     "text": [
      "Epoch 85 | Avg Loss: 0.2710 | Avg Precision: 87.47%\n"
     ]
    },
    {
     "name": "stderr",
     "output_type": "stream",
     "text": [
      "Train: 100%|\u001B[32m████████████████████████\u001B[0m| 295/295 [00:53<00:00,  5.48batch/s, Loss: 0.1111 | Precision: 87.46%]\u001B[0m\n"
     ]
    },
    {
     "name": "stdout",
     "output_type": "stream",
     "text": [
      "Epoch 86 | Avg Loss: 0.2707 | Avg Precision: 87.50%\n"
     ]
    },
    {
     "name": "stderr",
     "output_type": "stream",
     "text": [
      "Validate: 100%|\u001B[34m███████████████████████\u001B[0m| 74/74 [00:11<00:00,  6.43batch/s, Loss: 0.3047 | Precision: 87.16%]\u001B[0m\n"
     ]
    },
    {
     "name": "stdout",
     "output_type": "stream",
     "text": [
      "Epoch 86 | Avg Loss: 0.2877 | Avg Precision: 87.17% | Patience: 1\n"
     ]
    },
    {
     "name": "stderr",
     "output_type": "stream",
     "text": [
      "Train: 100%|\u001B[32m████████████████████████\u001B[0m| 295/295 [00:53<00:00,  5.51batch/s, Loss: 0.1122 | Precision: 87.47%]\u001B[0m\n"
     ]
    },
    {
     "name": "stdout",
     "output_type": "stream",
     "text": [
      "Epoch 87 | Avg Loss: 0.2703 | Avg Precision: 87.55%\n"
     ]
    },
    {
     "name": "stderr",
     "output_type": "stream",
     "text": [
      "Train: 100%|\u001B[32m████████████████████████\u001B[0m| 295/295 [00:53<00:00,  5.49batch/s, Loss: 0.1160 | Precision: 87.47%]\u001B[0m\n"
     ]
    },
    {
     "name": "stdout",
     "output_type": "stream",
     "text": [
      "Epoch 88 | Avg Loss: 0.2700 | Avg Precision: 87.55%\n"
     ]
    },
    {
     "name": "stderr",
     "output_type": "stream",
     "text": [
      "Validate: 100%|\u001B[34m███████████████████████\u001B[0m| 74/74 [00:11<00:00,  6.42batch/s, Loss: 0.3092 | Precision: 87.13%]\u001B[0m\n"
     ]
    },
    {
     "name": "stdout",
     "output_type": "stream",
     "text": [
      "Epoch 88 | Avg Loss: 0.2872 | Avg Precision: 87.21% | Patience: 2\n"
     ]
    },
    {
     "name": "stderr",
     "output_type": "stream",
     "text": [
      "Train: 100%|\u001B[32m████████████████████████\u001B[0m| 295/295 [00:53<00:00,  5.49batch/s, Loss: 0.1109 | Precision: 87.51%]\u001B[0m\n"
     ]
    },
    {
     "name": "stdout",
     "output_type": "stream",
     "text": [
      "Epoch 89 | Avg Loss: 0.2694 | Avg Precision: 87.56%\n"
     ]
    },
    {
     "name": "stderr",
     "output_type": "stream",
     "text": [
      "Train: 100%|\u001B[32m████████████████████████\u001B[0m| 295/295 [00:53<00:00,  5.50batch/s, Loss: 0.1073 | Precision: 87.52%]\u001B[0m\n"
     ]
    },
    {
     "name": "stdout",
     "output_type": "stream",
     "text": [
      "Epoch 90 | Avg Loss: 0.2690 | Avg Precision: 87.57%\n"
     ]
    },
    {
     "name": "stderr",
     "output_type": "stream",
     "text": [
      "Validate: 100%|\u001B[34m███████████████████████\u001B[0m| 74/74 [00:11<00:00,  6.38batch/s, Loss: 0.3061 | Precision: 87.05%]\u001B[0m\n"
     ]
    },
    {
     "name": "stdout",
     "output_type": "stream",
     "text": [
      "Epoch 90 | Avg Loss: 0.2864 | Avg Precision: 87.07% | Patience: 3\n"
     ]
    },
    {
     "name": "stderr",
     "output_type": "stream",
     "text": [
      "Train: 100%|\u001B[32m████████████████████████\u001B[0m| 295/295 [00:53<00:00,  5.49batch/s, Loss: 0.1099 | Precision: 87.54%]\u001B[0m\n"
     ]
    },
    {
     "name": "stdout",
     "output_type": "stream",
     "text": [
      "Epoch 91 | Avg Loss: 0.2687 | Avg Precision: 87.60%\n"
     ]
    },
    {
     "name": "stderr",
     "output_type": "stream",
     "text": [
      "Train: 100%|\u001B[32m████████████████████████\u001B[0m| 295/295 [00:53<00:00,  5.50batch/s, Loss: 0.1093 | Precision: 87.56%]\u001B[0m\n"
     ]
    },
    {
     "name": "stdout",
     "output_type": "stream",
     "text": [
      "Epoch 92 | Avg Loss: 0.2682 | Avg Precision: 87.60%\n"
     ]
    },
    {
     "name": "stderr",
     "output_type": "stream",
     "text": [
      "Validate: 100%|\u001B[34m███████████████████████\u001B[0m| 74/74 [00:11<00:00,  6.37batch/s, Loss: 0.3059 | Precision: 87.12%]\u001B[0m\n"
     ]
    },
    {
     "name": "stdout",
     "output_type": "stream",
     "text": [
      "Epoch 92 | Avg Loss: 0.2853 | Avg Precision: 87.15% | Patience: 4\n"
     ]
    },
    {
     "name": "stderr",
     "output_type": "stream",
     "text": [
      "Train: 100%|\u001B[32m████████████████████████\u001B[0m| 295/295 [00:53<00:00,  5.52batch/s, Loss: 0.1088 | Precision: 87.60%]\u001B[0m\n"
     ]
    },
    {
     "name": "stdout",
     "output_type": "stream",
     "text": [
      "Epoch 93 | Avg Loss: 0.2680 | Avg Precision: 87.62%\n"
     ]
    },
    {
     "name": "stderr",
     "output_type": "stream",
     "text": [
      "Train: 100%|\u001B[32m████████████████████████\u001B[0m| 295/295 [00:53<00:00,  5.50batch/s, Loss: 0.1065 | Precision: 87.60%]\u001B[0m\n"
     ]
    },
    {
     "name": "stdout",
     "output_type": "stream",
     "text": [
      "Epoch 94 | Avg Loss: 0.2675 | Avg Precision: 87.62%\n"
     ]
    },
    {
     "name": "stderr",
     "output_type": "stream",
     "text": [
      "Validate: 100%|\u001B[34m███████████████████████\u001B[0m| 74/74 [00:11<00:00,  6.36batch/s, Loss: 0.3076 | Precision: 87.23%]\u001B[0m\n"
     ]
    },
    {
     "name": "stdout",
     "output_type": "stream",
     "text": [
      "Epoch 94 | Avg Loss: 0.2848 | Avg Precision: 87.26% | Patience: 0\n"
     ]
    },
    {
     "name": "stderr",
     "output_type": "stream",
     "text": [
      "Train: 100%|\u001B[32m████████████████████████\u001B[0m| 295/295 [00:53<00:00,  5.51batch/s, Loss: 0.1060 | Precision: 87.60%]\u001B[0m\n"
     ]
    },
    {
     "name": "stdout",
     "output_type": "stream",
     "text": [
      "Epoch 95 | Avg Loss: 0.2673 | Avg Precision: 87.61%\n"
     ]
    },
    {
     "name": "stderr",
     "output_type": "stream",
     "text": [
      "Train: 100%|\u001B[32m████████████████████████\u001B[0m| 295/295 [00:53<00:00,  5.48batch/s, Loss: 0.1073 | Precision: 87.62%]\u001B[0m\n"
     ]
    },
    {
     "name": "stdout",
     "output_type": "stream",
     "text": [
      "Epoch 96 | Avg Loss: 0.2669 | Avg Precision: 87.63%\n"
     ]
    },
    {
     "name": "stderr",
     "output_type": "stream",
     "text": [
      "Validate: 100%|\u001B[34m███████████████████████\u001B[0m| 74/74 [00:11<00:00,  6.36batch/s, Loss: 0.3068 | Precision: 87.27%]\u001B[0m\n"
     ]
    },
    {
     "name": "stdout",
     "output_type": "stream",
     "text": [
      "Epoch 96 | Avg Loss: 0.2843 | Avg Precision: 87.27% | Patience: 0\n"
     ]
    },
    {
     "name": "stderr",
     "output_type": "stream",
     "text": [
      "Train: 100%|\u001B[32m████████████████████████\u001B[0m| 295/295 [00:53<00:00,  5.51batch/s, Loss: 0.0987 | Precision: 87.64%]\u001B[0m\n"
     ]
    },
    {
     "name": "stdout",
     "output_type": "stream",
     "text": [
      "Epoch 97 | Avg Loss: 0.2666 | Avg Precision: 87.66%\n"
     ]
    },
    {
     "name": "stderr",
     "output_type": "stream",
     "text": [
      "Train: 100%|\u001B[32m████████████████████████\u001B[0m| 295/295 [00:53<00:00,  5.50batch/s, Loss: 0.0978 | Precision: 87.66%]\u001B[0m\n"
     ]
    },
    {
     "name": "stdout",
     "output_type": "stream",
     "text": [
      "Epoch 98 | Avg Loss: 0.2664 | Avg Precision: 87.68%\n"
     ]
    },
    {
     "name": "stderr",
     "output_type": "stream",
     "text": [
      "Validate: 100%|\u001B[34m███████████████████████\u001B[0m| 74/74 [00:11<00:00,  6.41batch/s, Loss: 0.3068 | Precision: 87.27%]\u001B[0m\n"
     ]
    },
    {
     "name": "stdout",
     "output_type": "stream",
     "text": [
      "Epoch 98 | Avg Loss: 0.2850 | Avg Precision: 87.28% | Patience: 0\n"
     ]
    },
    {
     "name": "stderr",
     "output_type": "stream",
     "text": [
      "Train: 100%|\u001B[32m████████████████████████\u001B[0m| 295/295 [00:53<00:00,  5.48batch/s, Loss: 0.0965 | Precision: 87.68%]\u001B[0m\n"
     ]
    },
    {
     "name": "stdout",
     "output_type": "stream",
     "text": [
      "Epoch 99 | Avg Loss: 0.2661 | Avg Precision: 87.70%\n"
     ]
    },
    {
     "name": "stderr",
     "output_type": "stream",
     "text": [
      "Train: 100%|\u001B[32m████████████████████████\u001B[0m| 295/295 [00:53<00:00,  5.49batch/s, Loss: 0.0954 | Precision: 87.67%]\u001B[0m\n"
     ]
    },
    {
     "name": "stdout",
     "output_type": "stream",
     "text": [
      "Epoch 100 | Avg Loss: 0.2660 | Avg Precision: 87.69%\n"
     ]
    },
    {
     "name": "stderr",
     "output_type": "stream",
     "text": [
      "Validate: 100%|\u001B[34m███████████████████████\u001B[0m| 74/74 [00:11<00:00,  6.32batch/s, Loss: 0.3055 | Precision: 87.27%]\u001B[0m"
     ]
    },
    {
     "name": "stdout",
     "output_type": "stream",
     "text": [
      "Epoch 100 | Avg Loss: 0.2845 | Avg Precision: 87.29% | Patience: 0\n",
      "Training Complete - Best Validate Precision: 87.29%\n"
     ]
    },
    {
     "name": "stderr",
     "output_type": "stream",
     "text": [
      "\n"
     ]
    }
   ],
   "source": [
    "model = LSTMnet(9, 100, 1, 4)\n",
    "model = model.to(device)\n",
    "criterion = nn.CrossEntropyLoss()\n",
    "optimizer = optim.Adam(model.parameters(), lr=.01)\n",
    "scheduler = ReduceLROnPlateau(optimizer, 'max', factor=.9, patience=1, min_lr=.001)\n",
    "\n",
    "model15 = train_validate(model, criterion, optimizer, scheduler)\n",
    "torch.save(model15.state_dict(), '.\\\\models\\\\downsample\\\\lstm\\\\model15.pth')"
   ]
  },
  {
   "cell_type": "markdown",
   "id": "260582b0-8626-4258-b316-844132f9f9ff",
   "metadata": {
    "jp-MarkdownHeadingCollapsed": true
   },
   "source": [
    "#### Model 16 - Batch 1024 - Lookback 30 - 200 Nodes"
   ]
  },
  {
   "cell_type": "code",
   "execution_count": 42,
   "id": "e466abe8-b944-4354-8d8e-63a6ad47d153",
   "metadata": {},
   "outputs": [
    {
     "name": "stderr",
     "output_type": "stream",
     "text": [
      "Train: 100%|\u001B[32m████████████████████████\u001B[0m| 295/295 [00:57<00:00,  5.10batch/s, Loss: 0.3557 | Precision: 74.88%]\u001B[0m\n"
     ]
    },
    {
     "name": "stdout",
     "output_type": "stream",
     "text": [
      "Epoch 1 | Avg Loss: 0.4924 | Avg Precision: 71.91%\n"
     ]
    },
    {
     "name": "stderr",
     "output_type": "stream",
     "text": [
      "Train: 100%|\u001B[32m████████████████████████\u001B[0m| 295/295 [00:58<00:00,  5.06batch/s, Loss: 0.2975 | Precision: 79.41%]\u001B[0m\n"
     ]
    },
    {
     "name": "stdout",
     "output_type": "stream",
     "text": [
      "Epoch 2 | Avg Loss: 0.4143 | Avg Precision: 78.62%\n"
     ]
    },
    {
     "name": "stderr",
     "output_type": "stream",
     "text": [
      "Validate: 100%|\u001B[34m███████████████████████\u001B[0m| 74/74 [00:12<00:00,  6.05batch/s, Loss: 0.4747 | Precision: 75.07%]\u001B[0m\n"
     ]
    },
    {
     "name": "stdout",
     "output_type": "stream",
     "text": [
      "Epoch 2 | Avg Loss: 0.4977 | Avg Precision: 75.08% | Patience: 0\n"
     ]
    },
    {
     "name": "stderr",
     "output_type": "stream",
     "text": [
      "Train: 100%|\u001B[32m████████████████████████\u001B[0m| 295/295 [00:57<00:00,  5.09batch/s, Loss: 0.2920 | Precision: 78.82%]\u001B[0m\n"
     ]
    },
    {
     "name": "stdout",
     "output_type": "stream",
     "text": [
      "Epoch 3 | Avg Loss: 0.4239 | Avg Precision: 77.77%\n"
     ]
    },
    {
     "name": "stderr",
     "output_type": "stream",
     "text": [
      "Train: 100%|\u001B[32m████████████████████████\u001B[0m| 295/295 [00:58<00:00,  5.07batch/s, Loss: 0.3021 | Precision: 80.58%]\u001B[0m\n"
     ]
    },
    {
     "name": "stdout",
     "output_type": "stream",
     "text": [
      "Epoch 4 | Avg Loss: 0.3948 | Avg Precision: 79.78%\n"
     ]
    },
    {
     "name": "stderr",
     "output_type": "stream",
     "text": [
      "Validate: 100%|\u001B[34m███████████████████████\u001B[0m| 74/74 [00:12<00:00,  5.89batch/s, Loss: 0.4206 | Precision: 79.69%]\u001B[0m\n"
     ]
    },
    {
     "name": "stdout",
     "output_type": "stream",
     "text": [
      "Epoch 4 | Avg Loss: 0.4162 | Avg Precision: 79.87% | Patience: 0\n"
     ]
    },
    {
     "name": "stderr",
     "output_type": "stream",
     "text": [
      "Train: 100%|\u001B[32m████████████████████████\u001B[0m| 295/295 [00:57<00:00,  5.10batch/s, Loss: 0.3050 | Precision: 81.71%]\u001B[0m\n"
     ]
    },
    {
     "name": "stdout",
     "output_type": "stream",
     "text": [
      "Epoch 5 | Avg Loss: 0.3766 | Avg Precision: 81.32%\n"
     ]
    },
    {
     "name": "stderr",
     "output_type": "stream",
     "text": [
      "Train: 100%|\u001B[32m████████████████████████\u001B[0m| 295/295 [00:58<00:00,  5.03batch/s, Loss: 0.2802 | Precision: 82.31%]\u001B[0m\n"
     ]
    },
    {
     "name": "stdout",
     "output_type": "stream",
     "text": [
      "Epoch 6 | Avg Loss: 0.3664 | Avg Precision: 82.02%\n"
     ]
    },
    {
     "name": "stderr",
     "output_type": "stream",
     "text": [
      "Validate: 100%|\u001B[34m███████████████████████\u001B[0m| 74/74 [00:12<00:00,  5.99batch/s, Loss: 0.3829 | Precision: 82.26%]\u001B[0m\n"
     ]
    },
    {
     "name": "stdout",
     "output_type": "stream",
     "text": [
      "Epoch 6 | Avg Loss: 0.3785 | Avg Precision: 82.33% | Patience: 0\n"
     ]
    },
    {
     "name": "stderr",
     "output_type": "stream",
     "text": [
      "Train: 100%|\u001B[32m████████████████████████\u001B[0m| 295/295 [00:58<00:00,  5.04batch/s, Loss: 0.2663 | Precision: 82.80%]\u001B[0m\n"
     ]
    },
    {
     "name": "stdout",
     "output_type": "stream",
     "text": [
      "Epoch 7 | Avg Loss: 0.3601 | Avg Precision: 82.55%\n"
     ]
    },
    {
     "name": "stderr",
     "output_type": "stream",
     "text": [
      "Train: 100%|\u001B[32m████████████████████████\u001B[0m| 295/295 [00:58<00:00,  5.04batch/s, Loss: 0.2639 | Precision: 83.00%]\u001B[0m\n"
     ]
    },
    {
     "name": "stdout",
     "output_type": "stream",
     "text": [
      "Epoch 8 | Avg Loss: 0.3549 | Avg Precision: 82.88%\n"
     ]
    },
    {
     "name": "stderr",
     "output_type": "stream",
     "text": [
      "Validate: 100%|\u001B[34m███████████████████████\u001B[0m| 74/74 [00:12<00:00,  5.95batch/s, Loss: 0.3719 | Precision: 81.05%]\u001B[0m\n"
     ]
    },
    {
     "name": "stdout",
     "output_type": "stream",
     "text": [
      "Epoch 8 | Avg Loss: 0.3736 | Avg Precision: 81.18% | Patience: 1\n"
     ]
    },
    {
     "name": "stderr",
     "output_type": "stream",
     "text": [
      "Train: 100%|\u001B[32m████████████████████████\u001B[0m| 295/295 [00:58<00:00,  5.06batch/s, Loss: 0.2353 | Precision: 83.14%]\u001B[0m\n"
     ]
    },
    {
     "name": "stdout",
     "output_type": "stream",
     "text": [
      "Epoch 9 | Avg Loss: 0.3521 | Avg Precision: 82.85%\n"
     ]
    },
    {
     "name": "stderr",
     "output_type": "stream",
     "text": [
      "Train: 100%|\u001B[32m████████████████████████\u001B[0m| 295/295 [00:57<00:00,  5.11batch/s, Loss: 0.2665 | Precision: 83.33%]\u001B[0m\n"
     ]
    },
    {
     "name": "stdout",
     "output_type": "stream",
     "text": [
      "Epoch 10 | Avg Loss: 0.3483 | Avg Precision: 83.18%\n"
     ]
    },
    {
     "name": "stderr",
     "output_type": "stream",
     "text": [
      "Validate: 100%|\u001B[34m███████████████████████\u001B[0m| 74/74 [00:12<00:00,  5.98batch/s, Loss: 0.3542 | Precision: 82.28%]\u001B[0m\n"
     ]
    },
    {
     "name": "stdout",
     "output_type": "stream",
     "text": [
      "Epoch 10 | Avg Loss: 0.3540 | Avg Precision: 82.37% | Patience: 0\n"
     ]
    },
    {
     "name": "stderr",
     "output_type": "stream",
     "text": [
      "Train: 100%|\u001B[32m████████████████████████\u001B[0m| 295/295 [00:58<00:00,  5.06batch/s, Loss: 0.2202 | Precision: 83.66%]\u001B[0m\n"
     ]
    },
    {
     "name": "stdout",
     "output_type": "stream",
     "text": [
      "Epoch 11 | Avg Loss: 0.3422 | Avg Precision: 83.49%\n"
     ]
    },
    {
     "name": "stderr",
     "output_type": "stream",
     "text": [
      "Train: 100%|\u001B[32m████████████████████████\u001B[0m| 295/295 [00:58<00:00,  5.05batch/s, Loss: 0.2652 | Precision: 83.92%]\u001B[0m\n"
     ]
    },
    {
     "name": "stdout",
     "output_type": "stream",
     "text": [
      "Epoch 12 | Avg Loss: 0.3384 | Avg Precision: 83.80%\n"
     ]
    },
    {
     "name": "stderr",
     "output_type": "stream",
     "text": [
      "Validate: 100%|\u001B[34m███████████████████████\u001B[0m| 74/74 [00:12<00:00,  5.86batch/s, Loss: 0.3377 | Precision: 83.81%]\u001B[0m\n"
     ]
    },
    {
     "name": "stdout",
     "output_type": "stream",
     "text": [
      "Epoch 12 | Avg Loss: 0.3416 | Avg Precision: 83.90% | Patience: 0\n"
     ]
    },
    {
     "name": "stderr",
     "output_type": "stream",
     "text": [
      "Train: 100%|\u001B[32m████████████████████████\u001B[0m| 295/295 [00:58<00:00,  5.04batch/s, Loss: 0.2388 | Precision: 84.12%]\u001B[0m\n"
     ]
    },
    {
     "name": "stdout",
     "output_type": "stream",
     "text": [
      "Epoch 13 | Avg Loss: 0.3353 | Avg Precision: 84.05%\n"
     ]
    },
    {
     "name": "stderr",
     "output_type": "stream",
     "text": [
      "Train: 100%|\u001B[32m████████████████████████\u001B[0m| 295/295 [00:58<00:00,  5.03batch/s, Loss: 0.2691 | Precision: 84.26%]\u001B[0m\n"
     ]
    },
    {
     "name": "stdout",
     "output_type": "stream",
     "text": [
      "Epoch 14 | Avg Loss: 0.3324 | Avg Precision: 84.05%\n"
     ]
    },
    {
     "name": "stderr",
     "output_type": "stream",
     "text": [
      "Validate: 100%|\u001B[34m███████████████████████\u001B[0m| 74/74 [00:12<00:00,  6.07batch/s, Loss: 0.3773 | Precision: 81.62%]\u001B[0m\n"
     ]
    },
    {
     "name": "stdout",
     "output_type": "stream",
     "text": [
      "Epoch 14 | Avg Loss: 0.3608 | Avg Precision: 81.73% | Patience: 1\n"
     ]
    },
    {
     "name": "stderr",
     "output_type": "stream",
     "text": [
      "Train: 100%|\u001B[32m████████████████████████\u001B[0m| 295/295 [00:58<00:00,  5.07batch/s, Loss: 0.2723 | Precision: 84.37%]\u001B[0m\n"
     ]
    },
    {
     "name": "stdout",
     "output_type": "stream",
     "text": [
      "Epoch 15 | Avg Loss: 0.3306 | Avg Precision: 84.19%\n"
     ]
    },
    {
     "name": "stderr",
     "output_type": "stream",
     "text": [
      "Train: 100%|\u001B[32m████████████████████████\u001B[0m| 295/295 [00:58<00:00,  5.04batch/s, Loss: 0.2226 | Precision: 84.60%]\u001B[0m\n"
     ]
    },
    {
     "name": "stdout",
     "output_type": "stream",
     "text": [
      "Epoch 16 | Avg Loss: 0.3266 | Avg Precision: 84.30%\n"
     ]
    },
    {
     "name": "stderr",
     "output_type": "stream",
     "text": [
      "Validate: 100%|\u001B[34m███████████████████████\u001B[0m| 74/74 [00:12<00:00,  5.81batch/s, Loss: 0.3447 | Precision: 83.34%]\u001B[0m\n"
     ]
    },
    {
     "name": "stdout",
     "output_type": "stream",
     "text": [
      "Epoch 16 | Avg Loss: 0.3400 | Avg Precision: 83.34% | Patience: 2\n"
     ]
    },
    {
     "name": "stderr",
     "output_type": "stream",
     "text": [
      "Train: 100%|\u001B[32m████████████████████████\u001B[0m| 295/295 [00:58<00:00,  5.05batch/s, Loss: 0.2257 | Precision: 84.63%]\u001B[0m\n"
     ]
    },
    {
     "name": "stdout",
     "output_type": "stream",
     "text": [
      "Epoch 17 | Avg Loss: 0.3253 | Avg Precision: 84.40%\n"
     ]
    },
    {
     "name": "stderr",
     "output_type": "stream",
     "text": [
      "Train: 100%|\u001B[32m████████████████████████\u001B[0m| 295/295 [00:58<00:00,  5.04batch/s, Loss: 0.2393 | Precision: 84.81%]\u001B[0m\n"
     ]
    },
    {
     "name": "stdout",
     "output_type": "stream",
     "text": [
      "Epoch 18 | Avg Loss: 0.3225 | Avg Precision: 84.61%\n"
     ]
    },
    {
     "name": "stderr",
     "output_type": "stream",
     "text": [
      "Validate: 100%|\u001B[34m███████████████████████\u001B[0m| 74/74 [00:12<00:00,  5.97batch/s, Loss: 0.3445 | Precision: 83.33%]\u001B[0m\n"
     ]
    },
    {
     "name": "stdout",
     "output_type": "stream",
     "text": [
      "Epoch 18 | Avg Loss: 0.3407 | Avg Precision: 83.36% | Patience: 3\n"
     ]
    },
    {
     "name": "stderr",
     "output_type": "stream",
     "text": [
      "Train: 100%|\u001B[32m████████████████████████\u001B[0m| 295/295 [00:58<00:00,  5.07batch/s, Loss: 0.2125 | Precision: 84.98%]\u001B[0m\n"
     ]
    },
    {
     "name": "stdout",
     "output_type": "stream",
     "text": [
      "Epoch 19 | Avg Loss: 0.3201 | Avg Precision: 84.86%\n"
     ]
    },
    {
     "name": "stderr",
     "output_type": "stream",
     "text": [
      "Train: 100%|\u001B[32m████████████████████████\u001B[0m| 295/295 [00:58<00:00,  5.05batch/s, Loss: 0.2262 | Precision: 85.17%]\u001B[0m\n"
     ]
    },
    {
     "name": "stdout",
     "output_type": "stream",
     "text": [
      "Epoch 20 | Avg Loss: 0.3168 | Avg Precision: 85.04%\n"
     ]
    },
    {
     "name": "stderr",
     "output_type": "stream",
     "text": [
      "Validate: 100%|\u001B[34m███████████████████████\u001B[0m| 74/74 [00:12<00:00,  5.77batch/s, Loss: 0.3441 | Precision: 83.88%]\u001B[0m\n"
     ]
    },
    {
     "name": "stdout",
     "output_type": "stream",
     "text": [
      "Epoch 20 | Avg Loss: 0.3330 | Avg Precision: 83.98% | Patience: 0\n"
     ]
    },
    {
     "name": "stderr",
     "output_type": "stream",
     "text": [
      "Train: 100%|\u001B[32m████████████████████████\u001B[0m| 295/295 [00:58<00:00,  5.03batch/s, Loss: 0.2595 | Precision: 85.14%]\u001B[0m\n"
     ]
    },
    {
     "name": "stdout",
     "output_type": "stream",
     "text": [
      "Epoch 21 | Avg Loss: 0.3174 | Avg Precision: 85.00%\n"
     ]
    },
    {
     "name": "stderr",
     "output_type": "stream",
     "text": [
      "Train: 100%|\u001B[32m████████████████████████\u001B[0m| 295/295 [00:58<00:00,  5.04batch/s, Loss: 0.2317 | Precision: 85.27%]\u001B[0m\n"
     ]
    },
    {
     "name": "stdout",
     "output_type": "stream",
     "text": [
      "Epoch 22 | Avg Loss: 0.3134 | Avg Precision: 85.23%\n"
     ]
    },
    {
     "name": "stderr",
     "output_type": "stream",
     "text": [
      "Validate: 100%|\u001B[34m███████████████████████\u001B[0m| 74/74 [00:12<00:00,  5.99batch/s, Loss: 0.3357 | Precision: 84.52%]\u001B[0m\n"
     ]
    },
    {
     "name": "stdout",
     "output_type": "stream",
     "text": [
      "Epoch 22 | Avg Loss: 0.3226 | Avg Precision: 84.66% | Patience: 0\n"
     ]
    },
    {
     "name": "stderr",
     "output_type": "stream",
     "text": [
      "Train: 100%|\u001B[32m████████████████████████\u001B[0m| 295/295 [00:58<00:00,  5.06batch/s, Loss: 0.1939 | Precision: 85.28%]\u001B[0m\n"
     ]
    },
    {
     "name": "stdout",
     "output_type": "stream",
     "text": [
      "Epoch 23 | Avg Loss: 0.3138 | Avg Precision: 85.20%\n"
     ]
    },
    {
     "name": "stderr",
     "output_type": "stream",
     "text": [
      "Train: 100%|\u001B[32m████████████████████████\u001B[0m| 295/295 [00:58<00:00,  5.03batch/s, Loss: 0.2209 | Precision: 85.36%]\u001B[0m\n"
     ]
    },
    {
     "name": "stdout",
     "output_type": "stream",
     "text": [
      "Epoch 24 | Avg Loss: 0.3129 | Avg Precision: 85.27%\n"
     ]
    },
    {
     "name": "stderr",
     "output_type": "stream",
     "text": [
      "Validate: 100%|\u001B[34m███████████████████████\u001B[0m| 74/74 [00:12<00:00,  5.88batch/s, Loss: 0.3280 | Precision: 84.77%]\u001B[0m\n"
     ]
    },
    {
     "name": "stdout",
     "output_type": "stream",
     "text": [
      "Epoch 24 | Avg Loss: 0.3274 | Avg Precision: 84.83% | Patience: 0\n"
     ]
    },
    {
     "name": "stderr",
     "output_type": "stream",
     "text": [
      "Train: 100%|\u001B[32m████████████████████████\u001B[0m| 295/295 [00:58<00:00,  5.04batch/s, Loss: 0.2095 | Precision: 85.34%]\u001B[0m\n"
     ]
    },
    {
     "name": "stdout",
     "output_type": "stream",
     "text": [
      "Epoch 25 | Avg Loss: 0.3120 | Avg Precision: 85.26%\n"
     ]
    },
    {
     "name": "stderr",
     "output_type": "stream",
     "text": [
      "Train: 100%|\u001B[32m████████████████████████\u001B[0m| 295/295 [00:58<00:00,  5.02batch/s, Loss: 0.2117 | Precision: 85.48%]\u001B[0m\n"
     ]
    },
    {
     "name": "stdout",
     "output_type": "stream",
     "text": [
      "Epoch 26 | Avg Loss: 0.3107 | Avg Precision: 85.36%\n"
     ]
    },
    {
     "name": "stderr",
     "output_type": "stream",
     "text": [
      "Validate: 100%|\u001B[34m███████████████████████\u001B[0m| 74/74 [00:12<00:00,  5.99batch/s, Loss: 0.3276 | Precision: 84.29%]\u001B[0m\n"
     ]
    },
    {
     "name": "stdout",
     "output_type": "stream",
     "text": [
      "Epoch 26 | Avg Loss: 0.3265 | Avg Precision: 84.41% | Patience: 1\n"
     ]
    },
    {
     "name": "stderr",
     "output_type": "stream",
     "text": [
      "Train: 100%|\u001B[32m████████████████████████\u001B[0m| 295/295 [00:58<00:00,  5.04batch/s, Loss: 0.2023 | Precision: 85.51%]\u001B[0m\n"
     ]
    },
    {
     "name": "stdout",
     "output_type": "stream",
     "text": [
      "Epoch 27 | Avg Loss: 0.3099 | Avg Precision: 85.27%\n"
     ]
    },
    {
     "name": "stderr",
     "output_type": "stream",
     "text": [
      "Train: 100%|\u001B[32m████████████████████████\u001B[0m| 295/295 [00:58<00:00,  5.02batch/s, Loss: 0.2068 | Precision: 85.57%]\u001B[0m\n"
     ]
    },
    {
     "name": "stdout",
     "output_type": "stream",
     "text": [
      "Epoch 28 | Avg Loss: 0.3086 | Avg Precision: 85.51%\n"
     ]
    },
    {
     "name": "stderr",
     "output_type": "stream",
     "text": [
      "Validate: 100%|\u001B[34m███████████████████████\u001B[0m| 74/74 [00:12<00:00,  5.83batch/s, Loss: 0.3259 | Precision: 84.79%]\u001B[0m\n"
     ]
    },
    {
     "name": "stdout",
     "output_type": "stream",
     "text": [
      "Epoch 28 | Avg Loss: 0.3203 | Avg Precision: 84.86% | Patience: 0\n"
     ]
    },
    {
     "name": "stderr",
     "output_type": "stream",
     "text": [
      "Train: 100%|\u001B[32m████████████████████████\u001B[0m| 295/295 [00:58<00:00,  5.03batch/s, Loss: 0.2325 | Precision: 85.67%]\u001B[0m\n"
     ]
    },
    {
     "name": "stdout",
     "output_type": "stream",
     "text": [
      "Epoch 29 | Avg Loss: 0.3072 | Avg Precision: 85.61%\n"
     ]
    },
    {
     "name": "stderr",
     "output_type": "stream",
     "text": [
      "Train: 100%|\u001B[32m████████████████████████\u001B[0m| 295/295 [00:58<00:00,  5.04batch/s, Loss: 0.2051 | Precision: 85.73%]\u001B[0m\n"
     ]
    },
    {
     "name": "stdout",
     "output_type": "stream",
     "text": [
      "Epoch 30 | Avg Loss: 0.3066 | Avg Precision: 85.61%\n"
     ]
    },
    {
     "name": "stderr",
     "output_type": "stream",
     "text": [
      "Validate: 100%|\u001B[34m███████████████████████\u001B[0m| 74/74 [00:12<00:00,  5.91batch/s, Loss: 0.3191 | Precision: 84.40%]\u001B[0m\n"
     ]
    },
    {
     "name": "stdout",
     "output_type": "stream",
     "text": [
      "Epoch 30 | Avg Loss: 0.3257 | Avg Precision: 84.39% | Patience: 1\n"
     ]
    },
    {
     "name": "stderr",
     "output_type": "stream",
     "text": [
      "Train: 100%|\u001B[32m████████████████████████\u001B[0m| 295/295 [00:58<00:00,  5.06batch/s, Loss: 0.2335 | Precision: 85.73%]\u001B[0m\n"
     ]
    },
    {
     "name": "stdout",
     "output_type": "stream",
     "text": [
      "Epoch 31 | Avg Loss: 0.3070 | Avg Precision: 85.62%\n"
     ]
    },
    {
     "name": "stderr",
     "output_type": "stream",
     "text": [
      "Train: 100%|\u001B[32m████████████████████████\u001B[0m| 295/295 [00:58<00:00,  5.03batch/s, Loss: 0.1997 | Precision: 85.76%]\u001B[0m\n"
     ]
    },
    {
     "name": "stdout",
     "output_type": "stream",
     "text": [
      "Epoch 32 | Avg Loss: 0.3053 | Avg Precision: 85.63%\n"
     ]
    },
    {
     "name": "stderr",
     "output_type": "stream",
     "text": [
      "Validate: 100%|\u001B[34m███████████████████████\u001B[0m| 74/74 [00:12<00:00,  5.92batch/s, Loss: 0.3155 | Precision: 84.67%]\u001B[0m\n"
     ]
    },
    {
     "name": "stdout",
     "output_type": "stream",
     "text": [
      "Epoch 32 | Avg Loss: 0.3227 | Avg Precision: 84.71% | Patience: 2\n"
     ]
    },
    {
     "name": "stderr",
     "output_type": "stream",
     "text": [
      "Train: 100%|\u001B[32m████████████████████████\u001B[0m| 295/295 [00:57<00:00,  5.16batch/s, Loss: 0.2423 | Precision: 85.79%]\u001B[0m\n"
     ]
    },
    {
     "name": "stdout",
     "output_type": "stream",
     "text": [
      "Epoch 33 | Avg Loss: 0.3056 | Avg Precision: 85.70%\n"
     ]
    },
    {
     "name": "stderr",
     "output_type": "stream",
     "text": [
      "Train: 100%|\u001B[32m████████████████████████\u001B[0m| 295/295 [00:57<00:00,  5.15batch/s, Loss: 0.2330 | Precision: 85.85%]\u001B[0m\n"
     ]
    },
    {
     "name": "stdout",
     "output_type": "stream",
     "text": [
      "Epoch 34 | Avg Loss: 0.3038 | Avg Precision: 85.68%\n"
     ]
    },
    {
     "name": "stderr",
     "output_type": "stream",
     "text": [
      "Validate: 100%|\u001B[34m███████████████████████\u001B[0m| 74/74 [00:12<00:00,  6.06batch/s, Loss: 0.3205 | Precision: 84.61%]\u001B[0m\n"
     ]
    },
    {
     "name": "stdout",
     "output_type": "stream",
     "text": [
      "Epoch 34 | Avg Loss: 0.3327 | Avg Precision: 84.69% | Patience: 3\n"
     ]
    },
    {
     "name": "stderr",
     "output_type": "stream",
     "text": [
      "Train: 100%|\u001B[32m████████████████████████\u001B[0m| 295/295 [00:56<00:00,  5.24batch/s, Loss: 0.2205 | Precision: 85.93%]\u001B[0m\n"
     ]
    },
    {
     "name": "stdout",
     "output_type": "stream",
     "text": [
      "Epoch 35 | Avg Loss: 0.3021 | Avg Precision: 85.75%\n"
     ]
    },
    {
     "name": "stderr",
     "output_type": "stream",
     "text": [
      "Train: 100%|\u001B[32m████████████████████████\u001B[0m| 295/295 [00:56<00:00,  5.19batch/s, Loss: 0.1867 | Precision: 85.92%]\u001B[0m\n"
     ]
    },
    {
     "name": "stdout",
     "output_type": "stream",
     "text": [
      "Epoch 36 | Avg Loss: 0.3024 | Avg Precision: 85.69%\n"
     ]
    },
    {
     "name": "stderr",
     "output_type": "stream",
     "text": [
      "Validate: 100%|\u001B[34m███████████████████████\u001B[0m| 74/74 [00:12<00:00,  6.01batch/s, Loss: 0.3232 | Precision: 85.88%]\u001B[0m\n"
     ]
    },
    {
     "name": "stdout",
     "output_type": "stream",
     "text": [
      "Epoch 36 | Avg Loss: 0.3240 | Avg Precision: 85.86% | Patience: 0\n"
     ]
    },
    {
     "name": "stderr",
     "output_type": "stream",
     "text": [
      "Train: 100%|\u001B[32m████████████████████████\u001B[0m| 295/295 [00:57<00:00,  5.17batch/s, Loss: 0.2108 | Precision: 86.03%]\u001B[0m\n"
     ]
    },
    {
     "name": "stdout",
     "output_type": "stream",
     "text": [
      "Epoch 37 | Avg Loss: 0.3012 | Avg Precision: 85.98%\n"
     ]
    },
    {
     "name": "stderr",
     "output_type": "stream",
     "text": [
      "Train: 100%|\u001B[32m████████████████████████\u001B[0m| 295/295 [00:59<00:00,  5.00batch/s, Loss: 0.1737 | Precision: 86.02%]\u001B[0m\n"
     ]
    },
    {
     "name": "stdout",
     "output_type": "stream",
     "text": [
      "Epoch 38 | Avg Loss: 0.3008 | Avg Precision: 85.96%\n"
     ]
    },
    {
     "name": "stderr",
     "output_type": "stream",
     "text": [
      "Validate: 100%|\u001B[34m███████████████████████\u001B[0m| 74/74 [00:12<00:00,  5.83batch/s, Loss: 0.3130 | Precision: 85.90%]\u001B[0m\n"
     ]
    },
    {
     "name": "stdout",
     "output_type": "stream",
     "text": [
      "Epoch 38 | Avg Loss: 0.3199 | Avg Precision: 85.90% | Patience: 0\n"
     ]
    },
    {
     "name": "stderr",
     "output_type": "stream",
     "text": [
      "Train: 100%|\u001B[32m████████████████████████\u001B[0m| 295/295 [00:59<00:00,  5.00batch/s, Loss: 0.1928 | Precision: 86.09%]\u001B[0m\n"
     ]
    },
    {
     "name": "stdout",
     "output_type": "stream",
     "text": [
      "Epoch 39 | Avg Loss: 0.2999 | Avg Precision: 86.04%\n"
     ]
    },
    {
     "name": "stderr",
     "output_type": "stream",
     "text": [
      "Train: 100%|\u001B[32m████████████████████████\u001B[0m| 295/295 [00:58<00:00,  5.03batch/s, Loss: 0.1929 | Precision: 86.16%]\u001B[0m\n"
     ]
    },
    {
     "name": "stdout",
     "output_type": "stream",
     "text": [
      "Epoch 40 | Avg Loss: 0.2981 | Avg Precision: 86.09%\n"
     ]
    },
    {
     "name": "stderr",
     "output_type": "stream",
     "text": [
      "Validate: 100%|\u001B[34m███████████████████████\u001B[0m| 74/74 [00:12<00:00,  5.87batch/s, Loss: 0.3068 | Precision: 85.71%]\u001B[0m\n"
     ]
    },
    {
     "name": "stdout",
     "output_type": "stream",
     "text": [
      "Epoch 40 | Avg Loss: 0.3213 | Avg Precision: 85.64% | Patience: 1\n"
     ]
    },
    {
     "name": "stderr",
     "output_type": "stream",
     "text": [
      "Train: 100%|\u001B[32m████████████████████████\u001B[0m| 295/295 [00:59<00:00,  4.98batch/s, Loss: 0.1819 | Precision: 86.14%]\u001B[0m\n"
     ]
    },
    {
     "name": "stdout",
     "output_type": "stream",
     "text": [
      "Epoch 41 | Avg Loss: 0.2980 | Avg Precision: 86.04%\n"
     ]
    },
    {
     "name": "stderr",
     "output_type": "stream",
     "text": [
      "Train: 100%|\u001B[32m████████████████████████\u001B[0m| 295/295 [00:59<00:00,  4.95batch/s, Loss: 0.1925 | Precision: 86.21%]\u001B[0m\n"
     ]
    },
    {
     "name": "stdout",
     "output_type": "stream",
     "text": [
      "Epoch 42 | Avg Loss: 0.2967 | Avg Precision: 86.10%\n"
     ]
    },
    {
     "name": "stderr",
     "output_type": "stream",
     "text": [
      "Validate: 100%|\u001B[34m███████████████████████\u001B[0m| 74/74 [00:12<00:00,  5.79batch/s, Loss: 0.3067 | Precision: 86.02%]\u001B[0m\n"
     ]
    },
    {
     "name": "stdout",
     "output_type": "stream",
     "text": [
      "Epoch 42 | Avg Loss: 0.3187 | Avg Precision: 85.96% | Patience: 0\n"
     ]
    },
    {
     "name": "stderr",
     "output_type": "stream",
     "text": [
      "Train: 100%|\u001B[32m████████████████████████\u001B[0m| 295/295 [00:58<00:00,  5.00batch/s, Loss: 0.1875 | Precision: 86.23%]\u001B[0m\n"
     ]
    },
    {
     "name": "stdout",
     "output_type": "stream",
     "text": [
      "Epoch 43 | Avg Loss: 0.2970 | Avg Precision: 86.16%\n"
     ]
    },
    {
     "name": "stderr",
     "output_type": "stream",
     "text": [
      "Train: 100%|\u001B[32m████████████████████████\u001B[0m| 295/295 [00:59<00:00,  4.98batch/s, Loss: 0.1874 | Precision: 86.25%]\u001B[0m\n"
     ]
    },
    {
     "name": "stdout",
     "output_type": "stream",
     "text": [
      "Epoch 44 | Avg Loss: 0.2963 | Avg Precision: 86.16%\n"
     ]
    },
    {
     "name": "stderr",
     "output_type": "stream",
     "text": [
      "Validate: 100%|\u001B[34m███████████████████████\u001B[0m| 74/74 [00:12<00:00,  5.76batch/s, Loss: 0.3107 | Precision: 84.78%]\u001B[0m\n"
     ]
    },
    {
     "name": "stdout",
     "output_type": "stream",
     "text": [
      "Epoch 44 | Avg Loss: 0.3298 | Avg Precision: 84.78% | Patience: 1\n"
     ]
    },
    {
     "name": "stderr",
     "output_type": "stream",
     "text": [
      "Train: 100%|\u001B[32m████████████████████████\u001B[0m| 295/295 [00:59<00:00,  4.99batch/s, Loss: 0.1999 | Precision: 86.18%]\u001B[0m\n"
     ]
    },
    {
     "name": "stdout",
     "output_type": "stream",
     "text": [
      "Epoch 45 | Avg Loss: 0.2971 | Avg Precision: 86.05%\n"
     ]
    },
    {
     "name": "stderr",
     "output_type": "stream",
     "text": [
      "Train: 100%|\u001B[32m████████████████████████\u001B[0m| 295/295 [00:59<00:00,  5.00batch/s, Loss: 0.2039 | Precision: 86.28%]\u001B[0m\n"
     ]
    },
    {
     "name": "stdout",
     "output_type": "stream",
     "text": [
      "Epoch 46 | Avg Loss: 0.2958 | Avg Precision: 86.17%\n"
     ]
    },
    {
     "name": "stderr",
     "output_type": "stream",
     "text": [
      "Validate: 100%|\u001B[34m███████████████████████\u001B[0m| 74/74 [00:12<00:00,  5.80batch/s, Loss: 0.3067 | Precision: 86.52%]\u001B[0m\n"
     ]
    },
    {
     "name": "stdout",
     "output_type": "stream",
     "text": [
      "Epoch 46 | Avg Loss: 0.3144 | Avg Precision: 86.51% | Patience: 0\n"
     ]
    },
    {
     "name": "stderr",
     "output_type": "stream",
     "text": [
      "Train: 100%|\u001B[32m████████████████████████\u001B[0m| 295/295 [00:58<00:00,  5.00batch/s, Loss: 0.1909 | Precision: 86.28%]\u001B[0m\n"
     ]
    },
    {
     "name": "stdout",
     "output_type": "stream",
     "text": [
      "Epoch 47 | Avg Loss: 0.2970 | Avg Precision: 86.31%\n"
     ]
    },
    {
     "name": "stderr",
     "output_type": "stream",
     "text": [
      "Train: 100%|\u001B[32m████████████████████████\u001B[0m| 295/295 [00:58<00:00,  5.00batch/s, Loss: 0.1826 | Precision: 86.25%]\u001B[0m\n"
     ]
    },
    {
     "name": "stdout",
     "output_type": "stream",
     "text": [
      "Epoch 48 | Avg Loss: 0.2968 | Avg Precision: 86.24%\n"
     ]
    },
    {
     "name": "stderr",
     "output_type": "stream",
     "text": [
      "Validate: 100%|\u001B[34m███████████████████████\u001B[0m| 74/74 [00:12<00:00,  5.88batch/s, Loss: 0.3143 | Precision: 86.34%]\u001B[0m\n"
     ]
    },
    {
     "name": "stdout",
     "output_type": "stream",
     "text": [
      "Epoch 48 | Avg Loss: 0.3266 | Avg Precision: 86.29% | Patience: 1\n"
     ]
    },
    {
     "name": "stderr",
     "output_type": "stream",
     "text": [
      "Train: 100%|\u001B[32m████████████████████████\u001B[0m| 295/295 [00:58<00:00,  5.01batch/s, Loss: 0.1855 | Precision: 86.27%]\u001B[0m\n"
     ]
    },
    {
     "name": "stdout",
     "output_type": "stream",
     "text": [
      "Epoch 49 | Avg Loss: 0.2964 | Avg Precision: 86.23%\n"
     ]
    },
    {
     "name": "stderr",
     "output_type": "stream",
     "text": [
      "Train: 100%|\u001B[32m████████████████████████\u001B[0m| 295/295 [00:58<00:00,  5.04batch/s, Loss: 0.1904 | Precision: 86.27%]\u001B[0m\n"
     ]
    },
    {
     "name": "stdout",
     "output_type": "stream",
     "text": [
      "Epoch 50 | Avg Loss: 0.2961 | Avg Precision: 86.23%\n"
     ]
    },
    {
     "name": "stderr",
     "output_type": "stream",
     "text": [
      "Validate: 100%|\u001B[34m███████████████████████\u001B[0m| 74/74 [00:12<00:00,  5.89batch/s, Loss: 0.3140 | Precision: 86.02%]\u001B[0m\n"
     ]
    },
    {
     "name": "stdout",
     "output_type": "stream",
     "text": [
      "Epoch 50 | Avg Loss: 0.3200 | Avg Precision: 86.01% | Patience: 2\n"
     ]
    },
    {
     "name": "stderr",
     "output_type": "stream",
     "text": [
      "Train: 100%|\u001B[32m████████████████████████\u001B[0m| 295/295 [00:58<00:00,  5.01batch/s, Loss: 0.1819 | Precision: 86.23%]\u001B[0m\n"
     ]
    },
    {
     "name": "stdout",
     "output_type": "stream",
     "text": [
      "Epoch 51 | Avg Loss: 0.2961 | Avg Precision: 86.23%\n"
     ]
    },
    {
     "name": "stderr",
     "output_type": "stream",
     "text": [
      "Train: 100%|\u001B[32m████████████████████████\u001B[0m| 295/295 [00:58<00:00,  5.00batch/s, Loss: 0.1865 | Precision: 86.32%]\u001B[0m\n"
     ]
    },
    {
     "name": "stdout",
     "output_type": "stream",
     "text": [
      "Epoch 52 | Avg Loss: 0.2954 | Avg Precision: 86.29%\n"
     ]
    },
    {
     "name": "stderr",
     "output_type": "stream",
     "text": [
      "Validate: 100%|\u001B[34m███████████████████████\u001B[0m| 74/74 [00:12<00:00,  5.94batch/s, Loss: 0.3073 | Precision: 86.24%]\u001B[0m\n"
     ]
    },
    {
     "name": "stdout",
     "output_type": "stream",
     "text": [
      "Epoch 52 | Avg Loss: 0.3145 | Avg Precision: 86.27% | Patience: 3\n"
     ]
    },
    {
     "name": "stderr",
     "output_type": "stream",
     "text": [
      "Train: 100%|\u001B[32m████████████████████████\u001B[0m| 295/295 [00:58<00:00,  5.01batch/s, Loss: 0.1529 | Precision: 86.44%]\u001B[0m\n"
     ]
    },
    {
     "name": "stdout",
     "output_type": "stream",
     "text": [
      "Epoch 53 | Avg Loss: 0.2931 | Avg Precision: 86.41%\n"
     ]
    },
    {
     "name": "stderr",
     "output_type": "stream",
     "text": [
      "Train: 100%|\u001B[32m████████████████████████\u001B[0m| 295/295 [00:58<00:00,  5.01batch/s, Loss: 0.1867 | Precision: 86.45%]\u001B[0m\n"
     ]
    },
    {
     "name": "stdout",
     "output_type": "stream",
     "text": [
      "Epoch 54 | Avg Loss: 0.2929 | Avg Precision: 86.42%\n"
     ]
    },
    {
     "name": "stderr",
     "output_type": "stream",
     "text": [
      "Validate: 100%|\u001B[34m███████████████████████\u001B[0m| 74/74 [00:12<00:00,  5.96batch/s, Loss: 0.2979 | Precision: 86.02%]\u001B[0m\n"
     ]
    },
    {
     "name": "stdout",
     "output_type": "stream",
     "text": [
      "Epoch 54 | Avg Loss: 0.3147 | Avg Precision: 85.96% | Patience: 4\n"
     ]
    },
    {
     "name": "stderr",
     "output_type": "stream",
     "text": [
      "Train: 100%|\u001B[32m████████████████████████\u001B[0m| 295/295 [00:58<00:00,  5.01batch/s, Loss: 0.1692 | Precision: 86.44%]\u001B[0m\n"
     ]
    },
    {
     "name": "stdout",
     "output_type": "stream",
     "text": [
      "Epoch 55 | Avg Loss: 0.2931 | Avg Precision: 86.35%\n"
     ]
    },
    {
     "name": "stderr",
     "output_type": "stream",
     "text": [
      "Train: 100%|\u001B[32m████████████████████████\u001B[0m| 295/295 [00:58<00:00,  5.02batch/s, Loss: 0.1725 | Precision: 86.39%]\u001B[0m\n"
     ]
    },
    {
     "name": "stdout",
     "output_type": "stream",
     "text": [
      "Epoch 56 | Avg Loss: 0.2935 | Avg Precision: 86.41%\n"
     ]
    },
    {
     "name": "stderr",
     "output_type": "stream",
     "text": [
      "Validate: 100%|\u001B[34m███████████████████████\u001B[0m| 74/74 [00:12<00:00,  6.00batch/s, Loss: 0.3045 | Precision: 85.85%]\u001B[0m\n"
     ]
    },
    {
     "name": "stdout",
     "output_type": "stream",
     "text": [
      "Epoch 56 | Avg Loss: 0.3159 | Avg Precision: 85.73% | Patience: 5\n"
     ]
    },
    {
     "name": "stderr",
     "output_type": "stream",
     "text": [
      "Train: 100%|\u001B[32m████████████████████████\u001B[0m| 295/295 [00:58<00:00,  5.02batch/s, Loss: 0.1687 | Precision: 86.44%]\u001B[0m\n"
     ]
    },
    {
     "name": "stdout",
     "output_type": "stream",
     "text": [
      "Epoch 57 | Avg Loss: 0.2930 | Avg Precision: 86.38%\n"
     ]
    },
    {
     "name": "stderr",
     "output_type": "stream",
     "text": [
      "Train: 100%|\u001B[32m████████████████████████\u001B[0m| 295/295 [00:58<00:00,  5.02batch/s, Loss: 0.1642 | Precision: 86.45%]\u001B[0m\n"
     ]
    },
    {
     "name": "stdout",
     "output_type": "stream",
     "text": [
      "Epoch 58 | Avg Loss: 0.2929 | Avg Precision: 86.39%\n"
     ]
    },
    {
     "name": "stderr",
     "output_type": "stream",
     "text": [
      "Validate: 100%|\u001B[34m███████████████████████\u001B[0m| 74/74 [00:12<00:00,  5.83batch/s, Loss: 0.3147 | Precision: 85.49%]\u001B[0m\n"
     ]
    },
    {
     "name": "stdout",
     "output_type": "stream",
     "text": [
      "Epoch 58 | Avg Loss: 0.3242 | Avg Precision: 85.41% | Patience: 6\n"
     ]
    },
    {
     "name": "stderr",
     "output_type": "stream",
     "text": [
      "Train:  38%|\u001B[32m█████████               \u001B[0m| 112/295 [00:22<00:36,  4.95batch/s, Loss: 0.3185 | Precision: 86.36%]\u001B[0m\n"
     ]
    },
    {
     "ename": "KeyboardInterrupt",
     "evalue": "",
     "output_type": "error",
     "traceback": [
      "\u001B[1;31m---------------------------------------------------------------------------\u001B[0m",
      "\u001B[1;31mKeyboardInterrupt\u001B[0m                         Traceback (most recent call last)",
      "Cell \u001B[1;32mIn[42], line 7\u001B[0m\n\u001B[0;32m      4\u001B[0m optimizer \u001B[38;5;241m=\u001B[39m optim\u001B[38;5;241m.\u001B[39mAdam(model\u001B[38;5;241m.\u001B[39mparameters(), lr\u001B[38;5;241m=\u001B[39m\u001B[38;5;241m.01\u001B[39m)\n\u001B[0;32m      5\u001B[0m scheduler \u001B[38;5;241m=\u001B[39m ReduceLROnPlateau(optimizer, \u001B[38;5;124m'\u001B[39m\u001B[38;5;124mmax\u001B[39m\u001B[38;5;124m'\u001B[39m, factor\u001B[38;5;241m=\u001B[39m\u001B[38;5;241m.9\u001B[39m, patience\u001B[38;5;241m=\u001B[39m\u001B[38;5;241m2\u001B[39m, min_lr\u001B[38;5;241m=\u001B[39m\u001B[38;5;241m.001\u001B[39m)\n\u001B[1;32m----> 7\u001B[0m model16 \u001B[38;5;241m=\u001B[39m \u001B[43mtrain_validate\u001B[49m\u001B[43m(\u001B[49m\u001B[43mmodel\u001B[49m\u001B[43m,\u001B[49m\u001B[43m \u001B[49m\u001B[43mcriterion\u001B[49m\u001B[43m,\u001B[49m\u001B[43m \u001B[49m\u001B[43moptimizer\u001B[49m\u001B[43m,\u001B[49m\u001B[43m \u001B[49m\u001B[43mscheduler\u001B[49m\u001B[43m)\u001B[49m\n\u001B[0;32m      8\u001B[0m torch\u001B[38;5;241m.\u001B[39msave(model16\u001B[38;5;241m.\u001B[39mstate_dict(), \u001B[38;5;124m'\u001B[39m\u001B[38;5;124m.\u001B[39m\u001B[38;5;130;01m\\\\\u001B[39;00m\u001B[38;5;124mmodels\u001B[39m\u001B[38;5;130;01m\\\\\u001B[39;00m\u001B[38;5;124mdownsample\u001B[39m\u001B[38;5;130;01m\\\\\u001B[39;00m\u001B[38;5;124mlstm\u001B[39m\u001B[38;5;130;01m\\\\\u001B[39;00m\u001B[38;5;124mmodel16.pth\u001B[39m\u001B[38;5;124m'\u001B[39m)\n",
      "Cell \u001B[1;32mIn[27], line 12\u001B[0m, in \u001B[0;36mtrain_validate\u001B[1;34m(model, criterion, optimizer, scheduler, epochs, train_loader, val_loader, patience)\u001B[0m\n\u001B[0;32m     10\u001B[0m precision_total \u001B[38;5;241m=\u001B[39m \u001B[38;5;241m0.0\u001B[39m\n\u001B[0;32m     11\u001B[0m \u001B[38;5;28;01mwith\u001B[39;00m tqdm(train_loader, desc\u001B[38;5;241m=\u001B[39m\u001B[38;5;124m'\u001B[39m\u001B[38;5;124mTrain\u001B[39m\u001B[38;5;124m'\u001B[39m, total\u001B[38;5;241m=\u001B[39m\u001B[38;5;28mlen\u001B[39m(train_loader), unit\u001B[38;5;241m=\u001B[39m\u001B[38;5;124m'\u001B[39m\u001B[38;5;124mbatch\u001B[39m\u001B[38;5;124m'\u001B[39m, colour\u001B[38;5;241m=\u001B[39m\u001B[38;5;124m'\u001B[39m\u001B[38;5;124mgreen\u001B[39m\u001B[38;5;124m'\u001B[39m) \u001B[38;5;28;01mas\u001B[39;00m pbar:\n\u001B[1;32m---> 12\u001B[0m     \u001B[38;5;28;01mfor\u001B[39;00m batch \u001B[38;5;129;01min\u001B[39;00m pbar:\n\u001B[0;32m     13\u001B[0m         \u001B[38;5;66;03m#Set features/targets to device\u001B[39;00m\n\u001B[0;32m     14\u001B[0m         features, label \u001B[38;5;241m=\u001B[39m batch\n\u001B[0;32m     15\u001B[0m         features \u001B[38;5;241m=\u001B[39m features\u001B[38;5;241m.\u001B[39mto(device)\n",
      "File \u001B[1;32m~\\Envs\\torch-dml\\lib\\site-packages\\tqdm\\std.py:1182\u001B[0m, in \u001B[0;36mtqdm.__iter__\u001B[1;34m(self)\u001B[0m\n\u001B[0;32m   1179\u001B[0m time \u001B[38;5;241m=\u001B[39m \u001B[38;5;28mself\u001B[39m\u001B[38;5;241m.\u001B[39m_time\n\u001B[0;32m   1181\u001B[0m \u001B[38;5;28;01mtry\u001B[39;00m:\n\u001B[1;32m-> 1182\u001B[0m     \u001B[38;5;28;01mfor\u001B[39;00m obj \u001B[38;5;129;01min\u001B[39;00m iterable:\n\u001B[0;32m   1183\u001B[0m         \u001B[38;5;28;01myield\u001B[39;00m obj\n\u001B[0;32m   1184\u001B[0m         \u001B[38;5;66;03m# Update and possibly print the progressbar.\u001B[39;00m\n\u001B[0;32m   1185\u001B[0m         \u001B[38;5;66;03m# Note: does not call self.update(1) for speed optimisation.\u001B[39;00m\n",
      "File \u001B[1;32m~\\Envs\\torch-dml\\lib\\site-packages\\torch\\utils\\data\\dataloader.py:634\u001B[0m, in \u001B[0;36m_BaseDataLoaderIter.__next__\u001B[1;34m(self)\u001B[0m\n\u001B[0;32m    631\u001B[0m \u001B[38;5;28;01mif\u001B[39;00m \u001B[38;5;28mself\u001B[39m\u001B[38;5;241m.\u001B[39m_sampler_iter \u001B[38;5;129;01mis\u001B[39;00m \u001B[38;5;28;01mNone\u001B[39;00m:\n\u001B[0;32m    632\u001B[0m     \u001B[38;5;66;03m# TODO(https://github.com/pytorch/pytorch/issues/76750)\u001B[39;00m\n\u001B[0;32m    633\u001B[0m     \u001B[38;5;28mself\u001B[39m\u001B[38;5;241m.\u001B[39m_reset()  \u001B[38;5;66;03m# type: ignore[call-arg]\u001B[39;00m\n\u001B[1;32m--> 634\u001B[0m data \u001B[38;5;241m=\u001B[39m \u001B[38;5;28;43mself\u001B[39;49m\u001B[38;5;241;43m.\u001B[39;49m\u001B[43m_next_data\u001B[49m\u001B[43m(\u001B[49m\u001B[43m)\u001B[49m\n\u001B[0;32m    635\u001B[0m \u001B[38;5;28mself\u001B[39m\u001B[38;5;241m.\u001B[39m_num_yielded \u001B[38;5;241m+\u001B[39m\u001B[38;5;241m=\u001B[39m \u001B[38;5;241m1\u001B[39m\n\u001B[0;32m    636\u001B[0m \u001B[38;5;28;01mif\u001B[39;00m \u001B[38;5;28mself\u001B[39m\u001B[38;5;241m.\u001B[39m_dataset_kind \u001B[38;5;241m==\u001B[39m _DatasetKind\u001B[38;5;241m.\u001B[39mIterable \u001B[38;5;129;01mand\u001B[39;00m \\\n\u001B[0;32m    637\u001B[0m         \u001B[38;5;28mself\u001B[39m\u001B[38;5;241m.\u001B[39m_IterableDataset_len_called \u001B[38;5;129;01mis\u001B[39;00m \u001B[38;5;129;01mnot\u001B[39;00m \u001B[38;5;28;01mNone\u001B[39;00m \u001B[38;5;129;01mand\u001B[39;00m \\\n\u001B[0;32m    638\u001B[0m         \u001B[38;5;28mself\u001B[39m\u001B[38;5;241m.\u001B[39m_num_yielded \u001B[38;5;241m>\u001B[39m \u001B[38;5;28mself\u001B[39m\u001B[38;5;241m.\u001B[39m_IterableDataset_len_called:\n",
      "File \u001B[1;32m~\\Envs\\torch-dml\\lib\\site-packages\\torch\\utils\\data\\dataloader.py:678\u001B[0m, in \u001B[0;36m_SingleProcessDataLoaderIter._next_data\u001B[1;34m(self)\u001B[0m\n\u001B[0;32m    676\u001B[0m \u001B[38;5;28;01mdef\u001B[39;00m \u001B[38;5;21m_next_data\u001B[39m(\u001B[38;5;28mself\u001B[39m):\n\u001B[0;32m    677\u001B[0m     index \u001B[38;5;241m=\u001B[39m \u001B[38;5;28mself\u001B[39m\u001B[38;5;241m.\u001B[39m_next_index()  \u001B[38;5;66;03m# may raise StopIteration\u001B[39;00m\n\u001B[1;32m--> 678\u001B[0m     data \u001B[38;5;241m=\u001B[39m \u001B[38;5;28;43mself\u001B[39;49m\u001B[38;5;241;43m.\u001B[39;49m\u001B[43m_dataset_fetcher\u001B[49m\u001B[38;5;241;43m.\u001B[39;49m\u001B[43mfetch\u001B[49m\u001B[43m(\u001B[49m\u001B[43mindex\u001B[49m\u001B[43m)\u001B[49m  \u001B[38;5;66;03m# may raise StopIteration\u001B[39;00m\n\u001B[0;32m    679\u001B[0m     \u001B[38;5;28;01mif\u001B[39;00m \u001B[38;5;28mself\u001B[39m\u001B[38;5;241m.\u001B[39m_pin_memory:\n\u001B[0;32m    680\u001B[0m         data \u001B[38;5;241m=\u001B[39m _utils\u001B[38;5;241m.\u001B[39mpin_memory\u001B[38;5;241m.\u001B[39mpin_memory(data, \u001B[38;5;28mself\u001B[39m\u001B[38;5;241m.\u001B[39m_pin_memory_device)\n",
      "File \u001B[1;32m~\\Envs\\torch-dml\\lib\\site-packages\\torch\\utils\\data\\_utils\\fetch.py:51\u001B[0m, in \u001B[0;36m_MapDatasetFetcher.fetch\u001B[1;34m(self, possibly_batched_index)\u001B[0m\n\u001B[0;32m     49\u001B[0m         data \u001B[38;5;241m=\u001B[39m \u001B[38;5;28mself\u001B[39m\u001B[38;5;241m.\u001B[39mdataset\u001B[38;5;241m.\u001B[39m__getitems__(possibly_batched_index)\n\u001B[0;32m     50\u001B[0m     \u001B[38;5;28;01melse\u001B[39;00m:\n\u001B[1;32m---> 51\u001B[0m         data \u001B[38;5;241m=\u001B[39m [\u001B[38;5;28mself\u001B[39m\u001B[38;5;241m.\u001B[39mdataset[idx] \u001B[38;5;28;01mfor\u001B[39;00m idx \u001B[38;5;129;01min\u001B[39;00m possibly_batched_index]\n\u001B[0;32m     52\u001B[0m \u001B[38;5;28;01melse\u001B[39;00m:\n\u001B[0;32m     53\u001B[0m     data \u001B[38;5;241m=\u001B[39m \u001B[38;5;28mself\u001B[39m\u001B[38;5;241m.\u001B[39mdataset[possibly_batched_index]\n",
      "File \u001B[1;32m~\\Envs\\torch-dml\\lib\\site-packages\\torch\\utils\\data\\_utils\\fetch.py:51\u001B[0m, in \u001B[0;36m<listcomp>\u001B[1;34m(.0)\u001B[0m\n\u001B[0;32m     49\u001B[0m         data \u001B[38;5;241m=\u001B[39m \u001B[38;5;28mself\u001B[39m\u001B[38;5;241m.\u001B[39mdataset\u001B[38;5;241m.\u001B[39m__getitems__(possibly_batched_index)\n\u001B[0;32m     50\u001B[0m     \u001B[38;5;28;01melse\u001B[39;00m:\n\u001B[1;32m---> 51\u001B[0m         data \u001B[38;5;241m=\u001B[39m [\u001B[38;5;28;43mself\u001B[39;49m\u001B[38;5;241;43m.\u001B[39;49m\u001B[43mdataset\u001B[49m\u001B[43m[\u001B[49m\u001B[43midx\u001B[49m\u001B[43m]\u001B[49m \u001B[38;5;28;01mfor\u001B[39;00m idx \u001B[38;5;129;01min\u001B[39;00m possibly_batched_index]\n\u001B[0;32m     52\u001B[0m \u001B[38;5;28;01melse\u001B[39;00m:\n\u001B[0;32m     53\u001B[0m     data \u001B[38;5;241m=\u001B[39m \u001B[38;5;28mself\u001B[39m\u001B[38;5;241m.\u001B[39mdataset[possibly_batched_index]\n",
      "File \u001B[1;32m~\\Envs\\torch-dml\\lib\\site-packages\\torch\\utils\\data\\dataset.py:298\u001B[0m, in \u001B[0;36mSubset.__getitem__\u001B[1;34m(self, idx)\u001B[0m\n\u001B[0;32m    296\u001B[0m \u001B[38;5;28;01mif\u001B[39;00m \u001B[38;5;28misinstance\u001B[39m(idx, \u001B[38;5;28mlist\u001B[39m):\n\u001B[0;32m    297\u001B[0m     \u001B[38;5;28;01mreturn\u001B[39;00m \u001B[38;5;28mself\u001B[39m\u001B[38;5;241m.\u001B[39mdataset[[\u001B[38;5;28mself\u001B[39m\u001B[38;5;241m.\u001B[39mindices[i] \u001B[38;5;28;01mfor\u001B[39;00m i \u001B[38;5;129;01min\u001B[39;00m idx]]\n\u001B[1;32m--> 298\u001B[0m \u001B[38;5;28;01mreturn\u001B[39;00m \u001B[38;5;28;43mself\u001B[39;49m\u001B[38;5;241;43m.\u001B[39;49m\u001B[43mdataset\u001B[49m\u001B[43m[\u001B[49m\u001B[38;5;28;43mself\u001B[39;49m\u001B[38;5;241;43m.\u001B[39;49m\u001B[43mindices\u001B[49m\u001B[43m[\u001B[49m\u001B[43midx\u001B[49m\u001B[43m]\u001B[49m\u001B[43m]\u001B[49m\n",
      "Cell \u001B[1;32mIn[21], line 25\u001B[0m, in \u001B[0;36mParkinsonDataset.__getitem__\u001B[1;34m(self, idx)\u001B[0m\n\u001B[0;32m     22\u001B[0m     features \u001B[38;5;241m=\u001B[39m torch\u001B[38;5;241m.\u001B[39mtensor(\u001B[38;5;28mself\u001B[39m\u001B[38;5;241m.\u001B[39mdata[idx \u001B[38;5;241m-\u001B[39m \u001B[38;5;28mself\u001B[39m\u001B[38;5;241m.\u001B[39mlookback:idx, :\u001B[38;5;241m-\u001B[39m\u001B[38;5;241m1\u001B[39m], dtype\u001B[38;5;241m=\u001B[39mtorch\u001B[38;5;241m.\u001B[39mfloat32)\n\u001B[0;32m     23\u001B[0m     label \u001B[38;5;241m=\u001B[39m torch\u001B[38;5;241m.\u001B[39mtensor(\u001B[38;5;28mself\u001B[39m\u001B[38;5;241m.\u001B[39mdata[idx, \u001B[38;5;241m-\u001B[39m\u001B[38;5;241m1\u001B[39m], dtype\u001B[38;5;241m=\u001B[39mtorch\u001B[38;5;241m.\u001B[39mfloat32)\n\u001B[1;32m---> 25\u001B[0m features \u001B[38;5;241m=\u001B[39m \u001B[43mfeatures\u001B[49m\u001B[38;5;241;43m.\u001B[39;49m\u001B[43mto\u001B[49m\u001B[43m(\u001B[49m\u001B[43mdevice\u001B[49m\u001B[43m)\u001B[49m\n\u001B[0;32m     26\u001B[0m label \u001B[38;5;241m=\u001B[39m label\u001B[38;5;241m.\u001B[39mto(device)\n\u001B[0;32m     27\u001B[0m \u001B[38;5;28;01mreturn\u001B[39;00m features, label\n",
      "\u001B[1;31mKeyboardInterrupt\u001B[0m: "
     ]
    }
   ],
   "source": [
    "model = LSTMnet(9, 75, 1, 4)\n",
    "model = model.to(device)\n",
    "criterion = nn.CrossEntropyLoss()\n",
    "optimizer = optim.Adam(model.parameters(), lr=.01)\n",
    "scheduler = ReduceLROnPlateau(optimizer, 'max', factor=.9, patience=2, min_lr=.001)\n",
    "\n",
    "model16 = train_validate(model, criterion, optimizer, scheduler)\n",
    "torch.save(model16.state_dict(), '.\\\\models\\\\downsample\\\\lstm\\\\model16.pth')"
   ]
  },
  {
   "cell_type": "markdown",
   "id": "d9635b12-9472-4fd3-9b86-55b1bacc5132",
   "metadata": {
    "jp-MarkdownHeadingCollapsed": true
   },
   "source": [
    "### 11-9-23"
   ]
  },
  {
   "cell_type": "markdown",
   "id": "42d67b25-c0af-4368-9f6b-c6653616f284",
   "metadata": {
    "jp-MarkdownHeadingCollapsed": true
   },
   "source": [
    "#### Model 17 - Lookback 15 - Validate Every 3"
   ]
  },
  {
   "cell_type": "code",
   "execution_count": 19,
   "id": "e77b82d0-ee94-4b3a-8c77-2af95203705d",
   "metadata": {},
   "outputs": [
    {
     "name": "stderr",
     "output_type": "stream",
     "text": [
      "Train: 100%|\u001B[32m████████████████████████\u001B[0m| 295/295 [00:55<00:00,  5.32batch/s, Loss: 0.4122 | Precision: 75.75%]\u001B[0m\n"
     ]
    },
    {
     "name": "stdout",
     "output_type": "stream",
     "text": [
      "Epoch 1 | Avg Loss: 0.4832 | Avg Precision: 72.38%\n"
     ]
    },
    {
     "name": "stderr",
     "output_type": "stream",
     "text": [
      "Train: 100%|\u001B[32m████████████████████████\u001B[0m| 295/295 [00:55<00:00,  5.29batch/s, Loss: 0.3309 | Precision: 80.91%]\u001B[0m\n"
     ]
    },
    {
     "name": "stdout",
     "output_type": "stream",
     "text": [
      "Epoch 2 | Avg Loss: 0.3885 | Avg Precision: 80.09%\n"
     ]
    },
    {
     "name": "stderr",
     "output_type": "stream",
     "text": [
      "Train: 100%|\u001B[32m████████████████████████\u001B[0m| 295/295 [00:55<00:00,  5.29batch/s, Loss: 0.3512 | Precision: 82.59%]\u001B[0m\n"
     ]
    },
    {
     "name": "stdout",
     "output_type": "stream",
     "text": [
      "Epoch 3 | Avg Loss: 0.3592 | Avg Precision: 82.12%\n"
     ]
    },
    {
     "name": "stderr",
     "output_type": "stream",
     "text": [
      "Validate: 100%|\u001B[34m███████████████████████\u001B[0m| 74/74 [00:11<00:00,  6.63batch/s, Loss: 0.4842 | Precision: 80.68%]\u001B[0m\n"
     ]
    },
    {
     "name": "stdout",
     "output_type": "stream",
     "text": [
      "Epoch 3 | Avg Loss: 0.4305 | Avg Precision: 80.46% | Patience: 0\n"
     ]
    },
    {
     "name": "stderr",
     "output_type": "stream",
     "text": [
      "Train: 100%|\u001B[32m████████████████████████\u001B[0m| 295/295 [00:55<00:00,  5.35batch/s, Loss: 0.3643 | Precision: 81.11%]\u001B[0m\n"
     ]
    },
    {
     "name": "stdout",
     "output_type": "stream",
     "text": [
      "Epoch 4 | Avg Loss: 0.3872 | Avg Precision: 80.09%\n"
     ]
    },
    {
     "name": "stderr",
     "output_type": "stream",
     "text": [
      "Train: 100%|\u001B[32m████████████████████████\u001B[0m| 295/295 [00:56<00:00,  5.26batch/s, Loss: 0.3752 | Precision: 82.38%]\u001B[0m\n"
     ]
    },
    {
     "name": "stdout",
     "output_type": "stream",
     "text": [
      "Epoch 5 | Avg Loss: 0.3653 | Avg Precision: 81.95%\n"
     ]
    },
    {
     "name": "stderr",
     "output_type": "stream",
     "text": [
      "Train: 100%|\u001B[32m████████████████████████\u001B[0m| 295/295 [00:55<00:00,  5.28batch/s, Loss: 0.3810 | Precision: 83.24%]\u001B[0m\n"
     ]
    },
    {
     "name": "stdout",
     "output_type": "stream",
     "text": [
      "Epoch 6 | Avg Loss: 0.3498 | Avg Precision: 83.00%\n"
     ]
    },
    {
     "name": "stderr",
     "output_type": "stream",
     "text": [
      "Validate: 100%|\u001B[34m███████████████████████\u001B[0m| 74/74 [00:11<00:00,  6.42batch/s, Loss: 0.3870 | Precision: 83.58%]\u001B[0m\n"
     ]
    },
    {
     "name": "stdout",
     "output_type": "stream",
     "text": [
      "Epoch 6 | Avg Loss: 0.3526 | Avg Precision: 83.53% | Patience: 0\n"
     ]
    },
    {
     "name": "stderr",
     "output_type": "stream",
     "text": [
      "Train: 100%|\u001B[32m████████████████████████\u001B[0m| 295/295 [00:55<00:00,  5.27batch/s, Loss: 0.3230 | Precision: 83.74%]\u001B[0m\n"
     ]
    },
    {
     "name": "stdout",
     "output_type": "stream",
     "text": [
      "Epoch 7 | Avg Loss: 0.3421 | Avg Precision: 83.57%\n"
     ]
    },
    {
     "name": "stderr",
     "output_type": "stream",
     "text": [
      "Train: 100%|\u001B[32m████████████████████████\u001B[0m| 295/295 [00:56<00:00,  5.25batch/s, Loss: 0.3137 | Precision: 84.07%]\u001B[0m\n"
     ]
    },
    {
     "name": "stdout",
     "output_type": "stream",
     "text": [
      "Epoch 8 | Avg Loss: 0.3344 | Avg Precision: 83.81%\n"
     ]
    },
    {
     "name": "stderr",
     "output_type": "stream",
     "text": [
      "Train: 100%|\u001B[32m████████████████████████\u001B[0m| 295/295 [00:56<00:00,  5.26batch/s, Loss: 0.2887 | Precision: 84.58%]\u001B[0m\n"
     ]
    },
    {
     "name": "stdout",
     "output_type": "stream",
     "text": [
      "Epoch 9 | Avg Loss: 0.3270 | Avg Precision: 84.42%\n"
     ]
    },
    {
     "name": "stderr",
     "output_type": "stream",
     "text": [
      "Validate: 100%|\u001B[34m███████████████████████\u001B[0m| 74/74 [00:11<00:00,  6.52batch/s, Loss: 0.3399 | Precision: 84.27%]\u001B[0m\n"
     ]
    },
    {
     "name": "stdout",
     "output_type": "stream",
     "text": [
      "Epoch 9 | Avg Loss: 0.3273 | Avg Precision: 84.18% | Patience: 0\n"
     ]
    },
    {
     "name": "stderr",
     "output_type": "stream",
     "text": [
      "Train: 100%|\u001B[32m████████████████████████\u001B[0m| 295/295 [00:56<00:00,  5.26batch/s, Loss: 0.2531 | Precision: 84.66%]\u001B[0m\n"
     ]
    },
    {
     "name": "stdout",
     "output_type": "stream",
     "text": [
      "Epoch 10 | Avg Loss: 0.3244 | Avg Precision: 84.70%\n"
     ]
    },
    {
     "name": "stderr",
     "output_type": "stream",
     "text": [
      "Train: 100%|\u001B[32m████████████████████████\u001B[0m| 295/295 [00:56<00:00,  5.26batch/s, Loss: 0.2690 | Precision: 85.00%]\u001B[0m\n"
     ]
    },
    {
     "name": "stdout",
     "output_type": "stream",
     "text": [
      "Epoch 11 | Avg Loss: 0.3188 | Avg Precision: 84.85%\n"
     ]
    },
    {
     "name": "stderr",
     "output_type": "stream",
     "text": [
      "Train: 100%|\u001B[32m████████████████████████\u001B[0m| 295/295 [00:56<00:00,  5.24batch/s, Loss: 0.2495 | Precision: 85.30%]\u001B[0m\n"
     ]
    },
    {
     "name": "stdout",
     "output_type": "stream",
     "text": [
      "Epoch 12 | Avg Loss: 0.3130 | Avg Precision: 85.34%\n"
     ]
    },
    {
     "name": "stderr",
     "output_type": "stream",
     "text": [
      "Validate: 100%|\u001B[34m███████████████████████\u001B[0m| 74/74 [00:11<00:00,  6.39batch/s, Loss: 0.3130 | Precision: 84.13%]\u001B[0m\n"
     ]
    },
    {
     "name": "stdout",
     "output_type": "stream",
     "text": [
      "Epoch 12 | Avg Loss: 0.3163 | Avg Precision: 84.02% | Patience: 1\n"
     ]
    },
    {
     "name": "stderr",
     "output_type": "stream",
     "text": [
      "Train: 100%|\u001B[32m████████████████████████\u001B[0m| 295/295 [00:56<00:00,  5.24batch/s, Loss: 0.2447 | Precision: 85.42%]\u001B[0m\n"
     ]
    },
    {
     "name": "stdout",
     "output_type": "stream",
     "text": [
      "Epoch 13 | Avg Loss: 0.3102 | Avg Precision: 85.33%\n"
     ]
    },
    {
     "name": "stderr",
     "output_type": "stream",
     "text": [
      "Train: 100%|\u001B[32m████████████████████████\u001B[0m| 295/295 [00:56<00:00,  5.21batch/s, Loss: 0.2419 | Precision: 85.50%]\u001B[0m\n"
     ]
    },
    {
     "name": "stdout",
     "output_type": "stream",
     "text": [
      "Epoch 14 | Avg Loss: 0.3109 | Avg Precision: 85.23%\n"
     ]
    },
    {
     "name": "stderr",
     "output_type": "stream",
     "text": [
      "Train: 100%|\u001B[32m████████████████████████\u001B[0m| 295/295 [00:56<00:00,  5.24batch/s, Loss: 0.2665 | Precision: 85.86%]\u001B[0m\n"
     ]
    },
    {
     "name": "stdout",
     "output_type": "stream",
     "text": [
      "Epoch 15 | Avg Loss: 0.3025 | Avg Precision: 85.86%\n"
     ]
    },
    {
     "name": "stderr",
     "output_type": "stream",
     "text": [
      "Validate: 100%|\u001B[34m███████████████████████\u001B[0m| 74/74 [00:11<00:00,  6.45batch/s, Loss: 0.3027 | Precision: 85.01%]\u001B[0m\n"
     ]
    },
    {
     "name": "stdout",
     "output_type": "stream",
     "text": [
      "Epoch 15 | Avg Loss: 0.3058 | Avg Precision: 84.88% | Patience: 0\n"
     ]
    },
    {
     "name": "stderr",
     "output_type": "stream",
     "text": [
      "Train: 100%|\u001B[32m████████████████████████\u001B[0m| 295/295 [00:56<00:00,  5.21batch/s, Loss: 0.2517 | Precision: 85.91%]\u001B[0m\n"
     ]
    },
    {
     "name": "stdout",
     "output_type": "stream",
     "text": [
      "Epoch 16 | Avg Loss: 0.3015 | Avg Precision: 85.94%\n"
     ]
    },
    {
     "name": "stderr",
     "output_type": "stream",
     "text": [
      "Train: 100%|\u001B[32m████████████████████████\u001B[0m| 295/295 [00:55<00:00,  5.27batch/s, Loss: 0.2155 | Precision: 86.02%]\u001B[0m\n"
     ]
    },
    {
     "name": "stdout",
     "output_type": "stream",
     "text": [
      "Epoch 17 | Avg Loss: 0.2993 | Avg Precision: 85.84%\n"
     ]
    },
    {
     "name": "stderr",
     "output_type": "stream",
     "text": [
      "Train: 100%|\u001B[32m████████████████████████\u001B[0m| 295/295 [00:56<00:00,  5.26batch/s, Loss: 0.2804 | Precision: 86.09%]\u001B[0m\n"
     ]
    },
    {
     "name": "stdout",
     "output_type": "stream",
     "text": [
      "Epoch 18 | Avg Loss: 0.2974 | Avg Precision: 85.91%\n"
     ]
    },
    {
     "name": "stderr",
     "output_type": "stream",
     "text": [
      "Validate: 100%|\u001B[34m███████████████████████\u001B[0m| 74/74 [00:11<00:00,  6.35batch/s, Loss: 0.3201 | Precision: 84.45%]\u001B[0m\n"
     ]
    },
    {
     "name": "stdout",
     "output_type": "stream",
     "text": [
      "Epoch 18 | Avg Loss: 0.3143 | Avg Precision: 84.41% | Patience: 1\n"
     ]
    },
    {
     "name": "stderr",
     "output_type": "stream",
     "text": [
      "Train: 100%|\u001B[32m████████████████████████\u001B[0m| 295/295 [00:56<00:00,  5.21batch/s, Loss: 0.2589 | Precision: 86.17%]\u001B[0m\n"
     ]
    },
    {
     "name": "stdout",
     "output_type": "stream",
     "text": [
      "Epoch 19 | Avg Loss: 0.2958 | Avg Precision: 86.06%\n"
     ]
    },
    {
     "name": "stderr",
     "output_type": "stream",
     "text": [
      "Train: 100%|\u001B[32m████████████████████████\u001B[0m| 295/295 [00:56<00:00,  5.25batch/s, Loss: 0.2621 | Precision: 86.27%]\u001B[0m\n"
     ]
    },
    {
     "name": "stdout",
     "output_type": "stream",
     "text": [
      "Epoch 20 | Avg Loss: 0.2946 | Avg Precision: 86.15%\n"
     ]
    },
    {
     "name": "stderr",
     "output_type": "stream",
     "text": [
      "Train: 100%|\u001B[32m████████████████████████\u001B[0m| 295/295 [00:56<00:00,  5.25batch/s, Loss: 0.2617 | Precision: 86.23%]\u001B[0m\n"
     ]
    },
    {
     "name": "stdout",
     "output_type": "stream",
     "text": [
      "Epoch 21 | Avg Loss: 0.2952 | Avg Precision: 85.89%\n"
     ]
    },
    {
     "name": "stderr",
     "output_type": "stream",
     "text": [
      "Validate: 100%|\u001B[34m███████████████████████\u001B[0m| 74/74 [00:11<00:00,  6.39batch/s, Loss: 0.3230 | Precision: 84.84%]\u001B[0m\n"
     ]
    },
    {
     "name": "stdout",
     "output_type": "stream",
     "text": [
      "Epoch 21 | Avg Loss: 0.3153 | Avg Precision: 84.69% | Patience: 2\n"
     ]
    },
    {
     "name": "stderr",
     "output_type": "stream",
     "text": [
      "Train: 100%|\u001B[32m████████████████████████\u001B[0m| 295/295 [00:56<00:00,  5.24batch/s, Loss: 0.2227 | Precision: 86.48%]\u001B[0m\n"
     ]
    },
    {
     "name": "stdout",
     "output_type": "stream",
     "text": [
      "Epoch 22 | Avg Loss: 0.2901 | Avg Precision: 86.24%\n"
     ]
    },
    {
     "name": "stderr",
     "output_type": "stream",
     "text": [
      "Train: 100%|\u001B[32m████████████████████████\u001B[0m| 295/295 [00:56<00:00,  5.22batch/s, Loss: 0.2651 | Precision: 86.51%]\u001B[0m\n"
     ]
    },
    {
     "name": "stdout",
     "output_type": "stream",
     "text": [
      "Epoch 23 | Avg Loss: 0.2892 | Avg Precision: 86.27%\n"
     ]
    },
    {
     "name": "stderr",
     "output_type": "stream",
     "text": [
      "Train: 100%|\u001B[32m████████████████████████\u001B[0m| 295/295 [00:56<00:00,  5.21batch/s, Loss: 0.2290 | Precision: 86.61%]\u001B[0m\n"
     ]
    },
    {
     "name": "stdout",
     "output_type": "stream",
     "text": [
      "Epoch 24 | Avg Loss: 0.2872 | Avg Precision: 86.43%\n"
     ]
    },
    {
     "name": "stderr",
     "output_type": "stream",
     "text": [
      "Validate: 100%|\u001B[34m███████████████████████\u001B[0m| 74/74 [00:11<00:00,  6.45batch/s, Loss: 0.3168 | Precision: 84.40%]\u001B[0m\n"
     ]
    },
    {
     "name": "stdout",
     "output_type": "stream",
     "text": [
      "Epoch 24 | Avg Loss: 0.3112 | Avg Precision: 84.31% | Patience: 3\n"
     ]
    },
    {
     "name": "stderr",
     "output_type": "stream",
     "text": [
      "Train: 100%|\u001B[32m████████████████████████\u001B[0m| 295/295 [00:56<00:00,  5.19batch/s, Loss: 0.2069 | Precision: 86.70%]\u001B[0m\n"
     ]
    },
    {
     "name": "stdout",
     "output_type": "stream",
     "text": [
      "Epoch 25 | Avg Loss: 0.2851 | Avg Precision: 86.35%\n"
     ]
    },
    {
     "name": "stderr",
     "output_type": "stream",
     "text": [
      "Train: 100%|\u001B[32m████████████████████████\u001B[0m| 295/295 [00:56<00:00,  5.21batch/s, Loss: 0.2241 | Precision: 86.92%]\u001B[0m\n"
     ]
    },
    {
     "name": "stdout",
     "output_type": "stream",
     "text": [
      "Epoch 26 | Avg Loss: 0.2815 | Avg Precision: 86.81%\n"
     ]
    },
    {
     "name": "stderr",
     "output_type": "stream",
     "text": [
      "Train: 100%|\u001B[32m████████████████████████\u001B[0m| 295/295 [00:56<00:00,  5.25batch/s, Loss: 0.2035 | Precision: 86.94%]\u001B[0m\n"
     ]
    },
    {
     "name": "stdout",
     "output_type": "stream",
     "text": [
      "Epoch 27 | Avg Loss: 0.2800 | Avg Precision: 86.80%\n"
     ]
    },
    {
     "name": "stderr",
     "output_type": "stream",
     "text": [
      "Validate: 100%|\u001B[34m███████████████████████\u001B[0m| 74/74 [00:10<00:00,  6.78batch/s, Loss: 0.2891 | Precision: 85.78%]\u001B[0m\n"
     ]
    },
    {
     "name": "stdout",
     "output_type": "stream",
     "text": [
      "Epoch 27 | Avg Loss: 0.2909 | Avg Precision: 85.68% | Patience: 0\n"
     ]
    },
    {
     "name": "stderr",
     "output_type": "stream",
     "text": [
      "Train: 100%|\u001B[32m████████████████████████\u001B[0m| 295/295 [00:56<00:00,  5.24batch/s, Loss: 0.2236 | Precision: 86.96%]\u001B[0m\n"
     ]
    },
    {
     "name": "stdout",
     "output_type": "stream",
     "text": [
      "Epoch 28 | Avg Loss: 0.2808 | Avg Precision: 86.78%\n"
     ]
    },
    {
     "name": "stderr",
     "output_type": "stream",
     "text": [
      "Train: 100%|\u001B[32m████████████████████████\u001B[0m| 295/295 [00:56<00:00,  5.24batch/s, Loss: 0.2078 | Precision: 86.94%]\u001B[0m\n"
     ]
    },
    {
     "name": "stdout",
     "output_type": "stream",
     "text": [
      "Epoch 29 | Avg Loss: 0.2836 | Avg Precision: 86.87%\n"
     ]
    },
    {
     "name": "stderr",
     "output_type": "stream",
     "text": [
      "Train: 100%|\u001B[32m████████████████████████\u001B[0m| 295/295 [00:56<00:00,  5.22batch/s, Loss: 0.2295 | Precision: 87.14%]\u001B[0m\n"
     ]
    },
    {
     "name": "stdout",
     "output_type": "stream",
     "text": [
      "Epoch 30 | Avg Loss: 0.2768 | Avg Precision: 87.00%\n"
     ]
    },
    {
     "name": "stderr",
     "output_type": "stream",
     "text": [
      "Validate: 100%|\u001B[34m███████████████████████\u001B[0m| 74/74 [00:11<00:00,  6.34batch/s, Loss: 0.2767 | Precision: 86.76%]\u001B[0m\n"
     ]
    },
    {
     "name": "stdout",
     "output_type": "stream",
     "text": [
      "Epoch 30 | Avg Loss: 0.2822 | Avg Precision: 86.72% | Patience: 0\n"
     ]
    },
    {
     "name": "stderr",
     "output_type": "stream",
     "text": [
      "Train: 100%|\u001B[32m████████████████████████\u001B[0m| 295/295 [00:56<00:00,  5.23batch/s, Loss: 0.2205 | Precision: 87.15%]\u001B[0m\n"
     ]
    },
    {
     "name": "stdout",
     "output_type": "stream",
     "text": [
      "Epoch 31 | Avg Loss: 0.2758 | Avg Precision: 87.05%\n"
     ]
    },
    {
     "name": "stderr",
     "output_type": "stream",
     "text": [
      "Train: 100%|\u001B[32m████████████████████████\u001B[0m| 295/295 [00:56<00:00,  5.23batch/s, Loss: 0.1729 | Precision: 87.23%]\u001B[0m\n"
     ]
    },
    {
     "name": "stdout",
     "output_type": "stream",
     "text": [
      "Epoch 32 | Avg Loss: 0.2752 | Avg Precision: 87.14%\n"
     ]
    },
    {
     "name": "stderr",
     "output_type": "stream",
     "text": [
      "Train: 100%|\u001B[32m████████████████████████\u001B[0m| 295/295 [00:55<00:00,  5.28batch/s, Loss: 0.2163 | Precision: 87.23%]\u001B[0m\n"
     ]
    },
    {
     "name": "stdout",
     "output_type": "stream",
     "text": [
      "Epoch 33 | Avg Loss: 0.2751 | Avg Precision: 87.02%\n"
     ]
    },
    {
     "name": "stderr",
     "output_type": "stream",
     "text": [
      "Validate: 100%|\u001B[34m███████████████████████\u001B[0m| 74/74 [00:11<00:00,  6.42batch/s, Loss: 0.2926 | Precision: 86.16%]\u001B[0m\n"
     ]
    },
    {
     "name": "stdout",
     "output_type": "stream",
     "text": [
      "Epoch 33 | Avg Loss: 0.2897 | Avg Precision: 85.95% | Patience: 1\n"
     ]
    },
    {
     "name": "stderr",
     "output_type": "stream",
     "text": [
      "Train: 100%|\u001B[32m████████████████████████\u001B[0m| 295/295 [00:56<00:00,  5.26batch/s, Loss: 0.2302 | Precision: 87.10%]\u001B[0m\n"
     ]
    },
    {
     "name": "stdout",
     "output_type": "stream",
     "text": [
      "Epoch 34 | Avg Loss: 0.2765 | Avg Precision: 86.75%\n"
     ]
    },
    {
     "name": "stderr",
     "output_type": "stream",
     "text": [
      "Train: 100%|\u001B[32m████████████████████████\u001B[0m| 295/295 [00:56<00:00,  5.21batch/s, Loss: 0.1982 | Precision: 87.28%]\u001B[0m\n"
     ]
    },
    {
     "name": "stdout",
     "output_type": "stream",
     "text": [
      "Epoch 35 | Avg Loss: 0.2737 | Avg Precision: 87.08%\n"
     ]
    },
    {
     "name": "stderr",
     "output_type": "stream",
     "text": [
      "Train: 100%|\u001B[32m████████████████████████\u001B[0m| 295/295 [00:56<00:00,  5.20batch/s, Loss: 0.1882 | Precision: 87.31%]\u001B[0m\n"
     ]
    },
    {
     "name": "stdout",
     "output_type": "stream",
     "text": [
      "Epoch 36 | Avg Loss: 0.2732 | Avg Precision: 87.18%\n"
     ]
    },
    {
     "name": "stderr",
     "output_type": "stream",
     "text": [
      "Validate: 100%|\u001B[34m███████████████████████\u001B[0m| 74/74 [00:11<00:00,  6.39batch/s, Loss: 1.4659 | Precision: 67.20%]\u001B[0m\n"
     ]
    },
    {
     "name": "stdout",
     "output_type": "stream",
     "text": [
      "Epoch 36 | Avg Loss: 1.3755 | Avg Precision: 67.21% | Patience: 2\n"
     ]
    },
    {
     "name": "stderr",
     "output_type": "stream",
     "text": [
      "Train: 100%|\u001B[32m████████████████████████\u001B[0m| 295/295 [00:55<00:00,  5.27batch/s, Loss: 0.1788 | Precision: 87.25%]\u001B[0m\n"
     ]
    },
    {
     "name": "stdout",
     "output_type": "stream",
     "text": [
      "Epoch 37 | Avg Loss: 0.2762 | Avg Precision: 86.69%\n"
     ]
    },
    {
     "name": "stderr",
     "output_type": "stream",
     "text": [
      "Train: 100%|\u001B[32m████████████████████████\u001B[0m| 295/295 [00:56<00:00,  5.25batch/s, Loss: 0.1759 | Precision: 87.50%]\u001B[0m\n"
     ]
    },
    {
     "name": "stdout",
     "output_type": "stream",
     "text": [
      "Epoch 38 | Avg Loss: 0.2706 | Avg Precision: 87.36%\n"
     ]
    },
    {
     "name": "stderr",
     "output_type": "stream",
     "text": [
      "Train: 100%|\u001B[32m████████████████████████\u001B[0m| 295/295 [00:56<00:00,  5.23batch/s, Loss: 0.1983 | Precision: 87.37%]\u001B[0m\n"
     ]
    },
    {
     "name": "stdout",
     "output_type": "stream",
     "text": [
      "Epoch 39 | Avg Loss: 0.2716 | Avg Precision: 87.24%\n"
     ]
    },
    {
     "name": "stderr",
     "output_type": "stream",
     "text": [
      "Validate: 100%|\u001B[34m███████████████████████\u001B[0m| 74/74 [00:11<00:00,  6.46batch/s, Loss: 0.3094 | Precision: 87.04%]\u001B[0m\n"
     ]
    },
    {
     "name": "stdout",
     "output_type": "stream",
     "text": [
      "Epoch 39 | Avg Loss: 0.2833 | Avg Precision: 86.89% | Patience: 0\n"
     ]
    },
    {
     "name": "stderr",
     "output_type": "stream",
     "text": [
      "Train: 100%|\u001B[32m████████████████████████\u001B[0m| 295/295 [00:56<00:00,  5.21batch/s, Loss: 0.1755 | Precision: 87.47%]\u001B[0m\n"
     ]
    },
    {
     "name": "stdout",
     "output_type": "stream",
     "text": [
      "Epoch 40 | Avg Loss: 0.2703 | Avg Precision: 87.33%\n"
     ]
    },
    {
     "name": "stderr",
     "output_type": "stream",
     "text": [
      "Train: 100%|\u001B[32m████████████████████████\u001B[0m| 295/295 [00:56<00:00,  5.21batch/s, Loss: 0.2445 | Precision: 87.50%]\u001B[0m\n"
     ]
    },
    {
     "name": "stdout",
     "output_type": "stream",
     "text": [
      "Epoch 41 | Avg Loss: 0.2701 | Avg Precision: 87.32%\n"
     ]
    },
    {
     "name": "stderr",
     "output_type": "stream",
     "text": [
      "Train: 100%|\u001B[32m████████████████████████\u001B[0m| 295/295 [00:56<00:00,  5.20batch/s, Loss: 0.2009 | Precision: 87.49%]\u001B[0m\n"
     ]
    },
    {
     "name": "stdout",
     "output_type": "stream",
     "text": [
      "Epoch 42 | Avg Loss: 0.2693 | Avg Precision: 87.39%\n"
     ]
    },
    {
     "name": "stderr",
     "output_type": "stream",
     "text": [
      "Validate: 100%|\u001B[34m███████████████████████\u001B[0m| 74/74 [00:11<00:00,  6.40batch/s, Loss: 0.2933 | Precision: 87.00%]\u001B[0m\n"
     ]
    },
    {
     "name": "stdout",
     "output_type": "stream",
     "text": [
      "Epoch 42 | Avg Loss: 0.2810 | Avg Precision: 86.88% | Patience: 1\n"
     ]
    },
    {
     "name": "stderr",
     "output_type": "stream",
     "text": [
      "Train: 100%|\u001B[32m████████████████████████\u001B[0m| 295/295 [00:56<00:00,  5.20batch/s, Loss: 0.1620 | Precision: 87.58%]\u001B[0m\n"
     ]
    },
    {
     "name": "stdout",
     "output_type": "stream",
     "text": [
      "Epoch 43 | Avg Loss: 0.2691 | Avg Precision: 87.44%\n"
     ]
    },
    {
     "name": "stderr",
     "output_type": "stream",
     "text": [
      "Train: 100%|\u001B[32m████████████████████████\u001B[0m| 295/295 [00:56<00:00,  5.19batch/s, Loss: 0.2427 | Precision: 87.60%]\u001B[0m\n"
     ]
    },
    {
     "name": "stdout",
     "output_type": "stream",
     "text": [
      "Epoch 44 | Avg Loss: 0.2689 | Avg Precision: 87.50%\n"
     ]
    },
    {
     "name": "stderr",
     "output_type": "stream",
     "text": [
      "Train: 100%|\u001B[32m████████████████████████\u001B[0m| 295/295 [00:56<00:00,  5.25batch/s, Loss: 0.2311 | Precision: 87.64%]\u001B[0m\n"
     ]
    },
    {
     "name": "stdout",
     "output_type": "stream",
     "text": [
      "Epoch 45 | Avg Loss: 0.2674 | Avg Precision: 87.44%\n"
     ]
    },
    {
     "name": "stderr",
     "output_type": "stream",
     "text": [
      "Validate: 100%|\u001B[34m███████████████████████\u001B[0m| 74/74 [00:11<00:00,  6.47batch/s, Loss: 0.2729 | Precision: 86.88%]\u001B[0m\n"
     ]
    },
    {
     "name": "stdout",
     "output_type": "stream",
     "text": [
      "Epoch 45 | Avg Loss: 0.2761 | Avg Precision: 86.80% | Patience: 2\n"
     ]
    },
    {
     "name": "stderr",
     "output_type": "stream",
     "text": [
      "Train: 100%|\u001B[32m████████████████████████\u001B[0m| 295/295 [00:56<00:00,  5.26batch/s, Loss: 0.1976 | Precision: 87.64%]\u001B[0m\n"
     ]
    },
    {
     "name": "stdout",
     "output_type": "stream",
     "text": [
      "Epoch 46 | Avg Loss: 0.2686 | Avg Precision: 87.61%\n"
     ]
    },
    {
     "name": "stderr",
     "output_type": "stream",
     "text": [
      "Train: 100%|\u001B[32m████████████████████████\u001B[0m| 295/295 [00:56<00:00,  5.25batch/s, Loss: 0.1950 | Precision: 87.64%]\u001B[0m\n"
     ]
    },
    {
     "name": "stdout",
     "output_type": "stream",
     "text": [
      "Epoch 47 | Avg Loss: 0.2675 | Avg Precision: 87.57%\n"
     ]
    },
    {
     "name": "stderr",
     "output_type": "stream",
     "text": [
      "Train: 100%|\u001B[32m████████████████████████\u001B[0m| 295/295 [00:56<00:00,  5.26batch/s, Loss: 0.1884 | Precision: 87.65%]\u001B[0m\n"
     ]
    },
    {
     "name": "stdout",
     "output_type": "stream",
     "text": [
      "Epoch 48 | Avg Loss: 0.2672 | Avg Precision: 87.59%\n"
     ]
    },
    {
     "name": "stderr",
     "output_type": "stream",
     "text": [
      "Validate: 100%|\u001B[34m███████████████████████\u001B[0m| 74/74 [00:11<00:00,  6.44batch/s, Loss: 0.2627 | Precision: 87.32%]\u001B[0m\n"
     ]
    },
    {
     "name": "stdout",
     "output_type": "stream",
     "text": [
      "Epoch 48 | Avg Loss: 0.2699 | Avg Precision: 87.10% | Patience: 0\n"
     ]
    },
    {
     "name": "stderr",
     "output_type": "stream",
     "text": [
      "Train: 100%|\u001B[32m████████████████████████\u001B[0m| 295/295 [00:56<00:00,  5.26batch/s, Loss: 0.1351 | Precision: 87.72%]\u001B[0m\n"
     ]
    },
    {
     "name": "stdout",
     "output_type": "stream",
     "text": [
      "Epoch 49 | Avg Loss: 0.2663 | Avg Precision: 87.61%\n"
     ]
    },
    {
     "name": "stderr",
     "output_type": "stream",
     "text": [
      "Train: 100%|\u001B[32m████████████████████████\u001B[0m| 295/295 [00:56<00:00,  5.27batch/s, Loss: 0.1796 | Precision: 87.78%]\u001B[0m\n"
     ]
    },
    {
     "name": "stdout",
     "output_type": "stream",
     "text": [
      "Epoch 50 | Avg Loss: 0.2658 | Avg Precision: 87.75%\n"
     ]
    },
    {
     "name": "stderr",
     "output_type": "stream",
     "text": [
      "Train: 100%|\u001B[32m████████████████████████\u001B[0m| 295/295 [00:56<00:00,  5.24batch/s, Loss: 0.1878 | Precision: 87.74%]\u001B[0m\n"
     ]
    },
    {
     "name": "stdout",
     "output_type": "stream",
     "text": [
      "Epoch 51 | Avg Loss: 0.2659 | Avg Precision: 87.56%\n"
     ]
    },
    {
     "name": "stderr",
     "output_type": "stream",
     "text": [
      "Validate: 100%|\u001B[34m███████████████████████\u001B[0m| 74/74 [00:11<00:00,  6.60batch/s, Loss: 0.3030 | Precision: 87.20%]\u001B[0m\n"
     ]
    },
    {
     "name": "stdout",
     "output_type": "stream",
     "text": [
      "Epoch 51 | Avg Loss: 0.2781 | Avg Precision: 87.12% | Patience: 0\n"
     ]
    },
    {
     "name": "stderr",
     "output_type": "stream",
     "text": [
      "Train: 100%|\u001B[32m████████████████████████\u001B[0m| 295/295 [00:56<00:00,  5.25batch/s, Loss: 0.1386 | Precision: 87.70%]\u001B[0m\n"
     ]
    },
    {
     "name": "stdout",
     "output_type": "stream",
     "text": [
      "Epoch 52 | Avg Loss: 0.2660 | Avg Precision: 87.52%\n"
     ]
    },
    {
     "name": "stderr",
     "output_type": "stream",
     "text": [
      "Train: 100%|\u001B[32m████████████████████████\u001B[0m| 295/295 [00:56<00:00,  5.24batch/s, Loss: 0.2083 | Precision: 87.62%]\u001B[0m\n"
     ]
    },
    {
     "name": "stdout",
     "output_type": "stream",
     "text": [
      "Epoch 53 | Avg Loss: 0.2682 | Avg Precision: 87.55%\n"
     ]
    },
    {
     "name": "stderr",
     "output_type": "stream",
     "text": [
      "Train: 100%|\u001B[32m████████████████████████\u001B[0m| 295/295 [00:56<00:00,  5.23batch/s, Loss: 0.1559 | Precision: 87.79%]\u001B[0m\n"
     ]
    },
    {
     "name": "stdout",
     "output_type": "stream",
     "text": [
      "Epoch 54 | Avg Loss: 0.2646 | Avg Precision: 87.67%\n"
     ]
    },
    {
     "name": "stderr",
     "output_type": "stream",
     "text": [
      "Validate: 100%|\u001B[34m███████████████████████\u001B[0m| 74/74 [00:11<00:00,  6.49batch/s, Loss: 0.2531 | Precision: 87.28%]\u001B[0m\n"
     ]
    },
    {
     "name": "stdout",
     "output_type": "stream",
     "text": [
      "Epoch 54 | Avg Loss: 0.2670 | Avg Precision: 87.15% | Patience: 0\n"
     ]
    },
    {
     "name": "stderr",
     "output_type": "stream",
     "text": [
      "Train: 100%|\u001B[32m████████████████████████\u001B[0m| 295/295 [00:56<00:00,  5.18batch/s, Loss: 0.1964 | Precision: 87.82%]\u001B[0m\n"
     ]
    },
    {
     "name": "stdout",
     "output_type": "stream",
     "text": [
      "Epoch 55 | Avg Loss: 0.2646 | Avg Precision: 87.67%\n"
     ]
    },
    {
     "name": "stderr",
     "output_type": "stream",
     "text": [
      "Train: 100%|\u001B[32m████████████████████████\u001B[0m| 295/295 [00:56<00:00,  5.22batch/s, Loss: 0.1585 | Precision: 87.74%]\u001B[0m\n"
     ]
    },
    {
     "name": "stdout",
     "output_type": "stream",
     "text": [
      "Epoch 56 | Avg Loss: 0.2662 | Avg Precision: 87.63%\n"
     ]
    },
    {
     "name": "stderr",
     "output_type": "stream",
     "text": [
      "Train: 100%|\u001B[32m████████████████████████\u001B[0m| 295/295 [00:56<00:00,  5.23batch/s, Loss: 0.1183 | Precision: 87.75%]\u001B[0m\n"
     ]
    },
    {
     "name": "stdout",
     "output_type": "stream",
     "text": [
      "Epoch 57 | Avg Loss: 0.2648 | Avg Precision: 87.62%\n"
     ]
    },
    {
     "name": "stderr",
     "output_type": "stream",
     "text": [
      "Validate: 100%|\u001B[34m███████████████████████\u001B[0m| 74/74 [00:11<00:00,  6.36batch/s, Loss: 0.2824 | Precision: 86.97%]\u001B[0m\n"
     ]
    },
    {
     "name": "stdout",
     "output_type": "stream",
     "text": [
      "Epoch 57 | Avg Loss: 0.2720 | Avg Precision: 86.90% | Patience: 1\n"
     ]
    },
    {
     "name": "stderr",
     "output_type": "stream",
     "text": [
      "Train: 100%|\u001B[32m████████████████████████\u001B[0m| 295/295 [00:56<00:00,  5.25batch/s, Loss: 0.1899 | Precision: 87.78%]\u001B[0m\n"
     ]
    },
    {
     "name": "stdout",
     "output_type": "stream",
     "text": [
      "Epoch 58 | Avg Loss: 0.2646 | Avg Precision: 87.68%\n"
     ]
    },
    {
     "name": "stderr",
     "output_type": "stream",
     "text": [
      "Train: 100%|\u001B[32m████████████████████████\u001B[0m| 295/295 [00:56<00:00,  5.23batch/s, Loss: 0.1335 | Precision: 87.83%]\u001B[0m\n"
     ]
    },
    {
     "name": "stdout",
     "output_type": "stream",
     "text": [
      "Epoch 59 | Avg Loss: 0.2640 | Avg Precision: 87.74%\n"
     ]
    },
    {
     "name": "stderr",
     "output_type": "stream",
     "text": [
      "Train: 100%|\u001B[32m████████████████████████\u001B[0m| 295/295 [00:56<00:00,  5.24batch/s, Loss: 0.1504 | Precision: 87.75%]\u001B[0m\n"
     ]
    },
    {
     "name": "stdout",
     "output_type": "stream",
     "text": [
      "Epoch 60 | Avg Loss: 0.2651 | Avg Precision: 87.58%\n"
     ]
    },
    {
     "name": "stderr",
     "output_type": "stream",
     "text": [
      "Validate: 100%|\u001B[34m███████████████████████\u001B[0m| 74/74 [00:11<00:00,  6.58batch/s, Loss: 0.2944 | Precision: 87.02%]\u001B[0m\n"
     ]
    },
    {
     "name": "stdout",
     "output_type": "stream",
     "text": [
      "Epoch 60 | Avg Loss: 0.2756 | Avg Precision: 86.92% | Patience: 2\n"
     ]
    },
    {
     "name": "stderr",
     "output_type": "stream",
     "text": [
      "Train: 100%|\u001B[32m████████████████████████\u001B[0m| 295/295 [00:56<00:00,  5.23batch/s, Loss: 0.1490 | Precision: 87.82%]\u001B[0m\n"
     ]
    },
    {
     "name": "stdout",
     "output_type": "stream",
     "text": [
      "Epoch 61 | Avg Loss: 0.2633 | Avg Precision: 87.78%\n"
     ]
    },
    {
     "name": "stderr",
     "output_type": "stream",
     "text": [
      "Train: 100%|\u001B[32m████████████████████████\u001B[0m| 295/295 [00:56<00:00,  5.25batch/s, Loss: 0.1322 | Precision: 87.71%]\u001B[0m\n"
     ]
    },
    {
     "name": "stdout",
     "output_type": "stream",
     "text": [
      "Epoch 62 | Avg Loss: 0.2657 | Avg Precision: 87.60%\n"
     ]
    },
    {
     "name": "stderr",
     "output_type": "stream",
     "text": [
      "Train: 100%|\u001B[32m████████████████████████\u001B[0m| 295/295 [00:56<00:00,  5.23batch/s, Loss: 0.1717 | Precision: 87.69%]\u001B[0m\n"
     ]
    },
    {
     "name": "stdout",
     "output_type": "stream",
     "text": [
      "Epoch 63 | Avg Loss: 0.2654 | Avg Precision: 87.58%\n"
     ]
    },
    {
     "name": "stderr",
     "output_type": "stream",
     "text": [
      "Validate: 100%|\u001B[34m███████████████████████\u001B[0m| 74/74 [00:11<00:00,  6.44batch/s, Loss: 0.2953 | Precision: 86.95%]\u001B[0m\n"
     ]
    },
    {
     "name": "stdout",
     "output_type": "stream",
     "text": [
      "Epoch 63 | Avg Loss: 0.2817 | Avg Precision: 86.82% | Patience: 3\n"
     ]
    },
    {
     "name": "stderr",
     "output_type": "stream",
     "text": [
      "Train: 100%|\u001B[32m████████████████████████\u001B[0m| 295/295 [00:56<00:00,  5.24batch/s, Loss: 0.1492 | Precision: 87.89%]\u001B[0m\n"
     ]
    },
    {
     "name": "stdout",
     "output_type": "stream",
     "text": [
      "Epoch 64 | Avg Loss: 0.2623 | Avg Precision: 87.73%\n"
     ]
    },
    {
     "name": "stderr",
     "output_type": "stream",
     "text": [
      "Train: 100%|\u001B[32m████████████████████████\u001B[0m| 295/295 [00:56<00:00,  5.24batch/s, Loss: 0.1527 | Precision: 87.92%]\u001B[0m\n"
     ]
    },
    {
     "name": "stdout",
     "output_type": "stream",
     "text": [
      "Epoch 65 | Avg Loss: 0.2613 | Avg Precision: 87.79%\n"
     ]
    },
    {
     "name": "stderr",
     "output_type": "stream",
     "text": [
      "Train: 100%|\u001B[32m████████████████████████\u001B[0m| 295/295 [00:56<00:00,  5.24batch/s, Loss: 0.1816 | Precision: 87.80%]\u001B[0m\n"
     ]
    },
    {
     "name": "stdout",
     "output_type": "stream",
     "text": [
      "Epoch 66 | Avg Loss: 0.2641 | Avg Precision: 87.67%\n"
     ]
    },
    {
     "name": "stderr",
     "output_type": "stream",
     "text": [
      "Validate: 100%|\u001B[34m███████████████████████\u001B[0m| 74/74 [00:11<00:00,  6.35batch/s, Loss: 0.2853 | Precision: 87.26%]\u001B[0m\n"
     ]
    },
    {
     "name": "stdout",
     "output_type": "stream",
     "text": [
      "Epoch 66 | Avg Loss: 0.2795 | Avg Precision: 87.09% | Patience: 4\n"
     ]
    },
    {
     "name": "stderr",
     "output_type": "stream",
     "text": [
      "Train: 100%|\u001B[32m████████████████████████\u001B[0m| 295/295 [00:56<00:00,  5.25batch/s, Loss: 0.1563 | Precision: 87.95%]\u001B[0m\n"
     ]
    },
    {
     "name": "stdout",
     "output_type": "stream",
     "text": [
      "Epoch 67 | Avg Loss: 0.2609 | Avg Precision: 87.85%\n"
     ]
    },
    {
     "name": "stderr",
     "output_type": "stream",
     "text": [
      "Train: 100%|\u001B[32m████████████████████████\u001B[0m| 295/295 [00:56<00:00,  5.24batch/s, Loss: 0.1671 | Precision: 88.01%]\u001B[0m\n"
     ]
    },
    {
     "name": "stdout",
     "output_type": "stream",
     "text": [
      "Epoch 68 | Avg Loss: 0.2604 | Avg Precision: 87.92%\n"
     ]
    },
    {
     "name": "stderr",
     "output_type": "stream",
     "text": [
      "Train: 100%|\u001B[32m████████████████████████\u001B[0m| 295/295 [00:56<00:00,  5.23batch/s, Loss: 0.1515 | Precision: 88.00%]\u001B[0m\n"
     ]
    },
    {
     "name": "stdout",
     "output_type": "stream",
     "text": [
      "Epoch 69 | Avg Loss: 0.2605 | Avg Precision: 87.87%\n"
     ]
    },
    {
     "name": "stderr",
     "output_type": "stream",
     "text": [
      "Validate: 100%|\u001B[34m███████████████████████\u001B[0m| 74/74 [00:11<00:00,  6.54batch/s, Loss: 0.3022 | Precision: 88.09%]\u001B[0m\n"
     ]
    },
    {
     "name": "stdout",
     "output_type": "stream",
     "text": [
      "Epoch 69 | Avg Loss: 0.2760 | Avg Precision: 88.06% | Patience: 0\n"
     ]
    },
    {
     "name": "stderr",
     "output_type": "stream",
     "text": [
      "Train: 100%|\u001B[32m████████████████████████\u001B[0m| 295/295 [00:56<00:00,  5.23batch/s, Loss: 0.1697 | Precision: 87.90%]\u001B[0m\n"
     ]
    },
    {
     "name": "stdout",
     "output_type": "stream",
     "text": [
      "Epoch 70 | Avg Loss: 0.2627 | Avg Precision: 87.75%\n"
     ]
    },
    {
     "name": "stderr",
     "output_type": "stream",
     "text": [
      "Train: 100%|\u001B[32m████████████████████████\u001B[0m| 295/295 [00:56<00:00,  5.22batch/s, Loss: 0.2051 | Precision: 87.83%]\u001B[0m\n"
     ]
    },
    {
     "name": "stdout",
     "output_type": "stream",
     "text": [
      "Epoch 71 | Avg Loss: 0.2634 | Avg Precision: 87.72%\n"
     ]
    },
    {
     "name": "stderr",
     "output_type": "stream",
     "text": [
      "Train: 100%|\u001B[32m████████████████████████\u001B[0m| 295/295 [00:56<00:00,  5.24batch/s, Loss: 0.1860 | Precision: 87.91%]\u001B[0m\n"
     ]
    },
    {
     "name": "stdout",
     "output_type": "stream",
     "text": [
      "Epoch 72 | Avg Loss: 0.2616 | Avg Precision: 87.74%\n"
     ]
    },
    {
     "name": "stderr",
     "output_type": "stream",
     "text": [
      "Validate: 100%|\u001B[34m███████████████████████\u001B[0m| 74/74 [00:11<00:00,  6.45batch/s, Loss: 0.2621 | Precision: 87.37%]\u001B[0m\n"
     ]
    },
    {
     "name": "stdout",
     "output_type": "stream",
     "text": [
      "Epoch 72 | Avg Loss: 0.2709 | Avg Precision: 87.31% | Patience: 1\n"
     ]
    },
    {
     "name": "stderr",
     "output_type": "stream",
     "text": [
      "Train: 100%|\u001B[32m████████████████████████\u001B[0m| 295/295 [00:56<00:00,  5.26batch/s, Loss: 0.1472 | Precision: 87.86%]\u001B[0m\n"
     ]
    },
    {
     "name": "stdout",
     "output_type": "stream",
     "text": [
      "Epoch 73 | Avg Loss: 0.2628 | Avg Precision: 87.74%\n"
     ]
    },
    {
     "name": "stderr",
     "output_type": "stream",
     "text": [
      "Train: 100%|\u001B[32m████████████████████████\u001B[0m| 295/295 [00:56<00:00,  5.25batch/s, Loss: 0.1451 | Precision: 88.03%]\u001B[0m\n"
     ]
    },
    {
     "name": "stdout",
     "output_type": "stream",
     "text": [
      "Epoch 74 | Avg Loss: 0.2602 | Avg Precision: 88.00%\n"
     ]
    },
    {
     "name": "stderr",
     "output_type": "stream",
     "text": [
      "Train: 100%|\u001B[32m████████████████████████\u001B[0m| 295/295 [00:56<00:00,  5.20batch/s, Loss: 0.1292 | Precision: 87.74%]\u001B[0m\n"
     ]
    },
    {
     "name": "stdout",
     "output_type": "stream",
     "text": [
      "Epoch 75 | Avg Loss: 0.2637 | Avg Precision: 87.46%\n"
     ]
    },
    {
     "name": "stderr",
     "output_type": "stream",
     "text": [
      "Validate: 100%|\u001B[34m███████████████████████\u001B[0m| 74/74 [00:11<00:00,  6.36batch/s, Loss: 0.2661 | Precision: 87.74%]\u001B[0m\n"
     ]
    },
    {
     "name": "stdout",
     "output_type": "stream",
     "text": [
      "Epoch 75 | Avg Loss: 0.2622 | Avg Precision: 87.66% | Patience: 2\n"
     ]
    },
    {
     "name": "stderr",
     "output_type": "stream",
     "text": [
      "Train: 100%|\u001B[32m████████████████████████\u001B[0m| 295/295 [00:56<00:00,  5.23batch/s, Loss: 0.1695 | Precision: 88.10%]\u001B[0m\n"
     ]
    },
    {
     "name": "stdout",
     "output_type": "stream",
     "text": [
      "Epoch 76 | Avg Loss: 0.2583 | Avg Precision: 88.09%\n"
     ]
    },
    {
     "name": "stderr",
     "output_type": "stream",
     "text": [
      "Train: 100%|\u001B[32m████████████████████████\u001B[0m| 295/295 [00:56<00:00,  5.21batch/s, Loss: 0.1542 | Precision: 87.92%]\u001B[0m\n"
     ]
    },
    {
     "name": "stdout",
     "output_type": "stream",
     "text": [
      "Epoch 77 | Avg Loss: 0.2613 | Avg Precision: 87.93%\n"
     ]
    },
    {
     "name": "stderr",
     "output_type": "stream",
     "text": [
      "Train: 100%|\u001B[32m████████████████████████\u001B[0m| 295/295 [00:56<00:00,  5.21batch/s, Loss: 0.1845 | Precision: 87.98%]\u001B[0m\n"
     ]
    },
    {
     "name": "stdout",
     "output_type": "stream",
     "text": [
      "Epoch 78 | Avg Loss: 0.2606 | Avg Precision: 87.78%\n"
     ]
    },
    {
     "name": "stderr",
     "output_type": "stream",
     "text": [
      "Validate: 100%|\u001B[34m███████████████████████\u001B[0m| 74/74 [00:11<00:00,  6.39batch/s, Loss: 0.2874 | Precision: 87.30%]\u001B[0m\n"
     ]
    },
    {
     "name": "stdout",
     "output_type": "stream",
     "text": [
      "Epoch 78 | Avg Loss: 0.2710 | Avg Precision: 87.21% | Patience: 3\n"
     ]
    },
    {
     "name": "stderr",
     "output_type": "stream",
     "text": [
      "Train: 100%|\u001B[32m████████████████████████\u001B[0m| 295/295 [00:56<00:00,  5.22batch/s, Loss: 0.2221 | Precision: 88.18%]\u001B[0m\n"
     ]
    },
    {
     "name": "stdout",
     "output_type": "stream",
     "text": [
      "Epoch 79 | Avg Loss: 0.2575 | Avg Precision: 88.07%\n"
     ]
    },
    {
     "name": "stderr",
     "output_type": "stream",
     "text": [
      "Train: 100%|\u001B[32m████████████████████████\u001B[0m| 295/295 [00:56<00:00,  5.20batch/s, Loss: 0.1817 | Precision: 88.12%]\u001B[0m\n"
     ]
    },
    {
     "name": "stdout",
     "output_type": "stream",
     "text": [
      "Epoch 80 | Avg Loss: 0.2575 | Avg Precision: 87.95%\n"
     ]
    },
    {
     "name": "stderr",
     "output_type": "stream",
     "text": [
      "Train: 100%|\u001B[32m████████████████████████\u001B[0m| 295/295 [00:56<00:00,  5.21batch/s, Loss: 0.1585 | Precision: 88.20%]\u001B[0m\n"
     ]
    },
    {
     "name": "stdout",
     "output_type": "stream",
     "text": [
      "Epoch 81 | Avg Loss: 0.2557 | Avg Precision: 88.17%\n"
     ]
    },
    {
     "name": "stderr",
     "output_type": "stream",
     "text": [
      "Validate: 100%|\u001B[34m███████████████████████\u001B[0m| 74/74 [00:11<00:00,  6.37batch/s, Loss: 0.2722 | Precision: 87.43%]\u001B[0m\n"
     ]
    },
    {
     "name": "stdout",
     "output_type": "stream",
     "text": [
      "Epoch 81 | Avg Loss: 0.2660 | Avg Precision: 87.36% | Patience: 4\n"
     ]
    },
    {
     "name": "stderr",
     "output_type": "stream",
     "text": [
      "Train: 100%|\u001B[32m████████████████████████\u001B[0m| 295/295 [00:56<00:00,  5.21batch/s, Loss: 0.1572 | Precision: 88.09%]\u001B[0m\n"
     ]
    },
    {
     "name": "stdout",
     "output_type": "stream",
     "text": [
      "Epoch 82 | Avg Loss: 0.2578 | Avg Precision: 88.00%\n"
     ]
    },
    {
     "name": "stderr",
     "output_type": "stream",
     "text": [
      "Train: 100%|\u001B[32m████████████████████████\u001B[0m| 295/295 [00:56<00:00,  5.20batch/s, Loss: 0.1639 | Precision: 88.13%]\u001B[0m\n"
     ]
    },
    {
     "name": "stdout",
     "output_type": "stream",
     "text": [
      "Epoch 83 | Avg Loss: 0.2569 | Avg Precision: 87.90%\n"
     ]
    },
    {
     "name": "stderr",
     "output_type": "stream",
     "text": [
      "Train: 100%|\u001B[32m████████████████████████\u001B[0m| 295/295 [00:56<00:00,  5.20batch/s, Loss: 0.1698 | Precision: 88.29%]\u001B[0m\n"
     ]
    },
    {
     "name": "stdout",
     "output_type": "stream",
     "text": [
      "Epoch 84 | Avg Loss: 0.2550 | Avg Precision: 88.16%\n"
     ]
    },
    {
     "name": "stderr",
     "output_type": "stream",
     "text": [
      "Validate: 100%|\u001B[34m███████████████████████\u001B[0m| 74/74 [00:11<00:00,  6.42batch/s, Loss: 0.2410 | Precision: 87.22%]\u001B[0m\n"
     ]
    },
    {
     "name": "stdout",
     "output_type": "stream",
     "text": [
      "Epoch 84 | Avg Loss: 0.2663 | Avg Precision: 87.08% | Patience: 5\n"
     ]
    },
    {
     "name": "stderr",
     "output_type": "stream",
     "text": [
      "Train: 100%|\u001B[32m████████████████████████\u001B[0m| 295/295 [00:57<00:00,  5.16batch/s, Loss: 0.1812 | Precision: 88.14%]\u001B[0m\n"
     ]
    },
    {
     "name": "stdout",
     "output_type": "stream",
     "text": [
      "Epoch 85 | Avg Loss: 0.2578 | Avg Precision: 88.00%\n"
     ]
    },
    {
     "name": "stderr",
     "output_type": "stream",
     "text": [
      "Train: 100%|\u001B[32m████████████████████████\u001B[0m| 295/295 [00:56<00:00,  5.21batch/s, Loss: 0.1421 | Precision: 88.16%]\u001B[0m\n"
     ]
    },
    {
     "name": "stdout",
     "output_type": "stream",
     "text": [
      "Epoch 86 | Avg Loss: 0.2564 | Avg Precision: 88.07%\n"
     ]
    },
    {
     "name": "stderr",
     "output_type": "stream",
     "text": [
      "Train: 100%|\u001B[32m████████████████████████\u001B[0m| 295/295 [00:56<00:00,  5.20batch/s, Loss: 0.1581 | Precision: 88.06%]\u001B[0m\n"
     ]
    },
    {
     "name": "stdout",
     "output_type": "stream",
     "text": [
      "Epoch 87 | Avg Loss: 0.2580 | Avg Precision: 88.06%\n"
     ]
    },
    {
     "name": "stderr",
     "output_type": "stream",
     "text": [
      "Validate: 100%|\u001B[34m███████████████████████\u001B[0m| 74/74 [00:11<00:00,  6.35batch/s, Loss: 0.2517 | Precision: 87.78%]\u001B[0m\n"
     ]
    },
    {
     "name": "stdout",
     "output_type": "stream",
     "text": [
      "Epoch 87 | Avg Loss: 0.2603 | Avg Precision: 87.72% | Patience: 6\n"
     ]
    },
    {
     "name": "stderr",
     "output_type": "stream",
     "text": [
      "Train: 100%|\u001B[32m████████████████████████\u001B[0m| 295/295 [00:56<00:00,  5.22batch/s, Loss: 0.1726 | Precision: 88.31%]\u001B[0m\n"
     ]
    },
    {
     "name": "stdout",
     "output_type": "stream",
     "text": [
      "Epoch 88 | Avg Loss: 0.2550 | Avg Precision: 88.21%\n"
     ]
    },
    {
     "name": "stderr",
     "output_type": "stream",
     "text": [
      "Train: 100%|\u001B[32m████████████████████████\u001B[0m| 295/295 [00:56<00:00,  5.21batch/s, Loss: 0.1284 | Precision: 88.17%]\u001B[0m\n"
     ]
    },
    {
     "name": "stdout",
     "output_type": "stream",
     "text": [
      "Epoch 89 | Avg Loss: 0.2565 | Avg Precision: 88.16%\n"
     ]
    },
    {
     "name": "stderr",
     "output_type": "stream",
     "text": [
      "Train: 100%|\u001B[32m████████████████████████\u001B[0m| 295/295 [00:56<00:00,  5.21batch/s, Loss: 0.1900 | Precision: 88.36%]\u001B[0m\n"
     ]
    },
    {
     "name": "stdout",
     "output_type": "stream",
     "text": [
      "Epoch 90 | Avg Loss: 0.2533 | Avg Precision: 88.30%\n"
     ]
    },
    {
     "name": "stderr",
     "output_type": "stream",
     "text": [
      "Validate: 100%|\u001B[34m███████████████████████\u001B[0m| 74/74 [00:11<00:00,  6.45batch/s, Loss: 0.2585 | Precision: 87.31%]\u001B[0m\n"
     ]
    },
    {
     "name": "stdout",
     "output_type": "stream",
     "text": [
      "Epoch 90 | Avg Loss: 0.2724 | Avg Precision: 87.14% | Patience: 7\n"
     ]
    },
    {
     "name": "stderr",
     "output_type": "stream",
     "text": [
      "Train: 100%|\u001B[32m████████████████████████\u001B[0m| 295/295 [00:56<00:00,  5.21batch/s, Loss: 0.1607 | Precision: 88.21%]\u001B[0m\n"
     ]
    },
    {
     "name": "stdout",
     "output_type": "stream",
     "text": [
      "Epoch 91 | Avg Loss: 0.2558 | Avg Precision: 88.18%\n"
     ]
    },
    {
     "name": "stderr",
     "output_type": "stream",
     "text": [
      "Train: 100%|\u001B[32m████████████████████████\u001B[0m| 295/295 [00:56<00:00,  5.21batch/s, Loss: 0.1449 | Precision: 88.31%]\u001B[0m\n"
     ]
    },
    {
     "name": "stdout",
     "output_type": "stream",
     "text": [
      "Epoch 92 | Avg Loss: 0.2542 | Avg Precision: 88.27%\n"
     ]
    },
    {
     "name": "stderr",
     "output_type": "stream",
     "text": [
      "Train: 100%|\u001B[32m████████████████████████\u001B[0m| 295/295 [00:56<00:00,  5.22batch/s, Loss: 0.1668 | Precision: 88.41%]\u001B[0m\n"
     ]
    },
    {
     "name": "stdout",
     "output_type": "stream",
     "text": [
      "Epoch 93 | Avg Loss: 0.2525 | Avg Precision: 88.28%\n"
     ]
    },
    {
     "name": "stderr",
     "output_type": "stream",
     "text": [
      "Validate: 100%|\u001B[34m███████████████████████\u001B[0m| 74/74 [00:11<00:00,  6.35batch/s, Loss: 0.2597 | Precision: 88.02%]\u001B[0m\n"
     ]
    },
    {
     "name": "stdout",
     "output_type": "stream",
     "text": [
      "Epoch 93 | Avg Loss: 0.2649 | Avg Precision: 87.83% | Patience: 8\n"
     ]
    },
    {
     "name": "stderr",
     "output_type": "stream",
     "text": [
      "Train: 100%|\u001B[32m████████████████████████\u001B[0m| 295/295 [00:57<00:00,  5.12batch/s, Loss: 0.1506 | Precision: 88.35%]\u001B[0m\n"
     ]
    },
    {
     "name": "stdout",
     "output_type": "stream",
     "text": [
      "Epoch 94 | Avg Loss: 0.2535 | Avg Precision: 88.16%\n"
     ]
    },
    {
     "name": "stderr",
     "output_type": "stream",
     "text": [
      "Train: 100%|\u001B[32m████████████████████████\u001B[0m| 295/295 [00:57<00:00,  5.11batch/s, Loss: 0.2283 | Precision: 88.34%]\u001B[0m\n"
     ]
    },
    {
     "name": "stdout",
     "output_type": "stream",
     "text": [
      "Epoch 95 | Avg Loss: 0.2529 | Avg Precision: 88.21%\n"
     ]
    },
    {
     "name": "stderr",
     "output_type": "stream",
     "text": [
      "Train: 100%|\u001B[32m████████████████████████\u001B[0m| 295/295 [00:57<00:00,  5.17batch/s, Loss: 0.1691 | Precision: 88.46%]\u001B[0m\n"
     ]
    },
    {
     "name": "stdout",
     "output_type": "stream",
     "text": [
      "Epoch 96 | Avg Loss: 0.2517 | Avg Precision: 88.35%\n"
     ]
    },
    {
     "name": "stderr",
     "output_type": "stream",
     "text": [
      "Validate: 100%|\u001B[34m███████████████████████\u001B[0m| 74/74 [00:11<00:00,  6.37batch/s, Loss: 0.2461 | Precision: 87.80%]\u001B[0m\n"
     ]
    },
    {
     "name": "stdout",
     "output_type": "stream",
     "text": [
      "Epoch 96 | Avg Loss: 0.2616 | Avg Precision: 87.72% | Patience: 9\n"
     ]
    },
    {
     "name": "stderr",
     "output_type": "stream",
     "text": [
      "Train: 100%|\u001B[32m████████████████████████\u001B[0m| 295/295 [00:57<00:00,  5.16batch/s, Loss: 0.1564 | Precision: 88.49%]\u001B[0m\n"
     ]
    },
    {
     "name": "stdout",
     "output_type": "stream",
     "text": [
      "Epoch 97 | Avg Loss: 0.2507 | Avg Precision: 88.41%\n"
     ]
    },
    {
     "name": "stderr",
     "output_type": "stream",
     "text": [
      "Train: 100%|\u001B[32m████████████████████████\u001B[0m| 295/295 [00:57<00:00,  5.15batch/s, Loss: 0.1686 | Precision: 88.51%]\u001B[0m\n"
     ]
    },
    {
     "name": "stdout",
     "output_type": "stream",
     "text": [
      "Epoch 98 | Avg Loss: 0.2500 | Avg Precision: 88.47%\n"
     ]
    },
    {
     "name": "stderr",
     "output_type": "stream",
     "text": [
      "Train: 100%|\u001B[32m████████████████████████\u001B[0m| 295/295 [00:57<00:00,  5.17batch/s, Loss: 0.1443 | Precision: 88.51%]\u001B[0m\n"
     ]
    },
    {
     "name": "stdout",
     "output_type": "stream",
     "text": [
      "Epoch 99 | Avg Loss: 0.2497 | Avg Precision: 88.46%\n"
     ]
    },
    {
     "name": "stderr",
     "output_type": "stream",
     "text": [
      "Validate: 100%|\u001B[34m███████████████████████\u001B[0m| 74/74 [00:11<00:00,  6.35batch/s, Loss: 0.2501 | Precision: 88.40%]\u001B[0m\n"
     ]
    },
    {
     "name": "stdout",
     "output_type": "stream",
     "text": [
      "Epoch 99 | Avg Loss: 0.2554 | Avg Precision: 88.32% | Patience: 0\n"
     ]
    },
    {
     "name": "stderr",
     "output_type": "stream",
     "text": [
      "Train: 100%|\u001B[32m████████████████████████\u001B[0m| 295/295 [00:57<00:00,  5.14batch/s, Loss: 0.1129 | Precision: 88.60%]\u001B[0m"
     ]
    },
    {
     "name": "stdout",
     "output_type": "stream",
     "text": [
      "Epoch 100 | Avg Loss: 0.2491 | Avg Precision: 88.55%\n",
      "Training Complete - Best Validate Precision: 88.32%\n"
     ]
    },
    {
     "name": "stderr",
     "output_type": "stream",
     "text": [
      "\n"
     ]
    }
   ],
   "source": [
    "model = LSTMnet(9, 175, 1, 4)\n",
    "model = model.to(device)\n",
    "criterion = nn.CrossEntropyLoss()\n",
    "optimizer = optim.Adam(model.parameters(), lr=.01)\n",
    "scheduler = ReduceLROnPlateau(optimizer, 'max', factor=.9, patience=2, min_lr=.001)\n",
    "\n",
    "model17 = train_validate(model, criterion, optimizer, scheduler)\n",
    "torch.save(model17.state_dict(), '.\\\\models\\\\downsample\\\\lstm\\\\model17.pth')"
   ]
  },
  {
   "cell_type": "markdown",
   "id": "a013af7a-1347-463b-96dd-8f1202da4fa2",
   "metadata": {
    "jp-MarkdownHeadingCollapsed": true
   },
   "source": [
    "#### Model 18 - Batch 1024 - Validate Every 5"
   ]
  },
  {
   "cell_type": "code",
   "execution_count": 18,
   "id": "33d83a50-fc18-436f-915c-a62b83b0f647",
   "metadata": {},
   "outputs": [
    {
     "name": "stderr",
     "output_type": "stream",
     "text": [
      "Train: 100%|\u001B[32m████████████████████████\u001B[0m| 295/295 [00:57<00:00,  5.16batch/s, Loss: 0.3489 | Precision: 75.30%]\u001B[0m\n"
     ]
    },
    {
     "name": "stdout",
     "output_type": "stream",
     "text": [
      "Epoch 1 | Avg Loss: 0.4909 | Avg Precision: 71.88%\n"
     ]
    },
    {
     "name": "stderr",
     "output_type": "stream",
     "text": [
      "Train: 100%|\u001B[32m████████████████████████\u001B[0m| 295/295 [00:57<00:00,  5.14batch/s, Loss: 0.3910 | Precision: 80.66%]\u001B[0m\n"
     ]
    },
    {
     "name": "stdout",
     "output_type": "stream",
     "text": [
      "Epoch 2 | Avg Loss: 0.3950 | Avg Precision: 79.93%\n"
     ]
    },
    {
     "name": "stderr",
     "output_type": "stream",
     "text": [
      "Train: 100%|\u001B[32m████████████████████████\u001B[0m| 295/295 [00:57<00:00,  5.09batch/s, Loss: 0.3246 | Precision: 82.08%]\u001B[0m\n"
     ]
    },
    {
     "name": "stdout",
     "output_type": "stream",
     "text": [
      "Epoch 3 | Avg Loss: 0.3704 | Avg Precision: 81.58%\n"
     ]
    },
    {
     "name": "stderr",
     "output_type": "stream",
     "text": [
      "Train: 100%|\u001B[32m████████████████████████\u001B[0m| 295/295 [00:56<00:00,  5.20batch/s, Loss: 0.2470 | Precision: 82.82%]\u001B[0m\n"
     ]
    },
    {
     "name": "stdout",
     "output_type": "stream",
     "text": [
      "Epoch 4 | Avg Loss: 0.3561 | Avg Precision: 82.52%\n"
     ]
    },
    {
     "name": "stderr",
     "output_type": "stream",
     "text": [
      "Train: 100%|\u001B[32m████████████████████████\u001B[0m| 295/295 [00:57<00:00,  5.14batch/s, Loss: 0.2414 | Precision: 83.43%]\u001B[0m\n"
     ]
    },
    {
     "name": "stdout",
     "output_type": "stream",
     "text": [
      "Epoch 5 | Avg Loss: 0.3455 | Avg Precision: 83.22%\n"
     ]
    },
    {
     "name": "stderr",
     "output_type": "stream",
     "text": [
      "Validate: 100%|\u001B[34m███████████████████████\u001B[0m| 74/74 [00:11<00:00,  6.38batch/s, Loss: 0.4322 | Precision: 80.38%]\u001B[0m\n"
     ]
    },
    {
     "name": "stdout",
     "output_type": "stream",
     "text": [
      "Epoch 5 | Avg Loss: 0.4380 | Avg Precision: 80.15% | Patience: 0\n"
     ]
    },
    {
     "name": "stderr",
     "output_type": "stream",
     "text": [
      "Train: 100%|\u001B[32m████████████████████████\u001B[0m| 295/295 [00:56<00:00,  5.21batch/s, Loss: 0.3341 | Precision: 81.87%]\u001B[0m\n"
     ]
    },
    {
     "name": "stdout",
     "output_type": "stream",
     "text": [
      "Epoch 6 | Avg Loss: 0.3725 | Avg Precision: 81.17%\n"
     ]
    },
    {
     "name": "stderr",
     "output_type": "stream",
     "text": [
      "Train: 100%|\u001B[32m████████████████████████\u001B[0m| 295/295 [00:57<00:00,  5.12batch/s, Loss: 0.2772 | Precision: 82.73%]\u001B[0m\n"
     ]
    },
    {
     "name": "stdout",
     "output_type": "stream",
     "text": [
      "Epoch 7 | Avg Loss: 0.3579 | Avg Precision: 82.40%\n"
     ]
    },
    {
     "name": "stderr",
     "output_type": "stream",
     "text": [
      "Train: 100%|\u001B[32m████████████████████████\u001B[0m| 295/295 [00:57<00:00,  5.13batch/s, Loss: 0.2611 | Precision: 83.36%]\u001B[0m\n"
     ]
    },
    {
     "name": "stdout",
     "output_type": "stream",
     "text": [
      "Epoch 8 | Avg Loss: 0.3455 | Avg Precision: 83.02%\n"
     ]
    },
    {
     "name": "stderr",
     "output_type": "stream",
     "text": [
      "Train: 100%|\u001B[32m████████████████████████\u001B[0m| 295/295 [00:57<00:00,  5.11batch/s, Loss: 0.2476 | Precision: 83.66%]\u001B[0m\n"
     ]
    },
    {
     "name": "stdout",
     "output_type": "stream",
     "text": [
      "Epoch 9 | Avg Loss: 0.3404 | Avg Precision: 83.52%\n"
     ]
    },
    {
     "name": "stderr",
     "output_type": "stream",
     "text": [
      "Train: 100%|\u001B[32m████████████████████████\u001B[0m| 295/295 [00:57<00:00,  5.14batch/s, Loss: 0.2255 | Precision: 83.98%]\u001B[0m\n"
     ]
    },
    {
     "name": "stdout",
     "output_type": "stream",
     "text": [
      "Epoch 10 | Avg Loss: 0.3359 | Avg Precision: 83.78%\n"
     ]
    },
    {
     "name": "stderr",
     "output_type": "stream",
     "text": [
      "Validate: 100%|\u001B[34m███████████████████████\u001B[0m| 74/74 [00:11<00:00,  6.29batch/s, Loss: 0.3418 | Precision: 84.60%]\u001B[0m\n"
     ]
    },
    {
     "name": "stdout",
     "output_type": "stream",
     "text": [
      "Epoch 10 | Avg Loss: 0.3321 | Avg Precision: 84.58% | Patience: 0\n"
     ]
    },
    {
     "name": "stderr",
     "output_type": "stream",
     "text": [
      "Train: 100%|\u001B[32m████████████████████████\u001B[0m| 295/295 [00:57<00:00,  5.12batch/s, Loss: 0.2154 | Precision: 84.23%]\u001B[0m\n"
     ]
    },
    {
     "name": "stdout",
     "output_type": "stream",
     "text": [
      "Epoch 11 | Avg Loss: 0.3318 | Avg Precision: 84.18%\n"
     ]
    },
    {
     "name": "stderr",
     "output_type": "stream",
     "text": [
      "Train: 100%|\u001B[32m████████████████████████\u001B[0m| 295/295 [00:57<00:00,  5.11batch/s, Loss: 0.1702 | Precision: 84.44%]\u001B[0m\n"
     ]
    },
    {
     "name": "stdout",
     "output_type": "stream",
     "text": [
      "Epoch 12 | Avg Loss: 0.3281 | Avg Precision: 84.29%\n"
     ]
    },
    {
     "name": "stderr",
     "output_type": "stream",
     "text": [
      "Train: 100%|\u001B[32m████████████████████████\u001B[0m| 295/295 [00:57<00:00,  5.09batch/s, Loss: 0.2109 | Precision: 84.73%]\u001B[0m\n"
     ]
    },
    {
     "name": "stdout",
     "output_type": "stream",
     "text": [
      "Epoch 13 | Avg Loss: 0.3243 | Avg Precision: 84.56%\n"
     ]
    },
    {
     "name": "stderr",
     "output_type": "stream",
     "text": [
      "Train: 100%|\u001B[32m████████████████████████\u001B[0m| 295/295 [00:57<00:00,  5.11batch/s, Loss: 0.1906 | Precision: 84.85%]\u001B[0m\n"
     ]
    },
    {
     "name": "stdout",
     "output_type": "stream",
     "text": [
      "Epoch 14 | Avg Loss: 0.3220 | Avg Precision: 84.73%\n"
     ]
    },
    {
     "name": "stderr",
     "output_type": "stream",
     "text": [
      "Train: 100%|\u001B[32m████████████████████████\u001B[0m| 295/295 [00:57<00:00,  5.09batch/s, Loss: 0.2165 | Precision: 84.86%]\u001B[0m\n"
     ]
    },
    {
     "name": "stdout",
     "output_type": "stream",
     "text": [
      "Epoch 15 | Avg Loss: 0.3206 | Avg Precision: 84.74%\n"
     ]
    },
    {
     "name": "stderr",
     "output_type": "stream",
     "text": [
      "Validate: 100%|\u001B[34m███████████████████████\u001B[0m| 74/74 [00:11<00:00,  6.32batch/s, Loss: 0.3253 | Precision: 85.60%]\u001B[0m\n"
     ]
    },
    {
     "name": "stdout",
     "output_type": "stream",
     "text": [
      "Epoch 15 | Avg Loss: 0.3173 | Avg Precision: 85.44% | Patience: 0\n"
     ]
    },
    {
     "name": "stderr",
     "output_type": "stream",
     "text": [
      "Train: 100%|\u001B[32m████████████████████████\u001B[0m| 295/295 [00:57<00:00,  5.09batch/s, Loss: 0.1884 | Precision: 84.93%]\u001B[0m\n"
     ]
    },
    {
     "name": "stdout",
     "output_type": "stream",
     "text": [
      "Epoch 16 | Avg Loss: 0.3189 | Avg Precision: 84.91%\n"
     ]
    },
    {
     "name": "stderr",
     "output_type": "stream",
     "text": [
      "Train: 100%|\u001B[32m████████████████████████\u001B[0m| 295/295 [00:58<00:00,  5.04batch/s, Loss: 0.1713 | Precision: 85.08%]\u001B[0m\n"
     ]
    },
    {
     "name": "stdout",
     "output_type": "stream",
     "text": [
      "Epoch 17 | Avg Loss: 0.3164 | Avg Precision: 84.95%\n"
     ]
    },
    {
     "name": "stderr",
     "output_type": "stream",
     "text": [
      "Train: 100%|\u001B[32m████████████████████████\u001B[0m| 295/295 [00:58<00:00,  5.04batch/s, Loss: 0.1737 | Precision: 85.19%]\u001B[0m\n"
     ]
    },
    {
     "name": "stdout",
     "output_type": "stream",
     "text": [
      "Epoch 18 | Avg Loss: 0.3128 | Avg Precision: 85.05%\n"
     ]
    },
    {
     "name": "stderr",
     "output_type": "stream",
     "text": [
      "Train: 100%|\u001B[32m████████████████████████\u001B[0m| 295/295 [00:58<00:00,  5.06batch/s, Loss: 0.1827 | Precision: 85.37%]\u001B[0m\n"
     ]
    },
    {
     "name": "stdout",
     "output_type": "stream",
     "text": [
      "Epoch 19 | Avg Loss: 0.3107 | Avg Precision: 85.28%\n"
     ]
    },
    {
     "name": "stderr",
     "output_type": "stream",
     "text": [
      "Train: 100%|\u001B[32m████████████████████████\u001B[0m| 295/295 [00:58<00:00,  5.07batch/s, Loss: 0.1848 | Precision: 85.46%]\u001B[0m\n"
     ]
    },
    {
     "name": "stdout",
     "output_type": "stream",
     "text": [
      "Epoch 20 | Avg Loss: 0.3100 | Avg Precision: 85.36%\n"
     ]
    },
    {
     "name": "stderr",
     "output_type": "stream",
     "text": [
      "Validate: 100%|\u001B[34m███████████████████████\u001B[0m| 74/74 [00:11<00:00,  6.29batch/s, Loss: 0.3080 | Precision: 85.82%]\u001B[0m\n"
     ]
    },
    {
     "name": "stdout",
     "output_type": "stream",
     "text": [
      "Epoch 20 | Avg Loss: 0.3088 | Avg Precision: 85.68% | Patience: 0\n"
     ]
    },
    {
     "name": "stderr",
     "output_type": "stream",
     "text": [
      "Train: 100%|\u001B[32m████████████████████████\u001B[0m| 295/295 [00:57<00:00,  5.09batch/s, Loss: 0.1521 | Precision: 85.44%]\u001B[0m\n"
     ]
    },
    {
     "name": "stdout",
     "output_type": "stream",
     "text": [
      "Epoch 21 | Avg Loss: 0.3087 | Avg Precision: 85.40%\n"
     ]
    },
    {
     "name": "stderr",
     "output_type": "stream",
     "text": [
      "Train: 100%|\u001B[32m████████████████████████\u001B[0m| 295/295 [00:58<00:00,  5.06batch/s, Loss: 0.1486 | Precision: 85.63%]\u001B[0m\n"
     ]
    },
    {
     "name": "stdout",
     "output_type": "stream",
     "text": [
      "Epoch 22 | Avg Loss: 0.3061 | Avg Precision: 85.49%\n"
     ]
    },
    {
     "name": "stderr",
     "output_type": "stream",
     "text": [
      "Train: 100%|\u001B[32m████████████████████████\u001B[0m| 295/295 [00:58<00:00,  5.05batch/s, Loss: 0.1808 | Precision: 85.72%]\u001B[0m\n"
     ]
    },
    {
     "name": "stdout",
     "output_type": "stream",
     "text": [
      "Epoch 23 | Avg Loss: 0.3038 | Avg Precision: 85.51%\n"
     ]
    },
    {
     "name": "stderr",
     "output_type": "stream",
     "text": [
      "Train: 100%|\u001B[32m████████████████████████\u001B[0m| 295/295 [00:58<00:00,  5.08batch/s, Loss: 0.2235 | Precision: 85.76%]\u001B[0m\n"
     ]
    },
    {
     "name": "stdout",
     "output_type": "stream",
     "text": [
      "Epoch 24 | Avg Loss: 0.3033 | Avg Precision: 85.71%\n"
     ]
    },
    {
     "name": "stderr",
     "output_type": "stream",
     "text": [
      "Train: 100%|\u001B[32m████████████████████████\u001B[0m| 295/295 [00:58<00:00,  5.03batch/s, Loss: 0.2081 | Precision: 85.90%]\u001B[0m\n"
     ]
    },
    {
     "name": "stdout",
     "output_type": "stream",
     "text": [
      "Epoch 25 | Avg Loss: 0.3017 | Avg Precision: 85.79%\n"
     ]
    },
    {
     "name": "stderr",
     "output_type": "stream",
     "text": [
      "Validate: 100%|\u001B[34m███████████████████████\u001B[0m| 74/74 [00:11<00:00,  6.27batch/s, Loss: 0.3187 | Precision: 85.32%]\u001B[0m\n"
     ]
    },
    {
     "name": "stdout",
     "output_type": "stream",
     "text": [
      "Epoch 25 | Avg Loss: 0.3072 | Avg Precision: 85.06% | Patience: 1\n"
     ]
    },
    {
     "name": "stderr",
     "output_type": "stream",
     "text": [
      "Train: 100%|\u001B[32m████████████████████████\u001B[0m| 295/295 [00:58<00:00,  5.03batch/s, Loss: 0.1784 | Precision: 85.98%]\u001B[0m\n"
     ]
    },
    {
     "name": "stdout",
     "output_type": "stream",
     "text": [
      "Epoch 26 | Avg Loss: 0.2992 | Avg Precision: 85.92%\n"
     ]
    },
    {
     "name": "stderr",
     "output_type": "stream",
     "text": [
      "Train: 100%|\u001B[32m████████████████████████\u001B[0m| 295/295 [00:58<00:00,  5.04batch/s, Loss: 0.1725 | Precision: 85.96%]\u001B[0m\n"
     ]
    },
    {
     "name": "stdout",
     "output_type": "stream",
     "text": [
      "Epoch 27 | Avg Loss: 0.2999 | Avg Precision: 85.97%\n"
     ]
    },
    {
     "name": "stderr",
     "output_type": "stream",
     "text": [
      "Train: 100%|\u001B[32m████████████████████████\u001B[0m| 295/295 [00:58<00:00,  5.03batch/s, Loss: 0.1477 | Precision: 86.19%]\u001B[0m\n"
     ]
    },
    {
     "name": "stdout",
     "output_type": "stream",
     "text": [
      "Epoch 28 | Avg Loss: 0.2956 | Avg Precision: 86.15%\n"
     ]
    },
    {
     "name": "stderr",
     "output_type": "stream",
     "text": [
      "Train: 100%|\u001B[32m████████████████████████\u001B[0m| 295/295 [00:58<00:00,  5.02batch/s, Loss: 0.1583 | Precision: 86.12%]\u001B[0m\n"
     ]
    },
    {
     "name": "stdout",
     "output_type": "stream",
     "text": [
      "Epoch 29 | Avg Loss: 0.2956 | Avg Precision: 86.08%\n"
     ]
    },
    {
     "name": "stderr",
     "output_type": "stream",
     "text": [
      "Train: 100%|\u001B[32m████████████████████████\u001B[0m| 295/295 [00:58<00:00,  5.01batch/s, Loss: 0.1444 | Precision: 86.12%]\u001B[0m\n"
     ]
    },
    {
     "name": "stdout",
     "output_type": "stream",
     "text": [
      "Epoch 30 | Avg Loss: 0.2955 | Avg Precision: 86.15%\n"
     ]
    },
    {
     "name": "stderr",
     "output_type": "stream",
     "text": [
      "Validate: 100%|\u001B[34m███████████████████████\u001B[0m| 74/74 [00:11<00:00,  6.19batch/s, Loss: 0.3025 | Precision: 86.34%]\u001B[0m\n"
     ]
    },
    {
     "name": "stdout",
     "output_type": "stream",
     "text": [
      "Epoch 30 | Avg Loss: 0.2954 | Avg Precision: 86.16% | Patience: 0\n"
     ]
    },
    {
     "name": "stderr",
     "output_type": "stream",
     "text": [
      "Train: 100%|\u001B[32m████████████████████████\u001B[0m| 295/295 [00:58<00:00,  5.04batch/s, Loss: 0.1511 | Precision: 86.19%]\u001B[0m\n"
     ]
    },
    {
     "name": "stdout",
     "output_type": "stream",
     "text": [
      "Epoch 31 | Avg Loss: 0.2951 | Avg Precision: 86.24%\n"
     ]
    },
    {
     "name": "stderr",
     "output_type": "stream",
     "text": [
      "Train: 100%|\u001B[32m████████████████████████\u001B[0m| 295/295 [00:58<00:00,  5.00batch/s, Loss: 0.1359 | Precision: 86.16%]\u001B[0m\n"
     ]
    },
    {
     "name": "stdout",
     "output_type": "stream",
     "text": [
      "Epoch 32 | Avg Loss: 0.2950 | Avg Precision: 86.19%\n"
     ]
    },
    {
     "name": "stderr",
     "output_type": "stream",
     "text": [
      "Train: 100%|\u001B[32m████████████████████████\u001B[0m| 295/295 [00:58<00:00,  5.03batch/s, Loss: 0.1584 | Precision: 86.14%]\u001B[0m\n"
     ]
    },
    {
     "name": "stdout",
     "output_type": "stream",
     "text": [
      "Epoch 33 | Avg Loss: 0.2946 | Avg Precision: 86.08%\n"
     ]
    },
    {
     "name": "stderr",
     "output_type": "stream",
     "text": [
      "Train: 100%|\u001B[32m████████████████████████\u001B[0m| 295/295 [00:58<00:00,  5.03batch/s, Loss: 0.1904 | Precision: 86.31%]\u001B[0m\n"
     ]
    },
    {
     "name": "stdout",
     "output_type": "stream",
     "text": [
      "Epoch 34 | Avg Loss: 0.2931 | Avg Precision: 86.27%\n"
     ]
    },
    {
     "name": "stderr",
     "output_type": "stream",
     "text": [
      "Train: 100%|\u001B[32m████████████████████████\u001B[0m| 295/295 [00:58<00:00,  5.03batch/s, Loss: 0.1608 | Precision: 86.31%]\u001B[0m\n"
     ]
    },
    {
     "name": "stdout",
     "output_type": "stream",
     "text": [
      "Epoch 35 | Avg Loss: 0.2927 | Avg Precision: 86.30%\n"
     ]
    },
    {
     "name": "stderr",
     "output_type": "stream",
     "text": [
      "Validate: 100%|\u001B[34m███████████████████████\u001B[0m| 74/74 [00:12<00:00,  6.11batch/s, Loss: 0.3062 | Precision: 87.05%]\u001B[0m\n"
     ]
    },
    {
     "name": "stdout",
     "output_type": "stream",
     "text": [
      "Epoch 35 | Avg Loss: 0.2937 | Avg Precision: 86.88% | Patience: 0\n"
     ]
    },
    {
     "name": "stderr",
     "output_type": "stream",
     "text": [
      "Train: 100%|\u001B[32m████████████████████████\u001B[0m| 295/295 [00:58<00:00,  5.05batch/s, Loss: 0.1457 | Precision: 86.39%]\u001B[0m\n"
     ]
    },
    {
     "name": "stdout",
     "output_type": "stream",
     "text": [
      "Epoch 36 | Avg Loss: 0.2911 | Avg Precision: 86.34%\n"
     ]
    },
    {
     "name": "stderr",
     "output_type": "stream",
     "text": [
      "Train: 100%|\u001B[32m████████████████████████\u001B[0m| 295/295 [00:57<00:00,  5.13batch/s, Loss: 0.1448 | Precision: 86.38%]\u001B[0m\n"
     ]
    },
    {
     "name": "stdout",
     "output_type": "stream",
     "text": [
      "Epoch 37 | Avg Loss: 0.2907 | Avg Precision: 86.27%\n"
     ]
    },
    {
     "name": "stderr",
     "output_type": "stream",
     "text": [
      "Train: 100%|\u001B[32m████████████████████████\u001B[0m| 295/295 [00:57<00:00,  5.11batch/s, Loss: 0.1566 | Precision: 86.49%]\u001B[0m\n"
     ]
    },
    {
     "name": "stdout",
     "output_type": "stream",
     "text": [
      "Epoch 38 | Avg Loss: 0.2893 | Avg Precision: 86.48%\n"
     ]
    },
    {
     "name": "stderr",
     "output_type": "stream",
     "text": [
      "Train: 100%|\u001B[32m████████████████████████\u001B[0m| 295/295 [00:57<00:00,  5.15batch/s, Loss: 0.1602 | Precision: 86.46%]\u001B[0m\n"
     ]
    },
    {
     "name": "stdout",
     "output_type": "stream",
     "text": [
      "Epoch 39 | Avg Loss: 0.2897 | Avg Precision: 86.41%\n"
     ]
    },
    {
     "name": "stderr",
     "output_type": "stream",
     "text": [
      "Train: 100%|\u001B[32m████████████████████████\u001B[0m| 295/295 [00:58<00:00,  5.06batch/s, Loss: 0.1674 | Precision: 86.48%]\u001B[0m\n"
     ]
    },
    {
     "name": "stdout",
     "output_type": "stream",
     "text": [
      "Epoch 40 | Avg Loss: 0.2895 | Avg Precision: 86.45%\n"
     ]
    },
    {
     "name": "stderr",
     "output_type": "stream",
     "text": [
      "Validate: 100%|\u001B[34m███████████████████████\u001B[0m| 74/74 [00:11<00:00,  6.20batch/s, Loss: 0.2765 | Precision: 85.32%]\u001B[0m\n"
     ]
    },
    {
     "name": "stdout",
     "output_type": "stream",
     "text": [
      "Epoch 40 | Avg Loss: 0.2982 | Avg Precision: 85.12% | Patience: 1\n"
     ]
    },
    {
     "name": "stderr",
     "output_type": "stream",
     "text": [
      "Train: 100%|\u001B[32m████████████████████████\u001B[0m| 295/295 [00:58<00:00,  5.06batch/s, Loss: 0.1547 | Precision: 86.47%]\u001B[0m\n"
     ]
    },
    {
     "name": "stdout",
     "output_type": "stream",
     "text": [
      "Epoch 41 | Avg Loss: 0.2888 | Avg Precision: 86.32%\n"
     ]
    },
    {
     "name": "stderr",
     "output_type": "stream",
     "text": [
      "Train: 100%|\u001B[32m████████████████████████\u001B[0m| 295/295 [00:58<00:00,  5.06batch/s, Loss: 0.1744 | Precision: 86.59%]\u001B[0m\n"
     ]
    },
    {
     "name": "stdout",
     "output_type": "stream",
     "text": [
      "Epoch 42 | Avg Loss: 0.2879 | Avg Precision: 86.54%\n"
     ]
    },
    {
     "name": "stderr",
     "output_type": "stream",
     "text": [
      "Train: 100%|\u001B[32m████████████████████████\u001B[0m| 295/295 [00:58<00:00,  5.04batch/s, Loss: 0.1518 | Precision: 86.48%]\u001B[0m\n"
     ]
    },
    {
     "name": "stdout",
     "output_type": "stream",
     "text": [
      "Epoch 43 | Avg Loss: 0.2918 | Avg Precision: 86.28%\n"
     ]
    },
    {
     "name": "stderr",
     "output_type": "stream",
     "text": [
      "Train: 100%|\u001B[32m████████████████████████\u001B[0m| 295/295 [00:58<00:00,  5.05batch/s, Loss: 0.1490 | Precision: 86.51%]\u001B[0m\n"
     ]
    },
    {
     "name": "stdout",
     "output_type": "stream",
     "text": [
      "Epoch 44 | Avg Loss: 0.2896 | Avg Precision: 86.38%\n"
     ]
    },
    {
     "name": "stderr",
     "output_type": "stream",
     "text": [
      "Train: 100%|\u001B[32m████████████████████████\u001B[0m| 295/295 [00:58<00:00,  5.07batch/s, Loss: 0.1296 | Precision: 86.44%]\u001B[0m\n"
     ]
    },
    {
     "name": "stdout",
     "output_type": "stream",
     "text": [
      "Epoch 45 | Avg Loss: 0.2907 | Avg Precision: 86.25%\n"
     ]
    },
    {
     "name": "stderr",
     "output_type": "stream",
     "text": [
      "Validate: 100%|\u001B[34m███████████████████████\u001B[0m| 74/74 [00:11<00:00,  6.28batch/s, Loss: 0.2798 | Precision: 87.32%]\u001B[0m\n"
     ]
    },
    {
     "name": "stdout",
     "output_type": "stream",
     "text": [
      "Epoch 45 | Avg Loss: 0.2899 | Avg Precision: 87.16% | Patience: 0\n"
     ]
    },
    {
     "name": "stderr",
     "output_type": "stream",
     "text": [
      "Train: 100%|\u001B[32m████████████████████████\u001B[0m| 295/295 [00:58<00:00,  5.06batch/s, Loss: 0.1051 | Precision: 86.46%]\u001B[0m\n"
     ]
    },
    {
     "name": "stdout",
     "output_type": "stream",
     "text": [
      "Epoch 46 | Avg Loss: 0.2941 | Avg Precision: 86.55%\n"
     ]
    },
    {
     "name": "stderr",
     "output_type": "stream",
     "text": [
      "Train: 100%|\u001B[32m████████████████████████\u001B[0m| 295/295 [00:58<00:00,  5.05batch/s, Loss: 0.1223 | Precision: 86.66%]\u001B[0m\n"
     ]
    },
    {
     "name": "stdout",
     "output_type": "stream",
     "text": [
      "Epoch 47 | Avg Loss: 0.2867 | Avg Precision: 86.59%\n"
     ]
    },
    {
     "name": "stderr",
     "output_type": "stream",
     "text": [
      "Train: 100%|\u001B[32m████████████████████████\u001B[0m| 295/295 [00:58<00:00,  5.03batch/s, Loss: 0.1169 | Precision: 86.71%]\u001B[0m\n"
     ]
    },
    {
     "name": "stdout",
     "output_type": "stream",
     "text": [
      "Epoch 48 | Avg Loss: 0.2859 | Avg Precision: 86.67%\n"
     ]
    },
    {
     "name": "stderr",
     "output_type": "stream",
     "text": [
      "Train: 100%|\u001B[32m████████████████████████\u001B[0m| 295/295 [00:58<00:00,  5.04batch/s, Loss: 0.1631 | Precision: 86.74%]\u001B[0m\n"
     ]
    },
    {
     "name": "stdout",
     "output_type": "stream",
     "text": [
      "Epoch 49 | Avg Loss: 0.2845 | Avg Precision: 86.55%\n"
     ]
    },
    {
     "name": "stderr",
     "output_type": "stream",
     "text": [
      "Train: 100%|\u001B[32m████████████████████████\u001B[0m| 295/295 [00:58<00:00,  5.03batch/s, Loss: 0.1676 | Precision: 86.84%]\u001B[0m\n"
     ]
    },
    {
     "name": "stdout",
     "output_type": "stream",
     "text": [
      "Epoch 50 | Avg Loss: 0.2841 | Avg Precision: 86.86%\n"
     ]
    },
    {
     "name": "stderr",
     "output_type": "stream",
     "text": [
      "Validate: 100%|\u001B[34m███████████████████████\u001B[0m| 74/74 [00:12<00:00,  6.11batch/s, Loss: 0.2623 | Precision: 86.79%]\u001B[0m\n"
     ]
    },
    {
     "name": "stdout",
     "output_type": "stream",
     "text": [
      "Epoch 50 | Avg Loss: 0.2862 | Avg Precision: 86.64% | Patience: 1\n"
     ]
    },
    {
     "name": "stderr",
     "output_type": "stream",
     "text": [
      "Train: 100%|\u001B[32m████████████████████████\u001B[0m| 295/295 [00:57<00:00,  5.09batch/s, Loss: 0.1526 | Precision: 86.78%]\u001B[0m\n"
     ]
    },
    {
     "name": "stdout",
     "output_type": "stream",
     "text": [
      "Epoch 51 | Avg Loss: 0.2852 | Avg Precision: 86.88%\n"
     ]
    },
    {
     "name": "stderr",
     "output_type": "stream",
     "text": [
      "Train: 100%|\u001B[32m████████████████████████\u001B[0m| 295/295 [00:58<00:00,  5.06batch/s, Loss: 0.1364 | Precision: 86.86%]\u001B[0m\n"
     ]
    },
    {
     "name": "stdout",
     "output_type": "stream",
     "text": [
      "Epoch 52 | Avg Loss: 0.2832 | Avg Precision: 86.88%\n"
     ]
    },
    {
     "name": "stderr",
     "output_type": "stream",
     "text": [
      "Train: 100%|\u001B[32m████████████████████████\u001B[0m| 295/295 [00:58<00:00,  5.03batch/s, Loss: 0.1462 | Precision: 86.85%]\u001B[0m\n"
     ]
    },
    {
     "name": "stdout",
     "output_type": "stream",
     "text": [
      "Epoch 53 | Avg Loss: 0.2845 | Avg Precision: 86.84%\n"
     ]
    },
    {
     "name": "stderr",
     "output_type": "stream",
     "text": [
      "Train: 100%|\u001B[32m████████████████████████\u001B[0m| 295/295 [00:58<00:00,  5.06batch/s, Loss: 0.1600 | Precision: 86.88%]\u001B[0m\n"
     ]
    },
    {
     "name": "stdout",
     "output_type": "stream",
     "text": [
      "Epoch 54 | Avg Loss: 0.2830 | Avg Precision: 86.87%\n"
     ]
    },
    {
     "name": "stderr",
     "output_type": "stream",
     "text": [
      "Train: 100%|\u001B[32m████████████████████████\u001B[0m| 295/295 [00:58<00:00,  5.04batch/s, Loss: 0.1327 | Precision: 86.79%]\u001B[0m\n"
     ]
    },
    {
     "name": "stdout",
     "output_type": "stream",
     "text": [
      "Epoch 55 | Avg Loss: 0.2844 | Avg Precision: 86.61%\n"
     ]
    },
    {
     "name": "stderr",
     "output_type": "stream",
     "text": [
      "Validate: 100%|\u001B[34m███████████████████████\u001B[0m| 74/74 [00:11<00:00,  6.24batch/s, Loss: 0.2711 | Precision: 87.02%]\u001B[0m\n"
     ]
    },
    {
     "name": "stdout",
     "output_type": "stream",
     "text": [
      "Epoch 55 | Avg Loss: 0.2838 | Avg Precision: 86.89% | Patience: 2\n"
     ]
    },
    {
     "name": "stderr",
     "output_type": "stream",
     "text": [
      "Train: 100%|\u001B[32m████████████████████████\u001B[0m| 295/295 [00:58<00:00,  5.04batch/s, Loss: 0.1433 | Precision: 86.99%]\u001B[0m\n"
     ]
    },
    {
     "name": "stdout",
     "output_type": "stream",
     "text": [
      "Epoch 56 | Avg Loss: 0.2813 | Avg Precision: 86.94%\n"
     ]
    },
    {
     "name": "stderr",
     "output_type": "stream",
     "text": [
      "Train: 100%|\u001B[32m████████████████████████\u001B[0m| 295/295 [00:58<00:00,  5.06batch/s, Loss: 0.1370 | Precision: 86.86%]\u001B[0m\n"
     ]
    },
    {
     "name": "stdout",
     "output_type": "stream",
     "text": [
      "Epoch 57 | Avg Loss: 0.2836 | Avg Precision: 86.83%\n"
     ]
    },
    {
     "name": "stderr",
     "output_type": "stream",
     "text": [
      "Train: 100%|\u001B[32m████████████████████████\u001B[0m| 295/295 [00:58<00:00,  5.08batch/s, Loss: 0.1265 | Precision: 86.83%]\u001B[0m\n"
     ]
    },
    {
     "name": "stdout",
     "output_type": "stream",
     "text": [
      "Epoch 58 | Avg Loss: 0.2837 | Avg Precision: 86.86%\n"
     ]
    },
    {
     "name": "stderr",
     "output_type": "stream",
     "text": [
      "Train: 100%|\u001B[32m████████████████████████\u001B[0m| 295/295 [00:58<00:00,  5.07batch/s, Loss: 0.1157 | Precision: 86.92%]\u001B[0m\n"
     ]
    },
    {
     "name": "stdout",
     "output_type": "stream",
     "text": [
      "Epoch 59 | Avg Loss: 0.2827 | Avg Precision: 86.83%\n"
     ]
    },
    {
     "name": "stderr",
     "output_type": "stream",
     "text": [
      "Train: 100%|\u001B[32m████████████████████████\u001B[0m| 295/295 [00:58<00:00,  5.06batch/s, Loss: 0.1531 | Precision: 87.01%]\u001B[0m\n"
     ]
    },
    {
     "name": "stdout",
     "output_type": "stream",
     "text": [
      "Epoch 60 | Avg Loss: 0.2809 | Avg Precision: 86.86%\n"
     ]
    },
    {
     "name": "stderr",
     "output_type": "stream",
     "text": [
      "Validate: 100%|\u001B[34m███████████████████████\u001B[0m| 74/74 [00:11<00:00,  6.30batch/s, Loss: 0.2739 | Precision: 86.38%]\u001B[0m\n"
     ]
    },
    {
     "name": "stdout",
     "output_type": "stream",
     "text": [
      "Epoch 60 | Avg Loss: 0.2914 | Avg Precision: 86.28% | Patience: 3\n"
     ]
    },
    {
     "name": "stderr",
     "output_type": "stream",
     "text": [
      "Train: 100%|\u001B[32m████████████████████████\u001B[0m| 295/295 [00:57<00:00,  5.10batch/s, Loss: 0.1153 | Precision: 87.15%]\u001B[0m\n"
     ]
    },
    {
     "name": "stdout",
     "output_type": "stream",
     "text": [
      "Epoch 61 | Avg Loss: 0.2786 | Avg Precision: 87.09%\n"
     ]
    },
    {
     "name": "stderr",
     "output_type": "stream",
     "text": [
      "Train: 100%|\u001B[32m████████████████████████\u001B[0m| 295/295 [00:58<00:00,  5.06batch/s, Loss: 0.1066 | Precision: 87.04%]\u001B[0m\n"
     ]
    },
    {
     "name": "stdout",
     "output_type": "stream",
     "text": [
      "Epoch 62 | Avg Loss: 0.2801 | Avg Precision: 86.95%\n"
     ]
    },
    {
     "name": "stderr",
     "output_type": "stream",
     "text": [
      "Train: 100%|\u001B[32m████████████████████████\u001B[0m| 295/295 [00:57<00:00,  5.10batch/s, Loss: 0.1284 | Precision: 87.23%]\u001B[0m\n"
     ]
    },
    {
     "name": "stdout",
     "output_type": "stream",
     "text": [
      "Epoch 63 | Avg Loss: 0.2780 | Avg Precision: 87.04%\n"
     ]
    },
    {
     "name": "stderr",
     "output_type": "stream",
     "text": [
      "Train: 100%|\u001B[32m████████████████████████\u001B[0m| 295/295 [00:57<00:00,  5.17batch/s, Loss: 0.1143 | Precision: 87.14%]\u001B[0m\n"
     ]
    },
    {
     "name": "stdout",
     "output_type": "stream",
     "text": [
      "Epoch 64 | Avg Loss: 0.2783 | Avg Precision: 87.07%\n"
     ]
    },
    {
     "name": "stderr",
     "output_type": "stream",
     "text": [
      "Train: 100%|\u001B[32m████████████████████████\u001B[0m| 295/295 [00:57<00:00,  5.12batch/s, Loss: 0.1165 | Precision: 87.27%]\u001B[0m\n"
     ]
    },
    {
     "name": "stdout",
     "output_type": "stream",
     "text": [
      "Epoch 65 | Avg Loss: 0.2757 | Avg Precision: 87.25%\n"
     ]
    },
    {
     "name": "stderr",
     "output_type": "stream",
     "text": [
      "Validate: 100%|\u001B[34m███████████████████████\u001B[0m| 74/74 [00:11<00:00,  6.33batch/s, Loss: 0.2529 | Precision: 86.96%]\u001B[0m\n"
     ]
    },
    {
     "name": "stdout",
     "output_type": "stream",
     "text": [
      "Epoch 65 | Avg Loss: 0.2781 | Avg Precision: 86.89% | Patience: 4\n"
     ]
    },
    {
     "name": "stderr",
     "output_type": "stream",
     "text": [
      "Train: 100%|\u001B[32m████████████████████████\u001B[0m| 295/295 [00:57<00:00,  5.09batch/s, Loss: 0.1002 | Precision: 87.25%]\u001B[0m\n"
     ]
    },
    {
     "name": "stdout",
     "output_type": "stream",
     "text": [
      "Epoch 66 | Avg Loss: 0.2767 | Avg Precision: 87.31%\n"
     ]
    },
    {
     "name": "stderr",
     "output_type": "stream",
     "text": [
      "Train: 100%|\u001B[32m████████████████████████\u001B[0m| 295/295 [00:57<00:00,  5.09batch/s, Loss: 0.1163 | Precision: 87.11%]\u001B[0m\n"
     ]
    },
    {
     "name": "stdout",
     "output_type": "stream",
     "text": [
      "Epoch 67 | Avg Loss: 0.2789 | Avg Precision: 86.97%\n"
     ]
    },
    {
     "name": "stderr",
     "output_type": "stream",
     "text": [
      "Train: 100%|\u001B[32m████████████████████████\u001B[0m| 295/295 [00:58<00:00,  5.06batch/s, Loss: 0.1254 | Precision: 87.24%]\u001B[0m\n"
     ]
    },
    {
     "name": "stdout",
     "output_type": "stream",
     "text": [
      "Epoch 68 | Avg Loss: 0.2769 | Avg Precision: 87.15%\n"
     ]
    },
    {
     "name": "stderr",
     "output_type": "stream",
     "text": [
      "Train: 100%|\u001B[32m████████████████████████\u001B[0m| 295/295 [00:58<00:00,  5.05batch/s, Loss: 0.1142 | Precision: 87.26%]\u001B[0m\n"
     ]
    },
    {
     "name": "stdout",
     "output_type": "stream",
     "text": [
      "Epoch 69 | Avg Loss: 0.2768 | Avg Precision: 87.17%\n"
     ]
    },
    {
     "name": "stderr",
     "output_type": "stream",
     "text": [
      "Train: 100%|\u001B[32m████████████████████████\u001B[0m| 295/295 [00:58<00:00,  5.03batch/s, Loss: 0.1261 | Precision: 87.14%]\u001B[0m\n"
     ]
    },
    {
     "name": "stdout",
     "output_type": "stream",
     "text": [
      "Epoch 70 | Avg Loss: 0.2779 | Avg Precision: 87.08%\n"
     ]
    },
    {
     "name": "stderr",
     "output_type": "stream",
     "text": [
      "Validate: 100%|\u001B[34m███████████████████████\u001B[0m| 74/74 [00:11<00:00,  6.20batch/s, Loss: 0.2716 | Precision: 86.93%]\u001B[0m"
     ]
    },
    {
     "name": "stdout",
     "output_type": "stream",
     "text": [
      "Early Stopping: Precision stagnated or decreased too many times. Best Validation: 87.16%\n",
      "Training Complete - Best Validate Precision: 87.16%\n"
     ]
    },
    {
     "name": "stderr",
     "output_type": "stream",
     "text": [
      "\n"
     ]
    }
   ],
   "source": [
    "model = LSTMnet(9, 100, 1, 4)\n",
    "model = model.to(device)\n",
    "criterion = nn.CrossEntropyLoss()\n",
    "optimizer = optim.Adam(model.parameters(), lr=.01)\n",
    "scheduler = ReduceLROnPlateau(optimizer, 'max', factor=.9, patience=2, min_lr=.001)\n",
    "epochs = 200\n",
    "\n",
    "model18 = train_validate(model, criterion, optimizer, scheduler, epochs)\n",
    "torch.save(model18.state_dict(), '.\\\\models\\\\downsample\\\\lstm\\\\model18.pth')"
   ]
  },
  {
   "cell_type": "markdown",
   "id": "4de3b886-c1be-425c-85b4-997b46c28de5",
   "metadata": {
    "jp-MarkdownHeadingCollapsed": true
   },
   "source": [
    "### 11-11-23"
   ]
  },
  {
   "cell_type": "markdown",
   "id": "a1203f5f-c6c5-41d2-a093-df4c6a592c35",
   "metadata": {
    "jp-MarkdownHeadingCollapsed": true
   },
   "source": [
    "#### Model 1 - Batch 1024 - Changed weight initializations"
   ]
  },
  {
   "cell_type": "code",
   "execution_count": 20,
   "id": "6357453c-958d-408a-a1a5-812b24724502",
   "metadata": {},
   "outputs": [
    {
     "name": "stderr",
     "output_type": "stream",
     "text": [
      "Train: 100%|\u001B[32m████████████████████████\u001B[0m| 295/295 [01:02<00:00,  4.73batch/s, Loss: 0.3102 | Precision: 76.60%]\u001B[0m\n"
     ]
    },
    {
     "name": "stdout",
     "output_type": "stream",
     "text": [
      "Epoch 1 | Avg Loss: 0.4660 | Avg Precision: 73.22%\n"
     ]
    },
    {
     "name": "stderr",
     "output_type": "stream",
     "text": [
      "Train: 100%|\u001B[32m████████████████████████\u001B[0m| 295/295 [01:02<00:00,  4.72batch/s, Loss: 0.3082 | Precision: 81.21%]\u001B[0m\n"
     ]
    },
    {
     "name": "stdout",
     "output_type": "stream",
     "text": [
      "Epoch 2 | Avg Loss: 0.3825 | Avg Precision: 80.57%\n"
     ]
    },
    {
     "name": "stderr",
     "output_type": "stream",
     "text": [
      "Train: 100%|\u001B[32m████████████████████████\u001B[0m| 295/295 [01:02<00:00,  4.71batch/s, Loss: 0.2522 | Precision: 82.59%]\u001B[0m\n"
     ]
    },
    {
     "name": "stdout",
     "output_type": "stream",
     "text": [
      "Epoch 3 | Avg Loss: 0.3583 | Avg Precision: 82.22%\n"
     ]
    },
    {
     "name": "stderr",
     "output_type": "stream",
     "text": [
      "Train: 100%|\u001B[32m████████████████████████\u001B[0m| 295/295 [01:02<00:00,  4.71batch/s, Loss: 0.2073 | Precision: 83.33%]\u001B[0m\n"
     ]
    },
    {
     "name": "stdout",
     "output_type": "stream",
     "text": [
      "Epoch 4 | Avg Loss: 0.3455 | Avg Precision: 83.05%\n"
     ]
    },
    {
     "name": "stderr",
     "output_type": "stream",
     "text": [
      "Validate: 100%|\u001B[34m███████████████████████\u001B[0m| 74/74 [00:12<00:00,  5.77batch/s, Loss: 0.4880 | Precision: 76.00%]\u001B[0m\n"
     ]
    },
    {
     "name": "stdout",
     "output_type": "stream",
     "text": [
      "Epoch 4 | Avg Loss: 0.4850 | Avg Precision: 75.81% | Patience: 0\n"
     ]
    },
    {
     "name": "stderr",
     "output_type": "stream",
     "text": [
      "Train: 100%|\u001B[32m████████████████████████\u001B[0m| 295/295 [01:02<00:00,  4.73batch/s, Loss: 0.2080 | Precision: 83.01%]\u001B[0m\n"
     ]
    },
    {
     "name": "stdout",
     "output_type": "stream",
     "text": [
      "Epoch 5 | Avg Loss: 0.3554 | Avg Precision: 82.33%\n"
     ]
    },
    {
     "name": "stderr",
     "output_type": "stream",
     "text": [
      "Train: 100%|\u001B[32m████████████████████████\u001B[0m| 295/295 [01:02<00:00,  4.76batch/s, Loss: 0.2212 | Precision: 83.58%]\u001B[0m\n"
     ]
    },
    {
     "name": "stdout",
     "output_type": "stream",
     "text": [
      "Epoch 6 | Avg Loss: 0.3450 | Avg Precision: 83.49%\n"
     ]
    },
    {
     "name": "stderr",
     "output_type": "stream",
     "text": [
      "Train: 100%|\u001B[32m████████████████████████\u001B[0m| 295/295 [01:02<00:00,  4.70batch/s, Loss: 0.2881 | Precision: 84.00%]\u001B[0m\n"
     ]
    },
    {
     "name": "stdout",
     "output_type": "stream",
     "text": [
      "Epoch 7 | Avg Loss: 0.3361 | Avg Precision: 84.00%\n"
     ]
    },
    {
     "name": "stderr",
     "output_type": "stream",
     "text": [
      "Train: 100%|\u001B[32m████████████████████████\u001B[0m| 295/295 [01:02<00:00,  4.69batch/s, Loss: 0.2415 | Precision: 84.28%]\u001B[0m\n"
     ]
    },
    {
     "name": "stdout",
     "output_type": "stream",
     "text": [
      "Epoch 8 | Avg Loss: 0.3301 | Avg Precision: 84.00%\n"
     ]
    },
    {
     "name": "stderr",
     "output_type": "stream",
     "text": [
      "Validate: 100%|\u001B[34m███████████████████████\u001B[0m| 74/74 [00:12<00:00,  5.76batch/s, Loss: 0.3418 | Precision: 85.28%]\u001B[0m\n"
     ]
    },
    {
     "name": "stdout",
     "output_type": "stream",
     "text": [
      "Epoch 8 | Avg Loss: 0.3262 | Avg Precision: 85.20% | Patience: 0\n"
     ]
    },
    {
     "name": "stderr",
     "output_type": "stream",
     "text": [
      "Train: 100%|\u001B[32m████████████████████████\u001B[0m| 295/295 [01:02<00:00,  4.73batch/s, Loss: 0.2049 | Precision: 84.64%]\u001B[0m\n"
     ]
    },
    {
     "name": "stdout",
     "output_type": "stream",
     "text": [
      "Epoch 9 | Avg Loss: 0.3243 | Avg Precision: 84.53%\n"
     ]
    },
    {
     "name": "stderr",
     "output_type": "stream",
     "text": [
      "Train: 100%|\u001B[32m████████████████████████\u001B[0m| 295/295 [01:02<00:00,  4.72batch/s, Loss: 0.2367 | Precision: 84.78%]\u001B[0m\n"
     ]
    },
    {
     "name": "stdout",
     "output_type": "stream",
     "text": [
      "Epoch 10 | Avg Loss: 0.3220 | Avg Precision: 84.72%\n"
     ]
    },
    {
     "name": "stderr",
     "output_type": "stream",
     "text": [
      "Train: 100%|\u001B[32m████████████████████████\u001B[0m| 295/295 [01:02<00:00,  4.74batch/s, Loss: 0.1636 | Precision: 84.88%]\u001B[0m\n"
     ]
    },
    {
     "name": "stdout",
     "output_type": "stream",
     "text": [
      "Epoch 11 | Avg Loss: 0.3203 | Avg Precision: 84.64%\n"
     ]
    },
    {
     "name": "stderr",
     "output_type": "stream",
     "text": [
      "Train: 100%|\u001B[32m████████████████████████\u001B[0m| 295/295 [01:02<00:00,  4.72batch/s, Loss: 0.2095 | Precision: 85.05%]\u001B[0m\n"
     ]
    },
    {
     "name": "stdout",
     "output_type": "stream",
     "text": [
      "Epoch 12 | Avg Loss: 0.3165 | Avg Precision: 85.04%\n"
     ]
    },
    {
     "name": "stderr",
     "output_type": "stream",
     "text": [
      "Validate: 100%|\u001B[34m███████████████████████\u001B[0m| 74/74 [00:13<00:00,  5.68batch/s, Loss: 0.3285 | Precision: 85.14%]\u001B[0m\n"
     ]
    },
    {
     "name": "stdout",
     "output_type": "stream",
     "text": [
      "Epoch 12 | Avg Loss: 0.3186 | Avg Precision: 85.02% | Patience: 1\n"
     ]
    },
    {
     "name": "stderr",
     "output_type": "stream",
     "text": [
      "Train: 100%|\u001B[32m████████████████████████\u001B[0m| 295/295 [01:02<00:00,  4.73batch/s, Loss: 0.1559 | Precision: 85.09%]\u001B[0m\n"
     ]
    },
    {
     "name": "stdout",
     "output_type": "stream",
     "text": [
      "Epoch 13 | Avg Loss: 0.3151 | Avg Precision: 84.98%\n"
     ]
    },
    {
     "name": "stderr",
     "output_type": "stream",
     "text": [
      "Train: 100%|\u001B[32m████████████████████████\u001B[0m| 295/295 [01:02<00:00,  4.72batch/s, Loss: 0.1697 | Precision: 85.18%]\u001B[0m\n"
     ]
    },
    {
     "name": "stdout",
     "output_type": "stream",
     "text": [
      "Epoch 14 | Avg Loss: 0.3139 | Avg Precision: 85.06%\n"
     ]
    },
    {
     "name": "stderr",
     "output_type": "stream",
     "text": [
      "Train: 100%|\u001B[32m████████████████████████\u001B[0m| 295/295 [01:02<00:00,  4.73batch/s, Loss: 0.1469 | Precision: 85.29%]\u001B[0m\n"
     ]
    },
    {
     "name": "stdout",
     "output_type": "stream",
     "text": [
      "Epoch 15 | Avg Loss: 0.3157 | Avg Precision: 85.26%\n"
     ]
    },
    {
     "name": "stderr",
     "output_type": "stream",
     "text": [
      "Train: 100%|\u001B[32m████████████████████████\u001B[0m| 295/295 [01:02<00:00,  4.72batch/s, Loss: 0.1992 | Precision: 85.44%]\u001B[0m\n"
     ]
    },
    {
     "name": "stdout",
     "output_type": "stream",
     "text": [
      "Epoch 16 | Avg Loss: 0.3099 | Avg Precision: 85.38%\n"
     ]
    },
    {
     "name": "stderr",
     "output_type": "stream",
     "text": [
      "Validate: 100%|\u001B[34m███████████████████████\u001B[0m| 74/74 [00:12<00:00,  5.80batch/s, Loss: 0.3328 | Precision: 85.97%]\u001B[0m\n"
     ]
    },
    {
     "name": "stdout",
     "output_type": "stream",
     "text": [
      "Epoch 16 | Avg Loss: 0.3097 | Avg Precision: 85.80% | Patience: 0\n"
     ]
    },
    {
     "name": "stderr",
     "output_type": "stream",
     "text": [
      "Train: 100%|\u001B[32m████████████████████████\u001B[0m| 295/295 [01:02<00:00,  4.74batch/s, Loss: 0.1473 | Precision: 85.68%]\u001B[0m\n"
     ]
    },
    {
     "name": "stdout",
     "output_type": "stream",
     "text": [
      "Epoch 17 | Avg Loss: 0.3043 | Avg Precision: 85.55%\n"
     ]
    },
    {
     "name": "stderr",
     "output_type": "stream",
     "text": [
      "Train: 100%|\u001B[32m████████████████████████\u001B[0m| 295/295 [01:02<00:00,  4.72batch/s, Loss: 0.2552 | Precision: 85.79%]\u001B[0m\n"
     ]
    },
    {
     "name": "stdout",
     "output_type": "stream",
     "text": [
      "Epoch 18 | Avg Loss: 0.3013 | Avg Precision: 85.72%\n"
     ]
    },
    {
     "name": "stderr",
     "output_type": "stream",
     "text": [
      "Train: 100%|\u001B[32m████████████████████████\u001B[0m| 295/295 [01:02<00:00,  4.72batch/s, Loss: 0.1419 | Precision: 85.76%]\u001B[0m\n"
     ]
    },
    {
     "name": "stdout",
     "output_type": "stream",
     "text": [
      "Epoch 19 | Avg Loss: 0.3026 | Avg Precision: 85.66%\n"
     ]
    },
    {
     "name": "stderr",
     "output_type": "stream",
     "text": [
      "Train: 100%|\u001B[32m████████████████████████\u001B[0m| 295/295 [01:02<00:00,  4.74batch/s, Loss: 0.1581 | Precision: 85.90%]\u001B[0m\n"
     ]
    },
    {
     "name": "stdout",
     "output_type": "stream",
     "text": [
      "Epoch 20 | Avg Loss: 0.2990 | Avg Precision: 85.83%\n"
     ]
    },
    {
     "name": "stderr",
     "output_type": "stream",
     "text": [
      "Validate: 100%|\u001B[34m███████████████████████\u001B[0m| 74/74 [00:12<00:00,  5.77batch/s, Loss: 0.2951 | Precision: 85.47%]\u001B[0m\n"
     ]
    },
    {
     "name": "stdout",
     "output_type": "stream",
     "text": [
      "Epoch 20 | Avg Loss: 0.2996 | Avg Precision: 85.34% | Patience: 1\n"
     ]
    },
    {
     "name": "stderr",
     "output_type": "stream",
     "text": [
      "Train: 100%|\u001B[32m████████████████████████\u001B[0m| 295/295 [01:02<00:00,  4.74batch/s, Loss: 0.1878 | Precision: 85.83%]\u001B[0m\n"
     ]
    },
    {
     "name": "stdout",
     "output_type": "stream",
     "text": [
      "Epoch 21 | Avg Loss: 0.3057 | Avg Precision: 85.71%\n"
     ]
    },
    {
     "name": "stderr",
     "output_type": "stream",
     "text": [
      "Train: 100%|\u001B[32m████████████████████████\u001B[0m| 295/295 [01:02<00:00,  4.74batch/s, Loss: 0.1596 | Precision: 85.97%]\u001B[0m\n"
     ]
    },
    {
     "name": "stdout",
     "output_type": "stream",
     "text": [
      "Epoch 22 | Avg Loss: 0.2984 | Avg Precision: 85.79%\n"
     ]
    },
    {
     "name": "stderr",
     "output_type": "stream",
     "text": [
      "Train: 100%|\u001B[32m████████████████████████\u001B[0m| 295/295 [01:02<00:00,  4.75batch/s, Loss: 0.1641 | Precision: 86.13%]\u001B[0m\n"
     ]
    },
    {
     "name": "stdout",
     "output_type": "stream",
     "text": [
      "Epoch 23 | Avg Loss: 0.2948 | Avg Precision: 85.94%\n"
     ]
    },
    {
     "name": "stderr",
     "output_type": "stream",
     "text": [
      "Train: 100%|\u001B[32m████████████████████████\u001B[0m| 295/295 [01:02<00:00,  4.73batch/s, Loss: 0.1419 | Precision: 86.26%]\u001B[0m\n"
     ]
    },
    {
     "name": "stdout",
     "output_type": "stream",
     "text": [
      "Epoch 24 | Avg Loss: 0.2932 | Avg Precision: 86.19%\n"
     ]
    },
    {
     "name": "stderr",
     "output_type": "stream",
     "text": [
      "Validate: 100%|\u001B[34m███████████████████████\u001B[0m| 74/74 [00:12<00:00,  5.75batch/s, Loss: 0.3233 | Precision: 86.15%]\u001B[0m\n"
     ]
    },
    {
     "name": "stdout",
     "output_type": "stream",
     "text": [
      "Epoch 24 | Avg Loss: 0.3124 | Avg Precision: 86.08% | Patience: 0\n"
     ]
    },
    {
     "name": "stderr",
     "output_type": "stream",
     "text": [
      "Train: 100%|\u001B[32m████████████████████████\u001B[0m| 295/295 [01:01<00:00,  4.76batch/s, Loss: 0.1683 | Precision: 86.25%]\u001B[0m\n"
     ]
    },
    {
     "name": "stdout",
     "output_type": "stream",
     "text": [
      "Epoch 25 | Avg Loss: 0.2933 | Avg Precision: 86.05%\n"
     ]
    },
    {
     "name": "stderr",
     "output_type": "stream",
     "text": [
      "Train: 100%|\u001B[32m████████████████████████\u001B[0m| 295/295 [01:01<00:00,  4.76batch/s, Loss: 0.1422 | Precision: 86.39%]\u001B[0m\n"
     ]
    },
    {
     "name": "stdout",
     "output_type": "stream",
     "text": [
      "Epoch 26 | Avg Loss: 0.2902 | Avg Precision: 86.30%\n"
     ]
    },
    {
     "name": "stderr",
     "output_type": "stream",
     "text": [
      "Train: 100%|\u001B[32m████████████████████████\u001B[0m| 295/295 [01:02<00:00,  4.74batch/s, Loss: 0.1237 | Precision: 86.37%]\u001B[0m\n"
     ]
    },
    {
     "name": "stdout",
     "output_type": "stream",
     "text": [
      "Epoch 27 | Avg Loss: 0.2909 | Avg Precision: 86.16%\n"
     ]
    },
    {
     "name": "stderr",
     "output_type": "stream",
     "text": [
      "Train: 100%|\u001B[32m████████████████████████\u001B[0m| 295/295 [01:02<00:00,  4.74batch/s, Loss: 0.1145 | Precision: 86.33%]\u001B[0m\n"
     ]
    },
    {
     "name": "stdout",
     "output_type": "stream",
     "text": [
      "Epoch 28 | Avg Loss: 0.2905 | Avg Precision: 86.26%\n"
     ]
    },
    {
     "name": "stderr",
     "output_type": "stream",
     "text": [
      "Validate: 100%|\u001B[34m███████████████████████\u001B[0m| 74/74 [00:12<00:00,  5.77batch/s, Loss: 0.2957 | Precision: 86.96%]\u001B[0m\n"
     ]
    },
    {
     "name": "stdout",
     "output_type": "stream",
     "text": [
      "Epoch 28 | Avg Loss: 0.2874 | Avg Precision: 86.84% | Patience: 0\n"
     ]
    },
    {
     "name": "stderr",
     "output_type": "stream",
     "text": [
      "Train: 100%|\u001B[32m████████████████████████\u001B[0m| 295/295 [01:02<00:00,  4.75batch/s, Loss: 0.1063 | Precision: 86.45%]\u001B[0m\n"
     ]
    },
    {
     "name": "stdout",
     "output_type": "stream",
     "text": [
      "Epoch 29 | Avg Loss: 0.2890 | Avg Precision: 86.40%\n"
     ]
    },
    {
     "name": "stderr",
     "output_type": "stream",
     "text": [
      "Train: 100%|\u001B[32m████████████████████████\u001B[0m| 295/295 [01:02<00:00,  4.74batch/s, Loss: 0.1006 | Precision: 86.55%]\u001B[0m\n"
     ]
    },
    {
     "name": "stdout",
     "output_type": "stream",
     "text": [
      "Epoch 30 | Avg Loss: 0.2878 | Avg Precision: 86.34%\n"
     ]
    },
    {
     "name": "stderr",
     "output_type": "stream",
     "text": [
      "Train: 100%|\u001B[32m████████████████████████\u001B[0m| 295/295 [01:01<00:00,  4.76batch/s, Loss: 0.1065 | Precision: 86.54%]\u001B[0m\n"
     ]
    },
    {
     "name": "stdout",
     "output_type": "stream",
     "text": [
      "Epoch 31 | Avg Loss: 0.2869 | Avg Precision: 86.23%\n"
     ]
    },
    {
     "name": "stderr",
     "output_type": "stream",
     "text": [
      "Train: 100%|\u001B[32m████████████████████████\u001B[0m| 295/295 [01:02<00:00,  4.76batch/s, Loss: 0.1041 | Precision: 86.53%]\u001B[0m\n"
     ]
    },
    {
     "name": "stdout",
     "output_type": "stream",
     "text": [
      "Epoch 32 | Avg Loss: 0.2870 | Avg Precision: 86.36%\n"
     ]
    },
    {
     "name": "stderr",
     "output_type": "stream",
     "text": [
      "Validate: 100%|\u001B[34m███████████████████████\u001B[0m| 74/74 [00:12<00:00,  5.79batch/s, Loss: 0.2825 | Precision: 87.01%]\u001B[0m\n"
     ]
    },
    {
     "name": "stdout",
     "output_type": "stream",
     "text": [
      "Epoch 32 | Avg Loss: 0.2873 | Avg Precision: 86.87% | Patience: 0\n"
     ]
    },
    {
     "name": "stderr",
     "output_type": "stream",
     "text": [
      "Train: 100%|\u001B[32m████████████████████████\u001B[0m| 295/295 [01:02<00:00,  4.74batch/s, Loss: 0.0980 | Precision: 86.71%]\u001B[0m\n"
     ]
    },
    {
     "name": "stdout",
     "output_type": "stream",
     "text": [
      "Epoch 33 | Avg Loss: 0.2840 | Avg Precision: 86.62%\n"
     ]
    },
    {
     "name": "stderr",
     "output_type": "stream",
     "text": [
      "Train: 100%|\u001B[32m████████████████████████\u001B[0m| 295/295 [01:02<00:00,  4.74batch/s, Loss: 0.0994 | Precision: 86.63%]\u001B[0m\n"
     ]
    },
    {
     "name": "stdout",
     "output_type": "stream",
     "text": [
      "Epoch 34 | Avg Loss: 0.2853 | Avg Precision: 86.50%\n"
     ]
    },
    {
     "name": "stderr",
     "output_type": "stream",
     "text": [
      "Train: 100%|\u001B[32m████████████████████████\u001B[0m| 295/295 [01:02<00:00,  4.69batch/s, Loss: 0.1079 | Precision: 86.71%]\u001B[0m\n"
     ]
    },
    {
     "name": "stdout",
     "output_type": "stream",
     "text": [
      "Epoch 35 | Avg Loss: 0.2839 | Avg Precision: 86.61%\n"
     ]
    },
    {
     "name": "stderr",
     "output_type": "stream",
     "text": [
      "Train: 100%|\u001B[32m████████████████████████\u001B[0m| 295/295 [01:02<00:00,  4.72batch/s, Loss: 0.0960 | Precision: 86.75%]\u001B[0m\n"
     ]
    },
    {
     "name": "stdout",
     "output_type": "stream",
     "text": [
      "Epoch 36 | Avg Loss: 0.2826 | Avg Precision: 86.61%\n"
     ]
    },
    {
     "name": "stderr",
     "output_type": "stream",
     "text": [
      "Validate: 100%|\u001B[34m███████████████████████\u001B[0m| 74/74 [00:12<00:00,  5.82batch/s, Loss: 0.2984 | Precision: 87.33%]\u001B[0m\n"
     ]
    },
    {
     "name": "stdout",
     "output_type": "stream",
     "text": [
      "Epoch 36 | Avg Loss: 0.2870 | Avg Precision: 87.25% | Patience: 0\n"
     ]
    },
    {
     "name": "stderr",
     "output_type": "stream",
     "text": [
      "Train: 100%|\u001B[32m████████████████████████\u001B[0m| 295/295 [01:02<00:00,  4.74batch/s, Loss: 0.0890 | Precision: 86.88%]\u001B[0m\n"
     ]
    },
    {
     "name": "stdout",
     "output_type": "stream",
     "text": [
      "Epoch 37 | Avg Loss: 0.2813 | Avg Precision: 86.79%\n"
     ]
    },
    {
     "name": "stderr",
     "output_type": "stream",
     "text": [
      "Train: 100%|\u001B[32m████████████████████████\u001B[0m| 295/295 [01:02<00:00,  4.72batch/s, Loss: 0.0952 | Precision: 86.83%]\u001B[0m\n"
     ]
    },
    {
     "name": "stdout",
     "output_type": "stream",
     "text": [
      "Epoch 38 | Avg Loss: 0.2819 | Avg Precision: 86.68%\n"
     ]
    },
    {
     "name": "stderr",
     "output_type": "stream",
     "text": [
      "Train: 100%|\u001B[32m████████████████████████\u001B[0m| 295/295 [01:02<00:00,  4.74batch/s, Loss: 0.1138 | Precision: 86.96%]\u001B[0m\n"
     ]
    },
    {
     "name": "stdout",
     "output_type": "stream",
     "text": [
      "Epoch 39 | Avg Loss: 0.2788 | Avg Precision: 86.83%\n"
     ]
    },
    {
     "name": "stderr",
     "output_type": "stream",
     "text": [
      "Train: 100%|\u001B[32m████████████████████████\u001B[0m| 295/295 [01:02<00:00,  4.76batch/s, Loss: 0.0966 | Precision: 86.90%]\u001B[0m\n"
     ]
    },
    {
     "name": "stdout",
     "output_type": "stream",
     "text": [
      "Epoch 40 | Avg Loss: 0.2802 | Avg Precision: 86.73%\n"
     ]
    },
    {
     "name": "stderr",
     "output_type": "stream",
     "text": [
      "Validate: 100%|\u001B[34m███████████████████████\u001B[0m| 74/74 [00:12<00:00,  5.77batch/s, Loss: 0.3092 | Precision: 87.21%]\u001B[0m\n"
     ]
    },
    {
     "name": "stdout",
     "output_type": "stream",
     "text": [
      "Epoch 40 | Avg Loss: 0.2952 | Avg Precision: 87.13% | Patience: 1\n"
     ]
    },
    {
     "name": "stderr",
     "output_type": "stream",
     "text": [
      "Train: 100%|\u001B[32m████████████████████████\u001B[0m| 295/295 [01:02<00:00,  4.75batch/s, Loss: 0.0619 | Precision: 87.09%]\u001B[0m\n"
     ]
    },
    {
     "name": "stdout",
     "output_type": "stream",
     "text": [
      "Epoch 41 | Avg Loss: 0.2774 | Avg Precision: 86.97%\n"
     ]
    },
    {
     "name": "stderr",
     "output_type": "stream",
     "text": [
      "Train: 100%|\u001B[32m████████████████████████\u001B[0m| 295/295 [01:02<00:00,  4.71batch/s, Loss: 0.0856 | Precision: 87.09%]\u001B[0m\n"
     ]
    },
    {
     "name": "stdout",
     "output_type": "stream",
     "text": [
      "Epoch 42 | Avg Loss: 0.2775 | Avg Precision: 86.91%\n"
     ]
    },
    {
     "name": "stderr",
     "output_type": "stream",
     "text": [
      "Train: 100%|\u001B[32m████████████████████████\u001B[0m| 295/295 [01:02<00:00,  4.73batch/s, Loss: 0.1082 | Precision: 86.98%]\u001B[0m\n"
     ]
    },
    {
     "name": "stdout",
     "output_type": "stream",
     "text": [
      "Epoch 43 | Avg Loss: 0.2789 | Avg Precision: 86.83%\n"
     ]
    },
    {
     "name": "stderr",
     "output_type": "stream",
     "text": [
      "Train: 100%|\u001B[32m████████████████████████\u001B[0m| 295/295 [01:02<00:00,  4.71batch/s, Loss: 0.1130 | Precision: 86.98%]\u001B[0m\n"
     ]
    },
    {
     "name": "stdout",
     "output_type": "stream",
     "text": [
      "Epoch 44 | Avg Loss: 0.2788 | Avg Precision: 86.95%\n"
     ]
    },
    {
     "name": "stderr",
     "output_type": "stream",
     "text": [
      "Validate: 100%|\u001B[34m███████████████████████\u001B[0m| 74/74 [00:12<00:00,  5.74batch/s, Loss: 0.2777 | Precision: 87.64%]\u001B[0m\n"
     ]
    },
    {
     "name": "stdout",
     "output_type": "stream",
     "text": [
      "Epoch 44 | Avg Loss: 0.2755 | Avg Precision: 87.54% | Patience: 0\n"
     ]
    },
    {
     "name": "stderr",
     "output_type": "stream",
     "text": [
      "Train: 100%|\u001B[32m████████████████████████\u001B[0m| 295/295 [01:02<00:00,  4.71batch/s, Loss: 0.0886 | Precision: 87.08%]\u001B[0m\n"
     ]
    },
    {
     "name": "stdout",
     "output_type": "stream",
     "text": [
      "Epoch 45 | Avg Loss: 0.2775 | Avg Precision: 87.00%\n"
     ]
    },
    {
     "name": "stderr",
     "output_type": "stream",
     "text": [
      "Train: 100%|\u001B[32m████████████████████████\u001B[0m| 295/295 [01:02<00:00,  4.73batch/s, Loss: 0.0746 | Precision: 87.14%]\u001B[0m\n"
     ]
    },
    {
     "name": "stdout",
     "output_type": "stream",
     "text": [
      "Epoch 46 | Avg Loss: 0.2766 | Avg Precision: 87.02%\n"
     ]
    },
    {
     "name": "stderr",
     "output_type": "stream",
     "text": [
      "Train: 100%|\u001B[32m████████████████████████\u001B[0m| 295/295 [01:02<00:00,  4.71batch/s, Loss: 0.0835 | Precision: 87.17%]\u001B[0m\n"
     ]
    },
    {
     "name": "stdout",
     "output_type": "stream",
     "text": [
      "Epoch 47 | Avg Loss: 0.2752 | Avg Precision: 87.09%\n"
     ]
    },
    {
     "name": "stderr",
     "output_type": "stream",
     "text": [
      "Train: 100%|\u001B[32m████████████████████████\u001B[0m| 295/295 [01:02<00:00,  4.71batch/s, Loss: 0.0704 | Precision: 87.06%]\u001B[0m\n"
     ]
    },
    {
     "name": "stdout",
     "output_type": "stream",
     "text": [
      "Epoch 48 | Avg Loss: 0.2775 | Avg Precision: 86.94%\n"
     ]
    },
    {
     "name": "stderr",
     "output_type": "stream",
     "text": [
      "Validate: 100%|\u001B[34m███████████████████████\u001B[0m| 74/74 [00:12<00:00,  5.72batch/s, Loss: 0.2992 | Precision: 87.76%]\u001B[0m\n"
     ]
    },
    {
     "name": "stdout",
     "output_type": "stream",
     "text": [
      "Epoch 48 | Avg Loss: 0.2831 | Avg Precision: 87.74% | Patience: 0\n"
     ]
    },
    {
     "name": "stderr",
     "output_type": "stream",
     "text": [
      "Train: 100%|\u001B[32m████████████████████████\u001B[0m| 295/295 [01:02<00:00,  4.73batch/s, Loss: 0.1039 | Precision: 87.24%]\u001B[0m\n"
     ]
    },
    {
     "name": "stdout",
     "output_type": "stream",
     "text": [
      "Epoch 49 | Avg Loss: 0.2747 | Avg Precision: 87.14%\n"
     ]
    },
    {
     "name": "stderr",
     "output_type": "stream",
     "text": [
      "Train: 100%|\u001B[32m████████████████████████\u001B[0m| 295/295 [01:02<00:00,  4.71batch/s, Loss: 0.0834 | Precision: 87.20%]\u001B[0m\n"
     ]
    },
    {
     "name": "stdout",
     "output_type": "stream",
     "text": [
      "Epoch 50 | Avg Loss: 0.2757 | Avg Precision: 87.11%\n"
     ]
    },
    {
     "name": "stderr",
     "output_type": "stream",
     "text": [
      "Train: 100%|\u001B[32m████████████████████████\u001B[0m| 295/295 [01:02<00:00,  4.71batch/s, Loss: 0.0859 | Precision: 87.17%]\u001B[0m\n"
     ]
    },
    {
     "name": "stdout",
     "output_type": "stream",
     "text": [
      "Epoch 51 | Avg Loss: 0.2758 | Avg Precision: 87.12%\n"
     ]
    },
    {
     "name": "stderr",
     "output_type": "stream",
     "text": [
      "Train: 100%|\u001B[32m████████████████████████\u001B[0m| 295/295 [01:02<00:00,  4.72batch/s, Loss: 0.1149 | Precision: 87.25%]\u001B[0m\n"
     ]
    },
    {
     "name": "stdout",
     "output_type": "stream",
     "text": [
      "Epoch 52 | Avg Loss: 0.2746 | Avg Precision: 87.08%\n"
     ]
    },
    {
     "name": "stderr",
     "output_type": "stream",
     "text": [
      "Validate: 100%|\u001B[34m███████████████████████\u001B[0m| 74/74 [00:12<00:00,  5.81batch/s, Loss: 0.3136 | Precision: 87.51%]\u001B[0m\n"
     ]
    },
    {
     "name": "stdout",
     "output_type": "stream",
     "text": [
      "Epoch 52 | Avg Loss: 0.2784 | Avg Precision: 87.40% | Patience: 1\n"
     ]
    },
    {
     "name": "stderr",
     "output_type": "stream",
     "text": [
      "Train: 100%|\u001B[32m████████████████████████\u001B[0m| 295/295 [01:01<00:00,  4.76batch/s, Loss: 0.0986 | Precision: 87.35%]\u001B[0m\n"
     ]
    },
    {
     "name": "stdout",
     "output_type": "stream",
     "text": [
      "Epoch 53 | Avg Loss: 0.2729 | Avg Precision: 87.27%\n"
     ]
    },
    {
     "name": "stderr",
     "output_type": "stream",
     "text": [
      "Train: 100%|\u001B[32m████████████████████████\u001B[0m| 295/295 [01:02<00:00,  4.75batch/s, Loss: 0.0644 | Precision: 87.33%]\u001B[0m\n"
     ]
    },
    {
     "name": "stdout",
     "output_type": "stream",
     "text": [
      "Epoch 54 | Avg Loss: 0.2734 | Avg Precision: 87.17%\n"
     ]
    },
    {
     "name": "stderr",
     "output_type": "stream",
     "text": [
      "Train: 100%|\u001B[32m████████████████████████\u001B[0m| 295/295 [01:01<00:00,  4.76batch/s, Loss: 0.0747 | Precision: 87.31%]\u001B[0m\n"
     ]
    },
    {
     "name": "stdout",
     "output_type": "stream",
     "text": [
      "Epoch 55 | Avg Loss: 0.2731 | Avg Precision: 87.09%\n"
     ]
    },
    {
     "name": "stderr",
     "output_type": "stream",
     "text": [
      "Train: 100%|\u001B[32m████████████████████████\u001B[0m| 295/295 [01:02<00:00,  4.75batch/s, Loss: 0.0864 | Precision: 87.21%]\u001B[0m\n"
     ]
    },
    {
     "name": "stdout",
     "output_type": "stream",
     "text": [
      "Epoch 56 | Avg Loss: 0.2749 | Avg Precision: 87.13%\n"
     ]
    },
    {
     "name": "stderr",
     "output_type": "stream",
     "text": [
      "Validate: 100%|\u001B[34m███████████████████████\u001B[0m| 74/74 [00:12<00:00,  5.86batch/s, Loss: 0.2701 | Precision: 87.52%]\u001B[0m\n"
     ]
    },
    {
     "name": "stdout",
     "output_type": "stream",
     "text": [
      "Epoch 00014: reducing learning rate of group 0 to 9.0000e-03.\n",
      "Epoch 56 | Avg Loss: 0.2760 | Avg Precision: 87.38% | Patience: 2\n"
     ]
    },
    {
     "name": "stderr",
     "output_type": "stream",
     "text": [
      "Train: 100%|\u001B[32m████████████████████████\u001B[0m| 295/295 [01:02<00:00,  4.76batch/s, Loss: 0.0809 | Precision: 87.47%]\u001B[0m\n"
     ]
    },
    {
     "name": "stdout",
     "output_type": "stream",
     "text": [
      "Epoch 57 | Avg Loss: 0.2695 | Avg Precision: 87.46%\n"
     ]
    },
    {
     "name": "stderr",
     "output_type": "stream",
     "text": [
      "Train: 100%|\u001B[32m████████████████████████\u001B[0m| 295/295 [01:01<00:00,  4.77batch/s, Loss: 0.0680 | Precision: 87.45%]\u001B[0m\n"
     ]
    },
    {
     "name": "stdout",
     "output_type": "stream",
     "text": [
      "Epoch 58 | Avg Loss: 0.2698 | Avg Precision: 87.12%\n"
     ]
    },
    {
     "name": "stderr",
     "output_type": "stream",
     "text": [
      "Train: 100%|\u001B[32m████████████████████████\u001B[0m| 295/295 [01:01<00:00,  4.76batch/s, Loss: 0.0733 | Precision: 87.54%]\u001B[0m\n"
     ]
    },
    {
     "name": "stdout",
     "output_type": "stream",
     "text": [
      "Epoch 59 | Avg Loss: 0.2686 | Avg Precision: 87.39%\n"
     ]
    },
    {
     "name": "stderr",
     "output_type": "stream",
     "text": [
      "Train: 100%|\u001B[32m████████████████████████\u001B[0m| 295/295 [01:01<00:00,  4.76batch/s, Loss: 0.0613 | Precision: 87.45%]\u001B[0m\n"
     ]
    },
    {
     "name": "stdout",
     "output_type": "stream",
     "text": [
      "Epoch 60 | Avg Loss: 0.2707 | Avg Precision: 87.37%\n"
     ]
    },
    {
     "name": "stderr",
     "output_type": "stream",
     "text": [
      "Validate: 100%|\u001B[34m███████████████████████\u001B[0m| 74/74 [00:12<00:00,  5.91batch/s, Loss: 0.2865 | Precision: 87.30%]\u001B[0m\n"
     ]
    },
    {
     "name": "stdout",
     "output_type": "stream",
     "text": [
      "Epoch 60 | Avg Loss: 0.2792 | Avg Precision: 87.18% | Patience: 3\n"
     ]
    },
    {
     "name": "stderr",
     "output_type": "stream",
     "text": [
      "Train: 100%|\u001B[32m████████████████████████\u001B[0m| 295/295 [01:01<00:00,  4.79batch/s, Loss: 0.0797 | Precision: 87.55%]\u001B[0m\n"
     ]
    },
    {
     "name": "stdout",
     "output_type": "stream",
     "text": [
      "Epoch 61 | Avg Loss: 0.2692 | Avg Precision: 87.44%\n"
     ]
    },
    {
     "name": "stderr",
     "output_type": "stream",
     "text": [
      "Train: 100%|\u001B[32m████████████████████████\u001B[0m| 295/295 [01:02<00:00,  4.74batch/s, Loss: 0.0647 | Precision: 87.53%]\u001B[0m\n"
     ]
    },
    {
     "name": "stdout",
     "output_type": "stream",
     "text": [
      "Epoch 62 | Avg Loss: 0.2679 | Avg Precision: 87.34%\n"
     ]
    },
    {
     "name": "stderr",
     "output_type": "stream",
     "text": [
      "Train: 100%|\u001B[32m████████████████████████\u001B[0m| 295/295 [01:02<00:00,  4.74batch/s, Loss: 0.0738 | Precision: 87.57%]\u001B[0m\n"
     ]
    },
    {
     "name": "stdout",
     "output_type": "stream",
     "text": [
      "Epoch 63 | Avg Loss: 0.2680 | Avg Precision: 87.60%\n"
     ]
    },
    {
     "name": "stderr",
     "output_type": "stream",
     "text": [
      "Train: 100%|\u001B[32m████████████████████████\u001B[0m| 295/295 [01:02<00:00,  4.76batch/s, Loss: 0.0866 | Precision: 87.53%]\u001B[0m\n"
     ]
    },
    {
     "name": "stdout",
     "output_type": "stream",
     "text": [
      "Epoch 64 | Avg Loss: 0.2691 | Avg Precision: 87.32%\n"
     ]
    },
    {
     "name": "stderr",
     "output_type": "stream",
     "text": [
      "Validate: 100%|\u001B[34m███████████████████████\u001B[0m| 74/74 [00:12<00:00,  5.92batch/s, Loss: 0.3020 | Precision: 87.63%]\u001B[0m\n"
     ]
    },
    {
     "name": "stdout",
     "output_type": "stream",
     "text": [
      "Epoch 00016: reducing learning rate of group 0 to 8.1000e-03.\n",
      "Epoch 64 | Avg Loss: 0.2863 | Avg Precision: 87.44% | Patience: 4\n"
     ]
    },
    {
     "name": "stderr",
     "output_type": "stream",
     "text": [
      "Train: 100%|\u001B[32m████████████████████████\u001B[0m| 295/295 [01:02<00:00,  4.74batch/s, Loss: 0.0774 | Precision: 87.80%]\u001B[0m\n"
     ]
    },
    {
     "name": "stdout",
     "output_type": "stream",
     "text": [
      "Epoch 65 | Avg Loss: 0.2642 | Avg Precision: 87.63%\n"
     ]
    },
    {
     "name": "stderr",
     "output_type": "stream",
     "text": [
      "Train: 100%|\u001B[32m████████████████████████\u001B[0m| 295/295 [01:01<00:00,  4.76batch/s, Loss: 0.0753 | Precision: 87.90%]\u001B[0m\n"
     ]
    },
    {
     "name": "stdout",
     "output_type": "stream",
     "text": [
      "Epoch 66 | Avg Loss: 0.2622 | Avg Precision: 87.70%\n"
     ]
    },
    {
     "name": "stderr",
     "output_type": "stream",
     "text": [
      "Train: 100%|\u001B[32m████████████████████████\u001B[0m| 295/295 [01:02<00:00,  4.75batch/s, Loss: 0.0586 | Precision: 87.86%]\u001B[0m\n"
     ]
    },
    {
     "name": "stdout",
     "output_type": "stream",
     "text": [
      "Epoch 67 | Avg Loss: 0.2626 | Avg Precision: 87.70%\n"
     ]
    },
    {
     "name": "stderr",
     "output_type": "stream",
     "text": [
      "Train: 100%|\u001B[32m████████████████████████\u001B[0m| 295/295 [01:02<00:00,  4.75batch/s, Loss: 0.0632 | Precision: 87.97%]\u001B[0m\n"
     ]
    },
    {
     "name": "stdout",
     "output_type": "stream",
     "text": [
      "Epoch 68 | Avg Loss: 0.2614 | Avg Precision: 87.88%\n"
     ]
    },
    {
     "name": "stderr",
     "output_type": "stream",
     "text": [
      "Validate: 100%|\u001B[34m███████████████████████\u001B[0m| 74/74 [00:12<00:00,  5.77batch/s, Loss: 0.2739 | Precision: 87.94%]\u001B[0m\n"
     ]
    },
    {
     "name": "stdout",
     "output_type": "stream",
     "text": [
      "Epoch 68 | Avg Loss: 0.2732 | Avg Precision: 87.89% | Patience: 0\n"
     ]
    },
    {
     "name": "stderr",
     "output_type": "stream",
     "text": [
      "Train: 100%|\u001B[32m████████████████████████\u001B[0m| 295/295 [01:01<00:00,  4.78batch/s, Loss: 0.0767 | Precision: 87.90%]\u001B[0m\n"
     ]
    },
    {
     "name": "stdout",
     "output_type": "stream",
     "text": [
      "Epoch 69 | Avg Loss: 0.2621 | Avg Precision: 87.68%\n"
     ]
    },
    {
     "name": "stderr",
     "output_type": "stream",
     "text": [
      "Train: 100%|\u001B[32m████████████████████████\u001B[0m| 295/295 [01:01<00:00,  4.76batch/s, Loss: 0.0797 | Precision: 87.80%]\u001B[0m\n"
     ]
    },
    {
     "name": "stdout",
     "output_type": "stream",
     "text": [
      "Epoch 70 | Avg Loss: 0.2637 | Avg Precision: 87.65%\n"
     ]
    },
    {
     "name": "stderr",
     "output_type": "stream",
     "text": [
      "Train: 100%|\u001B[32m████████████████████████\u001B[0m| 295/295 [01:02<00:00,  4.74batch/s, Loss: 0.0669 | Precision: 87.96%]\u001B[0m\n"
     ]
    },
    {
     "name": "stdout",
     "output_type": "stream",
     "text": [
      "Epoch 71 | Avg Loss: 0.2610 | Avg Precision: 87.74%\n"
     ]
    },
    {
     "name": "stderr",
     "output_type": "stream",
     "text": [
      "Train: 100%|\u001B[32m████████████████████████\u001B[0m| 295/295 [01:01<00:00,  4.76batch/s, Loss: 0.0746 | Precision: 87.91%]\u001B[0m\n"
     ]
    },
    {
     "name": "stdout",
     "output_type": "stream",
     "text": [
      "Epoch 72 | Avg Loss: 0.2620 | Avg Precision: 87.77%\n"
     ]
    },
    {
     "name": "stderr",
     "output_type": "stream",
     "text": [
      "Validate: 100%|\u001B[34m███████████████████████\u001B[0m| 74/74 [00:12<00:00,  5.90batch/s, Loss: 0.2908 | Precision: 88.11%]\u001B[0m\n"
     ]
    },
    {
     "name": "stdout",
     "output_type": "stream",
     "text": [
      "Epoch 72 | Avg Loss: 0.2709 | Avg Precision: 88.04% | Patience: 0\n"
     ]
    },
    {
     "name": "stderr",
     "output_type": "stream",
     "text": [
      "Train: 100%|\u001B[32m████████████████████████\u001B[0m| 295/295 [01:01<00:00,  4.76batch/s, Loss: 0.0744 | Precision: 87.92%]\u001B[0m\n"
     ]
    },
    {
     "name": "stdout",
     "output_type": "stream",
     "text": [
      "Epoch 73 | Avg Loss: 0.2619 | Avg Precision: 87.90%\n"
     ]
    },
    {
     "name": "stderr",
     "output_type": "stream",
     "text": [
      "Train: 100%|\u001B[32m████████████████████████\u001B[0m| 295/295 [01:02<00:00,  4.75batch/s, Loss: 0.0626 | Precision: 87.81%]\u001B[0m\n"
     ]
    },
    {
     "name": "stdout",
     "output_type": "stream",
     "text": [
      "Epoch 74 | Avg Loss: 0.2643 | Avg Precision: 87.69%\n"
     ]
    },
    {
     "name": "stderr",
     "output_type": "stream",
     "text": [
      "Train: 100%|\u001B[32m████████████████████████\u001B[0m| 295/295 [01:01<00:00,  4.76batch/s, Loss: 0.0659 | Precision: 87.97%]\u001B[0m\n"
     ]
    },
    {
     "name": "stdout",
     "output_type": "stream",
     "text": [
      "Epoch 75 | Avg Loss: 0.2613 | Avg Precision: 87.85%\n"
     ]
    },
    {
     "name": "stderr",
     "output_type": "stream",
     "text": [
      "Train: 100%|\u001B[32m████████████████████████\u001B[0m| 295/295 [01:01<00:00,  4.76batch/s, Loss: 0.0680 | Precision: 87.97%]\u001B[0m\n"
     ]
    },
    {
     "name": "stdout",
     "output_type": "stream",
     "text": [
      "Epoch 76 | Avg Loss: 0.2609 | Avg Precision: 87.92%\n"
     ]
    },
    {
     "name": "stderr",
     "output_type": "stream",
     "text": [
      "Validate: 100%|\u001B[34m███████████████████████\u001B[0m| 74/74 [00:12<00:00,  5.95batch/s, Loss: 0.2925 | Precision: 87.36%]\u001B[0m\n"
     ]
    },
    {
     "name": "stdout",
     "output_type": "stream",
     "text": [
      "Epoch 76 | Avg Loss: 0.2771 | Avg Precision: 87.11% | Patience: 1\n"
     ]
    },
    {
     "name": "stderr",
     "output_type": "stream",
     "text": [
      "Train: 100%|\u001B[32m████████████████████████\u001B[0m| 295/295 [01:02<00:00,  4.75batch/s, Loss: 0.0677 | Precision: 87.92%]\u001B[0m\n"
     ]
    },
    {
     "name": "stdout",
     "output_type": "stream",
     "text": [
      "Epoch 77 | Avg Loss: 0.2620 | Avg Precision: 87.78%\n"
     ]
    },
    {
     "name": "stderr",
     "output_type": "stream",
     "text": [
      "Train: 100%|\u001B[32m████████████████████████\u001B[0m| 295/295 [01:02<00:00,  4.76batch/s, Loss: 0.0605 | Precision: 88.04%]\u001B[0m\n"
     ]
    },
    {
     "name": "stdout",
     "output_type": "stream",
     "text": [
      "Epoch 78 | Avg Loss: 0.2590 | Avg Precision: 87.80%\n"
     ]
    },
    {
     "name": "stderr",
     "output_type": "stream",
     "text": [
      "Train: 100%|\u001B[32m████████████████████████\u001B[0m| 295/295 [01:02<00:00,  4.75batch/s, Loss: 0.0636 | Precision: 88.00%]\u001B[0m\n"
     ]
    },
    {
     "name": "stdout",
     "output_type": "stream",
     "text": [
      "Epoch 79 | Avg Loss: 0.2608 | Avg Precision: 87.86%\n"
     ]
    },
    {
     "name": "stderr",
     "output_type": "stream",
     "text": [
      "Train: 100%|\u001B[32m████████████████████████\u001B[0m| 295/295 [01:01<00:00,  4.78batch/s, Loss: 0.0802 | Precision: 88.00%]\u001B[0m\n"
     ]
    },
    {
     "name": "stdout",
     "output_type": "stream",
     "text": [
      "Epoch 80 | Avg Loss: 0.2609 | Avg Precision: 87.84%\n"
     ]
    },
    {
     "name": "stderr",
     "output_type": "stream",
     "text": [
      "Validate: 100%|\u001B[34m███████████████████████\u001B[0m| 74/74 [00:12<00:00,  5.83batch/s, Loss: 0.2656 | Precision: 88.01%]\u001B[0m\n"
     ]
    },
    {
     "name": "stdout",
     "output_type": "stream",
     "text": [
      "Epoch 00020: reducing learning rate of group 0 to 7.2900e-03.\n",
      "Epoch 80 | Avg Loss: 0.2685 | Avg Precision: 87.92% | Patience: 2\n"
     ]
    },
    {
     "name": "stderr",
     "output_type": "stream",
     "text": [
      "Train: 100%|\u001B[32m████████████████████████\u001B[0m| 295/295 [01:01<00:00,  4.76batch/s, Loss: 0.0583 | Precision: 88.21%]\u001B[0m\n"
     ]
    },
    {
     "name": "stdout",
     "output_type": "stream",
     "text": [
      "Epoch 81 | Avg Loss: 0.2575 | Avg Precision: 88.11%\n"
     ]
    },
    {
     "name": "stderr",
     "output_type": "stream",
     "text": [
      "Train: 100%|\u001B[32m████████████████████████\u001B[0m| 295/295 [01:02<00:00,  4.75batch/s, Loss: 0.0752 | Precision: 88.26%]\u001B[0m\n"
     ]
    },
    {
     "name": "stdout",
     "output_type": "stream",
     "text": [
      "Epoch 82 | Avg Loss: 0.2560 | Avg Precision: 88.16%\n"
     ]
    },
    {
     "name": "stderr",
     "output_type": "stream",
     "text": [
      "Train: 100%|\u001B[32m████████████████████████\u001B[0m| 295/295 [01:02<00:00,  4.76batch/s, Loss: 0.0588 | Precision: 88.20%]\u001B[0m\n"
     ]
    },
    {
     "name": "stdout",
     "output_type": "stream",
     "text": [
      "Epoch 83 | Avg Loss: 0.2560 | Avg Precision: 88.18%\n"
     ]
    },
    {
     "name": "stderr",
     "output_type": "stream",
     "text": [
      "Train: 100%|\u001B[32m████████████████████████\u001B[0m| 295/295 [01:02<00:00,  4.75batch/s, Loss: 0.0604 | Precision: 88.12%]\u001B[0m\n"
     ]
    },
    {
     "name": "stdout",
     "output_type": "stream",
     "text": [
      "Epoch 84 | Avg Loss: 0.2581 | Avg Precision: 88.06%\n"
     ]
    },
    {
     "name": "stderr",
     "output_type": "stream",
     "text": [
      "Validate: 100%|\u001B[34m███████████████████████\u001B[0m| 74/74 [00:12<00:00,  5.91batch/s, Loss: 0.2739 | Precision: 87.99%]\u001B[0m\n"
     ]
    },
    {
     "name": "stdout",
     "output_type": "stream",
     "text": [
      "Epoch 84 | Avg Loss: 0.2668 | Avg Precision: 87.91% | Patience: 3\n"
     ]
    },
    {
     "name": "stderr",
     "output_type": "stream",
     "text": [
      "Train: 100%|\u001B[32m████████████████████████\u001B[0m| 295/295 [01:02<00:00,  4.76batch/s, Loss: 0.0940 | Precision: 88.25%]\u001B[0m\n"
     ]
    },
    {
     "name": "stdout",
     "output_type": "stream",
     "text": [
      "Epoch 85 | Avg Loss: 0.2559 | Avg Precision: 88.15%\n"
     ]
    },
    {
     "name": "stderr",
     "output_type": "stream",
     "text": [
      "Train: 100%|\u001B[32m████████████████████████\u001B[0m| 295/295 [01:02<00:00,  4.76batch/s, Loss: 0.0710 | Precision: 88.21%]\u001B[0m\n"
     ]
    },
    {
     "name": "stdout",
     "output_type": "stream",
     "text": [
      "Epoch 86 | Avg Loss: 0.2566 | Avg Precision: 88.10%\n"
     ]
    },
    {
     "name": "stderr",
     "output_type": "stream",
     "text": [
      "Train: 100%|\u001B[32m████████████████████████\u001B[0m| 295/295 [01:02<00:00,  4.76batch/s, Loss: 0.0876 | Precision: 88.29%]\u001B[0m\n"
     ]
    },
    {
     "name": "stdout",
     "output_type": "stream",
     "text": [
      "Epoch 87 | Avg Loss: 0.2557 | Avg Precision: 88.23%\n"
     ]
    },
    {
     "name": "stderr",
     "output_type": "stream",
     "text": [
      "Train: 100%|\u001B[32m████████████████████████\u001B[0m| 295/295 [01:02<00:00,  4.74batch/s, Loss: 0.0543 | Precision: 88.31%]\u001B[0m\n"
     ]
    },
    {
     "name": "stdout",
     "output_type": "stream",
     "text": [
      "Epoch 88 | Avg Loss: 0.2555 | Avg Precision: 88.21%\n"
     ]
    },
    {
     "name": "stderr",
     "output_type": "stream",
     "text": [
      "Validate: 100%|\u001B[34m███████████████████████\u001B[0m| 74/74 [00:12<00:00,  5.90batch/s, Loss: 0.2653 | Precision: 88.56%]\u001B[0m\n"
     ]
    },
    {
     "name": "stdout",
     "output_type": "stream",
     "text": [
      "Epoch 88 | Avg Loss: 0.2655 | Avg Precision: 88.51% | Patience: 0\n"
     ]
    },
    {
     "name": "stderr",
     "output_type": "stream",
     "text": [
      "Train: 100%|\u001B[32m████████████████████████\u001B[0m| 295/295 [01:01<00:00,  4.76batch/s, Loss: 0.0649 | Precision: 88.32%]\u001B[0m\n"
     ]
    },
    {
     "name": "stdout",
     "output_type": "stream",
     "text": [
      "Epoch 89 | Avg Loss: 0.2548 | Avg Precision: 88.24%\n"
     ]
    },
    {
     "name": "stderr",
     "output_type": "stream",
     "text": [
      "Train: 100%|\u001B[32m████████████████████████\u001B[0m| 295/295 [01:01<00:00,  4.76batch/s, Loss: 0.0719 | Precision: 88.29%]\u001B[0m\n"
     ]
    },
    {
     "name": "stdout",
     "output_type": "stream",
     "text": [
      "Epoch 90 | Avg Loss: 0.2557 | Avg Precision: 88.17%\n"
     ]
    },
    {
     "name": "stderr",
     "output_type": "stream",
     "text": [
      "Train: 100%|\u001B[32m████████████████████████\u001B[0m| 295/295 [01:02<00:00,  4.74batch/s, Loss: 0.0731 | Precision: 87.66%]\u001B[0m\n"
     ]
    },
    {
     "name": "stdout",
     "output_type": "stream",
     "text": [
      "Epoch 91 | Avg Loss: 0.2662 | Avg Precision: 87.61%\n"
     ]
    },
    {
     "name": "stderr",
     "output_type": "stream",
     "text": [
      "Train: 100%|\u001B[32m████████████████████████\u001B[0m| 295/295 [01:01<00:00,  4.77batch/s, Loss: 0.0674 | Precision: 88.26%]\u001B[0m\n"
     ]
    },
    {
     "name": "stdout",
     "output_type": "stream",
     "text": [
      "Epoch 92 | Avg Loss: 0.2556 | Avg Precision: 88.19%\n"
     ]
    },
    {
     "name": "stderr",
     "output_type": "stream",
     "text": [
      "Validate: 100%|\u001B[34m███████████████████████\u001B[0m| 74/74 [00:12<00:00,  5.78batch/s, Loss: 0.2833 | Precision: 88.46%]\u001B[0m\n"
     ]
    },
    {
     "name": "stdout",
     "output_type": "stream",
     "text": [
      "Epoch 92 | Avg Loss: 0.2661 | Avg Precision: 88.42% | Patience: 1\n"
     ]
    },
    {
     "name": "stderr",
     "output_type": "stream",
     "text": [
      "Train: 100%|\u001B[32m████████████████████████\u001B[0m| 295/295 [01:02<00:00,  4.75batch/s, Loss: 0.0640 | Precision: 88.34%]\u001B[0m\n"
     ]
    },
    {
     "name": "stdout",
     "output_type": "stream",
     "text": [
      "Epoch 93 | Avg Loss: 0.2542 | Avg Precision: 88.21%\n"
     ]
    },
    {
     "name": "stderr",
     "output_type": "stream",
     "text": [
      "Train: 100%|\u001B[32m████████████████████████\u001B[0m| 295/295 [01:02<00:00,  4.74batch/s, Loss: 0.0626 | Precision: 88.34%]\u001B[0m\n"
     ]
    },
    {
     "name": "stdout",
     "output_type": "stream",
     "text": [
      "Epoch 94 | Avg Loss: 0.2540 | Avg Precision: 88.28%\n"
     ]
    },
    {
     "name": "stderr",
     "output_type": "stream",
     "text": [
      "Train: 100%|\u001B[32m████████████████████████\u001B[0m| 295/295 [01:01<00:00,  4.76batch/s, Loss: 0.0588 | Precision: 88.28%]\u001B[0m\n"
     ]
    },
    {
     "name": "stdout",
     "output_type": "stream",
     "text": [
      "Epoch 95 | Avg Loss: 0.2565 | Avg Precision: 88.24%\n"
     ]
    },
    {
     "name": "stderr",
     "output_type": "stream",
     "text": [
      "Train: 100%|\u001B[32m████████████████████████\u001B[0m| 295/295 [01:02<00:00,  4.75batch/s, Loss: 0.0611 | Precision: 88.27%]\u001B[0m\n"
     ]
    },
    {
     "name": "stdout",
     "output_type": "stream",
     "text": [
      "Epoch 96 | Avg Loss: 0.2554 | Avg Precision: 88.10%\n"
     ]
    },
    {
     "name": "stderr",
     "output_type": "stream",
     "text": [
      "Validate: 100%|\u001B[34m███████████████████████\u001B[0m| 74/74 [00:12<00:00,  5.89batch/s, Loss: 0.2700 | Precision: 88.28%]\u001B[0m\n"
     ]
    },
    {
     "name": "stdout",
     "output_type": "stream",
     "text": [
      "Epoch 00024: reducing learning rate of group 0 to 6.5610e-03.\n",
      "Epoch 96 | Avg Loss: 0.2655 | Avg Precision: 88.17% | Patience: 2\n"
     ]
    },
    {
     "name": "stderr",
     "output_type": "stream",
     "text": [
      "Train: 100%|\u001B[32m████████████████████████\u001B[0m| 295/295 [01:02<00:00,  4.75batch/s, Loss: 0.0586 | Precision: 88.45%]\u001B[0m\n"
     ]
    },
    {
     "name": "stdout",
     "output_type": "stream",
     "text": [
      "Epoch 97 | Avg Loss: 0.2524 | Avg Precision: 88.38%\n"
     ]
    },
    {
     "name": "stderr",
     "output_type": "stream",
     "text": [
      "Train: 100%|\u001B[32m████████████████████████\u001B[0m| 295/295 [01:01<00:00,  4.76batch/s, Loss: 0.0574 | Precision: 88.46%]\u001B[0m\n"
     ]
    },
    {
     "name": "stdout",
     "output_type": "stream",
     "text": [
      "Epoch 98 | Avg Loss: 0.2516 | Avg Precision: 88.40%\n"
     ]
    },
    {
     "name": "stderr",
     "output_type": "stream",
     "text": [
      "Train: 100%|\u001B[32m████████████████████████\u001B[0m| 295/295 [01:02<00:00,  4.74batch/s, Loss: 0.0602 | Precision: 88.47%]\u001B[0m\n"
     ]
    },
    {
     "name": "stdout",
     "output_type": "stream",
     "text": [
      "Epoch 99 | Avg Loss: 0.2528 | Avg Precision: 88.47%\n"
     ]
    },
    {
     "name": "stderr",
     "output_type": "stream",
     "text": [
      "Train: 100%|\u001B[32m████████████████████████\u001B[0m| 295/295 [01:02<00:00,  4.76batch/s, Loss: 0.0604 | Precision: 88.43%]\u001B[0m\n"
     ]
    },
    {
     "name": "stdout",
     "output_type": "stream",
     "text": [
      "Epoch 100 | Avg Loss: 0.2529 | Avg Precision: 88.41%\n"
     ]
    },
    {
     "name": "stderr",
     "output_type": "stream",
     "text": [
      "Validate: 100%|\u001B[34m███████████████████████\u001B[0m| 74/74 [00:12<00:00,  5.88batch/s, Loss: 0.2550 | Precision: 88.05%]\u001B[0m\n"
     ]
    },
    {
     "name": "stdout",
     "output_type": "stream",
     "text": [
      "Epoch 100 | Avg Loss: 0.2606 | Avg Precision: 87.95% | Patience: 3\n"
     ]
    },
    {
     "name": "stderr",
     "output_type": "stream",
     "text": [
      "Train: 100%|\u001B[32m████████████████████████\u001B[0m| 295/295 [01:01<00:00,  4.77batch/s, Loss: 0.0645 | Precision: 88.48%]\u001B[0m\n"
     ]
    },
    {
     "name": "stdout",
     "output_type": "stream",
     "text": [
      "Epoch 101 | Avg Loss: 0.2519 | Avg Precision: 88.40%\n"
     ]
    },
    {
     "name": "stderr",
     "output_type": "stream",
     "text": [
      "Train: 100%|\u001B[32m████████████████████████\u001B[0m| 295/295 [01:01<00:00,  4.76batch/s, Loss: 0.0590 | Precision: 88.35%]\u001B[0m\n"
     ]
    },
    {
     "name": "stdout",
     "output_type": "stream",
     "text": [
      "Epoch 102 | Avg Loss: 0.2545 | Avg Precision: 88.35%\n"
     ]
    },
    {
     "name": "stderr",
     "output_type": "stream",
     "text": [
      "Train: 100%|\u001B[32m████████████████████████\u001B[0m| 295/295 [01:01<00:00,  4.76batch/s, Loss: 0.0611 | Precision: 88.54%]\u001B[0m\n"
     ]
    },
    {
     "name": "stdout",
     "output_type": "stream",
     "text": [
      "Epoch 103 | Avg Loss: 0.2507 | Avg Precision: 88.52%\n"
     ]
    },
    {
     "name": "stderr",
     "output_type": "stream",
     "text": [
      "Train: 100%|\u001B[32m████████████████████████\u001B[0m| 295/295 [01:02<00:00,  4.76batch/s, Loss: 0.0684 | Precision: 88.45%]\u001B[0m\n"
     ]
    },
    {
     "name": "stdout",
     "output_type": "stream",
     "text": [
      "Epoch 104 | Avg Loss: 0.2519 | Avg Precision: 88.46%\n"
     ]
    },
    {
     "name": "stderr",
     "output_type": "stream",
     "text": [
      "Validate: 100%|\u001B[34m███████████████████████\u001B[0m| 74/74 [00:12<00:00,  5.90batch/s, Loss: 0.2659 | Precision: 88.38%]\u001B[0m\n"
     ]
    },
    {
     "name": "stdout",
     "output_type": "stream",
     "text": [
      "Epoch 00026: reducing learning rate of group 0 to 5.9049e-03.\n",
      "Epoch 104 | Avg Loss: 0.2615 | Avg Precision: 88.22% | Patience: 4\n"
     ]
    },
    {
     "name": "stderr",
     "output_type": "stream",
     "text": [
      "Train: 100%|\u001B[32m████████████████████████\u001B[0m| 295/295 [01:02<00:00,  4.75batch/s, Loss: 0.0509 | Precision: 88.65%]\u001B[0m\n"
     ]
    },
    {
     "name": "stdout",
     "output_type": "stream",
     "text": [
      "Epoch 105 | Avg Loss: 0.2488 | Avg Precision: 88.61%\n"
     ]
    },
    {
     "name": "stderr",
     "output_type": "stream",
     "text": [
      "Train: 100%|\u001B[32m████████████████████████\u001B[0m| 295/295 [01:02<00:00,  4.76batch/s, Loss: 0.0527 | Precision: 88.59%]\u001B[0m\n"
     ]
    },
    {
     "name": "stdout",
     "output_type": "stream",
     "text": [
      "Epoch 106 | Avg Loss: 0.2499 | Avg Precision: 88.53%\n"
     ]
    },
    {
     "name": "stderr",
     "output_type": "stream",
     "text": [
      "Train: 100%|\u001B[32m████████████████████████\u001B[0m| 295/295 [01:02<00:00,  4.76batch/s, Loss: 0.0549 | Precision: 88.62%]\u001B[0m\n"
     ]
    },
    {
     "name": "stdout",
     "output_type": "stream",
     "text": [
      "Epoch 107 | Avg Loss: 0.2487 | Avg Precision: 88.52%\n"
     ]
    },
    {
     "name": "stderr",
     "output_type": "stream",
     "text": [
      "Train: 100%|\u001B[32m████████████████████████\u001B[0m| 295/295 [01:02<00:00,  4.75batch/s, Loss: 0.0566 | Precision: 88.64%]\u001B[0m\n"
     ]
    },
    {
     "name": "stdout",
     "output_type": "stream",
     "text": [
      "Epoch 108 | Avg Loss: 0.2493 | Avg Precision: 88.53%\n"
     ]
    },
    {
     "name": "stderr",
     "output_type": "stream",
     "text": [
      "Validate: 100%|\u001B[34m███████████████████████\u001B[0m| 74/74 [00:12<00:00,  5.89batch/s, Loss: 0.2515 | Precision: 88.41%]\u001B[0m\n"
     ]
    },
    {
     "name": "stdout",
     "output_type": "stream",
     "text": [
      "Epoch 108 | Avg Loss: 0.2666 | Avg Precision: 88.22% | Patience: 5\n"
     ]
    },
    {
     "name": "stderr",
     "output_type": "stream",
     "text": [
      "Train: 100%|\u001B[32m████████████████████████\u001B[0m| 295/295 [01:01<00:00,  4.77batch/s, Loss: 0.0615 | Precision: 88.75%]\u001B[0m\n"
     ]
    },
    {
     "name": "stdout",
     "output_type": "stream",
     "text": [
      "Epoch 109 | Avg Loss: 0.2469 | Avg Precision: 88.63%\n"
     ]
    },
    {
     "name": "stderr",
     "output_type": "stream",
     "text": [
      "Train: 100%|\u001B[32m████████████████████████\u001B[0m| 295/295 [01:02<00:00,  4.75batch/s, Loss: 0.0548 | Precision: 88.72%]\u001B[0m\n"
     ]
    },
    {
     "name": "stdout",
     "output_type": "stream",
     "text": [
      "Epoch 110 | Avg Loss: 0.2479 | Avg Precision: 88.64%\n"
     ]
    },
    {
     "name": "stderr",
     "output_type": "stream",
     "text": [
      "Train: 100%|\u001B[32m████████████████████████\u001B[0m| 295/295 [01:02<00:00,  4.75batch/s, Loss: 0.0618 | Precision: 88.65%]\u001B[0m\n"
     ]
    },
    {
     "name": "stdout",
     "output_type": "stream",
     "text": [
      "Epoch 111 | Avg Loss: 0.2495 | Avg Precision: 88.57%\n"
     ]
    },
    {
     "name": "stderr",
     "output_type": "stream",
     "text": [
      "Train: 100%|\u001B[32m████████████████████████\u001B[0m| 295/295 [01:02<00:00,  4.75batch/s, Loss: 0.0587 | Precision: 88.63%]\u001B[0m\n"
     ]
    },
    {
     "name": "stdout",
     "output_type": "stream",
     "text": [
      "Epoch 112 | Avg Loss: 0.2497 | Avg Precision: 88.64%\n"
     ]
    },
    {
     "name": "stderr",
     "output_type": "stream",
     "text": [
      "Validate: 100%|\u001B[34m███████████████████████\u001B[0m| 74/74 [00:12<00:00,  5.91batch/s, Loss: 0.2676 | Precision: 88.58%]\u001B[0m\n"
     ]
    },
    {
     "name": "stdout",
     "output_type": "stream",
     "text": [
      "Epoch 00028: reducing learning rate of group 0 to 5.3144e-03.\n",
      "Epoch 112 | Avg Loss: 0.2590 | Avg Precision: 88.47% | Patience: 6\n"
     ]
    },
    {
     "name": "stderr",
     "output_type": "stream",
     "text": [
      "Train: 100%|\u001B[32m████████████████████████\u001B[0m| 295/295 [01:02<00:00,  4.75batch/s, Loss: 0.0528 | Precision: 88.72%]\u001B[0m\n"
     ]
    },
    {
     "name": "stdout",
     "output_type": "stream",
     "text": [
      "Epoch 113 | Avg Loss: 0.2470 | Avg Precision: 88.66%\n"
     ]
    },
    {
     "name": "stderr",
     "output_type": "stream",
     "text": [
      "Train: 100%|\u001B[32m████████████████████████\u001B[0m| 295/295 [01:02<00:00,  4.75batch/s, Loss: 0.0648 | Precision: 88.73%]\u001B[0m\n"
     ]
    },
    {
     "name": "stdout",
     "output_type": "stream",
     "text": [
      "Epoch 114 | Avg Loss: 0.2466 | Avg Precision: 88.70%\n"
     ]
    },
    {
     "name": "stderr",
     "output_type": "stream",
     "text": [
      "Train: 100%|\u001B[32m████████████████████████\u001B[0m| 295/295 [01:02<00:00,  4.76batch/s, Loss: 0.0518 | Precision: 88.74%]\u001B[0m\n"
     ]
    },
    {
     "name": "stdout",
     "output_type": "stream",
     "text": [
      "Epoch 115 | Avg Loss: 0.2464 | Avg Precision: 88.70%\n"
     ]
    },
    {
     "name": "stderr",
     "output_type": "stream",
     "text": [
      "Train: 100%|\u001B[32m████████████████████████\u001B[0m| 295/295 [01:02<00:00,  4.75batch/s, Loss: 0.0633 | Precision: 88.74%]\u001B[0m\n"
     ]
    },
    {
     "name": "stdout",
     "output_type": "stream",
     "text": [
      "Epoch 116 | Avg Loss: 0.2468 | Avg Precision: 88.82%\n"
     ]
    },
    {
     "name": "stderr",
     "output_type": "stream",
     "text": [
      "Validate: 100%|\u001B[34m███████████████████████\u001B[0m| 74/74 [00:12<00:00,  5.87batch/s, Loss: 0.2600 | Precision: 88.41%]\u001B[0m\n"
     ]
    },
    {
     "name": "stdout",
     "output_type": "stream",
     "text": [
      "Epoch 116 | Avg Loss: 0.2628 | Avg Precision: 88.38% | Patience: 7\n"
     ]
    },
    {
     "name": "stderr",
     "output_type": "stream",
     "text": [
      "Train: 100%|\u001B[32m████████████████████████\u001B[0m| 295/295 [01:02<00:00,  4.74batch/s, Loss: 0.0600 | Precision: 88.77%]\u001B[0m\n"
     ]
    },
    {
     "name": "stdout",
     "output_type": "stream",
     "text": [
      "Epoch 117 | Avg Loss: 0.2473 | Avg Precision: 88.76%\n"
     ]
    },
    {
     "name": "stderr",
     "output_type": "stream",
     "text": [
      "Train: 100%|\u001B[32m████████████████████████\u001B[0m| 295/295 [01:02<00:00,  4.72batch/s, Loss: 0.0538 | Precision: 88.79%]\u001B[0m\n"
     ]
    },
    {
     "name": "stdout",
     "output_type": "stream",
     "text": [
      "Epoch 118 | Avg Loss: 0.2459 | Avg Precision: 88.79%\n"
     ]
    },
    {
     "name": "stderr",
     "output_type": "stream",
     "text": [
      "Train: 100%|\u001B[32m████████████████████████\u001B[0m| 295/295 [01:02<00:00,  4.74batch/s, Loss: 0.0629 | Precision: 88.83%]\u001B[0m\n"
     ]
    },
    {
     "name": "stdout",
     "output_type": "stream",
     "text": [
      "Epoch 119 | Avg Loss: 0.2450 | Avg Precision: 88.74%\n"
     ]
    },
    {
     "name": "stderr",
     "output_type": "stream",
     "text": [
      "Train: 100%|\u001B[32m████████████████████████\u001B[0m| 295/295 [01:02<00:00,  4.75batch/s, Loss: 0.0629 | Precision: 88.81%]\u001B[0m\n"
     ]
    },
    {
     "name": "stdout",
     "output_type": "stream",
     "text": [
      "Epoch 120 | Avg Loss: 0.2455 | Avg Precision: 88.75%\n"
     ]
    },
    {
     "name": "stderr",
     "output_type": "stream",
     "text": [
      "Validate: 100%|\u001B[34m███████████████████████\u001B[0m| 74/74 [00:12<00:00,  5.83batch/s, Loss: 0.2670 | Precision: 88.13%]\u001B[0m"
     ]
    },
    {
     "name": "stdout",
     "output_type": "stream",
     "text": [
      "Epoch 00030: reducing learning rate of group 0 to 4.7830e-03.\n",
      "Early Stopping: Precision stagnated or decreased too many times. Best Validation: 88.51%\n",
      "Training Complete - Best Validate Precision: 88.51%\n"
     ]
    },
    {
     "name": "stderr",
     "output_type": "stream",
     "text": [
      "\n"
     ]
    }
   ],
   "source": [
    "model = LSTMnet(9, 300, 1, 4)\n",
    "model = model.to(device)\n",
    "criterion = nn.CrossEntropyLoss()\n",
    "optimizer = optim.Adam(model.parameters(), lr=.01)\n",
    "scheduler = ReduceLROnPlateau(optimizer, 'max', factor=.9, patience=1, min_lr=.0001, verbose=True)\n",
    "epochs = 200\n",
    "\n",
    "model1 = train_validate(model, criterion, optimizer, scheduler, epochs)\n",
    "torch.save(model1.state_dict(), '.\\\\models\\\\downsample\\\\lstm\\\\model1.pth')"
   ]
  },
  {
   "cell_type": "markdown",
   "id": "6a616918-4871-46f7-a011-794cfb81c5c9",
   "metadata": {},
   "source": [
    "### 11-12-23"
   ]
  },
  {
   "cell_type": "markdown",
   "id": "f05086ac-9d0a-478f-8127-494bb55bacd7",
   "metadata": {},
   "source": [
    "#### Model 2 - Batch 1024 - LB 15 - 500 Units"
   ]
  },
  {
   "cell_type": "code",
   "execution_count": 28,
   "id": "3d148455-b84d-4a18-a8d7-1143f7f5777a",
   "metadata": {},
   "outputs": [
    {
     "name": "stderr",
     "output_type": "stream",
     "text": [
      "Train: 100%|\u001B[32m████████████████████████\u001B[0m| 295/295 [01:09<00:00,  4.21batch/s, Loss: 0.4697 | Precision: 77.23%]\u001B[0m\n"
     ]
    },
    {
     "name": "stdout",
     "output_type": "stream",
     "text": [
      "Epoch 1 | Avg Loss: 0.4533 | Avg Precision: 74.01%\n"
     ]
    },
    {
     "name": "stderr",
     "output_type": "stream",
     "text": [
      "Train: 100%|\u001B[32m████████████████████████\u001B[0m| 295/295 [01:07<00:00,  4.40batch/s, Loss: 0.4399 | Precision: 81.23%]\u001B[0m\n"
     ]
    },
    {
     "name": "stdout",
     "output_type": "stream",
     "text": [
      "Epoch 2 | Avg Loss: 0.3820 | Avg Precision: 80.86%\n"
     ]
    },
    {
     "name": "stderr",
     "output_type": "stream",
     "text": [
      "Train: 100%|\u001B[32m████████████████████████\u001B[0m| 295/295 [01:07<00:00,  4.40batch/s, Loss: 0.3444 | Precision: 82.26%]\u001B[0m\n"
     ]
    },
    {
     "name": "stdout",
     "output_type": "stream",
     "text": [
      "Epoch 3 | Avg Loss: 0.3640 | Avg Precision: 82.15%\n"
     ]
    },
    {
     "name": "stderr",
     "output_type": "stream",
     "text": [
      "Train: 100%|\u001B[32m████████████████████████\u001B[0m| 295/295 [01:07<00:00,  4.40batch/s, Loss: 0.3377 | Precision: 82.81%]\u001B[0m\n"
     ]
    },
    {
     "name": "stdout",
     "output_type": "stream",
     "text": [
      "Epoch 4 | Avg Loss: 0.3551 | Avg Precision: 82.73%\n"
     ]
    },
    {
     "name": "stderr",
     "output_type": "stream",
     "text": [
      "Validate: 100%|\u001B[34m███████████████████████\u001B[0m| 74/74 [00:13<00:00,  5.42batch/s, Loss: 0.4885 | Precision: 79.10%]\u001B[0m\n"
     ]
    },
    {
     "name": "stdout",
     "output_type": "stream",
     "text": [
      "Epoch 4 | Avg Loss: 0.4511 | Avg Precision: 78.95% | Patience: 0\n"
     ]
    },
    {
     "name": "stderr",
     "output_type": "stream",
     "text": [
      "Train: 100%|\u001B[32m████████████████████████\u001B[0m| 295/295 [01:07<00:00,  4.40batch/s, Loss: 0.3540 | Precision: 80.82%]\u001B[0m\n"
     ]
    },
    {
     "name": "stdout",
     "output_type": "stream",
     "text": [
      "Epoch 5 | Avg Loss: 0.3907 | Avg Precision: 80.64%\n"
     ]
    },
    {
     "name": "stderr",
     "output_type": "stream",
     "text": [
      "Train: 100%|\u001B[32m████████████████████████\u001B[0m| 295/295 [01:07<00:00,  4.39batch/s, Loss: 0.3258 | Precision: 81.88%]\u001B[0m\n"
     ]
    },
    {
     "name": "stdout",
     "output_type": "stream",
     "text": [
      "Epoch 6 | Avg Loss: 0.3731 | Avg Precision: 81.78%\n"
     ]
    },
    {
     "name": "stderr",
     "output_type": "stream",
     "text": [
      "Train: 100%|\u001B[32m████████████████████████\u001B[0m| 295/295 [01:07<00:00,  4.40batch/s, Loss: 0.3151 | Precision: 82.53%]\u001B[0m\n"
     ]
    },
    {
     "name": "stdout",
     "output_type": "stream",
     "text": [
      "Epoch 7 | Avg Loss: 0.3619 | Avg Precision: 82.47%\n"
     ]
    },
    {
     "name": "stderr",
     "output_type": "stream",
     "text": [
      "Train: 100%|\u001B[32m████████████████████████\u001B[0m| 295/295 [01:07<00:00,  4.35batch/s, Loss: 0.3191 | Precision: 82.81%]\u001B[0m\n"
     ]
    },
    {
     "name": "stdout",
     "output_type": "stream",
     "text": [
      "Epoch 8 | Avg Loss: 0.3567 | Avg Precision: 82.74%\n"
     ]
    },
    {
     "name": "stderr",
     "output_type": "stream",
     "text": [
      "Validate: 100%|\u001B[34m███████████████████████\u001B[0m| 74/74 [00:13<00:00,  5.31batch/s, Loss: 0.4038 | Precision: 81.64%]\u001B[0m\n"
     ]
    },
    {
     "name": "stdout",
     "output_type": "stream",
     "text": [
      "Epoch 8 | Avg Loss: 0.3581 | Avg Precision: 81.54% | Patience: 0\n"
     ]
    },
    {
     "name": "stderr",
     "output_type": "stream",
     "text": [
      "Train: 100%|\u001B[32m████████████████████████\u001B[0m| 295/295 [01:07<00:00,  4.38batch/s, Loss: 0.3675 | Precision: 83.25%]\u001B[0m\n"
     ]
    },
    {
     "name": "stdout",
     "output_type": "stream",
     "text": [
      "Epoch 9 | Avg Loss: 0.3495 | Avg Precision: 83.34%\n"
     ]
    },
    {
     "name": "stderr",
     "output_type": "stream",
     "text": [
      "Train: 100%|\u001B[32m████████████████████████\u001B[0m| 295/295 [01:07<00:00,  4.39batch/s, Loss: 0.3430 | Precision: 83.51%]\u001B[0m\n"
     ]
    },
    {
     "name": "stdout",
     "output_type": "stream",
     "text": [
      "Epoch 10 | Avg Loss: 0.3445 | Avg Precision: 83.58%\n"
     ]
    },
    {
     "name": "stderr",
     "output_type": "stream",
     "text": [
      "Train: 100%|\u001B[32m████████████████████████\u001B[0m| 295/295 [01:07<00:00,  4.40batch/s, Loss: 0.3125 | Precision: 83.93%]\u001B[0m\n"
     ]
    },
    {
     "name": "stdout",
     "output_type": "stream",
     "text": [
      "Epoch 11 | Avg Loss: 0.3386 | Avg Precision: 83.99%\n"
     ]
    },
    {
     "name": "stderr",
     "output_type": "stream",
     "text": [
      "Train: 100%|\u001B[32m████████████████████████\u001B[0m| 295/295 [01:07<00:00,  4.40batch/s, Loss: 0.2865 | Precision: 84.03%]\u001B[0m\n"
     ]
    },
    {
     "name": "stdout",
     "output_type": "stream",
     "text": [
      "Epoch 12 | Avg Loss: 0.3344 | Avg Precision: 84.05%\n"
     ]
    },
    {
     "name": "stderr",
     "output_type": "stream",
     "text": [
      "Validate: 100%|\u001B[34m███████████████████████\u001B[0m| 74/74 [00:13<00:00,  5.38batch/s, Loss: 0.3849 | Precision: 83.06%]\u001B[0m\n"
     ]
    },
    {
     "name": "stdout",
     "output_type": "stream",
     "text": [
      "Epoch 12 | Avg Loss: 0.3477 | Avg Precision: 82.98% | Patience: 0\n"
     ]
    },
    {
     "name": "stderr",
     "output_type": "stream",
     "text": [
      "Train: 100%|\u001B[32m████████████████████████\u001B[0m| 295/295 [01:07<00:00,  4.40batch/s, Loss: 0.3826 | Precision: 84.28%]\u001B[0m\n"
     ]
    },
    {
     "name": "stdout",
     "output_type": "stream",
     "text": [
      "Epoch 13 | Avg Loss: 0.3307 | Avg Precision: 84.27%\n"
     ]
    },
    {
     "name": "stderr",
     "output_type": "stream",
     "text": [
      "Train: 100%|\u001B[32m████████████████████████\u001B[0m| 295/295 [01:07<00:00,  4.40batch/s, Loss: 0.3239 | Precision: 84.55%]\u001B[0m\n"
     ]
    },
    {
     "name": "stdout",
     "output_type": "stream",
     "text": [
      "Epoch 14 | Avg Loss: 0.3262 | Avg Precision: 84.52%\n"
     ]
    },
    {
     "name": "stderr",
     "output_type": "stream",
     "text": [
      "Train: 100%|\u001B[32m████████████████████████\u001B[0m| 295/295 [01:07<00:00,  4.39batch/s, Loss: 0.3716 | Precision: 84.58%]\u001B[0m\n"
     ]
    },
    {
     "name": "stdout",
     "output_type": "stream",
     "text": [
      "Epoch 15 | Avg Loss: 0.3255 | Avg Precision: 84.68%\n"
     ]
    },
    {
     "name": "stderr",
     "output_type": "stream",
     "text": [
      "Train: 100%|\u001B[32m████████████████████████\u001B[0m| 295/295 [01:07<00:00,  4.39batch/s, Loss: 0.3289 | Precision: 84.62%]\u001B[0m\n"
     ]
    },
    {
     "name": "stdout",
     "output_type": "stream",
     "text": [
      "Epoch 16 | Avg Loss: 0.3321 | Avg Precision: 84.60%\n"
     ]
    },
    {
     "name": "stderr",
     "output_type": "stream",
     "text": [
      "Validate: 100%|\u001B[34m███████████████████████\u001B[0m| 74/74 [00:13<00:00,  5.38batch/s, Loss: 0.3887 | Precision: 85.06%]\u001B[0m\n"
     ]
    },
    {
     "name": "stdout",
     "output_type": "stream",
     "text": [
      "Epoch 16 | Avg Loss: 0.3384 | Avg Precision: 85.08% | Patience: 0\n"
     ]
    },
    {
     "name": "stderr",
     "output_type": "stream",
     "text": [
      "Train: 100%|\u001B[32m████████████████████████\u001B[0m| 295/295 [01:06<00:00,  4.40batch/s, Loss: 0.3469 | Precision: 84.84%]\u001B[0m\n"
     ]
    },
    {
     "name": "stdout",
     "output_type": "stream",
     "text": [
      "Epoch 17 | Avg Loss: 0.3211 | Avg Precision: 84.83%\n"
     ]
    },
    {
     "name": "stderr",
     "output_type": "stream",
     "text": [
      "Train: 100%|\u001B[32m████████████████████████\u001B[0m| 295/295 [01:07<00:00,  4.35batch/s, Loss: 0.2847 | Precision: 85.14%]\u001B[0m\n"
     ]
    },
    {
     "name": "stdout",
     "output_type": "stream",
     "text": [
      "Epoch 18 | Avg Loss: 0.3161 | Avg Precision: 85.27%\n"
     ]
    },
    {
     "name": "stderr",
     "output_type": "stream",
     "text": [
      "Train: 100%|\u001B[32m████████████████████████\u001B[0m| 295/295 [01:07<00:00,  4.35batch/s, Loss: 0.3101 | Precision: 84.97%]\u001B[0m\n"
     ]
    },
    {
     "name": "stdout",
     "output_type": "stream",
     "text": [
      "Epoch 19 | Avg Loss: 0.3175 | Avg Precision: 85.08%\n"
     ]
    },
    {
     "name": "stderr",
     "output_type": "stream",
     "text": [
      "Train: 100%|\u001B[32m████████████████████████\u001B[0m| 295/295 [01:07<00:00,  4.39batch/s, Loss: 0.2941 | Precision: 85.26%]\u001B[0m\n"
     ]
    },
    {
     "name": "stdout",
     "output_type": "stream",
     "text": [
      "Epoch 20 | Avg Loss: 0.3130 | Avg Precision: 85.36%\n"
     ]
    },
    {
     "name": "stderr",
     "output_type": "stream",
     "text": [
      "Validate: 100%|\u001B[34m███████████████████████\u001B[0m| 74/74 [00:13<00:00,  5.41batch/s, Loss: 0.4266 | Precision: 83.65%]\u001B[0m\n"
     ]
    },
    {
     "name": "stdout",
     "output_type": "stream",
     "text": [
      "Epoch 20 | Avg Loss: 0.3624 | Avg Precision: 83.67% | Patience: 1\n"
     ]
    },
    {
     "name": "stderr",
     "output_type": "stream",
     "text": [
      "Train: 100%|\u001B[32m████████████████████████\u001B[0m| 295/295 [01:06<00:00,  4.42batch/s, Loss: 0.2648 | Precision: 85.22%]\u001B[0m\n"
     ]
    },
    {
     "name": "stdout",
     "output_type": "stream",
     "text": [
      "Epoch 21 | Avg Loss: 0.3135 | Avg Precision: 85.06%\n"
     ]
    },
    {
     "name": "stderr",
     "output_type": "stream",
     "text": [
      "Train: 100%|\u001B[32m████████████████████████\u001B[0m| 295/295 [01:07<00:00,  4.39batch/s, Loss: 0.3017 | Precision: 85.33%]\u001B[0m\n"
     ]
    },
    {
     "name": "stdout",
     "output_type": "stream",
     "text": [
      "Epoch 22 | Avg Loss: 0.3111 | Avg Precision: 85.40%\n"
     ]
    },
    {
     "name": "stderr",
     "output_type": "stream",
     "text": [
      "Train: 100%|\u001B[32m████████████████████████\u001B[0m| 295/295 [01:07<00:00,  4.40batch/s, Loss: 0.2837 | Precision: 85.43%]\u001B[0m\n"
     ]
    },
    {
     "name": "stdout",
     "output_type": "stream",
     "text": [
      "Epoch 23 | Avg Loss: 0.3091 | Avg Precision: 85.49%\n"
     ]
    },
    {
     "name": "stderr",
     "output_type": "stream",
     "text": [
      "Train: 100%|\u001B[32m████████████████████████\u001B[0m| 295/295 [01:06<00:00,  4.42batch/s, Loss: 0.2365 | Precision: 85.39%]\u001B[0m\n"
     ]
    },
    {
     "name": "stdout",
     "output_type": "stream",
     "text": [
      "Epoch 24 | Avg Loss: 0.3100 | Avg Precision: 85.38%\n"
     ]
    },
    {
     "name": "stderr",
     "output_type": "stream",
     "text": [
      "Validate: 100%|\u001B[34m███████████████████████\u001B[0m| 74/74 [00:13<00:00,  5.39batch/s, Loss: 0.4012 | Precision: 85.61%]\u001B[0m\n"
     ]
    },
    {
     "name": "stdout",
     "output_type": "stream",
     "text": [
      "Epoch 24 | Avg Loss: 0.3468 | Avg Precision: 85.54% | Patience: 0\n"
     ]
    },
    {
     "name": "stderr",
     "output_type": "stream",
     "text": [
      "Train: 100%|\u001B[32m████████████████████████\u001B[0m| 295/295 [01:06<00:00,  4.41batch/s, Loss: 0.2949 | Precision: 85.36%]\u001B[0m\n"
     ]
    },
    {
     "name": "stdout",
     "output_type": "stream",
     "text": [
      "Epoch 25 | Avg Loss: 0.3132 | Avg Precision: 85.44%\n"
     ]
    },
    {
     "name": "stderr",
     "output_type": "stream",
     "text": [
      "Train: 100%|\u001B[32m████████████████████████\u001B[0m| 295/295 [01:07<00:00,  4.40batch/s, Loss: 0.2259 | Precision: 85.51%]\u001B[0m\n"
     ]
    },
    {
     "name": "stdout",
     "output_type": "stream",
     "text": [
      "Epoch 26 | Avg Loss: 0.3074 | Avg Precision: 85.55%\n"
     ]
    },
    {
     "name": "stderr",
     "output_type": "stream",
     "text": [
      "Train: 100%|\u001B[32m████████████████████████\u001B[0m| 295/295 [01:07<00:00,  4.39batch/s, Loss: 0.2531 | Precision: 85.58%]\u001B[0m\n"
     ]
    },
    {
     "name": "stdout",
     "output_type": "stream",
     "text": [
      "Epoch 27 | Avg Loss: 0.3061 | Avg Precision: 85.65%\n"
     ]
    },
    {
     "name": "stderr",
     "output_type": "stream",
     "text": [
      "Train: 100%|\u001B[32m████████████████████████\u001B[0m| 295/295 [01:07<00:00,  4.39batch/s, Loss: 0.2401 | Precision: 85.52%]\u001B[0m\n"
     ]
    },
    {
     "name": "stdout",
     "output_type": "stream",
     "text": [
      "Epoch 28 | Avg Loss: 0.3080 | Avg Precision: 85.57%\n"
     ]
    },
    {
     "name": "stderr",
     "output_type": "stream",
     "text": [
      "Validate: 100%|\u001B[34m███████████████████████\u001B[0m| 74/74 [00:13<00:00,  5.48batch/s, Loss: 0.3868 | Precision: 85.00%]\u001B[0m\n"
     ]
    },
    {
     "name": "stdout",
     "output_type": "stream",
     "text": [
      "Epoch 28 | Avg Loss: 0.3276 | Avg Precision: 84.98% | Patience: 1\n"
     ]
    },
    {
     "name": "stderr",
     "output_type": "stream",
     "text": [
      "Train: 100%|\u001B[32m████████████████████████\u001B[0m| 295/295 [01:06<00:00,  4.41batch/s, Loss: 0.3002 | Precision: 85.75%]\u001B[0m\n"
     ]
    },
    {
     "name": "stdout",
     "output_type": "stream",
     "text": [
      "Epoch 29 | Avg Loss: 0.3034 | Avg Precision: 85.81%\n"
     ]
    },
    {
     "name": "stderr",
     "output_type": "stream",
     "text": [
      "Train: 100%|\u001B[32m████████████████████████\u001B[0m| 295/295 [01:07<00:00,  4.39batch/s, Loss: 0.2330 | Precision: 85.71%]\u001B[0m\n"
     ]
    },
    {
     "name": "stdout",
     "output_type": "stream",
     "text": [
      "Epoch 30 | Avg Loss: 0.3032 | Avg Precision: 85.79%\n"
     ]
    },
    {
     "name": "stderr",
     "output_type": "stream",
     "text": [
      "Train: 100%|\u001B[32m████████████████████████\u001B[0m| 295/295 [01:06<00:00,  4.41batch/s, Loss: 0.2303 | Precision: 85.84%]\u001B[0m\n"
     ]
    },
    {
     "name": "stdout",
     "output_type": "stream",
     "text": [
      "Epoch 31 | Avg Loss: 0.3009 | Avg Precision: 85.86%\n"
     ]
    },
    {
     "name": "stderr",
     "output_type": "stream",
     "text": [
      "Train: 100%|\u001B[32m████████████████████████\u001B[0m| 295/295 [01:06<00:00,  4.41batch/s, Loss: 0.3514 | Precision: 85.83%]\u001B[0m\n"
     ]
    },
    {
     "name": "stdout",
     "output_type": "stream",
     "text": [
      "Epoch 32 | Avg Loss: 0.3016 | Avg Precision: 85.95%\n"
     ]
    },
    {
     "name": "stderr",
     "output_type": "stream",
     "text": [
      "Validate: 100%|\u001B[34m███████████████████████\u001B[0m| 74/74 [00:13<00:00,  5.40batch/s, Loss: 0.3640 | Precision: 86.19%]\u001B[0m\n"
     ]
    },
    {
     "name": "stdout",
     "output_type": "stream",
     "text": [
      "Epoch 32 | Avg Loss: 0.3150 | Avg Precision: 86.14% | Patience: 0\n"
     ]
    },
    {
     "name": "stderr",
     "output_type": "stream",
     "text": [
      "Train: 100%|\u001B[32m████████████████████████\u001B[0m| 295/295 [01:07<00:00,  4.38batch/s, Loss: 0.2308 | Precision: 86.01%]\u001B[0m\n"
     ]
    },
    {
     "name": "stdout",
     "output_type": "stream",
     "text": [
      "Epoch 33 | Avg Loss: 0.2983 | Avg Precision: 86.17%\n"
     ]
    },
    {
     "name": "stderr",
     "output_type": "stream",
     "text": [
      "Train: 100%|\u001B[32m████████████████████████\u001B[0m| 295/295 [01:06<00:00,  4.42batch/s, Loss: 0.2664 | Precision: 85.93%]\u001B[0m\n"
     ]
    },
    {
     "name": "stdout",
     "output_type": "stream",
     "text": [
      "Epoch 34 | Avg Loss: 0.2996 | Avg Precision: 85.93%\n"
     ]
    },
    {
     "name": "stderr",
     "output_type": "stream",
     "text": [
      "Train: 100%|\u001B[32m████████████████████████\u001B[0m| 295/295 [01:06<00:00,  4.41batch/s, Loss: 0.3412 | Precision: 86.00%]\u001B[0m\n"
     ]
    },
    {
     "name": "stdout",
     "output_type": "stream",
     "text": [
      "Epoch 35 | Avg Loss: 0.2991 | Avg Precision: 86.13%\n"
     ]
    },
    {
     "name": "stderr",
     "output_type": "stream",
     "text": [
      "Train: 100%|\u001B[32m████████████████████████\u001B[0m| 295/295 [01:06<00:00,  4.41batch/s, Loss: 0.2594 | Precision: 86.15%]\u001B[0m\n"
     ]
    },
    {
     "name": "stdout",
     "output_type": "stream",
     "text": [
      "Epoch 36 | Avg Loss: 0.2958 | Avg Precision: 86.26%\n"
     ]
    },
    {
     "name": "stderr",
     "output_type": "stream",
     "text": [
      "Validate: 100%|\u001B[34m███████████████████████\u001B[0m| 74/74 [00:13<00:00,  5.44batch/s, Loss: 0.3816 | Precision: 85.99%]\u001B[0m\n"
     ]
    },
    {
     "name": "stdout",
     "output_type": "stream",
     "text": [
      "Epoch 36 | Avg Loss: 0.3308 | Avg Precision: 85.89% | Patience: 1\n"
     ]
    },
    {
     "name": "stderr",
     "output_type": "stream",
     "text": [
      "Train: 100%|\u001B[32m████████████████████████\u001B[0m| 295/295 [01:06<00:00,  4.41batch/s, Loss: 0.2562 | Precision: 86.20%]\u001B[0m\n"
     ]
    },
    {
     "name": "stdout",
     "output_type": "stream",
     "text": [
      "Epoch 37 | Avg Loss: 0.2961 | Avg Precision: 86.28%\n"
     ]
    },
    {
     "name": "stderr",
     "output_type": "stream",
     "text": [
      "Train: 100%|\u001B[32m████████████████████████\u001B[0m| 295/295 [01:07<00:00,  4.39batch/s, Loss: 0.3272 | Precision: 86.21%]\u001B[0m\n"
     ]
    },
    {
     "name": "stdout",
     "output_type": "stream",
     "text": [
      "Epoch 38 | Avg Loss: 0.2956 | Avg Precision: 86.23%\n"
     ]
    },
    {
     "name": "stderr",
     "output_type": "stream",
     "text": [
      "Train: 100%|\u001B[32m████████████████████████\u001B[0m| 295/295 [01:06<00:00,  4.40batch/s, Loss: 0.3038 | Precision: 86.29%]\u001B[0m\n"
     ]
    },
    {
     "name": "stdout",
     "output_type": "stream",
     "text": [
      "Epoch 39 | Avg Loss: 0.2950 | Avg Precision: 86.41%\n"
     ]
    },
    {
     "name": "stderr",
     "output_type": "stream",
     "text": [
      "Train: 100%|\u001B[32m████████████████████████\u001B[0m| 295/295 [01:06<00:00,  4.41batch/s, Loss: 0.2559 | Precision: 86.29%]\u001B[0m\n"
     ]
    },
    {
     "name": "stdout",
     "output_type": "stream",
     "text": [
      "Epoch 40 | Avg Loss: 0.2939 | Avg Precision: 86.42%\n"
     ]
    },
    {
     "name": "stderr",
     "output_type": "stream",
     "text": [
      "Validate: 100%|\u001B[34m███████████████████████\u001B[0m| 74/74 [00:13<00:00,  5.43batch/s, Loss: 0.3764 | Precision: 86.41%]\u001B[0m\n"
     ]
    },
    {
     "name": "stdout",
     "output_type": "stream",
     "text": [
      "Epoch 40 | Avg Loss: 0.3213 | Avg Precision: 86.32% | Patience: 0\n"
     ]
    },
    {
     "name": "stderr",
     "output_type": "stream",
     "text": [
      "Train: 100%|\u001B[32m████████████████████████\u001B[0m| 295/295 [01:06<00:00,  4.41batch/s, Loss: 0.2669 | Precision: 86.44%]\u001B[0m\n"
     ]
    },
    {
     "name": "stdout",
     "output_type": "stream",
     "text": [
      "Epoch 41 | Avg Loss: 0.2931 | Avg Precision: 86.57%\n"
     ]
    },
    {
     "name": "stderr",
     "output_type": "stream",
     "text": [
      "Train: 100%|\u001B[32m████████████████████████\u001B[0m| 295/295 [01:07<00:00,  4.39batch/s, Loss: 0.3490 | Precision: 86.36%]\u001B[0m\n"
     ]
    },
    {
     "name": "stdout",
     "output_type": "stream",
     "text": [
      "Epoch 42 | Avg Loss: 0.2934 | Avg Precision: 86.50%\n"
     ]
    },
    {
     "name": "stderr",
     "output_type": "stream",
     "text": [
      "Train: 100%|\u001B[32m████████████████████████\u001B[0m| 295/295 [01:08<00:00,  4.32batch/s, Loss: 0.2714 | Precision: 86.33%]\u001B[0m\n"
     ]
    },
    {
     "name": "stdout",
     "output_type": "stream",
     "text": [
      "Epoch 43 | Avg Loss: 0.2937 | Avg Precision: 86.43%\n"
     ]
    },
    {
     "name": "stderr",
     "output_type": "stream",
     "text": [
      "Train: 100%|\u001B[32m████████████████████████\u001B[0m| 295/295 [01:07<00:00,  4.40batch/s, Loss: 0.3060 | Precision: 86.47%]\u001B[0m\n"
     ]
    },
    {
     "name": "stdout",
     "output_type": "stream",
     "text": [
      "Epoch 44 | Avg Loss: 0.2915 | Avg Precision: 86.58%\n"
     ]
    },
    {
     "name": "stderr",
     "output_type": "stream",
     "text": [
      "Validate: 100%|\u001B[34m███████████████████████\u001B[0m| 74/74 [00:13<00:00,  5.36batch/s, Loss: 0.3612 | Precision: 86.47%]\u001B[0m\n"
     ]
    },
    {
     "name": "stdout",
     "output_type": "stream",
     "text": [
      "Epoch 44 | Avg Loss: 0.3083 | Avg Precision: 86.41% | Patience: 0\n"
     ]
    },
    {
     "name": "stderr",
     "output_type": "stream",
     "text": [
      "Train: 100%|\u001B[32m████████████████████████\u001B[0m| 295/295 [01:07<00:00,  4.38batch/s, Loss: 0.2359 | Precision: 86.36%]\u001B[0m\n"
     ]
    },
    {
     "name": "stdout",
     "output_type": "stream",
     "text": [
      "Epoch 45 | Avg Loss: 0.2932 | Avg Precision: 86.56%\n"
     ]
    },
    {
     "name": "stderr",
     "output_type": "stream",
     "text": [
      "Train: 100%|\u001B[32m████████████████████████\u001B[0m| 295/295 [01:07<00:00,  4.37batch/s, Loss: 0.2242 | Precision: 86.46%]\u001B[0m\n"
     ]
    },
    {
     "name": "stdout",
     "output_type": "stream",
     "text": [
      "Epoch 46 | Avg Loss: 0.2905 | Avg Precision: 86.56%\n"
     ]
    },
    {
     "name": "stderr",
     "output_type": "stream",
     "text": [
      "Train: 100%|\u001B[32m████████████████████████\u001B[0m| 295/295 [01:07<00:00,  4.38batch/s, Loss: 0.2646 | Precision: 86.35%]\u001B[0m\n"
     ]
    },
    {
     "name": "stdout",
     "output_type": "stream",
     "text": [
      "Epoch 47 | Avg Loss: 0.2931 | Avg Precision: 86.57%\n"
     ]
    },
    {
     "name": "stderr",
     "output_type": "stream",
     "text": [
      "Train: 100%|\u001B[32m████████████████████████\u001B[0m| 295/295 [01:07<00:00,  4.35batch/s, Loss: 0.2287 | Precision: 86.59%]\u001B[0m\n"
     ]
    },
    {
     "name": "stdout",
     "output_type": "stream",
     "text": [
      "Epoch 48 | Avg Loss: 0.2895 | Avg Precision: 86.64%\n"
     ]
    },
    {
     "name": "stderr",
     "output_type": "stream",
     "text": [
      "Validate: 100%|\u001B[34m███████████████████████\u001B[0m| 74/74 [00:13<00:00,  5.38batch/s, Loss: 0.3502 | Precision: 87.21%]\u001B[0m\n"
     ]
    },
    {
     "name": "stdout",
     "output_type": "stream",
     "text": [
      "Epoch 48 | Avg Loss: 0.3140 | Avg Precision: 87.05% | Patience: 0\n"
     ]
    },
    {
     "name": "stderr",
     "output_type": "stream",
     "text": [
      "Train: 100%|\u001B[32m████████████████████████\u001B[0m| 295/295 [01:07<00:00,  4.37batch/s, Loss: 0.2981 | Precision: 86.46%]\u001B[0m\n"
     ]
    },
    {
     "name": "stdout",
     "output_type": "stream",
     "text": [
      "Epoch 49 | Avg Loss: 0.2907 | Avg Precision: 86.56%\n"
     ]
    },
    {
     "name": "stderr",
     "output_type": "stream",
     "text": [
      "Train: 100%|\u001B[32m████████████████████████\u001B[0m| 295/295 [01:08<00:00,  4.32batch/s, Loss: 0.2705 | Precision: 86.51%]\u001B[0m\n"
     ]
    },
    {
     "name": "stdout",
     "output_type": "stream",
     "text": [
      "Epoch 50 | Avg Loss: 0.2898 | Avg Precision: 86.60%\n"
     ]
    },
    {
     "name": "stderr",
     "output_type": "stream",
     "text": [
      "Train: 100%|\u001B[32m████████████████████████\u001B[0m| 295/295 [01:07<00:00,  4.36batch/s, Loss: 0.3023 | Precision: 86.45%]\u001B[0m\n"
     ]
    },
    {
     "name": "stdout",
     "output_type": "stream",
     "text": [
      "Epoch 51 | Avg Loss: 0.2909 | Avg Precision: 86.53%\n"
     ]
    },
    {
     "name": "stderr",
     "output_type": "stream",
     "text": [
      "Train: 100%|\u001B[32m████████████████████████\u001B[0m| 295/295 [01:07<00:00,  4.35batch/s, Loss: 0.2654 | Precision: 86.50%]\u001B[0m\n"
     ]
    },
    {
     "name": "stdout",
     "output_type": "stream",
     "text": [
      "Epoch 52 | Avg Loss: 0.2901 | Avg Precision: 86.67%\n"
     ]
    },
    {
     "name": "stderr",
     "output_type": "stream",
     "text": [
      "Validate: 100%|\u001B[34m███████████████████████\u001B[0m| 74/74 [00:13<00:00,  5.30batch/s, Loss: 0.3512 | Precision: 87.04%]\u001B[0m\n"
     ]
    },
    {
     "name": "stdout",
     "output_type": "stream",
     "text": [
      "Epoch 52 | Avg Loss: 0.3031 | Avg Precision: 86.77% | Patience: 1\n"
     ]
    },
    {
     "name": "stderr",
     "output_type": "stream",
     "text": [
      "Train: 100%|\u001B[32m████████████████████████\u001B[0m| 295/295 [01:07<00:00,  4.37batch/s, Loss: 0.2952 | Precision: 86.54%]\u001B[0m\n"
     ]
    },
    {
     "name": "stdout",
     "output_type": "stream",
     "text": [
      "Epoch 53 | Avg Loss: 0.2890 | Avg Precision: 86.63%\n"
     ]
    },
    {
     "name": "stderr",
     "output_type": "stream",
     "text": [
      "Train: 100%|\u001B[32m████████████████████████\u001B[0m| 295/295 [01:07<00:00,  4.37batch/s, Loss: 0.3053 | Precision: 86.55%]\u001B[0m\n"
     ]
    },
    {
     "name": "stdout",
     "output_type": "stream",
     "text": [
      "Epoch 54 | Avg Loss: 0.2890 | Avg Precision: 86.72%\n"
     ]
    },
    {
     "name": "stderr",
     "output_type": "stream",
     "text": [
      "Train: 100%|\u001B[32m████████████████████████\u001B[0m| 295/295 [01:07<00:00,  4.38batch/s, Loss: 0.2880 | Precision: 86.75%]\u001B[0m\n"
     ]
    },
    {
     "name": "stdout",
     "output_type": "stream",
     "text": [
      "Epoch 55 | Avg Loss: 0.2870 | Avg Precision: 86.84%\n"
     ]
    },
    {
     "name": "stderr",
     "output_type": "stream",
     "text": [
      "Train: 100%|\u001B[32m████████████████████████\u001B[0m| 295/295 [01:07<00:00,  4.35batch/s, Loss: 0.2819 | Precision: 86.59%]\u001B[0m\n"
     ]
    },
    {
     "name": "stdout",
     "output_type": "stream",
     "text": [
      "Epoch 56 | Avg Loss: 0.2883 | Avg Precision: 86.73%\n"
     ]
    },
    {
     "name": "stderr",
     "output_type": "stream",
     "text": [
      "Validate: 100%|\u001B[34m███████████████████████\u001B[0m| 74/74 [00:13<00:00,  5.36batch/s, Loss: 0.3555 | Precision: 86.44%]\u001B[0m\n"
     ]
    },
    {
     "name": "stdout",
     "output_type": "stream",
     "text": [
      "Epoch 00014: reducing learning rate of group 0 to 9.0000e-03.\n",
      "Epoch 56 | Avg Loss: 0.3150 | Avg Precision: 86.32% | Patience: 2\n"
     ]
    },
    {
     "name": "stderr",
     "output_type": "stream",
     "text": [
      "Train: 100%|\u001B[32m████████████████████████\u001B[0m| 295/295 [01:07<00:00,  4.36batch/s, Loss: 0.2303 | Precision: 86.77%]\u001B[0m\n"
     ]
    },
    {
     "name": "stdout",
     "output_type": "stream",
     "text": [
      "Epoch 57 | Avg Loss: 0.2858 | Avg Precision: 86.82%\n"
     ]
    },
    {
     "name": "stderr",
     "output_type": "stream",
     "text": [
      "Train: 100%|\u001B[32m████████████████████████\u001B[0m| 295/295 [01:07<00:00,  4.38batch/s, Loss: 0.2707 | Precision: 86.87%]\u001B[0m\n"
     ]
    },
    {
     "name": "stdout",
     "output_type": "stream",
     "text": [
      "Epoch 58 | Avg Loss: 0.2842 | Avg Precision: 86.91%\n"
     ]
    },
    {
     "name": "stderr",
     "output_type": "stream",
     "text": [
      "Train: 100%|\u001B[32m████████████████████████\u001B[0m| 295/295 [01:08<00:00,  4.31batch/s, Loss: 0.2391 | Precision: 86.83%]\u001B[0m\n"
     ]
    },
    {
     "name": "stdout",
     "output_type": "stream",
     "text": [
      "Epoch 59 | Avg Loss: 0.2840 | Avg Precision: 86.85%\n"
     ]
    },
    {
     "name": "stderr",
     "output_type": "stream",
     "text": [
      "Train: 100%|\u001B[32m████████████████████████\u001B[0m| 295/295 [01:07<00:00,  4.37batch/s, Loss: 0.2501 | Precision: 86.86%]\u001B[0m\n"
     ]
    },
    {
     "name": "stdout",
     "output_type": "stream",
     "text": [
      "Epoch 60 | Avg Loss: 0.2840 | Avg Precision: 86.99%\n"
     ]
    },
    {
     "name": "stderr",
     "output_type": "stream",
     "text": [
      "Validate: 100%|\u001B[34m███████████████████████\u001B[0m| 74/74 [00:13<00:00,  5.38batch/s, Loss: 0.3392 | Precision: 87.26%]\u001B[0m\n"
     ]
    },
    {
     "name": "stdout",
     "output_type": "stream",
     "text": [
      "Epoch 60 | Avg Loss: 0.2966 | Avg Precision: 87.20% | Patience: 0\n"
     ]
    },
    {
     "name": "stderr",
     "output_type": "stream",
     "text": [
      "Train: 100%|\u001B[32m████████████████████████\u001B[0m| 295/295 [01:07<00:00,  4.37batch/s, Loss: 0.2459 | Precision: 86.92%]\u001B[0m\n"
     ]
    },
    {
     "name": "stdout",
     "output_type": "stream",
     "text": [
      "Epoch 61 | Avg Loss: 0.2821 | Avg Precision: 87.05%\n"
     ]
    },
    {
     "name": "stderr",
     "output_type": "stream",
     "text": [
      "Train: 100%|\u001B[32m████████████████████████\u001B[0m| 295/295 [01:07<00:00,  4.34batch/s, Loss: 0.2194 | Precision: 86.79%]\u001B[0m\n"
     ]
    },
    {
     "name": "stdout",
     "output_type": "stream",
     "text": [
      "Epoch 62 | Avg Loss: 0.2848 | Avg Precision: 86.85%\n"
     ]
    },
    {
     "name": "stderr",
     "output_type": "stream",
     "text": [
      "Train: 100%|\u001B[32m████████████████████████\u001B[0m| 295/295 [01:07<00:00,  4.35batch/s, Loss: 0.2943 | Precision: 86.92%]\u001B[0m\n"
     ]
    },
    {
     "name": "stdout",
     "output_type": "stream",
     "text": [
      "Epoch 63 | Avg Loss: 0.2825 | Avg Precision: 86.96%\n"
     ]
    },
    {
     "name": "stderr",
     "output_type": "stream",
     "text": [
      "Train: 100%|\u001B[32m████████████████████████\u001B[0m| 295/295 [01:07<00:00,  4.36batch/s, Loss: 0.2046 | Precision: 86.95%]\u001B[0m\n"
     ]
    },
    {
     "name": "stdout",
     "output_type": "stream",
     "text": [
      "Epoch 64 | Avg Loss: 0.2823 | Avg Precision: 86.97%\n"
     ]
    },
    {
     "name": "stderr",
     "output_type": "stream",
     "text": [
      "Validate: 100%|\u001B[34m███████████████████████\u001B[0m| 74/74 [00:13<00:00,  5.32batch/s, Loss: 0.3530 | Precision: 87.33%]\u001B[0m\n"
     ]
    },
    {
     "name": "stdout",
     "output_type": "stream",
     "text": [
      "Epoch 64 | Avg Loss: 0.3039 | Avg Precision: 87.19% | Patience: 1\n"
     ]
    },
    {
     "name": "stderr",
     "output_type": "stream",
     "text": [
      "Train: 100%|\u001B[32m████████████████████████\u001B[0m| 295/295 [01:07<00:00,  4.38batch/s, Loss: 0.1973 | Precision: 86.97%]\u001B[0m\n"
     ]
    },
    {
     "name": "stdout",
     "output_type": "stream",
     "text": [
      "Epoch 65 | Avg Loss: 0.2806 | Avg Precision: 87.07%\n"
     ]
    },
    {
     "name": "stderr",
     "output_type": "stream",
     "text": [
      "Train: 100%|\u001B[32m████████████████████████\u001B[0m| 295/295 [01:07<00:00,  4.35batch/s, Loss: 0.2219 | Precision: 87.04%]\u001B[0m\n"
     ]
    },
    {
     "name": "stdout",
     "output_type": "stream",
     "text": [
      "Epoch 66 | Avg Loss: 0.2804 | Avg Precision: 87.06%\n"
     ]
    },
    {
     "name": "stderr",
     "output_type": "stream",
     "text": [
      "Train: 100%|\u001B[32m████████████████████████\u001B[0m| 295/295 [01:07<00:00,  4.35batch/s, Loss: 0.2217 | Precision: 86.89%]\u001B[0m\n"
     ]
    },
    {
     "name": "stdout",
     "output_type": "stream",
     "text": [
      "Epoch 67 | Avg Loss: 0.2830 | Avg Precision: 86.99%\n"
     ]
    },
    {
     "name": "stderr",
     "output_type": "stream",
     "text": [
      "Train: 100%|\u001B[32m████████████████████████\u001B[0m| 295/295 [01:07<00:00,  4.36batch/s, Loss: 0.2557 | Precision: 87.03%]\u001B[0m\n"
     ]
    },
    {
     "name": "stdout",
     "output_type": "stream",
     "text": [
      "Epoch 68 | Avg Loss: 0.2805 | Avg Precision: 87.11%\n"
     ]
    },
    {
     "name": "stderr",
     "output_type": "stream",
     "text": [
      "Validate: 100%|\u001B[34m███████████████████████\u001B[0m| 74/74 [00:13<00:00,  5.34batch/s, Loss: 0.3261 | Precision: 86.96%]\u001B[0m\n"
     ]
    },
    {
     "name": "stdout",
     "output_type": "stream",
     "text": [
      "Epoch 00017: reducing learning rate of group 0 to 8.1000e-03.\n",
      "Epoch 68 | Avg Loss: 0.2968 | Avg Precision: 86.81% | Patience: 2\n"
     ]
    },
    {
     "name": "stderr",
     "output_type": "stream",
     "text": [
      "Train: 100%|\u001B[32m████████████████████████\u001B[0m| 295/295 [01:07<00:00,  4.35batch/s, Loss: 0.1937 | Precision: 87.04%]\u001B[0m\n"
     ]
    },
    {
     "name": "stdout",
     "output_type": "stream",
     "text": [
      "Epoch 69 | Avg Loss: 0.2801 | Avg Precision: 87.08%\n"
     ]
    },
    {
     "name": "stderr",
     "output_type": "stream",
     "text": [
      "Train: 100%|\u001B[32m████████████████████████\u001B[0m| 295/295 [01:07<00:00,  4.36batch/s, Loss: 0.2171 | Precision: 87.20%]\u001B[0m\n"
     ]
    },
    {
     "name": "stdout",
     "output_type": "stream",
     "text": [
      "Epoch 70 | Avg Loss: 0.2778 | Avg Precision: 87.22%\n"
     ]
    },
    {
     "name": "stderr",
     "output_type": "stream",
     "text": [
      "Train: 100%|\u001B[32m████████████████████████\u001B[0m| 295/295 [01:07<00:00,  4.35batch/s, Loss: 0.2063 | Precision: 87.25%]\u001B[0m\n"
     ]
    },
    {
     "name": "stdout",
     "output_type": "stream",
     "text": [
      "Epoch 71 | Avg Loss: 0.2762 | Avg Precision: 87.41%\n"
     ]
    },
    {
     "name": "stderr",
     "output_type": "stream",
     "text": [
      "Train: 100%|\u001B[32m████████████████████████\u001B[0m| 295/295 [01:06<00:00,  4.42batch/s, Loss: 0.2054 | Precision: 87.12%]\u001B[0m\n"
     ]
    },
    {
     "name": "stdout",
     "output_type": "stream",
     "text": [
      "Epoch 72 | Avg Loss: 0.2786 | Avg Precision: 87.20%\n"
     ]
    },
    {
     "name": "stderr",
     "output_type": "stream",
     "text": [
      "Validate: 100%|\u001B[34m███████████████████████\u001B[0m| 74/74 [00:13<00:00,  5.49batch/s, Loss: 0.3337 | Precision: 87.52%]\u001B[0m\n"
     ]
    },
    {
     "name": "stdout",
     "output_type": "stream",
     "text": [
      "Epoch 72 | Avg Loss: 0.2952 | Avg Precision: 87.38% | Patience: 0\n"
     ]
    },
    {
     "name": "stderr",
     "output_type": "stream",
     "text": [
      "Train: 100%|\u001B[32m████████████████████████\u001B[0m| 295/295 [01:05<00:00,  4.49batch/s, Loss: 0.2260 | Precision: 87.22%]\u001B[0m\n"
     ]
    },
    {
     "name": "stdout",
     "output_type": "stream",
     "text": [
      "Epoch 73 | Avg Loss: 0.2773 | Avg Precision: 87.35%\n"
     ]
    },
    {
     "name": "stderr",
     "output_type": "stream",
     "text": [
      "Train: 100%|\u001B[32m████████████████████████\u001B[0m| 295/295 [01:05<00:00,  4.47batch/s, Loss: 0.2340 | Precision: 87.15%]\u001B[0m\n"
     ]
    },
    {
     "name": "stdout",
     "output_type": "stream",
     "text": [
      "Epoch 74 | Avg Loss: 0.2777 | Avg Precision: 87.33%\n"
     ]
    },
    {
     "name": "stderr",
     "output_type": "stream",
     "text": [
      "Train: 100%|\u001B[32m████████████████████████\u001B[0m| 295/295 [01:05<00:00,  4.49batch/s, Loss: 0.2490 | Precision: 87.21%]\u001B[0m\n"
     ]
    },
    {
     "name": "stdout",
     "output_type": "stream",
     "text": [
      "Epoch 75 | Avg Loss: 0.2771 | Avg Precision: 87.34%\n"
     ]
    },
    {
     "name": "stderr",
     "output_type": "stream",
     "text": [
      "Train: 100%|\u001B[32m████████████████████████\u001B[0m| 295/295 [01:06<00:00,  4.45batch/s, Loss: 0.2083 | Precision: 87.17%]\u001B[0m\n"
     ]
    },
    {
     "name": "stdout",
     "output_type": "stream",
     "text": [
      "Epoch 76 | Avg Loss: 0.2776 | Avg Precision: 87.27%\n"
     ]
    },
    {
     "name": "stderr",
     "output_type": "stream",
     "text": [
      "Validate: 100%|\u001B[34m███████████████████████\u001B[0m| 74/74 [00:13<00:00,  5.55batch/s, Loss: 0.3529 | Precision: 87.35%]\u001B[0m\n"
     ]
    },
    {
     "name": "stdout",
     "output_type": "stream",
     "text": [
      "Epoch 76 | Avg Loss: 0.3030 | Avg Precision: 87.25% | Patience: 1\n"
     ]
    },
    {
     "name": "stderr",
     "output_type": "stream",
     "text": [
      "Train: 100%|\u001B[32m████████████████████████\u001B[0m| 295/295 [01:05<00:00,  4.48batch/s, Loss: 0.2088 | Precision: 87.22%]\u001B[0m\n"
     ]
    },
    {
     "name": "stdout",
     "output_type": "stream",
     "text": [
      "Epoch 77 | Avg Loss: 0.2769 | Avg Precision: 87.27%\n"
     ]
    },
    {
     "name": "stderr",
     "output_type": "stream",
     "text": [
      "Train: 100%|\u001B[32m████████████████████████\u001B[0m| 295/295 [01:05<00:00,  4.48batch/s, Loss: 0.1975 | Precision: 87.25%]\u001B[0m\n"
     ]
    },
    {
     "name": "stdout",
     "output_type": "stream",
     "text": [
      "Epoch 78 | Avg Loss: 0.2759 | Avg Precision: 87.34%\n"
     ]
    },
    {
     "name": "stderr",
     "output_type": "stream",
     "text": [
      "Train: 100%|\u001B[32m████████████████████████\u001B[0m| 295/295 [01:05<00:00,  4.49batch/s, Loss: 0.2255 | Precision: 87.25%]\u001B[0m\n"
     ]
    },
    {
     "name": "stdout",
     "output_type": "stream",
     "text": [
      "Epoch 79 | Avg Loss: 0.2768 | Avg Precision: 87.26%\n"
     ]
    },
    {
     "name": "stderr",
     "output_type": "stream",
     "text": [
      "Train: 100%|\u001B[32m████████████████████████\u001B[0m| 295/295 [01:05<00:00,  4.47batch/s, Loss: 0.2183 | Precision: 87.28%]\u001B[0m\n"
     ]
    },
    {
     "name": "stdout",
     "output_type": "stream",
     "text": [
      "Epoch 80 | Avg Loss: 0.2751 | Avg Precision: 87.34%\n"
     ]
    },
    {
     "name": "stderr",
     "output_type": "stream",
     "text": [
      "Validate: 100%|\u001B[34m███████████████████████\u001B[0m| 74/74 [00:13<00:00,  5.55batch/s, Loss: 0.3448 | Precision: 87.71%]\u001B[0m\n"
     ]
    },
    {
     "name": "stdout",
     "output_type": "stream",
     "text": [
      "Epoch 80 | Avg Loss: 0.2899 | Avg Precision: 87.64% | Patience: 0\n"
     ]
    },
    {
     "name": "stderr",
     "output_type": "stream",
     "text": [
      "Train: 100%|\u001B[32m████████████████████████\u001B[0m| 295/295 [01:05<00:00,  4.48batch/s, Loss: 0.2003 | Precision: 87.34%]\u001B[0m\n"
     ]
    },
    {
     "name": "stdout",
     "output_type": "stream",
     "text": [
      "Epoch 81 | Avg Loss: 0.2777 | Avg Precision: 87.45%\n"
     ]
    },
    {
     "name": "stderr",
     "output_type": "stream",
     "text": [
      "Train: 100%|\u001B[32m████████████████████████\u001B[0m| 295/295 [01:05<00:00,  4.48batch/s, Loss: 0.1951 | Precision: 87.35%]\u001B[0m\n"
     ]
    },
    {
     "name": "stdout",
     "output_type": "stream",
     "text": [
      "Epoch 82 | Avg Loss: 0.2746 | Avg Precision: 87.41%\n"
     ]
    },
    {
     "name": "stderr",
     "output_type": "stream",
     "text": [
      "Train: 100%|\u001B[32m████████████████████████\u001B[0m| 295/295 [01:05<00:00,  4.48batch/s, Loss: 0.2235 | Precision: 87.39%]\u001B[0m\n"
     ]
    },
    {
     "name": "stdout",
     "output_type": "stream",
     "text": [
      "Epoch 83 | Avg Loss: 0.2739 | Avg Precision: 87.35%\n"
     ]
    },
    {
     "name": "stderr",
     "output_type": "stream",
     "text": [
      "Train: 100%|\u001B[32m████████████████████████\u001B[0m| 295/295 [01:06<00:00,  4.47batch/s, Loss: 0.2134 | Precision: 87.33%]\u001B[0m\n"
     ]
    },
    {
     "name": "stdout",
     "output_type": "stream",
     "text": [
      "Epoch 84 | Avg Loss: 0.2747 | Avg Precision: 87.49%\n"
     ]
    },
    {
     "name": "stderr",
     "output_type": "stream",
     "text": [
      "Validate: 100%|\u001B[34m███████████████████████\u001B[0m| 74/74 [00:13<00:00,  5.35batch/s, Loss: 0.3293 | Precision: 87.75%]\u001B[0m\n"
     ]
    },
    {
     "name": "stdout",
     "output_type": "stream",
     "text": [
      "Epoch 84 | Avg Loss: 0.2885 | Avg Precision: 87.67% | Patience: 0\n"
     ]
    },
    {
     "name": "stderr",
     "output_type": "stream",
     "text": [
      "Train: 100%|\u001B[32m████████████████████████\u001B[0m| 295/295 [01:05<00:00,  4.49batch/s, Loss: 0.2163 | Precision: 87.34%]\u001B[0m\n"
     ]
    },
    {
     "name": "stdout",
     "output_type": "stream",
     "text": [
      "Epoch 85 | Avg Loss: 0.2748 | Avg Precision: 87.49%\n"
     ]
    },
    {
     "name": "stderr",
     "output_type": "stream",
     "text": [
      "Train: 100%|\u001B[32m████████████████████████\u001B[0m| 295/295 [01:05<00:00,  4.48batch/s, Loss: 0.1968 | Precision: 87.41%]\u001B[0m\n"
     ]
    },
    {
     "name": "stdout",
     "output_type": "stream",
     "text": [
      "Epoch 86 | Avg Loss: 0.2735 | Avg Precision: 87.53%\n"
     ]
    },
    {
     "name": "stderr",
     "output_type": "stream",
     "text": [
      "Train: 100%|\u001B[32m████████████████████████\u001B[0m| 295/295 [01:05<00:00,  4.49batch/s, Loss: 0.1959 | Precision: 87.40%]\u001B[0m\n"
     ]
    },
    {
     "name": "stdout",
     "output_type": "stream",
     "text": [
      "Epoch 87 | Avg Loss: 0.2736 | Avg Precision: 87.47%\n"
     ]
    },
    {
     "name": "stderr",
     "output_type": "stream",
     "text": [
      "Train: 100%|\u001B[32m████████████████████████\u001B[0m| 295/295 [01:05<00:00,  4.49batch/s, Loss: 0.1822 | Precision: 87.26%]\u001B[0m\n"
     ]
    },
    {
     "name": "stdout",
     "output_type": "stream",
     "text": [
      "Epoch 88 | Avg Loss: 0.2766 | Avg Precision: 87.38%\n"
     ]
    },
    {
     "name": "stderr",
     "output_type": "stream",
     "text": [
      "Validate: 100%|\u001B[34m███████████████████████\u001B[0m| 74/74 [00:13<00:00,  5.51batch/s, Loss: 0.3585 | Precision: 87.45%]\u001B[0m\n"
     ]
    },
    {
     "name": "stdout",
     "output_type": "stream",
     "text": [
      "Epoch 88 | Avg Loss: 0.3071 | Avg Precision: 87.30% | Patience: 1\n"
     ]
    },
    {
     "name": "stderr",
     "output_type": "stream",
     "text": [
      "Train: 100%|\u001B[32m████████████████████████\u001B[0m| 295/295 [01:05<00:00,  4.48batch/s, Loss: 0.2072 | Precision: 87.42%]\u001B[0m\n"
     ]
    },
    {
     "name": "stdout",
     "output_type": "stream",
     "text": [
      "Epoch 89 | Avg Loss: 0.2735 | Avg Precision: 87.40%\n"
     ]
    },
    {
     "name": "stderr",
     "output_type": "stream",
     "text": [
      "Train: 100%|\u001B[32m████████████████████████\u001B[0m| 295/295 [01:05<00:00,  4.47batch/s, Loss: 0.2149 | Precision: 87.39%]\u001B[0m\n"
     ]
    },
    {
     "name": "stdout",
     "output_type": "stream",
     "text": [
      "Epoch 90 | Avg Loss: 0.2737 | Avg Precision: 87.48%\n"
     ]
    },
    {
     "name": "stderr",
     "output_type": "stream",
     "text": [
      "Train: 100%|\u001B[32m████████████████████████\u001B[0m| 295/295 [01:05<00:00,  4.48batch/s, Loss: 0.1808 | Precision: 87.36%]\u001B[0m\n"
     ]
    },
    {
     "name": "stdout",
     "output_type": "stream",
     "text": [
      "Epoch 91 | Avg Loss: 0.2741 | Avg Precision: 87.52%\n"
     ]
    },
    {
     "name": "stderr",
     "output_type": "stream",
     "text": [
      "Train: 100%|\u001B[32m████████████████████████\u001B[0m| 295/295 [01:05<00:00,  4.48batch/s, Loss: 0.2515 | Precision: 87.17%]\u001B[0m\n"
     ]
    },
    {
     "name": "stdout",
     "output_type": "stream",
     "text": [
      "Epoch 92 | Avg Loss: 0.2777 | Avg Precision: 87.31%\n"
     ]
    },
    {
     "name": "stderr",
     "output_type": "stream",
     "text": [
      "Validate: 100%|\u001B[34m███████████████████████\u001B[0m| 74/74 [00:13<00:00,  5.55batch/s, Loss: 0.3255 | Precision: 88.03%]\u001B[0m\n"
     ]
    },
    {
     "name": "stdout",
     "output_type": "stream",
     "text": [
      "Epoch 92 | Avg Loss: 0.2864 | Avg Precision: 87.90% | Patience: 0\n"
     ]
    },
    {
     "name": "stderr",
     "output_type": "stream",
     "text": [
      "Train: 100%|\u001B[32m████████████████████████\u001B[0m| 295/295 [01:05<00:00,  4.49batch/s, Loss: 0.1930 | Precision: 87.34%]\u001B[0m\n"
     ]
    },
    {
     "name": "stdout",
     "output_type": "stream",
     "text": [
      "Epoch 93 | Avg Loss: 0.2745 | Avg Precision: 87.50%\n"
     ]
    },
    {
     "name": "stderr",
     "output_type": "stream",
     "text": [
      "Train: 100%|\u001B[32m████████████████████████\u001B[0m| 295/295 [01:05<00:00,  4.48batch/s, Loss: 0.2030 | Precision: 87.38%]\u001B[0m\n"
     ]
    },
    {
     "name": "stdout",
     "output_type": "stream",
     "text": [
      "Epoch 94 | Avg Loss: 0.2733 | Avg Precision: 87.53%\n"
     ]
    },
    {
     "name": "stderr",
     "output_type": "stream",
     "text": [
      "Train: 100%|\u001B[32m████████████████████████\u001B[0m| 295/295 [01:05<00:00,  4.50batch/s, Loss: 0.1954 | Precision: 87.42%]\u001B[0m\n"
     ]
    },
    {
     "name": "stdout",
     "output_type": "stream",
     "text": [
      "Epoch 95 | Avg Loss: 0.2736 | Avg Precision: 87.43%\n"
     ]
    },
    {
     "name": "stderr",
     "output_type": "stream",
     "text": [
      "Train: 100%|\u001B[32m████████████████████████\u001B[0m| 295/295 [01:05<00:00,  4.48batch/s, Loss: 0.2136 | Precision: 87.43%]\u001B[0m\n"
     ]
    },
    {
     "name": "stdout",
     "output_type": "stream",
     "text": [
      "Epoch 96 | Avg Loss: 0.2738 | Avg Precision: 87.56%\n"
     ]
    },
    {
     "name": "stderr",
     "output_type": "stream",
     "text": [
      "Validate: 100%|\u001B[34m███████████████████████\u001B[0m| 74/74 [00:13<00:00,  5.56batch/s, Loss: 0.3321 | Precision: 87.81%]\u001B[0m\n"
     ]
    },
    {
     "name": "stdout",
     "output_type": "stream",
     "text": [
      "Epoch 96 | Avg Loss: 0.2905 | Avg Precision: 87.75% | Patience: 1\n"
     ]
    },
    {
     "name": "stderr",
     "output_type": "stream",
     "text": [
      "Train: 100%|\u001B[32m████████████████████████\u001B[0m| 295/295 [01:05<00:00,  4.48batch/s, Loss: 0.2036 | Precision: 87.43%]\u001B[0m\n"
     ]
    },
    {
     "name": "stdout",
     "output_type": "stream",
     "text": [
      "Epoch 97 | Avg Loss: 0.2739 | Avg Precision: 87.47%\n"
     ]
    },
    {
     "name": "stderr",
     "output_type": "stream",
     "text": [
      "Train: 100%|\u001B[32m████████████████████████\u001B[0m| 295/295 [01:05<00:00,  4.49batch/s, Loss: 0.2716 | Precision: 87.43%]\u001B[0m\n"
     ]
    },
    {
     "name": "stdout",
     "output_type": "stream",
     "text": [
      "Epoch 98 | Avg Loss: 0.2734 | Avg Precision: 87.40%\n"
     ]
    },
    {
     "name": "stderr",
     "output_type": "stream",
     "text": [
      "Train: 100%|\u001B[32m████████████████████████\u001B[0m| 295/295 [01:05<00:00,  4.48batch/s, Loss: 0.3020 | Precision: 87.43%]\u001B[0m\n"
     ]
    },
    {
     "name": "stdout",
     "output_type": "stream",
     "text": [
      "Epoch 99 | Avg Loss: 0.2738 | Avg Precision: 87.54%\n"
     ]
    },
    {
     "name": "stderr",
     "output_type": "stream",
     "text": [
      "Train: 100%|\u001B[32m████████████████████████\u001B[0m| 295/295 [01:05<00:00,  4.48batch/s, Loss: 0.1864 | Precision: 87.48%]\u001B[0m\n"
     ]
    },
    {
     "name": "stdout",
     "output_type": "stream",
     "text": [
      "Epoch 100 | Avg Loss: 0.2727 | Avg Precision: 87.59%\n"
     ]
    },
    {
     "name": "stderr",
     "output_type": "stream",
     "text": [
      "Validate: 100%|\u001B[34m███████████████████████\u001B[0m| 74/74 [00:13<00:00,  5.51batch/s, Loss: 0.3386 | Precision: 87.55%]\u001B[0m\n"
     ]
    },
    {
     "name": "stdout",
     "output_type": "stream",
     "text": [
      "Epoch 00025: reducing learning rate of group 0 to 7.2900e-03.\n",
      "Epoch 100 | Avg Loss: 0.2935 | Avg Precision: 87.49% | Patience: 2\n"
     ]
    },
    {
     "name": "stderr",
     "output_type": "stream",
     "text": [
      "Train: 100%|\u001B[32m████████████████████████\u001B[0m| 295/295 [01:05<00:00,  4.48batch/s, Loss: 0.2034 | Precision: 87.51%]\u001B[0m\n"
     ]
    },
    {
     "name": "stdout",
     "output_type": "stream",
     "text": [
      "Epoch 101 | Avg Loss: 0.2722 | Avg Precision: 87.60%\n"
     ]
    },
    {
     "name": "stderr",
     "output_type": "stream",
     "text": [
      "Train: 100%|\u001B[32m████████████████████████\u001B[0m| 295/295 [01:05<00:00,  4.48batch/s, Loss: 0.2221 | Precision: 87.62%]\u001B[0m\n"
     ]
    },
    {
     "name": "stdout",
     "output_type": "stream",
     "text": [
      "Epoch 102 | Avg Loss: 0.2705 | Avg Precision: 87.72%\n"
     ]
    },
    {
     "name": "stderr",
     "output_type": "stream",
     "text": [
      "Train: 100%|\u001B[32m████████████████████████\u001B[0m| 295/295 [01:05<00:00,  4.47batch/s, Loss: 0.1884 | Precision: 87.65%]\u001B[0m\n"
     ]
    },
    {
     "name": "stdout",
     "output_type": "stream",
     "text": [
      "Epoch 103 | Avg Loss: 0.2700 | Avg Precision: 87.80%\n"
     ]
    },
    {
     "name": "stderr",
     "output_type": "stream",
     "text": [
      "Train: 100%|\u001B[32m████████████████████████\u001B[0m| 295/295 [01:05<00:00,  4.49batch/s, Loss: 0.2012 | Precision: 87.50%]\u001B[0m\n"
     ]
    },
    {
     "name": "stdout",
     "output_type": "stream",
     "text": [
      "Epoch 104 | Avg Loss: 0.2719 | Avg Precision: 87.66%\n"
     ]
    },
    {
     "name": "stderr",
     "output_type": "stream",
     "text": [
      "Validate: 100%|\u001B[34m███████████████████████\u001B[0m| 74/74 [00:13<00:00,  5.50batch/s, Loss: 0.3350 | Precision: 88.16%]\u001B[0m\n"
     ]
    },
    {
     "name": "stdout",
     "output_type": "stream",
     "text": [
      "Epoch 104 | Avg Loss: 0.2910 | Avg Precision: 88.10% | Patience: 0\n"
     ]
    },
    {
     "name": "stderr",
     "output_type": "stream",
     "text": [
      "Train: 100%|\u001B[32m████████████████████████\u001B[0m| 295/295 [01:05<00:00,  4.48batch/s, Loss: 0.1941 | Precision: 87.67%]\u001B[0m\n"
     ]
    },
    {
     "name": "stdout",
     "output_type": "stream",
     "text": [
      "Epoch 105 | Avg Loss: 0.2681 | Avg Precision: 87.77%\n"
     ]
    },
    {
     "name": "stderr",
     "output_type": "stream",
     "text": [
      "Train: 100%|\u001B[32m████████████████████████\u001B[0m| 295/295 [01:06<00:00,  4.47batch/s, Loss: 0.1920 | Precision: 87.65%]\u001B[0m\n"
     ]
    },
    {
     "name": "stdout",
     "output_type": "stream",
     "text": [
      "Epoch 106 | Avg Loss: 0.2690 | Avg Precision: 87.72%\n"
     ]
    },
    {
     "name": "stderr",
     "output_type": "stream",
     "text": [
      "Train: 100%|\u001B[32m████████████████████████\u001B[0m| 295/295 [01:05<00:00,  4.47batch/s, Loss: 0.2410 | Precision: 87.62%]\u001B[0m\n"
     ]
    },
    {
     "name": "stdout",
     "output_type": "stream",
     "text": [
      "Epoch 107 | Avg Loss: 0.2702 | Avg Precision: 87.83%\n"
     ]
    },
    {
     "name": "stderr",
     "output_type": "stream",
     "text": [
      "Train: 100%|\u001B[32m████████████████████████\u001B[0m| 295/295 [01:05<00:00,  4.48batch/s, Loss: 0.1729 | Precision: 87.69%]\u001B[0m\n"
     ]
    },
    {
     "name": "stdout",
     "output_type": "stream",
     "text": [
      "Epoch 108 | Avg Loss: 0.2691 | Avg Precision: 87.75%\n"
     ]
    },
    {
     "name": "stderr",
     "output_type": "stream",
     "text": [
      "Validate: 100%|\u001B[34m███████████████████████\u001B[0m| 74/74 [00:13<00:00,  5.55batch/s, Loss: 0.3133 | Precision: 88.02%]\u001B[0m\n"
     ]
    },
    {
     "name": "stdout",
     "output_type": "stream",
     "text": [
      "Epoch 108 | Avg Loss: 0.2825 | Avg Precision: 87.94% | Patience: 1\n"
     ]
    },
    {
     "name": "stderr",
     "output_type": "stream",
     "text": [
      "Train: 100%|\u001B[32m████████████████████████\u001B[0m| 295/295 [01:05<00:00,  4.49batch/s, Loss: 0.1818 | Precision: 87.59%]\u001B[0m\n"
     ]
    },
    {
     "name": "stdout",
     "output_type": "stream",
     "text": [
      "Epoch 109 | Avg Loss: 0.2704 | Avg Precision: 87.67%\n"
     ]
    },
    {
     "name": "stderr",
     "output_type": "stream",
     "text": [
      "Train: 100%|\u001B[32m████████████████████████\u001B[0m| 295/295 [01:06<00:00,  4.46batch/s, Loss: 0.1844 | Precision: 87.65%]\u001B[0m\n"
     ]
    },
    {
     "name": "stdout",
     "output_type": "stream",
     "text": [
      "Epoch 110 | Avg Loss: 0.2683 | Avg Precision: 87.71%\n"
     ]
    },
    {
     "name": "stderr",
     "output_type": "stream",
     "text": [
      "Train: 100%|\u001B[32m████████████████████████\u001B[0m| 295/295 [01:06<00:00,  4.46batch/s, Loss: 0.1902 | Precision: 87.65%]\u001B[0m\n"
     ]
    },
    {
     "name": "stdout",
     "output_type": "stream",
     "text": [
      "Epoch 111 | Avg Loss: 0.2684 | Avg Precision: 87.76%\n"
     ]
    },
    {
     "name": "stderr",
     "output_type": "stream",
     "text": [
      "Train: 100%|\u001B[32m████████████████████████\u001B[0m| 295/295 [01:05<00:00,  4.48batch/s, Loss: 0.2039 | Precision: 87.58%]\u001B[0m\n"
     ]
    },
    {
     "name": "stdout",
     "output_type": "stream",
     "text": [
      "Epoch 112 | Avg Loss: 0.2708 | Avg Precision: 87.68%\n"
     ]
    },
    {
     "name": "stderr",
     "output_type": "stream",
     "text": [
      "Validate: 100%|\u001B[34m███████████████████████\u001B[0m| 74/74 [00:13<00:00,  5.54batch/s, Loss: 0.3199 | Precision: 87.52%]\u001B[0m\n"
     ]
    },
    {
     "name": "stdout",
     "output_type": "stream",
     "text": [
      "Epoch 00028: reducing learning rate of group 0 to 6.5610e-03.\n",
      "Epoch 112 | Avg Loss: 0.2829 | Avg Precision: 87.46% | Patience: 2\n"
     ]
    },
    {
     "name": "stderr",
     "output_type": "stream",
     "text": [
      "Train: 100%|\u001B[32m████████████████████████\u001B[0m| 295/295 [01:06<00:00,  4.46batch/s, Loss: 0.1942 | Precision: 87.80%]\u001B[0m\n"
     ]
    },
    {
     "name": "stdout",
     "output_type": "stream",
     "text": [
      "Epoch 113 | Avg Loss: 0.2669 | Avg Precision: 87.92%\n"
     ]
    },
    {
     "name": "stderr",
     "output_type": "stream",
     "text": [
      "Train: 100%|\u001B[32m████████████████████████\u001B[0m| 295/295 [01:05<00:00,  4.49batch/s, Loss: 0.2271 | Precision: 87.82%]\u001B[0m\n"
     ]
    },
    {
     "name": "stdout",
     "output_type": "stream",
     "text": [
      "Epoch 114 | Avg Loss: 0.2662 | Avg Precision: 88.02%\n"
     ]
    },
    {
     "name": "stderr",
     "output_type": "stream",
     "text": [
      "Train: 100%|\u001B[32m████████████████████████\u001B[0m| 295/295 [01:05<00:00,  4.48batch/s, Loss: 0.1842 | Precision: 87.80%]\u001B[0m\n"
     ]
    },
    {
     "name": "stdout",
     "output_type": "stream",
     "text": [
      "Epoch 115 | Avg Loss: 0.2666 | Avg Precision: 87.90%\n"
     ]
    },
    {
     "name": "stderr",
     "output_type": "stream",
     "text": [
      "Train: 100%|\u001B[32m████████████████████████\u001B[0m| 295/295 [01:05<00:00,  4.47batch/s, Loss: 0.1873 | Precision: 87.86%]\u001B[0m\n"
     ]
    },
    {
     "name": "stdout",
     "output_type": "stream",
     "text": [
      "Epoch 116 | Avg Loss: 0.2653 | Avg Precision: 87.98%\n"
     ]
    },
    {
     "name": "stderr",
     "output_type": "stream",
     "text": [
      "Validate: 100%|\u001B[34m███████████████████████\u001B[0m| 74/74 [00:13<00:00,  5.54batch/s, Loss: 0.3292 | Precision: 87.89%]\u001B[0m\n"
     ]
    },
    {
     "name": "stdout",
     "output_type": "stream",
     "text": [
      "Epoch 116 | Avg Loss: 0.2816 | Avg Precision: 87.96% | Patience: 3\n"
     ]
    },
    {
     "name": "stderr",
     "output_type": "stream",
     "text": [
      "Train: 100%|\u001B[32m████████████████████████\u001B[0m| 295/295 [01:05<00:00,  4.49batch/s, Loss: 0.1865 | Precision: 87.56%]\u001B[0m\n"
     ]
    },
    {
     "name": "stdout",
     "output_type": "stream",
     "text": [
      "Epoch 117 | Avg Loss: 0.2710 | Avg Precision: 87.59%\n"
     ]
    },
    {
     "name": "stderr",
     "output_type": "stream",
     "text": [
      "Train: 100%|\u001B[32m████████████████████████\u001B[0m| 295/295 [01:05<00:00,  4.49batch/s, Loss: 0.2051 | Precision: 87.77%]\u001B[0m\n"
     ]
    },
    {
     "name": "stdout",
     "output_type": "stream",
     "text": [
      "Epoch 118 | Avg Loss: 0.2670 | Avg Precision: 87.88%\n"
     ]
    },
    {
     "name": "stderr",
     "output_type": "stream",
     "text": [
      "Train: 100%|\u001B[32m████████████████████████\u001B[0m| 295/295 [01:05<00:00,  4.48batch/s, Loss: 0.1861 | Precision: 87.83%]\u001B[0m\n"
     ]
    },
    {
     "name": "stdout",
     "output_type": "stream",
     "text": [
      "Epoch 119 | Avg Loss: 0.2659 | Avg Precision: 87.93%\n"
     ]
    },
    {
     "name": "stderr",
     "output_type": "stream",
     "text": [
      "Train: 100%|\u001B[32m████████████████████████\u001B[0m| 295/295 [01:05<00:00,  4.49batch/s, Loss: 0.2427 | Precision: 87.82%]\u001B[0m\n"
     ]
    },
    {
     "name": "stdout",
     "output_type": "stream",
     "text": [
      "Epoch 120 | Avg Loss: 0.2658 | Avg Precision: 87.99%\n"
     ]
    },
    {
     "name": "stderr",
     "output_type": "stream",
     "text": [
      "Validate: 100%|\u001B[34m███████████████████████\u001B[0m| 74/74 [00:13<00:00,  5.46batch/s, Loss: 0.3155 | Precision: 87.45%]\u001B[0m\n"
     ]
    },
    {
     "name": "stdout",
     "output_type": "stream",
     "text": [
      "Epoch 00030: reducing learning rate of group 0 to 5.9049e-03.\n",
      "Epoch 120 | Avg Loss: 0.2752 | Avg Precision: 87.41% | Patience: 4\n"
     ]
    },
    {
     "name": "stderr",
     "output_type": "stream",
     "text": [
      "Train: 100%|\u001B[32m████████████████████████\u001B[0m| 295/295 [01:05<00:00,  4.49batch/s, Loss: 0.1739 | Precision: 87.95%]\u001B[0m\n"
     ]
    },
    {
     "name": "stdout",
     "output_type": "stream",
     "text": [
      "Epoch 121 | Avg Loss: 0.2639 | Avg Precision: 88.04%\n"
     ]
    },
    {
     "name": "stderr",
     "output_type": "stream",
     "text": [
      "Train: 100%|\u001B[32m████████████████████████\u001B[0m| 295/295 [01:05<00:00,  4.48batch/s, Loss: 0.2062 | Precision: 87.99%]\u001B[0m\n"
     ]
    },
    {
     "name": "stdout",
     "output_type": "stream",
     "text": [
      "Epoch 122 | Avg Loss: 0.2630 | Avg Precision: 88.14%\n"
     ]
    },
    {
     "name": "stderr",
     "output_type": "stream",
     "text": [
      "Train: 100%|\u001B[32m████████████████████████\u001B[0m| 295/295 [01:06<00:00,  4.46batch/s, Loss: 0.2033 | Precision: 87.99%]\u001B[0m\n"
     ]
    },
    {
     "name": "stdout",
     "output_type": "stream",
     "text": [
      "Epoch 123 | Avg Loss: 0.2632 | Avg Precision: 88.17%\n"
     ]
    },
    {
     "name": "stderr",
     "output_type": "stream",
     "text": [
      "Train: 100%|\u001B[32m████████████████████████\u001B[0m| 295/295 [01:06<00:00,  4.47batch/s, Loss: 0.1787 | Precision: 87.96%]\u001B[0m\n"
     ]
    },
    {
     "name": "stdout",
     "output_type": "stream",
     "text": [
      "Epoch 124 | Avg Loss: 0.2633 | Avg Precision: 88.08%\n"
     ]
    },
    {
     "name": "stderr",
     "output_type": "stream",
     "text": [
      "Validate: 100%|\u001B[34m███████████████████████\u001B[0m| 74/74 [00:13<00:00,  5.48batch/s, Loss: 0.3141 | Precision: 88.17%]\u001B[0m\n"
     ]
    },
    {
     "name": "stdout",
     "output_type": "stream",
     "text": [
      "Epoch 124 | Avg Loss: 0.2758 | Avg Precision: 88.05% | Patience: 5\n"
     ]
    },
    {
     "name": "stderr",
     "output_type": "stream",
     "text": [
      "Train: 100%|\u001B[32m████████████████████████\u001B[0m| 295/295 [01:06<00:00,  4.43batch/s, Loss: 0.1931 | Precision: 87.88%]\u001B[0m\n"
     ]
    },
    {
     "name": "stdout",
     "output_type": "stream",
     "text": [
      "Epoch 125 | Avg Loss: 0.2649 | Avg Precision: 87.92%\n"
     ]
    },
    {
     "name": "stderr",
     "output_type": "stream",
     "text": [
      "Train: 100%|\u001B[32m████████████████████████\u001B[0m| 295/295 [01:06<00:00,  4.42batch/s, Loss: 0.1814 | Precision: 87.98%]\u001B[0m\n"
     ]
    },
    {
     "name": "stdout",
     "output_type": "stream",
     "text": [
      "Epoch 126 | Avg Loss: 0.2633 | Avg Precision: 88.14%\n"
     ]
    },
    {
     "name": "stderr",
     "output_type": "stream",
     "text": [
      "Train: 100%|\u001B[32m████████████████████████\u001B[0m| 295/295 [01:05<00:00,  4.48batch/s, Loss: 0.1771 | Precision: 88.00%]\u001B[0m\n"
     ]
    },
    {
     "name": "stdout",
     "output_type": "stream",
     "text": [
      "Epoch 127 | Avg Loss: 0.2627 | Avg Precision: 88.08%\n"
     ]
    },
    {
     "name": "stderr",
     "output_type": "stream",
     "text": [
      "Train: 100%|\u001B[32m████████████████████████\u001B[0m| 295/295 [01:06<00:00,  4.44batch/s, Loss: 0.2004 | Precision: 88.01%]\u001B[0m\n"
     ]
    },
    {
     "name": "stdout",
     "output_type": "stream",
     "text": [
      "Epoch 128 | Avg Loss: 0.2622 | Avg Precision: 88.20%\n"
     ]
    },
    {
     "name": "stderr",
     "output_type": "stream",
     "text": [
      "Validate: 100%|\u001B[34m███████████████████████\u001B[0m| 74/74 [00:13<00:00,  5.50batch/s, Loss: 0.3243 | Precision: 87.80%]\u001B[0m\n"
     ]
    },
    {
     "name": "stdout",
     "output_type": "stream",
     "text": [
      "Epoch 00032: reducing learning rate of group 0 to 5.3144e-03.\n",
      "Epoch 128 | Avg Loss: 0.2780 | Avg Precision: 87.71% | Patience: 6\n"
     ]
    },
    {
     "name": "stderr",
     "output_type": "stream",
     "text": [
      "Train: 100%|\u001B[32m████████████████████████\u001B[0m| 295/295 [01:06<00:00,  4.43batch/s, Loss: 0.1972 | Precision: 88.02%]\u001B[0m\n"
     ]
    },
    {
     "name": "stdout",
     "output_type": "stream",
     "text": [
      "Epoch 129 | Avg Loss: 0.2616 | Avg Precision: 88.08%\n"
     ]
    },
    {
     "name": "stderr",
     "output_type": "stream",
     "text": [
      "Train: 100%|\u001B[32m████████████████████████\u001B[0m| 295/295 [01:06<00:00,  4.46batch/s, Loss: 0.2014 | Precision: 88.02%]\u001B[0m\n"
     ]
    },
    {
     "name": "stdout",
     "output_type": "stream",
     "text": [
      "Epoch 130 | Avg Loss: 0.2612 | Avg Precision: 88.13%\n"
     ]
    },
    {
     "name": "stderr",
     "output_type": "stream",
     "text": [
      "Train: 100%|\u001B[32m████████████████████████\u001B[0m| 295/295 [01:06<00:00,  4.45batch/s, Loss: 0.1703 | Precision: 88.11%]\u001B[0m\n"
     ]
    },
    {
     "name": "stdout",
     "output_type": "stream",
     "text": [
      "Epoch 131 | Avg Loss: 0.2600 | Avg Precision: 88.21%\n"
     ]
    },
    {
     "name": "stderr",
     "output_type": "stream",
     "text": [
      "Train: 100%|\u001B[32m████████████████████████\u001B[0m| 295/295 [01:06<00:00,  4.44batch/s, Loss: 0.2407 | Precision: 88.10%]\u001B[0m\n"
     ]
    },
    {
     "name": "stdout",
     "output_type": "stream",
     "text": [
      "Epoch 132 | Avg Loss: 0.2608 | Avg Precision: 88.21%\n"
     ]
    },
    {
     "name": "stderr",
     "output_type": "stream",
     "text": [
      "Validate: 100%|\u001B[34m███████████████████████\u001B[0m| 74/74 [00:13<00:00,  5.54batch/s, Loss: 0.3189 | Precision: 87.94%]\u001B[0m\n"
     ]
    },
    {
     "name": "stdout",
     "output_type": "stream",
     "text": [
      "Epoch 132 | Avg Loss: 0.2713 | Avg Precision: 87.89% | Patience: 7\n"
     ]
    },
    {
     "name": "stderr",
     "output_type": "stream",
     "text": [
      "Train: 100%|\u001B[32m████████████████████████\u001B[0m| 295/295 [01:06<00:00,  4.45batch/s, Loss: 0.2010 | Precision: 88.12%]\u001B[0m\n"
     ]
    },
    {
     "name": "stdout",
     "output_type": "stream",
     "text": [
      "Epoch 133 | Avg Loss: 0.2608 | Avg Precision: 88.29%\n"
     ]
    },
    {
     "name": "stderr",
     "output_type": "stream",
     "text": [
      "Train: 100%|\u001B[32m████████████████████████\u001B[0m| 295/295 [01:06<00:00,  4.46batch/s, Loss: 0.1935 | Precision: 88.20%]\u001B[0m\n"
     ]
    },
    {
     "name": "stdout",
     "output_type": "stream",
     "text": [
      "Epoch 134 | Avg Loss: 0.2592 | Avg Precision: 88.27%\n"
     ]
    },
    {
     "name": "stderr",
     "output_type": "stream",
     "text": [
      "Train: 100%|\u001B[32m████████████████████████\u001B[0m| 295/295 [01:06<00:00,  4.46batch/s, Loss: 0.1801 | Precision: 88.16%]\u001B[0m\n"
     ]
    },
    {
     "name": "stdout",
     "output_type": "stream",
     "text": [
      "Epoch 135 | Avg Loss: 0.2592 | Avg Precision: 88.27%\n"
     ]
    },
    {
     "name": "stderr",
     "output_type": "stream",
     "text": [
      "Train: 100%|\u001B[32m████████████████████████\u001B[0m| 295/295 [01:06<00:00,  4.44batch/s, Loss: 0.1828 | Precision: 88.15%]\u001B[0m\n"
     ]
    },
    {
     "name": "stdout",
     "output_type": "stream",
     "text": [
      "Epoch 136 | Avg Loss: 0.2595 | Avg Precision: 88.28%\n"
     ]
    },
    {
     "name": "stderr",
     "output_type": "stream",
     "text": [
      "Validate: 100%|\u001B[34m███████████████████████\u001B[0m| 74/74 [00:13<00:00,  5.40batch/s, Loss: 0.3067 | Precision: 88.11%]\u001B[0m\n"
     ]
    },
    {
     "name": "stdout",
     "output_type": "stream",
     "text": [
      "Epoch 00034: reducing learning rate of group 0 to 4.7830e-03.\n",
      "Epoch 136 | Avg Loss: 0.2701 | Avg Precision: 88.05% | Patience: 8\n"
     ]
    },
    {
     "name": "stderr",
     "output_type": "stream",
     "text": [
      "Train: 100%|\u001B[32m████████████████████████\u001B[0m| 295/295 [01:07<00:00,  4.38batch/s, Loss: 0.1920 | Precision: 88.22%]\u001B[0m\n"
     ]
    },
    {
     "name": "stdout",
     "output_type": "stream",
     "text": [
      "Epoch 137 | Avg Loss: 0.2578 | Avg Precision: 88.28%\n"
     ]
    },
    {
     "name": "stderr",
     "output_type": "stream",
     "text": [
      "Train: 100%|\u001B[32m████████████████████████\u001B[0m| 295/295 [01:06<00:00,  4.43batch/s, Loss: 0.2131 | Precision: 88.27%]\u001B[0m\n"
     ]
    },
    {
     "name": "stdout",
     "output_type": "stream",
     "text": [
      "Epoch 138 | Avg Loss: 0.2578 | Avg Precision: 88.36%\n"
     ]
    },
    {
     "name": "stderr",
     "output_type": "stream",
     "text": [
      "Train: 100%|\u001B[32m████████████████████████\u001B[0m| 295/295 [01:06<00:00,  4.43batch/s, Loss: 0.2002 | Precision: 88.31%]\u001B[0m\n"
     ]
    },
    {
     "name": "stdout",
     "output_type": "stream",
     "text": [
      "Epoch 139 | Avg Loss: 0.2568 | Avg Precision: 88.49%\n"
     ]
    },
    {
     "name": "stderr",
     "output_type": "stream",
     "text": [
      "Train: 100%|\u001B[32m████████████████████████\u001B[0m| 295/295 [01:06<00:00,  4.46batch/s, Loss: 0.2110 | Precision: 88.29%]\u001B[0m\n"
     ]
    },
    {
     "name": "stdout",
     "output_type": "stream",
     "text": [
      "Epoch 140 | Avg Loss: 0.2576 | Avg Precision: 88.47%\n"
     ]
    },
    {
     "name": "stderr",
     "output_type": "stream",
     "text": [
      "Validate: 100%|\u001B[34m███████████████████████\u001B[0m| 74/74 [00:13<00:00,  5.47batch/s, Loss: 0.3044 | Precision: 87.97%]\u001B[0m\n"
     ]
    },
    {
     "name": "stdout",
     "output_type": "stream",
     "text": [
      "Epoch 140 | Avg Loss: 0.2657 | Avg Precision: 87.94% | Patience: 9\n"
     ]
    },
    {
     "name": "stderr",
     "output_type": "stream",
     "text": [
      "Train: 100%|\u001B[32m████████████████████████\u001B[0m| 295/295 [01:06<00:00,  4.45batch/s, Loss: 0.1778 | Precision: 88.28%]\u001B[0m\n"
     ]
    },
    {
     "name": "stdout",
     "output_type": "stream",
     "text": [
      "Epoch 141 | Avg Loss: 0.2575 | Avg Precision: 88.40%\n"
     ]
    },
    {
     "name": "stderr",
     "output_type": "stream",
     "text": [
      "Train: 100%|\u001B[32m████████████████████████\u001B[0m| 295/295 [01:06<00:00,  4.45batch/s, Loss: 0.1923 | Precision: 88.30%]\u001B[0m\n"
     ]
    },
    {
     "name": "stdout",
     "output_type": "stream",
     "text": [
      "Epoch 142 | Avg Loss: 0.2566 | Avg Precision: 88.41%\n"
     ]
    },
    {
     "name": "stderr",
     "output_type": "stream",
     "text": [
      "Train: 100%|\u001B[32m████████████████████████\u001B[0m| 295/295 [01:06<00:00,  4.44batch/s, Loss: 0.1932 | Precision: 88.35%]\u001B[0m\n"
     ]
    },
    {
     "name": "stdout",
     "output_type": "stream",
     "text": [
      "Epoch 143 | Avg Loss: 0.2567 | Avg Precision: 88.44%\n"
     ]
    },
    {
     "name": "stderr",
     "output_type": "stream",
     "text": [
      "Train: 100%|\u001B[32m████████████████████████\u001B[0m| 295/295 [01:06<00:00,  4.45batch/s, Loss: 0.1897 | Precision: 88.33%]\u001B[0m\n"
     ]
    },
    {
     "name": "stdout",
     "output_type": "stream",
     "text": [
      "Epoch 144 | Avg Loss: 0.2568 | Avg Precision: 88.50%\n"
     ]
    },
    {
     "name": "stderr",
     "output_type": "stream",
     "text": [
      "Validate: 100%|\u001B[34m███████████████████████\u001B[0m| 74/74 [00:13<00:00,  5.47batch/s, Loss: 0.2959 | Precision: 88.18%]\u001B[0m\n"
     ]
    },
    {
     "name": "stdout",
     "output_type": "stream",
     "text": [
      "Epoch 144 | Avg Loss: 0.2632 | Avg Precision: 88.14% | Patience: 0\n"
     ]
    },
    {
     "name": "stderr",
     "output_type": "stream",
     "text": [
      "Train: 100%|\u001B[32m████████████████████████\u001B[0m| 295/295 [01:06<00:00,  4.45batch/s, Loss: 0.1898 | Precision: 88.37%]\u001B[0m\n"
     ]
    },
    {
     "name": "stdout",
     "output_type": "stream",
     "text": [
      "Epoch 145 | Avg Loss: 0.2561 | Avg Precision: 88.46%\n"
     ]
    },
    {
     "name": "stderr",
     "output_type": "stream",
     "text": [
      "Train: 100%|\u001B[32m████████████████████████\u001B[0m| 295/295 [01:06<00:00,  4.43batch/s, Loss: 0.1819 | Precision: 88.29%]\u001B[0m\n"
     ]
    },
    {
     "name": "stdout",
     "output_type": "stream",
     "text": [
      "Epoch 146 | Avg Loss: 0.2569 | Avg Precision: 88.41%\n"
     ]
    },
    {
     "name": "stderr",
     "output_type": "stream",
     "text": [
      "Train: 100%|\u001B[32m████████████████████████\u001B[0m| 295/295 [01:05<00:00,  4.48batch/s, Loss: 0.1956 | Precision: 88.30%]\u001B[0m\n"
     ]
    },
    {
     "name": "stdout",
     "output_type": "stream",
     "text": [
      "Epoch 147 | Avg Loss: 0.2566 | Avg Precision: 88.45%\n"
     ]
    },
    {
     "name": "stderr",
     "output_type": "stream",
     "text": [
      "Train: 100%|\u001B[32m████████████████████████\u001B[0m| 295/295 [01:05<00:00,  4.48batch/s, Loss: 0.1906 | Precision: 88.31%]\u001B[0m\n"
     ]
    },
    {
     "name": "stdout",
     "output_type": "stream",
     "text": [
      "Epoch 148 | Avg Loss: 0.2568 | Avg Precision: 88.44%\n"
     ]
    },
    {
     "name": "stderr",
     "output_type": "stream",
     "text": [
      "Validate: 100%|\u001B[34m███████████████████████\u001B[0m| 74/74 [00:13<00:00,  5.53batch/s, Loss: 0.3062 | Precision: 88.39%]\u001B[0m\n"
     ]
    },
    {
     "name": "stdout",
     "output_type": "stream",
     "text": [
      "Epoch 148 | Avg Loss: 0.2608 | Avg Precision: 88.27% | Patience: 0\n"
     ]
    },
    {
     "name": "stderr",
     "output_type": "stream",
     "text": [
      "Train: 100%|\u001B[32m████████████████████████\u001B[0m| 295/295 [01:05<00:00,  4.48batch/s, Loss: 0.1727 | Precision: 88.41%]\u001B[0m\n"
     ]
    },
    {
     "name": "stdout",
     "output_type": "stream",
     "text": [
      "Epoch 149 | Avg Loss: 0.2553 | Avg Precision: 88.54%\n"
     ]
    },
    {
     "name": "stderr",
     "output_type": "stream",
     "text": [
      "Train: 100%|\u001B[32m████████████████████████\u001B[0m| 295/295 [01:05<00:00,  4.49batch/s, Loss: 0.1848 | Precision: 88.35%]\u001B[0m\n"
     ]
    },
    {
     "name": "stdout",
     "output_type": "stream",
     "text": [
      "Epoch 150 | Avg Loss: 0.2557 | Avg Precision: 88.47%\n"
     ]
    },
    {
     "name": "stderr",
     "output_type": "stream",
     "text": [
      "Train: 100%|\u001B[32m████████████████████████\u001B[0m| 295/295 [01:05<00:00,  4.49batch/s, Loss: 0.1813 | Precision: 88.39%]\u001B[0m\n"
     ]
    },
    {
     "name": "stdout",
     "output_type": "stream",
     "text": [
      "Epoch 151 | Avg Loss: 0.2560 | Avg Precision: 88.51%\n"
     ]
    },
    {
     "name": "stderr",
     "output_type": "stream",
     "text": [
      "Train: 100%|\u001B[32m████████████████████████\u001B[0m| 295/295 [01:05<00:00,  4.48batch/s, Loss: 0.1965 | Precision: 88.31%]\u001B[0m\n"
     ]
    },
    {
     "name": "stdout",
     "output_type": "stream",
     "text": [
      "Epoch 152 | Avg Loss: 0.2568 | Avg Precision: 88.56%\n"
     ]
    },
    {
     "name": "stderr",
     "output_type": "stream",
     "text": [
      "Validate: 100%|\u001B[34m███████████████████████\u001B[0m| 74/74 [00:13<00:00,  5.56batch/s, Loss: 0.2923 | Precision: 87.85%]\u001B[0m\n"
     ]
    },
    {
     "name": "stdout",
     "output_type": "stream",
     "text": [
      "Epoch 152 | Avg Loss: 0.2661 | Avg Precision: 87.74% | Patience: 1\n"
     ]
    },
    {
     "name": "stderr",
     "output_type": "stream",
     "text": [
      "Train: 100%|\u001B[32m████████████████████████\u001B[0m| 295/295 [01:05<00:00,  4.49batch/s, Loss: 0.1796 | Precision: 88.39%]\u001B[0m\n"
     ]
    },
    {
     "name": "stdout",
     "output_type": "stream",
     "text": [
      "Epoch 153 | Avg Loss: 0.2552 | Avg Precision: 88.58%\n"
     ]
    },
    {
     "name": "stderr",
     "output_type": "stream",
     "text": [
      "Train: 100%|\u001B[32m████████████████████████\u001B[0m| 295/295 [01:05<00:00,  4.49batch/s, Loss: 0.1918 | Precision: 88.30%]\u001B[0m\n"
     ]
    },
    {
     "name": "stdout",
     "output_type": "stream",
     "text": [
      "Epoch 154 | Avg Loss: 0.2569 | Avg Precision: 88.40%\n"
     ]
    },
    {
     "name": "stderr",
     "output_type": "stream",
     "text": [
      "Train: 100%|\u001B[32m████████████████████████\u001B[0m| 295/295 [01:05<00:00,  4.48batch/s, Loss: 0.2015 | Precision: 88.34%]\u001B[0m\n"
     ]
    },
    {
     "name": "stdout",
     "output_type": "stream",
     "text": [
      "Epoch 155 | Avg Loss: 0.2567 | Avg Precision: 88.48%\n"
     ]
    },
    {
     "name": "stderr",
     "output_type": "stream",
     "text": [
      "Train: 100%|\u001B[32m████████████████████████\u001B[0m| 295/295 [01:05<00:00,  4.50batch/s, Loss: 0.1688 | Precision: 88.36%]\u001B[0m\n"
     ]
    },
    {
     "name": "stdout",
     "output_type": "stream",
     "text": [
      "Epoch 156 | Avg Loss: 0.2558 | Avg Precision: 88.50%\n"
     ]
    },
    {
     "name": "stderr",
     "output_type": "stream",
     "text": [
      "Validate: 100%|\u001B[34m███████████████████████\u001B[0m| 74/74 [00:13<00:00,  5.53batch/s, Loss: 0.3038 | Precision: 88.09%]\u001B[0m\n"
     ]
    },
    {
     "name": "stdout",
     "output_type": "stream",
     "text": [
      "Epoch 00039: reducing learning rate of group 0 to 4.3047e-03.\n",
      "Epoch 156 | Avg Loss: 0.2699 | Avg Precision: 88.07% | Patience: 2\n"
     ]
    },
    {
     "name": "stderr",
     "output_type": "stream",
     "text": [
      "Train: 100%|\u001B[32m████████████████████████\u001B[0m| 295/295 [01:05<00:00,  4.50batch/s, Loss: 0.2019 | Precision: 88.43%]\u001B[0m\n"
     ]
    },
    {
     "name": "stdout",
     "output_type": "stream",
     "text": [
      "Epoch 157 | Avg Loss: 0.2545 | Avg Precision: 88.55%\n"
     ]
    },
    {
     "name": "stderr",
     "output_type": "stream",
     "text": [
      "Train: 100%|\u001B[32m████████████████████████\u001B[0m| 295/295 [01:05<00:00,  4.47batch/s, Loss: 0.1716 | Precision: 88.48%]\u001B[0m\n"
     ]
    },
    {
     "name": "stdout",
     "output_type": "stream",
     "text": [
      "Epoch 158 | Avg Loss: 0.2534 | Avg Precision: 88.63%\n"
     ]
    },
    {
     "name": "stderr",
     "output_type": "stream",
     "text": [
      "Train: 100%|\u001B[32m████████████████████████\u001B[0m| 295/295 [01:05<00:00,  4.49batch/s, Loss: 0.1957 | Precision: 88.43%]\u001B[0m\n"
     ]
    },
    {
     "name": "stdout",
     "output_type": "stream",
     "text": [
      "Epoch 159 | Avg Loss: 0.2545 | Avg Precision: 88.63%\n"
     ]
    },
    {
     "name": "stderr",
     "output_type": "stream",
     "text": [
      "Train: 100%|\u001B[32m████████████████████████\u001B[0m| 295/295 [01:05<00:00,  4.49batch/s, Loss: 0.1980 | Precision: 88.45%]\u001B[0m\n"
     ]
    },
    {
     "name": "stdout",
     "output_type": "stream",
     "text": [
      "Epoch 160 | Avg Loss: 0.2551 | Avg Precision: 88.57%\n"
     ]
    },
    {
     "name": "stderr",
     "output_type": "stream",
     "text": [
      "Validate: 100%|\u001B[34m███████████████████████\u001B[0m| 74/74 [00:13<00:00,  5.47batch/s, Loss: 0.3000 | Precision: 87.69%]\u001B[0m\n"
     ]
    },
    {
     "name": "stdout",
     "output_type": "stream",
     "text": [
      "Epoch 160 | Avg Loss: 0.2657 | Avg Precision: 87.66% | Patience: 3\n"
     ]
    },
    {
     "name": "stderr",
     "output_type": "stream",
     "text": [
      "Train: 100%|\u001B[32m████████████████████████\u001B[0m| 295/295 [01:05<00:00,  4.48batch/s, Loss: 0.1683 | Precision: 88.46%]\u001B[0m\n"
     ]
    },
    {
     "name": "stdout",
     "output_type": "stream",
     "text": [
      "Epoch 161 | Avg Loss: 0.2539 | Avg Precision: 88.57%\n"
     ]
    },
    {
     "name": "stderr",
     "output_type": "stream",
     "text": [
      "Train: 100%|\u001B[32m████████████████████████\u001B[0m| 295/295 [01:06<00:00,  4.46batch/s, Loss: 0.1795 | Precision: 88.57%]\u001B[0m\n"
     ]
    },
    {
     "name": "stdout",
     "output_type": "stream",
     "text": [
      "Epoch 162 | Avg Loss: 0.2521 | Avg Precision: 88.65%\n"
     ]
    },
    {
     "name": "stderr",
     "output_type": "stream",
     "text": [
      "Train: 100%|\u001B[32m████████████████████████\u001B[0m| 295/295 [01:06<00:00,  4.45batch/s, Loss: 0.1981 | Precision: 88.50%]\u001B[0m\n"
     ]
    },
    {
     "name": "stdout",
     "output_type": "stream",
     "text": [
      "Epoch 163 | Avg Loss: 0.2534 | Avg Precision: 88.60%\n"
     ]
    },
    {
     "name": "stderr",
     "output_type": "stream",
     "text": [
      "Train: 100%|\u001B[32m████████████████████████\u001B[0m| 295/295 [01:05<00:00,  4.47batch/s, Loss: 0.1612 | Precision: 88.48%]\u001B[0m\n"
     ]
    },
    {
     "name": "stdout",
     "output_type": "stream",
     "text": [
      "Epoch 164 | Avg Loss: 0.2536 | Avg Precision: 88.67%\n"
     ]
    },
    {
     "name": "stderr",
     "output_type": "stream",
     "text": [
      "Validate: 100%|\u001B[34m███████████████████████\u001B[0m| 74/74 [00:13<00:00,  5.51batch/s, Loss: 0.2971 | Precision: 87.96%]\u001B[0m\n"
     ]
    },
    {
     "name": "stdout",
     "output_type": "stream",
     "text": [
      "Epoch 00041: reducing learning rate of group 0 to 3.8742e-03.\n",
      "Epoch 164 | Avg Loss: 0.2661 | Avg Precision: 87.85% | Patience: 4\n"
     ]
    },
    {
     "name": "stderr",
     "output_type": "stream",
     "text": [
      "Train: 100%|\u001B[32m████████████████████████\u001B[0m| 295/295 [01:05<00:00,  4.48batch/s, Loss: 0.1902 | Precision: 88.53%]\u001B[0m\n"
     ]
    },
    {
     "name": "stdout",
     "output_type": "stream",
     "text": [
      "Epoch 165 | Avg Loss: 0.2528 | Avg Precision: 88.63%\n"
     ]
    },
    {
     "name": "stderr",
     "output_type": "stream",
     "text": [
      "Train: 100%|\u001B[32m████████████████████████\u001B[0m| 295/295 [01:05<00:00,  4.48batch/s, Loss: 0.2142 | Precision: 88.57%]\u001B[0m\n"
     ]
    },
    {
     "name": "stdout",
     "output_type": "stream",
     "text": [
      "Epoch 166 | Avg Loss: 0.2517 | Avg Precision: 88.70%\n"
     ]
    },
    {
     "name": "stderr",
     "output_type": "stream",
     "text": [
      "Train: 100%|\u001B[32m████████████████████████\u001B[0m| 295/295 [01:05<00:00,  4.48batch/s, Loss: 0.1842 | Precision: 88.54%]\u001B[0m\n"
     ]
    },
    {
     "name": "stdout",
     "output_type": "stream",
     "text": [
      "Epoch 167 | Avg Loss: 0.2520 | Avg Precision: 88.64%\n"
     ]
    },
    {
     "name": "stderr",
     "output_type": "stream",
     "text": [
      "Train: 100%|\u001B[32m████████████████████████\u001B[0m| 295/295 [01:05<00:00,  4.47batch/s, Loss: 0.1822 | Precision: 88.54%]\u001B[0m\n"
     ]
    },
    {
     "name": "stdout",
     "output_type": "stream",
     "text": [
      "Epoch 168 | Avg Loss: 0.2520 | Avg Precision: 88.66%\n"
     ]
    },
    {
     "name": "stderr",
     "output_type": "stream",
     "text": [
      "Validate: 100%|\u001B[34m███████████████████████\u001B[0m| 74/74 [00:13<00:00,  5.51batch/s, Loss: 0.2963 | Precision: 88.05%]\u001B[0m\n"
     ]
    },
    {
     "name": "stdout",
     "output_type": "stream",
     "text": [
      "Epoch 168 | Avg Loss: 0.2629 | Avg Precision: 88.05% | Patience: 5\n"
     ]
    },
    {
     "name": "stderr",
     "output_type": "stream",
     "text": [
      "Train: 100%|\u001B[32m████████████████████████\u001B[0m| 295/295 [01:05<00:00,  4.49batch/s, Loss: 0.2060 | Precision: 88.61%]\u001B[0m\n"
     ]
    },
    {
     "name": "stdout",
     "output_type": "stream",
     "text": [
      "Epoch 169 | Avg Loss: 0.2519 | Avg Precision: 88.69%\n"
     ]
    },
    {
     "name": "stderr",
     "output_type": "stream",
     "text": [
      "Train: 100%|\u001B[32m████████████████████████\u001B[0m| 295/295 [01:05<00:00,  4.48batch/s, Loss: 0.1752 | Precision: 88.56%]\u001B[0m\n"
     ]
    },
    {
     "name": "stdout",
     "output_type": "stream",
     "text": [
      "Epoch 170 | Avg Loss: 0.2518 | Avg Precision: 88.71%\n"
     ]
    },
    {
     "name": "stderr",
     "output_type": "stream",
     "text": [
      "Train: 100%|\u001B[32m████████████████████████\u001B[0m| 295/295 [01:06<00:00,  4.45batch/s, Loss: 0.1929 | Precision: 88.55%]\u001B[0m\n"
     ]
    },
    {
     "name": "stdout",
     "output_type": "stream",
     "text": [
      "Epoch 171 | Avg Loss: 0.2519 | Avg Precision: 88.65%\n"
     ]
    },
    {
     "name": "stderr",
     "output_type": "stream",
     "text": [
      "Train: 100%|\u001B[32m████████████████████████\u001B[0m| 295/295 [01:06<00:00,  4.47batch/s, Loss: 0.1843 | Precision: 88.56%]\u001B[0m\n"
     ]
    },
    {
     "name": "stdout",
     "output_type": "stream",
     "text": [
      "Epoch 172 | Avg Loss: 0.2515 | Avg Precision: 88.72%\n"
     ]
    },
    {
     "name": "stderr",
     "output_type": "stream",
     "text": [
      "Validate: 100%|\u001B[34m███████████████████████\u001B[0m| 74/74 [00:13<00:00,  5.51batch/s, Loss: 0.2913 | Precision: 88.21%]\u001B[0m\n"
     ]
    },
    {
     "name": "stdout",
     "output_type": "stream",
     "text": [
      "Epoch 00043: reducing learning rate of group 0 to 3.4868e-03.\n",
      "Epoch 172 | Avg Loss: 0.2623 | Avg Precision: 88.10% | Patience: 6\n"
     ]
    },
    {
     "name": "stderr",
     "output_type": "stream",
     "text": [
      "Train: 100%|\u001B[32m████████████████████████\u001B[0m| 295/295 [01:05<00:00,  4.47batch/s, Loss: 0.1914 | Precision: 88.65%]\u001B[0m\n"
     ]
    },
    {
     "name": "stdout",
     "output_type": "stream",
     "text": [
      "Epoch 173 | Avg Loss: 0.2507 | Avg Precision: 88.81%\n"
     ]
    },
    {
     "name": "stderr",
     "output_type": "stream",
     "text": [
      "Train: 100%|\u001B[32m████████████████████████\u001B[0m| 295/295 [01:05<00:00,  4.47batch/s, Loss: 0.2025 | Precision: 88.63%]\u001B[0m\n"
     ]
    },
    {
     "name": "stdout",
     "output_type": "stream",
     "text": [
      "Epoch 174 | Avg Loss: 0.2508 | Avg Precision: 88.74%\n"
     ]
    },
    {
     "name": "stderr",
     "output_type": "stream",
     "text": [
      "Train: 100%|\u001B[32m████████████████████████\u001B[0m| 295/295 [01:06<00:00,  4.46batch/s, Loss: 0.1857 | Precision: 88.66%]\u001B[0m\n"
     ]
    },
    {
     "name": "stdout",
     "output_type": "stream",
     "text": [
      "Epoch 175 | Avg Loss: 0.2505 | Avg Precision: 88.77%\n"
     ]
    },
    {
     "name": "stderr",
     "output_type": "stream",
     "text": [
      "Train: 100%|\u001B[32m████████████████████████\u001B[0m| 295/295 [01:05<00:00,  4.48batch/s, Loss: 0.1748 | Precision: 88.69%]\u001B[0m\n"
     ]
    },
    {
     "name": "stdout",
     "output_type": "stream",
     "text": [
      "Epoch 176 | Avg Loss: 0.2500 | Avg Precision: 88.81%\n"
     ]
    },
    {
     "name": "stderr",
     "output_type": "stream",
     "text": [
      "Validate: 100%|\u001B[34m███████████████████████\u001B[0m| 74/74 [00:13<00:00,  5.45batch/s, Loss: 0.3051 | Precision: 88.22%]\u001B[0m\n"
     ]
    },
    {
     "name": "stdout",
     "output_type": "stream",
     "text": [
      "Epoch 176 | Avg Loss: 0.2635 | Avg Precision: 88.13% | Patience: 7\n"
     ]
    },
    {
     "name": "stderr",
     "output_type": "stream",
     "text": [
      "Train: 100%|\u001B[32m████████████████████████\u001B[0m| 295/295 [01:05<00:00,  4.48batch/s, Loss: 0.1736 | Precision: 88.67%]\u001B[0m\n"
     ]
    },
    {
     "name": "stdout",
     "output_type": "stream",
     "text": [
      "Epoch 177 | Avg Loss: 0.2500 | Avg Precision: 88.72%\n"
     ]
    },
    {
     "name": "stderr",
     "output_type": "stream",
     "text": [
      "Train: 100%|\u001B[32m████████████████████████\u001B[0m| 295/295 [01:06<00:00,  4.46batch/s, Loss: 0.1755 | Precision: 88.65%]\u001B[0m\n"
     ]
    },
    {
     "name": "stdout",
     "output_type": "stream",
     "text": [
      "Epoch 178 | Avg Loss: 0.2501 | Avg Precision: 88.77%\n"
     ]
    },
    {
     "name": "stderr",
     "output_type": "stream",
     "text": [
      "Train: 100%|\u001B[32m████████████████████████\u001B[0m| 295/295 [01:06<00:00,  4.47batch/s, Loss: 0.1968 | Precision: 88.72%]\u001B[0m\n"
     ]
    },
    {
     "name": "stdout",
     "output_type": "stream",
     "text": [
      "Epoch 179 | Avg Loss: 0.2491 | Avg Precision: 88.80%\n"
     ]
    },
    {
     "name": "stderr",
     "output_type": "stream",
     "text": [
      "Train: 100%|\u001B[32m████████████████████████\u001B[0m| 295/295 [01:05<00:00,  4.47batch/s, Loss: 0.1692 | Precision: 88.65%]\u001B[0m\n"
     ]
    },
    {
     "name": "stdout",
     "output_type": "stream",
     "text": [
      "Epoch 180 | Avg Loss: 0.2498 | Avg Precision: 88.75%\n"
     ]
    },
    {
     "name": "stderr",
     "output_type": "stream",
     "text": [
      "Validate: 100%|\u001B[34m███████████████████████\u001B[0m| 74/74 [00:13<00:00,  5.51batch/s, Loss: 0.2917 | Precision: 88.35%]\u001B[0m\n"
     ]
    },
    {
     "name": "stdout",
     "output_type": "stream",
     "text": [
      "Epoch 00045: reducing learning rate of group 0 to 3.1381e-03.\n",
      "Epoch 180 | Avg Loss: 0.2621 | Avg Precision: 88.27% | Patience: 0\n"
     ]
    },
    {
     "name": "stderr",
     "output_type": "stream",
     "text": [
      "Train: 100%|\u001B[32m████████████████████████\u001B[0m| 295/295 [01:06<00:00,  4.47batch/s, Loss: 0.1857 | Precision: 88.75%]\u001B[0m\n"
     ]
    },
    {
     "name": "stdout",
     "output_type": "stream",
     "text": [
      "Epoch 181 | Avg Loss: 0.2484 | Avg Precision: 88.86%\n"
     ]
    },
    {
     "name": "stderr",
     "output_type": "stream",
     "text": [
      "Train: 100%|\u001B[32m████████████████████████\u001B[0m| 295/295 [01:05<00:00,  4.47batch/s, Loss: 0.1797 | Precision: 88.77%]\u001B[0m\n"
     ]
    },
    {
     "name": "stdout",
     "output_type": "stream",
     "text": [
      "Epoch 182 | Avg Loss: 0.2486 | Avg Precision: 88.84%\n"
     ]
    },
    {
     "name": "stderr",
     "output_type": "stream",
     "text": [
      "Train: 100%|\u001B[32m████████████████████████\u001B[0m| 295/295 [01:06<00:00,  4.47batch/s, Loss: 0.1816 | Precision: 88.70%]\u001B[0m\n"
     ]
    },
    {
     "name": "stdout",
     "output_type": "stream",
     "text": [
      "Epoch 183 | Avg Loss: 0.2491 | Avg Precision: 88.80%\n"
     ]
    },
    {
     "name": "stderr",
     "output_type": "stream",
     "text": [
      "Train: 100%|\u001B[32m████████████████████████\u001B[0m| 295/295 [01:06<00:00,  4.47batch/s, Loss: 0.1667 | Precision: 88.73%]\u001B[0m\n"
     ]
    },
    {
     "name": "stdout",
     "output_type": "stream",
     "text": [
      "Epoch 184 | Avg Loss: 0.2484 | Avg Precision: 88.82%\n"
     ]
    },
    {
     "name": "stderr",
     "output_type": "stream",
     "text": [
      "Validate: 100%|\u001B[34m███████████████████████\u001B[0m| 74/74 [00:13<00:00,  5.54batch/s, Loss: 0.2976 | Precision: 88.14%]\u001B[0m\n"
     ]
    },
    {
     "name": "stdout",
     "output_type": "stream",
     "text": [
      "Epoch 184 | Avg Loss: 0.2641 | Avg Precision: 88.10% | Patience: 1\n"
     ]
    },
    {
     "name": "stderr",
     "output_type": "stream",
     "text": [
      "Train: 100%|\u001B[32m████████████████████████\u001B[0m| 295/295 [01:05<00:00,  4.47batch/s, Loss: 0.1725 | Precision: 88.75%]\u001B[0m\n"
     ]
    },
    {
     "name": "stdout",
     "output_type": "stream",
     "text": [
      "Epoch 185 | Avg Loss: 0.2482 | Avg Precision: 88.86%\n"
     ]
    },
    {
     "name": "stderr",
     "output_type": "stream",
     "text": [
      "Train: 100%|\u001B[32m████████████████████████\u001B[0m| 295/295 [01:05<00:00,  4.49batch/s, Loss: 0.1743 | Precision: 88.76%]\u001B[0m\n"
     ]
    },
    {
     "name": "stdout",
     "output_type": "stream",
     "text": [
      "Epoch 186 | Avg Loss: 0.2483 | Avg Precision: 88.88%\n"
     ]
    },
    {
     "name": "stderr",
     "output_type": "stream",
     "text": [
      "Train: 100%|\u001B[32m████████████████████████\u001B[0m| 295/295 [01:05<00:00,  4.49batch/s, Loss: 0.1721 | Precision: 88.80%]\u001B[0m\n"
     ]
    },
    {
     "name": "stdout",
     "output_type": "stream",
     "text": [
      "Epoch 187 | Avg Loss: 0.2477 | Avg Precision: 88.85%\n"
     ]
    },
    {
     "name": "stderr",
     "output_type": "stream",
     "text": [
      "Train: 100%|\u001B[32m████████████████████████\u001B[0m| 295/295 [01:05<00:00,  4.48batch/s, Loss: 0.1657 | Precision: 88.78%]\u001B[0m\n"
     ]
    },
    {
     "name": "stdout",
     "output_type": "stream",
     "text": [
      "Epoch 188 | Avg Loss: 0.2482 | Avg Precision: 88.94%\n"
     ]
    },
    {
     "name": "stderr",
     "output_type": "stream",
     "text": [
      "Validate: 100%|\u001B[34m███████████████████████\u001B[0m| 74/74 [00:13<00:00,  5.40batch/s, Loss: 0.2967 | Precision: 88.38%]\u001B[0m\n"
     ]
    },
    {
     "name": "stdout",
     "output_type": "stream",
     "text": [
      "Epoch 188 | Avg Loss: 0.2620 | Avg Precision: 88.38% | Patience: 0\n"
     ]
    },
    {
     "name": "stderr",
     "output_type": "stream",
     "text": [
      "Train: 100%|\u001B[32m████████████████████████\u001B[0m| 295/295 [01:06<00:00,  4.47batch/s, Loss: 0.1617 | Precision: 88.79%]\u001B[0m\n"
     ]
    },
    {
     "name": "stdout",
     "output_type": "stream",
     "text": [
      "Epoch 189 | Avg Loss: 0.2476 | Avg Precision: 88.95%\n"
     ]
    },
    {
     "name": "stderr",
     "output_type": "stream",
     "text": [
      "Train: 100%|\u001B[32m████████████████████████\u001B[0m| 295/295 [01:05<00:00,  4.48batch/s, Loss: 0.1767 | Precision: 88.80%]\u001B[0m\n"
     ]
    },
    {
     "name": "stdout",
     "output_type": "stream",
     "text": [
      "Epoch 190 | Avg Loss: 0.2478 | Avg Precision: 88.96%\n"
     ]
    },
    {
     "name": "stderr",
     "output_type": "stream",
     "text": [
      "Train: 100%|\u001B[32m████████████████████████\u001B[0m| 295/295 [01:05<00:00,  4.48batch/s, Loss: 0.1596 | Precision: 88.81%]\u001B[0m\n"
     ]
    },
    {
     "name": "stdout",
     "output_type": "stream",
     "text": [
      "Epoch 191 | Avg Loss: 0.2473 | Avg Precision: 88.94%\n"
     ]
    },
    {
     "name": "stderr",
     "output_type": "stream",
     "text": [
      "Train: 100%|\u001B[32m████████████████████████\u001B[0m| 295/295 [01:05<00:00,  4.48batch/s, Loss: 0.1731 | Precision: 88.74%]\u001B[0m\n"
     ]
    },
    {
     "name": "stdout",
     "output_type": "stream",
     "text": [
      "Epoch 192 | Avg Loss: 0.2477 | Avg Precision: 88.86%\n"
     ]
    },
    {
     "name": "stderr",
     "output_type": "stream",
     "text": [
      "Validate: 100%|\u001B[34m███████████████████████\u001B[0m| 74/74 [00:13<00:00,  5.50batch/s, Loss: 0.3065 | Precision: 87.93%]\u001B[0m\n"
     ]
    },
    {
     "name": "stdout",
     "output_type": "stream",
     "text": [
      "Epoch 192 | Avg Loss: 0.2667 | Avg Precision: 87.79% | Patience: 1\n"
     ]
    },
    {
     "name": "stderr",
     "output_type": "stream",
     "text": [
      "Train: 100%|\u001B[32m████████████████████████\u001B[0m| 295/295 [01:05<00:00,  4.50batch/s, Loss: 0.1775 | Precision: 88.82%]\u001B[0m\n"
     ]
    },
    {
     "name": "stdout",
     "output_type": "stream",
     "text": [
      "Epoch 193 | Avg Loss: 0.2479 | Avg Precision: 88.90%\n"
     ]
    },
    {
     "name": "stderr",
     "output_type": "stream",
     "text": [
      "Train: 100%|\u001B[32m████████████████████████\u001B[0m| 295/295 [01:05<00:00,  4.48batch/s, Loss: 0.1859 | Precision: 88.80%]\u001B[0m\n"
     ]
    },
    {
     "name": "stdout",
     "output_type": "stream",
     "text": [
      "Epoch 194 | Avg Loss: 0.2470 | Avg Precision: 88.91%\n"
     ]
    },
    {
     "name": "stderr",
     "output_type": "stream",
     "text": [
      "Train: 100%|\u001B[32m████████████████████████\u001B[0m| 295/295 [01:05<00:00,  4.48batch/s, Loss: 0.1714 | Precision: 88.85%]\u001B[0m\n"
     ]
    },
    {
     "name": "stdout",
     "output_type": "stream",
     "text": [
      "Epoch 195 | Avg Loss: 0.2467 | Avg Precision: 88.96%\n"
     ]
    },
    {
     "name": "stderr",
     "output_type": "stream",
     "text": [
      "Train: 100%|\u001B[32m████████████████████████\u001B[0m| 295/295 [01:05<00:00,  4.49batch/s, Loss: 0.1766 | Precision: 88.84%]\u001B[0m\n"
     ]
    },
    {
     "name": "stdout",
     "output_type": "stream",
     "text": [
      "Epoch 196 | Avg Loss: 0.2467 | Avg Precision: 88.99%\n"
     ]
    },
    {
     "name": "stderr",
     "output_type": "stream",
     "text": [
      "Validate: 100%|\u001B[34m███████████████████████\u001B[0m| 74/74 [00:13<00:00,  5.50batch/s, Loss: 0.2950 | Precision: 88.52%]\u001B[0m\n"
     ]
    },
    {
     "name": "stdout",
     "output_type": "stream",
     "text": [
      "Epoch 196 | Avg Loss: 0.2622 | Avg Precision: 88.46% | Patience: 0\n"
     ]
    },
    {
     "name": "stderr",
     "output_type": "stream",
     "text": [
      "Train: 100%|\u001B[32m████████████████████████\u001B[0m| 295/295 [01:05<00:00,  4.49batch/s, Loss: 0.1797 | Precision: 88.86%]\u001B[0m\n"
     ]
    },
    {
     "name": "stdout",
     "output_type": "stream",
     "text": [
      "Epoch 197 | Avg Loss: 0.2466 | Avg Precision: 88.95%\n"
     ]
    },
    {
     "name": "stderr",
     "output_type": "stream",
     "text": [
      "Train: 100%|\u001B[32m████████████████████████\u001B[0m| 295/295 [01:05<00:00,  4.48batch/s, Loss: 0.1778 | Precision: 88.85%]\u001B[0m\n"
     ]
    },
    {
     "name": "stdout",
     "output_type": "stream",
     "text": [
      "Epoch 198 | Avg Loss: 0.2471 | Avg Precision: 88.99%\n"
     ]
    },
    {
     "name": "stderr",
     "output_type": "stream",
     "text": [
      "Train: 100%|\u001B[32m████████████████████████\u001B[0m| 295/295 [01:05<00:00,  4.49batch/s, Loss: 0.1810 | Precision: 88.78%]\u001B[0m\n"
     ]
    },
    {
     "name": "stdout",
     "output_type": "stream",
     "text": [
      "Epoch 199 | Avg Loss: 0.2476 | Avg Precision: 88.92%\n"
     ]
    },
    {
     "name": "stderr",
     "output_type": "stream",
     "text": [
      "Train: 100%|\u001B[32m████████████████████████\u001B[0m| 295/295 [01:05<00:00,  4.48batch/s, Loss: 0.1745 | Precision: 88.83%]\u001B[0m\n"
     ]
    },
    {
     "name": "stdout",
     "output_type": "stream",
     "text": [
      "Epoch 200 | Avg Loss: 0.2468 | Avg Precision: 88.92%\n"
     ]
    },
    {
     "name": "stderr",
     "output_type": "stream",
     "text": [
      "Validate: 100%|\u001B[34m███████████████████████\u001B[0m| 74/74 [00:13<00:00,  5.49batch/s, Loss: 0.3003 | Precision: 88.38%]\u001B[0m"
     ]
    },
    {
     "name": "stdout",
     "output_type": "stream",
     "text": [
      "Epoch 200 | Avg Loss: 0.2619 | Avg Precision: 88.36% | Patience: 1\n",
      "Training Complete - Best Validate Precision: 88.46%\n"
     ]
    },
    {
     "name": "stderr",
     "output_type": "stream",
     "text": [
      "\n"
     ]
    }
   ],
   "source": [
    "model = LSTMnet(9, 500, 1, 4)\n",
    "model = model.to(device)\n",
    "criterion = nn.CrossEntropyLoss()\n",
    "optimizer = optim.Adam(model.parameters(), lr=.01)\n",
    "scheduler = ReduceLROnPlateau(optimizer, 'max', factor=.9, patience=1, min_lr=.0001, verbose=True)\n",
    "epochs = 200\n",
    "\n",
    "model2 = train_validate(model, criterion, optimizer, scheduler, epochs)\n",
    "torch.save(model2.state_dict(), '.\\\\models\\\\downsample\\\\lstm\\\\model2.pth')"
   ]
  },
  {
   "cell_type": "markdown",
   "id": "e7c67fbc-2c8f-4218-a192-9de8a9668b0b",
   "metadata": {},
   "source": [
    "### 11-13-23"
   ]
  },
  {
   "cell_type": "markdown",
   "id": "5206ca71-0f17-4c71-9355-a7b55eb9d346",
   "metadata": {},
   "source": [
    "#### Model 3 - Same as 11-12-23 using new downsample features"
   ]
  },
  {
   "cell_type": "code",
   "execution_count": 15,
   "id": "ff3a24ed-8fa0-4866-bd88-f1e6f4719c63",
   "metadata": {},
   "outputs": [
    {
     "name": "stderr",
     "output_type": "stream",
     "text": [
      "Train: 100%|\u001B[32m████████████████████████\u001B[0m| 295/295 [01:04<00:00,  4.57batch/s, Loss: 0.2697 | Precision: 82.22%]\u001B[0m\n"
     ]
    },
    {
     "name": "stdout",
     "output_type": "stream",
     "text": [
      "Epoch 1 | Avg Loss: 0.3756 | Avg Precision: 79.01%\n"
     ]
    },
    {
     "name": "stderr",
     "output_type": "stream",
     "text": [
      "Train: 100%|\u001B[32m████████████████████████\u001B[0m| 295/295 [01:03<00:00,  4.63batch/s, Loss: 0.0645 | Precision: 86.76%]\u001B[0m\n"
     ]
    },
    {
     "name": "stdout",
     "output_type": "stream",
     "text": [
      "Epoch 2 | Avg Loss: 0.2791 | Avg Precision: 85.86%\n"
     ]
    },
    {
     "name": "stderr",
     "output_type": "stream",
     "text": [
      "Train: 100%|\u001B[32m████████████████████████\u001B[0m| 295/295 [01:04<00:00,  4.58batch/s, Loss: 0.0335 | Precision: 88.83%]\u001B[0m\n"
     ]
    },
    {
     "name": "stdout",
     "output_type": "stream",
     "text": [
      "Epoch 3 | Avg Loss: 0.2400 | Avg Precision: 88.31%\n"
     ]
    },
    {
     "name": "stderr",
     "output_type": "stream",
     "text": [
      "Train: 100%|\u001B[32m████████████████████████\u001B[0m| 295/295 [01:04<00:00,  4.55batch/s, Loss: 0.0072 | Precision: 90.40%]\u001B[0m\n"
     ]
    },
    {
     "name": "stdout",
     "output_type": "stream",
     "text": [
      "Epoch 4 | Avg Loss: 0.2093 | Avg Precision: 90.06%\n"
     ]
    },
    {
     "name": "stderr",
     "output_type": "stream",
     "text": [
      "Validate: 100%|\u001B[34m███████████████████████\u001B[0m| 74/74 [00:12<00:00,  5.84batch/s, Loss: 0.1989 | Precision: 90.24%]\u001B[0m\n"
     ]
    },
    {
     "name": "stdout",
     "output_type": "stream",
     "text": [
      "Epoch 4 | Avg Loss: 0.2157 | Avg Precision: 90.25% | Patience: 0\n"
     ]
    },
    {
     "name": "stderr",
     "output_type": "stream",
     "text": [
      "Train: 100%|\u001B[32m████████████████████████\u001B[0m| 295/295 [01:04<00:00,  4.61batch/s, Loss: 0.0200 | Precision: 91.80%]\u001B[0m\n"
     ]
    },
    {
     "name": "stdout",
     "output_type": "stream",
     "text": [
      "Epoch 5 | Avg Loss: 0.1827 | Avg Precision: 91.50%\n"
     ]
    },
    {
     "name": "stderr",
     "output_type": "stream",
     "text": [
      "Train: 100%|\u001B[32m████████████████████████\u001B[0m| 295/295 [01:04<00:00,  4.56batch/s, Loss: 0.0057 | Precision: 92.82%]\u001B[0m\n"
     ]
    },
    {
     "name": "stdout",
     "output_type": "stream",
     "text": [
      "Epoch 6 | Avg Loss: 0.1618 | Avg Precision: 92.60%\n"
     ]
    },
    {
     "name": "stderr",
     "output_type": "stream",
     "text": [
      "Train: 100%|\u001B[32m████████████████████████\u001B[0m| 295/295 [01:05<00:00,  4.54batch/s, Loss: 0.0076 | Precision: 93.79%]\u001B[0m\n"
     ]
    },
    {
     "name": "stdout",
     "output_type": "stream",
     "text": [
      "Epoch 7 | Avg Loss: 0.1433 | Avg Precision: 93.57%\n"
     ]
    },
    {
     "name": "stderr",
     "output_type": "stream",
     "text": [
      "Train: 100%|\u001B[32m████████████████████████\u001B[0m| 295/295 [01:05<00:00,  4.52batch/s, Loss: 0.0067 | Precision: 94.32%]\u001B[0m\n"
     ]
    },
    {
     "name": "stdout",
     "output_type": "stream",
     "text": [
      "Epoch 8 | Avg Loss: 0.1317 | Avg Precision: 94.22%\n"
     ]
    },
    {
     "name": "stderr",
     "output_type": "stream",
     "text": [
      "Validate: 100%|\u001B[34m███████████████████████\u001B[0m| 74/74 [00:13<00:00,  5.55batch/s, Loss: 0.1306 | Precision: 93.01%]\u001B[0m\n"
     ]
    },
    {
     "name": "stdout",
     "output_type": "stream",
     "text": [
      "Epoch 8 | Avg Loss: 0.1652 | Avg Precision: 93.01% | Patience: 0\n"
     ]
    },
    {
     "name": "stderr",
     "output_type": "stream",
     "text": [
      "Train: 100%|\u001B[32m████████████████████████\u001B[0m| 295/295 [01:03<00:00,  4.62batch/s, Loss: 0.0056 | Precision: 94.84%]\u001B[0m\n"
     ]
    },
    {
     "name": "stdout",
     "output_type": "stream",
     "text": [
      "Epoch 9 | Avg Loss: 0.1221 | Avg Precision: 94.80%\n"
     ]
    },
    {
     "name": "stderr",
     "output_type": "stream",
     "text": [
      "Train: 100%|\u001B[32m████████████████████████\u001B[0m| 295/295 [01:04<00:00,  4.60batch/s, Loss: 0.0013 | Precision: 95.21%]\u001B[0m\n"
     ]
    },
    {
     "name": "stdout",
     "output_type": "stream",
     "text": [
      "Epoch 10 | Avg Loss: 0.1142 | Avg Precision: 95.03%\n"
     ]
    },
    {
     "name": "stderr",
     "output_type": "stream",
     "text": [
      "Train: 100%|\u001B[32m████████████████████████\u001B[0m| 295/295 [01:04<00:00,  4.55batch/s, Loss: 0.0021 | Precision: 95.44%]\u001B[0m\n"
     ]
    },
    {
     "name": "stdout",
     "output_type": "stream",
     "text": [
      "Epoch 11 | Avg Loss: 0.1101 | Avg Precision: 95.40%\n"
     ]
    },
    {
     "name": "stderr",
     "output_type": "stream",
     "text": [
      "Train: 100%|\u001B[32m████████████████████████\u001B[0m| 295/295 [01:04<00:00,  4.55batch/s, Loss: 0.0010 | Precision: 95.82%]\u001B[0m\n"
     ]
    },
    {
     "name": "stdout",
     "output_type": "stream",
     "text": [
      "Epoch 12 | Avg Loss: 0.1015 | Avg Precision: 95.78%\n"
     ]
    },
    {
     "name": "stderr",
     "output_type": "stream",
     "text": [
      "Validate: 100%|\u001B[34m███████████████████████\u001B[0m| 74/74 [00:13<00:00,  5.58batch/s, Loss: 0.1355 | Precision: 93.72%]\u001B[0m\n"
     ]
    },
    {
     "name": "stdout",
     "output_type": "stream",
     "text": [
      "Epoch 12 | Avg Loss: 0.1476 | Avg Precision: 93.73% | Patience: 0\n"
     ]
    },
    {
     "name": "stderr",
     "output_type": "stream",
     "text": [
      "Train: 100%|\u001B[32m████████████████████████\u001B[0m| 295/295 [01:04<00:00,  4.54batch/s, Loss: 0.0012 | Precision: 96.18%]\u001B[0m\n"
     ]
    },
    {
     "name": "stdout",
     "output_type": "stream",
     "text": [
      "Epoch 13 | Avg Loss: 0.0935 | Avg Precision: 96.18%\n"
     ]
    },
    {
     "name": "stderr",
     "output_type": "stream",
     "text": [
      "Train: 100%|\u001B[32m████████████████████████\u001B[0m| 295/295 [01:05<00:00,  4.52batch/s, Loss: 0.0137 | Precision: 96.43%]\u001B[0m\n"
     ]
    },
    {
     "name": "stdout",
     "output_type": "stream",
     "text": [
      "Epoch 14 | Avg Loss: 0.0895 | Avg Precision: 96.46%\n"
     ]
    },
    {
     "name": "stderr",
     "output_type": "stream",
     "text": [
      "Train: 100%|\u001B[32m████████████████████████\u001B[0m| 295/295 [01:05<00:00,  4.52batch/s, Loss: 0.0015 | Precision: 96.51%]\u001B[0m\n"
     ]
    },
    {
     "name": "stdout",
     "output_type": "stream",
     "text": [
      "Epoch 15 | Avg Loss: 0.0874 | Avg Precision: 96.46%\n"
     ]
    },
    {
     "name": "stderr",
     "output_type": "stream",
     "text": [
      "Train: 100%|\u001B[32m████████████████████████\u001B[0m| 295/295 [01:05<00:00,  4.51batch/s, Loss: 0.0016 | Precision: 96.66%]\u001B[0m\n"
     ]
    },
    {
     "name": "stdout",
     "output_type": "stream",
     "text": [
      "Epoch 16 | Avg Loss: 0.0836 | Avg Precision: 96.57%\n"
     ]
    },
    {
     "name": "stderr",
     "output_type": "stream",
     "text": [
      "Validate: 100%|\u001B[34m███████████████████████\u001B[0m| 74/74 [00:13<00:00,  5.61batch/s, Loss: 0.1224 | Precision: 94.60%]\u001B[0m\n"
     ]
    },
    {
     "name": "stdout",
     "output_type": "stream",
     "text": [
      "Epoch 16 | Avg Loss: 0.1343 | Avg Precision: 94.57% | Patience: 0\n"
     ]
    },
    {
     "name": "stderr",
     "output_type": "stream",
     "text": [
      "Train: 100%|\u001B[32m████████████████████████\u001B[0m| 295/295 [01:05<00:00,  4.51batch/s, Loss: 0.0005 | Precision: 96.62%]\u001B[0m\n"
     ]
    },
    {
     "name": "stdout",
     "output_type": "stream",
     "text": [
      "Epoch 17 | Avg Loss: 0.0857 | Avg Precision: 96.76%\n"
     ]
    },
    {
     "name": "stderr",
     "output_type": "stream",
     "text": [
      "Train: 100%|\u001B[32m████████████████████████\u001B[0m| 295/295 [01:05<00:00,  4.52batch/s, Loss: 0.0016 | Precision: 96.65%]\u001B[0m\n"
     ]
    },
    {
     "name": "stdout",
     "output_type": "stream",
     "text": [
      "Epoch 18 | Avg Loss: 0.0851 | Avg Precision: 96.62%\n"
     ]
    },
    {
     "name": "stderr",
     "output_type": "stream",
     "text": [
      "Train: 100%|\u001B[32m████████████████████████\u001B[0m| 295/295 [01:05<00:00,  4.50batch/s, Loss: 0.0021 | Precision: 96.73%]\u001B[0m\n"
     ]
    },
    {
     "name": "stdout",
     "output_type": "stream",
     "text": [
      "Epoch 19 | Avg Loss: 0.0825 | Avg Precision: 96.68%\n"
     ]
    },
    {
     "name": "stderr",
     "output_type": "stream",
     "text": [
      "Train: 100%|\u001B[32m████████████████████████\u001B[0m| 295/295 [01:05<00:00,  4.51batch/s, Loss: 0.0039 | Precision: 95.97%]\u001B[0m\n"
     ]
    },
    {
     "name": "stdout",
     "output_type": "stream",
     "text": [
      "Epoch 20 | Avg Loss: 0.0993 | Avg Precision: 96.05%\n"
     ]
    },
    {
     "name": "stderr",
     "output_type": "stream",
     "text": [
      "Validate: 100%|\u001B[34m███████████████████████\u001B[0m| 74/74 [00:13<00:00,  5.58batch/s, Loss: 0.1528 | Precision: 94.29%]\u001B[0m\n"
     ]
    },
    {
     "name": "stdout",
     "output_type": "stream",
     "text": [
      "Epoch 20 | Avg Loss: 0.1389 | Avg Precision: 94.16% | Patience: 1\n"
     ]
    },
    {
     "name": "stderr",
     "output_type": "stream",
     "text": [
      "Train: 100%|\u001B[32m████████████████████████\u001B[0m| 295/295 [01:05<00:00,  4.52batch/s, Loss: 0.0063 | Precision: 96.52%]\u001B[0m\n"
     ]
    },
    {
     "name": "stdout",
     "output_type": "stream",
     "text": [
      "Epoch 21 | Avg Loss: 0.0872 | Avg Precision: 96.33%\n"
     ]
    },
    {
     "name": "stderr",
     "output_type": "stream",
     "text": [
      "Train: 100%|\u001B[32m████████████████████████\u001B[0m| 295/295 [01:05<00:00,  4.52batch/s, Loss: 0.0006 | Precision: 97.00%]\u001B[0m\n"
     ]
    },
    {
     "name": "stdout",
     "output_type": "stream",
     "text": [
      "Epoch 22 | Avg Loss: 0.0764 | Avg Precision: 96.84%\n"
     ]
    },
    {
     "name": "stderr",
     "output_type": "stream",
     "text": [
      "Train: 100%|\u001B[32m████████████████████████\u001B[0m| 295/295 [01:05<00:00,  4.51batch/s, Loss: 0.0002 | Precision: 97.28%]\u001B[0m\n"
     ]
    },
    {
     "name": "stdout",
     "output_type": "stream",
     "text": [
      "Epoch 23 | Avg Loss: 0.0693 | Avg Precision: 97.24%\n"
     ]
    },
    {
     "name": "stderr",
     "output_type": "stream",
     "text": [
      "Train: 100%|\u001B[32m████████████████████████\u001B[0m| 295/295 [01:05<00:00,  4.52batch/s, Loss: 0.0011 | Precision: 97.32%]\u001B[0m\n"
     ]
    },
    {
     "name": "stdout",
     "output_type": "stream",
     "text": [
      "Epoch 24 | Avg Loss: 0.0686 | Avg Precision: 97.41%\n"
     ]
    },
    {
     "name": "stderr",
     "output_type": "stream",
     "text": [
      "Validate: 100%|\u001B[34m███████████████████████\u001B[0m| 74/74 [00:13<00:00,  5.54batch/s, Loss: 0.1096 | Precision: 94.89%]\u001B[0m\n"
     ]
    },
    {
     "name": "stdout",
     "output_type": "stream",
     "text": [
      "Epoch 24 | Avg Loss: 0.1273 | Avg Precision: 94.93% | Patience: 0\n"
     ]
    },
    {
     "name": "stderr",
     "output_type": "stream",
     "text": [
      "Train: 100%|\u001B[32m████████████████████████\u001B[0m| 295/295 [01:05<00:00,  4.53batch/s, Loss: 0.0005 | Precision: 97.29%]\u001B[0m\n"
     ]
    },
    {
     "name": "stdout",
     "output_type": "stream",
     "text": [
      "Epoch 25 | Avg Loss: 0.0690 | Avg Precision: 97.22%\n"
     ]
    },
    {
     "name": "stderr",
     "output_type": "stream",
     "text": [
      "Train: 100%|\u001B[32m████████████████████████\u001B[0m| 295/295 [01:05<00:00,  4.52batch/s, Loss: 0.0014 | Precision: 97.14%]\u001B[0m\n"
     ]
    },
    {
     "name": "stdout",
     "output_type": "stream",
     "text": [
      "Epoch 26 | Avg Loss: 0.0738 | Avg Precision: 97.08%\n"
     ]
    },
    {
     "name": "stderr",
     "output_type": "stream",
     "text": [
      "Train: 100%|\u001B[32m████████████████████████\u001B[0m| 295/295 [01:05<00:00,  4.52batch/s, Loss: 0.0031 | Precision: 96.95%]\u001B[0m\n"
     ]
    },
    {
     "name": "stdout",
     "output_type": "stream",
     "text": [
      "Epoch 27 | Avg Loss: 0.0777 | Avg Precision: 96.93%\n"
     ]
    },
    {
     "name": "stderr",
     "output_type": "stream",
     "text": [
      "Train: 100%|\u001B[32m████████████████████████\u001B[0m| 295/295 [01:05<00:00,  4.53batch/s, Loss: 0.0018 | Precision: 97.27%]\u001B[0m\n"
     ]
    },
    {
     "name": "stdout",
     "output_type": "stream",
     "text": [
      "Epoch 28 | Avg Loss: 0.0709 | Avg Precision: 97.35%\n"
     ]
    },
    {
     "name": "stderr",
     "output_type": "stream",
     "text": [
      "Validate: 100%|\u001B[34m███████████████████████\u001B[0m| 74/74 [00:13<00:00,  5.63batch/s, Loss: 0.1130 | Precision: 94.46%]\u001B[0m\n"
     ]
    },
    {
     "name": "stdout",
     "output_type": "stream",
     "text": [
      "Epoch 28 | Avg Loss: 0.1374 | Avg Precision: 94.44% | Patience: 1\n"
     ]
    },
    {
     "name": "stderr",
     "output_type": "stream",
     "text": [
      "Train: 100%|\u001B[32m████████████████████████\u001B[0m| 295/295 [01:05<00:00,  4.51batch/s, Loss: 0.0014 | Precision: 97.04%]\u001B[0m\n"
     ]
    },
    {
     "name": "stdout",
     "output_type": "stream",
     "text": [
      "Epoch 29 | Avg Loss: 0.0768 | Avg Precision: 96.99%\n"
     ]
    },
    {
     "name": "stderr",
     "output_type": "stream",
     "text": [
      "Train: 100%|\u001B[32m████████████████████████\u001B[0m| 295/295 [01:05<00:00,  4.50batch/s, Loss: 0.0100 | Precision: 97.15%]\u001B[0m\n"
     ]
    },
    {
     "name": "stdout",
     "output_type": "stream",
     "text": [
      "Epoch 30 | Avg Loss: 0.0728 | Avg Precision: 97.14%\n"
     ]
    },
    {
     "name": "stderr",
     "output_type": "stream",
     "text": [
      "Train: 100%|\u001B[32m████████████████████████\u001B[0m| 295/295 [01:05<00:00,  4.53batch/s, Loss: 0.0014 | Precision: 97.36%]\u001B[0m\n"
     ]
    },
    {
     "name": "stdout",
     "output_type": "stream",
     "text": [
      "Epoch 31 | Avg Loss: 0.0683 | Avg Precision: 97.26%\n"
     ]
    },
    {
     "name": "stderr",
     "output_type": "stream",
     "text": [
      "Train: 100%|\u001B[32m████████████████████████\u001B[0m| 295/295 [01:05<00:00,  4.51batch/s, Loss: 0.1397 | Precision: 97.32%]\u001B[0m\n"
     ]
    },
    {
     "name": "stdout",
     "output_type": "stream",
     "text": [
      "Epoch 32 | Avg Loss: 0.0704 | Avg Precision: 97.15%\n"
     ]
    },
    {
     "name": "stderr",
     "output_type": "stream",
     "text": [
      "Validate: 100%|\u001B[34m███████████████████████\u001B[0m| 74/74 [00:13<00:00,  5.49batch/s, Loss: 0.0804 | Precision: 95.29%]\u001B[0m\n"
     ]
    },
    {
     "name": "stdout",
     "output_type": "stream",
     "text": [
      "Epoch 32 | Avg Loss: 0.1258 | Avg Precision: 95.19% | Patience: 0\n"
     ]
    },
    {
     "name": "stderr",
     "output_type": "stream",
     "text": [
      "Train: 100%|\u001B[32m████████████████████████\u001B[0m| 295/295 [01:05<00:00,  4.52batch/s, Loss: 0.0021 | Precision: 97.33%]\u001B[0m\n"
     ]
    },
    {
     "name": "stdout",
     "output_type": "stream",
     "text": [
      "Epoch 33 | Avg Loss: 0.0689 | Avg Precision: 97.10%\n"
     ]
    },
    {
     "name": "stderr",
     "output_type": "stream",
     "text": [
      "Train: 100%|\u001B[32m████████████████████████\u001B[0m| 295/295 [01:05<00:00,  4.51batch/s, Loss: 0.0047 | Precision: 97.48%]\u001B[0m\n"
     ]
    },
    {
     "name": "stdout",
     "output_type": "stream",
     "text": [
      "Epoch 34 | Avg Loss: 0.0659 | Avg Precision: 97.54%\n"
     ]
    },
    {
     "name": "stderr",
     "output_type": "stream",
     "text": [
      "Train: 100%|\u001B[32m████████████████████████\u001B[0m| 295/295 [01:05<00:00,  4.49batch/s, Loss: 0.0012 | Precision: 97.42%]\u001B[0m\n"
     ]
    },
    {
     "name": "stdout",
     "output_type": "stream",
     "text": [
      "Epoch 35 | Avg Loss: 0.0659 | Avg Precision: 97.30%\n"
     ]
    },
    {
     "name": "stderr",
     "output_type": "stream",
     "text": [
      "Train: 100%|\u001B[32m████████████████████████\u001B[0m| 295/295 [01:05<00:00,  4.49batch/s, Loss: 0.0006 | Precision: 97.48%]\u001B[0m\n"
     ]
    },
    {
     "name": "stdout",
     "output_type": "stream",
     "text": [
      "Epoch 36 | Avg Loss: 0.0660 | Avg Precision: 97.50%\n"
     ]
    },
    {
     "name": "stderr",
     "output_type": "stream",
     "text": [
      "Validate: 100%|\u001B[34m███████████████████████\u001B[0m| 74/74 [00:13<00:00,  5.55batch/s, Loss: 0.1440 | Precision: 95.09%]\u001B[0m\n"
     ]
    },
    {
     "name": "stdout",
     "output_type": "stream",
     "text": [
      "Epoch 36 | Avg Loss: 0.1262 | Avg Precision: 95.04% | Patience: 1\n"
     ]
    },
    {
     "name": "stderr",
     "output_type": "stream",
     "text": [
      "Train: 100%|\u001B[32m████████████████████████\u001B[0m| 295/295 [01:05<00:00,  4.54batch/s, Loss: 0.0007 | Precision: 97.27%]\u001B[0m\n"
     ]
    },
    {
     "name": "stdout",
     "output_type": "stream",
     "text": [
      "Epoch 37 | Avg Loss: 0.0702 | Avg Precision: 97.19%\n"
     ]
    },
    {
     "name": "stderr",
     "output_type": "stream",
     "text": [
      "Train: 100%|\u001B[32m████████████████████████\u001B[0m| 295/295 [01:04<00:00,  4.55batch/s, Loss: 0.0022 | Precision: 97.60%]\u001B[0m\n"
     ]
    },
    {
     "name": "stdout",
     "output_type": "stream",
     "text": [
      "Epoch 38 | Avg Loss: 0.0624 | Avg Precision: 97.49%\n"
     ]
    },
    {
     "name": "stderr",
     "output_type": "stream",
     "text": [
      "Train: 100%|\u001B[32m████████████████████████\u001B[0m| 295/295 [01:04<00:00,  4.55batch/s, Loss: 0.0008 | Precision: 97.67%]\u001B[0m\n"
     ]
    },
    {
     "name": "stdout",
     "output_type": "stream",
     "text": [
      "Epoch 39 | Avg Loss: 0.0613 | Avg Precision: 97.69%\n"
     ]
    },
    {
     "name": "stderr",
     "output_type": "stream",
     "text": [
      "Train: 100%|\u001B[32m████████████████████████\u001B[0m| 295/295 [01:04<00:00,  4.54batch/s, Loss: 0.0023 | Precision: 96.85%]\u001B[0m\n"
     ]
    },
    {
     "name": "stdout",
     "output_type": "stream",
     "text": [
      "Epoch 40 | Avg Loss: 0.0794 | Avg Precision: 97.37%\n"
     ]
    },
    {
     "name": "stderr",
     "output_type": "stream",
     "text": [
      "Validate: 100%|\u001B[34m███████████████████████\u001B[0m| 74/74 [00:13<00:00,  5.61batch/s, Loss: 0.1555 | Precision: 93.81%]\u001B[0m\n"
     ]
    },
    {
     "name": "stdout",
     "output_type": "stream",
     "text": [
      "Epoch 00010: reducing learning rate of group 0 to 9.0000e-03.\n",
      "Epoch 40 | Avg Loss: 0.1542 | Avg Precision: 93.65% | Patience: 2\n"
     ]
    },
    {
     "name": "stderr",
     "output_type": "stream",
     "text": [
      "Train: 100%|\u001B[32m████████████████████████\u001B[0m| 295/295 [01:04<00:00,  4.54batch/s, Loss: 0.0004 | Precision: 96.64%]\u001B[0m\n"
     ]
    },
    {
     "name": "stdout",
     "output_type": "stream",
     "text": [
      "Epoch 41 | Avg Loss: 0.0847 | Avg Precision: 96.27%\n"
     ]
    },
    {
     "name": "stderr",
     "output_type": "stream",
     "text": [
      "Train: 100%|\u001B[32m████████████████████████\u001B[0m| 295/295 [01:05<00:00,  4.53batch/s, Loss: 0.0003 | Precision: 97.52%]\u001B[0m\n"
     ]
    },
    {
     "name": "stdout",
     "output_type": "stream",
     "text": [
      "Epoch 42 | Avg Loss: 0.0647 | Avg Precision: 97.34%\n"
     ]
    },
    {
     "name": "stderr",
     "output_type": "stream",
     "text": [
      "Train: 100%|\u001B[32m████████████████████████\u001B[0m| 295/295 [01:04<00:00,  4.54batch/s, Loss: 0.0003 | Precision: 97.76%]\u001B[0m\n"
     ]
    },
    {
     "name": "stdout",
     "output_type": "stream",
     "text": [
      "Epoch 43 | Avg Loss: 0.0590 | Avg Precision: 97.66%\n"
     ]
    },
    {
     "name": "stderr",
     "output_type": "stream",
     "text": [
      "Train: 100%|\u001B[32m████████████████████████\u001B[0m| 295/295 [01:04<00:00,  4.55batch/s, Loss: 0.0007 | Precision: 97.92%]\u001B[0m\n"
     ]
    },
    {
     "name": "stdout",
     "output_type": "stream",
     "text": [
      "Epoch 44 | Avg Loss: 0.0547 | Avg Precision: 97.90%\n"
     ]
    },
    {
     "name": "stderr",
     "output_type": "stream",
     "text": [
      "Validate: 100%|\u001B[34m███████████████████████\u001B[0m| 74/74 [00:13<00:00,  5.55batch/s, Loss: 0.0843 | Precision: 95.63%]\u001B[0m\n"
     ]
    },
    {
     "name": "stdout",
     "output_type": "stream",
     "text": [
      "Epoch 44 | Avg Loss: 0.1162 | Avg Precision: 95.45% | Patience: 0\n"
     ]
    },
    {
     "name": "stderr",
     "output_type": "stream",
     "text": [
      "Train: 100%|\u001B[32m████████████████████████\u001B[0m| 295/295 [01:04<00:00,  4.55batch/s, Loss: 0.0002 | Precision: 97.98%]\u001B[0m\n"
     ]
    },
    {
     "name": "stdout",
     "output_type": "stream",
     "text": [
      "Epoch 45 | Avg Loss: 0.0536 | Avg Precision: 97.93%\n"
     ]
    },
    {
     "name": "stderr",
     "output_type": "stream",
     "text": [
      "Train: 100%|\u001B[32m████████████████████████\u001B[0m| 295/295 [01:04<00:00,  4.55batch/s, Loss: 0.0003 | Precision: 98.03%]\u001B[0m\n"
     ]
    },
    {
     "name": "stdout",
     "output_type": "stream",
     "text": [
      "Epoch 46 | Avg Loss: 0.0534 | Avg Precision: 98.05%\n"
     ]
    },
    {
     "name": "stderr",
     "output_type": "stream",
     "text": [
      "Train: 100%|\u001B[32m████████████████████████\u001B[0m| 295/295 [01:04<00:00,  4.59batch/s, Loss: 0.0024 | Precision: 98.01%]\u001B[0m\n"
     ]
    },
    {
     "name": "stdout",
     "output_type": "stream",
     "text": [
      "Epoch 47 | Avg Loss: 0.0528 | Avg Precision: 98.01%\n"
     ]
    },
    {
     "name": "stderr",
     "output_type": "stream",
     "text": [
      "Train: 100%|\u001B[32m████████████████████████\u001B[0m| 295/295 [01:04<00:00,  4.57batch/s, Loss: 0.0004 | Precision: 98.12%]\u001B[0m\n"
     ]
    },
    {
     "name": "stdout",
     "output_type": "stream",
     "text": [
      "Epoch 48 | Avg Loss: 0.0513 | Avg Precision: 98.15%\n"
     ]
    },
    {
     "name": "stderr",
     "output_type": "stream",
     "text": [
      "Validate: 100%|\u001B[34m███████████████████████\u001B[0m| 74/74 [00:13<00:00,  5.64batch/s, Loss: 0.1002 | Precision: 95.86%]\u001B[0m\n"
     ]
    },
    {
     "name": "stdout",
     "output_type": "stream",
     "text": [
      "Epoch 48 | Avg Loss: 0.1133 | Avg Precision: 95.80% | Patience: 0\n"
     ]
    },
    {
     "name": "stderr",
     "output_type": "stream",
     "text": [
      "Train: 100%|\u001B[32m████████████████████████\u001B[0m| 295/295 [01:04<00:00,  4.57batch/s, Loss: 0.0004 | Precision: 98.22%]\u001B[0m\n"
     ]
    },
    {
     "name": "stdout",
     "output_type": "stream",
     "text": [
      "Epoch 49 | Avg Loss: 0.0480 | Avg Precision: 98.22%\n"
     ]
    },
    {
     "name": "stderr",
     "output_type": "stream",
     "text": [
      "Train: 100%|\u001B[32m████████████████████████\u001B[0m| 295/295 [01:04<00:00,  4.57batch/s, Loss: 0.0009 | Precision: 98.07%]\u001B[0m\n"
     ]
    },
    {
     "name": "stdout",
     "output_type": "stream",
     "text": [
      "Epoch 50 | Avg Loss: 0.0523 | Avg Precision: 98.12%\n"
     ]
    },
    {
     "name": "stderr",
     "output_type": "stream",
     "text": [
      "Train: 100%|\u001B[32m████████████████████████\u001B[0m| 295/295 [01:04<00:00,  4.56batch/s, Loss: 0.0027 | Precision: 97.35%]\u001B[0m\n"
     ]
    },
    {
     "name": "stdout",
     "output_type": "stream",
     "text": [
      "Epoch 51 | Avg Loss: 0.0696 | Avg Precision: 97.66%\n"
     ]
    },
    {
     "name": "stderr",
     "output_type": "stream",
     "text": [
      "Train: 100%|\u001B[32m████████████████████████\u001B[0m| 295/295 [01:04<00:00,  4.56batch/s, Loss: 0.0025 | Precision: 97.13%]\u001B[0m\n"
     ]
    },
    {
     "name": "stdout",
     "output_type": "stream",
     "text": [
      "Epoch 52 | Avg Loss: 0.0746 | Avg Precision: 97.04%\n"
     ]
    },
    {
     "name": "stderr",
     "output_type": "stream",
     "text": [
      "Validate: 100%|\u001B[34m███████████████████████\u001B[0m| 74/74 [00:13<00:00,  5.60batch/s, Loss: 0.1005 | Precision: 94.92%]\u001B[0m\n"
     ]
    },
    {
     "name": "stdout",
     "output_type": "stream",
     "text": [
      "Epoch 52 | Avg Loss: 0.1297 | Avg Precision: 94.89% | Patience: 1\n"
     ]
    },
    {
     "name": "stderr",
     "output_type": "stream",
     "text": [
      "Train: 100%|\u001B[32m████████████████████████\u001B[0m| 295/295 [01:04<00:00,  4.58batch/s, Loss: 0.0125 | Precision: 97.21%]\u001B[0m\n"
     ]
    },
    {
     "name": "stdout",
     "output_type": "stream",
     "text": [
      "Epoch 53 | Avg Loss: 0.0724 | Avg Precision: 97.23%\n"
     ]
    },
    {
     "name": "stderr",
     "output_type": "stream",
     "text": [
      "Train: 100%|\u001B[32m████████████████████████\u001B[0m| 295/295 [01:04<00:00,  4.60batch/s, Loss: 0.0160 | Precision: 97.17%]\u001B[0m\n"
     ]
    },
    {
     "name": "stdout",
     "output_type": "stream",
     "text": [
      "Epoch 54 | Avg Loss: 0.0730 | Avg Precision: 96.82%\n"
     ]
    },
    {
     "name": "stderr",
     "output_type": "stream",
     "text": [
      "Train: 100%|\u001B[32m████████████████████████\u001B[0m| 295/295 [01:04<00:00,  4.55batch/s, Loss: 0.0009 | Precision: 97.69%]\u001B[0m\n"
     ]
    },
    {
     "name": "stdout",
     "output_type": "stream",
     "text": [
      "Epoch 55 | Avg Loss: 0.0605 | Avg Precision: 97.75%\n"
     ]
    },
    {
     "name": "stderr",
     "output_type": "stream",
     "text": [
      "Train: 100%|\u001B[32m████████████████████████\u001B[0m| 295/295 [01:04<00:00,  4.57batch/s, Loss: 0.0013 | Precision: 97.67%]\u001B[0m\n"
     ]
    },
    {
     "name": "stdout",
     "output_type": "stream",
     "text": [
      "Epoch 56 | Avg Loss: 0.0621 | Avg Precision: 97.62%\n"
     ]
    },
    {
     "name": "stderr",
     "output_type": "stream",
     "text": [
      "Validate: 100%|\u001B[34m███████████████████████\u001B[0m| 74/74 [00:13<00:00,  5.66batch/s, Loss: 0.1112 | Precision: 95.29%]\u001B[0m\n"
     ]
    },
    {
     "name": "stdout",
     "output_type": "stream",
     "text": [
      "Epoch 00014: reducing learning rate of group 0 to 8.1000e-03.\n",
      "Epoch 56 | Avg Loss: 0.1239 | Avg Precision: 95.32% | Patience: 2\n"
     ]
    },
    {
     "name": "stderr",
     "output_type": "stream",
     "text": [
      "Train: 100%|\u001B[32m████████████████████████\u001B[0m| 295/295 [01:04<00:00,  4.56batch/s, Loss: 0.0005 | Precision: 98.06%]\u001B[0m\n"
     ]
    },
    {
     "name": "stdout",
     "output_type": "stream",
     "text": [
      "Epoch 57 | Avg Loss: 0.0517 | Avg Precision: 97.88%\n"
     ]
    },
    {
     "name": "stderr",
     "output_type": "stream",
     "text": [
      "Train: 100%|\u001B[32m████████████████████████\u001B[0m| 295/295 [01:04<00:00,  4.55batch/s, Loss: 0.0051 | Precision: 98.14%]\u001B[0m\n"
     ]
    },
    {
     "name": "stdout",
     "output_type": "stream",
     "text": [
      "Epoch 58 | Avg Loss: 0.0503 | Avg Precision: 98.22%\n"
     ]
    },
    {
     "name": "stderr",
     "output_type": "stream",
     "text": [
      "Train: 100%|\u001B[32m████████████████████████\u001B[0m| 295/295 [01:04<00:00,  4.60batch/s, Loss: 0.0018 | Precision: 98.15%]\u001B[0m\n"
     ]
    },
    {
     "name": "stdout",
     "output_type": "stream",
     "text": [
      "Epoch 59 | Avg Loss: 0.0499 | Avg Precision: 97.98%\n"
     ]
    },
    {
     "name": "stderr",
     "output_type": "stream",
     "text": [
      "Train: 100%|\u001B[32m████████████████████████\u001B[0m| 295/295 [01:03<00:00,  4.61batch/s, Loss: 0.0228 | Precision: 98.28%]\u001B[0m\n"
     ]
    },
    {
     "name": "stdout",
     "output_type": "stream",
     "text": [
      "Epoch 60 | Avg Loss: 0.0469 | Avg Precision: 98.22%\n"
     ]
    },
    {
     "name": "stderr",
     "output_type": "stream",
     "text": [
      "Validate: 100%|\u001B[34m███████████████████████\u001B[0m| 74/74 [00:13<00:00,  5.61batch/s, Loss: 0.1226 | Precision: 95.73%]\u001B[0m\n"
     ]
    },
    {
     "name": "stdout",
     "output_type": "stream",
     "text": [
      "Epoch 60 | Avg Loss: 0.1208 | Avg Precision: 95.76% | Patience: 3\n"
     ]
    },
    {
     "name": "stderr",
     "output_type": "stream",
     "text": [
      "Train: 100%|\u001B[32m████████████████████████\u001B[0m| 295/295 [01:04<00:00,  4.54batch/s, Loss: 0.0016 | Precision: 97.87%]\u001B[0m\n"
     ]
    },
    {
     "name": "stdout",
     "output_type": "stream",
     "text": [
      "Epoch 61 | Avg Loss: 0.0572 | Avg Precision: 97.86%\n"
     ]
    },
    {
     "name": "stderr",
     "output_type": "stream",
     "text": [
      "Train: 100%|\u001B[32m████████████████████████\u001B[0m| 295/295 [01:04<00:00,  4.57batch/s, Loss: 0.0297 | Precision: 98.17%]\u001B[0m\n"
     ]
    },
    {
     "name": "stdout",
     "output_type": "stream",
     "text": [
      "Epoch 62 | Avg Loss: 0.0504 | Avg Precision: 98.21%\n"
     ]
    },
    {
     "name": "stderr",
     "output_type": "stream",
     "text": [
      "Train: 100%|\u001B[32m████████████████████████\u001B[0m| 295/295 [01:04<00:00,  4.57batch/s, Loss: 0.0014 | Precision: 98.16%]\u001B[0m\n"
     ]
    },
    {
     "name": "stdout",
     "output_type": "stream",
     "text": [
      "Epoch 63 | Avg Loss: 0.0497 | Avg Precision: 98.03%\n"
     ]
    },
    {
     "name": "stderr",
     "output_type": "stream",
     "text": [
      "Train: 100%|\u001B[32m████████████████████████\u001B[0m| 295/295 [01:04<00:00,  4.55batch/s, Loss: 0.0012 | Precision: 98.50%]\u001B[0m\n"
     ]
    },
    {
     "name": "stdout",
     "output_type": "stream",
     "text": [
      "Epoch 64 | Avg Loss: 0.0416 | Avg Precision: 98.43%\n"
     ]
    },
    {
     "name": "stderr",
     "output_type": "stream",
     "text": [
      "Validate: 100%|\u001B[34m███████████████████████\u001B[0m| 74/74 [00:13<00:00,  5.66batch/s, Loss: 0.0879 | Precision: 96.32%]\u001B[0m\n"
     ]
    },
    {
     "name": "stdout",
     "output_type": "stream",
     "text": [
      "Epoch 64 | Avg Loss: 0.1114 | Avg Precision: 96.32% | Patience: 0\n"
     ]
    },
    {
     "name": "stderr",
     "output_type": "stream",
     "text": [
      "Train: 100%|\u001B[32m████████████████████████\u001B[0m| 295/295 [01:04<00:00,  4.57batch/s, Loss: 0.0002 | Precision: 98.67%]\u001B[0m\n"
     ]
    },
    {
     "name": "stdout",
     "output_type": "stream",
     "text": [
      "Epoch 65 | Avg Loss: 0.0371 | Avg Precision: 98.72%\n"
     ]
    },
    {
     "name": "stderr",
     "output_type": "stream",
     "text": [
      "Train: 100%|\u001B[32m████████████████████████\u001B[0m| 295/295 [01:04<00:00,  4.59batch/s, Loss: 0.0052 | Precision: 98.64%]\u001B[0m\n"
     ]
    },
    {
     "name": "stdout",
     "output_type": "stream",
     "text": [
      "Epoch 66 | Avg Loss: 0.0383 | Avg Precision: 98.61%\n"
     ]
    },
    {
     "name": "stderr",
     "output_type": "stream",
     "text": [
      "Train: 100%|\u001B[32m████████████████████████\u001B[0m| 295/295 [01:04<00:00,  4.61batch/s, Loss: 0.0110 | Precision: 98.14%]\u001B[0m\n"
     ]
    },
    {
     "name": "stdout",
     "output_type": "stream",
     "text": [
      "Epoch 67 | Avg Loss: 0.0499 | Avg Precision: 98.30%\n"
     ]
    },
    {
     "name": "stderr",
     "output_type": "stream",
     "text": [
      "Train: 100%|\u001B[32m████████████████████████\u001B[0m| 295/295 [01:04<00:00,  4.59batch/s, Loss: 0.0011 | Precision: 98.11%]\u001B[0m\n"
     ]
    },
    {
     "name": "stdout",
     "output_type": "stream",
     "text": [
      "Epoch 68 | Avg Loss: 0.0514 | Avg Precision: 98.13%\n"
     ]
    },
    {
     "name": "stderr",
     "output_type": "stream",
     "text": [
      "Validate: 100%|\u001B[34m███████████████████████\u001B[0m| 74/74 [00:13<00:00,  5.68batch/s, Loss: 0.0806 | Precision: 95.93%]\u001B[0m\n"
     ]
    },
    {
     "name": "stdout",
     "output_type": "stream",
     "text": [
      "Epoch 68 | Avg Loss: 0.1093 | Avg Precision: 95.75% | Patience: 1\n"
     ]
    },
    {
     "name": "stderr",
     "output_type": "stream",
     "text": [
      "Train: 100%|\u001B[32m████████████████████████\u001B[0m| 295/295 [01:03<00:00,  4.62batch/s, Loss: 0.0019 | Precision: 97.49%]\u001B[0m\n"
     ]
    },
    {
     "name": "stdout",
     "output_type": "stream",
     "text": [
      "Epoch 69 | Avg Loss: 0.0658 | Avg Precision: 97.82%\n"
     ]
    },
    {
     "name": "stderr",
     "output_type": "stream",
     "text": [
      "Train: 100%|\u001B[32m████████████████████████\u001B[0m| 295/295 [01:04<00:00,  4.61batch/s, Loss: 0.0005 | Precision: 97.69%]\u001B[0m\n"
     ]
    },
    {
     "name": "stdout",
     "output_type": "stream",
     "text": [
      "Epoch 70 | Avg Loss: 0.0609 | Avg Precision: 97.46%\n"
     ]
    },
    {
     "name": "stderr",
     "output_type": "stream",
     "text": [
      "Train: 100%|\u001B[32m████████████████████████\u001B[0m| 295/295 [01:03<00:00,  4.63batch/s, Loss: 0.0015 | Precision: 97.56%]\u001B[0m\n"
     ]
    },
    {
     "name": "stdout",
     "output_type": "stream",
     "text": [
      "Epoch 71 | Avg Loss: 0.0631 | Avg Precision: 97.79%\n"
     ]
    },
    {
     "name": "stderr",
     "output_type": "stream",
     "text": [
      "Train: 100%|\u001B[32m████████████████████████\u001B[0m| 295/295 [01:04<00:00,  4.61batch/s, Loss: 0.0002 | Precision: 97.10%]\u001B[0m\n"
     ]
    },
    {
     "name": "stdout",
     "output_type": "stream",
     "text": [
      "Epoch 72 | Avg Loss: 0.0744 | Avg Precision: 97.03%\n"
     ]
    },
    {
     "name": "stderr",
     "output_type": "stream",
     "text": [
      "Validate: 100%|\u001B[34m███████████████████████\u001B[0m| 74/74 [00:12<00:00,  5.72batch/s, Loss: 0.1468 | Precision: 95.14%]\u001B[0m\n"
     ]
    },
    {
     "name": "stdout",
     "output_type": "stream",
     "text": [
      "Epoch 00018: reducing learning rate of group 0 to 7.2900e-03.\n",
      "Epoch 72 | Avg Loss: 0.1265 | Avg Precision: 95.04% | Patience: 2\n"
     ]
    },
    {
     "name": "stderr",
     "output_type": "stream",
     "text": [
      "Train: 100%|\u001B[32m████████████████████████\u001B[0m| 295/295 [01:02<00:00,  4.68batch/s, Loss: 0.0006 | Precision: 97.53%]\u001B[0m\n"
     ]
    },
    {
     "name": "stdout",
     "output_type": "stream",
     "text": [
      "Epoch 73 | Avg Loss: 0.0644 | Avg Precision: 97.40%\n"
     ]
    },
    {
     "name": "stderr",
     "output_type": "stream",
     "text": [
      "Train: 100%|\u001B[32m████████████████████████\u001B[0m| 295/295 [01:02<00:00,  4.69batch/s, Loss: 0.0018 | Precision: 97.70%]\u001B[0m\n"
     ]
    },
    {
     "name": "stdout",
     "output_type": "stream",
     "text": [
      "Epoch 74 | Avg Loss: 0.0603 | Avg Precision: 97.58%\n"
     ]
    },
    {
     "name": "stderr",
     "output_type": "stream",
     "text": [
      "Train: 100%|\u001B[32m████████████████████████\u001B[0m| 295/295 [01:02<00:00,  4.70batch/s, Loss: 0.0005 | Precision: 97.86%]\u001B[0m\n"
     ]
    },
    {
     "name": "stdout",
     "output_type": "stream",
     "text": [
      "Epoch 75 | Avg Loss: 0.0558 | Avg Precision: 97.83%\n"
     ]
    },
    {
     "name": "stderr",
     "output_type": "stream",
     "text": [
      "Train: 100%|\u001B[32m████████████████████████\u001B[0m| 295/295 [01:03<00:00,  4.68batch/s, Loss: 0.0005 | Precision: 98.21%]\u001B[0m\n"
     ]
    },
    {
     "name": "stdout",
     "output_type": "stream",
     "text": [
      "Epoch 76 | Avg Loss: 0.0488 | Avg Precision: 98.09%\n"
     ]
    },
    {
     "name": "stderr",
     "output_type": "stream",
     "text": [
      "Validate: 100%|\u001B[34m███████████████████████\u001B[0m| 74/74 [00:12<00:00,  5.84batch/s, Loss: 0.0873 | Precision: 95.53%]\u001B[0m\n"
     ]
    },
    {
     "name": "stdout",
     "output_type": "stream",
     "text": [
      "Epoch 76 | Avg Loss: 0.1195 | Avg Precision: 95.48% | Patience: 3\n"
     ]
    },
    {
     "name": "stderr",
     "output_type": "stream",
     "text": [
      "Train: 100%|\u001B[32m████████████████████████\u001B[0m| 295/295 [01:03<00:00,  4.68batch/s, Loss: 0.0008 | Precision: 98.47%]\u001B[0m\n"
     ]
    },
    {
     "name": "stdout",
     "output_type": "stream",
     "text": [
      "Epoch 77 | Avg Loss: 0.0424 | Avg Precision: 98.38%\n"
     ]
    },
    {
     "name": "stderr",
     "output_type": "stream",
     "text": [
      "Train: 100%|\u001B[32m████████████████████████\u001B[0m| 295/295 [01:02<00:00,  4.71batch/s, Loss: 0.0013 | Precision: 98.27%]\u001B[0m\n"
     ]
    },
    {
     "name": "stdout",
     "output_type": "stream",
     "text": [
      "Epoch 78 | Avg Loss: 0.0473 | Avg Precision: 98.45%\n"
     ]
    },
    {
     "name": "stderr",
     "output_type": "stream",
     "text": [
      "Train: 100%|\u001B[32m████████████████████████\u001B[0m| 295/295 [01:03<00:00,  4.68batch/s, Loss: 0.0003 | Precision: 97.82%]\u001B[0m\n"
     ]
    },
    {
     "name": "stdout",
     "output_type": "stream",
     "text": [
      "Epoch 79 | Avg Loss: 0.0581 | Avg Precision: 97.73%\n"
     ]
    },
    {
     "name": "stderr",
     "output_type": "stream",
     "text": [
      "Train: 100%|\u001B[32m████████████████████████\u001B[0m| 295/295 [01:02<00:00,  4.70batch/s, Loss: 0.0004 | Precision: 98.18%]\u001B[0m\n"
     ]
    },
    {
     "name": "stdout",
     "output_type": "stream",
     "text": [
      "Epoch 80 | Avg Loss: 0.0495 | Avg Precision: 98.00%\n"
     ]
    },
    {
     "name": "stderr",
     "output_type": "stream",
     "text": [
      "Validate: 100%|\u001B[34m███████████████████████\u001B[0m| 74/74 [00:12<00:00,  5.91batch/s, Loss: 0.0924 | Precision: 95.81%]\u001B[0m\n"
     ]
    },
    {
     "name": "stdout",
     "output_type": "stream",
     "text": [
      "Epoch 00020: reducing learning rate of group 0 to 6.5610e-03.\n",
      "Epoch 80 | Avg Loss: 0.1150 | Avg Precision: 95.79% | Patience: 4\n"
     ]
    },
    {
     "name": "stderr",
     "output_type": "stream",
     "text": [
      "Train: 100%|\u001B[32m████████████████████████\u001B[0m| 295/295 [01:02<00:00,  4.71batch/s, Loss: 0.0005 | Precision: 98.40%]\u001B[0m\n"
     ]
    },
    {
     "name": "stdout",
     "output_type": "stream",
     "text": [
      "Epoch 81 | Avg Loss: 0.0442 | Avg Precision: 98.31%\n"
     ]
    },
    {
     "name": "stderr",
     "output_type": "stream",
     "text": [
      "Train: 100%|\u001B[32m████████████████████████\u001B[0m| 295/295 [01:02<00:00,  4.69batch/s, Loss: 0.0009 | Precision: 98.76%]\u001B[0m\n"
     ]
    },
    {
     "name": "stdout",
     "output_type": "stream",
     "text": [
      "Epoch 82 | Avg Loss: 0.0353 | Avg Precision: 98.72%\n"
     ]
    },
    {
     "name": "stderr",
     "output_type": "stream",
     "text": [
      "Train: 100%|\u001B[32m████████████████████████\u001B[0m| 295/295 [01:02<00:00,  4.70batch/s, Loss: 0.0005 | Precision: 98.97%]\u001B[0m\n"
     ]
    },
    {
     "name": "stdout",
     "output_type": "stream",
     "text": [
      "Epoch 83 | Avg Loss: 0.0303 | Avg Precision: 98.93%\n"
     ]
    },
    {
     "name": "stderr",
     "output_type": "stream",
     "text": [
      "Train: 100%|\u001B[32m████████████████████████\u001B[0m| 295/295 [01:02<00:00,  4.69batch/s, Loss: 0.0007 | Precision: 98.97%]\u001B[0m\n"
     ]
    },
    {
     "name": "stdout",
     "output_type": "stream",
     "text": [
      "Epoch 84 | Avg Loss: 0.0307 | Avg Precision: 99.00%\n"
     ]
    },
    {
     "name": "stderr",
     "output_type": "stream",
     "text": [
      "Validate: 100%|\u001B[34m███████████████████████\u001B[0m| 74/74 [00:12<00:00,  5.80batch/s, Loss: 0.0981 | Precision: 96.48%]\u001B[0m\n"
     ]
    },
    {
     "name": "stdout",
     "output_type": "stream",
     "text": [
      "Epoch 84 | Avg Loss: 0.1119 | Avg Precision: 96.53% | Patience: 0\n"
     ]
    },
    {
     "name": "stderr",
     "output_type": "stream",
     "text": [
      "Train: 100%|\u001B[32m████████████████████████\u001B[0m| 295/295 [01:02<00:00,  4.70batch/s, Loss: 0.0006 | Precision: 98.76%]\u001B[0m\n"
     ]
    },
    {
     "name": "stdout",
     "output_type": "stream",
     "text": [
      "Epoch 85 | Avg Loss: 0.0358 | Avg Precision: 98.85%\n"
     ]
    },
    {
     "name": "stderr",
     "output_type": "stream",
     "text": [
      "Train: 100%|\u001B[32m████████████████████████\u001B[0m| 295/295 [01:02<00:00,  4.69batch/s, Loss: 0.0005 | Precision: 98.82%]\u001B[0m\n"
     ]
    },
    {
     "name": "stdout",
     "output_type": "stream",
     "text": [
      "Epoch 86 | Avg Loss: 0.0343 | Avg Precision: 98.78%\n"
     ]
    },
    {
     "name": "stderr",
     "output_type": "stream",
     "text": [
      "Train: 100%|\u001B[32m████████████████████████\u001B[0m| 295/295 [01:02<00:00,  4.69batch/s, Loss: 0.0006 | Precision: 98.87%]\u001B[0m\n"
     ]
    },
    {
     "name": "stdout",
     "output_type": "stream",
     "text": [
      "Epoch 87 | Avg Loss: 0.0332 | Avg Precision: 98.87%\n"
     ]
    },
    {
     "name": "stderr",
     "output_type": "stream",
     "text": [
      "Train: 100%|\u001B[32m████████████████████████\u001B[0m| 295/295 [01:03<00:00,  4.64batch/s, Loss: 0.0005 | Precision: 98.81%]\u001B[0m\n"
     ]
    },
    {
     "name": "stdout",
     "output_type": "stream",
     "text": [
      "Epoch 88 | Avg Loss: 0.0342 | Avg Precision: 98.83%\n"
     ]
    },
    {
     "name": "stderr",
     "output_type": "stream",
     "text": [
      "Validate: 100%|\u001B[34m███████████████████████\u001B[0m| 74/74 [00:12<00:00,  5.91batch/s, Loss: 0.0609 | Precision: 96.25%]\u001B[0m\n"
     ]
    },
    {
     "name": "stdout",
     "output_type": "stream",
     "text": [
      "Epoch 88 | Avg Loss: 0.1182 | Avg Precision: 96.16% | Patience: 1\n"
     ]
    },
    {
     "name": "stderr",
     "output_type": "stream",
     "text": [
      "Train: 100%|\u001B[32m████████████████████████\u001B[0m| 295/295 [01:02<00:00,  4.69batch/s, Loss: 0.0005 | Precision: 98.65%]\u001B[0m\n"
     ]
    },
    {
     "name": "stdout",
     "output_type": "stream",
     "text": [
      "Epoch 89 | Avg Loss: 0.0391 | Avg Precision: 98.73%\n"
     ]
    },
    {
     "name": "stderr",
     "output_type": "stream",
     "text": [
      "Train: 100%|\u001B[32m████████████████████████\u001B[0m| 295/295 [01:02<00:00,  4.69batch/s, Loss: 0.0003 | Precision: 98.72%]\u001B[0m\n"
     ]
    },
    {
     "name": "stdout",
     "output_type": "stream",
     "text": [
      "Epoch 90 | Avg Loss: 0.0369 | Avg Precision: 98.60%\n"
     ]
    },
    {
     "name": "stderr",
     "output_type": "stream",
     "text": [
      "Train: 100%|\u001B[32m████████████████████████\u001B[0m| 295/295 [01:02<00:00,  4.68batch/s, Loss: 0.0005 | Precision: 98.80%]\u001B[0m\n"
     ]
    },
    {
     "name": "stdout",
     "output_type": "stream",
     "text": [
      "Epoch 91 | Avg Loss: 0.0347 | Avg Precision: 98.81%\n"
     ]
    },
    {
     "name": "stderr",
     "output_type": "stream",
     "text": [
      "Train: 100%|\u001B[32m████████████████████████\u001B[0m| 295/295 [01:02<00:00,  4.69batch/s, Loss: 0.0003 | Precision: 98.80%]\u001B[0m\n"
     ]
    },
    {
     "name": "stdout",
     "output_type": "stream",
     "text": [
      "Epoch 92 | Avg Loss: 0.0340 | Avg Precision: 98.80%\n"
     ]
    },
    {
     "name": "stderr",
     "output_type": "stream",
     "text": [
      "Validate: 100%|\u001B[34m███████████████████████\u001B[0m| 74/74 [00:12<00:00,  5.87batch/s, Loss: 0.1130 | Precision: 96.38%]\u001B[0m\n"
     ]
    },
    {
     "name": "stdout",
     "output_type": "stream",
     "text": [
      "Epoch 00023: reducing learning rate of group 0 to 5.9049e-03.\n",
      "Epoch 92 | Avg Loss: 0.1158 | Avg Precision: 96.32% | Patience: 2\n"
     ]
    },
    {
     "name": "stderr",
     "output_type": "stream",
     "text": [
      "Train: 100%|\u001B[32m████████████████████████\u001B[0m| 295/295 [01:02<00:00,  4.71batch/s, Loss: 0.0003 | Precision: 98.64%]\u001B[0m\n"
     ]
    },
    {
     "name": "stdout",
     "output_type": "stream",
     "text": [
      "Epoch 93 | Avg Loss: 0.0391 | Avg Precision: 98.64%\n"
     ]
    },
    {
     "name": "stderr",
     "output_type": "stream",
     "text": [
      "Train: 100%|\u001B[32m████████████████████████\u001B[0m| 295/295 [01:02<00:00,  4.70batch/s, Loss: 0.0008 | Precision: 98.67%]\u001B[0m\n"
     ]
    },
    {
     "name": "stdout",
     "output_type": "stream",
     "text": [
      "Epoch 94 | Avg Loss: 0.0378 | Avg Precision: 98.56%\n"
     ]
    },
    {
     "name": "stderr",
     "output_type": "stream",
     "text": [
      "Train: 100%|\u001B[32m████████████████████████\u001B[0m| 295/295 [01:02<00:00,  4.71batch/s, Loss: 0.0001 | Precision: 99.08%]\u001B[0m\n"
     ]
    },
    {
     "name": "stdout",
     "output_type": "stream",
     "text": [
      "Epoch 95 | Avg Loss: 0.0276 | Avg Precision: 99.07%\n"
     ]
    },
    {
     "name": "stderr",
     "output_type": "stream",
     "text": [
      "Train: 100%|\u001B[32m████████████████████████\u001B[0m| 295/295 [01:02<00:00,  4.69batch/s, Loss: 0.0001 | Precision: 99.19%]\u001B[0m\n"
     ]
    },
    {
     "name": "stdout",
     "output_type": "stream",
     "text": [
      "Epoch 96 | Avg Loss: 0.0248 | Avg Precision: 99.17%\n"
     ]
    },
    {
     "name": "stderr",
     "output_type": "stream",
     "text": [
      "Validate: 100%|\u001B[34m███████████████████████\u001B[0m| 74/74 [00:12<00:00,  5.90batch/s, Loss: 0.0874 | Precision: 96.79%]\u001B[0m\n"
     ]
    },
    {
     "name": "stdout",
     "output_type": "stream",
     "text": [
      "Epoch 96 | Avg Loss: 0.1130 | Avg Precision: 96.77% | Patience: 0\n"
     ]
    },
    {
     "name": "stderr",
     "output_type": "stream",
     "text": [
      "Train: 100%|\u001B[32m████████████████████████\u001B[0m| 295/295 [01:02<00:00,  4.69batch/s, Loss: 0.0001 | Precision: 99.17%]\u001B[0m\n"
     ]
    },
    {
     "name": "stdout",
     "output_type": "stream",
     "text": [
      "Epoch 97 | Avg Loss: 0.0260 | Avg Precision: 99.24%\n"
     ]
    },
    {
     "name": "stderr",
     "output_type": "stream",
     "text": [
      "Train: 100%|\u001B[32m████████████████████████\u001B[0m| 295/295 [01:02<00:00,  4.71batch/s, Loss: 0.0001 | Precision: 98.95%]\u001B[0m\n"
     ]
    },
    {
     "name": "stdout",
     "output_type": "stream",
     "text": [
      "Epoch 98 | Avg Loss: 0.0314 | Avg Precision: 99.03%\n"
     ]
    },
    {
     "name": "stderr",
     "output_type": "stream",
     "text": [
      "Train: 100%|\u001B[32m████████████████████████\u001B[0m| 295/295 [01:02<00:00,  4.70batch/s, Loss: 0.0002 | Precision: 98.81%]\u001B[0m\n"
     ]
    },
    {
     "name": "stdout",
     "output_type": "stream",
     "text": [
      "Epoch 99 | Avg Loss: 0.0345 | Avg Precision: 98.82%\n"
     ]
    },
    {
     "name": "stderr",
     "output_type": "stream",
     "text": [
      "Train: 100%|\u001B[32m████████████████████████\u001B[0m| 295/295 [01:02<00:00,  4.70batch/s, Loss: 0.0042 | Precision: 98.84%]\u001B[0m\n"
     ]
    },
    {
     "name": "stdout",
     "output_type": "stream",
     "text": [
      "Epoch 100 | Avg Loss: 0.0340 | Avg Precision: 98.85%\n"
     ]
    },
    {
     "name": "stderr",
     "output_type": "stream",
     "text": [
      "Validate: 100%|\u001B[34m███████████████████████\u001B[0m| 74/74 [00:12<00:00,  5.82batch/s, Loss: 0.1695 | Precision: 96.23%]\u001B[0m"
     ]
    },
    {
     "name": "stdout",
     "output_type": "stream",
     "text": [
      "Epoch 100 | Avg Loss: 0.1259 | Avg Precision: 96.21% | Patience: 1\n",
      "Training Complete - Best Validate Precision: 96.77%\n"
     ]
    },
    {
     "name": "stderr",
     "output_type": "stream",
     "text": [
      "\n"
     ]
    }
   ],
   "source": [
    "model = LSTMnet(8, 500, 1, 4)\n",
    "model = model.to(device)\n",
    "criterion = nn.CrossEntropyLoss()\n",
    "optimizer = optim.Adam(model.parameters(), lr=.01)\n",
    "scheduler = ReduceLROnPlateau(optimizer, 'max', factor=.9, patience=1, min_lr=.0001, verbose=True)\n",
    "\n",
    "model3 = train_validate(model, criterion, optimizer, scheduler)\n",
    "torch.save(model3.state_dict(), '.\\\\models\\\\downsample\\\\lstm\\\\model3.pth')"
   ]
  },
  {
   "cell_type": "markdown",
   "id": "3a2a84a3-51fb-42c7-a2cb-39e3c28c533f",
   "metadata": {
    "jp-MarkdownHeadingCollapsed": true
   },
   "source": [
    "## Predict | Submit"
   ]
  },
  {
   "cell_type": "code",
   "execution_count": null,
   "id": "9a44e6c8-d0c2-41b6-a6c9-9c5504359da2",
   "metadata": {},
   "outputs": [],
   "source": [
    "ypreds = predict(model1, test_loader)\n",
    "test_df['Prediction'] = ypreds"
   ]
  },
  {
   "cell_type": "code",
   "execution_count": null,
   "id": "009ef33f-1a8e-44df-a625-1a8790735d34",
   "metadata": {},
   "outputs": [],
   "source": [
    "sub = pd.DataFrame()\n",
    "temp = test_df.copy()\n",
    "temp[\"Id\"] = temp.apply(lambda x : str(x.Id) + \"_\" + str(x.Time), axis = 1)\n",
    "temp['StartHesitation'] = np.where(temp['Prediction'] == 1, 1, 0)\n",
    "temp['Turn'] = np.where(temp['Prediction'] == 2, 1, 0)\n",
    "temp['Walking'] = np.where(temp['Prediction'] == 3, 1, 0)\n",
    "temp = temp[['Id', 'StartHesitation', 'Turn', 'Walking']]\n",
    "sub = pd.concat([sub, temp])"
   ]
  }
 ],
 "metadata": {
  "kernelspec": {
   "display_name": "Python 3 (ipykernel)",
   "language": "python",
   "name": "python3"
  },
  "language_info": {
   "codemirror_mode": {
    "name": "ipython",
    "version": 3
   },
   "file_extension": ".py",
   "mimetype": "text/x-python",
   "name": "python",
   "nbconvert_exporter": "python",
   "pygments_lexer": "ipython3",
   "version": "3.11.3"
  }
 },
 "nbformat": 4,
 "nbformat_minor": 5
}
