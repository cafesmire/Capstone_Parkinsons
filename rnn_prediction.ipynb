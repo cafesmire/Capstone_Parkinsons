{
 "cells": [
  {
   "cell_type": "markdown",
   "id": "4a000284-f5d6-4f6a-9a1b-523041a50014",
   "metadata": {},
   "source": [
    "### Imports"
   ]
  },
  {
   "cell_type": "code",
   "execution_count": 1,
   "id": "c0e10e01-2f86-4da3-9522-55edd2d9ee35",
   "metadata": {},
   "outputs": [
    {
     "name": "stderr",
     "output_type": "stream",
     "text": [
      "C:\\Users\\cafes\\Envs\\torch-dml\\lib\\site-packages\\tqdm\\auto.py:21: TqdmWarning: IProgress not found. Please update jupyter and ipywidgets. See https://ipywidgets.readthedocs.io/en/stable/user_install.html\n",
      "  from .autonotebook import tqdm as notebook_tqdm\n"
     ]
    }
   ],
   "source": [
    "import torch\n",
    "import torch.nn as nn\n",
    "import torch_directml\n",
    "import torchmetrics\n",
    "import torch.optim as optim\n",
    "import torchmetrics.functional as F\n",
    "import pandas as pd\n",
    "import numpy as np\n",
    "import matplotlib.pyplot as plt\n",
    "import random\n",
    "import os\n",
    "from tqdm import tqdm\n",
    "from torch.utils.data import Dataset, DataLoader\n",
    "from torch.utils.tensorboard import SummaryWriter\n",
    "from torch.optim.lr_scheduler import ReduceLROnPlateau\n",
    "import warnings\n",
    "warnings.filterwarnings('ignore')\n",
    "#AMD GPU Acceleration\n",
    "device = torch_directml.device(torch_directml.default_device())"
   ]
  },
  {
   "cell_type": "code",
   "execution_count": 2,
   "id": "296ee318-03cd-4ff6-8e18-8f9280d078a2",
   "metadata": {},
   "outputs": [],
   "source": [
    "def set_seed(seed=42):\n",
    "    random.seed(seed)\n",
    "    np.random.seed(seed)\n",
    "    os.environ[\"PYTHONHASHSEED\"] = str(seed)\n",
    "    torch.manual_seed(seed)\n",
    "    torch.cuda.manual_seed(seed)\n",
    "    torch.backends.cudnn.deterministic = True\n",
    "    torch.backends.cudnn.benchmark = False"
   ]
  },
  {
   "cell_type": "code",
   "execution_count": 3,
   "id": "571b0f5e-e79b-4df6-8e66-977d8f01833f",
   "metadata": {},
   "outputs": [],
   "source": [
    "set_seed()"
   ]
  },
  {
   "cell_type": "code",
   "execution_count": 4,
   "id": "2f352213-7687-4dc3-bfc1-e3071b85d915",
   "metadata": {},
   "outputs": [],
   "source": [
    "train_writer = SummaryWriter('.\\\\runs\\\\train\\\\rnn\\\\')\n",
    "val_writer = SummaryWriter('.\\\\runs\\\\validate\\\\rnn\\\\')"
   ]
  },
  {
   "cell_type": "markdown",
   "id": "a6c44b3c-d9eb-4eb1-8138-c2c3123185b8",
   "metadata": {},
   "source": [
    "### Choose One"
   ]
  },
  {
   "cell_type": "markdown",
   "id": "c0763155-e7ae-44a2-b5b9-385f6b4fdaad",
   "metadata": {},
   "source": [
    "#### Read in Standardized Downsample with new feature"
   ]
  },
  {
   "cell_type": "code",
   "execution_count": 5,
   "id": "ae3758df-5ce2-402b-a05b-f741abb8259e",
   "metadata": {},
   "outputs": [
    {
     "data": {
      "text/html": [
       "<div>\n",
       "<style scoped>\n",
       "    .dataframe tbody tr th:only-of-type {\n",
       "        vertical-align: middle;\n",
       "    }\n",
       "\n",
       "    .dataframe tbody tr th {\n",
       "        vertical-align: top;\n",
       "    }\n",
       "\n",
       "    .dataframe thead th {\n",
       "        text-align: right;\n",
       "    }\n",
       "</style>\n",
       "<table border=\"1\" class=\"dataframe\">\n",
       "  <thead>\n",
       "    <tr style=\"text-align: right;\">\n",
       "      <th></th>\n",
       "      <th>AccV</th>\n",
       "      <th>AccML</th>\n",
       "      <th>AccAP</th>\n",
       "      <th>Medication</th>\n",
       "      <th>Age</th>\n",
       "      <th>Sex</th>\n",
       "      <th>YearsSinceDx</th>\n",
       "      <th>Test_Visit</th>\n",
       "      <th>Event</th>\n",
       "    </tr>\n",
       "    <tr>\n",
       "      <th>Time</th>\n",
       "      <th></th>\n",
       "      <th></th>\n",
       "      <th></th>\n",
       "      <th></th>\n",
       "      <th></th>\n",
       "      <th></th>\n",
       "      <th></th>\n",
       "      <th></th>\n",
       "      <th></th>\n",
       "    </tr>\n",
       "  </thead>\n",
       "  <tbody>\n",
       "    <tr>\n",
       "      <th>0</th>\n",
       "      <td>-0.416921</td>\n",
       "      <td>0.680190</td>\n",
       "      <td>-0.585780</td>\n",
       "      <td>0.866530</td>\n",
       "      <td>-0.110647</td>\n",
       "      <td>-1.719166</td>\n",
       "      <td>-0.182777</td>\n",
       "      <td>0.648921</td>\n",
       "      <td>0</td>\n",
       "    </tr>\n",
       "    <tr>\n",
       "      <th>1</th>\n",
       "      <td>-0.420816</td>\n",
       "      <td>0.678475</td>\n",
       "      <td>-0.578919</td>\n",
       "      <td>0.866530</td>\n",
       "      <td>-0.110647</td>\n",
       "      <td>-1.719166</td>\n",
       "      <td>-0.182777</td>\n",
       "      <td>0.648921</td>\n",
       "      <td>0</td>\n",
       "    </tr>\n",
       "    <tr>\n",
       "      <th>2</th>\n",
       "      <td>-0.419886</td>\n",
       "      <td>0.676579</td>\n",
       "      <td>-0.580286</td>\n",
       "      <td>0.866530</td>\n",
       "      <td>-0.110647</td>\n",
       "      <td>-1.719166</td>\n",
       "      <td>-0.182777</td>\n",
       "      <td>0.648921</td>\n",
       "      <td>0</td>\n",
       "    </tr>\n",
       "    <tr>\n",
       "      <th>3</th>\n",
       "      <td>-0.413896</td>\n",
       "      <td>0.674399</td>\n",
       "      <td>-0.594393</td>\n",
       "      <td>0.866530</td>\n",
       "      <td>-0.110647</td>\n",
       "      <td>-1.719166</td>\n",
       "      <td>-0.182777</td>\n",
       "      <td>0.648921</td>\n",
       "      <td>0</td>\n",
       "    </tr>\n",
       "    <tr>\n",
       "      <th>4</th>\n",
       "      <td>-0.403594</td>\n",
       "      <td>0.674941</td>\n",
       "      <td>-0.607099</td>\n",
       "      <td>0.866530</td>\n",
       "      <td>-0.110647</td>\n",
       "      <td>-1.719166</td>\n",
       "      <td>-0.182777</td>\n",
       "      <td>0.648921</td>\n",
       "      <td>0</td>\n",
       "    </tr>\n",
       "    <tr>\n",
       "      <th>...</th>\n",
       "      <td>...</td>\n",
       "      <td>...</td>\n",
       "      <td>...</td>\n",
       "      <td>...</td>\n",
       "      <td>...</td>\n",
       "      <td>...</td>\n",
       "      <td>...</td>\n",
       "      <td>...</td>\n",
       "      <td>...</td>\n",
       "    </tr>\n",
       "    <tr>\n",
       "      <th>136</th>\n",
       "      <td>-0.230050</td>\n",
       "      <td>0.202884</td>\n",
       "      <td>-1.195147</td>\n",
       "      <td>-1.154029</td>\n",
       "      <td>-0.487734</td>\n",
       "      <td>0.581678</td>\n",
       "      <td>1.891825</td>\n",
       "      <td>-0.684845</td>\n",
       "      <td>0</td>\n",
       "    </tr>\n",
       "    <tr>\n",
       "      <th>137</th>\n",
       "      <td>-0.219754</td>\n",
       "      <td>0.198519</td>\n",
       "      <td>-1.206719</td>\n",
       "      <td>-1.154029</td>\n",
       "      <td>-0.487734</td>\n",
       "      <td>0.581678</td>\n",
       "      <td>1.891825</td>\n",
       "      <td>-0.684845</td>\n",
       "      <td>0</td>\n",
       "    </tr>\n",
       "    <tr>\n",
       "      <th>138</th>\n",
       "      <td>-0.210724</td>\n",
       "      <td>0.204065</td>\n",
       "      <td>-1.211322</td>\n",
       "      <td>-1.154029</td>\n",
       "      <td>-0.487734</td>\n",
       "      <td>0.581678</td>\n",
       "      <td>1.891825</td>\n",
       "      <td>-0.684845</td>\n",
       "      <td>0</td>\n",
       "    </tr>\n",
       "    <tr>\n",
       "      <th>139</th>\n",
       "      <td>-0.209810</td>\n",
       "      <td>0.204216</td>\n",
       "      <td>-1.210355</td>\n",
       "      <td>-1.154029</td>\n",
       "      <td>-0.487734</td>\n",
       "      <td>0.581678</td>\n",
       "      <td>1.891825</td>\n",
       "      <td>-0.684845</td>\n",
       "      <td>0</td>\n",
       "    </tr>\n",
       "    <tr>\n",
       "      <th>140</th>\n",
       "      <td>-0.214528</td>\n",
       "      <td>0.211990</td>\n",
       "      <td>-1.207244</td>\n",
       "      <td>-1.154029</td>\n",
       "      <td>-0.487734</td>\n",
       "      <td>0.581678</td>\n",
       "      <td>1.891825</td>\n",
       "      <td>-0.684845</td>\n",
       "      <td>0</td>\n",
       "    </tr>\n",
       "  </tbody>\n",
       "</table>\n",
       "<p>376345 rows × 9 columns</p>\n",
       "</div>"
      ],
      "text/plain": [
       "          AccV     AccML     AccAP  Medication       Age       Sex  \\\n",
       "Time                                                                 \n",
       "0    -0.416921  0.680190 -0.585780    0.866530 -0.110647 -1.719166   \n",
       "1    -0.420816  0.678475 -0.578919    0.866530 -0.110647 -1.719166   \n",
       "2    -0.419886  0.676579 -0.580286    0.866530 -0.110647 -1.719166   \n",
       "3    -0.413896  0.674399 -0.594393    0.866530 -0.110647 -1.719166   \n",
       "4    -0.403594  0.674941 -0.607099    0.866530 -0.110647 -1.719166   \n",
       "...        ...       ...       ...         ...       ...       ...   \n",
       "136  -0.230050  0.202884 -1.195147   -1.154029 -0.487734  0.581678   \n",
       "137  -0.219754  0.198519 -1.206719   -1.154029 -0.487734  0.581678   \n",
       "138  -0.210724  0.204065 -1.211322   -1.154029 -0.487734  0.581678   \n",
       "139  -0.209810  0.204216 -1.210355   -1.154029 -0.487734  0.581678   \n",
       "140  -0.214528  0.211990 -1.207244   -1.154029 -0.487734  0.581678   \n",
       "\n",
       "      YearsSinceDx  Test_Visit  Event  \n",
       "Time                                   \n",
       "0        -0.182777    0.648921      0  \n",
       "1        -0.182777    0.648921      0  \n",
       "2        -0.182777    0.648921      0  \n",
       "3        -0.182777    0.648921      0  \n",
       "4        -0.182777    0.648921      0  \n",
       "...            ...         ...    ...  \n",
       "136       1.891825   -0.684845      0  \n",
       "137       1.891825   -0.684845      0  \n",
       "138       1.891825   -0.684845      0  \n",
       "139       1.891825   -0.684845      0  \n",
       "140       1.891825   -0.684845      0  \n",
       "\n",
       "[376345 rows x 9 columns]"
      ]
     },
     "execution_count": 5,
     "metadata": {},
     "output_type": "execute_result"
    }
   ],
   "source": [
    "train_df = pd.read_csv('train.csv', index_col='Time')\n",
    "test_df = pd.read_csv('test.csv', index_col='Time')\n",
    "train_df"
   ]
  },
  {
   "cell_type": "code",
   "execution_count": 6,
   "id": "1a45a5c2-2d66-45d4-85c9-1015520fee35",
   "metadata": {},
   "outputs": [
    {
     "data": {
      "text/html": [
       "<div>\n",
       "<style scoped>\n",
       "    .dataframe tbody tr th:only-of-type {\n",
       "        vertical-align: middle;\n",
       "    }\n",
       "\n",
       "    .dataframe tbody tr th {\n",
       "        vertical-align: top;\n",
       "    }\n",
       "\n",
       "    .dataframe thead th {\n",
       "        text-align: right;\n",
       "    }\n",
       "</style>\n",
       "<table border=\"1\" class=\"dataframe\">\n",
       "  <thead>\n",
       "    <tr style=\"text-align: right;\">\n",
       "      <th></th>\n",
       "      <th>AccV</th>\n",
       "      <th>AccML</th>\n",
       "      <th>AccAP</th>\n",
       "      <th>Medication</th>\n",
       "      <th>Age</th>\n",
       "      <th>Sex</th>\n",
       "      <th>YearsSinceDx</th>\n",
       "      <th>Test_Visit</th>\n",
       "    </tr>\n",
       "    <tr>\n",
       "      <th>Time</th>\n",
       "      <th></th>\n",
       "      <th></th>\n",
       "      <th></th>\n",
       "      <th></th>\n",
       "      <th></th>\n",
       "      <th></th>\n",
       "      <th></th>\n",
       "      <th></th>\n",
       "    </tr>\n",
       "  </thead>\n",
       "  <tbody>\n",
       "    <tr>\n",
       "      <th>0</th>\n",
       "      <td>-9.541841</td>\n",
       "      <td>0.572790</td>\n",
       "      <td>-1.409475</td>\n",
       "      <td>0.86653</td>\n",
       "      <td>-0.110647</td>\n",
       "      <td>-1.719166</td>\n",
       "      <td>-0.182777</td>\n",
       "      <td>0.648921</td>\n",
       "    </tr>\n",
       "    <tr>\n",
       "      <th>1</th>\n",
       "      <td>-9.544045</td>\n",
       "      <td>0.570599</td>\n",
       "      <td>-1.436634</td>\n",
       "      <td>0.86653</td>\n",
       "      <td>-0.110647</td>\n",
       "      <td>-1.719166</td>\n",
       "      <td>-0.182777</td>\n",
       "      <td>0.648921</td>\n",
       "    </tr>\n",
       "    <tr>\n",
       "      <th>2</th>\n",
       "      <td>-9.537242</td>\n",
       "      <td>0.568221</td>\n",
       "      <td>-1.425318</td>\n",
       "      <td>0.86653</td>\n",
       "      <td>-0.110647</td>\n",
       "      <td>-1.719166</td>\n",
       "      <td>-0.182777</td>\n",
       "      <td>0.648921</td>\n",
       "    </tr>\n",
       "    <tr>\n",
       "      <th>3</th>\n",
       "      <td>-9.539138</td>\n",
       "      <td>0.570690</td>\n",
       "      <td>-1.411444</td>\n",
       "      <td>0.86653</td>\n",
       "      <td>-0.110647</td>\n",
       "      <td>-1.719166</td>\n",
       "      <td>-0.182777</td>\n",
       "      <td>0.648921</td>\n",
       "    </tr>\n",
       "    <tr>\n",
       "      <th>4</th>\n",
       "      <td>-9.548736</td>\n",
       "      <td>0.568310</td>\n",
       "      <td>-1.425458</td>\n",
       "      <td>0.86653</td>\n",
       "      <td>-0.110647</td>\n",
       "      <td>-1.719166</td>\n",
       "      <td>-0.182777</td>\n",
       "      <td>0.648921</td>\n",
       "    </tr>\n",
       "    <tr>\n",
       "      <th>...</th>\n",
       "      <td>...</td>\n",
       "      <td>...</td>\n",
       "      <td>...</td>\n",
       "      <td>...</td>\n",
       "      <td>...</td>\n",
       "      <td>...</td>\n",
       "      <td>...</td>\n",
       "      <td>...</td>\n",
       "    </tr>\n",
       "    <tr>\n",
       "      <th>281683</th>\n",
       "      <td>-0.896122</td>\n",
       "      <td>-0.228349</td>\n",
       "      <td>0.397413</td>\n",
       "      <td>0.86653</td>\n",
       "      <td>1.272005</td>\n",
       "      <td>-1.719166</td>\n",
       "      <td>-0.342362</td>\n",
       "      <td>-0.792988</td>\n",
       "    </tr>\n",
       "    <tr>\n",
       "      <th>281684</th>\n",
       "      <td>-0.898800</td>\n",
       "      <td>-0.228733</td>\n",
       "      <td>0.398382</td>\n",
       "      <td>0.86653</td>\n",
       "      <td>1.272005</td>\n",
       "      <td>-1.719166</td>\n",
       "      <td>-0.342362</td>\n",
       "      <td>-0.792988</td>\n",
       "    </tr>\n",
       "    <tr>\n",
       "      <th>281685</th>\n",
       "      <td>-0.898516</td>\n",
       "      <td>-0.227567</td>\n",
       "      <td>0.400168</td>\n",
       "      <td>0.86653</td>\n",
       "      <td>1.272005</td>\n",
       "      <td>-1.719166</td>\n",
       "      <td>-0.342362</td>\n",
       "      <td>-0.792988</td>\n",
       "    </tr>\n",
       "    <tr>\n",
       "      <th>281686</th>\n",
       "      <td>-0.896400</td>\n",
       "      <td>-0.228110</td>\n",
       "      <td>0.399377</td>\n",
       "      <td>0.86653</td>\n",
       "      <td>1.272005</td>\n",
       "      <td>-1.719166</td>\n",
       "      <td>-0.342362</td>\n",
       "      <td>-0.792988</td>\n",
       "    </tr>\n",
       "    <tr>\n",
       "      <th>281687</th>\n",
       "      <td>-0.897114</td>\n",
       "      <td>-0.228043</td>\n",
       "      <td>0.399005</td>\n",
       "      <td>0.86653</td>\n",
       "      <td>1.272005</td>\n",
       "      <td>-1.719166</td>\n",
       "      <td>-0.342362</td>\n",
       "      <td>-0.792988</td>\n",
       "    </tr>\n",
       "  </tbody>\n",
       "</table>\n",
       "<p>286370 rows × 8 columns</p>\n",
       "</div>"
      ],
      "text/plain": [
       "            AccV     AccML     AccAP  Medication       Age       Sex  \\\n",
       "Time                                                                   \n",
       "0      -9.541841  0.572790 -1.409475     0.86653 -0.110647 -1.719166   \n",
       "1      -9.544045  0.570599 -1.436634     0.86653 -0.110647 -1.719166   \n",
       "2      -9.537242  0.568221 -1.425318     0.86653 -0.110647 -1.719166   \n",
       "3      -9.539138  0.570690 -1.411444     0.86653 -0.110647 -1.719166   \n",
       "4      -9.548736  0.568310 -1.425458     0.86653 -0.110647 -1.719166   \n",
       "...          ...       ...       ...         ...       ...       ...   \n",
       "281683 -0.896122 -0.228349  0.397413     0.86653  1.272005 -1.719166   \n",
       "281684 -0.898800 -0.228733  0.398382     0.86653  1.272005 -1.719166   \n",
       "281685 -0.898516 -0.227567  0.400168     0.86653  1.272005 -1.719166   \n",
       "281686 -0.896400 -0.228110  0.399377     0.86653  1.272005 -1.719166   \n",
       "281687 -0.897114 -0.228043  0.399005     0.86653  1.272005 -1.719166   \n",
       "\n",
       "        YearsSinceDx  Test_Visit  \n",
       "Time                              \n",
       "0          -0.182777    0.648921  \n",
       "1          -0.182777    0.648921  \n",
       "2          -0.182777    0.648921  \n",
       "3          -0.182777    0.648921  \n",
       "4          -0.182777    0.648921  \n",
       "...              ...         ...  \n",
       "281683     -0.342362   -0.792988  \n",
       "281684     -0.342362   -0.792988  \n",
       "281685     -0.342362   -0.792988  \n",
       "281686     -0.342362   -0.792988  \n",
       "281687     -0.342362   -0.792988  \n",
       "\n",
       "[286370 rows x 8 columns]"
      ]
     },
     "execution_count": 6,
     "metadata": {},
     "output_type": "execute_result"
    }
   ],
   "source": [
    "test_df"
   ]
  },
  {
   "cell_type": "markdown",
   "id": "d9bc1f89-1d60-4ab2-863d-64e8ba8e73d9",
   "metadata": {
    "jp-MarkdownHeadingCollapsed": true
   },
   "source": [
    "#### Read in Subset"
   ]
  },
  {
   "cell_type": "code",
   "execution_count": null,
   "id": "aa733492-191c-4bc4-be78-0827ff8f2a10",
   "metadata": {},
   "outputs": [],
   "source": [
    "df = pd.read_csv('subset.csv')\n",
    "test_df = pd.read_csv('test_subset.csv')"
   ]
  },
  {
   "cell_type": "markdown",
   "id": "b4b86f9a-73ef-4a09-b189-7d158d678966",
   "metadata": {
    "jp-MarkdownHeadingCollapsed": true
   },
   "source": [
    "#### Read in Downsample"
   ]
  },
  {
   "cell_type": "code",
   "execution_count": 6,
   "id": "af9a1a2a-6b66-4355-a4ce-0cff021004d0",
   "metadata": {},
   "outputs": [],
   "source": [
    "df = pd.read_csv('downsample30.csv')\n",
    "test_df = pd.read_csv('test_downsample.csv')"
   ]
  },
  {
   "cell_type": "code",
   "execution_count": 7,
   "id": "0b9dd8b5-640b-462f-8016-461389277bc6",
   "metadata": {},
   "outputs": [
    {
     "data": {
      "text/html": [
       "<div>\n",
       "<style scoped>\n",
       "    .dataframe tbody tr th:only-of-type {\n",
       "        vertical-align: middle;\n",
       "    }\n",
       "\n",
       "    .dataframe tbody tr th {\n",
       "        vertical-align: top;\n",
       "    }\n",
       "\n",
       "    .dataframe thead th {\n",
       "        text-align: right;\n",
       "    }\n",
       "</style>\n",
       "<table border=\"1\" class=\"dataframe\">\n",
       "  <thead>\n",
       "    <tr style=\"text-align: right;\">\n",
       "      <th></th>\n",
       "      <th>AccV</th>\n",
       "      <th>AccML</th>\n",
       "      <th>AccAP</th>\n",
       "      <th>Visit</th>\n",
       "      <th>Test</th>\n",
       "      <th>Medication</th>\n",
       "      <th>Age</th>\n",
       "      <th>Sex</th>\n",
       "      <th>YearsSinceDx</th>\n",
       "      <th>Event</th>\n",
       "    </tr>\n",
       "    <tr>\n",
       "      <th>Time</th>\n",
       "      <th></th>\n",
       "      <th></th>\n",
       "      <th></th>\n",
       "      <th></th>\n",
       "      <th></th>\n",
       "      <th></th>\n",
       "      <th></th>\n",
       "      <th></th>\n",
       "      <th></th>\n",
       "      <th></th>\n",
       "    </tr>\n",
       "  </thead>\n",
       "  <tbody>\n",
       "    <tr>\n",
       "      <th>0</th>\n",
       "      <td>-0.420712</td>\n",
       "      <td>0.673434</td>\n",
       "      <td>-0.591752</td>\n",
       "      <td>3</td>\n",
       "      <td>2.0</td>\n",
       "      <td>1</td>\n",
       "      <td>68</td>\n",
       "      <td>0</td>\n",
       "      <td>9.0</td>\n",
       "      <td>0</td>\n",
       "    </tr>\n",
       "    <tr>\n",
       "      <th>1</th>\n",
       "      <td>-0.424601</td>\n",
       "      <td>0.671724</td>\n",
       "      <td>-0.584907</td>\n",
       "      <td>3</td>\n",
       "      <td>2.0</td>\n",
       "      <td>1</td>\n",
       "      <td>68</td>\n",
       "      <td>0</td>\n",
       "      <td>9.0</td>\n",
       "      <td>0</td>\n",
       "    </tr>\n",
       "    <tr>\n",
       "      <th>2</th>\n",
       "      <td>-0.423672</td>\n",
       "      <td>0.669832</td>\n",
       "      <td>-0.586271</td>\n",
       "      <td>3</td>\n",
       "      <td>2.0</td>\n",
       "      <td>1</td>\n",
       "      <td>68</td>\n",
       "      <td>0</td>\n",
       "      <td>9.0</td>\n",
       "      <td>0</td>\n",
       "    </tr>\n",
       "    <tr>\n",
       "      <th>3</th>\n",
       "      <td>-0.417690</td>\n",
       "      <td>0.667659</td>\n",
       "      <td>-0.600345</td>\n",
       "      <td>3</td>\n",
       "      <td>2.0</td>\n",
       "      <td>1</td>\n",
       "      <td>68</td>\n",
       "      <td>0</td>\n",
       "      <td>9.0</td>\n",
       "      <td>0</td>\n",
       "    </tr>\n",
       "    <tr>\n",
       "      <th>4</th>\n",
       "      <td>-0.407401</td>\n",
       "      <td>0.668199</td>\n",
       "      <td>-0.613021</td>\n",
       "      <td>3</td>\n",
       "      <td>2.0</td>\n",
       "      <td>1</td>\n",
       "      <td>68</td>\n",
       "      <td>0</td>\n",
       "      <td>9.0</td>\n",
       "      <td>0</td>\n",
       "    </tr>\n",
       "    <tr>\n",
       "      <th>...</th>\n",
       "      <td>...</td>\n",
       "      <td>...</td>\n",
       "      <td>...</td>\n",
       "      <td>...</td>\n",
       "      <td>...</td>\n",
       "      <td>...</td>\n",
       "      <td>...</td>\n",
       "      <td>...</td>\n",
       "      <td>...</td>\n",
       "      <td>...</td>\n",
       "    </tr>\n",
       "    <tr>\n",
       "      <th>136</th>\n",
       "      <td>-0.234080</td>\n",
       "      <td>0.197408</td>\n",
       "      <td>-1.199697</td>\n",
       "      <td>20</td>\n",
       "      <td>1.0</td>\n",
       "      <td>0</td>\n",
       "      <td>65</td>\n",
       "      <td>1</td>\n",
       "      <td>22.0</td>\n",
       "      <td>0</td>\n",
       "    </tr>\n",
       "    <tr>\n",
       "      <th>137</th>\n",
       "      <td>-0.223797</td>\n",
       "      <td>0.193055</td>\n",
       "      <td>-1.211242</td>\n",
       "      <td>20</td>\n",
       "      <td>1.0</td>\n",
       "      <td>0</td>\n",
       "      <td>65</td>\n",
       "      <td>1</td>\n",
       "      <td>22.0</td>\n",
       "      <td>0</td>\n",
       "    </tr>\n",
       "    <tr>\n",
       "      <th>138</th>\n",
       "      <td>-0.214779</td>\n",
       "      <td>0.198586</td>\n",
       "      <td>-1.215835</td>\n",
       "      <td>20</td>\n",
       "      <td>1.0</td>\n",
       "      <td>0</td>\n",
       "      <td>65</td>\n",
       "      <td>1</td>\n",
       "      <td>22.0</td>\n",
       "      <td>0</td>\n",
       "    </tr>\n",
       "    <tr>\n",
       "      <th>139</th>\n",
       "      <td>-0.213866</td>\n",
       "      <td>0.198736</td>\n",
       "      <td>-1.214870</td>\n",
       "      <td>20</td>\n",
       "      <td>1.0</td>\n",
       "      <td>0</td>\n",
       "      <td>65</td>\n",
       "      <td>1</td>\n",
       "      <td>22.0</td>\n",
       "      <td>0</td>\n",
       "    </tr>\n",
       "    <tr>\n",
       "      <th>140</th>\n",
       "      <td>-0.218578</td>\n",
       "      <td>0.206489</td>\n",
       "      <td>-1.211766</td>\n",
       "      <td>20</td>\n",
       "      <td>1.0</td>\n",
       "      <td>0</td>\n",
       "      <td>65</td>\n",
       "      <td>1</td>\n",
       "      <td>22.0</td>\n",
       "      <td>0</td>\n",
       "    </tr>\n",
       "  </tbody>\n",
       "</table>\n",
       "<p>376345 rows × 10 columns</p>\n",
       "</div>"
      ],
      "text/plain": [
       "          AccV     AccML     AccAP  Visit  Test  Medication  Age  Sex  \\\n",
       "Time                                                                    \n",
       "0    -0.420712  0.673434 -0.591752      3   2.0           1   68    0   \n",
       "1    -0.424601  0.671724 -0.584907      3   2.0           1   68    0   \n",
       "2    -0.423672  0.669832 -0.586271      3   2.0           1   68    0   \n",
       "3    -0.417690  0.667659 -0.600345      3   2.0           1   68    0   \n",
       "4    -0.407401  0.668199 -0.613021      3   2.0           1   68    0   \n",
       "...        ...       ...       ...    ...   ...         ...  ...  ...   \n",
       "136  -0.234080  0.197408 -1.199697     20   1.0           0   65    1   \n",
       "137  -0.223797  0.193055 -1.211242     20   1.0           0   65    1   \n",
       "138  -0.214779  0.198586 -1.215835     20   1.0           0   65    1   \n",
       "139  -0.213866  0.198736 -1.214870     20   1.0           0   65    1   \n",
       "140  -0.218578  0.206489 -1.211766     20   1.0           0   65    1   \n",
       "\n",
       "      YearsSinceDx  Event  \n",
       "Time                       \n",
       "0              9.0      0  \n",
       "1              9.0      0  \n",
       "2              9.0      0  \n",
       "3              9.0      0  \n",
       "4              9.0      0  \n",
       "...            ...    ...  \n",
       "136           22.0      0  \n",
       "137           22.0      0  \n",
       "138           22.0      0  \n",
       "139           22.0      0  \n",
       "140           22.0      0  \n",
       "\n",
       "[376345 rows x 10 columns]"
      ]
     },
     "execution_count": 7,
     "metadata": {},
     "output_type": "execute_result"
    }
   ],
   "source": [
    "train_df = df.drop(columns=['Subject', 'Id']).set_index('Time')\n",
    "test_df = test_df.drop(columns=['Subject', 'Id']).set_index('Time')\n",
    "train_df"
   ]
  },
  {
   "cell_type": "code",
   "execution_count": 8,
   "id": "5e1b4281-cf35-449e-8818-d8e578ed0eea",
   "metadata": {},
   "outputs": [
    {
     "data": {
      "text/html": [
       "<div>\n",
       "<style scoped>\n",
       "    .dataframe tbody tr th:only-of-type {\n",
       "        vertical-align: middle;\n",
       "    }\n",
       "\n",
       "    .dataframe tbody tr th {\n",
       "        vertical-align: top;\n",
       "    }\n",
       "\n",
       "    .dataframe thead th {\n",
       "        text-align: right;\n",
       "    }\n",
       "</style>\n",
       "<table border=\"1\" class=\"dataframe\">\n",
       "  <thead>\n",
       "    <tr style=\"text-align: right;\">\n",
       "      <th></th>\n",
       "      <th>AccV</th>\n",
       "      <th>AccML</th>\n",
       "      <th>AccAP</th>\n",
       "      <th>Visit</th>\n",
       "      <th>Test</th>\n",
       "      <th>Medication</th>\n",
       "      <th>Age</th>\n",
       "      <th>Sex</th>\n",
       "      <th>YearsSinceDx</th>\n",
       "    </tr>\n",
       "    <tr>\n",
       "      <th>Time</th>\n",
       "      <th></th>\n",
       "      <th></th>\n",
       "      <th></th>\n",
       "      <th></th>\n",
       "      <th></th>\n",
       "      <th></th>\n",
       "      <th></th>\n",
       "      <th></th>\n",
       "      <th></th>\n",
       "    </tr>\n",
       "  </thead>\n",
       "  <tbody>\n",
       "    <tr>\n",
       "      <th>0</th>\n",
       "      <td>-9.533939</td>\n",
       "      <td>0.566322</td>\n",
       "      <td>-1.413525</td>\n",
       "      <td>3</td>\n",
       "      <td>2.0</td>\n",
       "      <td>1</td>\n",
       "      <td>68</td>\n",
       "      <td>0</td>\n",
       "      <td>9.0</td>\n",
       "    </tr>\n",
       "    <tr>\n",
       "      <th>1</th>\n",
       "      <td>-9.536140</td>\n",
       "      <td>0.564137</td>\n",
       "      <td>-1.440621</td>\n",
       "      <td>3</td>\n",
       "      <td>2.0</td>\n",
       "      <td>1</td>\n",
       "      <td>68</td>\n",
       "      <td>0</td>\n",
       "      <td>9.0</td>\n",
       "    </tr>\n",
       "    <tr>\n",
       "      <th>2</th>\n",
       "      <td>-9.529345</td>\n",
       "      <td>0.561765</td>\n",
       "      <td>-1.429331</td>\n",
       "      <td>3</td>\n",
       "      <td>2.0</td>\n",
       "      <td>1</td>\n",
       "      <td>68</td>\n",
       "      <td>0</td>\n",
       "      <td>9.0</td>\n",
       "    </tr>\n",
       "    <tr>\n",
       "      <th>3</th>\n",
       "      <td>-9.531239</td>\n",
       "      <td>0.564227</td>\n",
       "      <td>-1.415490</td>\n",
       "      <td>3</td>\n",
       "      <td>2.0</td>\n",
       "      <td>1</td>\n",
       "      <td>68</td>\n",
       "      <td>0</td>\n",
       "      <td>9.0</td>\n",
       "    </tr>\n",
       "    <tr>\n",
       "      <th>4</th>\n",
       "      <td>-9.540825</td>\n",
       "      <td>0.561854</td>\n",
       "      <td>-1.429471</td>\n",
       "      <td>3</td>\n",
       "      <td>2.0</td>\n",
       "      <td>1</td>\n",
       "      <td>68</td>\n",
       "      <td>0</td>\n",
       "      <td>9.0</td>\n",
       "    </tr>\n",
       "    <tr>\n",
       "      <th>...</th>\n",
       "      <td>...</td>\n",
       "      <td>...</td>\n",
       "      <td>...</td>\n",
       "      <td>...</td>\n",
       "      <td>...</td>\n",
       "      <td>...</td>\n",
       "      <td>...</td>\n",
       "      <td>...</td>\n",
       "      <td>...</td>\n",
       "    </tr>\n",
       "    <tr>\n",
       "      <th>281683</th>\n",
       "      <td>-0.899299</td>\n",
       "      <td>-0.232668</td>\n",
       "      <td>0.389147</td>\n",
       "      <td>2</td>\n",
       "      <td>0.0</td>\n",
       "      <td>1</td>\n",
       "      <td>79</td>\n",
       "      <td>0</td>\n",
       "      <td>8.0</td>\n",
       "    </tr>\n",
       "    <tr>\n",
       "      <th>281684</th>\n",
       "      <td>-0.901973</td>\n",
       "      <td>-0.233051</td>\n",
       "      <td>0.390114</td>\n",
       "      <td>2</td>\n",
       "      <td>0.0</td>\n",
       "      <td>1</td>\n",
       "      <td>79</td>\n",
       "      <td>0</td>\n",
       "      <td>8.0</td>\n",
       "    </tr>\n",
       "    <tr>\n",
       "      <th>281685</th>\n",
       "      <td>-0.901690</td>\n",
       "      <td>-0.231888</td>\n",
       "      <td>0.391896</td>\n",
       "      <td>2</td>\n",
       "      <td>0.0</td>\n",
       "      <td>1</td>\n",
       "      <td>79</td>\n",
       "      <td>0</td>\n",
       "      <td>8.0</td>\n",
       "    </tr>\n",
       "    <tr>\n",
       "      <th>281686</th>\n",
       "      <td>-0.899576</td>\n",
       "      <td>-0.232430</td>\n",
       "      <td>0.391106</td>\n",
       "      <td>2</td>\n",
       "      <td>0.0</td>\n",
       "      <td>1</td>\n",
       "      <td>79</td>\n",
       "      <td>0</td>\n",
       "      <td>8.0</td>\n",
       "    </tr>\n",
       "    <tr>\n",
       "      <th>281687</th>\n",
       "      <td>-0.900289</td>\n",
       "      <td>-0.232363</td>\n",
       "      <td>0.390735</td>\n",
       "      <td>2</td>\n",
       "      <td>0.0</td>\n",
       "      <td>1</td>\n",
       "      <td>79</td>\n",
       "      <td>0</td>\n",
       "      <td>8.0</td>\n",
       "    </tr>\n",
       "  </tbody>\n",
       "</table>\n",
       "<p>286370 rows × 9 columns</p>\n",
       "</div>"
      ],
      "text/plain": [
       "            AccV     AccML     AccAP  Visit  Test  Medication  Age  Sex  \\\n",
       "Time                                                                      \n",
       "0      -9.533939  0.566322 -1.413525      3   2.0           1   68    0   \n",
       "1      -9.536140  0.564137 -1.440621      3   2.0           1   68    0   \n",
       "2      -9.529345  0.561765 -1.429331      3   2.0           1   68    0   \n",
       "3      -9.531239  0.564227 -1.415490      3   2.0           1   68    0   \n",
       "4      -9.540825  0.561854 -1.429471      3   2.0           1   68    0   \n",
       "...          ...       ...       ...    ...   ...         ...  ...  ...   \n",
       "281683 -0.899299 -0.232668  0.389147      2   0.0           1   79    0   \n",
       "281684 -0.901973 -0.233051  0.390114      2   0.0           1   79    0   \n",
       "281685 -0.901690 -0.231888  0.391896      2   0.0           1   79    0   \n",
       "281686 -0.899576 -0.232430  0.391106      2   0.0           1   79    0   \n",
       "281687 -0.900289 -0.232363  0.390735      2   0.0           1   79    0   \n",
       "\n",
       "        YearsSinceDx  \n",
       "Time                  \n",
       "0                9.0  \n",
       "1                9.0  \n",
       "2                9.0  \n",
       "3                9.0  \n",
       "4                9.0  \n",
       "...              ...  \n",
       "281683           8.0  \n",
       "281684           8.0  \n",
       "281685           8.0  \n",
       "281686           8.0  \n",
       "281687           8.0  \n",
       "\n",
       "[286370 rows x 9 columns]"
      ]
     },
     "execution_count": 8,
     "metadata": {},
     "output_type": "execute_result"
    }
   ],
   "source": [
    "test_df"
   ]
  },
  {
   "cell_type": "markdown",
   "id": "ebefab96-4a5e-4c14-9399-1877c009d470",
   "metadata": {},
   "source": [
    "### Dataset/DataLoader"
   ]
  },
  {
   "cell_type": "code",
   "execution_count": 7,
   "id": "f6551ade-5dda-40ee-82fa-7f2391f4a1b2",
   "metadata": {},
   "outputs": [],
   "source": [
    "class ParkinsonDataset(Dataset):\n",
    "    def __init__(self, df, lookback=5, goal='train'):\n",
    "        super().__init__()\n",
    "        self.data = df.to_numpy()\n",
    "        self.lookback = lookback\n",
    "        self.goal = goal\n",
    "\n",
    "    # Return length of sample\n",
    "    def __len__(self):\n",
    "        return self.data.shape[0]\n",
    "\n",
    "    # Get data at idx\n",
    "    def __getitem__(self, idx):\n",
    "        if self.goal == 'train':\n",
    "            if idx < self.lookback:\n",
    "                #If the index is less than lookback, pad with zeros\n",
    "                features = torch.zeros(self.lookback, self.data.shape[1]-1, dtype=torch.float32)\n",
    "                features[idx] = torch.tensor(self.data[idx, :-1], dtype=torch.float32)\n",
    "                label = torch.tensor(self.data[idx, -1], dtype=torch.float32)\n",
    "            else:\n",
    "                #Otherwise, take the last lookback samples\n",
    "                features = torch.tensor(self.data[idx - self.lookback:idx, :-1], dtype=torch.float32)\n",
    "                label = torch.tensor(self.data[idx, -1], dtype=torch.float32)\n",
    "\n",
    "            features = features.to(device)\n",
    "            label = label.to(device)\n",
    "            return features, label\n",
    "\n",
    "        else:\n",
    "            if idx < self.lookback:\n",
    "                #If the index is less than lookback, pad with zeros\n",
    "                features = torch.zeros(self.lookback, self.data.shape[1], dtype=torch.float32)\n",
    "                features[idx] = torch.tensor(self.data[idx, :], dtype=torch.float32)\n",
    "            else:\n",
    "                #Otherwise, take the last lookback samples\n",
    "                features = torch.tensor(self.data[idx - self.lookback:idx, :], dtype=torch.float32)\n",
    "\n",
    "            features = features.to(device)\n",
    "            return features"
   ]
  },
  {
   "cell_type": "code",
   "execution_count": 8,
   "id": "195184a6-24aa-44dd-851e-43d9f8eac864",
   "metadata": {},
   "outputs": [],
   "source": [
    "def train_val_split(df):\n",
    "    #Split the training dataset into training/validation sets\n",
    "    #80% Training - 20% Validation\n",
    "    train_size = int(.8 * len(df))\n",
    "    val_size = len(df)-train_size\n",
    "    train_data, val_data = torch.utils.data.random_split(df, [train_size, val_size])\n",
    "\n",
    "    #Instantiate DataLoaders\n",
    "    train_loader = DataLoader(train_data,\n",
    "                              batch_size=1024,\n",
    "                              shuffle=False)\n",
    "\n",
    "    val_loader = DataLoader(val_data,\n",
    "                            batch_size=1024,\n",
    "                            shuffle=False)\n",
    "    \n",
    "    return train_loader, val_loader"
   ]
  },
  {
   "cell_type": "code",
   "execution_count": 9,
   "id": "7aef1e85-2d42-4275-a34b-3db4a1196295",
   "metadata": {},
   "outputs": [],
   "source": [
    "train = ParkinsonDataset(train_df, goal='train')\n",
    "train_loader, val_loader = train_val_split(train)"
   ]
  },
  {
   "cell_type": "code",
   "execution_count": null,
   "id": "5495a357-1fe6-4fc1-a528-65b71a5a9b46",
   "metadata": {},
   "outputs": [],
   "source": [
    "test = test_df.drop(columns='Id')\n",
    "test = ParkinsonDataset(test, goal='test')\n",
    "test_loader = DataLoader(test, \n",
    "                         batch_size=1024, \n",
    "                         shuffle=False)"
   ]
  },
  {
   "cell_type": "code",
   "execution_count": 10,
   "id": "afde16d7-4b1d-4b9e-8f61-8be4bdc5a6ba",
   "metadata": {},
   "outputs": [],
   "source": [
    "metric = torchmetrics.AveragePrecision(task='multiclass', num_classes=4, average='weighted', thresholds=4).to(device)"
   ]
  },
  {
   "cell_type": "markdown",
   "id": "4fbe377e-eaa1-4138-ace3-35cbaef6b39a",
   "metadata": {},
   "source": [
    "### Overfit Batch Function"
   ]
  },
  {
   "cell_type": "code",
   "execution_count": 11,
   "id": "54d50339-3eb8-45d1-a6e7-f7c630d9c471",
   "metadata": {},
   "outputs": [],
   "source": [
    "#Function to determine whether the model is training appropriately\n",
    "def overfit_batch(model, criterion, optimizer, batch, epochs):\n",
    "    model = model.to(device)\n",
    "    \n",
    "    for epoch in range(epochs):\n",
    "        metric.reset()\n",
    "        loss_total = 0.0\n",
    "        precision_total = 0.0\n",
    "        for _ in range(len(batch)):\n",
    "            features, label = batch\n",
    "            features = features.to(device)\n",
    "            label = label.to(device)\n",
    "            \n",
    "            optimizer.zero_grad()\n",
    "            output = model(features)\n",
    "            loss = criterion(logits, label.long())\n",
    "            ypred = torch.softmax(logits, dim=1)\n",
    "            metric(ypred, label.long())\n",
    "            precision=metric.compute()\n",
    "            \n",
    "            loss.backward()\n",
    "            optimizer.step()\n",
    "\n",
    "            loss_total += loss.item()\n",
    "            precision_total += precision.item()\n",
    "\n",
    "        avg_loss = loss_total / len(batch)\n",
    "        avg_precision = precision_total / len(batch)\n",
    "        if epoch %10 == 9:\n",
    "            print(f'Epoch [{epoch + 1}/{epochs}] | Avg Loss: {avg_loss:.4f} | Avg Precision: {(avg_precision * 100.0):.2f}')"
   ]
  },
  {
   "cell_type": "markdown",
   "id": "cfa755c7-f8f3-4141-b5a4-23d2f1fe5fbb",
   "metadata": {},
   "source": [
    "### Train | Validate | Predict"
   ]
  },
  {
   "cell_type": "code",
   "execution_count": 12,
   "id": "8ee6d69a-c0b7-4975-866a-378fe419f90d",
   "metadata": {},
   "outputs": [],
   "source": [
    "def predict(model, dataloader):\n",
    "    predictions = []\n",
    "    with tqdm(dataloader, colour='yellow') as pbar:\n",
    "        for features in pbar:\n",
    "            features = features.to(device)\n",
    "            preds = model(features)\n",
    "            preds = torch.argmax(preds, dim=1)\n",
    "            predictions.extend(preds.cpu().numpy())\n",
    "    \n",
    "    return predictions"
   ]
  },
  {
   "cell_type": "code",
   "execution_count": 13,
   "id": "bd905b7b-dbbb-40bc-b2c8-1a385d73ab17",
   "metadata": {},
   "outputs": [],
   "source": [
    "#Validate one epoch\n",
    "def validate(model, criterion, dataloader, epoch):\n",
    "    model.eval()\n",
    "    metric.reset()\n",
    "    \n",
    "    loss_total = 0.0\n",
    "    precision_total = 0.0\n",
    "    \n",
    "    with tqdm(dataloader, desc='Validate', total=len(dataloader), unit='batch', colour='blue') as pbar:\n",
    "        with torch.no_grad():\n",
    "            for batch in pbar:\n",
    "                features, label = batch\n",
    "                features = features.to(device)\n",
    "                label = label.to(device)\n",
    "\n",
    "                logits = model(features)               \n",
    "                #Update running loss and precision\n",
    "                loss = criterion(logits, label.long())\n",
    "                ypred = torch.softmax(logits, dim=1)\n",
    "                metric(ypred, label.long())\n",
    "                precision=metric.compute()\n",
    "                \n",
    "                precision_total += precision.item()\n",
    "                loss_total += loss.item()\n",
    "\n",
    "                #Update the tqdm progress bar description with loss and precision\n",
    "                pbar.set_postfix_str(s=f'Loss: {loss:.4f} | Precision: {precision*100:.2f}%')\n",
    "                \n",
    "        avg_loss = loss_total / len(dataloader)\n",
    "        avg_precision = precision_total / len(dataloader)\n",
    "        \n",
    "    model.train()    \n",
    "    return avg_loss, avg_precision"
   ]
  },
  {
   "cell_type": "code",
   "execution_count": 14,
   "id": "4ff1f17d-9fb8-4c31-abb5-249de3846e30",
   "metadata": {},
   "outputs": [],
   "source": [
    "def train_validate(model, criterion, optimizer, scheduler, epochs=100, train_loader=train_loader, val_loader=val_loader, patience=5):\n",
    "    model = model.train()\n",
    "    best_precision = None\n",
    "    min_delta = 0\n",
    "    counter = 0\n",
    "    \n",
    "    for epoch in range(epochs):\n",
    "        metric.reset()\n",
    "        loss_total = 0.0\n",
    "        precision_total = 0.0\n",
    "        with tqdm(train_loader, desc='Train', total=len(train_loader), unit='batch', colour='green') as pbar:\n",
    "            for batch in pbar:\n",
    "                #Set features/targets to device\n",
    "                features, label = batch\n",
    "                features = features.to(device)\n",
    "                label = label.to(device)\n",
    "\n",
    "                #Predict labels\n",
    "                optimizer.zero_grad()                \n",
    "                logits = model(features)\n",
    "                loss = criterion(logits, label.long())\n",
    "                ypred = torch.softmax(logits, dim=1)\n",
    "                metric(ypred, label.long())\n",
    "                precision=metric.compute()\n",
    "                \n",
    "                #Tensorboard\n",
    "                train_writer.add_scalar('Train-Loss', loss, epoch)\n",
    "                train_writer.add_scalar('Train-Precision', precision, epoch)\n",
    "                \n",
    "                pbar.set_postfix_str(s=f'Loss: {loss:.4f} | Precision: {precision*100:.2f}%')\n",
    "\n",
    "                #Adjust gradient\n",
    "                loss.backward()\n",
    "                torch.nn.utils.clip_grad_norm_(model.parameters(), max_norm=1.0)\n",
    "                optimizer.step()\n",
    "\n",
    "                #Accumulate total loss and precision\n",
    "                loss_total += loss.item()\n",
    "                precision_total += precision.item()\n",
    "\n",
    "            avg_loss = loss_total / len(train_loader)\n",
    "            avg_precision = precision_total / len(train_loader)\n",
    "         \n",
    "        #Report training loss/precision\n",
    "        print(f'Epoch {epoch + 1} | Avg Loss: {avg_loss:.4f} | Avg Precision: {(avg_precision * 100.0):.2f}%')\n",
    "\n",
    "        if epoch%3==2:\n",
    "            #Validate one epoch and update lr scheduler\n",
    "            avg_val_loss, avg_val_precision = validate(model, criterion, val_loader, epoch)\n",
    "            scheduler.step(avg_val_precision)\n",
    "        \n",
    "            #Early Stopping\n",
    "            if best_precision == None:\n",
    "                best_precision = avg_val_precision\n",
    "            elif(best_precision - avg_val_precision < min_delta):\n",
    "                best_precision = avg_val_precision\n",
    "                counter = 0\n",
    "            elif(best_precision - avg_val_precision > min_delta):\n",
    "                counter += 1\n",
    "                if(counter >= patience):\n",
    "                    print(f'Early Stopping: Precision stagnated or decreased too many times. Best Validation: {(best_precision*100.0):.2f}%')\n",
    "                    break\n",
    "\n",
    "            print(f'Epoch {epoch + 1} | Avg Loss: {avg_val_loss:.4f} | Avg Precision: {(avg_val_precision * 100.0):.2f}% | Patience: {counter}')\n",
    "\n",
    "    train_writer.flush()\n",
    "    train_writer.close()\n",
    "    val_writer.flush()\n",
    "    val_writer.close()\n",
    "    print(f'Training Complete - Best Validate Precision: {(best_precision*100.0):.2f}%')\n",
    "    \n",
    "    return model"
   ]
  },
  {
   "cell_type": "markdown",
   "id": "f873cb55-e558-46e6-ab3a-5c9778267e33",
   "metadata": {},
   "source": [
    "### Model Architecture"
   ]
  },
  {
   "cell_type": "code",
   "execution_count": 15,
   "id": "e76ca71a-fd74-4c63-b660-f7311cab66e6",
   "metadata": {},
   "outputs": [],
   "source": [
    "class Rnn(nn.Module):\n",
    "    def __init__(self, num_inputs, hidden_size, num_layers, num_outputs):\n",
    "        super().__init__()\n",
    "        self.hidden = hidden_size\n",
    "        self.layers = num_layers\n",
    "        self.rnn = nn.RNN(num_inputs,\n",
    "                            hidden_size,\n",
    "                            num_layers,\n",
    "                            batch_first=True)\n",
    "\n",
    "        # Initialize weights with He initialization\n",
    "        for name, param in self.rnn.named_parameters():\n",
    "            if 'weight' in name:\n",
    "                nn.init.kaiming_normal_(param)\n",
    "            elif 'bias' in name:\n",
    "                nn.init.constant_(param, 0.0)\n",
    "                \n",
    "        self.batch_norm1 = nn.BatchNorm1d(hidden_size)\n",
    "        self.elu = nn.ELU()\n",
    "        self.fc1 = nn.Linear(hidden_size, num_outputs)\n",
    "        nn.init.xavier_uniform_(self.fc1.weight)\n",
    "\n",
    "    def forward(self, x):\n",
    "        h0 = torch.zeros((self.layers, x.size(0), self.hidden), dtype=torch.float32).to(device)\n",
    "        out, _ = self.rnn(x, h0)\n",
    "        out = out[:, -1, :]\n",
    "\n",
    "        # Apply batch normalization\n",
    "        out = self.batch_norm1(out)\n",
    "        out = self.elu(out)\n",
    "        out = self.fc1(out)  \n",
    "        return out"
   ]
  },
  {
   "cell_type": "markdown",
   "id": "37428035-872b-4bd7-b766-ed7fce80c91e",
   "metadata": {
    "jp-MarkdownHeadingCollapsed": true
   },
   "source": [
    "### Overfit"
   ]
  },
  {
   "cell_type": "code",
   "execution_count": 22,
   "id": "3973fe1d-34dd-4e4c-9539-17e7a93705bc",
   "metadata": {},
   "outputs": [
    {
     "name": "stdout",
     "output_type": "stream",
     "text": [
      "Epoch [10/100] | Avg Loss: 0.5415 | Avg Accuracy: 78.56\n",
      "Epoch [20/100] | Avg Loss: 0.3246 | Avg Accuracy: 88.38\n",
      "Epoch [30/100] | Avg Loss: 0.1651 | Avg Accuracy: 95.02\n",
      "Epoch [40/100] | Avg Loss: 0.0606 | Avg Accuracy: 98.93\n",
      "Epoch [50/100] | Avg Loss: 0.0204 | Avg Accuracy: 100.00\n",
      "Epoch [60/100] | Avg Loss: 0.0073 | Avg Accuracy: 100.00\n",
      "Epoch [70/100] | Avg Loss: 0.0036 | Avg Accuracy: 100.00\n",
      "Epoch [80/100] | Avg Loss: 0.0022 | Avg Accuracy: 100.00\n",
      "Epoch [90/100] | Avg Loss: 0.0015 | Avg Accuracy: 100.00\n",
      "Epoch [100/100] | Avg Loss: 0.0012 | Avg Accuracy: 100.00\n"
     ]
    }
   ],
   "source": [
    "#overfit batch\n",
    "batch = next(iter(train_loader))\n",
    "model = Rnn(3, 150, 1, 4)\n",
    "model = model.to(device)\n",
    "criterion = nn.CrossEntropyLoss()\n",
    "optimizer = optim.Adam(model.parameters(),\n",
    "                       lr = .01)\n",
    "epochs=100\n",
    "overfit_batch(model, criterion, optimizer, batch, epochs)"
   ]
  },
  {
   "cell_type": "markdown",
   "id": "213d0481-76f4-4ed1-87ed-3d026145c488",
   "metadata": {},
   "source": [
    "# Training"
   ]
  },
  {
   "cell_type": "markdown",
   "id": "de20ec32-1226-423b-b7f8-a5943de24820",
   "metadata": {},
   "source": [
    "## Subset"
   ]
  },
  {
   "cell_type": "markdown",
   "id": "beb5d22d-e594-4e3d-801e-a9948c18f072",
   "metadata": {},
   "source": [
    "## Downsample"
   ]
  },
  {
   "cell_type": "markdown",
   "id": "9f7ab127-c657-4b6b-9adf-0c8d5de70d5a",
   "metadata": {},
   "source": [
    "### 10-30-23"
   ]
  },
  {
   "cell_type": "markdown",
   "id": "ccef3476-7531-4bce-b4f8-df656e081281",
   "metadata": {
    "jp-MarkdownHeadingCollapsed": true
   },
   "source": [
    "#### Model 2 - Lookback 3"
   ]
  },
  {
   "cell_type": "code",
   "execution_count": 17,
   "id": "ad3f0404-ffda-4108-a9fe-ba0440c00b71",
   "metadata": {},
   "outputs": [
    {
     "name": "stderr",
     "output_type": "stream",
     "text": [
      "Train: 100%|\u001B[32m████████████████████████\u001B[0m| 295/295 [00:45<00:00,  6.52batch/s, Loss: 0.3310 | Precision: 69.57%]\u001B[0m\n"
     ]
    },
    {
     "name": "stdout",
     "output_type": "stream",
     "text": [
      "Epoch 1 | Avg Loss: 0.5954 | Avg Precision: 68.03%\n"
     ]
    },
    {
     "name": "stderr",
     "output_type": "stream",
     "text": [
      "Train: 100%|\u001B[32m████████████████████████\u001B[0m| 295/295 [00:45<00:00,  6.42batch/s, Loss: 0.4191 | Precision: 69.54%]\u001B[0m\n"
     ]
    },
    {
     "name": "stdout",
     "output_type": "stream",
     "text": [
      "Epoch 2 | Avg Loss: 0.5852 | Avg Precision: 69.24%\n"
     ]
    },
    {
     "name": "stderr",
     "output_type": "stream",
     "text": [
      "Train: 100%|\u001B[32m████████████████████████\u001B[0m| 295/295 [00:45<00:00,  6.49batch/s, Loss: 0.3956 | Precision: 69.87%]\u001B[0m\n"
     ]
    },
    {
     "name": "stdout",
     "output_type": "stream",
     "text": [
      "Epoch 3 | Avg Loss: 0.5760 | Avg Precision: 69.61%\n"
     ]
    },
    {
     "name": "stderr",
     "output_type": "stream",
     "text": [
      "Validate: 100%|\u001B[34m███████████████████████\u001B[0m| 74/74 [00:11<00:00,  6.65batch/s, Loss: 0.5907 | Precision: 71.60%]\u001B[0m\n"
     ]
    },
    {
     "name": "stdout",
     "output_type": "stream",
     "text": [
      "Epoch 3 | Avg Loss: 0.5694 | Avg Precision: 71.68% | Patience: 0\n"
     ]
    },
    {
     "name": "stderr",
     "output_type": "stream",
     "text": [
      "Train: 100%|\u001B[32m████████████████████████\u001B[0m| 295/295 [00:45<00:00,  6.47batch/s, Loss: 0.3377 | Precision: 70.80%]\u001B[0m\n"
     ]
    },
    {
     "name": "stdout",
     "output_type": "stream",
     "text": [
      "Epoch 4 | Avg Loss: 0.5670 | Avg Precision: 70.63%\n"
     ]
    },
    {
     "name": "stderr",
     "output_type": "stream",
     "text": [
      "Train: 100%|\u001B[32m████████████████████████\u001B[0m| 295/295 [00:46<00:00,  6.40batch/s, Loss: 0.3720 | Precision: 70.85%]\u001B[0m\n"
     ]
    },
    {
     "name": "stdout",
     "output_type": "stream",
     "text": [
      "Epoch 5 | Avg Loss: 0.6217 | Avg Precision: 71.11%\n"
     ]
    },
    {
     "name": "stderr",
     "output_type": "stream",
     "text": [
      "Train: 100%|\u001B[32m████████████████████████\u001B[0m| 295/295 [00:46<00:00,  6.40batch/s, Loss: 0.4094 | Precision: 69.55%]\u001B[0m\n"
     ]
    },
    {
     "name": "stdout",
     "output_type": "stream",
     "text": [
      "Epoch 6 | Avg Loss: 0.5824 | Avg Precision: 69.35%\n"
     ]
    },
    {
     "name": "stderr",
     "output_type": "stream",
     "text": [
      "Validate: 100%|\u001B[34m███████████████████████\u001B[0m| 74/74 [00:11<00:00,  6.53batch/s, Loss: 0.5865 | Precision: 70.19%]\u001B[0m\n"
     ]
    },
    {
     "name": "stdout",
     "output_type": "stream",
     "text": [
      "Epoch 6 | Avg Loss: 0.5749 | Avg Precision: 70.31% | Patience: 1\n"
     ]
    },
    {
     "name": "stderr",
     "output_type": "stream",
     "text": [
      "Train: 100%|\u001B[32m████████████████████████\u001B[0m| 295/295 [00:46<00:00,  6.38batch/s, Loss: 0.3833 | Precision: 70.49%]\u001B[0m\n"
     ]
    },
    {
     "name": "stdout",
     "output_type": "stream",
     "text": [
      "Epoch 7 | Avg Loss: 0.5669 | Avg Precision: 70.06%\n"
     ]
    },
    {
     "name": "stderr",
     "output_type": "stream",
     "text": [
      "Train: 100%|\u001B[32m████████████████████████\u001B[0m| 295/295 [00:46<00:00,  6.37batch/s, Loss: 0.3756 | Precision: 70.74%]\u001B[0m\n"
     ]
    },
    {
     "name": "stdout",
     "output_type": "stream",
     "text": [
      "Epoch 8 | Avg Loss: 0.5674 | Avg Precision: 70.61%\n"
     ]
    },
    {
     "name": "stderr",
     "output_type": "stream",
     "text": [
      "Train: 100%|\u001B[32m████████████████████████\u001B[0m| 295/295 [00:46<00:00,  6.38batch/s, Loss: 0.4125 | Precision: 71.30%]\u001B[0m\n"
     ]
    },
    {
     "name": "stdout",
     "output_type": "stream",
     "text": [
      "Epoch 9 | Avg Loss: 0.5627 | Avg Precision: 71.04%\n"
     ]
    },
    {
     "name": "stderr",
     "output_type": "stream",
     "text": [
      "Validate: 100%|\u001B[34m███████████████████████\u001B[0m| 74/74 [00:11<00:00,  6.56batch/s, Loss: 0.5882 | Precision: 70.89%]\u001B[0m\n"
     ]
    },
    {
     "name": "stdout",
     "output_type": "stream",
     "text": [
      "Epoch 9 | Avg Loss: 0.5721 | Avg Precision: 70.99% | Patience: 2\n"
     ]
    },
    {
     "name": "stderr",
     "output_type": "stream",
     "text": [
      "Train: 100%|\u001B[32m████████████████████████\u001B[0m| 295/295 [00:47<00:00,  6.28batch/s, Loss: 0.4002 | Precision: 71.14%]\u001B[0m\n"
     ]
    },
    {
     "name": "stdout",
     "output_type": "stream",
     "text": [
      "Epoch 10 | Avg Loss: 0.5637 | Avg Precision: 71.08%\n"
     ]
    },
    {
     "name": "stderr",
     "output_type": "stream",
     "text": [
      "Train: 100%|\u001B[32m████████████████████████\u001B[0m| 295/295 [00:46<00:00,  6.30batch/s, Loss: 0.4177 | Precision: 71.23%]\u001B[0m\n"
     ]
    },
    {
     "name": "stdout",
     "output_type": "stream",
     "text": [
      "Epoch 11 | Avg Loss: 0.5636 | Avg Precision: 71.28%\n"
     ]
    },
    {
     "name": "stderr",
     "output_type": "stream",
     "text": [
      "Train: 100%|\u001B[32m████████████████████████\u001B[0m| 295/295 [00:46<00:00,  6.34batch/s, Loss: 0.3672 | Precision: 70.95%]\u001B[0m\n"
     ]
    },
    {
     "name": "stdout",
     "output_type": "stream",
     "text": [
      "Epoch 12 | Avg Loss: 0.5682 | Avg Precision: 70.70%\n"
     ]
    },
    {
     "name": "stderr",
     "output_type": "stream",
     "text": [
      "Validate: 100%|\u001B[34m███████████████████████\u001B[0m| 74/74 [00:11<00:00,  6.49batch/s, Loss: 0.5720 | Precision: 71.90%]\u001B[0m\n"
     ]
    },
    {
     "name": "stdout",
     "output_type": "stream",
     "text": [
      "Epoch 12 | Avg Loss: 0.5657 | Avg Precision: 71.87% | Patience: 0\n"
     ]
    },
    {
     "name": "stderr",
     "output_type": "stream",
     "text": [
      "Train: 100%|\u001B[32m████████████████████████\u001B[0m| 295/295 [00:46<00:00,  6.33batch/s, Loss: 0.4448 | Precision: 71.04%]\u001B[0m\n"
     ]
    },
    {
     "name": "stdout",
     "output_type": "stream",
     "text": [
      "Epoch 13 | Avg Loss: 0.5671 | Avg Precision: 71.34%\n"
     ]
    },
    {
     "name": "stderr",
     "output_type": "stream",
     "text": [
      "Train: 100%|\u001B[32m████████████████████████\u001B[0m| 295/295 [00:46<00:00,  6.32batch/s, Loss: 0.4066 | Precision: 69.93%]\u001B[0m\n"
     ]
    },
    {
     "name": "stdout",
     "output_type": "stream",
     "text": [
      "Epoch 14 | Avg Loss: 0.5808 | Avg Precision: 69.98%\n"
     ]
    },
    {
     "name": "stderr",
     "output_type": "stream",
     "text": [
      "Train: 100%|\u001B[32m████████████████████████\u001B[0m| 295/295 [00:46<00:00,  6.37batch/s, Loss: 0.4646 | Precision: 70.12%]\u001B[0m\n"
     ]
    },
    {
     "name": "stdout",
     "output_type": "stream",
     "text": [
      "Epoch 15 | Avg Loss: 0.5774 | Avg Precision: 70.02%\n"
     ]
    },
    {
     "name": "stderr",
     "output_type": "stream",
     "text": [
      "Validate: 100%|\u001B[34m███████████████████████\u001B[0m| 74/74 [00:11<00:00,  6.58batch/s, Loss: 0.6194 | Precision: 68.99%]\u001B[0m\n"
     ]
    },
    {
     "name": "stdout",
     "output_type": "stream",
     "text": [
      "Epoch 15 | Avg Loss: 0.5996 | Avg Precision: 69.11% | Patience: 1\n"
     ]
    },
    {
     "name": "stderr",
     "output_type": "stream",
     "text": [
      "Train: 100%|\u001B[32m████████████████████████\u001B[0m| 295/295 [00:46<00:00,  6.33batch/s, Loss: 0.4061 | Precision: 70.26%]\u001B[0m\n"
     ]
    },
    {
     "name": "stdout",
     "output_type": "stream",
     "text": [
      "Epoch 16 | Avg Loss: 0.5724 | Avg Precision: 70.03%\n"
     ]
    },
    {
     "name": "stderr",
     "output_type": "stream",
     "text": [
      "Train: 100%|\u001B[32m████████████████████████\u001B[0m| 295/295 [00:46<00:00,  6.33batch/s, Loss: 0.4091 | Precision: 70.10%]\u001B[0m\n"
     ]
    },
    {
     "name": "stdout",
     "output_type": "stream",
     "text": [
      "Epoch 17 | Avg Loss: 0.5801 | Avg Precision: 69.95%\n"
     ]
    },
    {
     "name": "stderr",
     "output_type": "stream",
     "text": [
      "Train: 100%|\u001B[32m████████████████████████\u001B[0m| 295/295 [00:46<00:00,  6.32batch/s, Loss: 0.3547 | Precision: 70.08%]\u001B[0m\n"
     ]
    },
    {
     "name": "stdout",
     "output_type": "stream",
     "text": [
      "Epoch 18 | Avg Loss: 0.5770 | Avg Precision: 70.05%\n"
     ]
    },
    {
     "name": "stderr",
     "output_type": "stream",
     "text": [
      "Validate: 100%|\u001B[34m███████████████████████\u001B[0m| 74/74 [00:11<00:00,  6.45batch/s, Loss: 0.5857 | Precision: 70.19%]\u001B[0m\n"
     ]
    },
    {
     "name": "stdout",
     "output_type": "stream",
     "text": [
      "Epoch 18 | Avg Loss: 0.5685 | Avg Precision: 70.32% | Patience: 2\n"
     ]
    },
    {
     "name": "stderr",
     "output_type": "stream",
     "text": [
      "Train: 100%|\u001B[32m████████████████████████\u001B[0m| 295/295 [00:46<00:00,  6.35batch/s, Loss: 0.3637 | Precision: 69.88%]\u001B[0m\n"
     ]
    },
    {
     "name": "stdout",
     "output_type": "stream",
     "text": [
      "Epoch 19 | Avg Loss: 0.5790 | Avg Precision: 69.75%\n"
     ]
    },
    {
     "name": "stderr",
     "output_type": "stream",
     "text": [
      "Train: 100%|\u001B[32m████████████████████████\u001B[0m| 295/295 [00:46<00:00,  6.31batch/s, Loss: 0.3598 | Precision: 70.08%]\u001B[0m\n"
     ]
    },
    {
     "name": "stdout",
     "output_type": "stream",
     "text": [
      "Epoch 20 | Avg Loss: 0.5774 | Avg Precision: 69.89%\n"
     ]
    },
    {
     "name": "stderr",
     "output_type": "stream",
     "text": [
      "Train: 100%|\u001B[32m████████████████████████\u001B[0m| 295/295 [00:46<00:00,  6.35batch/s, Loss: 0.3546 | Precision: 70.32%]\u001B[0m\n"
     ]
    },
    {
     "name": "stdout",
     "output_type": "stream",
     "text": [
      "Epoch 21 | Avg Loss: 0.5709 | Avg Precision: 70.18%\n"
     ]
    },
    {
     "name": "stderr",
     "output_type": "stream",
     "text": [
      "Validate: 100%|\u001B[34m███████████████████████\u001B[0m| 74/74 [00:11<00:00,  6.49batch/s, Loss: 0.5940 | Precision: 69.88%]\u001B[0m\n"
     ]
    },
    {
     "name": "stdout",
     "output_type": "stream",
     "text": [
      "Epoch 21 | Avg Loss: 0.5763 | Avg Precision: 69.97% | Patience: 3\n"
     ]
    },
    {
     "name": "stderr",
     "output_type": "stream",
     "text": [
      "Train: 100%|\u001B[32m████████████████████████\u001B[0m| 295/295 [00:47<00:00,  6.20batch/s, Loss: 0.3606 | Precision: 70.66%]\u001B[0m\n"
     ]
    },
    {
     "name": "stdout",
     "output_type": "stream",
     "text": [
      "Epoch 22 | Avg Loss: 0.5592 | Avg Precision: 70.35%\n"
     ]
    },
    {
     "name": "stderr",
     "output_type": "stream",
     "text": [
      "Train: 100%|\u001B[32m████████████████████████\u001B[0m| 295/295 [00:46<00:00,  6.32batch/s, Loss: 0.3611 | Precision: 70.79%]\u001B[0m\n"
     ]
    },
    {
     "name": "stdout",
     "output_type": "stream",
     "text": [
      "Epoch 23 | Avg Loss: 0.5575 | Avg Precision: 70.68%\n"
     ]
    },
    {
     "name": "stderr",
     "output_type": "stream",
     "text": [
      "Train: 100%|\u001B[32m████████████████████████\u001B[0m| 295/295 [00:47<00:00,  6.26batch/s, Loss: 0.3624 | Precision: 70.82%]\u001B[0m\n"
     ]
    },
    {
     "name": "stdout",
     "output_type": "stream",
     "text": [
      "Epoch 24 | Avg Loss: 0.5571 | Avg Precision: 70.69%\n"
     ]
    },
    {
     "name": "stderr",
     "output_type": "stream",
     "text": [
      "Validate: 100%|\u001B[34m███████████████████████\u001B[0m| 74/74 [00:11<00:00,  6.43batch/s, Loss: 0.5752 | Precision: 70.94%]\u001B[0m\n"
     ]
    },
    {
     "name": "stdout",
     "output_type": "stream",
     "text": [
      "Epoch 24 | Avg Loss: 0.5559 | Avg Precision: 71.03% | Patience: 4\n"
     ]
    },
    {
     "name": "stderr",
     "output_type": "stream",
     "text": [
      "Train: 100%|\u001B[32m████████████████████████\u001B[0m| 295/295 [00:46<00:00,  6.30batch/s, Loss: 0.3594 | Precision: 70.90%]\u001B[0m\n"
     ]
    },
    {
     "name": "stdout",
     "output_type": "stream",
     "text": [
      "Epoch 25 | Avg Loss: 0.5562 | Avg Precision: 70.76%\n"
     ]
    },
    {
     "name": "stderr",
     "output_type": "stream",
     "text": [
      "Train: 100%|\u001B[32m████████████████████████\u001B[0m| 295/295 [00:47<00:00,  6.23batch/s, Loss: 0.3645 | Precision: 70.87%]\u001B[0m\n"
     ]
    },
    {
     "name": "stdout",
     "output_type": "stream",
     "text": [
      "Epoch 26 | Avg Loss: 0.5564 | Avg Precision: 70.75%\n"
     ]
    },
    {
     "name": "stderr",
     "output_type": "stream",
     "text": [
      "Train: 100%|\u001B[32m████████████████████████\u001B[0m| 295/295 [00:48<00:00,  6.09batch/s, Loss: 0.3608 | Precision: 70.93%]\u001B[0m\n"
     ]
    },
    {
     "name": "stdout",
     "output_type": "stream",
     "text": [
      "Epoch 27 | Avg Loss: 0.5553 | Avg Precision: 70.83%\n"
     ]
    },
    {
     "name": "stderr",
     "output_type": "stream",
     "text": [
      "Validate: 100%|\u001B[34m███████████████████████\u001B[0m| 74/74 [00:11<00:00,  6.35batch/s, Loss: 0.5727 | Precision: 70.99%]\u001B[0m"
     ]
    },
    {
     "name": "stdout",
     "output_type": "stream",
     "text": [
      "Early Stopping: Precision stagnated or decreased too many times. Best Validation: 71.87%\n",
      "Training Complete\n"
     ]
    },
    {
     "name": "stderr",
     "output_type": "stream",
     "text": [
      "\n"
     ]
    }
   ],
   "source": [
    "model = Rnn(9, 150, 1, 4)\n",
    "model = model.to(device)\n",
    "criterion = nn.CrossEntropyLoss()\n",
    "optimizer = optim.Adam(model.parameters(), lr=.03)\n",
    "scheduler = ReduceLROnPlateau(optimizer, 'min', patience=2)\n",
    "epochs = 100\n",
    "\n",
    "model2 = train_validate(model, criterion, optimizer, scheduler, epochs, train_loader, val_loader)\n",
    "torch.save(model2.state_dict(), '.\\\\models\\\\downsample\\\\rnn\\\\model2.pth')"
   ]
  },
  {
   "cell_type": "markdown",
   "id": "1b249884-ba02-478b-9510-7eb7917bf620",
   "metadata": {},
   "source": [
    "### 10-31-23"
   ]
  },
  {
   "cell_type": "markdown",
   "id": "0d0f6975-554a-4549-b028-abfce9f6171d",
   "metadata": {
    "jp-MarkdownHeadingCollapsed": true
   },
   "source": [
    "#### Model 3 - batch 512"
   ]
  },
  {
   "cell_type": "code",
   "execution_count": 17,
   "id": "cf9071aa-bd59-46c7-bef9-1b94ce0fc784",
   "metadata": {},
   "outputs": [
    {
     "name": "stderr",
     "output_type": "stream",
     "text": [
      "Train: 100%|\u001B[32m████████████████████████\u001B[0m| 589/589 [00:50<00:00, 11.67batch/s, Loss: 0.3861 | Precision: 69.51%]\u001B[0m\n"
     ]
    },
    {
     "name": "stdout",
     "output_type": "stream",
     "text": [
      "Epoch 1 | Avg Loss: 0.5992 | Avg Precision: 68.41%\n"
     ]
    },
    {
     "name": "stderr",
     "output_type": "stream",
     "text": [
      "Train: 100%|\u001B[32m████████████████████████\u001B[0m| 589/589 [00:50<00:00, 11.78batch/s, Loss: 0.4244 | Precision: 70.22%]\u001B[0m\n"
     ]
    },
    {
     "name": "stdout",
     "output_type": "stream",
     "text": [
      "Epoch 2 | Avg Loss: 0.5775 | Avg Precision: 69.96%\n"
     ]
    },
    {
     "name": "stderr",
     "output_type": "stream",
     "text": [
      "Train: 100%|\u001B[32m████████████████████████\u001B[0m| 589/589 [00:49<00:00, 11.84batch/s, Loss: 0.4698 | Precision: 70.40%]\u001B[0m\n"
     ]
    },
    {
     "name": "stdout",
     "output_type": "stream",
     "text": [
      "Epoch 3 | Avg Loss: 0.5696 | Avg Precision: 70.12%\n"
     ]
    },
    {
     "name": "stderr",
     "output_type": "stream",
     "text": [
      "Validate: 100%|\u001B[34m█████████████████████\u001B[0m| 148/148 [00:11<00:00, 12.45batch/s, Loss: 0.3897 | Precision: 69.92%]\u001B[0m\n"
     ]
    },
    {
     "name": "stdout",
     "output_type": "stream",
     "text": [
      "Epoch 3 | Avg Loss: 0.6197 | Avg Precision: 69.94% | Patience: 0\n"
     ]
    },
    {
     "name": "stderr",
     "output_type": "stream",
     "text": [
      "Train: 100%|\u001B[32m████████████████████████\u001B[0m| 589/589 [00:50<00:00, 11.76batch/s, Loss: 0.3708 | Precision: 70.33%]\u001B[0m\n"
     ]
    },
    {
     "name": "stdout",
     "output_type": "stream",
     "text": [
      "Epoch 4 | Avg Loss: 0.6281 | Avg Precision: 70.33%\n"
     ]
    },
    {
     "name": "stderr",
     "output_type": "stream",
     "text": [
      "Train: 100%|\u001B[32m████████████████████████\u001B[0m| 589/589 [00:50<00:00, 11.77batch/s, Loss: 0.3777 | Precision: 70.02%]\u001B[0m\n"
     ]
    },
    {
     "name": "stdout",
     "output_type": "stream",
     "text": [
      "Epoch 5 | Avg Loss: 0.5787 | Avg Precision: 69.90%\n"
     ]
    },
    {
     "name": "stderr",
     "output_type": "stream",
     "text": [
      "Train: 100%|\u001B[32m████████████████████████\u001B[0m| 589/589 [00:50<00:00, 11.78batch/s, Loss: 0.3740 | Precision: 70.07%]\u001B[0m\n"
     ]
    },
    {
     "name": "stdout",
     "output_type": "stream",
     "text": [
      "Epoch 6 | Avg Loss: 0.5766 | Avg Precision: 69.91%\n"
     ]
    },
    {
     "name": "stderr",
     "output_type": "stream",
     "text": [
      "Validate: 100%|\u001B[34m█████████████████████\u001B[0m| 148/148 [00:11<00:00, 12.48batch/s, Loss: 0.1085 | Precision: 70.40%]\u001B[0m\n"
     ]
    },
    {
     "name": "stdout",
     "output_type": "stream",
     "text": [
      "Epoch 6 | Avg Loss: 0.5807 | Avg Precision: 70.55% | Patience: 0\n"
     ]
    },
    {
     "name": "stderr",
     "output_type": "stream",
     "text": [
      "Train: 100%|\u001B[32m████████████████████████\u001B[0m| 589/589 [00:50<00:00, 11.66batch/s, Loss: 0.3698 | Precision: 70.05%]\u001B[0m\n"
     ]
    },
    {
     "name": "stdout",
     "output_type": "stream",
     "text": [
      "Epoch 7 | Avg Loss: 0.5796 | Avg Precision: 69.89%\n"
     ]
    },
    {
     "name": "stderr",
     "output_type": "stream",
     "text": [
      "Train: 100%|\u001B[32m████████████████████████\u001B[0m| 589/589 [00:50<00:00, 11.71batch/s, Loss: 0.3765 | Precision: 70.12%]\u001B[0m\n"
     ]
    },
    {
     "name": "stdout",
     "output_type": "stream",
     "text": [
      "Epoch 8 | Avg Loss: 0.5808 | Avg Precision: 70.00%\n"
     ]
    },
    {
     "name": "stderr",
     "output_type": "stream",
     "text": [
      "Train: 100%|\u001B[32m████████████████████████\u001B[0m| 589/589 [00:50<00:00, 11.72batch/s, Loss: 0.3799 | Precision: 70.14%]\u001B[0m\n"
     ]
    },
    {
     "name": "stdout",
     "output_type": "stream",
     "text": [
      "Epoch 9 | Avg Loss: 0.6115 | Avg Precision: 69.94%\n"
     ]
    },
    {
     "name": "stderr",
     "output_type": "stream",
     "text": [
      "Validate: 100%|\u001B[34m█████████████████████\u001B[0m| 148/148 [00:11<00:00, 12.51batch/s, Loss: 0.2903 | Precision: 70.43%]\u001B[0m\n"
     ]
    },
    {
     "name": "stdout",
     "output_type": "stream",
     "text": [
      "Epoch 9 | Avg Loss: 0.5760 | Avg Precision: 70.56% | Patience: 0\n"
     ]
    },
    {
     "name": "stderr",
     "output_type": "stream",
     "text": [
      "Train: 100%|\u001B[32m████████████████████████\u001B[0m| 589/589 [00:50<00:00, 11.62batch/s, Loss: 0.3862 | Precision: 70.18%]\u001B[0m\n"
     ]
    },
    {
     "name": "stdout",
     "output_type": "stream",
     "text": [
      "Epoch 10 | Avg Loss: 0.5766 | Avg Precision: 70.00%\n"
     ]
    },
    {
     "name": "stderr",
     "output_type": "stream",
     "text": [
      "Train: 100%|\u001B[32m████████████████████████\u001B[0m| 589/589 [00:49<00:00, 11.84batch/s, Loss: 0.3818 | Precision: 70.25%]\u001B[0m\n"
     ]
    },
    {
     "name": "stdout",
     "output_type": "stream",
     "text": [
      "Epoch 11 | Avg Loss: 0.5812 | Avg Precision: 70.01%\n"
     ]
    },
    {
     "name": "stderr",
     "output_type": "stream",
     "text": [
      "Train: 100%|\u001B[32m████████████████████████\u001B[0m| 589/589 [00:50<00:00, 11.77batch/s, Loss: 0.3861 | Precision: 70.17%]\u001B[0m\n"
     ]
    },
    {
     "name": "stdout",
     "output_type": "stream",
     "text": [
      "Epoch 12 | Avg Loss: 0.5777 | Avg Precision: 70.08%\n"
     ]
    },
    {
     "name": "stderr",
     "output_type": "stream",
     "text": [
      "Validate: 100%|\u001B[34m█████████████████████\u001B[0m| 148/148 [00:11<00:00, 12.41batch/s, Loss: 0.1566 | Precision: 70.07%]\u001B[0m\n"
     ]
    },
    {
     "name": "stdout",
     "output_type": "stream",
     "text": [
      "Epoch 12 | Avg Loss: 0.5883 | Avg Precision: 70.25% | Patience: 1\n"
     ]
    },
    {
     "name": "stderr",
     "output_type": "stream",
     "text": [
      "Train: 100%|\u001B[32m████████████████████████\u001B[0m| 589/589 [00:49<00:00, 11.90batch/s, Loss: 0.4307 | Precision: 70.18%]\u001B[0m\n"
     ]
    },
    {
     "name": "stdout",
     "output_type": "stream",
     "text": [
      "Epoch 13 | Avg Loss: 0.5785 | Avg Precision: 70.11%\n"
     ]
    },
    {
     "name": "stderr",
     "output_type": "stream",
     "text": [
      "Train: 100%|\u001B[32m████████████████████████\u001B[0m| 589/589 [00:49<00:00, 11.85batch/s, Loss: 0.3868 | Precision: 70.19%]\u001B[0m\n"
     ]
    },
    {
     "name": "stdout",
     "output_type": "stream",
     "text": [
      "Epoch 14 | Avg Loss: 0.5787 | Avg Precision: 69.98%\n"
     ]
    },
    {
     "name": "stderr",
     "output_type": "stream",
     "text": [
      "Train: 100%|\u001B[32m████████████████████████\u001B[0m| 589/589 [00:50<00:00, 11.78batch/s, Loss: 0.3813 | Precision: 70.23%]\u001B[0m\n"
     ]
    },
    {
     "name": "stdout",
     "output_type": "stream",
     "text": [
      "Epoch 15 | Avg Loss: 0.5816 | Avg Precision: 70.08%\n"
     ]
    },
    {
     "name": "stderr",
     "output_type": "stream",
     "text": [
      "Validate: 100%|\u001B[34m█████████████████████\u001B[0m| 148/148 [00:11<00:00, 12.49batch/s, Loss: 0.1757 | Precision: 70.56%]\u001B[0m\n"
     ]
    },
    {
     "name": "stdout",
     "output_type": "stream",
     "text": [
      "Epoch 15 | Avg Loss: 0.5654 | Avg Precision: 70.67% | Patience: 0\n"
     ]
    },
    {
     "name": "stderr",
     "output_type": "stream",
     "text": [
      "Train: 100%|\u001B[32m████████████████████████\u001B[0m| 589/589 [00:49<00:00, 11.80batch/s, Loss: 0.3767 | Precision: 70.16%]\u001B[0m\n"
     ]
    },
    {
     "name": "stdout",
     "output_type": "stream",
     "text": [
      "Epoch 16 | Avg Loss: 0.5811 | Avg Precision: 70.06%\n"
     ]
    },
    {
     "name": "stderr",
     "output_type": "stream",
     "text": [
      "Train: 100%|\u001B[32m████████████████████████\u001B[0m| 589/589 [00:49<00:00, 11.87batch/s, Loss: 0.4166 | Precision: 70.03%]\u001B[0m\n"
     ]
    },
    {
     "name": "stdout",
     "output_type": "stream",
     "text": [
      "Epoch 17 | Avg Loss: 0.5861 | Avg Precision: 69.89%\n"
     ]
    },
    {
     "name": "stderr",
     "output_type": "stream",
     "text": [
      "Train: 100%|\u001B[32m████████████████████████\u001B[0m| 589/589 [00:49<00:00, 11.87batch/s, Loss: 0.3760 | Precision: 70.01%]\u001B[0m\n"
     ]
    },
    {
     "name": "stdout",
     "output_type": "stream",
     "text": [
      "Epoch 18 | Avg Loss: 0.5871 | Avg Precision: 69.53%\n"
     ]
    },
    {
     "name": "stderr",
     "output_type": "stream",
     "text": [
      "Validate: 100%|\u001B[34m█████████████████████\u001B[0m| 148/148 [00:11<00:00, 12.52batch/s, Loss: 0.1786 | Precision: 70.46%]\u001B[0m\n"
     ]
    },
    {
     "name": "stdout",
     "output_type": "stream",
     "text": [
      "Epoch 18 | Avg Loss: 0.5696 | Avg Precision: 70.54% | Patience: 1\n"
     ]
    },
    {
     "name": "stderr",
     "output_type": "stream",
     "text": [
      "Train: 100%|\u001B[32m████████████████████████\u001B[0m| 589/589 [00:49<00:00, 11.93batch/s, Loss: 0.4362 | Precision: 70.22%]\u001B[0m\n"
     ]
    },
    {
     "name": "stdout",
     "output_type": "stream",
     "text": [
      "Epoch 19 | Avg Loss: 0.5784 | Avg Precision: 70.01%\n"
     ]
    },
    {
     "name": "stderr",
     "output_type": "stream",
     "text": [
      "Train: 100%|\u001B[32m████████████████████████\u001B[0m| 589/589 [00:49<00:00, 11.99batch/s, Loss: 0.3886 | Precision: 69.87%]\u001B[0m\n"
     ]
    },
    {
     "name": "stdout",
     "output_type": "stream",
     "text": [
      "Epoch 20 | Avg Loss: 0.5864 | Avg Precision: 69.99%\n"
     ]
    },
    {
     "name": "stderr",
     "output_type": "stream",
     "text": [
      "Train: 100%|\u001B[32m████████████████████████\u001B[0m| 589/589 [00:49<00:00, 11.88batch/s, Loss: 0.3605 | Precision: 70.12%]\u001B[0m\n"
     ]
    },
    {
     "name": "stdout",
     "output_type": "stream",
     "text": [
      "Epoch 21 | Avg Loss: 0.5842 | Avg Precision: 69.93%\n"
     ]
    },
    {
     "name": "stderr",
     "output_type": "stream",
     "text": [
      "Validate: 100%|\u001B[34m█████████████████████\u001B[0m| 148/148 [00:11<00:00, 12.56batch/s, Loss: 0.1192 | Precision: 70.58%]\u001B[0m\n"
     ]
    },
    {
     "name": "stdout",
     "output_type": "stream",
     "text": [
      "Epoch 21 | Avg Loss: 0.5751 | Avg Precision: 70.67% | Patience: 0\n"
     ]
    },
    {
     "name": "stderr",
     "output_type": "stream",
     "text": [
      "Train: 100%|\u001B[32m████████████████████████\u001B[0m| 589/589 [00:49<00:00, 11.86batch/s, Loss: 0.3599 | Precision: 70.26%]\u001B[0m\n"
     ]
    },
    {
     "name": "stdout",
     "output_type": "stream",
     "text": [
      "Epoch 22 | Avg Loss: 0.5796 | Avg Precision: 70.11%\n"
     ]
    },
    {
     "name": "stderr",
     "output_type": "stream",
     "text": [
      "Train: 100%|\u001B[32m████████████████████████\u001B[0m| 589/589 [00:49<00:00, 12.02batch/s, Loss: 0.3673 | Precision: 70.09%]\u001B[0m\n"
     ]
    },
    {
     "name": "stdout",
     "output_type": "stream",
     "text": [
      "Epoch 23 | Avg Loss: 0.6229 | Avg Precision: 69.88%\n"
     ]
    },
    {
     "name": "stderr",
     "output_type": "stream",
     "text": [
      "Train: 100%|\u001B[32m████████████████████████\u001B[0m| 589/589 [00:48<00:00, 12.07batch/s, Loss: 0.3782 | Precision: 70.06%]\u001B[0m\n"
     ]
    },
    {
     "name": "stdout",
     "output_type": "stream",
     "text": [
      "Epoch 24 | Avg Loss: 0.5890 | Avg Precision: 70.03%\n"
     ]
    },
    {
     "name": "stderr",
     "output_type": "stream",
     "text": [
      "Validate: 100%|\u001B[34m█████████████████████\u001B[0m| 148/148 [00:11<00:00, 12.46batch/s, Loss: 0.1452 | Precision: 70.36%]\u001B[0m\n"
     ]
    },
    {
     "name": "stdout",
     "output_type": "stream",
     "text": [
      "Epoch 24 | Avg Loss: 0.5829 | Avg Precision: 70.43% | Patience: 1\n"
     ]
    },
    {
     "name": "stderr",
     "output_type": "stream",
     "text": [
      "Train: 100%|\u001B[32m████████████████████████\u001B[0m| 589/589 [00:48<00:00, 12.03batch/s, Loss: 0.3660 | Precision: 70.41%]\u001B[0m\n"
     ]
    },
    {
     "name": "stdout",
     "output_type": "stream",
     "text": [
      "Epoch 25 | Avg Loss: 0.5632 | Avg Precision: 70.23%\n"
     ]
    },
    {
     "name": "stderr",
     "output_type": "stream",
     "text": [
      "Train: 100%|\u001B[32m████████████████████████\u001B[0m| 589/589 [00:49<00:00, 11.89batch/s, Loss: 0.3660 | Precision: 70.49%]\u001B[0m\n"
     ]
    },
    {
     "name": "stdout",
     "output_type": "stream",
     "text": [
      "Epoch 26 | Avg Loss: 0.5619 | Avg Precision: 70.30%\n"
     ]
    },
    {
     "name": "stderr",
     "output_type": "stream",
     "text": [
      "Train: 100%|\u001B[32m████████████████████████\u001B[0m| 589/589 [00:49<00:00, 11.90batch/s, Loss: 0.3663 | Precision: 70.51%]\u001B[0m\n"
     ]
    },
    {
     "name": "stdout",
     "output_type": "stream",
     "text": [
      "Epoch 27 | Avg Loss: 0.5610 | Avg Precision: 70.33%\n"
     ]
    },
    {
     "name": "stderr",
     "output_type": "stream",
     "text": [
      "Validate: 100%|\u001B[34m█████████████████████\u001B[0m| 148/148 [00:11<00:00, 12.43batch/s, Loss: 0.1774 | Precision: 70.71%]\u001B[0m\n"
     ]
    },
    {
     "name": "stdout",
     "output_type": "stream",
     "text": [
      "Epoch 27 | Avg Loss: 0.5585 | Avg Precision: 70.79% | Patience: 0\n"
     ]
    },
    {
     "name": "stderr",
     "output_type": "stream",
     "text": [
      "Train: 100%|\u001B[32m████████████████████████\u001B[0m| 589/589 [00:49<00:00, 11.95batch/s, Loss: 0.3679 | Precision: 70.52%]\u001B[0m\n"
     ]
    },
    {
     "name": "stdout",
     "output_type": "stream",
     "text": [
      "Epoch 28 | Avg Loss: 0.5608 | Avg Precision: 70.39%\n"
     ]
    },
    {
     "name": "stderr",
     "output_type": "stream",
     "text": [
      "Train: 100%|\u001B[32m████████████████████████\u001B[0m| 589/589 [00:49<00:00, 11.85batch/s, Loss: 0.3669 | Precision: 70.52%]\u001B[0m\n"
     ]
    },
    {
     "name": "stdout",
     "output_type": "stream",
     "text": [
      "Epoch 29 | Avg Loss: 0.5603 | Avg Precision: 70.32%\n"
     ]
    },
    {
     "name": "stderr",
     "output_type": "stream",
     "text": [
      "Train: 100%|\u001B[32m████████████████████████\u001B[0m| 589/589 [00:49<00:00, 11.94batch/s, Loss: 0.3675 | Precision: 70.54%]\u001B[0m\n"
     ]
    },
    {
     "name": "stdout",
     "output_type": "stream",
     "text": [
      "Epoch 30 | Avg Loss: 0.5604 | Avg Precision: 70.31%\n"
     ]
    },
    {
     "name": "stderr",
     "output_type": "stream",
     "text": [
      "Validate: 100%|\u001B[34m█████████████████████\u001B[0m| 148/148 [00:11<00:00, 12.57batch/s, Loss: 0.1753 | Precision: 70.68%]\u001B[0m\n"
     ]
    },
    {
     "name": "stdout",
     "output_type": "stream",
     "text": [
      "Epoch 30 | Avg Loss: 0.5563 | Avg Precision: 70.78% | Patience: 1\n"
     ]
    },
    {
     "name": "stderr",
     "output_type": "stream",
     "text": [
      "Train: 100%|\u001B[32m████████████████████████\u001B[0m| 589/589 [00:49<00:00, 11.99batch/s, Loss: 0.3678 | Precision: 70.52%]\u001B[0m\n"
     ]
    },
    {
     "name": "stdout",
     "output_type": "stream",
     "text": [
      "Epoch 31 | Avg Loss: 0.5599 | Avg Precision: 70.35%\n"
     ]
    },
    {
     "name": "stderr",
     "output_type": "stream",
     "text": [
      "Train: 100%|\u001B[32m████████████████████████\u001B[0m| 589/589 [00:49<00:00, 11.93batch/s, Loss: 0.3651 | Precision: 70.54%]\u001B[0m\n"
     ]
    },
    {
     "name": "stdout",
     "output_type": "stream",
     "text": [
      "Epoch 32 | Avg Loss: 0.5597 | Avg Precision: 70.39%\n"
     ]
    },
    {
     "name": "stderr",
     "output_type": "stream",
     "text": [
      "Train: 100%|\u001B[32m████████████████████████\u001B[0m| 589/589 [00:49<00:00, 11.94batch/s, Loss: 0.3684 | Precision: 70.51%]\u001B[0m\n"
     ]
    },
    {
     "name": "stdout",
     "output_type": "stream",
     "text": [
      "Epoch 33 | Avg Loss: 0.5593 | Avg Precision: 70.32%\n"
     ]
    },
    {
     "name": "stderr",
     "output_type": "stream",
     "text": [
      "Validate: 100%|\u001B[34m█████████████████████\u001B[0m| 148/148 [00:11<00:00, 12.55batch/s, Loss: 0.1791 | Precision: 70.68%]\u001B[0m\n"
     ]
    },
    {
     "name": "stdout",
     "output_type": "stream",
     "text": [
      "Epoch 33 | Avg Loss: 0.5559 | Avg Precision: 70.78% | Patience: 2\n"
     ]
    },
    {
     "name": "stderr",
     "output_type": "stream",
     "text": [
      "Train: 100%|\u001B[32m████████████████████████\u001B[0m| 589/589 [00:48<00:00, 12.06batch/s, Loss: 0.3668 | Precision: 70.55%]\u001B[0m\n"
     ]
    },
    {
     "name": "stdout",
     "output_type": "stream",
     "text": [
      "Epoch 34 | Avg Loss: 0.5598 | Avg Precision: 70.36%\n"
     ]
    },
    {
     "name": "stderr",
     "output_type": "stream",
     "text": [
      "Train: 100%|\u001B[32m████████████████████████\u001B[0m| 589/589 [00:48<00:00, 12.13batch/s, Loss: 0.3676 | Precision: 70.55%]\u001B[0m\n"
     ]
    },
    {
     "name": "stdout",
     "output_type": "stream",
     "text": [
      "Epoch 35 | Avg Loss: 0.5602 | Avg Precision: 70.38%\n"
     ]
    },
    {
     "name": "stderr",
     "output_type": "stream",
     "text": [
      "Train: 100%|\u001B[32m████████████████████████\u001B[0m| 589/589 [00:48<00:00, 12.10batch/s, Loss: 0.3675 | Precision: 70.56%]\u001B[0m\n"
     ]
    },
    {
     "name": "stdout",
     "output_type": "stream",
     "text": [
      "Epoch 36 | Avg Loss: 0.5590 | Avg Precision: 70.37%\n"
     ]
    },
    {
     "name": "stderr",
     "output_type": "stream",
     "text": [
      "Validate: 100%|\u001B[34m█████████████████████\u001B[0m| 148/148 [00:11<00:00, 12.58batch/s, Loss: 0.1827 | Precision: 70.68%]\u001B[0m\n"
     ]
    },
    {
     "name": "stdout",
     "output_type": "stream",
     "text": [
      "Epoch 36 | Avg Loss: 0.5544 | Avg Precision: 70.76% | Patience: 3\n"
     ]
    },
    {
     "name": "stderr",
     "output_type": "stream",
     "text": [
      "Train: 100%|\u001B[32m████████████████████████\u001B[0m| 589/589 [00:49<00:00, 12.02batch/s, Loss: 0.3654 | Precision: 70.56%]\u001B[0m\n"
     ]
    },
    {
     "name": "stdout",
     "output_type": "stream",
     "text": [
      "Epoch 37 | Avg Loss: 0.5592 | Avg Precision: 70.37%\n"
     ]
    },
    {
     "name": "stderr",
     "output_type": "stream",
     "text": [
      "Train: 100%|\u001B[32m████████████████████████\u001B[0m| 589/589 [00:49<00:00, 11.97batch/s, Loss: 0.3696 | Precision: 70.54%]\u001B[0m\n"
     ]
    },
    {
     "name": "stdout",
     "output_type": "stream",
     "text": [
      "Epoch 38 | Avg Loss: 0.5598 | Avg Precision: 70.40%\n"
     ]
    },
    {
     "name": "stderr",
     "output_type": "stream",
     "text": [
      "Train: 100%|\u001B[32m████████████████████████\u001B[0m| 589/589 [00:48<00:00, 12.14batch/s, Loss: 0.3697 | Precision: 70.56%]\u001B[0m\n"
     ]
    },
    {
     "name": "stdout",
     "output_type": "stream",
     "text": [
      "Epoch 39 | Avg Loss: 0.5589 | Avg Precision: 70.34%\n"
     ]
    },
    {
     "name": "stderr",
     "output_type": "stream",
     "text": [
      "Validate: 100%|\u001B[34m█████████████████████\u001B[0m| 148/148 [00:11<00:00, 12.48batch/s, Loss: 0.1814 | Precision: 70.69%]\u001B[0m\n"
     ]
    },
    {
     "name": "stdout",
     "output_type": "stream",
     "text": [
      "Epoch 39 | Avg Loss: 0.5565 | Avg Precision: 70.79% | Patience: 0\n"
     ]
    },
    {
     "name": "stderr",
     "output_type": "stream",
     "text": [
      "Train: 100%|\u001B[32m████████████████████████\u001B[0m| 589/589 [00:48<00:00, 12.13batch/s, Loss: 0.3711 | Precision: 70.57%]\u001B[0m\n"
     ]
    },
    {
     "name": "stdout",
     "output_type": "stream",
     "text": [
      "Epoch 40 | Avg Loss: 0.5590 | Avg Precision: 70.39%\n"
     ]
    },
    {
     "name": "stderr",
     "output_type": "stream",
     "text": [
      "Train: 100%|\u001B[32m████████████████████████\u001B[0m| 589/589 [00:49<00:00, 11.95batch/s, Loss: 0.3713 | Precision: 70.60%]\u001B[0m\n"
     ]
    },
    {
     "name": "stdout",
     "output_type": "stream",
     "text": [
      "Epoch 41 | Avg Loss: 0.5593 | Avg Precision: 70.42%\n"
     ]
    },
    {
     "name": "stderr",
     "output_type": "stream",
     "text": [
      "Train: 100%|\u001B[32m████████████████████████\u001B[0m| 589/589 [00:49<00:00, 11.96batch/s, Loss: 0.3678 | Precision: 70.60%]\u001B[0m\n"
     ]
    },
    {
     "name": "stdout",
     "output_type": "stream",
     "text": [
      "Epoch 42 | Avg Loss: 0.5593 | Avg Precision: 70.44%\n"
     ]
    },
    {
     "name": "stderr",
     "output_type": "stream",
     "text": [
      "Validate: 100%|\u001B[34m█████████████████████\u001B[0m| 148/148 [00:11<00:00, 12.55batch/s, Loss: 0.1851 | Precision: 70.65%]\u001B[0m\n"
     ]
    },
    {
     "name": "stdout",
     "output_type": "stream",
     "text": [
      "Epoch 42 | Avg Loss: 0.5547 | Avg Precision: 70.76% | Patience: 1\n"
     ]
    },
    {
     "name": "stderr",
     "output_type": "stream",
     "text": [
      "Train: 100%|\u001B[32m████████████████████████\u001B[0m| 589/589 [00:48<00:00, 12.04batch/s, Loss: 0.3725 | Precision: 70.57%]\u001B[0m\n"
     ]
    },
    {
     "name": "stdout",
     "output_type": "stream",
     "text": [
      "Epoch 43 | Avg Loss: 0.5580 | Avg Precision: 70.37%\n"
     ]
    },
    {
     "name": "stderr",
     "output_type": "stream",
     "text": [
      "Train: 100%|\u001B[32m████████████████████████\u001B[0m| 589/589 [00:49<00:00, 11.98batch/s, Loss: 0.3688 | Precision: 70.59%]\u001B[0m\n"
     ]
    },
    {
     "name": "stdout",
     "output_type": "stream",
     "text": [
      "Epoch 44 | Avg Loss: 0.5588 | Avg Precision: 70.38%\n"
     ]
    },
    {
     "name": "stderr",
     "output_type": "stream",
     "text": [
      "Train: 100%|\u001B[32m████████████████████████\u001B[0m| 589/589 [00:49<00:00, 12.01batch/s, Loss: 0.3710 | Precision: 70.57%]\u001B[0m\n"
     ]
    },
    {
     "name": "stdout",
     "output_type": "stream",
     "text": [
      "Epoch 45 | Avg Loss: 0.5586 | Avg Precision: 70.38%\n"
     ]
    },
    {
     "name": "stderr",
     "output_type": "stream",
     "text": [
      "Validate: 100%|\u001B[34m█████████████████████\u001B[0m| 148/148 [00:11<00:00, 12.47batch/s, Loss: 0.1726 | Precision: 70.70%]\u001B[0m\n"
     ]
    },
    {
     "name": "stdout",
     "output_type": "stream",
     "text": [
      "Epoch 45 | Avg Loss: 0.5535 | Avg Precision: 70.78% | Patience: 2\n"
     ]
    },
    {
     "name": "stderr",
     "output_type": "stream",
     "text": [
      "Train: 100%|\u001B[32m████████████████████████\u001B[0m| 589/589 [00:48<00:00, 12.10batch/s, Loss: 0.3702 | Precision: 70.60%]\u001B[0m\n"
     ]
    },
    {
     "name": "stdout",
     "output_type": "stream",
     "text": [
      "Epoch 46 | Avg Loss: 0.5586 | Avg Precision: 70.39%\n"
     ]
    },
    {
     "name": "stderr",
     "output_type": "stream",
     "text": [
      "Train: 100%|\u001B[32m████████████████████████\u001B[0m| 589/589 [00:49<00:00, 11.96batch/s, Loss: 0.3702 | Precision: 70.59%]\u001B[0m\n"
     ]
    },
    {
     "name": "stdout",
     "output_type": "stream",
     "text": [
      "Epoch 47 | Avg Loss: 0.5580 | Avg Precision: 70.40%\n"
     ]
    },
    {
     "name": "stderr",
     "output_type": "stream",
     "text": [
      "Train: 100%|\u001B[32m████████████████████████\u001B[0m| 589/589 [00:48<00:00, 12.08batch/s, Loss: 0.3722 | Precision: 70.65%]\u001B[0m\n"
     ]
    },
    {
     "name": "stdout",
     "output_type": "stream",
     "text": [
      "Epoch 48 | Avg Loss: 0.5587 | Avg Precision: 70.48%\n"
     ]
    },
    {
     "name": "stderr",
     "output_type": "stream",
     "text": [
      "Validate: 100%|\u001B[34m█████████████████████\u001B[0m| 148/148 [00:11<00:00, 12.55batch/s, Loss: 0.1809 | Precision: 70.74%]\u001B[0m\n"
     ]
    },
    {
     "name": "stdout",
     "output_type": "stream",
     "text": [
      "Epoch 48 | Avg Loss: 0.5537 | Avg Precision: 70.82% | Patience: 0\n"
     ]
    },
    {
     "name": "stderr",
     "output_type": "stream",
     "text": [
      "Train: 100%|\u001B[32m████████████████████████\u001B[0m| 589/589 [00:49<00:00, 11.95batch/s, Loss: 0.3701 | Precision: 70.65%]\u001B[0m\n"
     ]
    },
    {
     "name": "stdout",
     "output_type": "stream",
     "text": [
      "Epoch 49 | Avg Loss: 0.5577 | Avg Precision: 70.47%\n"
     ]
    },
    {
     "name": "stderr",
     "output_type": "stream",
     "text": [
      "Train: 100%|\u001B[32m████████████████████████\u001B[0m| 589/589 [00:50<00:00, 11.66batch/s, Loss: 0.3668 | Precision: 70.66%]\u001B[0m\n"
     ]
    },
    {
     "name": "stdout",
     "output_type": "stream",
     "text": [
      "Epoch 50 | Avg Loss: 0.5581 | Avg Precision: 70.50%\n"
     ]
    },
    {
     "name": "stderr",
     "output_type": "stream",
     "text": [
      "Train: 100%|\u001B[32m████████████████████████\u001B[0m| 589/589 [00:49<00:00, 11.99batch/s, Loss: 0.3718 | Precision: 70.67%]\u001B[0m\n"
     ]
    },
    {
     "name": "stdout",
     "output_type": "stream",
     "text": [
      "Epoch 51 | Avg Loss: 0.5579 | Avg Precision: 70.49%\n"
     ]
    },
    {
     "name": "stderr",
     "output_type": "stream",
     "text": [
      "Validate: 100%|\u001B[34m█████████████████████\u001B[0m| 148/148 [00:11<00:00, 12.47batch/s, Loss: 0.1781 | Precision: 70.80%]\u001B[0m\n"
     ]
    },
    {
     "name": "stdout",
     "output_type": "stream",
     "text": [
      "Epoch 51 | Avg Loss: 0.5544 | Avg Precision: 70.91% | Patience: 0\n"
     ]
    },
    {
     "name": "stderr",
     "output_type": "stream",
     "text": [
      "Train: 100%|\u001B[32m████████████████████████\u001B[0m| 589/589 [00:49<00:00, 12.00batch/s, Loss: 0.3693 | Precision: 70.69%]\u001B[0m\n"
     ]
    },
    {
     "name": "stdout",
     "output_type": "stream",
     "text": [
      "Epoch 52 | Avg Loss: 0.5576 | Avg Precision: 70.50%\n"
     ]
    },
    {
     "name": "stderr",
     "output_type": "stream",
     "text": [
      "Train: 100%|\u001B[32m████████████████████████\u001B[0m| 589/589 [00:49<00:00, 11.92batch/s, Loss: 0.3708 | Precision: 70.66%]\u001B[0m\n"
     ]
    },
    {
     "name": "stdout",
     "output_type": "stream",
     "text": [
      "Epoch 53 | Avg Loss: 0.5575 | Avg Precision: 70.49%\n"
     ]
    },
    {
     "name": "stderr",
     "output_type": "stream",
     "text": [
      "Train: 100%|\u001B[32m████████████████████████\u001B[0m| 589/589 [00:48<00:00, 12.02batch/s, Loss: 0.3671 | Precision: 70.71%]\u001B[0m\n"
     ]
    },
    {
     "name": "stdout",
     "output_type": "stream",
     "text": [
      "Epoch 54 | Avg Loss: 0.5565 | Avg Precision: 70.53%\n"
     ]
    },
    {
     "name": "stderr",
     "output_type": "stream",
     "text": [
      "Validate: 100%|\u001B[34m█████████████████████\u001B[0m| 148/148 [00:11<00:00, 12.57batch/s, Loss: 0.1788 | Precision: 70.74%]\u001B[0m\n"
     ]
    },
    {
     "name": "stdout",
     "output_type": "stream",
     "text": [
      "Epoch 54 | Avg Loss: 0.5523 | Avg Precision: 70.84% | Patience: 1\n"
     ]
    },
    {
     "name": "stderr",
     "output_type": "stream",
     "text": [
      "Train: 100%|\u001B[32m████████████████████████\u001B[0m| 589/589 [00:49<00:00, 11.97batch/s, Loss: 0.3774 | Precision: 70.69%]\u001B[0m\n"
     ]
    },
    {
     "name": "stdout",
     "output_type": "stream",
     "text": [
      "Epoch 55 | Avg Loss: 0.5577 | Avg Precision: 70.47%\n"
     ]
    },
    {
     "name": "stderr",
     "output_type": "stream",
     "text": [
      "Train: 100%|\u001B[32m████████████████████████\u001B[0m| 589/589 [00:49<00:00, 11.99batch/s, Loss: 0.3703 | Precision: 70.70%]\u001B[0m\n"
     ]
    },
    {
     "name": "stdout",
     "output_type": "stream",
     "text": [
      "Epoch 56 | Avg Loss: 0.5565 | Avg Precision: 70.53%\n"
     ]
    },
    {
     "name": "stderr",
     "output_type": "stream",
     "text": [
      "Train: 100%|\u001B[32m████████████████████████\u001B[0m| 589/589 [00:49<00:00, 11.93batch/s, Loss: 0.3694 | Precision: 70.70%]\u001B[0m\n"
     ]
    },
    {
     "name": "stdout",
     "output_type": "stream",
     "text": [
      "Epoch 57 | Avg Loss: 0.5567 | Avg Precision: 70.53%\n"
     ]
    },
    {
     "name": "stderr",
     "output_type": "stream",
     "text": [
      "Validate: 100%|\u001B[34m█████████████████████\u001B[0m| 148/148 [00:11<00:00, 12.48batch/s, Loss: 0.1847 | Precision: 70.82%]\u001B[0m\n"
     ]
    },
    {
     "name": "stdout",
     "output_type": "stream",
     "text": [
      "Epoch 57 | Avg Loss: 0.5525 | Avg Precision: 70.92% | Patience: 0\n"
     ]
    },
    {
     "name": "stderr",
     "output_type": "stream",
     "text": [
      "Train: 100%|\u001B[32m████████████████████████\u001B[0m| 589/589 [00:48<00:00, 12.03batch/s, Loss: 0.3708 | Precision: 70.73%]\u001B[0m\n"
     ]
    },
    {
     "name": "stdout",
     "output_type": "stream",
     "text": [
      "Epoch 58 | Avg Loss: 0.5562 | Avg Precision: 70.57%\n"
     ]
    },
    {
     "name": "stderr",
     "output_type": "stream",
     "text": [
      "Train: 100%|\u001B[32m████████████████████████\u001B[0m| 589/589 [00:49<00:00, 11.97batch/s, Loss: 0.3723 | Precision: 70.76%]\u001B[0m\n"
     ]
    },
    {
     "name": "stdout",
     "output_type": "stream",
     "text": [
      "Epoch 59 | Avg Loss: 0.5549 | Avg Precision: 70.57%\n"
     ]
    },
    {
     "name": "stderr",
     "output_type": "stream",
     "text": [
      "Train: 100%|\u001B[32m████████████████████████\u001B[0m| 589/589 [00:49<00:00, 12.00batch/s, Loss: 0.3716 | Precision: 70.75%]\u001B[0m\n"
     ]
    },
    {
     "name": "stdout",
     "output_type": "stream",
     "text": [
      "Epoch 60 | Avg Loss: 0.5552 | Avg Precision: 70.61%\n"
     ]
    },
    {
     "name": "stderr",
     "output_type": "stream",
     "text": [
      "Validate: 100%|\u001B[34m█████████████████████\u001B[0m| 148/148 [00:11<00:00, 12.56batch/s, Loss: 0.1839 | Precision: 70.94%]\u001B[0m\n"
     ]
    },
    {
     "name": "stdout",
     "output_type": "stream",
     "text": [
      "Epoch 60 | Avg Loss: 0.5514 | Avg Precision: 71.04% | Patience: 0\n"
     ]
    },
    {
     "name": "stderr",
     "output_type": "stream",
     "text": [
      "Train: 100%|\u001B[32m████████████████████████\u001B[0m| 589/589 [00:49<00:00, 11.98batch/s, Loss: 0.3697 | Precision: 70.80%]\u001B[0m\n"
     ]
    },
    {
     "name": "stdout",
     "output_type": "stream",
     "text": [
      "Epoch 61 | Avg Loss: 0.5554 | Avg Precision: 70.63%\n"
     ]
    },
    {
     "name": "stderr",
     "output_type": "stream",
     "text": [
      "Train: 100%|\u001B[32m████████████████████████\u001B[0m| 589/589 [00:49<00:00, 11.93batch/s, Loss: 0.3770 | Precision: 70.82%]\u001B[0m\n"
     ]
    },
    {
     "name": "stdout",
     "output_type": "stream",
     "text": [
      "Epoch 62 | Avg Loss: 0.5549 | Avg Precision: 70.63%\n"
     ]
    },
    {
     "name": "stderr",
     "output_type": "stream",
     "text": [
      "Train: 100%|\u001B[32m████████████████████████\u001B[0m| 589/589 [00:49<00:00, 12.00batch/s, Loss: 0.3726 | Precision: 70.86%]\u001B[0m\n"
     ]
    },
    {
     "name": "stdout",
     "output_type": "stream",
     "text": [
      "Epoch 63 | Avg Loss: 0.5544 | Avg Precision: 70.72%\n"
     ]
    },
    {
     "name": "stderr",
     "output_type": "stream",
     "text": [
      "Validate: 100%|\u001B[34m█████████████████████\u001B[0m| 148/148 [00:11<00:00, 12.47batch/s, Loss: 0.1782 | Precision: 70.91%]\u001B[0m\n"
     ]
    },
    {
     "name": "stdout",
     "output_type": "stream",
     "text": [
      "Epoch 63 | Avg Loss: 0.5553 | Avg Precision: 70.99% | Patience: 1\n"
     ]
    },
    {
     "name": "stderr",
     "output_type": "stream",
     "text": [
      "Train: 100%|\u001B[32m████████████████████████\u001B[0m| 589/589 [00:49<00:00, 11.93batch/s, Loss: 0.3704 | Precision: 70.83%]\u001B[0m\n"
     ]
    },
    {
     "name": "stdout",
     "output_type": "stream",
     "text": [
      "Epoch 64 | Avg Loss: 0.5554 | Avg Precision: 70.62%\n"
     ]
    },
    {
     "name": "stderr",
     "output_type": "stream",
     "text": [
      "Train: 100%|\u001B[32m████████████████████████\u001B[0m| 589/589 [00:49<00:00, 11.90batch/s, Loss: 0.3712 | Precision: 70.83%]\u001B[0m\n"
     ]
    },
    {
     "name": "stdout",
     "output_type": "stream",
     "text": [
      "Epoch 65 | Avg Loss: 0.5546 | Avg Precision: 70.64%\n"
     ]
    },
    {
     "name": "stderr",
     "output_type": "stream",
     "text": [
      "Train: 100%|\u001B[32m████████████████████████\u001B[0m| 589/589 [00:49<00:00, 11.81batch/s, Loss: 0.3658 | Precision: 70.92%]\u001B[0m\n"
     ]
    },
    {
     "name": "stdout",
     "output_type": "stream",
     "text": [
      "Epoch 66 | Avg Loss: 0.5536 | Avg Precision: 70.76%\n"
     ]
    },
    {
     "name": "stderr",
     "output_type": "stream",
     "text": [
      "Validate: 100%|\u001B[34m█████████████████████\u001B[0m| 148/148 [00:11<00:00, 12.46batch/s, Loss: 0.1697 | Precision: 70.82%]\u001B[0m\n"
     ]
    },
    {
     "name": "stdout",
     "output_type": "stream",
     "text": [
      "Epoch 66 | Avg Loss: 0.5508 | Avg Precision: 70.87% | Patience: 2\n"
     ]
    },
    {
     "name": "stderr",
     "output_type": "stream",
     "text": [
      "Train: 100%|\u001B[32m████████████████████████\u001B[0m| 589/589 [00:49<00:00, 11.80batch/s, Loss: 0.3724 | Precision: 70.85%]\u001B[0m\n"
     ]
    },
    {
     "name": "stdout",
     "output_type": "stream",
     "text": [
      "Epoch 67 | Avg Loss: 0.5542 | Avg Precision: 70.69%\n"
     ]
    },
    {
     "name": "stderr",
     "output_type": "stream",
     "text": [
      "Train: 100%|\u001B[32m████████████████████████\u001B[0m| 589/589 [00:50<00:00, 11.77batch/s, Loss: 0.3758 | Precision: 70.86%]\u001B[0m\n"
     ]
    },
    {
     "name": "stdout",
     "output_type": "stream",
     "text": [
      "Epoch 68 | Avg Loss: 0.5541 | Avg Precision: 70.69%\n"
     ]
    },
    {
     "name": "stderr",
     "output_type": "stream",
     "text": [
      "Train: 100%|\u001B[32m████████████████████████\u001B[0m| 589/589 [00:49<00:00, 11.83batch/s, Loss: 0.3755 | Precision: 70.92%]\u001B[0m\n"
     ]
    },
    {
     "name": "stdout",
     "output_type": "stream",
     "text": [
      "Epoch 69 | Avg Loss: 0.5542 | Avg Precision: 70.77%\n"
     ]
    },
    {
     "name": "stderr",
     "output_type": "stream",
     "text": [
      "Validate: 100%|\u001B[34m█████████████████████\u001B[0m| 148/148 [00:11<00:00, 12.42batch/s, Loss: 0.1658 | Precision: 71.03%]\u001B[0m\n"
     ]
    },
    {
     "name": "stdout",
     "output_type": "stream",
     "text": [
      "Epoch 69 | Avg Loss: 0.5516 | Avg Precision: 71.06% | Patience: 0\n"
     ]
    },
    {
     "name": "stderr",
     "output_type": "stream",
     "text": [
      "Train: 100%|\u001B[32m████████████████████████\u001B[0m| 589/589 [00:49<00:00, 11.89batch/s, Loss: 0.3713 | Precision: 70.91%]\u001B[0m\n"
     ]
    },
    {
     "name": "stdout",
     "output_type": "stream",
     "text": [
      "Epoch 70 | Avg Loss: 0.5537 | Avg Precision: 70.74%\n"
     ]
    },
    {
     "name": "stderr",
     "output_type": "stream",
     "text": [
      "Train: 100%|\u001B[32m████████████████████████\u001B[0m| 589/589 [00:49<00:00, 11.78batch/s, Loss: 0.3705 | Precision: 70.89%]\u001B[0m\n"
     ]
    },
    {
     "name": "stdout",
     "output_type": "stream",
     "text": [
      "Epoch 71 | Avg Loss: 0.5538 | Avg Precision: 70.74%\n"
     ]
    },
    {
     "name": "stderr",
     "output_type": "stream",
     "text": [
      "Train: 100%|\u001B[32m████████████████████████\u001B[0m| 589/589 [00:49<00:00, 11.84batch/s, Loss: 0.3703 | Precision: 70.90%]\u001B[0m\n"
     ]
    },
    {
     "name": "stdout",
     "output_type": "stream",
     "text": [
      "Epoch 72 | Avg Loss: 0.5536 | Avg Precision: 70.74%\n"
     ]
    },
    {
     "name": "stderr",
     "output_type": "stream",
     "text": [
      "Validate: 100%|\u001B[34m█████████████████████\u001B[0m| 148/148 [00:11<00:00, 12.41batch/s, Loss: 0.1718 | Precision: 70.58%]\u001B[0m\n"
     ]
    },
    {
     "name": "stdout",
     "output_type": "stream",
     "text": [
      "Epoch 72 | Avg Loss: 0.5567 | Avg Precision: 70.69% | Patience: 1\n"
     ]
    },
    {
     "name": "stderr",
     "output_type": "stream",
     "text": [
      "Train: 100%|\u001B[32m████████████████████████\u001B[0m| 589/589 [00:49<00:00, 11.89batch/s, Loss: 0.3709 | Precision: 70.94%]\u001B[0m\n"
     ]
    },
    {
     "name": "stdout",
     "output_type": "stream",
     "text": [
      "Epoch 73 | Avg Loss: 0.5541 | Avg Precision: 70.72%\n"
     ]
    },
    {
     "name": "stderr",
     "output_type": "stream",
     "text": [
      "Train: 100%|\u001B[32m████████████████████████\u001B[0m| 589/589 [00:49<00:00, 11.94batch/s, Loss: 0.3726 | Precision: 70.94%]\u001B[0m\n"
     ]
    },
    {
     "name": "stdout",
     "output_type": "stream",
     "text": [
      "Epoch 74 | Avg Loss: 0.5536 | Avg Precision: 70.74%\n"
     ]
    },
    {
     "name": "stderr",
     "output_type": "stream",
     "text": [
      "Train: 100%|\u001B[32m████████████████████████\u001B[0m| 589/589 [00:49<00:00, 11.93batch/s, Loss: 0.3687 | Precision: 70.98%]\u001B[0m\n"
     ]
    },
    {
     "name": "stdout",
     "output_type": "stream",
     "text": [
      "Epoch 75 | Avg Loss: 0.5537 | Avg Precision: 70.84%\n"
     ]
    },
    {
     "name": "stderr",
     "output_type": "stream",
     "text": [
      "Validate: 100%|\u001B[34m█████████████████████\u001B[0m| 148/148 [00:11<00:00, 12.53batch/s, Loss: 0.1803 | Precision: 71.08%]\u001B[0m\n"
     ]
    },
    {
     "name": "stdout",
     "output_type": "stream",
     "text": [
      "Epoch 75 | Avg Loss: 0.5489 | Avg Precision: 71.16% | Patience: 0\n"
     ]
    },
    {
     "name": "stderr",
     "output_type": "stream",
     "text": [
      "Train: 100%|\u001B[32m████████████████████████\u001B[0m| 589/589 [00:49<00:00, 11.86batch/s, Loss: 0.3711 | Precision: 70.93%]\u001B[0m\n"
     ]
    },
    {
     "name": "stdout",
     "output_type": "stream",
     "text": [
      "Epoch 76 | Avg Loss: 0.5530 | Avg Precision: 70.77%\n"
     ]
    },
    {
     "name": "stderr",
     "output_type": "stream",
     "text": [
      "Train: 100%|\u001B[32m████████████████████████\u001B[0m| 589/589 [00:49<00:00, 11.87batch/s, Loss: 0.3693 | Precision: 70.94%]\u001B[0m\n"
     ]
    },
    {
     "name": "stdout",
     "output_type": "stream",
     "text": [
      "Epoch 77 | Avg Loss: 0.5538 | Avg Precision: 70.82%\n"
     ]
    },
    {
     "name": "stderr",
     "output_type": "stream",
     "text": [
      "Train: 100%|\u001B[32m████████████████████████\u001B[0m| 589/589 [00:49<00:00, 11.95batch/s, Loss: 0.3723 | Precision: 70.98%]\u001B[0m\n"
     ]
    },
    {
     "name": "stdout",
     "output_type": "stream",
     "text": [
      "Epoch 78 | Avg Loss: 0.5526 | Avg Precision: 70.80%\n"
     ]
    },
    {
     "name": "stderr",
     "output_type": "stream",
     "text": [
      "Validate: 100%|\u001B[34m█████████████████████\u001B[0m| 148/148 [00:11<00:00, 12.56batch/s, Loss: 0.1652 | Precision: 71.13%]\u001B[0m\n"
     ]
    },
    {
     "name": "stdout",
     "output_type": "stream",
     "text": [
      "Epoch 78 | Avg Loss: 0.5524 | Avg Precision: 71.18% | Patience: 0\n"
     ]
    },
    {
     "name": "stderr",
     "output_type": "stream",
     "text": [
      "Train: 100%|\u001B[32m████████████████████████\u001B[0m| 589/589 [00:50<00:00, 11.72batch/s, Loss: 0.3699 | Precision: 70.94%]\u001B[0m\n"
     ]
    },
    {
     "name": "stdout",
     "output_type": "stream",
     "text": [
      "Epoch 79 | Avg Loss: 0.5545 | Avg Precision: 70.82%\n"
     ]
    },
    {
     "name": "stderr",
     "output_type": "stream",
     "text": [
      "Train: 100%|\u001B[32m████████████████████████\u001B[0m| 589/589 [00:50<00:00, 11.66batch/s, Loss: 0.3684 | Precision: 71.01%]\u001B[0m\n"
     ]
    },
    {
     "name": "stdout",
     "output_type": "stream",
     "text": [
      "Epoch 80 | Avg Loss: 0.5527 | Avg Precision: 70.87%\n"
     ]
    },
    {
     "name": "stderr",
     "output_type": "stream",
     "text": [
      "Train: 100%|\u001B[32m████████████████████████\u001B[0m| 589/589 [00:49<00:00, 11.84batch/s, Loss: 0.3697 | Precision: 71.01%]\u001B[0m\n"
     ]
    },
    {
     "name": "stdout",
     "output_type": "stream",
     "text": [
      "Epoch 81 | Avg Loss: 0.5527 | Avg Precision: 70.87%\n"
     ]
    },
    {
     "name": "stderr",
     "output_type": "stream",
     "text": [
      "Validate: 100%|\u001B[34m█████████████████████\u001B[0m| 148/148 [00:11<00:00, 12.37batch/s, Loss: 0.1757 | Precision: 71.12%]\u001B[0m\n"
     ]
    },
    {
     "name": "stdout",
     "output_type": "stream",
     "text": [
      "Epoch 81 | Avg Loss: 0.5518 | Avg Precision: 71.17% | Patience: 1\n"
     ]
    },
    {
     "name": "stderr",
     "output_type": "stream",
     "text": [
      "Train: 100%|\u001B[32m████████████████████████\u001B[0m| 589/589 [00:49<00:00, 11.87batch/s, Loss: 0.3680 | Precision: 71.00%]\u001B[0m\n"
     ]
    },
    {
     "name": "stdout",
     "output_type": "stream",
     "text": [
      "Epoch 82 | Avg Loss: 0.5525 | Avg Precision: 70.87%\n"
     ]
    },
    {
     "name": "stderr",
     "output_type": "stream",
     "text": [
      "Train: 100%|\u001B[32m████████████████████████\u001B[0m| 589/589 [00:50<00:00, 11.74batch/s, Loss: 0.3665 | Precision: 71.01%]\u001B[0m\n"
     ]
    },
    {
     "name": "stdout",
     "output_type": "stream",
     "text": [
      "Epoch 83 | Avg Loss: 0.5524 | Avg Precision: 70.86%\n"
     ]
    },
    {
     "name": "stderr",
     "output_type": "stream",
     "text": [
      "Train: 100%|\u001B[32m████████████████████████\u001B[0m| 589/589 [00:50<00:00, 11.74batch/s, Loss: 0.3674 | Precision: 70.98%]\u001B[0m\n"
     ]
    },
    {
     "name": "stdout",
     "output_type": "stream",
     "text": [
      "Epoch 84 | Avg Loss: 0.5537 | Avg Precision: 70.76%\n"
     ]
    },
    {
     "name": "stderr",
     "output_type": "stream",
     "text": [
      "Validate: 100%|\u001B[34m█████████████████████\u001B[0m| 148/148 [00:11<00:00, 12.44batch/s, Loss: 0.1801 | Precision: 71.10%]\u001B[0m\n"
     ]
    },
    {
     "name": "stdout",
     "output_type": "stream",
     "text": [
      "Epoch 84 | Avg Loss: 0.5483 | Avg Precision: 71.20% | Patience: 0\n"
     ]
    },
    {
     "name": "stderr",
     "output_type": "stream",
     "text": [
      "Train: 100%|\u001B[32m████████████████████████\u001B[0m| 589/589 [00:49<00:00, 11.80batch/s, Loss: 0.3685 | Precision: 71.04%]\u001B[0m\n"
     ]
    },
    {
     "name": "stdout",
     "output_type": "stream",
     "text": [
      "Epoch 85 | Avg Loss: 0.5520 | Avg Precision: 70.90%\n"
     ]
    },
    {
     "name": "stderr",
     "output_type": "stream",
     "text": [
      "Train: 100%|\u001B[32m████████████████████████\u001B[0m| 589/589 [00:49<00:00, 11.91batch/s, Loss: 0.3720 | Precision: 71.03%]\u001B[0m\n"
     ]
    },
    {
     "name": "stdout",
     "output_type": "stream",
     "text": [
      "Epoch 86 | Avg Loss: 0.5533 | Avg Precision: 70.85%\n"
     ]
    },
    {
     "name": "stderr",
     "output_type": "stream",
     "text": [
      "Train: 100%|\u001B[32m████████████████████████\u001B[0m| 589/589 [00:51<00:00, 11.50batch/s, Loss: 0.3695 | Precision: 71.03%]\u001B[0m\n"
     ]
    },
    {
     "name": "stdout",
     "output_type": "stream",
     "text": [
      "Epoch 87 | Avg Loss: 0.5530 | Avg Precision: 70.86%\n"
     ]
    },
    {
     "name": "stderr",
     "output_type": "stream",
     "text": [
      "Validate: 100%|\u001B[34m█████████████████████\u001B[0m| 148/148 [00:11<00:00, 12.55batch/s, Loss: 0.1775 | Precision: 71.13%]\u001B[0m\n"
     ]
    },
    {
     "name": "stdout",
     "output_type": "stream",
     "text": [
      "Epoch 87 | Avg Loss: 0.5489 | Avg Precision: 71.21% | Patience: 0\n"
     ]
    },
    {
     "name": "stderr",
     "output_type": "stream",
     "text": [
      "Train: 100%|\u001B[32m████████████████████████\u001B[0m| 589/589 [00:48<00:00, 12.23batch/s, Loss: 0.3754 | Precision: 71.05%]\u001B[0m\n"
     ]
    },
    {
     "name": "stdout",
     "output_type": "stream",
     "text": [
      "Epoch 88 | Avg Loss: 0.5528 | Avg Precision: 70.88%\n"
     ]
    },
    {
     "name": "stderr",
     "output_type": "stream",
     "text": [
      "Train: 100%|\u001B[32m████████████████████████\u001B[0m| 589/589 [00:47<00:00, 12.34batch/s, Loss: 0.3647 | Precision: 71.00%]\u001B[0m\n"
     ]
    },
    {
     "name": "stdout",
     "output_type": "stream",
     "text": [
      "Epoch 89 | Avg Loss: 0.5467 | Avg Precision: 70.83%\n"
     ]
    },
    {
     "name": "stderr",
     "output_type": "stream",
     "text": [
      "Train: 100%|\u001B[32m████████████████████████\u001B[0m| 589/589 [00:47<00:00, 12.28batch/s, Loss: 0.3930 | Precision: 70.97%]\u001B[0m\n"
     ]
    },
    {
     "name": "stdout",
     "output_type": "stream",
     "text": [
      "Epoch 90 | Avg Loss: 0.5433 | Avg Precision: 70.83%\n"
     ]
    },
    {
     "name": "stderr",
     "output_type": "stream",
     "text": [
      "Validate: 100%|\u001B[34m█████████████████████\u001B[0m| 148/148 [00:11<00:00, 12.56batch/s, Loss: 0.1918 | Precision: 71.26%]\u001B[0m\n"
     ]
    },
    {
     "name": "stdout",
     "output_type": "stream",
     "text": [
      "Epoch 90 | Avg Loss: 0.5438 | Avg Precision: 71.32% | Patience: 0\n"
     ]
    },
    {
     "name": "stderr",
     "output_type": "stream",
     "text": [
      "Train: 100%|\u001B[32m████████████████████████\u001B[0m| 589/589 [00:48<00:00, 12.25batch/s, Loss: 0.3834 | Precision: 71.09%]\u001B[0m\n"
     ]
    },
    {
     "name": "stdout",
     "output_type": "stream",
     "text": [
      "Epoch 91 | Avg Loss: 0.5406 | Avg Precision: 70.97%\n"
     ]
    },
    {
     "name": "stderr",
     "output_type": "stream",
     "text": [
      "Train: 100%|\u001B[32m████████████████████████\u001B[0m| 589/589 [00:48<00:00, 12.27batch/s, Loss: 0.3946 | Precision: 71.07%]\u001B[0m\n"
     ]
    },
    {
     "name": "stdout",
     "output_type": "stream",
     "text": [
      "Epoch 92 | Avg Loss: 0.5404 | Avg Precision: 70.87%\n"
     ]
    },
    {
     "name": "stderr",
     "output_type": "stream",
     "text": [
      "Train: 100%|\u001B[32m████████████████████████\u001B[0m| 589/589 [00:47<00:00, 12.30batch/s, Loss: 0.3929 | Precision: 71.08%]\u001B[0m\n"
     ]
    },
    {
     "name": "stdout",
     "output_type": "stream",
     "text": [
      "Epoch 93 | Avg Loss: 0.5398 | Avg Precision: 70.93%\n"
     ]
    },
    {
     "name": "stderr",
     "output_type": "stream",
     "text": [
      "Validate: 100%|\u001B[34m█████████████████████\u001B[0m| 148/148 [00:11<00:00, 12.47batch/s, Loss: 0.1971 | Precision: 71.18%]\u001B[0m\n"
     ]
    },
    {
     "name": "stdout",
     "output_type": "stream",
     "text": [
      "Epoch 93 | Avg Loss: 0.5395 | Avg Precision: 71.23% | Patience: 1\n"
     ]
    },
    {
     "name": "stderr",
     "output_type": "stream",
     "text": [
      "Train: 100%|\u001B[32m████████████████████████\u001B[0m| 589/589 [00:47<00:00, 12.30batch/s, Loss: 0.3934 | Precision: 71.08%]\u001B[0m\n"
     ]
    },
    {
     "name": "stdout",
     "output_type": "stream",
     "text": [
      "Epoch 94 | Avg Loss: 0.5403 | Avg Precision: 70.90%\n"
     ]
    },
    {
     "name": "stderr",
     "output_type": "stream",
     "text": [
      "Train: 100%|\u001B[32m████████████████████████\u001B[0m| 589/589 [00:47<00:00, 12.29batch/s, Loss: 0.4040 | Precision: 71.13%]\u001B[0m\n"
     ]
    },
    {
     "name": "stdout",
     "output_type": "stream",
     "text": [
      "Epoch 95 | Avg Loss: 0.5389 | Avg Precision: 70.98%\n"
     ]
    },
    {
     "name": "stderr",
     "output_type": "stream",
     "text": [
      "Train: 100%|\u001B[32m████████████████████████\u001B[0m| 589/589 [00:47<00:00, 12.33batch/s, Loss: 0.3977 | Precision: 71.09%]\u001B[0m\n"
     ]
    },
    {
     "name": "stdout",
     "output_type": "stream",
     "text": [
      "Epoch 96 | Avg Loss: 0.5384 | Avg Precision: 70.93%\n"
     ]
    },
    {
     "name": "stderr",
     "output_type": "stream",
     "text": [
      "Validate: 100%|\u001B[34m█████████████████████\u001B[0m| 148/148 [00:11<00:00, 12.48batch/s, Loss: 0.1985 | Precision: 71.25%]\u001B[0m\n"
     ]
    },
    {
     "name": "stdout",
     "output_type": "stream",
     "text": [
      "Epoch 96 | Avg Loss: 0.5365 | Avg Precision: 71.31% | Patience: 2\n"
     ]
    },
    {
     "name": "stderr",
     "output_type": "stream",
     "text": [
      "Train: 100%|\u001B[32m████████████████████████\u001B[0m| 589/589 [00:47<00:00, 12.27batch/s, Loss: 0.3976 | Precision: 71.04%]\u001B[0m\n"
     ]
    },
    {
     "name": "stdout",
     "output_type": "stream",
     "text": [
      "Epoch 97 | Avg Loss: 0.5382 | Avg Precision: 70.88%\n"
     ]
    },
    {
     "name": "stderr",
     "output_type": "stream",
     "text": [
      "Train: 100%|\u001B[32m████████████████████████\u001B[0m| 589/589 [00:47<00:00, 12.31batch/s, Loss: 0.3902 | Precision: 71.11%]\u001B[0m\n"
     ]
    },
    {
     "name": "stdout",
     "output_type": "stream",
     "text": [
      "Epoch 98 | Avg Loss: 0.5388 | Avg Precision: 70.87%\n"
     ]
    },
    {
     "name": "stderr",
     "output_type": "stream",
     "text": [
      "Train: 100%|\u001B[32m████████████████████████\u001B[0m| 589/589 [00:48<00:00, 12.22batch/s, Loss: 0.3957 | Precision: 71.12%]\u001B[0m\n"
     ]
    },
    {
     "name": "stdout",
     "output_type": "stream",
     "text": [
      "Epoch 99 | Avg Loss: 0.5370 | Avg Precision: 70.98%\n"
     ]
    },
    {
     "name": "stderr",
     "output_type": "stream",
     "text": [
      "Validate: 100%|\u001B[34m█████████████████████\u001B[0m| 148/148 [00:11<00:00, 12.56batch/s, Loss: 0.1739 | Precision: 71.18%]\u001B[0m\n"
     ]
    },
    {
     "name": "stdout",
     "output_type": "stream",
     "text": [
      "Epoch 99 | Avg Loss: 0.5320 | Avg Precision: 71.25% | Patience: 3\n"
     ]
    },
    {
     "name": "stderr",
     "output_type": "stream",
     "text": [
      "Train: 100%|\u001B[32m████████████████████████\u001B[0m| 589/589 [00:47<00:00, 12.27batch/s, Loss: 0.3976 | Precision: 71.07%]\u001B[0m"
     ]
    },
    {
     "name": "stdout",
     "output_type": "stream",
     "text": [
      "Epoch 100 | Avg Loss: 0.5362 | Avg Precision: 70.93%\n",
      "Training Complete\n"
     ]
    },
    {
     "name": "stderr",
     "output_type": "stream",
     "text": [
      "\n"
     ]
    }
   ],
   "source": [
    "model = Rnn(9, 150, 1, 4)\n",
    "model = model.to(device)\n",
    "criterion = nn.CrossEntropyLoss()\n",
    "optimizer = optim.Adam(model.parameters(), lr=.03)\n",
    "scheduler = ReduceLROnPlateau(optimizer, 'min', patience=2)\n",
    "epochs = 100\n",
    "\n",
    "model3 = train_validate(model, criterion, optimizer, scheduler, epochs, train_loader, val_loader)\n",
    "torch.save(model3.state_dict(), '.\\\\models\\\\downsample\\\\rnn\\\\model3.pth')"
   ]
  },
  {
   "cell_type": "markdown",
   "id": "f6077e57-661e-4edf-95ce-9cf5510c7beb",
   "metadata": {},
   "source": [
    "### 11-1-23"
   ]
  },
  {
   "cell_type": "markdown",
   "id": "76c0f79d-940b-4536-902c-4682d3139e56",
   "metadata": {
    "jp-MarkdownHeadingCollapsed": true
   },
   "source": [
    "#### Model 4 - Batch 250 - Lookback 2"
   ]
  },
  {
   "cell_type": "code",
   "execution_count": 18,
   "id": "414e7ff4-c46e-4c7c-8623-f5ed2d1f53db",
   "metadata": {},
   "outputs": [
    {
     "name": "stderr",
     "output_type": "stream",
     "text": [
      "Train: 100%|\u001B[32m██████████████████████\u001B[0m| 1205/1205 [01:03<00:00, 18.87batch/s, Loss: 0.5095 | Precision: 67.83%]\u001B[0m\n"
     ]
    },
    {
     "name": "stdout",
     "output_type": "stream",
     "text": [
      "Epoch 1 | Avg Loss: 0.6283 | Avg Precision: 67.18%\n"
     ]
    },
    {
     "name": "stderr",
     "output_type": "stream",
     "text": [
      "Train: 100%|\u001B[32m██████████████████████\u001B[0m| 1205/1205 [01:04<00:00, 18.82batch/s, Loss: 0.4816 | Precision: 68.88%]\u001B[0m\n"
     ]
    },
    {
     "name": "stdout",
     "output_type": "stream",
     "text": [
      "Epoch 2 | Avg Loss: 0.6132 | Avg Precision: 68.72%\n"
     ]
    },
    {
     "name": "stderr",
     "output_type": "stream",
     "text": [
      "Train: 100%|\u001B[32m██████████████████████\u001B[0m| 1205/1205 [01:03<00:00, 19.02batch/s, Loss: 0.4754 | Precision: 69.16%]\u001B[0m\n"
     ]
    },
    {
     "name": "stdout",
     "output_type": "stream",
     "text": [
      "Epoch 3 | Avg Loss: 0.6078 | Avg Precision: 69.14%\n"
     ]
    },
    {
     "name": "stderr",
     "output_type": "stream",
     "text": [
      "Validate: 100%|\u001B[34m███████████████████████\u001B[0m| 74/74 [00:11<00:00,  6.56batch/s, Loss: 0.6215 | Precision: 69.77%]\u001B[0m\n"
     ]
    },
    {
     "name": "stdout",
     "output_type": "stream",
     "text": [
      "Epoch 3 | Avg Loss: 0.6002 | Avg Precision: 69.84% | Patience: 0\n"
     ]
    },
    {
     "name": "stderr",
     "output_type": "stream",
     "text": [
      "Train: 100%|\u001B[32m██████████████████████\u001B[0m| 1205/1205 [01:02<00:00, 19.26batch/s, Loss: 0.4650 | Precision: 69.21%]\u001B[0m\n"
     ]
    },
    {
     "name": "stdout",
     "output_type": "stream",
     "text": [
      "Epoch 4 | Avg Loss: 0.6068 | Avg Precision: 69.10%\n"
     ]
    },
    {
     "name": "stderr",
     "output_type": "stream",
     "text": [
      "Train: 100%|\u001B[32m██████████████████████\u001B[0m| 1205/1205 [01:03<00:00, 19.09batch/s, Loss: 0.4677 | Precision: 69.33%]\u001B[0m\n"
     ]
    },
    {
     "name": "stdout",
     "output_type": "stream",
     "text": [
      "Epoch 5 | Avg Loss: 0.6015 | Avg Precision: 69.13%\n"
     ]
    },
    {
     "name": "stderr",
     "output_type": "stream",
     "text": [
      "Train: 100%|\u001B[32m██████████████████████\u001B[0m| 1205/1205 [01:02<00:00, 19.18batch/s, Loss: 0.4577 | Precision: 69.36%]\u001B[0m\n"
     ]
    },
    {
     "name": "stdout",
     "output_type": "stream",
     "text": [
      "Epoch 6 | Avg Loss: 0.6006 | Avg Precision: 69.21%\n"
     ]
    },
    {
     "name": "stderr",
     "output_type": "stream",
     "text": [
      "Validate: 100%|\u001B[34m███████████████████████\u001B[0m| 74/74 [00:10<00:00,  6.74batch/s, Loss: 0.6270 | Precision: 69.51%]\u001B[0m\n"
     ]
    },
    {
     "name": "stdout",
     "output_type": "stream",
     "text": [
      "Epoch 6 | Avg Loss: 0.5959 | Avg Precision: 69.70% | Patience: 1\n"
     ]
    },
    {
     "name": "stderr",
     "output_type": "stream",
     "text": [
      "Train: 100%|\u001B[32m██████████████████████\u001B[0m| 1205/1205 [01:02<00:00, 19.20batch/s, Loss: 0.4901 | Precision: 69.23%]\u001B[0m\n"
     ]
    },
    {
     "name": "stdout",
     "output_type": "stream",
     "text": [
      "Epoch 7 | Avg Loss: 0.6056 | Avg Precision: 69.19%\n"
     ]
    },
    {
     "name": "stderr",
     "output_type": "stream",
     "text": [
      "Train: 100%|\u001B[32m██████████████████████\u001B[0m| 1205/1205 [01:02<00:00, 19.29batch/s, Loss: 0.4796 | Precision: 69.24%]\u001B[0m\n"
     ]
    },
    {
     "name": "stdout",
     "output_type": "stream",
     "text": [
      "Epoch 8 | Avg Loss: 0.6035 | Avg Precision: 69.07%\n"
     ]
    },
    {
     "name": "stderr",
     "output_type": "stream",
     "text": [
      "Train: 100%|\u001B[32m██████████████████████\u001B[0m| 1205/1205 [01:02<00:00, 19.14batch/s, Loss: 0.4697 | Precision: 69.38%]\u001B[0m\n"
     ]
    },
    {
     "name": "stdout",
     "output_type": "stream",
     "text": [
      "Epoch 9 | Avg Loss: 0.6000 | Avg Precision: 69.11%\n"
     ]
    },
    {
     "name": "stderr",
     "output_type": "stream",
     "text": [
      "Validate: 100%|\u001B[34m███████████████████████\u001B[0m| 74/74 [00:11<00:00,  6.68batch/s, Loss: 0.6395 | Precision: 69.88%]\u001B[0m\n"
     ]
    },
    {
     "name": "stdout",
     "output_type": "stream",
     "text": [
      "Epoch 9 | Avg Loss: 0.6071 | Avg Precision: 70.01% | Patience: 0\n"
     ]
    },
    {
     "name": "stderr",
     "output_type": "stream",
     "text": [
      "Train: 100%|\u001B[32m██████████████████████\u001B[0m| 1205/1205 [01:02<00:00, 19.18batch/s, Loss: 0.4606 | Precision: 69.43%]\u001B[0m\n"
     ]
    },
    {
     "name": "stdout",
     "output_type": "stream",
     "text": [
      "Epoch 10 | Avg Loss: 0.5973 | Avg Precision: 69.27%\n"
     ]
    },
    {
     "name": "stderr",
     "output_type": "stream",
     "text": [
      "Train: 100%|\u001B[32m██████████████████████\u001B[0m| 1205/1205 [01:03<00:00, 18.92batch/s, Loss: 0.4620 | Precision: 69.40%]\u001B[0m\n"
     ]
    },
    {
     "name": "stdout",
     "output_type": "stream",
     "text": [
      "Epoch 11 | Avg Loss: 0.5971 | Avg Precision: 69.20%\n"
     ]
    },
    {
     "name": "stderr",
     "output_type": "stream",
     "text": [
      "Train: 100%|\u001B[32m██████████████████████\u001B[0m| 1205/1205 [01:03<00:00, 19.09batch/s, Loss: 0.4735 | Precision: 69.52%]\u001B[0m\n"
     ]
    },
    {
     "name": "stdout",
     "output_type": "stream",
     "text": [
      "Epoch 12 | Avg Loss: 0.5919 | Avg Precision: 69.29%\n"
     ]
    },
    {
     "name": "stderr",
     "output_type": "stream",
     "text": [
      "Validate: 100%|\u001B[34m███████████████████████\u001B[0m| 74/74 [00:10<00:00,  6.74batch/s, Loss: 0.6322 | Precision: 69.66%]\u001B[0m\n"
     ]
    },
    {
     "name": "stdout",
     "output_type": "stream",
     "text": [
      "Epoch 12 | Avg Loss: 0.6124 | Avg Precision: 69.78% | Patience: 1\n"
     ]
    },
    {
     "name": "stderr",
     "output_type": "stream",
     "text": [
      "Train: 100%|\u001B[32m██████████████████████\u001B[0m| 1205/1205 [01:03<00:00, 18.90batch/s, Loss: 0.4836 | Precision: 69.48%]\u001B[0m\n"
     ]
    },
    {
     "name": "stdout",
     "output_type": "stream",
     "text": [
      "Epoch 13 | Avg Loss: 0.5946 | Avg Precision: 69.31%\n"
     ]
    },
    {
     "name": "stderr",
     "output_type": "stream",
     "text": [
      "Train: 100%|\u001B[32m██████████████████████\u001B[0m| 1205/1205 [01:03<00:00, 18.84batch/s, Loss: 0.4592 | Precision: 69.36%]\u001B[0m\n"
     ]
    },
    {
     "name": "stdout",
     "output_type": "stream",
     "text": [
      "Epoch 14 | Avg Loss: 0.5967 | Avg Precision: 69.17%\n"
     ]
    },
    {
     "name": "stderr",
     "output_type": "stream",
     "text": [
      "Train: 100%|\u001B[32m██████████████████████\u001B[0m| 1205/1205 [01:02<00:00, 19.23batch/s, Loss: 0.4710 | Precision: 69.47%]\u001B[0m\n"
     ]
    },
    {
     "name": "stdout",
     "output_type": "stream",
     "text": [
      "Epoch 15 | Avg Loss: 0.5951 | Avg Precision: 69.25%\n"
     ]
    },
    {
     "name": "stderr",
     "output_type": "stream",
     "text": [
      "Validate: 100%|\u001B[34m███████████████████████\u001B[0m| 74/74 [00:10<00:00,  6.73batch/s, Loss: 0.6319 | Precision: 68.42%]\u001B[0m\n"
     ]
    },
    {
     "name": "stdout",
     "output_type": "stream",
     "text": [
      "Epoch 15 | Avg Loss: 0.6088 | Avg Precision: 68.52% | Patience: 2\n"
     ]
    },
    {
     "name": "stderr",
     "output_type": "stream",
     "text": [
      "Train: 100%|\u001B[32m██████████████████████\u001B[0m| 1205/1205 [01:02<00:00, 19.25batch/s, Loss: 0.4532 | Precision: 69.67%]\u001B[0m\n"
     ]
    },
    {
     "name": "stdout",
     "output_type": "stream",
     "text": [
      "Epoch 16 | Avg Loss: 0.5791 | Avg Precision: 69.42%\n"
     ]
    },
    {
     "name": "stderr",
     "output_type": "stream",
     "text": [
      "Train: 100%|\u001B[32m██████████████████████\u001B[0m| 1205/1205 [01:03<00:00, 19.00batch/s, Loss: 0.4478 | Precision: 69.71%]\u001B[0m\n"
     ]
    },
    {
     "name": "stdout",
     "output_type": "stream",
     "text": [
      "Epoch 17 | Avg Loss: 0.5779 | Avg Precision: 69.50%\n"
     ]
    },
    {
     "name": "stderr",
     "output_type": "stream",
     "text": [
      "Train: 100%|\u001B[32m██████████████████████\u001B[0m| 1205/1205 [01:01<00:00, 19.44batch/s, Loss: 0.4475 | Precision: 69.74%]\u001B[0m\n"
     ]
    },
    {
     "name": "stdout",
     "output_type": "stream",
     "text": [
      "Epoch 18 | Avg Loss: 0.5781 | Avg Precision: 69.52%\n"
     ]
    },
    {
     "name": "stderr",
     "output_type": "stream",
     "text": [
      "Validate: 100%|\u001B[34m███████████████████████\u001B[0m| 74/74 [00:11<00:00,  6.72batch/s, Loss: 0.5940 | Precision: 69.82%]\u001B[0m\n"
     ]
    },
    {
     "name": "stdout",
     "output_type": "stream",
     "text": [
      "Epoch 18 | Avg Loss: 0.5765 | Avg Precision: 69.99% | Patience: 3\n"
     ]
    },
    {
     "name": "stderr",
     "output_type": "stream",
     "text": [
      "Train: 100%|\u001B[32m██████████████████████\u001B[0m| 1205/1205 [01:02<00:00, 19.34batch/s, Loss: 0.4441 | Precision: 69.73%]\u001B[0m\n"
     ]
    },
    {
     "name": "stdout",
     "output_type": "stream",
     "text": [
      "Epoch 19 | Avg Loss: 0.5778 | Avg Precision: 69.53%\n"
     ]
    },
    {
     "name": "stderr",
     "output_type": "stream",
     "text": [
      "Train: 100%|\u001B[32m██████████████████████\u001B[0m| 1205/1205 [01:02<00:00, 19.22batch/s, Loss: 0.4478 | Precision: 69.74%]\u001B[0m\n"
     ]
    },
    {
     "name": "stdout",
     "output_type": "stream",
     "text": [
      "Epoch 20 | Avg Loss: 0.5774 | Avg Precision: 69.54%\n"
     ]
    },
    {
     "name": "stderr",
     "output_type": "stream",
     "text": [
      "Train: 100%|\u001B[32m██████████████████████\u001B[0m| 1205/1205 [01:02<00:00, 19.39batch/s, Loss: 0.4485 | Precision: 69.74%]\u001B[0m\n"
     ]
    },
    {
     "name": "stdout",
     "output_type": "stream",
     "text": [
      "Epoch 21 | Avg Loss: 0.5774 | Avg Precision: 69.54%\n"
     ]
    },
    {
     "name": "stderr",
     "output_type": "stream",
     "text": [
      "Validate: 100%|\u001B[34m███████████████████████\u001B[0m| 74/74 [00:10<00:00,  6.84batch/s, Loss: 0.5958 | Precision: 69.74%]\u001B[0m\n"
     ]
    },
    {
     "name": "stdout",
     "output_type": "stream",
     "text": [
      "Epoch 21 | Avg Loss: 0.5787 | Avg Precision: 69.87% | Patience: 4\n"
     ]
    },
    {
     "name": "stderr",
     "output_type": "stream",
     "text": [
      "Train: 100%|\u001B[32m██████████████████████\u001B[0m| 1205/1205 [01:01<00:00, 19.44batch/s, Loss: 0.4462 | Precision: 69.76%]\u001B[0m\n"
     ]
    },
    {
     "name": "stdout",
     "output_type": "stream",
     "text": [
      "Epoch 22 | Avg Loss: 0.5773 | Avg Precision: 69.56%\n"
     ]
    },
    {
     "name": "stderr",
     "output_type": "stream",
     "text": [
      "Train: 100%|\u001B[32m██████████████████████\u001B[0m| 1205/1205 [01:02<00:00, 19.21batch/s, Loss: 0.4465 | Precision: 69.77%]\u001B[0m\n"
     ]
    },
    {
     "name": "stdout",
     "output_type": "stream",
     "text": [
      "Epoch 23 | Avg Loss: 0.5769 | Avg Precision: 69.57%\n"
     ]
    },
    {
     "name": "stderr",
     "output_type": "stream",
     "text": [
      "Train: 100%|\u001B[32m██████████████████████\u001B[0m| 1205/1205 [01:04<00:00, 18.77batch/s, Loss: 0.4449 | Precision: 69.77%]\u001B[0m\n"
     ]
    },
    {
     "name": "stdout",
     "output_type": "stream",
     "text": [
      "Epoch 24 | Avg Loss: 0.5770 | Avg Precision: 69.58%\n"
     ]
    },
    {
     "name": "stderr",
     "output_type": "stream",
     "text": [
      "Validate: 100%|\u001B[34m███████████████████████\u001B[0m| 74/74 [00:11<00:00,  6.60batch/s, Loss: 0.5902 | Precision: 69.79%]\u001B[0m"
     ]
    },
    {
     "name": "stdout",
     "output_type": "stream",
     "text": [
      "Early Stopping: Precision stagnated or decreased too many times. Best Validation: 70.01%\n",
      "Training Complete\n"
     ]
    },
    {
     "name": "stderr",
     "output_type": "stream",
     "text": [
      "\n"
     ]
    }
   ],
   "source": [
    "model = Rnn(9, 150, 1, 4)\n",
    "model = model.to(device)\n",
    "criterion = nn.CrossEntropyLoss()\n",
    "optimizer = optim.Adam(model.parameters(), lr=.03)\n",
    "scheduler = ReduceLROnPlateau(optimizer, 'min', patience=2)\n",
    "epochs = 100\n",
    "\n",
    "model4 = train_validate(model, criterion, optimizer, scheduler, epochs, train_loader, val_loader)\n",
    "torch.save(model4.state_dict(), '.\\\\models\\\\downsample\\\\rnn\\\\model4.pth')"
   ]
  },
  {
   "cell_type": "markdown",
   "id": "8dffc149-8aef-40b0-a11c-40ea08bd7296",
   "metadata": {},
   "source": [
    "### 11-14-23"
   ]
  },
  {
   "cell_type": "markdown",
   "id": "a7371096-f82e-4807-869c-b7f65d539db3",
   "metadata": {},
   "source": [
    "#### Model 5"
   ]
  },
  {
   "cell_type": "code",
   "execution_count": 16,
   "id": "7f9b4bef-ea3a-41bb-b3ed-652ad4ae6ff4",
   "metadata": {},
   "outputs": [
    {
     "name": "stderr",
     "output_type": "stream",
     "text": [
      "Train: 100%|\u001B[32m████████████████████████\u001B[0m| 295/295 [00:54<00:00,  5.43batch/s, Loss: 0.4432 | Precision: 78.18%]\u001B[0m\n"
     ]
    },
    {
     "name": "stdout",
     "output_type": "stream",
     "text": [
      "Epoch 1 | Avg Loss: 0.4573 | Avg Precision: 75.67%\n"
     ]
    },
    {
     "name": "stderr",
     "output_type": "stream",
     "text": [
      "Train: 100%|\u001B[32m████████████████████████\u001B[0m| 295/295 [00:55<00:00,  5.35batch/s, Loss: 0.2301 | Precision: 80.26%]\u001B[0m\n"
     ]
    },
    {
     "name": "stdout",
     "output_type": "stream",
     "text": [
      "Epoch 2 | Avg Loss: 0.4000 | Avg Precision: 79.90%\n"
     ]
    },
    {
     "name": "stderr",
     "output_type": "stream",
     "text": [
      "Train: 100%|\u001B[32m████████████████████████\u001B[0m| 295/295 [00:55<00:00,  5.32batch/s, Loss: 0.3118 | Precision: 80.52%]\u001B[0m\n"
     ]
    },
    {
     "name": "stdout",
     "output_type": "stream",
     "text": [
      "Epoch 3 | Avg Loss: 0.3944 | Avg Precision: 80.25%\n"
     ]
    },
    {
     "name": "stderr",
     "output_type": "stream",
     "text": [
      "Validate: 100%|\u001B[34m███████████████████████\u001B[0m| 74/74 [00:11<00:00,  6.29batch/s, Loss: 0.4321 | Precision: 79.34%]\u001B[0m\n"
     ]
    },
    {
     "name": "stdout",
     "output_type": "stream",
     "text": [
      "Epoch 3 | Avg Loss: 0.3991 | Avg Precision: 79.21% | Patience: 0\n"
     ]
    },
    {
     "name": "stderr",
     "output_type": "stream",
     "text": [
      "Train: 100%|\u001B[32m████████████████████████\u001B[0m| 295/295 [00:54<00:00,  5.36batch/s, Loss: 0.3642 | Precision: 80.55%]\u001B[0m\n"
     ]
    },
    {
     "name": "stdout",
     "output_type": "stream",
     "text": [
      "Epoch 4 | Avg Loss: 0.3939 | Avg Precision: 80.26%\n"
     ]
    },
    {
     "name": "stderr",
     "output_type": "stream",
     "text": [
      "Train: 100%|\u001B[32m████████████████████████\u001B[0m| 295/295 [00:55<00:00,  5.30batch/s, Loss: 0.3388 | Precision: 80.64%]\u001B[0m\n"
     ]
    },
    {
     "name": "stdout",
     "output_type": "stream",
     "text": [
      "Epoch 5 | Avg Loss: 0.3919 | Avg Precision: 80.41%\n"
     ]
    },
    {
     "name": "stderr",
     "output_type": "stream",
     "text": [
      "Train: 100%|\u001B[32m████████████████████████\u001B[0m| 295/295 [00:55<00:00,  5.29batch/s, Loss: 0.3167 | Precision: 80.38%]\u001B[0m\n"
     ]
    },
    {
     "name": "stdout",
     "output_type": "stream",
     "text": [
      "Epoch 6 | Avg Loss: 0.3952 | Avg Precision: 80.11%\n"
     ]
    },
    {
     "name": "stderr",
     "output_type": "stream",
     "text": [
      "Validate: 100%|\u001B[34m███████████████████████\u001B[0m| 74/74 [00:11<00:00,  6.26batch/s, Loss: 0.4421 | Precision: 79.52%]\u001B[0m\n"
     ]
    },
    {
     "name": "stdout",
     "output_type": "stream",
     "text": [
      "Epoch 6 | Avg Loss: 0.4025 | Avg Precision: 79.39% | Patience: 0\n"
     ]
    },
    {
     "name": "stderr",
     "output_type": "stream",
     "text": [
      "Train: 100%|\u001B[32m████████████████████████\u001B[0m| 295/295 [00:55<00:00,  5.32batch/s, Loss: 0.2894 | Precision: 80.13%]\u001B[0m\n"
     ]
    },
    {
     "name": "stdout",
     "output_type": "stream",
     "text": [
      "Epoch 7 | Avg Loss: 0.3979 | Avg Precision: 79.99%\n"
     ]
    },
    {
     "name": "stderr",
     "output_type": "stream",
     "text": [
      "Train: 100%|\u001B[32m████████████████████████\u001B[0m| 295/295 [00:55<00:00,  5.33batch/s, Loss: 0.3122 | Precision: 80.05%]\u001B[0m\n"
     ]
    },
    {
     "name": "stdout",
     "output_type": "stream",
     "text": [
      "Epoch 8 | Avg Loss: 0.4006 | Avg Precision: 79.80%\n"
     ]
    },
    {
     "name": "stderr",
     "output_type": "stream",
     "text": [
      "Train: 100%|\u001B[32m████████████████████████\u001B[0m| 295/295 [00:55<00:00,  5.30batch/s, Loss: 0.3081 | Precision: 79.91%]\u001B[0m\n"
     ]
    },
    {
     "name": "stdout",
     "output_type": "stream",
     "text": [
      "Epoch 9 | Avg Loss: 0.4024 | Avg Precision: 79.77%\n"
     ]
    },
    {
     "name": "stderr",
     "output_type": "stream",
     "text": [
      "Validate: 100%|\u001B[34m███████████████████████\u001B[0m| 74/74 [00:11<00:00,  6.26batch/s, Loss: 0.4541 | Precision: 79.75%]\u001B[0m\n"
     ]
    },
    {
     "name": "stdout",
     "output_type": "stream",
     "text": [
      "Epoch 9 | Avg Loss: 0.4099 | Avg Precision: 79.50% | Patience: 0\n"
     ]
    },
    {
     "name": "stderr",
     "output_type": "stream",
     "text": [
      "Train: 100%|\u001B[32m████████████████████████\u001B[0m| 295/295 [00:55<00:00,  5.32batch/s, Loss: 0.2289 | Precision: 79.95%]\u001B[0m\n"
     ]
    },
    {
     "name": "stdout",
     "output_type": "stream",
     "text": [
      "Epoch 10 | Avg Loss: 0.4017 | Avg Precision: 79.71%\n"
     ]
    },
    {
     "name": "stderr",
     "output_type": "stream",
     "text": [
      "Train: 100%|\u001B[32m████████████████████████\u001B[0m| 295/295 [00:55<00:00,  5.32batch/s, Loss: 0.2728 | Precision: 79.76%]\u001B[0m\n"
     ]
    },
    {
     "name": "stdout",
     "output_type": "stream",
     "text": [
      "Epoch 11 | Avg Loss: 0.4069 | Avg Precision: 79.74%\n"
     ]
    },
    {
     "name": "stderr",
     "output_type": "stream",
     "text": [
      "Train: 100%|\u001B[32m████████████████████████\u001B[0m| 295/295 [00:55<00:00,  5.31batch/s, Loss: 0.2372 | Precision: 79.62%]\u001B[0m\n"
     ]
    },
    {
     "name": "stdout",
     "output_type": "stream",
     "text": [
      "Epoch 12 | Avg Loss: 0.4092 | Avg Precision: 79.41%\n"
     ]
    },
    {
     "name": "stderr",
     "output_type": "stream",
     "text": [
      "Validate: 100%|\u001B[34m███████████████████████\u001B[0m| 74/74 [00:11<00:00,  6.18batch/s, Loss: 0.4444 | Precision: 80.23%]\u001B[0m\n"
     ]
    },
    {
     "name": "stdout",
     "output_type": "stream",
     "text": [
      "Epoch 12 | Avg Loss: 0.4072 | Avg Precision: 80.21% | Patience: 0\n"
     ]
    },
    {
     "name": "stderr",
     "output_type": "stream",
     "text": [
      "Train: 100%|\u001B[32m████████████████████████\u001B[0m| 295/295 [00:55<00:00,  5.29batch/s, Loss: 0.2809 | Precision: 79.44%]\u001B[0m\n"
     ]
    },
    {
     "name": "stdout",
     "output_type": "stream",
     "text": [
      "Epoch 13 | Avg Loss: 0.4105 | Avg Precision: 79.10%\n"
     ]
    },
    {
     "name": "stderr",
     "output_type": "stream",
     "text": [
      "Train: 100%|\u001B[32m████████████████████████\u001B[0m| 295/295 [00:56<00:00,  5.26batch/s, Loss: 0.2842 | Precision: 79.62%]\u001B[0m\n"
     ]
    },
    {
     "name": "stdout",
     "output_type": "stream",
     "text": [
      "Epoch 14 | Avg Loss: 0.4073 | Avg Precision: 79.44%\n"
     ]
    },
    {
     "name": "stderr",
     "output_type": "stream",
     "text": [
      "Train: 100%|\u001B[32m████████████████████████\u001B[0m| 295/295 [00:55<00:00,  5.28batch/s, Loss: 0.2867 | Precision: 79.33%]\u001B[0m\n"
     ]
    },
    {
     "name": "stdout",
     "output_type": "stream",
     "text": [
      "Epoch 15 | Avg Loss: 0.4123 | Avg Precision: 79.17%\n"
     ]
    },
    {
     "name": "stderr",
     "output_type": "stream",
     "text": [
      "Validate: 100%|\u001B[34m███████████████████████\u001B[0m| 74/74 [00:11<00:00,  6.20batch/s, Loss: 0.4443 | Precision: 79.31%]\u001B[0m\n"
     ]
    },
    {
     "name": "stdout",
     "output_type": "stream",
     "text": [
      "Epoch 00005: reducing learning rate of group 0 to 9.0000e-03.\n",
      "Epoch 15 | Avg Loss: 0.4126 | Avg Precision: 79.28% | Patience: 1\n"
     ]
    },
    {
     "name": "stderr",
     "output_type": "stream",
     "text": [
      "Train: 100%|\u001B[32m████████████████████████\u001B[0m| 295/295 [00:55<00:00,  5.27batch/s, Loss: 0.2298 | Precision: 79.54%]\u001B[0m\n"
     ]
    },
    {
     "name": "stdout",
     "output_type": "stream",
     "text": [
      "Epoch 16 | Avg Loss: 0.4082 | Avg Precision: 79.35%\n"
     ]
    },
    {
     "name": "stderr",
     "output_type": "stream",
     "text": [
      "Train: 100%|\u001B[32m████████████████████████\u001B[0m| 295/295 [00:56<00:00,  5.26batch/s, Loss: 0.2766 | Precision: 79.46%]\u001B[0m\n"
     ]
    },
    {
     "name": "stdout",
     "output_type": "stream",
     "text": [
      "Epoch 17 | Avg Loss: 0.4080 | Avg Precision: 79.33%\n"
     ]
    },
    {
     "name": "stderr",
     "output_type": "stream",
     "text": [
      "Train: 100%|\u001B[32m████████████████████████\u001B[0m| 295/295 [00:56<00:00,  5.26batch/s, Loss: 0.2177 | Precision: 79.52%]\u001B[0m\n"
     ]
    },
    {
     "name": "stdout",
     "output_type": "stream",
     "text": [
      "Epoch 18 | Avg Loss: 0.4081 | Avg Precision: 79.37%\n"
     ]
    },
    {
     "name": "stderr",
     "output_type": "stream",
     "text": [
      "Validate: 100%|\u001B[34m███████████████████████\u001B[0m| 74/74 [00:11<00:00,  6.31batch/s, Loss: 0.4283 | Precision: 79.41%]\u001B[0m\n"
     ]
    },
    {
     "name": "stdout",
     "output_type": "stream",
     "text": [
      "Epoch 00006: reducing learning rate of group 0 to 8.1000e-03.\n",
      "Epoch 18 | Avg Loss: 0.4105 | Avg Precision: 79.33% | Patience: 2\n"
     ]
    },
    {
     "name": "stderr",
     "output_type": "stream",
     "text": [
      "Train: 100%|\u001B[32m████████████████████████\u001B[0m| 295/295 [00:56<00:00,  5.26batch/s, Loss: 0.2671 | Precision: 79.67%]\u001B[0m\n"
     ]
    },
    {
     "name": "stdout",
     "output_type": "stream",
     "text": [
      "Epoch 19 | Avg Loss: 0.4054 | Avg Precision: 79.46%\n"
     ]
    },
    {
     "name": "stderr",
     "output_type": "stream",
     "text": [
      "Train: 100%|\u001B[32m████████████████████████\u001B[0m| 295/295 [00:55<00:00,  5.28batch/s, Loss: 0.1892 | Precision: 79.70%]\u001B[0m\n"
     ]
    },
    {
     "name": "stdout",
     "output_type": "stream",
     "text": [
      "Epoch 20 | Avg Loss: 0.4043 | Avg Precision: 79.50%\n"
     ]
    },
    {
     "name": "stderr",
     "output_type": "stream",
     "text": [
      "Train: 100%|\u001B[32m████████████████████████\u001B[0m| 295/295 [00:55<00:00,  5.27batch/s, Loss: 0.2973 | Precision: 79.64%]\u001B[0m\n"
     ]
    },
    {
     "name": "stdout",
     "output_type": "stream",
     "text": [
      "Epoch 21 | Avg Loss: 0.4056 | Avg Precision: 79.34%\n"
     ]
    },
    {
     "name": "stderr",
     "output_type": "stream",
     "text": [
      "Validate: 100%|\u001B[34m███████████████████████\u001B[0m| 74/74 [00:11<00:00,  6.26batch/s, Loss: 0.4305 | Precision: 79.94%]\u001B[0m\n"
     ]
    },
    {
     "name": "stdout",
     "output_type": "stream",
     "text": [
      "Epoch 00007: reducing learning rate of group 0 to 7.2900e-03.\n",
      "Epoch 21 | Avg Loss: 0.4079 | Avg Precision: 79.81% | Patience: 3\n"
     ]
    },
    {
     "name": "stderr",
     "output_type": "stream",
     "text": [
      "Train: 100%|\u001B[32m████████████████████████\u001B[0m| 295/295 [00:55<00:00,  5.28batch/s, Loss: 0.2091 | Precision: 80.02%]\u001B[0m\n"
     ]
    },
    {
     "name": "stdout",
     "output_type": "stream",
     "text": [
      "Epoch 22 | Avg Loss: 0.4003 | Avg Precision: 79.87%\n"
     ]
    },
    {
     "name": "stderr",
     "output_type": "stream",
     "text": [
      "Train: 100%|\u001B[32m████████████████████████\u001B[0m| 295/295 [00:55<00:00,  5.30batch/s, Loss: 0.2110 | Precision: 80.08%]\u001B[0m\n"
     ]
    },
    {
     "name": "stdout",
     "output_type": "stream",
     "text": [
      "Epoch 23 | Avg Loss: 0.3978 | Avg Precision: 79.93%\n"
     ]
    },
    {
     "name": "stderr",
     "output_type": "stream",
     "text": [
      "Train: 100%|\u001B[32m████████████████████████\u001B[0m| 295/295 [00:56<00:00,  5.23batch/s, Loss: 0.2803 | Precision: 79.82%]\u001B[0m\n"
     ]
    },
    {
     "name": "stdout",
     "output_type": "stream",
     "text": [
      "Epoch 24 | Avg Loss: 0.4022 | Avg Precision: 79.69%\n"
     ]
    },
    {
     "name": "stderr",
     "output_type": "stream",
     "text": [
      "Validate: 100%|\u001B[34m███████████████████████\u001B[0m| 74/74 [00:11<00:00,  6.24batch/s, Loss: 0.4256 | Precision: 79.79%]\u001B[0m\n"
     ]
    },
    {
     "name": "stdout",
     "output_type": "stream",
     "text": [
      "Epoch 00008: reducing learning rate of group 0 to 6.5610e-03.\n",
      "Epoch 24 | Avg Loss: 0.4028 | Avg Precision: 79.68% | Patience: 4\n"
     ]
    },
    {
     "name": "stderr",
     "output_type": "stream",
     "text": [
      "Train: 100%|\u001B[32m████████████████████████\u001B[0m| 295/295 [00:55<00:00,  5.32batch/s, Loss: 0.3042 | Precision: 80.33%]\u001B[0m\n"
     ]
    },
    {
     "name": "stdout",
     "output_type": "stream",
     "text": [
      "Epoch 25 | Avg Loss: 0.3951 | Avg Precision: 80.06%\n"
     ]
    },
    {
     "name": "stderr",
     "output_type": "stream",
     "text": [
      "Train: 100%|\u001B[32m████████████████████████\u001B[0m| 295/295 [00:55<00:00,  5.31batch/s, Loss: 0.2724 | Precision: 80.28%]\u001B[0m\n"
     ]
    },
    {
     "name": "stdout",
     "output_type": "stream",
     "text": [
      "Epoch 26 | Avg Loss: 0.3946 | Avg Precision: 80.06%\n"
     ]
    },
    {
     "name": "stderr",
     "output_type": "stream",
     "text": [
      "Train: 100%|\u001B[32m████████████████████████\u001B[0m| 295/295 [00:55<00:00,  5.29batch/s, Loss: 0.2086 | Precision: 80.25%]\u001B[0m\n"
     ]
    },
    {
     "name": "stdout",
     "output_type": "stream",
     "text": [
      "Epoch 27 | Avg Loss: 0.3935 | Avg Precision: 80.15%\n"
     ]
    },
    {
     "name": "stderr",
     "output_type": "stream",
     "text": [
      "Validate: 100%|\u001B[34m███████████████████████\u001B[0m| 74/74 [00:11<00:00,  6.27batch/s, Loss: 0.4154 | Precision: 81.55%]\u001B[0m\n"
     ]
    },
    {
     "name": "stdout",
     "output_type": "stream",
     "text": [
      "Epoch 27 | Avg Loss: 0.3934 | Avg Precision: 81.51% | Patience: 0\n"
     ]
    },
    {
     "name": "stderr",
     "output_type": "stream",
     "text": [
      "Train: 100%|\u001B[32m████████████████████████\u001B[0m| 295/295 [00:55<00:00,  5.33batch/s, Loss: 0.3479 | Precision: 80.32%]\u001B[0m\n"
     ]
    },
    {
     "name": "stdout",
     "output_type": "stream",
     "text": [
      "Epoch 28 | Avg Loss: 0.3946 | Avg Precision: 80.26%\n"
     ]
    },
    {
     "name": "stderr",
     "output_type": "stream",
     "text": [
      "Train: 100%|\u001B[32m████████████████████████\u001B[0m| 295/295 [00:55<00:00,  5.31batch/s, Loss: 0.2124 | Precision: 80.24%]\u001B[0m\n"
     ]
    },
    {
     "name": "stdout",
     "output_type": "stream",
     "text": [
      "Epoch 29 | Avg Loss: 0.3943 | Avg Precision: 80.12%\n"
     ]
    },
    {
     "name": "stderr",
     "output_type": "stream",
     "text": [
      "Train: 100%|\u001B[32m████████████████████████\u001B[0m| 295/295 [00:55<00:00,  5.31batch/s, Loss: 0.3103 | Precision: 80.32%]\u001B[0m\n"
     ]
    },
    {
     "name": "stdout",
     "output_type": "stream",
     "text": [
      "Epoch 30 | Avg Loss: 0.3936 | Avg Precision: 80.23%\n"
     ]
    },
    {
     "name": "stderr",
     "output_type": "stream",
     "text": [
      "Validate: 100%|\u001B[34m███████████████████████\u001B[0m| 74/74 [00:11<00:00,  6.27batch/s, Loss: 0.4361 | Precision: 80.05%]\u001B[0m\n"
     ]
    },
    {
     "name": "stdout",
     "output_type": "stream",
     "text": [
      "Epoch 00010: reducing learning rate of group 0 to 5.9049e-03.\n",
      "Epoch 30 | Avg Loss: 0.3950 | Avg Precision: 79.95% | Patience: 1\n"
     ]
    },
    {
     "name": "stderr",
     "output_type": "stream",
     "text": [
      "Train: 100%|\u001B[32m████████████████████████\u001B[0m| 295/295 [00:55<00:00,  5.31batch/s, Loss: 0.2332 | Precision: 80.44%]\u001B[0m\n"
     ]
    },
    {
     "name": "stdout",
     "output_type": "stream",
     "text": [
      "Epoch 31 | Avg Loss: 0.3924 | Avg Precision: 80.19%\n"
     ]
    },
    {
     "name": "stderr",
     "output_type": "stream",
     "text": [
      "Train: 100%|\u001B[32m████████████████████████\u001B[0m| 295/295 [00:55<00:00,  5.29batch/s, Loss: 0.1934 | Precision: 80.49%]\u001B[0m\n"
     ]
    },
    {
     "name": "stdout",
     "output_type": "stream",
     "text": [
      "Epoch 32 | Avg Loss: 0.3906 | Avg Precision: 80.33%\n"
     ]
    },
    {
     "name": "stderr",
     "output_type": "stream",
     "text": [
      "Train: 100%|\u001B[32m████████████████████████\u001B[0m| 295/295 [00:56<00:00,  5.25batch/s, Loss: 0.1661 | Precision: 80.61%]\u001B[0m\n"
     ]
    },
    {
     "name": "stdout",
     "output_type": "stream",
     "text": [
      "Epoch 33 | Avg Loss: 0.3891 | Avg Precision: 80.55%\n"
     ]
    },
    {
     "name": "stderr",
     "output_type": "stream",
     "text": [
      "Validate: 100%|\u001B[34m███████████████████████\u001B[0m| 74/74 [00:11<00:00,  6.21batch/s, Loss: 0.4063 | Precision: 81.26%]\u001B[0m\n"
     ]
    },
    {
     "name": "stdout",
     "output_type": "stream",
     "text": [
      "Epoch 00011: reducing learning rate of group 0 to 5.3144e-03.\n",
      "Epoch 33 | Avg Loss: 0.3894 | Avg Precision: 81.13% | Patience: 2\n"
     ]
    },
    {
     "name": "stderr",
     "output_type": "stream",
     "text": [
      "Train: 100%|\u001B[32m████████████████████████\u001B[0m| 295/295 [00:55<00:00,  5.32batch/s, Loss: 0.1624 | Precision: 80.84%]\u001B[0m\n"
     ]
    },
    {
     "name": "stdout",
     "output_type": "stream",
     "text": [
      "Epoch 34 | Avg Loss: 0.3851 | Avg Precision: 80.68%\n"
     ]
    },
    {
     "name": "stderr",
     "output_type": "stream",
     "text": [
      "Train: 100%|\u001B[32m████████████████████████\u001B[0m| 295/295 [00:56<00:00,  5.25batch/s, Loss: 0.1925 | Precision: 80.97%]\u001B[0m\n"
     ]
    },
    {
     "name": "stdout",
     "output_type": "stream",
     "text": [
      "Epoch 35 | Avg Loss: 0.3836 | Avg Precision: 80.87%\n"
     ]
    },
    {
     "name": "stderr",
     "output_type": "stream",
     "text": [
      "Train: 100%|\u001B[32m████████████████████████\u001B[0m| 295/295 [00:56<00:00,  5.21batch/s, Loss: 0.1931 | Precision: 81.01%]\u001B[0m\n"
     ]
    },
    {
     "name": "stdout",
     "output_type": "stream",
     "text": [
      "Epoch 36 | Avg Loss: 0.3826 | Avg Precision: 80.95%\n"
     ]
    },
    {
     "name": "stderr",
     "output_type": "stream",
     "text": [
      "Validate: 100%|\u001B[34m███████████████████████\u001B[0m| 74/74 [00:11<00:00,  6.23batch/s, Loss: 0.4135 | Precision: 81.15%]\u001B[0m\n"
     ]
    },
    {
     "name": "stdout",
     "output_type": "stream",
     "text": [
      "Epoch 00012: reducing learning rate of group 0 to 4.7830e-03.\n",
      "Epoch 36 | Avg Loss: 0.3803 | Avg Precision: 81.04% | Patience: 3\n"
     ]
    },
    {
     "name": "stderr",
     "output_type": "stream",
     "text": [
      "Train: 100%|\u001B[32m████████████████████████\u001B[0m| 295/295 [00:55<00:00,  5.29batch/s, Loss: 0.2234 | Precision: 81.14%]\u001B[0m\n"
     ]
    },
    {
     "name": "stdout",
     "output_type": "stream",
     "text": [
      "Epoch 37 | Avg Loss: 0.3796 | Avg Precision: 80.94%\n"
     ]
    },
    {
     "name": "stderr",
     "output_type": "stream",
     "text": [
      "Train: 100%|\u001B[32m████████████████████████\u001B[0m| 295/295 [00:55<00:00,  5.32batch/s, Loss: 0.2104 | Precision: 81.05%]\u001B[0m\n"
     ]
    },
    {
     "name": "stdout",
     "output_type": "stream",
     "text": [
      "Epoch 38 | Avg Loss: 0.3806 | Avg Precision: 80.94%\n"
     ]
    },
    {
     "name": "stderr",
     "output_type": "stream",
     "text": [
      "Train: 100%|\u001B[32m████████████████████████\u001B[0m| 295/295 [00:55<00:00,  5.31batch/s, Loss: 0.2350 | Precision: 81.20%]\u001B[0m\n"
     ]
    },
    {
     "name": "stdout",
     "output_type": "stream",
     "text": [
      "Epoch 39 | Avg Loss: 0.3784 | Avg Precision: 81.15%\n"
     ]
    },
    {
     "name": "stderr",
     "output_type": "stream",
     "text": [
      "Validate: 100%|\u001B[34m███████████████████████\u001B[0m| 74/74 [00:11<00:00,  6.20batch/s, Loss: 0.4044 | Precision: 81.89%]\u001B[0m\n"
     ]
    },
    {
     "name": "stdout",
     "output_type": "stream",
     "text": [
      "Epoch 39 | Avg Loss: 0.3747 | Avg Precision: 81.88% | Patience: 0\n"
     ]
    },
    {
     "name": "stderr",
     "output_type": "stream",
     "text": [
      "Train: 100%|\u001B[32m████████████████████████\u001B[0m| 295/295 [00:55<00:00,  5.30batch/s, Loss: 0.1893 | Precision: 81.20%]\u001B[0m\n"
     ]
    },
    {
     "name": "stdout",
     "output_type": "stream",
     "text": [
      "Epoch 40 | Avg Loss: 0.3775 | Avg Precision: 81.23%\n"
     ]
    },
    {
     "name": "stderr",
     "output_type": "stream",
     "text": [
      "Train: 100%|\u001B[32m████████████████████████\u001B[0m| 295/295 [00:55<00:00,  5.28batch/s, Loss: 0.2075 | Precision: 81.20%]\u001B[0m\n"
     ]
    },
    {
     "name": "stdout",
     "output_type": "stream",
     "text": [
      "Epoch 41 | Avg Loss: 0.3787 | Avg Precision: 81.06%\n"
     ]
    },
    {
     "name": "stderr",
     "output_type": "stream",
     "text": [
      "Train: 100%|\u001B[32m████████████████████████\u001B[0m| 295/295 [00:55<00:00,  5.28batch/s, Loss: 0.2493 | Precision: 81.22%]\u001B[0m\n"
     ]
    },
    {
     "name": "stdout",
     "output_type": "stream",
     "text": [
      "Epoch 42 | Avg Loss: 0.3785 | Avg Precision: 81.11%\n"
     ]
    },
    {
     "name": "stderr",
     "output_type": "stream",
     "text": [
      "Validate: 100%|\u001B[34m███████████████████████\u001B[0m| 74/74 [00:11<00:00,  6.22batch/s, Loss: 0.3935 | Precision: 81.22%]\u001B[0m\n"
     ]
    },
    {
     "name": "stdout",
     "output_type": "stream",
     "text": [
      "Epoch 00014: reducing learning rate of group 0 to 4.3047e-03.\n",
      "Epoch 42 | Avg Loss: 0.3800 | Avg Precision: 81.02% | Patience: 1\n"
     ]
    },
    {
     "name": "stderr",
     "output_type": "stream",
     "text": [
      "Train: 100%|\u001B[32m████████████████████████\u001B[0m| 295/295 [00:55<00:00,  5.28batch/s, Loss: 0.2011 | Precision: 81.49%]\u001B[0m\n"
     ]
    },
    {
     "name": "stdout",
     "output_type": "stream",
     "text": [
      "Epoch 43 | Avg Loss: 0.3735 | Avg Precision: 81.34%\n"
     ]
    },
    {
     "name": "stderr",
     "output_type": "stream",
     "text": [
      "Train: 100%|\u001B[32m████████████████████████\u001B[0m| 295/295 [00:55<00:00,  5.28batch/s, Loss: 0.2285 | Precision: 81.72%]\u001B[0m\n"
     ]
    },
    {
     "name": "stdout",
     "output_type": "stream",
     "text": [
      "Epoch 44 | Avg Loss: 0.3715 | Avg Precision: 81.65%\n"
     ]
    },
    {
     "name": "stderr",
     "output_type": "stream",
     "text": [
      "Train: 100%|\u001B[32m████████████████████████\u001B[0m| 295/295 [00:55<00:00,  5.27batch/s, Loss: 0.1260 | Precision: 81.75%]\u001B[0m\n"
     ]
    },
    {
     "name": "stdout",
     "output_type": "stream",
     "text": [
      "Epoch 45 | Avg Loss: 0.3700 | Avg Precision: 81.65%\n"
     ]
    },
    {
     "name": "stderr",
     "output_type": "stream",
     "text": [
      "Validate: 100%|\u001B[34m███████████████████████\u001B[0m| 74/74 [00:11<00:00,  6.24batch/s, Loss: 0.3867 | Precision: 82.10%]\u001B[0m\n"
     ]
    },
    {
     "name": "stdout",
     "output_type": "stream",
     "text": [
      "Epoch 45 | Avg Loss: 0.3678 | Avg Precision: 82.06% | Patience: 0\n"
     ]
    },
    {
     "name": "stderr",
     "output_type": "stream",
     "text": [
      "Train: 100%|\u001B[32m████████████████████████\u001B[0m| 295/295 [00:55<00:00,  5.27batch/s, Loss: 0.2324 | Precision: 81.65%]\u001B[0m\n"
     ]
    },
    {
     "name": "stdout",
     "output_type": "stream",
     "text": [
      "Epoch 46 | Avg Loss: 0.3704 | Avg Precision: 81.56%\n"
     ]
    },
    {
     "name": "stderr",
     "output_type": "stream",
     "text": [
      "Train: 100%|\u001B[32m████████████████████████\u001B[0m| 295/295 [00:56<00:00,  5.26batch/s, Loss: 0.1835 | Precision: 81.76%]\u001B[0m\n"
     ]
    },
    {
     "name": "stdout",
     "output_type": "stream",
     "text": [
      "Epoch 47 | Avg Loss: 0.3702 | Avg Precision: 81.62%\n"
     ]
    },
    {
     "name": "stderr",
     "output_type": "stream",
     "text": [
      "Train: 100%|\u001B[32m████████████████████████\u001B[0m| 295/295 [00:55<00:00,  5.27batch/s, Loss: 0.1827 | Precision: 81.74%]\u001B[0m\n"
     ]
    },
    {
     "name": "stdout",
     "output_type": "stream",
     "text": [
      "Epoch 48 | Avg Loss: 0.3707 | Avg Precision: 81.72%\n"
     ]
    },
    {
     "name": "stderr",
     "output_type": "stream",
     "text": [
      "Validate: 100%|\u001B[34m███████████████████████\u001B[0m| 74/74 [00:12<00:00,  6.16batch/s, Loss: 0.3671 | Precision: 81.67%]\u001B[0m\n"
     ]
    },
    {
     "name": "stdout",
     "output_type": "stream",
     "text": [
      "Epoch 00016: reducing learning rate of group 0 to 3.8742e-03.\n",
      "Epoch 48 | Avg Loss: 0.3692 | Avg Precision: 81.59% | Patience: 1\n"
     ]
    },
    {
     "name": "stderr",
     "output_type": "stream",
     "text": [
      "Train: 100%|\u001B[32m████████████████████████\u001B[0m| 295/295 [00:55<00:00,  5.28batch/s, Loss: 0.1888 | Precision: 81.90%]\u001B[0m\n"
     ]
    },
    {
     "name": "stdout",
     "output_type": "stream",
     "text": [
      "Epoch 49 | Avg Loss: 0.3671 | Avg Precision: 81.77%\n"
     ]
    },
    {
     "name": "stderr",
     "output_type": "stream",
     "text": [
      "Train: 100%|\u001B[32m████████████████████████\u001B[0m| 295/295 [00:55<00:00,  5.27batch/s, Loss: 0.1258 | Precision: 81.92%]\u001B[0m\n"
     ]
    },
    {
     "name": "stdout",
     "output_type": "stream",
     "text": [
      "Epoch 50 | Avg Loss: 0.3662 | Avg Precision: 81.81%\n"
     ]
    },
    {
     "name": "stderr",
     "output_type": "stream",
     "text": [
      "Train: 100%|\u001B[32m████████████████████████\u001B[0m| 295/295 [00:56<00:00,  5.26batch/s, Loss: 0.1539 | Precision: 81.95%]\u001B[0m\n"
     ]
    },
    {
     "name": "stdout",
     "output_type": "stream",
     "text": [
      "Epoch 51 | Avg Loss: 0.3658 | Avg Precision: 81.87%\n"
     ]
    },
    {
     "name": "stderr",
     "output_type": "stream",
     "text": [
      "Validate: 100%|\u001B[34m███████████████████████\u001B[0m| 74/74 [00:11<00:00,  6.20batch/s, Loss: 0.3715 | Precision: 81.70%]\u001B[0m\n"
     ]
    },
    {
     "name": "stdout",
     "output_type": "stream",
     "text": [
      "Epoch 00017: reducing learning rate of group 0 to 3.4868e-03.\n",
      "Epoch 51 | Avg Loss: 0.3651 | Avg Precision: 81.66% | Patience: 2\n"
     ]
    },
    {
     "name": "stderr",
     "output_type": "stream",
     "text": [
      "Train: 100%|\u001B[32m████████████████████████\u001B[0m| 295/295 [00:56<00:00,  5.25batch/s, Loss: 0.1448 | Precision: 82.05%]\u001B[0m\n"
     ]
    },
    {
     "name": "stdout",
     "output_type": "stream",
     "text": [
      "Epoch 52 | Avg Loss: 0.3629 | Avg Precision: 81.89%\n"
     ]
    },
    {
     "name": "stderr",
     "output_type": "stream",
     "text": [
      "Train: 100%|\u001B[32m████████████████████████\u001B[0m| 295/295 [00:55<00:00,  5.33batch/s, Loss: 0.1613 | Precision: 82.17%]\u001B[0m\n"
     ]
    },
    {
     "name": "stdout",
     "output_type": "stream",
     "text": [
      "Epoch 53 | Avg Loss: 0.3627 | Avg Precision: 82.10%\n"
     ]
    },
    {
     "name": "stderr",
     "output_type": "stream",
     "text": [
      "Train: 100%|\u001B[32m████████████████████████\u001B[0m| 295/295 [00:54<00:00,  5.40batch/s, Loss: 0.2181 | Precision: 82.22%]\u001B[0m\n"
     ]
    },
    {
     "name": "stdout",
     "output_type": "stream",
     "text": [
      "Epoch 54 | Avg Loss: 0.3620 | Avg Precision: 82.20%\n"
     ]
    },
    {
     "name": "stderr",
     "output_type": "stream",
     "text": [
      "Validate: 100%|\u001B[34m███████████████████████\u001B[0m| 74/74 [00:11<00:00,  6.25batch/s, Loss: 0.3818 | Precision: 82.43%]\u001B[0m\n"
     ]
    },
    {
     "name": "stdout",
     "output_type": "stream",
     "text": [
      "Epoch 54 | Avg Loss: 0.3631 | Avg Precision: 82.26% | Patience: 0\n"
     ]
    },
    {
     "name": "stderr",
     "output_type": "stream",
     "text": [
      "Train: 100%|\u001B[32m████████████████████████\u001B[0m| 295/295 [00:54<00:00,  5.40batch/s, Loss: 0.2458 | Precision: 82.28%]\u001B[0m\n"
     ]
    },
    {
     "name": "stdout",
     "output_type": "stream",
     "text": [
      "Epoch 55 | Avg Loss: 0.3603 | Avg Precision: 82.20%\n"
     ]
    },
    {
     "name": "stderr",
     "output_type": "stream",
     "text": [
      "Train: 100%|\u001B[32m████████████████████████\u001B[0m| 295/295 [00:54<00:00,  5.36batch/s, Loss: 0.1878 | Precision: 82.31%]\u001B[0m\n"
     ]
    },
    {
     "name": "stdout",
     "output_type": "stream",
     "text": [
      "Epoch 56 | Avg Loss: 0.3597 | Avg Precision: 82.31%\n"
     ]
    },
    {
     "name": "stderr",
     "output_type": "stream",
     "text": [
      "Train: 100%|\u001B[32m████████████████████████\u001B[0m| 295/295 [00:54<00:00,  5.39batch/s, Loss: 0.2088 | Precision: 82.39%]\u001B[0m\n"
     ]
    },
    {
     "name": "stdout",
     "output_type": "stream",
     "text": [
      "Epoch 57 | Avg Loss: 0.3584 | Avg Precision: 82.30%\n"
     ]
    },
    {
     "name": "stderr",
     "output_type": "stream",
     "text": [
      "Validate: 100%|\u001B[34m███████████████████████\u001B[0m| 74/74 [00:11<00:00,  6.31batch/s, Loss: 0.3642 | Precision: 82.79%]\u001B[0m\n"
     ]
    },
    {
     "name": "stdout",
     "output_type": "stream",
     "text": [
      "Epoch 57 | Avg Loss: 0.3595 | Avg Precision: 82.66% | Patience: 0\n"
     ]
    },
    {
     "name": "stderr",
     "output_type": "stream",
     "text": [
      "Train: 100%|\u001B[32m████████████████████████\u001B[0m| 295/295 [00:54<00:00,  5.41batch/s, Loss: 0.1876 | Precision: 82.35%]\u001B[0m\n"
     ]
    },
    {
     "name": "stdout",
     "output_type": "stream",
     "text": [
      "Epoch 58 | Avg Loss: 0.3588 | Avg Precision: 82.25%\n"
     ]
    },
    {
     "name": "stderr",
     "output_type": "stream",
     "text": [
      "Train: 100%|\u001B[32m████████████████████████\u001B[0m| 295/295 [00:54<00:00,  5.38batch/s, Loss: 0.2179 | Precision: 82.30%]\u001B[0m\n"
     ]
    },
    {
     "name": "stdout",
     "output_type": "stream",
     "text": [
      "Epoch 59 | Avg Loss: 0.3594 | Avg Precision: 82.19%\n"
     ]
    },
    {
     "name": "stderr",
     "output_type": "stream",
     "text": [
      "Train: 100%|\u001B[32m████████████████████████\u001B[0m| 295/295 [00:55<00:00,  5.33batch/s, Loss: 0.1968 | Precision: 82.32%]\u001B[0m\n"
     ]
    },
    {
     "name": "stdout",
     "output_type": "stream",
     "text": [
      "Epoch 60 | Avg Loss: 0.3594 | Avg Precision: 82.29%\n"
     ]
    },
    {
     "name": "stderr",
     "output_type": "stream",
     "text": [
      "Validate: 100%|\u001B[34m███████████████████████\u001B[0m| 74/74 [00:11<00:00,  6.32batch/s, Loss: 0.3709 | Precision: 82.58%]\u001B[0m\n"
     ]
    },
    {
     "name": "stdout",
     "output_type": "stream",
     "text": [
      "Epoch 00020: reducing learning rate of group 0 to 3.1381e-03.\n",
      "Epoch 60 | Avg Loss: 0.3577 | Avg Precision: 82.51% | Patience: 1\n"
     ]
    },
    {
     "name": "stderr",
     "output_type": "stream",
     "text": [
      "Train: 100%|\u001B[32m████████████████████████\u001B[0m| 295/295 [00:54<00:00,  5.37batch/s, Loss: 0.2371 | Precision: 82.47%]\u001B[0m\n"
     ]
    },
    {
     "name": "stdout",
     "output_type": "stream",
     "text": [
      "Epoch 61 | Avg Loss: 0.3568 | Avg Precision: 82.39%\n"
     ]
    },
    {
     "name": "stderr",
     "output_type": "stream",
     "text": [
      "Train: 100%|\u001B[32m████████████████████████\u001B[0m| 295/295 [00:54<00:00,  5.39batch/s, Loss: 0.1807 | Precision: 82.58%]\u001B[0m\n"
     ]
    },
    {
     "name": "stdout",
     "output_type": "stream",
     "text": [
      "Epoch 62 | Avg Loss: 0.3552 | Avg Precision: 82.56%\n"
     ]
    },
    {
     "name": "stderr",
     "output_type": "stream",
     "text": [
      "Train: 100%|\u001B[32m████████████████████████\u001B[0m| 295/295 [00:54<00:00,  5.37batch/s, Loss: 0.1484 | Precision: 82.61%]\u001B[0m\n"
     ]
    },
    {
     "name": "stdout",
     "output_type": "stream",
     "text": [
      "Epoch 63 | Avg Loss: 0.3555 | Avg Precision: 82.45%\n"
     ]
    },
    {
     "name": "stderr",
     "output_type": "stream",
     "text": [
      "Validate: 100%|\u001B[34m███████████████████████\u001B[0m| 74/74 [00:11<00:00,  6.33batch/s, Loss: 0.3833 | Precision: 82.24%]\u001B[0m\n"
     ]
    },
    {
     "name": "stdout",
     "output_type": "stream",
     "text": [
      "Epoch 00021: reducing learning rate of group 0 to 2.8243e-03.\n",
      "Epoch 63 | Avg Loss: 0.3579 | Avg Precision: 82.13% | Patience: 2\n"
     ]
    },
    {
     "name": "stderr",
     "output_type": "stream",
     "text": [
      "Train: 100%|\u001B[32m████████████████████████\u001B[0m| 295/295 [00:54<00:00,  5.37batch/s, Loss: 0.1651 | Precision: 82.59%]\u001B[0m\n"
     ]
    },
    {
     "name": "stdout",
     "output_type": "stream",
     "text": [
      "Epoch 64 | Avg Loss: 0.3535 | Avg Precision: 82.46%\n"
     ]
    },
    {
     "name": "stderr",
     "output_type": "stream",
     "text": [
      "Train: 100%|\u001B[32m████████████████████████\u001B[0m| 295/295 [00:55<00:00,  5.35batch/s, Loss: 0.1793 | Precision: 82.80%]\u001B[0m\n"
     ]
    },
    {
     "name": "stdout",
     "output_type": "stream",
     "text": [
      "Epoch 65 | Avg Loss: 0.3510 | Avg Precision: 82.74%\n"
     ]
    },
    {
     "name": "stderr",
     "output_type": "stream",
     "text": [
      "Train: 100%|\u001B[32m████████████████████████\u001B[0m| 295/295 [00:55<00:00,  5.35batch/s, Loss: 0.1642 | Precision: 82.80%]\u001B[0m\n"
     ]
    },
    {
     "name": "stdout",
     "output_type": "stream",
     "text": [
      "Epoch 66 | Avg Loss: 0.3513 | Avg Precision: 82.65%\n"
     ]
    },
    {
     "name": "stderr",
     "output_type": "stream",
     "text": [
      "Validate: 100%|\u001B[34m███████████████████████\u001B[0m| 74/74 [00:11<00:00,  6.23batch/s, Loss: 0.3830 | Precision: 82.86%]\u001B[0m\n"
     ]
    },
    {
     "name": "stdout",
     "output_type": "stream",
     "text": [
      "Epoch 66 | Avg Loss: 0.3517 | Avg Precision: 82.71% | Patience: 0\n"
     ]
    },
    {
     "name": "stderr",
     "output_type": "stream",
     "text": [
      "Train: 100%|\u001B[32m████████████████████████\u001B[0m| 295/295 [00:55<00:00,  5.31batch/s, Loss: 0.2610 | Precision: 82.92%]\u001B[0m\n"
     ]
    },
    {
     "name": "stdout",
     "output_type": "stream",
     "text": [
      "Epoch 67 | Avg Loss: 0.3501 | Avg Precision: 82.84%\n"
     ]
    },
    {
     "name": "stderr",
     "output_type": "stream",
     "text": [
      "Train: 100%|\u001B[32m████████████████████████\u001B[0m| 295/295 [00:55<00:00,  5.36batch/s, Loss: 0.1558 | Precision: 82.78%]\u001B[0m\n"
     ]
    },
    {
     "name": "stdout",
     "output_type": "stream",
     "text": [
      "Epoch 68 | Avg Loss: 0.3512 | Avg Precision: 82.69%\n"
     ]
    },
    {
     "name": "stderr",
     "output_type": "stream",
     "text": [
      "Train: 100%|\u001B[32m████████████████████████\u001B[0m| 295/295 [00:54<00:00,  5.45batch/s, Loss: 0.1332 | Precision: 82.74%]\u001B[0m\n"
     ]
    },
    {
     "name": "stdout",
     "output_type": "stream",
     "text": [
      "Epoch 69 | Avg Loss: 0.3512 | Avg Precision: 82.58%\n"
     ]
    },
    {
     "name": "stderr",
     "output_type": "stream",
     "text": [
      "Validate: 100%|\u001B[34m███████████████████████\u001B[0m| 74/74 [00:11<00:00,  6.58batch/s, Loss: 0.3703 | Precision: 82.66%]\u001B[0m\n"
     ]
    },
    {
     "name": "stdout",
     "output_type": "stream",
     "text": [
      "Epoch 00023: reducing learning rate of group 0 to 2.5419e-03.\n",
      "Epoch 69 | Avg Loss: 0.3520 | Avg Precision: 82.62% | Patience: 1\n"
     ]
    },
    {
     "name": "stderr",
     "output_type": "stream",
     "text": [
      "Train: 100%|\u001B[32m████████████████████████\u001B[0m| 295/295 [00:54<00:00,  5.37batch/s, Loss: 0.1212 | Precision: 82.92%]\u001B[0m\n"
     ]
    },
    {
     "name": "stdout",
     "output_type": "stream",
     "text": [
      "Epoch 70 | Avg Loss: 0.3484 | Avg Precision: 82.88%\n"
     ]
    },
    {
     "name": "stderr",
     "output_type": "stream",
     "text": [
      "Train: 100%|\u001B[32m████████████████████████\u001B[0m| 295/295 [00:55<00:00,  5.33batch/s, Loss: 0.1455 | Precision: 83.00%]\u001B[0m\n"
     ]
    },
    {
     "name": "stdout",
     "output_type": "stream",
     "text": [
      "Epoch 71 | Avg Loss: 0.3469 | Avg Precision: 82.90%\n"
     ]
    },
    {
     "name": "stderr",
     "output_type": "stream",
     "text": [
      "Train: 100%|\u001B[32m████████████████████████\u001B[0m| 295/295 [00:55<00:00,  5.33batch/s, Loss: 0.1524 | Precision: 83.09%]\u001B[0m\n"
     ]
    },
    {
     "name": "stdout",
     "output_type": "stream",
     "text": [
      "Epoch 72 | Avg Loss: 0.3461 | Avg Precision: 82.93%\n"
     ]
    },
    {
     "name": "stderr",
     "output_type": "stream",
     "text": [
      "Validate: 100%|\u001B[34m███████████████████████\u001B[0m| 74/74 [00:11<00:00,  6.40batch/s, Loss: 0.3640 | Precision: 82.54%]\u001B[0m\n"
     ]
    },
    {
     "name": "stdout",
     "output_type": "stream",
     "text": [
      "Epoch 00024: reducing learning rate of group 0 to 2.2877e-03.\n",
      "Epoch 72 | Avg Loss: 0.3488 | Avg Precision: 82.36% | Patience: 2\n"
     ]
    },
    {
     "name": "stderr",
     "output_type": "stream",
     "text": [
      "Train: 100%|\u001B[32m████████████████████████\u001B[0m| 295/295 [00:53<00:00,  5.48batch/s, Loss: 0.1225 | Precision: 83.23%]\u001B[0m\n"
     ]
    },
    {
     "name": "stdout",
     "output_type": "stream",
     "text": [
      "Epoch 73 | Avg Loss: 0.3431 | Avg Precision: 83.08%\n"
     ]
    },
    {
     "name": "stderr",
     "output_type": "stream",
     "text": [
      "Train: 100%|\u001B[32m████████████████████████\u001B[0m| 295/295 [00:54<00:00,  5.46batch/s, Loss: 0.1887 | Precision: 83.18%]\u001B[0m\n"
     ]
    },
    {
     "name": "stdout",
     "output_type": "stream",
     "text": [
      "Epoch 74 | Avg Loss: 0.3431 | Avg Precision: 83.07%\n"
     ]
    },
    {
     "name": "stderr",
     "output_type": "stream",
     "text": [
      "Train: 100%|\u001B[32m████████████████████████\u001B[0m| 295/295 [00:54<00:00,  5.46batch/s, Loss: 0.1454 | Precision: 83.39%]\u001B[0m\n"
     ]
    },
    {
     "name": "stdout",
     "output_type": "stream",
     "text": [
      "Epoch 75 | Avg Loss: 0.3409 | Avg Precision: 83.31%\n"
     ]
    },
    {
     "name": "stderr",
     "output_type": "stream",
     "text": [
      "Validate: 100%|\u001B[34m███████████████████████\u001B[0m| 74/74 [00:11<00:00,  6.46batch/s, Loss: 0.3570 | Precision: 82.84%]\u001B[0m\n"
     ]
    },
    {
     "name": "stdout",
     "output_type": "stream",
     "text": [
      "Epoch 00025: reducing learning rate of group 0 to 2.0589e-03.\n",
      "Epoch 75 | Avg Loss: 0.3424 | Avg Precision: 82.62% | Patience: 3\n"
     ]
    },
    {
     "name": "stderr",
     "output_type": "stream",
     "text": [
      "Train: 100%|\u001B[32m████████████████████████\u001B[0m| 295/295 [00:54<00:00,  5.45batch/s, Loss: 0.1691 | Precision: 83.46%]\u001B[0m\n"
     ]
    },
    {
     "name": "stdout",
     "output_type": "stream",
     "text": [
      "Epoch 76 | Avg Loss: 0.3391 | Avg Precision: 83.40%\n"
     ]
    },
    {
     "name": "stderr",
     "output_type": "stream",
     "text": [
      "Train: 100%|\u001B[32m████████████████████████\u001B[0m| 295/295 [00:54<00:00,  5.46batch/s, Loss: 0.1750 | Precision: 83.49%]\u001B[0m\n"
     ]
    },
    {
     "name": "stdout",
     "output_type": "stream",
     "text": [
      "Epoch 77 | Avg Loss: 0.3387 | Avg Precision: 83.41%\n"
     ]
    },
    {
     "name": "stderr",
     "output_type": "stream",
     "text": [
      "Train: 100%|\u001B[32m████████████████████████\u001B[0m| 295/295 [00:54<00:00,  5.46batch/s, Loss: 0.1104 | Precision: 83.53%]\u001B[0m\n"
     ]
    },
    {
     "name": "stdout",
     "output_type": "stream",
     "text": [
      "Epoch 78 | Avg Loss: 0.3386 | Avg Precision: 83.47%\n"
     ]
    },
    {
     "name": "stderr",
     "output_type": "stream",
     "text": [
      "Validate: 100%|\u001B[34m███████████████████████\u001B[0m| 74/74 [00:11<00:00,  6.45batch/s, Loss: 0.3531 | Precision: 83.19%]\u001B[0m\n"
     ]
    },
    {
     "name": "stdout",
     "output_type": "stream",
     "text": [
      "Epoch 78 | Avg Loss: 0.3409 | Avg Precision: 83.16% | Patience: 0\n"
     ]
    },
    {
     "name": "stderr",
     "output_type": "stream",
     "text": [
      "Train: 100%|\u001B[32m████████████████████████\u001B[0m| 295/295 [00:55<00:00,  5.33batch/s, Loss: 0.1377 | Precision: 83.58%]\u001B[0m\n"
     ]
    },
    {
     "name": "stdout",
     "output_type": "stream",
     "text": [
      "Epoch 79 | Avg Loss: 0.3373 | Avg Precision: 83.53%\n"
     ]
    },
    {
     "name": "stderr",
     "output_type": "stream",
     "text": [
      "Train: 100%|\u001B[32m████████████████████████\u001B[0m| 295/295 [00:55<00:00,  5.31batch/s, Loss: 0.1462 | Precision: 83.70%]\u001B[0m\n"
     ]
    },
    {
     "name": "stdout",
     "output_type": "stream",
     "text": [
      "Epoch 80 | Avg Loss: 0.3353 | Avg Precision: 83.57%\n"
     ]
    },
    {
     "name": "stderr",
     "output_type": "stream",
     "text": [
      "Train: 100%|\u001B[32m████████████████████████\u001B[0m| 295/295 [00:55<00:00,  5.31batch/s, Loss: 0.1213 | Precision: 83.73%]\u001B[0m\n"
     ]
    },
    {
     "name": "stdout",
     "output_type": "stream",
     "text": [
      "Epoch 81 | Avg Loss: 0.3348 | Avg Precision: 83.67%\n"
     ]
    },
    {
     "name": "stderr",
     "output_type": "stream",
     "text": [
      "Validate: 100%|\u001B[34m███████████████████████\u001B[0m| 74/74 [00:11<00:00,  6.29batch/s, Loss: 0.3448 | Precision: 83.46%]\u001B[0m\n"
     ]
    },
    {
     "name": "stdout",
     "output_type": "stream",
     "text": [
      "Epoch 81 | Avg Loss: 0.3371 | Avg Precision: 83.36% | Patience: 0\n"
     ]
    },
    {
     "name": "stderr",
     "output_type": "stream",
     "text": [
      "Train: 100%|\u001B[32m████████████████████████\u001B[0m| 295/295 [00:55<00:00,  5.32batch/s, Loss: 0.1136 | Precision: 83.76%]\u001B[0m\n"
     ]
    },
    {
     "name": "stdout",
     "output_type": "stream",
     "text": [
      "Epoch 82 | Avg Loss: 0.3354 | Avg Precision: 83.76%\n"
     ]
    },
    {
     "name": "stderr",
     "output_type": "stream",
     "text": [
      "Train: 100%|\u001B[32m████████████████████████\u001B[0m| 295/295 [00:55<00:00,  5.31batch/s, Loss: 0.2012 | Precision: 83.69%]\u001B[0m\n"
     ]
    },
    {
     "name": "stdout",
     "output_type": "stream",
     "text": [
      "Epoch 83 | Avg Loss: 0.3359 | Avg Precision: 83.54%\n"
     ]
    },
    {
     "name": "stderr",
     "output_type": "stream",
     "text": [
      "Train: 100%|\u001B[32m████████████████████████\u001B[0m| 295/295 [00:55<00:00,  5.32batch/s, Loss: 0.1276 | Precision: 83.68%]\u001B[0m\n"
     ]
    },
    {
     "name": "stdout",
     "output_type": "stream",
     "text": [
      "Epoch 84 | Avg Loss: 0.3356 | Avg Precision: 83.58%\n"
     ]
    },
    {
     "name": "stderr",
     "output_type": "stream",
     "text": [
      "Validate: 100%|\u001B[34m███████████████████████\u001B[0m| 74/74 [00:11<00:00,  6.30batch/s, Loss: 0.3590 | Precision: 83.26%]\u001B[0m\n"
     ]
    },
    {
     "name": "stdout",
     "output_type": "stream",
     "text": [
      "Epoch 00028: reducing learning rate of group 0 to 1.8530e-03.\n",
      "Epoch 84 | Avg Loss: 0.3385 | Avg Precision: 83.17% | Patience: 1\n"
     ]
    },
    {
     "name": "stderr",
     "output_type": "stream",
     "text": [
      "Train: 100%|\u001B[32m████████████████████████\u001B[0m| 295/295 [00:56<00:00,  5.26batch/s, Loss: 0.0998 | Precision: 83.79%]\u001B[0m\n"
     ]
    },
    {
     "name": "stdout",
     "output_type": "stream",
     "text": [
      "Epoch 85 | Avg Loss: 0.3340 | Avg Precision: 83.67%\n"
     ]
    },
    {
     "name": "stderr",
     "output_type": "stream",
     "text": [
      "Train: 100%|\u001B[32m████████████████████████\u001B[0m| 295/295 [00:55<00:00,  5.32batch/s, Loss: 0.0988 | Precision: 83.83%]\u001B[0m\n"
     ]
    },
    {
     "name": "stdout",
     "output_type": "stream",
     "text": [
      "Epoch 86 | Avg Loss: 0.3320 | Avg Precision: 83.80%\n"
     ]
    },
    {
     "name": "stderr",
     "output_type": "stream",
     "text": [
      "Train: 100%|\u001B[32m████████████████████████\u001B[0m| 295/295 [00:55<00:00,  5.32batch/s, Loss: 0.0923 | Precision: 83.83%]\u001B[0m\n"
     ]
    },
    {
     "name": "stdout",
     "output_type": "stream",
     "text": [
      "Epoch 87 | Avg Loss: 0.3316 | Avg Precision: 83.73%\n"
     ]
    },
    {
     "name": "stderr",
     "output_type": "stream",
     "text": [
      "Validate: 100%|\u001B[34m███████████████████████\u001B[0m| 74/74 [00:11<00:00,  6.35batch/s, Loss: 0.3627 | Precision: 83.68%]\u001B[0m\n"
     ]
    },
    {
     "name": "stdout",
     "output_type": "stream",
     "text": [
      "Epoch 87 | Avg Loss: 0.3363 | Avg Precision: 83.53% | Patience: 0\n"
     ]
    },
    {
     "name": "stderr",
     "output_type": "stream",
     "text": [
      "Train: 100%|\u001B[32m████████████████████████\u001B[0m| 295/295 [00:55<00:00,  5.34batch/s, Loss: 0.1076 | Precision: 84.00%]\u001B[0m\n"
     ]
    },
    {
     "name": "stdout",
     "output_type": "stream",
     "text": [
      "Epoch 88 | Avg Loss: 0.3305 | Avg Precision: 83.92%\n"
     ]
    },
    {
     "name": "stderr",
     "output_type": "stream",
     "text": [
      "Train: 100%|\u001B[32m████████████████████████\u001B[0m| 295/295 [00:55<00:00,  5.33batch/s, Loss: 0.1577 | Precision: 83.91%]\u001B[0m\n"
     ]
    },
    {
     "name": "stdout",
     "output_type": "stream",
     "text": [
      "Epoch 89 | Avg Loss: 0.3306 | Avg Precision: 83.82%\n"
     ]
    },
    {
     "name": "stderr",
     "output_type": "stream",
     "text": [
      "Train: 100%|\u001B[32m████████████████████████\u001B[0m| 295/295 [00:55<00:00,  5.33batch/s, Loss: 0.1827 | Precision: 83.98%]\u001B[0m\n"
     ]
    },
    {
     "name": "stdout",
     "output_type": "stream",
     "text": [
      "Epoch 90 | Avg Loss: 0.3304 | Avg Precision: 83.85%\n"
     ]
    },
    {
     "name": "stderr",
     "output_type": "stream",
     "text": [
      "Validate: 100%|\u001B[34m███████████████████████\u001B[0m| 74/74 [00:11<00:00,  6.35batch/s, Loss: 0.3328 | Precision: 83.66%]\u001B[0m\n"
     ]
    },
    {
     "name": "stdout",
     "output_type": "stream",
     "text": [
      "Epoch 00030: reducing learning rate of group 0 to 1.6677e-03.\n",
      "Epoch 90 | Avg Loss: 0.3338 | Avg Precision: 83.48% | Patience: 1\n"
     ]
    },
    {
     "name": "stderr",
     "output_type": "stream",
     "text": [
      "Train: 100%|\u001B[32m████████████████████████\u001B[0m| 295/295 [00:55<00:00,  5.36batch/s, Loss: 0.1053 | Precision: 83.98%]\u001B[0m\n"
     ]
    },
    {
     "name": "stdout",
     "output_type": "stream",
     "text": [
      "Epoch 91 | Avg Loss: 0.3295 | Avg Precision: 83.94%\n"
     ]
    },
    {
     "name": "stderr",
     "output_type": "stream",
     "text": [
      "Train: 100%|\u001B[32m████████████████████████\u001B[0m| 295/295 [00:55<00:00,  5.33batch/s, Loss: 0.1355 | Precision: 84.13%]\u001B[0m\n"
     ]
    },
    {
     "name": "stdout",
     "output_type": "stream",
     "text": [
      "Epoch 92 | Avg Loss: 0.3280 | Avg Precision: 83.97%\n"
     ]
    },
    {
     "name": "stderr",
     "output_type": "stream",
     "text": [
      "Train: 100%|\u001B[32m████████████████████████\u001B[0m| 295/295 [00:55<00:00,  5.33batch/s, Loss: 0.1265 | Precision: 84.14%]\u001B[0m\n"
     ]
    },
    {
     "name": "stdout",
     "output_type": "stream",
     "text": [
      "Epoch 93 | Avg Loss: 0.3275 | Avg Precision: 84.04%\n"
     ]
    },
    {
     "name": "stderr",
     "output_type": "stream",
     "text": [
      "Validate: 100%|\u001B[34m███████████████████████\u001B[0m| 74/74 [00:11<00:00,  6.32batch/s, Loss: 0.3411 | Precision: 83.89%]\u001B[0m\n"
     ]
    },
    {
     "name": "stdout",
     "output_type": "stream",
     "text": [
      "Epoch 93 | Avg Loss: 0.3313 | Avg Precision: 83.70% | Patience: 0\n"
     ]
    },
    {
     "name": "stderr",
     "output_type": "stream",
     "text": [
      "Train: 100%|\u001B[32m████████████████████████\u001B[0m| 295/295 [00:54<00:00,  5.38batch/s, Loss: 0.0979 | Precision: 84.14%]\u001B[0m\n"
     ]
    },
    {
     "name": "stdout",
     "output_type": "stream",
     "text": [
      "Epoch 94 | Avg Loss: 0.3273 | Avg Precision: 84.18%\n"
     ]
    },
    {
     "name": "stderr",
     "output_type": "stream",
     "text": [
      "Train: 100%|\u001B[32m████████████████████████\u001B[0m| 295/295 [00:55<00:00,  5.34batch/s, Loss: 0.1230 | Precision: 84.24%]\u001B[0m\n"
     ]
    },
    {
     "name": "stdout",
     "output_type": "stream",
     "text": [
      "Epoch 95 | Avg Loss: 0.3259 | Avg Precision: 84.22%\n"
     ]
    },
    {
     "name": "stderr",
     "output_type": "stream",
     "text": [
      "Train: 100%|\u001B[32m████████████████████████\u001B[0m| 295/295 [00:55<00:00,  5.36batch/s, Loss: 0.1299 | Precision: 84.28%]\u001B[0m\n"
     ]
    },
    {
     "name": "stdout",
     "output_type": "stream",
     "text": [
      "Epoch 96 | Avg Loss: 0.3254 | Avg Precision: 84.22%\n"
     ]
    },
    {
     "name": "stderr",
     "output_type": "stream",
     "text": [
      "Validate: 100%|\u001B[34m███████████████████████\u001B[0m| 74/74 [00:11<00:00,  6.32batch/s, Loss: 0.3164 | Precision: 83.89%]\u001B[0m\n"
     ]
    },
    {
     "name": "stdout",
     "output_type": "stream",
     "text": [
      "Epoch 00032: reducing learning rate of group 0 to 1.5009e-03.\n",
      "Epoch 96 | Avg Loss: 0.3288 | Avg Precision: 83.63% | Patience: 1\n"
     ]
    },
    {
     "name": "stderr",
     "output_type": "stream",
     "text": [
      "Train: 100%|\u001B[32m████████████████████████\u001B[0m| 295/295 [00:54<00:00,  5.37batch/s, Loss: 0.0839 | Precision: 84.25%]\u001B[0m\n"
     ]
    },
    {
     "name": "stdout",
     "output_type": "stream",
     "text": [
      "Epoch 97 | Avg Loss: 0.3247 | Avg Precision: 84.24%\n"
     ]
    },
    {
     "name": "stderr",
     "output_type": "stream",
     "text": [
      "Train: 100%|\u001B[32m████████████████████████\u001B[0m| 295/295 [00:54<00:00,  5.36batch/s, Loss: 0.0809 | Precision: 84.34%]\u001B[0m\n"
     ]
    },
    {
     "name": "stdout",
     "output_type": "stream",
     "text": [
      "Epoch 98 | Avg Loss: 0.3230 | Avg Precision: 84.26%\n"
     ]
    },
    {
     "name": "stderr",
     "output_type": "stream",
     "text": [
      "Train: 100%|\u001B[32m████████████████████████\u001B[0m| 295/295 [00:54<00:00,  5.39batch/s, Loss: 0.0827 | Precision: 84.42%]\u001B[0m\n"
     ]
    },
    {
     "name": "stdout",
     "output_type": "stream",
     "text": [
      "Epoch 99 | Avg Loss: 0.3223 | Avg Precision: 84.33%\n"
     ]
    },
    {
     "name": "stderr",
     "output_type": "stream",
     "text": [
      "Validate: 100%|\u001B[34m███████████████████████\u001B[0m| 74/74 [00:11<00:00,  6.58batch/s, Loss: 0.3234 | Precision: 84.10%]\u001B[0m\n"
     ]
    },
    {
     "name": "stdout",
     "output_type": "stream",
     "text": [
      "Epoch 99 | Avg Loss: 0.3271 | Avg Precision: 83.99% | Patience: 0\n"
     ]
    },
    {
     "name": "stderr",
     "output_type": "stream",
     "text": [
      "Train: 100%|\u001B[32m████████████████████████\u001B[0m| 295/295 [00:53<00:00,  5.48batch/s, Loss: 0.1190 | Precision: 84.47%]\u001B[0m"
     ]
    },
    {
     "name": "stdout",
     "output_type": "stream",
     "text": [
      "Epoch 100 | Avg Loss: 0.3217 | Avg Precision: 84.32%\n",
      "Training Complete - Best Validate Precision: 83.99%\n"
     ]
    },
    {
     "name": "stderr",
     "output_type": "stream",
     "text": [
      "\n"
     ]
    }
   ],
   "source": [
    "model = Rnn(8, 500, 1, 4)\n",
    "model = model.to(device)\n",
    "criterion = nn.CrossEntropyLoss()\n",
    "optimizer = optim.Adam(model.parameters(), lr=.01)\n",
    "scheduler = ReduceLROnPlateau(optimizer, 'max', factor=.9, patience=0, min_lr=.0001, verbose=True)\n",
    "\n",
    "model5 = train_validate(model, criterion, optimizer, scheduler)\n",
    "torch.save(model5.state_dict(), '.\\\\models\\\\downsample\\\\rnn\\\\model5.pth')"
   ]
  },
  {
   "cell_type": "markdown",
   "id": "ca955556-88e2-483b-8c71-1a7bf84e5ab1",
   "metadata": {
    "jp-MarkdownHeadingCollapsed": true
   },
   "source": [
    "## Predict | Submit"
   ]
  },
  {
   "cell_type": "code",
   "execution_count": null,
   "id": "0dd31dbb-51f4-4bf3-8b12-1670da24f472",
   "metadata": {},
   "outputs": [],
   "source": [
    "ypreds = predict(model1, test_loader)\n",
    "test_df['Prediction'] = ypreds"
   ]
  },
  {
   "cell_type": "code",
   "execution_count": null,
   "id": "6574c5c4-8eb8-4fac-a495-7a2433b82abe",
   "metadata": {},
   "outputs": [],
   "source": [
    "sub = pd.DataFrame()\n",
    "temp = test_df.copy()\n",
    "temp[\"Id\"] = temp.apply(lambda x : str(x.Id) + \"_\" + str(x.Time), axis = 1)\n",
    "temp['StartHesitation'] = np.where(temp['Prediction'] == 1, 1, 0)\n",
    "temp['Turn'] = np.where(temp['Prediction'] == 2, 1, 0)\n",
    "temp['Walking'] = np.where(temp['Prediction'] == 3, 1, 0)\n",
    "temp = temp[['Id', 'StartHesitation', 'Turn', 'Walking']]\n",
    "sub = pd.concat([sub, temp])"
   ]
  }
 ],
 "metadata": {
  "kernelspec": {
   "display_name": "Python 3 (ipykernel)",
   "language": "python",
   "name": "python3"
  },
  "language_info": {
   "codemirror_mode": {
    "name": "ipython",
    "version": 3
   },
   "file_extension": ".py",
   "mimetype": "text/x-python",
   "name": "python",
   "nbconvert_exporter": "python",
   "pygments_lexer": "ipython3",
   "version": "3.11.3"
  }
 },
 "nbformat": 4,
 "nbformat_minor": 5
}
