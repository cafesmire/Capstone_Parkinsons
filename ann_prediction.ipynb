{
 "cells": [
  {
   "cell_type": "markdown",
   "id": "8549e06d-8bf0-43af-817a-85109efa9387",
   "metadata": {},
   "source": [
    "### Imports/Device/Seed/Tensorboard"
   ]
  },
  {
   "cell_type": "code",
   "execution_count": 1,
   "id": "577c01d4-5699-4971-86fb-3ccbdea5acac",
   "metadata": {},
   "outputs": [
    {
     "name": "stderr",
     "output_type": "stream",
     "text": [
      "C:\\Users\\cafes\\Envs\\torch-dml\\lib\\site-packages\\tqdm\\auto.py:21: TqdmWarning: IProgress not found. Please update jupyter and ipywidgets. See https://ipywidgets.readthedocs.io/en/stable/user_install.html\n",
      "  from .autonotebook import tqdm as notebook_tqdm\n"
     ]
    }
   ],
   "source": [
    "import torch\n",
    "import torch.nn as nn\n",
    "import torch_directml\n",
    "import torchmetrics\n",
    "import torch.optim as optim\n",
    "import torchmetrics.functional as F\n",
    "import pandas as pd\n",
    "import numpy as np\n",
    "import matplotlib.pyplot as plt\n",
    "import random\n",
    "import os\n",
    "from tqdm import trange, tqdm\n",
    "from torch.utils.data import Dataset, DataLoader\n",
    "from torch.utils.tensorboard import SummaryWriter\n",
    "from torch.optim.lr_scheduler import ReduceLROnPlateau\n",
    "import warnings\n",
    "warnings.filterwarnings('ignore')\n",
    "#AMD GPU Acceleration\n",
    "device = torch_directml.device(torch_directml.default_device())"
   ]
  },
  {
   "cell_type": "code",
   "execution_count": 2,
   "id": "9a7b0884-d634-4d89-a748-4a342803c087",
   "metadata": {},
   "outputs": [],
   "source": [
    "def set_seed(seed=42):\n",
    "    random.seed(seed)\n",
    "    np.random.seed(seed)\n",
    "    os.environ[\"PYTHONHASHSEED\"] = str(seed)\n",
    "    torch.manual_seed(seed)\n",
    "    torch.cuda.manual_seed(seed)\n",
    "    torch.backends.cudnn.deterministic = True\n",
    "    torch.backends.cudnn.benchmark = False"
   ]
  },
  {
   "cell_type": "code",
   "execution_count": 3,
   "id": "11d54de0-a238-4ec2-8c51-0cf85be2e812",
   "metadata": {},
   "outputs": [],
   "source": [
    "set_seed()"
   ]
  },
  {
   "cell_type": "code",
   "execution_count": 4,
   "id": "7446b40d-f2e5-44df-b762-d342bff6c1ca",
   "metadata": {},
   "outputs": [],
   "source": [
    "train_writer = SummaryWriter('.\\\\runs\\\\train\\\\ann\\\\')\n",
    "val_writer = SummaryWriter('.\\\\runs\\\\validate\\\\ann\\\\')"
   ]
  },
  {
   "cell_type": "markdown",
   "id": "75d39f13-3021-4826-86b2-a4581b868ed7",
   "metadata": {},
   "source": [
    "### Choose One"
   ]
  },
  {
   "cell_type": "markdown",
   "id": "de83f8fb-fd32-464f-a6f8-f486c51b3ff9",
   "metadata": {},
   "source": [
    "#### Read in train/test"
   ]
  },
  {
   "cell_type": "code",
   "execution_count": 10,
   "id": "f02221c6-10b9-44d6-8f4e-8c36191a573d",
   "metadata": {},
   "outputs": [
    {
     "data": {
      "text/html": [
       "<div>\n",
       "<style scoped>\n",
       "    .dataframe tbody tr th:only-of-type {\n",
       "        vertical-align: middle;\n",
       "    }\n",
       "\n",
       "    .dataframe tbody tr th {\n",
       "        vertical-align: top;\n",
       "    }\n",
       "\n",
       "    .dataframe thead th {\n",
       "        text-align: right;\n",
       "    }\n",
       "</style>\n",
       "<table border=\"1\" class=\"dataframe\">\n",
       "  <thead>\n",
       "    <tr style=\"text-align: right;\">\n",
       "      <th></th>\n",
       "      <th>AccV</th>\n",
       "      <th>AccML</th>\n",
       "      <th>AccAP</th>\n",
       "      <th>Medication</th>\n",
       "      <th>Age</th>\n",
       "      <th>Sex</th>\n",
       "      <th>YearsSinceDx</th>\n",
       "      <th>Test_Visit</th>\n",
       "      <th>Event</th>\n",
       "    </tr>\n",
       "    <tr>\n",
       "      <th>Time</th>\n",
       "      <th></th>\n",
       "      <th></th>\n",
       "      <th></th>\n",
       "      <th></th>\n",
       "      <th></th>\n",
       "      <th></th>\n",
       "      <th></th>\n",
       "      <th></th>\n",
       "      <th></th>\n",
       "    </tr>\n",
       "  </thead>\n",
       "  <tbody>\n",
       "    <tr>\n",
       "      <th>0</th>\n",
       "      <td>-0.416921</td>\n",
       "      <td>0.680190</td>\n",
       "      <td>-0.585780</td>\n",
       "      <td>0.866530</td>\n",
       "      <td>-0.110647</td>\n",
       "      <td>-1.719166</td>\n",
       "      <td>-0.182777</td>\n",
       "      <td>0.648921</td>\n",
       "      <td>0</td>\n",
       "    </tr>\n",
       "    <tr>\n",
       "      <th>1</th>\n",
       "      <td>-0.420816</td>\n",
       "      <td>0.678475</td>\n",
       "      <td>-0.578919</td>\n",
       "      <td>0.866530</td>\n",
       "      <td>-0.110647</td>\n",
       "      <td>-1.719166</td>\n",
       "      <td>-0.182777</td>\n",
       "      <td>0.648921</td>\n",
       "      <td>0</td>\n",
       "    </tr>\n",
       "    <tr>\n",
       "      <th>2</th>\n",
       "      <td>-0.419886</td>\n",
       "      <td>0.676579</td>\n",
       "      <td>-0.580286</td>\n",
       "      <td>0.866530</td>\n",
       "      <td>-0.110647</td>\n",
       "      <td>-1.719166</td>\n",
       "      <td>-0.182777</td>\n",
       "      <td>0.648921</td>\n",
       "      <td>0</td>\n",
       "    </tr>\n",
       "    <tr>\n",
       "      <th>3</th>\n",
       "      <td>-0.413896</td>\n",
       "      <td>0.674399</td>\n",
       "      <td>-0.594393</td>\n",
       "      <td>0.866530</td>\n",
       "      <td>-0.110647</td>\n",
       "      <td>-1.719166</td>\n",
       "      <td>-0.182777</td>\n",
       "      <td>0.648921</td>\n",
       "      <td>0</td>\n",
       "    </tr>\n",
       "    <tr>\n",
       "      <th>4</th>\n",
       "      <td>-0.403594</td>\n",
       "      <td>0.674941</td>\n",
       "      <td>-0.607099</td>\n",
       "      <td>0.866530</td>\n",
       "      <td>-0.110647</td>\n",
       "      <td>-1.719166</td>\n",
       "      <td>-0.182777</td>\n",
       "      <td>0.648921</td>\n",
       "      <td>0</td>\n",
       "    </tr>\n",
       "    <tr>\n",
       "      <th>...</th>\n",
       "      <td>...</td>\n",
       "      <td>...</td>\n",
       "      <td>...</td>\n",
       "      <td>...</td>\n",
       "      <td>...</td>\n",
       "      <td>...</td>\n",
       "      <td>...</td>\n",
       "      <td>...</td>\n",
       "      <td>...</td>\n",
       "    </tr>\n",
       "    <tr>\n",
       "      <th>136</th>\n",
       "      <td>-0.230050</td>\n",
       "      <td>0.202884</td>\n",
       "      <td>-1.195147</td>\n",
       "      <td>-1.154029</td>\n",
       "      <td>-0.487734</td>\n",
       "      <td>0.581678</td>\n",
       "      <td>1.891825</td>\n",
       "      <td>-0.684845</td>\n",
       "      <td>0</td>\n",
       "    </tr>\n",
       "    <tr>\n",
       "      <th>137</th>\n",
       "      <td>-0.219754</td>\n",
       "      <td>0.198519</td>\n",
       "      <td>-1.206719</td>\n",
       "      <td>-1.154029</td>\n",
       "      <td>-0.487734</td>\n",
       "      <td>0.581678</td>\n",
       "      <td>1.891825</td>\n",
       "      <td>-0.684845</td>\n",
       "      <td>0</td>\n",
       "    </tr>\n",
       "    <tr>\n",
       "      <th>138</th>\n",
       "      <td>-0.210724</td>\n",
       "      <td>0.204065</td>\n",
       "      <td>-1.211322</td>\n",
       "      <td>-1.154029</td>\n",
       "      <td>-0.487734</td>\n",
       "      <td>0.581678</td>\n",
       "      <td>1.891825</td>\n",
       "      <td>-0.684845</td>\n",
       "      <td>0</td>\n",
       "    </tr>\n",
       "    <tr>\n",
       "      <th>139</th>\n",
       "      <td>-0.209810</td>\n",
       "      <td>0.204216</td>\n",
       "      <td>-1.210355</td>\n",
       "      <td>-1.154029</td>\n",
       "      <td>-0.487734</td>\n",
       "      <td>0.581678</td>\n",
       "      <td>1.891825</td>\n",
       "      <td>-0.684845</td>\n",
       "      <td>0</td>\n",
       "    </tr>\n",
       "    <tr>\n",
       "      <th>140</th>\n",
       "      <td>-0.214528</td>\n",
       "      <td>0.211990</td>\n",
       "      <td>-1.207244</td>\n",
       "      <td>-1.154029</td>\n",
       "      <td>-0.487734</td>\n",
       "      <td>0.581678</td>\n",
       "      <td>1.891825</td>\n",
       "      <td>-0.684845</td>\n",
       "      <td>0</td>\n",
       "    </tr>\n",
       "  </tbody>\n",
       "</table>\n",
       "<p>376345 rows × 9 columns</p>\n",
       "</div>"
      ],
      "text/plain": [
       "          AccV     AccML     AccAP  Medication       Age       Sex  \\\n",
       "Time                                                                 \n",
       "0    -0.416921  0.680190 -0.585780    0.866530 -0.110647 -1.719166   \n",
       "1    -0.420816  0.678475 -0.578919    0.866530 -0.110647 -1.719166   \n",
       "2    -0.419886  0.676579 -0.580286    0.866530 -0.110647 -1.719166   \n",
       "3    -0.413896  0.674399 -0.594393    0.866530 -0.110647 -1.719166   \n",
       "4    -0.403594  0.674941 -0.607099    0.866530 -0.110647 -1.719166   \n",
       "...        ...       ...       ...         ...       ...       ...   \n",
       "136  -0.230050  0.202884 -1.195147   -1.154029 -0.487734  0.581678   \n",
       "137  -0.219754  0.198519 -1.206719   -1.154029 -0.487734  0.581678   \n",
       "138  -0.210724  0.204065 -1.211322   -1.154029 -0.487734  0.581678   \n",
       "139  -0.209810  0.204216 -1.210355   -1.154029 -0.487734  0.581678   \n",
       "140  -0.214528  0.211990 -1.207244   -1.154029 -0.487734  0.581678   \n",
       "\n",
       "      YearsSinceDx  Test_Visit  Event  \n",
       "Time                                   \n",
       "0        -0.182777    0.648921      0  \n",
       "1        -0.182777    0.648921      0  \n",
       "2        -0.182777    0.648921      0  \n",
       "3        -0.182777    0.648921      0  \n",
       "4        -0.182777    0.648921      0  \n",
       "...            ...         ...    ...  \n",
       "136       1.891825   -0.684845      0  \n",
       "137       1.891825   -0.684845      0  \n",
       "138       1.891825   -0.684845      0  \n",
       "139       1.891825   -0.684845      0  \n",
       "140       1.891825   -0.684845      0  \n",
       "\n",
       "[376345 rows x 9 columns]"
      ]
     },
     "execution_count": 10,
     "metadata": {},
     "output_type": "execute_result"
    }
   ],
   "source": [
    "train_df = pd.read_csv('train.csv', index_col='Time')\n",
    "test_df = pd.read_csv('test.csv', index_col='Time')\n",
    "train_df"
   ]
  },
  {
   "cell_type": "code",
   "execution_count": 11,
   "id": "486d7eea-cfc6-4809-89c1-28ddde088fe7",
   "metadata": {},
   "outputs": [
    {
     "data": {
      "text/html": [
       "<div>\n",
       "<style scoped>\n",
       "    .dataframe tbody tr th:only-of-type {\n",
       "        vertical-align: middle;\n",
       "    }\n",
       "\n",
       "    .dataframe tbody tr th {\n",
       "        vertical-align: top;\n",
       "    }\n",
       "\n",
       "    .dataframe thead th {\n",
       "        text-align: right;\n",
       "    }\n",
       "</style>\n",
       "<table border=\"1\" class=\"dataframe\">\n",
       "  <thead>\n",
       "    <tr style=\"text-align: right;\">\n",
       "      <th></th>\n",
       "      <th>AccV</th>\n",
       "      <th>AccML</th>\n",
       "      <th>AccAP</th>\n",
       "      <th>Medication</th>\n",
       "      <th>Age</th>\n",
       "      <th>Sex</th>\n",
       "      <th>YearsSinceDx</th>\n",
       "      <th>Test_Visit</th>\n",
       "    </tr>\n",
       "    <tr>\n",
       "      <th>Time</th>\n",
       "      <th></th>\n",
       "      <th></th>\n",
       "      <th></th>\n",
       "      <th></th>\n",
       "      <th></th>\n",
       "      <th></th>\n",
       "      <th></th>\n",
       "      <th></th>\n",
       "    </tr>\n",
       "  </thead>\n",
       "  <tbody>\n",
       "    <tr>\n",
       "      <th>0</th>\n",
       "      <td>-9.541841</td>\n",
       "      <td>0.572790</td>\n",
       "      <td>-1.409475</td>\n",
       "      <td>0.86653</td>\n",
       "      <td>-0.110647</td>\n",
       "      <td>-1.719166</td>\n",
       "      <td>-0.182777</td>\n",
       "      <td>0.648921</td>\n",
       "    </tr>\n",
       "    <tr>\n",
       "      <th>1</th>\n",
       "      <td>-9.544045</td>\n",
       "      <td>0.570599</td>\n",
       "      <td>-1.436634</td>\n",
       "      <td>0.86653</td>\n",
       "      <td>-0.110647</td>\n",
       "      <td>-1.719166</td>\n",
       "      <td>-0.182777</td>\n",
       "      <td>0.648921</td>\n",
       "    </tr>\n",
       "    <tr>\n",
       "      <th>2</th>\n",
       "      <td>-9.537242</td>\n",
       "      <td>0.568221</td>\n",
       "      <td>-1.425318</td>\n",
       "      <td>0.86653</td>\n",
       "      <td>-0.110647</td>\n",
       "      <td>-1.719166</td>\n",
       "      <td>-0.182777</td>\n",
       "      <td>0.648921</td>\n",
       "    </tr>\n",
       "    <tr>\n",
       "      <th>3</th>\n",
       "      <td>-9.539138</td>\n",
       "      <td>0.570690</td>\n",
       "      <td>-1.411444</td>\n",
       "      <td>0.86653</td>\n",
       "      <td>-0.110647</td>\n",
       "      <td>-1.719166</td>\n",
       "      <td>-0.182777</td>\n",
       "      <td>0.648921</td>\n",
       "    </tr>\n",
       "    <tr>\n",
       "      <th>4</th>\n",
       "      <td>-9.548736</td>\n",
       "      <td>0.568310</td>\n",
       "      <td>-1.425458</td>\n",
       "      <td>0.86653</td>\n",
       "      <td>-0.110647</td>\n",
       "      <td>-1.719166</td>\n",
       "      <td>-0.182777</td>\n",
       "      <td>0.648921</td>\n",
       "    </tr>\n",
       "    <tr>\n",
       "      <th>...</th>\n",
       "      <td>...</td>\n",
       "      <td>...</td>\n",
       "      <td>...</td>\n",
       "      <td>...</td>\n",
       "      <td>...</td>\n",
       "      <td>...</td>\n",
       "      <td>...</td>\n",
       "      <td>...</td>\n",
       "    </tr>\n",
       "    <tr>\n",
       "      <th>281683</th>\n",
       "      <td>-0.896122</td>\n",
       "      <td>-0.228349</td>\n",
       "      <td>0.397413</td>\n",
       "      <td>0.86653</td>\n",
       "      <td>1.272005</td>\n",
       "      <td>-1.719166</td>\n",
       "      <td>-0.342362</td>\n",
       "      <td>-0.792988</td>\n",
       "    </tr>\n",
       "    <tr>\n",
       "      <th>281684</th>\n",
       "      <td>-0.898800</td>\n",
       "      <td>-0.228733</td>\n",
       "      <td>0.398382</td>\n",
       "      <td>0.86653</td>\n",
       "      <td>1.272005</td>\n",
       "      <td>-1.719166</td>\n",
       "      <td>-0.342362</td>\n",
       "      <td>-0.792988</td>\n",
       "    </tr>\n",
       "    <tr>\n",
       "      <th>281685</th>\n",
       "      <td>-0.898516</td>\n",
       "      <td>-0.227567</td>\n",
       "      <td>0.400168</td>\n",
       "      <td>0.86653</td>\n",
       "      <td>1.272005</td>\n",
       "      <td>-1.719166</td>\n",
       "      <td>-0.342362</td>\n",
       "      <td>-0.792988</td>\n",
       "    </tr>\n",
       "    <tr>\n",
       "      <th>281686</th>\n",
       "      <td>-0.896400</td>\n",
       "      <td>-0.228110</td>\n",
       "      <td>0.399377</td>\n",
       "      <td>0.86653</td>\n",
       "      <td>1.272005</td>\n",
       "      <td>-1.719166</td>\n",
       "      <td>-0.342362</td>\n",
       "      <td>-0.792988</td>\n",
       "    </tr>\n",
       "    <tr>\n",
       "      <th>281687</th>\n",
       "      <td>-0.897114</td>\n",
       "      <td>-0.228043</td>\n",
       "      <td>0.399005</td>\n",
       "      <td>0.86653</td>\n",
       "      <td>1.272005</td>\n",
       "      <td>-1.719166</td>\n",
       "      <td>-0.342362</td>\n",
       "      <td>-0.792988</td>\n",
       "    </tr>\n",
       "  </tbody>\n",
       "</table>\n",
       "<p>286370 rows × 8 columns</p>\n",
       "</div>"
      ],
      "text/plain": [
       "            AccV     AccML     AccAP  Medication       Age       Sex  \\\n",
       "Time                                                                   \n",
       "0      -9.541841  0.572790 -1.409475     0.86653 -0.110647 -1.719166   \n",
       "1      -9.544045  0.570599 -1.436634     0.86653 -0.110647 -1.719166   \n",
       "2      -9.537242  0.568221 -1.425318     0.86653 -0.110647 -1.719166   \n",
       "3      -9.539138  0.570690 -1.411444     0.86653 -0.110647 -1.719166   \n",
       "4      -9.548736  0.568310 -1.425458     0.86653 -0.110647 -1.719166   \n",
       "...          ...       ...       ...         ...       ...       ...   \n",
       "281683 -0.896122 -0.228349  0.397413     0.86653  1.272005 -1.719166   \n",
       "281684 -0.898800 -0.228733  0.398382     0.86653  1.272005 -1.719166   \n",
       "281685 -0.898516 -0.227567  0.400168     0.86653  1.272005 -1.719166   \n",
       "281686 -0.896400 -0.228110  0.399377     0.86653  1.272005 -1.719166   \n",
       "281687 -0.897114 -0.228043  0.399005     0.86653  1.272005 -1.719166   \n",
       "\n",
       "        YearsSinceDx  Test_Visit  \n",
       "Time                              \n",
       "0          -0.182777    0.648921  \n",
       "1          -0.182777    0.648921  \n",
       "2          -0.182777    0.648921  \n",
       "3          -0.182777    0.648921  \n",
       "4          -0.182777    0.648921  \n",
       "...              ...         ...  \n",
       "281683     -0.342362   -0.792988  \n",
       "281684     -0.342362   -0.792988  \n",
       "281685     -0.342362   -0.792988  \n",
       "281686     -0.342362   -0.792988  \n",
       "281687     -0.342362   -0.792988  \n",
       "\n",
       "[286370 rows x 8 columns]"
      ]
     },
     "execution_count": 11,
     "metadata": {},
     "output_type": "execute_result"
    }
   ],
   "source": [
    "test_df"
   ]
  },
  {
   "cell_type": "code",
   "execution_count": 5,
   "id": "bf8dd519-54b8-4f71-94a1-6fa0a3235090",
   "metadata": {},
   "outputs": [],
   "source": [
    "df = pd.read_csv('downsample30.csv')\n",
    "test_df = pd.read_csv('test_downsample.csv')"
   ]
  },
  {
   "cell_type": "code",
   "execution_count": 6,
   "id": "71f5612a-ecf8-4523-9500-5bf96117614e",
   "metadata": {},
   "outputs": [
    {
     "data": {
      "text/html": [
       "<div>\n",
       "<style scoped>\n",
       "    .dataframe tbody tr th:only-of-type {\n",
       "        vertical-align: middle;\n",
       "    }\n",
       "\n",
       "    .dataframe tbody tr th {\n",
       "        vertical-align: top;\n",
       "    }\n",
       "\n",
       "    .dataframe thead th {\n",
       "        text-align: right;\n",
       "    }\n",
       "</style>\n",
       "<table border=\"1\" class=\"dataframe\">\n",
       "  <thead>\n",
       "    <tr style=\"text-align: right;\">\n",
       "      <th></th>\n",
       "      <th>Id</th>\n",
       "      <th>Time</th>\n",
       "      <th>AccV</th>\n",
       "      <th>AccML</th>\n",
       "      <th>AccAP</th>\n",
       "      <th>Subject</th>\n",
       "      <th>Visit</th>\n",
       "      <th>Test</th>\n",
       "      <th>Medication</th>\n",
       "      <th>Age</th>\n",
       "      <th>Sex</th>\n",
       "      <th>YearsSinceDx</th>\n",
       "      <th>Event</th>\n",
       "    </tr>\n",
       "  </thead>\n",
       "  <tbody>\n",
       "    <tr>\n",
       "      <th>0</th>\n",
       "      <td>003f117e14</td>\n",
       "      <td>0</td>\n",
       "      <td>-0.420712</td>\n",
       "      <td>0.673434</td>\n",
       "      <td>-0.591752</td>\n",
       "      <td>4dc2f8</td>\n",
       "      <td>3</td>\n",
       "      <td>2.0</td>\n",
       "      <td>1</td>\n",
       "      <td>68</td>\n",
       "      <td>0</td>\n",
       "      <td>9.0</td>\n",
       "      <td>0</td>\n",
       "    </tr>\n",
       "    <tr>\n",
       "      <th>1</th>\n",
       "      <td>003f117e14</td>\n",
       "      <td>1</td>\n",
       "      <td>-0.424601</td>\n",
       "      <td>0.671724</td>\n",
       "      <td>-0.584907</td>\n",
       "      <td>4dc2f8</td>\n",
       "      <td>3</td>\n",
       "      <td>2.0</td>\n",
       "      <td>1</td>\n",
       "      <td>68</td>\n",
       "      <td>0</td>\n",
       "      <td>9.0</td>\n",
       "      <td>0</td>\n",
       "    </tr>\n",
       "    <tr>\n",
       "      <th>2</th>\n",
       "      <td>003f117e14</td>\n",
       "      <td>2</td>\n",
       "      <td>-0.423672</td>\n",
       "      <td>0.669832</td>\n",
       "      <td>-0.586271</td>\n",
       "      <td>4dc2f8</td>\n",
       "      <td>3</td>\n",
       "      <td>2.0</td>\n",
       "      <td>1</td>\n",
       "      <td>68</td>\n",
       "      <td>0</td>\n",
       "      <td>9.0</td>\n",
       "      <td>0</td>\n",
       "    </tr>\n",
       "    <tr>\n",
       "      <th>3</th>\n",
       "      <td>003f117e14</td>\n",
       "      <td>3</td>\n",
       "      <td>-0.417690</td>\n",
       "      <td>0.667659</td>\n",
       "      <td>-0.600345</td>\n",
       "      <td>4dc2f8</td>\n",
       "      <td>3</td>\n",
       "      <td>2.0</td>\n",
       "      <td>1</td>\n",
       "      <td>68</td>\n",
       "      <td>0</td>\n",
       "      <td>9.0</td>\n",
       "      <td>0</td>\n",
       "    </tr>\n",
       "    <tr>\n",
       "      <th>4</th>\n",
       "      <td>003f117e14</td>\n",
       "      <td>4</td>\n",
       "      <td>-0.407401</td>\n",
       "      <td>0.668199</td>\n",
       "      <td>-0.613021</td>\n",
       "      <td>4dc2f8</td>\n",
       "      <td>3</td>\n",
       "      <td>2.0</td>\n",
       "      <td>1</td>\n",
       "      <td>68</td>\n",
       "      <td>0</td>\n",
       "      <td>9.0</td>\n",
       "      <td>0</td>\n",
       "    </tr>\n",
       "    <tr>\n",
       "      <th>...</th>\n",
       "      <td>...</td>\n",
       "      <td>...</td>\n",
       "      <td>...</td>\n",
       "      <td>...</td>\n",
       "      <td>...</td>\n",
       "      <td>...</td>\n",
       "      <td>...</td>\n",
       "      <td>...</td>\n",
       "      <td>...</td>\n",
       "      <td>...</td>\n",
       "      <td>...</td>\n",
       "      <td>...</td>\n",
       "      <td>...</td>\n",
       "    </tr>\n",
       "    <tr>\n",
       "      <th>376340</th>\n",
       "      <td>ffda8fadfd</td>\n",
       "      <td>136</td>\n",
       "      <td>-0.234080</td>\n",
       "      <td>0.197408</td>\n",
       "      <td>-1.199697</td>\n",
       "      <td>7fcee9</td>\n",
       "      <td>20</td>\n",
       "      <td>1.0</td>\n",
       "      <td>0</td>\n",
       "      <td>65</td>\n",
       "      <td>1</td>\n",
       "      <td>22.0</td>\n",
       "      <td>0</td>\n",
       "    </tr>\n",
       "    <tr>\n",
       "      <th>376341</th>\n",
       "      <td>ffda8fadfd</td>\n",
       "      <td>137</td>\n",
       "      <td>-0.223797</td>\n",
       "      <td>0.193055</td>\n",
       "      <td>-1.211242</td>\n",
       "      <td>7fcee9</td>\n",
       "      <td>20</td>\n",
       "      <td>1.0</td>\n",
       "      <td>0</td>\n",
       "      <td>65</td>\n",
       "      <td>1</td>\n",
       "      <td>22.0</td>\n",
       "      <td>0</td>\n",
       "    </tr>\n",
       "    <tr>\n",
       "      <th>376342</th>\n",
       "      <td>ffda8fadfd</td>\n",
       "      <td>138</td>\n",
       "      <td>-0.214779</td>\n",
       "      <td>0.198586</td>\n",
       "      <td>-1.215835</td>\n",
       "      <td>7fcee9</td>\n",
       "      <td>20</td>\n",
       "      <td>1.0</td>\n",
       "      <td>0</td>\n",
       "      <td>65</td>\n",
       "      <td>1</td>\n",
       "      <td>22.0</td>\n",
       "      <td>0</td>\n",
       "    </tr>\n",
       "    <tr>\n",
       "      <th>376343</th>\n",
       "      <td>ffda8fadfd</td>\n",
       "      <td>139</td>\n",
       "      <td>-0.213866</td>\n",
       "      <td>0.198736</td>\n",
       "      <td>-1.214870</td>\n",
       "      <td>7fcee9</td>\n",
       "      <td>20</td>\n",
       "      <td>1.0</td>\n",
       "      <td>0</td>\n",
       "      <td>65</td>\n",
       "      <td>1</td>\n",
       "      <td>22.0</td>\n",
       "      <td>0</td>\n",
       "    </tr>\n",
       "    <tr>\n",
       "      <th>376344</th>\n",
       "      <td>ffda8fadfd</td>\n",
       "      <td>140</td>\n",
       "      <td>-0.218578</td>\n",
       "      <td>0.206489</td>\n",
       "      <td>-1.211766</td>\n",
       "      <td>7fcee9</td>\n",
       "      <td>20</td>\n",
       "      <td>1.0</td>\n",
       "      <td>0</td>\n",
       "      <td>65</td>\n",
       "      <td>1</td>\n",
       "      <td>22.0</td>\n",
       "      <td>0</td>\n",
       "    </tr>\n",
       "  </tbody>\n",
       "</table>\n",
       "<p>376345 rows × 13 columns</p>\n",
       "</div>"
      ],
      "text/plain": [
       "                Id  Time      AccV     AccML     AccAP Subject  Visit  Test  \\\n",
       "0       003f117e14     0 -0.420712  0.673434 -0.591752  4dc2f8      3   2.0   \n",
       "1       003f117e14     1 -0.424601  0.671724 -0.584907  4dc2f8      3   2.0   \n",
       "2       003f117e14     2 -0.423672  0.669832 -0.586271  4dc2f8      3   2.0   \n",
       "3       003f117e14     3 -0.417690  0.667659 -0.600345  4dc2f8      3   2.0   \n",
       "4       003f117e14     4 -0.407401  0.668199 -0.613021  4dc2f8      3   2.0   \n",
       "...            ...   ...       ...       ...       ...     ...    ...   ...   \n",
       "376340  ffda8fadfd   136 -0.234080  0.197408 -1.199697  7fcee9     20   1.0   \n",
       "376341  ffda8fadfd   137 -0.223797  0.193055 -1.211242  7fcee9     20   1.0   \n",
       "376342  ffda8fadfd   138 -0.214779  0.198586 -1.215835  7fcee9     20   1.0   \n",
       "376343  ffda8fadfd   139 -0.213866  0.198736 -1.214870  7fcee9     20   1.0   \n",
       "376344  ffda8fadfd   140 -0.218578  0.206489 -1.211766  7fcee9     20   1.0   \n",
       "\n",
       "        Medication  Age  Sex  YearsSinceDx  Event  \n",
       "0                1   68    0           9.0      0  \n",
       "1                1   68    0           9.0      0  \n",
       "2                1   68    0           9.0      0  \n",
       "3                1   68    0           9.0      0  \n",
       "4                1   68    0           9.0      0  \n",
       "...            ...  ...  ...           ...    ...  \n",
       "376340           0   65    1          22.0      0  \n",
       "376341           0   65    1          22.0      0  \n",
       "376342           0   65    1          22.0      0  \n",
       "376343           0   65    1          22.0      0  \n",
       "376344           0   65    1          22.0      0  \n",
       "\n",
       "[376345 rows x 13 columns]"
      ]
     },
     "execution_count": 6,
     "metadata": {},
     "output_type": "execute_result"
    }
   ],
   "source": [
    "df"
   ]
  },
  {
   "cell_type": "code",
   "execution_count": 7,
   "id": "ad1e00dd-459a-484d-afaf-4e33b3657e2e",
   "metadata": {},
   "outputs": [
    {
     "data": {
      "text/html": [
       "<div>\n",
       "<style scoped>\n",
       "    .dataframe tbody tr th:only-of-type {\n",
       "        vertical-align: middle;\n",
       "    }\n",
       "\n",
       "    .dataframe tbody tr th {\n",
       "        vertical-align: top;\n",
       "    }\n",
       "\n",
       "    .dataframe thead th {\n",
       "        text-align: right;\n",
       "    }\n",
       "</style>\n",
       "<table border=\"1\" class=\"dataframe\">\n",
       "  <thead>\n",
       "    <tr style=\"text-align: right;\">\n",
       "      <th></th>\n",
       "      <th>AccV</th>\n",
       "      <th>AccML</th>\n",
       "      <th>AccAP</th>\n",
       "      <th>Visit</th>\n",
       "      <th>Test</th>\n",
       "      <th>Medication</th>\n",
       "      <th>Age</th>\n",
       "      <th>Sex</th>\n",
       "      <th>YearsSinceDx</th>\n",
       "      <th>Event</th>\n",
       "    </tr>\n",
       "    <tr>\n",
       "      <th>Time</th>\n",
       "      <th></th>\n",
       "      <th></th>\n",
       "      <th></th>\n",
       "      <th></th>\n",
       "      <th></th>\n",
       "      <th></th>\n",
       "      <th></th>\n",
       "      <th></th>\n",
       "      <th></th>\n",
       "      <th></th>\n",
       "    </tr>\n",
       "  </thead>\n",
       "  <tbody>\n",
       "    <tr>\n",
       "      <th>0</th>\n",
       "      <td>-0.420712</td>\n",
       "      <td>0.673434</td>\n",
       "      <td>-0.591752</td>\n",
       "      <td>3</td>\n",
       "      <td>2.0</td>\n",
       "      <td>1</td>\n",
       "      <td>68</td>\n",
       "      <td>0</td>\n",
       "      <td>9.0</td>\n",
       "      <td>0</td>\n",
       "    </tr>\n",
       "    <tr>\n",
       "      <th>1</th>\n",
       "      <td>-0.424601</td>\n",
       "      <td>0.671724</td>\n",
       "      <td>-0.584907</td>\n",
       "      <td>3</td>\n",
       "      <td>2.0</td>\n",
       "      <td>1</td>\n",
       "      <td>68</td>\n",
       "      <td>0</td>\n",
       "      <td>9.0</td>\n",
       "      <td>0</td>\n",
       "    </tr>\n",
       "    <tr>\n",
       "      <th>2</th>\n",
       "      <td>-0.423672</td>\n",
       "      <td>0.669832</td>\n",
       "      <td>-0.586271</td>\n",
       "      <td>3</td>\n",
       "      <td>2.0</td>\n",
       "      <td>1</td>\n",
       "      <td>68</td>\n",
       "      <td>0</td>\n",
       "      <td>9.0</td>\n",
       "      <td>0</td>\n",
       "    </tr>\n",
       "    <tr>\n",
       "      <th>3</th>\n",
       "      <td>-0.417690</td>\n",
       "      <td>0.667659</td>\n",
       "      <td>-0.600345</td>\n",
       "      <td>3</td>\n",
       "      <td>2.0</td>\n",
       "      <td>1</td>\n",
       "      <td>68</td>\n",
       "      <td>0</td>\n",
       "      <td>9.0</td>\n",
       "      <td>0</td>\n",
       "    </tr>\n",
       "    <tr>\n",
       "      <th>4</th>\n",
       "      <td>-0.407401</td>\n",
       "      <td>0.668199</td>\n",
       "      <td>-0.613021</td>\n",
       "      <td>3</td>\n",
       "      <td>2.0</td>\n",
       "      <td>1</td>\n",
       "      <td>68</td>\n",
       "      <td>0</td>\n",
       "      <td>9.0</td>\n",
       "      <td>0</td>\n",
       "    </tr>\n",
       "    <tr>\n",
       "      <th>...</th>\n",
       "      <td>...</td>\n",
       "      <td>...</td>\n",
       "      <td>...</td>\n",
       "      <td>...</td>\n",
       "      <td>...</td>\n",
       "      <td>...</td>\n",
       "      <td>...</td>\n",
       "      <td>...</td>\n",
       "      <td>...</td>\n",
       "      <td>...</td>\n",
       "    </tr>\n",
       "    <tr>\n",
       "      <th>136</th>\n",
       "      <td>-0.234080</td>\n",
       "      <td>0.197408</td>\n",
       "      <td>-1.199697</td>\n",
       "      <td>20</td>\n",
       "      <td>1.0</td>\n",
       "      <td>0</td>\n",
       "      <td>65</td>\n",
       "      <td>1</td>\n",
       "      <td>22.0</td>\n",
       "      <td>0</td>\n",
       "    </tr>\n",
       "    <tr>\n",
       "      <th>137</th>\n",
       "      <td>-0.223797</td>\n",
       "      <td>0.193055</td>\n",
       "      <td>-1.211242</td>\n",
       "      <td>20</td>\n",
       "      <td>1.0</td>\n",
       "      <td>0</td>\n",
       "      <td>65</td>\n",
       "      <td>1</td>\n",
       "      <td>22.0</td>\n",
       "      <td>0</td>\n",
       "    </tr>\n",
       "    <tr>\n",
       "      <th>138</th>\n",
       "      <td>-0.214779</td>\n",
       "      <td>0.198586</td>\n",
       "      <td>-1.215835</td>\n",
       "      <td>20</td>\n",
       "      <td>1.0</td>\n",
       "      <td>0</td>\n",
       "      <td>65</td>\n",
       "      <td>1</td>\n",
       "      <td>22.0</td>\n",
       "      <td>0</td>\n",
       "    </tr>\n",
       "    <tr>\n",
       "      <th>139</th>\n",
       "      <td>-0.213866</td>\n",
       "      <td>0.198736</td>\n",
       "      <td>-1.214870</td>\n",
       "      <td>20</td>\n",
       "      <td>1.0</td>\n",
       "      <td>0</td>\n",
       "      <td>65</td>\n",
       "      <td>1</td>\n",
       "      <td>22.0</td>\n",
       "      <td>0</td>\n",
       "    </tr>\n",
       "    <tr>\n",
       "      <th>140</th>\n",
       "      <td>-0.218578</td>\n",
       "      <td>0.206489</td>\n",
       "      <td>-1.211766</td>\n",
       "      <td>20</td>\n",
       "      <td>1.0</td>\n",
       "      <td>0</td>\n",
       "      <td>65</td>\n",
       "      <td>1</td>\n",
       "      <td>22.0</td>\n",
       "      <td>0</td>\n",
       "    </tr>\n",
       "  </tbody>\n",
       "</table>\n",
       "<p>376345 rows × 10 columns</p>\n",
       "</div>"
      ],
      "text/plain": [
       "          AccV     AccML     AccAP  Visit  Test  Medication  Age  Sex  \\\n",
       "Time                                                                    \n",
       "0    -0.420712  0.673434 -0.591752      3   2.0           1   68    0   \n",
       "1    -0.424601  0.671724 -0.584907      3   2.0           1   68    0   \n",
       "2    -0.423672  0.669832 -0.586271      3   2.0           1   68    0   \n",
       "3    -0.417690  0.667659 -0.600345      3   2.0           1   68    0   \n",
       "4    -0.407401  0.668199 -0.613021      3   2.0           1   68    0   \n",
       "...        ...       ...       ...    ...   ...         ...  ...  ...   \n",
       "136  -0.234080  0.197408 -1.199697     20   1.0           0   65    1   \n",
       "137  -0.223797  0.193055 -1.211242     20   1.0           0   65    1   \n",
       "138  -0.214779  0.198586 -1.215835     20   1.0           0   65    1   \n",
       "139  -0.213866  0.198736 -1.214870     20   1.0           0   65    1   \n",
       "140  -0.218578  0.206489 -1.211766     20   1.0           0   65    1   \n",
       "\n",
       "      YearsSinceDx  Event  \n",
       "Time                       \n",
       "0              9.0      0  \n",
       "1              9.0      0  \n",
       "2              9.0      0  \n",
       "3              9.0      0  \n",
       "4              9.0      0  \n",
       "...            ...    ...  \n",
       "136           22.0      0  \n",
       "137           22.0      0  \n",
       "138           22.0      0  \n",
       "139           22.0      0  \n",
       "140           22.0      0  \n",
       "\n",
       "[376345 rows x 10 columns]"
      ]
     },
     "execution_count": 7,
     "metadata": {},
     "output_type": "execute_result"
    }
   ],
   "source": [
    "train_df = df.drop(columns=['Id', 'Subject']).set_index('Time')\n",
    "train_df"
   ]
  },
  {
   "cell_type": "code",
   "execution_count": 8,
   "id": "9c3a67dd-2e40-4a05-a164-37e59c489700",
   "metadata": {},
   "outputs": [
    {
     "data": {
      "text/html": [
       "<div>\n",
       "<style scoped>\n",
       "    .dataframe tbody tr th:only-of-type {\n",
       "        vertical-align: middle;\n",
       "    }\n",
       "\n",
       "    .dataframe tbody tr th {\n",
       "        vertical-align: top;\n",
       "    }\n",
       "\n",
       "    .dataframe thead th {\n",
       "        text-align: right;\n",
       "    }\n",
       "</style>\n",
       "<table border=\"1\" class=\"dataframe\">\n",
       "  <thead>\n",
       "    <tr style=\"text-align: right;\">\n",
       "      <th></th>\n",
       "      <th>Time</th>\n",
       "      <th>AccV</th>\n",
       "      <th>AccML</th>\n",
       "      <th>AccAP</th>\n",
       "      <th>Id</th>\n",
       "      <th>Subject</th>\n",
       "      <th>Visit</th>\n",
       "      <th>Test</th>\n",
       "      <th>Medication</th>\n",
       "      <th>Age</th>\n",
       "      <th>Sex</th>\n",
       "      <th>YearsSinceDx</th>\n",
       "    </tr>\n",
       "  </thead>\n",
       "  <tbody>\n",
       "    <tr>\n",
       "      <th>0</th>\n",
       "      <td>0</td>\n",
       "      <td>-9.533939</td>\n",
       "      <td>0.566322</td>\n",
       "      <td>-1.413525</td>\n",
       "      <td>003f117e14</td>\n",
       "      <td>4dc2f8</td>\n",
       "      <td>3</td>\n",
       "      <td>2.0</td>\n",
       "      <td>1</td>\n",
       "      <td>68</td>\n",
       "      <td>0</td>\n",
       "      <td>9.0</td>\n",
       "    </tr>\n",
       "    <tr>\n",
       "      <th>1</th>\n",
       "      <td>1</td>\n",
       "      <td>-9.536140</td>\n",
       "      <td>0.564137</td>\n",
       "      <td>-1.440621</td>\n",
       "      <td>003f117e14</td>\n",
       "      <td>4dc2f8</td>\n",
       "      <td>3</td>\n",
       "      <td>2.0</td>\n",
       "      <td>1</td>\n",
       "      <td>68</td>\n",
       "      <td>0</td>\n",
       "      <td>9.0</td>\n",
       "    </tr>\n",
       "    <tr>\n",
       "      <th>2</th>\n",
       "      <td>2</td>\n",
       "      <td>-9.529345</td>\n",
       "      <td>0.561765</td>\n",
       "      <td>-1.429331</td>\n",
       "      <td>003f117e14</td>\n",
       "      <td>4dc2f8</td>\n",
       "      <td>3</td>\n",
       "      <td>2.0</td>\n",
       "      <td>1</td>\n",
       "      <td>68</td>\n",
       "      <td>0</td>\n",
       "      <td>9.0</td>\n",
       "    </tr>\n",
       "    <tr>\n",
       "      <th>3</th>\n",
       "      <td>3</td>\n",
       "      <td>-9.531239</td>\n",
       "      <td>0.564227</td>\n",
       "      <td>-1.415490</td>\n",
       "      <td>003f117e14</td>\n",
       "      <td>4dc2f8</td>\n",
       "      <td>3</td>\n",
       "      <td>2.0</td>\n",
       "      <td>1</td>\n",
       "      <td>68</td>\n",
       "      <td>0</td>\n",
       "      <td>9.0</td>\n",
       "    </tr>\n",
       "    <tr>\n",
       "      <th>4</th>\n",
       "      <td>4</td>\n",
       "      <td>-9.540825</td>\n",
       "      <td>0.561854</td>\n",
       "      <td>-1.429471</td>\n",
       "      <td>003f117e14</td>\n",
       "      <td>4dc2f8</td>\n",
       "      <td>3</td>\n",
       "      <td>2.0</td>\n",
       "      <td>1</td>\n",
       "      <td>68</td>\n",
       "      <td>0</td>\n",
       "      <td>9.0</td>\n",
       "    </tr>\n",
       "    <tr>\n",
       "      <th>...</th>\n",
       "      <td>...</td>\n",
       "      <td>...</td>\n",
       "      <td>...</td>\n",
       "      <td>...</td>\n",
       "      <td>...</td>\n",
       "      <td>...</td>\n",
       "      <td>...</td>\n",
       "      <td>...</td>\n",
       "      <td>...</td>\n",
       "      <td>...</td>\n",
       "      <td>...</td>\n",
       "      <td>...</td>\n",
       "    </tr>\n",
       "    <tr>\n",
       "      <th>286365</th>\n",
       "      <td>281683</td>\n",
       "      <td>-0.899299</td>\n",
       "      <td>-0.232668</td>\n",
       "      <td>0.389147</td>\n",
       "      <td>02ab235146</td>\n",
       "      <td>e1f62e</td>\n",
       "      <td>2</td>\n",
       "      <td>0.0</td>\n",
       "      <td>1</td>\n",
       "      <td>79</td>\n",
       "      <td>0</td>\n",
       "      <td>8.0</td>\n",
       "    </tr>\n",
       "    <tr>\n",
       "      <th>286366</th>\n",
       "      <td>281684</td>\n",
       "      <td>-0.901973</td>\n",
       "      <td>-0.233051</td>\n",
       "      <td>0.390114</td>\n",
       "      <td>02ab235146</td>\n",
       "      <td>e1f62e</td>\n",
       "      <td>2</td>\n",
       "      <td>0.0</td>\n",
       "      <td>1</td>\n",
       "      <td>79</td>\n",
       "      <td>0</td>\n",
       "      <td>8.0</td>\n",
       "    </tr>\n",
       "    <tr>\n",
       "      <th>286367</th>\n",
       "      <td>281685</td>\n",
       "      <td>-0.901690</td>\n",
       "      <td>-0.231888</td>\n",
       "      <td>0.391896</td>\n",
       "      <td>02ab235146</td>\n",
       "      <td>e1f62e</td>\n",
       "      <td>2</td>\n",
       "      <td>0.0</td>\n",
       "      <td>1</td>\n",
       "      <td>79</td>\n",
       "      <td>0</td>\n",
       "      <td>8.0</td>\n",
       "    </tr>\n",
       "    <tr>\n",
       "      <th>286368</th>\n",
       "      <td>281686</td>\n",
       "      <td>-0.899576</td>\n",
       "      <td>-0.232430</td>\n",
       "      <td>0.391106</td>\n",
       "      <td>02ab235146</td>\n",
       "      <td>e1f62e</td>\n",
       "      <td>2</td>\n",
       "      <td>0.0</td>\n",
       "      <td>1</td>\n",
       "      <td>79</td>\n",
       "      <td>0</td>\n",
       "      <td>8.0</td>\n",
       "    </tr>\n",
       "    <tr>\n",
       "      <th>286369</th>\n",
       "      <td>281687</td>\n",
       "      <td>-0.900289</td>\n",
       "      <td>-0.232363</td>\n",
       "      <td>0.390735</td>\n",
       "      <td>02ab235146</td>\n",
       "      <td>e1f62e</td>\n",
       "      <td>2</td>\n",
       "      <td>0.0</td>\n",
       "      <td>1</td>\n",
       "      <td>79</td>\n",
       "      <td>0</td>\n",
       "      <td>8.0</td>\n",
       "    </tr>\n",
       "  </tbody>\n",
       "</table>\n",
       "<p>286370 rows × 12 columns</p>\n",
       "</div>"
      ],
      "text/plain": [
       "          Time      AccV     AccML     AccAP          Id Subject  Visit  Test  \\\n",
       "0            0 -9.533939  0.566322 -1.413525  003f117e14  4dc2f8      3   2.0   \n",
       "1            1 -9.536140  0.564137 -1.440621  003f117e14  4dc2f8      3   2.0   \n",
       "2            2 -9.529345  0.561765 -1.429331  003f117e14  4dc2f8      3   2.0   \n",
       "3            3 -9.531239  0.564227 -1.415490  003f117e14  4dc2f8      3   2.0   \n",
       "4            4 -9.540825  0.561854 -1.429471  003f117e14  4dc2f8      3   2.0   \n",
       "...        ...       ...       ...       ...         ...     ...    ...   ...   \n",
       "286365  281683 -0.899299 -0.232668  0.389147  02ab235146  e1f62e      2   0.0   \n",
       "286366  281684 -0.901973 -0.233051  0.390114  02ab235146  e1f62e      2   0.0   \n",
       "286367  281685 -0.901690 -0.231888  0.391896  02ab235146  e1f62e      2   0.0   \n",
       "286368  281686 -0.899576 -0.232430  0.391106  02ab235146  e1f62e      2   0.0   \n",
       "286369  281687 -0.900289 -0.232363  0.390735  02ab235146  e1f62e      2   0.0   \n",
       "\n",
       "        Medication  Age  Sex  YearsSinceDx  \n",
       "0                1   68    0           9.0  \n",
       "1                1   68    0           9.0  \n",
       "2                1   68    0           9.0  \n",
       "3                1   68    0           9.0  \n",
       "4                1   68    0           9.0  \n",
       "...            ...  ...  ...           ...  \n",
       "286365           1   79    0           8.0  \n",
       "286366           1   79    0           8.0  \n",
       "286367           1   79    0           8.0  \n",
       "286368           1   79    0           8.0  \n",
       "286369           1   79    0           8.0  \n",
       "\n",
       "[286370 rows x 12 columns]"
      ]
     },
     "execution_count": 8,
     "metadata": {},
     "output_type": "execute_result"
    }
   ],
   "source": [
    "test_df"
   ]
  },
  {
   "cell_type": "code",
   "execution_count": 9,
   "id": "d01bfdca-dc47-4bfb-9985-a6ba78c29b50",
   "metadata": {},
   "outputs": [
    {
     "data": {
      "text/html": [
       "<div>\n",
       "<style scoped>\n",
       "    .dataframe tbody tr th:only-of-type {\n",
       "        vertical-align: middle;\n",
       "    }\n",
       "\n",
       "    .dataframe tbody tr th {\n",
       "        vertical-align: top;\n",
       "    }\n",
       "\n",
       "    .dataframe thead th {\n",
       "        text-align: right;\n",
       "    }\n",
       "</style>\n",
       "<table border=\"1\" class=\"dataframe\">\n",
       "  <thead>\n",
       "    <tr style=\"text-align: right;\">\n",
       "      <th></th>\n",
       "      <th>AccV</th>\n",
       "      <th>AccML</th>\n",
       "      <th>AccAP</th>\n",
       "      <th>Visit</th>\n",
       "      <th>Test</th>\n",
       "      <th>Medication</th>\n",
       "      <th>Age</th>\n",
       "      <th>Sex</th>\n",
       "      <th>YearsSinceDx</th>\n",
       "    </tr>\n",
       "    <tr>\n",
       "      <th>Time</th>\n",
       "      <th></th>\n",
       "      <th></th>\n",
       "      <th></th>\n",
       "      <th></th>\n",
       "      <th></th>\n",
       "      <th></th>\n",
       "      <th></th>\n",
       "      <th></th>\n",
       "      <th></th>\n",
       "    </tr>\n",
       "  </thead>\n",
       "  <tbody>\n",
       "    <tr>\n",
       "      <th>0</th>\n",
       "      <td>-9.533939</td>\n",
       "      <td>0.566322</td>\n",
       "      <td>-1.413525</td>\n",
       "      <td>3</td>\n",
       "      <td>2.0</td>\n",
       "      <td>1</td>\n",
       "      <td>68</td>\n",
       "      <td>0</td>\n",
       "      <td>9.0</td>\n",
       "    </tr>\n",
       "    <tr>\n",
       "      <th>1</th>\n",
       "      <td>-9.536140</td>\n",
       "      <td>0.564137</td>\n",
       "      <td>-1.440621</td>\n",
       "      <td>3</td>\n",
       "      <td>2.0</td>\n",
       "      <td>1</td>\n",
       "      <td>68</td>\n",
       "      <td>0</td>\n",
       "      <td>9.0</td>\n",
       "    </tr>\n",
       "    <tr>\n",
       "      <th>2</th>\n",
       "      <td>-9.529345</td>\n",
       "      <td>0.561765</td>\n",
       "      <td>-1.429331</td>\n",
       "      <td>3</td>\n",
       "      <td>2.0</td>\n",
       "      <td>1</td>\n",
       "      <td>68</td>\n",
       "      <td>0</td>\n",
       "      <td>9.0</td>\n",
       "    </tr>\n",
       "    <tr>\n",
       "      <th>3</th>\n",
       "      <td>-9.531239</td>\n",
       "      <td>0.564227</td>\n",
       "      <td>-1.415490</td>\n",
       "      <td>3</td>\n",
       "      <td>2.0</td>\n",
       "      <td>1</td>\n",
       "      <td>68</td>\n",
       "      <td>0</td>\n",
       "      <td>9.0</td>\n",
       "    </tr>\n",
       "    <tr>\n",
       "      <th>4</th>\n",
       "      <td>-9.540825</td>\n",
       "      <td>0.561854</td>\n",
       "      <td>-1.429471</td>\n",
       "      <td>3</td>\n",
       "      <td>2.0</td>\n",
       "      <td>1</td>\n",
       "      <td>68</td>\n",
       "      <td>0</td>\n",
       "      <td>9.0</td>\n",
       "    </tr>\n",
       "    <tr>\n",
       "      <th>...</th>\n",
       "      <td>...</td>\n",
       "      <td>...</td>\n",
       "      <td>...</td>\n",
       "      <td>...</td>\n",
       "      <td>...</td>\n",
       "      <td>...</td>\n",
       "      <td>...</td>\n",
       "      <td>...</td>\n",
       "      <td>...</td>\n",
       "    </tr>\n",
       "    <tr>\n",
       "      <th>281683</th>\n",
       "      <td>-0.899299</td>\n",
       "      <td>-0.232668</td>\n",
       "      <td>0.389147</td>\n",
       "      <td>2</td>\n",
       "      <td>0.0</td>\n",
       "      <td>1</td>\n",
       "      <td>79</td>\n",
       "      <td>0</td>\n",
       "      <td>8.0</td>\n",
       "    </tr>\n",
       "    <tr>\n",
       "      <th>281684</th>\n",
       "      <td>-0.901973</td>\n",
       "      <td>-0.233051</td>\n",
       "      <td>0.390114</td>\n",
       "      <td>2</td>\n",
       "      <td>0.0</td>\n",
       "      <td>1</td>\n",
       "      <td>79</td>\n",
       "      <td>0</td>\n",
       "      <td>8.0</td>\n",
       "    </tr>\n",
       "    <tr>\n",
       "      <th>281685</th>\n",
       "      <td>-0.901690</td>\n",
       "      <td>-0.231888</td>\n",
       "      <td>0.391896</td>\n",
       "      <td>2</td>\n",
       "      <td>0.0</td>\n",
       "      <td>1</td>\n",
       "      <td>79</td>\n",
       "      <td>0</td>\n",
       "      <td>8.0</td>\n",
       "    </tr>\n",
       "    <tr>\n",
       "      <th>281686</th>\n",
       "      <td>-0.899576</td>\n",
       "      <td>-0.232430</td>\n",
       "      <td>0.391106</td>\n",
       "      <td>2</td>\n",
       "      <td>0.0</td>\n",
       "      <td>1</td>\n",
       "      <td>79</td>\n",
       "      <td>0</td>\n",
       "      <td>8.0</td>\n",
       "    </tr>\n",
       "    <tr>\n",
       "      <th>281687</th>\n",
       "      <td>-0.900289</td>\n",
       "      <td>-0.232363</td>\n",
       "      <td>0.390735</td>\n",
       "      <td>2</td>\n",
       "      <td>0.0</td>\n",
       "      <td>1</td>\n",
       "      <td>79</td>\n",
       "      <td>0</td>\n",
       "      <td>8.0</td>\n",
       "    </tr>\n",
       "  </tbody>\n",
       "</table>\n",
       "<p>286370 rows × 9 columns</p>\n",
       "</div>"
      ],
      "text/plain": [
       "            AccV     AccML     AccAP  Visit  Test  Medication  Age  Sex  \\\n",
       "Time                                                                      \n",
       "0      -9.533939  0.566322 -1.413525      3   2.0           1   68    0   \n",
       "1      -9.536140  0.564137 -1.440621      3   2.0           1   68    0   \n",
       "2      -9.529345  0.561765 -1.429331      3   2.0           1   68    0   \n",
       "3      -9.531239  0.564227 -1.415490      3   2.0           1   68    0   \n",
       "4      -9.540825  0.561854 -1.429471      3   2.0           1   68    0   \n",
       "...          ...       ...       ...    ...   ...         ...  ...  ...   \n",
       "281683 -0.899299 -0.232668  0.389147      2   0.0           1   79    0   \n",
       "281684 -0.901973 -0.233051  0.390114      2   0.0           1   79    0   \n",
       "281685 -0.901690 -0.231888  0.391896      2   0.0           1   79    0   \n",
       "281686 -0.899576 -0.232430  0.391106      2   0.0           1   79    0   \n",
       "281687 -0.900289 -0.232363  0.390735      2   0.0           1   79    0   \n",
       "\n",
       "        YearsSinceDx  \n",
       "Time                  \n",
       "0                9.0  \n",
       "1                9.0  \n",
       "2                9.0  \n",
       "3                9.0  \n",
       "4                9.0  \n",
       "...              ...  \n",
       "281683           8.0  \n",
       "281684           8.0  \n",
       "281685           8.0  \n",
       "281686           8.0  \n",
       "281687           8.0  \n",
       "\n",
       "[286370 rows x 9 columns]"
      ]
     },
     "execution_count": 9,
     "metadata": {},
     "output_type": "execute_result"
    }
   ],
   "source": [
    "test = test_df.drop(columns=['Id', 'Subject']).set_index('Time')\n",
    "test"
   ]
  },
  {
   "cell_type": "markdown",
   "id": "aac59de9-d952-4070-b6a0-b659287cbb41",
   "metadata": {},
   "source": [
    "### Dataset/DataLoader"
   ]
  },
  {
   "cell_type": "code",
   "execution_count": 12,
   "id": "1a65d37c-dd01-486a-9d70-db435523fbb7",
   "metadata": {},
   "outputs": [],
   "source": [
    "#Pytorch Dataset\n",
    "class ParkinsonDataset(Dataset):\n",
    "    def __init__(self, df, goal):\n",
    "        super().__init__()\n",
    "        self.data = df.to_numpy()\n",
    "        self.goal = goal\n",
    "\n",
    "    # Return length of sample\n",
    "    def __len__(self):\n",
    "        return self.data.shape[0]\n",
    "        \n",
    "    # Get data at idx\n",
    "    def __getitem__(self, idx):\n",
    "        if self.goal == 'train':\n",
    "            features = torch.tensor(self.data[idx, :-1], dtype=torch.float32)\n",
    "            label = torch.tensor(self.data[idx, -1], dtype=torch.float32)\n",
    "            features = features.to(device)\n",
    "            label = label.to(device)\n",
    "        else:\n",
    "            features = torch.tensor(self.data[idx], dtype=torch.float32)\n",
    "            features = features.to(device)\n",
    "            return features\n",
    "\n",
    "        return features, label"
   ]
  },
  {
   "cell_type": "code",
   "execution_count": 13,
   "id": "0f426323-7a4b-4435-b240-b30ea261de98",
   "metadata": {},
   "outputs": [],
   "source": [
    "def train_val_split(df):\n",
    "    #Split the training dataset into training/validation sets\n",
    "    #80% Training - 20% Validation\n",
    "    train_size = int(.8 * len(df))\n",
    "    val_size = len(df)-train_size\n",
    "    train_data, val_data = torch.utils.data.random_split(df, [train_size, val_size])\n",
    "\n",
    "    #Instantiate DataLoaders\n",
    "    train_loader = DataLoader(train_data,\n",
    "                              batch_size=1024,\n",
    "                              shuffle=False)\n",
    "\n",
    "    val_loader = DataLoader(val_data,\n",
    "                            batch_size=1024,\n",
    "                            shuffle=False)\n",
    "    \n",
    "    return train_loader, val_loader"
   ]
  },
  {
   "cell_type": "code",
   "execution_count": 14,
   "id": "9372dca1-dc41-4055-b0da-886d5926aaf6",
   "metadata": {},
   "outputs": [],
   "source": [
    "train = ParkinsonDataset(train_df, goal='train')\n",
    "train_loader, val_loader = train_val_split(train)"
   ]
  },
  {
   "cell_type": "code",
   "execution_count": null,
   "id": "9e20d3f3-7bbc-4fd8-969d-43eac8bd4f15",
   "metadata": {},
   "outputs": [],
   "source": [
    "test = test_df.drop(columns='Id')\n",
    "test = ParkinsonDataset(test, goal='test')\n",
    "test_loader = DataLoader(test, \n",
    "                         batch_size=1024, \n",
    "                         shuffle=False)"
   ]
  },
  {
   "cell_type": "code",
   "execution_count": 15,
   "id": "41317da0-93c6-4275-8939-aec2c8247b35",
   "metadata": {},
   "outputs": [],
   "source": [
    "metric = torchmetrics.AveragePrecision(task='multiclass', num_classes=4, average='weighted', thresholds=4).to(device)"
   ]
  },
  {
   "cell_type": "markdown",
   "id": "59b4f40f-cefb-4fd0-98fe-3bcda0305979",
   "metadata": {},
   "source": [
    "### Overfit Function"
   ]
  },
  {
   "cell_type": "code",
   "execution_count": 16,
   "id": "6873b22f-f1c3-443a-9b95-7b8c53a7aa69",
   "metadata": {},
   "outputs": [],
   "source": [
    "#Function to determine whether the model is training appropriately\n",
    "def overfit_batch(model, criterion, optimizer, batch, epochs):\n",
    "    model = model.to(device)\n",
    "    \n",
    "    for epoch in range(epochs):\n",
    "        metric.reset()\n",
    "        loss_total = 0.0\n",
    "        precision_total = 0.0\n",
    "        for _ in range(len(batch)):\n",
    "            features, label = batch\n",
    "            features = features.to(device)\n",
    "            label = label.to(device)\n",
    "            \n",
    "            optimizer.zero_grad()\n",
    "            logits = model(features)\n",
    "            loss = criterion(logits, label.long())\n",
    "            ypred = torch.softmax(logits, dim=1)\n",
    "            metric(ypred, label.long())\n",
    "            precision=metric.compute()\n",
    "            \n",
    "            loss.backward()\n",
    "            optimizer.step()\n",
    "\n",
    "            loss_total += loss.item()\n",
    "            precision_total += precision.item()\n",
    "\n",
    "        avg_loss = loss_total / len(batch)\n",
    "        avg_precision = precision_total / len(batch)\n",
    "        if epoch %10 == 9:\n",
    "            print(f'Epoch [{epoch + 1}/{epochs}] | Avg Loss: {avg_loss:.4f} | Avg Precision: {(avg_precision * 100.0):.2f}')"
   ]
  },
  {
   "cell_type": "markdown",
   "id": "9e38450a-137c-4a3a-af78-d2c73223669e",
   "metadata": {},
   "source": [
    "### Train | Validate | Predict"
   ]
  },
  {
   "cell_type": "code",
   "execution_count": 17,
   "id": "7f1d50db-90b6-496d-9fe8-667c40a9b7e4",
   "metadata": {},
   "outputs": [],
   "source": [
    "def predict(model, dataloader):\n",
    "    predictions = []\n",
    "    with tqdm(dataloader, colour='yellow') as pbar:\n",
    "        for features in pbar:\n",
    "            features = features.to(device)\n",
    "            preds = model(features)\n",
    "            preds = torch.argmax(preds, dim=1)\n",
    "            predictions.extend(preds.cpu().numpy())\n",
    "    \n",
    "    return predictions"
   ]
  },
  {
   "cell_type": "code",
   "execution_count": 18,
   "id": "c6122a4a-5b51-4bcf-ad0b-10e4c8e30f7a",
   "metadata": {},
   "outputs": [],
   "source": [
    "#Validate one epoch\n",
    "def validate(model, criterion, dataloader, epoch):\n",
    "    model.eval()\n",
    "    metric.reset()\n",
    "    \n",
    "    loss_total = 0.0\n",
    "    precision_total = 0.0\n",
    "    \n",
    "    with tqdm(dataloader, desc='Validate', total=len(dataloader), unit='batch', colour='blue') as pbar:\n",
    "        with torch.no_grad():\n",
    "            for batch in pbar:\n",
    "                features, label = batch\n",
    "                features = features.to(device)\n",
    "                label = label.to(device)\n",
    "\n",
    "                logits = model(features)               \n",
    "                #Update running loss and precision\n",
    "                loss = criterion(logits, label.long())\n",
    "                ypred = torch.softmax(logits, dim=1)\n",
    "                metric(ypred, label.long())\n",
    "                precision=metric.compute()\n",
    "                \n",
    "                precision_total += precision.item()\n",
    "                loss_total += loss.item()\n",
    "\n",
    "                #Update the tqdm progress bar description with loss and precision\n",
    "                pbar.set_postfix_str(s=f'Loss: {loss:.4f} | Precision: {precision*100:.2f}%')\n",
    "                \n",
    "        avg_loss = loss_total / len(dataloader)\n",
    "        avg_precision = precision_total / len(dataloader)\n",
    "        \n",
    "    model.train()    \n",
    "    return avg_loss, avg_precision"
   ]
  },
  {
   "cell_type": "code",
   "execution_count": 19,
   "id": "14b9b2e9-7886-4681-b31d-09ba8c07463a",
   "metadata": {},
   "outputs": [],
   "source": [
    "def train_validate(model, criterion, optimizer, scheduler, epochs=100, train_loader=train_loader, val_loader=val_loader, patience=5):\n",
    "    model = model.train()\n",
    "    best_precision = None\n",
    "    min_delta = 0\n",
    "    counter = 0\n",
    "    \n",
    "    for epoch in range(epochs):\n",
    "        metric.reset()\n",
    "        loss_total = 0.0\n",
    "        precision_total = 0.0\n",
    "        with tqdm(train_loader, desc='Train', total=len(train_loader), unit='batch', colour='green') as pbar:\n",
    "            for batch in pbar:\n",
    "                #Set features/targets to device\n",
    "                features, label = batch\n",
    "                features = features.to(device)\n",
    "                label = label.to(device)\n",
    "\n",
    "                #Predict labels\n",
    "                optimizer.zero_grad()                \n",
    "                logits = model(features)\n",
    "                loss = criterion(logits, label.long())\n",
    "                ypred = torch.softmax(logits, dim=1)\n",
    "                metric(ypred, label.long())\n",
    "                precision=metric.compute()\n",
    "                \n",
    "                #Tensorboard\n",
    "                train_writer.add_scalar('Train-Loss', loss, epoch)\n",
    "                train_writer.add_scalar('Train-Precision', precision, epoch)\n",
    "                \n",
    "                pbar.set_postfix_str(s=f'Loss: {loss:.4f} | Precision: {precision*100:.2f}%')\n",
    "\n",
    "                #Adjust gradient\n",
    "                loss.backward()\n",
    "                torch.nn.utils.clip_grad_norm_(model.parameters(), max_norm=1.0)\n",
    "                optimizer.step()\n",
    "\n",
    "                #Accumulate total loss and precision\n",
    "                loss_total += loss.item()\n",
    "                precision_total += precision.item()\n",
    "\n",
    "            avg_loss = loss_total / len(train_loader)\n",
    "            avg_precision = precision_total / len(train_loader)\n",
    "         \n",
    "        #Report training loss/precision\n",
    "        print(f'Epoch {epoch + 1} | Avg Loss: {avg_loss:.4f} | Avg Precision: {(avg_precision * 100.0):.2f}%')\n",
    "\n",
    "        if epoch%3==2:\n",
    "            #Validate one epoch and update lr scheduler\n",
    "            avg_val_loss, avg_val_precision = validate(model, criterion, val_loader, epoch)\n",
    "            scheduler.step(avg_val_precision)\n",
    "        \n",
    "            #Early Stopping\n",
    "            if best_precision == None:\n",
    "                best_precision = avg_val_precision\n",
    "            elif(best_precision - avg_val_precision < min_delta):\n",
    "                best_precision = avg_val_precision\n",
    "                counter = 0\n",
    "            elif(best_precision - avg_val_precision > min_delta):\n",
    "                counter += 1\n",
    "                if(counter >= patience):\n",
    "                    print(f'Early Stopping: Precision stagnated or decreased too many times. Best Validation: {(best_precision*100.0):.2f}%')\n",
    "                    break\n",
    "\n",
    "            print(f'Epoch {epoch + 1} | Avg Loss: {avg_val_loss:.4f} | Avg Precision: {(avg_val_precision * 100.0):.2f}% | Patience: {counter}')\n",
    "\n",
    "    train_writer.flush()\n",
    "    train_writer.close()\n",
    "    val_writer.flush()\n",
    "    val_writer.close()\n",
    "    print(f'Training Complete - Best Validate Precision: {(best_precision*100.0):.2f}%')\n",
    "    \n",
    "    return model"
   ]
  },
  {
   "cell_type": "markdown",
   "id": "6c0e5683-58fa-431a-8ec7-5d1a730ac798",
   "metadata": {},
   "source": [
    "### Model Architecture"
   ]
  },
  {
   "cell_type": "code",
   "execution_count": 22,
   "id": "e0944a26-a268-408e-84b2-6d1899f35cfb",
   "metadata": {},
   "outputs": [],
   "source": [
    "#Neural Network model architecture\n",
    "class Ann(nn.Module):\n",
    "    def __init__(self):\n",
    "        super(Ann, self).__init__()\n",
    "        self.fc1 = nn.Linear(8, 300)\n",
    "        self.fc2 = nn.Linear(300, 150)\n",
    "        self.fc3 = nn.Linear(150, 75)\n",
    "        self.fc4 = nn.Linear(75, 4)\n",
    "\n",
    "        #Batch Normalization Layers\n",
    "        self.bn1 = nn.BatchNorm1d(300)\n",
    "        self.bn2 = nn.BatchNorm1d(150)\n",
    "        self.bn3 = nn.BatchNorm1d(75)\n",
    "\n",
    "        #Add Dropout Layers\n",
    "        self.dropout = nn.Dropout(p=0.2)\n",
    "        \n",
    "        #Initialize He Kaiming weights\n",
    "        nn.init.kaiming_uniform_(self.fc1.weight)\n",
    "        nn.init.kaiming_uniform_(self.fc2.weight)\n",
    "        nn.init.kaiming_uniform_(self.fc3.weight)\n",
    "        nn.init.kaiming_uniform_(self.fc4.weight)\n",
    "        \n",
    "    #Forward Propogation\n",
    "    def forward(self, x):\n",
    "        #Pass through the first layer\n",
    "        x = self.fc1(x)\n",
    "        x = self.bn1(x)\n",
    "        x = nn.functional.relu(x)\n",
    "        x = self.dropout(x)\n",
    "\n",
    "        #Second layer pass\n",
    "        x = self.fc2(x)\n",
    "        x = self.bn2(x)\n",
    "        x = nn.functional.relu(x)\n",
    "        x = self.dropout(x)\n",
    "        \n",
    "        #Third layer pass\n",
    "        x = self.fc3(x)\n",
    "        x = self.bn3(x)\n",
    "        x = nn.functional.relu(x)\n",
    "        x = self.dropout(x)\n",
    "        \n",
    "        #output\n",
    "        x = self.fc4(x)\n",
    "        return x"
   ]
  },
  {
   "cell_type": "markdown",
   "id": "9bc89046-b4cc-4c26-bac1-efd3a0b25fc4",
   "metadata": {
    "jp-MarkdownHeadingCollapsed": true
   },
   "source": [
    "### Overfitting"
   ]
  },
  {
   "cell_type": "code",
   "execution_count": 54,
   "id": "5d9c078b-555e-4c03-9d3d-a46d4fe1f5c1",
   "metadata": {},
   "outputs": [
    {
     "name": "stdout",
     "output_type": "stream",
     "text": [
      "Epoch [10/100] | Avg Loss: 0.6763 | Avg Precision: 65.29\n",
      "Epoch [20/100] | Avg Loss: 0.6033 | Avg Precision: 67.34\n",
      "Epoch [30/100] | Avg Loss: 0.5772 | Avg Precision: 71.14\n",
      "Epoch [40/100] | Avg Loss: 0.5527 | Avg Precision: 70.02\n",
      "Epoch [50/100] | Avg Loss: 0.5286 | Avg Precision: 73.23\n",
      "Epoch [60/100] | Avg Loss: 0.5257 | Avg Precision: 73.39\n",
      "Epoch [70/100] | Avg Loss: 0.5000 | Avg Precision: 73.44\n",
      "Epoch [80/100] | Avg Loss: 0.4869 | Avg Precision: 73.61\n",
      "Epoch [90/100] | Avg Loss: 0.4944 | Avg Precision: 73.97\n",
      "Epoch [100/100] | Avg Loss: 0.4830 | Avg Precision: 75.86\n"
     ]
    }
   ],
   "source": [
    "#overfit batch\n",
    "batch = next(iter(train_loader))\n",
    "model = Ann()\n",
    "model = model.to(device)\n",
    "criterion = nn.CrossEntropyLoss()\n",
    "optimizer = optim.Adam(model.parameters(),\n",
    "                       lr = .09)\n",
    "epochs=100\n",
    "overfit_batch(model, criterion, optimizer, batch, epochs)"
   ]
  },
  {
   "cell_type": "markdown",
   "id": "c4fab79c-9ebc-4ac8-9b0c-f01622bcf629",
   "metadata": {},
   "source": [
    "# Training"
   ]
  },
  {
   "cell_type": "markdown",
   "id": "7b15ecf1-b1c2-49a6-83e7-bee0fba6684f",
   "metadata": {
    "jp-MarkdownHeadingCollapsed": true
   },
   "source": [
    "## Subset"
   ]
  },
  {
   "cell_type": "markdown",
   "id": "931686af-a83c-4446-9386-ba45c101e73d",
   "metadata": {
    "jp-MarkdownHeadingCollapsed": true
   },
   "source": [
    "### Batch 1024 "
   ]
  },
  {
   "cell_type": "markdown",
   "id": "5903a6db-0c42-4471-b2ac-477b3216ab99",
   "metadata": {},
   "source": [
    "## Downsample"
   ]
  },
  {
   "cell_type": "markdown",
   "id": "290e5830-0a90-45b1-8edd-f4e3eb7500d0",
   "metadata": {},
   "source": [
    "### 10-30-23"
   ]
  },
  {
   "cell_type": "markdown",
   "id": "34b87d88-c8fd-48e5-873e-e78f619f7926",
   "metadata": {
    "jp-MarkdownHeadingCollapsed": true
   },
   "source": [
    "#### Model 2 75-35 Nodes"
   ]
  },
  {
   "cell_type": "code",
   "execution_count": 20,
   "id": "0915aeaa-c591-49e1-9390-0b29aa296ca2",
   "metadata": {},
   "outputs": [
    {
     "name": "stderr",
     "output_type": "stream",
     "text": [
      "Train: 100%|\u001B[32m████████████████████████\u001B[0m| 295/295 [00:37<00:00,  7.86batch/s, Loss: 0.4071 | Precision: 72.98%]\u001B[0m\n"
     ]
    },
    {
     "name": "stdout",
     "output_type": "stream",
     "text": [
      "Epoch 1 | Avg Loss: 0.5206 | Avg Precision: 70.61%\n"
     ]
    },
    {
     "name": "stderr",
     "output_type": "stream",
     "text": [
      "Train: 100%|\u001B[32m████████████████████████\u001B[0m| 295/295 [00:37<00:00,  7.87batch/s, Loss: 0.3973 | Precision: 76.04%]\u001B[0m\n"
     ]
    },
    {
     "name": "stdout",
     "output_type": "stream",
     "text": [
      "Epoch 2 | Avg Loss: 0.4634 | Avg Precision: 75.49%\n"
     ]
    },
    {
     "name": "stderr",
     "output_type": "stream",
     "text": [
      "Train: 100%|\u001B[32m████████████████████████\u001B[0m| 295/295 [00:38<00:00,  7.73batch/s, Loss: 0.3072 | Precision: 77.02%]\u001B[0m\n"
     ]
    },
    {
     "name": "stdout",
     "output_type": "stream",
     "text": [
      "Epoch 3 | Avg Loss: 0.4482 | Avg Precision: 76.54%\n"
     ]
    },
    {
     "name": "stderr",
     "output_type": "stream",
     "text": [
      "Validate: 100%|\u001B[34m███████████████████████\u001B[0m| 74/74 [00:08<00:00,  8.99batch/s, Loss: 0.5809 | Precision: 70.72%]\u001B[0m\n"
     ]
    },
    {
     "name": "stdout",
     "output_type": "stream",
     "text": [
      "Epoch 3 | Avg Loss: 0.5562 | Avg Precision: 70.99% | Patience: 0\n"
     ]
    },
    {
     "name": "stderr",
     "output_type": "stream",
     "text": [
      "Train: 100%|\u001B[32m████████████████████████\u001B[0m| 295/295 [00:33<00:00,  8.88batch/s, Loss: 0.4103 | Precision: 70.90%]\u001B[0m\n"
     ]
    },
    {
     "name": "stdout",
     "output_type": "stream",
     "text": [
      "Epoch 4 | Avg Loss: 0.5565 | Avg Precision: 68.50%\n"
     ]
    },
    {
     "name": "stderr",
     "output_type": "stream",
     "text": [
      "Train: 100%|\u001B[32m████████████████████████\u001B[0m| 295/295 [00:33<00:00,  8.70batch/s, Loss: 0.3835 | Precision: 74.62%]\u001B[0m\n"
     ]
    },
    {
     "name": "stdout",
     "output_type": "stream",
     "text": [
      "Epoch 5 | Avg Loss: 0.4842 | Avg Precision: 73.72%\n"
     ]
    },
    {
     "name": "stderr",
     "output_type": "stream",
     "text": [
      "Train: 100%|\u001B[32m████████████████████████\u001B[0m| 295/295 [00:34<00:00,  8.63batch/s, Loss: 0.3256 | Precision: 76.39%]\u001B[0m\n"
     ]
    },
    {
     "name": "stdout",
     "output_type": "stream",
     "text": [
      "Epoch 6 | Avg Loss: 0.4579 | Avg Precision: 75.92%\n"
     ]
    },
    {
     "name": "stderr",
     "output_type": "stream",
     "text": [
      "Validate: 100%|\u001B[34m███████████████████████\u001B[0m| 74/74 [00:08<00:00,  8.98batch/s, Loss: 0.4816 | Precision: 77.07%]\u001B[0m\n"
     ]
    },
    {
     "name": "stdout",
     "output_type": "stream",
     "text": [
      "Epoch 6 | Avg Loss: 0.4400 | Avg Precision: 77.04% | Patience: 0\n"
     ]
    },
    {
     "name": "stderr",
     "output_type": "stream",
     "text": [
      "Train: 100%|\u001B[32m████████████████████████\u001B[0m| 295/295 [00:34<00:00,  8.58batch/s, Loss: 0.3369 | Precision: 77.50%]\u001B[0m\n"
     ]
    },
    {
     "name": "stdout",
     "output_type": "stream",
     "text": [
      "Epoch 7 | Avg Loss: 0.4414 | Avg Precision: 77.15%\n"
     ]
    },
    {
     "name": "stderr",
     "output_type": "stream",
     "text": [
      "Train: 100%|\u001B[32m████████████████████████\u001B[0m| 295/295 [00:34<00:00,  8.54batch/s, Loss: 0.3287 | Precision: 78.24%]\u001B[0m\n"
     ]
    },
    {
     "name": "stdout",
     "output_type": "stream",
     "text": [
      "Epoch 8 | Avg Loss: 0.4287 | Avg Precision: 77.96%\n"
     ]
    },
    {
     "name": "stderr",
     "output_type": "stream",
     "text": [
      "Train: 100%|\u001B[32m████████████████████████\u001B[0m| 295/295 [00:34<00:00,  8.57batch/s, Loss: 0.3687 | Precision: 78.72%]\u001B[0m\n"
     ]
    },
    {
     "name": "stdout",
     "output_type": "stream",
     "text": [
      "Epoch 9 | Avg Loss: 0.4209 | Avg Precision: 78.45%\n"
     ]
    },
    {
     "name": "stderr",
     "output_type": "stream",
     "text": [
      "Validate: 100%|\u001B[34m███████████████████████\u001B[0m| 74/74 [00:08<00:00,  9.03batch/s, Loss: 0.4610 | Precision: 78.06%]\u001B[0m\n"
     ]
    },
    {
     "name": "stdout",
     "output_type": "stream",
     "text": [
      "Epoch 9 | Avg Loss: 0.4255 | Avg Precision: 78.03% | Patience: 0\n"
     ]
    },
    {
     "name": "stderr",
     "output_type": "stream",
     "text": [
      "Train: 100%|\u001B[32m████████████████████████\u001B[0m| 295/295 [00:34<00:00,  8.54batch/s, Loss: 0.3281 | Precision: 79.03%]\u001B[0m\n"
     ]
    },
    {
     "name": "stdout",
     "output_type": "stream",
     "text": [
      "Epoch 10 | Avg Loss: 0.4161 | Avg Precision: 78.76%\n"
     ]
    },
    {
     "name": "stderr",
     "output_type": "stream",
     "text": [
      "Train: 100%|\u001B[32m████████████████████████\u001B[0m| 295/295 [00:34<00:00,  8.63batch/s, Loss: 0.3237 | Precision: 79.25%]\u001B[0m\n"
     ]
    },
    {
     "name": "stdout",
     "output_type": "stream",
     "text": [
      "Epoch 11 | Avg Loss: 0.4124 | Avg Precision: 79.00%\n"
     ]
    },
    {
     "name": "stderr",
     "output_type": "stream",
     "text": [
      "Train: 100%|\u001B[32m████████████████████████\u001B[0m| 295/295 [00:34<00:00,  8.53batch/s, Loss: 0.3042 | Precision: 79.46%]\u001B[0m\n"
     ]
    },
    {
     "name": "stdout",
     "output_type": "stream",
     "text": [
      "Epoch 12 | Avg Loss: 0.4091 | Avg Precision: 79.12%\n"
     ]
    },
    {
     "name": "stderr",
     "output_type": "stream",
     "text": [
      "Validate: 100%|\u001B[34m███████████████████████\u001B[0m| 74/74 [00:08<00:00,  9.03batch/s, Loss: 0.4594 | Precision: 79.24%]\u001B[0m\n"
     ]
    },
    {
     "name": "stdout",
     "output_type": "stream",
     "text": [
      "Epoch 12 | Avg Loss: 0.4153 | Avg Precision: 79.25% | Patience: 0\n"
     ]
    },
    {
     "name": "stderr",
     "output_type": "stream",
     "text": [
      "Train: 100%|\u001B[32m████████████████████████\u001B[0m| 295/295 [00:34<00:00,  8.62batch/s, Loss: 0.3122 | Precision: 79.71%]\u001B[0m\n"
     ]
    },
    {
     "name": "stdout",
     "output_type": "stream",
     "text": [
      "Epoch 13 | Avg Loss: 0.4054 | Avg Precision: 79.42%\n"
     ]
    },
    {
     "name": "stderr",
     "output_type": "stream",
     "text": [
      "Train: 100%|\u001B[32m████████████████████████\u001B[0m| 295/295 [00:34<00:00,  8.57batch/s, Loss: 0.2857 | Precision: 79.77%]\u001B[0m\n"
     ]
    },
    {
     "name": "stdout",
     "output_type": "stream",
     "text": [
      "Epoch 14 | Avg Loss: 0.4046 | Avg Precision: 79.49%\n"
     ]
    },
    {
     "name": "stderr",
     "output_type": "stream",
     "text": [
      "Train: 100%|\u001B[32m████████████████████████\u001B[0m| 295/295 [00:34<00:00,  8.56batch/s, Loss: 0.2909 | Precision: 79.89%]\u001B[0m\n"
     ]
    },
    {
     "name": "stdout",
     "output_type": "stream",
     "text": [
      "Epoch 15 | Avg Loss: 0.4031 | Avg Precision: 79.64%\n"
     ]
    },
    {
     "name": "stderr",
     "output_type": "stream",
     "text": [
      "Validate: 100%|\u001B[34m███████████████████████\u001B[0m| 74/74 [00:08<00:00,  8.82batch/s, Loss: 0.4503 | Precision: 79.02%]\u001B[0m\n"
     ]
    },
    {
     "name": "stdout",
     "output_type": "stream",
     "text": [
      "Epoch 15 | Avg Loss: 0.4110 | Avg Precision: 79.12% | Patience: 1\n"
     ]
    },
    {
     "name": "stderr",
     "output_type": "stream",
     "text": [
      "Train: 100%|\u001B[32m████████████████████████\u001B[0m| 295/295 [00:34<00:00,  8.49batch/s, Loss: 0.3157 | Precision: 80.02%]\u001B[0m\n"
     ]
    },
    {
     "name": "stdout",
     "output_type": "stream",
     "text": [
      "Epoch 16 | Avg Loss: 0.4009 | Avg Precision: 79.76%\n"
     ]
    },
    {
     "name": "stderr",
     "output_type": "stream",
     "text": [
      "Train: 100%|\u001B[32m████████████████████████\u001B[0m| 295/295 [00:34<00:00,  8.49batch/s, Loss: 0.2828 | Precision: 80.18%]\u001B[0m\n"
     ]
    },
    {
     "name": "stdout",
     "output_type": "stream",
     "text": [
      "Epoch 17 | Avg Loss: 0.3991 | Avg Precision: 79.83%\n"
     ]
    },
    {
     "name": "stderr",
     "output_type": "stream",
     "text": [
      "Train: 100%|\u001B[32m████████████████████████\u001B[0m| 295/295 [00:34<00:00,  8.47batch/s, Loss: 0.2849 | Precision: 80.32%]\u001B[0m\n"
     ]
    },
    {
     "name": "stdout",
     "output_type": "stream",
     "text": [
      "Epoch 18 | Avg Loss: 0.3974 | Avg Precision: 80.06%\n"
     ]
    },
    {
     "name": "stderr",
     "output_type": "stream",
     "text": [
      "Validate: 100%|\u001B[34m███████████████████████\u001B[0m| 74/74 [00:08<00:00,  8.93batch/s, Loss: 0.4391 | Precision: 79.66%]\u001B[0m\n"
     ]
    },
    {
     "name": "stdout",
     "output_type": "stream",
     "text": [
      "Epoch 18 | Avg Loss: 0.4028 | Avg Precision: 79.74% | Patience: 0\n"
     ]
    },
    {
     "name": "stderr",
     "output_type": "stream",
     "text": [
      "Train: 100%|\u001B[32m████████████████████████\u001B[0m| 295/295 [00:34<00:00,  8.50batch/s, Loss: 0.2987 | Precision: 80.49%]\u001B[0m\n"
     ]
    },
    {
     "name": "stdout",
     "output_type": "stream",
     "text": [
      "Epoch 19 | Avg Loss: 0.3947 | Avg Precision: 80.21%\n"
     ]
    },
    {
     "name": "stderr",
     "output_type": "stream",
     "text": [
      "Train: 100%|\u001B[32m████████████████████████\u001B[0m| 295/295 [00:34<00:00,  8.51batch/s, Loss: 0.2915 | Precision: 80.53%]\u001B[0m\n"
     ]
    },
    {
     "name": "stdout",
     "output_type": "stream",
     "text": [
      "Epoch 20 | Avg Loss: 0.3943 | Avg Precision: 80.32%\n"
     ]
    },
    {
     "name": "stderr",
     "output_type": "stream",
     "text": [
      "Train: 100%|\u001B[32m████████████████████████\u001B[0m| 295/295 [00:34<00:00,  8.52batch/s, Loss: 0.2785 | Precision: 80.63%]\u001B[0m\n"
     ]
    },
    {
     "name": "stdout",
     "output_type": "stream",
     "text": [
      "Epoch 21 | Avg Loss: 0.3929 | Avg Precision: 80.43%\n"
     ]
    },
    {
     "name": "stderr",
     "output_type": "stream",
     "text": [
      "Validate: 100%|\u001B[34m███████████████████████\u001B[0m| 74/74 [00:08<00:00,  8.70batch/s, Loss: 0.4234 | Precision: 80.09%]\u001B[0m\n"
     ]
    },
    {
     "name": "stdout",
     "output_type": "stream",
     "text": [
      "Epoch 21 | Avg Loss: 0.3999 | Avg Precision: 80.12% | Patience: 0\n"
     ]
    },
    {
     "name": "stderr",
     "output_type": "stream",
     "text": [
      "Train: 100%|\u001B[32m████████████████████████\u001B[0m| 295/295 [00:34<00:00,  8.49batch/s, Loss: 0.2834 | Precision: 80.81%]\u001B[0m\n"
     ]
    },
    {
     "name": "stdout",
     "output_type": "stream",
     "text": [
      "Epoch 22 | Avg Loss: 0.3905 | Avg Precision: 80.60%\n"
     ]
    },
    {
     "name": "stderr",
     "output_type": "stream",
     "text": [
      "Train: 100%|\u001B[32m████████████████████████\u001B[0m| 295/295 [00:34<00:00,  8.51batch/s, Loss: 0.2884 | Precision: 80.92%]\u001B[0m\n"
     ]
    },
    {
     "name": "stdout",
     "output_type": "stream",
     "text": [
      "Epoch 23 | Avg Loss: 0.3890 | Avg Precision: 80.74%\n"
     ]
    },
    {
     "name": "stderr",
     "output_type": "stream",
     "text": [
      "Train: 100%|\u001B[32m████████████████████████\u001B[0m| 295/295 [00:34<00:00,  8.48batch/s, Loss: 0.2705 | Precision: 81.02%]\u001B[0m\n"
     ]
    },
    {
     "name": "stdout",
     "output_type": "stream",
     "text": [
      "Epoch 24 | Avg Loss: 0.3871 | Avg Precision: 80.74%\n"
     ]
    },
    {
     "name": "stderr",
     "output_type": "stream",
     "text": [
      "Validate: 100%|\u001B[34m███████████████████████\u001B[0m| 74/74 [00:08<00:00,  8.83batch/s, Loss: 0.4155 | Precision: 80.74%]\u001B[0m\n"
     ]
    },
    {
     "name": "stdout",
     "output_type": "stream",
     "text": [
      "Epoch 24 | Avg Loss: 0.3900 | Avg Precision: 80.76% | Patience: 0\n"
     ]
    },
    {
     "name": "stderr",
     "output_type": "stream",
     "text": [
      "Train: 100%|\u001B[32m████████████████████████\u001B[0m| 295/295 [00:34<00:00,  8.52batch/s, Loss: 0.2910 | Precision: 81.15%]\u001B[0m\n"
     ]
    },
    {
     "name": "stdout",
     "output_type": "stream",
     "text": [
      "Epoch 25 | Avg Loss: 0.3856 | Avg Precision: 80.97%\n"
     ]
    },
    {
     "name": "stderr",
     "output_type": "stream",
     "text": [
      "Train: 100%|\u001B[32m████████████████████████\u001B[0m| 295/295 [00:34<00:00,  8.57batch/s, Loss: 0.3032 | Precision: 81.30%]\u001B[0m\n"
     ]
    },
    {
     "name": "stdout",
     "output_type": "stream",
     "text": [
      "Epoch 26 | Avg Loss: 0.3829 | Avg Precision: 81.08%\n"
     ]
    },
    {
     "name": "stderr",
     "output_type": "stream",
     "text": [
      "Train: 100%|\u001B[32m████████████████████████\u001B[0m| 295/295 [00:34<00:00,  8.49batch/s, Loss: 0.2635 | Precision: 81.18%]\u001B[0m\n"
     ]
    },
    {
     "name": "stdout",
     "output_type": "stream",
     "text": [
      "Epoch 27 | Avg Loss: 0.3847 | Avg Precision: 80.71%\n"
     ]
    },
    {
     "name": "stderr",
     "output_type": "stream",
     "text": [
      "Validate: 100%|\u001B[34m███████████████████████\u001B[0m| 74/74 [00:08<00:00,  8.90batch/s, Loss: 0.4037 | Precision: 80.80%]\u001B[0m\n"
     ]
    },
    {
     "name": "stdout",
     "output_type": "stream",
     "text": [
      "Epoch 27 | Avg Loss: 0.3859 | Avg Precision: 80.88% | Patience: 0\n"
     ]
    },
    {
     "name": "stderr",
     "output_type": "stream",
     "text": [
      "Train: 100%|\u001B[32m████████████████████████\u001B[0m| 295/295 [00:34<00:00,  8.55batch/s, Loss: 0.2693 | Precision: 81.43%]\u001B[0m\n"
     ]
    },
    {
     "name": "stdout",
     "output_type": "stream",
     "text": [
      "Epoch 28 | Avg Loss: 0.3816 | Avg Precision: 81.20%\n"
     ]
    },
    {
     "name": "stderr",
     "output_type": "stream",
     "text": [
      "Train: 100%|\u001B[32m████████████████████████\u001B[0m| 295/295 [00:34<00:00,  8.48batch/s, Loss: 0.2861 | Precision: 81.53%]\u001B[0m\n"
     ]
    },
    {
     "name": "stdout",
     "output_type": "stream",
     "text": [
      "Epoch 29 | Avg Loss: 0.3803 | Avg Precision: 81.34%\n"
     ]
    },
    {
     "name": "stderr",
     "output_type": "stream",
     "text": [
      "Train: 100%|\u001B[32m████████████████████████\u001B[0m| 295/295 [00:34<00:00,  8.60batch/s, Loss: 0.2887 | Precision: 81.52%]\u001B[0m\n"
     ]
    },
    {
     "name": "stdout",
     "output_type": "stream",
     "text": [
      "Epoch 30 | Avg Loss: 0.3801 | Avg Precision: 81.24%\n"
     ]
    },
    {
     "name": "stderr",
     "output_type": "stream",
     "text": [
      "Validate: 100%|\u001B[34m███████████████████████\u001B[0m| 74/74 [00:08<00:00,  8.70batch/s, Loss: 0.4152 | Precision: 80.64%]\u001B[0m\n"
     ]
    },
    {
     "name": "stdout",
     "output_type": "stream",
     "text": [
      "Epoch 30 | Avg Loss: 0.3897 | Avg Precision: 80.68% | Patience: 1\n"
     ]
    },
    {
     "name": "stderr",
     "output_type": "stream",
     "text": [
      "Train: 100%|\u001B[32m████████████████████████\u001B[0m| 295/295 [00:34<00:00,  8.53batch/s, Loss: 0.3294 | Precision: 81.55%]\u001B[0m\n"
     ]
    },
    {
     "name": "stdout",
     "output_type": "stream",
     "text": [
      "Epoch 31 | Avg Loss: 0.3797 | Avg Precision: 81.29%\n"
     ]
    },
    {
     "name": "stderr",
     "output_type": "stream",
     "text": [
      "Train: 100%|\u001B[32m████████████████████████\u001B[0m| 295/295 [00:34<00:00,  8.49batch/s, Loss: 0.2886 | Precision: 81.45%]\u001B[0m\n"
     ]
    },
    {
     "name": "stdout",
     "output_type": "stream",
     "text": [
      "Epoch 32 | Avg Loss: 0.3805 | Avg Precision: 80.87%\n"
     ]
    },
    {
     "name": "stderr",
     "output_type": "stream",
     "text": [
      "Train: 100%|\u001B[32m████████████████████████\u001B[0m| 295/295 [00:34<00:00,  8.48batch/s, Loss: 0.3080 | Precision: 81.63%]\u001B[0m\n"
     ]
    },
    {
     "name": "stdout",
     "output_type": "stream",
     "text": [
      "Epoch 33 | Avg Loss: 0.3783 | Avg Precision: 81.40%\n"
     ]
    },
    {
     "name": "stderr",
     "output_type": "stream",
     "text": [
      "Validate: 100%|\u001B[34m███████████████████████\u001B[0m| 74/74 [00:08<00:00,  8.85batch/s, Loss: 0.4150 | Precision: 80.65%]\u001B[0m\n"
     ]
    },
    {
     "name": "stdout",
     "output_type": "stream",
     "text": [
      "Epoch 33 | Avg Loss: 0.3880 | Avg Precision: 80.64% | Patience: 2\n"
     ]
    },
    {
     "name": "stderr",
     "output_type": "stream",
     "text": [
      "Train: 100%|\u001B[32m████████████████████████\u001B[0m| 295/295 [00:34<00:00,  8.47batch/s, Loss: 0.3724 | Precision: 81.68%]\u001B[0m\n"
     ]
    },
    {
     "name": "stdout",
     "output_type": "stream",
     "text": [
      "Epoch 34 | Avg Loss: 0.3774 | Avg Precision: 81.38%\n"
     ]
    },
    {
     "name": "stderr",
     "output_type": "stream",
     "text": [
      "Train: 100%|\u001B[32m████████████████████████\u001B[0m| 295/295 [00:34<00:00,  8.52batch/s, Loss: 0.2837 | Precision: 81.54%]\u001B[0m\n"
     ]
    },
    {
     "name": "stdout",
     "output_type": "stream",
     "text": [
      "Epoch 35 | Avg Loss: 0.3794 | Avg Precision: 81.02%\n"
     ]
    },
    {
     "name": "stderr",
     "output_type": "stream",
     "text": [
      "Train: 100%|\u001B[32m████████████████████████\u001B[0m| 295/295 [00:34<00:00,  8.53batch/s, Loss: 0.2989 | Precision: 81.70%]\u001B[0m\n"
     ]
    },
    {
     "name": "stdout",
     "output_type": "stream",
     "text": [
      "Epoch 36 | Avg Loss: 0.3770 | Avg Precision: 81.40%\n"
     ]
    },
    {
     "name": "stderr",
     "output_type": "stream",
     "text": [
      "Validate: 100%|\u001B[34m███████████████████████\u001B[0m| 74/74 [00:08<00:00,  8.90batch/s, Loss: 0.4133 | Precision: 80.83%]\u001B[0m\n"
     ]
    },
    {
     "name": "stdout",
     "output_type": "stream",
     "text": [
      "Epoch 36 | Avg Loss: 0.3873 | Avg Precision: 80.80% | Patience: 3\n"
     ]
    },
    {
     "name": "stderr",
     "output_type": "stream",
     "text": [
      "Train: 100%|\u001B[32m████████████████████████\u001B[0m| 295/295 [00:34<00:00,  8.63batch/s, Loss: 0.2948 | Precision: 82.90%]\u001B[0m\n"
     ]
    },
    {
     "name": "stdout",
     "output_type": "stream",
     "text": [
      "Epoch 37 | Avg Loss: 0.3578 | Avg Precision: 82.58%\n"
     ]
    },
    {
     "name": "stderr",
     "output_type": "stream",
     "text": [
      "Train: 100%|\u001B[32m████████████████████████\u001B[0m| 295/295 [00:33<00:00,  8.74batch/s, Loss: 0.2891 | Precision: 83.07%]\u001B[0m\n"
     ]
    },
    {
     "name": "stdout",
     "output_type": "stream",
     "text": [
      "Epoch 38 | Avg Loss: 0.3550 | Avg Precision: 82.96%\n"
     ]
    },
    {
     "name": "stderr",
     "output_type": "stream",
     "text": [
      "Train: 100%|\u001B[32m████████████████████████\u001B[0m| 295/295 [00:34<00:00,  8.62batch/s, Loss: 0.2894 | Precision: 83.12%]\u001B[0m\n"
     ]
    },
    {
     "name": "stdout",
     "output_type": "stream",
     "text": [
      "Epoch 39 | Avg Loss: 0.3544 | Avg Precision: 83.02%\n"
     ]
    },
    {
     "name": "stderr",
     "output_type": "stream",
     "text": [
      "Validate: 100%|\u001B[34m███████████████████████\u001B[0m| 74/74 [00:08<00:00,  8.36batch/s, Loss: 0.3829 | Precision: 83.14%]\u001B[0m\n"
     ]
    },
    {
     "name": "stdout",
     "output_type": "stream",
     "text": [
      "Epoch 39 | Avg Loss: 0.3517 | Avg Precision: 83.10% | Patience: 0\n"
     ]
    },
    {
     "name": "stderr",
     "output_type": "stream",
     "text": [
      "Train: 100%|\u001B[32m████████████████████████\u001B[0m| 295/295 [00:34<00:00,  8.61batch/s, Loss: 0.2903 | Precision: 83.16%]\u001B[0m\n"
     ]
    },
    {
     "name": "stdout",
     "output_type": "stream",
     "text": [
      "Epoch 40 | Avg Loss: 0.3540 | Avg Precision: 83.07%\n"
     ]
    },
    {
     "name": "stderr",
     "output_type": "stream",
     "text": [
      "Train: 100%|\u001B[32m████████████████████████\u001B[0m| 295/295 [00:34<00:00,  8.55batch/s, Loss: 0.2934 | Precision: 83.17%]\u001B[0m\n"
     ]
    },
    {
     "name": "stdout",
     "output_type": "stream",
     "text": [
      "Epoch 41 | Avg Loss: 0.3537 | Avg Precision: 83.09%\n"
     ]
    },
    {
     "name": "stderr",
     "output_type": "stream",
     "text": [
      "Train: 100%|\u001B[32m████████████████████████\u001B[0m| 295/295 [00:34<00:00,  8.55batch/s, Loss: 0.2905 | Precision: 83.19%]\u001B[0m\n"
     ]
    },
    {
     "name": "stdout",
     "output_type": "stream",
     "text": [
      "Epoch 42 | Avg Loss: 0.3534 | Avg Precision: 83.12%\n"
     ]
    },
    {
     "name": "stderr",
     "output_type": "stream",
     "text": [
      "Validate: 100%|\u001B[34m███████████████████████\u001B[0m| 74/74 [00:08<00:00,  8.87batch/s, Loss: 0.3813 | Precision: 83.30%]\u001B[0m\n"
     ]
    },
    {
     "name": "stdout",
     "output_type": "stream",
     "text": [
      "Epoch 42 | Avg Loss: 0.3504 | Avg Precision: 83.30% | Patience: 0\n"
     ]
    },
    {
     "name": "stderr",
     "output_type": "stream",
     "text": [
      "Train: 100%|\u001B[32m████████████████████████\u001B[0m| 295/295 [00:34<00:00,  8.57batch/s, Loss: 0.2911 | Precision: 83.20%]\u001B[0m\n"
     ]
    },
    {
     "name": "stdout",
     "output_type": "stream",
     "text": [
      "Epoch 43 | Avg Loss: 0.3531 | Avg Precision: 83.13%\n"
     ]
    },
    {
     "name": "stderr",
     "output_type": "stream",
     "text": [
      "Train: 100%|\u001B[32m████████████████████████\u001B[0m| 295/295 [00:34<00:00,  8.57batch/s, Loss: 0.2924 | Precision: 83.22%]\u001B[0m\n"
     ]
    },
    {
     "name": "stdout",
     "output_type": "stream",
     "text": [
      "Epoch 44 | Avg Loss: 0.3528 | Avg Precision: 83.15%\n"
     ]
    },
    {
     "name": "stderr",
     "output_type": "stream",
     "text": [
      "Train: 100%|\u001B[32m████████████████████████\u001B[0m| 295/295 [00:34<00:00,  8.56batch/s, Loss: 0.2964 | Precision: 83.23%]\u001B[0m\n"
     ]
    },
    {
     "name": "stdout",
     "output_type": "stream",
     "text": [
      "Epoch 45 | Avg Loss: 0.3527 | Avg Precision: 83.15%\n"
     ]
    },
    {
     "name": "stderr",
     "output_type": "stream",
     "text": [
      "Validate: 100%|\u001B[34m███████████████████████\u001B[0m| 74/74 [00:08<00:00,  8.90batch/s, Loss: 0.3816 | Precision: 83.41%]\u001B[0m\n"
     ]
    },
    {
     "name": "stdout",
     "output_type": "stream",
     "text": [
      "Epoch 45 | Avg Loss: 0.3496 | Avg Precision: 83.37% | Patience: 0\n"
     ]
    },
    {
     "name": "stderr",
     "output_type": "stream",
     "text": [
      "Train: 100%|\u001B[32m████████████████████████\u001B[0m| 295/295 [00:34<00:00,  8.58batch/s, Loss: 0.2941 | Precision: 83.25%]\u001B[0m\n"
     ]
    },
    {
     "name": "stdout",
     "output_type": "stream",
     "text": [
      "Epoch 46 | Avg Loss: 0.3524 | Avg Precision: 83.19%\n"
     ]
    },
    {
     "name": "stderr",
     "output_type": "stream",
     "text": [
      "Train: 100%|\u001B[32m████████████████████████\u001B[0m| 295/295 [00:34<00:00,  8.54batch/s, Loss: 0.2911 | Precision: 83.26%]\u001B[0m\n"
     ]
    },
    {
     "name": "stdout",
     "output_type": "stream",
     "text": [
      "Epoch 47 | Avg Loss: 0.3522 | Avg Precision: 83.20%\n"
     ]
    },
    {
     "name": "stderr",
     "output_type": "stream",
     "text": [
      "Train: 100%|\u001B[32m████████████████████████\u001B[0m| 295/295 [00:34<00:00,  8.57batch/s, Loss: 0.2947 | Precision: 83.26%]\u001B[0m\n"
     ]
    },
    {
     "name": "stdout",
     "output_type": "stream",
     "text": [
      "Epoch 48 | Avg Loss: 0.3520 | Avg Precision: 83.19%\n"
     ]
    },
    {
     "name": "stderr",
     "output_type": "stream",
     "text": [
      "Validate: 100%|\u001B[34m███████████████████████\u001B[0m| 74/74 [00:08<00:00,  8.74batch/s, Loss: 0.3808 | Precision: 83.41%]\u001B[0m\n"
     ]
    },
    {
     "name": "stdout",
     "output_type": "stream",
     "text": [
      "Epoch 48 | Avg Loss: 0.3492 | Avg Precision: 83.36% | Patience: 1\n"
     ]
    },
    {
     "name": "stderr",
     "output_type": "stream",
     "text": [
      "Train: 100%|\u001B[32m████████████████████████\u001B[0m| 295/295 [00:34<00:00,  8.60batch/s, Loss: 0.2920 | Precision: 83.27%]\u001B[0m\n"
     ]
    },
    {
     "name": "stdout",
     "output_type": "stream",
     "text": [
      "Epoch 49 | Avg Loss: 0.3519 | Avg Precision: 83.20%\n"
     ]
    },
    {
     "name": "stderr",
     "output_type": "stream",
     "text": [
      "Train: 100%|\u001B[32m████████████████████████\u001B[0m| 295/295 [00:34<00:00,  8.53batch/s, Loss: 0.2878 | Precision: 83.30%]\u001B[0m\n"
     ]
    },
    {
     "name": "stdout",
     "output_type": "stream",
     "text": [
      "Epoch 50 | Avg Loss: 0.3516 | Avg Precision: 83.24%\n"
     ]
    },
    {
     "name": "stderr",
     "output_type": "stream",
     "text": [
      "Train: 100%|\u001B[32m████████████████████████\u001B[0m| 295/295 [00:34<00:00,  8.53batch/s, Loss: 0.2910 | Precision: 83.28%]\u001B[0m\n"
     ]
    },
    {
     "name": "stdout",
     "output_type": "stream",
     "text": [
      "Epoch 51 | Avg Loss: 0.3514 | Avg Precision: 83.21%\n"
     ]
    },
    {
     "name": "stderr",
     "output_type": "stream",
     "text": [
      "Validate: 100%|\u001B[34m███████████████████████\u001B[0m| 74/74 [00:08<00:00,  8.87batch/s, Loss: 0.3806 | Precision: 83.47%]\u001B[0m\n"
     ]
    },
    {
     "name": "stdout",
     "output_type": "stream",
     "text": [
      "Epoch 51 | Avg Loss: 0.3487 | Avg Precision: 83.44% | Patience: 0\n"
     ]
    },
    {
     "name": "stderr",
     "output_type": "stream",
     "text": [
      "Train: 100%|\u001B[32m████████████████████████\u001B[0m| 295/295 [00:34<00:00,  8.57batch/s, Loss: 0.2847 | Precision: 83.31%]\u001B[0m\n"
     ]
    },
    {
     "name": "stdout",
     "output_type": "stream",
     "text": [
      "Epoch 52 | Avg Loss: 0.3512 | Avg Precision: 83.25%\n"
     ]
    },
    {
     "name": "stderr",
     "output_type": "stream",
     "text": [
      "Train: 100%|\u001B[32m████████████████████████\u001B[0m| 295/295 [00:34<00:00,  8.56batch/s, Loss: 0.2884 | Precision: 83.33%]\u001B[0m\n"
     ]
    },
    {
     "name": "stdout",
     "output_type": "stream",
     "text": [
      "Epoch 53 | Avg Loss: 0.3511 | Avg Precision: 83.27%\n"
     ]
    },
    {
     "name": "stderr",
     "output_type": "stream",
     "text": [
      "Train: 100%|\u001B[32m████████████████████████\u001B[0m| 295/295 [00:34<00:00,  8.53batch/s, Loss: 0.2813 | Precision: 83.33%]\u001B[0m\n"
     ]
    },
    {
     "name": "stdout",
     "output_type": "stream",
     "text": [
      "Epoch 54 | Avg Loss: 0.3511 | Avg Precision: 83.25%\n"
     ]
    },
    {
     "name": "stderr",
     "output_type": "stream",
     "text": [
      "Validate: 100%|\u001B[34m███████████████████████\u001B[0m| 74/74 [00:08<00:00,  8.87batch/s, Loss: 0.3798 | Precision: 83.45%]\u001B[0m\n"
     ]
    },
    {
     "name": "stdout",
     "output_type": "stream",
     "text": [
      "Epoch 54 | Avg Loss: 0.3483 | Avg Precision: 83.44% | Patience: 0\n"
     ]
    },
    {
     "name": "stderr",
     "output_type": "stream",
     "text": [
      "Train: 100%|\u001B[32m████████████████████████\u001B[0m| 295/295 [00:34<00:00,  8.55batch/s, Loss: 0.2812 | Precision: 83.33%]\u001B[0m\n"
     ]
    },
    {
     "name": "stdout",
     "output_type": "stream",
     "text": [
      "Epoch 55 | Avg Loss: 0.3508 | Avg Precision: 83.26%\n"
     ]
    },
    {
     "name": "stderr",
     "output_type": "stream",
     "text": [
      "Train: 100%|\u001B[32m████████████████████████\u001B[0m| 295/295 [00:34<00:00,  8.56batch/s, Loss: 0.2810 | Precision: 83.35%]\u001B[0m\n"
     ]
    },
    {
     "name": "stdout",
     "output_type": "stream",
     "text": [
      "Epoch 56 | Avg Loss: 0.3506 | Avg Precision: 83.28%\n"
     ]
    },
    {
     "name": "stderr",
     "output_type": "stream",
     "text": [
      "Train: 100%|\u001B[32m████████████████████████\u001B[0m| 295/295 [00:34<00:00,  8.58batch/s, Loss: 0.2824 | Precision: 83.35%]\u001B[0m\n"
     ]
    },
    {
     "name": "stdout",
     "output_type": "stream",
     "text": [
      "Epoch 57 | Avg Loss: 0.3505 | Avg Precision: 83.28%\n"
     ]
    },
    {
     "name": "stderr",
     "output_type": "stream",
     "text": [
      "Validate: 100%|\u001B[34m███████████████████████\u001B[0m| 74/74 [00:08<00:00,  8.80batch/s, Loss: 0.3794 | Precision: 83.50%]\u001B[0m\n"
     ]
    },
    {
     "name": "stdout",
     "output_type": "stream",
     "text": [
      "Epoch 57 | Avg Loss: 0.3481 | Avg Precision: 83.49% | Patience: 0\n"
     ]
    },
    {
     "name": "stderr",
     "output_type": "stream",
     "text": [
      "Train: 100%|\u001B[32m████████████████████████\u001B[0m| 295/295 [00:34<00:00,  8.57batch/s, Loss: 0.2770 | Precision: 83.37%]\u001B[0m\n"
     ]
    },
    {
     "name": "stdout",
     "output_type": "stream",
     "text": [
      "Epoch 58 | Avg Loss: 0.3505 | Avg Precision: 83.29%\n"
     ]
    },
    {
     "name": "stderr",
     "output_type": "stream",
     "text": [
      "Train: 100%|\u001B[32m████████████████████████\u001B[0m| 295/295 [00:34<00:00,  8.55batch/s, Loss: 0.2755 | Precision: 83.36%]\u001B[0m\n"
     ]
    },
    {
     "name": "stdout",
     "output_type": "stream",
     "text": [
      "Epoch 59 | Avg Loss: 0.3503 | Avg Precision: 83.29%\n"
     ]
    },
    {
     "name": "stderr",
     "output_type": "stream",
     "text": [
      "Train: 100%|\u001B[32m████████████████████████\u001B[0m| 295/295 [00:34<00:00,  8.67batch/s, Loss: 0.2825 | Precision: 83.38%]\u001B[0m\n"
     ]
    },
    {
     "name": "stdout",
     "output_type": "stream",
     "text": [
      "Epoch 60 | Avg Loss: 0.3502 | Avg Precision: 83.30%\n"
     ]
    },
    {
     "name": "stderr",
     "output_type": "stream",
     "text": [
      "Validate: 100%|\u001B[34m███████████████████████\u001B[0m| 74/74 [00:08<00:00,  9.20batch/s, Loss: 0.3796 | Precision: 83.46%]\u001B[0m\n"
     ]
    },
    {
     "name": "stdout",
     "output_type": "stream",
     "text": [
      "Epoch 60 | Avg Loss: 0.3480 | Avg Precision: 83.44% | Patience: 1\n"
     ]
    },
    {
     "name": "stderr",
     "output_type": "stream",
     "text": [
      "Train: 100%|\u001B[32m████████████████████████\u001B[0m| 295/295 [00:33<00:00,  8.88batch/s, Loss: 0.2774 | Precision: 83.39%]\u001B[0m\n"
     ]
    },
    {
     "name": "stdout",
     "output_type": "stream",
     "text": [
      "Epoch 61 | Avg Loss: 0.3502 | Avg Precision: 83.31%\n"
     ]
    },
    {
     "name": "stderr",
     "output_type": "stream",
     "text": [
      "Train: 100%|\u001B[32m████████████████████████\u001B[0m| 295/295 [00:33<00:00,  8.86batch/s, Loss: 0.2763 | Precision: 83.40%]\u001B[0m\n"
     ]
    },
    {
     "name": "stdout",
     "output_type": "stream",
     "text": [
      "Epoch 62 | Avg Loss: 0.3499 | Avg Precision: 83.32%\n"
     ]
    },
    {
     "name": "stderr",
     "output_type": "stream",
     "text": [
      "Train: 100%|\u001B[32m████████████████████████\u001B[0m| 295/295 [00:33<00:00,  8.90batch/s, Loss: 0.2749 | Precision: 83.40%]\u001B[0m\n"
     ]
    },
    {
     "name": "stdout",
     "output_type": "stream",
     "text": [
      "Epoch 63 | Avg Loss: 0.3499 | Avg Precision: 83.32%\n"
     ]
    },
    {
     "name": "stderr",
     "output_type": "stream",
     "text": [
      "Validate: 100%|\u001B[34m███████████████████████\u001B[0m| 74/74 [00:08<00:00,  9.13batch/s, Loss: 0.3787 | Precision: 83.45%]\u001B[0m\n"
     ]
    },
    {
     "name": "stdout",
     "output_type": "stream",
     "text": [
      "Epoch 63 | Avg Loss: 0.3477 | Avg Precision: 83.44% | Patience: 2\n"
     ]
    },
    {
     "name": "stderr",
     "output_type": "stream",
     "text": [
      "Train: 100%|\u001B[32m████████████████████████\u001B[0m| 295/295 [00:33<00:00,  8.91batch/s, Loss: 0.2720 | Precision: 83.40%]\u001B[0m\n"
     ]
    },
    {
     "name": "stdout",
     "output_type": "stream",
     "text": [
      "Epoch 64 | Avg Loss: 0.3497 | Avg Precision: 83.32%\n"
     ]
    },
    {
     "name": "stderr",
     "output_type": "stream",
     "text": [
      "Train: 100%|\u001B[32m████████████████████████\u001B[0m| 295/295 [00:33<00:00,  8.90batch/s, Loss: 0.2754 | Precision: 83.42%]\u001B[0m\n"
     ]
    },
    {
     "name": "stdout",
     "output_type": "stream",
     "text": [
      "Epoch 65 | Avg Loss: 0.3496 | Avg Precision: 83.35%\n"
     ]
    },
    {
     "name": "stderr",
     "output_type": "stream",
     "text": [
      "Train: 100%|\u001B[32m████████████████████████\u001B[0m| 295/295 [00:33<00:00,  8.92batch/s, Loss: 0.2718 | Precision: 83.42%]\u001B[0m\n"
     ]
    },
    {
     "name": "stdout",
     "output_type": "stream",
     "text": [
      "Epoch 66 | Avg Loss: 0.3496 | Avg Precision: 83.32%\n"
     ]
    },
    {
     "name": "stderr",
     "output_type": "stream",
     "text": [
      "Validate: 100%|\u001B[34m███████████████████████\u001B[0m| 74/74 [00:08<00:00,  9.17batch/s, Loss: 0.3781 | Precision: 83.48%]\u001B[0m\n"
     ]
    },
    {
     "name": "stdout",
     "output_type": "stream",
     "text": [
      "Epoch 66 | Avg Loss: 0.3473 | Avg Precision: 83.43% | Patience: 3\n"
     ]
    },
    {
     "name": "stderr",
     "output_type": "stream",
     "text": [
      "Train: 100%|\u001B[32m████████████████████████\u001B[0m| 295/295 [00:32<00:00,  8.99batch/s, Loss: 0.2726 | Precision: 83.43%]\u001B[0m\n"
     ]
    },
    {
     "name": "stdout",
     "output_type": "stream",
     "text": [
      "Epoch 67 | Avg Loss: 0.3493 | Avg Precision: 83.36%\n"
     ]
    },
    {
     "name": "stderr",
     "output_type": "stream",
     "text": [
      "Train: 100%|\u001B[32m████████████████████████\u001B[0m| 295/295 [00:32<00:00,  8.95batch/s, Loss: 0.2737 | Precision: 83.44%]\u001B[0m\n"
     ]
    },
    {
     "name": "stdout",
     "output_type": "stream",
     "text": [
      "Epoch 68 | Avg Loss: 0.3493 | Avg Precision: 83.37%\n"
     ]
    },
    {
     "name": "stderr",
     "output_type": "stream",
     "text": [
      "Train: 100%|\u001B[32m████████████████████████\u001B[0m| 295/295 [00:33<00:00,  8.93batch/s, Loss: 0.2777 | Precision: 83.45%]\u001B[0m\n"
     ]
    },
    {
     "name": "stdout",
     "output_type": "stream",
     "text": [
      "Epoch 69 | Avg Loss: 0.3492 | Avg Precision: 83.37%\n"
     ]
    },
    {
     "name": "stderr",
     "output_type": "stream",
     "text": [
      "Validate: 100%|\u001B[34m███████████████████████\u001B[0m| 74/74 [00:07<00:00,  9.27batch/s, Loss: 0.3769 | Precision: 83.48%]\u001B[0m\n"
     ]
    },
    {
     "name": "stdout",
     "output_type": "stream",
     "text": [
      "Epoch 69 | Avg Loss: 0.3471 | Avg Precision: 83.48% | Patience: 4\n"
     ]
    },
    {
     "name": "stderr",
     "output_type": "stream",
     "text": [
      "Train: 100%|\u001B[32m████████████████████████\u001B[0m| 295/295 [00:32<00:00,  8.97batch/s, Loss: 0.2732 | Precision: 83.45%]\u001B[0m\n"
     ]
    },
    {
     "name": "stdout",
     "output_type": "stream",
     "text": [
      "Epoch 70 | Avg Loss: 0.3491 | Avg Precision: 83.35%\n"
     ]
    },
    {
     "name": "stderr",
     "output_type": "stream",
     "text": [
      "Train: 100%|\u001B[32m████████████████████████\u001B[0m| 295/295 [00:33<00:00,  8.80batch/s, Loss: 0.2723 | Precision: 83.46%]\u001B[0m\n"
     ]
    },
    {
     "name": "stdout",
     "output_type": "stream",
     "text": [
      "Epoch 71 | Avg Loss: 0.3490 | Avg Precision: 83.38%\n"
     ]
    },
    {
     "name": "stderr",
     "output_type": "stream",
     "text": [
      "Train: 100%|\u001B[32m████████████████████████\u001B[0m| 295/295 [00:33<00:00,  8.75batch/s, Loss: 0.2721 | Precision: 83.46%]\u001B[0m\n"
     ]
    },
    {
     "name": "stdout",
     "output_type": "stream",
     "text": [
      "Epoch 72 | Avg Loss: 0.3489 | Avg Precision: 83.38%\n"
     ]
    },
    {
     "name": "stderr",
     "output_type": "stream",
     "text": [
      "Validate: 100%|\u001B[34m███████████████████████\u001B[0m| 74/74 [00:08<00:00,  9.09batch/s, Loss: 0.3770 | Precision: 83.49%]\u001B[0m"
     ]
    },
    {
     "name": "stdout",
     "output_type": "stream",
     "text": [
      "Early Stopping: Precision stagnated or decreased too many times. Best Validation: 83.49%\n",
      "Training Complete\n"
     ]
    },
    {
     "name": "stderr",
     "output_type": "stream",
     "text": [
      "\n"
     ]
    }
   ],
   "source": [
    "model = Ann()\n",
    "model = model.to(device)\n",
    "criterion = nn.CrossEntropyLoss()\n",
    "optimizer = optim.Adam(model.parameters(), lr=.03)\n",
    "scheduler = ReduceLROnPlateau(optimizer, 'min', patience=2)\n",
    "epochs = 100\n",
    "\n",
    "model2 = train_validate(model, criterion, optimizer, scheduler, epochs, train_loader, val_loader)\n",
    "torch.save(model2.state_dict(), '.\\\\models\\\\downsample\\\\ann\\\\model2.pth')"
   ]
  },
  {
   "cell_type": "markdown",
   "id": "ff535cd5-f80d-4856-a515-22b71c32b09b",
   "metadata": {
    "jp-MarkdownHeadingCollapsed": true
   },
   "source": [
    "### 10-31-23"
   ]
  },
  {
   "cell_type": "markdown",
   "id": "5c98b71d-bfc2-4dcd-bb46-48150875ae3a",
   "metadata": {
    "jp-MarkdownHeadingCollapsed": true
   },
   "source": [
    "#### Model 3 - Batch 512"
   ]
  },
  {
   "cell_type": "code",
   "execution_count": 23,
   "id": "e91ad738-50c6-4bb8-8aca-ec9f973be611",
   "metadata": {},
   "outputs": [
    {
     "name": "stderr",
     "output_type": "stream",
     "text": [
      "Train: 100%|\u001B[32m████████████████████████\u001B[0m| 589/589 [00:43<00:00, 13.40batch/s, Loss: 0.3871 | Precision: 73.61%]\u001B[0m\n"
     ]
    },
    {
     "name": "stdout",
     "output_type": "stream",
     "text": [
      "Epoch 1 | Avg Loss: 0.5078 | Avg Precision: 71.51%\n"
     ]
    },
    {
     "name": "stderr",
     "output_type": "stream",
     "text": [
      "Train: 100%|\u001B[32m████████████████████████\u001B[0m| 589/589 [00:44<00:00, 13.16batch/s, Loss: 0.4191 | Precision: 76.23%]\u001B[0m\n"
     ]
    },
    {
     "name": "stdout",
     "output_type": "stream",
     "text": [
      "Epoch 2 | Avg Loss: 0.4620 | Avg Precision: 75.77%\n"
     ]
    },
    {
     "name": "stderr",
     "output_type": "stream",
     "text": [
      "Train: 100%|\u001B[32m████████████████████████\u001B[0m| 589/589 [00:44<00:00, 13.28batch/s, Loss: 0.5046 | Precision: 76.87%]\u001B[0m\n"
     ]
    },
    {
     "name": "stdout",
     "output_type": "stream",
     "text": [
      "Epoch 3 | Avg Loss: 0.4508 | Avg Precision: 76.55%\n"
     ]
    },
    {
     "name": "stderr",
     "output_type": "stream",
     "text": [
      "Validate: 100%|\u001B[34m█████████████████████\u001B[0m| 148/148 [00:09<00:00, 15.52batch/s, Loss: 0.1176 | Precision: 73.09%]\u001B[0m\n"
     ]
    },
    {
     "name": "stdout",
     "output_type": "stream",
     "text": [
      "Epoch 3 | Avg Loss: 0.5097 | Avg Precision: 73.30% | Patience: 0\n"
     ]
    },
    {
     "name": "stderr",
     "output_type": "stream",
     "text": [
      "Train: 100%|\u001B[32m████████████████████████\u001B[0m| 589/589 [00:40<00:00, 14.69batch/s, Loss: 0.4135 | Precision: 76.53%]\u001B[0m\n"
     ]
    },
    {
     "name": "stdout",
     "output_type": "stream",
     "text": [
      "Epoch 4 | Avg Loss: 0.4522 | Avg Precision: 74.78%\n"
     ]
    },
    {
     "name": "stderr",
     "output_type": "stream",
     "text": [
      "Train: 100%|\u001B[32m████████████████████████\u001B[0m| 589/589 [00:40<00:00, 14.59batch/s, Loss: 0.2945 | Precision: 78.79%]\u001B[0m\n"
     ]
    },
    {
     "name": "stdout",
     "output_type": "stream",
     "text": [
      "Epoch 5 | Avg Loss: 0.4136 | Avg Precision: 78.20%\n"
     ]
    },
    {
     "name": "stderr",
     "output_type": "stream",
     "text": [
      "Train: 100%|\u001B[32m████████████████████████\u001B[0m| 589/589 [00:39<00:00, 14.77batch/s, Loss: 0.2885 | Precision: 79.66%]\u001B[0m\n"
     ]
    },
    {
     "name": "stdout",
     "output_type": "stream",
     "text": [
      "Epoch 6 | Avg Loss: 0.3994 | Avg Precision: 79.29%\n"
     ]
    },
    {
     "name": "stderr",
     "output_type": "stream",
     "text": [
      "Validate: 100%|\u001B[34m█████████████████████\u001B[0m| 148/148 [00:09<00:00, 15.91batch/s, Loss: 0.0614 | Precision: 78.79%]\u001B[0m\n"
     ]
    },
    {
     "name": "stdout",
     "output_type": "stream",
     "text": [
      "Epoch 6 | Avg Loss: 0.4108 | Avg Precision: 78.64% | Patience: 0\n"
     ]
    },
    {
     "name": "stderr",
     "output_type": "stream",
     "text": [
      "Train: 100%|\u001B[32m████████████████████████\u001B[0m| 589/589 [00:39<00:00, 14.82batch/s, Loss: 0.2754 | Precision: 80.05%]\u001B[0m\n"
     ]
    },
    {
     "name": "stdout",
     "output_type": "stream",
     "text": [
      "Epoch 7 | Avg Loss: 0.3929 | Avg Precision: 79.63%\n"
     ]
    },
    {
     "name": "stderr",
     "output_type": "stream",
     "text": [
      "Train: 100%|\u001B[32m████████████████████████\u001B[0m| 589/589 [00:39<00:00, 14.81batch/s, Loss: 0.3119 | Precision: 80.40%]\u001B[0m\n"
     ]
    },
    {
     "name": "stdout",
     "output_type": "stream",
     "text": [
      "Epoch 8 | Avg Loss: 0.3891 | Avg Precision: 80.04%\n"
     ]
    },
    {
     "name": "stderr",
     "output_type": "stream",
     "text": [
      "Train: 100%|\u001B[32m████████████████████████\u001B[0m| 589/589 [00:39<00:00, 14.78batch/s, Loss: 0.3518 | Precision: 80.63%]\u001B[0m\n"
     ]
    },
    {
     "name": "stdout",
     "output_type": "stream",
     "text": [
      "Epoch 9 | Avg Loss: 0.3852 | Avg Precision: 80.22%\n"
     ]
    },
    {
     "name": "stderr",
     "output_type": "stream",
     "text": [
      "Validate: 100%|\u001B[34m█████████████████████\u001B[0m| 148/148 [00:09<00:00, 15.84batch/s, Loss: 0.0612 | Precision: 78.74%]\u001B[0m\n"
     ]
    },
    {
     "name": "stdout",
     "output_type": "stream",
     "text": [
      "Epoch 9 | Avg Loss: 0.4024 | Avg Precision: 78.69% | Patience: 0\n"
     ]
    },
    {
     "name": "stderr",
     "output_type": "stream",
     "text": [
      "Train: 100%|\u001B[32m████████████████████████\u001B[0m| 589/589 [00:39<00:00, 14.78batch/s, Loss: 0.2962 | Precision: 80.84%]\u001B[0m\n"
     ]
    },
    {
     "name": "stdout",
     "output_type": "stream",
     "text": [
      "Epoch 10 | Avg Loss: 0.3810 | Avg Precision: 80.41%\n"
     ]
    },
    {
     "name": "stderr",
     "output_type": "stream",
     "text": [
      "Train: 100%|\u001B[32m████████████████████████\u001B[0m| 589/589 [00:39<00:00, 14.81batch/s, Loss: 0.2850 | Precision: 81.00%]\u001B[0m\n"
     ]
    },
    {
     "name": "stdout",
     "output_type": "stream",
     "text": [
      "Epoch 11 | Avg Loss: 0.3790 | Avg Precision: 80.64%\n"
     ]
    },
    {
     "name": "stderr",
     "output_type": "stream",
     "text": [
      "Train: 100%|\u001B[32m████████████████████████\u001B[0m| 589/589 [00:39<00:00, 14.85batch/s, Loss: 0.2796 | Precision: 81.24%]\u001B[0m\n"
     ]
    },
    {
     "name": "stdout",
     "output_type": "stream",
     "text": [
      "Epoch 12 | Avg Loss: 0.3767 | Avg Precision: 80.92%\n"
     ]
    },
    {
     "name": "stderr",
     "output_type": "stream",
     "text": [
      "Validate: 100%|\u001B[34m█████████████████████\u001B[0m| 148/148 [00:09<00:00, 15.93batch/s, Loss: 0.0325 | Precision: 79.13%]\u001B[0m\n"
     ]
    },
    {
     "name": "stdout",
     "output_type": "stream",
     "text": [
      "Epoch 12 | Avg Loss: 0.3990 | Avg Precision: 79.14% | Patience: 0\n"
     ]
    },
    {
     "name": "stderr",
     "output_type": "stream",
     "text": [
      "Train: 100%|\u001B[32m████████████████████████\u001B[0m| 589/589 [00:39<00:00, 14.90batch/s, Loss: 0.3403 | Precision: 81.46%]\u001B[0m\n"
     ]
    },
    {
     "name": "stdout",
     "output_type": "stream",
     "text": [
      "Epoch 13 | Avg Loss: 0.3735 | Avg Precision: 81.15%\n"
     ]
    },
    {
     "name": "stderr",
     "output_type": "stream",
     "text": [
      "Train: 100%|\u001B[32m████████████████████████\u001B[0m| 589/589 [00:39<00:00, 14.88batch/s, Loss: 0.2922 | Precision: 81.49%]\u001B[0m\n"
     ]
    },
    {
     "name": "stdout",
     "output_type": "stream",
     "text": [
      "Epoch 14 | Avg Loss: 0.3718 | Avg Precision: 81.20%\n"
     ]
    },
    {
     "name": "stderr",
     "output_type": "stream",
     "text": [
      "Train: 100%|\u001B[32m████████████████████████\u001B[0m| 589/589 [00:39<00:00, 14.85batch/s, Loss: 0.2793 | Precision: 81.54%]\u001B[0m\n"
     ]
    },
    {
     "name": "stdout",
     "output_type": "stream",
     "text": [
      "Epoch 15 | Avg Loss: 0.3711 | Avg Precision: 81.26%\n"
     ]
    },
    {
     "name": "stderr",
     "output_type": "stream",
     "text": [
      "Validate: 100%|\u001B[34m█████████████████████\u001B[0m| 148/148 [00:09<00:00, 15.47batch/s, Loss: 0.0686 | Precision: 80.85%]\u001B[0m\n"
     ]
    },
    {
     "name": "stdout",
     "output_type": "stream",
     "text": [
      "Epoch 15 | Avg Loss: 0.3761 | Avg Precision: 80.81% | Patience: 0\n"
     ]
    },
    {
     "name": "stderr",
     "output_type": "stream",
     "text": [
      "Train: 100%|\u001B[32m████████████████████████\u001B[0m| 589/589 [00:39<00:00, 14.88batch/s, Loss: 0.3290 | Precision: 81.68%]\u001B[0m\n"
     ]
    },
    {
     "name": "stdout",
     "output_type": "stream",
     "text": [
      "Epoch 16 | Avg Loss: 0.3697 | Avg Precision: 81.43%\n"
     ]
    },
    {
     "name": "stderr",
     "output_type": "stream",
     "text": [
      "Train: 100%|\u001B[32m████████████████████████\u001B[0m| 589/589 [00:39<00:00, 14.92batch/s, Loss: 0.2766 | Precision: 81.70%]\u001B[0m\n"
     ]
    },
    {
     "name": "stdout",
     "output_type": "stream",
     "text": [
      "Epoch 17 | Avg Loss: 0.3689 | Avg Precision: 81.33%\n"
     ]
    },
    {
     "name": "stderr",
     "output_type": "stream",
     "text": [
      "Train: 100%|\u001B[32m████████████████████████\u001B[0m| 589/589 [00:39<00:00, 14.84batch/s, Loss: 0.2906 | Precision: 81.87%]\u001B[0m\n"
     ]
    },
    {
     "name": "stdout",
     "output_type": "stream",
     "text": [
      "Epoch 18 | Avg Loss: 0.3667 | Avg Precision: 81.65%\n"
     ]
    },
    {
     "name": "stderr",
     "output_type": "stream",
     "text": [
      "Validate: 100%|\u001B[34m█████████████████████\u001B[0m| 148/148 [00:09<00:00, 15.78batch/s, Loss: 0.0428 | Precision: 80.44%]\u001B[0m\n"
     ]
    },
    {
     "name": "stdout",
     "output_type": "stream",
     "text": [
      "Epoch 18 | Avg Loss: 0.3836 | Avg Precision: 80.43% | Patience: 1\n"
     ]
    },
    {
     "name": "stderr",
     "output_type": "stream",
     "text": [
      "Train: 100%|\u001B[32m████████████████████████\u001B[0m| 589/589 [00:39<00:00, 14.78batch/s, Loss: 0.2804 | Precision: 81.80%]\u001B[0m\n"
     ]
    },
    {
     "name": "stdout",
     "output_type": "stream",
     "text": [
      "Epoch 19 | Avg Loss: 0.3676 | Avg Precision: 81.45%\n"
     ]
    },
    {
     "name": "stderr",
     "output_type": "stream",
     "text": [
      "Train: 100%|\u001B[32m████████████████████████\u001B[0m| 589/589 [00:39<00:00, 14.85batch/s, Loss: 0.3061 | Precision: 81.90%]\u001B[0m\n"
     ]
    },
    {
     "name": "stdout",
     "output_type": "stream",
     "text": [
      "Epoch 20 | Avg Loss: 0.3664 | Avg Precision: 81.58%\n"
     ]
    },
    {
     "name": "stderr",
     "output_type": "stream",
     "text": [
      "Train: 100%|\u001B[32m████████████████████████\u001B[0m| 589/589 [00:39<00:00, 15.09batch/s, Loss: 0.2557 | Precision: 81.92%]\u001B[0m\n"
     ]
    },
    {
     "name": "stdout",
     "output_type": "stream",
     "text": [
      "Epoch 21 | Avg Loss: 0.3657 | Avg Precision: 81.63%\n"
     ]
    },
    {
     "name": "stderr",
     "output_type": "stream",
     "text": [
      "Validate: 100%|\u001B[34m█████████████████████\u001B[0m| 148/148 [00:09<00:00, 16.25batch/s, Loss: 0.0558 | Precision: 80.65%]\u001B[0m\n"
     ]
    },
    {
     "name": "stdout",
     "output_type": "stream",
     "text": [
      "Epoch 21 | Avg Loss: 0.3731 | Avg Precision: 80.58% | Patience: 2\n"
     ]
    },
    {
     "name": "stderr",
     "output_type": "stream",
     "text": [
      "Train: 100%|\u001B[32m████████████████████████\u001B[0m| 589/589 [00:39<00:00, 15.03batch/s, Loss: 0.3326 | Precision: 82.02%]\u001B[0m\n"
     ]
    },
    {
     "name": "stdout",
     "output_type": "stream",
     "text": [
      "Epoch 22 | Avg Loss: 0.3646 | Avg Precision: 81.75%\n"
     ]
    },
    {
     "name": "stderr",
     "output_type": "stream",
     "text": [
      "Train: 100%|\u001B[32m████████████████████████\u001B[0m| 589/589 [00:39<00:00, 15.04batch/s, Loss: 0.3223 | Precision: 82.06%]\u001B[0m\n"
     ]
    },
    {
     "name": "stdout",
     "output_type": "stream",
     "text": [
      "Epoch 23 | Avg Loss: 0.3637 | Avg Precision: 81.84%\n"
     ]
    },
    {
     "name": "stderr",
     "output_type": "stream",
     "text": [
      "Train: 100%|\u001B[32m████████████████████████\u001B[0m| 589/589 [00:39<00:00, 15.03batch/s, Loss: 0.3340 | Precision: 82.14%]\u001B[0m\n"
     ]
    },
    {
     "name": "stdout",
     "output_type": "stream",
     "text": [
      "Epoch 24 | Avg Loss: 0.3625 | Avg Precision: 81.88%\n"
     ]
    },
    {
     "name": "stderr",
     "output_type": "stream",
     "text": [
      "Validate: 100%|\u001B[34m█████████████████████\u001B[0m| 148/148 [00:09<00:00, 15.95batch/s, Loss: 0.0656 | Precision: 81.52%]\u001B[0m\n"
     ]
    },
    {
     "name": "stdout",
     "output_type": "stream",
     "text": [
      "Epoch 24 | Avg Loss: 0.3691 | Avg Precision: 81.43% | Patience: 0\n"
     ]
    },
    {
     "name": "stderr",
     "output_type": "stream",
     "text": [
      "Train: 100%|\u001B[32m████████████████████████\u001B[0m| 589/589 [00:39<00:00, 14.97batch/s, Loss: 0.2869 | Precision: 82.14%]\u001B[0m\n"
     ]
    },
    {
     "name": "stdout",
     "output_type": "stream",
     "text": [
      "Epoch 25 | Avg Loss: 0.3621 | Avg Precision: 81.91%\n"
     ]
    },
    {
     "name": "stderr",
     "output_type": "stream",
     "text": [
      "Train: 100%|\u001B[32m████████████████████████\u001B[0m| 589/589 [00:39<00:00, 14.98batch/s, Loss: 0.2726 | Precision: 82.24%]\u001B[0m\n"
     ]
    },
    {
     "name": "stdout",
     "output_type": "stream",
     "text": [
      "Epoch 26 | Avg Loss: 0.3618 | Avg Precision: 81.88%\n"
     ]
    },
    {
     "name": "stderr",
     "output_type": "stream",
     "text": [
      "Train: 100%|\u001B[32m████████████████████████\u001B[0m| 589/589 [00:39<00:00, 15.00batch/s, Loss: 0.3209 | Precision: 82.29%]\u001B[0m\n"
     ]
    },
    {
     "name": "stdout",
     "output_type": "stream",
     "text": [
      "Epoch 27 | Avg Loss: 0.3604 | Avg Precision: 82.05%\n"
     ]
    },
    {
     "name": "stderr",
     "output_type": "stream",
     "text": [
      "Validate: 100%|\u001B[34m█████████████████████\u001B[0m| 148/148 [00:09<00:00, 16.07batch/s, Loss: 0.0404 | Precision: 80.88%]\u001B[0m\n"
     ]
    },
    {
     "name": "stdout",
     "output_type": "stream",
     "text": [
      "Epoch 27 | Avg Loss: 0.3698 | Avg Precision: 80.96% | Patience: 1\n"
     ]
    },
    {
     "name": "stderr",
     "output_type": "stream",
     "text": [
      "Train: 100%|\u001B[32m████████████████████████\u001B[0m| 589/589 [00:39<00:00, 15.01batch/s, Loss: 0.2853 | Precision: 82.35%]\u001B[0m\n"
     ]
    },
    {
     "name": "stdout",
     "output_type": "stream",
     "text": [
      "Epoch 28 | Avg Loss: 0.3595 | Avg Precision: 82.04%\n"
     ]
    },
    {
     "name": "stderr",
     "output_type": "stream",
     "text": [
      "Train: 100%|\u001B[32m████████████████████████\u001B[0m| 589/589 [00:39<00:00, 14.93batch/s, Loss: 0.3686 | Precision: 82.45%]\u001B[0m\n"
     ]
    },
    {
     "name": "stdout",
     "output_type": "stream",
     "text": [
      "Epoch 29 | Avg Loss: 0.3591 | Avg Precision: 82.24%\n"
     ]
    },
    {
     "name": "stderr",
     "output_type": "stream",
     "text": [
      "Train: 100%|\u001B[32m████████████████████████\u001B[0m| 589/589 [00:39<00:00, 14.89batch/s, Loss: 0.3040 | Precision: 82.45%]\u001B[0m\n"
     ]
    },
    {
     "name": "stdout",
     "output_type": "stream",
     "text": [
      "Epoch 30 | Avg Loss: 0.3588 | Avg Precision: 82.09%\n"
     ]
    },
    {
     "name": "stderr",
     "output_type": "stream",
     "text": [
      "Validate: 100%|\u001B[34m█████████████████████\u001B[0m| 148/148 [00:09<00:00, 16.31batch/s, Loss: 0.0618 | Precision: 81.02%]\u001B[0m\n"
     ]
    },
    {
     "name": "stdout",
     "output_type": "stream",
     "text": [
      "Epoch 30 | Avg Loss: 0.3728 | Avg Precision: 81.06% | Patience: 2\n"
     ]
    },
    {
     "name": "stderr",
     "output_type": "stream",
     "text": [
      "Train: 100%|\u001B[32m████████████████████████\u001B[0m| 589/589 [00:38<00:00, 15.16batch/s, Loss: 0.3532 | Precision: 82.49%]\u001B[0m\n"
     ]
    },
    {
     "name": "stdout",
     "output_type": "stream",
     "text": [
      "Epoch 31 | Avg Loss: 0.3579 | Avg Precision: 82.18%\n"
     ]
    },
    {
     "name": "stderr",
     "output_type": "stream",
     "text": [
      "Train: 100%|\u001B[32m████████████████████████\u001B[0m| 589/589 [00:38<00:00, 15.15batch/s, Loss: 0.3007 | Precision: 82.50%]\u001B[0m\n"
     ]
    },
    {
     "name": "stdout",
     "output_type": "stream",
     "text": [
      "Epoch 32 | Avg Loss: 0.3581 | Avg Precision: 82.17%\n"
     ]
    },
    {
     "name": "stderr",
     "output_type": "stream",
     "text": [
      "Train: 100%|\u001B[32m████████████████████████\u001B[0m| 589/589 [00:38<00:00, 15.16batch/s, Loss: 0.3257 | Precision: 82.47%]\u001B[0m\n"
     ]
    },
    {
     "name": "stdout",
     "output_type": "stream",
     "text": [
      "Epoch 33 | Avg Loss: 0.3577 | Avg Precision: 82.14%\n"
     ]
    },
    {
     "name": "stderr",
     "output_type": "stream",
     "text": [
      "Validate: 100%|\u001B[34m█████████████████████\u001B[0m| 148/148 [00:09<00:00, 15.85batch/s, Loss: 0.0588 | Precision: 81.61%]\u001B[0m\n"
     ]
    },
    {
     "name": "stdout",
     "output_type": "stream",
     "text": [
      "Epoch 33 | Avg Loss: 0.3638 | Avg Precision: 81.67% | Patience: 0\n"
     ]
    },
    {
     "name": "stderr",
     "output_type": "stream",
     "text": [
      "Train: 100%|\u001B[32m████████████████████████\u001B[0m| 589/589 [00:39<00:00, 14.85batch/s, Loss: 0.2846 | Precision: 82.54%]\u001B[0m\n"
     ]
    },
    {
     "name": "stdout",
     "output_type": "stream",
     "text": [
      "Epoch 34 | Avg Loss: 0.3573 | Avg Precision: 82.25%\n"
     ]
    },
    {
     "name": "stderr",
     "output_type": "stream",
     "text": [
      "Train: 100%|\u001B[32m████████████████████████\u001B[0m| 589/589 [00:39<00:00, 15.04batch/s, Loss: 0.2715 | Precision: 82.53%]\u001B[0m\n"
     ]
    },
    {
     "name": "stdout",
     "output_type": "stream",
     "text": [
      "Epoch 35 | Avg Loss: 0.3571 | Avg Precision: 82.18%\n"
     ]
    },
    {
     "name": "stderr",
     "output_type": "stream",
     "text": [
      "Train: 100%|\u001B[32m████████████████████████\u001B[0m| 589/589 [00:38<00:00, 15.21batch/s, Loss: 0.2587 | Precision: 82.58%]\u001B[0m\n"
     ]
    },
    {
     "name": "stdout",
     "output_type": "stream",
     "text": [
      "Epoch 36 | Avg Loss: 0.3561 | Avg Precision: 82.44%\n"
     ]
    },
    {
     "name": "stderr",
     "output_type": "stream",
     "text": [
      "Validate: 100%|\u001B[34m█████████████████████\u001B[0m| 148/148 [00:09<00:00, 16.22batch/s, Loss: 0.0803 | Precision: 82.12%]\u001B[0m\n"
     ]
    },
    {
     "name": "stdout",
     "output_type": "stream",
     "text": [
      "Epoch 36 | Avg Loss: 0.3589 | Avg Precision: 82.14% | Patience: 0\n"
     ]
    },
    {
     "name": "stderr",
     "output_type": "stream",
     "text": [
      "Train: 100%|\u001B[32m████████████████████████\u001B[0m| 589/589 [00:38<00:00, 15.18batch/s, Loss: 0.3151 | Precision: 82.54%]\u001B[0m\n"
     ]
    },
    {
     "name": "stdout",
     "output_type": "stream",
     "text": [
      "Epoch 37 | Avg Loss: 0.3573 | Avg Precision: 82.22%\n"
     ]
    },
    {
     "name": "stderr",
     "output_type": "stream",
     "text": [
      "Train: 100%|\u001B[32m████████████████████████\u001B[0m| 589/589 [00:38<00:00, 15.21batch/s, Loss: 0.2718 | Precision: 82.61%]\u001B[0m\n"
     ]
    },
    {
     "name": "stdout",
     "output_type": "stream",
     "text": [
      "Epoch 38 | Avg Loss: 0.3565 | Avg Precision: 82.19%\n"
     ]
    },
    {
     "name": "stderr",
     "output_type": "stream",
     "text": [
      "Train: 100%|\u001B[32m████████████████████████\u001B[0m| 589/589 [00:38<00:00, 15.17batch/s, Loss: 0.3274 | Precision: 82.64%]\u001B[0m\n"
     ]
    },
    {
     "name": "stdout",
     "output_type": "stream",
     "text": [
      "Epoch 39 | Avg Loss: 0.3562 | Avg Precision: 82.25%\n"
     ]
    },
    {
     "name": "stderr",
     "output_type": "stream",
     "text": [
      "Validate: 100%|\u001B[34m█████████████████████\u001B[0m| 148/148 [00:09<00:00, 16.19batch/s, Loss: 0.0684 | Precision: 82.87%]\u001B[0m\n"
     ]
    },
    {
     "name": "stdout",
     "output_type": "stream",
     "text": [
      "Epoch 39 | Avg Loss: 0.3544 | Avg Precision: 82.83% | Patience: 0\n"
     ]
    },
    {
     "name": "stderr",
     "output_type": "stream",
     "text": [
      "Train: 100%|\u001B[32m████████████████████████\u001B[0m| 589/589 [00:38<00:00, 15.18batch/s, Loss: 0.2770 | Precision: 82.67%]\u001B[0m\n"
     ]
    },
    {
     "name": "stdout",
     "output_type": "stream",
     "text": [
      "Epoch 40 | Avg Loss: 0.3549 | Avg Precision: 82.33%\n"
     ]
    },
    {
     "name": "stderr",
     "output_type": "stream",
     "text": [
      "Train: 100%|\u001B[32m████████████████████████\u001B[0m| 589/589 [00:38<00:00, 15.21batch/s, Loss: 0.2669 | Precision: 82.62%]\u001B[0m\n"
     ]
    },
    {
     "name": "stdout",
     "output_type": "stream",
     "text": [
      "Epoch 41 | Avg Loss: 0.3551 | Avg Precision: 82.37%\n"
     ]
    },
    {
     "name": "stderr",
     "output_type": "stream",
     "text": [
      "Train: 100%|\u001B[32m████████████████████████\u001B[0m| 589/589 [00:38<00:00, 15.19batch/s, Loss: 0.2263 | Precision: 82.74%]\u001B[0m\n"
     ]
    },
    {
     "name": "stdout",
     "output_type": "stream",
     "text": [
      "Epoch 42 | Avg Loss: 0.3535 | Avg Precision: 82.47%\n"
     ]
    },
    {
     "name": "stderr",
     "output_type": "stream",
     "text": [
      "Validate: 100%|\u001B[34m█████████████████████\u001B[0m| 148/148 [00:09<00:00, 16.04batch/s, Loss: 0.0970 | Precision: 81.82%]\u001B[0m\n"
     ]
    },
    {
     "name": "stdout",
     "output_type": "stream",
     "text": [
      "Epoch 42 | Avg Loss: 0.3614 | Avg Precision: 81.88% | Patience: 1\n"
     ]
    },
    {
     "name": "stderr",
     "output_type": "stream",
     "text": [
      "Train: 100%|\u001B[32m████████████████████████\u001B[0m| 589/589 [00:38<00:00, 15.20batch/s, Loss: 0.2431 | Precision: 82.69%]\u001B[0m\n"
     ]
    },
    {
     "name": "stdout",
     "output_type": "stream",
     "text": [
      "Epoch 43 | Avg Loss: 0.3536 | Avg Precision: 82.49%\n"
     ]
    },
    {
     "name": "stderr",
     "output_type": "stream",
     "text": [
      "Train: 100%|\u001B[32m████████████████████████\u001B[0m| 589/589 [00:38<00:00, 15.14batch/s, Loss: 0.2430 | Precision: 82.80%]\u001B[0m\n"
     ]
    },
    {
     "name": "stdout",
     "output_type": "stream",
     "text": [
      "Epoch 44 | Avg Loss: 0.3530 | Avg Precision: 82.56%\n"
     ]
    },
    {
     "name": "stderr",
     "output_type": "stream",
     "text": [
      "Train: 100%|\u001B[32m████████████████████████\u001B[0m| 589/589 [00:38<00:00, 15.16batch/s, Loss: 0.2563 | Precision: 82.68%]\u001B[0m\n"
     ]
    },
    {
     "name": "stdout",
     "output_type": "stream",
     "text": [
      "Epoch 45 | Avg Loss: 0.3547 | Avg Precision: 82.38%\n"
     ]
    },
    {
     "name": "stderr",
     "output_type": "stream",
     "text": [
      "Validate: 100%|\u001B[34m█████████████████████\u001B[0m| 148/148 [00:09<00:00, 16.30batch/s, Loss: 0.0747 | Precision: 82.41%]\u001B[0m\n"
     ]
    },
    {
     "name": "stdout",
     "output_type": "stream",
     "text": [
      "Epoch 45 | Avg Loss: 0.3530 | Avg Precision: 82.49% | Patience: 2\n"
     ]
    },
    {
     "name": "stderr",
     "output_type": "stream",
     "text": [
      "Train: 100%|\u001B[32m████████████████████████\u001B[0m| 589/589 [00:38<00:00, 15.14batch/s, Loss: 0.2544 | Precision: 82.83%]\u001B[0m\n"
     ]
    },
    {
     "name": "stdout",
     "output_type": "stream",
     "text": [
      "Epoch 46 | Avg Loss: 0.3528 | Avg Precision: 82.59%\n"
     ]
    },
    {
     "name": "stderr",
     "output_type": "stream",
     "text": [
      "Train: 100%|\u001B[32m████████████████████████\u001B[0m| 589/589 [00:39<00:00, 15.03batch/s, Loss: 0.2509 | Precision: 82.83%]\u001B[0m\n"
     ]
    },
    {
     "name": "stdout",
     "output_type": "stream",
     "text": [
      "Epoch 47 | Avg Loss: 0.3528 | Avg Precision: 82.55%\n"
     ]
    },
    {
     "name": "stderr",
     "output_type": "stream",
     "text": [
      "Train: 100%|\u001B[32m████████████████████████\u001B[0m| 589/589 [00:39<00:00, 14.89batch/s, Loss: 0.2540 | Precision: 82.75%]\u001B[0m\n"
     ]
    },
    {
     "name": "stdout",
     "output_type": "stream",
     "text": [
      "Epoch 48 | Avg Loss: 0.3528 | Avg Precision: 82.49%\n"
     ]
    },
    {
     "name": "stderr",
     "output_type": "stream",
     "text": [
      "Validate: 100%|\u001B[34m█████████████████████\u001B[0m| 148/148 [00:09<00:00, 16.21batch/s, Loss: 0.0763 | Precision: 82.43%]\u001B[0m\n"
     ]
    },
    {
     "name": "stdout",
     "output_type": "stream",
     "text": [
      "Epoch 48 | Avg Loss: 0.3531 | Avg Precision: 82.44% | Patience: 3\n"
     ]
    },
    {
     "name": "stderr",
     "output_type": "stream",
     "text": [
      "Train: 100%|\u001B[32m████████████████████████\u001B[0m| 589/589 [00:38<00:00, 15.18batch/s, Loss: 0.2749 | Precision: 82.80%]\u001B[0m\n"
     ]
    },
    {
     "name": "stdout",
     "output_type": "stream",
     "text": [
      "Epoch 49 | Avg Loss: 0.3521 | Avg Precision: 82.55%\n"
     ]
    },
    {
     "name": "stderr",
     "output_type": "stream",
     "text": [
      "Train: 100%|\u001B[32m████████████████████████\u001B[0m| 589/589 [00:38<00:00, 15.22batch/s, Loss: 0.2856 | Precision: 82.75%]\u001B[0m\n"
     ]
    },
    {
     "name": "stdout",
     "output_type": "stream",
     "text": [
      "Epoch 50 | Avg Loss: 0.3529 | Avg Precision: 82.39%\n"
     ]
    },
    {
     "name": "stderr",
     "output_type": "stream",
     "text": [
      "Train: 100%|\u001B[32m████████████████████████\u001B[0m| 589/589 [00:38<00:00, 15.20batch/s, Loss: 0.2504 | Precision: 82.86%]\u001B[0m\n"
     ]
    },
    {
     "name": "stdout",
     "output_type": "stream",
     "text": [
      "Epoch 51 | Avg Loss: 0.3518 | Avg Precision: 82.55%\n"
     ]
    },
    {
     "name": "stderr",
     "output_type": "stream",
     "text": [
      "Validate: 100%|\u001B[34m█████████████████████\u001B[0m| 148/148 [00:09<00:00, 16.27batch/s, Loss: 0.0904 | Precision: 83.00%]\u001B[0m\n"
     ]
    },
    {
     "name": "stdout",
     "output_type": "stream",
     "text": [
      "Epoch 51 | Avg Loss: 0.3470 | Avg Precision: 82.93% | Patience: 0\n"
     ]
    },
    {
     "name": "stderr",
     "output_type": "stream",
     "text": [
      "Train: 100%|\u001B[32m████████████████████████\u001B[0m| 589/589 [00:38<00:00, 15.19batch/s, Loss: 0.2560 | Precision: 82.90%]\u001B[0m\n"
     ]
    },
    {
     "name": "stdout",
     "output_type": "stream",
     "text": [
      "Epoch 52 | Avg Loss: 0.3514 | Avg Precision: 82.62%\n"
     ]
    },
    {
     "name": "stderr",
     "output_type": "stream",
     "text": [
      "Train: 100%|\u001B[32m████████████████████████\u001B[0m| 589/589 [00:38<00:00, 15.20batch/s, Loss: 0.2835 | Precision: 82.87%]\u001B[0m\n"
     ]
    },
    {
     "name": "stdout",
     "output_type": "stream",
     "text": [
      "Epoch 53 | Avg Loss: 0.3512 | Avg Precision: 82.65%\n"
     ]
    },
    {
     "name": "stderr",
     "output_type": "stream",
     "text": [
      "Train: 100%|\u001B[32m████████████████████████\u001B[0m| 589/589 [00:38<00:00, 15.20batch/s, Loss: 0.2615 | Precision: 82.90%]\u001B[0m\n"
     ]
    },
    {
     "name": "stdout",
     "output_type": "stream",
     "text": [
      "Epoch 54 | Avg Loss: 0.3513 | Avg Precision: 82.55%\n"
     ]
    },
    {
     "name": "stderr",
     "output_type": "stream",
     "text": [
      "Validate: 100%|\u001B[34m█████████████████████\u001B[0m| 148/148 [00:09<00:00, 16.11batch/s, Loss: 0.0793 | Precision: 82.86%]\u001B[0m\n"
     ]
    },
    {
     "name": "stdout",
     "output_type": "stream",
     "text": [
      "Epoch 54 | Avg Loss: 0.3448 | Avg Precision: 82.95% | Patience: 0\n"
     ]
    },
    {
     "name": "stderr",
     "output_type": "stream",
     "text": [
      "Train: 100%|\u001B[32m████████████████████████\u001B[0m| 589/589 [00:38<00:00, 15.19batch/s, Loss: 0.2702 | Precision: 82.91%]\u001B[0m\n"
     ]
    },
    {
     "name": "stdout",
     "output_type": "stream",
     "text": [
      "Epoch 55 | Avg Loss: 0.3512 | Avg Precision: 82.65%\n"
     ]
    },
    {
     "name": "stderr",
     "output_type": "stream",
     "text": [
      "Train: 100%|\u001B[32m████████████████████████\u001B[0m| 589/589 [00:38<00:00, 15.16batch/s, Loss: 0.2585 | Precision: 82.92%]\u001B[0m\n"
     ]
    },
    {
     "name": "stdout",
     "output_type": "stream",
     "text": [
      "Epoch 56 | Avg Loss: 0.3502 | Avg Precision: 82.74%\n"
     ]
    },
    {
     "name": "stderr",
     "output_type": "stream",
     "text": [
      "Train: 100%|\u001B[32m████████████████████████\u001B[0m| 589/589 [00:39<00:00, 15.09batch/s, Loss: 0.2661 | Precision: 82.94%]\u001B[0m\n"
     ]
    },
    {
     "name": "stdout",
     "output_type": "stream",
     "text": [
      "Epoch 57 | Avg Loss: 0.3502 | Avg Precision: 82.75%\n"
     ]
    },
    {
     "name": "stderr",
     "output_type": "stream",
     "text": [
      "Validate: 100%|\u001B[34m█████████████████████\u001B[0m| 148/148 [00:09<00:00, 16.05batch/s, Loss: 0.0951 | Precision: 82.71%]\u001B[0m\n"
     ]
    },
    {
     "name": "stdout",
     "output_type": "stream",
     "text": [
      "Epoch 57 | Avg Loss: 0.3494 | Avg Precision: 82.77% | Patience: 1\n"
     ]
    },
    {
     "name": "stderr",
     "output_type": "stream",
     "text": [
      "Train: 100%|\u001B[32m████████████████████████\u001B[0m| 589/589 [00:39<00:00, 15.05batch/s, Loss: 0.3082 | Precision: 82.94%]\u001B[0m\n"
     ]
    },
    {
     "name": "stdout",
     "output_type": "stream",
     "text": [
      "Epoch 58 | Avg Loss: 0.3509 | Avg Precision: 82.63%\n"
     ]
    },
    {
     "name": "stderr",
     "output_type": "stream",
     "text": [
      "Train: 100%|\u001B[32m████████████████████████\u001B[0m| 589/589 [00:39<00:00, 15.02batch/s, Loss: 0.2770 | Precision: 82.92%]\u001B[0m\n"
     ]
    },
    {
     "name": "stdout",
     "output_type": "stream",
     "text": [
      "Epoch 59 | Avg Loss: 0.3503 | Avg Precision: 82.68%\n"
     ]
    },
    {
     "name": "stderr",
     "output_type": "stream",
     "text": [
      "Train: 100%|\u001B[32m████████████████████████\u001B[0m| 589/589 [00:39<00:00, 15.04batch/s, Loss: 0.3456 | Precision: 82.93%]\u001B[0m\n"
     ]
    },
    {
     "name": "stdout",
     "output_type": "stream",
     "text": [
      "Epoch 60 | Avg Loss: 0.3501 | Avg Precision: 82.72%\n"
     ]
    },
    {
     "name": "stderr",
     "output_type": "stream",
     "text": [
      "Validate: 100%|\u001B[34m█████████████████████\u001B[0m| 148/148 [00:09<00:00, 16.00batch/s, Loss: 0.0962 | Precision: 83.80%]\u001B[0m\n"
     ]
    },
    {
     "name": "stdout",
     "output_type": "stream",
     "text": [
      "Epoch 60 | Avg Loss: 0.3393 | Avg Precision: 83.77% | Patience: 0\n"
     ]
    },
    {
     "name": "stderr",
     "output_type": "stream",
     "text": [
      "Train: 100%|\u001B[32m████████████████████████\u001B[0m| 589/589 [00:39<00:00, 15.00batch/s, Loss: 0.2826 | Precision: 82.99%]\u001B[0m\n"
     ]
    },
    {
     "name": "stdout",
     "output_type": "stream",
     "text": [
      "Epoch 61 | Avg Loss: 0.3499 | Avg Precision: 82.83%\n"
     ]
    },
    {
     "name": "stderr",
     "output_type": "stream",
     "text": [
      "Train: 100%|\u001B[32m████████████████████████\u001B[0m| 589/589 [00:39<00:00, 15.05batch/s, Loss: 0.2998 | Precision: 82.92%]\u001B[0m\n"
     ]
    },
    {
     "name": "stdout",
     "output_type": "stream",
     "text": [
      "Epoch 62 | Avg Loss: 0.3505 | Avg Precision: 82.55%\n"
     ]
    },
    {
     "name": "stderr",
     "output_type": "stream",
     "text": [
      "Train: 100%|\u001B[32m████████████████████████\u001B[0m| 589/589 [00:39<00:00, 15.02batch/s, Loss: 0.2763 | Precision: 83.02%]\u001B[0m\n"
     ]
    },
    {
     "name": "stdout",
     "output_type": "stream",
     "text": [
      "Epoch 63 | Avg Loss: 0.3493 | Avg Precision: 82.83%\n"
     ]
    },
    {
     "name": "stderr",
     "output_type": "stream",
     "text": [
      "Validate: 100%|\u001B[34m█████████████████████\u001B[0m| 148/148 [00:09<00:00, 16.19batch/s, Loss: 0.0812 | Precision: 83.29%]\u001B[0m\n"
     ]
    },
    {
     "name": "stdout",
     "output_type": "stream",
     "text": [
      "Epoch 63 | Avg Loss: 0.3426 | Avg Precision: 83.26% | Patience: 1\n"
     ]
    },
    {
     "name": "stderr",
     "output_type": "stream",
     "text": [
      "Train: 100%|\u001B[32m████████████████████████\u001B[0m| 589/589 [00:39<00:00, 15.01batch/s, Loss: 0.3032 | Precision: 82.96%]\u001B[0m\n"
     ]
    },
    {
     "name": "stdout",
     "output_type": "stream",
     "text": [
      "Epoch 64 | Avg Loss: 0.3500 | Avg Precision: 82.76%\n"
     ]
    },
    {
     "name": "stderr",
     "output_type": "stream",
     "text": [
      "Train: 100%|\u001B[32m████████████████████████\u001B[0m| 589/589 [00:39<00:00, 15.04batch/s, Loss: 0.2950 | Precision: 83.01%]\u001B[0m\n"
     ]
    },
    {
     "name": "stdout",
     "output_type": "stream",
     "text": [
      "Epoch 65 | Avg Loss: 0.3489 | Avg Precision: 82.78%\n"
     ]
    },
    {
     "name": "stderr",
     "output_type": "stream",
     "text": [
      "Train: 100%|\u001B[32m████████████████████████\u001B[0m| 589/589 [00:40<00:00, 14.68batch/s, Loss: 0.2390 | Precision: 82.99%]\u001B[0m\n"
     ]
    },
    {
     "name": "stdout",
     "output_type": "stream",
     "text": [
      "Epoch 66 | Avg Loss: 0.3488 | Avg Precision: 82.74%\n"
     ]
    },
    {
     "name": "stderr",
     "output_type": "stream",
     "text": [
      "Validate: 100%|\u001B[34m█████████████████████\u001B[0m| 148/148 [00:09<00:00, 15.63batch/s, Loss: 0.0841 | Precision: 83.08%]\u001B[0m\n"
     ]
    },
    {
     "name": "stdout",
     "output_type": "stream",
     "text": [
      "Epoch 66 | Avg Loss: 0.3487 | Avg Precision: 83.02% | Patience: 2\n"
     ]
    },
    {
     "name": "stderr",
     "output_type": "stream",
     "text": [
      "Train: 100%|\u001B[32m████████████████████████\u001B[0m| 589/589 [00:39<00:00, 14.90batch/s, Loss: 0.2878 | Precision: 83.06%]\u001B[0m\n"
     ]
    },
    {
     "name": "stdout",
     "output_type": "stream",
     "text": [
      "Epoch 67 | Avg Loss: 0.3483 | Avg Precision: 82.90%\n"
     ]
    },
    {
     "name": "stderr",
     "output_type": "stream",
     "text": [
      "Train: 100%|\u001B[32m████████████████████████\u001B[0m| 589/589 [00:39<00:00, 15.02batch/s, Loss: 0.3072 | Precision: 83.04%]\u001B[0m\n"
     ]
    },
    {
     "name": "stdout",
     "output_type": "stream",
     "text": [
      "Epoch 68 | Avg Loss: 0.3486 | Avg Precision: 82.88%\n"
     ]
    },
    {
     "name": "stderr",
     "output_type": "stream",
     "text": [
      "Train: 100%|\u001B[32m████████████████████████\u001B[0m| 589/589 [00:39<00:00, 15.00batch/s, Loss: 0.3134 | Precision: 82.97%]\u001B[0m\n"
     ]
    },
    {
     "name": "stdout",
     "output_type": "stream",
     "text": [
      "Epoch 69 | Avg Loss: 0.3489 | Avg Precision: 82.63%\n"
     ]
    },
    {
     "name": "stderr",
     "output_type": "stream",
     "text": [
      "Validate: 100%|\u001B[34m█████████████████████\u001B[0m| 148/148 [00:09<00:00, 15.99batch/s, Loss: 0.0995 | Precision: 83.32%]\u001B[0m\n"
     ]
    },
    {
     "name": "stdout",
     "output_type": "stream",
     "text": [
      "Epoch 69 | Avg Loss: 0.3454 | Avg Precision: 83.42% | Patience: 3\n"
     ]
    },
    {
     "name": "stderr",
     "output_type": "stream",
     "text": [
      "Train: 100%|\u001B[32m████████████████████████\u001B[0m| 589/589 [00:39<00:00, 14.97batch/s, Loss: 0.3147 | Precision: 84.24%]\u001B[0m\n"
     ]
    },
    {
     "name": "stdout",
     "output_type": "stream",
     "text": [
      "Epoch 70 | Avg Loss: 0.3267 | Avg Precision: 83.98%\n"
     ]
    },
    {
     "name": "stderr",
     "output_type": "stream",
     "text": [
      "Train: 100%|\u001B[32m████████████████████████\u001B[0m| 589/589 [00:39<00:00, 15.00batch/s, Loss: 0.3132 | Precision: 84.41%]\u001B[0m\n"
     ]
    },
    {
     "name": "stdout",
     "output_type": "stream",
     "text": [
      "Epoch 71 | Avg Loss: 0.3240 | Avg Precision: 84.32%\n"
     ]
    },
    {
     "name": "stderr",
     "output_type": "stream",
     "text": [
      "Train: 100%|\u001B[32m████████████████████████\u001B[0m| 589/589 [00:39<00:00, 14.97batch/s, Loss: 0.3115 | Precision: 84.45%]\u001B[0m\n"
     ]
    },
    {
     "name": "stdout",
     "output_type": "stream",
     "text": [
      "Epoch 72 | Avg Loss: 0.3232 | Avg Precision: 84.36%\n"
     ]
    },
    {
     "name": "stderr",
     "output_type": "stream",
     "text": [
      "Validate: 100%|\u001B[34m█████████████████████\u001B[0m| 148/148 [00:09<00:00, 15.96batch/s, Loss: 0.0896 | Precision: 84.63%]\u001B[0m\n"
     ]
    },
    {
     "name": "stdout",
     "output_type": "stream",
     "text": [
      "Epoch 72 | Avg Loss: 0.3201 | Avg Precision: 84.58% | Patience: 0\n"
     ]
    },
    {
     "name": "stderr",
     "output_type": "stream",
     "text": [
      "Train: 100%|\u001B[32m████████████████████████\u001B[0m| 589/589 [00:39<00:00, 15.01batch/s, Loss: 0.3110 | Precision: 84.48%]\u001B[0m\n"
     ]
    },
    {
     "name": "stdout",
     "output_type": "stream",
     "text": [
      "Epoch 73 | Avg Loss: 0.3227 | Avg Precision: 84.39%\n"
     ]
    },
    {
     "name": "stderr",
     "output_type": "stream",
     "text": [
      "Train: 100%|\u001B[32m████████████████████████\u001B[0m| 589/589 [00:39<00:00, 14.99batch/s, Loss: 0.3119 | Precision: 84.50%]\u001B[0m\n"
     ]
    },
    {
     "name": "stdout",
     "output_type": "stream",
     "text": [
      "Epoch 74 | Avg Loss: 0.3223 | Avg Precision: 84.42%\n"
     ]
    },
    {
     "name": "stderr",
     "output_type": "stream",
     "text": [
      "Train: 100%|\u001B[32m████████████████████████\u001B[0m| 589/589 [00:39<00:00, 14.95batch/s, Loss: 0.3116 | Precision: 84.53%]\u001B[0m\n"
     ]
    },
    {
     "name": "stdout",
     "output_type": "stream",
     "text": [
      "Epoch 75 | Avg Loss: 0.3219 | Avg Precision: 84.45%\n"
     ]
    },
    {
     "name": "stderr",
     "output_type": "stream",
     "text": [
      "Validate: 100%|\u001B[34m█████████████████████\u001B[0m| 148/148 [00:09<00:00, 16.16batch/s, Loss: 0.0902 | Precision: 84.73%]\u001B[0m\n"
     ]
    },
    {
     "name": "stdout",
     "output_type": "stream",
     "text": [
      "Epoch 75 | Avg Loss: 0.3191 | Avg Precision: 84.66% | Patience: 0\n"
     ]
    },
    {
     "name": "stderr",
     "output_type": "stream",
     "text": [
      "Train: 100%|\u001B[32m████████████████████████\u001B[0m| 589/589 [00:39<00:00, 15.01batch/s, Loss: 0.3149 | Precision: 84.55%]\u001B[0m\n"
     ]
    },
    {
     "name": "stdout",
     "output_type": "stream",
     "text": [
      "Epoch 76 | Avg Loss: 0.3216 | Avg Precision: 84.47%\n"
     ]
    },
    {
     "name": "stderr",
     "output_type": "stream",
     "text": [
      "Train: 100%|\u001B[32m████████████████████████\u001B[0m| 589/589 [00:39<00:00, 14.90batch/s, Loss: 0.3123 | Precision: 84.56%]\u001B[0m\n"
     ]
    },
    {
     "name": "stdout",
     "output_type": "stream",
     "text": [
      "Epoch 77 | Avg Loss: 0.3214 | Avg Precision: 84.48%\n"
     ]
    },
    {
     "name": "stderr",
     "output_type": "stream",
     "text": [
      "Train: 100%|\u001B[32m████████████████████████\u001B[0m| 589/589 [00:39<00:00, 14.82batch/s, Loss: 0.3123 | Precision: 84.57%]\u001B[0m\n"
     ]
    },
    {
     "name": "stdout",
     "output_type": "stream",
     "text": [
      "Epoch 78 | Avg Loss: 0.3211 | Avg Precision: 84.50%\n"
     ]
    },
    {
     "name": "stderr",
     "output_type": "stream",
     "text": [
      "Validate: 100%|\u001B[34m█████████████████████\u001B[0m| 148/148 [00:09<00:00, 15.91batch/s, Loss: 0.0937 | Precision: 84.76%]\u001B[0m\n"
     ]
    },
    {
     "name": "stdout",
     "output_type": "stream",
     "text": [
      "Epoch 78 | Avg Loss: 0.3182 | Avg Precision: 84.72% | Patience: 0\n"
     ]
    },
    {
     "name": "stderr",
     "output_type": "stream",
     "text": [
      "Train: 100%|\u001B[32m████████████████████████\u001B[0m| 589/589 [00:39<00:00, 14.96batch/s, Loss: 0.3079 | Precision: 84.59%]\u001B[0m\n"
     ]
    },
    {
     "name": "stdout",
     "output_type": "stream",
     "text": [
      "Epoch 79 | Avg Loss: 0.3209 | Avg Precision: 84.54%\n"
     ]
    },
    {
     "name": "stderr",
     "output_type": "stream",
     "text": [
      "Train: 100%|\u001B[32m████████████████████████\u001B[0m| 589/589 [00:39<00:00, 14.94batch/s, Loss: 0.3106 | Precision: 84.61%]\u001B[0m\n"
     ]
    },
    {
     "name": "stdout",
     "output_type": "stream",
     "text": [
      "Epoch 80 | Avg Loss: 0.3207 | Avg Precision: 84.56%\n"
     ]
    },
    {
     "name": "stderr",
     "output_type": "stream",
     "text": [
      "Train: 100%|\u001B[32m████████████████████████\u001B[0m| 589/589 [00:39<00:00, 14.96batch/s, Loss: 0.3085 | Precision: 84.62%]\u001B[0m\n"
     ]
    },
    {
     "name": "stdout",
     "output_type": "stream",
     "text": [
      "Epoch 81 | Avg Loss: 0.3205 | Avg Precision: 84.56%\n"
     ]
    },
    {
     "name": "stderr",
     "output_type": "stream",
     "text": [
      "Validate: 100%|\u001B[34m█████████████████████\u001B[0m| 148/148 [00:09<00:00, 16.06batch/s, Loss: 0.0954 | Precision: 84.79%]\u001B[0m\n"
     ]
    },
    {
     "name": "stdout",
     "output_type": "stream",
     "text": [
      "Epoch 81 | Avg Loss: 0.3178 | Avg Precision: 84.73% | Patience: 0\n"
     ]
    },
    {
     "name": "stderr",
     "output_type": "stream",
     "text": [
      "Train: 100%|\u001B[32m████████████████████████\u001B[0m| 589/589 [00:39<00:00, 14.97batch/s, Loss: 0.3097 | Precision: 84.64%]\u001B[0m\n"
     ]
    },
    {
     "name": "stdout",
     "output_type": "stream",
     "text": [
      "Epoch 82 | Avg Loss: 0.3203 | Avg Precision: 84.59%\n"
     ]
    },
    {
     "name": "stderr",
     "output_type": "stream",
     "text": [
      "Train: 100%|\u001B[32m████████████████████████\u001B[0m| 589/589 [00:39<00:00, 14.99batch/s, Loss: 0.3085 | Precision: 84.63%]\u001B[0m\n"
     ]
    },
    {
     "name": "stdout",
     "output_type": "stream",
     "text": [
      "Epoch 83 | Avg Loss: 0.3203 | Avg Precision: 84.54%\n"
     ]
    },
    {
     "name": "stderr",
     "output_type": "stream",
     "text": [
      "Train: 100%|\u001B[32m████████████████████████\u001B[0m| 589/589 [00:39<00:00, 14.96batch/s, Loss: 0.3101 | Precision: 84.65%]\u001B[0m\n"
     ]
    },
    {
     "name": "stdout",
     "output_type": "stream",
     "text": [
      "Epoch 84 | Avg Loss: 0.3200 | Avg Precision: 84.59%\n"
     ]
    },
    {
     "name": "stderr",
     "output_type": "stream",
     "text": [
      "Validate: 100%|\u001B[34m█████████████████████\u001B[0m| 148/148 [00:09<00:00, 15.92batch/s, Loss: 0.0976 | Precision: 84.84%]\u001B[0m\n"
     ]
    },
    {
     "name": "stdout",
     "output_type": "stream",
     "text": [
      "Epoch 84 | Avg Loss: 0.3174 | Avg Precision: 84.78% | Patience: 0\n"
     ]
    },
    {
     "name": "stderr",
     "output_type": "stream",
     "text": [
      "Train: 100%|\u001B[32m████████████████████████\u001B[0m| 589/589 [00:39<00:00, 14.98batch/s, Loss: 0.3093 | Precision: 84.65%]\u001B[0m\n"
     ]
    },
    {
     "name": "stdout",
     "output_type": "stream",
     "text": [
      "Epoch 85 | Avg Loss: 0.3199 | Avg Precision: 84.59%\n"
     ]
    },
    {
     "name": "stderr",
     "output_type": "stream",
     "text": [
      "Train: 100%|\u001B[32m████████████████████████\u001B[0m| 589/589 [00:39<00:00, 14.97batch/s, Loss: 0.3102 | Precision: 84.67%]\u001B[0m\n"
     ]
    },
    {
     "name": "stdout",
     "output_type": "stream",
     "text": [
      "Epoch 86 | Avg Loss: 0.3197 | Avg Precision: 84.62%\n"
     ]
    },
    {
     "name": "stderr",
     "output_type": "stream",
     "text": [
      "Train: 100%|\u001B[32m████████████████████████\u001B[0m| 589/589 [00:39<00:00, 15.03batch/s, Loss: 0.3066 | Precision: 84.69%]\u001B[0m\n"
     ]
    },
    {
     "name": "stdout",
     "output_type": "stream",
     "text": [
      "Epoch 87 | Avg Loss: 0.3196 | Avg Precision: 84.64%\n"
     ]
    },
    {
     "name": "stderr",
     "output_type": "stream",
     "text": [
      "Validate: 100%|\u001B[34m█████████████████████\u001B[0m| 148/148 [00:09<00:00, 16.42batch/s, Loss: 0.0995 | Precision: 84.82%]\u001B[0m\n"
     ]
    },
    {
     "name": "stdout",
     "output_type": "stream",
     "text": [
      "Epoch 87 | Avg Loss: 0.3177 | Avg Precision: 84.77% | Patience: 1\n"
     ]
    },
    {
     "name": "stderr",
     "output_type": "stream",
     "text": [
      "Train: 100%|\u001B[32m████████████████████████\u001B[0m| 589/589 [00:38<00:00, 15.16batch/s, Loss: 0.3086 | Precision: 84.69%]\u001B[0m\n"
     ]
    },
    {
     "name": "stdout",
     "output_type": "stream",
     "text": [
      "Epoch 88 | Avg Loss: 0.3195 | Avg Precision: 84.62%\n"
     ]
    },
    {
     "name": "stderr",
     "output_type": "stream",
     "text": [
      "Train: 100%|\u001B[32m████████████████████████\u001B[0m| 589/589 [00:38<00:00, 15.17batch/s, Loss: 0.3064 | Precision: 84.69%]\u001B[0m\n"
     ]
    },
    {
     "name": "stdout",
     "output_type": "stream",
     "text": [
      "Epoch 89 | Avg Loss: 0.3194 | Avg Precision: 84.62%\n"
     ]
    },
    {
     "name": "stderr",
     "output_type": "stream",
     "text": [
      "Train: 100%|\u001B[32m████████████████████████\u001B[0m| 589/589 [00:38<00:00, 15.23batch/s, Loss: 0.3101 | Precision: 84.70%]\u001B[0m\n"
     ]
    },
    {
     "name": "stdout",
     "output_type": "stream",
     "text": [
      "Epoch 90 | Avg Loss: 0.3193 | Avg Precision: 84.67%\n"
     ]
    },
    {
     "name": "stderr",
     "output_type": "stream",
     "text": [
      "Validate: 100%|\u001B[34m█████████████████████\u001B[0m| 148/148 [00:09<00:00, 16.20batch/s, Loss: 0.1012 | Precision: 84.84%]\u001B[0m\n"
     ]
    },
    {
     "name": "stdout",
     "output_type": "stream",
     "text": [
      "Epoch 90 | Avg Loss: 0.3174 | Avg Precision: 84.78% | Patience: 0\n"
     ]
    },
    {
     "name": "stderr",
     "output_type": "stream",
     "text": [
      "Train: 100%|\u001B[32m████████████████████████\u001B[0m| 589/589 [00:38<00:00, 15.21batch/s, Loss: 0.3101 | Precision: 84.71%]\u001B[0m\n"
     ]
    },
    {
     "name": "stdout",
     "output_type": "stream",
     "text": [
      "Epoch 91 | Avg Loss: 0.3192 | Avg Precision: 84.66%\n"
     ]
    },
    {
     "name": "stderr",
     "output_type": "stream",
     "text": [
      "Train: 100%|\u001B[32m████████████████████████\u001B[0m| 589/589 [00:38<00:00, 15.18batch/s, Loss: 0.3107 | Precision: 84.70%]\u001B[0m\n"
     ]
    },
    {
     "name": "stdout",
     "output_type": "stream",
     "text": [
      "Epoch 92 | Avg Loss: 0.3191 | Avg Precision: 84.66%\n"
     ]
    },
    {
     "name": "stderr",
     "output_type": "stream",
     "text": [
      "Train: 100%|\u001B[32m████████████████████████\u001B[0m| 589/589 [00:38<00:00, 15.18batch/s, Loss: 0.3093 | Precision: 84.72%]\u001B[0m\n"
     ]
    },
    {
     "name": "stdout",
     "output_type": "stream",
     "text": [
      "Epoch 93 | Avg Loss: 0.3190 | Avg Precision: 84.67%\n"
     ]
    },
    {
     "name": "stderr",
     "output_type": "stream",
     "text": [
      "Validate: 100%|\u001B[34m█████████████████████\u001B[0m| 148/148 [00:09<00:00, 16.32batch/s, Loss: 0.1015 | Precision: 84.89%]\u001B[0m\n"
     ]
    },
    {
     "name": "stdout",
     "output_type": "stream",
     "text": [
      "Epoch 93 | Avg Loss: 0.3170 | Avg Precision: 84.85% | Patience: 0\n"
     ]
    },
    {
     "name": "stderr",
     "output_type": "stream",
     "text": [
      "Train: 100%|\u001B[32m████████████████████████\u001B[0m| 589/589 [00:38<00:00, 15.13batch/s, Loss: 0.3094 | Precision: 84.72%]\u001B[0m\n"
     ]
    },
    {
     "name": "stdout",
     "output_type": "stream",
     "text": [
      "Epoch 94 | Avg Loss: 0.3189 | Avg Precision: 84.67%\n"
     ]
    },
    {
     "name": "stderr",
     "output_type": "stream",
     "text": [
      "Train: 100%|\u001B[32m████████████████████████\u001B[0m| 589/589 [00:38<00:00, 15.16batch/s, Loss: 0.3098 | Precision: 84.73%]\u001B[0m\n"
     ]
    },
    {
     "name": "stdout",
     "output_type": "stream",
     "text": [
      "Epoch 95 | Avg Loss: 0.3188 | Avg Precision: 84.68%\n"
     ]
    },
    {
     "name": "stderr",
     "output_type": "stream",
     "text": [
      "Train: 100%|\u001B[32m████████████████████████\u001B[0m| 589/589 [00:38<00:00, 15.18batch/s, Loss: 0.3081 | Precision: 84.73%]\u001B[0m\n"
     ]
    },
    {
     "name": "stdout",
     "output_type": "stream",
     "text": [
      "Epoch 96 | Avg Loss: 0.3187 | Avg Precision: 84.68%\n"
     ]
    },
    {
     "name": "stderr",
     "output_type": "stream",
     "text": [
      "Validate: 100%|\u001B[34m█████████████████████\u001B[0m| 148/148 [00:09<00:00, 16.21batch/s, Loss: 0.1023 | Precision: 84.90%]\u001B[0m\n"
     ]
    },
    {
     "name": "stdout",
     "output_type": "stream",
     "text": [
      "Epoch 96 | Avg Loss: 0.3170 | Avg Precision: 84.83% | Patience: 1\n"
     ]
    },
    {
     "name": "stderr",
     "output_type": "stream",
     "text": [
      "Train: 100%|\u001B[32m████████████████████████\u001B[0m| 589/589 [00:38<00:00, 15.19batch/s, Loss: 0.3108 | Precision: 84.74%]\u001B[0m\n"
     ]
    },
    {
     "name": "stdout",
     "output_type": "stream",
     "text": [
      "Epoch 97 | Avg Loss: 0.3186 | Avg Precision: 84.69%\n"
     ]
    },
    {
     "name": "stderr",
     "output_type": "stream",
     "text": [
      "Train: 100%|\u001B[32m████████████████████████\u001B[0m| 589/589 [00:38<00:00, 15.17batch/s, Loss: 0.3079 | Precision: 84.76%]\u001B[0m\n"
     ]
    },
    {
     "name": "stdout",
     "output_type": "stream",
     "text": [
      "Epoch 98 | Avg Loss: 0.3185 | Avg Precision: 84.71%\n"
     ]
    },
    {
     "name": "stderr",
     "output_type": "stream",
     "text": [
      "Train: 100%|\u001B[32m████████████████████████\u001B[0m| 589/589 [00:39<00:00, 15.07batch/s, Loss: 0.3088 | Precision: 84.76%]\u001B[0m\n"
     ]
    },
    {
     "name": "stdout",
     "output_type": "stream",
     "text": [
      "Epoch 99 | Avg Loss: 0.3184 | Avg Precision: 84.71%\n"
     ]
    },
    {
     "name": "stderr",
     "output_type": "stream",
     "text": [
      "Validate: 100%|\u001B[34m█████████████████████\u001B[0m| 148/148 [00:09<00:00, 16.21batch/s, Loss: 0.1024 | Precision: 84.94%]\u001B[0m\n"
     ]
    },
    {
     "name": "stdout",
     "output_type": "stream",
     "text": [
      "Epoch 99 | Avg Loss: 0.3166 | Avg Precision: 84.88% | Patience: 0\n"
     ]
    },
    {
     "name": "stderr",
     "output_type": "stream",
     "text": [
      "Train: 100%|\u001B[32m████████████████████████\u001B[0m| 589/589 [00:38<00:00, 15.16batch/s, Loss: 0.3081 | Precision: 84.77%]\u001B[0m"
     ]
    },
    {
     "name": "stdout",
     "output_type": "stream",
     "text": [
      "Epoch 100 | Avg Loss: 0.3183 | Avg Precision: 84.71%\n",
      "Training Complete\n"
     ]
    },
    {
     "name": "stderr",
     "output_type": "stream",
     "text": [
      "\n"
     ]
    }
   ],
   "source": [
    "model = Ann()\n",
    "model = model.to(device)\n",
    "criterion = nn.CrossEntropyLoss()\n",
    "optimizer = optim.Adam(model.parameters(), lr=.03)\n",
    "scheduler = ReduceLROnPlateau(optimizer, 'min', patience=2)\n",
    "epochs = 100\n",
    "\n",
    "model3 = train_validate(model, criterion, optimizer, scheduler, epochs, train_loader, val_loader)\n",
    "torch.save(model3.state_dict(), '.\\\\models\\\\downsample\\\\ann\\\\model3.pth')"
   ]
  },
  {
   "cell_type": "markdown",
   "id": "6f084b21-77e7-4293-867e-8ff8e9c26d36",
   "metadata": {
    "jp-MarkdownHeadingCollapsed": true
   },
   "source": [
    "### 11-1-23"
   ]
  },
  {
   "cell_type": "markdown",
   "id": "9b9480e6-60a9-4c6b-aa6f-12f8b9352459",
   "metadata": {
    "jp-MarkdownHeadingCollapsed": true
   },
   "source": [
    "#### Model 4 - Batch 250"
   ]
  },
  {
   "cell_type": "code",
   "execution_count": 25,
   "id": "0dc463c0-7ebd-4618-94c9-dc6c592d3b48",
   "metadata": {},
   "outputs": [
    {
     "name": "stderr",
     "output_type": "stream",
     "text": [
      "Train: 100%|\u001B[32m██████████████████████\u001B[0m| 1205/1205 [00:53<00:00, 22.68batch/s, Loss: 0.4562 | Precision: 73.76%]\u001B[0m\n"
     ]
    },
    {
     "name": "stdout",
     "output_type": "stream",
     "text": [
      "Epoch 1 | Avg Loss: 0.5056 | Avg Precision: 72.14%\n"
     ]
    },
    {
     "name": "stderr",
     "output_type": "stream",
     "text": [
      "Train: 100%|\u001B[32m██████████████████████\u001B[0m| 1205/1205 [00:53<00:00, 22.60batch/s, Loss: 0.4732 | Precision: 75.83%]\u001B[0m\n"
     ]
    },
    {
     "name": "stdout",
     "output_type": "stream",
     "text": [
      "Epoch 2 | Avg Loss: 0.4667 | Avg Precision: 75.56%\n"
     ]
    },
    {
     "name": "stderr",
     "output_type": "stream",
     "text": [
      "Train: 100%|\u001B[32m██████████████████████\u001B[0m| 1205/1205 [00:53<00:00, 22.62batch/s, Loss: 0.5057 | Precision: 76.65%]\u001B[0m\n"
     ]
    },
    {
     "name": "stdout",
     "output_type": "stream",
     "text": [
      "Epoch 3 | Avg Loss: 0.4547 | Avg Precision: 76.48%\n"
     ]
    },
    {
     "name": "stderr",
     "output_type": "stream",
     "text": [
      "Validate: 100%|\u001B[34m███████████████████████\u001B[0m| 74/74 [00:07<00:00,  9.28batch/s, Loss: 0.3803 | Precision: 75.37%]\u001B[0m\n"
     ]
    },
    {
     "name": "stdout",
     "output_type": "stream",
     "text": [
      "Epoch 3 | Avg Loss: 0.4589 | Avg Precision: 75.36% | Patience: 0\n"
     ]
    },
    {
     "name": "stderr",
     "output_type": "stream",
     "text": [
      "Train: 100%|\u001B[32m██████████████████████\u001B[0m| 1205/1205 [00:48<00:00, 24.95batch/s, Loss: 0.4327 | Precision: 76.87%]\u001B[0m\n"
     ]
    },
    {
     "name": "stdout",
     "output_type": "stream",
     "text": [
      "Epoch 4 | Avg Loss: 0.4463 | Avg Precision: 75.31%\n"
     ]
    },
    {
     "name": "stderr",
     "output_type": "stream",
     "text": [
      "Train: 100%|\u001B[32m██████████████████████\u001B[0m| 1205/1205 [00:48<00:00, 24.90batch/s, Loss: 0.3833 | Precision: 79.10%]\u001B[0m\n"
     ]
    },
    {
     "name": "stdout",
     "output_type": "stream",
     "text": [
      "Epoch 5 | Avg Loss: 0.4101 | Avg Precision: 78.97%\n"
     ]
    },
    {
     "name": "stderr",
     "output_type": "stream",
     "text": [
      "Train: 100%|\u001B[32m██████████████████████\u001B[0m| 1205/1205 [00:48<00:00, 24.96batch/s, Loss: 0.4007 | Precision: 79.76%]\u001B[0m\n"
     ]
    },
    {
     "name": "stdout",
     "output_type": "stream",
     "text": [
      "Epoch 6 | Avg Loss: 0.3996 | Avg Precision: 79.78%\n"
     ]
    },
    {
     "name": "stderr",
     "output_type": "stream",
     "text": [
      "Validate: 100%|\u001B[34m███████████████████████\u001B[0m| 74/74 [00:08<00:00,  9.08batch/s, Loss: 0.3494 | Precision: 81.03%]\u001B[0m\n"
     ]
    },
    {
     "name": "stdout",
     "output_type": "stream",
     "text": [
      "Epoch 6 | Avg Loss: 0.3886 | Avg Precision: 81.08% | Patience: 0\n"
     ]
    },
    {
     "name": "stderr",
     "output_type": "stream",
     "text": [
      "Train: 100%|\u001B[32m██████████████████████\u001B[0m| 1205/1205 [00:48<00:00, 24.91batch/s, Loss: 0.3987 | Precision: 80.18%]\u001B[0m\n"
     ]
    },
    {
     "name": "stdout",
     "output_type": "stream",
     "text": [
      "Epoch 7 | Avg Loss: 0.3933 | Avg Precision: 80.23%\n"
     ]
    },
    {
     "name": "stderr",
     "output_type": "stream",
     "text": [
      "Train: 100%|\u001B[32m██████████████████████\u001B[0m| 1205/1205 [00:48<00:00, 24.96batch/s, Loss: 0.3290 | Precision: 80.53%]\u001B[0m\n"
     ]
    },
    {
     "name": "stdout",
     "output_type": "stream",
     "text": [
      "Epoch 8 | Avg Loss: 0.3878 | Avg Precision: 80.67%\n"
     ]
    },
    {
     "name": "stderr",
     "output_type": "stream",
     "text": [
      "Train: 100%|\u001B[32m██████████████████████\u001B[0m| 1205/1205 [00:48<00:00, 24.94batch/s, Loss: 0.3646 | Precision: 80.73%]\u001B[0m\n"
     ]
    },
    {
     "name": "stdout",
     "output_type": "stream",
     "text": [
      "Epoch 9 | Avg Loss: 0.3847 | Avg Precision: 80.83%\n"
     ]
    },
    {
     "name": "stderr",
     "output_type": "stream",
     "text": [
      "Validate: 100%|\u001B[34m███████████████████████\u001B[0m| 74/74 [00:08<00:00,  9.10batch/s, Loss: 0.3559 | Precision: 81.63%]\u001B[0m\n"
     ]
    },
    {
     "name": "stdout",
     "output_type": "stream",
     "text": [
      "Epoch 9 | Avg Loss: 0.3839 | Avg Precision: 81.71% | Patience: 0\n"
     ]
    },
    {
     "name": "stderr",
     "output_type": "stream",
     "text": [
      "Train: 100%|\u001B[32m██████████████████████\u001B[0m| 1205/1205 [00:48<00:00, 24.95batch/s, Loss: 0.3517 | Precision: 81.04%]\u001B[0m\n"
     ]
    },
    {
     "name": "stdout",
     "output_type": "stream",
     "text": [
      "Epoch 10 | Avg Loss: 0.3810 | Avg Precision: 81.05%\n"
     ]
    },
    {
     "name": "stderr",
     "output_type": "stream",
     "text": [
      "Train: 100%|\u001B[32m██████████████████████\u001B[0m| 1205/1205 [00:48<00:00, 24.96batch/s, Loss: 0.3820 | Precision: 81.15%]\u001B[0m\n"
     ]
    },
    {
     "name": "stdout",
     "output_type": "stream",
     "text": [
      "Epoch 11 | Avg Loss: 0.3788 | Avg Precision: 81.26%\n"
     ]
    },
    {
     "name": "stderr",
     "output_type": "stream",
     "text": [
      "Train: 100%|\u001B[32m██████████████████████\u001B[0m| 1205/1205 [00:48<00:00, 24.96batch/s, Loss: 0.3770 | Precision: 81.26%]\u001B[0m\n"
     ]
    },
    {
     "name": "stdout",
     "output_type": "stream",
     "text": [
      "Epoch 12 | Avg Loss: 0.3770 | Avg Precision: 81.35%\n"
     ]
    },
    {
     "name": "stderr",
     "output_type": "stream",
     "text": [
      "Validate: 100%|\u001B[34m███████████████████████\u001B[0m| 74/74 [00:08<00:00,  9.05batch/s, Loss: 0.3361 | Precision: 81.99%]\u001B[0m\n"
     ]
    },
    {
     "name": "stdout",
     "output_type": "stream",
     "text": [
      "Epoch 12 | Avg Loss: 0.3797 | Avg Precision: 82.04% | Patience: 0\n"
     ]
    },
    {
     "name": "stderr",
     "output_type": "stream",
     "text": [
      "Train: 100%|\u001B[32m██████████████████████\u001B[0m| 1205/1205 [00:48<00:00, 24.95batch/s, Loss: 0.3710 | Precision: 81.46%]\u001B[0m\n"
     ]
    },
    {
     "name": "stdout",
     "output_type": "stream",
     "text": [
      "Epoch 13 | Avg Loss: 0.3753 | Avg Precision: 81.57%\n"
     ]
    },
    {
     "name": "stderr",
     "output_type": "stream",
     "text": [
      "Train: 100%|\u001B[32m██████████████████████\u001B[0m| 1205/1205 [00:48<00:00, 24.92batch/s, Loss: 0.3710 | Precision: 81.60%]\u001B[0m\n"
     ]
    },
    {
     "name": "stdout",
     "output_type": "stream",
     "text": [
      "Epoch 14 | Avg Loss: 0.3729 | Avg Precision: 81.63%\n"
     ]
    },
    {
     "name": "stderr",
     "output_type": "stream",
     "text": [
      "Train: 100%|\u001B[32m██████████████████████\u001B[0m| 1205/1205 [00:48<00:00, 24.94batch/s, Loss: 0.3884 | Precision: 81.70%]\u001B[0m\n"
     ]
    },
    {
     "name": "stdout",
     "output_type": "stream",
     "text": [
      "Epoch 15 | Avg Loss: 0.3721 | Avg Precision: 81.64%\n"
     ]
    },
    {
     "name": "stderr",
     "output_type": "stream",
     "text": [
      "Validate: 100%|\u001B[34m███████████████████████\u001B[0m| 74/74 [00:08<00:00,  9.08batch/s, Loss: 0.3397 | Precision: 81.76%]\u001B[0m\n"
     ]
    },
    {
     "name": "stdout",
     "output_type": "stream",
     "text": [
      "Epoch 15 | Avg Loss: 0.3737 | Avg Precision: 81.83% | Patience: 1\n"
     ]
    },
    {
     "name": "stderr",
     "output_type": "stream",
     "text": [
      "Train: 100%|\u001B[32m██████████████████████\u001B[0m| 1205/1205 [00:48<00:00, 24.92batch/s, Loss: 0.3532 | Precision: 81.80%]\u001B[0m\n"
     ]
    },
    {
     "name": "stdout",
     "output_type": "stream",
     "text": [
      "Epoch 16 | Avg Loss: 0.3702 | Avg Precision: 81.83%\n"
     ]
    },
    {
     "name": "stderr",
     "output_type": "stream",
     "text": [
      "Train: 100%|\u001B[32m██████████████████████\u001B[0m| 1205/1205 [00:48<00:00, 24.94batch/s, Loss: 0.3642 | Precision: 81.94%]\u001B[0m\n"
     ]
    },
    {
     "name": "stdout",
     "output_type": "stream",
     "text": [
      "Epoch 17 | Avg Loss: 0.3680 | Avg Precision: 81.96%\n"
     ]
    },
    {
     "name": "stderr",
     "output_type": "stream",
     "text": [
      "Train: 100%|\u001B[32m██████████████████████\u001B[0m| 1205/1205 [00:48<00:00, 24.94batch/s, Loss: 0.3668 | Precision: 82.00%]\u001B[0m\n"
     ]
    },
    {
     "name": "stdout",
     "output_type": "stream",
     "text": [
      "Epoch 18 | Avg Loss: 0.3669 | Avg Precision: 82.02%\n"
     ]
    },
    {
     "name": "stderr",
     "output_type": "stream",
     "text": [
      "Validate: 100%|\u001B[34m███████████████████████\u001B[0m| 74/74 [00:08<00:00,  9.08batch/s, Loss: 0.3261 | Precision: 82.60%]\u001B[0m\n"
     ]
    },
    {
     "name": "stdout",
     "output_type": "stream",
     "text": [
      "Epoch 18 | Avg Loss: 0.3696 | Avg Precision: 82.69% | Patience: 0\n"
     ]
    },
    {
     "name": "stderr",
     "output_type": "stream",
     "text": [
      "Train: 100%|\u001B[32m██████████████████████\u001B[0m| 1205/1205 [00:48<00:00, 24.93batch/s, Loss: 0.3878 | Precision: 82.12%]\u001B[0m\n"
     ]
    },
    {
     "name": "stdout",
     "output_type": "stream",
     "text": [
      "Epoch 19 | Avg Loss: 0.3661 | Avg Precision: 82.15%\n"
     ]
    },
    {
     "name": "stderr",
     "output_type": "stream",
     "text": [
      "Train: 100%|\u001B[32m██████████████████████\u001B[0m| 1205/1205 [00:48<00:00, 24.94batch/s, Loss: 0.3508 | Precision: 82.15%]\u001B[0m\n"
     ]
    },
    {
     "name": "stdout",
     "output_type": "stream",
     "text": [
      "Epoch 20 | Avg Loss: 0.3655 | Avg Precision: 82.12%\n"
     ]
    },
    {
     "name": "stderr",
     "output_type": "stream",
     "text": [
      "Train: 100%|\u001B[32m██████████████████████\u001B[0m| 1205/1205 [00:48<00:00, 24.96batch/s, Loss: 0.3570 | Precision: 82.17%]\u001B[0m\n"
     ]
    },
    {
     "name": "stdout",
     "output_type": "stream",
     "text": [
      "Epoch 21 | Avg Loss: 0.3645 | Avg Precision: 82.16%\n"
     ]
    },
    {
     "name": "stderr",
     "output_type": "stream",
     "text": [
      "Validate: 100%|\u001B[34m███████████████████████\u001B[0m| 74/74 [00:08<00:00,  9.14batch/s, Loss: 0.3265 | Precision: 82.96%]\u001B[0m\n"
     ]
    },
    {
     "name": "stdout",
     "output_type": "stream",
     "text": [
      "Epoch 21 | Avg Loss: 0.3650 | Avg Precision: 83.04% | Patience: 0\n"
     ]
    },
    {
     "name": "stderr",
     "output_type": "stream",
     "text": [
      "Train: 100%|\u001B[32m██████████████████████\u001B[0m| 1205/1205 [00:48<00:00, 24.89batch/s, Loss: 0.3535 | Precision: 82.26%]\u001B[0m\n"
     ]
    },
    {
     "name": "stdout",
     "output_type": "stream",
     "text": [
      "Epoch 22 | Avg Loss: 0.3639 | Avg Precision: 82.34%\n"
     ]
    },
    {
     "name": "stderr",
     "output_type": "stream",
     "text": [
      "Train: 100%|\u001B[32m██████████████████████\u001B[0m| 1205/1205 [00:48<00:00, 24.96batch/s, Loss: 0.3595 | Precision: 82.30%]\u001B[0m\n"
     ]
    },
    {
     "name": "stdout",
     "output_type": "stream",
     "text": [
      "Epoch 23 | Avg Loss: 0.3629 | Avg Precision: 82.36%\n"
     ]
    },
    {
     "name": "stderr",
     "output_type": "stream",
     "text": [
      "Train: 100%|\u001B[32m██████████████████████\u001B[0m| 1205/1205 [00:48<00:00, 24.94batch/s, Loss: 0.3613 | Precision: 82.38%]\u001B[0m\n"
     ]
    },
    {
     "name": "stdout",
     "output_type": "stream",
     "text": [
      "Epoch 24 | Avg Loss: 0.3624 | Avg Precision: 82.42%\n"
     ]
    },
    {
     "name": "stderr",
     "output_type": "stream",
     "text": [
      "Validate: 100%|\u001B[34m███████████████████████\u001B[0m| 74/74 [00:07<00:00,  9.26batch/s, Loss: 0.3204 | Precision: 82.73%]\u001B[0m\n"
     ]
    },
    {
     "name": "stdout",
     "output_type": "stream",
     "text": [
      "Epoch 24 | Avg Loss: 0.3679 | Avg Precision: 82.79% | Patience: 1\n"
     ]
    },
    {
     "name": "stderr",
     "output_type": "stream",
     "text": [
      "Train: 100%|\u001B[32m██████████████████████\u001B[0m| 1205/1205 [00:48<00:00, 24.94batch/s, Loss: 0.3840 | Precision: 82.43%]\u001B[0m\n"
     ]
    },
    {
     "name": "stdout",
     "output_type": "stream",
     "text": [
      "Epoch 25 | Avg Loss: 0.3615 | Avg Precision: 82.45%\n"
     ]
    },
    {
     "name": "stderr",
     "output_type": "stream",
     "text": [
      "Train: 100%|\u001B[32m██████████████████████\u001B[0m| 1205/1205 [00:48<00:00, 24.94batch/s, Loss: 0.3598 | Precision: 82.51%]\u001B[0m\n"
     ]
    },
    {
     "name": "stdout",
     "output_type": "stream",
     "text": [
      "Epoch 26 | Avg Loss: 0.3603 | Avg Precision: 82.62%\n"
     ]
    },
    {
     "name": "stderr",
     "output_type": "stream",
     "text": [
      "Train: 100%|\u001B[32m██████████████████████\u001B[0m| 1205/1205 [00:48<00:00, 24.94batch/s, Loss: 0.3498 | Precision: 82.47%]\u001B[0m\n"
     ]
    },
    {
     "name": "stdout",
     "output_type": "stream",
     "text": [
      "Epoch 27 | Avg Loss: 0.3603 | Avg Precision: 82.45%\n"
     ]
    },
    {
     "name": "stderr",
     "output_type": "stream",
     "text": [
      "Validate: 100%|\u001B[34m███████████████████████\u001B[0m| 74/74 [00:08<00:00,  9.25batch/s, Loss: 0.3131 | Precision: 82.49%]\u001B[0m\n"
     ]
    },
    {
     "name": "stdout",
     "output_type": "stream",
     "text": [
      "Epoch 27 | Avg Loss: 0.3644 | Avg Precision: 82.61% | Patience: 2\n"
     ]
    },
    {
     "name": "stderr",
     "output_type": "stream",
     "text": [
      "Train: 100%|\u001B[32m██████████████████████\u001B[0m| 1205/1205 [00:48<00:00, 24.90batch/s, Loss: 0.3695 | Precision: 82.50%]\u001B[0m\n"
     ]
    },
    {
     "name": "stdout",
     "output_type": "stream",
     "text": [
      "Epoch 28 | Avg Loss: 0.3598 | Avg Precision: 82.57%\n"
     ]
    },
    {
     "name": "stderr",
     "output_type": "stream",
     "text": [
      "Train: 100%|\u001B[32m██████████████████████\u001B[0m| 1205/1205 [00:48<00:00, 24.94batch/s, Loss: 0.3709 | Precision: 82.54%]\u001B[0m\n"
     ]
    },
    {
     "name": "stdout",
     "output_type": "stream",
     "text": [
      "Epoch 29 | Avg Loss: 0.3593 | Avg Precision: 82.57%\n"
     ]
    },
    {
     "name": "stderr",
     "output_type": "stream",
     "text": [
      "Train: 100%|\u001B[32m██████████████████████\u001B[0m| 1205/1205 [00:48<00:00, 24.94batch/s, Loss: 0.3738 | Precision: 82.63%]\u001B[0m\n"
     ]
    },
    {
     "name": "stdout",
     "output_type": "stream",
     "text": [
      "Epoch 30 | Avg Loss: 0.3584 | Avg Precision: 82.68%\n"
     ]
    },
    {
     "name": "stderr",
     "output_type": "stream",
     "text": [
      "Validate: 100%|\u001B[34m███████████████████████\u001B[0m| 74/74 [00:08<00:00,  9.20batch/s, Loss: 0.3027 | Precision: 82.16%]\u001B[0m\n"
     ]
    },
    {
     "name": "stdout",
     "output_type": "stream",
     "text": [
      "Epoch 30 | Avg Loss: 0.3624 | Avg Precision: 82.27% | Patience: 3\n"
     ]
    },
    {
     "name": "stderr",
     "output_type": "stream",
     "text": [
      "Train: 100%|\u001B[32m██████████████████████\u001B[0m| 1205/1205 [00:48<00:00, 24.94batch/s, Loss: 0.3510 | Precision: 82.64%]\u001B[0m\n"
     ]
    },
    {
     "name": "stdout",
     "output_type": "stream",
     "text": [
      "Epoch 31 | Avg Loss: 0.3581 | Avg Precision: 82.67%\n"
     ]
    },
    {
     "name": "stderr",
     "output_type": "stream",
     "text": [
      "Train: 100%|\u001B[32m██████████████████████\u001B[0m| 1205/1205 [00:48<00:00, 24.94batch/s, Loss: 0.3544 | Precision: 82.65%]\u001B[0m\n"
     ]
    },
    {
     "name": "stdout",
     "output_type": "stream",
     "text": [
      "Epoch 32 | Avg Loss: 0.3580 | Avg Precision: 82.70%\n"
     ]
    },
    {
     "name": "stderr",
     "output_type": "stream",
     "text": [
      "Train: 100%|\u001B[32m██████████████████████\u001B[0m| 1205/1205 [00:48<00:00, 24.92batch/s, Loss: 0.3665 | Precision: 82.67%]\u001B[0m\n"
     ]
    },
    {
     "name": "stdout",
     "output_type": "stream",
     "text": [
      "Epoch 33 | Avg Loss: 0.3584 | Avg Precision: 82.68%\n"
     ]
    },
    {
     "name": "stderr",
     "output_type": "stream",
     "text": [
      "Validate: 100%|\u001B[34m███████████████████████\u001B[0m| 74/74 [00:08<00:00,  9.07batch/s, Loss: 0.3012 | Precision: 82.77%]\u001B[0m\n"
     ]
    },
    {
     "name": "stdout",
     "output_type": "stream",
     "text": [
      "Epoch 33 | Avg Loss: 0.3594 | Avg Precision: 82.85% | Patience: 4\n"
     ]
    },
    {
     "name": "stderr",
     "output_type": "stream",
     "text": [
      "Train: 100%|\u001B[32m██████████████████████\u001B[0m| 1205/1205 [00:48<00:00, 24.96batch/s, Loss: 0.3514 | Precision: 82.70%]\u001B[0m\n"
     ]
    },
    {
     "name": "stdout",
     "output_type": "stream",
     "text": [
      "Epoch 34 | Avg Loss: 0.3578 | Avg Precision: 82.74%\n"
     ]
    },
    {
     "name": "stderr",
     "output_type": "stream",
     "text": [
      "Train: 100%|\u001B[32m██████████████████████\u001B[0m| 1205/1205 [00:48<00:00, 24.94batch/s, Loss: 0.3343 | Precision: 82.83%]\u001B[0m\n"
     ]
    },
    {
     "name": "stdout",
     "output_type": "stream",
     "text": [
      "Epoch 35 | Avg Loss: 0.3566 | Avg Precision: 82.86%\n"
     ]
    },
    {
     "name": "stderr",
     "output_type": "stream",
     "text": [
      "Train: 100%|\u001B[32m██████████████████████\u001B[0m| 1205/1205 [00:48<00:00, 24.94batch/s, Loss: 0.3344 | Precision: 82.81%]\u001B[0m\n"
     ]
    },
    {
     "name": "stdout",
     "output_type": "stream",
     "text": [
      "Epoch 36 | Avg Loss: 0.3566 | Avg Precision: 82.90%\n"
     ]
    },
    {
     "name": "stderr",
     "output_type": "stream",
     "text": [
      "Validate: 100%|\u001B[34m███████████████████████\u001B[0m| 74/74 [00:08<00:00,  9.11batch/s, Loss: 0.2981 | Precision: 82.77%]\u001B[0m"
     ]
    },
    {
     "name": "stdout",
     "output_type": "stream",
     "text": [
      "Early Stopping: Precision stagnated or decreased too many times. Best Validation: 83.04%\n",
      "Training Complete\n"
     ]
    },
    {
     "name": "stderr",
     "output_type": "stream",
     "text": [
      "\n"
     ]
    }
   ],
   "source": [
    "model = Ann()\n",
    "model = model.to(device)\n",
    "criterion = nn.CrossEntropyLoss()\n",
    "optimizer = optim.Adam(model.parameters(), lr=.03)\n",
    "scheduler = ReduceLROnPlateau(optimizer, 'min', patience=2)\n",
    "epochs = 100\n",
    "\n",
    "model4 = train_validate(model, criterion, optimizer, scheduler, epochs, train_loader, val_loader)\n",
    "torch.save(model4.state_dict(), '.\\\\models\\\\downsample\\\\ann\\\\model4.pth')"
   ]
  },
  {
   "cell_type": "markdown",
   "id": "e114b828-1b35-44a6-980a-d0cddc06ec24",
   "metadata": {},
   "source": [
    "### 11-14-23"
   ]
  },
  {
   "cell_type": "markdown",
   "id": "2fa7a083-d22d-4f94-bfe7-47b76b795a7a",
   "metadata": {},
   "source": [
    "#### Model 5"
   ]
  },
  {
   "cell_type": "code",
   "execution_count": 23,
   "id": "f5b6778e-6938-4068-93f3-79097676d018",
   "metadata": {},
   "outputs": [
    {
     "name": "stderr",
     "output_type": "stream",
     "text": [
      "Train: 100%|\u001B[32m████████████████████████\u001B[0m| 295/295 [00:41<00:00,  7.08batch/s, Loss: 0.3615 | Precision: 75.65%]\u001B[0m\n"
     ]
    },
    {
     "name": "stdout",
     "output_type": "stream",
     "text": [
      "Epoch 1 | Avg Loss: 0.4783 | Avg Precision: 73.27%\n"
     ]
    },
    {
     "name": "stderr",
     "output_type": "stream",
     "text": [
      "Train: 100%|\u001B[32m████████████████████████\u001B[0m| 295/295 [00:40<00:00,  7.34batch/s, Loss: 0.2156 | Precision: 78.90%]\u001B[0m\n"
     ]
    },
    {
     "name": "stdout",
     "output_type": "stream",
     "text": [
      "Epoch 2 | Avg Loss: 0.4181 | Avg Precision: 78.27%\n"
     ]
    },
    {
     "name": "stderr",
     "output_type": "stream",
     "text": [
      "Train: 100%|\u001B[32m████████████████████████\u001B[0m| 295/295 [00:40<00:00,  7.36batch/s, Loss: 0.2195 | Precision: 79.86%]\u001B[0m\n"
     ]
    },
    {
     "name": "stdout",
     "output_type": "stream",
     "text": [
      "Epoch 3 | Avg Loss: 0.4016 | Avg Precision: 79.56%\n"
     ]
    },
    {
     "name": "stderr",
     "output_type": "stream",
     "text": [
      "Validate: 100%|\u001B[34m███████████████████████\u001B[0m| 74/74 [00:08<00:00,  8.41batch/s, Loss: 0.4033 | Precision: 82.09%]\u001B[0m\n"
     ]
    },
    {
     "name": "stdout",
     "output_type": "stream",
     "text": [
      "Epoch 3 | Avg Loss: 0.3703 | Avg Precision: 82.06% | Patience: 0\n"
     ]
    },
    {
     "name": "stderr",
     "output_type": "stream",
     "text": [
      "Train: 100%|\u001B[32m████████████████████████\u001B[0m| 295/295 [00:35<00:00,  8.25batch/s, Loss: 0.3795 | Precision: 81.90%]\u001B[0m\n"
     ]
    },
    {
     "name": "stdout",
     "output_type": "stream",
     "text": [
      "Epoch 4 | Avg Loss: 0.3632 | Avg Precision: 81.40%\n"
     ]
    },
    {
     "name": "stderr",
     "output_type": "stream",
     "text": [
      "Train: 100%|\u001B[32m████████████████████████\u001B[0m| 295/295 [00:36<00:00,  8.17batch/s, Loss: 0.2728 | Precision: 82.44%]\u001B[0m\n"
     ]
    },
    {
     "name": "stdout",
     "output_type": "stream",
     "text": [
      "Epoch 5 | Avg Loss: 0.3534 | Avg Precision: 81.91%\n"
     ]
    },
    {
     "name": "stderr",
     "output_type": "stream",
     "text": [
      "Train: 100%|\u001B[32m████████████████████████\u001B[0m| 295/295 [00:36<00:00,  8.13batch/s, Loss: 0.2146 | Precision: 82.98%]\u001B[0m\n"
     ]
    },
    {
     "name": "stdout",
     "output_type": "stream",
     "text": [
      "Epoch 6 | Avg Loss: 0.3442 | Avg Precision: 82.58%\n"
     ]
    },
    {
     "name": "stderr",
     "output_type": "stream",
     "text": [
      "Validate: 100%|\u001B[34m███████████████████████\u001B[0m| 74/74 [00:08<00:00,  8.31batch/s, Loss: 0.3415 | Precision: 83.33%]\u001B[0m\n"
     ]
    },
    {
     "name": "stdout",
     "output_type": "stream",
     "text": [
      "Epoch 6 | Avg Loss: 0.3410 | Avg Precision: 83.29% | Patience: 0\n"
     ]
    },
    {
     "name": "stderr",
     "output_type": "stream",
     "text": [
      "Train: 100%|\u001B[32m████████████████████████\u001B[0m| 295/295 [00:36<00:00,  8.17batch/s, Loss: 0.1823 | Precision: 83.26%]\u001B[0m\n"
     ]
    },
    {
     "name": "stdout",
     "output_type": "stream",
     "text": [
      "Epoch 7 | Avg Loss: 0.3387 | Avg Precision: 82.93%\n"
     ]
    },
    {
     "name": "stderr",
     "output_type": "stream",
     "text": [
      "Train: 100%|\u001B[32m████████████████████████\u001B[0m| 295/295 [00:36<00:00,  8.13batch/s, Loss: 0.1634 | Precision: 83.56%]\u001B[0m\n"
     ]
    },
    {
     "name": "stdout",
     "output_type": "stream",
     "text": [
      "Epoch 8 | Avg Loss: 0.3334 | Avg Precision: 83.30%\n"
     ]
    },
    {
     "name": "stderr",
     "output_type": "stream",
     "text": [
      "Train: 100%|\u001B[32m████████████████████████\u001B[0m| 295/295 [00:36<00:00,  8.14batch/s, Loss: 0.1479 | Precision: 83.83%]\u001B[0m\n"
     ]
    },
    {
     "name": "stdout",
     "output_type": "stream",
     "text": [
      "Epoch 9 | Avg Loss: 0.3285 | Avg Precision: 83.57%\n"
     ]
    },
    {
     "name": "stderr",
     "output_type": "stream",
     "text": [
      "Validate: 100%|\u001B[34m███████████████████████\u001B[0m| 74/74 [00:08<00:00,  8.32batch/s, Loss: 0.3247 | Precision: 84.18%]\u001B[0m\n"
     ]
    },
    {
     "name": "stdout",
     "output_type": "stream",
     "text": [
      "Epoch 9 | Avg Loss: 0.3273 | Avg Precision: 84.28% | Patience: 0\n"
     ]
    },
    {
     "name": "stderr",
     "output_type": "stream",
     "text": [
      "Train: 100%|\u001B[32m████████████████████████\u001B[0m| 295/295 [00:36<00:00,  8.12batch/s, Loss: 0.1424 | Precision: 84.04%]\u001B[0m\n"
     ]
    },
    {
     "name": "stdout",
     "output_type": "stream",
     "text": [
      "Epoch 10 | Avg Loss: 0.3252 | Avg Precision: 83.75%\n"
     ]
    },
    {
     "name": "stderr",
     "output_type": "stream",
     "text": [
      "Train: 100%|\u001B[32m████████████████████████\u001B[0m| 295/295 [00:36<00:00,  8.09batch/s, Loss: 0.1386 | Precision: 84.20%]\u001B[0m\n"
     ]
    },
    {
     "name": "stdout",
     "output_type": "stream",
     "text": [
      "Epoch 11 | Avg Loss: 0.3224 | Avg Precision: 83.95%\n"
     ]
    },
    {
     "name": "stderr",
     "output_type": "stream",
     "text": [
      "Train: 100%|\u001B[32m████████████████████████\u001B[0m| 295/295 [00:36<00:00,  8.09batch/s, Loss: 0.1527 | Precision: 84.28%]\u001B[0m\n"
     ]
    },
    {
     "name": "stdout",
     "output_type": "stream",
     "text": [
      "Epoch 12 | Avg Loss: 0.3213 | Avg Precision: 83.91%\n"
     ]
    },
    {
     "name": "stderr",
     "output_type": "stream",
     "text": [
      "Validate: 100%|\u001B[34m███████████████████████\u001B[0m| 74/74 [00:08<00:00,  8.39batch/s, Loss: 0.3201 | Precision: 84.19%]\u001B[0m\n"
     ]
    },
    {
     "name": "stdout",
     "output_type": "stream",
     "text": [
      "Epoch 00004: reducing learning rate of group 0 to 9.0000e-03.\n",
      "Epoch 12 | Avg Loss: 0.3243 | Avg Precision: 84.20% | Patience: 1\n"
     ]
    },
    {
     "name": "stderr",
     "output_type": "stream",
     "text": [
      "Train: 100%|\u001B[32m████████████████████████\u001B[0m| 295/295 [00:37<00:00,  7.97batch/s, Loss: 0.1152 | Precision: 84.52%]\u001B[0m\n"
     ]
    },
    {
     "name": "stdout",
     "output_type": "stream",
     "text": [
      "Epoch 13 | Avg Loss: 0.3162 | Avg Precision: 84.17%\n"
     ]
    },
    {
     "name": "stderr",
     "output_type": "stream",
     "text": [
      "Train: 100%|\u001B[32m████████████████████████\u001B[0m| 295/295 [00:36<00:00,  8.09batch/s, Loss: 0.1002 | Precision: 84.66%]\u001B[0m\n"
     ]
    },
    {
     "name": "stdout",
     "output_type": "stream",
     "text": [
      "Epoch 14 | Avg Loss: 0.3137 | Avg Precision: 84.39%\n"
     ]
    },
    {
     "name": "stderr",
     "output_type": "stream",
     "text": [
      "Train: 100%|\u001B[32m████████████████████████\u001B[0m| 295/295 [00:36<00:00,  8.01batch/s, Loss: 0.1028 | Precision: 84.76%]\u001B[0m\n"
     ]
    },
    {
     "name": "stdout",
     "output_type": "stream",
     "text": [
      "Epoch 15 | Avg Loss: 0.3120 | Avg Precision: 84.53%\n"
     ]
    },
    {
     "name": "stderr",
     "output_type": "stream",
     "text": [
      "Validate: 100%|\u001B[34m███████████████████████\u001B[0m| 74/74 [00:08<00:00,  8.31batch/s, Loss: 0.3269 | Precision: 84.08%]\u001B[0m\n"
     ]
    },
    {
     "name": "stdout",
     "output_type": "stream",
     "text": [
      "Epoch 00005: reducing learning rate of group 0 to 8.1000e-03.\n",
      "Epoch 15 | Avg Loss: 0.3220 | Avg Precision: 84.06% | Patience: 2\n"
     ]
    },
    {
     "name": "stderr",
     "output_type": "stream",
     "text": [
      "Train: 100%|\u001B[32m████████████████████████\u001B[0m| 295/295 [00:36<00:00,  7.98batch/s, Loss: 0.0888 | Precision: 84.95%]\u001B[0m\n"
     ]
    },
    {
     "name": "stdout",
     "output_type": "stream",
     "text": [
      "Epoch 16 | Avg Loss: 0.3085 | Avg Precision: 84.65%\n"
     ]
    },
    {
     "name": "stderr",
     "output_type": "stream",
     "text": [
      "Train: 100%|\u001B[32m████████████████████████\u001B[0m| 295/295 [00:36<00:00,  8.06batch/s, Loss: 0.0955 | Precision: 85.05%]\u001B[0m\n"
     ]
    },
    {
     "name": "stdout",
     "output_type": "stream",
     "text": [
      "Epoch 17 | Avg Loss: 0.3067 | Avg Precision: 84.76%\n"
     ]
    },
    {
     "name": "stderr",
     "output_type": "stream",
     "text": [
      "Train: 100%|\u001B[32m████████████████████████\u001B[0m| 295/295 [00:36<00:00,  8.06batch/s, Loss: 0.0936 | Precision: 85.12%]\u001B[0m\n"
     ]
    },
    {
     "name": "stdout",
     "output_type": "stream",
     "text": [
      "Epoch 18 | Avg Loss: 0.3046 | Avg Precision: 84.85%\n"
     ]
    },
    {
     "name": "stderr",
     "output_type": "stream",
     "text": [
      "Validate: 100%|\u001B[34m███████████████████████\u001B[0m| 74/74 [00:08<00:00,  8.33batch/s, Loss: 0.3205 | Precision: 84.85%]\u001B[0m\n"
     ]
    },
    {
     "name": "stdout",
     "output_type": "stream",
     "text": [
      "Epoch 18 | Avg Loss: 0.3123 | Avg Precision: 84.82% | Patience: 0\n"
     ]
    },
    {
     "name": "stderr",
     "output_type": "stream",
     "text": [
      "Train: 100%|\u001B[32m████████████████████████\u001B[0m| 295/295 [00:36<00:00,  8.10batch/s, Loss: 0.0901 | Precision: 85.21%]\u001B[0m\n"
     ]
    },
    {
     "name": "stdout",
     "output_type": "stream",
     "text": [
      "Epoch 19 | Avg Loss: 0.3027 | Avg Precision: 84.94%\n"
     ]
    },
    {
     "name": "stderr",
     "output_type": "stream",
     "text": [
      "Train: 100%|\u001B[32m████████████████████████\u001B[0m| 295/295 [00:36<00:00,  8.13batch/s, Loss: 0.0705 | Precision: 85.32%]\u001B[0m\n"
     ]
    },
    {
     "name": "stdout",
     "output_type": "stream",
     "text": [
      "Epoch 20 | Avg Loss: 0.3015 | Avg Precision: 85.05%\n"
     ]
    },
    {
     "name": "stderr",
     "output_type": "stream",
     "text": [
      "Train: 100%|\u001B[32m████████████████████████\u001B[0m| 295/295 [00:36<00:00,  8.07batch/s, Loss: 0.0656 | Precision: 85.41%]\u001B[0m\n"
     ]
    },
    {
     "name": "stdout",
     "output_type": "stream",
     "text": [
      "Epoch 21 | Avg Loss: 0.2999 | Avg Precision: 85.16%\n"
     ]
    },
    {
     "name": "stderr",
     "output_type": "stream",
     "text": [
      "Validate: 100%|\u001B[34m███████████████████████\u001B[0m| 74/74 [00:08<00:00,  8.30batch/s, Loss: 0.3225 | Precision: 85.09%]\u001B[0m\n"
     ]
    },
    {
     "name": "stdout",
     "output_type": "stream",
     "text": [
      "Epoch 21 | Avg Loss: 0.3112 | Avg Precision: 85.14% | Patience: 0\n"
     ]
    },
    {
     "name": "stderr",
     "output_type": "stream",
     "text": [
      "Train: 100%|\u001B[32m████████████████████████\u001B[0m| 295/295 [00:36<00:00,  8.06batch/s, Loss: 0.0676 | Precision: 85.50%]\u001B[0m\n"
     ]
    },
    {
     "name": "stdout",
     "output_type": "stream",
     "text": [
      "Epoch 22 | Avg Loss: 0.2983 | Avg Precision: 85.28%\n"
     ]
    },
    {
     "name": "stderr",
     "output_type": "stream",
     "text": [
      "Train: 100%|\u001B[32m████████████████████████\u001B[0m| 295/295 [00:36<00:00,  8.09batch/s, Loss: 0.0850 | Precision: 85.52%]\u001B[0m\n"
     ]
    },
    {
     "name": "stdout",
     "output_type": "stream",
     "text": [
      "Epoch 23 | Avg Loss: 0.2977 | Avg Precision: 85.27%\n"
     ]
    },
    {
     "name": "stderr",
     "output_type": "stream",
     "text": [
      "Train: 100%|\u001B[32m████████████████████████\u001B[0m| 295/295 [00:36<00:00,  8.09batch/s, Loss: 0.0767 | Precision: 85.62%]\u001B[0m\n"
     ]
    },
    {
     "name": "stdout",
     "output_type": "stream",
     "text": [
      "Epoch 24 | Avg Loss: 0.2965 | Avg Precision: 85.36%\n"
     ]
    },
    {
     "name": "stderr",
     "output_type": "stream",
     "text": [
      "Validate: 100%|\u001B[34m███████████████████████\u001B[0m| 74/74 [00:08<00:00,  8.31batch/s, Loss: 0.3067 | Precision: 85.29%]\u001B[0m\n"
     ]
    },
    {
     "name": "stdout",
     "output_type": "stream",
     "text": [
      "Epoch 24 | Avg Loss: 0.3108 | Avg Precision: 85.28% | Patience: 0\n"
     ]
    },
    {
     "name": "stderr",
     "output_type": "stream",
     "text": [
      "Train: 100%|\u001B[32m████████████████████████\u001B[0m| 295/295 [00:36<00:00,  8.12batch/s, Loss: 0.0683 | Precision: 85.67%]\u001B[0m\n"
     ]
    },
    {
     "name": "stdout",
     "output_type": "stream",
     "text": [
      "Epoch 25 | Avg Loss: 0.2960 | Avg Precision: 85.41%\n"
     ]
    },
    {
     "name": "stderr",
     "output_type": "stream",
     "text": [
      "Train: 100%|\u001B[32m████████████████████████\u001B[0m| 295/295 [00:36<00:00,  8.08batch/s, Loss: 0.0694 | Precision: 85.77%]\u001B[0m\n"
     ]
    },
    {
     "name": "stdout",
     "output_type": "stream",
     "text": [
      "Epoch 26 | Avg Loss: 0.2942 | Avg Precision: 85.53%\n"
     ]
    },
    {
     "name": "stderr",
     "output_type": "stream",
     "text": [
      "Train: 100%|\u001B[32m████████████████████████\u001B[0m| 295/295 [00:36<00:00,  8.02batch/s, Loss: 0.0695 | Precision: 85.78%]\u001B[0m\n"
     ]
    },
    {
     "name": "stdout",
     "output_type": "stream",
     "text": [
      "Epoch 27 | Avg Loss: 0.2933 | Avg Precision: 85.57%\n"
     ]
    },
    {
     "name": "stderr",
     "output_type": "stream",
     "text": [
      "Validate: 100%|\u001B[34m███████████████████████\u001B[0m| 74/74 [00:08<00:00,  8.31batch/s, Loss: 0.3217 | Precision: 85.40%]\u001B[0m\n"
     ]
    },
    {
     "name": "stdout",
     "output_type": "stream",
     "text": [
      "Epoch 27 | Avg Loss: 0.3094 | Avg Precision: 85.43% | Patience: 0\n"
     ]
    },
    {
     "name": "stderr",
     "output_type": "stream",
     "text": [
      "Train: 100%|\u001B[32m████████████████████████\u001B[0m| 295/295 [00:36<00:00,  8.15batch/s, Loss: 0.0609 | Precision: 85.83%]\u001B[0m\n"
     ]
    },
    {
     "name": "stdout",
     "output_type": "stream",
     "text": [
      "Epoch 28 | Avg Loss: 0.2931 | Avg Precision: 85.57%\n"
     ]
    },
    {
     "name": "stderr",
     "output_type": "stream",
     "text": [
      "Train: 100%|\u001B[32m████████████████████████\u001B[0m| 295/295 [00:36<00:00,  8.14batch/s, Loss: 0.0586 | Precision: 85.86%]\u001B[0m\n"
     ]
    },
    {
     "name": "stdout",
     "output_type": "stream",
     "text": [
      "Epoch 29 | Avg Loss: 0.2917 | Avg Precision: 85.66%\n"
     ]
    },
    {
     "name": "stderr",
     "output_type": "stream",
     "text": [
      "Train: 100%|\u001B[32m████████████████████████\u001B[0m| 295/295 [00:36<00:00,  8.18batch/s, Loss: 0.0587 | Precision: 85.88%]\u001B[0m\n"
     ]
    },
    {
     "name": "stdout",
     "output_type": "stream",
     "text": [
      "Epoch 30 | Avg Loss: 0.2919 | Avg Precision: 85.61%\n"
     ]
    },
    {
     "name": "stderr",
     "output_type": "stream",
     "text": [
      "Validate: 100%|\u001B[34m███████████████████████\u001B[0m| 74/74 [00:08<00:00,  8.32batch/s, Loss: 0.3232 | Precision: 85.14%]\u001B[0m\n"
     ]
    },
    {
     "name": "stdout",
     "output_type": "stream",
     "text": [
      "Epoch 00010: reducing learning rate of group 0 to 7.2900e-03.\n",
      "Epoch 30 | Avg Loss: 0.3115 | Avg Precision: 85.13% | Patience: 1\n"
     ]
    },
    {
     "name": "stderr",
     "output_type": "stream",
     "text": [
      "Train: 100%|\u001B[32m████████████████████████\u001B[0m| 295/295 [00:36<00:00,  8.18batch/s, Loss: 0.0662 | Precision: 85.99%]\u001B[0m\n"
     ]
    },
    {
     "name": "stdout",
     "output_type": "stream",
     "text": [
      "Epoch 31 | Avg Loss: 0.2893 | Avg Precision: 85.74%\n"
     ]
    },
    {
     "name": "stderr",
     "output_type": "stream",
     "text": [
      "Train: 100%|\u001B[32m████████████████████████\u001B[0m| 295/295 [00:36<00:00,  8.12batch/s, Loss: 0.0639 | Precision: 86.11%]\u001B[0m\n"
     ]
    },
    {
     "name": "stdout",
     "output_type": "stream",
     "text": [
      "Epoch 32 | Avg Loss: 0.2881 | Avg Precision: 85.95%\n"
     ]
    },
    {
     "name": "stderr",
     "output_type": "stream",
     "text": [
      "Train: 100%|\u001B[32m████████████████████████\u001B[0m| 295/295 [00:36<00:00,  8.14batch/s, Loss: 0.0777 | Precision: 86.10%]\u001B[0m\n"
     ]
    },
    {
     "name": "stdout",
     "output_type": "stream",
     "text": [
      "Epoch 33 | Avg Loss: 0.2873 | Avg Precision: 85.86%\n"
     ]
    },
    {
     "name": "stderr",
     "output_type": "stream",
     "text": [
      "Validate: 100%|\u001B[34m███████████████████████\u001B[0m| 74/74 [00:08<00:00,  8.32batch/s, Loss: 0.3263 | Precision: 85.46%]\u001B[0m\n"
     ]
    },
    {
     "name": "stdout",
     "output_type": "stream",
     "text": [
      "Epoch 33 | Avg Loss: 0.3096 | Avg Precision: 85.47% | Patience: 0\n"
     ]
    },
    {
     "name": "stderr",
     "output_type": "stream",
     "text": [
      "Train: 100%|\u001B[32m████████████████████████\u001B[0m| 295/295 [00:36<00:00,  8.16batch/s, Loss: 0.0588 | Precision: 86.13%]\u001B[0m\n"
     ]
    },
    {
     "name": "stdout",
     "output_type": "stream",
     "text": [
      "Epoch 34 | Avg Loss: 0.2865 | Avg Precision: 85.95%\n"
     ]
    },
    {
     "name": "stderr",
     "output_type": "stream",
     "text": [
      "Train: 100%|\u001B[32m████████████████████████\u001B[0m| 295/295 [00:36<00:00,  8.19batch/s, Loss: 0.0600 | Precision: 86.21%]\u001B[0m\n"
     ]
    },
    {
     "name": "stdout",
     "output_type": "stream",
     "text": [
      "Epoch 35 | Avg Loss: 0.2851 | Avg Precision: 86.04%\n"
     ]
    },
    {
     "name": "stderr",
     "output_type": "stream",
     "text": [
      "Train: 100%|\u001B[32m████████████████████████\u001B[0m| 295/295 [00:35<00:00,  8.21batch/s, Loss: 0.0456 | Precision: 86.24%]\u001B[0m\n"
     ]
    },
    {
     "name": "stdout",
     "output_type": "stream",
     "text": [
      "Epoch 36 | Avg Loss: 0.2848 | Avg Precision: 86.11%\n"
     ]
    },
    {
     "name": "stderr",
     "output_type": "stream",
     "text": [
      "Validate: 100%|\u001B[34m███████████████████████\u001B[0m| 74/74 [00:08<00:00,  8.33batch/s, Loss: 0.3322 | Precision: 85.44%]\u001B[0m\n"
     ]
    },
    {
     "name": "stdout",
     "output_type": "stream",
     "text": [
      "Epoch 00012: reducing learning rate of group 0 to 6.5610e-03.\n",
      "Epoch 36 | Avg Loss: 0.3113 | Avg Precision: 85.39% | Patience: 1\n"
     ]
    },
    {
     "name": "stderr",
     "output_type": "stream",
     "text": [
      "Train: 100%|\u001B[32m████████████████████████\u001B[0m| 295/295 [00:36<00:00,  8.14batch/s, Loss: 0.0504 | Precision: 86.34%]\u001B[0m\n"
     ]
    },
    {
     "name": "stdout",
     "output_type": "stream",
     "text": [
      "Epoch 37 | Avg Loss: 0.2829 | Avg Precision: 86.18%\n"
     ]
    },
    {
     "name": "stderr",
     "output_type": "stream",
     "text": [
      "Train: 100%|\u001B[32m████████████████████████\u001B[0m| 295/295 [00:35<00:00,  8.20batch/s, Loss: 0.0570 | Precision: 86.48%]\u001B[0m\n"
     ]
    },
    {
     "name": "stdout",
     "output_type": "stream",
     "text": [
      "Epoch 38 | Avg Loss: 0.2813 | Avg Precision: 86.34%\n"
     ]
    },
    {
     "name": "stderr",
     "output_type": "stream",
     "text": [
      "Train: 100%|\u001B[32m████████████████████████\u001B[0m| 295/295 [00:36<00:00,  8.13batch/s, Loss: 0.0498 | Precision: 86.48%]\u001B[0m\n"
     ]
    },
    {
     "name": "stdout",
     "output_type": "stream",
     "text": [
      "Epoch 39 | Avg Loss: 0.2812 | Avg Precision: 86.37%\n"
     ]
    },
    {
     "name": "stderr",
     "output_type": "stream",
     "text": [
      "Validate: 100%|\u001B[34m███████████████████████\u001B[0m| 74/74 [00:08<00:00,  8.44batch/s, Loss: 0.3283 | Precision: 85.55%]\u001B[0m\n"
     ]
    },
    {
     "name": "stdout",
     "output_type": "stream",
     "text": [
      "Epoch 00013: reducing learning rate of group 0 to 5.9049e-03.\n",
      "Epoch 39 | Avg Loss: 0.3109 | Avg Precision: 85.46% | Patience: 2\n"
     ]
    },
    {
     "name": "stderr",
     "output_type": "stream",
     "text": [
      "Train: 100%|\u001B[32m████████████████████████\u001B[0m| 295/295 [00:35<00:00,  8.28batch/s, Loss: 0.0603 | Precision: 86.55%]\u001B[0m\n"
     ]
    },
    {
     "name": "stdout",
     "output_type": "stream",
     "text": [
      "Epoch 40 | Avg Loss: 0.2795 | Avg Precision: 86.33%\n"
     ]
    },
    {
     "name": "stderr",
     "output_type": "stream",
     "text": [
      "Train: 100%|\u001B[32m████████████████████████\u001B[0m| 295/295 [00:35<00:00,  8.23batch/s, Loss: 0.0461 | Precision: 86.64%]\u001B[0m\n"
     ]
    },
    {
     "name": "stdout",
     "output_type": "stream",
     "text": [
      "Epoch 41 | Avg Loss: 0.2781 | Avg Precision: 86.51%\n"
     ]
    },
    {
     "name": "stderr",
     "output_type": "stream",
     "text": [
      "Train: 100%|\u001B[32m████████████████████████\u001B[0m| 295/295 [00:36<00:00,  8.16batch/s, Loss: 0.0515 | Precision: 86.66%]\u001B[0m\n"
     ]
    },
    {
     "name": "stdout",
     "output_type": "stream",
     "text": [
      "Epoch 42 | Avg Loss: 0.2779 | Avg Precision: 86.47%\n"
     ]
    },
    {
     "name": "stderr",
     "output_type": "stream",
     "text": [
      "Validate: 100%|\u001B[34m███████████████████████\u001B[0m| 74/74 [00:08<00:00,  8.33batch/s, Loss: 0.3237 | Precision: 85.77%]\u001B[0m\n"
     ]
    },
    {
     "name": "stdout",
     "output_type": "stream",
     "text": [
      "Epoch 42 | Avg Loss: 0.3092 | Avg Precision: 85.67% | Patience: 0\n"
     ]
    },
    {
     "name": "stderr",
     "output_type": "stream",
     "text": [
      "Train: 100%|\u001B[32m████████████████████████\u001B[0m| 295/295 [00:35<00:00,  8.22batch/s, Loss: 0.0561 | Precision: 86.77%]\u001B[0m\n"
     ]
    },
    {
     "name": "stdout",
     "output_type": "stream",
     "text": [
      "Epoch 43 | Avg Loss: 0.2767 | Avg Precision: 86.63%\n"
     ]
    },
    {
     "name": "stderr",
     "output_type": "stream",
     "text": [
      "Train: 100%|\u001B[32m████████████████████████\u001B[0m| 295/295 [00:36<00:00,  8.14batch/s, Loss: 0.0515 | Precision: 86.74%]\u001B[0m\n"
     ]
    },
    {
     "name": "stdout",
     "output_type": "stream",
     "text": [
      "Epoch 44 | Avg Loss: 0.2766 | Avg Precision: 86.59%\n"
     ]
    },
    {
     "name": "stderr",
     "output_type": "stream",
     "text": [
      "Train: 100%|\u001B[32m████████████████████████\u001B[0m| 295/295 [00:36<00:00,  8.14batch/s, Loss: 0.0507 | Precision: 86.83%]\u001B[0m\n"
     ]
    },
    {
     "name": "stdout",
     "output_type": "stream",
     "text": [
      "Epoch 45 | Avg Loss: 0.2751 | Avg Precision: 86.71%\n"
     ]
    },
    {
     "name": "stderr",
     "output_type": "stream",
     "text": [
      "Validate: 100%|\u001B[34m███████████████████████\u001B[0m| 74/74 [00:08<00:00,  8.32batch/s, Loss: 0.3256 | Precision: 85.76%]\u001B[0m\n"
     ]
    },
    {
     "name": "stdout",
     "output_type": "stream",
     "text": [
      "Epoch 45 | Avg Loss: 0.3096 | Avg Precision: 85.69% | Patience: 0\n"
     ]
    },
    {
     "name": "stderr",
     "output_type": "stream",
     "text": [
      "Train: 100%|\u001B[32m████████████████████████\u001B[0m| 295/295 [00:36<00:00,  8.14batch/s, Loss: 0.0451 | Precision: 86.85%]\u001B[0m\n"
     ]
    },
    {
     "name": "stdout",
     "output_type": "stream",
     "text": [
      "Epoch 46 | Avg Loss: 0.2749 | Avg Precision: 86.71%\n"
     ]
    },
    {
     "name": "stderr",
     "output_type": "stream",
     "text": [
      "Train: 100%|\u001B[32m████████████████████████\u001B[0m| 295/295 [00:36<00:00,  8.15batch/s, Loss: 0.0579 | Precision: 86.88%]\u001B[0m\n"
     ]
    },
    {
     "name": "stdout",
     "output_type": "stream",
     "text": [
      "Epoch 47 | Avg Loss: 0.2740 | Avg Precision: 86.79%\n"
     ]
    },
    {
     "name": "stderr",
     "output_type": "stream",
     "text": [
      "Train: 100%|\u001B[32m████████████████████████\u001B[0m| 295/295 [00:36<00:00,  8.09batch/s, Loss: 0.0556 | Precision: 86.91%]\u001B[0m\n"
     ]
    },
    {
     "name": "stdout",
     "output_type": "stream",
     "text": [
      "Epoch 48 | Avg Loss: 0.2733 | Avg Precision: 86.80%\n"
     ]
    },
    {
     "name": "stderr",
     "output_type": "stream",
     "text": [
      "Validate: 100%|\u001B[34m███████████████████████\u001B[0m| 74/74 [00:08<00:00,  8.31batch/s, Loss: 0.3303 | Precision: 85.90%]\u001B[0m\n"
     ]
    },
    {
     "name": "stdout",
     "output_type": "stream",
     "text": [
      "Epoch 48 | Avg Loss: 0.3094 | Avg Precision: 85.75% | Patience: 0\n"
     ]
    },
    {
     "name": "stderr",
     "output_type": "stream",
     "text": [
      "Train: 100%|\u001B[32m████████████████████████\u001B[0m| 295/295 [00:36<00:00,  8.07batch/s, Loss: 0.0498 | Precision: 86.93%]\u001B[0m\n"
     ]
    },
    {
     "name": "stdout",
     "output_type": "stream",
     "text": [
      "Epoch 49 | Avg Loss: 0.2729 | Avg Precision: 86.81%\n"
     ]
    },
    {
     "name": "stderr",
     "output_type": "stream",
     "text": [
      "Train: 100%|\u001B[32m████████████████████████\u001B[0m| 295/295 [00:36<00:00,  8.10batch/s, Loss: 0.0535 | Precision: 86.96%]\u001B[0m\n"
     ]
    },
    {
     "name": "stdout",
     "output_type": "stream",
     "text": [
      "Epoch 50 | Avg Loss: 0.2730 | Avg Precision: 86.87%\n"
     ]
    },
    {
     "name": "stderr",
     "output_type": "stream",
     "text": [
      "Train: 100%|\u001B[32m████████████████████████\u001B[0m| 295/295 [00:36<00:00,  8.11batch/s, Loss: 0.0497 | Precision: 87.02%]\u001B[0m\n"
     ]
    },
    {
     "name": "stdout",
     "output_type": "stream",
     "text": [
      "Epoch 51 | Avg Loss: 0.2717 | Avg Precision: 86.93%\n"
     ]
    },
    {
     "name": "stderr",
     "output_type": "stream",
     "text": [
      "Validate: 100%|\u001B[34m███████████████████████\u001B[0m| 74/74 [00:08<00:00,  8.32batch/s, Loss: 0.3322 | Precision: 85.84%]\u001B[0m\n"
     ]
    },
    {
     "name": "stdout",
     "output_type": "stream",
     "text": [
      "Epoch 00017: reducing learning rate of group 0 to 5.3144e-03.\n",
      "Epoch 51 | Avg Loss: 0.3110 | Avg Precision: 85.73% | Patience: 1\n"
     ]
    },
    {
     "name": "stderr",
     "output_type": "stream",
     "text": [
      "Train: 100%|\u001B[32m████████████████████████\u001B[0m| 295/295 [00:36<00:00,  8.10batch/s, Loss: 0.0395 | Precision: 87.13%]\u001B[0m\n"
     ]
    },
    {
     "name": "stdout",
     "output_type": "stream",
     "text": [
      "Epoch 52 | Avg Loss: 0.2702 | Avg Precision: 87.01%\n"
     ]
    },
    {
     "name": "stderr",
     "output_type": "stream",
     "text": [
      "Train: 100%|\u001B[32m████████████████████████\u001B[0m| 295/295 [00:36<00:00,  8.13batch/s, Loss: 0.0436 | Precision: 87.17%]\u001B[0m\n"
     ]
    },
    {
     "name": "stdout",
     "output_type": "stream",
     "text": [
      "Epoch 53 | Avg Loss: 0.2692 | Avg Precision: 87.05%\n"
     ]
    },
    {
     "name": "stderr",
     "output_type": "stream",
     "text": [
      "Train: 100%|\u001B[32m████████████████████████\u001B[0m| 295/295 [00:36<00:00,  8.10batch/s, Loss: 0.0543 | Precision: 87.15%]\u001B[0m\n"
     ]
    },
    {
     "name": "stdout",
     "output_type": "stream",
     "text": [
      "Epoch 54 | Avg Loss: 0.2688 | Avg Precision: 87.03%\n"
     ]
    },
    {
     "name": "stderr",
     "output_type": "stream",
     "text": [
      "Validate: 100%|\u001B[34m███████████████████████\u001B[0m| 74/74 [00:08<00:00,  8.31batch/s, Loss: 0.3355 | Precision: 85.77%]\u001B[0m\n"
     ]
    },
    {
     "name": "stdout",
     "output_type": "stream",
     "text": [
      "Epoch 00018: reducing learning rate of group 0 to 4.7830e-03.\n",
      "Epoch 54 | Avg Loss: 0.3108 | Avg Precision: 85.75% | Patience: 0\n"
     ]
    },
    {
     "name": "stderr",
     "output_type": "stream",
     "text": [
      "Train: 100%|\u001B[32m████████████████████████\u001B[0m| 295/295 [00:36<00:00,  8.10batch/s, Loss: 0.0372 | Precision: 87.27%]\u001B[0m\n"
     ]
    },
    {
     "name": "stdout",
     "output_type": "stream",
     "text": [
      "Epoch 55 | Avg Loss: 0.2674 | Avg Precision: 87.11%\n"
     ]
    },
    {
     "name": "stderr",
     "output_type": "stream",
     "text": [
      "Train: 100%|\u001B[32m████████████████████████\u001B[0m| 295/295 [00:36<00:00,  8.10batch/s, Loss: 0.0357 | Precision: 87.38%]\u001B[0m\n"
     ]
    },
    {
     "name": "stdout",
     "output_type": "stream",
     "text": [
      "Epoch 56 | Avg Loss: 0.2664 | Avg Precision: 87.23%\n"
     ]
    },
    {
     "name": "stderr",
     "output_type": "stream",
     "text": [
      "Train: 100%|\u001B[32m████████████████████████\u001B[0m| 295/295 [00:36<00:00,  8.07batch/s, Loss: 0.0402 | Precision: 87.35%]\u001B[0m\n"
     ]
    },
    {
     "name": "stdout",
     "output_type": "stream",
     "text": [
      "Epoch 57 | Avg Loss: 0.2661 | Avg Precision: 87.20%\n"
     ]
    },
    {
     "name": "stderr",
     "output_type": "stream",
     "text": [
      "Validate: 100%|\u001B[34m███████████████████████\u001B[0m| 74/74 [00:08<00:00,  8.31batch/s, Loss: 0.3332 | Precision: 85.87%]\u001B[0m\n"
     ]
    },
    {
     "name": "stdout",
     "output_type": "stream",
     "text": [
      "Epoch 57 | Avg Loss: 0.3126 | Avg Precision: 85.83% | Patience: 0\n"
     ]
    },
    {
     "name": "stderr",
     "output_type": "stream",
     "text": [
      "Train: 100%|\u001B[32m████████████████████████\u001B[0m| 295/295 [00:36<00:00,  8.08batch/s, Loss: 0.0411 | Precision: 87.38%]\u001B[0m\n"
     ]
    },
    {
     "name": "stdout",
     "output_type": "stream",
     "text": [
      "Epoch 58 | Avg Loss: 0.2652 | Avg Precision: 87.28%\n"
     ]
    },
    {
     "name": "stderr",
     "output_type": "stream",
     "text": [
      "Train: 100%|\u001B[32m████████████████████████\u001B[0m| 295/295 [00:36<00:00,  8.07batch/s, Loss: 0.0399 | Precision: 87.42%]\u001B[0m\n"
     ]
    },
    {
     "name": "stdout",
     "output_type": "stream",
     "text": [
      "Epoch 59 | Avg Loss: 0.2647 | Avg Precision: 87.28%\n"
     ]
    },
    {
     "name": "stderr",
     "output_type": "stream",
     "text": [
      "Train: 100%|\u001B[32m████████████████████████\u001B[0m| 295/295 [00:36<00:00,  8.09batch/s, Loss: 0.0479 | Precision: 87.45%]\u001B[0m\n"
     ]
    },
    {
     "name": "stdout",
     "output_type": "stream",
     "text": [
      "Epoch 60 | Avg Loss: 0.2643 | Avg Precision: 87.32%\n"
     ]
    },
    {
     "name": "stderr",
     "output_type": "stream",
     "text": [
      "Validate: 100%|\u001B[34m███████████████████████\u001B[0m| 74/74 [00:08<00:00,  8.32batch/s, Loss: 0.3354 | Precision: 85.88%]\u001B[0m\n"
     ]
    },
    {
     "name": "stdout",
     "output_type": "stream",
     "text": [
      "Epoch 60 | Avg Loss: 0.3135 | Avg Precision: 85.90% | Patience: 0\n"
     ]
    },
    {
     "name": "stderr",
     "output_type": "stream",
     "text": [
      "Train: 100%|\u001B[32m████████████████████████\u001B[0m| 295/295 [00:36<00:00,  8.04batch/s, Loss: 0.0341 | Precision: 87.45%]\u001B[0m\n"
     ]
    },
    {
     "name": "stdout",
     "output_type": "stream",
     "text": [
      "Epoch 61 | Avg Loss: 0.2646 | Avg Precision: 87.32%\n"
     ]
    },
    {
     "name": "stderr",
     "output_type": "stream",
     "text": [
      "Train: 100%|\u001B[32m████████████████████████\u001B[0m| 295/295 [00:36<00:00,  8.13batch/s, Loss: 0.0377 | Precision: 87.49%]\u001B[0m\n"
     ]
    },
    {
     "name": "stdout",
     "output_type": "stream",
     "text": [
      "Epoch 62 | Avg Loss: 0.2638 | Avg Precision: 87.34%\n"
     ]
    },
    {
     "name": "stderr",
     "output_type": "stream",
     "text": [
      "Train: 100%|\u001B[32m████████████████████████\u001B[0m| 295/295 [00:36<00:00,  8.14batch/s, Loss: 0.0367 | Precision: 87.49%]\u001B[0m\n"
     ]
    },
    {
     "name": "stdout",
     "output_type": "stream",
     "text": [
      "Epoch 63 | Avg Loss: 0.2635 | Avg Precision: 87.37%\n"
     ]
    },
    {
     "name": "stderr",
     "output_type": "stream",
     "text": [
      "Validate: 100%|\u001B[34m███████████████████████\u001B[0m| 74/74 [00:08<00:00,  8.31batch/s, Loss: 0.3370 | Precision: 85.84%]\u001B[0m\n"
     ]
    },
    {
     "name": "stdout",
     "output_type": "stream",
     "text": [
      "Epoch 00021: reducing learning rate of group 0 to 4.3047e-03.\n",
      "Epoch 63 | Avg Loss: 0.3153 | Avg Precision: 85.76% | Patience: 1\n"
     ]
    },
    {
     "name": "stderr",
     "output_type": "stream",
     "text": [
      "Train: 100%|\u001B[32m████████████████████████\u001B[0m| 295/295 [00:36<00:00,  8.12batch/s, Loss: 0.0510 | Precision: 87.59%]\u001B[0m\n"
     ]
    },
    {
     "name": "stdout",
     "output_type": "stream",
     "text": [
      "Epoch 64 | Avg Loss: 0.2623 | Avg Precision: 87.44%\n"
     ]
    },
    {
     "name": "stderr",
     "output_type": "stream",
     "text": [
      "Train: 100%|\u001B[32m████████████████████████\u001B[0m| 295/295 [00:36<00:00,  8.15batch/s, Loss: 0.0377 | Precision: 87.62%]\u001B[0m\n"
     ]
    },
    {
     "name": "stdout",
     "output_type": "stream",
     "text": [
      "Epoch 65 | Avg Loss: 0.2616 | Avg Precision: 87.46%\n"
     ]
    },
    {
     "name": "stderr",
     "output_type": "stream",
     "text": [
      "Train: 100%|\u001B[32m████████████████████████\u001B[0m| 295/295 [00:36<00:00,  8.13batch/s, Loss: 0.0433 | Precision: 87.63%]\u001B[0m\n"
     ]
    },
    {
     "name": "stdout",
     "output_type": "stream",
     "text": [
      "Epoch 66 | Avg Loss: 0.2613 | Avg Precision: 87.51%\n"
     ]
    },
    {
     "name": "stderr",
     "output_type": "stream",
     "text": [
      "Validate: 100%|\u001B[34m███████████████████████\u001B[0m| 74/74 [00:08<00:00,  8.47batch/s, Loss: 0.3314 | Precision: 85.71%]\u001B[0m\n"
     ]
    },
    {
     "name": "stdout",
     "output_type": "stream",
     "text": [
      "Epoch 00022: reducing learning rate of group 0 to 3.8742e-03.\n",
      "Epoch 66 | Avg Loss: 0.3170 | Avg Precision: 85.67% | Patience: 2\n"
     ]
    },
    {
     "name": "stderr",
     "output_type": "stream",
     "text": [
      "Train: 100%|\u001B[32m████████████████████████\u001B[0m| 295/295 [00:35<00:00,  8.23batch/s, Loss: 0.0456 | Precision: 87.72%]\u001B[0m\n"
     ]
    },
    {
     "name": "stdout",
     "output_type": "stream",
     "text": [
      "Epoch 67 | Avg Loss: 0.2604 | Avg Precision: 87.52%\n"
     ]
    },
    {
     "name": "stderr",
     "output_type": "stream",
     "text": [
      "Train: 100%|\u001B[32m████████████████████████\u001B[0m| 295/295 [00:35<00:00,  8.23batch/s, Loss: 0.0479 | Precision: 87.76%]\u001B[0m\n"
     ]
    },
    {
     "name": "stdout",
     "output_type": "stream",
     "text": [
      "Epoch 68 | Avg Loss: 0.2597 | Avg Precision: 87.60%\n"
     ]
    },
    {
     "name": "stderr",
     "output_type": "stream",
     "text": [
      "Train: 100%|\u001B[32m████████████████████████\u001B[0m| 295/295 [00:35<00:00,  8.25batch/s, Loss: 0.0445 | Precision: 87.80%]\u001B[0m\n"
     ]
    },
    {
     "name": "stdout",
     "output_type": "stream",
     "text": [
      "Epoch 69 | Avg Loss: 0.2589 | Avg Precision: 87.64%\n"
     ]
    },
    {
     "name": "stderr",
     "output_type": "stream",
     "text": [
      "Validate: 100%|\u001B[34m███████████████████████\u001B[0m| 74/74 [00:08<00:00,  8.56batch/s, Loss: 0.3329 | Precision: 85.81%]\u001B[0m\n"
     ]
    },
    {
     "name": "stdout",
     "output_type": "stream",
     "text": [
      "Epoch 00023: reducing learning rate of group 0 to 3.4868e-03.\n",
      "Epoch 69 | Avg Loss: 0.3178 | Avg Precision: 85.76% | Patience: 3\n"
     ]
    },
    {
     "name": "stderr",
     "output_type": "stream",
     "text": [
      "Train: 100%|\u001B[32m████████████████████████\u001B[0m| 295/295 [00:35<00:00,  8.26batch/s, Loss: 0.0316 | Precision: 87.88%]\u001B[0m\n"
     ]
    },
    {
     "name": "stdout",
     "output_type": "stream",
     "text": [
      "Epoch 70 | Avg Loss: 0.2576 | Avg Precision: 87.76%\n"
     ]
    },
    {
     "name": "stderr",
     "output_type": "stream",
     "text": [
      "Train: 100%|\u001B[32m████████████████████████\u001B[0m| 295/295 [00:35<00:00,  8.25batch/s, Loss: 0.0365 | Precision: 87.91%]\u001B[0m\n"
     ]
    },
    {
     "name": "stdout",
     "output_type": "stream",
     "text": [
      "Epoch 71 | Avg Loss: 0.2568 | Avg Precision: 87.76%\n"
     ]
    },
    {
     "name": "stderr",
     "output_type": "stream",
     "text": [
      "Train: 100%|\u001B[32m████████████████████████\u001B[0m| 295/295 [00:35<00:00,  8.23batch/s, Loss: 0.0278 | Precision: 87.95%]\u001B[0m\n"
     ]
    },
    {
     "name": "stdout",
     "output_type": "stream",
     "text": [
      "Epoch 72 | Avg Loss: 0.2565 | Avg Precision: 87.81%\n"
     ]
    },
    {
     "name": "stderr",
     "output_type": "stream",
     "text": [
      "Validate: 100%|\u001B[34m███████████████████████\u001B[0m| 74/74 [00:08<00:00,  8.44batch/s, Loss: 0.3318 | Precision: 85.80%]\u001B[0m\n"
     ]
    },
    {
     "name": "stdout",
     "output_type": "stream",
     "text": [
      "Epoch 00024: reducing learning rate of group 0 to 3.1381e-03.\n",
      "Epoch 72 | Avg Loss: 0.3198 | Avg Precision: 85.72% | Patience: 4\n"
     ]
    },
    {
     "name": "stderr",
     "output_type": "stream",
     "text": [
      "Train: 100%|\u001B[32m████████████████████████\u001B[0m| 295/295 [00:36<00:00,  8.15batch/s, Loss: 0.0342 | Precision: 88.02%]\u001B[0m\n"
     ]
    },
    {
     "name": "stdout",
     "output_type": "stream",
     "text": [
      "Epoch 73 | Avg Loss: 0.2553 | Avg Precision: 87.90%\n"
     ]
    },
    {
     "name": "stderr",
     "output_type": "stream",
     "text": [
      "Train: 100%|\u001B[32m████████████████████████\u001B[0m| 295/295 [00:35<00:00,  8.24batch/s, Loss: 0.0370 | Precision: 88.05%]\u001B[0m\n"
     ]
    },
    {
     "name": "stdout",
     "output_type": "stream",
     "text": [
      "Epoch 74 | Avg Loss: 0.2548 | Avg Precision: 87.93%\n"
     ]
    },
    {
     "name": "stderr",
     "output_type": "stream",
     "text": [
      "Train: 100%|\u001B[32m████████████████████████\u001B[0m| 295/295 [00:35<00:00,  8.24batch/s, Loss: 0.0304 | Precision: 88.09%]\u001B[0m\n"
     ]
    },
    {
     "name": "stdout",
     "output_type": "stream",
     "text": [
      "Epoch 75 | Avg Loss: 0.2543 | Avg Precision: 87.93%\n"
     ]
    },
    {
     "name": "stderr",
     "output_type": "stream",
     "text": [
      "Validate: 100%|\u001B[34m███████████████████████\u001B[0m| 74/74 [00:08<00:00,  8.51batch/s, Loss: 0.3348 | Precision: 85.87%]\u001B[0m"
     ]
    },
    {
     "name": "stdout",
     "output_type": "stream",
     "text": [
      "Epoch 00025: reducing learning rate of group 0 to 2.8243e-03.\n",
      "Early Stopping: Precision stagnated or decreased too many times. Best Validation: 85.90%\n",
      "Training Complete - Best Validate Precision: 85.90%\n"
     ]
    },
    {
     "name": "stderr",
     "output_type": "stream",
     "text": [
      "\n"
     ]
    }
   ],
   "source": [
    "model = Ann()\n",
    "model = model.to(device)\n",
    "criterion = nn.CrossEntropyLoss()\n",
    "optimizer = optim.Adam(model.parameters(), lr=.01)\n",
    "scheduler = ReduceLROnPlateau(optimizer, 'max', factor=.9, patience=0, min_lr=.0001, verbose=True)\n",
    "\n",
    "model5 = train_validate(model, criterion, optimizer, scheduler)\n",
    "torch.save(model5.state_dict(), '.\\\\models\\\\downsample\\\\ann\\\\model5.pth')"
   ]
  },
  {
   "cell_type": "markdown",
   "id": "711715be-b270-4c7e-8fab-2a31024beef2",
   "metadata": {},
   "source": [
    "### Predict | Submit"
   ]
  },
  {
   "cell_type": "code",
   "execution_count": null,
   "id": "5da7d7fb-2e94-426a-8ac6-d257deb2f4a0",
   "metadata": {},
   "outputs": [],
   "source": [
    "ypreds = predict(model1, test_loader)\n",
    "test_df['Prediction'] = ypreds"
   ]
  },
  {
   "cell_type": "code",
   "execution_count": null,
   "id": "37496e42-708b-44dd-bf41-66c44c78c1dc",
   "metadata": {},
   "outputs": [],
   "source": [
    "sub = pd.DataFrame()\n",
    "temp = test_df.copy()\n",
    "temp[\"Id\"] = temp.apply(lambda x : str(x.Id) + \"_\" + str(x.Time), axis = 1)\n",
    "temp['StartHesitation'] = np.where(temp['Prediction'] == 1, 1, 0)\n",
    "temp['Turn'] = np.where(temp['Prediction'] == 2, 1, 0)\n",
    "temp['Walking'] = np.where(temp['Prediction'] == 3, 1, 0)\n",
    "temp = temp[['Id', 'StartHesitation', 'Turn', 'Walking']]\n",
    "sub = pd.concat([sub, temp])"
   ]
  },
  {
   "cell_type": "code",
   "execution_count": 26,
   "id": "43b63337-d0b0-47f4-aad3-b7e15b93c2a4",
   "metadata": {},
   "outputs": [
    {
     "name": "stderr",
     "output_type": "stream",
     "text": [
      "100%|\u001B[33m████████████████████████████████████████████████████████████████████\u001B[0m| 287/287 [00:14<00:00, 19.95it/s]\u001B[0m\n"
     ]
    }
   ],
   "source": [
    "ypreds = predict(model1, test_loader)"
   ]
  },
  {
   "cell_type": "code",
   "execution_count": 27,
   "id": "207785a7-00c3-4d26-889d-cac13f5cea08",
   "metadata": {},
   "outputs": [
    {
     "data": {
      "text/plain": [
       "(286370,)"
      ]
     },
     "execution_count": 27,
     "metadata": {},
     "output_type": "execute_result"
    }
   ],
   "source": [
    "ypreds.shape"
   ]
  },
  {
   "cell_type": "code",
   "execution_count": 28,
   "id": "bc156fdd-4477-4cd9-8d33-42d07fc6435f",
   "metadata": {},
   "outputs": [
    {
     "data": {
      "text/html": [
       "<div>\n",
       "<style scoped>\n",
       "    .dataframe tbody tr th:only-of-type {\n",
       "        vertical-align: middle;\n",
       "    }\n",
       "\n",
       "    .dataframe tbody tr th {\n",
       "        vertical-align: top;\n",
       "    }\n",
       "\n",
       "    .dataframe thead th {\n",
       "        text-align: right;\n",
       "    }\n",
       "</style>\n",
       "<table border=\"1\" class=\"dataframe\">\n",
       "  <thead>\n",
       "    <tr style=\"text-align: right;\">\n",
       "      <th></th>\n",
       "      <th>Time</th>\n",
       "      <th>AccV</th>\n",
       "      <th>AccML</th>\n",
       "      <th>AccAP</th>\n",
       "      <th>Id</th>\n",
       "      <th>Subject</th>\n",
       "      <th>Visit</th>\n",
       "      <th>Test</th>\n",
       "      <th>Medication</th>\n",
       "      <th>Age</th>\n",
       "      <th>Sex</th>\n",
       "      <th>YearsSinceDx</th>\n",
       "      <th>Prediction</th>\n",
       "    </tr>\n",
       "  </thead>\n",
       "  <tbody>\n",
       "    <tr>\n",
       "      <th>0</th>\n",
       "      <td>0</td>\n",
       "      <td>-9.533939</td>\n",
       "      <td>0.566322</td>\n",
       "      <td>-1.413525</td>\n",
       "      <td>003f117e14</td>\n",
       "      <td>4dc2f8</td>\n",
       "      <td>3</td>\n",
       "      <td>2.0</td>\n",
       "      <td>1</td>\n",
       "      <td>68</td>\n",
       "      <td>0</td>\n",
       "      <td>9.0</td>\n",
       "      <td>0.0</td>\n",
       "    </tr>\n",
       "    <tr>\n",
       "      <th>1</th>\n",
       "      <td>1</td>\n",
       "      <td>-9.536140</td>\n",
       "      <td>0.564137</td>\n",
       "      <td>-1.440621</td>\n",
       "      <td>003f117e14</td>\n",
       "      <td>4dc2f8</td>\n",
       "      <td>3</td>\n",
       "      <td>2.0</td>\n",
       "      <td>1</td>\n",
       "      <td>68</td>\n",
       "      <td>0</td>\n",
       "      <td>9.0</td>\n",
       "      <td>0.0</td>\n",
       "    </tr>\n",
       "    <tr>\n",
       "      <th>2</th>\n",
       "      <td>2</td>\n",
       "      <td>-9.529345</td>\n",
       "      <td>0.561765</td>\n",
       "      <td>-1.429331</td>\n",
       "      <td>003f117e14</td>\n",
       "      <td>4dc2f8</td>\n",
       "      <td>3</td>\n",
       "      <td>2.0</td>\n",
       "      <td>1</td>\n",
       "      <td>68</td>\n",
       "      <td>0</td>\n",
       "      <td>9.0</td>\n",
       "      <td>0.0</td>\n",
       "    </tr>\n",
       "    <tr>\n",
       "      <th>3</th>\n",
       "      <td>3</td>\n",
       "      <td>-9.531239</td>\n",
       "      <td>0.564227</td>\n",
       "      <td>-1.415490</td>\n",
       "      <td>003f117e14</td>\n",
       "      <td>4dc2f8</td>\n",
       "      <td>3</td>\n",
       "      <td>2.0</td>\n",
       "      <td>1</td>\n",
       "      <td>68</td>\n",
       "      <td>0</td>\n",
       "      <td>9.0</td>\n",
       "      <td>0.0</td>\n",
       "    </tr>\n",
       "    <tr>\n",
       "      <th>4</th>\n",
       "      <td>4</td>\n",
       "      <td>-9.540825</td>\n",
       "      <td>0.561854</td>\n",
       "      <td>-1.429471</td>\n",
       "      <td>003f117e14</td>\n",
       "      <td>4dc2f8</td>\n",
       "      <td>3</td>\n",
       "      <td>2.0</td>\n",
       "      <td>1</td>\n",
       "      <td>68</td>\n",
       "      <td>0</td>\n",
       "      <td>9.0</td>\n",
       "      <td>0.0</td>\n",
       "    </tr>\n",
       "    <tr>\n",
       "      <th>...</th>\n",
       "      <td>...</td>\n",
       "      <td>...</td>\n",
       "      <td>...</td>\n",
       "      <td>...</td>\n",
       "      <td>...</td>\n",
       "      <td>...</td>\n",
       "      <td>...</td>\n",
       "      <td>...</td>\n",
       "      <td>...</td>\n",
       "      <td>...</td>\n",
       "      <td>...</td>\n",
       "      <td>...</td>\n",
       "      <td>...</td>\n",
       "    </tr>\n",
       "    <tr>\n",
       "      <th>286365</th>\n",
       "      <td>281683</td>\n",
       "      <td>-0.899299</td>\n",
       "      <td>-0.232668</td>\n",
       "      <td>0.389147</td>\n",
       "      <td>02ab235146</td>\n",
       "      <td>e1f62e</td>\n",
       "      <td>2</td>\n",
       "      <td>0.0</td>\n",
       "      <td>1</td>\n",
       "      <td>79</td>\n",
       "      <td>0</td>\n",
       "      <td>8.0</td>\n",
       "      <td>0.0</td>\n",
       "    </tr>\n",
       "    <tr>\n",
       "      <th>286366</th>\n",
       "      <td>281684</td>\n",
       "      <td>-0.901973</td>\n",
       "      <td>-0.233051</td>\n",
       "      <td>0.390114</td>\n",
       "      <td>02ab235146</td>\n",
       "      <td>e1f62e</td>\n",
       "      <td>2</td>\n",
       "      <td>0.0</td>\n",
       "      <td>1</td>\n",
       "      <td>79</td>\n",
       "      <td>0</td>\n",
       "      <td>8.0</td>\n",
       "      <td>0.0</td>\n",
       "    </tr>\n",
       "    <tr>\n",
       "      <th>286367</th>\n",
       "      <td>281685</td>\n",
       "      <td>-0.901690</td>\n",
       "      <td>-0.231888</td>\n",
       "      <td>0.391896</td>\n",
       "      <td>02ab235146</td>\n",
       "      <td>e1f62e</td>\n",
       "      <td>2</td>\n",
       "      <td>0.0</td>\n",
       "      <td>1</td>\n",
       "      <td>79</td>\n",
       "      <td>0</td>\n",
       "      <td>8.0</td>\n",
       "      <td>0.0</td>\n",
       "    </tr>\n",
       "    <tr>\n",
       "      <th>286368</th>\n",
       "      <td>281686</td>\n",
       "      <td>-0.899576</td>\n",
       "      <td>-0.232430</td>\n",
       "      <td>0.391106</td>\n",
       "      <td>02ab235146</td>\n",
       "      <td>e1f62e</td>\n",
       "      <td>2</td>\n",
       "      <td>0.0</td>\n",
       "      <td>1</td>\n",
       "      <td>79</td>\n",
       "      <td>0</td>\n",
       "      <td>8.0</td>\n",
       "      <td>0.0</td>\n",
       "    </tr>\n",
       "    <tr>\n",
       "      <th>286369</th>\n",
       "      <td>281687</td>\n",
       "      <td>-0.900289</td>\n",
       "      <td>-0.232363</td>\n",
       "      <td>0.390735</td>\n",
       "      <td>02ab235146</td>\n",
       "      <td>e1f62e</td>\n",
       "      <td>2</td>\n",
       "      <td>0.0</td>\n",
       "      <td>1</td>\n",
       "      <td>79</td>\n",
       "      <td>0</td>\n",
       "      <td>8.0</td>\n",
       "      <td>0.0</td>\n",
       "    </tr>\n",
       "  </tbody>\n",
       "</table>\n",
       "<p>286370 rows × 13 columns</p>\n",
       "</div>"
      ],
      "text/plain": [
       "          Time      AccV     AccML     AccAP          Id Subject  Visit  Test  \\\n",
       "0            0 -9.533939  0.566322 -1.413525  003f117e14  4dc2f8      3   2.0   \n",
       "1            1 -9.536140  0.564137 -1.440621  003f117e14  4dc2f8      3   2.0   \n",
       "2            2 -9.529345  0.561765 -1.429331  003f117e14  4dc2f8      3   2.0   \n",
       "3            3 -9.531239  0.564227 -1.415490  003f117e14  4dc2f8      3   2.0   \n",
       "4            4 -9.540825  0.561854 -1.429471  003f117e14  4dc2f8      3   2.0   \n",
       "...        ...       ...       ...       ...         ...     ...    ...   ...   \n",
       "286365  281683 -0.899299 -0.232668  0.389147  02ab235146  e1f62e      2   0.0   \n",
       "286366  281684 -0.901973 -0.233051  0.390114  02ab235146  e1f62e      2   0.0   \n",
       "286367  281685 -0.901690 -0.231888  0.391896  02ab235146  e1f62e      2   0.0   \n",
       "286368  281686 -0.899576 -0.232430  0.391106  02ab235146  e1f62e      2   0.0   \n",
       "286369  281687 -0.900289 -0.232363  0.390735  02ab235146  e1f62e      2   0.0   \n",
       "\n",
       "        Medication  Age  Sex  YearsSinceDx  Prediction  \n",
       "0                1   68    0           9.0         0.0  \n",
       "1                1   68    0           9.0         0.0  \n",
       "2                1   68    0           9.0         0.0  \n",
       "3                1   68    0           9.0         0.0  \n",
       "4                1   68    0           9.0         0.0  \n",
       "...            ...  ...  ...           ...         ...  \n",
       "286365           1   79    0           8.0         0.0  \n",
       "286366           1   79    0           8.0         0.0  \n",
       "286367           1   79    0           8.0         0.0  \n",
       "286368           1   79    0           8.0         0.0  \n",
       "286369           1   79    0           8.0         0.0  \n",
       "\n",
       "[286370 rows x 13 columns]"
      ]
     },
     "execution_count": 28,
     "metadata": {},
     "output_type": "execute_result"
    }
   ],
   "source": [
    "test_df['Prediction'] = ypreds\n",
    "test_df"
   ]
  },
  {
   "cell_type": "code",
   "execution_count": 54,
   "id": "1579807c-c94c-434c-adaf-63be5648933b",
   "metadata": {},
   "outputs": [
    {
     "data": {
      "text/plain": [
       "Prediction\n",
       "0.0    286370\n",
       "Name: count, dtype: int64"
      ]
     },
     "execution_count": 54,
     "metadata": {},
     "output_type": "execute_result"
    }
   ],
   "source": [
    "test_df.Prediction.value_counts()"
   ]
  },
  {
   "cell_type": "code",
   "execution_count": 38,
   "id": "63f8b0fc-3ed4-4d03-a029-e4f1b0cc4f33",
   "metadata": {},
   "outputs": [],
   "source": [
    "sub = pd.DataFrame()\n",
    "temp = test_df.copy()\n",
    "temp[\"Id\"] = temp.apply(lambda x : str(x.Id) + \"_\" + str(x.Time), axis = 1)\n",
    "temp['StartHesitation'] = np.where(temp['Prediction'] == 1, 1, 0)\n",
    "temp['Turn'] = np.where(temp['Prediction'] == 2, 1, 0)\n",
    "temp['Walking'] = np.where(temp['Prediction'] == 3, 1, 0)\n",
    "temp = temp[['Id', 'StartHesitation', 'Turn', 'Walking']]\n",
    "sub = pd.concat([sub, temp])"
   ]
  },
  {
   "cell_type": "code",
   "execution_count": 39,
   "id": "f4fb8b86-c1c2-4042-81ed-8899e7e37163",
   "metadata": {},
   "outputs": [
    {
     "data": {
      "text/html": [
       "<div>\n",
       "<style scoped>\n",
       "    .dataframe tbody tr th:only-of-type {\n",
       "        vertical-align: middle;\n",
       "    }\n",
       "\n",
       "    .dataframe tbody tr th {\n",
       "        vertical-align: top;\n",
       "    }\n",
       "\n",
       "    .dataframe thead th {\n",
       "        text-align: right;\n",
       "    }\n",
       "</style>\n",
       "<table border=\"1\" class=\"dataframe\">\n",
       "  <thead>\n",
       "    <tr style=\"text-align: right;\">\n",
       "      <th></th>\n",
       "      <th>Id</th>\n",
       "      <th>StartHesitation</th>\n",
       "      <th>Turn</th>\n",
       "      <th>Walking</th>\n",
       "    </tr>\n",
       "  </thead>\n",
       "  <tbody>\n",
       "    <tr>\n",
       "      <th>0</th>\n",
       "      <td>003f117e14_0</td>\n",
       "      <td>0</td>\n",
       "      <td>0</td>\n",
       "      <td>0</td>\n",
       "    </tr>\n",
       "    <tr>\n",
       "      <th>1</th>\n",
       "      <td>003f117e14_1</td>\n",
       "      <td>0</td>\n",
       "      <td>0</td>\n",
       "      <td>0</td>\n",
       "    </tr>\n",
       "    <tr>\n",
       "      <th>2</th>\n",
       "      <td>003f117e14_2</td>\n",
       "      <td>0</td>\n",
       "      <td>0</td>\n",
       "      <td>0</td>\n",
       "    </tr>\n",
       "    <tr>\n",
       "      <th>3</th>\n",
       "      <td>003f117e14_3</td>\n",
       "      <td>0</td>\n",
       "      <td>0</td>\n",
       "      <td>0</td>\n",
       "    </tr>\n",
       "    <tr>\n",
       "      <th>4</th>\n",
       "      <td>003f117e14_4</td>\n",
       "      <td>0</td>\n",
       "      <td>0</td>\n",
       "      <td>0</td>\n",
       "    </tr>\n",
       "  </tbody>\n",
       "</table>\n",
       "</div>"
      ],
      "text/plain": [
       "             Id  StartHesitation  Turn  Walking\n",
       "0  003f117e14_0                0     0        0\n",
       "1  003f117e14_1                0     0        0\n",
       "2  003f117e14_2                0     0        0\n",
       "3  003f117e14_3                0     0        0\n",
       "4  003f117e14_4                0     0        0"
      ]
     },
     "execution_count": 39,
     "metadata": {},
     "output_type": "execute_result"
    }
   ],
   "source": [
    "sub.head()"
   ]
  },
  {
   "cell_type": "code",
   "execution_count": 40,
   "id": "58b17c5d-8be0-4cd9-a117-fc134e9659f7",
   "metadata": {},
   "outputs": [
    {
     "name": "stdout",
     "output_type": "stream",
     "text": [
      "<class 'pandas.core.frame.DataFrame'>\n",
      "RangeIndex: 286370 entries, 0 to 286369\n",
      "Data columns (total 4 columns):\n",
      " #   Column           Non-Null Count   Dtype \n",
      "---  ------           --------------   ----- \n",
      " 0   Id               286370 non-null  object\n",
      " 1   StartHesitation  286370 non-null  int32 \n",
      " 2   Turn             286370 non-null  int32 \n",
      " 3   Walking          286370 non-null  int32 \n",
      "dtypes: int32(3), object(1)\n",
      "memory usage: 5.5+ MB\n"
     ]
    }
   ],
   "source": [
    "sub.info()"
   ]
  }
 ],
 "metadata": {
  "kernelspec": {
   "display_name": "Python 3 (ipykernel)",
   "language": "python",
   "name": "python3"
  },
  "language_info": {
   "codemirror_mode": {
    "name": "ipython",
    "version": 3
   },
   "file_extension": ".py",
   "mimetype": "text/x-python",
   "name": "python",
   "nbconvert_exporter": "python",
   "pygments_lexer": "ipython3",
   "version": "3.11.3"
  }
 },
 "nbformat": 4,
 "nbformat_minor": 5
}
